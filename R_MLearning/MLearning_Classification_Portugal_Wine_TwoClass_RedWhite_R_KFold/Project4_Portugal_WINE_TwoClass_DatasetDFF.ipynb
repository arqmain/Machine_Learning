{
 "cells": [
  {
   "cell_type": "markdown",
   "metadata": {},
   "source": [
    "#  MACHINE LEARNING: Portugal Wine under Two Class approach for red and white classification using R and K fold cross-validation.\n",
    "# Module 3: Solving project with dataset dff\n",
    "\n",
    "By: Hector Alvaro Rojas | Data Science, Visualizations and Applied Statistics | October 12, 2017<br>\n",
    "Url: [http://www.arqmain.net]   &nbsp;&nbsp;&nbsp;|&nbsp;&nbsp;&nbsp;   GitHub: [https://github.com/arqmain]\n",
    "<hr>"
   ]
  },
  {
   "cell_type": "markdown",
   "metadata": {},
   "source": [
    "## I Introduction"
   ]
  },
  {
   "cell_type": "markdown",
   "metadata": {
    "collapsed": true
   },
   "source": [
    "<u><b><i>dff</i></b></u> is made by getting ride off all register which presents at least one field with an outliers data on the original database \"df\". \n",
    "\n",
    "We consider only those points which do not have any predictor variable value to be outside of limits constructed by boxplots. The following rule is applied:\n",
    "\n",
    "* A predictor value is considered to be an outlier only if it is greater than <b>Threshold = Q3 + 1.5IQR</b>\n",
    "\n",
    "Application of this rule reduces the <u><b><i>dff</i></b></u> data size from 6497 to 5040."
   ]
  },
  {
   "cell_type": "markdown",
   "metadata": {},
   "source": [
    "## II Loading and the Data"
   ]
  },
  {
   "cell_type": "code",
   "execution_count": 117,
   "metadata": {
    "collapsed": true
   },
   "outputs": [],
   "source": [
    "# first remove ALL objects and close all possible connections\n",
    "closeAllConnections()\n",
    "rm(list = ls(all = TRUE)) # Does remove all inclusive hidden\n",
    "\n",
    "# see your memory size\n",
    "memory.size() "
   ]
  },
  {
   "cell_type": "code",
   "execution_count": 1,
   "metadata": {},
   "outputs": [
    {
     "name": "stderr",
     "output_type": "stream",
     "text": [
      "Loading required package: plyr\n",
      "Loading required package: dplyr\n",
      "\n",
      "Attaching package: 'dplyr'\n",
      "\n",
      "The following objects are masked from 'package:plyr':\n",
      "\n",
      "    arrange, count, desc, failwith, id, mutate, rename, summarise,\n",
      "    summarize\n",
      "\n",
      "The following objects are masked from 'package:stats':\n",
      "\n",
      "    filter, lag\n",
      "\n",
      "The following objects are masked from 'package:base':\n",
      "\n",
      "    intersect, setdiff, setequal, union\n",
      "\n",
      "Loading required package: caret\n",
      "Loading required package: lattice\n",
      "Loading required package: ggplot2\n"
     ]
    },
    {
     "data": {
      "text/html": [
       "<dl class=dl-horizontal>\n",
       "\t<dt>plyr</dt>\n",
       "\t\t<dd>TRUE</dd>\n",
       "\t<dt>dplyr</dt>\n",
       "\t\t<dd>TRUE</dd>\n",
       "\t<dt>caret</dt>\n",
       "\t\t<dd>TRUE</dd>\n",
       "</dl>\n"
      ],
      "text/latex": [
       "\\begin{description*}\n",
       "\\item[plyr] TRUE\n",
       "\\item[dplyr] TRUE\n",
       "\\item[caret] TRUE\n",
       "\\end{description*}\n"
      ],
      "text/markdown": [
       "plyr\n",
       ":   TRUEdplyr\n",
       ":   TRUEcaret\n",
       ":   TRUE\n",
       "\n"
      ],
      "text/plain": [
       " plyr dplyr caret \n",
       " TRUE  TRUE  TRUE "
      ]
     },
     "metadata": {},
     "output_type": "display_data"
    }
   ],
   "source": [
    "# install packages and load libraries\n",
    "ipak <- function(pkg){\n",
    "    new.pkg <- pkg[!(pkg %in% installed.packages()[, \"Package\"])]\n",
    "    if (length(new.pkg)) \n",
    "        install.packages(new.pkg, dependencies = c(\"Depends\", \"Suggests\"))\n",
    "    sapply(pkg, require, character.only = TRUE)\n",
    "}\n",
    "# usage\n",
    "packages <- c(\"plyr\", \"dplyr\", \"caret\")\n",
    "ipak(packages)\n"
   ]
  },
  {
   "cell_type": "code",
   "execution_count": 2,
   "metadata": {},
   "outputs": [
    {
     "data": {
      "text/html": [
       "<table>\n",
       "<thead><tr><th scope=col>fixed.acidity</th><th scope=col>volatile.acidity</th><th scope=col>citric.acid</th><th scope=col>residual.sugar</th><th scope=col>chlorides</th><th scope=col>total.sulfur.dioxide</th><th scope=col>pH</th><th scope=col>sulphates</th><th scope=col>alcohol</th><th scope=col>quality</th><th scope=col>Class</th></tr></thead>\n",
       "<tbody>\n",
       "\t<tr><td>7.0  </td><td>0.27 </td><td>0.36 </td><td>20.7 </td><td>0.045</td><td>170  </td><td>3.00 </td><td>0.45 </td><td> 8.8 </td><td>6    </td><td>white</td></tr>\n",
       "\t<tr><td>6.3  </td><td>0.30 </td><td>0.34 </td><td> 1.6 </td><td>0.049</td><td>132  </td><td>3.30 </td><td>0.49 </td><td> 9.5 </td><td>6    </td><td>white</td></tr>\n",
       "\t<tr><td>8.1  </td><td>0.28 </td><td>0.40 </td><td> 6.9 </td><td>0.050</td><td> 97  </td><td>3.26 </td><td>0.44 </td><td>10.1 </td><td>6    </td><td>white</td></tr>\n",
       "\t<tr><td>7.2  </td><td>0.23 </td><td>0.32 </td><td> 8.5 </td><td>0.058</td><td>186  </td><td>3.19 </td><td>0.40 </td><td> 9.9 </td><td>6    </td><td>white</td></tr>\n",
       "\t<tr><td>7.2  </td><td>0.23 </td><td>0.32 </td><td> 8.5 </td><td>0.058</td><td>186  </td><td>3.19 </td><td>0.40 </td><td> 9.9 </td><td>6    </td><td>white</td></tr>\n",
       "\t<tr><td>8.1  </td><td>0.28 </td><td>0.40 </td><td> 6.9 </td><td>0.050</td><td> 97  </td><td>3.26 </td><td>0.44 </td><td>10.1 </td><td>6    </td><td>white</td></tr>\n",
       "</tbody>\n",
       "</table>\n"
      ],
      "text/latex": [
       "\\begin{tabular}{r|lllllllllll}\n",
       " fixed.acidity & volatile.acidity & citric.acid & residual.sugar & chlorides & total.sulfur.dioxide & pH & sulphates & alcohol & quality & Class\\\\\n",
       "\\hline\n",
       "\t 7.0   & 0.27  & 0.36  & 20.7  & 0.045 & 170   & 3.00  & 0.45  &  8.8  & 6     & white\\\\\n",
       "\t 6.3   & 0.30  & 0.34  &  1.6  & 0.049 & 132   & 3.30  & 0.49  &  9.5  & 6     & white\\\\\n",
       "\t 8.1   & 0.28  & 0.40  &  6.9  & 0.050 &  97   & 3.26  & 0.44  & 10.1  & 6     & white\\\\\n",
       "\t 7.2   & 0.23  & 0.32  &  8.5  & 0.058 & 186   & 3.19  & 0.40  &  9.9  & 6     & white\\\\\n",
       "\t 7.2   & 0.23  & 0.32  &  8.5  & 0.058 & 186   & 3.19  & 0.40  &  9.9  & 6     & white\\\\\n",
       "\t 8.1   & 0.28  & 0.40  &  6.9  & 0.050 &  97   & 3.26  & 0.44  & 10.1  & 6     & white\\\\\n",
       "\\end{tabular}\n"
      ],
      "text/markdown": [
       "\n",
       "fixed.acidity | volatile.acidity | citric.acid | residual.sugar | chlorides | total.sulfur.dioxide | pH | sulphates | alcohol | quality | Class | \n",
       "|---|---|---|---|---|---|\n",
       "| 7.0   | 0.27  | 0.36  | 20.7  | 0.045 | 170   | 3.00  | 0.45  |  8.8  | 6     | white | \n",
       "| 6.3   | 0.30  | 0.34  |  1.6  | 0.049 | 132   | 3.30  | 0.49  |  9.5  | 6     | white | \n",
       "| 8.1   | 0.28  | 0.40  |  6.9  | 0.050 |  97   | 3.26  | 0.44  | 10.1  | 6     | white | \n",
       "| 7.2   | 0.23  | 0.32  |  8.5  | 0.058 | 186   | 3.19  | 0.40  |  9.9  | 6     | white | \n",
       "| 7.2   | 0.23  | 0.32  |  8.5  | 0.058 | 186   | 3.19  | 0.40  |  9.9  | 6     | white | \n",
       "| 8.1   | 0.28  | 0.40  |  6.9  | 0.050 |  97   | 3.26  | 0.44  | 10.1  | 6     | white | \n",
       "\n",
       "\n"
      ],
      "text/plain": [
       "  fixed.acidity volatile.acidity citric.acid residual.sugar chlorides\n",
       "1 7.0           0.27             0.36        20.7           0.045    \n",
       "2 6.3           0.30             0.34         1.6           0.049    \n",
       "3 8.1           0.28             0.40         6.9           0.050    \n",
       "4 7.2           0.23             0.32         8.5           0.058    \n",
       "5 7.2           0.23             0.32         8.5           0.058    \n",
       "6 8.1           0.28             0.40         6.9           0.050    \n",
       "  total.sulfur.dioxide pH   sulphates alcohol quality Class\n",
       "1 170                  3.00 0.45       8.8    6       white\n",
       "2 132                  3.30 0.49       9.5    6       white\n",
       "3  97                  3.26 0.44      10.1    6       white\n",
       "4 186                  3.19 0.40       9.9    6       white\n",
       "5 186                  3.19 0.40       9.9    6       white\n",
       "6  97                  3.26 0.44      10.1    6       white"
      ]
     },
     "metadata": {},
     "output_type": "display_data"
    }
   ],
   "source": [
    "# define path location of datasets\n",
    "wine1.url <- \"http://archive.ics.uci.edu/ml/machine-learning-databases/wine-quality/winequality-white.csv\"\n",
    "wine2.url <- \"http://archive.ics.uci.edu/ml/machine-learning-databases/wine-quality/winequality-red.csv\"\n",
    "\n",
    "# read datasets\n",
    "wine1 <- read.csv(wine1.url, header=TRUE, sep=';')\n",
    "wine2 <- read.csv(wine2.url, header=TRUE, sep=';')\n",
    "\n",
    "# create dataset base\n",
    "paso <- rbind(cbind(wine1, Class='white'), cbind(wine2, Class='red'))\n",
    "\n",
    "df= subset(paso, select=c('fixed.acidity', 'volatile.acidity', 'citric.acid', 'residual.sugar', 'chlorides' ,'total.sulfur.dioxide','pH', 'sulphates', 'alcohol', 'quality', 'Class'))\n",
    "attach(df)\n",
    "head(df)\n",
    "rm(\"paso\")"
   ]
  },
  {
   "cell_type": "code",
   "execution_count": 3,
   "metadata": {
    "collapsed": true
   },
   "outputs": [],
   "source": [
    "# verify response variable \"Class\" as factor. Remember, the class factor is always used for categorical variables.\n",
    "df$Class <- as.factor(df$Class)"
   ]
  },
  {
   "cell_type": "code",
   "execution_count": 4,
   "metadata": {},
   "outputs": [
    {
     "name": "stdout",
     "output_type": "stream",
     "text": [
      "'data.frame':\t6497 obs. of  11 variables:\n",
      " $ fixed.acidity       : num  7 6.3 8.1 7.2 7.2 8.1 6.2 7 6.3 8.1 ...\n",
      " $ volatile.acidity    : num  0.27 0.3 0.28 0.23 0.23 0.28 0.32 0.27 0.3 0.22 ...\n",
      " $ citric.acid         : num  0.36 0.34 0.4 0.32 0.32 0.4 0.16 0.36 0.34 0.43 ...\n",
      " $ residual.sugar      : num  20.7 1.6 6.9 8.5 8.5 6.9 7 20.7 1.6 1.5 ...\n",
      " $ chlorides           : num  0.045 0.049 0.05 0.058 0.058 0.05 0.045 0.045 0.049 0.044 ...\n",
      " $ total.sulfur.dioxide: num  170 132 97 186 186 97 136 170 132 129 ...\n",
      " $ pH                  : num  3 3.3 3.26 3.19 3.19 3.26 3.18 3 3.3 3.22 ...\n",
      " $ sulphates           : num  0.45 0.49 0.44 0.4 0.4 0.44 0.47 0.45 0.49 0.45 ...\n",
      " $ alcohol             : num  8.8 9.5 10.1 9.9 9.9 10.1 9.6 8.8 9.5 11 ...\n",
      " $ quality             : int  6 6 6 6 6 6 6 6 6 6 ...\n",
      " $ Class               : Factor w/ 2 levels \"white\",\"red\": 1 1 1 1 1 1 1 1 1 1 ...\n"
     ]
    }
   ],
   "source": [
    "# get some information about the dataset\n",
    "str(df)"
   ]
  },
  {
   "cell_type": "code",
   "execution_count": 5,
   "metadata": {
    "collapsed": true
   },
   "outputs": [],
   "source": [
    "# r code to get ride off outliers from variables and generate dff dataset\n",
    "limout <- rep(0,10)\n",
    "for (i in 1:10){\n",
    "t1 <- quantile(df[,i], 0.75)\n",
    "t2 <- IQR(df[,i], 0.75)\n",
    "limout[i] <- t1 + 1.5*t2\n",
    "}\n",
    "dfIndex <- matrix(0, 6497, 10)\n",
    "for (i in 1:6497)\n",
    "for (j in 1:10){\n",
    "if (df[i,j] > limout[j]) dfIndex[i,j] <- 1\n",
    "}\n",
    "WWInd <- apply(dfIndex, 1, sum)\n",
    "dfTemp <- cbind(WWInd, df)\n",
    "Indexes <- rep(0, 208)\n",
    "j <- 1\n",
    "for (i in 1:6497){\n",
    "if (WWInd[i] > 0) {Indexes[j]<- i\n",
    "j <- j + 1}\n",
    "else j <- j\n",
    "}\n",
    "dff <-df[-Indexes,]   # Inside of Q3+1.5IQR\n",
    "# indexes = sample(1:nrow(dfLib), size=0.5*nrow(dfLib))\n",
    "# WWTrain50 <- dfLib[indexes,]\n",
    "# WWTest50 <- dfLib[-indexes,]"
   ]
  },
  {
   "cell_type": "code",
   "execution_count": 6,
   "metadata": {},
   "outputs": [
    {
     "name": "stdout",
     "output_type": "stream",
     "text": [
      "'data.frame':\t5040 obs. of  11 variables:\n",
      " $ fixed.acidity       : num  6.3 8.1 7.2 7.2 8.1 6.2 6.3 8.1 8.1 8.6 ...\n",
      " $ volatile.acidity    : num  0.3 0.28 0.23 0.23 0.28 0.32 0.3 0.22 0.27 0.23 ...\n",
      " $ citric.acid         : num  0.34 0.4 0.32 0.32 0.4 0.16 0.34 0.43 0.41 0.4 ...\n",
      " $ residual.sugar      : num  1.6 6.9 8.5 8.5 6.9 7 1.6 1.5 1.45 4.2 ...\n",
      " $ chlorides           : num  0.049 0.05 0.058 0.058 0.05 0.045 0.049 0.044 0.033 0.035 ...\n",
      " $ total.sulfur.dioxide: num  132 97 186 186 97 136 132 129 63 109 ...\n",
      " $ pH                  : num  3.3 3.26 3.19 3.19 3.26 3.18 3.3 3.22 2.99 3.14 ...\n",
      " $ sulphates           : num  0.49 0.44 0.4 0.4 0.44 0.47 0.49 0.45 0.56 0.53 ...\n",
      " $ alcohol             : num  9.5 10.1 9.9 9.9 10.1 9.6 9.5 11 12 9.7 ...\n",
      " $ quality             : int  6 6 6 6 6 6 6 6 5 5 ...\n",
      " $ Class               : Factor w/ 2 levels \"white\",\"red\": 1 1 1 1 1 1 1 1 1 1 ...\n"
     ]
    }
   ],
   "source": [
    "# get some information about the dataset\n",
    "str(dff)"
   ]
  },
  {
   "cell_type": "code",
   "execution_count": 7,
   "metadata": {
    "collapsed": true
   },
   "outputs": [],
   "source": [
    "#summarize datasets by columns \n",
    "propmiss <- function(dataframe) {\n",
    "\tm <- sapply(dataframe, function(x) {\n",
    "\t\tdata.frame(\n",
    "\t\t\tn=length(!is.na(x)), \n",
    "\t\t\tnmiss=sum(is.na(x)), \n",
    "\t\t\tpropmiss=sum(is.na(x))/length(x),\n",
    "\t\t\tP25=round(quantile(x, 0.25, na.rm=TRUE),2),\n",
    "\t\t\tP75=round(quantile(x, 0.75, na.rm=TRUE),2),            \n",
    "\t\t\tIQR=round(IQR(x, na.rm=TRUE),2),\n",
    "\t\t\tThreshold= round(quantile(x, 0.75, na.rm=TRUE),2) + 1.5*round(IQR(x, na.rm=TRUE),2),            \n",
    "\t\t\tMinimum=round(min(x, na.rm=TRUE),2),\n",
    "\t\t\tMedian=round(median(x, na.rm=TRUE),2),            \n",
    "\t\t\tMaximum=round(max(x, na.rm=TRUE),2),\n",
    "\t\t\tRange=round(max(x, na.rm=TRUE)-min(x, na.rm=TRUE),2),\n",
    "\t\t\tMean=round(mean(x, na.rm=TRUE),2),\n",
    "\t\t\tStDev=round(sd(x, na.rm=TRUE),2)\n",
    "\t\t)\n",
    "\t})\n",
    "\td <- data.frame(t(m))\n",
    "\td <- sapply(d, unlist)\n",
    "\td <- as.data.frame(d)\n",
    "\td$variable <- row.names(d)\n",
    "\trow.names(d) <- NULL\n",
    "\td <- cbind(d[ncol(d)],d[-ncol(d)])\n",
    "\treturn(d[order(d$propmiss), ])\n",
    "}"
   ]
  },
  {
   "cell_type": "code",
   "execution_count": 8,
   "metadata": {},
   "outputs": [
    {
     "data": {
      "text/html": [
       "<table>\n",
       "<thead><tr><th scope=col>variable</th><th scope=col>n</th><th scope=col>P25</th><th scope=col>P75</th><th scope=col>IQR</th><th scope=col>Threshold</th><th scope=col>Minimum</th><th scope=col>Median</th><th scope=col>Maximum</th><th scope=col>Range</th><th scope=col>Mean</th><th scope=col>StDev</th></tr></thead>\n",
       "<tbody>\n",
       "\t<tr><td>fixed.acidity       </td><td>6497                </td><td> 6.40               </td><td>  7.70              </td><td> 1.30               </td><td>  9.650             </td><td>3.80                </td><td>  7.00              </td><td> 15.90              </td><td> 12.10              </td><td>  7.22              </td><td> 1.30               </td></tr>\n",
       "\t<tr><td>volatile.acidity    </td><td>6497                </td><td> 0.23               </td><td>  0.40              </td><td> 0.17               </td><td>  0.655             </td><td>0.08                </td><td>  0.29              </td><td>  1.58              </td><td>  1.50              </td><td>  0.34              </td><td> 0.16               </td></tr>\n",
       "\t<tr><td>citric.acid         </td><td>6497                </td><td> 0.25               </td><td>  0.39              </td><td> 0.14               </td><td>  0.600             </td><td>0.00                </td><td>  0.31              </td><td>  1.66              </td><td>  1.66              </td><td>  0.32              </td><td> 0.15               </td></tr>\n",
       "\t<tr><td>residual.sugar      </td><td>6497                </td><td> 1.80               </td><td>  8.10              </td><td> 6.30               </td><td> 17.550             </td><td>0.60                </td><td>  3.00              </td><td> 65.80              </td><td> 65.20              </td><td>  5.44              </td><td> 4.76               </td></tr>\n",
       "\t<tr><td>chlorides           </td><td>6497                </td><td> 0.04               </td><td>  0.06              </td><td> 0.03               </td><td>  0.105             </td><td>0.01                </td><td>  0.05              </td><td>  0.61              </td><td>  0.60              </td><td>  0.06              </td><td> 0.04               </td></tr>\n",
       "\t<tr><td>total.sulfur.dioxide</td><td>6497                </td><td>77.00               </td><td>156.00              </td><td>79.00               </td><td>274.500             </td><td>6.00                </td><td>118.00              </td><td>440.00              </td><td>434.00              </td><td>115.74              </td><td>56.52               </td></tr>\n",
       "\t<tr><td>pH                  </td><td>6497                </td><td> 3.11               </td><td>  3.32              </td><td> 0.21               </td><td>  3.635             </td><td>2.72                </td><td>  3.21              </td><td>  4.01              </td><td>  1.29              </td><td>  3.22              </td><td> 0.16               </td></tr>\n",
       "\t<tr><td>sulphates           </td><td>6497                </td><td> 0.43               </td><td>  0.60              </td><td> 0.17               </td><td>  0.855             </td><td>0.22                </td><td>  0.51              </td><td>  2.00              </td><td>  1.78              </td><td>  0.53              </td><td> 0.15               </td></tr>\n",
       "\t<tr><td>alcohol             </td><td>6497                </td><td> 9.50               </td><td> 11.30              </td><td> 1.80               </td><td> 14.000             </td><td>8.00                </td><td> 10.30              </td><td> 14.90              </td><td>  6.90              </td><td> 10.49              </td><td> 1.19               </td></tr>\n",
       "\t<tr><td>quality             </td><td>6497                </td><td> 5.00               </td><td>  6.00              </td><td> 1.00               </td><td>  7.500             </td><td>3.00                </td><td>  6.00              </td><td>  9.00              </td><td>  6.00              </td><td>  5.82              </td><td> 0.87               </td></tr>\n",
       "</tbody>\n",
       "</table>\n"
      ],
      "text/latex": [
       "\\begin{tabular}{r|llllllllllll}\n",
       " variable & n & P25 & P75 & IQR & Threshold & Minimum & Median & Maximum & Range & Mean & StDev\\\\\n",
       "\\hline\n",
       "\t fixed.acidity        & 6497                 &  6.40                &   7.70               &  1.30                &   9.650              & 3.80                 &   7.00               &  15.90               &  12.10               &   7.22               &  1.30               \\\\\n",
       "\t volatile.acidity     & 6497                 &  0.23                &   0.40               &  0.17                &   0.655              & 0.08                 &   0.29               &   1.58               &   1.50               &   0.34               &  0.16               \\\\\n",
       "\t citric.acid          & 6497                 &  0.25                &   0.39               &  0.14                &   0.600              & 0.00                 &   0.31               &   1.66               &   1.66               &   0.32               &  0.15               \\\\\n",
       "\t residual.sugar       & 6497                 &  1.80                &   8.10               &  6.30                &  17.550              & 0.60                 &   3.00               &  65.80               &  65.20               &   5.44               &  4.76               \\\\\n",
       "\t chlorides            & 6497                 &  0.04                &   0.06               &  0.03                &   0.105              & 0.01                 &   0.05               &   0.61               &   0.60               &   0.06               &  0.04               \\\\\n",
       "\t total.sulfur.dioxide & 6497                 & 77.00                & 156.00               & 79.00                & 274.500              & 6.00                 & 118.00               & 440.00               & 434.00               & 115.74               & 56.52               \\\\\n",
       "\t pH                   & 6497                 &  3.11                &   3.32               &  0.21                &   3.635              & 2.72                 &   3.21               &   4.01               &   1.29               &   3.22               &  0.16               \\\\\n",
       "\t sulphates            & 6497                 &  0.43                &   0.60               &  0.17                &   0.855              & 0.22                 &   0.51               &   2.00               &   1.78               &   0.53               &  0.15               \\\\\n",
       "\t alcohol              & 6497                 &  9.50                &  11.30               &  1.80                &  14.000              & 8.00                 &  10.30               &  14.90               &   6.90               &  10.49               &  1.19               \\\\\n",
       "\t quality              & 6497                 &  5.00                &   6.00               &  1.00                &   7.500              & 3.00                 &   6.00               &   9.00               &   6.00               &   5.82               &  0.87               \\\\\n",
       "\\end{tabular}\n"
      ],
      "text/markdown": [
       "\n",
       "variable | n | P25 | P75 | IQR | Threshold | Minimum | Median | Maximum | Range | Mean | StDev | \n",
       "|---|---|---|---|---|---|---|---|---|---|\n",
       "| fixed.acidity        | 6497                 |  6.40                |   7.70               |  1.30                |   9.650              | 3.80                 |   7.00               |  15.90               |  12.10               |   7.22               |  1.30                | \n",
       "| volatile.acidity     | 6497                 |  0.23                |   0.40               |  0.17                |   0.655              | 0.08                 |   0.29               |   1.58               |   1.50               |   0.34               |  0.16                | \n",
       "| citric.acid          | 6497                 |  0.25                |   0.39               |  0.14                |   0.600              | 0.00                 |   0.31               |   1.66               |   1.66               |   0.32               |  0.15                | \n",
       "| residual.sugar       | 6497                 |  1.80                |   8.10               |  6.30                |  17.550              | 0.60                 |   3.00               |  65.80               |  65.20               |   5.44               |  4.76                | \n",
       "| chlorides            | 6497                 |  0.04                |   0.06               |  0.03                |   0.105              | 0.01                 |   0.05               |   0.61               |   0.60               |   0.06               |  0.04                | \n",
       "| total.sulfur.dioxide | 6497                 | 77.00                | 156.00               | 79.00                | 274.500              | 6.00                 | 118.00               | 440.00               | 434.00               | 115.74               | 56.52                | \n",
       "| pH                   | 6497                 |  3.11                |   3.32               |  0.21                |   3.635              | 2.72                 |   3.21               |   4.01               |   1.29               |   3.22               |  0.16                | \n",
       "| sulphates            | 6497                 |  0.43                |   0.60               |  0.17                |   0.855              | 0.22                 |   0.51               |   2.00               |   1.78               |   0.53               |  0.15                | \n",
       "| alcohol              | 6497                 |  9.50                |  11.30               |  1.80                |  14.000              | 8.00                 |  10.30               |  14.90               |   6.90               |  10.49               |  1.19                | \n",
       "| quality              | 6497                 |  5.00                |   6.00               |  1.00                |   7.500              | 3.00                 |   6.00               |   9.00               |   6.00               |   5.82               |  0.87                | \n",
       "\n",
       "\n"
      ],
      "text/plain": [
       "   variable             n    P25   P75    IQR   Threshold Minimum Median\n",
       "1  fixed.acidity        6497  6.40   7.70  1.30   9.650   3.80      7.00\n",
       "2  volatile.acidity     6497  0.23   0.40  0.17   0.655   0.08      0.29\n",
       "3  citric.acid          6497  0.25   0.39  0.14   0.600   0.00      0.31\n",
       "4  residual.sugar       6497  1.80   8.10  6.30  17.550   0.60      3.00\n",
       "5  chlorides            6497  0.04   0.06  0.03   0.105   0.01      0.05\n",
       "6  total.sulfur.dioxide 6497 77.00 156.00 79.00 274.500   6.00    118.00\n",
       "7  pH                   6497  3.11   3.32  0.21   3.635   2.72      3.21\n",
       "8  sulphates            6497  0.43   0.60  0.17   0.855   0.22      0.51\n",
       "9  alcohol              6497  9.50  11.30  1.80  14.000   8.00     10.30\n",
       "10 quality              6497  5.00   6.00  1.00   7.500   3.00      6.00\n",
       "   Maximum Range  Mean   StDev\n",
       "1   15.90   12.10   7.22  1.30\n",
       "2    1.58    1.50   0.34  0.16\n",
       "3    1.66    1.66   0.32  0.15\n",
       "4   65.80   65.20   5.44  4.76\n",
       "5    0.61    0.60   0.06  0.04\n",
       "6  440.00  434.00 115.74 56.52\n",
       "7    4.01    1.29   3.22  0.16\n",
       "8    2.00    1.78   0.53  0.15\n",
       "9   14.90    6.90  10.49  1.19\n",
       "10   9.00    6.00   5.82  0.87"
      ]
     },
     "metadata": {},
     "output_type": "display_data"
    }
   ],
   "source": [
    "# summarize original df dataset\n",
    "(summary1=propmiss(df[,-11])[,-(3:4)])"
   ]
  },
  {
   "cell_type": "code",
   "execution_count": 9,
   "metadata": {},
   "outputs": [
    {
     "data": {
      "text/html": [
       "<table>\n",
       "<thead><tr><th scope=col>variable</th><th scope=col>n</th><th scope=col>P25</th><th scope=col>P75</th><th scope=col>IQR</th><th scope=col>Minimum</th><th scope=col>Median</th><th scope=col>Maximum</th><th scope=col>Range</th><th scope=col>Mean</th><th scope=col>StDev</th></tr></thead>\n",
       "<tbody>\n",
       "\t<tr><td>fixed.acidity       </td><td>5040                </td><td> 6.40               </td><td>  7.50              </td><td> 1.10               </td><td>4.20                </td><td>  6.90              </td><td>  9.60              </td><td>  5.40              </td><td>  6.97              </td><td> 0.88               </td></tr>\n",
       "\t<tr><td>volatile.acidity    </td><td>5040                </td><td> 0.22               </td><td>  0.36              </td><td> 0.14               </td><td>0.08                </td><td>  0.28              </td><td>  0.66              </td><td>  0.58              </td><td>  0.31              </td><td> 0.12               </td></tr>\n",
       "\t<tr><td>citric.acid         </td><td>5040                </td><td> 0.25               </td><td>  0.37              </td><td> 0.12               </td><td>0.00                </td><td>  0.31              </td><td>  0.60              </td><td>  0.60              </td><td>  0.31              </td><td> 0.11               </td></tr>\n",
       "\t<tr><td>residual.sugar      </td><td>5040                </td><td> 1.80               </td><td>  8.30              </td><td> 6.50               </td><td>0.60                </td><td>  3.60              </td><td> 17.50              </td><td> 16.90              </td><td>  5.50              </td><td> 4.49               </td></tr>\n",
       "\t<tr><td>chlorides           </td><td>5040                </td><td> 0.04               </td><td>  0.06              </td><td> 0.02               </td><td>0.01                </td><td>  0.04              </td><td>  0.10              </td><td>  0.10              </td><td>  0.05              </td><td> 0.02               </td></tr>\n",
       "\t<tr><td>total.sulfur.dioxide</td><td>5040                </td><td>92.00               </td><td>159.25              </td><td>67.25               </td><td>6.00                </td><td>124.00              </td><td>272.00              </td><td>266.00              </td><td>123.47              </td><td>51.65               </td></tr>\n",
       "\t<tr><td>pH                  </td><td>5040                </td><td> 3.11               </td><td>  3.32              </td><td> 0.21               </td><td>2.79                </td><td>  3.21              </td><td>  3.63              </td><td>  0.84              </td><td>  3.21              </td><td> 0.15               </td></tr>\n",
       "\t<tr><td>sulphates           </td><td>5040                </td><td> 0.42               </td><td>  0.58              </td><td> 0.16               </td><td>0.22                </td><td>  0.49              </td><td>  0.85              </td><td>  0.63              </td><td>  0.51              </td><td> 0.12               </td></tr>\n",
       "\t<tr><td>alcohol             </td><td>5040                </td><td> 9.50               </td><td> 11.30              </td><td> 1.80               </td><td>8.00                </td><td> 10.40              </td><td> 14.00              </td><td>  6.00              </td><td> 10.52              </td><td> 1.17               </td></tr>\n",
       "\t<tr><td>quality             </td><td>5040                </td><td> 5.00               </td><td>  6.00              </td><td> 1.00               </td><td>3.00                </td><td>  6.00              </td><td>  7.00              </td><td>  4.00              </td><td>  5.80              </td><td> 0.78               </td></tr>\n",
       "</tbody>\n",
       "</table>\n"
      ],
      "text/latex": [
       "\\begin{tabular}{r|lllllllllll}\n",
       " variable & n & P25 & P75 & IQR & Minimum & Median & Maximum & Range & Mean & StDev\\\\\n",
       "\\hline\n",
       "\t fixed.acidity        & 5040                 &  6.40                &   7.50               &  1.10                & 4.20                 &   6.90               &   9.60               &   5.40               &   6.97               &  0.88               \\\\\n",
       "\t volatile.acidity     & 5040                 &  0.22                &   0.36               &  0.14                & 0.08                 &   0.28               &   0.66               &   0.58               &   0.31               &  0.12               \\\\\n",
       "\t citric.acid          & 5040                 &  0.25                &   0.37               &  0.12                & 0.00                 &   0.31               &   0.60               &   0.60               &   0.31               &  0.11               \\\\\n",
       "\t residual.sugar       & 5040                 &  1.80                &   8.30               &  6.50                & 0.60                 &   3.60               &  17.50               &  16.90               &   5.50               &  4.49               \\\\\n",
       "\t chlorides            & 5040                 &  0.04                &   0.06               &  0.02                & 0.01                 &   0.04               &   0.10               &   0.10               &   0.05               &  0.02               \\\\\n",
       "\t total.sulfur.dioxide & 5040                 & 92.00                & 159.25               & 67.25                & 6.00                 & 124.00               & 272.00               & 266.00               & 123.47               & 51.65               \\\\\n",
       "\t pH                   & 5040                 &  3.11                &   3.32               &  0.21                & 2.79                 &   3.21               &   3.63               &   0.84               &   3.21               &  0.15               \\\\\n",
       "\t sulphates            & 5040                 &  0.42                &   0.58               &  0.16                & 0.22                 &   0.49               &   0.85               &   0.63               &   0.51               &  0.12               \\\\\n",
       "\t alcohol              & 5040                 &  9.50                &  11.30               &  1.80                & 8.00                 &  10.40               &  14.00               &   6.00               &  10.52               &  1.17               \\\\\n",
       "\t quality              & 5040                 &  5.00                &   6.00               &  1.00                & 3.00                 &   6.00               &   7.00               &   4.00               &   5.80               &  0.78               \\\\\n",
       "\\end{tabular}\n"
      ],
      "text/markdown": [
       "\n",
       "variable | n | P25 | P75 | IQR | Minimum | Median | Maximum | Range | Mean | StDev | \n",
       "|---|---|---|---|---|---|---|---|---|---|\n",
       "| fixed.acidity        | 5040                 |  6.40                |   7.50               |  1.10                | 4.20                 |   6.90               |   9.60               |   5.40               |   6.97               |  0.88                | \n",
       "| volatile.acidity     | 5040                 |  0.22                |   0.36               |  0.14                | 0.08                 |   0.28               |   0.66               |   0.58               |   0.31               |  0.12                | \n",
       "| citric.acid          | 5040                 |  0.25                |   0.37               |  0.12                | 0.00                 |   0.31               |   0.60               |   0.60               |   0.31               |  0.11                | \n",
       "| residual.sugar       | 5040                 |  1.80                |   8.30               |  6.50                | 0.60                 |   3.60               |  17.50               |  16.90               |   5.50               |  4.49                | \n",
       "| chlorides            | 5040                 |  0.04                |   0.06               |  0.02                | 0.01                 |   0.04               |   0.10               |   0.10               |   0.05               |  0.02                | \n",
       "| total.sulfur.dioxide | 5040                 | 92.00                | 159.25               | 67.25                | 6.00                 | 124.00               | 272.00               | 266.00               | 123.47               | 51.65                | \n",
       "| pH                   | 5040                 |  3.11                |   3.32               |  0.21                | 2.79                 |   3.21               |   3.63               |   0.84               |   3.21               |  0.15                | \n",
       "| sulphates            | 5040                 |  0.42                |   0.58               |  0.16                | 0.22                 |   0.49               |   0.85               |   0.63               |   0.51               |  0.12                | \n",
       "| alcohol              | 5040                 |  9.50                |  11.30               |  1.80                | 8.00                 |  10.40               |  14.00               |   6.00               |  10.52               |  1.17                | \n",
       "| quality              | 5040                 |  5.00                |   6.00               |  1.00                | 3.00                 |   6.00               |   7.00               |   4.00               |   5.80               |  0.78                | \n",
       "\n",
       "\n"
      ],
      "text/plain": [
       "   variable             n    P25   P75    IQR   Minimum Median Maximum Range \n",
       "1  fixed.acidity        5040  6.40   7.50  1.10 4.20      6.90   9.60    5.40\n",
       "2  volatile.acidity     5040  0.22   0.36  0.14 0.08      0.28   0.66    0.58\n",
       "3  citric.acid          5040  0.25   0.37  0.12 0.00      0.31   0.60    0.60\n",
       "4  residual.sugar       5040  1.80   8.30  6.50 0.60      3.60  17.50   16.90\n",
       "5  chlorides            5040  0.04   0.06  0.02 0.01      0.04   0.10    0.10\n",
       "6  total.sulfur.dioxide 5040 92.00 159.25 67.25 6.00    124.00 272.00  266.00\n",
       "7  pH                   5040  3.11   3.32  0.21 2.79      3.21   3.63    0.84\n",
       "8  sulphates            5040  0.42   0.58  0.16 0.22      0.49   0.85    0.63\n",
       "9  alcohol              5040  9.50  11.30  1.80 8.00     10.40  14.00    6.00\n",
       "10 quality              5040  5.00   6.00  1.00 3.00      6.00   7.00    4.00\n",
       "   Mean   StDev\n",
       "1    6.97  0.88\n",
       "2    0.31  0.12\n",
       "3    0.31  0.11\n",
       "4    5.50  4.49\n",
       "5    0.05  0.02\n",
       "6  123.47 51.65\n",
       "7    3.21  0.15\n",
       "8    0.51  0.12\n",
       "9   10.52  1.17\n",
       "10   5.80  0.78"
      ]
     },
     "metadata": {},
     "output_type": "display_data"
    }
   ],
   "source": [
    "# summarize dff dataset\n",
    "(summary2=propmiss(dff[,-11])[,-(3:4)][,-6])"
   ]
  },
  {
   "cell_type": "code",
   "execution_count": 10,
   "metadata": {
    "collapsed": true
   },
   "outputs": [],
   "source": [
    "# remove and dettach df dataset\n",
    "rm(\"df\")\n",
    "detach(\"df\")"
   ]
  },
  {
   "cell_type": "code",
   "execution_count": 11,
   "metadata": {
    "collapsed": true
   },
   "outputs": [],
   "source": [
    "# rename dff dataset as df dataset to use the already created R scripts\n",
    "df <- dff\n",
    "\n",
    "# remove dff dataset\n",
    "rm(\"dff\")"
   ]
  },
  {
   "cell_type": "code",
   "execution_count": 12,
   "metadata": {},
   "outputs": [
    {
     "data": {
      "text/html": [
       "<table>\n",
       "<thead><tr><th></th><th scope=col>fixed.acidity</th><th scope=col>volatile.acidity</th><th scope=col>citric.acid</th><th scope=col>residual.sugar</th><th scope=col>chlorides</th><th scope=col>total.sulfur.dioxide</th><th scope=col>pH</th><th scope=col>sulphates</th><th scope=col>alcohol</th><th scope=col>quality</th><th scope=col>Class</th></tr></thead>\n",
       "<tbody>\n",
       "\t<tr><th scope=row>2</th><td>6.3  </td><td>0.30 </td><td>0.34 </td><td>1.6  </td><td>0.049</td><td>132  </td><td>3.30 </td><td>0.49 </td><td> 9.5 </td><td>6    </td><td>white</td></tr>\n",
       "\t<tr><th scope=row>3</th><td>8.1  </td><td>0.28 </td><td>0.40 </td><td>6.9  </td><td>0.050</td><td> 97  </td><td>3.26 </td><td>0.44 </td><td>10.1 </td><td>6    </td><td>white</td></tr>\n",
       "\t<tr><th scope=row>4</th><td>7.2  </td><td>0.23 </td><td>0.32 </td><td>8.5  </td><td>0.058</td><td>186  </td><td>3.19 </td><td>0.40 </td><td> 9.9 </td><td>6    </td><td>white</td></tr>\n",
       "\t<tr><th scope=row>5</th><td>7.2  </td><td>0.23 </td><td>0.32 </td><td>8.5  </td><td>0.058</td><td>186  </td><td>3.19 </td><td>0.40 </td><td> 9.9 </td><td>6    </td><td>white</td></tr>\n",
       "\t<tr><th scope=row>6</th><td>8.1  </td><td>0.28 </td><td>0.40 </td><td>6.9  </td><td>0.050</td><td> 97  </td><td>3.26 </td><td>0.44 </td><td>10.1 </td><td>6    </td><td>white</td></tr>\n",
       "\t<tr><th scope=row>7</th><td>6.2  </td><td>0.32 </td><td>0.16 </td><td>7.0  </td><td>0.045</td><td>136  </td><td>3.18 </td><td>0.47 </td><td> 9.6 </td><td>6    </td><td>white</td></tr>\n",
       "</tbody>\n",
       "</table>\n"
      ],
      "text/latex": [
       "\\begin{tabular}{r|lllllllllll}\n",
       "  & fixed.acidity & volatile.acidity & citric.acid & residual.sugar & chlorides & total.sulfur.dioxide & pH & sulphates & alcohol & quality & Class\\\\\n",
       "\\hline\n",
       "\t2 & 6.3   & 0.30  & 0.34  & 1.6   & 0.049 & 132   & 3.30  & 0.49  &  9.5  & 6     & white\\\\\n",
       "\t3 & 8.1   & 0.28  & 0.40  & 6.9   & 0.050 &  97   & 3.26  & 0.44  & 10.1  & 6     & white\\\\\n",
       "\t4 & 7.2   & 0.23  & 0.32  & 8.5   & 0.058 & 186   & 3.19  & 0.40  &  9.9  & 6     & white\\\\\n",
       "\t5 & 7.2   & 0.23  & 0.32  & 8.5   & 0.058 & 186   & 3.19  & 0.40  &  9.9  & 6     & white\\\\\n",
       "\t6 & 8.1   & 0.28  & 0.40  & 6.9   & 0.050 &  97   & 3.26  & 0.44  & 10.1  & 6     & white\\\\\n",
       "\t7 & 6.2   & 0.32  & 0.16  & 7.0   & 0.045 & 136   & 3.18  & 0.47  &  9.6  & 6     & white\\\\\n",
       "\\end{tabular}\n"
      ],
      "text/markdown": [
       "\n",
       "| <!--/--> | fixed.acidity | volatile.acidity | citric.acid | residual.sugar | chlorides | total.sulfur.dioxide | pH | sulphates | alcohol | quality | Class | \n",
       "|---|---|---|---|---|---|\n",
       "| 2 | 6.3   | 0.30  | 0.34  | 1.6   | 0.049 | 132   | 3.30  | 0.49  |  9.5  | 6     | white | \n",
       "| 3 | 8.1   | 0.28  | 0.40  | 6.9   | 0.050 |  97   | 3.26  | 0.44  | 10.1  | 6     | white | \n",
       "| 4 | 7.2   | 0.23  | 0.32  | 8.5   | 0.058 | 186   | 3.19  | 0.40  |  9.9  | 6     | white | \n",
       "| 5 | 7.2   | 0.23  | 0.32  | 8.5   | 0.058 | 186   | 3.19  | 0.40  |  9.9  | 6     | white | \n",
       "| 6 | 8.1   | 0.28  | 0.40  | 6.9   | 0.050 |  97   | 3.26  | 0.44  | 10.1  | 6     | white | \n",
       "| 7 | 6.2   | 0.32  | 0.16  | 7.0   | 0.045 | 136   | 3.18  | 0.47  |  9.6  | 6     | white | \n",
       "\n",
       "\n"
      ],
      "text/plain": [
       "  fixed.acidity volatile.acidity citric.acid residual.sugar chlorides\n",
       "2 6.3           0.30             0.34        1.6            0.049    \n",
       "3 8.1           0.28             0.40        6.9            0.050    \n",
       "4 7.2           0.23             0.32        8.5            0.058    \n",
       "5 7.2           0.23             0.32        8.5            0.058    \n",
       "6 8.1           0.28             0.40        6.9            0.050    \n",
       "7 6.2           0.32             0.16        7.0            0.045    \n",
       "  total.sulfur.dioxide pH   sulphates alcohol quality Class\n",
       "2 132                  3.30 0.49       9.5    6       white\n",
       "3  97                  3.26 0.44      10.1    6       white\n",
       "4 186                  3.19 0.40       9.9    6       white\n",
       "5 186                  3.19 0.40       9.9    6       white\n",
       "6  97                  3.26 0.44      10.1    6       white\n",
       "7 136                  3.18 0.47       9.6    6       white"
      ]
     },
     "metadata": {},
     "output_type": "display_data"
    },
    {
     "name": "stdout",
     "output_type": "stream",
     "text": [
      "'data.frame':\t5040 obs. of  11 variables:\n",
      " $ fixed.acidity       : num  6.3 8.1 7.2 7.2 8.1 6.2 6.3 8.1 8.1 8.6 ...\n",
      " $ volatile.acidity    : num  0.3 0.28 0.23 0.23 0.28 0.32 0.3 0.22 0.27 0.23 ...\n",
      " $ citric.acid         : num  0.34 0.4 0.32 0.32 0.4 0.16 0.34 0.43 0.41 0.4 ...\n",
      " $ residual.sugar      : num  1.6 6.9 8.5 8.5 6.9 7 1.6 1.5 1.45 4.2 ...\n",
      " $ chlorides           : num  0.049 0.05 0.058 0.058 0.05 0.045 0.049 0.044 0.033 0.035 ...\n",
      " $ total.sulfur.dioxide: num  132 97 186 186 97 136 132 129 63 109 ...\n",
      " $ pH                  : num  3.3 3.26 3.19 3.19 3.26 3.18 3.3 3.22 2.99 3.14 ...\n",
      " $ sulphates           : num  0.49 0.44 0.4 0.4 0.44 0.47 0.49 0.45 0.56 0.53 ...\n",
      " $ alcohol             : num  9.5 10.1 9.9 9.9 10.1 9.6 9.5 11 12 9.7 ...\n",
      " $ quality             : int  6 6 6 6 6 6 6 6 5 5 ...\n",
      " $ Class               : Factor w/ 2 levels \"white\",\"red\": 1 1 1 1 1 1 1 1 1 1 ...\n"
     ]
    }
   ],
   "source": [
    "head(df)\n",
    "str(df)"
   ]
  },
  {
   "cell_type": "markdown",
   "metadata": {},
   "source": [
    "## III Getting train and test datasets"
   ]
  },
  {
   "cell_type": "code",
   "execution_count": 13,
   "metadata": {},
   "outputs": [
    {
     "data": {
      "text/html": [
       "3528"
      ],
      "text/latex": [
       "3528"
      ],
      "text/markdown": [
       "3528"
      ],
      "text/plain": [
       "[1] 3528"
      ]
     },
     "metadata": {},
     "output_type": "display_data"
    },
    {
     "data": {
      "text/html": [
       "1512"
      ],
      "text/latex": [
       "1512"
      ],
      "text/markdown": [
       "1512"
      ],
      "text/plain": [
       "[1] 1512"
      ]
     },
     "metadata": {},
     "output_type": "display_data"
    }
   ],
   "source": [
    "#stratified sampling to get the train and test dataset\n",
    "set.seed(7) # Set Seed so that same sample can be reproduced in future also\n",
    "# considering response variable as strata\n",
    "data_part <- createDataPartition(y = df$Class,  p = 0.70, list = F)\n",
    "testing <- df[-data_part,] # 30% data goes here\n",
    "training <- df[data_part,] # 70% here\n",
    "\n",
    "length(training$Class)\n",
    "length(testing$Class)\n",
    "\n",
    "# training$quality <- NULL\n",
    "# testing$quality <- NULL"
   ]
  },
  {
   "cell_type": "code",
   "execution_count": 14,
   "metadata": {},
   "outputs": [
    {
     "data": {
      "text/html": [
       "<table>\n",
       "<thead><tr><th></th><th scope=col>fixed.acidity</th><th scope=col>volatile.acidity</th><th scope=col>citric.acid</th><th scope=col>residual.sugar</th><th scope=col>chlorides</th><th scope=col>total.sulfur.dioxide</th><th scope=col>pH</th><th scope=col>sulphates</th><th scope=col>alcohol</th><th scope=col>quality</th><th scope=col>Class</th></tr></thead>\n",
       "<tbody>\n",
       "\t<tr><th scope=row>3</th><td>8.1  </td><td>0.28 </td><td>0.40 </td><td>6.90 </td><td>0.050</td><td> 97  </td><td>3.26 </td><td>0.44 </td><td>10.1 </td><td>6    </td><td>white</td></tr>\n",
       "\t<tr><th scope=row>7</th><td>6.2  </td><td>0.32 </td><td>0.16 </td><td>7.00 </td><td>0.045</td><td>136  </td><td>3.18 </td><td>0.47 </td><td> 9.6 </td><td>6    </td><td>white</td></tr>\n",
       "\t<tr><th scope=row>11</th><td>8.1  </td><td>0.27 </td><td>0.41 </td><td>1.45 </td><td>0.033</td><td> 63  </td><td>2.99 </td><td>0.56 </td><td>12.0 </td><td>5    </td><td>white</td></tr>\n",
       "\t<tr><th scope=row>12</th><td>8.6  </td><td>0.23 </td><td>0.40 </td><td>4.20 </td><td>0.035</td><td>109  </td><td>3.14 </td><td>0.53 </td><td> 9.7 </td><td>5    </td><td>white</td></tr>\n",
       "\t<tr><th scope=row>13</th><td>7.9  </td><td>0.18 </td><td>0.37 </td><td>1.20 </td><td>0.040</td><td> 75  </td><td>3.18 </td><td>0.63 </td><td>10.8 </td><td>5    </td><td>white</td></tr>\n",
       "\t<tr><th scope=row>14</th><td>6.6  </td><td>0.16 </td><td>0.40 </td><td>1.50 </td><td>0.044</td><td>143  </td><td>3.54 </td><td>0.52 </td><td>12.4 </td><td>7    </td><td>white</td></tr>\n",
       "</tbody>\n",
       "</table>\n"
      ],
      "text/latex": [
       "\\begin{tabular}{r|lllllllllll}\n",
       "  & fixed.acidity & volatile.acidity & citric.acid & residual.sugar & chlorides & total.sulfur.dioxide & pH & sulphates & alcohol & quality & Class\\\\\n",
       "\\hline\n",
       "\t3 & 8.1   & 0.28  & 0.40  & 6.90  & 0.050 &  97   & 3.26  & 0.44  & 10.1  & 6     & white\\\\\n",
       "\t7 & 6.2   & 0.32  & 0.16  & 7.00  & 0.045 & 136   & 3.18  & 0.47  &  9.6  & 6     & white\\\\\n",
       "\t11 & 8.1   & 0.27  & 0.41  & 1.45  & 0.033 &  63   & 2.99  & 0.56  & 12.0  & 5     & white\\\\\n",
       "\t12 & 8.6   & 0.23  & 0.40  & 4.20  & 0.035 & 109   & 3.14  & 0.53  &  9.7  & 5     & white\\\\\n",
       "\t13 & 7.9   & 0.18  & 0.37  & 1.20  & 0.040 &  75   & 3.18  & 0.63  & 10.8  & 5     & white\\\\\n",
       "\t14 & 6.6   & 0.16  & 0.40  & 1.50  & 0.044 & 143   & 3.54  & 0.52  & 12.4  & 7     & white\\\\\n",
       "\\end{tabular}\n"
      ],
      "text/markdown": [
       "\n",
       "| <!--/--> | fixed.acidity | volatile.acidity | citric.acid | residual.sugar | chlorides | total.sulfur.dioxide | pH | sulphates | alcohol | quality | Class | \n",
       "|---|---|---|---|---|---|\n",
       "| 3 | 8.1   | 0.28  | 0.40  | 6.90  | 0.050 |  97   | 3.26  | 0.44  | 10.1  | 6     | white | \n",
       "| 7 | 6.2   | 0.32  | 0.16  | 7.00  | 0.045 | 136   | 3.18  | 0.47  |  9.6  | 6     | white | \n",
       "| 11 | 8.1   | 0.27  | 0.41  | 1.45  | 0.033 |  63   | 2.99  | 0.56  | 12.0  | 5     | white | \n",
       "| 12 | 8.6   | 0.23  | 0.40  | 4.20  | 0.035 | 109   | 3.14  | 0.53  |  9.7  | 5     | white | \n",
       "| 13 | 7.9   | 0.18  | 0.37  | 1.20  | 0.040 |  75   | 3.18  | 0.63  | 10.8  | 5     | white | \n",
       "| 14 | 6.6   | 0.16  | 0.40  | 1.50  | 0.044 | 143   | 3.54  | 0.52  | 12.4  | 7     | white | \n",
       "\n",
       "\n"
      ],
      "text/plain": [
       "   fixed.acidity volatile.acidity citric.acid residual.sugar chlorides\n",
       "3  8.1           0.28             0.40        6.90           0.050    \n",
       "7  6.2           0.32             0.16        7.00           0.045    \n",
       "11 8.1           0.27             0.41        1.45           0.033    \n",
       "12 8.6           0.23             0.40        4.20           0.035    \n",
       "13 7.9           0.18             0.37        1.20           0.040    \n",
       "14 6.6           0.16             0.40        1.50           0.044    \n",
       "   total.sulfur.dioxide pH   sulphates alcohol quality Class\n",
       "3   97                  3.26 0.44      10.1    6       white\n",
       "7  136                  3.18 0.47       9.6    6       white\n",
       "11  63                  2.99 0.56      12.0    5       white\n",
       "12 109                  3.14 0.53       9.7    5       white\n",
       "13  75                  3.18 0.63      10.8    5       white\n",
       "14 143                  3.54 0.52      12.4    7       white"
      ]
     },
     "metadata": {},
     "output_type": "display_data"
    },
    {
     "data": {
      "text/html": [
       "<table>\n",
       "<thead><tr><th></th><th scope=col>fixed.acidity</th><th scope=col>volatile.acidity</th><th scope=col>citric.acid</th><th scope=col>residual.sugar</th><th scope=col>chlorides</th><th scope=col>total.sulfur.dioxide</th><th scope=col>pH</th><th scope=col>sulphates</th><th scope=col>alcohol</th><th scope=col>quality</th><th scope=col>Class</th></tr></thead>\n",
       "<tbody>\n",
       "\t<tr><th scope=row>2</th><td>6.3  </td><td>0.30 </td><td>0.34 </td><td>1.6  </td><td>0.049</td><td>132  </td><td>3.30 </td><td>0.49 </td><td> 9.5 </td><td>6    </td><td>white</td></tr>\n",
       "\t<tr><th scope=row>4</th><td>7.2  </td><td>0.23 </td><td>0.32 </td><td>8.5  </td><td>0.058</td><td>186  </td><td>3.19 </td><td>0.40 </td><td> 9.9 </td><td>6    </td><td>white</td></tr>\n",
       "\t<tr><th scope=row>5</th><td>7.2  </td><td>0.23 </td><td>0.32 </td><td>8.5  </td><td>0.058</td><td>186  </td><td>3.19 </td><td>0.40 </td><td> 9.9 </td><td>6    </td><td>white</td></tr>\n",
       "\t<tr><th scope=row>6</th><td>8.1  </td><td>0.28 </td><td>0.40 </td><td>6.9  </td><td>0.050</td><td> 97  </td><td>3.26 </td><td>0.44 </td><td>10.1 </td><td>6    </td><td>white</td></tr>\n",
       "\t<tr><th scope=row>9</th><td>6.3  </td><td>0.30 </td><td>0.34 </td><td>1.6  </td><td>0.049</td><td>132  </td><td>3.30 </td><td>0.49 </td><td> 9.5 </td><td>6    </td><td>white</td></tr>\n",
       "\t<tr><th scope=row>10</th><td>8.1  </td><td>0.22 </td><td>0.43 </td><td>1.5  </td><td>0.044</td><td>129  </td><td>3.22 </td><td>0.45 </td><td>11.0 </td><td>6    </td><td>white</td></tr>\n",
       "</tbody>\n",
       "</table>\n"
      ],
      "text/latex": [
       "\\begin{tabular}{r|lllllllllll}\n",
       "  & fixed.acidity & volatile.acidity & citric.acid & residual.sugar & chlorides & total.sulfur.dioxide & pH & sulphates & alcohol & quality & Class\\\\\n",
       "\\hline\n",
       "\t2 & 6.3   & 0.30  & 0.34  & 1.6   & 0.049 & 132   & 3.30  & 0.49  &  9.5  & 6     & white\\\\\n",
       "\t4 & 7.2   & 0.23  & 0.32  & 8.5   & 0.058 & 186   & 3.19  & 0.40  &  9.9  & 6     & white\\\\\n",
       "\t5 & 7.2   & 0.23  & 0.32  & 8.5   & 0.058 & 186   & 3.19  & 0.40  &  9.9  & 6     & white\\\\\n",
       "\t6 & 8.1   & 0.28  & 0.40  & 6.9   & 0.050 &  97   & 3.26  & 0.44  & 10.1  & 6     & white\\\\\n",
       "\t9 & 6.3   & 0.30  & 0.34  & 1.6   & 0.049 & 132   & 3.30  & 0.49  &  9.5  & 6     & white\\\\\n",
       "\t10 & 8.1   & 0.22  & 0.43  & 1.5   & 0.044 & 129   & 3.22  & 0.45  & 11.0  & 6     & white\\\\\n",
       "\\end{tabular}\n"
      ],
      "text/markdown": [
       "\n",
       "| <!--/--> | fixed.acidity | volatile.acidity | citric.acid | residual.sugar | chlorides | total.sulfur.dioxide | pH | sulphates | alcohol | quality | Class | \n",
       "|---|---|---|---|---|---|\n",
       "| 2 | 6.3   | 0.30  | 0.34  | 1.6   | 0.049 | 132   | 3.30  | 0.49  |  9.5  | 6     | white | \n",
       "| 4 | 7.2   | 0.23  | 0.32  | 8.5   | 0.058 | 186   | 3.19  | 0.40  |  9.9  | 6     | white | \n",
       "| 5 | 7.2   | 0.23  | 0.32  | 8.5   | 0.058 | 186   | 3.19  | 0.40  |  9.9  | 6     | white | \n",
       "| 6 | 8.1   | 0.28  | 0.40  | 6.9   | 0.050 |  97   | 3.26  | 0.44  | 10.1  | 6     | white | \n",
       "| 9 | 6.3   | 0.30  | 0.34  | 1.6   | 0.049 | 132   | 3.30  | 0.49  |  9.5  | 6     | white | \n",
       "| 10 | 8.1   | 0.22  | 0.43  | 1.5   | 0.044 | 129   | 3.22  | 0.45  | 11.0  | 6     | white | \n",
       "\n",
       "\n"
      ],
      "text/plain": [
       "   fixed.acidity volatile.acidity citric.acid residual.sugar chlorides\n",
       "2  6.3           0.30             0.34        1.6            0.049    \n",
       "4  7.2           0.23             0.32        8.5            0.058    \n",
       "5  7.2           0.23             0.32        8.5            0.058    \n",
       "6  8.1           0.28             0.40        6.9            0.050    \n",
       "9  6.3           0.30             0.34        1.6            0.049    \n",
       "10 8.1           0.22             0.43        1.5            0.044    \n",
       "   total.sulfur.dioxide pH   sulphates alcohol quality Class\n",
       "2  132                  3.30 0.49       9.5    6       white\n",
       "4  186                  3.19 0.40       9.9    6       white\n",
       "5  186                  3.19 0.40       9.9    6       white\n",
       "6   97                  3.26 0.44      10.1    6       white\n",
       "9  132                  3.30 0.49       9.5    6       white\n",
       "10 129                  3.22 0.45      11.0    6       white"
      ]
     },
     "metadata": {},
     "output_type": "display_data"
    }
   ],
   "source": [
    "#taking a look of the train and test dataset by columns \n",
    "head(training)\n",
    "head(testing)"
   ]
  },
  {
   "cell_type": "code",
   "execution_count": 15,
   "metadata": {},
   "outputs": [
    {
     "name": "stdout",
     "output_type": "stream",
     "text": [
      "'data.frame':\t3528 obs. of  11 variables:\n",
      " $ fixed.acidity       : num  8.1 6.2 8.1 8.6 7.9 6.6 6.3 7.4 6.5 6.4 ...\n",
      " $ volatile.acidity    : num  0.28 0.32 0.27 0.23 0.18 0.16 0.48 0.34 0.31 0.31 ...\n",
      " $ citric.acid         : num  0.4 0.16 0.41 0.4 0.37 0.4 0.04 0.42 0.14 0.38 ...\n",
      " $ residual.sugar      : num  6.9 7 1.45 4.2 1.2 1.5 1.1 1.1 7.5 2.9 ...\n",
      " $ chlorides           : num  0.05 0.045 0.033 0.035 0.04 0.044 0.046 0.033 0.044 0.038 ...\n",
      " $ total.sulfur.dioxide: num  97 136 63 109 75 143 99 171 133 102 ...\n",
      " $ pH                  : num  3.26 3.18 2.99 3.14 3.18 3.54 3.24 3.12 3.22 3.17 ...\n",
      " $ sulphates           : num  0.44 0.47 0.56 0.53 0.63 0.52 0.36 0.53 0.5 0.35 ...\n",
      " $ alcohol             : num  10.1 9.6 12 9.7 10.8 12.4 9.6 11.3 9.5 11 ...\n",
      " $ quality             : int  6 6 5 5 5 7 6 6 5 7 ...\n",
      " $ Class               : Factor w/ 2 levels \"white\",\"red\": 1 1 1 1 1 1 1 1 1 1 ...\n"
     ]
    }
   ],
   "source": [
    "# get some information about training dataset\n",
    "str(training[,1:11])"
   ]
  },
  {
   "cell_type": "code",
   "execution_count": 16,
   "metadata": {},
   "outputs": [
    {
     "name": "stdout",
     "output_type": "stream",
     "text": [
      "'data.frame':\t1512 obs. of  11 variables:\n",
      " $ fixed.acidity       : num  6.3 7.2 7.2 8.1 6.3 8.1 6.6 6.6 6.9 7 ...\n",
      " $ volatile.acidity    : num  0.3 0.23 0.23 0.28 0.3 0.22 0.17 0.27 0.24 0.28 ...\n",
      " $ citric.acid         : num  0.34 0.32 0.32 0.4 0.34 0.43 0.38 0.41 0.35 0.39 ...\n",
      " $ residual.sugar      : num  1.6 8.5 8.5 6.9 1.6 1.5 1.5 1.3 1 8.7 ...\n",
      " $ chlorides           : num  0.049 0.058 0.058 0.05 0.049 0.044 0.032 0.052 0.052 0.051 ...\n",
      " $ total.sulfur.dioxide: num  132 186 186 97 132 129 112 142 146 141 ...\n",
      " $ pH                  : num  3.3 3.19 3.19 3.26 3.3 3.22 3.25 3.42 3.45 3.38 ...\n",
      " $ sulphates           : num  0.49 0.4 0.4 0.44 0.49 0.45 0.55 0.47 0.44 0.53 ...\n",
      " $ alcohol             : num  9.5 9.9 9.9 10.1 9.5 11 11.4 10 10 10.5 ...\n",
      " $ quality             : int  6 6 6 6 6 6 7 6 6 6 ...\n",
      " $ Class               : Factor w/ 2 levels \"white\",\"red\": 1 1 1 1 1 1 1 1 1 1 ...\n"
     ]
    }
   ],
   "source": [
    "# get some information about testing dataset\n",
    "str(testing[,1:11])"
   ]
  },
  {
   "cell_type": "code",
   "execution_count": 17,
   "metadata": {},
   "outputs": [
    {
     "data": {
      "text/html": [
       "<table>\n",
       "<thead><tr><th scope=col>variable</th><th scope=col>n</th><th scope=col>P25</th><th scope=col>P75</th><th scope=col>IQR</th><th scope=col>Minimum</th><th scope=col>Median</th><th scope=col>Maximum</th><th scope=col>Range</th><th scope=col>Mean</th><th scope=col>StDev</th></tr></thead>\n",
       "<tbody>\n",
       "\t<tr><td>fixed.acidity       </td><td>3528                </td><td> 6.40               </td><td>  7.50              </td><td> 1.10               </td><td>4.20                </td><td>  6.90              </td><td>  9.60              </td><td>  5.40              </td><td>  6.95              </td><td> 0.88               </td></tr>\n",
       "\t<tr><td>volatile.acidity    </td><td>3528                </td><td> 0.22               </td><td>  0.36              </td><td> 0.14               </td><td>0.08                </td><td>  0.28              </td><td>  0.66              </td><td>  0.58              </td><td>  0.31              </td><td> 0.12               </td></tr>\n",
       "\t<tr><td>citric.acid         </td><td>3528                </td><td> 0.25               </td><td>  0.37              </td><td> 0.12               </td><td>0.00                </td><td>  0.30              </td><td>  0.60              </td><td>  0.60              </td><td>  0.31              </td><td> 0.11               </td></tr>\n",
       "\t<tr><td>residual.sugar      </td><td>3528                </td><td> 1.80               </td><td>  8.30              </td><td> 6.50               </td><td>0.60                </td><td>  3.80              </td><td> 17.50              </td><td> 16.90              </td><td>  5.53              </td><td> 4.48               </td></tr>\n",
       "\t<tr><td>chlorides           </td><td>3528                </td><td> 0.04               </td><td>  0.06              </td><td> 0.02               </td><td>0.01                </td><td>  0.04              </td><td>  0.10              </td><td>  0.09              </td><td>  0.05              </td><td> 0.02               </td></tr>\n",
       "\t<tr><td>total.sulfur.dioxide</td><td>3528                </td><td>91.00               </td><td>158.25              </td><td>67.25               </td><td>6.00                </td><td>123.00              </td><td>272.00              </td><td>266.00              </td><td>122.88              </td><td>51.75               </td></tr>\n",
       "\t<tr><td>pH                  </td><td>3528                </td><td> 3.11               </td><td>  3.32              </td><td> 0.21               </td><td>2.79                </td><td>  3.20              </td><td>  3.63              </td><td>  0.84              </td><td>  3.21              </td><td> 0.15               </td></tr>\n",
       "\t<tr><td>sulphates           </td><td>3528                </td><td> 0.42               </td><td>  0.58              </td><td> 0.16               </td><td>0.22                </td><td>  0.49              </td><td>  0.85              </td><td>  0.63              </td><td>  0.51              </td><td> 0.12               </td></tr>\n",
       "\t<tr><td>alcohol             </td><td>3528                </td><td> 9.50               </td><td> 11.30              </td><td> 1.80               </td><td>8.00                </td><td> 10.40              </td><td> 14.00              </td><td>  6.00              </td><td> 10.52              </td><td> 1.17               </td></tr>\n",
       "\t<tr><td>quality             </td><td>3528                </td><td> 5.00               </td><td>  6.00              </td><td> 1.00               </td><td>3.00                </td><td>  6.00              </td><td>  7.00              </td><td>  4.00              </td><td>  5.79              </td><td> 0.78               </td></tr>\n",
       "</tbody>\n",
       "</table>\n"
      ],
      "text/latex": [
       "\\begin{tabular}{r|lllllllllll}\n",
       " variable & n & P25 & P75 & IQR & Minimum & Median & Maximum & Range & Mean & StDev\\\\\n",
       "\\hline\n",
       "\t fixed.acidity        & 3528                 &  6.40                &   7.50               &  1.10                & 4.20                 &   6.90               &   9.60               &   5.40               &   6.95               &  0.88               \\\\\n",
       "\t volatile.acidity     & 3528                 &  0.22                &   0.36               &  0.14                & 0.08                 &   0.28               &   0.66               &   0.58               &   0.31               &  0.12               \\\\\n",
       "\t citric.acid          & 3528                 &  0.25                &   0.37               &  0.12                & 0.00                 &   0.30               &   0.60               &   0.60               &   0.31               &  0.11               \\\\\n",
       "\t residual.sugar       & 3528                 &  1.80                &   8.30               &  6.50                & 0.60                 &   3.80               &  17.50               &  16.90               &   5.53               &  4.48               \\\\\n",
       "\t chlorides            & 3528                 &  0.04                &   0.06               &  0.02                & 0.01                 &   0.04               &   0.10               &   0.09               &   0.05               &  0.02               \\\\\n",
       "\t total.sulfur.dioxide & 3528                 & 91.00                & 158.25               & 67.25                & 6.00                 & 123.00               & 272.00               & 266.00               & 122.88               & 51.75               \\\\\n",
       "\t pH                   & 3528                 &  3.11                &   3.32               &  0.21                & 2.79                 &   3.20               &   3.63               &   0.84               &   3.21               &  0.15               \\\\\n",
       "\t sulphates            & 3528                 &  0.42                &   0.58               &  0.16                & 0.22                 &   0.49               &   0.85               &   0.63               &   0.51               &  0.12               \\\\\n",
       "\t alcohol              & 3528                 &  9.50                &  11.30               &  1.80                & 8.00                 &  10.40               &  14.00               &   6.00               &  10.52               &  1.17               \\\\\n",
       "\t quality              & 3528                 &  5.00                &   6.00               &  1.00                & 3.00                 &   6.00               &   7.00               &   4.00               &   5.79               &  0.78               \\\\\n",
       "\\end{tabular}\n"
      ],
      "text/markdown": [
       "\n",
       "variable | n | P25 | P75 | IQR | Minimum | Median | Maximum | Range | Mean | StDev | \n",
       "|---|---|---|---|---|---|---|---|---|---|\n",
       "| fixed.acidity        | 3528                 |  6.40                |   7.50               |  1.10                | 4.20                 |   6.90               |   9.60               |   5.40               |   6.95               |  0.88                | \n",
       "| volatile.acidity     | 3528                 |  0.22                |   0.36               |  0.14                | 0.08                 |   0.28               |   0.66               |   0.58               |   0.31               |  0.12                | \n",
       "| citric.acid          | 3528                 |  0.25                |   0.37               |  0.12                | 0.00                 |   0.30               |   0.60               |   0.60               |   0.31               |  0.11                | \n",
       "| residual.sugar       | 3528                 |  1.80                |   8.30               |  6.50                | 0.60                 |   3.80               |  17.50               |  16.90               |   5.53               |  4.48                | \n",
       "| chlorides            | 3528                 |  0.04                |   0.06               |  0.02                | 0.01                 |   0.04               |   0.10               |   0.09               |   0.05               |  0.02                | \n",
       "| total.sulfur.dioxide | 3528                 | 91.00                | 158.25               | 67.25                | 6.00                 | 123.00               | 272.00               | 266.00               | 122.88               | 51.75                | \n",
       "| pH                   | 3528                 |  3.11                |   3.32               |  0.21                | 2.79                 |   3.20               |   3.63               |   0.84               |   3.21               |  0.15                | \n",
       "| sulphates            | 3528                 |  0.42                |   0.58               |  0.16                | 0.22                 |   0.49               |   0.85               |   0.63               |   0.51               |  0.12                | \n",
       "| alcohol              | 3528                 |  9.50                |  11.30               |  1.80                | 8.00                 |  10.40               |  14.00               |   6.00               |  10.52               |  1.17                | \n",
       "| quality              | 3528                 |  5.00                |   6.00               |  1.00                | 3.00                 |   6.00               |   7.00               |   4.00               |   5.79               |  0.78                | \n",
       "\n",
       "\n"
      ],
      "text/plain": [
       "   variable             n    P25   P75    IQR   Minimum Median Maximum Range \n",
       "1  fixed.acidity        3528  6.40   7.50  1.10 4.20      6.90   9.60    5.40\n",
       "2  volatile.acidity     3528  0.22   0.36  0.14 0.08      0.28   0.66    0.58\n",
       "3  citric.acid          3528  0.25   0.37  0.12 0.00      0.30   0.60    0.60\n",
       "4  residual.sugar       3528  1.80   8.30  6.50 0.60      3.80  17.50   16.90\n",
       "5  chlorides            3528  0.04   0.06  0.02 0.01      0.04   0.10    0.09\n",
       "6  total.sulfur.dioxide 3528 91.00 158.25 67.25 6.00    123.00 272.00  266.00\n",
       "7  pH                   3528  3.11   3.32  0.21 2.79      3.20   3.63    0.84\n",
       "8  sulphates            3528  0.42   0.58  0.16 0.22      0.49   0.85    0.63\n",
       "9  alcohol              3528  9.50  11.30  1.80 8.00     10.40  14.00    6.00\n",
       "10 quality              3528  5.00   6.00  1.00 3.00      6.00   7.00    4.00\n",
       "   Mean   StDev\n",
       "1    6.95  0.88\n",
       "2    0.31  0.12\n",
       "3    0.31  0.11\n",
       "4    5.53  4.48\n",
       "5    0.05  0.02\n",
       "6  122.88 51.75\n",
       "7    3.21  0.15\n",
       "8    0.51  0.12\n",
       "9   10.52  1.17\n",
       "10   5.79  0.78"
      ]
     },
     "metadata": {},
     "output_type": "display_data"
    }
   ],
   "source": [
    "# summarize training dataset\n",
    "(summary=propmiss(training[,-11])[,-(3:4)][,-6])"
   ]
  },
  {
   "cell_type": "code",
   "execution_count": 18,
   "metadata": {},
   "outputs": [
    {
     "data": {
      "text/html": [
       "<table>\n",
       "<thead><tr><th scope=col>variable</th><th scope=col>n</th><th scope=col>P25</th><th scope=col>P75</th><th scope=col>IQR</th><th scope=col>Minimum</th><th scope=col>Median</th><th scope=col>Maximum</th><th scope=col>Range</th><th scope=col>Mean</th><th scope=col>StDev</th></tr></thead>\n",
       "<tbody>\n",
       "\t<tr><td>fixed.acidity       </td><td>1512                </td><td> 6.40               </td><td>  7.50              </td><td> 1.10               </td><td>4.70                </td><td>  6.90              </td><td>  9.60              </td><td>  4.90              </td><td>  7.00              </td><td> 0.88               </td></tr>\n",
       "\t<tr><td>volatile.acidity    </td><td>1512                </td><td> 0.22               </td><td>  0.35              </td><td> 0.13               </td><td>0.08                </td><td>  0.28              </td><td>  0.66              </td><td>  0.58              </td><td>  0.30              </td><td> 0.12               </td></tr>\n",
       "\t<tr><td>citric.acid         </td><td>1512                </td><td> 0.26               </td><td>  0.37              </td><td> 0.11               </td><td>0.00                </td><td>  0.31              </td><td>  0.60              </td><td>  0.60              </td><td>  0.31              </td><td> 0.11               </td></tr>\n",
       "\t<tr><td>residual.sugar      </td><td>1512                </td><td> 1.70               </td><td>  8.30              </td><td> 6.60               </td><td>0.70                </td><td>  3.30              </td><td> 17.50              </td><td> 16.80              </td><td>  5.42              </td><td> 4.51               </td></tr>\n",
       "\t<tr><td>chlorides           </td><td>1512                </td><td> 0.04               </td><td>  0.06              </td><td> 0.02               </td><td>0.01                </td><td>  0.05              </td><td>  0.10              </td><td>  0.10              </td><td>  0.05              </td><td> 0.02               </td></tr>\n",
       "\t<tr><td>total.sulfur.dioxide</td><td>1512                </td><td>93.00               </td><td>162.00              </td><td>69.00               </td><td>7.00                </td><td>125.00              </td><td>253.00              </td><td>246.00              </td><td>124.87              </td><td>51.40               </td></tr>\n",
       "\t<tr><td>pH                  </td><td>1512                </td><td> 3.11               </td><td>  3.32              </td><td> 0.21               </td><td>2.80                </td><td>  3.21              </td><td>  3.63              </td><td>  0.83              </td><td>  3.22              </td><td> 0.15               </td></tr>\n",
       "\t<tr><td>sulphates           </td><td>1512                </td><td> 0.42               </td><td>  0.58              </td><td> 0.16               </td><td>0.25                </td><td>  0.50              </td><td>  0.85              </td><td>  0.60              </td><td>  0.51              </td><td> 0.12               </td></tr>\n",
       "\t<tr><td>alcohol             </td><td>1512                </td><td> 9.50               </td><td> 11.30              </td><td> 1.80               </td><td>8.40                </td><td> 10.40              </td><td> 14.00              </td><td>  5.60              </td><td> 10.52              </td><td> 1.15               </td></tr>\n",
       "\t<tr><td>quality             </td><td>1512                </td><td> 5.00               </td><td>  6.00              </td><td> 1.00               </td><td>3.00                </td><td>  6.00              </td><td>  7.00              </td><td>  4.00              </td><td>  5.83              </td><td> 0.79               </td></tr>\n",
       "</tbody>\n",
       "</table>\n"
      ],
      "text/latex": [
       "\\begin{tabular}{r|lllllllllll}\n",
       " variable & n & P25 & P75 & IQR & Minimum & Median & Maximum & Range & Mean & StDev\\\\\n",
       "\\hline\n",
       "\t fixed.acidity        & 1512                 &  6.40                &   7.50               &  1.10                & 4.70                 &   6.90               &   9.60               &   4.90               &   7.00               &  0.88               \\\\\n",
       "\t volatile.acidity     & 1512                 &  0.22                &   0.35               &  0.13                & 0.08                 &   0.28               &   0.66               &   0.58               &   0.30               &  0.12               \\\\\n",
       "\t citric.acid          & 1512                 &  0.26                &   0.37               &  0.11                & 0.00                 &   0.31               &   0.60               &   0.60               &   0.31               &  0.11               \\\\\n",
       "\t residual.sugar       & 1512                 &  1.70                &   8.30               &  6.60                & 0.70                 &   3.30               &  17.50               &  16.80               &   5.42               &  4.51               \\\\\n",
       "\t chlorides            & 1512                 &  0.04                &   0.06               &  0.02                & 0.01                 &   0.05               &   0.10               &   0.10               &   0.05               &  0.02               \\\\\n",
       "\t total.sulfur.dioxide & 1512                 & 93.00                & 162.00               & 69.00                & 7.00                 & 125.00               & 253.00               & 246.00               & 124.87               & 51.40               \\\\\n",
       "\t pH                   & 1512                 &  3.11                &   3.32               &  0.21                & 2.80                 &   3.21               &   3.63               &   0.83               &   3.22               &  0.15               \\\\\n",
       "\t sulphates            & 1512                 &  0.42                &   0.58               &  0.16                & 0.25                 &   0.50               &   0.85               &   0.60               &   0.51               &  0.12               \\\\\n",
       "\t alcohol              & 1512                 &  9.50                &  11.30               &  1.80                & 8.40                 &  10.40               &  14.00               &   5.60               &  10.52               &  1.15               \\\\\n",
       "\t quality              & 1512                 &  5.00                &   6.00               &  1.00                & 3.00                 &   6.00               &   7.00               &   4.00               &   5.83               &  0.79               \\\\\n",
       "\\end{tabular}\n"
      ],
      "text/markdown": [
       "\n",
       "variable | n | P25 | P75 | IQR | Minimum | Median | Maximum | Range | Mean | StDev | \n",
       "|---|---|---|---|---|---|---|---|---|---|\n",
       "| fixed.acidity        | 1512                 |  6.40                |   7.50               |  1.10                | 4.70                 |   6.90               |   9.60               |   4.90               |   7.00               |  0.88                | \n",
       "| volatile.acidity     | 1512                 |  0.22                |   0.35               |  0.13                | 0.08                 |   0.28               |   0.66               |   0.58               |   0.30               |  0.12                | \n",
       "| citric.acid          | 1512                 |  0.26                |   0.37               |  0.11                | 0.00                 |   0.31               |   0.60               |   0.60               |   0.31               |  0.11                | \n",
       "| residual.sugar       | 1512                 |  1.70                |   8.30               |  6.60                | 0.70                 |   3.30               |  17.50               |  16.80               |   5.42               |  4.51                | \n",
       "| chlorides            | 1512                 |  0.04                |   0.06               |  0.02                | 0.01                 |   0.05               |   0.10               |   0.10               |   0.05               |  0.02                | \n",
       "| total.sulfur.dioxide | 1512                 | 93.00                | 162.00               | 69.00                | 7.00                 | 125.00               | 253.00               | 246.00               | 124.87               | 51.40                | \n",
       "| pH                   | 1512                 |  3.11                |   3.32               |  0.21                | 2.80                 |   3.21               |   3.63               |   0.83               |   3.22               |  0.15                | \n",
       "| sulphates            | 1512                 |  0.42                |   0.58               |  0.16                | 0.25                 |   0.50               |   0.85               |   0.60               |   0.51               |  0.12                | \n",
       "| alcohol              | 1512                 |  9.50                |  11.30               |  1.80                | 8.40                 |  10.40               |  14.00               |   5.60               |  10.52               |  1.15                | \n",
       "| quality              | 1512                 |  5.00                |   6.00               |  1.00                | 3.00                 |   6.00               |   7.00               |   4.00               |   5.83               |  0.79                | \n",
       "\n",
       "\n"
      ],
      "text/plain": [
       "   variable             n    P25   P75    IQR   Minimum Median Maximum Range \n",
       "1  fixed.acidity        1512  6.40   7.50  1.10 4.70      6.90   9.60    4.90\n",
       "2  volatile.acidity     1512  0.22   0.35  0.13 0.08      0.28   0.66    0.58\n",
       "3  citric.acid          1512  0.26   0.37  0.11 0.00      0.31   0.60    0.60\n",
       "4  residual.sugar       1512  1.70   8.30  6.60 0.70      3.30  17.50   16.80\n",
       "5  chlorides            1512  0.04   0.06  0.02 0.01      0.05   0.10    0.10\n",
       "6  total.sulfur.dioxide 1512 93.00 162.00 69.00 7.00    125.00 253.00  246.00\n",
       "7  pH                   1512  3.11   3.32  0.21 2.80      3.21   3.63    0.83\n",
       "8  sulphates            1512  0.42   0.58  0.16 0.25      0.50   0.85    0.60\n",
       "9  alcohol              1512  9.50  11.30  1.80 8.40     10.40  14.00    5.60\n",
       "10 quality              1512  5.00   6.00  1.00 3.00      6.00   7.00    4.00\n",
       "   Mean   StDev\n",
       "1    7.00  0.88\n",
       "2    0.30  0.12\n",
       "3    0.31  0.11\n",
       "4    5.42  4.51\n",
       "5    0.05  0.02\n",
       "6  124.87 51.40\n",
       "7    3.22  0.15\n",
       "8    0.51  0.12\n",
       "9   10.52  1.15\n",
       "10   5.83  0.79"
      ]
     },
     "metadata": {},
     "output_type": "display_data"
    }
   ],
   "source": [
    "# summarize testing dataset\n",
    "(summary=propmiss(testing[,-11])[,-(3:4)][,-6])"
   ]
  },
  {
   "cell_type": "markdown",
   "metadata": {},
   "source": [
    "## IV Building models\n",
    " \n",
    "I have considered linear (LR and LDA), nonlinear (KNN, CART, RF, NB, and SVM) algorithms. I use \"set.seed(7)\" so that same sample can be reproduced in the future and also it ensures the results are directly comparable."
   ]
  },
  {
   "cell_type": "markdown",
   "metadata": {
    "collapsed": true
   },
   "source": [
    "### 41 CART"
   ]
  },
  {
   "cell_type": "code",
   "execution_count": 19,
   "metadata": {
    "collapsed": true
   },
   "outputs": [],
   "source": [
    "## Control Resampling Technique: 10-fold CV\n",
    "cvCtrl <- trainControl(method = \"cv\", number=10, summaryFunction = twoClassSummary, classProbs = TRUE)"
   ]
  },
  {
   "cell_type": "code",
   "execution_count": 20,
   "metadata": {},
   "outputs": [
    {
     "name": "stderr",
     "output_type": "stream",
     "text": [
      "Loading required package: rpart\n"
     ]
    }
   ],
   "source": [
    "## Construction Predictive Model\n",
    "set.seed(1)\n",
    "rpartTune <- train(Class ~ ., data = training, method = \"rpart\", tuneLength = 30, preProc = c(\"center\", \"scale\"), metric = \"ROC\",  trControl = cvCtrl)"
   ]
  },
  {
   "cell_type": "code",
   "execution_count": 21,
   "metadata": {},
   "outputs": [
    {
     "data": {
      "text/plain": [
       "CART \n",
       "\n",
       "3528 samples\n",
       "  10 predictor\n",
       "   2 classes: 'white', 'red' \n",
       "\n",
       "Pre-processing: centered (10), scaled (10) \n",
       "Resampling: Cross-Validated (10 fold) \n",
       "Summary of sample sizes: 3175, 3176, 3175, 3174, 3175, 3175, ... \n",
       "Resampling results across tuning parameters:\n",
       "\n",
       "  cp          ROC        Sens       Spec     \n",
       "  0.00000000  0.9759921  0.9926050  0.9402922\n",
       "  0.02294694  0.9711109  0.9885714  0.9222727\n",
       "  0.04589387  0.9705225  0.9835311  0.9222727\n",
       "  0.06884081  0.9647803  0.9818509  0.9131818\n",
       "  0.09178774  0.9134715  0.9912593  0.8099675\n",
       "  0.11473468  0.9047426  0.9694156  0.8388636\n",
       "  0.13768161  0.9033652  0.9660486  0.8406818\n",
       "  0.16062855  0.9033652  0.9660486  0.8406818\n",
       "  0.18357548  0.9033652  0.9660486  0.8406818\n",
       "  0.20652242  0.9033652  0.9660486  0.8406818\n",
       "  0.22946935  0.9033652  0.9660486  0.8406818\n",
       "  0.25241629  0.9033652  0.9660486  0.8406818\n",
       "  0.27536322  0.9033652  0.9660486  0.8406818\n",
       "  0.29831016  0.9033652  0.9660486  0.8406818\n",
       "  0.32125709  0.9033652  0.9660486  0.8406818\n",
       "  0.34420403  0.9033652  0.9660486  0.8406818\n",
       "  0.36715096  0.9033652  0.9660486  0.8406818\n",
       "  0.39009790  0.9033652  0.9660486  0.8406818\n",
       "  0.41304483  0.9033652  0.9660486  0.8406818\n",
       "  0.43599177  0.9033652  0.9660486  0.8406818\n",
       "  0.45893870  0.9033652  0.9660486  0.8406818\n",
       "  0.48188564  0.9033652  0.9660486  0.8406818\n",
       "  0.50483257  0.9033652  0.9660486  0.8406818\n",
       "  0.52777951  0.9033652  0.9660486  0.8406818\n",
       "  0.55072645  0.9033652  0.9660486  0.8406818\n",
       "  0.57367338  0.9033652  0.9660486  0.8406818\n",
       "  0.59662032  0.9033652  0.9660486  0.8406818\n",
       "  0.61956725  0.9033652  0.9660486  0.8406818\n",
       "  0.64251419  0.9033652  0.9660486  0.8406818\n",
       "  0.66546112  0.6526558  0.9832011  0.3221104\n",
       "\n",
       "ROC was used to select the optimal model using  the largest value.\n",
       "The final value used for the model was cp = 0."
      ]
     },
     "metadata": {},
     "output_type": "display_data"
    }
   ],
   "source": [
    "## train results\n",
    "rpartTune"
   ]
  },
  {
   "cell_type": "code",
   "execution_count": 22,
   "metadata": {},
   "outputs": [
    {
     "data": {
      "text/html": [
       "<table>\n",
       "<thead><tr><th scope=col>cp</th></tr></thead>\n",
       "<tbody>\n",
       "\t<tr><td>0</td></tr>\n",
       "</tbody>\n",
       "</table>\n"
      ],
      "text/latex": [
       "\\begin{tabular}{r|l}\n",
       " cp\\\\\n",
       "\\hline\n",
       "\t 0\\\\\n",
       "\\end{tabular}\n"
      ],
      "text/markdown": [
       "\n",
       "cp | \n",
       "|---|\n",
       "| 0 | \n",
       "\n",
       "\n"
      ],
      "text/plain": [
       "  cp\n",
       "1 0 "
      ]
     },
     "metadata": {},
     "output_type": "display_data"
    }
   ],
   "source": [
    "rpartTune$bestTune"
   ]
  },
  {
   "cell_type": "code",
   "execution_count": 23,
   "metadata": {},
   "outputs": [
    {
     "data": {
      "text/html": [
       "<table>\n",
       "<thead><tr><th scope=col>cp</th><th scope=col>ROC</th><th scope=col>Sens</th><th scope=col>Spec</th><th scope=col>ROCSD</th><th scope=col>SensSD</th><th scope=col>SpecSD</th></tr></thead>\n",
       "<tbody>\n",
       "\t<tr><td>0.00000000 </td><td>0.9759921  </td><td>0.9926050  </td><td>0.9402922  </td><td>0.009536475</td><td>0.005667619</td><td>0.02110942 </td></tr>\n",
       "\t<tr><td>0.02294694 </td><td>0.9711109  </td><td>0.9885714  </td><td>0.9222727  </td><td>0.011176862</td><td>0.006950512</td><td>0.01704276 </td></tr>\n",
       "\t<tr><td>0.04589387 </td><td>0.9705225  </td><td>0.9835311  </td><td>0.9222727  </td><td>0.011219906</td><td>0.006988824</td><td>0.01704276 </td></tr>\n",
       "\t<tr><td>0.06884081 </td><td>0.9647803  </td><td>0.9818509  </td><td>0.9131818  </td><td>0.020637640</td><td>0.010054183</td><td>0.03816626 </td></tr>\n",
       "\t<tr><td>0.09178774 </td><td>0.9134715  </td><td>0.9912593  </td><td>0.8099675  </td><td>0.028586644</td><td>0.006184870</td><td>0.04913111 </td></tr>\n",
       "\t<tr><td>0.11473468 </td><td>0.9047426  </td><td>0.9694156  </td><td>0.8388636  </td><td>0.028923841</td><td>0.015573641</td><td>0.05622814 </td></tr>\n",
       "</tbody>\n",
       "</table>\n"
      ],
      "text/latex": [
       "\\begin{tabular}{r|lllllll}\n",
       " cp & ROC & Sens & Spec & ROCSD & SensSD & SpecSD\\\\\n",
       "\\hline\n",
       "\t 0.00000000  & 0.9759921   & 0.9926050   & 0.9402922   & 0.009536475 & 0.005667619 & 0.02110942 \\\\\n",
       "\t 0.02294694  & 0.9711109   & 0.9885714   & 0.9222727   & 0.011176862 & 0.006950512 & 0.01704276 \\\\\n",
       "\t 0.04589387  & 0.9705225   & 0.9835311   & 0.9222727   & 0.011219906 & 0.006988824 & 0.01704276 \\\\\n",
       "\t 0.06884081  & 0.9647803   & 0.9818509   & 0.9131818   & 0.020637640 & 0.010054183 & 0.03816626 \\\\\n",
       "\t 0.09178774  & 0.9134715   & 0.9912593   & 0.8099675   & 0.028586644 & 0.006184870 & 0.04913111 \\\\\n",
       "\t 0.11473468  & 0.9047426   & 0.9694156   & 0.8388636   & 0.028923841 & 0.015573641 & 0.05622814 \\\\\n",
       "\\end{tabular}\n"
      ],
      "text/markdown": [
       "\n",
       "cp | ROC | Sens | Spec | ROCSD | SensSD | SpecSD | \n",
       "|---|---|---|---|---|---|\n",
       "| 0.00000000  | 0.9759921   | 0.9926050   | 0.9402922   | 0.009536475 | 0.005667619 | 0.02110942  | \n",
       "| 0.02294694  | 0.9711109   | 0.9885714   | 0.9222727   | 0.011176862 | 0.006950512 | 0.01704276  | \n",
       "| 0.04589387  | 0.9705225   | 0.9835311   | 0.9222727   | 0.011219906 | 0.006988824 | 0.01704276  | \n",
       "| 0.06884081  | 0.9647803   | 0.9818509   | 0.9131818   | 0.020637640 | 0.010054183 | 0.03816626  | \n",
       "| 0.09178774  | 0.9134715   | 0.9912593   | 0.8099675   | 0.028586644 | 0.006184870 | 0.04913111  | \n",
       "| 0.11473468  | 0.9047426   | 0.9694156   | 0.8388636   | 0.028923841 | 0.015573641 | 0.05622814  | \n",
       "\n",
       "\n"
      ],
      "text/plain": [
       "  cp         ROC       Sens      Spec      ROCSD       SensSD      SpecSD    \n",
       "1 0.00000000 0.9759921 0.9926050 0.9402922 0.009536475 0.005667619 0.02110942\n",
       "2 0.02294694 0.9711109 0.9885714 0.9222727 0.011176862 0.006950512 0.01704276\n",
       "3 0.04589387 0.9705225 0.9835311 0.9222727 0.011219906 0.006988824 0.01704276\n",
       "4 0.06884081 0.9647803 0.9818509 0.9131818 0.020637640 0.010054183 0.03816626\n",
       "5 0.09178774 0.9134715 0.9912593 0.8099675 0.028586644 0.006184870 0.04913111\n",
       "6 0.11473468 0.9047426 0.9694156 0.8388636 0.028923841 0.015573641 0.05622814"
      ]
     },
     "metadata": {},
     "output_type": "display_data"
    }
   ],
   "source": [
    "head(rpartTune$results)"
   ]
  },
  {
   "cell_type": "code",
   "execution_count": 24,
   "metadata": {},
   "outputs": [
    {
     "data": {
      "text/html": [
       "<table>\n",
       "<thead><tr><th scope=col>cp</th><th scope=col>ROC</th><th scope=col>Sens</th><th scope=col>Spec</th><th scope=col>ROCSD</th><th scope=col>SensSD</th><th scope=col>SpecSD</th></tr></thead>\n",
       "<tbody>\n",
       "\t<tr><td>0          </td><td>0.9759921  </td><td>0.992605   </td><td>0.9402922  </td><td>0.009536475</td><td>0.005667619</td><td>0.02110942 </td></tr>\n",
       "</tbody>\n",
       "</table>\n"
      ],
      "text/latex": [
       "\\begin{tabular}{r|lllllll}\n",
       " cp & ROC & Sens & Spec & ROCSD & SensSD & SpecSD\\\\\n",
       "\\hline\n",
       "\t 0           & 0.9759921   & 0.992605    & 0.9402922   & 0.009536475 & 0.005667619 & 0.02110942 \\\\\n",
       "\\end{tabular}\n"
      ],
      "text/markdown": [
       "\n",
       "cp | ROC | Sens | Spec | ROCSD | SensSD | SpecSD | \n",
       "|---|\n",
       "| 0           | 0.9759921   | 0.992605    | 0.9402922   | 0.009536475 | 0.005667619 | 0.02110942  | \n",
       "\n",
       "\n"
      ],
      "text/plain": [
       "  cp ROC       Sens     Spec      ROCSD       SensSD      SpecSD    \n",
       "1 0  0.9759921 0.992605 0.9402922 0.009536475 0.005667619 0.02110942"
      ]
     },
     "metadata": {},
     "output_type": "display_data"
    }
   ],
   "source": [
    "(rpartTune$results)[1,]"
   ]
  },
  {
   "cell_type": "code",
   "execution_count": 25,
   "metadata": {},
   "outputs": [
    {
     "data": {},
     "metadata": {},
     "output_type": "display_data"
    },
    {
     "data": {
      "image/png": "[encoded data removed]",
      "text/plain": [
       "plot without title"
      ]
     },
     "metadata": {},
     "output_type": "display_data"
    }
   ],
   "source": [
    "## Plot train tune\n",
    "plot(rpartTune)"
   ]
  },
  {
   "cell_type": "code",
   "execution_count": 26,
   "metadata": {},
   "outputs": [
    {
     "data": {
      "text/plain": [
       "Confusion Matrix and Statistics\n",
       "\n",
       "          Reference\n",
       "Prediction white  red\n",
       "     white  1259   14\n",
       "     red      16  223\n",
       "                                          \n",
       "               Accuracy : 0.9802          \n",
       "                 95% CI : (0.9718, 0.9866)\n",
       "    No Information Rate : 0.8433          \n",
       "    P-Value [Acc > NIR] : <2e-16          \n",
       "                                          \n",
       "                  Kappa : 0.9252          \n",
       " Mcnemar's Test P-Value : 0.8551          \n",
       "                                          \n",
       "            Sensitivity : 0.9875          \n",
       "            Specificity : 0.9409          \n",
       "         Pos Pred Value : 0.9890          \n",
       "         Neg Pred Value : 0.9331          \n",
       "             Prevalence : 0.8433          \n",
       "         Detection Rate : 0.8327          \n",
       "   Detection Prevalence : 0.8419          \n",
       "      Balanced Accuracy : 0.9642          \n",
       "                                          \n",
       "       'Positive' Class : white           \n",
       "                                          "
      ]
     },
     "metadata": {},
     "output_type": "display_data"
    }
   ],
   "source": [
    "## Test Set Results   \n",
    "rpartPred <- predict(rpartTune, testing)\n",
    "confusionMatrix(rpartPred, testing$Class)"
   ]
  },
  {
   "cell_type": "code",
   "execution_count": 27,
   "metadata": {},
   "outputs": [
    {
     "data": {
      "text/html": [
       "<table>\n",
       "<thead><tr><th></th><th scope=col>white</th><th scope=col>red</th></tr></thead>\n",
       "<tbody>\n",
       "\t<tr><th scope=row>2</th><td>0.9970877  </td><td>0.002912268</td></tr>\n",
       "\t<tr><th scope=row>4</th><td>0.9970877  </td><td>0.002912268</td></tr>\n",
       "\t<tr><th scope=row>5</th><td>0.9970877  </td><td>0.002912268</td></tr>\n",
       "\t<tr><th scope=row>6</th><td>0.9970877  </td><td>0.002912268</td></tr>\n",
       "\t<tr><th scope=row>9</th><td>0.9970877  </td><td>0.002912268</td></tr>\n",
       "\t<tr><th scope=row>10</th><td>0.9970877  </td><td>0.002912268</td></tr>\n",
       "</tbody>\n",
       "</table>\n"
      ],
      "text/latex": [
       "\\begin{tabular}{r|ll}\n",
       "  & white & red\\\\\n",
       "\\hline\n",
       "\t2 & 0.9970877   & 0.002912268\\\\\n",
       "\t4 & 0.9970877   & 0.002912268\\\\\n",
       "\t5 & 0.9970877   & 0.002912268\\\\\n",
       "\t6 & 0.9970877   & 0.002912268\\\\\n",
       "\t9 & 0.9970877   & 0.002912268\\\\\n",
       "\t10 & 0.9970877   & 0.002912268\\\\\n",
       "\\end{tabular}\n"
      ],
      "text/markdown": [
       "\n",
       "| <!--/--> | white | red | \n",
       "|---|---|---|---|---|---|\n",
       "| 2 | 0.9970877   | 0.002912268 | \n",
       "| 4 | 0.9970877   | 0.002912268 | \n",
       "| 5 | 0.9970877   | 0.002912268 | \n",
       "| 6 | 0.9970877   | 0.002912268 | \n",
       "| 9 | 0.9970877   | 0.002912268 | \n",
       "| 10 | 0.9970877   | 0.002912268 | \n",
       "\n",
       "\n"
      ],
      "text/plain": [
       "   white     red        \n",
       "2  0.9970877 0.002912268\n",
       "4  0.9970877 0.002912268\n",
       "5  0.9970877 0.002912268\n",
       "6  0.9970877 0.002912268\n",
       "9  0.9970877 0.002912268\n",
       "10 0.9970877 0.002912268"
      ]
     },
     "metadata": {},
     "output_type": "display_data"
    }
   ],
   "source": [
    "## Predicting Class Probabilities\n",
    "rpartProbs <- predict(rpartTune, testing, type = \"prob\")\n",
    "head(rpartProbs)"
   ]
  },
  {
   "cell_type": "code",
   "execution_count": 28,
   "metadata": {},
   "outputs": [
    {
     "data": {
      "text/plain": [
       "rpart variable importance\n",
       "\n",
       "                     Overall\n",
       "total.sulfur.dioxide 748.211\n",
       "chlorides            659.974\n",
       "volatile.acidity     440.437\n",
       "sulphates            255.301\n",
       "citric.acid          180.958\n",
       "residual.sugar       117.937\n",
       "pH                   107.414\n",
       "fixed.acidity         18.231\n",
       "quality                9.509\n",
       "alcohol                0.000"
      ]
     },
     "metadata": {},
     "output_type": "display_data"
    }
   ],
   "source": [
    "# variable importance\n",
    "cart.imp = varImp ( rpartTune , scale = F )\n",
    "cart.imp"
   ]
  },
  {
   "cell_type": "code",
   "execution_count": 29,
   "metadata": {},
   "outputs": [
    {
     "data": {},
     "metadata": {},
     "output_type": "display_data"
    },
    {
     "data": {
      "image/png": "[encoded data removed]",
      "text/plain": [
       "plot without title"
      ]
     },
     "metadata": {},
     "output_type": "display_data"
    }
   ],
   "source": [
    "## Graphic variable importance\n",
    "# dev.new()\n",
    "plot(cart.imp, top=10, main=\"10 Top Variable Importance - CART Model\")"
   ]
  },
  {
   "cell_type": "markdown",
   "metadata": {
    "collapsed": true
   },
   "source": [
    "### 42 Boosted Trees C5.0 (C5)"
   ]
  },
  {
   "cell_type": "code",
   "execution_count": 30,
   "metadata": {
    "collapsed": true
   },
   "outputs": [],
   "source": [
    "## Control Resampling Technique: 10-fold CV\n",
    "cvCtrl <- trainControl(method = \"cv\", number=10, summaryFunction = twoClassSummary, classProbs = TRUE)"
   ]
  },
  {
   "cell_type": "code",
   "execution_count": 31,
   "metadata": {
    "collapsed": true
   },
   "outputs": [],
   "source": [
    "## Control Grid\n",
    "grid <- expand.grid(.model = \"tree\", .trials = c(1,5,10,15,20), .winnow = FALSE)"
   ]
  },
  {
   "cell_type": "code",
   "execution_count": 32,
   "metadata": {},
   "outputs": [
    {
     "name": "stderr",
     "output_type": "stream",
     "text": [
      "Loading required package: C50\n"
     ]
    }
   ],
   "source": [
    "## Construction Predictive Model\n",
    "set.seed(1)\n",
    "c5Tune <- train(Class ~ ., data = training, method = \"C5.0\", metric = \"ROC\", preProc = c(\"center\", \"scale\"), tuneGrid = grid, trControl = cvCtrl)"
   ]
  },
  {
   "cell_type": "code",
   "execution_count": 33,
   "metadata": {},
   "outputs": [
    {
     "data": {
      "text/plain": [
       "C5.0 \n",
       "\n",
       "3528 samples\n",
       "  10 predictor\n",
       "   2 classes: 'white', 'red' \n",
       "\n",
       "Pre-processing: centered (10), scaled (10) \n",
       "Resampling: Cross-Validated (10 fold) \n",
       "Summary of sample sizes: 3175, 3176, 3175, 3174, 3175, 3175, ... \n",
       "Resampling results across tuning parameters:\n",
       "\n",
       "  trials  ROC        Sens       Spec     \n",
       "   1      0.9811993  0.9936140  0.9402597\n",
       "   5      0.9905881  0.9932784  0.9637662\n",
       "  10      0.9946643  0.9966386  0.9619481\n",
       "  15      0.9963152  0.9969742  0.9710390\n",
       "  20      0.9960549  0.9963019  0.9655844\n",
       "\n",
       "Tuning parameter 'model' was held constant at a value of tree\n",
       "Tuning\n",
       " parameter 'winnow' was held constant at a value of FALSE\n",
       "ROC was used to select the optimal model using  the largest value.\n",
       "The final values used for the model were trials = 15, model = tree and winnow\n",
       " = FALSE."
      ]
     },
     "metadata": {},
     "output_type": "display_data"
    }
   ],
   "source": [
    "## train results\n",
    "c5Tune"
   ]
  },
  {
   "cell_type": "code",
   "execution_count": 34,
   "metadata": {},
   "outputs": [
    {
     "data": {
      "text/html": [
       "<table>\n",
       "<thead><tr><th></th><th scope=col>trials</th><th scope=col>model</th><th scope=col>winnow</th></tr></thead>\n",
       "<tbody>\n",
       "\t<tr><th scope=row>4</th><td>15   </td><td>tree </td><td>FALSE</td></tr>\n",
       "</tbody>\n",
       "</table>\n"
      ],
      "text/latex": [
       "\\begin{tabular}{r|lll}\n",
       "  & trials & model & winnow\\\\\n",
       "\\hline\n",
       "\t4 & 15    & tree  & FALSE\\\\\n",
       "\\end{tabular}\n"
      ],
      "text/markdown": [
       "\n",
       "| <!--/--> | trials | model | winnow | \n",
       "|---|\n",
       "| 4 | 15    | tree  | FALSE | \n",
       "\n",
       "\n"
      ],
      "text/plain": [
       "  trials model winnow\n",
       "4 15     tree  FALSE "
      ]
     },
     "metadata": {},
     "output_type": "display_data"
    }
   ],
   "source": [
    "c5Tune$bestTune"
   ]
  },
  {
   "cell_type": "code",
   "execution_count": 35,
   "metadata": {},
   "outputs": [
    {
     "data": {
      "text/html": [
       "<table>\n",
       "<thead><tr><th scope=col>model</th><th scope=col>winnow</th><th scope=col>trials</th><th scope=col>ROC</th><th scope=col>Sens</th><th scope=col>Spec</th><th scope=col>ROCSD</th><th scope=col>SensSD</th><th scope=col>SpecSD</th></tr></thead>\n",
       "<tbody>\n",
       "\t<tr><td>tree       </td><td>FALSE      </td><td> 1         </td><td>0.9811993  </td><td>0.9936140  </td><td>0.9402597  </td><td>0.015257242</td><td>0.005813042</td><td>0.02850453 </td></tr>\n",
       "\t<tr><td>tree       </td><td>FALSE      </td><td> 5         </td><td>0.9905881  </td><td>0.9932784  </td><td>0.9637662  </td><td>0.009741572</td><td>0.005485243</td><td>0.02964823 </td></tr>\n",
       "\t<tr><td>tree       </td><td>FALSE      </td><td>10         </td><td>0.9946643  </td><td>0.9966386  </td><td>0.9619481  </td><td>0.006161382</td><td>0.003881367</td><td>0.02767086 </td></tr>\n",
       "\t<tr><td>tree       </td><td>FALSE      </td><td>15         </td><td>0.9963152  </td><td>0.9969742  </td><td>0.9710390  </td><td>0.005272022</td><td>0.003702673</td><td>0.01758170 </td></tr>\n",
       "\t<tr><td>tree       </td><td>FALSE      </td><td>20         </td><td>0.9960549  </td><td>0.9963019  </td><td>0.9655844  </td><td>0.005558761</td><td>0.005129693</td><td>0.02495803 </td></tr>\n",
       "</tbody>\n",
       "</table>\n"
      ],
      "text/latex": [
       "\\begin{tabular}{r|lllllllll}\n",
       " model & winnow & trials & ROC & Sens & Spec & ROCSD & SensSD & SpecSD\\\\\n",
       "\\hline\n",
       "\t tree        & FALSE       &  1          & 0.9811993   & 0.9936140   & 0.9402597   & 0.015257242 & 0.005813042 & 0.02850453 \\\\\n",
       "\t tree        & FALSE       &  5          & 0.9905881   & 0.9932784   & 0.9637662   & 0.009741572 & 0.005485243 & 0.02964823 \\\\\n",
       "\t tree        & FALSE       & 10          & 0.9946643   & 0.9966386   & 0.9619481   & 0.006161382 & 0.003881367 & 0.02767086 \\\\\n",
       "\t tree        & FALSE       & 15          & 0.9963152   & 0.9969742   & 0.9710390   & 0.005272022 & 0.003702673 & 0.01758170 \\\\\n",
       "\t tree        & FALSE       & 20          & 0.9960549   & 0.9963019   & 0.9655844   & 0.005558761 & 0.005129693 & 0.02495803 \\\\\n",
       "\\end{tabular}\n"
      ],
      "text/markdown": [
       "\n",
       "model | winnow | trials | ROC | Sens | Spec | ROCSD | SensSD | SpecSD | \n",
       "|---|---|---|---|---|\n",
       "| tree        | FALSE       |  1          | 0.9811993   | 0.9936140   | 0.9402597   | 0.015257242 | 0.005813042 | 0.02850453  | \n",
       "| tree        | FALSE       |  5          | 0.9905881   | 0.9932784   | 0.9637662   | 0.009741572 | 0.005485243 | 0.02964823  | \n",
       "| tree        | FALSE       | 10          | 0.9946643   | 0.9966386   | 0.9619481   | 0.006161382 | 0.003881367 | 0.02767086  | \n",
       "| tree        | FALSE       | 15          | 0.9963152   | 0.9969742   | 0.9710390   | 0.005272022 | 0.003702673 | 0.01758170  | \n",
       "| tree        | FALSE       | 20          | 0.9960549   | 0.9963019   | 0.9655844   | 0.005558761 | 0.005129693 | 0.02495803  | \n",
       "\n",
       "\n"
      ],
      "text/plain": [
       "  model winnow trials ROC       Sens      Spec      ROCSD       SensSD     \n",
       "1 tree  FALSE   1     0.9811993 0.9936140 0.9402597 0.015257242 0.005813042\n",
       "2 tree  FALSE   5     0.9905881 0.9932784 0.9637662 0.009741572 0.005485243\n",
       "3 tree  FALSE  10     0.9946643 0.9966386 0.9619481 0.006161382 0.003881367\n",
       "4 tree  FALSE  15     0.9963152 0.9969742 0.9710390 0.005272022 0.003702673\n",
       "5 tree  FALSE  20     0.9960549 0.9963019 0.9655844 0.005558761 0.005129693\n",
       "  SpecSD    \n",
       "1 0.02850453\n",
       "2 0.02964823\n",
       "3 0.02767086\n",
       "4 0.01758170\n",
       "5 0.02495803"
      ]
     },
     "metadata": {},
     "output_type": "display_data"
    }
   ],
   "source": [
    "head(c5Tune$results)"
   ]
  },
  {
   "cell_type": "code",
   "execution_count": 36,
   "metadata": {},
   "outputs": [
    {
     "data": {
      "text/html": [
       "<table>\n",
       "<thead><tr><th></th><th scope=col>model</th><th scope=col>winnow</th><th scope=col>trials</th><th scope=col>ROC</th><th scope=col>Sens</th><th scope=col>Spec</th><th scope=col>ROCSD</th><th scope=col>SensSD</th><th scope=col>SpecSD</th></tr></thead>\n",
       "<tbody>\n",
       "\t<tr><th scope=row>5</th><td>tree       </td><td>FALSE      </td><td>20         </td><td>0.9960549  </td><td>0.9963019  </td><td>0.9655844  </td><td>0.005558761</td><td>0.005129693</td><td>0.02495803 </td></tr>\n",
       "</tbody>\n",
       "</table>\n"
      ],
      "text/latex": [
       "\\begin{tabular}{r|lllllllll}\n",
       "  & model & winnow & trials & ROC & Sens & Spec & ROCSD & SensSD & SpecSD\\\\\n",
       "\\hline\n",
       "\t5 & tree        & FALSE       & 20          & 0.9960549   & 0.9963019   & 0.9655844   & 0.005558761 & 0.005129693 & 0.02495803 \\\\\n",
       "\\end{tabular}\n"
      ],
      "text/markdown": [
       "\n",
       "| <!--/--> | model | winnow | trials | ROC | Sens | Spec | ROCSD | SensSD | SpecSD | \n",
       "|---|\n",
       "| 5 | tree        | FALSE       | 20          | 0.9960549   | 0.9963019   | 0.9655844   | 0.005558761 | 0.005129693 | 0.02495803  | \n",
       "\n",
       "\n"
      ],
      "text/plain": [
       "  model winnow trials ROC       Sens      Spec      ROCSD       SensSD     \n",
       "5 tree  FALSE  20     0.9960549 0.9963019 0.9655844 0.005558761 0.005129693\n",
       "  SpecSD    \n",
       "5 0.02495803"
      ]
     },
     "metadata": {},
     "output_type": "display_data"
    }
   ],
   "source": [
    "(c5Tune$results)[5,]"
   ]
  },
  {
   "cell_type": "code",
   "execution_count": 37,
   "metadata": {},
   "outputs": [
    {
     "data": {},
     "metadata": {},
     "output_type": "display_data"
    },
    {
     "data": {
      "image/png": "[encoded data removed]",
      "text/plain": [
       "plot without title"
      ]
     },
     "metadata": {},
     "output_type": "display_data"
    }
   ],
   "source": [
    "## Plot train tune\n",
    "plot(c5Tune)"
   ]
  },
  {
   "cell_type": "code",
   "execution_count": 38,
   "metadata": {},
   "outputs": [
    {
     "data": {
      "text/plain": [
       "Confusion Matrix and Statistics\n",
       "\n",
       "          Reference\n",
       "Prediction white  red\n",
       "     white  1270    8\n",
       "     red       5  229\n",
       "                                          \n",
       "               Accuracy : 0.9914          \n",
       "                 95% CI : (0.9853, 0.9954)\n",
       "    No Information Rate : 0.8433          \n",
       "    P-Value [Acc > NIR] : <2e-16          \n",
       "                                          \n",
       "                  Kappa : 0.9673          \n",
       " Mcnemar's Test P-Value : 0.5791          \n",
       "                                          \n",
       "            Sensitivity : 0.9961          \n",
       "            Specificity : 0.9662          \n",
       "         Pos Pred Value : 0.9937          \n",
       "         Neg Pred Value : 0.9786          \n",
       "             Prevalence : 0.8433          \n",
       "         Detection Rate : 0.8399          \n",
       "   Detection Prevalence : 0.8452          \n",
       "      Balanced Accuracy : 0.9812          \n",
       "                                          \n",
       "       'Positive' Class : white           \n",
       "                                          "
      ]
     },
     "metadata": {},
     "output_type": "display_data"
    }
   ],
   "source": [
    "## Test Set Results\n",
    "c5Pred <- predict(c5Tune, testing, preProc = c(\"center\", \"scale\"))\n",
    "confusionMatrix(c5Pred, testing$Class)"
   ]
  },
  {
   "cell_type": "code",
   "execution_count": 39,
   "metadata": {},
   "outputs": [
    {
     "data": {
      "text/html": [
       "<table>\n",
       "<thead><tr><th></th><th scope=col>white</th><th scope=col>red</th></tr></thead>\n",
       "<tbody>\n",
       "\t<tr><th scope=row>2</th><td>0.9063519 </td><td>0.09364813</td></tr>\n",
       "\t<tr><th scope=row>4</th><td>1.0000000 </td><td>0.00000000</td></tr>\n",
       "\t<tr><th scope=row>5</th><td>1.0000000 </td><td>0.00000000</td></tr>\n",
       "</tbody>\n",
       "</table>\n"
      ],
      "text/latex": [
       "\\begin{tabular}{r|ll}\n",
       "  & white & red\\\\\n",
       "\\hline\n",
       "\t2 & 0.9063519  & 0.09364813\\\\\n",
       "\t4 & 1.0000000  & 0.00000000\\\\\n",
       "\t5 & 1.0000000  & 0.00000000\\\\\n",
       "\\end{tabular}\n"
      ],
      "text/markdown": [
       "\n",
       "| <!--/--> | white | red | \n",
       "|---|---|---|\n",
       "| 2 | 0.9063519  | 0.09364813 | \n",
       "| 4 | 1.0000000  | 0.00000000 | \n",
       "| 5 | 1.0000000  | 0.00000000 | \n",
       "\n",
       "\n"
      ],
      "text/plain": [
       "  white     red       \n",
       "2 0.9063519 0.09364813\n",
       "4 1.0000000 0.00000000\n",
       "5 1.0000000 0.00000000"
      ]
     },
     "metadata": {},
     "output_type": "display_data"
    }
   ],
   "source": [
    "## Predicting Class Probabilities\n",
    "c5Probs <- predict(c5Tune, testing, preProc = c(\"center\", \"scale\"), type = \"prob\")\n",
    "head(c5Probs, 3)"
   ]
  },
  {
   "cell_type": "code",
   "execution_count": 40,
   "metadata": {},
   "outputs": [
    {
     "data": {
      "text/plain": [
       "C5.0 variable importance\n",
       "\n",
       "                     Overall\n",
       "total.sulfur.dioxide  100.00\n",
       "volatile.acidity      100.00\n",
       "pH                    100.00\n",
       "sulphates             100.00\n",
       "chlorides             100.00\n",
       "residual.sugar         99.40\n",
       "alcohol                81.80\n",
       "quality                36.54\n",
       "citric.acid            31.83\n",
       "fixed.acidity          29.25"
      ]
     },
     "metadata": {},
     "output_type": "display_data"
    }
   ],
   "source": [
    "## variable importance\n",
    "c5.imp = varImp ( c5Tune , scale = F)\n",
    "c5.imp\n"
   ]
  },
  {
   "cell_type": "code",
   "execution_count": 41,
   "metadata": {},
   "outputs": [
    {
     "data": {},
     "metadata": {},
     "output_type": "display_data"
    },
    {
     "data": {
      "image/png": "[encoded data removed]",
      "text/plain": [
       "plot without title"
      ]
     },
     "metadata": {},
     "output_type": "display_data"
    }
   ],
   "source": [
    "## Graphic variable importance\n",
    "#dev.new()\n",
    "plot(c5.imp, top=10, main=\"10 Top Variable Importance - C5.0 Model\")"
   ]
  },
  {
   "cell_type": "markdown",
   "metadata": {},
   "source": [
    "### 43 Support Vector Machines (SVM)"
   ]
  },
  {
   "cell_type": "code",
   "execution_count": 42,
   "metadata": {
    "collapsed": true
   },
   "outputs": [],
   "source": [
    "## Control Resampling Technique: 10-fold CV\n",
    "cvCtrl <- trainControl(method = \"cv\", number=10, summaryFunction = twoClassSummary, classProbs = TRUE)"
   ]
  },
  {
   "cell_type": "code",
   "execution_count": 43,
   "metadata": {},
   "outputs": [
    {
     "name": "stderr",
     "output_type": "stream",
     "text": [
      "Loading required package: kernlab\n",
      "\n",
      "Attaching package: 'kernlab'\n",
      "\n",
      "The following object is masked from 'package:ggplot2':\n",
      "\n",
      "    alpha\n",
      "\n"
     ]
    }
   ],
   "source": [
    "## Construction Predictive Model\n",
    "set.seed(1)\n",
    "svmTune <- train(Class ~ ., data = training, method = \"svmRadial\", tuneLength = 9, preProc = c(\"center\", \"scale\"), metric = \"ROC\", trControl = cvCtrl)"
   ]
  },
  {
   "cell_type": "code",
   "execution_count": 44,
   "metadata": {},
   "outputs": [
    {
     "data": {
      "text/plain": [
       "Support Vector Machines with Radial Basis Function Kernel \n",
       "\n",
       "3528 samples\n",
       "  10 predictor\n",
       "   2 classes: 'white', 'red' \n",
       "\n",
       "Pre-processing: centered (10), scaled (10) \n",
       "Resampling: Cross-Validated (10 fold) \n",
       "Summary of sample sizes: 3175, 3176, 3175, 3174, 3175, 3175, ... \n",
       "Resampling results across tuning parameters:\n",
       "\n",
       "  C      ROC        Sens       Spec     \n",
       "   0.25  0.9946389  0.9976476  0.9764935\n",
       "   0.50  0.9946020  0.9979843  0.9783117\n",
       "   1.00  0.9944736  0.9979843  0.9783117\n",
       "   2.00  0.9946936  0.9979843  0.9783117\n",
       "   4.00  0.9947984  0.9983210  0.9765260\n",
       "   8.00  0.9946422  0.9986566  0.9747078\n",
       "  16.00  0.9944427  0.9973109  0.9728896\n",
       "  32.00  0.9944611  0.9969731  0.9710714\n",
       "  64.00  0.9944053  0.9969731  0.9710714\n",
       "\n",
       "Tuning parameter 'sigma' was held constant at a value of 0.07951502\n",
       "ROC was used to select the optimal model using  the largest value.\n",
       "The final values used for the model were sigma = 0.07951502 and C = 4."
      ]
     },
     "metadata": {},
     "output_type": "display_data"
    }
   ],
   "source": [
    "## train results\n",
    "svmTune"
   ]
  },
  {
   "cell_type": "code",
   "execution_count": 47,
   "metadata": {},
   "outputs": [
    {
     "data": {
      "text/html": [
       "<table>\n",
       "<thead><tr><th></th><th scope=col>sigma</th><th scope=col>C</th></tr></thead>\n",
       "<tbody>\n",
       "\t<tr><th scope=row>5</th><td>0.07951502</td><td>4         </td></tr>\n",
       "</tbody>\n",
       "</table>\n"
      ],
      "text/latex": [
       "\\begin{tabular}{r|ll}\n",
       "  & sigma & C\\\\\n",
       "\\hline\n",
       "\t5 & 0.07951502 & 4         \\\\\n",
       "\\end{tabular}\n"
      ],
      "text/markdown": [
       "\n",
       "| <!--/--> | sigma | C | \n",
       "|---|\n",
       "| 5 | 0.07951502 | 4          | \n",
       "\n",
       "\n"
      ],
      "text/plain": [
       "  sigma      C\n",
       "5 0.07951502 4"
      ]
     },
     "metadata": {},
     "output_type": "display_data"
    }
   ],
   "source": [
    "svmTune$bestTune"
   ]
  },
  {
   "cell_type": "code",
   "execution_count": 48,
   "metadata": {},
   "outputs": [
    {
     "data": {
      "text/html": [
       "<table>\n",
       "<thead><tr><th scope=col>sigma</th><th scope=col>C</th><th scope=col>ROC</th><th scope=col>Sens</th><th scope=col>Spec</th><th scope=col>ROCSD</th><th scope=col>SensSD</th><th scope=col>SpecSD</th></tr></thead>\n",
       "<tbody>\n",
       "\t<tr><td>0.07951502 </td><td>0.25       </td><td>0.9946389  </td><td>0.9976476  </td><td>0.9764935  </td><td>0.007378132</td><td>0.002266608</td><td>0.01223107 </td></tr>\n",
       "\t<tr><td>0.07951502 </td><td>0.50       </td><td>0.9946020  </td><td>0.9979843  </td><td>0.9783117  </td><td>0.007859122</td><td>0.002347769</td><td>0.01428883 </td></tr>\n",
       "\t<tr><td>0.07951502 </td><td>1.00       </td><td>0.9944736  </td><td>0.9979843  </td><td>0.9783117  </td><td>0.008269068</td><td>0.002347769</td><td>0.01428883 </td></tr>\n",
       "\t<tr><td>0.07951502 </td><td>2.00       </td><td>0.9946936  </td><td>0.9979843  </td><td>0.9783117  </td><td>0.008655205</td><td>0.002347769</td><td>0.01428883 </td></tr>\n",
       "\t<tr><td>0.07951502 </td><td>4.00       </td><td>0.9947984  </td><td>0.9983210  </td><td>0.9765260  </td><td>0.009270278</td><td>0.002373732</td><td>0.01486120 </td></tr>\n",
       "\t<tr><td>0.07951502 </td><td>8.00       </td><td>0.9946422  </td><td>0.9986566  </td><td>0.9747078  </td><td>0.010026614</td><td>0.001734340</td><td>0.01524895 </td></tr>\n",
       "</tbody>\n",
       "</table>\n"
      ],
      "text/latex": [
       "\\begin{tabular}{r|llllllll}\n",
       " sigma & C & ROC & Sens & Spec & ROCSD & SensSD & SpecSD\\\\\n",
       "\\hline\n",
       "\t 0.07951502  & 0.25        & 0.9946389   & 0.9976476   & 0.9764935   & 0.007378132 & 0.002266608 & 0.01223107 \\\\\n",
       "\t 0.07951502  & 0.50        & 0.9946020   & 0.9979843   & 0.9783117   & 0.007859122 & 0.002347769 & 0.01428883 \\\\\n",
       "\t 0.07951502  & 1.00        & 0.9944736   & 0.9979843   & 0.9783117   & 0.008269068 & 0.002347769 & 0.01428883 \\\\\n",
       "\t 0.07951502  & 2.00        & 0.9946936   & 0.9979843   & 0.9783117   & 0.008655205 & 0.002347769 & 0.01428883 \\\\\n",
       "\t 0.07951502  & 4.00        & 0.9947984   & 0.9983210   & 0.9765260   & 0.009270278 & 0.002373732 & 0.01486120 \\\\\n",
       "\t 0.07951502  & 8.00        & 0.9946422   & 0.9986566   & 0.9747078   & 0.010026614 & 0.001734340 & 0.01524895 \\\\\n",
       "\\end{tabular}\n"
      ],
      "text/markdown": [
       "\n",
       "sigma | C | ROC | Sens | Spec | ROCSD | SensSD | SpecSD | \n",
       "|---|---|---|---|---|---|\n",
       "| 0.07951502  | 0.25        | 0.9946389   | 0.9976476   | 0.9764935   | 0.007378132 | 0.002266608 | 0.01223107  | \n",
       "| 0.07951502  | 0.50        | 0.9946020   | 0.9979843   | 0.9783117   | 0.007859122 | 0.002347769 | 0.01428883  | \n",
       "| 0.07951502  | 1.00        | 0.9944736   | 0.9979843   | 0.9783117   | 0.008269068 | 0.002347769 | 0.01428883  | \n",
       "| 0.07951502  | 2.00        | 0.9946936   | 0.9979843   | 0.9783117   | 0.008655205 | 0.002347769 | 0.01428883  | \n",
       "| 0.07951502  | 4.00        | 0.9947984   | 0.9983210   | 0.9765260   | 0.009270278 | 0.002373732 | 0.01486120  | \n",
       "| 0.07951502  | 8.00        | 0.9946422   | 0.9986566   | 0.9747078   | 0.010026614 | 0.001734340 | 0.01524895  | \n",
       "\n",
       "\n"
      ],
      "text/plain": [
       "  sigma      C    ROC       Sens      Spec      ROCSD       SensSD     \n",
       "1 0.07951502 0.25 0.9946389 0.9976476 0.9764935 0.007378132 0.002266608\n",
       "2 0.07951502 0.50 0.9946020 0.9979843 0.9783117 0.007859122 0.002347769\n",
       "3 0.07951502 1.00 0.9944736 0.9979843 0.9783117 0.008269068 0.002347769\n",
       "4 0.07951502 2.00 0.9946936 0.9979843 0.9783117 0.008655205 0.002347769\n",
       "5 0.07951502 4.00 0.9947984 0.9983210 0.9765260 0.009270278 0.002373732\n",
       "6 0.07951502 8.00 0.9946422 0.9986566 0.9747078 0.010026614 0.001734340\n",
       "  SpecSD    \n",
       "1 0.01223107\n",
       "2 0.01428883\n",
       "3 0.01428883\n",
       "4 0.01428883\n",
       "5 0.01486120\n",
       "6 0.01524895"
      ]
     },
     "metadata": {},
     "output_type": "display_data"
    }
   ],
   "source": [
    "head(svmTune$results)"
   ]
  },
  {
   "cell_type": "code",
   "execution_count": 49,
   "metadata": {},
   "outputs": [
    {
     "data": {
      "text/html": [
       "<table>\n",
       "<thead><tr><th></th><th scope=col>sigma</th><th scope=col>C</th><th scope=col>ROC</th><th scope=col>Sens</th><th scope=col>Spec</th><th scope=col>ROCSD</th><th scope=col>SensSD</th><th scope=col>SpecSD</th></tr></thead>\n",
       "<tbody>\n",
       "\t<tr><th scope=row>5</th><td>0.07951502 </td><td>4          </td><td>0.9947984  </td><td>0.998321   </td><td>0.976526   </td><td>0.009270278</td><td>0.002373732</td><td>0.0148612  </td></tr>\n",
       "</tbody>\n",
       "</table>\n"
      ],
      "text/latex": [
       "\\begin{tabular}{r|llllllll}\n",
       "  & sigma & C & ROC & Sens & Spec & ROCSD & SensSD & SpecSD\\\\\n",
       "\\hline\n",
       "\t5 & 0.07951502  & 4           & 0.9947984   & 0.998321    & 0.976526    & 0.009270278 & 0.002373732 & 0.0148612  \\\\\n",
       "\\end{tabular}\n"
      ],
      "text/markdown": [
       "\n",
       "| <!--/--> | sigma | C | ROC | Sens | Spec | ROCSD | SensSD | SpecSD | \n",
       "|---|\n",
       "| 5 | 0.07951502  | 4           | 0.9947984   | 0.998321    | 0.976526    | 0.009270278 | 0.002373732 | 0.0148612   | \n",
       "\n",
       "\n"
      ],
      "text/plain": [
       "  sigma      C ROC       Sens     Spec     ROCSD       SensSD      SpecSD   \n",
       "5 0.07951502 4 0.9947984 0.998321 0.976526 0.009270278 0.002373732 0.0148612"
      ]
     },
     "metadata": {},
     "output_type": "display_data"
    }
   ],
   "source": [
    "(svmTune$results)[5,]"
   ]
  },
  {
   "cell_type": "code",
   "execution_count": 50,
   "metadata": {
    "scrolled": false
   },
   "outputs": [
    {
     "data": {},
     "metadata": {},
     "output_type": "display_data"
    },
    {
     "data": {
      "image/png": "[encoded data removed]",
      "text/plain": [
       "plot without title"
      ]
     },
     "metadata": {},
     "output_type": "display_data"
    }
   ],
   "source": [
    "## Plot train tune\n",
    "plot(svmTune)"
   ]
  },
  {
   "cell_type": "code",
   "execution_count": 51,
   "metadata": {},
   "outputs": [
    {
     "data": {
      "text/plain": [
       "Confusion Matrix and Statistics\n",
       "\n",
       "          Reference\n",
       "Prediction white  red\n",
       "     white  1272    5\n",
       "     red       3  232\n",
       "                                          \n",
       "               Accuracy : 0.9947          \n",
       "                 95% CI : (0.9896, 0.9977)\n",
       "    No Information Rate : 0.8433          \n",
       "    P-Value [Acc > NIR] : <2e-16          \n",
       "                                          \n",
       "                  Kappa : 0.9799          \n",
       " Mcnemar's Test P-Value : 0.7237          \n",
       "                                          \n",
       "            Sensitivity : 0.9976          \n",
       "            Specificity : 0.9789          \n",
       "         Pos Pred Value : 0.9961          \n",
       "         Neg Pred Value : 0.9872          \n",
       "             Prevalence : 0.8433          \n",
       "         Detection Rate : 0.8413          \n",
       "   Detection Prevalence : 0.8446          \n",
       "      Balanced Accuracy : 0.9883          \n",
       "                                          \n",
       "       'Positive' Class : white           \n",
       "                                          "
      ]
     },
     "metadata": {},
     "output_type": "display_data"
    }
   ],
   "source": [
    "## Test Set Results\n",
    "svmPred <- predict(svmTune, testing, preProc = c(\"center\", \"scale\"))\n",
    "confusionMatrix(svmPred, testing$Class)"
   ]
  },
  {
   "cell_type": "code",
   "execution_count": 52,
   "metadata": {},
   "outputs": [
    {
     "data": {
      "text/html": [
       "<table>\n",
       "<thead><tr><th scope=col>white</th><th scope=col>red</th></tr></thead>\n",
       "<tbody>\n",
       "\t<tr><td>0.9989036   </td><td>0.0010964238</td></tr>\n",
       "\t<tr><td>0.9997206   </td><td>0.0002794204</td></tr>\n",
       "\t<tr><td>0.9997206   </td><td>0.0002794204</td></tr>\n",
       "</tbody>\n",
       "</table>\n"
      ],
      "text/latex": [
       "\\begin{tabular}{r|ll}\n",
       " white & red\\\\\n",
       "\\hline\n",
       "\t 0.9989036    & 0.0010964238\\\\\n",
       "\t 0.9997206    & 0.0002794204\\\\\n",
       "\t 0.9997206    & 0.0002794204\\\\\n",
       "\\end{tabular}\n"
      ],
      "text/markdown": [
       "\n",
       "white | red | \n",
       "|---|---|---|\n",
       "| 0.9989036    | 0.0010964238 | \n",
       "| 0.9997206    | 0.0002794204 | \n",
       "| 0.9997206    | 0.0002794204 | \n",
       "\n",
       "\n"
      ],
      "text/plain": [
       "  white     red         \n",
       "1 0.9989036 0.0010964238\n",
       "2 0.9997206 0.0002794204\n",
       "3 0.9997206 0.0002794204"
      ]
     },
     "metadata": {},
     "output_type": "display_data"
    }
   ],
   "source": [
    "## Predicting Class Probabilities\n",
    "svmProbs <- predict(svmTune, testing, preProc = c(\"center\", \"scale\"), type = \"prob\")\n",
    "head(svmProbs, 3)"
   ]
  },
  {
   "cell_type": "code",
   "execution_count": 53,
   "metadata": {},
   "outputs": [
    {
     "data": {
      "text/plain": [
       "ROC curve variable importance\n",
       "\n",
       "                     Importance\n",
       "chlorides                0.9647\n",
       "total.sulfur.dioxide     0.9452\n",
       "volatile.acidity         0.8994\n",
       "sulphates                0.8262\n",
       "pH                       0.8104\n",
       "fixed.acidity            0.7410\n",
       "residual.sugar           0.6829\n",
       "citric.acid              0.6612\n",
       "quality                  0.5606\n",
       "alcohol                  0.5281"
      ]
     },
     "metadata": {},
     "output_type": "display_data"
    }
   ],
   "source": [
    "## variable importance\n",
    "svm.imp = varImp ( svmTune , scale = F)\n",
    "svm.imp\n"
   ]
  },
  {
   "cell_type": "code",
   "execution_count": 54,
   "metadata": {},
   "outputs": [
    {
     "data": {},
     "metadata": {},
     "output_type": "display_data"
    },
    {
     "data": {
      "image/png": "[encoded data removed]",
      "text/plain": [
       "plot without title"
      ]
     },
     "metadata": {},
     "output_type": "display_data"
    }
   ],
   "source": [
    "## Graphic variable importance\n",
    "#dev.new()\n",
    "plot(svm.imp, top=10, main=\"10 Top Variable Importance - SVM Model\")"
   ]
  },
  {
   "cell_type": "markdown",
   "metadata": {},
   "source": [
    "### 44 K-Nearest Neighbors (KNN)"
   ]
  },
  {
   "cell_type": "code",
   "execution_count": 55,
   "metadata": {
    "collapsed": true
   },
   "outputs": [],
   "source": [
    "## Control Resampling Technique: 10-fold CV\n",
    "cvCtrl <- trainControl(method = \"cv\", number=10, summaryFunction = twoClassSummary, classProbs = TRUE)"
   ]
  },
  {
   "cell_type": "code",
   "execution_count": 56,
   "metadata": {
    "collapsed": true
   },
   "outputs": [],
   "source": [
    "## Construction Predictive Model\n",
    "set.seed(1)\n",
    "knnTune <- train ( Class ~ ., data = training, method = \"knn\", tuneLength = 10, preProc = c(\"center\", \"scale\"), metric= \"ROC\", trControl = cvCtrl)"
   ]
  },
  {
   "cell_type": "code",
   "execution_count": 57,
   "metadata": {},
   "outputs": [
    {
     "data": {
      "text/plain": [
       "k-Nearest Neighbors \n",
       "\n",
       "3528 samples\n",
       "  10 predictor\n",
       "   2 classes: 'white', 'red' \n",
       "\n",
       "Pre-processing: centered (10), scaled (10) \n",
       "Resampling: Cross-Validated (10 fold) \n",
       "Summary of sample sizes: 3175, 3176, 3175, 3174, 3175, 3175, ... \n",
       "Resampling results across tuning parameters:\n",
       "\n",
       "  k   ROC        Sens       Spec     \n",
       "   5  0.9921997  0.9976476  0.9728896\n",
       "   7  0.9930268  0.9979843  0.9711039\n",
       "   9  0.9930861  0.9976476  0.9711039\n",
       "  11  0.9939886  0.9973109  0.9692857\n",
       "  13  0.9939094  0.9973109  0.9692857\n",
       "  15  0.9947607  0.9973109  0.9692857\n",
       "  17  0.9947365  0.9976476  0.9675000\n",
       "  19  0.9947880  0.9976476  0.9692857\n",
       "  21  0.9956383  0.9976476  0.9692857\n",
       "  23  0.9955806  0.9973109  0.9692857\n",
       "\n",
       "ROC was used to select the optimal model using  the largest value.\n",
       "The final value used for the model was k = 21."
      ]
     },
     "metadata": {},
     "output_type": "display_data"
    }
   ],
   "source": [
    "## train results\n",
    "knnTune"
   ]
  },
  {
   "cell_type": "code",
   "execution_count": 58,
   "metadata": {},
   "outputs": [
    {
     "data": {
      "text/html": [
       "<table>\n",
       "<thead><tr><th></th><th scope=col>k</th></tr></thead>\n",
       "<tbody>\n",
       "\t<tr><th scope=row>9</th><td>21</td></tr>\n",
       "</tbody>\n",
       "</table>\n"
      ],
      "text/latex": [
       "\\begin{tabular}{r|l}\n",
       "  & k\\\\\n",
       "\\hline\n",
       "\t9 & 21\\\\\n",
       "\\end{tabular}\n"
      ],
      "text/markdown": [
       "\n",
       "| <!--/--> | k | \n",
       "|---|\n",
       "| 9 | 21 | \n",
       "\n",
       "\n"
      ],
      "text/plain": [
       "  k \n",
       "9 21"
      ]
     },
     "metadata": {},
     "output_type": "display_data"
    }
   ],
   "source": [
    "knnTune$bestTune"
   ]
  },
  {
   "cell_type": "code",
   "execution_count": 59,
   "metadata": {},
   "outputs": [
    {
     "data": {
      "text/html": [
       "<table>\n",
       "<thead><tr><th scope=col>k</th><th scope=col>ROC</th><th scope=col>Sens</th><th scope=col>Spec</th><th scope=col>ROCSD</th><th scope=col>SensSD</th><th scope=col>SpecSD</th></tr></thead>\n",
       "<tbody>\n",
       "\t<tr><td> 5         </td><td>0.9921997  </td><td>0.9976476  </td><td>0.9728896  </td><td>0.008391126</td><td>0.002266608</td><td>0.01761594 </td></tr>\n",
       "\t<tr><td> 7         </td><td>0.9930268  </td><td>0.9979843  </td><td>0.9711039  </td><td>0.007638707</td><td>0.002347769</td><td>0.01939978 </td></tr>\n",
       "\t<tr><td> 9         </td><td>0.9930861  </td><td>0.9976476  </td><td>0.9711039  </td><td>0.007828964</td><td>0.002266608</td><td>0.01939978 </td></tr>\n",
       "\t<tr><td>11         </td><td>0.9939886  </td><td>0.9973109  </td><td>0.9692857  </td><td>0.008112215</td><td>0.002651480</td><td>0.01710724 </td></tr>\n",
       "\t<tr><td>13         </td><td>0.9939094  </td><td>0.9973109  </td><td>0.9692857  </td><td>0.008169178</td><td>0.002651480</td><td>0.01710724 </td></tr>\n",
       "\t<tr><td>15         </td><td>0.9947607  </td><td>0.9973109  </td><td>0.9692857  </td><td>0.006728891</td><td>0.002651480</td><td>0.01710724 </td></tr>\n",
       "</tbody>\n",
       "</table>\n"
      ],
      "text/latex": [
       "\\begin{tabular}{r|lllllll}\n",
       " k & ROC & Sens & Spec & ROCSD & SensSD & SpecSD\\\\\n",
       "\\hline\n",
       "\t  5          & 0.9921997   & 0.9976476   & 0.9728896   & 0.008391126 & 0.002266608 & 0.01761594 \\\\\n",
       "\t  7          & 0.9930268   & 0.9979843   & 0.9711039   & 0.007638707 & 0.002347769 & 0.01939978 \\\\\n",
       "\t  9          & 0.9930861   & 0.9976476   & 0.9711039   & 0.007828964 & 0.002266608 & 0.01939978 \\\\\n",
       "\t 11          & 0.9939886   & 0.9973109   & 0.9692857   & 0.008112215 & 0.002651480 & 0.01710724 \\\\\n",
       "\t 13          & 0.9939094   & 0.9973109   & 0.9692857   & 0.008169178 & 0.002651480 & 0.01710724 \\\\\n",
       "\t 15          & 0.9947607   & 0.9973109   & 0.9692857   & 0.006728891 & 0.002651480 & 0.01710724 \\\\\n",
       "\\end{tabular}\n"
      ],
      "text/markdown": [
       "\n",
       "k | ROC | Sens | Spec | ROCSD | SensSD | SpecSD | \n",
       "|---|---|---|---|---|---|\n",
       "|  5          | 0.9921997   | 0.9976476   | 0.9728896   | 0.008391126 | 0.002266608 | 0.01761594  | \n",
       "|  7          | 0.9930268   | 0.9979843   | 0.9711039   | 0.007638707 | 0.002347769 | 0.01939978  | \n",
       "|  9          | 0.9930861   | 0.9976476   | 0.9711039   | 0.007828964 | 0.002266608 | 0.01939978  | \n",
       "| 11          | 0.9939886   | 0.9973109   | 0.9692857   | 0.008112215 | 0.002651480 | 0.01710724  | \n",
       "| 13          | 0.9939094   | 0.9973109   | 0.9692857   | 0.008169178 | 0.002651480 | 0.01710724  | \n",
       "| 15          | 0.9947607   | 0.9973109   | 0.9692857   | 0.006728891 | 0.002651480 | 0.01710724  | \n",
       "\n",
       "\n"
      ],
      "text/plain": [
       "  k  ROC       Sens      Spec      ROCSD       SensSD      SpecSD    \n",
       "1  5 0.9921997 0.9976476 0.9728896 0.008391126 0.002266608 0.01761594\n",
       "2  7 0.9930268 0.9979843 0.9711039 0.007638707 0.002347769 0.01939978\n",
       "3  9 0.9930861 0.9976476 0.9711039 0.007828964 0.002266608 0.01939978\n",
       "4 11 0.9939886 0.9973109 0.9692857 0.008112215 0.002651480 0.01710724\n",
       "5 13 0.9939094 0.9973109 0.9692857 0.008169178 0.002651480 0.01710724\n",
       "6 15 0.9947607 0.9973109 0.9692857 0.006728891 0.002651480 0.01710724"
      ]
     },
     "metadata": {},
     "output_type": "display_data"
    }
   ],
   "source": [
    "head(knnTune$results)"
   ]
  },
  {
   "cell_type": "code",
   "execution_count": 60,
   "metadata": {},
   "outputs": [
    {
     "data": {
      "text/html": [
       "<table>\n",
       "<thead><tr><th></th><th scope=col>k</th><th scope=col>ROC</th><th scope=col>Sens</th><th scope=col>Spec</th><th scope=col>ROCSD</th><th scope=col>SensSD</th><th scope=col>SpecSD</th></tr></thead>\n",
       "<tbody>\n",
       "\t<tr><th scope=row>9</th><td>21         </td><td>0.9956383  </td><td>0.9976476  </td><td>0.9692857  </td><td>0.005217355</td><td>0.002266608</td><td>0.01710724 </td></tr>\n",
       "</tbody>\n",
       "</table>\n"
      ],
      "text/latex": [
       "\\begin{tabular}{r|lllllll}\n",
       "  & k & ROC & Sens & Spec & ROCSD & SensSD & SpecSD\\\\\n",
       "\\hline\n",
       "\t9 & 21          & 0.9956383   & 0.9976476   & 0.9692857   & 0.005217355 & 0.002266608 & 0.01710724 \\\\\n",
       "\\end{tabular}\n"
      ],
      "text/markdown": [
       "\n",
       "| <!--/--> | k | ROC | Sens | Spec | ROCSD | SensSD | SpecSD | \n",
       "|---|\n",
       "| 9 | 21          | 0.9956383   | 0.9976476   | 0.9692857   | 0.005217355 | 0.002266608 | 0.01710724  | \n",
       "\n",
       "\n"
      ],
      "text/plain": [
       "  k  ROC       Sens      Spec      ROCSD       SensSD      SpecSD    \n",
       "9 21 0.9956383 0.9976476 0.9692857 0.005217355 0.002266608 0.01710724"
      ]
     },
     "metadata": {},
     "output_type": "display_data"
    }
   ],
   "source": [
    "(knnTune$results)[9,]"
   ]
  },
  {
   "cell_type": "code",
   "execution_count": 61,
   "metadata": {},
   "outputs": [
    {
     "data": {},
     "metadata": {},
     "output_type": "display_data"
    },
    {
     "data": {
      "image/png": "[encoded data removed]",
      "text/plain": [
       "plot without title"
      ]
     },
     "metadata": {},
     "output_type": "display_data"
    }
   ],
   "source": [
    "## Plot train tune\n",
    "plot(knnTune)"
   ]
  },
  {
   "cell_type": "code",
   "execution_count": 62,
   "metadata": {},
   "outputs": [
    {
     "data": {
      "text/plain": [
       "Confusion Matrix and Statistics\n",
       "\n",
       "          Reference\n",
       "Prediction white  red\n",
       "     white  1265    4\n",
       "     red      10  233\n",
       "                                          \n",
       "               Accuracy : 0.9907          \n",
       "                 95% CI : (0.9845, 0.9949)\n",
       "    No Information Rate : 0.8433          \n",
       "    P-Value [Acc > NIR] : <2e-16          \n",
       "                                          \n",
       "                  Kappa : 0.9653          \n",
       " Mcnemar's Test P-Value : 0.1814          \n",
       "                                          \n",
       "            Sensitivity : 0.9922          \n",
       "            Specificity : 0.9831          \n",
       "         Pos Pred Value : 0.9968          \n",
       "         Neg Pred Value : 0.9588          \n",
       "             Prevalence : 0.8433          \n",
       "         Detection Rate : 0.8366          \n",
       "   Detection Prevalence : 0.8393          \n",
       "      Balanced Accuracy : 0.9876          \n",
       "                                          \n",
       "       'Positive' Class : white           \n",
       "                                          "
      ]
     },
     "metadata": {},
     "output_type": "display_data"
    }
   ],
   "source": [
    "## Test Set Results\n",
    "knnPred <- predict(knnTune, testing, preProc = c(\"center\", \"scale\"))\n",
    "confusionMatrix(knnPred, testing$Class)"
   ]
  },
  {
   "cell_type": "code",
   "execution_count": 63,
   "metadata": {},
   "outputs": [
    {
     "data": {
      "text/html": [
       "<table>\n",
       "<thead><tr><th scope=col>white</th><th scope=col>red</th></tr></thead>\n",
       "<tbody>\n",
       "\t<tr><td>1</td><td>0</td></tr>\n",
       "\t<tr><td>1</td><td>0</td></tr>\n",
       "\t<tr><td>1</td><td>0</td></tr>\n",
       "</tbody>\n",
       "</table>\n"
      ],
      "text/latex": [
       "\\begin{tabular}{r|ll}\n",
       " white & red\\\\\n",
       "\\hline\n",
       "\t 1 & 0\\\\\n",
       "\t 1 & 0\\\\\n",
       "\t 1 & 0\\\\\n",
       "\\end{tabular}\n"
      ],
      "text/markdown": [
       "\n",
       "white | red | \n",
       "|---|---|---|\n",
       "| 1 | 0 | \n",
       "| 1 | 0 | \n",
       "| 1 | 0 | \n",
       "\n",
       "\n"
      ],
      "text/plain": [
       "  white red\n",
       "1 1     0  \n",
       "2 1     0  \n",
       "3 1     0  "
      ]
     },
     "metadata": {},
     "output_type": "display_data"
    }
   ],
   "source": [
    "## Predicting Class Probabilities\n",
    "knnProbs <- predict(knnTune, testing, preProc = c(\"center\", \"scale\"), type = \"prob\")\n",
    "head(knnProbs, 3)"
   ]
  },
  {
   "cell_type": "code",
   "execution_count": 64,
   "metadata": {},
   "outputs": [
    {
     "data": {
      "text/plain": [
       "ROC curve variable importance\n",
       "\n",
       "                     Importance\n",
       "chlorides                0.9647\n",
       "total.sulfur.dioxide     0.9452\n",
       "volatile.acidity         0.8994\n",
       "sulphates                0.8262\n",
       "pH                       0.8104\n",
       "fixed.acidity            0.7410\n",
       "residual.sugar           0.6829\n",
       "citric.acid              0.6612\n",
       "quality                  0.5606\n",
       "alcohol                  0.5281"
      ]
     },
     "metadata": {},
     "output_type": "display_data"
    }
   ],
   "source": [
    "## variable importance\n",
    "knn.imp = varImp ( knnTune , scale = F)\n",
    "knn.imp"
   ]
  },
  {
   "cell_type": "code",
   "execution_count": 65,
   "metadata": {},
   "outputs": [
    {
     "data": {},
     "metadata": {},
     "output_type": "display_data"
    },
    {
     "data": {
      "image/png": "[encoded data removed]",
      "text/plain": [
       "plot without title"
      ]
     },
     "metadata": {},
     "output_type": "display_data"
    }
   ],
   "source": [
    "## Graphic variable importance\n",
    "#dev.new()\n",
    "plot(knn.imp, top=10, main=\"10 Top Variable Importance - K-Nearest Neighbors (KNN) Model\")"
   ]
  },
  {
   "cell_type": "markdown",
   "metadata": {
    "collapsed": true
   },
   "source": [
    "### 45 Random Forest (RF)"
   ]
  },
  {
   "cell_type": "code",
   "execution_count": 66,
   "metadata": {
    "collapsed": true
   },
   "outputs": [],
   "source": [
    "## Control Resampling Technique: 10-fold CV\n",
    "cvCtrl <- trainControl(method = \"cv\", number=10, summaryFunction = twoClassSummary, classProbs = TRUE, search=\"grid\")"
   ]
  },
  {
   "cell_type": "code",
   "execution_count": 67,
   "metadata": {
    "scrolled": true
   },
   "outputs": [
    {
     "name": "stderr",
     "output_type": "stream",
     "text": [
      "Loading required package: randomForest\n",
      "randomForest 4.6-12\n",
      "Type rfNews() to see new features/changes/bug fixes.\n",
      "\n",
      "Attaching package: 'randomForest'\n",
      "\n",
      "The following object is masked from 'package:ggplot2':\n",
      "\n",
      "    margin\n",
      "\n",
      "The following object is masked from 'package:dplyr':\n",
      "\n",
      "    combine\n",
      "\n"
     ]
    }
   ],
   "source": [
    "## Construction Predictive Model\n",
    "set.seed(1)\n",
    "rfGrid <- expand.grid ( .mtry = c (1:6 ) )\n",
    "rfTune <- train ( Class ~ ., data = training, method = \"rf\", tuneGrid = rfGrid, ntree = 1000, preProc = c(\"center\", \"scale\"), metric= \"ROC\", trControl = cvCtrl)"
   ]
  },
  {
   "cell_type": "code",
   "execution_count": 68,
   "metadata": {},
   "outputs": [
    {
     "data": {
      "text/plain": [
       "Random Forest \n",
       "\n",
       "3528 samples\n",
       "  10 predictor\n",
       "   2 classes: 'white', 'red' \n",
       "\n",
       "Pre-processing: centered (10), scaled (10) \n",
       "Resampling: Cross-Validated (10 fold) \n",
       "Summary of sample sizes: 3175, 3176, 3175, 3174, 3175, 3175, ... \n",
       "Resampling results across tuning parameters:\n",
       "\n",
       "  mtry  ROC        Sens       Spec     \n",
       "  1     0.9972739  0.9986566  0.9674351\n",
       "  2     0.9965458  0.9983210  0.9710390\n",
       "  3     0.9952845  0.9979832  0.9728571\n",
       "  4     0.9961409  0.9979832  0.9692208\n",
       "  5     0.9955425  0.9976476  0.9674026\n",
       "  6     0.9954118  0.9969742  0.9674026\n",
       "\n",
       "ROC was used to select the optimal model using  the largest value.\n",
       "The final value used for the model was mtry = 1."
      ]
     },
     "metadata": {},
     "output_type": "display_data"
    }
   ],
   "source": [
    "## train results\n",
    "rfTune"
   ]
  },
  {
   "cell_type": "code",
   "execution_count": 69,
   "metadata": {},
   "outputs": [
    {
     "data": {
      "text/html": [
       "<table>\n",
       "<thead><tr><th scope=col>mtry</th></tr></thead>\n",
       "<tbody>\n",
       "\t<tr><td>1</td></tr>\n",
       "</tbody>\n",
       "</table>\n"
      ],
      "text/latex": [
       "\\begin{tabular}{r|l}\n",
       " mtry\\\\\n",
       "\\hline\n",
       "\t 1\\\\\n",
       "\\end{tabular}\n"
      ],
      "text/markdown": [
       "\n",
       "mtry | \n",
       "|---|\n",
       "| 1 | \n",
       "\n",
       "\n"
      ],
      "text/plain": [
       "  mtry\n",
       "1 1   "
      ]
     },
     "metadata": {},
     "output_type": "display_data"
    }
   ],
   "source": [
    "rfTune$bestTune"
   ]
  },
  {
   "cell_type": "code",
   "execution_count": 70,
   "metadata": {},
   "outputs": [
    {
     "data": {
      "text/html": [
       "<table>\n",
       "<thead><tr><th scope=col>mtry</th><th scope=col>ROC</th><th scope=col>Sens</th><th scope=col>Spec</th><th scope=col>ROCSD</th><th scope=col>SensSD</th><th scope=col>SpecSD</th></tr></thead>\n",
       "<tbody>\n",
       "\t<tr><td>1          </td><td>0.9972739  </td><td>0.9986566  </td><td>0.9674351  </td><td>0.004742837</td><td>0.002347408</td><td>0.02383020 </td></tr>\n",
       "\t<tr><td>2          </td><td>0.9965458  </td><td>0.9983210  </td><td>0.9710390  </td><td>0.005732189</td><td>0.002373732</td><td>0.02450232 </td></tr>\n",
       "\t<tr><td>3          </td><td>0.9952845  </td><td>0.9979832  </td><td>0.9728571  </td><td>0.007257767</td><td>0.002834549</td><td>0.02136792 </td></tr>\n",
       "\t<tr><td>4          </td><td>0.9961409  </td><td>0.9979832  </td><td>0.9692208  </td><td>0.005950137</td><td>0.002834549</td><td>0.01922195 </td></tr>\n",
       "\t<tr><td>5          </td><td>0.9955425  </td><td>0.9976476  </td><td>0.9674026  </td><td>0.006673716</td><td>0.002767089</td><td>0.02391711 </td></tr>\n",
       "\t<tr><td>6          </td><td>0.9954118  </td><td>0.9969742  </td><td>0.9674026  </td><td>0.006621932</td><td>0.004329934</td><td>0.02391711 </td></tr>\n",
       "</tbody>\n",
       "</table>\n"
      ],
      "text/latex": [
       "\\begin{tabular}{r|lllllll}\n",
       " mtry & ROC & Sens & Spec & ROCSD & SensSD & SpecSD\\\\\n",
       "\\hline\n",
       "\t 1           & 0.9972739   & 0.9986566   & 0.9674351   & 0.004742837 & 0.002347408 & 0.02383020 \\\\\n",
       "\t 2           & 0.9965458   & 0.9983210   & 0.9710390   & 0.005732189 & 0.002373732 & 0.02450232 \\\\\n",
       "\t 3           & 0.9952845   & 0.9979832   & 0.9728571   & 0.007257767 & 0.002834549 & 0.02136792 \\\\\n",
       "\t 4           & 0.9961409   & 0.9979832   & 0.9692208   & 0.005950137 & 0.002834549 & 0.01922195 \\\\\n",
       "\t 5           & 0.9955425   & 0.9976476   & 0.9674026   & 0.006673716 & 0.002767089 & 0.02391711 \\\\\n",
       "\t 6           & 0.9954118   & 0.9969742   & 0.9674026   & 0.006621932 & 0.004329934 & 0.02391711 \\\\\n",
       "\\end{tabular}\n"
      ],
      "text/markdown": [
       "\n",
       "mtry | ROC | Sens | Spec | ROCSD | SensSD | SpecSD | \n",
       "|---|---|---|---|---|---|\n",
       "| 1           | 0.9972739   | 0.9986566   | 0.9674351   | 0.004742837 | 0.002347408 | 0.02383020  | \n",
       "| 2           | 0.9965458   | 0.9983210   | 0.9710390   | 0.005732189 | 0.002373732 | 0.02450232  | \n",
       "| 3           | 0.9952845   | 0.9979832   | 0.9728571   | 0.007257767 | 0.002834549 | 0.02136792  | \n",
       "| 4           | 0.9961409   | 0.9979832   | 0.9692208   | 0.005950137 | 0.002834549 | 0.01922195  | \n",
       "| 5           | 0.9955425   | 0.9976476   | 0.9674026   | 0.006673716 | 0.002767089 | 0.02391711  | \n",
       "| 6           | 0.9954118   | 0.9969742   | 0.9674026   | 0.006621932 | 0.004329934 | 0.02391711  | \n",
       "\n",
       "\n"
      ],
      "text/plain": [
       "  mtry ROC       Sens      Spec      ROCSD       SensSD      SpecSD    \n",
       "1 1    0.9972739 0.9986566 0.9674351 0.004742837 0.002347408 0.02383020\n",
       "2 2    0.9965458 0.9983210 0.9710390 0.005732189 0.002373732 0.02450232\n",
       "3 3    0.9952845 0.9979832 0.9728571 0.007257767 0.002834549 0.02136792\n",
       "4 4    0.9961409 0.9979832 0.9692208 0.005950137 0.002834549 0.01922195\n",
       "5 5    0.9955425 0.9976476 0.9674026 0.006673716 0.002767089 0.02391711\n",
       "6 6    0.9954118 0.9969742 0.9674026 0.006621932 0.004329934 0.02391711"
      ]
     },
     "metadata": {},
     "output_type": "display_data"
    }
   ],
   "source": [
    "head(rfTune$results)"
   ]
  },
  {
   "cell_type": "code",
   "execution_count": 71,
   "metadata": {},
   "outputs": [
    {
     "data": {
      "text/html": [
       "<table>\n",
       "<thead><tr><th scope=col>mtry</th><th scope=col>ROC</th><th scope=col>Sens</th><th scope=col>Spec</th><th scope=col>ROCSD</th><th scope=col>SensSD</th><th scope=col>SpecSD</th></tr></thead>\n",
       "<tbody>\n",
       "\t<tr><td>1          </td><td>0.9972739  </td><td>0.9986566  </td><td>0.9674351  </td><td>0.004742837</td><td>0.002347408</td><td>0.0238302  </td></tr>\n",
       "</tbody>\n",
       "</table>\n"
      ],
      "text/latex": [
       "\\begin{tabular}{r|lllllll}\n",
       " mtry & ROC & Sens & Spec & ROCSD & SensSD & SpecSD\\\\\n",
       "\\hline\n",
       "\t 1           & 0.9972739   & 0.9986566   & 0.9674351   & 0.004742837 & 0.002347408 & 0.0238302  \\\\\n",
       "\\end{tabular}\n"
      ],
      "text/markdown": [
       "\n",
       "mtry | ROC | Sens | Spec | ROCSD | SensSD | SpecSD | \n",
       "|---|\n",
       "| 1           | 0.9972739   | 0.9986566   | 0.9674351   | 0.004742837 | 0.002347408 | 0.0238302   | \n",
       "\n",
       "\n"
      ],
      "text/plain": [
       "  mtry ROC       Sens      Spec      ROCSD       SensSD      SpecSD   \n",
       "1 1    0.9972739 0.9986566 0.9674351 0.004742837 0.002347408 0.0238302"
      ]
     },
     "metadata": {},
     "output_type": "display_data"
    }
   ],
   "source": [
    "(rfTune$results)[1,]"
   ]
  },
  {
   "cell_type": "code",
   "execution_count": 72,
   "metadata": {},
   "outputs": [
    {
     "data": {},
     "metadata": {},
     "output_type": "display_data"
    },
    {
     "data": {
      "image/png": "[encoded data removed]",
      "text/plain": [
       "plot without title"
      ]
     },
     "metadata": {},
     "output_type": "display_data"
    }
   ],
   "source": [
    "## Plot train tune\n",
    "plot(rfTune)"
   ]
  },
  {
   "cell_type": "code",
   "execution_count": 73,
   "metadata": {},
   "outputs": [
    {
     "data": {
      "text/plain": [
       "Confusion Matrix and Statistics\n",
       "\n",
       "          Reference\n",
       "Prediction white  red\n",
       "     white  1273    7\n",
       "     red       2  230\n",
       "                                          \n",
       "               Accuracy : 0.994           \n",
       "                 95% CI : (0.9887, 0.9973)\n",
       "    No Information Rate : 0.8433          \n",
       "    P-Value [Acc > NIR] : <2e-16          \n",
       "                                          \n",
       "                  Kappa : 0.9773          \n",
       " Mcnemar's Test P-Value : 0.1824          \n",
       "                                          \n",
       "            Sensitivity : 0.9984          \n",
       "            Specificity : 0.9705          \n",
       "         Pos Pred Value : 0.9945          \n",
       "         Neg Pred Value : 0.9914          \n",
       "             Prevalence : 0.8433          \n",
       "         Detection Rate : 0.8419          \n",
       "   Detection Prevalence : 0.8466          \n",
       "      Balanced Accuracy : 0.9844          \n",
       "                                          \n",
       "       'Positive' Class : white           \n",
       "                                          "
      ]
     },
     "metadata": {},
     "output_type": "display_data"
    }
   ],
   "source": [
    "## Test Set Results\n",
    "rfPred <- predict(rfTune, testing, preProc = c(\"center\", \"scale\"))\n",
    "confusionMatrix(rfPred, testing$Class)"
   ]
  },
  {
   "cell_type": "code",
   "execution_count": 74,
   "metadata": {},
   "outputs": [
    {
     "data": {
      "text/html": [
       "<table>\n",
       "<thead><tr><th></th><th scope=col>white</th><th scope=col>red</th></tr></thead>\n",
       "<tbody>\n",
       "\t<tr><th scope=row>2</th><td>0.981</td><td>0.019</td></tr>\n",
       "\t<tr><th scope=row>4</th><td>0.999</td><td>0.001</td></tr>\n",
       "\t<tr><th scope=row>5</th><td>0.999</td><td>0.001</td></tr>\n",
       "</tbody>\n",
       "</table>\n"
      ],
      "text/latex": [
       "\\begin{tabular}{r|ll}\n",
       "  & white & red\\\\\n",
       "\\hline\n",
       "\t2 & 0.981 & 0.019\\\\\n",
       "\t4 & 0.999 & 0.001\\\\\n",
       "\t5 & 0.999 & 0.001\\\\\n",
       "\\end{tabular}\n"
      ],
      "text/markdown": [
       "\n",
       "| <!--/--> | white | red | \n",
       "|---|---|---|\n",
       "| 2 | 0.981 | 0.019 | \n",
       "| 4 | 0.999 | 0.001 | \n",
       "| 5 | 0.999 | 0.001 | \n",
       "\n",
       "\n"
      ],
      "text/plain": [
       "  white red  \n",
       "2 0.981 0.019\n",
       "4 0.999 0.001\n",
       "5 0.999 0.001"
      ]
     },
     "metadata": {},
     "output_type": "display_data"
    }
   ],
   "source": [
    "## Predicting Class Probabilities\n",
    "rfProbs <- predict(rfTune, testing, preProc = c(\"center\", \"scale\"), type = \"prob\")\n",
    "head(rfProbs, 3)"
   ]
  },
  {
   "cell_type": "code",
   "execution_count": 75,
   "metadata": {},
   "outputs": [
    {
     "data": {
      "text/plain": [
       "rf variable importance\n",
       "\n",
       "                     Overall\n",
       "chlorides             232.21\n",
       "total.sulfur.dioxide  199.97\n",
       "volatile.acidity      127.44\n",
       "sulphates              72.23\n",
       "residual.sugar         69.54\n",
       "pH                     67.27\n",
       "fixed.acidity          55.60\n",
       "citric.acid            55.51\n",
       "alcohol                24.30\n",
       "quality                11.71"
      ]
     },
     "metadata": {},
     "output_type": "display_data"
    }
   ],
   "source": [
    "## variable importance\n",
    "rf.imp = varImp ( rfTune , scale = F)\n",
    "rf.imp"
   ]
  },
  {
   "cell_type": "code",
   "execution_count": 76,
   "metadata": {},
   "outputs": [
    {
     "data": {},
     "metadata": {},
     "output_type": "display_data"
    },
    {
     "data": {
      "image/png": "[encoded data removed]",
      "text/plain": [
       "plot without title"
      ]
     },
     "metadata": {},
     "output_type": "display_data"
    }
   ],
   "source": [
    "## Graphic variable importance\n",
    "#dev.new()\n",
    "plot(rf.imp, top=10, main=\"10 Top Variable Importance - Random Forest (RF) Model\")"
   ]
  },
  {
   "cell_type": "markdown",
   "metadata": {},
   "source": [
    "## V Selecting best model\n",
    " \n",
    "I have considered nonlinear (CART, C5 BOOSTED TREE, SVM, KNN, and RF) algorithms. I reset the random number seed before each run to ensure that the evaluation of each algorithm is performed using exactly the same data splits. It ensures the results are directly comparable. \n",
    " \n",
    "We now have 5 models and we need to compare them to each other and select the one with better ROC metric performance.\n",
    "\n",
    "The k-fold cross-validation method for the metrics was set in k=10. The following table presents the ROC metric measures across the 5 models."
   ]
  },
  {
   "cell_type": "code",
   "execution_count": 77,
   "metadata": {},
   "outputs": [
    {
     "data": {
      "text/html": [
       "<table>\n",
       "<thead><tr><th></th><th scope=col>ROC</th><th scope=col>Sensitivity</th><th scope=col>Specificity</th><th scope=col>Sd(ROC)</th><th scope=col>Sd(Sensitivity)</th><th scope=col>Sd(Specificity)</th></tr></thead>\n",
       "<tbody>\n",
       "\t<tr><th scope=row>CART</th><td>0.975992</td><td>0.9926  </td><td>0.9403  </td><td>0.0095  </td><td>0.0057  </td><td>0.0211  </td></tr>\n",
       "\t<tr><th scope=row>c5Boost</th><td>0.996315</td><td>0.9970  </td><td>0.9710  </td><td>0.0053  </td><td>0.0037  </td><td>0.0176  </td></tr>\n",
       "\t<tr><th scope=row>SVM</th><td>0.994798</td><td>0.9983  </td><td>0.9765  </td><td>0.0093  </td><td>0.0024  </td><td>0.0149  </td></tr>\n",
       "\t<tr><th scope=row>KNN</th><td>0.995638</td><td>0.9976  </td><td>0.9693  </td><td>0.0052  </td><td>0.0023  </td><td>0.0171  </td></tr>\n",
       "\t<tr><th scope=row>RF</th><td>0.997274</td><td>0.9987  </td><td>0.9674  </td><td>0.0047  </td><td>0.0023  </td><td>0.0238  </td></tr>\n",
       "</tbody>\n",
       "</table>\n"
      ],
      "text/latex": [
       "\\begin{tabular}{r|llllll}\n",
       "  & ROC & Sensitivity & Specificity & Sd(ROC) & Sd(Sensitivity) & Sd(Specificity)\\\\\n",
       "\\hline\n",
       "\tCART & 0.975992 & 0.9926   & 0.9403   & 0.0095   & 0.0057   & 0.0211  \\\\\n",
       "\tc5Boost & 0.996315 & 0.9970   & 0.9710   & 0.0053   & 0.0037   & 0.0176  \\\\\n",
       "\tSVM & 0.994798 & 0.9983   & 0.9765   & 0.0093   & 0.0024   & 0.0149  \\\\\n",
       "\tKNN & 0.995638 & 0.9976   & 0.9693   & 0.0052   & 0.0023   & 0.0171  \\\\\n",
       "\tRF & 0.997274 & 0.9987   & 0.9674   & 0.0047   & 0.0023   & 0.0238  \\\\\n",
       "\\end{tabular}\n"
      ],
      "text/markdown": [
       "\n",
       "| <!--/--> | ROC | Sensitivity | Specificity | Sd(ROC) | Sd(Sensitivity) | Sd(Specificity) | \n",
       "|---|---|---|---|---|\n",
       "| CART | 0.975992 | 0.9926   | 0.9403   | 0.0095   | 0.0057   | 0.0211   | \n",
       "| c5Boost | 0.996315 | 0.9970   | 0.9710   | 0.0053   | 0.0037   | 0.0176   | \n",
       "| SVM | 0.994798 | 0.9983   | 0.9765   | 0.0093   | 0.0024   | 0.0149   | \n",
       "| KNN | 0.995638 | 0.9976   | 0.9693   | 0.0052   | 0.0023   | 0.0171   | \n",
       "| RF | 0.997274 | 0.9987   | 0.9674   | 0.0047   | 0.0023   | 0.0238   | \n",
       "\n",
       "\n"
      ],
      "text/plain": [
       "        ROC      Sensitivity Specificity Sd(ROC) Sd(Sensitivity)\n",
       "CART    0.975992 0.9926      0.9403      0.0095  0.0057         \n",
       "c5Boost 0.996315 0.9970      0.9710      0.0053  0.0037         \n",
       "SVM     0.994798 0.9983      0.9765      0.0093  0.0024         \n",
       "KNN     0.995638 0.9976      0.9693      0.0052  0.0023         \n",
       "RF      0.997274 0.9987      0.9674      0.0047  0.0023         \n",
       "        Sd(Specificity)\n",
       "CART    0.0211         \n",
       "c5Boost 0.0176         \n",
       "SVM     0.0149         \n",
       "KNN     0.0171         \n",
       "RF      0.0238         "
      ]
     },
     "metadata": {},
     "output_type": "display_data"
    }
   ],
   "source": [
    "#create comparative table ROC metrics each model\n",
    "cvmetric1 <- c(round(mean(rpartTune$resample$ROC),6), round(mean(rpartTune$resample$Sens),4),round(mean(rpartTune$resample$Spec),4),round(sd(rpartTune$resample$ROC),4),round(sd(rpartTune$resample$Sens),4),round(sd(rpartTune$resample$Spec),4))\n",
    "\n",
    "cvmetric2 <- c(round(mean(c5Tune$resample$ROC),6), round(mean(c5Tune$resample$Sens),4),round(mean(c5Tune$resample$Spec),4),round(sd(c5Tune$resample$ROC),4),round(sd(c5Tune$resample$Sens),4),round(sd(c5Tune$resample$Spec),4))\n",
    "\n",
    "cvmetric3 <- c(round(mean(svmTune$resample$ROC),6), round(mean(svmTune$resample$Sens),4),round(mean(svmTune$resample$Spec),4),round(sd(svmTune$resample$ROC),4),round(sd(svmTune$resample$Sens),4),round(sd(svmTune$resample$Spec),4))\n",
    "\n",
    "cvmetric4 <- c(round(mean(knnTune$resample$ROC),6), round(mean(knnTune$resample$Sens),4),round(mean(knnTune$resample$Spec),4),round(sd(knnTune$resample$ROC),4),round(sd(knnTune$resample$Sens),4),round(sd(knnTune$resample$Spec),4))\n",
    "\n",
    "cvmetric5 <- c(round(mean(rfTune$resample$ROC),6), round(mean(rfTune$resample$Sens),4),round(mean(rfTune$resample$Spec),4),round(sd(rfTune$resample$ROC),4),round(sd(rfTune$resample$Sens),4),round(sd(rfTune$resample$Spec),4))\n",
    "\n",
    "allcvmetrics <- rbind(CART=cvmetric1, c5Boost=cvmetric2, SVM=cvmetric3, KNN=cvmetric4, RF=cvmetric5) \n",
    "\n",
    "colnames(allcvmetrics) <- c(\"ROC\",\"Sensitivity\",\"Specificity\",\"Sd(ROC)\",\"Sd(Sensitivity)\",\"Sd(Specificity)\")\n",
    "(allcvmetrics)\n"
   ]
  },
  {
   "cell_type": "markdown",
   "metadata": {
    "collapsed": true
   },
   "source": [
    "As a general appreciation, all models have very good ROC scores, but the best one corresponds to RF (0.997274).\n",
    "\n",
    "The following graph presents the ROC curves of each model got it through the testing dataset. So we can see the different ROC's shapes and which of the models has a bigger AUC associated metric. In our case, all models are under RF curve meaning that RF's model performs better even in the testing dataset too.\n"
   ]
  },
  {
   "cell_type": "code",
   "execution_count": 80,
   "metadata": {},
   "outputs": [
    {
     "data": {
      "image/png": "[encoded data removed]",
      "text/plain": [
       "Plot with title \"CART, C5.0, SVM, KNN and RF Models ROC curve\""
      ]
     },
     "metadata": {},
     "output_type": "display_data"
    }
   ],
   "source": [
    "## Creating the ROC Curve\n",
    "library(pROC)\n",
    "rpartROC <- roc(predictor = rpartProbs$white, response = testing$Class, levels = rev(levels(testing$Class)))\n",
    "c5ROC <- roc(predictor = c5Probs$white, response = testing$Class, levels = rev(levels(testing$Class)))\n",
    "svmROC <- roc(predictor = svmProbs$white, response = testing$Class, levels = rev(levels(testing$Class)))\n",
    "knnROC <- roc(predictor = knnProbs$white, response = testing$Class, levels = rev(levels(testing$Class)))\n",
    "rfROC <- roc(predictor = rfProbs$white, response = testing$Class, levels = rev(levels(testing$Class)))\n",
    "\n",
    "\n",
    "plot(rpartROC, type = \"S\", main=\"CART, C5.0, SVM, KNN and RF Models ROC curve\")\n",
    "plot(c5ROC, add = TRUE,  col = \"cyan\")\n",
    "plot(svmROC, add = TRUE, col = \"red\")\n",
    "plot(knnROC, add = TRUE, col = \"yellow\")\n",
    "plot(rfROC, add = TRUE, print.thres = .5, col = \"blue\", print.auc=TRUE)\n",
    "legend(\"bottomright\", legend = c(\"CART\", \"C5.0\", \"SVM\", \"KNN\", \"RF\"), col = c(\"black\", \"cyan\", \"red\", \"yellow\", \"blue\"),lwd = 2)"
   ]
  },
  {
   "cell_type": "markdown",
   "metadata": {},
   "source": [
    "## VI Making predictions\n",
    " \n",
    "The RF algorithm was chosen as the best model that we tested. Now we want to get the predictions from the model on our training dataset."
   ]
  },
  {
   "cell_type": "code",
   "execution_count": 81,
   "metadata": {},
   "outputs": [
    {
     "data": {
      "text/html": [
       "<table>\n",
       "<thead><tr><th></th><th scope=col>white</th><th scope=col>red</th></tr></thead>\n",
       "<tbody>\n",
       "\t<tr><th scope=row>2</th><td>0.981</td><td>0.019</td></tr>\n",
       "\t<tr><th scope=row>4</th><td>0.999</td><td>0.001</td></tr>\n",
       "\t<tr><th scope=row>5</th><td>0.999</td><td>0.001</td></tr>\n",
       "\t<tr><th scope=row>6</th><td>0.994</td><td>0.006</td></tr>\n",
       "\t<tr><th scope=row>9</th><td>0.981</td><td>0.019</td></tr>\n",
       "\t<tr><th scope=row>10</th><td>0.994</td><td>0.006</td></tr>\n",
       "\t<tr><th scope=row>16</th><td>0.996</td><td>0.004</td></tr>\n",
       "\t<tr><th scope=row>25</th><td>0.993</td><td>0.007</td></tr>\n",
       "\t<tr><th scope=row>27</th><td>0.997</td><td>0.003</td></tr>\n",
       "\t<tr><th scope=row>28</th><td>0.993</td><td>0.007</td></tr>\n",
       "\t<tr><th scope=row>33</th><td>0.995</td><td>0.005</td></tr>\n",
       "\t<tr><th scope=row>38</th><td>0.999</td><td>0.001</td></tr>\n",
       "\t<tr><th scope=row>47</th><td>0.923</td><td>0.077</td></tr>\n",
       "\t<tr><th scope=row>52</th><td>0.750</td><td>0.250</td></tr>\n",
       "\t<tr><th scope=row>61</th><td>0.971</td><td>0.029</td></tr>\n",
       "\t<tr><th scope=row>62</th><td>0.998</td><td>0.002</td></tr>\n",
       "\t<tr><th scope=row>65</th><td>0.999</td><td>0.001</td></tr>\n",
       "\t<tr><th scope=row>70</th><td>0.999</td><td>0.001</td></tr>\n",
       "\t<tr><th scope=row>71</th><td>1.000</td><td>0.000</td></tr>\n",
       "\t<tr><th scope=row>76</th><td>0.999</td><td>0.001</td></tr>\n",
       "\t<tr><th scope=row>82</th><td>0.999</td><td>0.001</td></tr>\n",
       "\t<tr><th scope=row>84</th><td>0.996</td><td>0.004</td></tr>\n",
       "\t<tr><th scope=row>101</th><td>1.000</td><td>0.000</td></tr>\n",
       "\t<tr><th scope=row>102</th><td>0.999</td><td>0.001</td></tr>\n",
       "\t<tr><th scope=row>109</th><td>0.998</td><td>0.002</td></tr>\n",
       "\t<tr><th scope=row>110</th><td>0.982</td><td>0.018</td></tr>\n",
       "\t<tr><th scope=row>113</th><td>1.000</td><td>0.000</td></tr>\n",
       "\t<tr><th scope=row>116</th><td>0.605</td><td>0.395</td></tr>\n",
       "\t<tr><th scope=row>117</th><td>0.996</td><td>0.004</td></tr>\n",
       "\t<tr><th scope=row>119</th><td>1.000</td><td>0.000</td></tr>\n",
       "\t<tr><th scope=row>...</th><td>...</td><td>...</td></tr>\n",
       "\t<tr><th scope=row>6288</th><td>0.397</td><td>0.603</td></tr>\n",
       "\t<tr><th scope=row>6290</th><td>0.023</td><td>0.977</td></tr>\n",
       "\t<tr><th scope=row>6324</th><td>0.067</td><td>0.933</td></tr>\n",
       "\t<tr><th scope=row>6337</th><td>0.192</td><td>0.808</td></tr>\n",
       "\t<tr><th scope=row>6341</th><td>0.004</td><td>0.996</td></tr>\n",
       "\t<tr><th scope=row>6345</th><td>0.004</td><td>0.996</td></tr>\n",
       "\t<tr><th scope=row>6350</th><td>0.086</td><td>0.914</td></tr>\n",
       "\t<tr><th scope=row>6357</th><td>0.096</td><td>0.904</td></tr>\n",
       "\t<tr><th scope=row>6359</th><td>0.347</td><td>0.653</td></tr>\n",
       "\t<tr><th scope=row>6362</th><td>0.022</td><td>0.978</td></tr>\n",
       "\t<tr><th scope=row>6364</th><td>0.013</td><td>0.987</td></tr>\n",
       "\t<tr><th scope=row>6365</th><td>0.102</td><td>0.898</td></tr>\n",
       "\t<tr><th scope=row>6371</th><td>0.028</td><td>0.972</td></tr>\n",
       "\t<tr><th scope=row>6386</th><td>0.034</td><td>0.966</td></tr>\n",
       "\t<tr><th scope=row>6392</th><td>0.079</td><td>0.921</td></tr>\n",
       "\t<tr><th scope=row>6412</th><td>0.087</td><td>0.913</td></tr>\n",
       "\t<tr><th scope=row>6422</th><td>0.081</td><td>0.919</td></tr>\n",
       "\t<tr><th scope=row>6423</th><td>0.080</td><td>0.920</td></tr>\n",
       "\t<tr><th scope=row>6431</th><td>0.218</td><td>0.782</td></tr>\n",
       "\t<tr><th scope=row>6432</th><td>0.115</td><td>0.885</td></tr>\n",
       "\t<tr><th scope=row>6433</th><td>0.089</td><td>0.911</td></tr>\n",
       "\t<tr><th scope=row>6434</th><td>0.008</td><td>0.992</td></tr>\n",
       "\t<tr><th scope=row>6436</th><td>0.147</td><td>0.853</td></tr>\n",
       "\t<tr><th scope=row>6437</th><td>0.014</td><td>0.986</td></tr>\n",
       "\t<tr><th scope=row>6454</th><td>0.071</td><td>0.929</td></tr>\n",
       "\t<tr><th scope=row>6468</th><td>0.131</td><td>0.869</td></tr>\n",
       "\t<tr><th scope=row>6474</th><td>0.144</td><td>0.856</td></tr>\n",
       "\t<tr><th scope=row>6478</th><td>0.037</td><td>0.963</td></tr>\n",
       "\t<tr><th scope=row>6495</th><td>0.009</td><td>0.991</td></tr>\n",
       "\t<tr><th scope=row>6497</th><td>0.260</td><td>0.740</td></tr>\n",
       "</tbody>\n",
       "</table>\n"
      ],
      "text/latex": [
       "\\begin{tabular}{r|ll}\n",
       "  & white & red\\\\\n",
       "\\hline\n",
       "\t2 & 0.981 & 0.019\\\\\n",
       "\t4 & 0.999 & 0.001\\\\\n",
       "\t5 & 0.999 & 0.001\\\\\n",
       "\t6 & 0.994 & 0.006\\\\\n",
       "\t9 & 0.981 & 0.019\\\\\n",
       "\t10 & 0.994 & 0.006\\\\\n",
       "\t16 & 0.996 & 0.004\\\\\n",
       "\t25 & 0.993 & 0.007\\\\\n",
       "\t27 & 0.997 & 0.003\\\\\n",
       "\t28 & 0.993 & 0.007\\\\\n",
       "\t33 & 0.995 & 0.005\\\\\n",
       "\t38 & 0.999 & 0.001\\\\\n",
       "\t47 & 0.923 & 0.077\\\\\n",
       "\t52 & 0.750 & 0.250\\\\\n",
       "\t61 & 0.971 & 0.029\\\\\n",
       "\t62 & 0.998 & 0.002\\\\\n",
       "\t65 & 0.999 & 0.001\\\\\n",
       "\t70 & 0.999 & 0.001\\\\\n",
       "\t71 & 1.000 & 0.000\\\\\n",
       "\t76 & 0.999 & 0.001\\\\\n",
       "\t82 & 0.999 & 0.001\\\\\n",
       "\t84 & 0.996 & 0.004\\\\\n",
       "\t101 & 1.000 & 0.000\\\\\n",
       "\t102 & 0.999 & 0.001\\\\\n",
       "\t109 & 0.998 & 0.002\\\\\n",
       "\t110 & 0.982 & 0.018\\\\\n",
       "\t113 & 1.000 & 0.000\\\\\n",
       "\t116 & 0.605 & 0.395\\\\\n",
       "\t117 & 0.996 & 0.004\\\\\n",
       "\t119 & 1.000 & 0.000\\\\\n",
       "\t... & ... & ...\\\\\n",
       "\t6288 & 0.397 & 0.603\\\\\n",
       "\t6290 & 0.023 & 0.977\\\\\n",
       "\t6324 & 0.067 & 0.933\\\\\n",
       "\t6337 & 0.192 & 0.808\\\\\n",
       "\t6341 & 0.004 & 0.996\\\\\n",
       "\t6345 & 0.004 & 0.996\\\\\n",
       "\t6350 & 0.086 & 0.914\\\\\n",
       "\t6357 & 0.096 & 0.904\\\\\n",
       "\t6359 & 0.347 & 0.653\\\\\n",
       "\t6362 & 0.022 & 0.978\\\\\n",
       "\t6364 & 0.013 & 0.987\\\\\n",
       "\t6365 & 0.102 & 0.898\\\\\n",
       "\t6371 & 0.028 & 0.972\\\\\n",
       "\t6386 & 0.034 & 0.966\\\\\n",
       "\t6392 & 0.079 & 0.921\\\\\n",
       "\t6412 & 0.087 & 0.913\\\\\n",
       "\t6422 & 0.081 & 0.919\\\\\n",
       "\t6423 & 0.080 & 0.920\\\\\n",
       "\t6431 & 0.218 & 0.782\\\\\n",
       "\t6432 & 0.115 & 0.885\\\\\n",
       "\t6433 & 0.089 & 0.911\\\\\n",
       "\t6434 & 0.008 & 0.992\\\\\n",
       "\t6436 & 0.147 & 0.853\\\\\n",
       "\t6437 & 0.014 & 0.986\\\\\n",
       "\t6454 & 0.071 & 0.929\\\\\n",
       "\t6468 & 0.131 & 0.869\\\\\n",
       "\t6474 & 0.144 & 0.856\\\\\n",
       "\t6478 & 0.037 & 0.963\\\\\n",
       "\t6495 & 0.009 & 0.991\\\\\n",
       "\t6497 & 0.260 & 0.740\\\\\n",
       "\\end{tabular}\n"
      ],
      "text/markdown": [
       "\n",
       "| <!--/--> | white | red | \n",
       "|---|---|---|---|---|---|---|---|---|---|---|---|---|---|---|---|---|---|---|---|---|---|---|---|---|---|---|---|---|---|---|---|---|---|---|---|---|---|---|---|---|---|---|---|---|---|---|---|---|---|---|---|---|---|---|---|---|---|---|---|---|\n",
       "| 2 | 0.981 | 0.019 | \n",
       "| 4 | 0.999 | 0.001 | \n",
       "| 5 | 0.999 | 0.001 | \n",
       "| 6 | 0.994 | 0.006 | \n",
       "| 9 | 0.981 | 0.019 | \n",
       "| 10 | 0.994 | 0.006 | \n",
       "| 16 | 0.996 | 0.004 | \n",
       "| 25 | 0.993 | 0.007 | \n",
       "| 27 | 0.997 | 0.003 | \n",
       "| 28 | 0.993 | 0.007 | \n",
       "| 33 | 0.995 | 0.005 | \n",
       "| 38 | 0.999 | 0.001 | \n",
       "| 47 | 0.923 | 0.077 | \n",
       "| 52 | 0.750 | 0.250 | \n",
       "| 61 | 0.971 | 0.029 | \n",
       "| 62 | 0.998 | 0.002 | \n",
       "| 65 | 0.999 | 0.001 | \n",
       "| 70 | 0.999 | 0.001 | \n",
       "| 71 | 1.000 | 0.000 | \n",
       "| 76 | 0.999 | 0.001 | \n",
       "| 82 | 0.999 | 0.001 | \n",
       "| 84 | 0.996 | 0.004 | \n",
       "| 101 | 1.000 | 0.000 | \n",
       "| 102 | 0.999 | 0.001 | \n",
       "| 109 | 0.998 | 0.002 | \n",
       "| 110 | 0.982 | 0.018 | \n",
       "| 113 | 1.000 | 0.000 | \n",
       "| 116 | 0.605 | 0.395 | \n",
       "| 117 | 0.996 | 0.004 | \n",
       "| 119 | 1.000 | 0.000 | \n",
       "| ... | ... | ... | \n",
       "| 6288 | 0.397 | 0.603 | \n",
       "| 6290 | 0.023 | 0.977 | \n",
       "| 6324 | 0.067 | 0.933 | \n",
       "| 6337 | 0.192 | 0.808 | \n",
       "| 6341 | 0.004 | 0.996 | \n",
       "| 6345 | 0.004 | 0.996 | \n",
       "| 6350 | 0.086 | 0.914 | \n",
       "| 6357 | 0.096 | 0.904 | \n",
       "| 6359 | 0.347 | 0.653 | \n",
       "| 6362 | 0.022 | 0.978 | \n",
       "| 6364 | 0.013 | 0.987 | \n",
       "| 6365 | 0.102 | 0.898 | \n",
       "| 6371 | 0.028 | 0.972 | \n",
       "| 6386 | 0.034 | 0.966 | \n",
       "| 6392 | 0.079 | 0.921 | \n",
       "| 6412 | 0.087 | 0.913 | \n",
       "| 6422 | 0.081 | 0.919 | \n",
       "| 6423 | 0.080 | 0.920 | \n",
       "| 6431 | 0.218 | 0.782 | \n",
       "| 6432 | 0.115 | 0.885 | \n",
       "| 6433 | 0.089 | 0.911 | \n",
       "| 6434 | 0.008 | 0.992 | \n",
       "| 6436 | 0.147 | 0.853 | \n",
       "| 6437 | 0.014 | 0.986 | \n",
       "| 6454 | 0.071 | 0.929 | \n",
       "| 6468 | 0.131 | 0.869 | \n",
       "| 6474 | 0.144 | 0.856 | \n",
       "| 6478 | 0.037 | 0.963 | \n",
       "| 6495 | 0.009 | 0.991 | \n",
       "| 6497 | 0.260 | 0.740 | \n",
       "\n",
       "\n"
      ],
      "text/plain": [
       "     white red  \n",
       "2    0.981 0.019\n",
       "4    0.999 0.001\n",
       "5    0.999 0.001\n",
       "6    0.994 0.006\n",
       "9    0.981 0.019\n",
       "10   0.994 0.006\n",
       "16   0.996 0.004\n",
       "25   0.993 0.007\n",
       "27   0.997 0.003\n",
       "28   0.993 0.007\n",
       "33   0.995 0.005\n",
       "38   0.999 0.001\n",
       "47   0.923 0.077\n",
       "52   0.750 0.250\n",
       "61   0.971 0.029\n",
       "62   0.998 0.002\n",
       "65   0.999 0.001\n",
       "70   0.999 0.001\n",
       "71   1.000 0.000\n",
       "76   0.999 0.001\n",
       "82   0.999 0.001\n",
       "84   0.996 0.004\n",
       "101  1.000 0.000\n",
       "102  0.999 0.001\n",
       "109  0.998 0.002\n",
       "110  0.982 0.018\n",
       "113  1.000 0.000\n",
       "116  0.605 0.395\n",
       "117  0.996 0.004\n",
       "119  1.000 0.000\n",
       "...  ...   ...  \n",
       "6288 0.397 0.603\n",
       "6290 0.023 0.977\n",
       "6324 0.067 0.933\n",
       "6337 0.192 0.808\n",
       "6341 0.004 0.996\n",
       "6345 0.004 0.996\n",
       "6350 0.086 0.914\n",
       "6357 0.096 0.904\n",
       "6359 0.347 0.653\n",
       "6362 0.022 0.978\n",
       "6364 0.013 0.987\n",
       "6365 0.102 0.898\n",
       "6371 0.028 0.972\n",
       "6386 0.034 0.966\n",
       "6392 0.079 0.921\n",
       "6412 0.087 0.913\n",
       "6422 0.081 0.919\n",
       "6423 0.080 0.920\n",
       "6431 0.218 0.782\n",
       "6432 0.115 0.885\n",
       "6433 0.089 0.911\n",
       "6434 0.008 0.992\n",
       "6436 0.147 0.853\n",
       "6437 0.014 0.986\n",
       "6454 0.071 0.929\n",
       "6468 0.131 0.869\n",
       "6474 0.144 0.856\n",
       "6478 0.037 0.963\n",
       "6495 0.009 0.991\n",
       "6497 0.260 0.740"
      ]
     },
     "metadata": {},
     "output_type": "display_data"
    }
   ],
   "source": [
    "# print predictions probabilities by row\n",
    "as.data.frame(rfProbs)"
   ]
  },
  {
   "cell_type": "code",
   "execution_count": 82,
   "metadata": {},
   "outputs": [
    {
     "data": {
      "text/html": [
       "<table>\n",
       "<thead><tr><th scope=col>fixed.acidity</th><th scope=col>volatile.acidity</th><th scope=col>citric.acid</th><th scope=col>residual.sugar</th><th scope=col>chlorides</th><th scope=col>total.sulfur.dioxide</th><th scope=col>pH</th><th scope=col>sulphates</th><th scope=col>alcohol</th><th scope=col>quality</th><th scope=col>Class</th><th scope=col>rfPred</th></tr></thead>\n",
       "<tbody>\n",
       "\t<tr><td>6.3  </td><td>0.300</td><td>0.34 </td><td> 1.60</td><td>0.049</td><td>132  </td><td>3.30 </td><td>0.49 </td><td> 9.5 </td><td>6    </td><td>white</td><td>white</td></tr>\n",
       "\t<tr><td>7.2  </td><td>0.230</td><td>0.32 </td><td> 8.50</td><td>0.058</td><td>186  </td><td>3.19 </td><td>0.40 </td><td> 9.9 </td><td>6    </td><td>white</td><td>white</td></tr>\n",
       "\t<tr><td>7.2  </td><td>0.230</td><td>0.32 </td><td> 8.50</td><td>0.058</td><td>186  </td><td>3.19 </td><td>0.40 </td><td> 9.9 </td><td>6    </td><td>white</td><td>white</td></tr>\n",
       "\t<tr><td>8.1  </td><td>0.280</td><td>0.40 </td><td> 6.90</td><td>0.050</td><td> 97  </td><td>3.26 </td><td>0.44 </td><td>10.1 </td><td>6    </td><td>white</td><td>white</td></tr>\n",
       "\t<tr><td>6.3  </td><td>0.300</td><td>0.34 </td><td> 1.60</td><td>0.049</td><td>132  </td><td>3.30 </td><td>0.49 </td><td> 9.5 </td><td>6    </td><td>white</td><td>white</td></tr>\n",
       "\t<tr><td>8.1  </td><td>0.220</td><td>0.43 </td><td> 1.50</td><td>0.044</td><td>129  </td><td>3.22 </td><td>0.45 </td><td>11.0 </td><td>6    </td><td>white</td><td>white</td></tr>\n",
       "\t<tr><td>6.6  </td><td>0.170</td><td>0.38 </td><td> 1.50</td><td>0.032</td><td>112  </td><td>3.25 </td><td>0.55 </td><td>11.4 </td><td>7    </td><td>white</td><td>white</td></tr>\n",
       "\t<tr><td>6.6  </td><td>0.270</td><td>0.41 </td><td> 1.30</td><td>0.052</td><td>142  </td><td>3.42 </td><td>0.47 </td><td>10.0 </td><td>6    </td><td>white</td><td>white</td></tr>\n",
       "\t<tr><td>6.9  </td><td>0.240</td><td>0.35 </td><td> 1.00</td><td>0.052</td><td>146  </td><td>3.45 </td><td>0.44 </td><td>10.0 </td><td>6    </td><td>white</td><td>white</td></tr>\n",
       "\t<tr><td>7.0  </td><td>0.280</td><td>0.39 </td><td> 8.70</td><td>0.051</td><td>141  </td><td>3.38 </td><td>0.53 </td><td>10.5 </td><td>6    </td><td>white</td><td>white</td></tr>\n",
       "\t<tr><td>7.4  </td><td>0.250</td><td>0.36 </td><td> 2.05</td><td>0.050</td><td>100  </td><td>3.19 </td><td>0.44 </td><td>10.8 </td><td>6    </td><td>white</td><td>white</td></tr>\n",
       "\t<tr><td>7.0  </td><td>0.330</td><td>0.32 </td><td> 1.20</td><td>0.053</td><td>138  </td><td>3.13 </td><td>0.28 </td><td>11.2 </td><td>6    </td><td>white</td><td>white</td></tr>\n",
       "\t<tr><td>6.2  </td><td>0.450</td><td>0.26 </td><td> 4.40</td><td>0.063</td><td>206  </td><td>3.27 </td><td>0.52 </td><td> 9.8 </td><td>4    </td><td>white</td><td>white</td></tr>\n",
       "\t<tr><td>6.6  </td><td>0.250</td><td>0.29 </td><td> 1.10</td><td>0.068</td><td>124  </td><td>3.34 </td><td>0.58 </td><td>11.0 </td><td>7    </td><td>white</td><td>white</td></tr>\n",
       "\t<tr><td>6.8  </td><td>0.220</td><td>0.24 </td><td> 4.90</td><td>0.092</td><td>123  </td><td>3.03 </td><td>0.46 </td><td> 8.6 </td><td>6    </td><td>white</td><td>white</td></tr>\n",
       "\t<tr><td>6.0  </td><td>0.190</td><td>0.26 </td><td>12.40</td><td>0.048</td><td>147  </td><td>3.30 </td><td>0.36 </td><td> 8.9 </td><td>6    </td><td>white</td><td>white</td></tr>\n",
       "\t<tr><td>7.2  </td><td>0.240</td><td>0.27 </td><td> 1.40</td><td>0.038</td><td>122  </td><td>3.15 </td><td>0.46 </td><td>10.3 </td><td>6    </td><td>white</td><td>white</td></tr>\n",
       "\t<tr><td>7.4  </td><td>0.240</td><td>0.29 </td><td>10.10</td><td>0.050</td><td>105  </td><td>3.13 </td><td>0.35 </td><td> 9.5 </td><td>5    </td><td>white</td><td>white</td></tr>\n",
       "\t<tr><td>6.2  </td><td>0.270</td><td>0.43 </td><td> 7.80</td><td>0.056</td><td>244  </td><td>3.10 </td><td>0.51 </td><td> 9.0 </td><td>6    </td><td>white</td><td>white</td></tr>\n",
       "\t<tr><td>7.4  </td><td>0.240</td><td>0.29 </td><td>10.10</td><td>0.050</td><td>105  </td><td>3.13 </td><td>0.35 </td><td> 9.5 </td><td>5    </td><td>white</td><td>white</td></tr>\n",
       "\t<tr><td>7.1  </td><td>0.200</td><td>0.34 </td><td>16.00</td><td>0.050</td><td>166  </td><td>3.21 </td><td>0.60 </td><td> 9.2 </td><td>6    </td><td>white</td><td>white</td></tr>\n",
       "\t<tr><td>7.3  </td><td>0.220</td><td>0.30 </td><td> 8.20</td><td>0.047</td><td>207  </td><td>3.33 </td><td>0.46 </td><td> 9.5 </td><td>6    </td><td>white</td><td>white</td></tr>\n",
       "\t<tr><td>7.4  </td><td>0.250</td><td>0.37 </td><td>13.50</td><td>0.060</td><td>192  </td><td>3.00 </td><td>0.44 </td><td> 9.1 </td><td>5    </td><td>white</td><td>white</td></tr>\n",
       "\t<tr><td>7.1  </td><td>0.120</td><td>0.32 </td><td> 9.60</td><td>0.054</td><td>162  </td><td>3.40 </td><td>0.41 </td><td> 9.4 </td><td>5    </td><td>white</td><td>white</td></tr>\n",
       "\t<tr><td>7.1  </td><td>0.230</td><td>0.35 </td><td>16.50</td><td>0.040</td><td>171  </td><td>3.16 </td><td>0.59 </td><td> 9.1 </td><td>6    </td><td>white</td><td>white</td></tr>\n",
       "\t<tr><td>6.9  </td><td>0.330</td><td>0.28 </td><td> 1.30</td><td>0.051</td><td>187  </td><td>3.27 </td><td>0.60 </td><td>10.3 </td><td>5    </td><td>white</td><td>white</td></tr>\n",
       "\t<tr><td>7.2  </td><td>0.310</td><td>0.50 </td><td>13.30</td><td>0.056</td><td>195  </td><td>3.01 </td><td>0.47 </td><td> 9.2 </td><td>5    </td><td>white</td><td>white</td></tr>\n",
       "\t<tr><td>5.5  </td><td>0.485</td><td>0.00 </td><td> 1.50</td><td>0.065</td><td>103  </td><td>3.63 </td><td>0.40 </td><td> 9.7 </td><td>4    </td><td>white</td><td>white</td></tr>\n",
       "\t<tr><td>6.0  </td><td>0.310</td><td>0.24 </td><td> 3.30</td><td>0.041</td><td>143  </td><td>3.31 </td><td>0.44 </td><td>11.3 </td><td>6    </td><td>white</td><td>white</td></tr>\n",
       "\t<tr><td>7.2  </td><td>0.310</td><td>0.50 </td><td>13.30</td><td>0.056</td><td>195  </td><td>3.01 </td><td>0.47 </td><td> 9.2 </td><td>5    </td><td>white</td><td>white</td></tr>\n",
       "\t<tr><td>...</td><td>...</td><td>...</td><td>...</td><td>...</td><td>...</td><td>...</td><td>...</td><td>...</td><td>...</td><td>...</td><td>...</td></tr>\n",
       "\t<tr><td>6.7  </td><td>0.48 </td><td>0.02 </td><td>2.2  </td><td>0.080</td><td>111  </td><td>3.10 </td><td>0.53 </td><td> 9.70</td><td>5    </td><td>red  </td><td>red  </td></tr>\n",
       "\t<tr><td>8.0  </td><td>0.64 </td><td>0.22 </td><td>2.4  </td><td>0.094</td><td> 33  </td><td>3.37 </td><td>0.58 </td><td>11.00</td><td>5    </td><td>red  </td><td>red  </td></tr>\n",
       "\t<tr><td>8.3  </td><td>0.26 </td><td>0.37 </td><td>1.4  </td><td>0.076</td><td> 23  </td><td>3.26 </td><td>0.70 </td><td> 9.60</td><td>6    </td><td>red  </td><td>red  </td></tr>\n",
       "\t<tr><td>7.0  </td><td>0.59 </td><td>0.00 </td><td>1.7  </td><td>0.052</td><td>  8  </td><td>3.41 </td><td>0.47 </td><td>10.30</td><td>5    </td><td>red  </td><td>red  </td></tr>\n",
       "\t<tr><td>6.9  </td><td>0.63 </td><td>0.02 </td><td>1.9  </td><td>0.078</td><td> 30  </td><td>3.40 </td><td>0.75 </td><td> 9.80</td><td>5    </td><td>red  </td><td>red  </td></tr>\n",
       "\t<tr><td>6.9  </td><td>0.63 </td><td>0.02 </td><td>1.9  </td><td>0.078</td><td> 30  </td><td>3.40 </td><td>0.75 </td><td> 9.80</td><td>5    </td><td>red  </td><td>red  </td></tr>\n",
       "\t<tr><td>7.8  </td><td>0.32 </td><td>0.44 </td><td>2.7  </td><td>0.104</td><td> 17  </td><td>3.33 </td><td>0.78 </td><td>11.00</td><td>7    </td><td>red  </td><td>red  </td></tr>\n",
       "\t<tr><td>8.4  </td><td>0.29 </td><td>0.40 </td><td>1.7  </td><td>0.067</td><td> 20  </td><td>3.39 </td><td>0.60 </td><td>10.50</td><td>5    </td><td>red  </td><td>red  </td></tr>\n",
       "\t<tr><td>6.4  </td><td>0.42 </td><td>0.09 </td><td>2.3  </td><td>0.054</td><td> 64  </td><td>3.41 </td><td>0.68 </td><td>10.40</td><td>6    </td><td>red  </td><td>red  </td></tr>\n",
       "\t<tr><td>6.9  </td><td>0.63 </td><td>0.01 </td><td>2.4  </td><td>0.076</td><td> 39  </td><td>3.34 </td><td>0.53 </td><td>10.80</td><td>6    </td><td>red  </td><td>red  </td></tr>\n",
       "\t<tr><td>6.8  </td><td>0.59 </td><td>0.10 </td><td>1.7  </td><td>0.063</td><td> 53  </td><td>3.41 </td><td>0.67 </td><td> 9.70</td><td>5    </td><td>red  </td><td>red  </td></tr>\n",
       "\t<tr><td>7.3  </td><td>0.48 </td><td>0.32 </td><td>2.1  </td><td>0.062</td><td> 54  </td><td>3.30 </td><td>0.65 </td><td>10.00</td><td>7    </td><td>red  </td><td>red  </td></tr>\n",
       "\t<tr><td>7.6  </td><td>0.35 </td><td>0.60 </td><td>2.6  </td><td>0.073</td><td> 44  </td><td>3.38 </td><td>0.79 </td><td>11.10</td><td>6    </td><td>red  </td><td>red  </td></tr>\n",
       "\t<tr><td>6.0  </td><td>0.64 </td><td>0.05 </td><td>1.9  </td><td>0.066</td><td> 17  </td><td>3.52 </td><td>0.78 </td><td>10.60</td><td>5    </td><td>red  </td><td>red  </td></tr>\n",
       "\t<tr><td>7.7  </td><td>0.54 </td><td>0.26 </td><td>1.9  </td><td>0.089</td><td>147  </td><td>3.26 </td><td>0.59 </td><td> 9.70</td><td>5    </td><td>red  </td><td>red  </td></tr>\n",
       "\t<tr><td>6.4  </td><td>0.56 </td><td>0.15 </td><td>1.8  </td><td>0.078</td><td> 65  </td><td>3.33 </td><td>0.60 </td><td>10.50</td><td>6    </td><td>red  </td><td>red  </td></tr>\n",
       "\t<tr><td>6.8  </td><td>0.48 </td><td>0.25 </td><td>2.0  </td><td>0.076</td><td> 61  </td><td>3.34 </td><td>0.60 </td><td>10.40</td><td>5    </td><td>red  </td><td>red  </td></tr>\n",
       "\t<tr><td>6.0  </td><td>0.42 </td><td>0.19 </td><td>2.0  </td><td>0.075</td><td> 47  </td><td>3.39 </td><td>0.78 </td><td>10.00</td><td>6    </td><td>red  </td><td>red  </td></tr>\n",
       "\t<tr><td>7.2  </td><td>0.53 </td><td>0.13 </td><td>2.0  </td><td>0.058</td><td> 22  </td><td>3.21 </td><td>0.68 </td><td> 9.90</td><td>6    </td><td>red  </td><td>red  </td></tr>\n",
       "\t<tr><td>8.0  </td><td>0.39 </td><td>0.30 </td><td>1.9  </td><td>0.074</td><td> 84  </td><td>3.39 </td><td>0.61 </td><td> 9.00</td><td>5    </td><td>red  </td><td>red  </td></tr>\n",
       "\t<tr><td>6.6  </td><td>0.56 </td><td>0.14 </td><td>2.4  </td><td>0.064</td><td> 29  </td><td>3.42 </td><td>0.62 </td><td>11.70</td><td>7    </td><td>red  </td><td>red  </td></tr>\n",
       "\t<tr><td>7.0  </td><td>0.55 </td><td>0.13 </td><td>2.2  </td><td>0.075</td><td> 35  </td><td>3.36 </td><td>0.59 </td><td> 9.70</td><td>6    </td><td>red  </td><td>red  </td></tr>\n",
       "\t<tr><td>5.4  </td><td>0.58 </td><td>0.08 </td><td>1.9  </td><td>0.059</td><td> 31  </td><td>3.50 </td><td>0.64 </td><td>10.20</td><td>6    </td><td>red  </td><td>red  </td></tr>\n",
       "\t<tr><td>6.2  </td><td>0.64 </td><td>0.09 </td><td>2.5  </td><td>0.081</td><td> 26  </td><td>3.57 </td><td>0.63 </td><td>12.00</td><td>5    </td><td>red  </td><td>red  </td></tr>\n",
       "\t<tr><td>7.0  </td><td>0.56 </td><td>0.17 </td><td>1.7  </td><td>0.065</td><td> 24  </td><td>3.44 </td><td>0.68 </td><td>10.55</td><td>7    </td><td>red  </td><td>red  </td></tr>\n",
       "\t<tr><td>6.2  </td><td>0.51 </td><td>0.14 </td><td>1.9  </td><td>0.056</td><td> 34  </td><td>3.48 </td><td>0.57 </td><td>11.50</td><td>6    </td><td>red  </td><td>red  </td></tr>\n",
       "\t<tr><td>7.5  </td><td>0.52 </td><td>0.40 </td><td>2.2  </td><td>0.060</td><td> 20  </td><td>3.26 </td><td>0.64 </td><td>11.80</td><td>6    </td><td>red  </td><td>red  </td></tr>\n",
       "\t<tr><td>6.2  </td><td>0.56 </td><td>0.09 </td><td>1.7  </td><td>0.053</td><td> 32  </td><td>3.54 </td><td>0.60 </td><td>11.30</td><td>5    </td><td>red  </td><td>red  </td></tr>\n",
       "\t<tr><td>6.3  </td><td>0.51 </td><td>0.13 </td><td>2.3  </td><td>0.076</td><td> 40  </td><td>3.42 </td><td>0.75 </td><td>11.00</td><td>6    </td><td>red  </td><td>red  </td></tr>\n",
       "\t<tr><td>6.0  </td><td>0.31 </td><td>0.47 </td><td>3.6  </td><td>0.067</td><td> 42  </td><td>3.39 </td><td>0.66 </td><td>11.00</td><td>6    </td><td>red  </td><td>red  </td></tr>\n",
       "</tbody>\n",
       "</table>\n"
      ],
      "text/latex": [
       "\\begin{tabular}{r|llllllllllll}\n",
       " fixed.acidity & volatile.acidity & citric.acid & residual.sugar & chlorides & total.sulfur.dioxide & pH & sulphates & alcohol & quality & Class & rfPred\\\\\n",
       "\\hline\n",
       "\t 6.3   & 0.300 & 0.34  &  1.60 & 0.049 & 132   & 3.30  & 0.49  &  9.5  & 6     & white & white\\\\\n",
       "\t 7.2   & 0.230 & 0.32  &  8.50 & 0.058 & 186   & 3.19  & 0.40  &  9.9  & 6     & white & white\\\\\n",
       "\t 7.2   & 0.230 & 0.32  &  8.50 & 0.058 & 186   & 3.19  & 0.40  &  9.9  & 6     & white & white\\\\\n",
       "\t 8.1   & 0.280 & 0.40  &  6.90 & 0.050 &  97   & 3.26  & 0.44  & 10.1  & 6     & white & white\\\\\n",
       "\t 6.3   & 0.300 & 0.34  &  1.60 & 0.049 & 132   & 3.30  & 0.49  &  9.5  & 6     & white & white\\\\\n",
       "\t 8.1   & 0.220 & 0.43  &  1.50 & 0.044 & 129   & 3.22  & 0.45  & 11.0  & 6     & white & white\\\\\n",
       "\t 6.6   & 0.170 & 0.38  &  1.50 & 0.032 & 112   & 3.25  & 0.55  & 11.4  & 7     & white & white\\\\\n",
       "\t 6.6   & 0.270 & 0.41  &  1.30 & 0.052 & 142   & 3.42  & 0.47  & 10.0  & 6     & white & white\\\\\n",
       "\t 6.9   & 0.240 & 0.35  &  1.00 & 0.052 & 146   & 3.45  & 0.44  & 10.0  & 6     & white & white\\\\\n",
       "\t 7.0   & 0.280 & 0.39  &  8.70 & 0.051 & 141   & 3.38  & 0.53  & 10.5  & 6     & white & white\\\\\n",
       "\t 7.4   & 0.250 & 0.36  &  2.05 & 0.050 & 100   & 3.19  & 0.44  & 10.8  & 6     & white & white\\\\\n",
       "\t 7.0   & 0.330 & 0.32  &  1.20 & 0.053 & 138   & 3.13  & 0.28  & 11.2  & 6     & white & white\\\\\n",
       "\t 6.2   & 0.450 & 0.26  &  4.40 & 0.063 & 206   & 3.27  & 0.52  &  9.8  & 4     & white & white\\\\\n",
       "\t 6.6   & 0.250 & 0.29  &  1.10 & 0.068 & 124   & 3.34  & 0.58  & 11.0  & 7     & white & white\\\\\n",
       "\t 6.8   & 0.220 & 0.24  &  4.90 & 0.092 & 123   & 3.03  & 0.46  &  8.6  & 6     & white & white\\\\\n",
       "\t 6.0   & 0.190 & 0.26  & 12.40 & 0.048 & 147   & 3.30  & 0.36  &  8.9  & 6     & white & white\\\\\n",
       "\t 7.2   & 0.240 & 0.27  &  1.40 & 0.038 & 122   & 3.15  & 0.46  & 10.3  & 6     & white & white\\\\\n",
       "\t 7.4   & 0.240 & 0.29  & 10.10 & 0.050 & 105   & 3.13  & 0.35  &  9.5  & 5     & white & white\\\\\n",
       "\t 6.2   & 0.270 & 0.43  &  7.80 & 0.056 & 244   & 3.10  & 0.51  &  9.0  & 6     & white & white\\\\\n",
       "\t 7.4   & 0.240 & 0.29  & 10.10 & 0.050 & 105   & 3.13  & 0.35  &  9.5  & 5     & white & white\\\\\n",
       "\t 7.1   & 0.200 & 0.34  & 16.00 & 0.050 & 166   & 3.21  & 0.60  &  9.2  & 6     & white & white\\\\\n",
       "\t 7.3   & 0.220 & 0.30  &  8.20 & 0.047 & 207   & 3.33  & 0.46  &  9.5  & 6     & white & white\\\\\n",
       "\t 7.4   & 0.250 & 0.37  & 13.50 & 0.060 & 192   & 3.00  & 0.44  &  9.1  & 5     & white & white\\\\\n",
       "\t 7.1   & 0.120 & 0.32  &  9.60 & 0.054 & 162   & 3.40  & 0.41  &  9.4  & 5     & white & white\\\\\n",
       "\t 7.1   & 0.230 & 0.35  & 16.50 & 0.040 & 171   & 3.16  & 0.59  &  9.1  & 6     & white & white\\\\\n",
       "\t 6.9   & 0.330 & 0.28  &  1.30 & 0.051 & 187   & 3.27  & 0.60  & 10.3  & 5     & white & white\\\\\n",
       "\t 7.2   & 0.310 & 0.50  & 13.30 & 0.056 & 195   & 3.01  & 0.47  &  9.2  & 5     & white & white\\\\\n",
       "\t 5.5   & 0.485 & 0.00  &  1.50 & 0.065 & 103   & 3.63  & 0.40  &  9.7  & 4     & white & white\\\\\n",
       "\t 6.0   & 0.310 & 0.24  &  3.30 & 0.041 & 143   & 3.31  & 0.44  & 11.3  & 6     & white & white\\\\\n",
       "\t 7.2   & 0.310 & 0.50  & 13.30 & 0.056 & 195   & 3.01  & 0.47  &  9.2  & 5     & white & white\\\\\n",
       "\t ... & ... & ... & ... & ... & ... & ... & ... & ... & ... & ... & ...\\\\\n",
       "\t 6.7   & 0.48  & 0.02  & 2.2   & 0.080 & 111   & 3.10  & 0.53  &  9.70 & 5     & red   & red  \\\\\n",
       "\t 8.0   & 0.64  & 0.22  & 2.4   & 0.094 &  33   & 3.37  & 0.58  & 11.00 & 5     & red   & red  \\\\\n",
       "\t 8.3   & 0.26  & 0.37  & 1.4   & 0.076 &  23   & 3.26  & 0.70  &  9.60 & 6     & red   & red  \\\\\n",
       "\t 7.0   & 0.59  & 0.00  & 1.7   & 0.052 &   8   & 3.41  & 0.47  & 10.30 & 5     & red   & red  \\\\\n",
       "\t 6.9   & 0.63  & 0.02  & 1.9   & 0.078 &  30   & 3.40  & 0.75  &  9.80 & 5     & red   & red  \\\\\n",
       "\t 6.9   & 0.63  & 0.02  & 1.9   & 0.078 &  30   & 3.40  & 0.75  &  9.80 & 5     & red   & red  \\\\\n",
       "\t 7.8   & 0.32  & 0.44  & 2.7   & 0.104 &  17   & 3.33  & 0.78  & 11.00 & 7     & red   & red  \\\\\n",
       "\t 8.4   & 0.29  & 0.40  & 1.7   & 0.067 &  20   & 3.39  & 0.60  & 10.50 & 5     & red   & red  \\\\\n",
       "\t 6.4   & 0.42  & 0.09  & 2.3   & 0.054 &  64   & 3.41  & 0.68  & 10.40 & 6     & red   & red  \\\\\n",
       "\t 6.9   & 0.63  & 0.01  & 2.4   & 0.076 &  39   & 3.34  & 0.53  & 10.80 & 6     & red   & red  \\\\\n",
       "\t 6.8   & 0.59  & 0.10  & 1.7   & 0.063 &  53   & 3.41  & 0.67  &  9.70 & 5     & red   & red  \\\\\n",
       "\t 7.3   & 0.48  & 0.32  & 2.1   & 0.062 &  54   & 3.30  & 0.65  & 10.00 & 7     & red   & red  \\\\\n",
       "\t 7.6   & 0.35  & 0.60  & 2.6   & 0.073 &  44   & 3.38  & 0.79  & 11.10 & 6     & red   & red  \\\\\n",
       "\t 6.0   & 0.64  & 0.05  & 1.9   & 0.066 &  17   & 3.52  & 0.78  & 10.60 & 5     & red   & red  \\\\\n",
       "\t 7.7   & 0.54  & 0.26  & 1.9   & 0.089 & 147   & 3.26  & 0.59  &  9.70 & 5     & red   & red  \\\\\n",
       "\t 6.4   & 0.56  & 0.15  & 1.8   & 0.078 &  65   & 3.33  & 0.60  & 10.50 & 6     & red   & red  \\\\\n",
       "\t 6.8   & 0.48  & 0.25  & 2.0   & 0.076 &  61   & 3.34  & 0.60  & 10.40 & 5     & red   & red  \\\\\n",
       "\t 6.0   & 0.42  & 0.19  & 2.0   & 0.075 &  47   & 3.39  & 0.78  & 10.00 & 6     & red   & red  \\\\\n",
       "\t 7.2   & 0.53  & 0.13  & 2.0   & 0.058 &  22   & 3.21  & 0.68  &  9.90 & 6     & red   & red  \\\\\n",
       "\t 8.0   & 0.39  & 0.30  & 1.9   & 0.074 &  84   & 3.39  & 0.61  &  9.00 & 5     & red   & red  \\\\\n",
       "\t 6.6   & 0.56  & 0.14  & 2.4   & 0.064 &  29   & 3.42  & 0.62  & 11.70 & 7     & red   & red  \\\\\n",
       "\t 7.0   & 0.55  & 0.13  & 2.2   & 0.075 &  35   & 3.36  & 0.59  &  9.70 & 6     & red   & red  \\\\\n",
       "\t 5.4   & 0.58  & 0.08  & 1.9   & 0.059 &  31   & 3.50  & 0.64  & 10.20 & 6     & red   & red  \\\\\n",
       "\t 6.2   & 0.64  & 0.09  & 2.5   & 0.081 &  26   & 3.57  & 0.63  & 12.00 & 5     & red   & red  \\\\\n",
       "\t 7.0   & 0.56  & 0.17  & 1.7   & 0.065 &  24   & 3.44  & 0.68  & 10.55 & 7     & red   & red  \\\\\n",
       "\t 6.2   & 0.51  & 0.14  & 1.9   & 0.056 &  34   & 3.48  & 0.57  & 11.50 & 6     & red   & red  \\\\\n",
       "\t 7.5   & 0.52  & 0.40  & 2.2   & 0.060 &  20   & 3.26  & 0.64  & 11.80 & 6     & red   & red  \\\\\n",
       "\t 6.2   & 0.56  & 0.09  & 1.7   & 0.053 &  32   & 3.54  & 0.60  & 11.30 & 5     & red   & red  \\\\\n",
       "\t 6.3   & 0.51  & 0.13  & 2.3   & 0.076 &  40   & 3.42  & 0.75  & 11.00 & 6     & red   & red  \\\\\n",
       "\t 6.0   & 0.31  & 0.47  & 3.6   & 0.067 &  42   & 3.39  & 0.66  & 11.00 & 6     & red   & red  \\\\\n",
       "\\end{tabular}\n"
      ],
      "text/markdown": [
       "\n",
       "fixed.acidity | volatile.acidity | citric.acid | residual.sugar | chlorides | total.sulfur.dioxide | pH | sulphates | alcohol | quality | Class | rfPred | \n",
       "|---|---|---|---|---|---|---|---|---|---|---|---|---|---|---|---|---|---|---|---|---|---|---|---|---|---|---|---|---|---|---|---|---|---|---|---|---|---|---|---|---|---|---|---|---|---|---|---|---|---|---|---|---|---|---|---|---|---|---|---|---|\n",
       "| 6.3   | 0.300 | 0.34  |  1.60 | 0.049 | 132   | 3.30  | 0.49  |  9.5  | 6     | white | white | \n",
       "| 7.2   | 0.230 | 0.32  |  8.50 | 0.058 | 186   | 3.19  | 0.40  |  9.9  | 6     | white | white | \n",
       "| 7.2   | 0.230 | 0.32  |  8.50 | 0.058 | 186   | 3.19  | 0.40  |  9.9  | 6     | white | white | \n",
       "| 8.1   | 0.280 | 0.40  |  6.90 | 0.050 |  97   | 3.26  | 0.44  | 10.1  | 6     | white | white | \n",
       "| 6.3   | 0.300 | 0.34  |  1.60 | 0.049 | 132   | 3.30  | 0.49  |  9.5  | 6     | white | white | \n",
       "| 8.1   | 0.220 | 0.43  |  1.50 | 0.044 | 129   | 3.22  | 0.45  | 11.0  | 6     | white | white | \n",
       "| 6.6   | 0.170 | 0.38  |  1.50 | 0.032 | 112   | 3.25  | 0.55  | 11.4  | 7     | white | white | \n",
       "| 6.6   | 0.270 | 0.41  |  1.30 | 0.052 | 142   | 3.42  | 0.47  | 10.0  | 6     | white | white | \n",
       "| 6.9   | 0.240 | 0.35  |  1.00 | 0.052 | 146   | 3.45  | 0.44  | 10.0  | 6     | white | white | \n",
       "| 7.0   | 0.280 | 0.39  |  8.70 | 0.051 | 141   | 3.38  | 0.53  | 10.5  | 6     | white | white | \n",
       "| 7.4   | 0.250 | 0.36  |  2.05 | 0.050 | 100   | 3.19  | 0.44  | 10.8  | 6     | white | white | \n",
       "| 7.0   | 0.330 | 0.32  |  1.20 | 0.053 | 138   | 3.13  | 0.28  | 11.2  | 6     | white | white | \n",
       "| 6.2   | 0.450 | 0.26  |  4.40 | 0.063 | 206   | 3.27  | 0.52  |  9.8  | 4     | white | white | \n",
       "| 6.6   | 0.250 | 0.29  |  1.10 | 0.068 | 124   | 3.34  | 0.58  | 11.0  | 7     | white | white | \n",
       "| 6.8   | 0.220 | 0.24  |  4.90 | 0.092 | 123   | 3.03  | 0.46  |  8.6  | 6     | white | white | \n",
       "| 6.0   | 0.190 | 0.26  | 12.40 | 0.048 | 147   | 3.30  | 0.36  |  8.9  | 6     | white | white | \n",
       "| 7.2   | 0.240 | 0.27  |  1.40 | 0.038 | 122   | 3.15  | 0.46  | 10.3  | 6     | white | white | \n",
       "| 7.4   | 0.240 | 0.29  | 10.10 | 0.050 | 105   | 3.13  | 0.35  |  9.5  | 5     | white | white | \n",
       "| 6.2   | 0.270 | 0.43  |  7.80 | 0.056 | 244   | 3.10  | 0.51  |  9.0  | 6     | white | white | \n",
       "| 7.4   | 0.240 | 0.29  | 10.10 | 0.050 | 105   | 3.13  | 0.35  |  9.5  | 5     | white | white | \n",
       "| 7.1   | 0.200 | 0.34  | 16.00 | 0.050 | 166   | 3.21  | 0.60  |  9.2  | 6     | white | white | \n",
       "| 7.3   | 0.220 | 0.30  |  8.20 | 0.047 | 207   | 3.33  | 0.46  |  9.5  | 6     | white | white | \n",
       "| 7.4   | 0.250 | 0.37  | 13.50 | 0.060 | 192   | 3.00  | 0.44  |  9.1  | 5     | white | white | \n",
       "| 7.1   | 0.120 | 0.32  |  9.60 | 0.054 | 162   | 3.40  | 0.41  |  9.4  | 5     | white | white | \n",
       "| 7.1   | 0.230 | 0.35  | 16.50 | 0.040 | 171   | 3.16  | 0.59  |  9.1  | 6     | white | white | \n",
       "| 6.9   | 0.330 | 0.28  |  1.30 | 0.051 | 187   | 3.27  | 0.60  | 10.3  | 5     | white | white | \n",
       "| 7.2   | 0.310 | 0.50  | 13.30 | 0.056 | 195   | 3.01  | 0.47  |  9.2  | 5     | white | white | \n",
       "| 5.5   | 0.485 | 0.00  |  1.50 | 0.065 | 103   | 3.63  | 0.40  |  9.7  | 4     | white | white | \n",
       "| 6.0   | 0.310 | 0.24  |  3.30 | 0.041 | 143   | 3.31  | 0.44  | 11.3  | 6     | white | white | \n",
       "| 7.2   | 0.310 | 0.50  | 13.30 | 0.056 | 195   | 3.01  | 0.47  |  9.2  | 5     | white | white | \n",
       "| ... | ... | ... | ... | ... | ... | ... | ... | ... | ... | ... | ... | \n",
       "| 6.7   | 0.48  | 0.02  | 2.2   | 0.080 | 111   | 3.10  | 0.53  |  9.70 | 5     | red   | red   | \n",
       "| 8.0   | 0.64  | 0.22  | 2.4   | 0.094 |  33   | 3.37  | 0.58  | 11.00 | 5     | red   | red   | \n",
       "| 8.3   | 0.26  | 0.37  | 1.4   | 0.076 |  23   | 3.26  | 0.70  |  9.60 | 6     | red   | red   | \n",
       "| 7.0   | 0.59  | 0.00  | 1.7   | 0.052 |   8   | 3.41  | 0.47  | 10.30 | 5     | red   | red   | \n",
       "| 6.9   | 0.63  | 0.02  | 1.9   | 0.078 |  30   | 3.40  | 0.75  |  9.80 | 5     | red   | red   | \n",
       "| 6.9   | 0.63  | 0.02  | 1.9   | 0.078 |  30   | 3.40  | 0.75  |  9.80 | 5     | red   | red   | \n",
       "| 7.8   | 0.32  | 0.44  | 2.7   | 0.104 |  17   | 3.33  | 0.78  | 11.00 | 7     | red   | red   | \n",
       "| 8.4   | 0.29  | 0.40  | 1.7   | 0.067 |  20   | 3.39  | 0.60  | 10.50 | 5     | red   | red   | \n",
       "| 6.4   | 0.42  | 0.09  | 2.3   | 0.054 |  64   | 3.41  | 0.68  | 10.40 | 6     | red   | red   | \n",
       "| 6.9   | 0.63  | 0.01  | 2.4   | 0.076 |  39   | 3.34  | 0.53  | 10.80 | 6     | red   | red   | \n",
       "| 6.8   | 0.59  | 0.10  | 1.7   | 0.063 |  53   | 3.41  | 0.67  |  9.70 | 5     | red   | red   | \n",
       "| 7.3   | 0.48  | 0.32  | 2.1   | 0.062 |  54   | 3.30  | 0.65  | 10.00 | 7     | red   | red   | \n",
       "| 7.6   | 0.35  | 0.60  | 2.6   | 0.073 |  44   | 3.38  | 0.79  | 11.10 | 6     | red   | red   | \n",
       "| 6.0   | 0.64  | 0.05  | 1.9   | 0.066 |  17   | 3.52  | 0.78  | 10.60 | 5     | red   | red   | \n",
       "| 7.7   | 0.54  | 0.26  | 1.9   | 0.089 | 147   | 3.26  | 0.59  |  9.70 | 5     | red   | red   | \n",
       "| 6.4   | 0.56  | 0.15  | 1.8   | 0.078 |  65   | 3.33  | 0.60  | 10.50 | 6     | red   | red   | \n",
       "| 6.8   | 0.48  | 0.25  | 2.0   | 0.076 |  61   | 3.34  | 0.60  | 10.40 | 5     | red   | red   | \n",
       "| 6.0   | 0.42  | 0.19  | 2.0   | 0.075 |  47   | 3.39  | 0.78  | 10.00 | 6     | red   | red   | \n",
       "| 7.2   | 0.53  | 0.13  | 2.0   | 0.058 |  22   | 3.21  | 0.68  |  9.90 | 6     | red   | red   | \n",
       "| 8.0   | 0.39  | 0.30  | 1.9   | 0.074 |  84   | 3.39  | 0.61  |  9.00 | 5     | red   | red   | \n",
       "| 6.6   | 0.56  | 0.14  | 2.4   | 0.064 |  29   | 3.42  | 0.62  | 11.70 | 7     | red   | red   | \n",
       "| 7.0   | 0.55  | 0.13  | 2.2   | 0.075 |  35   | 3.36  | 0.59  |  9.70 | 6     | red   | red   | \n",
       "| 5.4   | 0.58  | 0.08  | 1.9   | 0.059 |  31   | 3.50  | 0.64  | 10.20 | 6     | red   | red   | \n",
       "| 6.2   | 0.64  | 0.09  | 2.5   | 0.081 |  26   | 3.57  | 0.63  | 12.00 | 5     | red   | red   | \n",
       "| 7.0   | 0.56  | 0.17  | 1.7   | 0.065 |  24   | 3.44  | 0.68  | 10.55 | 7     | red   | red   | \n",
       "| 6.2   | 0.51  | 0.14  | 1.9   | 0.056 |  34   | 3.48  | 0.57  | 11.50 | 6     | red   | red   | \n",
       "| 7.5   | 0.52  | 0.40  | 2.2   | 0.060 |  20   | 3.26  | 0.64  | 11.80 | 6     | red   | red   | \n",
       "| 6.2   | 0.56  | 0.09  | 1.7   | 0.053 |  32   | 3.54  | 0.60  | 11.30 | 5     | red   | red   | \n",
       "| 6.3   | 0.51  | 0.13  | 2.3   | 0.076 |  40   | 3.42  | 0.75  | 11.00 | 6     | red   | red   | \n",
       "| 6.0   | 0.31  | 0.47  | 3.6   | 0.067 |  42   | 3.39  | 0.66  | 11.00 | 6     | red   | red   | \n",
       "\n",
       "\n"
      ],
      "text/plain": [
       "     fixed.acidity volatile.acidity citric.acid residual.sugar chlorides\n",
       "1    6.3           0.300            0.34         1.60          0.049    \n",
       "2    7.2           0.230            0.32         8.50          0.058    \n",
       "3    7.2           0.230            0.32         8.50          0.058    \n",
       "4    8.1           0.280            0.40         6.90          0.050    \n",
       "5    6.3           0.300            0.34         1.60          0.049    \n",
       "6    8.1           0.220            0.43         1.50          0.044    \n",
       "7    6.6           0.170            0.38         1.50          0.032    \n",
       "8    6.6           0.270            0.41         1.30          0.052    \n",
       "9    6.9           0.240            0.35         1.00          0.052    \n",
       "10   7.0           0.280            0.39         8.70          0.051    \n",
       "11   7.4           0.250            0.36         2.05          0.050    \n",
       "12   7.0           0.330            0.32         1.20          0.053    \n",
       "13   6.2           0.450            0.26         4.40          0.063    \n",
       "14   6.6           0.250            0.29         1.10          0.068    \n",
       "15   6.8           0.220            0.24         4.90          0.092    \n",
       "16   6.0           0.190            0.26        12.40          0.048    \n",
       "17   7.2           0.240            0.27         1.40          0.038    \n",
       "18   7.4           0.240            0.29        10.10          0.050    \n",
       "19   6.2           0.270            0.43         7.80          0.056    \n",
       "20   7.4           0.240            0.29        10.10          0.050    \n",
       "21   7.1           0.200            0.34        16.00          0.050    \n",
       "22   7.3           0.220            0.30         8.20          0.047    \n",
       "23   7.4           0.250            0.37        13.50          0.060    \n",
       "24   7.1           0.120            0.32         9.60          0.054    \n",
       "25   7.1           0.230            0.35        16.50          0.040    \n",
       "26   6.9           0.330            0.28         1.30          0.051    \n",
       "27   7.2           0.310            0.50        13.30          0.056    \n",
       "28   5.5           0.485            0.00         1.50          0.065    \n",
       "29   6.0           0.310            0.24         3.30          0.041    \n",
       "30   7.2           0.310            0.50        13.30          0.056    \n",
       "...  ...           ...              ...         ...            ...      \n",
       "1483 6.7           0.48             0.02        2.2            0.080    \n",
       "1484 8.0           0.64             0.22        2.4            0.094    \n",
       "1485 8.3           0.26             0.37        1.4            0.076    \n",
       "1486 7.0           0.59             0.00        1.7            0.052    \n",
       "1487 6.9           0.63             0.02        1.9            0.078    \n",
       "1488 6.9           0.63             0.02        1.9            0.078    \n",
       "1489 7.8           0.32             0.44        2.7            0.104    \n",
       "1490 8.4           0.29             0.40        1.7            0.067    \n",
       "1491 6.4           0.42             0.09        2.3            0.054    \n",
       "1492 6.9           0.63             0.01        2.4            0.076    \n",
       "1493 6.8           0.59             0.10        1.7            0.063    \n",
       "1494 7.3           0.48             0.32        2.1            0.062    \n",
       "1495 7.6           0.35             0.60        2.6            0.073    \n",
       "1496 6.0           0.64             0.05        1.9            0.066    \n",
       "1497 7.7           0.54             0.26        1.9            0.089    \n",
       "1498 6.4           0.56             0.15        1.8            0.078    \n",
       "1499 6.8           0.48             0.25        2.0            0.076    \n",
       "1500 6.0           0.42             0.19        2.0            0.075    \n",
       "1501 7.2           0.53             0.13        2.0            0.058    \n",
       "1502 8.0           0.39             0.30        1.9            0.074    \n",
       "1503 6.6           0.56             0.14        2.4            0.064    \n",
       "1504 7.0           0.55             0.13        2.2            0.075    \n",
       "1505 5.4           0.58             0.08        1.9            0.059    \n",
       "1506 6.2           0.64             0.09        2.5            0.081    \n",
       "1507 7.0           0.56             0.17        1.7            0.065    \n",
       "1508 6.2           0.51             0.14        1.9            0.056    \n",
       "1509 7.5           0.52             0.40        2.2            0.060    \n",
       "1510 6.2           0.56             0.09        1.7            0.053    \n",
       "1511 6.3           0.51             0.13        2.3            0.076    \n",
       "1512 6.0           0.31             0.47        3.6            0.067    \n",
       "     total.sulfur.dioxide pH   sulphates alcohol quality Class rfPred\n",
       "1    132                  3.30 0.49       9.5    6       white white \n",
       "2    186                  3.19 0.40       9.9    6       white white \n",
       "3    186                  3.19 0.40       9.9    6       white white \n",
       "4     97                  3.26 0.44      10.1    6       white white \n",
       "5    132                  3.30 0.49       9.5    6       white white \n",
       "6    129                  3.22 0.45      11.0    6       white white \n",
       "7    112                  3.25 0.55      11.4    7       white white \n",
       "8    142                  3.42 0.47      10.0    6       white white \n",
       "9    146                  3.45 0.44      10.0    6       white white \n",
       "10   141                  3.38 0.53      10.5    6       white white \n",
       "11   100                  3.19 0.44      10.8    6       white white \n",
       "12   138                  3.13 0.28      11.2    6       white white \n",
       "13   206                  3.27 0.52       9.8    4       white white \n",
       "14   124                  3.34 0.58      11.0    7       white white \n",
       "15   123                  3.03 0.46       8.6    6       white white \n",
       "16   147                  3.30 0.36       8.9    6       white white \n",
       "17   122                  3.15 0.46      10.3    6       white white \n",
       "18   105                  3.13 0.35       9.5    5       white white \n",
       "19   244                  3.10 0.51       9.0    6       white white \n",
       "20   105                  3.13 0.35       9.5    5       white white \n",
       "21   166                  3.21 0.60       9.2    6       white white \n",
       "22   207                  3.33 0.46       9.5    6       white white \n",
       "23   192                  3.00 0.44       9.1    5       white white \n",
       "24   162                  3.40 0.41       9.4    5       white white \n",
       "25   171                  3.16 0.59       9.1    6       white white \n",
       "26   187                  3.27 0.60      10.3    5       white white \n",
       "27   195                  3.01 0.47       9.2    5       white white \n",
       "28   103                  3.63 0.40       9.7    4       white white \n",
       "29   143                  3.31 0.44      11.3    6       white white \n",
       "30   195                  3.01 0.47       9.2    5       white white \n",
       "...  ...                  ...  ...       ...     ...     ...   ...   \n",
       "1483 111                  3.10 0.53       9.70   5       red   red   \n",
       "1484  33                  3.37 0.58      11.00   5       red   red   \n",
       "1485  23                  3.26 0.70       9.60   6       red   red   \n",
       "1486   8                  3.41 0.47      10.30   5       red   red   \n",
       "1487  30                  3.40 0.75       9.80   5       red   red   \n",
       "1488  30                  3.40 0.75       9.80   5       red   red   \n",
       "1489  17                  3.33 0.78      11.00   7       red   red   \n",
       "1490  20                  3.39 0.60      10.50   5       red   red   \n",
       "1491  64                  3.41 0.68      10.40   6       red   red   \n",
       "1492  39                  3.34 0.53      10.80   6       red   red   \n",
       "1493  53                  3.41 0.67       9.70   5       red   red   \n",
       "1494  54                  3.30 0.65      10.00   7       red   red   \n",
       "1495  44                  3.38 0.79      11.10   6       red   red   \n",
       "1496  17                  3.52 0.78      10.60   5       red   red   \n",
       "1497 147                  3.26 0.59       9.70   5       red   red   \n",
       "1498  65                  3.33 0.60      10.50   6       red   red   \n",
       "1499  61                  3.34 0.60      10.40   5       red   red   \n",
       "1500  47                  3.39 0.78      10.00   6       red   red   \n",
       "1501  22                  3.21 0.68       9.90   6       red   red   \n",
       "1502  84                  3.39 0.61       9.00   5       red   red   \n",
       "1503  29                  3.42 0.62      11.70   7       red   red   \n",
       "1504  35                  3.36 0.59       9.70   6       red   red   \n",
       "1505  31                  3.50 0.64      10.20   6       red   red   \n",
       "1506  26                  3.57 0.63      12.00   5       red   red   \n",
       "1507  24                  3.44 0.68      10.55   7       red   red   \n",
       "1508  34                  3.48 0.57      11.50   6       red   red   \n",
       "1509  20                  3.26 0.64      11.80   6       red   red   \n",
       "1510  32                  3.54 0.60      11.30   5       red   red   \n",
       "1511  40                  3.42 0.75      11.00   6       red   red   \n",
       "1512  42                  3.39 0.66      11.00   6       red   red   "
      ]
     },
     "metadata": {},
     "output_type": "display_data"
    }
   ],
   "source": [
    "# print validation dataset and predictions by row\n",
    "(val<-as.data.frame(c(testing,as.data.frame(rfPred))))"
   ]
  },
  {
   "cell_type": "markdown",
   "metadata": {
    "collapsed": true
   },
   "source": [
    "Now if you want to get the predictions from a new test data, you can see the item 7.4 of my project [MACHINE LEARNING: A comparison of supervised learning algorithms applied to the classification problem with caret R-project library](http://nbviewer.jupyter.org/github/arqmain/Machine_Learning/blob/master/R_MLearning/MLearning_Classification_Comparison_R_Caret/MLearning_Classification_Comparison_R_Caret.ipynb). "
   ]
  },
  {
   "cell_type": "markdown",
   "metadata": {
    "collapsed": true
   },
   "source": [
    "## VII Conclusion"
   ]
  },
  {
   "cell_type": "markdown",
   "metadata": {},
   "source": [
    "This module of the project develops 5 algorithms of machine learning to classify the wines in white or red according to the 11 variables that characterize the wine subject to classification.\n",
    "\n",
    "The database -dff- does not consider two variables that appear in the original base. They could generate a problem of multicollinearity in the process of classification. So,  we got rid of them in dff. At the same time, <u><b><i>dff</i></b></u> is made by getting ride off all register which presents at least one field with an outliers data on the original database \"df\". The application of this rule reduces the registers to be considered from 6497 (originals ones) to 5040 presents in dff.\n",
    "\n",
    "The 5 models proposed achieve a very good metric of classification, reaching all a ROC measurement of at least 97%. That is, the variables of the base allow to discriminate clearly the type of wine that they represent.\n",
    "\n",
    "The models were developed by tuning some or all of their parameters most of the time.  Anyway, this is modeling so, we can improve the models by filtering other variables, performing more tuning or doing both things at the same time. "
   ]
  },
  {
   "cell_type": "markdown",
   "metadata": {},
   "source": [
    "<hr>\n",
    "By: Hector Alvaro Rojas | Data Science, Visualizations and Applied Statistics | October 12, 2017<br>\n",
    "Url: [http://www.arqmain.net]   &nbsp;&nbsp;&nbsp;|&nbsp;&nbsp;&nbsp;   GitHub: [https://github.com/arqmain]"
   ]
  }
 ],
 "metadata": {
  "anaconda-cloud": {},
  "kernelspec": {
   "display_name": "R",
   "language": "R",
   "name": "ir"
  },
  "language_info": {
   "codemirror_mode": "r",
   "file_extension": ".r",
   "mimetype": "text/x-r-source",
   "name": "R",
   "pygments_lexer": "r",
   "version": "3.4.1"
  }
 },
 "nbformat": 4,
 "nbformat_minor": 2
}
