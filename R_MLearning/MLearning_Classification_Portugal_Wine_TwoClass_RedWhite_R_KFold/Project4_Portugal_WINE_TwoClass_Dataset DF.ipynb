{
 "cells": [
  {
   "cell_type": "markdown",
   "metadata": {},
   "source": [
    "#  MACHINE LEARNING: Portugal Wine under Two Class approach for red and white classification using R and K fold cross-validation.\n",
    "# Module 2: Solving Project with Original Dataset (df)\n",
    "\n",
    "By: Hector Alvaro Rojas | Data Science, Visualizations and Applied Statistics | October 12, 2017<br>\n",
    "Url: [http://www.arqmain.net]   &nbsp;&nbsp;&nbsp;|&nbsp;&nbsp;&nbsp;   GitHub: [https://github.com/arqmain]\n",
    "<hr>"
   ]
  },
  {
   "cell_type": "markdown",
   "metadata": {},
   "source": [
    "## I Introduction"
   ]
  },
  {
   "cell_type": "markdown",
   "metadata": {
    "collapsed": true
   },
   "source": [
    "We consider the original dataset (wine) and we get ride off the variables \"density\" and \"free.sulfor.dioxide\" becouse they may cause problems of collinearity that can affect the normal operation of the algorithms since we are in the presence of double information.\n",
    "\n",
    "As a consequence, we obtain the file \"<b>df</b>\" that goes on to represent the base with the original data pre-processed in a format ready to be used in the modeling."
   ]
  },
  {
   "cell_type": "markdown",
   "metadata": {},
   "source": [
    "## II Loading and the Data"
   ]
  },
  {
   "cell_type": "code",
   "execution_count": 117,
   "metadata": {
    "collapsed": true
   },
   "outputs": [],
   "source": [
    "# first remove ALL objects and close all possible connections\n",
    "closeAllConnections()\n",
    "rm(list = ls(all = TRUE)) # Does remove all inclusive hidden\n",
    "\n",
    "# see your memory size\n",
    "memory.size() "
   ]
  },
  {
   "cell_type": "code",
   "execution_count": 2,
   "metadata": {},
   "outputs": [
    {
     "name": "stderr",
     "output_type": "stream",
     "text": [
      "Loading required package: plyr\n",
      "Loading required package: dplyr\n",
      "\n",
      "Attaching package: 'dplyr'\n",
      "\n",
      "The following objects are masked from 'package:plyr':\n",
      "\n",
      "    arrange, count, desc, failwith, id, mutate, rename, summarise,\n",
      "    summarize\n",
      "\n",
      "The following objects are masked from 'package:stats':\n",
      "\n",
      "    filter, lag\n",
      "\n",
      "The following objects are masked from 'package:base':\n",
      "\n",
      "    intersect, setdiff, setequal, union\n",
      "\n",
      "Loading required package: caret\n",
      "Loading required package: lattice\n",
      "Loading required package: ggplot2\n"
     ]
    },
    {
     "data": {
      "text/html": [
       "<dl class=dl-horizontal>\n",
       "\t<dt>plyr</dt>\n",
       "\t\t<dd>TRUE</dd>\n",
       "\t<dt>dplyr</dt>\n",
       "\t\t<dd>TRUE</dd>\n",
       "\t<dt>caret</dt>\n",
       "\t\t<dd>TRUE</dd>\n",
       "</dl>\n"
      ],
      "text/latex": [
       "\\begin{description*}\n",
       "\\item[plyr] TRUE\n",
       "\\item[dplyr] TRUE\n",
       "\\item[caret] TRUE\n",
       "\\end{description*}\n"
      ],
      "text/markdown": [
       "plyr\n",
       ":   TRUEdplyr\n",
       ":   TRUEcaret\n",
       ":   TRUE\n",
       "\n"
      ],
      "text/plain": [
       " plyr dplyr caret \n",
       " TRUE  TRUE  TRUE "
      ]
     },
     "metadata": {},
     "output_type": "display_data"
    }
   ],
   "source": [
    "# install packages and load libraries\n",
    "ipak <- function(pkg){\n",
    "    new.pkg <- pkg[!(pkg %in% installed.packages()[, \"Package\"])]\n",
    "    if (length(new.pkg)) \n",
    "        install.packages(new.pkg, dependencies = c(\"Depends\", \"Suggests\"))\n",
    "    sapply(pkg, require, character.only = TRUE)\n",
    "}\n",
    "# usage\n",
    "packages <- c(\"plyr\", \"dplyr\", \"caret\")\n",
    "ipak(packages)\n"
   ]
  },
  {
   "cell_type": "code",
   "execution_count": 3,
   "metadata": {},
   "outputs": [
    {
     "data": {
      "text/html": [
       "<table>\n",
       "<thead><tr><th scope=col>fixed.acidity</th><th scope=col>volatile.acidity</th><th scope=col>citric.acid</th><th scope=col>residual.sugar</th><th scope=col>chlorides</th><th scope=col>total.sulfur.dioxide</th><th scope=col>pH</th><th scope=col>sulphates</th><th scope=col>alcohol</th><th scope=col>quality</th><th scope=col>Class</th></tr></thead>\n",
       "<tbody>\n",
       "\t<tr><td>7.0  </td><td>0.27 </td><td>0.36 </td><td>20.7 </td><td>0.045</td><td>170  </td><td>3.00 </td><td>0.45 </td><td> 8.8 </td><td>6    </td><td>white</td></tr>\n",
       "\t<tr><td>6.3  </td><td>0.30 </td><td>0.34 </td><td> 1.6 </td><td>0.049</td><td>132  </td><td>3.30 </td><td>0.49 </td><td> 9.5 </td><td>6    </td><td>white</td></tr>\n",
       "\t<tr><td>8.1  </td><td>0.28 </td><td>0.40 </td><td> 6.9 </td><td>0.050</td><td> 97  </td><td>3.26 </td><td>0.44 </td><td>10.1 </td><td>6    </td><td>white</td></tr>\n",
       "\t<tr><td>7.2  </td><td>0.23 </td><td>0.32 </td><td> 8.5 </td><td>0.058</td><td>186  </td><td>3.19 </td><td>0.40 </td><td> 9.9 </td><td>6    </td><td>white</td></tr>\n",
       "\t<tr><td>7.2  </td><td>0.23 </td><td>0.32 </td><td> 8.5 </td><td>0.058</td><td>186  </td><td>3.19 </td><td>0.40 </td><td> 9.9 </td><td>6    </td><td>white</td></tr>\n",
       "\t<tr><td>8.1  </td><td>0.28 </td><td>0.40 </td><td> 6.9 </td><td>0.050</td><td> 97  </td><td>3.26 </td><td>0.44 </td><td>10.1 </td><td>6    </td><td>white</td></tr>\n",
       "</tbody>\n",
       "</table>\n"
      ],
      "text/latex": [
       "\\begin{tabular}{r|lllllllllll}\n",
       " fixed.acidity & volatile.acidity & citric.acid & residual.sugar & chlorides & total.sulfur.dioxide & pH & sulphates & alcohol & quality & Class\\\\\n",
       "\\hline\n",
       "\t 7.0   & 0.27  & 0.36  & 20.7  & 0.045 & 170   & 3.00  & 0.45  &  8.8  & 6     & white\\\\\n",
       "\t 6.3   & 0.30  & 0.34  &  1.6  & 0.049 & 132   & 3.30  & 0.49  &  9.5  & 6     & white\\\\\n",
       "\t 8.1   & 0.28  & 0.40  &  6.9  & 0.050 &  97   & 3.26  & 0.44  & 10.1  & 6     & white\\\\\n",
       "\t 7.2   & 0.23  & 0.32  &  8.5  & 0.058 & 186   & 3.19  & 0.40  &  9.9  & 6     & white\\\\\n",
       "\t 7.2   & 0.23  & 0.32  &  8.5  & 0.058 & 186   & 3.19  & 0.40  &  9.9  & 6     & white\\\\\n",
       "\t 8.1   & 0.28  & 0.40  &  6.9  & 0.050 &  97   & 3.26  & 0.44  & 10.1  & 6     & white\\\\\n",
       "\\end{tabular}\n"
      ],
      "text/markdown": [
       "\n",
       "fixed.acidity | volatile.acidity | citric.acid | residual.sugar | chlorides | total.sulfur.dioxide | pH | sulphates | alcohol | quality | Class | \n",
       "|---|---|---|---|---|---|\n",
       "| 7.0   | 0.27  | 0.36  | 20.7  | 0.045 | 170   | 3.00  | 0.45  |  8.8  | 6     | white | \n",
       "| 6.3   | 0.30  | 0.34  |  1.6  | 0.049 | 132   | 3.30  | 0.49  |  9.5  | 6     | white | \n",
       "| 8.1   | 0.28  | 0.40  |  6.9  | 0.050 |  97   | 3.26  | 0.44  | 10.1  | 6     | white | \n",
       "| 7.2   | 0.23  | 0.32  |  8.5  | 0.058 | 186   | 3.19  | 0.40  |  9.9  | 6     | white | \n",
       "| 7.2   | 0.23  | 0.32  |  8.5  | 0.058 | 186   | 3.19  | 0.40  |  9.9  | 6     | white | \n",
       "| 8.1   | 0.28  | 0.40  |  6.9  | 0.050 |  97   | 3.26  | 0.44  | 10.1  | 6     | white | \n",
       "\n",
       "\n"
      ],
      "text/plain": [
       "  fixed.acidity volatile.acidity citric.acid residual.sugar chlorides\n",
       "1 7.0           0.27             0.36        20.7           0.045    \n",
       "2 6.3           0.30             0.34         1.6           0.049    \n",
       "3 8.1           0.28             0.40         6.9           0.050    \n",
       "4 7.2           0.23             0.32         8.5           0.058    \n",
       "5 7.2           0.23             0.32         8.5           0.058    \n",
       "6 8.1           0.28             0.40         6.9           0.050    \n",
       "  total.sulfur.dioxide pH   sulphates alcohol quality Class\n",
       "1 170                  3.00 0.45       8.8    6       white\n",
       "2 132                  3.30 0.49       9.5    6       white\n",
       "3  97                  3.26 0.44      10.1    6       white\n",
       "4 186                  3.19 0.40       9.9    6       white\n",
       "5 186                  3.19 0.40       9.9    6       white\n",
       "6  97                  3.26 0.44      10.1    6       white"
      ]
     },
     "metadata": {},
     "output_type": "display_data"
    }
   ],
   "source": [
    "# define path location of datasets\n",
    "wine1.url <- \"http://archive.ics.uci.edu/ml/machine-learning-databases/wine-quality/winequality-white.csv\"\n",
    "wine2.url <- \"http://archive.ics.uci.edu/ml/machine-learning-databases/wine-quality/winequality-red.csv\"\n",
    "\n",
    "# read datasets\n",
    "wine1 <- read.csv(wine1.url, header=TRUE, sep=';')\n",
    "wine2 <- read.csv(wine2.url, header=TRUE, sep=';')\n",
    "\n",
    "# create dataset base\n",
    "paso <- rbind(cbind(wine1, Class='white'), cbind(wine2, Class='red'))\n",
    "\n",
    "df= subset(paso, select=c('fixed.acidity', 'volatile.acidity', 'citric.acid', 'residual.sugar', 'chlorides' ,'total.sulfur.dioxide','pH', 'sulphates', 'alcohol', 'quality', 'Class'))\n",
    "attach(df)\n",
    "head(df)\n",
    "rm(\"paso\")"
   ]
  },
  {
   "cell_type": "code",
   "execution_count": 5,
   "metadata": {
    "collapsed": true
   },
   "outputs": [],
   "source": [
    "# verify response variable \"Class\" as factor. Remember, the class factor is always used for categorical variables.\n",
    "df$Class <- as.factor(df$Class)"
   ]
  },
  {
   "cell_type": "code",
   "execution_count": 34,
   "metadata": {},
   "outputs": [
    {
     "name": "stdout",
     "output_type": "stream",
     "text": [
      "'data.frame':\t6497 obs. of  11 variables:\n",
      " $ fixed.acidity       : num  7 6.3 8.1 7.2 7.2 8.1 6.2 7 6.3 8.1 ...\n",
      " $ volatile.acidity    : num  0.27 0.3 0.28 0.23 0.23 0.28 0.32 0.27 0.3 0.22 ...\n",
      " $ citric.acid         : num  0.36 0.34 0.4 0.32 0.32 0.4 0.16 0.36 0.34 0.43 ...\n",
      " $ residual.sugar      : num  20.7 1.6 6.9 8.5 8.5 6.9 7 20.7 1.6 1.5 ...\n",
      " $ chlorides           : num  0.045 0.049 0.05 0.058 0.058 0.05 0.045 0.045 0.049 0.044 ...\n",
      " $ total.sulfur.dioxide: num  170 132 97 186 186 97 136 170 132 129 ...\n",
      " $ pH                  : num  3 3.3 3.26 3.19 3.19 3.26 3.18 3 3.3 3.22 ...\n",
      " $ sulphates           : num  0.45 0.49 0.44 0.4 0.4 0.44 0.47 0.45 0.49 0.45 ...\n",
      " $ alcohol             : num  8.8 9.5 10.1 9.9 9.9 10.1 9.6 8.8 9.5 11 ...\n",
      " $ quality             : int  6 6 6 6 6 6 6 6 6 6 ...\n",
      " $ Class               : Factor w/ 2 levels \"white\",\"red\": 1 1 1 1 1 1 1 1 1 1 ...\n"
     ]
    }
   ],
   "source": [
    "# get some information about the dataset\n",
    "str(df)"
   ]
  },
  {
   "cell_type": "markdown",
   "metadata": {},
   "source": [
    "## III Getting train and test datasets"
   ]
  },
  {
   "cell_type": "code",
   "execution_count": 6,
   "metadata": {},
   "outputs": [
    {
     "data": {
      "text/html": [
       "4549"
      ],
      "text/latex": [
       "4549"
      ],
      "text/markdown": [
       "4549"
      ],
      "text/plain": [
       "[1] 4549"
      ]
     },
     "metadata": {},
     "output_type": "display_data"
    },
    {
     "data": {
      "text/html": [
       "1948"
      ],
      "text/latex": [
       "1948"
      ],
      "text/markdown": [
       "1948"
      ],
      "text/plain": [
       "[1] 1948"
      ]
     },
     "metadata": {},
     "output_type": "display_data"
    }
   ],
   "source": [
    "#stratified sampling to get the train and test dataset\n",
    "set.seed(7) # Set Seed so that same sample can be reproduced in future also\n",
    "# considering response variable as strata\n",
    "data_part <- createDataPartition(y = df$Class,  p = 0.70, list = F)\n",
    "testing <- df[-data_part,] # 30% data goes here\n",
    "training <- df[data_part,] # 70% here\n",
    "\n",
    "length(training$Class)\n",
    "length(testing$Class)\n",
    "\n",
    "# training$quality <- NULL\n",
    "# testing$quality <- NULL"
   ]
  },
  {
   "cell_type": "code",
   "execution_count": 36,
   "metadata": {},
   "outputs": [
    {
     "data": {
      "text/html": [
       "<table>\n",
       "<thead><tr><th></th><th scope=col>fixed.acidity</th><th scope=col>volatile.acidity</th><th scope=col>citric.acid</th><th scope=col>residual.sugar</th><th scope=col>chlorides</th><th scope=col>total.sulfur.dioxide</th><th scope=col>pH</th><th scope=col>sulphates</th><th scope=col>alcohol</th><th scope=col>quality</th><th scope=col>Class</th></tr></thead>\n",
       "<tbody>\n",
       "\t<tr><th scope=row>2</th><td>6.3  </td><td>0.30 </td><td>0.34 </td><td> 1.6 </td><td>0.049</td><td>132  </td><td>3.30 </td><td>0.49 </td><td> 9.5 </td><td>6    </td><td>white</td></tr>\n",
       "\t<tr><th scope=row>3</th><td>8.1  </td><td>0.28 </td><td>0.40 </td><td> 6.9 </td><td>0.050</td><td> 97  </td><td>3.26 </td><td>0.44 </td><td>10.1 </td><td>6    </td><td>white</td></tr>\n",
       "\t<tr><th scope=row>7</th><td>6.2  </td><td>0.32 </td><td>0.16 </td><td> 7.0 </td><td>0.045</td><td>136  </td><td>3.18 </td><td>0.47 </td><td> 9.6 </td><td>6    </td><td>white</td></tr>\n",
       "\t<tr><th scope=row>8</th><td>7.0  </td><td>0.27 </td><td>0.36 </td><td>20.7 </td><td>0.045</td><td>170  </td><td>3.00 </td><td>0.45 </td><td> 8.8 </td><td>6    </td><td>white</td></tr>\n",
       "\t<tr><th scope=row>9</th><td>6.3  </td><td>0.30 </td><td>0.34 </td><td> 1.6 </td><td>0.049</td><td>132  </td><td>3.30 </td><td>0.49 </td><td> 9.5 </td><td>6    </td><td>white</td></tr>\n",
       "\t<tr><th scope=row>10</th><td>8.1  </td><td>0.22 </td><td>0.43 </td><td> 1.5 </td><td>0.044</td><td>129  </td><td>3.22 </td><td>0.45 </td><td>11.0 </td><td>6    </td><td>white</td></tr>\n",
       "</tbody>\n",
       "</table>\n"
      ],
      "text/latex": [
       "\\begin{tabular}{r|lllllllllll}\n",
       "  & fixed.acidity & volatile.acidity & citric.acid & residual.sugar & chlorides & total.sulfur.dioxide & pH & sulphates & alcohol & quality & Class\\\\\n",
       "\\hline\n",
       "\t2 & 6.3   & 0.30  & 0.34  &  1.6  & 0.049 & 132   & 3.30  & 0.49  &  9.5  & 6     & white\\\\\n",
       "\t3 & 8.1   & 0.28  & 0.40  &  6.9  & 0.050 &  97   & 3.26  & 0.44  & 10.1  & 6     & white\\\\\n",
       "\t7 & 6.2   & 0.32  & 0.16  &  7.0  & 0.045 & 136   & 3.18  & 0.47  &  9.6  & 6     & white\\\\\n",
       "\t8 & 7.0   & 0.27  & 0.36  & 20.7  & 0.045 & 170   & 3.00  & 0.45  &  8.8  & 6     & white\\\\\n",
       "\t9 & 6.3   & 0.30  & 0.34  &  1.6  & 0.049 & 132   & 3.30  & 0.49  &  9.5  & 6     & white\\\\\n",
       "\t10 & 8.1   & 0.22  & 0.43  &  1.5  & 0.044 & 129   & 3.22  & 0.45  & 11.0  & 6     & white\\\\\n",
       "\\end{tabular}\n"
      ],
      "text/markdown": [
       "\n",
       "| <!--/--> | fixed.acidity | volatile.acidity | citric.acid | residual.sugar | chlorides | total.sulfur.dioxide | pH | sulphates | alcohol | quality | Class | \n",
       "|---|---|---|---|---|---|\n",
       "| 2 | 6.3   | 0.30  | 0.34  |  1.6  | 0.049 | 132   | 3.30  | 0.49  |  9.5  | 6     | white | \n",
       "| 3 | 8.1   | 0.28  | 0.40  |  6.9  | 0.050 |  97   | 3.26  | 0.44  | 10.1  | 6     | white | \n",
       "| 7 | 6.2   | 0.32  | 0.16  |  7.0  | 0.045 | 136   | 3.18  | 0.47  |  9.6  | 6     | white | \n",
       "| 8 | 7.0   | 0.27  | 0.36  | 20.7  | 0.045 | 170   | 3.00  | 0.45  |  8.8  | 6     | white | \n",
       "| 9 | 6.3   | 0.30  | 0.34  |  1.6  | 0.049 | 132   | 3.30  | 0.49  |  9.5  | 6     | white | \n",
       "| 10 | 8.1   | 0.22  | 0.43  |  1.5  | 0.044 | 129   | 3.22  | 0.45  | 11.0  | 6     | white | \n",
       "\n",
       "\n"
      ],
      "text/plain": [
       "   fixed.acidity volatile.acidity citric.acid residual.sugar chlorides\n",
       "2  6.3           0.30             0.34         1.6           0.049    \n",
       "3  8.1           0.28             0.40         6.9           0.050    \n",
       "7  6.2           0.32             0.16         7.0           0.045    \n",
       "8  7.0           0.27             0.36        20.7           0.045    \n",
       "9  6.3           0.30             0.34         1.6           0.049    \n",
       "10 8.1           0.22             0.43         1.5           0.044    \n",
       "   total.sulfur.dioxide pH   sulphates alcohol quality Class\n",
       "2  132                  3.30 0.49       9.5    6       white\n",
       "3   97                  3.26 0.44      10.1    6       white\n",
       "7  136                  3.18 0.47       9.6    6       white\n",
       "8  170                  3.00 0.45       8.8    6       white\n",
       "9  132                  3.30 0.49       9.5    6       white\n",
       "10 129                  3.22 0.45      11.0    6       white"
      ]
     },
     "metadata": {},
     "output_type": "display_data"
    },
    {
     "data": {
      "text/html": [
       "<table>\n",
       "<thead><tr><th></th><th scope=col>fixed.acidity</th><th scope=col>volatile.acidity</th><th scope=col>citric.acid</th><th scope=col>residual.sugar</th><th scope=col>chlorides</th><th scope=col>total.sulfur.dioxide</th><th scope=col>pH</th><th scope=col>sulphates</th><th scope=col>alcohol</th><th scope=col>quality</th><th scope=col>Class</th></tr></thead>\n",
       "<tbody>\n",
       "\t<tr><th scope=row>1</th><td>7.0  </td><td>0.27 </td><td>0.36 </td><td>20.7 </td><td>0.045</td><td>170  </td><td>3.00 </td><td>0.45 </td><td> 8.8 </td><td>6    </td><td>white</td></tr>\n",
       "\t<tr><th scope=row>4</th><td>7.2  </td><td>0.23 </td><td>0.32 </td><td> 8.5 </td><td>0.058</td><td>186  </td><td>3.19 </td><td>0.40 </td><td> 9.9 </td><td>6    </td><td>white</td></tr>\n",
       "\t<tr><th scope=row>5</th><td>7.2  </td><td>0.23 </td><td>0.32 </td><td> 8.5 </td><td>0.058</td><td>186  </td><td>3.19 </td><td>0.40 </td><td> 9.9 </td><td>6    </td><td>white</td></tr>\n",
       "\t<tr><th scope=row>6</th><td>8.1  </td><td>0.28 </td><td>0.40 </td><td> 6.9 </td><td>0.050</td><td> 97  </td><td>3.26 </td><td>0.44 </td><td>10.1 </td><td>6    </td><td>white</td></tr>\n",
       "\t<tr><th scope=row>18</th><td>6.2  </td><td>0.66 </td><td>0.48 </td><td> 1.2 </td><td>0.029</td><td> 75  </td><td>3.33 </td><td>0.39 </td><td>12.8 </td><td>8    </td><td>white</td></tr>\n",
       "\t<tr><th scope=row>20</th><td>6.5  </td><td>0.31 </td><td>0.14 </td><td> 7.5 </td><td>0.044</td><td>133  </td><td>3.22 </td><td>0.50 </td><td> 9.5 </td><td>5    </td><td>white</td></tr>\n",
       "</tbody>\n",
       "</table>\n"
      ],
      "text/latex": [
       "\\begin{tabular}{r|lllllllllll}\n",
       "  & fixed.acidity & volatile.acidity & citric.acid & residual.sugar & chlorides & total.sulfur.dioxide & pH & sulphates & alcohol & quality & Class\\\\\n",
       "\\hline\n",
       "\t1 & 7.0   & 0.27  & 0.36  & 20.7  & 0.045 & 170   & 3.00  & 0.45  &  8.8  & 6     & white\\\\\n",
       "\t4 & 7.2   & 0.23  & 0.32  &  8.5  & 0.058 & 186   & 3.19  & 0.40  &  9.9  & 6     & white\\\\\n",
       "\t5 & 7.2   & 0.23  & 0.32  &  8.5  & 0.058 & 186   & 3.19  & 0.40  &  9.9  & 6     & white\\\\\n",
       "\t6 & 8.1   & 0.28  & 0.40  &  6.9  & 0.050 &  97   & 3.26  & 0.44  & 10.1  & 6     & white\\\\\n",
       "\t18 & 6.2   & 0.66  & 0.48  &  1.2  & 0.029 &  75   & 3.33  & 0.39  & 12.8  & 8     & white\\\\\n",
       "\t20 & 6.5   & 0.31  & 0.14  &  7.5  & 0.044 & 133   & 3.22  & 0.50  &  9.5  & 5     & white\\\\\n",
       "\\end{tabular}\n"
      ],
      "text/markdown": [
       "\n",
       "| <!--/--> | fixed.acidity | volatile.acidity | citric.acid | residual.sugar | chlorides | total.sulfur.dioxide | pH | sulphates | alcohol | quality | Class | \n",
       "|---|---|---|---|---|---|\n",
       "| 1 | 7.0   | 0.27  | 0.36  | 20.7  | 0.045 | 170   | 3.00  | 0.45  |  8.8  | 6     | white | \n",
       "| 4 | 7.2   | 0.23  | 0.32  |  8.5  | 0.058 | 186   | 3.19  | 0.40  |  9.9  | 6     | white | \n",
       "| 5 | 7.2   | 0.23  | 0.32  |  8.5  | 0.058 | 186   | 3.19  | 0.40  |  9.9  | 6     | white | \n",
       "| 6 | 8.1   | 0.28  | 0.40  |  6.9  | 0.050 |  97   | 3.26  | 0.44  | 10.1  | 6     | white | \n",
       "| 18 | 6.2   | 0.66  | 0.48  |  1.2  | 0.029 |  75   | 3.33  | 0.39  | 12.8  | 8     | white | \n",
       "| 20 | 6.5   | 0.31  | 0.14  |  7.5  | 0.044 | 133   | 3.22  | 0.50  |  9.5  | 5     | white | \n",
       "\n",
       "\n"
      ],
      "text/plain": [
       "   fixed.acidity volatile.acidity citric.acid residual.sugar chlorides\n",
       "1  7.0           0.27             0.36        20.7           0.045    \n",
       "4  7.2           0.23             0.32         8.5           0.058    \n",
       "5  7.2           0.23             0.32         8.5           0.058    \n",
       "6  8.1           0.28             0.40         6.9           0.050    \n",
       "18 6.2           0.66             0.48         1.2           0.029    \n",
       "20 6.5           0.31             0.14         7.5           0.044    \n",
       "   total.sulfur.dioxide pH   sulphates alcohol quality Class\n",
       "1  170                  3.00 0.45       8.8    6       white\n",
       "4  186                  3.19 0.40       9.9    6       white\n",
       "5  186                  3.19 0.40       9.9    6       white\n",
       "6   97                  3.26 0.44      10.1    6       white\n",
       "18  75                  3.33 0.39      12.8    8       white\n",
       "20 133                  3.22 0.50       9.5    5       white"
      ]
     },
     "metadata": {},
     "output_type": "display_data"
    }
   ],
   "source": [
    "#taking a look of the train and test dataset by columns \n",
    "head(training)\n",
    "head(testing)"
   ]
  },
  {
   "cell_type": "code",
   "execution_count": 37,
   "metadata": {},
   "outputs": [
    {
     "name": "stdout",
     "output_type": "stream",
     "text": [
      "'data.frame':\t4549 obs. of  11 variables:\n",
      " $ fixed.acidity       : num  6.3 8.1 6.2 7 6.3 8.1 8.1 8.6 7.9 6.6 ...\n",
      " $ volatile.acidity    : num  0.3 0.28 0.32 0.27 0.3 0.22 0.27 0.23 0.18 0.16 ...\n",
      " $ citric.acid         : num  0.34 0.4 0.16 0.36 0.34 0.43 0.41 0.4 0.37 0.4 ...\n",
      " $ residual.sugar      : num  1.6 6.9 7 20.7 1.6 1.5 1.45 4.2 1.2 1.5 ...\n",
      " $ chlorides           : num  0.049 0.05 0.045 0.045 0.049 0.044 0.033 0.035 0.04 0.044 ...\n",
      " $ total.sulfur.dioxide: num  132 97 136 170 132 129 63 109 75 143 ...\n",
      " $ pH                  : num  3.3 3.26 3.18 3 3.3 3.22 2.99 3.14 3.18 3.54 ...\n",
      " $ sulphates           : num  0.49 0.44 0.47 0.45 0.49 0.45 0.56 0.53 0.63 0.52 ...\n",
      " $ alcohol             : num  9.5 10.1 9.6 8.8 9.5 11 12 9.7 10.8 12.4 ...\n",
      " $ quality             : int  6 6 6 6 6 6 5 5 5 7 ...\n",
      " $ Class               : Factor w/ 2 levels \"white\",\"red\": 1 1 1 1 1 1 1 1 1 1 ...\n"
     ]
    }
   ],
   "source": [
    "# get some information about training dataset\n",
    "str(training[,1:11])"
   ]
  },
  {
   "cell_type": "code",
   "execution_count": 38,
   "metadata": {},
   "outputs": [
    {
     "name": "stdout",
     "output_type": "stream",
     "text": [
      "'data.frame':\t1948 obs. of  11 variables:\n",
      " $ fixed.acidity       : num  7 7.2 7.2 8.1 6.2 6.5 6.8 6.6 7.2 6.2 ...\n",
      " $ volatile.acidity    : num  0.27 0.23 0.23 0.28 0.66 0.31 0.26 0.27 0.32 0.12 ...\n",
      " $ citric.acid         : num  0.36 0.32 0.32 0.4 0.48 0.14 0.42 0.41 0.36 0.34 ...\n",
      " $ residual.sugar      : num  20.7 8.5 8.5 6.9 1.2 7.5 1.7 1.3 2 1.5 ...\n",
      " $ chlorides           : num  0.045 0.058 0.058 0.05 0.029 0.044 0.049 0.052 0.033 0.045 ...\n",
      " $ total.sulfur.dioxide: num  170 186 186 97 75 133 122 142 114 117 ...\n",
      " $ pH                  : num  3 3.19 3.19 3.26 3.33 3.22 3.47 3.42 3.1 3.42 ...\n",
      " $ sulphates           : num  0.45 0.4 0.4 0.44 0.39 0.5 0.48 0.47 0.71 0.51 ...\n",
      " $ alcohol             : num  8.8 9.9 9.9 10.1 12.8 9.5 10.5 10 12.3 9 ...\n",
      " $ quality             : int  6 6 6 6 8 5 8 6 7 6 ...\n",
      " $ Class               : Factor w/ 2 levels \"white\",\"red\": 1 1 1 1 1 1 1 1 1 1 ...\n"
     ]
    }
   ],
   "source": [
    "# get some information about testing dataset\n",
    "str(testing[,1:11])"
   ]
  },
  {
   "cell_type": "code",
   "execution_count": 1,
   "metadata": {
    "collapsed": true
   },
   "outputs": [],
   "source": [
    "#summarize full dataset by columns \n",
    "propmiss <- function(dataframe) {\n",
    "\tm <- sapply(dataframe, function(x) {\n",
    "\t\tdata.frame(\n",
    "\t\t\tn=length(!is.na(x)), \n",
    "\t\t\tnmiss=sum(is.na(x)), \n",
    "\t\t\tpropmiss=sum(is.na(x))/length(x),\n",
    "\t\t\tP25=round(quantile(x, 0.25, na.rm=TRUE),2),\n",
    "\t\t\tP75=round(quantile(x, 0.75, na.rm=TRUE),2),            \n",
    "\t\t\tIQR=round(IQR(x, na.rm=TRUE),2),\n",
    "\t\t\tThreshold= round(quantile(x, 0.75, na.rm=TRUE),2) + 1.5*round(IQR(x, na.rm=TRUE),2),            \n",
    "\t\t\tMinimum=round(min(x, na.rm=TRUE),2),\n",
    "\t\t\tMedian=round(median(x, na.rm=TRUE),2),            \n",
    "\t\t\tMaximum=round(max(x, na.rm=TRUE),2),\n",
    "\t\t\tRange=round(max(x, na.rm=TRUE)-min(x, na.rm=TRUE),2),\n",
    "\t\t\tMean=round(mean(x, na.rm=TRUE),2),\n",
    "\t\t\tStDev=round(sd(x, na.rm=TRUE),2)\n",
    "\t\t)\n",
    "\t})\n",
    "\td <- data.frame(t(m))\n",
    "\td <- sapply(d, unlist)\n",
    "\td <- as.data.frame(d)\n",
    "\td$variable <- row.names(d)\n",
    "\trow.names(d) <- NULL\n",
    "\td <- cbind(d[ncol(d)],d[-ncol(d)])\n",
    "\treturn(d[order(d$propmiss), ])\n",
    "}"
   ]
  },
  {
   "cell_type": "code",
   "execution_count": 39,
   "metadata": {},
   "outputs": [
    {
     "data": {
      "text/html": [
       "<table>\n",
       "<thead><tr><th scope=col>variable</th><th scope=col>n</th><th scope=col>P25</th><th scope=col>P75</th><th scope=col>IQR</th><th scope=col>Minimum</th><th scope=col>Median</th><th scope=col>Maximum</th><th scope=col>Range</th><th scope=col>Mean</th><th scope=col>StDev</th></tr></thead>\n",
       "<tbody>\n",
       "\t<tr><td>fixed.acidity       </td><td>4549                </td><td> 6.40               </td><td>  7.60              </td><td> 1.20               </td><td>4.20                </td><td>  7.00              </td><td> 15.90              </td><td> 11.70              </td><td>  7.20              </td><td> 1.27               </td></tr>\n",
       "\t<tr><td>volatile.acidity    </td><td>4549                </td><td> 0.23               </td><td>  0.41              </td><td> 0.18               </td><td>0.08                </td><td>  0.30              </td><td>  1.58              </td><td>  1.50              </td><td>  0.34              </td><td> 0.17               </td></tr>\n",
       "\t<tr><td>citric.acid         </td><td>4549                </td><td> 0.24               </td><td>  0.39              </td><td> 0.15               </td><td>0.00                </td><td>  0.31              </td><td>  1.66              </td><td>  1.66              </td><td>  0.32              </td><td> 0.14               </td></tr>\n",
       "\t<tr><td>residual.sugar      </td><td>4549                </td><td> 1.80               </td><td>  8.10              </td><td> 6.30               </td><td>0.60                </td><td>  2.90              </td><td> 65.80              </td><td> 65.20              </td><td>  5.43              </td><td> 4.79               </td></tr>\n",
       "\t<tr><td>chlorides           </td><td>4549                </td><td> 0.04               </td><td>  0.06              </td><td> 0.03               </td><td>0.01                </td><td>  0.05              </td><td>  0.61              </td><td>  0.60              </td><td>  0.06              </td><td> 0.04               </td></tr>\n",
       "\t<tr><td>total.sulfur.dioxide</td><td>4549                </td><td>78.00               </td><td>156.00              </td><td>78.00               </td><td>6.00                </td><td>119.00              </td><td>440.00              </td><td>434.00              </td><td>116.16              </td><td>56.48               </td></tr>\n",
       "\t<tr><td>pH                  </td><td>4549                </td><td> 3.11               </td><td>  3.32              </td><td> 0.21               </td><td>2.72                </td><td>  3.20              </td><td>  4.01              </td><td>  1.29              </td><td>  3.22              </td><td> 0.16               </td></tr>\n",
       "\t<tr><td>sulphates           </td><td>4549                </td><td> 0.43               </td><td>  0.60              </td><td> 0.17               </td><td>0.22                </td><td>  0.51              </td><td>  2.00              </td><td>  1.78              </td><td>  0.53              </td><td> 0.15               </td></tr>\n",
       "\t<tr><td>alcohol             </td><td>4549                </td><td> 9.50               </td><td> 11.30              </td><td> 1.80               </td><td>8.00                </td><td> 10.30              </td><td> 14.90              </td><td>  6.90              </td><td> 10.50              </td><td> 1.19               </td></tr>\n",
       "\t<tr><td>quality             </td><td>4549                </td><td> 5.00               </td><td>  6.00              </td><td> 1.00               </td><td>3.00                </td><td>  6.00              </td><td>  9.00              </td><td>  6.00              </td><td>  5.82              </td><td> 0.88               </td></tr>\n",
       "</tbody>\n",
       "</table>\n"
      ],
      "text/latex": [
       "\\begin{tabular}{r|lllllllllll}\n",
       " variable & n & P25 & P75 & IQR & Minimum & Median & Maximum & Range & Mean & StDev\\\\\n",
       "\\hline\n",
       "\t fixed.acidity        & 4549                 &  6.40                &   7.60               &  1.20                & 4.20                 &   7.00               &  15.90               &  11.70               &   7.20               &  1.27               \\\\\n",
       "\t volatile.acidity     & 4549                 &  0.23                &   0.41               &  0.18                & 0.08                 &   0.30               &   1.58               &   1.50               &   0.34               &  0.17               \\\\\n",
       "\t citric.acid          & 4549                 &  0.24                &   0.39               &  0.15                & 0.00                 &   0.31               &   1.66               &   1.66               &   0.32               &  0.14               \\\\\n",
       "\t residual.sugar       & 4549                 &  1.80                &   8.10               &  6.30                & 0.60                 &   2.90               &  65.80               &  65.20               &   5.43               &  4.79               \\\\\n",
       "\t chlorides            & 4549                 &  0.04                &   0.06               &  0.03                & 0.01                 &   0.05               &   0.61               &   0.60               &   0.06               &  0.04               \\\\\n",
       "\t total.sulfur.dioxide & 4549                 & 78.00                & 156.00               & 78.00                & 6.00                 & 119.00               & 440.00               & 434.00               & 116.16               & 56.48               \\\\\n",
       "\t pH                   & 4549                 &  3.11                &   3.32               &  0.21                & 2.72                 &   3.20               &   4.01               &   1.29               &   3.22               &  0.16               \\\\\n",
       "\t sulphates            & 4549                 &  0.43                &   0.60               &  0.17                & 0.22                 &   0.51               &   2.00               &   1.78               &   0.53               &  0.15               \\\\\n",
       "\t alcohol              & 4549                 &  9.50                &  11.30               &  1.80                & 8.00                 &  10.30               &  14.90               &   6.90               &  10.50               &  1.19               \\\\\n",
       "\t quality              & 4549                 &  5.00                &   6.00               &  1.00                & 3.00                 &   6.00               &   9.00               &   6.00               &   5.82               &  0.88               \\\\\n",
       "\\end{tabular}\n"
      ],
      "text/markdown": [
       "\n",
       "variable | n | P25 | P75 | IQR | Minimum | Median | Maximum | Range | Mean | StDev | \n",
       "|---|---|---|---|---|---|---|---|---|---|\n",
       "| fixed.acidity        | 4549                 |  6.40                |   7.60               |  1.20                | 4.20                 |   7.00               |  15.90               |  11.70               |   7.20               |  1.27                | \n",
       "| volatile.acidity     | 4549                 |  0.23                |   0.41               |  0.18                | 0.08                 |   0.30               |   1.58               |   1.50               |   0.34               |  0.17                | \n",
       "| citric.acid          | 4549                 |  0.24                |   0.39               |  0.15                | 0.00                 |   0.31               |   1.66               |   1.66               |   0.32               |  0.14                | \n",
       "| residual.sugar       | 4549                 |  1.80                |   8.10               |  6.30                | 0.60                 |   2.90               |  65.80               |  65.20               |   5.43               |  4.79                | \n",
       "| chlorides            | 4549                 |  0.04                |   0.06               |  0.03                | 0.01                 |   0.05               |   0.61               |   0.60               |   0.06               |  0.04                | \n",
       "| total.sulfur.dioxide | 4549                 | 78.00                | 156.00               | 78.00                | 6.00                 | 119.00               | 440.00               | 434.00               | 116.16               | 56.48                | \n",
       "| pH                   | 4549                 |  3.11                |   3.32               |  0.21                | 2.72                 |   3.20               |   4.01               |   1.29               |   3.22               |  0.16                | \n",
       "| sulphates            | 4549                 |  0.43                |   0.60               |  0.17                | 0.22                 |   0.51               |   2.00               |   1.78               |   0.53               |  0.15                | \n",
       "| alcohol              | 4549                 |  9.50                |  11.30               |  1.80                | 8.00                 |  10.30               |  14.90               |   6.90               |  10.50               |  1.19                | \n",
       "| quality              | 4549                 |  5.00                |   6.00               |  1.00                | 3.00                 |   6.00               |   9.00               |   6.00               |   5.82               |  0.88                | \n",
       "\n",
       "\n"
      ],
      "text/plain": [
       "   variable             n    P25   P75    IQR   Minimum Median Maximum Range \n",
       "1  fixed.acidity        4549  6.40   7.60  1.20 4.20      7.00  15.90   11.70\n",
       "2  volatile.acidity     4549  0.23   0.41  0.18 0.08      0.30   1.58    1.50\n",
       "3  citric.acid          4549  0.24   0.39  0.15 0.00      0.31   1.66    1.66\n",
       "4  residual.sugar       4549  1.80   8.10  6.30 0.60      2.90  65.80   65.20\n",
       "5  chlorides            4549  0.04   0.06  0.03 0.01      0.05   0.61    0.60\n",
       "6  total.sulfur.dioxide 4549 78.00 156.00 78.00 6.00    119.00 440.00  434.00\n",
       "7  pH                   4549  3.11   3.32  0.21 2.72      3.20   4.01    1.29\n",
       "8  sulphates            4549  0.43   0.60  0.17 0.22      0.51   2.00    1.78\n",
       "9  alcohol              4549  9.50  11.30  1.80 8.00     10.30  14.90    6.90\n",
       "10 quality              4549  5.00   6.00  1.00 3.00      6.00   9.00    6.00\n",
       "   Mean   StDev\n",
       "1    7.20  1.27\n",
       "2    0.34  0.17\n",
       "3    0.32  0.14\n",
       "4    5.43  4.79\n",
       "5    0.06  0.04\n",
       "6  116.16 56.48\n",
       "7    3.22  0.16\n",
       "8    0.53  0.15\n",
       "9   10.50  1.19\n",
       "10   5.82  0.88"
      ]
     },
     "metadata": {},
     "output_type": "display_data"
    }
   ],
   "source": [
    "# summarize training dataset\n",
    "(summary=propmiss(training[,-11])[,-(3:4)][,-6])"
   ]
  },
  {
   "cell_type": "code",
   "execution_count": 40,
   "metadata": {},
   "outputs": [
    {
     "data": {
      "text/html": [
       "<table>\n",
       "<thead><tr><th scope=col>variable</th><th scope=col>n</th><th scope=col>P25</th><th scope=col>P75</th><th scope=col>IQR</th><th scope=col>Minimum</th><th scope=col>Median</th><th scope=col>Maximum</th><th scope=col>Range</th><th scope=col>Mean</th><th scope=col>StDev</th></tr></thead>\n",
       "<tbody>\n",
       "\t<tr><td>fixed.acidity       </td><td>1948                </td><td> 6.40               </td><td>  7.80              </td><td> 1.40               </td><td>3.80                </td><td>  7.00              </td><td> 15.60              </td><td> 11.80              </td><td>  7.26              </td><td> 1.35               </td></tr>\n",
       "\t<tr><td>volatile.acidity    </td><td>1948                </td><td> 0.23               </td><td>  0.40              </td><td> 0.17               </td><td>0.08                </td><td>  0.29              </td><td>  1.33              </td><td>  1.25              </td><td>  0.33              </td><td> 0.16               </td></tr>\n",
       "\t<tr><td>citric.acid         </td><td>1948                </td><td> 0.25               </td><td>  0.40              </td><td> 0.15               </td><td>0.00                </td><td>  0.31              </td><td>  1.00              </td><td>  1.00              </td><td>  0.32              </td><td> 0.15               </td></tr>\n",
       "\t<tr><td>residual.sugar      </td><td>1948                </td><td> 1.80               </td><td>  8.10              </td><td> 6.30               </td><td>0.60                </td><td>  3.20              </td><td> 22.60              </td><td> 22.00              </td><td>  5.47              </td><td> 4.69               </td></tr>\n",
       "\t<tr><td>chlorides           </td><td>1948                </td><td> 0.04               </td><td>  0.06              </td><td> 0.03               </td><td>0.01                </td><td>  0.05              </td><td>  0.47              </td><td>  0.46              </td><td>  0.06              </td><td> 0.03               </td></tr>\n",
       "\t<tr><td>total.sulfur.dioxide</td><td>1948                </td><td>75.75               </td><td>155.00              </td><td>79.25               </td><td>6.00                </td><td>117.00              </td><td>344.00              </td><td>338.00              </td><td>114.77              </td><td>56.62               </td></tr>\n",
       "\t<tr><td>pH                  </td><td>1948                </td><td> 3.10               </td><td>  3.32              </td><td> 0.22               </td><td>2.79                </td><td>  3.21              </td><td>  3.90              </td><td>  1.11              </td><td>  3.22              </td><td> 0.16               </td></tr>\n",
       "\t<tr><td>sulphates           </td><td>1948                </td><td> 0.43               </td><td>  0.60              </td><td> 0.17               </td><td>0.25                </td><td>  0.50              </td><td>  1.56              </td><td>  1.31              </td><td>  0.53              </td><td> 0.15               </td></tr>\n",
       "\t<tr><td>alcohol             </td><td>1948                </td><td> 9.50               </td><td> 11.30              </td><td> 1.80               </td><td>8.00                </td><td> 10.30              </td><td> 14.05              </td><td>  6.05              </td><td> 10.47              </td><td> 1.20               </td></tr>\n",
       "\t<tr><td>quality             </td><td>1948                </td><td> 5.00               </td><td>  6.00              </td><td> 1.00               </td><td>3.00                </td><td>  6.00              </td><td>  9.00              </td><td>  6.00              </td><td>  5.82              </td><td> 0.85               </td></tr>\n",
       "</tbody>\n",
       "</table>\n"
      ],
      "text/latex": [
       "\\begin{tabular}{r|lllllllllll}\n",
       " variable & n & P25 & P75 & IQR & Minimum & Median & Maximum & Range & Mean & StDev\\\\\n",
       "\\hline\n",
       "\t fixed.acidity        & 1948                 &  6.40                &   7.80               &  1.40                & 3.80                 &   7.00               &  15.60               &  11.80               &   7.26               &  1.35               \\\\\n",
       "\t volatile.acidity     & 1948                 &  0.23                &   0.40               &  0.17                & 0.08                 &   0.29               &   1.33               &   1.25               &   0.33               &  0.16               \\\\\n",
       "\t citric.acid          & 1948                 &  0.25                &   0.40               &  0.15                & 0.00                 &   0.31               &   1.00               &   1.00               &   0.32               &  0.15               \\\\\n",
       "\t residual.sugar       & 1948                 &  1.80                &   8.10               &  6.30                & 0.60                 &   3.20               &  22.60               &  22.00               &   5.47               &  4.69               \\\\\n",
       "\t chlorides            & 1948                 &  0.04                &   0.06               &  0.03                & 0.01                 &   0.05               &   0.47               &   0.46               &   0.06               &  0.03               \\\\\n",
       "\t total.sulfur.dioxide & 1948                 & 75.75                & 155.00               & 79.25                & 6.00                 & 117.00               & 344.00               & 338.00               & 114.77               & 56.62               \\\\\n",
       "\t pH                   & 1948                 &  3.10                &   3.32               &  0.22                & 2.79                 &   3.21               &   3.90               &   1.11               &   3.22               &  0.16               \\\\\n",
       "\t sulphates            & 1948                 &  0.43                &   0.60               &  0.17                & 0.25                 &   0.50               &   1.56               &   1.31               &   0.53               &  0.15               \\\\\n",
       "\t alcohol              & 1948                 &  9.50                &  11.30               &  1.80                & 8.00                 &  10.30               &  14.05               &   6.05               &  10.47               &  1.20               \\\\\n",
       "\t quality              & 1948                 &  5.00                &   6.00               &  1.00                & 3.00                 &   6.00               &   9.00               &   6.00               &   5.82               &  0.85               \\\\\n",
       "\\end{tabular}\n"
      ],
      "text/markdown": [
       "\n",
       "variable | n | P25 | P75 | IQR | Minimum | Median | Maximum | Range | Mean | StDev | \n",
       "|---|---|---|---|---|---|---|---|---|---|\n",
       "| fixed.acidity        | 1948                 |  6.40                |   7.80               |  1.40                | 3.80                 |   7.00               |  15.60               |  11.80               |   7.26               |  1.35                | \n",
       "| volatile.acidity     | 1948                 |  0.23                |   0.40               |  0.17                | 0.08                 |   0.29               |   1.33               |   1.25               |   0.33               |  0.16                | \n",
       "| citric.acid          | 1948                 |  0.25                |   0.40               |  0.15                | 0.00                 |   0.31               |   1.00               |   1.00               |   0.32               |  0.15                | \n",
       "| residual.sugar       | 1948                 |  1.80                |   8.10               |  6.30                | 0.60                 |   3.20               |  22.60               |  22.00               |   5.47               |  4.69                | \n",
       "| chlorides            | 1948                 |  0.04                |   0.06               |  0.03                | 0.01                 |   0.05               |   0.47               |   0.46               |   0.06               |  0.03                | \n",
       "| total.sulfur.dioxide | 1948                 | 75.75                | 155.00               | 79.25                | 6.00                 | 117.00               | 344.00               | 338.00               | 114.77               | 56.62                | \n",
       "| pH                   | 1948                 |  3.10                |   3.32               |  0.22                | 2.79                 |   3.21               |   3.90               |   1.11               |   3.22               |  0.16                | \n",
       "| sulphates            | 1948                 |  0.43                |   0.60               |  0.17                | 0.25                 |   0.50               |   1.56               |   1.31               |   0.53               |  0.15                | \n",
       "| alcohol              | 1948                 |  9.50                |  11.30               |  1.80                | 8.00                 |  10.30               |  14.05               |   6.05               |  10.47               |  1.20                | \n",
       "| quality              | 1948                 |  5.00                |   6.00               |  1.00                | 3.00                 |   6.00               |   9.00               |   6.00               |   5.82               |  0.85                | \n",
       "\n",
       "\n"
      ],
      "text/plain": [
       "   variable             n    P25   P75    IQR   Minimum Median Maximum Range \n",
       "1  fixed.acidity        1948  6.40   7.80  1.40 3.80      7.00  15.60   11.80\n",
       "2  volatile.acidity     1948  0.23   0.40  0.17 0.08      0.29   1.33    1.25\n",
       "3  citric.acid          1948  0.25   0.40  0.15 0.00      0.31   1.00    1.00\n",
       "4  residual.sugar       1948  1.80   8.10  6.30 0.60      3.20  22.60   22.00\n",
       "5  chlorides            1948  0.04   0.06  0.03 0.01      0.05   0.47    0.46\n",
       "6  total.sulfur.dioxide 1948 75.75 155.00 79.25 6.00    117.00 344.00  338.00\n",
       "7  pH                   1948  3.10   3.32  0.22 2.79      3.21   3.90    1.11\n",
       "8  sulphates            1948  0.43   0.60  0.17 0.25      0.50   1.56    1.31\n",
       "9  alcohol              1948  9.50  11.30  1.80 8.00     10.30  14.05    6.05\n",
       "10 quality              1948  5.00   6.00  1.00 3.00      6.00   9.00    6.00\n",
       "   Mean   StDev\n",
       "1    7.26  1.35\n",
       "2    0.33  0.16\n",
       "3    0.32  0.15\n",
       "4    5.47  4.69\n",
       "5    0.06  0.03\n",
       "6  114.77 56.62\n",
       "7    3.22  0.16\n",
       "8    0.53  0.15\n",
       "9   10.47  1.20\n",
       "10   5.82  0.85"
      ]
     },
     "metadata": {},
     "output_type": "display_data"
    }
   ],
   "source": [
    "# summarize testing dataset\n",
    "(summary=propmiss(testing[,-11])[,-(3:4)][,-6])"
   ]
  },
  {
   "cell_type": "markdown",
   "metadata": {},
   "source": [
    "## IV Building models\n",
    " \n",
    "I have considered linear (LR and LDA), nonlinear (KNN, CART, RF, NB, and SVM) algorithms. I use \"set.seed(7)\" so that same sample can be reproduced in the future and also it ensures the results are directly comparable."
   ]
  },
  {
   "cell_type": "markdown",
   "metadata": {
    "collapsed": true
   },
   "source": [
    "### 41 CART"
   ]
  },
  {
   "cell_type": "code",
   "execution_count": 7,
   "metadata": {
    "collapsed": true
   },
   "outputs": [],
   "source": [
    "## Control Resampling Technique: 10-fold CV\n",
    "cvCtrl <- trainControl(method = \"cv\", number=10, summaryFunction = twoClassSummary, classProbs = TRUE)"
   ]
  },
  {
   "cell_type": "code",
   "execution_count": 8,
   "metadata": {},
   "outputs": [
    {
     "name": "stderr",
     "output_type": "stream",
     "text": [
      "Loading required package: rpart\n"
     ]
    }
   ],
   "source": [
    "## Construction Predictive Model\n",
    "set.seed(1)\n",
    "rpartTune <- train(Class ~ ., data = training, method = \"rpart\", tuneLength = 30, preProc = c(\"center\", \"scale\"), metric = \"ROC\",  trControl = cvCtrl)"
   ]
  },
  {
   "cell_type": "code",
   "execution_count": 9,
   "metadata": {},
   "outputs": [
    {
     "data": {
      "text/plain": [
       "CART \n",
       "\n",
       "4549 samples\n",
       "  10 predictor\n",
       "   2 classes: 'white', 'red' \n",
       "\n",
       "Pre-processing: centered (10), scaled (10) \n",
       "Resampling: Cross-Validated (10 fold) \n",
       "Summary of sample sizes: 4094, 4094, 4095, 4094, 4094, 4094, ... \n",
       "Resampling results across tuning parameters:\n",
       "\n",
       "  cp          ROC        Sens       Spec     \n",
       "  0.00000000  0.9878478  0.9839582  0.9607143\n",
       "  0.02358374  0.9755545  0.9810453  0.9339286\n",
       "  0.04716749  0.9758366  0.9755034  0.9357143\n",
       "  0.07075123  0.8976229  0.9769645  0.8008929\n",
       "  0.09433498  0.8976229  0.9769645  0.8008929\n",
       "  0.11791872  0.8847864  0.9454657  0.8241071\n",
       "  0.14150246  0.8847864  0.9454657  0.8241071\n",
       "  0.16508621  0.8847864  0.9454657  0.8241071\n",
       "  0.18866995  0.8847864  0.9454657  0.8241071\n",
       "  0.21225369  0.8847864  0.9454657  0.8241071\n",
       "  0.23583744  0.8847864  0.9454657  0.8241071\n",
       "  0.25942118  0.8847864  0.9454657  0.8241071\n",
       "  0.28300493  0.8847864  0.9454657  0.8241071\n",
       "  0.30658867  0.8847864  0.9454657  0.8241071\n",
       "  0.33017241  0.8847864  0.9454657  0.8241071\n",
       "  0.35375616  0.8847864  0.9454657  0.8241071\n",
       "  0.37733990  0.8847864  0.9454657  0.8241071\n",
       "  0.40092365  0.8847864  0.9454657  0.8241071\n",
       "  0.42450739  0.8847864  0.9454657  0.8241071\n",
       "  0.44809113  0.8847864  0.9454657  0.8241071\n",
       "  0.47167488  0.8847864  0.9454657  0.8241071\n",
       "  0.49525862  0.8847864  0.9454657  0.8241071\n",
       "  0.51884236  0.8847864  0.9454657  0.8241071\n",
       "  0.54242611  0.8847864  0.9454657  0.8241071\n",
       "  0.56600985  0.8847864  0.9454657  0.8241071\n",
       "  0.58959360  0.8847864  0.9454657  0.8241071\n",
       "  0.61317734  0.8847864  0.9454657  0.8241071\n",
       "  0.63676108  0.8847864  0.9454657  0.8241071\n",
       "  0.66034483  0.8847864  0.9454657  0.8241071\n",
       "  0.68392857  0.7615448  0.9623753  0.5607143\n",
       "\n",
       "ROC was used to select the optimal model using  the largest value.\n",
       "The final value used for the model was cp = 0."
      ]
     },
     "metadata": {},
     "output_type": "display_data"
    }
   ],
   "source": [
    "## train results\n",
    "rpartTune"
   ]
  },
  {
   "cell_type": "code",
   "execution_count": 45,
   "metadata": {},
   "outputs": [
    {
     "data": {
      "text/html": [
       "<table>\n",
       "<thead><tr><th scope=col>cp</th></tr></thead>\n",
       "<tbody>\n",
       "\t<tr><td>0</td></tr>\n",
       "</tbody>\n",
       "</table>\n"
      ],
      "text/latex": [
       "\\begin{tabular}{r|l}\n",
       " cp\\\\\n",
       "\\hline\n",
       "\t 0\\\\\n",
       "\\end{tabular}\n"
      ],
      "text/markdown": [
       "\n",
       "cp | \n",
       "|---|\n",
       "| 0 | \n",
       "\n",
       "\n"
      ],
      "text/plain": [
       "  cp\n",
       "1 0 "
      ]
     },
     "metadata": {},
     "output_type": "display_data"
    }
   ],
   "source": [
    "rpartTune$bestTune"
   ]
  },
  {
   "cell_type": "code",
   "execution_count": 46,
   "metadata": {},
   "outputs": [
    {
     "data": {
      "text/html": [
       "<table>\n",
       "<thead><tr><th scope=col>cp</th><th scope=col>ROC</th><th scope=col>Sens</th><th scope=col>Spec</th><th scope=col>ROCSD</th><th scope=col>SensSD</th><th scope=col>SpecSD</th></tr></thead>\n",
       "<tbody>\n",
       "\t<tr><td>0.00000000 </td><td>0.9878478  </td><td>0.9839582  </td><td>0.9607143  </td><td>0.007702258</td><td>0.012005679</td><td>0.01276643 </td></tr>\n",
       "\t<tr><td>0.02358374 </td><td>0.9755545  </td><td>0.9810453  </td><td>0.9339286  </td><td>0.006364581</td><td>0.009444961</td><td>0.03319487 </td></tr>\n",
       "\t<tr><td>0.04716749 </td><td>0.9758366  </td><td>0.9755034  </td><td>0.9357143  </td><td>0.007139131</td><td>0.010662646</td><td>0.03440044 </td></tr>\n",
       "\t<tr><td>0.07075123 </td><td>0.8976229  </td><td>0.9769645  </td><td>0.8008929  </td><td>0.034410621</td><td>0.013975560</td><td>0.04649911 </td></tr>\n",
       "\t<tr><td>0.09433498 </td><td>0.8976229  </td><td>0.9769645  </td><td>0.8008929  </td><td>0.034410621</td><td>0.013975560</td><td>0.04649911 </td></tr>\n",
       "\t<tr><td>0.11791872 </td><td>0.8847864  </td><td>0.9454657  </td><td>0.8241071  </td><td>0.025983959</td><td>0.012820212</td><td>0.06114605 </td></tr>\n",
       "</tbody>\n",
       "</table>\n"
      ],
      "text/latex": [
       "\\begin{tabular}{r|lllllll}\n",
       " cp & ROC & Sens & Spec & ROCSD & SensSD & SpecSD\\\\\n",
       "\\hline\n",
       "\t 0.00000000  & 0.9878478   & 0.9839582   & 0.9607143   & 0.007702258 & 0.012005679 & 0.01276643 \\\\\n",
       "\t 0.02358374  & 0.9755545   & 0.9810453   & 0.9339286   & 0.006364581 & 0.009444961 & 0.03319487 \\\\\n",
       "\t 0.04716749  & 0.9758366   & 0.9755034   & 0.9357143   & 0.007139131 & 0.010662646 & 0.03440044 \\\\\n",
       "\t 0.07075123  & 0.8976229   & 0.9769645   & 0.8008929   & 0.034410621 & 0.013975560 & 0.04649911 \\\\\n",
       "\t 0.09433498  & 0.8976229   & 0.9769645   & 0.8008929   & 0.034410621 & 0.013975560 & 0.04649911 \\\\\n",
       "\t 0.11791872  & 0.8847864   & 0.9454657   & 0.8241071   & 0.025983959 & 0.012820212 & 0.06114605 \\\\\n",
       "\\end{tabular}\n"
      ],
      "text/markdown": [
       "\n",
       "cp | ROC | Sens | Spec | ROCSD | SensSD | SpecSD | \n",
       "|---|---|---|---|---|---|\n",
       "| 0.00000000  | 0.9878478   | 0.9839582   | 0.9607143   | 0.007702258 | 0.012005679 | 0.01276643  | \n",
       "| 0.02358374  | 0.9755545   | 0.9810453   | 0.9339286   | 0.006364581 | 0.009444961 | 0.03319487  | \n",
       "| 0.04716749  | 0.9758366   | 0.9755034   | 0.9357143   | 0.007139131 | 0.010662646 | 0.03440044  | \n",
       "| 0.07075123  | 0.8976229   | 0.9769645   | 0.8008929   | 0.034410621 | 0.013975560 | 0.04649911  | \n",
       "| 0.09433498  | 0.8976229   | 0.9769645   | 0.8008929   | 0.034410621 | 0.013975560 | 0.04649911  | \n",
       "| 0.11791872  | 0.8847864   | 0.9454657   | 0.8241071   | 0.025983959 | 0.012820212 | 0.06114605  | \n",
       "\n",
       "\n"
      ],
      "text/plain": [
       "  cp         ROC       Sens      Spec      ROCSD       SensSD      SpecSD    \n",
       "1 0.00000000 0.9878478 0.9839582 0.9607143 0.007702258 0.012005679 0.01276643\n",
       "2 0.02358374 0.9755545 0.9810453 0.9339286 0.006364581 0.009444961 0.03319487\n",
       "3 0.04716749 0.9758366 0.9755034 0.9357143 0.007139131 0.010662646 0.03440044\n",
       "4 0.07075123 0.8976229 0.9769645 0.8008929 0.034410621 0.013975560 0.04649911\n",
       "5 0.09433498 0.8976229 0.9769645 0.8008929 0.034410621 0.013975560 0.04649911\n",
       "6 0.11791872 0.8847864 0.9454657 0.8241071 0.025983959 0.012820212 0.06114605"
      ]
     },
     "metadata": {},
     "output_type": "display_data"
    }
   ],
   "source": [
    "head(rpartTune$results)"
   ]
  },
  {
   "cell_type": "code",
   "execution_count": 47,
   "metadata": {},
   "outputs": [
    {
     "data": {
      "text/html": [
       "<table>\n",
       "<thead><tr><th scope=col>cp</th><th scope=col>ROC</th><th scope=col>Sens</th><th scope=col>Spec</th><th scope=col>ROCSD</th><th scope=col>SensSD</th><th scope=col>SpecSD</th></tr></thead>\n",
       "<tbody>\n",
       "\t<tr><td>0          </td><td>0.9878478  </td><td>0.9839582  </td><td>0.9607143  </td><td>0.007702258</td><td>0.01200568 </td><td>0.01276643 </td></tr>\n",
       "</tbody>\n",
       "</table>\n"
      ],
      "text/latex": [
       "\\begin{tabular}{r|lllllll}\n",
       " cp & ROC & Sens & Spec & ROCSD & SensSD & SpecSD\\\\\n",
       "\\hline\n",
       "\t 0           & 0.9878478   & 0.9839582   & 0.9607143   & 0.007702258 & 0.01200568  & 0.01276643 \\\\\n",
       "\\end{tabular}\n"
      ],
      "text/markdown": [
       "\n",
       "cp | ROC | Sens | Spec | ROCSD | SensSD | SpecSD | \n",
       "|---|\n",
       "| 0           | 0.9878478   | 0.9839582   | 0.9607143   | 0.007702258 | 0.01200568  | 0.01276643  | \n",
       "\n",
       "\n"
      ],
      "text/plain": [
       "  cp ROC       Sens      Spec      ROCSD       SensSD     SpecSD    \n",
       "1 0  0.9878478 0.9839582 0.9607143 0.007702258 0.01200568 0.01276643"
      ]
     },
     "metadata": {},
     "output_type": "display_data"
    }
   ],
   "source": [
    "(rpartTune$results)[1,]"
   ]
  },
  {
   "cell_type": "code",
   "execution_count": 48,
   "metadata": {},
   "outputs": [
    {
     "data": {},
     "metadata": {},
     "output_type": "display_data"
    },
    {
     "data": {
      "image/png": "[encoded data removed]",
      "text/plain": [
       "plot without title"
      ]
     },
     "metadata": {},
     "output_type": "display_data"
    }
   ],
   "source": [
    "## Plot train tune\n",
    "plot(rpartTune)"
   ]
  },
  {
   "cell_type": "code",
   "execution_count": 10,
   "metadata": {},
   "outputs": [
    {
     "data": {
      "text/plain": [
       "Confusion Matrix and Statistics\n",
       "\n",
       "          Reference\n",
       "Prediction white  red\n",
       "     white  1444   23\n",
       "     red      25  456\n",
       "                                          \n",
       "               Accuracy : 0.9754          \n",
       "                 95% CI : (0.9675, 0.9818)\n",
       "    No Information Rate : 0.7541          \n",
       "    P-Value [Acc > NIR] : <2e-16          \n",
       "                                          \n",
       "                  Kappa : 0.9337          \n",
       " Mcnemar's Test P-Value : 0.8852          \n",
       "                                          \n",
       "            Sensitivity : 0.9830          \n",
       "            Specificity : 0.9520          \n",
       "         Pos Pred Value : 0.9843          \n",
       "         Neg Pred Value : 0.9480          \n",
       "             Prevalence : 0.7541          \n",
       "         Detection Rate : 0.7413          \n",
       "   Detection Prevalence : 0.7531          \n",
       "      Balanced Accuracy : 0.9675          \n",
       "                                          \n",
       "       'Positive' Class : white           \n",
       "                                          "
      ]
     },
     "metadata": {},
     "output_type": "display_data"
    }
   ],
   "source": [
    "## Test Set Results   \n",
    "rpartPred <- predict(rpartTune, testing)\n",
    "confusionMatrix(rpartPred, testing$Class)"
   ]
  },
  {
   "cell_type": "code",
   "execution_count": 11,
   "metadata": {},
   "outputs": [
    {
     "data": {
      "text/html": [
       "<table>\n",
       "<thead><tr><th></th><th scope=col>white</th><th scope=col>red</th></tr></thead>\n",
       "<tbody>\n",
       "\t<tr><th scope=row>1</th><td>0.9977034  </td><td>0.002296588</td></tr>\n",
       "\t<tr><th scope=row>4</th><td>0.9977034  </td><td>0.002296588</td></tr>\n",
       "\t<tr><th scope=row>5</th><td>0.9977034  </td><td>0.002296588</td></tr>\n",
       "\t<tr><th scope=row>6</th><td>0.9977034  </td><td>0.002296588</td></tr>\n",
       "\t<tr><th scope=row>18</th><td>0.9977034  </td><td>0.002296588</td></tr>\n",
       "\t<tr><th scope=row>20</th><td>0.9977034  </td><td>0.002296588</td></tr>\n",
       "</tbody>\n",
       "</table>\n"
      ],
      "text/latex": [
       "\\begin{tabular}{r|ll}\n",
       "  & white & red\\\\\n",
       "\\hline\n",
       "\t1 & 0.9977034   & 0.002296588\\\\\n",
       "\t4 & 0.9977034   & 0.002296588\\\\\n",
       "\t5 & 0.9977034   & 0.002296588\\\\\n",
       "\t6 & 0.9977034   & 0.002296588\\\\\n",
       "\t18 & 0.9977034   & 0.002296588\\\\\n",
       "\t20 & 0.9977034   & 0.002296588\\\\\n",
       "\\end{tabular}\n"
      ],
      "text/markdown": [
       "\n",
       "| <!--/--> | white | red | \n",
       "|---|---|---|---|---|---|\n",
       "| 1 | 0.9977034   | 0.002296588 | \n",
       "| 4 | 0.9977034   | 0.002296588 | \n",
       "| 5 | 0.9977034   | 0.002296588 | \n",
       "| 6 | 0.9977034   | 0.002296588 | \n",
       "| 18 | 0.9977034   | 0.002296588 | \n",
       "| 20 | 0.9977034   | 0.002296588 | \n",
       "\n",
       "\n"
      ],
      "text/plain": [
       "   white     red        \n",
       "1  0.9977034 0.002296588\n",
       "4  0.9977034 0.002296588\n",
       "5  0.9977034 0.002296588\n",
       "6  0.9977034 0.002296588\n",
       "18 0.9977034 0.002296588\n",
       "20 0.9977034 0.002296588"
      ]
     },
     "metadata": {},
     "output_type": "display_data"
    }
   ],
   "source": [
    "## Predicting Class Probabilities\n",
    "rpartProbs <- predict(rpartTune, testing, type = \"prob\")\n",
    "head(rpartProbs)"
   ]
  },
  {
   "cell_type": "code",
   "execution_count": 52,
   "metadata": {},
   "outputs": [
    {
     "data": {
      "text/plain": [
       "rpart variable importance\n",
       "\n",
       "                     Overall\n",
       "total.sulfur.dioxide 1496.36\n",
       "chlorides            1158.30\n",
       "volatile.acidity      928.06\n",
       "sulphates             568.23\n",
       "fixed.acidity         373.67\n",
       "residual.sugar        175.68\n",
       "pH                    154.50\n",
       "citric.acid            70.34\n",
       "alcohol                23.74\n",
       "quality                14.32"
      ]
     },
     "metadata": {},
     "output_type": "display_data"
    }
   ],
   "source": [
    "# variable importance\n",
    "cart.imp = varImp ( rpartTune , scale = F )\n",
    "cart.imp"
   ]
  },
  {
   "cell_type": "code",
   "execution_count": 53,
   "metadata": {},
   "outputs": [
    {
     "data": {},
     "metadata": {},
     "output_type": "display_data"
    },
    {
     "data": {
      "image/png": "[encoded data removed]",
      "text/plain": [
       "plot without title"
      ]
     },
     "metadata": {},
     "output_type": "display_data"
    }
   ],
   "source": [
    "## Graphic variable importance\n",
    "# dev.new()\n",
    "plot(cart.imp, top=10, main=\"10 Top Variable Importance - CART Model\")"
   ]
  },
  {
   "cell_type": "markdown",
   "metadata": {
    "collapsed": true
   },
   "source": [
    "### 42 Boosted Trees C5.0 (C5)"
   ]
  },
  {
   "cell_type": "code",
   "execution_count": 54,
   "metadata": {
    "collapsed": true
   },
   "outputs": [],
   "source": [
    "## Control Resampling Technique: 10-fold CV\n",
    "cvCtrl <- trainControl(method = \"cv\", number=10, summaryFunction = twoClassSummary, classProbs = TRUE)"
   ]
  },
  {
   "cell_type": "code",
   "execution_count": 55,
   "metadata": {
    "collapsed": true
   },
   "outputs": [],
   "source": [
    "## Control Grid\n",
    "grid <- expand.grid(.model = \"tree\", .trials = c(1,5,10,15,20), .winnow = FALSE)"
   ]
  },
  {
   "cell_type": "code",
   "execution_count": 56,
   "metadata": {},
   "outputs": [
    {
     "name": "stderr",
     "output_type": "stream",
     "text": [
      "Loading required package: C50\n",
      "Loading required package: plyr\n"
     ]
    }
   ],
   "source": [
    "## Construction Predictive Model\n",
    "set.seed(1)\n",
    "c5Tune <- train(Class ~ ., data = training, method = \"C5.0\", metric = \"ROC\", preProc = c(\"center\", \"scale\"), tuneGrid = grid, trControl = cvCtrl)"
   ]
  },
  {
   "cell_type": "code",
   "execution_count": 57,
   "metadata": {},
   "outputs": [
    {
     "data": {
      "text/plain": [
       "C5.0 \n",
       "\n",
       "4549 samples\n",
       "  10 predictor\n",
       "   2 classes: 'white', 'red' \n",
       "\n",
       "Pre-processing: centered (10), scaled (10) \n",
       "Resampling: Cross-Validated (10 fold) \n",
       "Summary of sample sizes: 4094, 4094, 4095, 4094, 4094, 4094, ... \n",
       "Resampling results across tuning parameters:\n",
       "\n",
       "  trials  ROC        Sens       Spec     \n",
       "   1      0.9923490  0.9909604  0.9714286\n",
       "   5      0.9976882  0.9932919  0.9812500\n",
       "  10      0.9982203  0.9953327  0.9866071\n",
       "  15      0.9982632  0.9950412  0.9883929\n",
       "  20      0.9985989  0.9953327  0.9857143\n",
       "\n",
       "Tuning parameter 'model' was held constant at a value of tree\n",
       "Tuning\n",
       " parameter 'winnow' was held constant at a value of FALSE\n",
       "ROC was used to select the optimal model using  the largest value.\n",
       "The final values used for the model were trials = 20, model = tree and winnow\n",
       " = FALSE."
      ]
     },
     "metadata": {},
     "output_type": "display_data"
    }
   ],
   "source": [
    "## train results\n",
    "c5Tune"
   ]
  },
  {
   "cell_type": "code",
   "execution_count": 58,
   "metadata": {},
   "outputs": [
    {
     "data": {
      "text/html": [
       "<table>\n",
       "<thead><tr><th></th><th scope=col>trials</th><th scope=col>model</th><th scope=col>winnow</th></tr></thead>\n",
       "<tbody>\n",
       "\t<tr><th scope=row>5</th><td>20   </td><td>tree </td><td>FALSE</td></tr>\n",
       "</tbody>\n",
       "</table>\n"
      ],
      "text/latex": [
       "\\begin{tabular}{r|lll}\n",
       "  & trials & model & winnow\\\\\n",
       "\\hline\n",
       "\t5 & 20    & tree  & FALSE\\\\\n",
       "\\end{tabular}\n"
      ],
      "text/markdown": [
       "\n",
       "| <!--/--> | trials | model | winnow | \n",
       "|---|\n",
       "| 5 | 20    | tree  | FALSE | \n",
       "\n",
       "\n"
      ],
      "text/plain": [
       "  trials model winnow\n",
       "5 20     tree  FALSE "
      ]
     },
     "metadata": {},
     "output_type": "display_data"
    }
   ],
   "source": [
    "c5Tune$bestTune"
   ]
  },
  {
   "cell_type": "code",
   "execution_count": 59,
   "metadata": {},
   "outputs": [
    {
     "data": {
      "text/html": [
       "<table>\n",
       "<thead><tr><th scope=col>model</th><th scope=col>winnow</th><th scope=col>trials</th><th scope=col>ROC</th><th scope=col>Sens</th><th scope=col>Spec</th><th scope=col>ROCSD</th><th scope=col>SensSD</th><th scope=col>SpecSD</th></tr></thead>\n",
       "<tbody>\n",
       "\t<tr><td>tree       </td><td>FALSE      </td><td> 1         </td><td>0.9923490  </td><td>0.9909604  </td><td>0.9714286  </td><td>0.004110168</td><td>0.004649226</td><td>0.010136540</td></tr>\n",
       "\t<tr><td>tree       </td><td>FALSE      </td><td> 5         </td><td>0.9976882  </td><td>0.9932919  </td><td>0.9812500  </td><td>0.003210743</td><td>0.004358289</td><td>0.016543979</td></tr>\n",
       "\t<tr><td>tree       </td><td>FALSE      </td><td>10         </td><td>0.9982203  </td><td>0.9953327  </td><td>0.9866071  </td><td>0.002652599</td><td>0.004802846</td><td>0.008677012</td></tr>\n",
       "\t<tr><td>tree       </td><td>FALSE      </td><td>15         </td><td>0.9982632  </td><td>0.9950412  </td><td>0.9883929  </td><td>0.002597006</td><td>0.004359429</td><td>0.008470387</td></tr>\n",
       "\t<tr><td>tree       </td><td>FALSE      </td><td>20         </td><td>0.9985989  </td><td>0.9953327  </td><td>0.9857143  </td><td>0.002067784</td><td>0.003938514</td><td>0.012052653</td></tr>\n",
       "</tbody>\n",
       "</table>\n"
      ],
      "text/latex": [
       "\\begin{tabular}{r|lllllllll}\n",
       " model & winnow & trials & ROC & Sens & Spec & ROCSD & SensSD & SpecSD\\\\\n",
       "\\hline\n",
       "\t tree        & FALSE       &  1          & 0.9923490   & 0.9909604   & 0.9714286   & 0.004110168 & 0.004649226 & 0.010136540\\\\\n",
       "\t tree        & FALSE       &  5          & 0.9976882   & 0.9932919   & 0.9812500   & 0.003210743 & 0.004358289 & 0.016543979\\\\\n",
       "\t tree        & FALSE       & 10          & 0.9982203   & 0.9953327   & 0.9866071   & 0.002652599 & 0.004802846 & 0.008677012\\\\\n",
       "\t tree        & FALSE       & 15          & 0.9982632   & 0.9950412   & 0.9883929   & 0.002597006 & 0.004359429 & 0.008470387\\\\\n",
       "\t tree        & FALSE       & 20          & 0.9985989   & 0.9953327   & 0.9857143   & 0.002067784 & 0.003938514 & 0.012052653\\\\\n",
       "\\end{tabular}\n"
      ],
      "text/markdown": [
       "\n",
       "model | winnow | trials | ROC | Sens | Spec | ROCSD | SensSD | SpecSD | \n",
       "|---|---|---|---|---|\n",
       "| tree        | FALSE       |  1          | 0.9923490   | 0.9909604   | 0.9714286   | 0.004110168 | 0.004649226 | 0.010136540 | \n",
       "| tree        | FALSE       |  5          | 0.9976882   | 0.9932919   | 0.9812500   | 0.003210743 | 0.004358289 | 0.016543979 | \n",
       "| tree        | FALSE       | 10          | 0.9982203   | 0.9953327   | 0.9866071   | 0.002652599 | 0.004802846 | 0.008677012 | \n",
       "| tree        | FALSE       | 15          | 0.9982632   | 0.9950412   | 0.9883929   | 0.002597006 | 0.004359429 | 0.008470387 | \n",
       "| tree        | FALSE       | 20          | 0.9985989   | 0.9953327   | 0.9857143   | 0.002067784 | 0.003938514 | 0.012052653 | \n",
       "\n",
       "\n"
      ],
      "text/plain": [
       "  model winnow trials ROC       Sens      Spec      ROCSD       SensSD     \n",
       "1 tree  FALSE   1     0.9923490 0.9909604 0.9714286 0.004110168 0.004649226\n",
       "2 tree  FALSE   5     0.9976882 0.9932919 0.9812500 0.003210743 0.004358289\n",
       "3 tree  FALSE  10     0.9982203 0.9953327 0.9866071 0.002652599 0.004802846\n",
       "4 tree  FALSE  15     0.9982632 0.9950412 0.9883929 0.002597006 0.004359429\n",
       "5 tree  FALSE  20     0.9985989 0.9953327 0.9857143 0.002067784 0.003938514\n",
       "  SpecSD     \n",
       "1 0.010136540\n",
       "2 0.016543979\n",
       "3 0.008677012\n",
       "4 0.008470387\n",
       "5 0.012052653"
      ]
     },
     "metadata": {},
     "output_type": "display_data"
    }
   ],
   "source": [
    "head(c5Tune$results)"
   ]
  },
  {
   "cell_type": "code",
   "execution_count": 60,
   "metadata": {},
   "outputs": [
    {
     "data": {
      "text/html": [
       "<table>\n",
       "<thead><tr><th></th><th scope=col>model</th><th scope=col>winnow</th><th scope=col>trials</th><th scope=col>ROC</th><th scope=col>Sens</th><th scope=col>Spec</th><th scope=col>ROCSD</th><th scope=col>SensSD</th><th scope=col>SpecSD</th></tr></thead>\n",
       "<tbody>\n",
       "\t<tr><th scope=row>5</th><td>tree       </td><td>FALSE      </td><td>20         </td><td>0.9985989  </td><td>0.9953327  </td><td>0.9857143  </td><td>0.002067784</td><td>0.003938514</td><td>0.01205265 </td></tr>\n",
       "</tbody>\n",
       "</table>\n"
      ],
      "text/latex": [
       "\\begin{tabular}{r|lllllllll}\n",
       "  & model & winnow & trials & ROC & Sens & Spec & ROCSD & SensSD & SpecSD\\\\\n",
       "\\hline\n",
       "\t5 & tree        & FALSE       & 20          & 0.9985989   & 0.9953327   & 0.9857143   & 0.002067784 & 0.003938514 & 0.01205265 \\\\\n",
       "\\end{tabular}\n"
      ],
      "text/markdown": [
       "\n",
       "| <!--/--> | model | winnow | trials | ROC | Sens | Spec | ROCSD | SensSD | SpecSD | \n",
       "|---|\n",
       "| 5 | tree        | FALSE       | 20          | 0.9985989   | 0.9953327   | 0.9857143   | 0.002067784 | 0.003938514 | 0.01205265  | \n",
       "\n",
       "\n"
      ],
      "text/plain": [
       "  model winnow trials ROC       Sens      Spec      ROCSD       SensSD     \n",
       "5 tree  FALSE  20     0.9985989 0.9953327 0.9857143 0.002067784 0.003938514\n",
       "  SpecSD    \n",
       "5 0.01205265"
      ]
     },
     "metadata": {},
     "output_type": "display_data"
    }
   ],
   "source": [
    "(c5Tune$results)[5,]"
   ]
  },
  {
   "cell_type": "code",
   "execution_count": 61,
   "metadata": {},
   "outputs": [
    {
     "data": {},
     "metadata": {},
     "output_type": "display_data"
    },
    {
     "data": {
      "image/png": "[encoded data removed]",
      "text/plain": [
       "plot without title"
      ]
     },
     "metadata": {},
     "output_type": "display_data"
    }
   ],
   "source": [
    "## Plot train tune\n",
    "plot(c5Tune)"
   ]
  },
  {
   "cell_type": "code",
   "execution_count": 62,
   "metadata": {},
   "outputs": [
    {
     "data": {
      "text/plain": [
       "Confusion Matrix and Statistics\n",
       "\n",
       "          Reference\n",
       "Prediction white  red\n",
       "     white  1467   10\n",
       "     red       2  469\n",
       "                                          \n",
       "               Accuracy : 0.9938          \n",
       "                 95% CI : (0.9893, 0.9968)\n",
       "    No Information Rate : 0.7541          \n",
       "    P-Value [Acc > NIR] : < 2e-16         \n",
       "                                          \n",
       "                  Kappa : 0.9833          \n",
       " Mcnemar's Test P-Value : 0.04331         \n",
       "                                          \n",
       "            Sensitivity : 0.9986          \n",
       "            Specificity : 0.9791          \n",
       "         Pos Pred Value : 0.9932          \n",
       "         Neg Pred Value : 0.9958          \n",
       "             Prevalence : 0.7541          \n",
       "         Detection Rate : 0.7531          \n",
       "   Detection Prevalence : 0.7582          \n",
       "      Balanced Accuracy : 0.9889          \n",
       "                                          \n",
       "       'Positive' Class : white           \n",
       "                                          "
      ]
     },
     "metadata": {},
     "output_type": "display_data"
    }
   ],
   "source": [
    "## Test Set Results\n",
    "c5Pred <- predict(c5Tune, testing, preProc = c(\"center\", \"scale\"))\n",
    "confusionMatrix(c5Pred, testing$Class)"
   ]
  },
  {
   "cell_type": "code",
   "execution_count": 63,
   "metadata": {},
   "outputs": [
    {
     "data": {
      "text/html": [
       "<table>\n",
       "<thead><tr><th></th><th scope=col>white</th><th scope=col>red</th></tr></thead>\n",
       "<tbody>\n",
       "\t<tr><th scope=row>1</th><td>1</td><td>0</td></tr>\n",
       "\t<tr><th scope=row>4</th><td>1</td><td>0</td></tr>\n",
       "\t<tr><th scope=row>5</th><td>1</td><td>0</td></tr>\n",
       "</tbody>\n",
       "</table>\n"
      ],
      "text/latex": [
       "\\begin{tabular}{r|ll}\n",
       "  & white & red\\\\\n",
       "\\hline\n",
       "\t1 & 1 & 0\\\\\n",
       "\t4 & 1 & 0\\\\\n",
       "\t5 & 1 & 0\\\\\n",
       "\\end{tabular}\n"
      ],
      "text/markdown": [
       "\n",
       "| <!--/--> | white | red | \n",
       "|---|---|---|\n",
       "| 1 | 1 | 0 | \n",
       "| 4 | 1 | 0 | \n",
       "| 5 | 1 | 0 | \n",
       "\n",
       "\n"
      ],
      "text/plain": [
       "  white red\n",
       "1 1     0  \n",
       "4 1     0  \n",
       "5 1     0  "
      ]
     },
     "metadata": {},
     "output_type": "display_data"
    }
   ],
   "source": [
    "## Predicting Class Probabilities\n",
    "c5Probs <- predict(c5Tune, testing, preProc = c(\"center\", \"scale\"), type = \"prob\")\n",
    "head(c5Probs, 3)"
   ]
  },
  {
   "cell_type": "code",
   "execution_count": 65,
   "metadata": {},
   "outputs": [
    {
     "data": {
      "text/plain": [
       "C5.0 variable importance\n",
       "\n",
       "                     Overall\n",
       "residual.sugar        100.00\n",
       "sulphates             100.00\n",
       "alcohol               100.00\n",
       "chlorides             100.00\n",
       "volatile.acidity      100.00\n",
       "total.sulfur.dioxide  100.00\n",
       "pH                     99.87\n",
       "fixed.acidity          99.23\n",
       "citric.acid            97.45\n",
       "quality                18.75"
      ]
     },
     "metadata": {},
     "output_type": "display_data"
    }
   ],
   "source": [
    "## variable importance\n",
    "c5.imp = varImp ( c5Tune , scale = F)\n",
    "c5.imp\n"
   ]
  },
  {
   "cell_type": "code",
   "execution_count": 66,
   "metadata": {},
   "outputs": [
    {
     "data": {},
     "metadata": {},
     "output_type": "display_data"
    },
    {
     "data": {
      "image/png": "[encoded data removed]",
      "text/plain": [
       "plot without title"
      ]
     },
     "metadata": {},
     "output_type": "display_data"
    }
   ],
   "source": [
    "## Graphic variable importance\n",
    "#dev.new()\n",
    "plot(c5.imp, top=10, main=\"10 Top Variable Importance - C5.0 Model\")"
   ]
  },
  {
   "cell_type": "markdown",
   "metadata": {},
   "source": [
    "### 43 Support Vector Machines (SVM)"
   ]
  },
  {
   "cell_type": "code",
   "execution_count": 67,
   "metadata": {
    "collapsed": true
   },
   "outputs": [],
   "source": [
    "## Control Resampling Technique: 10-fold CV\n",
    "cvCtrl <- trainControl(method = \"cv\", number=10, summaryFunction = twoClassSummary, classProbs = TRUE)"
   ]
  },
  {
   "cell_type": "code",
   "execution_count": 68,
   "metadata": {},
   "outputs": [
    {
     "name": "stderr",
     "output_type": "stream",
     "text": [
      "Loading required package: kernlab\n",
      "\n",
      "Attaching package: 'kernlab'\n",
      "\n",
      "The following object is masked from 'package:ggplot2':\n",
      "\n",
      "    alpha\n",
      "\n"
     ]
    }
   ],
   "source": [
    "## Construction Predictive Model\n",
    "set.seed(1)\n",
    "svmTune <- train(Class ~ ., data = training, method = \"svmRadial\", tuneLength = 9, preProc = c(\"center\", \"scale\"), metric = \"ROC\", trControl = cvCtrl)"
   ]
  },
  {
   "cell_type": "code",
   "execution_count": 69,
   "metadata": {},
   "outputs": [
    {
     "data": {
      "text/plain": [
       "Support Vector Machines with Radial Basis Function Kernel \n",
       "\n",
       "4549 samples\n",
       "  10 predictor\n",
       "   2 classes: 'white', 'red' \n",
       "\n",
       "Pre-processing: centered (10), scaled (10) \n",
       "Resampling: Cross-Validated (10 fold) \n",
       "Summary of sample sizes: 4094, 4094, 4095, 4094, 4094, 4094, ... \n",
       "Resampling results across tuning parameters:\n",
       "\n",
       "  C      ROC        Sens       Spec     \n",
       "   0.25  0.9973074  0.9950420  0.9830357\n",
       "   0.50  0.9974764  0.9965006  0.9839286\n",
       "   1.00  0.9977704  0.9970837  0.9857143\n",
       "   2.00  0.9978196  0.9967913  0.9857143\n",
       "   4.00  0.9982285  0.9967913  0.9857143\n",
       "   8.00  0.9988119  0.9970837  0.9848214\n",
       "  16.00  0.9991975  0.9973752  0.9812500\n",
       "  32.00  0.9990362  0.9962082  0.9776786\n",
       "  64.00  0.9989164  0.9959167  0.9758929\n",
       "\n",
       "Tuning parameter 'sigma' was held constant at a value of 0.09842631\n",
       "ROC was used to select the optimal model using  the largest value.\n",
       "The final values used for the model were sigma = 0.09842631 and C = 16."
      ]
     },
     "metadata": {},
     "output_type": "display_data"
    }
   ],
   "source": [
    "## train results\n",
    "svmTune"
   ]
  },
  {
   "cell_type": "code",
   "execution_count": 70,
   "metadata": {},
   "outputs": [
    {
     "data": {
      "text/html": [
       "<table>\n",
       "<thead><tr><th></th><th scope=col>sigma</th><th scope=col>C</th></tr></thead>\n",
       "<tbody>\n",
       "\t<tr><th scope=row>7</th><td>0.09842631</td><td>16        </td></tr>\n",
       "</tbody>\n",
       "</table>\n"
      ],
      "text/latex": [
       "\\begin{tabular}{r|ll}\n",
       "  & sigma & C\\\\\n",
       "\\hline\n",
       "\t7 & 0.09842631 & 16        \\\\\n",
       "\\end{tabular}\n"
      ],
      "text/markdown": [
       "\n",
       "| <!--/--> | sigma | C | \n",
       "|---|\n",
       "| 7 | 0.09842631 | 16         | \n",
       "\n",
       "\n"
      ],
      "text/plain": [
       "  sigma      C \n",
       "7 0.09842631 16"
      ]
     },
     "metadata": {},
     "output_type": "display_data"
    }
   ],
   "source": [
    "svmTune$bestTune"
   ]
  },
  {
   "cell_type": "code",
   "execution_count": 71,
   "metadata": {},
   "outputs": [
    {
     "data": {
      "text/html": [
       "<table>\n",
       "<thead><tr><th scope=col>sigma</th><th scope=col>C</th><th scope=col>ROC</th><th scope=col>Sens</th><th scope=col>Spec</th><th scope=col>ROCSD</th><th scope=col>SensSD</th><th scope=col>SpecSD</th></tr></thead>\n",
       "<tbody>\n",
       "\t<tr><td>0.09842631 </td><td>0.25       </td><td>0.9973074  </td><td>0.9950420  </td><td>0.9830357  </td><td>0.003872842</td><td>0.004568941</td><td>0.01543607 </td></tr>\n",
       "\t<tr><td>0.09842631 </td><td>0.50       </td><td>0.9974764  </td><td>0.9965006  </td><td>0.9839286  </td><td>0.003490711</td><td>0.003583732</td><td>0.01619223 </td></tr>\n",
       "\t<tr><td>0.09842631 </td><td>1.00       </td><td>0.9977704  </td><td>0.9970837  </td><td>0.9857143  </td><td>0.002957338</td><td>0.003073157</td><td>0.01205265 </td></tr>\n",
       "\t<tr><td>0.09842631 </td><td>2.00       </td><td>0.9978196  </td><td>0.9967913  </td><td>0.9857143  </td><td>0.002909760</td><td>0.003210023</td><td>0.01408590 </td></tr>\n",
       "\t<tr><td>0.09842631 </td><td>4.00       </td><td>0.9982285  </td><td>0.9967913  </td><td>0.9857143  </td><td>0.002249123</td><td>0.003210023</td><td>0.01408590 </td></tr>\n",
       "\t<tr><td>0.09842631 </td><td>8.00       </td><td>0.9988119  </td><td>0.9970837  </td><td>0.9848214  </td><td>0.001474294</td><td>0.002748716</td><td>0.01461064 </td></tr>\n",
       "</tbody>\n",
       "</table>\n"
      ],
      "text/latex": [
       "\\begin{tabular}{r|llllllll}\n",
       " sigma & C & ROC & Sens & Spec & ROCSD & SensSD & SpecSD\\\\\n",
       "\\hline\n",
       "\t 0.09842631  & 0.25        & 0.9973074   & 0.9950420   & 0.9830357   & 0.003872842 & 0.004568941 & 0.01543607 \\\\\n",
       "\t 0.09842631  & 0.50        & 0.9974764   & 0.9965006   & 0.9839286   & 0.003490711 & 0.003583732 & 0.01619223 \\\\\n",
       "\t 0.09842631  & 1.00        & 0.9977704   & 0.9970837   & 0.9857143   & 0.002957338 & 0.003073157 & 0.01205265 \\\\\n",
       "\t 0.09842631  & 2.00        & 0.9978196   & 0.9967913   & 0.9857143   & 0.002909760 & 0.003210023 & 0.01408590 \\\\\n",
       "\t 0.09842631  & 4.00        & 0.9982285   & 0.9967913   & 0.9857143   & 0.002249123 & 0.003210023 & 0.01408590 \\\\\n",
       "\t 0.09842631  & 8.00        & 0.9988119   & 0.9970837   & 0.9848214   & 0.001474294 & 0.002748716 & 0.01461064 \\\\\n",
       "\\end{tabular}\n"
      ],
      "text/markdown": [
       "\n",
       "sigma | C | ROC | Sens | Spec | ROCSD | SensSD | SpecSD | \n",
       "|---|---|---|---|---|---|\n",
       "| 0.09842631  | 0.25        | 0.9973074   | 0.9950420   | 0.9830357   | 0.003872842 | 0.004568941 | 0.01543607  | \n",
       "| 0.09842631  | 0.50        | 0.9974764   | 0.9965006   | 0.9839286   | 0.003490711 | 0.003583732 | 0.01619223  | \n",
       "| 0.09842631  | 1.00        | 0.9977704   | 0.9970837   | 0.9857143   | 0.002957338 | 0.003073157 | 0.01205265  | \n",
       "| 0.09842631  | 2.00        | 0.9978196   | 0.9967913   | 0.9857143   | 0.002909760 | 0.003210023 | 0.01408590  | \n",
       "| 0.09842631  | 4.00        | 0.9982285   | 0.9967913   | 0.9857143   | 0.002249123 | 0.003210023 | 0.01408590  | \n",
       "| 0.09842631  | 8.00        | 0.9988119   | 0.9970837   | 0.9848214   | 0.001474294 | 0.002748716 | 0.01461064  | \n",
       "\n",
       "\n"
      ],
      "text/plain": [
       "  sigma      C    ROC       Sens      Spec      ROCSD       SensSD     \n",
       "1 0.09842631 0.25 0.9973074 0.9950420 0.9830357 0.003872842 0.004568941\n",
       "2 0.09842631 0.50 0.9974764 0.9965006 0.9839286 0.003490711 0.003583732\n",
       "3 0.09842631 1.00 0.9977704 0.9970837 0.9857143 0.002957338 0.003073157\n",
       "4 0.09842631 2.00 0.9978196 0.9967913 0.9857143 0.002909760 0.003210023\n",
       "5 0.09842631 4.00 0.9982285 0.9967913 0.9857143 0.002249123 0.003210023\n",
       "6 0.09842631 8.00 0.9988119 0.9970837 0.9848214 0.001474294 0.002748716\n",
       "  SpecSD    \n",
       "1 0.01543607\n",
       "2 0.01619223\n",
       "3 0.01205265\n",
       "4 0.01408590\n",
       "5 0.01408590\n",
       "6 0.01461064"
      ]
     },
     "metadata": {},
     "output_type": "display_data"
    }
   ],
   "source": [
    "head(svmTune$results)"
   ]
  },
  {
   "cell_type": "code",
   "execution_count": 72,
   "metadata": {},
   "outputs": [
    {
     "data": {
      "text/html": [
       "<table>\n",
       "<thead><tr><th></th><th scope=col>sigma</th><th scope=col>C</th><th scope=col>ROC</th><th scope=col>Sens</th><th scope=col>Spec</th><th scope=col>ROCSD</th><th scope=col>SensSD</th><th scope=col>SpecSD</th></tr></thead>\n",
       "<tbody>\n",
       "\t<tr><th scope=row>7</th><td>0.09842631  </td><td>16          </td><td>0.9991975   </td><td>0.9973752   </td><td>0.98125     </td><td>0.0009303904</td><td>0.002552865 </td><td>0.01485116  </td></tr>\n",
       "</tbody>\n",
       "</table>\n"
      ],
      "text/latex": [
       "\\begin{tabular}{r|llllllll}\n",
       "  & sigma & C & ROC & Sens & Spec & ROCSD & SensSD & SpecSD\\\\\n",
       "\\hline\n",
       "\t7 & 0.09842631   & 16           & 0.9991975    & 0.9973752    & 0.98125      & 0.0009303904 & 0.002552865  & 0.01485116  \\\\\n",
       "\\end{tabular}\n"
      ],
      "text/markdown": [
       "\n",
       "| <!--/--> | sigma | C | ROC | Sens | Spec | ROCSD | SensSD | SpecSD | \n",
       "|---|\n",
       "| 7 | 0.09842631   | 16           | 0.9991975    | 0.9973752    | 0.98125      | 0.0009303904 | 0.002552865  | 0.01485116   | \n",
       "\n",
       "\n"
      ],
      "text/plain": [
       "  sigma      C  ROC       Sens      Spec    ROCSD        SensSD      SpecSD    \n",
       "7 0.09842631 16 0.9991975 0.9973752 0.98125 0.0009303904 0.002552865 0.01485116"
      ]
     },
     "metadata": {},
     "output_type": "display_data"
    }
   ],
   "source": [
    "(svmTune$results)[7,]"
   ]
  },
  {
   "cell_type": "code",
   "execution_count": 73,
   "metadata": {
    "scrolled": false
   },
   "outputs": [
    {
     "data": {},
     "metadata": {},
     "output_type": "display_data"
    },
    {
     "data": {
      "image/png": "[encoded data removed]",
      "text/plain": [
       "plot without title"
      ]
     },
     "metadata": {},
     "output_type": "display_data"
    }
   ],
   "source": [
    "## Plot train tune\n",
    "plot(svmTune)"
   ]
  },
  {
   "cell_type": "code",
   "execution_count": 74,
   "metadata": {},
   "outputs": [
    {
     "data": {
      "text/plain": [
       "Confusion Matrix and Statistics\n",
       "\n",
       "          Reference\n",
       "Prediction white  red\n",
       "     white  1467   12\n",
       "     red       2  467\n",
       "                                         \n",
       "               Accuracy : 0.9928         \n",
       "                 95% CI : (0.988, 0.9961)\n",
       "    No Information Rate : 0.7541         \n",
       "    P-Value [Acc > NIR] : < 2e-16        \n",
       "                                         \n",
       "                  Kappa : 0.9805         \n",
       " Mcnemar's Test P-Value : 0.01616        \n",
       "                                         \n",
       "            Sensitivity : 0.9986         \n",
       "            Specificity : 0.9749         \n",
       "         Pos Pred Value : 0.9919         \n",
       "         Neg Pred Value : 0.9957         \n",
       "             Prevalence : 0.7541         \n",
       "         Detection Rate : 0.7531         \n",
       "   Detection Prevalence : 0.7592         \n",
       "      Balanced Accuracy : 0.9868         \n",
       "                                         \n",
       "       'Positive' Class : white          \n",
       "                                         "
      ]
     },
     "metadata": {},
     "output_type": "display_data"
    }
   ],
   "source": [
    "## Test Set Results\n",
    "svmPred <- predict(svmTune, testing, preProc = c(\"center\", \"scale\"))\n",
    "confusionMatrix(svmPred, testing$Class)"
   ]
  },
  {
   "cell_type": "code",
   "execution_count": 75,
   "metadata": {},
   "outputs": [
    {
     "data": {
      "text/html": [
       "<table>\n",
       "<thead><tr><th scope=col>white</th><th scope=col>red</th></tr></thead>\n",
       "<tbody>\n",
       "\t<tr><td>0.9997793   </td><td>0.0002206800</td></tr>\n",
       "\t<tr><td>0.9996541   </td><td>0.0003459163</td></tr>\n",
       "\t<tr><td>0.9996541   </td><td>0.0003459163</td></tr>\n",
       "</tbody>\n",
       "</table>\n"
      ],
      "text/latex": [
       "\\begin{tabular}{r|ll}\n",
       " white & red\\\\\n",
       "\\hline\n",
       "\t 0.9997793    & 0.0002206800\\\\\n",
       "\t 0.9996541    & 0.0003459163\\\\\n",
       "\t 0.9996541    & 0.0003459163\\\\\n",
       "\\end{tabular}\n"
      ],
      "text/markdown": [
       "\n",
       "white | red | \n",
       "|---|---|---|\n",
       "| 0.9997793    | 0.0002206800 | \n",
       "| 0.9996541    | 0.0003459163 | \n",
       "| 0.9996541    | 0.0003459163 | \n",
       "\n",
       "\n"
      ],
      "text/plain": [
       "  white     red         \n",
       "1 0.9997793 0.0002206800\n",
       "2 0.9996541 0.0003459163\n",
       "3 0.9996541 0.0003459163"
      ]
     },
     "metadata": {},
     "output_type": "display_data"
    }
   ],
   "source": [
    "## Predicting Class Probabilities\n",
    "svmProbs <- predict(svmTune, testing, preProc = c(\"center\", \"scale\"), type = \"prob\")\n",
    "head(svmProbs, 3)"
   ]
  },
  {
   "cell_type": "code",
   "execution_count": 77,
   "metadata": {},
   "outputs": [
    {
     "data": {
      "text/plain": [
       "ROC curve variable importance\n",
       "\n",
       "                     Importance\n",
       "total.sulfur.dioxide     0.9517\n",
       "chlorides                0.9474\n",
       "volatile.acidity         0.9081\n",
       "sulphates                0.8280\n",
       "fixed.acidity            0.7742\n",
       "pH                       0.7317\n",
       "residual.sugar           0.6731\n",
       "citric.acid              0.6177\n",
       "quality                  0.5858\n",
       "alcohol                  0.5123"
      ]
     },
     "metadata": {},
     "output_type": "display_data"
    }
   ],
   "source": [
    "## variable importance\n",
    "svm.imp = varImp ( svmTune , scale = F)\n",
    "svm.imp\n"
   ]
  },
  {
   "cell_type": "code",
   "execution_count": 78,
   "metadata": {},
   "outputs": [
    {
     "data": {},
     "metadata": {},
     "output_type": "display_data"
    },
    {
     "data": {
      "image/png": "[encoded data removed]",
      "text/plain": [
       "plot without title"
      ]
     },
     "metadata": {},
     "output_type": "display_data"
    }
   ],
   "source": [
    "## Graphic variable importance\n",
    "#dev.new()\n",
    "plot(svm.imp, top=10, main=\"10 Top Variable Importance - SVM Model\")"
   ]
  },
  {
   "cell_type": "markdown",
   "metadata": {},
   "source": [
    "### 44 K-Nearest Neighbors (KNN)"
   ]
  },
  {
   "cell_type": "code",
   "execution_count": 79,
   "metadata": {
    "collapsed": true
   },
   "outputs": [],
   "source": [
    "## Control Resampling Technique: 10-fold CV\n",
    "cvCtrl <- trainControl(method = \"cv\", number=10, summaryFunction = twoClassSummary, classProbs = TRUE)"
   ]
  },
  {
   "cell_type": "code",
   "execution_count": 80,
   "metadata": {
    "collapsed": true
   },
   "outputs": [],
   "source": [
    "## Construction Predictive Model\n",
    "set.seed(1)\n",
    "knnTune <- train ( Class ~ ., data = training, method = \"knn\", tuneLength = 10, preProc = c(\"center\", \"scale\"), metric= \"ROC\", trControl = cvCtrl)"
   ]
  },
  {
   "cell_type": "code",
   "execution_count": 81,
   "metadata": {},
   "outputs": [
    {
     "data": {
      "text/plain": [
       "k-Nearest Neighbors \n",
       "\n",
       "4549 samples\n",
       "  10 predictor\n",
       "   2 classes: 'white', 'red' \n",
       "\n",
       "Pre-processing: centered (10), scaled (10) \n",
       "Resampling: Cross-Validated (10 fold) \n",
       "Summary of sample sizes: 4094, 4094, 4095, 4094, 4094, 4094, ... \n",
       "Resampling results across tuning parameters:\n",
       "\n",
       "  k   ROC        Sens       Spec     \n",
       "   5  0.9960210  0.9932928  0.9830357\n",
       "   7  0.9964140  0.9935843  0.9830357\n",
       "   9  0.9967732  0.9932928  0.9812500\n",
       "  11  0.9967458  0.9921266  0.9821429\n",
       "  13  0.9967120  0.9921257  0.9821429\n",
       "  15  0.9966846  0.9918342  0.9830357\n",
       "  17  0.9971311  0.9918342  0.9821429\n",
       "  19  0.9970634  0.9918342  0.9848214\n",
       "  21  0.9970478  0.9915426  0.9857143\n",
       "  23  0.9970113  0.9912511  0.9866071\n",
       "\n",
       "ROC was used to select the optimal model using  the largest value.\n",
       "The final value used for the model was k = 17."
      ]
     },
     "metadata": {},
     "output_type": "display_data"
    }
   ],
   "source": [
    "## train results\n",
    "knnTune"
   ]
  },
  {
   "cell_type": "code",
   "execution_count": 82,
   "metadata": {},
   "outputs": [
    {
     "data": {
      "text/html": [
       "<table>\n",
       "<thead><tr><th></th><th scope=col>k</th></tr></thead>\n",
       "<tbody>\n",
       "\t<tr><th scope=row>7</th><td>17</td></tr>\n",
       "</tbody>\n",
       "</table>\n"
      ],
      "text/latex": [
       "\\begin{tabular}{r|l}\n",
       "  & k\\\\\n",
       "\\hline\n",
       "\t7 & 17\\\\\n",
       "\\end{tabular}\n"
      ],
      "text/markdown": [
       "\n",
       "| <!--/--> | k | \n",
       "|---|\n",
       "| 7 | 17 | \n",
       "\n",
       "\n"
      ],
      "text/plain": [
       "  k \n",
       "7 17"
      ]
     },
     "metadata": {},
     "output_type": "display_data"
    }
   ],
   "source": [
    "knnTune$bestTune"
   ]
  },
  {
   "cell_type": "code",
   "execution_count": 83,
   "metadata": {},
   "outputs": [
    {
     "data": {
      "text/html": [
       "<table>\n",
       "<thead><tr><th scope=col>k</th><th scope=col>ROC</th><th scope=col>Sens</th><th scope=col>Spec</th><th scope=col>ROCSD</th><th scope=col>SensSD</th><th scope=col>SpecSD</th></tr></thead>\n",
       "<tbody>\n",
       "\t<tr><td> 5         </td><td>0.9960210  </td><td>0.9932928  </td><td>0.9830357  </td><td>0.005433019</td><td>0.005331419</td><td>0.01424225 </td></tr>\n",
       "\t<tr><td> 7         </td><td>0.9964140  </td><td>0.9935843  </td><td>0.9830357  </td><td>0.005184252</td><td>0.005462762</td><td>0.01293873 </td></tr>\n",
       "\t<tr><td> 9         </td><td>0.9967732  </td><td>0.9932928  </td><td>0.9812500  </td><td>0.005016597</td><td>0.005838715</td><td>0.01599962 </td></tr>\n",
       "\t<tr><td>11         </td><td>0.9967458  </td><td>0.9921266  </td><td>0.9821429  </td><td>0.005049735</td><td>0.006453031</td><td>0.01683588 </td></tr>\n",
       "\t<tr><td>13         </td><td>0.9967120  </td><td>0.9921257  </td><td>0.9821429  </td><td>0.005095057</td><td>0.005839428</td><td>0.01630127 </td></tr>\n",
       "\t<tr><td>15         </td><td>0.9966846  </td><td>0.9918342  </td><td>0.9830357  </td><td>0.005080527</td><td>0.006417202</td><td>0.01599962 </td></tr>\n",
       "</tbody>\n",
       "</table>\n"
      ],
      "text/latex": [
       "\\begin{tabular}{r|lllllll}\n",
       " k & ROC & Sens & Spec & ROCSD & SensSD & SpecSD\\\\\n",
       "\\hline\n",
       "\t  5          & 0.9960210   & 0.9932928   & 0.9830357   & 0.005433019 & 0.005331419 & 0.01424225 \\\\\n",
       "\t  7          & 0.9964140   & 0.9935843   & 0.9830357   & 0.005184252 & 0.005462762 & 0.01293873 \\\\\n",
       "\t  9          & 0.9967732   & 0.9932928   & 0.9812500   & 0.005016597 & 0.005838715 & 0.01599962 \\\\\n",
       "\t 11          & 0.9967458   & 0.9921266   & 0.9821429   & 0.005049735 & 0.006453031 & 0.01683588 \\\\\n",
       "\t 13          & 0.9967120   & 0.9921257   & 0.9821429   & 0.005095057 & 0.005839428 & 0.01630127 \\\\\n",
       "\t 15          & 0.9966846   & 0.9918342   & 0.9830357   & 0.005080527 & 0.006417202 & 0.01599962 \\\\\n",
       "\\end{tabular}\n"
      ],
      "text/markdown": [
       "\n",
       "k | ROC | Sens | Spec | ROCSD | SensSD | SpecSD | \n",
       "|---|---|---|---|---|---|\n",
       "|  5          | 0.9960210   | 0.9932928   | 0.9830357   | 0.005433019 | 0.005331419 | 0.01424225  | \n",
       "|  7          | 0.9964140   | 0.9935843   | 0.9830357   | 0.005184252 | 0.005462762 | 0.01293873  | \n",
       "|  9          | 0.9967732   | 0.9932928   | 0.9812500   | 0.005016597 | 0.005838715 | 0.01599962  | \n",
       "| 11          | 0.9967458   | 0.9921266   | 0.9821429   | 0.005049735 | 0.006453031 | 0.01683588  | \n",
       "| 13          | 0.9967120   | 0.9921257   | 0.9821429   | 0.005095057 | 0.005839428 | 0.01630127  | \n",
       "| 15          | 0.9966846   | 0.9918342   | 0.9830357   | 0.005080527 | 0.006417202 | 0.01599962  | \n",
       "\n",
       "\n"
      ],
      "text/plain": [
       "  k  ROC       Sens      Spec      ROCSD       SensSD      SpecSD    \n",
       "1  5 0.9960210 0.9932928 0.9830357 0.005433019 0.005331419 0.01424225\n",
       "2  7 0.9964140 0.9935843 0.9830357 0.005184252 0.005462762 0.01293873\n",
       "3  9 0.9967732 0.9932928 0.9812500 0.005016597 0.005838715 0.01599962\n",
       "4 11 0.9967458 0.9921266 0.9821429 0.005049735 0.006453031 0.01683588\n",
       "5 13 0.9967120 0.9921257 0.9821429 0.005095057 0.005839428 0.01630127\n",
       "6 15 0.9966846 0.9918342 0.9830357 0.005080527 0.006417202 0.01599962"
      ]
     },
     "metadata": {},
     "output_type": "display_data"
    }
   ],
   "source": [
    "head(knnTune$results)"
   ]
  },
  {
   "cell_type": "code",
   "execution_count": 84,
   "metadata": {},
   "outputs": [
    {
     "data": {
      "text/html": [
       "<table>\n",
       "<thead><tr><th></th><th scope=col>k</th><th scope=col>ROC</th><th scope=col>Sens</th><th scope=col>Spec</th><th scope=col>ROCSD</th><th scope=col>SensSD</th><th scope=col>SpecSD</th></tr></thead>\n",
       "<tbody>\n",
       "\t<tr><th scope=row>7</th><td>17         </td><td>0.9971311  </td><td>0.9918342  </td><td>0.9821429  </td><td>0.003903294</td><td>0.006417202</td><td>0.01630127 </td></tr>\n",
       "</tbody>\n",
       "</table>\n"
      ],
      "text/latex": [
       "\\begin{tabular}{r|lllllll}\n",
       "  & k & ROC & Sens & Spec & ROCSD & SensSD & SpecSD\\\\\n",
       "\\hline\n",
       "\t7 & 17          & 0.9971311   & 0.9918342   & 0.9821429   & 0.003903294 & 0.006417202 & 0.01630127 \\\\\n",
       "\\end{tabular}\n"
      ],
      "text/markdown": [
       "\n",
       "| <!--/--> | k | ROC | Sens | Spec | ROCSD | SensSD | SpecSD | \n",
       "|---|\n",
       "| 7 | 17          | 0.9971311   | 0.9918342   | 0.9821429   | 0.003903294 | 0.006417202 | 0.01630127  | \n",
       "\n",
       "\n"
      ],
      "text/plain": [
       "  k  ROC       Sens      Spec      ROCSD       SensSD      SpecSD    \n",
       "7 17 0.9971311 0.9918342 0.9821429 0.003903294 0.006417202 0.01630127"
      ]
     },
     "metadata": {},
     "output_type": "display_data"
    }
   ],
   "source": [
    "(knnTune$results)[7,]"
   ]
  },
  {
   "cell_type": "code",
   "execution_count": 85,
   "metadata": {},
   "outputs": [
    {
     "data": {},
     "metadata": {},
     "output_type": "display_data"
    },
    {
     "data": {
      "image/png": "[encoded data removed]",
      "text/plain": [
       "plot without title"
      ]
     },
     "metadata": {},
     "output_type": "display_data"
    }
   ],
   "source": [
    "## Plot train tune\n",
    "plot(knnTune)"
   ]
  },
  {
   "cell_type": "code",
   "execution_count": 86,
   "metadata": {},
   "outputs": [
    {
     "data": {
      "text/plain": [
       "Confusion Matrix and Statistics\n",
       "\n",
       "          Reference\n",
       "Prediction white  red\n",
       "     white  1457   11\n",
       "     red      12  468\n",
       "                                          \n",
       "               Accuracy : 0.9882          \n",
       "                 95% CI : (0.9823, 0.9925)\n",
       "    No Information Rate : 0.7541          \n",
       "    P-Value [Acc > NIR] : <2e-16          \n",
       "                                          \n",
       "                  Kappa : 0.9682          \n",
       " Mcnemar's Test P-Value : 1               \n",
       "                                          \n",
       "            Sensitivity : 0.9918          \n",
       "            Specificity : 0.9770          \n",
       "         Pos Pred Value : 0.9925          \n",
       "         Neg Pred Value : 0.9750          \n",
       "             Prevalence : 0.7541          \n",
       "         Detection Rate : 0.7479          \n",
       "   Detection Prevalence : 0.7536          \n",
       "      Balanced Accuracy : 0.9844          \n",
       "                                          \n",
       "       'Positive' Class : white           \n",
       "                                          "
      ]
     },
     "metadata": {},
     "output_type": "display_data"
    }
   ],
   "source": [
    "## Test Set Results\n",
    "knnPred <- predict(knnTune, testing, preProc = c(\"center\", \"scale\"))\n",
    "confusionMatrix(knnPred, testing$Class)"
   ]
  },
  {
   "cell_type": "code",
   "execution_count": 87,
   "metadata": {},
   "outputs": [
    {
     "data": {
      "text/html": [
       "<table>\n",
       "<thead><tr><th scope=col>white</th><th scope=col>red</th></tr></thead>\n",
       "<tbody>\n",
       "\t<tr><td>1</td><td>0</td></tr>\n",
       "\t<tr><td>1</td><td>0</td></tr>\n",
       "\t<tr><td>1</td><td>0</td></tr>\n",
       "</tbody>\n",
       "</table>\n"
      ],
      "text/latex": [
       "\\begin{tabular}{r|ll}\n",
       " white & red\\\\\n",
       "\\hline\n",
       "\t 1 & 0\\\\\n",
       "\t 1 & 0\\\\\n",
       "\t 1 & 0\\\\\n",
       "\\end{tabular}\n"
      ],
      "text/markdown": [
       "\n",
       "white | red | \n",
       "|---|---|---|\n",
       "| 1 | 0 | \n",
       "| 1 | 0 | \n",
       "| 1 | 0 | \n",
       "\n",
       "\n"
      ],
      "text/plain": [
       "  white red\n",
       "1 1     0  \n",
       "2 1     0  \n",
       "3 1     0  "
      ]
     },
     "metadata": {},
     "output_type": "display_data"
    }
   ],
   "source": [
    "## Predicting Class Probabilities\n",
    "knnProbs <- predict(knnTune, testing, preProc = c(\"center\", \"scale\"), type = \"prob\")\n",
    "head(knnProbs, 3)"
   ]
  },
  {
   "cell_type": "code",
   "execution_count": 89,
   "metadata": {},
   "outputs": [
    {
     "data": {
      "text/plain": [
       "ROC curve variable importance\n",
       "\n",
       "                     Importance\n",
       "total.sulfur.dioxide     0.9517\n",
       "chlorides                0.9474\n",
       "volatile.acidity         0.9081\n",
       "sulphates                0.8280\n",
       "fixed.acidity            0.7742\n",
       "pH                       0.7317\n",
       "residual.sugar           0.6731\n",
       "citric.acid              0.6177\n",
       "quality                  0.5858\n",
       "alcohol                  0.5123"
      ]
     },
     "metadata": {},
     "output_type": "display_data"
    }
   ],
   "source": [
    "## variable importance\n",
    "knn.imp = varImp ( knnTune , scale = F)\n",
    "knn.imp"
   ]
  },
  {
   "cell_type": "code",
   "execution_count": 90,
   "metadata": {},
   "outputs": [
    {
     "data": {},
     "metadata": {},
     "output_type": "display_data"
    },
    {
     "data": {
      "image/png": "[encoded data removed]",
      "text/plain": [
       "plot without title"
      ]
     },
     "metadata": {},
     "output_type": "display_data"
    }
   ],
   "source": [
    "## Graphic variable importance\n",
    "#dev.new()\n",
    "plot(knn.imp, top=10, main=\"10 Top Variable Importance - K-Nearest Neighbors (KNN) Model\")"
   ]
  },
  {
   "cell_type": "markdown",
   "metadata": {
    "collapsed": true
   },
   "source": [
    "### 45 Random Forest (RF)"
   ]
  },
  {
   "cell_type": "code",
   "execution_count": 12,
   "metadata": {
    "collapsed": true
   },
   "outputs": [],
   "source": [
    "## Control Resampling Technique: 10-fold CV\n",
    "cvCtrl <- trainControl(method = \"cv\", number=10, summaryFunction = twoClassSummary, classProbs = TRUE, search=\"grid\")"
   ]
  },
  {
   "cell_type": "code",
   "execution_count": 13,
   "metadata": {
    "scrolled": true
   },
   "outputs": [
    {
     "name": "stderr",
     "output_type": "stream",
     "text": [
      "Loading required package: randomForest\n",
      "randomForest 4.6-12\n",
      "Type rfNews() to see new features/changes/bug fixes.\n",
      "\n",
      "Attaching package: 'randomForest'\n",
      "\n",
      "The following object is masked from 'package:ggplot2':\n",
      "\n",
      "    margin\n",
      "\n",
      "The following object is masked from 'package:dplyr':\n",
      "\n",
      "    combine\n",
      "\n"
     ]
    }
   ],
   "source": [
    "## Construction Predictive Model\n",
    "set.seed(1)\n",
    "rfGrid <- expand.grid ( .mtry = c (1:6 ) )\n",
    "rfTune <- train ( Class ~ ., data = training, method = \"rf\", tuneGrid = rfGrid, ntree = 1000, preProc = c(\"center\", \"scale\"), metric= \"ROC\", trControl = cvCtrl)"
   ]
  },
  {
   "cell_type": "code",
   "execution_count": 14,
   "metadata": {},
   "outputs": [
    {
     "data": {
      "text/plain": [
       "Random Forest \n",
       "\n",
       "4549 samples\n",
       "  10 predictor\n",
       "   2 classes: 'white', 'red' \n",
       "\n",
       "Pre-processing: centered (10), scaled (10) \n",
       "Resampling: Cross-Validated (10 fold) \n",
       "Summary of sample sizes: 4094, 4094, 4095, 4094, 4094, 4094, ... \n",
       "Resampling results across tuning parameters:\n",
       "\n",
       "  mtry  ROC        Sens       Spec     \n",
       "  1     0.9990002  0.9982499  0.9830357\n",
       "  2     0.9992144  0.9973752  0.9821429\n",
       "  3     0.9990658  0.9964998  0.9848214\n",
       "  4     0.9990087  0.9962082  0.9839286\n",
       "  5     0.9986341  0.9964998  0.9839286\n",
       "  6     0.9985275  0.9959167  0.9812500\n",
       "\n",
       "ROC was used to select the optimal model using  the largest value.\n",
       "The final value used for the model was mtry = 2."
      ]
     },
     "metadata": {},
     "output_type": "display_data"
    }
   ],
   "source": [
    "## train results\n",
    "rfTune"
   ]
  },
  {
   "cell_type": "code",
   "execution_count": 94,
   "metadata": {},
   "outputs": [
    {
     "data": {
      "text/html": [
       "<table>\n",
       "<thead><tr><th></th><th scope=col>mtry</th></tr></thead>\n",
       "<tbody>\n",
       "\t<tr><th scope=row>2</th><td>2</td></tr>\n",
       "</tbody>\n",
       "</table>\n"
      ],
      "text/latex": [
       "\\begin{tabular}{r|l}\n",
       "  & mtry\\\\\n",
       "\\hline\n",
       "\t2 & 2\\\\\n",
       "\\end{tabular}\n"
      ],
      "text/markdown": [
       "\n",
       "| <!--/--> | mtry | \n",
       "|---|\n",
       "| 2 | 2 | \n",
       "\n",
       "\n"
      ],
      "text/plain": [
       "  mtry\n",
       "2 2   "
      ]
     },
     "metadata": {},
     "output_type": "display_data"
    }
   ],
   "source": [
    "rfTune$bestTune"
   ]
  },
  {
   "cell_type": "code",
   "execution_count": 95,
   "metadata": {},
   "outputs": [
    {
     "data": {
      "text/html": [
       "<table>\n",
       "<thead><tr><th scope=col>mtry</th><th scope=col>ROC</th><th scope=col>Sens</th><th scope=col>Spec</th><th scope=col>ROCSD</th><th scope=col>SensSD</th><th scope=col>SpecSD</th></tr></thead>\n",
       "<tbody>\n",
       "\t<tr><td>1          </td><td>0.9990002  </td><td>0.9982499  </td><td>0.9830357  </td><td>0.001622493</td><td>0.002816988</td><td>0.011488249</td></tr>\n",
       "\t<tr><td>2          </td><td>0.9992144  </td><td>0.9973752  </td><td>0.9821429  </td><td>0.001136313</td><td>0.003751340</td><td>0.011135885</td></tr>\n",
       "\t<tr><td>3          </td><td>0.9990658  </td><td>0.9964998  </td><td>0.9848214  </td><td>0.001288155</td><td>0.004722011</td><td>0.009458481</td></tr>\n",
       "\t<tr><td>4          </td><td>0.9990087  </td><td>0.9962082  </td><td>0.9839286  </td><td>0.001418871</td><td>0.004569424</td><td>0.009221389</td></tr>\n",
       "\t<tr><td>5          </td><td>0.9986341  </td><td>0.9964998  </td><td>0.9839286  </td><td>0.002072455</td><td>0.004517580</td><td>0.009221389</td></tr>\n",
       "\t<tr><td>6          </td><td>0.9985275  </td><td>0.9959167  </td><td>0.9812500  </td><td>0.001992849</td><td>0.004600203</td><td>0.012938729</td></tr>\n",
       "</tbody>\n",
       "</table>\n"
      ],
      "text/latex": [
       "\\begin{tabular}{r|lllllll}\n",
       " mtry & ROC & Sens & Spec & ROCSD & SensSD & SpecSD\\\\\n",
       "\\hline\n",
       "\t 1           & 0.9990002   & 0.9982499   & 0.9830357   & 0.001622493 & 0.002816988 & 0.011488249\\\\\n",
       "\t 2           & 0.9992144   & 0.9973752   & 0.9821429   & 0.001136313 & 0.003751340 & 0.011135885\\\\\n",
       "\t 3           & 0.9990658   & 0.9964998   & 0.9848214   & 0.001288155 & 0.004722011 & 0.009458481\\\\\n",
       "\t 4           & 0.9990087   & 0.9962082   & 0.9839286   & 0.001418871 & 0.004569424 & 0.009221389\\\\\n",
       "\t 5           & 0.9986341   & 0.9964998   & 0.9839286   & 0.002072455 & 0.004517580 & 0.009221389\\\\\n",
       "\t 6           & 0.9985275   & 0.9959167   & 0.9812500   & 0.001992849 & 0.004600203 & 0.012938729\\\\\n",
       "\\end{tabular}\n"
      ],
      "text/markdown": [
       "\n",
       "mtry | ROC | Sens | Spec | ROCSD | SensSD | SpecSD | \n",
       "|---|---|---|---|---|---|\n",
       "| 1           | 0.9990002   | 0.9982499   | 0.9830357   | 0.001622493 | 0.002816988 | 0.011488249 | \n",
       "| 2           | 0.9992144   | 0.9973752   | 0.9821429   | 0.001136313 | 0.003751340 | 0.011135885 | \n",
       "| 3           | 0.9990658   | 0.9964998   | 0.9848214   | 0.001288155 | 0.004722011 | 0.009458481 | \n",
       "| 4           | 0.9990087   | 0.9962082   | 0.9839286   | 0.001418871 | 0.004569424 | 0.009221389 | \n",
       "| 5           | 0.9986341   | 0.9964998   | 0.9839286   | 0.002072455 | 0.004517580 | 0.009221389 | \n",
       "| 6           | 0.9985275   | 0.9959167   | 0.9812500   | 0.001992849 | 0.004600203 | 0.012938729 | \n",
       "\n",
       "\n"
      ],
      "text/plain": [
       "  mtry ROC       Sens      Spec      ROCSD       SensSD      SpecSD     \n",
       "1 1    0.9990002 0.9982499 0.9830357 0.001622493 0.002816988 0.011488249\n",
       "2 2    0.9992144 0.9973752 0.9821429 0.001136313 0.003751340 0.011135885\n",
       "3 3    0.9990658 0.9964998 0.9848214 0.001288155 0.004722011 0.009458481\n",
       "4 4    0.9990087 0.9962082 0.9839286 0.001418871 0.004569424 0.009221389\n",
       "5 5    0.9986341 0.9964998 0.9839286 0.002072455 0.004517580 0.009221389\n",
       "6 6    0.9985275 0.9959167 0.9812500 0.001992849 0.004600203 0.012938729"
      ]
     },
     "metadata": {},
     "output_type": "display_data"
    }
   ],
   "source": [
    "head(rfTune$results)"
   ]
  },
  {
   "cell_type": "code",
   "execution_count": 96,
   "metadata": {},
   "outputs": [
    {
     "data": {
      "text/html": [
       "<table>\n",
       "<thead><tr><th></th><th scope=col>mtry</th><th scope=col>ROC</th><th scope=col>Sens</th><th scope=col>Spec</th><th scope=col>ROCSD</th><th scope=col>SensSD</th><th scope=col>SpecSD</th></tr></thead>\n",
       "<tbody>\n",
       "\t<tr><th scope=row>2</th><td>2          </td><td>0.9992144  </td><td>0.9973752  </td><td>0.9821429  </td><td>0.001136313</td><td>0.00375134 </td><td>0.01113589 </td></tr>\n",
       "</tbody>\n",
       "</table>\n"
      ],
      "text/latex": [
       "\\begin{tabular}{r|lllllll}\n",
       "  & mtry & ROC & Sens & Spec & ROCSD & SensSD & SpecSD\\\\\n",
       "\\hline\n",
       "\t2 & 2           & 0.9992144   & 0.9973752   & 0.9821429   & 0.001136313 & 0.00375134  & 0.01113589 \\\\\n",
       "\\end{tabular}\n"
      ],
      "text/markdown": [
       "\n",
       "| <!--/--> | mtry | ROC | Sens | Spec | ROCSD | SensSD | SpecSD | \n",
       "|---|\n",
       "| 2 | 2           | 0.9992144   | 0.9973752   | 0.9821429   | 0.001136313 | 0.00375134  | 0.01113589  | \n",
       "\n",
       "\n"
      ],
      "text/plain": [
       "  mtry ROC       Sens      Spec      ROCSD       SensSD     SpecSD    \n",
       "2 2    0.9992144 0.9973752 0.9821429 0.001136313 0.00375134 0.01113589"
      ]
     },
     "metadata": {},
     "output_type": "display_data"
    }
   ],
   "source": [
    "(rfTune$results)[2,]"
   ]
  },
  {
   "cell_type": "code",
   "execution_count": 97,
   "metadata": {},
   "outputs": [
    {
     "data": {},
     "metadata": {},
     "output_type": "display_data"
    },
    {
     "data": {
      "image/png": "[encoded data removed]",
      "text/plain": [
       "plot without title"
      ]
     },
     "metadata": {},
     "output_type": "display_data"
    }
   ],
   "source": [
    "## Plot train tune\n",
    "plot(rfTune)"
   ]
  },
  {
   "cell_type": "code",
   "execution_count": 15,
   "metadata": {},
   "outputs": [
    {
     "data": {
      "text/plain": [
       "Confusion Matrix and Statistics\n",
       "\n",
       "          Reference\n",
       "Prediction white  red\n",
       "     white  1467   13\n",
       "     red       2  466\n",
       "                                          \n",
       "               Accuracy : 0.9923          \n",
       "                 95% CI : (0.9873, 0.9957)\n",
       "    No Information Rate : 0.7541          \n",
       "    P-Value [Acc > NIR] : < 2.2e-16       \n",
       "                                          \n",
       "                  Kappa : 0.9791          \n",
       " Mcnemar's Test P-Value : 0.009823        \n",
       "                                          \n",
       "            Sensitivity : 0.9986          \n",
       "            Specificity : 0.9729          \n",
       "         Pos Pred Value : 0.9912          \n",
       "         Neg Pred Value : 0.9957          \n",
       "             Prevalence : 0.7541          \n",
       "         Detection Rate : 0.7531          \n",
       "   Detection Prevalence : 0.7598          \n",
       "      Balanced Accuracy : 0.9857          \n",
       "                                          \n",
       "       'Positive' Class : white           \n",
       "                                          "
      ]
     },
     "metadata": {},
     "output_type": "display_data"
    }
   ],
   "source": [
    "## Test Set Results\n",
    "rfPred <- predict(rfTune, testing, preProc = c(\"center\", \"scale\"))\n",
    "confusionMatrix(rfPred, testing$Class)"
   ]
  },
  {
   "cell_type": "code",
   "execution_count": 16,
   "metadata": {},
   "outputs": [
    {
     "data": {
      "text/html": [
       "<table>\n",
       "<thead><tr><th></th><th scope=col>white</th><th scope=col>red</th></tr></thead>\n",
       "<tbody>\n",
       "\t<tr><th scope=row>1</th><td>1</td><td>0</td></tr>\n",
       "\t<tr><th scope=row>4</th><td>1</td><td>0</td></tr>\n",
       "\t<tr><th scope=row>5</th><td>1</td><td>0</td></tr>\n",
       "</tbody>\n",
       "</table>\n"
      ],
      "text/latex": [
       "\\begin{tabular}{r|ll}\n",
       "  & white & red\\\\\n",
       "\\hline\n",
       "\t1 & 1 & 0\\\\\n",
       "\t4 & 1 & 0\\\\\n",
       "\t5 & 1 & 0\\\\\n",
       "\\end{tabular}\n"
      ],
      "text/markdown": [
       "\n",
       "| <!--/--> | white | red | \n",
       "|---|---|---|\n",
       "| 1 | 1 | 0 | \n",
       "| 4 | 1 | 0 | \n",
       "| 5 | 1 | 0 | \n",
       "\n",
       "\n"
      ],
      "text/plain": [
       "  white red\n",
       "1 1     0  \n",
       "4 1     0  \n",
       "5 1     0  "
      ]
     },
     "metadata": {},
     "output_type": "display_data"
    }
   ],
   "source": [
    "## Predicting Class Probabilities\n",
    "rfProbs <- predict(rfTune, testing, preProc = c(\"center\", \"scale\"), type = \"prob\")\n",
    "head(rfProbs, 3)"
   ]
  },
  {
   "cell_type": "code",
   "execution_count": 17,
   "metadata": {},
   "outputs": [
    {
     "data": {
      "text/plain": [
       "rf variable importance\n",
       "\n",
       "                     Overall\n",
       "total.sulfur.dioxide  478.64\n",
       "chlorides             458.14\n",
       "volatile.acidity      248.78\n",
       "sulphates             122.00\n",
       "fixed.acidity         116.44\n",
       "residual.sugar        106.26\n",
       "citric.acid            65.14\n",
       "pH                     57.05\n",
       "alcohol                25.39\n",
       "quality                10.06"
      ]
     },
     "metadata": {},
     "output_type": "display_data"
    }
   ],
   "source": [
    "## variable importance\n",
    "rf.imp = varImp ( rfTune , scale = F)\n",
    "rf.imp"
   ]
  },
  {
   "cell_type": "code",
   "execution_count": 18,
   "metadata": {},
   "outputs": [
    {
     "data": {},
     "metadata": {},
     "output_type": "display_data"
    },
    {
     "data": {
      "image/png": "[encoded data removed]",
      "text/plain": [
       "plot without title"
      ]
     },
     "metadata": {},
     "output_type": "display_data"
    }
   ],
   "source": [
    "## Graphic variable importance\n",
    "#dev.new()\n",
    "plot(rf.imp, top=10, main=\"10 Top Variable Importance - Random Forest (RF) Model\")"
   ]
  },
  {
   "cell_type": "markdown",
   "metadata": {},
   "source": [
    "## V Selecting best model\n",
    " \n",
    "I have considered nonlinear (CART, C5 BOOSTED TREE, SVM, KNN, and RF) algorithms. I reset the random number seed before each run to ensure that the evaluation of each algorithm is performed using exactly the same data splits. It ensures the results are directly comparable. \n",
    " \n",
    "We now have 5 models and we need to compare them to each other and select the one with better ROC metric performance.\n",
    "\n",
    "The k-fold cross-validation method for the metrics was set in k=10. The following table presents the ROC metric measures across the 5 models."
   ]
  },
  {
   "cell_type": "code",
   "execution_count": 105,
   "metadata": {},
   "outputs": [
    {
     "data": {
      "text/html": [
       "<table>\n",
       "<thead><tr><th></th><th scope=col>ROC</th><th scope=col>Sensitivity</th><th scope=col>Specificity</th><th scope=col>Sd(ROC)</th><th scope=col>Sd(Sensitivity)</th><th scope=col>Sd(Specificity)</th></tr></thead>\n",
       "<tbody>\n",
       "\t<tr><th scope=row>CART</th><td>0.987848</td><td>0.9840  </td><td>0.9607  </td><td>0.0077  </td><td>0.0120  </td><td>0.0128  </td></tr>\n",
       "\t<tr><th scope=row>c5Boost</th><td>0.998599</td><td>0.9953  </td><td>0.9857  </td><td>0.0021  </td><td>0.0039  </td><td>0.0121  </td></tr>\n",
       "\t<tr><th scope=row>SVM</th><td>0.999198</td><td>0.9974  </td><td>0.9812  </td><td>0.0009  </td><td>0.0026  </td><td>0.0149  </td></tr>\n",
       "\t<tr><th scope=row>KNN</th><td>0.997131</td><td>0.9918  </td><td>0.9821  </td><td>0.0039  </td><td>0.0064  </td><td>0.0163  </td></tr>\n",
       "\t<tr><th scope=row>RF</th><td>0.999214</td><td>0.9974  </td><td>0.9821  </td><td>0.0011  </td><td>0.0038  </td><td>0.0111  </td></tr>\n",
       "</tbody>\n",
       "</table>\n"
      ],
      "text/latex": [
       "\\begin{tabular}{r|llllll}\n",
       "  & ROC & Sensitivity & Specificity & Sd(ROC) & Sd(Sensitivity) & Sd(Specificity)\\\\\n",
       "\\hline\n",
       "\tCART & 0.987848 & 0.9840   & 0.9607   & 0.0077   & 0.0120   & 0.0128  \\\\\n",
       "\tc5Boost & 0.998599 & 0.9953   & 0.9857   & 0.0021   & 0.0039   & 0.0121  \\\\\n",
       "\tSVM & 0.999198 & 0.9974   & 0.9812   & 0.0009   & 0.0026   & 0.0149  \\\\\n",
       "\tKNN & 0.997131 & 0.9918   & 0.9821   & 0.0039   & 0.0064   & 0.0163  \\\\\n",
       "\tRF & 0.999214 & 0.9974   & 0.9821   & 0.0011   & 0.0038   & 0.0111  \\\\\n",
       "\\end{tabular}\n"
      ],
      "text/markdown": [
       "\n",
       "| <!--/--> | ROC | Sensitivity | Specificity | Sd(ROC) | Sd(Sensitivity) | Sd(Specificity) | \n",
       "|---|---|---|---|---|\n",
       "| CART | 0.987848 | 0.9840   | 0.9607   | 0.0077   | 0.0120   | 0.0128   | \n",
       "| c5Boost | 0.998599 | 0.9953   | 0.9857   | 0.0021   | 0.0039   | 0.0121   | \n",
       "| SVM | 0.999198 | 0.9974   | 0.9812   | 0.0009   | 0.0026   | 0.0149   | \n",
       "| KNN | 0.997131 | 0.9918   | 0.9821   | 0.0039   | 0.0064   | 0.0163   | \n",
       "| RF | 0.999214 | 0.9974   | 0.9821   | 0.0011   | 0.0038   | 0.0111   | \n",
       "\n",
       "\n"
      ],
      "text/plain": [
       "        ROC      Sensitivity Specificity Sd(ROC) Sd(Sensitivity)\n",
       "CART    0.987848 0.9840      0.9607      0.0077  0.0120         \n",
       "c5Boost 0.998599 0.9953      0.9857      0.0021  0.0039         \n",
       "SVM     0.999198 0.9974      0.9812      0.0009  0.0026         \n",
       "KNN     0.997131 0.9918      0.9821      0.0039  0.0064         \n",
       "RF      0.999214 0.9974      0.9821      0.0011  0.0038         \n",
       "        Sd(Specificity)\n",
       "CART    0.0128         \n",
       "c5Boost 0.0121         \n",
       "SVM     0.0149         \n",
       "KNN     0.0163         \n",
       "RF      0.0111         "
      ]
     },
     "metadata": {},
     "output_type": "display_data"
    }
   ],
   "source": [
    "#create comparative table ROC metrics each model\n",
    "cvmetric1 <- c(round(mean(rpartTune$resample$ROC),6), round(mean(rpartTune$resample$Sens),4),round(mean(rpartTune$resample$Spec),4),round(sd(rpartTune$resample$ROC),4),round(sd(rpartTune$resample$Sens),4),round(sd(rpartTune$resample$Spec),4))\n",
    "\n",
    "cvmetric2 <- c(round(mean(c5Tune$resample$ROC),6), round(mean(c5Tune$resample$Sens),4),round(mean(c5Tune$resample$Spec),4),round(sd(c5Tune$resample$ROC),4),round(sd(c5Tune$resample$Sens),4),round(sd(c5Tune$resample$Spec),4))\n",
    "\n",
    "cvmetric3 <- c(round(mean(svmTune$resample$ROC),6), round(mean(svmTune$resample$Sens),4),round(mean(svmTune$resample$Spec),4),round(sd(svmTune$resample$ROC),4),round(sd(svmTune$resample$Sens),4),round(sd(svmTune$resample$Spec),4))\n",
    "\n",
    "cvmetric4 <- c(round(mean(knnTune$resample$ROC),6), round(mean(knnTune$resample$Sens),4),round(mean(knnTune$resample$Spec),4),round(sd(knnTune$resample$ROC),4),round(sd(knnTune$resample$Sens),4),round(sd(knnTune$resample$Spec),4))\n",
    "\n",
    "cvmetric5 <- c(round(mean(rfTune$resample$ROC),6), round(mean(rfTune$resample$Sens),4),round(mean(rfTune$resample$Spec),4),round(sd(rfTune$resample$ROC),4),round(sd(rfTune$resample$Sens),4),round(sd(rfTune$resample$Spec),4))\n",
    "\n",
    "allcvmetrics <- rbind(CART=cvmetric1, c5Boost=cvmetric2, SVM=cvmetric3, KNN=cvmetric4, RF=cvmetric5) \n",
    "\n",
    "colnames(allcvmetrics) <- c(\"ROC\",\"Sensitivity\",\"Specificity\",\"Sd(ROC)\",\"Sd(Sensitivity)\",\"Sd(Specificity)\")\n",
    "(allcvmetrics)\n"
   ]
  },
  {
   "cell_type": "markdown",
   "metadata": {
    "collapsed": true
   },
   "source": [
    "As a general appreciation, all models have very good ROC scores, but the best one corresponds to RF (0.999214).\n",
    "\n",
    "The following graph presents the ROC curves of each model got it through the testing dataset. So we can see the different ROC's shapes and which of the models has a bigger AUC associated metric. In our case, all models are under RF curve meaning that RF's model performs better even in the testing dataset too.\n"
   ]
  },
  {
   "cell_type": "code",
   "execution_count": 106,
   "metadata": {},
   "outputs": [
    {
     "data": {
      "text/plain": [
       "\n",
       "Call:\n",
       "roc.default(response = testing$Class, predictor = rfProbs$white,     levels = rev(levels(testing$Class)))\n",
       "\n",
       "Data: rfProbs$white in 479 controls (testing$Class red) < 1469 cases (testing$Class white).\n",
       "Area under the curve: 0.9943"
      ]
     },
     "metadata": {},
     "output_type": "display_data"
    },
    {
     "data": {
      "image/png": "[encoded data removed]",
      "text/plain": [
       "Plot with title \"CART, C5.0, SVM, KNN and RF Models ROC curve\""
      ]
     },
     "metadata": {},
     "output_type": "display_data"
    }
   ],
   "source": [
    "## Creating the ROC Curve\n",
    "library(pROC)\n",
    "rfROC <- roc(predictor = rfProbs$white, response = testing$Class, levels = rev(levels(testing$Class)))\n",
    "rfROC\n",
    "\n",
    "plot(rpartROC, type = \"S\", main=\"CART, C5.0, SVM, KNN and RF Models ROC curve\")\n",
    "plot(c5ROC, add = TRUE,  col = \"cyan\")\n",
    "plot(svmROC, add = TRUE, col = \"red\")\n",
    "plot(knnROC, add = TRUE, col = \"yellow\")\n",
    "plot(rfROC, add = TRUE, print.thres = .5, col = \"blue\", print.auc=TRUE)\n",
    "legend(\"bottomright\", legend = c(\"CART\", \"C5.0\", \"SVM\", \"KNN\", \"RF\"), col = c(\"black\", \"cyan\", \"red\", \"yellow\", \"blue\"),lwd = 2)"
   ]
  },
  {
   "cell_type": "markdown",
   "metadata": {},
   "source": [
    "## VI Making predictions\n",
    " \n",
    "The RF algorithm was chosen as the best model that we tested. Now we want to get the predictions from the model on our training dataset."
   ]
  },
  {
   "cell_type": "code",
   "execution_count": 21,
   "metadata": {},
   "outputs": [
    {
     "data": {
      "text/html": [
       "<table>\n",
       "<thead><tr><th></th><th scope=col>white</th><th scope=col>red</th></tr></thead>\n",
       "<tbody>\n",
       "\t<tr><th scope=row>1</th><td>1.000</td><td>0.000</td></tr>\n",
       "\t<tr><th scope=row>4</th><td>1.000</td><td>0.000</td></tr>\n",
       "\t<tr><th scope=row>5</th><td>1.000</td><td>0.000</td></tr>\n",
       "\t<tr><th scope=row>6</th><td>0.996</td><td>0.004</td></tr>\n",
       "\t<tr><th scope=row>18</th><td>0.953</td><td>0.047</td></tr>\n",
       "\t<tr><th scope=row>20</th><td>0.996</td><td>0.004</td></tr>\n",
       "\t<tr><th scope=row>23</th><td>0.999</td><td>0.001</td></tr>\n",
       "\t<tr><th scope=row>25</th><td>0.999</td><td>0.001</td></tr>\n",
       "\t<tr><th scope=row>30</th><td>0.992</td><td>0.008</td></tr>\n",
       "\t<tr><th scope=row>34</th><td>0.998</td><td>0.002</td></tr>\n",
       "\t<tr><th scope=row>35</th><td>0.999</td><td>0.001</td></tr>\n",
       "\t<tr><th scope=row>45</th><td>0.984</td><td>0.016</td></tr>\n",
       "\t<tr><th scope=row>52</th><td>0.723</td><td>0.277</td></tr>\n",
       "\t<tr><th scope=row>60</th><td>1.000</td><td>0.000</td></tr>\n",
       "\t<tr><th scope=row>61</th><td>0.991</td><td>0.009</td></tr>\n",
       "\t<tr><th scope=row>63</th><td>0.997</td><td>0.003</td></tr>\n",
       "\t<tr><th scope=row>64</th><td>0.997</td><td>0.003</td></tr>\n",
       "\t<tr><th scope=row>66</th><td>0.908</td><td>0.092</td></tr>\n",
       "\t<tr><th scope=row>69</th><td>1.000</td><td>0.000</td></tr>\n",
       "\t<tr><th scope=row>70</th><td>1.000</td><td>0.000</td></tr>\n",
       "\t<tr><th scope=row>71</th><td>1.000</td><td>0.000</td></tr>\n",
       "\t<tr><th scope=row>72</th><td>0.981</td><td>0.019</td></tr>\n",
       "\t<tr><th scope=row>88</th><td>1.000</td><td>0.000</td></tr>\n",
       "\t<tr><th scope=row>89</th><td>1.000</td><td>0.000</td></tr>\n",
       "\t<tr><th scope=row>93</th><td>1.000</td><td>0.000</td></tr>\n",
       "\t<tr><th scope=row>102</th><td>0.999</td><td>0.001</td></tr>\n",
       "\t<tr><th scope=row>109</th><td>1.000</td><td>0.000</td></tr>\n",
       "\t<tr><th scope=row>110</th><td>0.997</td><td>0.003</td></tr>\n",
       "\t<tr><th scope=row>116</th><td>0.598</td><td>0.402</td></tr>\n",
       "\t<tr><th scope=row>117</th><td>0.999</td><td>0.001</td></tr>\n",
       "\t<tr><th scope=row>...</th><td>...</td><td>...</td></tr>\n",
       "\t<tr><th scope=row>6399</th><td>0.010</td><td>0.990</td></tr>\n",
       "\t<tr><th scope=row>6406</th><td>0.005</td><td>0.995</td></tr>\n",
       "\t<tr><th scope=row>6407</th><td>0.035</td><td>0.965</td></tr>\n",
       "\t<tr><th scope=row>6408</th><td>0.092</td><td>0.908</td></tr>\n",
       "\t<tr><th scope=row>6414</th><td>0.009</td><td>0.991</td></tr>\n",
       "\t<tr><th scope=row>6417</th><td>0.003</td><td>0.997</td></tr>\n",
       "\t<tr><th scope=row>6419</th><td>0.002</td><td>0.998</td></tr>\n",
       "\t<tr><th scope=row>6423</th><td>0.034</td><td>0.966</td></tr>\n",
       "\t<tr><th scope=row>6424</th><td>0.008</td><td>0.992</td></tr>\n",
       "\t<tr><th scope=row>6428</th><td>0.008</td><td>0.992</td></tr>\n",
       "\t<tr><th scope=row>6430</th><td>0.009</td><td>0.991</td></tr>\n",
       "\t<tr><th scope=row>6434</th><td>0.001</td><td>0.999</td></tr>\n",
       "\t<tr><th scope=row>6437</th><td>0.000</td><td>1.000</td></tr>\n",
       "\t<tr><th scope=row>6439</th><td>0.042</td><td>0.958</td></tr>\n",
       "\t<tr><th scope=row>6440</th><td>0.240</td><td>0.760</td></tr>\n",
       "\t<tr><th scope=row>6444</th><td>0.057</td><td>0.943</td></tr>\n",
       "\t<tr><th scope=row>6445</th><td>0.001</td><td>0.999</td></tr>\n",
       "\t<tr><th scope=row>6447</th><td>0.009</td><td>0.991</td></tr>\n",
       "\t<tr><th scope=row>6451</th><td>0.007</td><td>0.993</td></tr>\n",
       "\t<tr><th scope=row>6452</th><td>0.000</td><td>1.000</td></tr>\n",
       "\t<tr><th scope=row>6453</th><td>0.001</td><td>0.999</td></tr>\n",
       "\t<tr><th scope=row>6461</th><td>0.000</td><td>1.000</td></tr>\n",
       "\t<tr><th scope=row>6466</th><td>0.000</td><td>1.000</td></tr>\n",
       "\t<tr><th scope=row>6467</th><td>0.005</td><td>0.995</td></tr>\n",
       "\t<tr><th scope=row>6470</th><td>0.343</td><td>0.657</td></tr>\n",
       "\t<tr><th scope=row>6473</th><td>0.683</td><td>0.317</td></tr>\n",
       "\t<tr><th scope=row>6482</th><td>0.257</td><td>0.743</td></tr>\n",
       "\t<tr><th scope=row>6484</th><td>0.016</td><td>0.984</td></tr>\n",
       "\t<tr><th scope=row>6492</th><td>0.000</td><td>1.000</td></tr>\n",
       "\t<tr><th scope=row>6496</th><td>0.004</td><td>0.996</td></tr>\n",
       "</tbody>\n",
       "</table>\n"
      ],
      "text/latex": [
       "\\begin{tabular}{r|ll}\n",
       "  & white & red\\\\\n",
       "\\hline\n",
       "\t1 & 1.000 & 0.000\\\\\n",
       "\t4 & 1.000 & 0.000\\\\\n",
       "\t5 & 1.000 & 0.000\\\\\n",
       "\t6 & 0.996 & 0.004\\\\\n",
       "\t18 & 0.953 & 0.047\\\\\n",
       "\t20 & 0.996 & 0.004\\\\\n",
       "\t23 & 0.999 & 0.001\\\\\n",
       "\t25 & 0.999 & 0.001\\\\\n",
       "\t30 & 0.992 & 0.008\\\\\n",
       "\t34 & 0.998 & 0.002\\\\\n",
       "\t35 & 0.999 & 0.001\\\\\n",
       "\t45 & 0.984 & 0.016\\\\\n",
       "\t52 & 0.723 & 0.277\\\\\n",
       "\t60 & 1.000 & 0.000\\\\\n",
       "\t61 & 0.991 & 0.009\\\\\n",
       "\t63 & 0.997 & 0.003\\\\\n",
       "\t64 & 0.997 & 0.003\\\\\n",
       "\t66 & 0.908 & 0.092\\\\\n",
       "\t69 & 1.000 & 0.000\\\\\n",
       "\t70 & 1.000 & 0.000\\\\\n",
       "\t71 & 1.000 & 0.000\\\\\n",
       "\t72 & 0.981 & 0.019\\\\\n",
       "\t88 & 1.000 & 0.000\\\\\n",
       "\t89 & 1.000 & 0.000\\\\\n",
       "\t93 & 1.000 & 0.000\\\\\n",
       "\t102 & 0.999 & 0.001\\\\\n",
       "\t109 & 1.000 & 0.000\\\\\n",
       "\t110 & 0.997 & 0.003\\\\\n",
       "\t116 & 0.598 & 0.402\\\\\n",
       "\t117 & 0.999 & 0.001\\\\\n",
       "\t... & ... & ...\\\\\n",
       "\t6399 & 0.010 & 0.990\\\\\n",
       "\t6406 & 0.005 & 0.995\\\\\n",
       "\t6407 & 0.035 & 0.965\\\\\n",
       "\t6408 & 0.092 & 0.908\\\\\n",
       "\t6414 & 0.009 & 0.991\\\\\n",
       "\t6417 & 0.003 & 0.997\\\\\n",
       "\t6419 & 0.002 & 0.998\\\\\n",
       "\t6423 & 0.034 & 0.966\\\\\n",
       "\t6424 & 0.008 & 0.992\\\\\n",
       "\t6428 & 0.008 & 0.992\\\\\n",
       "\t6430 & 0.009 & 0.991\\\\\n",
       "\t6434 & 0.001 & 0.999\\\\\n",
       "\t6437 & 0.000 & 1.000\\\\\n",
       "\t6439 & 0.042 & 0.958\\\\\n",
       "\t6440 & 0.240 & 0.760\\\\\n",
       "\t6444 & 0.057 & 0.943\\\\\n",
       "\t6445 & 0.001 & 0.999\\\\\n",
       "\t6447 & 0.009 & 0.991\\\\\n",
       "\t6451 & 0.007 & 0.993\\\\\n",
       "\t6452 & 0.000 & 1.000\\\\\n",
       "\t6453 & 0.001 & 0.999\\\\\n",
       "\t6461 & 0.000 & 1.000\\\\\n",
       "\t6466 & 0.000 & 1.000\\\\\n",
       "\t6467 & 0.005 & 0.995\\\\\n",
       "\t6470 & 0.343 & 0.657\\\\\n",
       "\t6473 & 0.683 & 0.317\\\\\n",
       "\t6482 & 0.257 & 0.743\\\\\n",
       "\t6484 & 0.016 & 0.984\\\\\n",
       "\t6492 & 0.000 & 1.000\\\\\n",
       "\t6496 & 0.004 & 0.996\\\\\n",
       "\\end{tabular}\n"
      ],
      "text/markdown": [
       "\n",
       "| <!--/--> | white | red | \n",
       "|---|---|---|---|---|---|---|---|---|---|---|---|---|---|---|---|---|---|---|---|---|---|---|---|---|---|---|---|---|---|---|---|---|---|---|---|---|---|---|---|---|---|---|---|---|---|---|---|---|---|---|---|---|---|---|---|---|---|---|---|---|\n",
       "| 1 | 1.000 | 0.000 | \n",
       "| 4 | 1.000 | 0.000 | \n",
       "| 5 | 1.000 | 0.000 | \n",
       "| 6 | 0.996 | 0.004 | \n",
       "| 18 | 0.953 | 0.047 | \n",
       "| 20 | 0.996 | 0.004 | \n",
       "| 23 | 0.999 | 0.001 | \n",
       "| 25 | 0.999 | 0.001 | \n",
       "| 30 | 0.992 | 0.008 | \n",
       "| 34 | 0.998 | 0.002 | \n",
       "| 35 | 0.999 | 0.001 | \n",
       "| 45 | 0.984 | 0.016 | \n",
       "| 52 | 0.723 | 0.277 | \n",
       "| 60 | 1.000 | 0.000 | \n",
       "| 61 | 0.991 | 0.009 | \n",
       "| 63 | 0.997 | 0.003 | \n",
       "| 64 | 0.997 | 0.003 | \n",
       "| 66 | 0.908 | 0.092 | \n",
       "| 69 | 1.000 | 0.000 | \n",
       "| 70 | 1.000 | 0.000 | \n",
       "| 71 | 1.000 | 0.000 | \n",
       "| 72 | 0.981 | 0.019 | \n",
       "| 88 | 1.000 | 0.000 | \n",
       "| 89 | 1.000 | 0.000 | \n",
       "| 93 | 1.000 | 0.000 | \n",
       "| 102 | 0.999 | 0.001 | \n",
       "| 109 | 1.000 | 0.000 | \n",
       "| 110 | 0.997 | 0.003 | \n",
       "| 116 | 0.598 | 0.402 | \n",
       "| 117 | 0.999 | 0.001 | \n",
       "| ... | ... | ... | \n",
       "| 6399 | 0.010 | 0.990 | \n",
       "| 6406 | 0.005 | 0.995 | \n",
       "| 6407 | 0.035 | 0.965 | \n",
       "| 6408 | 0.092 | 0.908 | \n",
       "| 6414 | 0.009 | 0.991 | \n",
       "| 6417 | 0.003 | 0.997 | \n",
       "| 6419 | 0.002 | 0.998 | \n",
       "| 6423 | 0.034 | 0.966 | \n",
       "| 6424 | 0.008 | 0.992 | \n",
       "| 6428 | 0.008 | 0.992 | \n",
       "| 6430 | 0.009 | 0.991 | \n",
       "| 6434 | 0.001 | 0.999 | \n",
       "| 6437 | 0.000 | 1.000 | \n",
       "| 6439 | 0.042 | 0.958 | \n",
       "| 6440 | 0.240 | 0.760 | \n",
       "| 6444 | 0.057 | 0.943 | \n",
       "| 6445 | 0.001 | 0.999 | \n",
       "| 6447 | 0.009 | 0.991 | \n",
       "| 6451 | 0.007 | 0.993 | \n",
       "| 6452 | 0.000 | 1.000 | \n",
       "| 6453 | 0.001 | 0.999 | \n",
       "| 6461 | 0.000 | 1.000 | \n",
       "| 6466 | 0.000 | 1.000 | \n",
       "| 6467 | 0.005 | 0.995 | \n",
       "| 6470 | 0.343 | 0.657 | \n",
       "| 6473 | 0.683 | 0.317 | \n",
       "| 6482 | 0.257 | 0.743 | \n",
       "| 6484 | 0.016 | 0.984 | \n",
       "| 6492 | 0.000 | 1.000 | \n",
       "| 6496 | 0.004 | 0.996 | \n",
       "\n",
       "\n"
      ],
      "text/plain": [
       "     white red  \n",
       "1    1.000 0.000\n",
       "4    1.000 0.000\n",
       "5    1.000 0.000\n",
       "6    0.996 0.004\n",
       "18   0.953 0.047\n",
       "20   0.996 0.004\n",
       "23   0.999 0.001\n",
       "25   0.999 0.001\n",
       "30   0.992 0.008\n",
       "34   0.998 0.002\n",
       "35   0.999 0.001\n",
       "45   0.984 0.016\n",
       "52   0.723 0.277\n",
       "60   1.000 0.000\n",
       "61   0.991 0.009\n",
       "63   0.997 0.003\n",
       "64   0.997 0.003\n",
       "66   0.908 0.092\n",
       "69   1.000 0.000\n",
       "70   1.000 0.000\n",
       "71   1.000 0.000\n",
       "72   0.981 0.019\n",
       "88   1.000 0.000\n",
       "89   1.000 0.000\n",
       "93   1.000 0.000\n",
       "102  0.999 0.001\n",
       "109  1.000 0.000\n",
       "110  0.997 0.003\n",
       "116  0.598 0.402\n",
       "117  0.999 0.001\n",
       "...  ...   ...  \n",
       "6399 0.010 0.990\n",
       "6406 0.005 0.995\n",
       "6407 0.035 0.965\n",
       "6408 0.092 0.908\n",
       "6414 0.009 0.991\n",
       "6417 0.003 0.997\n",
       "6419 0.002 0.998\n",
       "6423 0.034 0.966\n",
       "6424 0.008 0.992\n",
       "6428 0.008 0.992\n",
       "6430 0.009 0.991\n",
       "6434 0.001 0.999\n",
       "6437 0.000 1.000\n",
       "6439 0.042 0.958\n",
       "6440 0.240 0.760\n",
       "6444 0.057 0.943\n",
       "6445 0.001 0.999\n",
       "6447 0.009 0.991\n",
       "6451 0.007 0.993\n",
       "6452 0.000 1.000\n",
       "6453 0.001 0.999\n",
       "6461 0.000 1.000\n",
       "6466 0.000 1.000\n",
       "6467 0.005 0.995\n",
       "6470 0.343 0.657\n",
       "6473 0.683 0.317\n",
       "6482 0.257 0.743\n",
       "6484 0.016 0.984\n",
       "6492 0.000 1.000\n",
       "6496 0.004 0.996"
      ]
     },
     "metadata": {},
     "output_type": "display_data"
    }
   ],
   "source": [
    "# print predictions probabilities by row\n",
    "as.data.frame(rfProbs)"
   ]
  },
  {
   "cell_type": "code",
   "execution_count": 22,
   "metadata": {},
   "outputs": [
    {
     "data": {
      "text/html": [
       "<table>\n",
       "<thead><tr><th scope=col>fixed.acidity</th><th scope=col>volatile.acidity</th><th scope=col>citric.acid</th><th scope=col>residual.sugar</th><th scope=col>chlorides</th><th scope=col>total.sulfur.dioxide</th><th scope=col>pH</th><th scope=col>sulphates</th><th scope=col>alcohol</th><th scope=col>quality</th><th scope=col>Class</th><th scope=col>rfPred</th></tr></thead>\n",
       "<tbody>\n",
       "\t<tr><td>7.0  </td><td>0.270</td><td>0.36 </td><td>20.70</td><td>0.045</td><td>170.0</td><td>3.00 </td><td>0.45 </td><td> 8.8 </td><td>6    </td><td>white</td><td>white</td></tr>\n",
       "\t<tr><td>7.2  </td><td>0.230</td><td>0.32 </td><td> 8.50</td><td>0.058</td><td>186.0</td><td>3.19 </td><td>0.40 </td><td> 9.9 </td><td>6    </td><td>white</td><td>white</td></tr>\n",
       "\t<tr><td>7.2  </td><td>0.230</td><td>0.32 </td><td> 8.50</td><td>0.058</td><td>186.0</td><td>3.19 </td><td>0.40 </td><td> 9.9 </td><td>6    </td><td>white</td><td>white</td></tr>\n",
       "\t<tr><td>8.1  </td><td>0.280</td><td>0.40 </td><td> 6.90</td><td>0.050</td><td> 97.0</td><td>3.26 </td><td>0.44 </td><td>10.1 </td><td>6    </td><td>white</td><td>white</td></tr>\n",
       "\t<tr><td>6.2  </td><td>0.660</td><td>0.48 </td><td> 1.20</td><td>0.029</td><td> 75.0</td><td>3.33 </td><td>0.39 </td><td>12.8 </td><td>8    </td><td>white</td><td>white</td></tr>\n",
       "\t<tr><td>6.5  </td><td>0.310</td><td>0.14 </td><td> 7.50</td><td>0.044</td><td>133.0</td><td>3.22 </td><td>0.50 </td><td> 9.5 </td><td>5    </td><td>white</td><td>white</td></tr>\n",
       "\t<tr><td>6.8  </td><td>0.260</td><td>0.42 </td><td> 1.70</td><td>0.049</td><td>122.0</td><td>3.47 </td><td>0.48 </td><td>10.5 </td><td>8    </td><td>white</td><td>white</td></tr>\n",
       "\t<tr><td>6.6  </td><td>0.270</td><td>0.41 </td><td> 1.30</td><td>0.052</td><td>142.0</td><td>3.42 </td><td>0.47 </td><td>10.0 </td><td>6    </td><td>white</td><td>white</td></tr>\n",
       "\t<tr><td>7.2  </td><td>0.320</td><td>0.36 </td><td> 2.00</td><td>0.033</td><td>114.0</td><td>3.10 </td><td>0.71 </td><td>12.3 </td><td>7    </td><td>white</td><td>white</td></tr>\n",
       "\t<tr><td>6.2  </td><td>0.120</td><td>0.34 </td><td> 1.50</td><td>0.045</td><td>117.0</td><td>3.42 </td><td>0.51 </td><td> 9.0 </td><td>6    </td><td>white</td><td>white</td></tr>\n",
       "\t<tr><td>5.8  </td><td>0.270</td><td>0.20 </td><td>14.95</td><td>0.044</td><td>179.0</td><td>3.37 </td><td>0.37 </td><td>10.2 </td><td>5    </td><td>white</td><td>white</td></tr>\n",
       "\t<tr><td>6.7  </td><td>0.230</td><td>0.26 </td><td> 1.40</td><td>0.060</td><td>154.0</td><td>3.24 </td><td>0.56 </td><td> 9.5 </td><td>6    </td><td>white</td><td>white</td></tr>\n",
       "\t<tr><td>6.6  </td><td>0.250</td><td>0.29 </td><td> 1.10</td><td>0.068</td><td>124.0</td><td>3.34 </td><td>0.58 </td><td>11.0 </td><td>7    </td><td>white</td><td>white</td></tr>\n",
       "\t<tr><td>7.4  </td><td>0.200</td><td>0.36 </td><td> 1.20</td><td>0.038</td><td>111.0</td><td>3.36 </td><td>0.34 </td><td> 9.9 </td><td>6    </td><td>white</td><td>white</td></tr>\n",
       "\t<tr><td>6.8  </td><td>0.220</td><td>0.24 </td><td> 4.90</td><td>0.092</td><td>123.0</td><td>3.03 </td><td>0.46 </td><td> 8.6 </td><td>6    </td><td>white</td><td>white</td></tr>\n",
       "\t<tr><td>7.0  </td><td>0.470</td><td>0.07 </td><td> 1.10</td><td>0.035</td><td>151.0</td><td>3.02 </td><td>0.34 </td><td>10.5 </td><td>5    </td><td>white</td><td>white</td></tr>\n",
       "\t<tr><td>6.6  </td><td>0.380</td><td>0.15 </td><td> 4.60</td><td>0.044</td><td> 78.0</td><td>3.11 </td><td>0.38 </td><td>10.2 </td><td>6    </td><td>white</td><td>white</td></tr>\n",
       "\t<tr><td>6.2  </td><td>0.350</td><td>0.03 </td><td> 1.20</td><td>0.064</td><td>120.0</td><td>3.22 </td><td>0.54 </td><td> 9.1 </td><td>5    </td><td>white</td><td>white</td></tr>\n",
       "\t<tr><td>6.7  </td><td>0.230</td><td>0.31 </td><td> 2.10</td><td>0.046</td><td> 96.0</td><td>3.33 </td><td>0.64 </td><td>10.7 </td><td>8    </td><td>white</td><td>white</td></tr>\n",
       "\t<tr><td>7.4  </td><td>0.240</td><td>0.29 </td><td>10.10</td><td>0.050</td><td>105.0</td><td>3.13 </td><td>0.35 </td><td> 9.5 </td><td>5    </td><td>white</td><td>white</td></tr>\n",
       "\t<tr><td>6.2  </td><td>0.270</td><td>0.43 </td><td> 7.80</td><td>0.056</td><td>244.0</td><td>3.10 </td><td>0.51 </td><td> 9.0 </td><td>6    </td><td>white</td><td>white</td></tr>\n",
       "\t<tr><td>6.8  </td><td>0.300</td><td>0.23 </td><td> 4.60</td><td>0.061</td><td>238.5</td><td>3.32 </td><td>0.60 </td><td> 9.5 </td><td>5    </td><td>white</td><td>white</td></tr>\n",
       "\t<tr><td>6.8  </td><td>0.250</td><td>0.31 </td><td>13.30</td><td>0.050</td><td>202.0</td><td>3.22 </td><td>0.48 </td><td> 9.7 </td><td>6    </td><td>white</td><td>white</td></tr>\n",
       "\t<tr><td>7.1  </td><td>0.430</td><td>0.61 </td><td>11.80</td><td>0.045</td><td>155.0</td><td>3.11 </td><td>0.45 </td><td> 8.7 </td><td>5    </td><td>white</td><td>white</td></tr>\n",
       "\t<tr><td>6.9  </td><td>0.240</td><td>0.33 </td><td> 1.70</td><td>0.035</td><td>136.0</td><td>3.26 </td><td>0.40 </td><td>12.6 </td><td>7    </td><td>white</td><td>white</td></tr>\n",
       "\t<tr><td>7.1  </td><td>0.120</td><td>0.32 </td><td> 9.60</td><td>0.054</td><td>162.0</td><td>3.40 </td><td>0.41 </td><td> 9.4 </td><td>5    </td><td>white</td><td>white</td></tr>\n",
       "\t<tr><td>7.1  </td><td>0.230</td><td>0.35 </td><td>16.50</td><td>0.040</td><td>171.0</td><td>3.16 </td><td>0.59 </td><td> 9.1 </td><td>6    </td><td>white</td><td>white</td></tr>\n",
       "\t<tr><td>6.9  </td><td>0.330</td><td>0.28 </td><td> 1.30</td><td>0.051</td><td>187.0</td><td>3.27 </td><td>0.60 </td><td>10.3 </td><td>5    </td><td>white</td><td>white</td></tr>\n",
       "\t<tr><td>5.5  </td><td>0.485</td><td>0.00 </td><td> 1.50</td><td>0.065</td><td>103.0</td><td>3.63 </td><td>0.40 </td><td> 9.7 </td><td>4    </td><td>white</td><td>white</td></tr>\n",
       "\t<tr><td>6.0  </td><td>0.310</td><td>0.24 </td><td> 3.30</td><td>0.041</td><td>143.0</td><td>3.31 </td><td>0.44 </td><td>11.3 </td><td>6    </td><td>white</td><td>white</td></tr>\n",
       "\t<tr><td>...</td><td>...</td><td>...</td><td>...</td><td>...</td><td>...</td><td>...</td><td>...</td><td>...</td><td>...</td><td>...</td><td>...</td></tr>\n",
       "\t<tr><td> 7.5 </td><td>0.725</td><td>0.04 </td><td> 1.5 </td><td>0.076</td><td>15   </td><td>3.26 </td><td>0.53 </td><td> 9.60</td><td>5    </td><td>red  </td><td>red  </td></tr>\n",
       "\t<tr><td> 7.5 </td><td>0.380</td><td>0.57 </td><td> 2.3 </td><td>0.106</td><td>12   </td><td>3.36 </td><td>0.55 </td><td>11.40</td><td>6    </td><td>red  </td><td>red  </td></tr>\n",
       "\t<tr><td> 7.1 </td><td>0.270</td><td>0.60 </td><td> 2.1 </td><td>0.074</td><td>25   </td><td>3.38 </td><td>0.72 </td><td>10.60</td><td>6    </td><td>red  </td><td>red  </td></tr>\n",
       "\t<tr><td> 7.9 </td><td>0.180</td><td>0.40 </td><td> 1.8 </td><td>0.062</td><td>20   </td><td>3.28 </td><td>0.70 </td><td>11.10</td><td>5    </td><td>red  </td><td>red  </td></tr>\n",
       "\t<tr><td> 6.9 </td><td>0.840</td><td>0.21 </td><td> 4.1 </td><td>0.074</td><td>65   </td><td>3.53 </td><td>0.72 </td><td> 9.25</td><td>6    </td><td>red  </td><td>red  </td></tr>\n",
       "\t<tr><td> 7.4 </td><td>0.470</td><td>0.46 </td><td> 2.2 </td><td>0.114</td><td>20   </td><td>3.32 </td><td>0.63 </td><td>10.50</td><td>5    </td><td>red  </td><td>red  </td></tr>\n",
       "\t<tr><td> 6.5 </td><td>0.530</td><td>0.06 </td><td> 2.0 </td><td>0.063</td><td>44   </td><td>3.38 </td><td>0.83 </td><td>10.30</td><td>6    </td><td>red  </td><td>red  </td></tr>\n",
       "\t<tr><td> 6.0 </td><td>0.420</td><td>0.19 </td><td> 2.0 </td><td>0.075</td><td>47   </td><td>3.39 </td><td>0.78 </td><td>10.00</td><td>6    </td><td>red  </td><td>red  </td></tr>\n",
       "\t<tr><td> 6.7 </td><td>0.480</td><td>0.08 </td><td> 2.1 </td><td>0.064</td><td>34   </td><td>3.33 </td><td>0.64 </td><td> 9.70</td><td>5    </td><td>red  </td><td>red  </td></tr>\n",
       "\t<tr><td> 7.1 </td><td>0.690</td><td>0.08 </td><td> 2.1 </td><td>0.063</td><td>52   </td><td>3.42 </td><td>0.60 </td><td>10.20</td><td>6    </td><td>red  </td><td>red  </td></tr>\n",
       "\t<tr><td> 6.1 </td><td>0.705</td><td>0.10 </td><td> 2.8 </td><td>0.081</td><td>28   </td><td>3.60 </td><td>0.66 </td><td>10.20</td><td>5    </td><td>red  </td><td>red  </td></tr>\n",
       "\t<tr><td> 7.0 </td><td>0.550</td><td>0.13 </td><td> 2.2 </td><td>0.075</td><td>35   </td><td>3.36 </td><td>0.59 </td><td> 9.70</td><td>6    </td><td>red  </td><td>red  </td></tr>\n",
       "\t<tr><td> 6.2 </td><td>0.640</td><td>0.09 </td><td> 2.5 </td><td>0.081</td><td>26   </td><td>3.57 </td><td>0.63 </td><td>12.00</td><td>5    </td><td>red  </td><td>red  </td></tr>\n",
       "\t<tr><td> 6.2 </td><td>0.520</td><td>0.08 </td><td> 4.4 </td><td>0.071</td><td>32   </td><td>3.56 </td><td>0.63 </td><td>11.60</td><td>6    </td><td>red  </td><td>red  </td></tr>\n",
       "\t<tr><td> 7.4 </td><td>0.250</td><td>0.29 </td><td> 2.2 </td><td>0.054</td><td>49   </td><td>3.40 </td><td>0.76 </td><td>10.90</td><td>7    </td><td>red  </td><td>red  </td></tr>\n",
       "\t<tr><td> 6.5 </td><td>0.630</td><td>0.33 </td><td> 1.8 </td><td>0.059</td><td>28   </td><td>3.36 </td><td>0.64 </td><td>10.10</td><td>6    </td><td>red  </td><td>red  </td></tr>\n",
       "\t<tr><td> 7.0 </td><td>0.570</td><td>0.02 </td><td> 2.0 </td><td>0.072</td><td>26   </td><td>3.36 </td><td>0.61 </td><td>10.20</td><td>5    </td><td>red  </td><td>red  </td></tr>\n",
       "\t<tr><td>11.2 </td><td>0.400</td><td>0.50 </td><td> 2.0 </td><td>0.099</td><td>50   </td><td>3.10 </td><td>0.58 </td><td>10.40</td><td>5    </td><td>red  </td><td>red  </td></tr>\n",
       "\t<tr><td> 6.3 </td><td>0.680</td><td>0.01 </td><td> 3.7 </td><td>0.103</td><td>54   </td><td>3.51 </td><td>0.66 </td><td>11.30</td><td>6    </td><td>red  </td><td>red  </td></tr>\n",
       "\t<tr><td> 7.3 </td><td>0.735</td><td>0.00 </td><td> 2.2 </td><td>0.080</td><td>28   </td><td>3.41 </td><td>0.60 </td><td> 9.40</td><td>5    </td><td>red  </td><td>red  </td></tr>\n",
       "\t<tr><td> 6.6 </td><td>0.855</td><td>0.02 </td><td> 2.4 </td><td>0.062</td><td>23   </td><td>3.54 </td><td>0.60 </td><td>11.00</td><td>6    </td><td>red  </td><td>red  </td></tr>\n",
       "\t<tr><td> 7.2 </td><td>0.695</td><td>0.13 </td><td> 2.0 </td><td>0.076</td><td>20   </td><td>3.29 </td><td>0.54 </td><td>10.10</td><td>5    </td><td>red  </td><td>red  </td></tr>\n",
       "\t<tr><td> 7.2 </td><td>0.695</td><td>0.13 </td><td> 2.0 </td><td>0.076</td><td>20   </td><td>3.29 </td><td>0.54 </td><td>10.10</td><td>5    </td><td>red  </td><td>red  </td></tr>\n",
       "\t<tr><td> 7.0 </td><td>0.560</td><td>0.13 </td><td> 1.6 </td><td>0.077</td><td>42   </td><td>3.34 </td><td>0.59 </td><td> 9.20</td><td>5    </td><td>red  </td><td>red  </td></tr>\n",
       "\t<tr><td> 6.4 </td><td>0.380</td><td>0.14 </td><td> 2.2 </td><td>0.038</td><td>25   </td><td>3.44 </td><td>0.65 </td><td>11.10</td><td>6    </td><td>red  </td><td>red  </td></tr>\n",
       "\t<tr><td> 5.6 </td><td>0.310</td><td>0.78 </td><td>13.9 </td><td>0.074</td><td>92   </td><td>3.39 </td><td>0.48 </td><td>10.50</td><td>6    </td><td>red  </td><td>white</td></tr>\n",
       "\t<tr><td> 6.2 </td><td>0.460</td><td>0.29 </td><td> 2.1 </td><td>0.074</td><td>98   </td><td>3.33 </td><td>0.62 </td><td> 9.80</td><td>5    </td><td>red  </td><td>red  </td></tr>\n",
       "\t<tr><td> 7.2 </td><td>0.390</td><td>0.44 </td><td> 2.6 </td><td>0.066</td><td>48   </td><td>3.30 </td><td>0.84 </td><td>11.50</td><td>6    </td><td>red  </td><td>red  </td></tr>\n",
       "\t<tr><td> 6.8 </td><td>0.620</td><td>0.08 </td><td> 1.9 </td><td>0.068</td><td>38   </td><td>3.42 </td><td>0.82 </td><td> 9.50</td><td>6    </td><td>red  </td><td>red  </td></tr>\n",
       "\t<tr><td> 5.9 </td><td>0.645</td><td>0.12 </td><td> 2.0 </td><td>0.075</td><td>44   </td><td>3.57 </td><td>0.71 </td><td>10.20</td><td>5    </td><td>red  </td><td>red  </td></tr>\n",
       "</tbody>\n",
       "</table>\n"
      ],
      "text/latex": [
       "\\begin{tabular}{r|llllllllllll}\n",
       " fixed.acidity & volatile.acidity & citric.acid & residual.sugar & chlorides & total.sulfur.dioxide & pH & sulphates & alcohol & quality & Class & rfPred\\\\\n",
       "\\hline\n",
       "\t 7.0   & 0.270 & 0.36  & 20.70 & 0.045 & 170.0 & 3.00  & 0.45  &  8.8  & 6     & white & white\\\\\n",
       "\t 7.2   & 0.230 & 0.32  &  8.50 & 0.058 & 186.0 & 3.19  & 0.40  &  9.9  & 6     & white & white\\\\\n",
       "\t 7.2   & 0.230 & 0.32  &  8.50 & 0.058 & 186.0 & 3.19  & 0.40  &  9.9  & 6     & white & white\\\\\n",
       "\t 8.1   & 0.280 & 0.40  &  6.90 & 0.050 &  97.0 & 3.26  & 0.44  & 10.1  & 6     & white & white\\\\\n",
       "\t 6.2   & 0.660 & 0.48  &  1.20 & 0.029 &  75.0 & 3.33  & 0.39  & 12.8  & 8     & white & white\\\\\n",
       "\t 6.5   & 0.310 & 0.14  &  7.50 & 0.044 & 133.0 & 3.22  & 0.50  &  9.5  & 5     & white & white\\\\\n",
       "\t 6.8   & 0.260 & 0.42  &  1.70 & 0.049 & 122.0 & 3.47  & 0.48  & 10.5  & 8     & white & white\\\\\n",
       "\t 6.6   & 0.270 & 0.41  &  1.30 & 0.052 & 142.0 & 3.42  & 0.47  & 10.0  & 6     & white & white\\\\\n",
       "\t 7.2   & 0.320 & 0.36  &  2.00 & 0.033 & 114.0 & 3.10  & 0.71  & 12.3  & 7     & white & white\\\\\n",
       "\t 6.2   & 0.120 & 0.34  &  1.50 & 0.045 & 117.0 & 3.42  & 0.51  &  9.0  & 6     & white & white\\\\\n",
       "\t 5.8   & 0.270 & 0.20  & 14.95 & 0.044 & 179.0 & 3.37  & 0.37  & 10.2  & 5     & white & white\\\\\n",
       "\t 6.7   & 0.230 & 0.26  &  1.40 & 0.060 & 154.0 & 3.24  & 0.56  &  9.5  & 6     & white & white\\\\\n",
       "\t 6.6   & 0.250 & 0.29  &  1.10 & 0.068 & 124.0 & 3.34  & 0.58  & 11.0  & 7     & white & white\\\\\n",
       "\t 7.4   & 0.200 & 0.36  &  1.20 & 0.038 & 111.0 & 3.36  & 0.34  &  9.9  & 6     & white & white\\\\\n",
       "\t 6.8   & 0.220 & 0.24  &  4.90 & 0.092 & 123.0 & 3.03  & 0.46  &  8.6  & 6     & white & white\\\\\n",
       "\t 7.0   & 0.470 & 0.07  &  1.10 & 0.035 & 151.0 & 3.02  & 0.34  & 10.5  & 5     & white & white\\\\\n",
       "\t 6.6   & 0.380 & 0.15  &  4.60 & 0.044 &  78.0 & 3.11  & 0.38  & 10.2  & 6     & white & white\\\\\n",
       "\t 6.2   & 0.350 & 0.03  &  1.20 & 0.064 & 120.0 & 3.22  & 0.54  &  9.1  & 5     & white & white\\\\\n",
       "\t 6.7   & 0.230 & 0.31  &  2.10 & 0.046 &  96.0 & 3.33  & 0.64  & 10.7  & 8     & white & white\\\\\n",
       "\t 7.4   & 0.240 & 0.29  & 10.10 & 0.050 & 105.0 & 3.13  & 0.35  &  9.5  & 5     & white & white\\\\\n",
       "\t 6.2   & 0.270 & 0.43  &  7.80 & 0.056 & 244.0 & 3.10  & 0.51  &  9.0  & 6     & white & white\\\\\n",
       "\t 6.8   & 0.300 & 0.23  &  4.60 & 0.061 & 238.5 & 3.32  & 0.60  &  9.5  & 5     & white & white\\\\\n",
       "\t 6.8   & 0.250 & 0.31  & 13.30 & 0.050 & 202.0 & 3.22  & 0.48  &  9.7  & 6     & white & white\\\\\n",
       "\t 7.1   & 0.430 & 0.61  & 11.80 & 0.045 & 155.0 & 3.11  & 0.45  &  8.7  & 5     & white & white\\\\\n",
       "\t 6.9   & 0.240 & 0.33  &  1.70 & 0.035 & 136.0 & 3.26  & 0.40  & 12.6  & 7     & white & white\\\\\n",
       "\t 7.1   & 0.120 & 0.32  &  9.60 & 0.054 & 162.0 & 3.40  & 0.41  &  9.4  & 5     & white & white\\\\\n",
       "\t 7.1   & 0.230 & 0.35  & 16.50 & 0.040 & 171.0 & 3.16  & 0.59  &  9.1  & 6     & white & white\\\\\n",
       "\t 6.9   & 0.330 & 0.28  &  1.30 & 0.051 & 187.0 & 3.27  & 0.60  & 10.3  & 5     & white & white\\\\\n",
       "\t 5.5   & 0.485 & 0.00  &  1.50 & 0.065 & 103.0 & 3.63  & 0.40  &  9.7  & 4     & white & white\\\\\n",
       "\t 6.0   & 0.310 & 0.24  &  3.30 & 0.041 & 143.0 & 3.31  & 0.44  & 11.3  & 6     & white & white\\\\\n",
       "\t ... & ... & ... & ... & ... & ... & ... & ... & ... & ... & ... & ...\\\\\n",
       "\t  7.5  & 0.725 & 0.04  &  1.5  & 0.076 & 15    & 3.26  & 0.53  &  9.60 & 5     & red   & red  \\\\\n",
       "\t  7.5  & 0.380 & 0.57  &  2.3  & 0.106 & 12    & 3.36  & 0.55  & 11.40 & 6     & red   & red  \\\\\n",
       "\t  7.1  & 0.270 & 0.60  &  2.1  & 0.074 & 25    & 3.38  & 0.72  & 10.60 & 6     & red   & red  \\\\\n",
       "\t  7.9  & 0.180 & 0.40  &  1.8  & 0.062 & 20    & 3.28  & 0.70  & 11.10 & 5     & red   & red  \\\\\n",
       "\t  6.9  & 0.840 & 0.21  &  4.1  & 0.074 & 65    & 3.53  & 0.72  &  9.25 & 6     & red   & red  \\\\\n",
       "\t  7.4  & 0.470 & 0.46  &  2.2  & 0.114 & 20    & 3.32  & 0.63  & 10.50 & 5     & red   & red  \\\\\n",
       "\t  6.5  & 0.530 & 0.06  &  2.0  & 0.063 & 44    & 3.38  & 0.83  & 10.30 & 6     & red   & red  \\\\\n",
       "\t  6.0  & 0.420 & 0.19  &  2.0  & 0.075 & 47    & 3.39  & 0.78  & 10.00 & 6     & red   & red  \\\\\n",
       "\t  6.7  & 0.480 & 0.08  &  2.1  & 0.064 & 34    & 3.33  & 0.64  &  9.70 & 5     & red   & red  \\\\\n",
       "\t  7.1  & 0.690 & 0.08  &  2.1  & 0.063 & 52    & 3.42  & 0.60  & 10.20 & 6     & red   & red  \\\\\n",
       "\t  6.1  & 0.705 & 0.10  &  2.8  & 0.081 & 28    & 3.60  & 0.66  & 10.20 & 5     & red   & red  \\\\\n",
       "\t  7.0  & 0.550 & 0.13  &  2.2  & 0.075 & 35    & 3.36  & 0.59  &  9.70 & 6     & red   & red  \\\\\n",
       "\t  6.2  & 0.640 & 0.09  &  2.5  & 0.081 & 26    & 3.57  & 0.63  & 12.00 & 5     & red   & red  \\\\\n",
       "\t  6.2  & 0.520 & 0.08  &  4.4  & 0.071 & 32    & 3.56  & 0.63  & 11.60 & 6     & red   & red  \\\\\n",
       "\t  7.4  & 0.250 & 0.29  &  2.2  & 0.054 & 49    & 3.40  & 0.76  & 10.90 & 7     & red   & red  \\\\\n",
       "\t  6.5  & 0.630 & 0.33  &  1.8  & 0.059 & 28    & 3.36  & 0.64  & 10.10 & 6     & red   & red  \\\\\n",
       "\t  7.0  & 0.570 & 0.02  &  2.0  & 0.072 & 26    & 3.36  & 0.61  & 10.20 & 5     & red   & red  \\\\\n",
       "\t 11.2  & 0.400 & 0.50  &  2.0  & 0.099 & 50    & 3.10  & 0.58  & 10.40 & 5     & red   & red  \\\\\n",
       "\t  6.3  & 0.680 & 0.01  &  3.7  & 0.103 & 54    & 3.51  & 0.66  & 11.30 & 6     & red   & red  \\\\\n",
       "\t  7.3  & 0.735 & 0.00  &  2.2  & 0.080 & 28    & 3.41  & 0.60  &  9.40 & 5     & red   & red  \\\\\n",
       "\t  6.6  & 0.855 & 0.02  &  2.4  & 0.062 & 23    & 3.54  & 0.60  & 11.00 & 6     & red   & red  \\\\\n",
       "\t  7.2  & 0.695 & 0.13  &  2.0  & 0.076 & 20    & 3.29  & 0.54  & 10.10 & 5     & red   & red  \\\\\n",
       "\t  7.2  & 0.695 & 0.13  &  2.0  & 0.076 & 20    & 3.29  & 0.54  & 10.10 & 5     & red   & red  \\\\\n",
       "\t  7.0  & 0.560 & 0.13  &  1.6  & 0.077 & 42    & 3.34  & 0.59  &  9.20 & 5     & red   & red  \\\\\n",
       "\t  6.4  & 0.380 & 0.14  &  2.2  & 0.038 & 25    & 3.44  & 0.65  & 11.10 & 6     & red   & red  \\\\\n",
       "\t  5.6  & 0.310 & 0.78  & 13.9  & 0.074 & 92    & 3.39  & 0.48  & 10.50 & 6     & red   & white\\\\\n",
       "\t  6.2  & 0.460 & 0.29  &  2.1  & 0.074 & 98    & 3.33  & 0.62  &  9.80 & 5     & red   & red  \\\\\n",
       "\t  7.2  & 0.390 & 0.44  &  2.6  & 0.066 & 48    & 3.30  & 0.84  & 11.50 & 6     & red   & red  \\\\\n",
       "\t  6.8  & 0.620 & 0.08  &  1.9  & 0.068 & 38    & 3.42  & 0.82  &  9.50 & 6     & red   & red  \\\\\n",
       "\t  5.9  & 0.645 & 0.12  &  2.0  & 0.075 & 44    & 3.57  & 0.71  & 10.20 & 5     & red   & red  \\\\\n",
       "\\end{tabular}\n"
      ],
      "text/markdown": [
       "\n",
       "fixed.acidity | volatile.acidity | citric.acid | residual.sugar | chlorides | total.sulfur.dioxide | pH | sulphates | alcohol | quality | Class | rfPred | \n",
       "|---|---|---|---|---|---|---|---|---|---|---|---|---|---|---|---|---|---|---|---|---|---|---|---|---|---|---|---|---|---|---|---|---|---|---|---|---|---|---|---|---|---|---|---|---|---|---|---|---|---|---|---|---|---|---|---|---|---|---|---|---|\n",
       "| 7.0   | 0.270 | 0.36  | 20.70 | 0.045 | 170.0 | 3.00  | 0.45  |  8.8  | 6     | white | white | \n",
       "| 7.2   | 0.230 | 0.32  |  8.50 | 0.058 | 186.0 | 3.19  | 0.40  |  9.9  | 6     | white | white | \n",
       "| 7.2   | 0.230 | 0.32  |  8.50 | 0.058 | 186.0 | 3.19  | 0.40  |  9.9  | 6     | white | white | \n",
       "| 8.1   | 0.280 | 0.40  |  6.90 | 0.050 |  97.0 | 3.26  | 0.44  | 10.1  | 6     | white | white | \n",
       "| 6.2   | 0.660 | 0.48  |  1.20 | 0.029 |  75.0 | 3.33  | 0.39  | 12.8  | 8     | white | white | \n",
       "| 6.5   | 0.310 | 0.14  |  7.50 | 0.044 | 133.0 | 3.22  | 0.50  |  9.5  | 5     | white | white | \n",
       "| 6.8   | 0.260 | 0.42  |  1.70 | 0.049 | 122.0 | 3.47  | 0.48  | 10.5  | 8     | white | white | \n",
       "| 6.6   | 0.270 | 0.41  |  1.30 | 0.052 | 142.0 | 3.42  | 0.47  | 10.0  | 6     | white | white | \n",
       "| 7.2   | 0.320 | 0.36  |  2.00 | 0.033 | 114.0 | 3.10  | 0.71  | 12.3  | 7     | white | white | \n",
       "| 6.2   | 0.120 | 0.34  |  1.50 | 0.045 | 117.0 | 3.42  | 0.51  |  9.0  | 6     | white | white | \n",
       "| 5.8   | 0.270 | 0.20  | 14.95 | 0.044 | 179.0 | 3.37  | 0.37  | 10.2  | 5     | white | white | \n",
       "| 6.7   | 0.230 | 0.26  |  1.40 | 0.060 | 154.0 | 3.24  | 0.56  |  9.5  | 6     | white | white | \n",
       "| 6.6   | 0.250 | 0.29  |  1.10 | 0.068 | 124.0 | 3.34  | 0.58  | 11.0  | 7     | white | white | \n",
       "| 7.4   | 0.200 | 0.36  |  1.20 | 0.038 | 111.0 | 3.36  | 0.34  |  9.9  | 6     | white | white | \n",
       "| 6.8   | 0.220 | 0.24  |  4.90 | 0.092 | 123.0 | 3.03  | 0.46  |  8.6  | 6     | white | white | \n",
       "| 7.0   | 0.470 | 0.07  |  1.10 | 0.035 | 151.0 | 3.02  | 0.34  | 10.5  | 5     | white | white | \n",
       "| 6.6   | 0.380 | 0.15  |  4.60 | 0.044 |  78.0 | 3.11  | 0.38  | 10.2  | 6     | white | white | \n",
       "| 6.2   | 0.350 | 0.03  |  1.20 | 0.064 | 120.0 | 3.22  | 0.54  |  9.1  | 5     | white | white | \n",
       "| 6.7   | 0.230 | 0.31  |  2.10 | 0.046 |  96.0 | 3.33  | 0.64  | 10.7  | 8     | white | white | \n",
       "| 7.4   | 0.240 | 0.29  | 10.10 | 0.050 | 105.0 | 3.13  | 0.35  |  9.5  | 5     | white | white | \n",
       "| 6.2   | 0.270 | 0.43  |  7.80 | 0.056 | 244.0 | 3.10  | 0.51  |  9.0  | 6     | white | white | \n",
       "| 6.8   | 0.300 | 0.23  |  4.60 | 0.061 | 238.5 | 3.32  | 0.60  |  9.5  | 5     | white | white | \n",
       "| 6.8   | 0.250 | 0.31  | 13.30 | 0.050 | 202.0 | 3.22  | 0.48  |  9.7  | 6     | white | white | \n",
       "| 7.1   | 0.430 | 0.61  | 11.80 | 0.045 | 155.0 | 3.11  | 0.45  |  8.7  | 5     | white | white | \n",
       "| 6.9   | 0.240 | 0.33  |  1.70 | 0.035 | 136.0 | 3.26  | 0.40  | 12.6  | 7     | white | white | \n",
       "| 7.1   | 0.120 | 0.32  |  9.60 | 0.054 | 162.0 | 3.40  | 0.41  |  9.4  | 5     | white | white | \n",
       "| 7.1   | 0.230 | 0.35  | 16.50 | 0.040 | 171.0 | 3.16  | 0.59  |  9.1  | 6     | white | white | \n",
       "| 6.9   | 0.330 | 0.28  |  1.30 | 0.051 | 187.0 | 3.27  | 0.60  | 10.3  | 5     | white | white | \n",
       "| 5.5   | 0.485 | 0.00  |  1.50 | 0.065 | 103.0 | 3.63  | 0.40  |  9.7  | 4     | white | white | \n",
       "| 6.0   | 0.310 | 0.24  |  3.30 | 0.041 | 143.0 | 3.31  | 0.44  | 11.3  | 6     | white | white | \n",
       "| ... | ... | ... | ... | ... | ... | ... | ... | ... | ... | ... | ... | \n",
       "|  7.5  | 0.725 | 0.04  |  1.5  | 0.076 | 15    | 3.26  | 0.53  |  9.60 | 5     | red   | red   | \n",
       "|  7.5  | 0.380 | 0.57  |  2.3  | 0.106 | 12    | 3.36  | 0.55  | 11.40 | 6     | red   | red   | \n",
       "|  7.1  | 0.270 | 0.60  |  2.1  | 0.074 | 25    | 3.38  | 0.72  | 10.60 | 6     | red   | red   | \n",
       "|  7.9  | 0.180 | 0.40  |  1.8  | 0.062 | 20    | 3.28  | 0.70  | 11.10 | 5     | red   | red   | \n",
       "|  6.9  | 0.840 | 0.21  |  4.1  | 0.074 | 65    | 3.53  | 0.72  |  9.25 | 6     | red   | red   | \n",
       "|  7.4  | 0.470 | 0.46  |  2.2  | 0.114 | 20    | 3.32  | 0.63  | 10.50 | 5     | red   | red   | \n",
       "|  6.5  | 0.530 | 0.06  |  2.0  | 0.063 | 44    | 3.38  | 0.83  | 10.30 | 6     | red   | red   | \n",
       "|  6.0  | 0.420 | 0.19  |  2.0  | 0.075 | 47    | 3.39  | 0.78  | 10.00 | 6     | red   | red   | \n",
       "|  6.7  | 0.480 | 0.08  |  2.1  | 0.064 | 34    | 3.33  | 0.64  |  9.70 | 5     | red   | red   | \n",
       "|  7.1  | 0.690 | 0.08  |  2.1  | 0.063 | 52    | 3.42  | 0.60  | 10.20 | 6     | red   | red   | \n",
       "|  6.1  | 0.705 | 0.10  |  2.8  | 0.081 | 28    | 3.60  | 0.66  | 10.20 | 5     | red   | red   | \n",
       "|  7.0  | 0.550 | 0.13  |  2.2  | 0.075 | 35    | 3.36  | 0.59  |  9.70 | 6     | red   | red   | \n",
       "|  6.2  | 0.640 | 0.09  |  2.5  | 0.081 | 26    | 3.57  | 0.63  | 12.00 | 5     | red   | red   | \n",
       "|  6.2  | 0.520 | 0.08  |  4.4  | 0.071 | 32    | 3.56  | 0.63  | 11.60 | 6     | red   | red   | \n",
       "|  7.4  | 0.250 | 0.29  |  2.2  | 0.054 | 49    | 3.40  | 0.76  | 10.90 | 7     | red   | red   | \n",
       "|  6.5  | 0.630 | 0.33  |  1.8  | 0.059 | 28    | 3.36  | 0.64  | 10.10 | 6     | red   | red   | \n",
       "|  7.0  | 0.570 | 0.02  |  2.0  | 0.072 | 26    | 3.36  | 0.61  | 10.20 | 5     | red   | red   | \n",
       "| 11.2  | 0.400 | 0.50  |  2.0  | 0.099 | 50    | 3.10  | 0.58  | 10.40 | 5     | red   | red   | \n",
       "|  6.3  | 0.680 | 0.01  |  3.7  | 0.103 | 54    | 3.51  | 0.66  | 11.30 | 6     | red   | red   | \n",
       "|  7.3  | 0.735 | 0.00  |  2.2  | 0.080 | 28    | 3.41  | 0.60  |  9.40 | 5     | red   | red   | \n",
       "|  6.6  | 0.855 | 0.02  |  2.4  | 0.062 | 23    | 3.54  | 0.60  | 11.00 | 6     | red   | red   | \n",
       "|  7.2  | 0.695 | 0.13  |  2.0  | 0.076 | 20    | 3.29  | 0.54  | 10.10 | 5     | red   | red   | \n",
       "|  7.2  | 0.695 | 0.13  |  2.0  | 0.076 | 20    | 3.29  | 0.54  | 10.10 | 5     | red   | red   | \n",
       "|  7.0  | 0.560 | 0.13  |  1.6  | 0.077 | 42    | 3.34  | 0.59  |  9.20 | 5     | red   | red   | \n",
       "|  6.4  | 0.380 | 0.14  |  2.2  | 0.038 | 25    | 3.44  | 0.65  | 11.10 | 6     | red   | red   | \n",
       "|  5.6  | 0.310 | 0.78  | 13.9  | 0.074 | 92    | 3.39  | 0.48  | 10.50 | 6     | red   | white | \n",
       "|  6.2  | 0.460 | 0.29  |  2.1  | 0.074 | 98    | 3.33  | 0.62  |  9.80 | 5     | red   | red   | \n",
       "|  7.2  | 0.390 | 0.44  |  2.6  | 0.066 | 48    | 3.30  | 0.84  | 11.50 | 6     | red   | red   | \n",
       "|  6.8  | 0.620 | 0.08  |  1.9  | 0.068 | 38    | 3.42  | 0.82  |  9.50 | 6     | red   | red   | \n",
       "|  5.9  | 0.645 | 0.12  |  2.0  | 0.075 | 44    | 3.57  | 0.71  | 10.20 | 5     | red   | red   | \n",
       "\n",
       "\n"
      ],
      "text/plain": [
       "     fixed.acidity volatile.acidity citric.acid residual.sugar chlorides\n",
       "1    7.0           0.270            0.36        20.70          0.045    \n",
       "2    7.2           0.230            0.32         8.50          0.058    \n",
       "3    7.2           0.230            0.32         8.50          0.058    \n",
       "4    8.1           0.280            0.40         6.90          0.050    \n",
       "5    6.2           0.660            0.48         1.20          0.029    \n",
       "6    6.5           0.310            0.14         7.50          0.044    \n",
       "7    6.8           0.260            0.42         1.70          0.049    \n",
       "8    6.6           0.270            0.41         1.30          0.052    \n",
       "9    7.2           0.320            0.36         2.00          0.033    \n",
       "10   6.2           0.120            0.34         1.50          0.045    \n",
       "11   5.8           0.270            0.20        14.95          0.044    \n",
       "12   6.7           0.230            0.26         1.40          0.060    \n",
       "13   6.6           0.250            0.29         1.10          0.068    \n",
       "14   7.4           0.200            0.36         1.20          0.038    \n",
       "15   6.8           0.220            0.24         4.90          0.092    \n",
       "16   7.0           0.470            0.07         1.10          0.035    \n",
       "17   6.6           0.380            0.15         4.60          0.044    \n",
       "18   6.2           0.350            0.03         1.20          0.064    \n",
       "19   6.7           0.230            0.31         2.10          0.046    \n",
       "20   7.4           0.240            0.29        10.10          0.050    \n",
       "21   6.2           0.270            0.43         7.80          0.056    \n",
       "22   6.8           0.300            0.23         4.60          0.061    \n",
       "23   6.8           0.250            0.31        13.30          0.050    \n",
       "24   7.1           0.430            0.61        11.80          0.045    \n",
       "25   6.9           0.240            0.33         1.70          0.035    \n",
       "26   7.1           0.120            0.32         9.60          0.054    \n",
       "27   7.1           0.230            0.35        16.50          0.040    \n",
       "28   6.9           0.330            0.28         1.30          0.051    \n",
       "29   5.5           0.485            0.00         1.50          0.065    \n",
       "30   6.0           0.310            0.24         3.30          0.041    \n",
       "...  ...           ...              ...         ...            ...      \n",
       "1919  7.5          0.725            0.04         1.5           0.076    \n",
       "1920  7.5          0.380            0.57         2.3           0.106    \n",
       "1921  7.1          0.270            0.60         2.1           0.074    \n",
       "1922  7.9          0.180            0.40         1.8           0.062    \n",
       "1923  6.9          0.840            0.21         4.1           0.074    \n",
       "1924  7.4          0.470            0.46         2.2           0.114    \n",
       "1925  6.5          0.530            0.06         2.0           0.063    \n",
       "1926  6.0          0.420            0.19         2.0           0.075    \n",
       "1927  6.7          0.480            0.08         2.1           0.064    \n",
       "1928  7.1          0.690            0.08         2.1           0.063    \n",
       "1929  6.1          0.705            0.10         2.8           0.081    \n",
       "1930  7.0          0.550            0.13         2.2           0.075    \n",
       "1931  6.2          0.640            0.09         2.5           0.081    \n",
       "1932  6.2          0.520            0.08         4.4           0.071    \n",
       "1933  7.4          0.250            0.29         2.2           0.054    \n",
       "1934  6.5          0.630            0.33         1.8           0.059    \n",
       "1935  7.0          0.570            0.02         2.0           0.072    \n",
       "1936 11.2          0.400            0.50         2.0           0.099    \n",
       "1937  6.3          0.680            0.01         3.7           0.103    \n",
       "1938  7.3          0.735            0.00         2.2           0.080    \n",
       "1939  6.6          0.855            0.02         2.4           0.062    \n",
       "1940  7.2          0.695            0.13         2.0           0.076    \n",
       "1941  7.2          0.695            0.13         2.0           0.076    \n",
       "1942  7.0          0.560            0.13         1.6           0.077    \n",
       "1943  6.4          0.380            0.14         2.2           0.038    \n",
       "1944  5.6          0.310            0.78        13.9           0.074    \n",
       "1945  6.2          0.460            0.29         2.1           0.074    \n",
       "1946  7.2          0.390            0.44         2.6           0.066    \n",
       "1947  6.8          0.620            0.08         1.9           0.068    \n",
       "1948  5.9          0.645            0.12         2.0           0.075    \n",
       "     total.sulfur.dioxide pH   sulphates alcohol quality Class rfPred\n",
       "1    170.0                3.00 0.45       8.8    6       white white \n",
       "2    186.0                3.19 0.40       9.9    6       white white \n",
       "3    186.0                3.19 0.40       9.9    6       white white \n",
       "4     97.0                3.26 0.44      10.1    6       white white \n",
       "5     75.0                3.33 0.39      12.8    8       white white \n",
       "6    133.0                3.22 0.50       9.5    5       white white \n",
       "7    122.0                3.47 0.48      10.5    8       white white \n",
       "8    142.0                3.42 0.47      10.0    6       white white \n",
       "9    114.0                3.10 0.71      12.3    7       white white \n",
       "10   117.0                3.42 0.51       9.0    6       white white \n",
       "11   179.0                3.37 0.37      10.2    5       white white \n",
       "12   154.0                3.24 0.56       9.5    6       white white \n",
       "13   124.0                3.34 0.58      11.0    7       white white \n",
       "14   111.0                3.36 0.34       9.9    6       white white \n",
       "15   123.0                3.03 0.46       8.6    6       white white \n",
       "16   151.0                3.02 0.34      10.5    5       white white \n",
       "17    78.0                3.11 0.38      10.2    6       white white \n",
       "18   120.0                3.22 0.54       9.1    5       white white \n",
       "19    96.0                3.33 0.64      10.7    8       white white \n",
       "20   105.0                3.13 0.35       9.5    5       white white \n",
       "21   244.0                3.10 0.51       9.0    6       white white \n",
       "22   238.5                3.32 0.60       9.5    5       white white \n",
       "23   202.0                3.22 0.48       9.7    6       white white \n",
       "24   155.0                3.11 0.45       8.7    5       white white \n",
       "25   136.0                3.26 0.40      12.6    7       white white \n",
       "26   162.0                3.40 0.41       9.4    5       white white \n",
       "27   171.0                3.16 0.59       9.1    6       white white \n",
       "28   187.0                3.27 0.60      10.3    5       white white \n",
       "29   103.0                3.63 0.40       9.7    4       white white \n",
       "30   143.0                3.31 0.44      11.3    6       white white \n",
       "...  ...                  ...  ...       ...     ...     ...   ...   \n",
       "1919 15                   3.26 0.53       9.60   5       red   red   \n",
       "1920 12                   3.36 0.55      11.40   6       red   red   \n",
       "1921 25                   3.38 0.72      10.60   6       red   red   \n",
       "1922 20                   3.28 0.70      11.10   5       red   red   \n",
       "1923 65                   3.53 0.72       9.25   6       red   red   \n",
       "1924 20                   3.32 0.63      10.50   5       red   red   \n",
       "1925 44                   3.38 0.83      10.30   6       red   red   \n",
       "1926 47                   3.39 0.78      10.00   6       red   red   \n",
       "1927 34                   3.33 0.64       9.70   5       red   red   \n",
       "1928 52                   3.42 0.60      10.20   6       red   red   \n",
       "1929 28                   3.60 0.66      10.20   5       red   red   \n",
       "1930 35                   3.36 0.59       9.70   6       red   red   \n",
       "1931 26                   3.57 0.63      12.00   5       red   red   \n",
       "1932 32                   3.56 0.63      11.60   6       red   red   \n",
       "1933 49                   3.40 0.76      10.90   7       red   red   \n",
       "1934 28                   3.36 0.64      10.10   6       red   red   \n",
       "1935 26                   3.36 0.61      10.20   5       red   red   \n",
       "1936 50                   3.10 0.58      10.40   5       red   red   \n",
       "1937 54                   3.51 0.66      11.30   6       red   red   \n",
       "1938 28                   3.41 0.60       9.40   5       red   red   \n",
       "1939 23                   3.54 0.60      11.00   6       red   red   \n",
       "1940 20                   3.29 0.54      10.10   5       red   red   \n",
       "1941 20                   3.29 0.54      10.10   5       red   red   \n",
       "1942 42                   3.34 0.59       9.20   5       red   red   \n",
       "1943 25                   3.44 0.65      11.10   6       red   red   \n",
       "1944 92                   3.39 0.48      10.50   6       red   white \n",
       "1945 98                   3.33 0.62       9.80   5       red   red   \n",
       "1946 48                   3.30 0.84      11.50   6       red   red   \n",
       "1947 38                   3.42 0.82       9.50   6       red   red   \n",
       "1948 44                   3.57 0.71      10.20   5       red   red   "
      ]
     },
     "metadata": {},
     "output_type": "display_data"
    }
   ],
   "source": [
    "# print validation dataset and predictions by row\n",
    "(val<-as.data.frame(c(testing,as.data.frame(rfPred))))"
   ]
  },
  {
   "cell_type": "markdown",
   "metadata": {
    "collapsed": true
   },
   "source": [
    "Now if you want to get the predictions from a new test data, you can see the item 7.4 of my project [MACHINE LEARNING: A comparison of supervised learning algorithms applied to the classification problem with caret R-project library](http://nbviewer.jupyter.org/github/arqmain/Machine_Learning/blob/master/R_MLearning/MLearning_Classification_Comparison_R_Caret/MLearning_Classification_Comparison_R_Caret.ipynb). "
   ]
  },
  {
   "cell_type": "markdown",
   "metadata": {
    "collapsed": true
   },
   "source": [
    "## VII Conclusion"
   ]
  },
  {
   "cell_type": "markdown",
   "metadata": {},
   "source": [
    "This module of the project develops 5 algorithms of machine learning to classify the wines in white or red according to the 11 variables that characterize the wine subject to classification.\n",
    "\n",
    "The database -df- does not consider two variables that appear in the original base. They could generate a problem of multicollinearity in the process of classification. So,  we got rid of them in df.\n",
    "\n",
    "The 5 models proposed achieve a very good metric of classification, reaching all a ROC measurement of at least 99%. That is, the variables of the base allow to discriminate clearly the type of wine that they represent.\n",
    "\n",
    "The models were developed by tunning some or all of their parameters most of the time.  Anyway, this is modeling so, we can improve the models by filtering other variables, performing more tunning or doing both things at the same time. "
   ]
  },
  {
   "cell_type": "markdown",
   "metadata": {},
   "source": [
    "<hr>\n",
    "By: Hector Alvaro Rojas | Data Science, Visualizations and Applied Statistics | October 12, 2017<br>\n",
    "Url: [http://www.arqmain.net]   &nbsp;&nbsp;&nbsp;|&nbsp;&nbsp;&nbsp;   GitHub: [https://github.com/arqmain]"
   ]
  }
 ],
 "metadata": {
  "anaconda-cloud": {},
  "kernelspec": {
   "display_name": "R",
   "language": "R",
   "name": "ir"
  },
  "language_info": {
   "codemirror_mode": "r",
   "file_extension": ".r",
   "mimetype": "text/x-r-source",
   "name": "R",
   "pygments_lexer": "r",
   "version": "3.4.1"
  }
 },
 "nbformat": 4,
 "nbformat_minor": 2
}
