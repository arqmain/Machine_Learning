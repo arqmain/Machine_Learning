{
 "cells": [
  {
   "cell_type": "markdown",
   "metadata": {},
   "source": [
    "#  MACHINE LEARNING: Portugal Wine under Two Class approach for red and white classification using R and K fold cross-validation.\n",
    "# Module 5: Conclusion\n",
    "\n",
    "By: Hector Alvaro Rojas | Data Science, Visualizations and Applied Statistics | October 12, 2017<br>\n",
    "Url: [http://www.arqmain.net]   &nbsp;&nbsp;&nbsp;|&nbsp;&nbsp;&nbsp;   GitHub: [https://github.com/arqmain]\n",
    "<hr>"
   ]
  },
  {
   "cell_type": "markdown",
   "metadata": {},
   "source": [
    "## CONCLUSION"
   ]
  },
  {
   "cell_type": "markdown",
   "metadata": {
    "collapsed": true
   },
   "source": [
    "This project develops 5 algorithms of machine learning to classify the wines in white or red according to the 11 variables that characterize the wine subject to classification.\n",
    "\n",
    "Our original dataset is an imbalance one. There are 6497 registers but only 1599 (24.6%) are of the red class of wine. So, we decided using the ROC metric to compare the model's performance.\n",
    "All the variables showed to have outliers. Some of them had a lot, some had a few. Mostly outliers were on the positive side of distributions.\n",
    "\n",
    "Along with all the above situations, we decide to consider three datasets to develop the project. Dataset df, dff and dfffull. \"df\" considered all registers; \"dff\" keep only 5040 registers and eliminate the rest considering them as outliers; \"dfffull\" considered all registers but replaced outliers by a \"threshold\" value which was generated for each variable using the upper limit of its Box-plot.\n",
    "\n",
    "The modeling results were similar across all datasets. The same model -Random Forest (RF)- was selected for \"df\" and \"dff\" datasets. On the other hand, Support Vector Machine (SVM) model was selected for \"dfffull\" dataset.\n",
    "\n",
    "Anyway, I have to remark that \"dff\" dataset left out a lot of information that in this project appears not being significant, but before using this method as a general rule I will always think and ask myself at least two times “what am I doing?”. \n",
    "\n",
    "Even though outliers can be thought of \"information\" that does not really affect the \"generalizing\" basic premise of machine learning models, most of the time to get ride off information which we do not really know could be really dangerous for our modeling expectations.\n",
    "\n",
    "The dff dataset eliminates all the register if a data for any variable is classified as \"outlier\".  As a consequence, we lose all other data information for variables in that register that are not classified as outliers. So, this criterium must be applied very carefully.\n",
    "Near to the end,  criteriums that use information of others variables in the dataset to help us about our outlier problem could reach better solutions here.  Another way could be to consider the criterium use to generate dfffull dataset. This method is still better than eliminating all too because at least, do not erase the information that lies in the other variables with no outlier presence at that data point.\n",
    "\n",
    "Finally, whenever I work in some modeling project I try always to remember what the late brilliant George Box one time stated: <i><b>\" ... remember that all models are wrong; the practical question is how wrong do they have to be to not be useful?\"</b></i>. \n",
    "\n",
    "Yes, George! You knew more! ... Sure, you knew a lot of more!"
   ]
  },
  {
   "cell_type": "markdown",
   "metadata": {},
   "source": [
    "<hr>\n",
    "By: Hector Alvaro Rojas | Data Science, Visualizations and Applied Statistics | October 12, 2017<br>\n",
    "Url: [http://www.arqmain.net]   &nbsp;&nbsp;&nbsp;|&nbsp;&nbsp;&nbsp;   GitHub: [https://github.com/arqmain]"
   ]
  }
 ],
 "metadata": {
  "anaconda-cloud": {},
  "kernelspec": {
   "display_name": "R",
   "language": "R",
   "name": "ir"
  },
  "language_info": {
   "codemirror_mode": "r",
   "file_extension": ".r",
   "mimetype": "text/x-r-source",
   "name": "R",
   "pygments_lexer": "r",
   "version": "3.4.1"
  }
 },
 "nbformat": 4,
 "nbformat_minor": 2
}
