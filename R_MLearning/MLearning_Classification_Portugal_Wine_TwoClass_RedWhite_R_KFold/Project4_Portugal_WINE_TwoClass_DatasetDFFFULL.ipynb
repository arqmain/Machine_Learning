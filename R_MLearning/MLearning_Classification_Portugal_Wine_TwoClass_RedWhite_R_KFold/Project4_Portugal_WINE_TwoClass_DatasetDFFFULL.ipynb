{
 "cells": [
  {
   "cell_type": "markdown",
   "metadata": {},
   "source": [
    "#  MACHINE LEARNING: Portugal Wine under Two Class approach for red and white classification using R and K fold cross-validation.\n",
    "# Module 4: Solving project with dataset dffful\n",
    "\n",
    "By: Hector Alvaro Rojas | Data Science, Visualizations and Applied Statistics | October 12, 2017<br>\n",
    "Url: [http://www.arqmain.net]   &nbsp;&nbsp;&nbsp;|&nbsp;&nbsp;&nbsp;   GitHub: [https://github.com/arqmain]\n",
    "<hr>"
   ]
  },
  {
   "cell_type": "markdown",
   "metadata": {},
   "source": [
    "## I Introduction"
   ]
  },
  {
   "cell_type": "markdown",
   "metadata": {
    "collapsed": true
   },
   "source": [
    "We consider the original dataset without the variables \"density\" and \"free.sulfor.dioxide\".\n",
    "\n",
    "<u><b><i>dfffull</i></b></u> keep all the register of the original database \"df\" but replace the upper outliers by its corresponding <i>Threshold</i>.\n",
    "\n",
    "\n",
    "We consider outliers those points that have any predictor variable value to be outside of the limits constructed by boxplots. The following rule is applied:\n",
    "\n",
    "* A predictor value is considered to be an upper outlier only if it is greater than <b>Threshold = Q3 + 1.5IQR</b>\n",
    "\n",
    "Application of this rule oes not reduces the original datasize becouse it does not eliminate any register.  So, <i>dfffull</i></b></u> data size is the same as the original \"df\" 6497). "
   ]
  },
  {
   "cell_type": "markdown",
   "metadata": {},
   "source": [
    "## II Loading and the Data"
   ]
  },
  {
   "cell_type": "code",
   "execution_count": 117,
   "metadata": {
    "collapsed": true
   },
   "outputs": [],
   "source": [
    "# first remove ALL objects and close all possible connections\n",
    "closeAllConnections()\n",
    "rm(list = ls(all = TRUE)) # Does remove all inclusive hidden\n",
    "\n",
    "# see your memory size\n",
    "memory.size() "
   ]
  },
  {
   "cell_type": "code",
   "execution_count": 1,
   "metadata": {},
   "outputs": [
    {
     "name": "stderr",
     "output_type": "stream",
     "text": [
      "Loading required package: plyr\n",
      "Loading required package: dplyr\n",
      "\n",
      "Attaching package: 'dplyr'\n",
      "\n",
      "The following objects are masked from 'package:plyr':\n",
      "\n",
      "    arrange, count, desc, failwith, id, mutate, rename, summarise,\n",
      "    summarize\n",
      "\n",
      "The following objects are masked from 'package:stats':\n",
      "\n",
      "    filter, lag\n",
      "\n",
      "The following objects are masked from 'package:base':\n",
      "\n",
      "    intersect, setdiff, setequal, union\n",
      "\n",
      "Loading required package: caret\n",
      "Loading required package: lattice\n",
      "Loading required package: ggplot2\n"
     ]
    },
    {
     "data": {
      "text/html": [
       "<dl class=dl-horizontal>\n",
       "\t<dt>plyr</dt>\n",
       "\t\t<dd>TRUE</dd>\n",
       "\t<dt>dplyr</dt>\n",
       "\t\t<dd>TRUE</dd>\n",
       "\t<dt>caret</dt>\n",
       "\t\t<dd>TRUE</dd>\n",
       "</dl>\n"
      ],
      "text/latex": [
       "\\begin{description*}\n",
       "\\item[plyr] TRUE\n",
       "\\item[dplyr] TRUE\n",
       "\\item[caret] TRUE\n",
       "\\end{description*}\n"
      ],
      "text/markdown": [
       "plyr\n",
       ":   TRUEdplyr\n",
       ":   TRUEcaret\n",
       ":   TRUE\n",
       "\n"
      ],
      "text/plain": [
       " plyr dplyr caret \n",
       " TRUE  TRUE  TRUE "
      ]
     },
     "metadata": {},
     "output_type": "display_data"
    }
   ],
   "source": [
    "# install packages and load libraries\n",
    "ipak <- function(pkg){\n",
    "    new.pkg <- pkg[!(pkg %in% installed.packages()[, \"Package\"])]\n",
    "    if (length(new.pkg)) \n",
    "        install.packages(new.pkg, dependencies = c(\"Depends\", \"Suggests\"))\n",
    "    sapply(pkg, require, character.only = TRUE)\n",
    "}\n",
    "# usage\n",
    "packages <- c(\"plyr\", \"dplyr\", \"caret\")\n",
    "ipak(packages)\n"
   ]
  },
  {
   "cell_type": "code",
   "execution_count": 2,
   "metadata": {},
   "outputs": [
    {
     "data": {
      "text/html": [
       "<table>\n",
       "<thead><tr><th scope=col>fixed.acidity</th><th scope=col>volatile.acidity</th><th scope=col>citric.acid</th><th scope=col>residual.sugar</th><th scope=col>chlorides</th><th scope=col>total.sulfur.dioxide</th><th scope=col>pH</th><th scope=col>sulphates</th><th scope=col>alcohol</th><th scope=col>quality</th><th scope=col>Class</th></tr></thead>\n",
       "<tbody>\n",
       "\t<tr><td>7.0  </td><td>0.27 </td><td>0.36 </td><td>20.7 </td><td>0.045</td><td>170  </td><td>3.00 </td><td>0.45 </td><td> 8.8 </td><td>6    </td><td>white</td></tr>\n",
       "\t<tr><td>6.3  </td><td>0.30 </td><td>0.34 </td><td> 1.6 </td><td>0.049</td><td>132  </td><td>3.30 </td><td>0.49 </td><td> 9.5 </td><td>6    </td><td>white</td></tr>\n",
       "\t<tr><td>8.1  </td><td>0.28 </td><td>0.40 </td><td> 6.9 </td><td>0.050</td><td> 97  </td><td>3.26 </td><td>0.44 </td><td>10.1 </td><td>6    </td><td>white</td></tr>\n",
       "\t<tr><td>7.2  </td><td>0.23 </td><td>0.32 </td><td> 8.5 </td><td>0.058</td><td>186  </td><td>3.19 </td><td>0.40 </td><td> 9.9 </td><td>6    </td><td>white</td></tr>\n",
       "\t<tr><td>7.2  </td><td>0.23 </td><td>0.32 </td><td> 8.5 </td><td>0.058</td><td>186  </td><td>3.19 </td><td>0.40 </td><td> 9.9 </td><td>6    </td><td>white</td></tr>\n",
       "\t<tr><td>8.1  </td><td>0.28 </td><td>0.40 </td><td> 6.9 </td><td>0.050</td><td> 97  </td><td>3.26 </td><td>0.44 </td><td>10.1 </td><td>6    </td><td>white</td></tr>\n",
       "</tbody>\n",
       "</table>\n"
      ],
      "text/latex": [
       "\\begin{tabular}{r|lllllllllll}\n",
       " fixed.acidity & volatile.acidity & citric.acid & residual.sugar & chlorides & total.sulfur.dioxide & pH & sulphates & alcohol & quality & Class\\\\\n",
       "\\hline\n",
       "\t 7.0   & 0.27  & 0.36  & 20.7  & 0.045 & 170   & 3.00  & 0.45  &  8.8  & 6     & white\\\\\n",
       "\t 6.3   & 0.30  & 0.34  &  1.6  & 0.049 & 132   & 3.30  & 0.49  &  9.5  & 6     & white\\\\\n",
       "\t 8.1   & 0.28  & 0.40  &  6.9  & 0.050 &  97   & 3.26  & 0.44  & 10.1  & 6     & white\\\\\n",
       "\t 7.2   & 0.23  & 0.32  &  8.5  & 0.058 & 186   & 3.19  & 0.40  &  9.9  & 6     & white\\\\\n",
       "\t 7.2   & 0.23  & 0.32  &  8.5  & 0.058 & 186   & 3.19  & 0.40  &  9.9  & 6     & white\\\\\n",
       "\t 8.1   & 0.28  & 0.40  &  6.9  & 0.050 &  97   & 3.26  & 0.44  & 10.1  & 6     & white\\\\\n",
       "\\end{tabular}\n"
      ],
      "text/markdown": [
       "\n",
       "fixed.acidity | volatile.acidity | citric.acid | residual.sugar | chlorides | total.sulfur.dioxide | pH | sulphates | alcohol | quality | Class | \n",
       "|---|---|---|---|---|---|\n",
       "| 7.0   | 0.27  | 0.36  | 20.7  | 0.045 | 170   | 3.00  | 0.45  |  8.8  | 6     | white | \n",
       "| 6.3   | 0.30  | 0.34  |  1.6  | 0.049 | 132   | 3.30  | 0.49  |  9.5  | 6     | white | \n",
       "| 8.1   | 0.28  | 0.40  |  6.9  | 0.050 |  97   | 3.26  | 0.44  | 10.1  | 6     | white | \n",
       "| 7.2   | 0.23  | 0.32  |  8.5  | 0.058 | 186   | 3.19  | 0.40  |  9.9  | 6     | white | \n",
       "| 7.2   | 0.23  | 0.32  |  8.5  | 0.058 | 186   | 3.19  | 0.40  |  9.9  | 6     | white | \n",
       "| 8.1   | 0.28  | 0.40  |  6.9  | 0.050 |  97   | 3.26  | 0.44  | 10.1  | 6     | white | \n",
       "\n",
       "\n"
      ],
      "text/plain": [
       "  fixed.acidity volatile.acidity citric.acid residual.sugar chlorides\n",
       "1 7.0           0.27             0.36        20.7           0.045    \n",
       "2 6.3           0.30             0.34         1.6           0.049    \n",
       "3 8.1           0.28             0.40         6.9           0.050    \n",
       "4 7.2           0.23             0.32         8.5           0.058    \n",
       "5 7.2           0.23             0.32         8.5           0.058    \n",
       "6 8.1           0.28             0.40         6.9           0.050    \n",
       "  total.sulfur.dioxide pH   sulphates alcohol quality Class\n",
       "1 170                  3.00 0.45       8.8    6       white\n",
       "2 132                  3.30 0.49       9.5    6       white\n",
       "3  97                  3.26 0.44      10.1    6       white\n",
       "4 186                  3.19 0.40       9.9    6       white\n",
       "5 186                  3.19 0.40       9.9    6       white\n",
       "6  97                  3.26 0.44      10.1    6       white"
      ]
     },
     "metadata": {},
     "output_type": "display_data"
    }
   ],
   "source": [
    "# define path location of datasets\n",
    "wine1.url <- \"http://archive.ics.uci.edu/ml/machine-learning-databases/wine-quality/winequality-white.csv\"\n",
    "wine2.url <- \"http://archive.ics.uci.edu/ml/machine-learning-databases/wine-quality/winequality-red.csv\"\n",
    "\n",
    "# read datasets\n",
    "wine1 <- read.csv(wine1.url, header=TRUE, sep=';')\n",
    "wine2 <- read.csv(wine2.url, header=TRUE, sep=';')\n",
    "\n",
    "# create dataset base\n",
    "paso <- rbind(cbind(wine1, Class='white'), cbind(wine2, Class='red'))\n",
    "\n",
    "df= subset(paso, select=c('fixed.acidity', 'volatile.acidity', 'citric.acid', 'residual.sugar', 'chlorides' ,'total.sulfur.dioxide','pH', 'sulphates', 'alcohol', 'quality', 'Class'))\n",
    "attach(df)\n",
    "head(df)\n",
    "rm(\"paso\")"
   ]
  },
  {
   "cell_type": "code",
   "execution_count": 3,
   "metadata": {
    "collapsed": true
   },
   "outputs": [],
   "source": [
    "# verify response variable \"Class\" as factor. Remember, the class factor is always used for categorical variables.\n",
    "df$Class <- as.factor(df$Class)"
   ]
  },
  {
   "cell_type": "code",
   "execution_count": 4,
   "metadata": {},
   "outputs": [
    {
     "name": "stdout",
     "output_type": "stream",
     "text": [
      "'data.frame':\t6497 obs. of  11 variables:\n",
      " $ fixed.acidity       : num  7 6.3 8.1 7.2 7.2 8.1 6.2 7 6.3 8.1 ...\n",
      " $ volatile.acidity    : num  0.27 0.3 0.28 0.23 0.23 0.28 0.32 0.27 0.3 0.22 ...\n",
      " $ citric.acid         : num  0.36 0.34 0.4 0.32 0.32 0.4 0.16 0.36 0.34 0.43 ...\n",
      " $ residual.sugar      : num  20.7 1.6 6.9 8.5 8.5 6.9 7 20.7 1.6 1.5 ...\n",
      " $ chlorides           : num  0.045 0.049 0.05 0.058 0.058 0.05 0.045 0.045 0.049 0.044 ...\n",
      " $ total.sulfur.dioxide: num  170 132 97 186 186 97 136 170 132 129 ...\n",
      " $ pH                  : num  3 3.3 3.26 3.19 3.19 3.26 3.18 3 3.3 3.22 ...\n",
      " $ sulphates           : num  0.45 0.49 0.44 0.4 0.4 0.44 0.47 0.45 0.49 0.45 ...\n",
      " $ alcohol             : num  8.8 9.5 10.1 9.9 9.9 10.1 9.6 8.8 9.5 11 ...\n",
      " $ quality             : int  6 6 6 6 6 6 6 6 6 6 ...\n",
      " $ Class               : Factor w/ 2 levels \"white\",\"red\": 1 1 1 1 1 1 1 1 1 1 ...\n"
     ]
    }
   ],
   "source": [
    "# get some information about the dataset\n",
    "str(df)"
   ]
  },
  {
   "cell_type": "code",
   "execution_count": 7,
   "metadata": {
    "collapsed": true
   },
   "outputs": [],
   "source": [
    "#summarize full dataset by columns \n",
    "propmiss <- function(dataframe) {\n",
    "\tm <- sapply(dataframe, function(x) {\n",
    "\t\tdata.frame(\n",
    "\t\t\tn=length(!is.na(x)), \n",
    "\t\t\tnmiss=sum(is.na(x)), \n",
    "\t\t\tpropmiss=sum(is.na(x))/length(x),\n",
    "\t\t\tP25=round(quantile(x, 0.25, na.rm=TRUE),2),\n",
    "\t\t\tP75=round(quantile(x, 0.75, na.rm=TRUE),2),            \n",
    "\t\t\tIQR=round(IQR(x, na.rm=TRUE),2),\n",
    "\t\t\tThreshold= round(quantile(x, 0.75, na.rm=TRUE),2) + 1.5*round(IQR(x, na.rm=TRUE),2),            \n",
    "\t\t\tMinimum=round(min(x, na.rm=TRUE),2),\n",
    "\t\t\tMedian=round(median(x, na.rm=TRUE),2),            \n",
    "\t\t\tMaximum=round(max(x, na.rm=TRUE),2),\n",
    "\t\t\tRange=round(max(x, na.rm=TRUE)-min(x, na.rm=TRUE),2),\n",
    "\t\t\tMean=round(mean(x, na.rm=TRUE),2),\n",
    "\t\t\tStDev=round(sd(x, na.rm=TRUE),2)\n",
    "\t\t)\n",
    "\t})\n",
    "\td <- data.frame(t(m))\n",
    "\td <- sapply(d, unlist)\n",
    "\td <- as.data.frame(d)\n",
    "\td$variable <- row.names(d)\n",
    "\trow.names(d) <- NULL\n",
    "\td <- cbind(d[ncol(d)],d[-ncol(d)])\n",
    "\treturn(d[order(d$propmiss), ])\n",
    "}"
   ]
  },
  {
   "cell_type": "code",
   "execution_count": 8,
   "metadata": {},
   "outputs": [
    {
     "data": {
      "text/html": [
       "<table>\n",
       "<thead><tr><th scope=col>variable</th><th scope=col>n</th><th scope=col>P25</th><th scope=col>P75</th><th scope=col>IQR</th><th scope=col>Threshold</th><th scope=col>Minimum</th><th scope=col>Median</th><th scope=col>Maximum</th><th scope=col>Range</th><th scope=col>Mean</th><th scope=col>StDev</th></tr></thead>\n",
       "<tbody>\n",
       "\t<tr><td>fixed.acidity       </td><td>6497                </td><td> 6.40               </td><td>  7.70              </td><td> 1.30               </td><td>  9.650             </td><td>3.80                </td><td>  7.00              </td><td> 15.90              </td><td> 12.10              </td><td>  7.22              </td><td> 1.30               </td></tr>\n",
       "\t<tr><td>volatile.acidity    </td><td>6497                </td><td> 0.23               </td><td>  0.40              </td><td> 0.17               </td><td>  0.655             </td><td>0.08                </td><td>  0.29              </td><td>  1.58              </td><td>  1.50              </td><td>  0.34              </td><td> 0.16               </td></tr>\n",
       "\t<tr><td>citric.acid         </td><td>6497                </td><td> 0.25               </td><td>  0.39              </td><td> 0.14               </td><td>  0.600             </td><td>0.00                </td><td>  0.31              </td><td>  1.66              </td><td>  1.66              </td><td>  0.32              </td><td> 0.15               </td></tr>\n",
       "\t<tr><td>residual.sugar      </td><td>6497                </td><td> 1.80               </td><td>  8.10              </td><td> 6.30               </td><td> 17.550             </td><td>0.60                </td><td>  3.00              </td><td> 65.80              </td><td> 65.20              </td><td>  5.44              </td><td> 4.76               </td></tr>\n",
       "\t<tr><td>chlorides           </td><td>6497                </td><td> 0.04               </td><td>  0.06              </td><td> 0.03               </td><td>  0.105             </td><td>0.01                </td><td>  0.05              </td><td>  0.61              </td><td>  0.60              </td><td>  0.06              </td><td> 0.04               </td></tr>\n",
       "\t<tr><td>total.sulfur.dioxide</td><td>6497                </td><td>77.00               </td><td>156.00              </td><td>79.00               </td><td>274.500             </td><td>6.00                </td><td>118.00              </td><td>440.00              </td><td>434.00              </td><td>115.74              </td><td>56.52               </td></tr>\n",
       "\t<tr><td>pH                  </td><td>6497                </td><td> 3.11               </td><td>  3.32              </td><td> 0.21               </td><td>  3.635             </td><td>2.72                </td><td>  3.21              </td><td>  4.01              </td><td>  1.29              </td><td>  3.22              </td><td> 0.16               </td></tr>\n",
       "\t<tr><td>sulphates           </td><td>6497                </td><td> 0.43               </td><td>  0.60              </td><td> 0.17               </td><td>  0.855             </td><td>0.22                </td><td>  0.51              </td><td>  2.00              </td><td>  1.78              </td><td>  0.53              </td><td> 0.15               </td></tr>\n",
       "\t<tr><td>alcohol             </td><td>6497                </td><td> 9.50               </td><td> 11.30              </td><td> 1.80               </td><td> 14.000             </td><td>8.00                </td><td> 10.30              </td><td> 14.90              </td><td>  6.90              </td><td> 10.49              </td><td> 1.19               </td></tr>\n",
       "\t<tr><td>quality             </td><td>6497                </td><td> 5.00               </td><td>  6.00              </td><td> 1.00               </td><td>  7.500             </td><td>3.00                </td><td>  6.00              </td><td>  9.00              </td><td>  6.00              </td><td>  5.82              </td><td> 0.87               </td></tr>\n",
       "</tbody>\n",
       "</table>\n"
      ],
      "text/latex": [
       "\\begin{tabular}{r|llllllllllll}\n",
       " variable & n & P25 & P75 & IQR & Threshold & Minimum & Median & Maximum & Range & Mean & StDev\\\\\n",
       "\\hline\n",
       "\t fixed.acidity        & 6497                 &  6.40                &   7.70               &  1.30                &   9.650              & 3.80                 &   7.00               &  15.90               &  12.10               &   7.22               &  1.30               \\\\\n",
       "\t volatile.acidity     & 6497                 &  0.23                &   0.40               &  0.17                &   0.655              & 0.08                 &   0.29               &   1.58               &   1.50               &   0.34               &  0.16               \\\\\n",
       "\t citric.acid          & 6497                 &  0.25                &   0.39               &  0.14                &   0.600              & 0.00                 &   0.31               &   1.66               &   1.66               &   0.32               &  0.15               \\\\\n",
       "\t residual.sugar       & 6497                 &  1.80                &   8.10               &  6.30                &  17.550              & 0.60                 &   3.00               &  65.80               &  65.20               &   5.44               &  4.76               \\\\\n",
       "\t chlorides            & 6497                 &  0.04                &   0.06               &  0.03                &   0.105              & 0.01                 &   0.05               &   0.61               &   0.60               &   0.06               &  0.04               \\\\\n",
       "\t total.sulfur.dioxide & 6497                 & 77.00                & 156.00               & 79.00                & 274.500              & 6.00                 & 118.00               & 440.00               & 434.00               & 115.74               & 56.52               \\\\\n",
       "\t pH                   & 6497                 &  3.11                &   3.32               &  0.21                &   3.635              & 2.72                 &   3.21               &   4.01               &   1.29               &   3.22               &  0.16               \\\\\n",
       "\t sulphates            & 6497                 &  0.43                &   0.60               &  0.17                &   0.855              & 0.22                 &   0.51               &   2.00               &   1.78               &   0.53               &  0.15               \\\\\n",
       "\t alcohol              & 6497                 &  9.50                &  11.30               &  1.80                &  14.000              & 8.00                 &  10.30               &  14.90               &   6.90               &  10.49               &  1.19               \\\\\n",
       "\t quality              & 6497                 &  5.00                &   6.00               &  1.00                &   7.500              & 3.00                 &   6.00               &   9.00               &   6.00               &   5.82               &  0.87               \\\\\n",
       "\\end{tabular}\n"
      ],
      "text/markdown": [
       "\n",
       "variable | n | P25 | P75 | IQR | Threshold | Minimum | Median | Maximum | Range | Mean | StDev | \n",
       "|---|---|---|---|---|---|---|---|---|---|\n",
       "| fixed.acidity        | 6497                 |  6.40                |   7.70               |  1.30                |   9.650              | 3.80                 |   7.00               |  15.90               |  12.10               |   7.22               |  1.30                | \n",
       "| volatile.acidity     | 6497                 |  0.23                |   0.40               |  0.17                |   0.655              | 0.08                 |   0.29               |   1.58               |   1.50               |   0.34               |  0.16                | \n",
       "| citric.acid          | 6497                 |  0.25                |   0.39               |  0.14                |   0.600              | 0.00                 |   0.31               |   1.66               |   1.66               |   0.32               |  0.15                | \n",
       "| residual.sugar       | 6497                 |  1.80                |   8.10               |  6.30                |  17.550              | 0.60                 |   3.00               |  65.80               |  65.20               |   5.44               |  4.76                | \n",
       "| chlorides            | 6497                 |  0.04                |   0.06               |  0.03                |   0.105              | 0.01                 |   0.05               |   0.61               |   0.60               |   0.06               |  0.04                | \n",
       "| total.sulfur.dioxide | 6497                 | 77.00                | 156.00               | 79.00                | 274.500              | 6.00                 | 118.00               | 440.00               | 434.00               | 115.74               | 56.52                | \n",
       "| pH                   | 6497                 |  3.11                |   3.32               |  0.21                |   3.635              | 2.72                 |   3.21               |   4.01               |   1.29               |   3.22               |  0.16                | \n",
       "| sulphates            | 6497                 |  0.43                |   0.60               |  0.17                |   0.855              | 0.22                 |   0.51               |   2.00               |   1.78               |   0.53               |  0.15                | \n",
       "| alcohol              | 6497                 |  9.50                |  11.30               |  1.80                |  14.000              | 8.00                 |  10.30               |  14.90               |   6.90               |  10.49               |  1.19                | \n",
       "| quality              | 6497                 |  5.00                |   6.00               |  1.00                |   7.500              | 3.00                 |   6.00               |   9.00               |   6.00               |   5.82               |  0.87                | \n",
       "\n",
       "\n"
      ],
      "text/plain": [
       "   variable             n    P25   P75    IQR   Threshold Minimum Median\n",
       "1  fixed.acidity        6497  6.40   7.70  1.30   9.650   3.80      7.00\n",
       "2  volatile.acidity     6497  0.23   0.40  0.17   0.655   0.08      0.29\n",
       "3  citric.acid          6497  0.25   0.39  0.14   0.600   0.00      0.31\n",
       "4  residual.sugar       6497  1.80   8.10  6.30  17.550   0.60      3.00\n",
       "5  chlorides            6497  0.04   0.06  0.03   0.105   0.01      0.05\n",
       "6  total.sulfur.dioxide 6497 77.00 156.00 79.00 274.500   6.00    118.00\n",
       "7  pH                   6497  3.11   3.32  0.21   3.635   2.72      3.21\n",
       "8  sulphates            6497  0.43   0.60  0.17   0.855   0.22      0.51\n",
       "9  alcohol              6497  9.50  11.30  1.80  14.000   8.00     10.30\n",
       "10 quality              6497  5.00   6.00  1.00   7.500   3.00      6.00\n",
       "   Maximum Range  Mean   StDev\n",
       "1   15.90   12.10   7.22  1.30\n",
       "2    1.58    1.50   0.34  0.16\n",
       "3    1.66    1.66   0.32  0.15\n",
       "4   65.80   65.20   5.44  4.76\n",
       "5    0.61    0.60   0.06  0.04\n",
       "6  440.00  434.00 115.74 56.52\n",
       "7    4.01    1.29   3.22  0.16\n",
       "8    2.00    1.78   0.53  0.15\n",
       "9   14.90    6.90  10.49  1.19\n",
       "10   9.00    6.00   5.82  0.87"
      ]
     },
     "metadata": {},
     "output_type": "display_data"
    }
   ],
   "source": [
    "# summarize original df dataset\n",
    "(summary1=propmiss(df[,-11])[,-(3:4)])"
   ]
  },
  {
   "cell_type": "code",
   "execution_count": 5,
   "metadata": {},
   "outputs": [
    {
     "name": "stderr",
     "output_type": "stream",
     "text": [
      "Loading required package: ParamHelpers\n",
      "\n",
      "Attaching package: 'mlr'\n",
      "\n",
      "The following object is masked from 'package:caret':\n",
      "\n",
      "    train\n",
      "\n"
     ]
    }
   ],
   "source": [
    "# r code to replace outliers by the threshold of each variable\n",
    "library(mlr)"
   ]
  },
  {
   "cell_type": "code",
   "execution_count": 6,
   "metadata": {},
   "outputs": [
    {
     "name": "stdout",
     "output_type": "stream",
     "text": [
      "'data.frame':\t5040 obs. of  11 variables:\n",
      " $ fixed.acidity       : num  6.3 8.1 7.2 7.2 8.1 6.2 6.3 8.1 8.1 8.6 ...\n",
      " $ volatile.acidity    : num  0.3 0.28 0.23 0.23 0.28 0.32 0.3 0.22 0.27 0.23 ...\n",
      " $ citric.acid         : num  0.34 0.4 0.32 0.32 0.4 0.16 0.34 0.43 0.41 0.4 ...\n",
      " $ residual.sugar      : num  1.6 6.9 8.5 8.5 6.9 7 1.6 1.5 1.45 4.2 ...\n",
      " $ chlorides           : num  0.049 0.05 0.058 0.058 0.05 0.045 0.049 0.044 0.033 0.035 ...\n",
      " $ total.sulfur.dioxide: num  132 97 186 186 97 136 132 129 63 109 ...\n",
      " $ pH                  : num  3.3 3.26 3.19 3.19 3.26 3.18 3.3 3.22 2.99 3.14 ...\n",
      " $ sulphates           : num  0.49 0.44 0.4 0.4 0.44 0.47 0.49 0.45 0.56 0.53 ...\n",
      " $ alcohol             : num  9.5 10.1 9.9 9.9 10.1 9.6 9.5 11 12 9.7 ...\n",
      " $ quality             : int  6 6 6 6 6 6 6 6 5 5 ...\n",
      " $ Class               : Factor w/ 2 levels \"white\",\"red\": 1 1 1 1 1 1 1 1 1 1 ...\n"
     ]
    }
   ],
   "source": [
    "# get some information about the dataset\n",
    "str(dff)"
   ]
  },
  {
   "cell_type": "code",
   "execution_count": 9,
   "metadata": {
    "collapsed": true
   },
   "outputs": [],
   "source": [
    "dfffull <- capLargeValues(df, target = \"Class\",cols = c(\"fixed.acidity\"),threshold = summary1[1,6])\n",
    "dfffull <- capLargeValues(dfffull, target = \"Class\",cols = c(\"volatile.acidity\"),threshold = summary1[2,6])\n",
    "dfffull <- capLargeValues(dfffull, target = \"Class\",cols = c(\"citric.acid\"),threshold = summary1[3,6])\n",
    "dfffull <- capLargeValues(dfffull, target = \"Class\",cols = c(\"residual.sugar\"),threshold = summary1[4,6])\n",
    "dfffull <- capLargeValues(dfffull, target = \"Class\",cols = c(\"chlorides\"),threshold = summary1[5,6])\n",
    "dfffull <- capLargeValues(dfffull, target = \"Class\",cols = c(\"total.sulfur.dioxide\"),threshold = summary1[6,6])\n",
    "dfffull <- capLargeValues(dfffull, target = \"Class\",cols = c(\"pH\"),threshold = summary1[7,6])\n",
    "dfffull <- capLargeValues(dfffull, target = \"Class\",cols = c(\"sulphates\"),threshold = summary1[8,6])\n",
    "dfffull <- capLargeValues(dfffull, target = \"Class\",cols = c(\"alcohol\"),threshold = summary1[9,6])\n",
    "unloadNamespace(\"mlr\")"
   ]
  },
  {
   "cell_type": "code",
   "execution_count": 12,
   "metadata": {},
   "outputs": [
    {
     "name": "stdout",
     "output_type": "stream",
     "text": [
      "'data.frame':\t6497 obs. of  11 variables:\n",
      " $ fixed.acidity       : num  7 6.3 8.1 7.2 7.2 8.1 6.2 7 6.3 8.1 ...\n",
      " $ volatile.acidity    : num  0.27 0.3 0.28 0.23 0.23 0.28 0.32 0.27 0.3 0.22 ...\n",
      " $ citric.acid         : num  0.36 0.34 0.4 0.32 0.32 0.4 0.16 0.36 0.34 0.43 ...\n",
      " $ residual.sugar      : num  17.5 1.6 6.9 8.5 8.5 ...\n",
      " $ chlorides           : num  0.045 0.049 0.05 0.058 0.058 0.05 0.045 0.045 0.049 0.044 ...\n",
      " $ total.sulfur.dioxide: num  170 132 97 186 186 97 136 170 132 129 ...\n",
      " $ pH                  : num  3 3.3 3.26 3.19 3.19 3.26 3.18 3 3.3 3.22 ...\n",
      " $ sulphates           : num  0.45 0.49 0.44 0.4 0.4 0.44 0.47 0.45 0.49 0.45 ...\n",
      " $ alcohol             : num  8.8 9.5 10.1 9.9 9.9 10.1 9.6 8.8 9.5 11 ...\n",
      " $ quality             : int  6 6 6 6 6 6 6 6 6 6 ...\n",
      " $ Class               : Factor w/ 2 levels \"white\",\"red\": 1 1 1 1 1 1 1 1 1 1 ...\n"
     ]
    }
   ],
   "source": [
    "# get some information about the dataset\n",
    "str(dfffull)"
   ]
  },
  {
   "cell_type": "code",
   "execution_count": 13,
   "metadata": {},
   "outputs": [
    {
     "data": {
      "text/html": [
       "<table>\n",
       "<thead><tr><th scope=col>variable</th><th scope=col>n</th><th scope=col>P25</th><th scope=col>P75</th><th scope=col>IQR</th><th scope=col>Minimum</th><th scope=col>Median</th><th scope=col>Maximum</th><th scope=col>Range</th><th scope=col>Mean</th><th scope=col>StDev</th></tr></thead>\n",
       "<tbody>\n",
       "\t<tr><td>fixed.acidity       </td><td>6497                </td><td> 6.40               </td><td>  7.70              </td><td> 1.30               </td><td>3.80                </td><td>  7.00              </td><td>  9.65              </td><td>  5.85              </td><td>  7.14              </td><td> 1.07               </td></tr>\n",
       "\t<tr><td>volatile.acidity    </td><td>6497                </td><td> 0.23               </td><td>  0.40              </td><td> 0.17               </td><td>0.08                </td><td>  0.29              </td><td>  0.66              </td><td>  0.58              </td><td>  0.33              </td><td> 0.14               </td></tr>\n",
       "\t<tr><td>citric.acid         </td><td>6497                </td><td> 0.25               </td><td>  0.39              </td><td> 0.14               </td><td>0.00                </td><td>  0.31              </td><td>  0.60              </td><td>  0.60              </td><td>  0.31              </td><td> 0.13               </td></tr>\n",
       "\t<tr><td>residual.sugar      </td><td>6497                </td><td> 1.80               </td><td>  8.10              </td><td> 6.30               </td><td>0.60                </td><td>  3.00              </td><td> 17.55              </td><td> 16.95              </td><td>  5.41              </td><td> 4.61               </td></tr>\n",
       "\t<tr><td>chlorides           </td><td>6497                </td><td> 0.04               </td><td>  0.06              </td><td> 0.03               </td><td>0.01                </td><td>  0.05              </td><td>  0.10              </td><td>  0.10              </td><td>  0.05              </td><td> 0.02               </td></tr>\n",
       "\t<tr><td>total.sulfur.dioxide</td><td>6497                </td><td>77.00               </td><td>156.00              </td><td>79.00               </td><td>6.00                </td><td>118.00              </td><td>274.50              </td><td>268.50              </td><td>115.67              </td><td>56.26               </td></tr>\n",
       "\t<tr><td>pH                  </td><td>6497                </td><td> 3.11               </td><td>  3.32              </td><td> 0.21               </td><td>2.72                </td><td>  3.21              </td><td>  3.63              </td><td>  0.91              </td><td>  3.22              </td><td> 0.16               </td></tr>\n",
       "\t<tr><td>sulphates           </td><td>6497                </td><td> 0.43               </td><td>  0.60              </td><td> 0.17               </td><td>0.22                </td><td>  0.51              </td><td>  0.86              </td><td>  0.64              </td><td>  0.53              </td><td> 0.13               </td></tr>\n",
       "\t<tr><td>alcohol             </td><td>6497                </td><td> 9.50               </td><td> 11.30              </td><td> 1.80               </td><td>8.00                </td><td> 10.30              </td><td> 14.00              </td><td>  6.00              </td><td> 10.49              </td><td> 1.19               </td></tr>\n",
       "\t<tr><td>quality             </td><td>6497                </td><td> 5.00               </td><td>  6.00              </td><td> 1.00               </td><td>3.00                </td><td>  6.00              </td><td>  9.00              </td><td>  6.00              </td><td>  5.82              </td><td> 0.87               </td></tr>\n",
       "</tbody>\n",
       "</table>\n"
      ],
      "text/latex": [
       "\\begin{tabular}{r|lllllllllll}\n",
       " variable & n & P25 & P75 & IQR & Minimum & Median & Maximum & Range & Mean & StDev\\\\\n",
       "\\hline\n",
       "\t fixed.acidity        & 6497                 &  6.40                &   7.70               &  1.30                & 3.80                 &   7.00               &   9.65               &   5.85               &   7.14               &  1.07               \\\\\n",
       "\t volatile.acidity     & 6497                 &  0.23                &   0.40               &  0.17                & 0.08                 &   0.29               &   0.66               &   0.58               &   0.33               &  0.14               \\\\\n",
       "\t citric.acid          & 6497                 &  0.25                &   0.39               &  0.14                & 0.00                 &   0.31               &   0.60               &   0.60               &   0.31               &  0.13               \\\\\n",
       "\t residual.sugar       & 6497                 &  1.80                &   8.10               &  6.30                & 0.60                 &   3.00               &  17.55               &  16.95               &   5.41               &  4.61               \\\\\n",
       "\t chlorides            & 6497                 &  0.04                &   0.06               &  0.03                & 0.01                 &   0.05               &   0.10               &   0.10               &   0.05               &  0.02               \\\\\n",
       "\t total.sulfur.dioxide & 6497                 & 77.00                & 156.00               & 79.00                & 6.00                 & 118.00               & 274.50               & 268.50               & 115.67               & 56.26               \\\\\n",
       "\t pH                   & 6497                 &  3.11                &   3.32               &  0.21                & 2.72                 &   3.21               &   3.63               &   0.91               &   3.22               &  0.16               \\\\\n",
       "\t sulphates            & 6497                 &  0.43                &   0.60               &  0.17                & 0.22                 &   0.51               &   0.86               &   0.64               &   0.53               &  0.13               \\\\\n",
       "\t alcohol              & 6497                 &  9.50                &  11.30               &  1.80                & 8.00                 &  10.30               &  14.00               &   6.00               &  10.49               &  1.19               \\\\\n",
       "\t quality              & 6497                 &  5.00                &   6.00               &  1.00                & 3.00                 &   6.00               &   9.00               &   6.00               &   5.82               &  0.87               \\\\\n",
       "\\end{tabular}\n"
      ],
      "text/markdown": [
       "\n",
       "variable | n | P25 | P75 | IQR | Minimum | Median | Maximum | Range | Mean | StDev | \n",
       "|---|---|---|---|---|---|---|---|---|---|\n",
       "| fixed.acidity        | 6497                 |  6.40                |   7.70               |  1.30                | 3.80                 |   7.00               |   9.65               |   5.85               |   7.14               |  1.07                | \n",
       "| volatile.acidity     | 6497                 |  0.23                |   0.40               |  0.17                | 0.08                 |   0.29               |   0.66               |   0.58               |   0.33               |  0.14                | \n",
       "| citric.acid          | 6497                 |  0.25                |   0.39               |  0.14                | 0.00                 |   0.31               |   0.60               |   0.60               |   0.31               |  0.13                | \n",
       "| residual.sugar       | 6497                 |  1.80                |   8.10               |  6.30                | 0.60                 |   3.00               |  17.55               |  16.95               |   5.41               |  4.61                | \n",
       "| chlorides            | 6497                 |  0.04                |   0.06               |  0.03                | 0.01                 |   0.05               |   0.10               |   0.10               |   0.05               |  0.02                | \n",
       "| total.sulfur.dioxide | 6497                 | 77.00                | 156.00               | 79.00                | 6.00                 | 118.00               | 274.50               | 268.50               | 115.67               | 56.26                | \n",
       "| pH                   | 6497                 |  3.11                |   3.32               |  0.21                | 2.72                 |   3.21               |   3.63               |   0.91               |   3.22               |  0.16                | \n",
       "| sulphates            | 6497                 |  0.43                |   0.60               |  0.17                | 0.22                 |   0.51               |   0.86               |   0.64               |   0.53               |  0.13                | \n",
       "| alcohol              | 6497                 |  9.50                |  11.30               |  1.80                | 8.00                 |  10.30               |  14.00               |   6.00               |  10.49               |  1.19                | \n",
       "| quality              | 6497                 |  5.00                |   6.00               |  1.00                | 3.00                 |   6.00               |   9.00               |   6.00               |   5.82               |  0.87                | \n",
       "\n",
       "\n"
      ],
      "text/plain": [
       "   variable             n    P25   P75    IQR   Minimum Median Maximum Range \n",
       "1  fixed.acidity        6497  6.40   7.70  1.30 3.80      7.00   9.65    5.85\n",
       "2  volatile.acidity     6497  0.23   0.40  0.17 0.08      0.29   0.66    0.58\n",
       "3  citric.acid          6497  0.25   0.39  0.14 0.00      0.31   0.60    0.60\n",
       "4  residual.sugar       6497  1.80   8.10  6.30 0.60      3.00  17.55   16.95\n",
       "5  chlorides            6497  0.04   0.06  0.03 0.01      0.05   0.10    0.10\n",
       "6  total.sulfur.dioxide 6497 77.00 156.00 79.00 6.00    118.00 274.50  268.50\n",
       "7  pH                   6497  3.11   3.32  0.21 2.72      3.21   3.63    0.91\n",
       "8  sulphates            6497  0.43   0.60  0.17 0.22      0.51   0.86    0.64\n",
       "9  alcohol              6497  9.50  11.30  1.80 8.00     10.30  14.00    6.00\n",
       "10 quality              6497  5.00   6.00  1.00 3.00      6.00   9.00    6.00\n",
       "   Mean   StDev\n",
       "1    7.14  1.07\n",
       "2    0.33  0.14\n",
       "3    0.31  0.13\n",
       "4    5.41  4.61\n",
       "5    0.05  0.02\n",
       "6  115.67 56.26\n",
       "7    3.22  0.16\n",
       "8    0.53  0.13\n",
       "9   10.49  1.19\n",
       "10   5.82  0.87"
      ]
     },
     "metadata": {},
     "output_type": "display_data"
    }
   ],
   "source": [
    "# summarize dfffull dataset\n",
    "(summary=propmiss(dfffull[,-11])[,-(3:4)][,-6])"
   ]
  },
  {
   "cell_type": "code",
   "execution_count": 14,
   "metadata": {
    "collapsed": true
   },
   "outputs": [],
   "source": [
    "# remove and dettach df dataset\n",
    "rm(\"df\")\n",
    "detach(\"df\")"
   ]
  },
  {
   "cell_type": "code",
   "execution_count": 15,
   "metadata": {
    "collapsed": true
   },
   "outputs": [],
   "source": [
    "# rename dff dataset as df dataset to use the already created R scripts\n",
    "df <- dfffull\n",
    "\n",
    "# remove dff dataset\n",
    "rm(\"dfffull\")"
   ]
  },
  {
   "cell_type": "code",
   "execution_count": 16,
   "metadata": {},
   "outputs": [
    {
     "data": {
      "text/html": [
       "<table>\n",
       "<thead><tr><th scope=col>fixed.acidity</th><th scope=col>volatile.acidity</th><th scope=col>citric.acid</th><th scope=col>residual.sugar</th><th scope=col>chlorides</th><th scope=col>total.sulfur.dioxide</th><th scope=col>pH</th><th scope=col>sulphates</th><th scope=col>alcohol</th><th scope=col>quality</th><th scope=col>Class</th></tr></thead>\n",
       "<tbody>\n",
       "\t<tr><td>7.0  </td><td>0.27 </td><td>0.36 </td><td>17.55</td><td>0.045</td><td>170  </td><td>3.00 </td><td>0.45 </td><td> 8.8 </td><td>6    </td><td>white</td></tr>\n",
       "\t<tr><td>6.3  </td><td>0.30 </td><td>0.34 </td><td> 1.60</td><td>0.049</td><td>132  </td><td>3.30 </td><td>0.49 </td><td> 9.5 </td><td>6    </td><td>white</td></tr>\n",
       "\t<tr><td>8.1  </td><td>0.28 </td><td>0.40 </td><td> 6.90</td><td>0.050</td><td> 97  </td><td>3.26 </td><td>0.44 </td><td>10.1 </td><td>6    </td><td>white</td></tr>\n",
       "\t<tr><td>7.2  </td><td>0.23 </td><td>0.32 </td><td> 8.50</td><td>0.058</td><td>186  </td><td>3.19 </td><td>0.40 </td><td> 9.9 </td><td>6    </td><td>white</td></tr>\n",
       "\t<tr><td>7.2  </td><td>0.23 </td><td>0.32 </td><td> 8.50</td><td>0.058</td><td>186  </td><td>3.19 </td><td>0.40 </td><td> 9.9 </td><td>6    </td><td>white</td></tr>\n",
       "\t<tr><td>8.1  </td><td>0.28 </td><td>0.40 </td><td> 6.90</td><td>0.050</td><td> 97  </td><td>3.26 </td><td>0.44 </td><td>10.1 </td><td>6    </td><td>white</td></tr>\n",
       "</tbody>\n",
       "</table>\n"
      ],
      "text/latex": [
       "\\begin{tabular}{r|lllllllllll}\n",
       " fixed.acidity & volatile.acidity & citric.acid & residual.sugar & chlorides & total.sulfur.dioxide & pH & sulphates & alcohol & quality & Class\\\\\n",
       "\\hline\n",
       "\t 7.0   & 0.27  & 0.36  & 17.55 & 0.045 & 170   & 3.00  & 0.45  &  8.8  & 6     & white\\\\\n",
       "\t 6.3   & 0.30  & 0.34  &  1.60 & 0.049 & 132   & 3.30  & 0.49  &  9.5  & 6     & white\\\\\n",
       "\t 8.1   & 0.28  & 0.40  &  6.90 & 0.050 &  97   & 3.26  & 0.44  & 10.1  & 6     & white\\\\\n",
       "\t 7.2   & 0.23  & 0.32  &  8.50 & 0.058 & 186   & 3.19  & 0.40  &  9.9  & 6     & white\\\\\n",
       "\t 7.2   & 0.23  & 0.32  &  8.50 & 0.058 & 186   & 3.19  & 0.40  &  9.9  & 6     & white\\\\\n",
       "\t 8.1   & 0.28  & 0.40  &  6.90 & 0.050 &  97   & 3.26  & 0.44  & 10.1  & 6     & white\\\\\n",
       "\\end{tabular}\n"
      ],
      "text/markdown": [
       "\n",
       "fixed.acidity | volatile.acidity | citric.acid | residual.sugar | chlorides | total.sulfur.dioxide | pH | sulphates | alcohol | quality | Class | \n",
       "|---|---|---|---|---|---|\n",
       "| 7.0   | 0.27  | 0.36  | 17.55 | 0.045 | 170   | 3.00  | 0.45  |  8.8  | 6     | white | \n",
       "| 6.3   | 0.30  | 0.34  |  1.60 | 0.049 | 132   | 3.30  | 0.49  |  9.5  | 6     | white | \n",
       "| 8.1   | 0.28  | 0.40  |  6.90 | 0.050 |  97   | 3.26  | 0.44  | 10.1  | 6     | white | \n",
       "| 7.2   | 0.23  | 0.32  |  8.50 | 0.058 | 186   | 3.19  | 0.40  |  9.9  | 6     | white | \n",
       "| 7.2   | 0.23  | 0.32  |  8.50 | 0.058 | 186   | 3.19  | 0.40  |  9.9  | 6     | white | \n",
       "| 8.1   | 0.28  | 0.40  |  6.90 | 0.050 |  97   | 3.26  | 0.44  | 10.1  | 6     | white | \n",
       "\n",
       "\n"
      ],
      "text/plain": [
       "  fixed.acidity volatile.acidity citric.acid residual.sugar chlorides\n",
       "1 7.0           0.27             0.36        17.55          0.045    \n",
       "2 6.3           0.30             0.34         1.60          0.049    \n",
       "3 8.1           0.28             0.40         6.90          0.050    \n",
       "4 7.2           0.23             0.32         8.50          0.058    \n",
       "5 7.2           0.23             0.32         8.50          0.058    \n",
       "6 8.1           0.28             0.40         6.90          0.050    \n",
       "  total.sulfur.dioxide pH   sulphates alcohol quality Class\n",
       "1 170                  3.00 0.45       8.8    6       white\n",
       "2 132                  3.30 0.49       9.5    6       white\n",
       "3  97                  3.26 0.44      10.1    6       white\n",
       "4 186                  3.19 0.40       9.9    6       white\n",
       "5 186                  3.19 0.40       9.9    6       white\n",
       "6  97                  3.26 0.44      10.1    6       white"
      ]
     },
     "metadata": {},
     "output_type": "display_data"
    },
    {
     "name": "stdout",
     "output_type": "stream",
     "text": [
      "'data.frame':\t6497 obs. of  11 variables:\n",
      " $ fixed.acidity       : num  7 6.3 8.1 7.2 7.2 8.1 6.2 7 6.3 8.1 ...\n",
      " $ volatile.acidity    : num  0.27 0.3 0.28 0.23 0.23 0.28 0.32 0.27 0.3 0.22 ...\n",
      " $ citric.acid         : num  0.36 0.34 0.4 0.32 0.32 0.4 0.16 0.36 0.34 0.43 ...\n",
      " $ residual.sugar      : num  17.5 1.6 6.9 8.5 8.5 ...\n",
      " $ chlorides           : num  0.045 0.049 0.05 0.058 0.058 0.05 0.045 0.045 0.049 0.044 ...\n",
      " $ total.sulfur.dioxide: num  170 132 97 186 186 97 136 170 132 129 ...\n",
      " $ pH                  : num  3 3.3 3.26 3.19 3.19 3.26 3.18 3 3.3 3.22 ...\n",
      " $ sulphates           : num  0.45 0.49 0.44 0.4 0.4 0.44 0.47 0.45 0.49 0.45 ...\n",
      " $ alcohol             : num  8.8 9.5 10.1 9.9 9.9 10.1 9.6 8.8 9.5 11 ...\n",
      " $ quality             : int  6 6 6 6 6 6 6 6 6 6 ...\n",
      " $ Class               : Factor w/ 2 levels \"white\",\"red\": 1 1 1 1 1 1 1 1 1 1 ...\n"
     ]
    }
   ],
   "source": [
    "head(df)\n",
    "str(df)"
   ]
  },
  {
   "cell_type": "markdown",
   "metadata": {},
   "source": [
    "## III Getting train and test datasets"
   ]
  },
  {
   "cell_type": "code",
   "execution_count": 17,
   "metadata": {},
   "outputs": [
    {
     "data": {
      "text/html": [
       "4549"
      ],
      "text/latex": [
       "4549"
      ],
      "text/markdown": [
       "4549"
      ],
      "text/plain": [
       "[1] 4549"
      ]
     },
     "metadata": {},
     "output_type": "display_data"
    },
    {
     "data": {
      "text/html": [
       "1948"
      ],
      "text/latex": [
       "1948"
      ],
      "text/markdown": [
       "1948"
      ],
      "text/plain": [
       "[1] 1948"
      ]
     },
     "metadata": {},
     "output_type": "display_data"
    }
   ],
   "source": [
    "#stratified sampling to get the train and test dataset\n",
    "set.seed(7) # Set Seed so that same sample can be reproduced in future also\n",
    "# considering response variable as strata\n",
    "data_part <- createDataPartition(y = df$Class,  p = 0.70, list = F)\n",
    "testing <- df[-data_part,] # 30% data goes here\n",
    "training <- df[data_part,] # 70% here\n",
    "\n",
    "length(training$Class)\n",
    "length(testing$Class)\n",
    "\n",
    "# training$quality <- NULL\n",
    "# testing$quality <- NULL"
   ]
  },
  {
   "cell_type": "code",
   "execution_count": 18,
   "metadata": {},
   "outputs": [
    {
     "data": {
      "text/html": [
       "<table>\n",
       "<thead><tr><th></th><th scope=col>fixed.acidity</th><th scope=col>volatile.acidity</th><th scope=col>citric.acid</th><th scope=col>residual.sugar</th><th scope=col>chlorides</th><th scope=col>total.sulfur.dioxide</th><th scope=col>pH</th><th scope=col>sulphates</th><th scope=col>alcohol</th><th scope=col>quality</th><th scope=col>Class</th></tr></thead>\n",
       "<tbody>\n",
       "\t<tr><th scope=row>2</th><td>6.3  </td><td>0.30 </td><td>0.34 </td><td> 1.60</td><td>0.049</td><td>132  </td><td>3.30 </td><td>0.49 </td><td> 9.5 </td><td>6    </td><td>white</td></tr>\n",
       "\t<tr><th scope=row>3</th><td>8.1  </td><td>0.28 </td><td>0.40 </td><td> 6.90</td><td>0.050</td><td> 97  </td><td>3.26 </td><td>0.44 </td><td>10.1 </td><td>6    </td><td>white</td></tr>\n",
       "\t<tr><th scope=row>7</th><td>6.2  </td><td>0.32 </td><td>0.16 </td><td> 7.00</td><td>0.045</td><td>136  </td><td>3.18 </td><td>0.47 </td><td> 9.6 </td><td>6    </td><td>white</td></tr>\n",
       "\t<tr><th scope=row>8</th><td>7.0  </td><td>0.27 </td><td>0.36 </td><td>17.55</td><td>0.045</td><td>170  </td><td>3.00 </td><td>0.45 </td><td> 8.8 </td><td>6    </td><td>white</td></tr>\n",
       "\t<tr><th scope=row>9</th><td>6.3  </td><td>0.30 </td><td>0.34 </td><td> 1.60</td><td>0.049</td><td>132  </td><td>3.30 </td><td>0.49 </td><td> 9.5 </td><td>6    </td><td>white</td></tr>\n",
       "\t<tr><th scope=row>10</th><td>8.1  </td><td>0.22 </td><td>0.43 </td><td> 1.50</td><td>0.044</td><td>129  </td><td>3.22 </td><td>0.45 </td><td>11.0 </td><td>6    </td><td>white</td></tr>\n",
       "</tbody>\n",
       "</table>\n"
      ],
      "text/latex": [
       "\\begin{tabular}{r|lllllllllll}\n",
       "  & fixed.acidity & volatile.acidity & citric.acid & residual.sugar & chlorides & total.sulfur.dioxide & pH & sulphates & alcohol & quality & Class\\\\\n",
       "\\hline\n",
       "\t2 & 6.3   & 0.30  & 0.34  &  1.60 & 0.049 & 132   & 3.30  & 0.49  &  9.5  & 6     & white\\\\\n",
       "\t3 & 8.1   & 0.28  & 0.40  &  6.90 & 0.050 &  97   & 3.26  & 0.44  & 10.1  & 6     & white\\\\\n",
       "\t7 & 6.2   & 0.32  & 0.16  &  7.00 & 0.045 & 136   & 3.18  & 0.47  &  9.6  & 6     & white\\\\\n",
       "\t8 & 7.0   & 0.27  & 0.36  & 17.55 & 0.045 & 170   & 3.00  & 0.45  &  8.8  & 6     & white\\\\\n",
       "\t9 & 6.3   & 0.30  & 0.34  &  1.60 & 0.049 & 132   & 3.30  & 0.49  &  9.5  & 6     & white\\\\\n",
       "\t10 & 8.1   & 0.22  & 0.43  &  1.50 & 0.044 & 129   & 3.22  & 0.45  & 11.0  & 6     & white\\\\\n",
       "\\end{tabular}\n"
      ],
      "text/markdown": [
       "\n",
       "| <!--/--> | fixed.acidity | volatile.acidity | citric.acid | residual.sugar | chlorides | total.sulfur.dioxide | pH | sulphates | alcohol | quality | Class | \n",
       "|---|---|---|---|---|---|\n",
       "| 2 | 6.3   | 0.30  | 0.34  |  1.60 | 0.049 | 132   | 3.30  | 0.49  |  9.5  | 6     | white | \n",
       "| 3 | 8.1   | 0.28  | 0.40  |  6.90 | 0.050 |  97   | 3.26  | 0.44  | 10.1  | 6     | white | \n",
       "| 7 | 6.2   | 0.32  | 0.16  |  7.00 | 0.045 | 136   | 3.18  | 0.47  |  9.6  | 6     | white | \n",
       "| 8 | 7.0   | 0.27  | 0.36  | 17.55 | 0.045 | 170   | 3.00  | 0.45  |  8.8  | 6     | white | \n",
       "| 9 | 6.3   | 0.30  | 0.34  |  1.60 | 0.049 | 132   | 3.30  | 0.49  |  9.5  | 6     | white | \n",
       "| 10 | 8.1   | 0.22  | 0.43  |  1.50 | 0.044 | 129   | 3.22  | 0.45  | 11.0  | 6     | white | \n",
       "\n",
       "\n"
      ],
      "text/plain": [
       "   fixed.acidity volatile.acidity citric.acid residual.sugar chlorides\n",
       "2  6.3           0.30             0.34         1.60          0.049    \n",
       "3  8.1           0.28             0.40         6.90          0.050    \n",
       "7  6.2           0.32             0.16         7.00          0.045    \n",
       "8  7.0           0.27             0.36        17.55          0.045    \n",
       "9  6.3           0.30             0.34         1.60          0.049    \n",
       "10 8.1           0.22             0.43         1.50          0.044    \n",
       "   total.sulfur.dioxide pH   sulphates alcohol quality Class\n",
       "2  132                  3.30 0.49       9.5    6       white\n",
       "3   97                  3.26 0.44      10.1    6       white\n",
       "7  136                  3.18 0.47       9.6    6       white\n",
       "8  170                  3.00 0.45       8.8    6       white\n",
       "9  132                  3.30 0.49       9.5    6       white\n",
       "10 129                  3.22 0.45      11.0    6       white"
      ]
     },
     "metadata": {},
     "output_type": "display_data"
    },
    {
     "data": {
      "text/html": [
       "<table>\n",
       "<thead><tr><th></th><th scope=col>fixed.acidity</th><th scope=col>volatile.acidity</th><th scope=col>citric.acid</th><th scope=col>residual.sugar</th><th scope=col>chlorides</th><th scope=col>total.sulfur.dioxide</th><th scope=col>pH</th><th scope=col>sulphates</th><th scope=col>alcohol</th><th scope=col>quality</th><th scope=col>Class</th></tr></thead>\n",
       "<tbody>\n",
       "\t<tr><th scope=row>1</th><td>7.0  </td><td>0.270</td><td>0.36 </td><td>17.55</td><td>0.045</td><td>170  </td><td>3.00 </td><td>0.45 </td><td> 8.8 </td><td>6    </td><td>white</td></tr>\n",
       "\t<tr><th scope=row>4</th><td>7.2  </td><td>0.230</td><td>0.32 </td><td> 8.50</td><td>0.058</td><td>186  </td><td>3.19 </td><td>0.40 </td><td> 9.9 </td><td>6    </td><td>white</td></tr>\n",
       "\t<tr><th scope=row>5</th><td>7.2  </td><td>0.230</td><td>0.32 </td><td> 8.50</td><td>0.058</td><td>186  </td><td>3.19 </td><td>0.40 </td><td> 9.9 </td><td>6    </td><td>white</td></tr>\n",
       "\t<tr><th scope=row>6</th><td>8.1  </td><td>0.280</td><td>0.40 </td><td> 6.90</td><td>0.050</td><td> 97  </td><td>3.26 </td><td>0.44 </td><td>10.1 </td><td>6    </td><td>white</td></tr>\n",
       "\t<tr><th scope=row>18</th><td>6.2  </td><td>0.655</td><td>0.48 </td><td> 1.20</td><td>0.029</td><td> 75  </td><td>3.33 </td><td>0.39 </td><td>12.8 </td><td>8    </td><td>white</td></tr>\n",
       "\t<tr><th scope=row>20</th><td>6.5  </td><td>0.310</td><td>0.14 </td><td> 7.50</td><td>0.044</td><td>133  </td><td>3.22 </td><td>0.50 </td><td> 9.5 </td><td>5    </td><td>white</td></tr>\n",
       "</tbody>\n",
       "</table>\n"
      ],
      "text/latex": [
       "\\begin{tabular}{r|lllllllllll}\n",
       "  & fixed.acidity & volatile.acidity & citric.acid & residual.sugar & chlorides & total.sulfur.dioxide & pH & sulphates & alcohol & quality & Class\\\\\n",
       "\\hline\n",
       "\t1 & 7.0   & 0.270 & 0.36  & 17.55 & 0.045 & 170   & 3.00  & 0.45  &  8.8  & 6     & white\\\\\n",
       "\t4 & 7.2   & 0.230 & 0.32  &  8.50 & 0.058 & 186   & 3.19  & 0.40  &  9.9  & 6     & white\\\\\n",
       "\t5 & 7.2   & 0.230 & 0.32  &  8.50 & 0.058 & 186   & 3.19  & 0.40  &  9.9  & 6     & white\\\\\n",
       "\t6 & 8.1   & 0.280 & 0.40  &  6.90 & 0.050 &  97   & 3.26  & 0.44  & 10.1  & 6     & white\\\\\n",
       "\t18 & 6.2   & 0.655 & 0.48  &  1.20 & 0.029 &  75   & 3.33  & 0.39  & 12.8  & 8     & white\\\\\n",
       "\t20 & 6.5   & 0.310 & 0.14  &  7.50 & 0.044 & 133   & 3.22  & 0.50  &  9.5  & 5     & white\\\\\n",
       "\\end{tabular}\n"
      ],
      "text/markdown": [
       "\n",
       "| <!--/--> | fixed.acidity | volatile.acidity | citric.acid | residual.sugar | chlorides | total.sulfur.dioxide | pH | sulphates | alcohol | quality | Class | \n",
       "|---|---|---|---|---|---|\n",
       "| 1 | 7.0   | 0.270 | 0.36  | 17.55 | 0.045 | 170   | 3.00  | 0.45  |  8.8  | 6     | white | \n",
       "| 4 | 7.2   | 0.230 | 0.32  |  8.50 | 0.058 | 186   | 3.19  | 0.40  |  9.9  | 6     | white | \n",
       "| 5 | 7.2   | 0.230 | 0.32  |  8.50 | 0.058 | 186   | 3.19  | 0.40  |  9.9  | 6     | white | \n",
       "| 6 | 8.1   | 0.280 | 0.40  |  6.90 | 0.050 |  97   | 3.26  | 0.44  | 10.1  | 6     | white | \n",
       "| 18 | 6.2   | 0.655 | 0.48  |  1.20 | 0.029 |  75   | 3.33  | 0.39  | 12.8  | 8     | white | \n",
       "| 20 | 6.5   | 0.310 | 0.14  |  7.50 | 0.044 | 133   | 3.22  | 0.50  |  9.5  | 5     | white | \n",
       "\n",
       "\n"
      ],
      "text/plain": [
       "   fixed.acidity volatile.acidity citric.acid residual.sugar chlorides\n",
       "1  7.0           0.270            0.36        17.55          0.045    \n",
       "4  7.2           0.230            0.32         8.50          0.058    \n",
       "5  7.2           0.230            0.32         8.50          0.058    \n",
       "6  8.1           0.280            0.40         6.90          0.050    \n",
       "18 6.2           0.655            0.48         1.20          0.029    \n",
       "20 6.5           0.310            0.14         7.50          0.044    \n",
       "   total.sulfur.dioxide pH   sulphates alcohol quality Class\n",
       "1  170                  3.00 0.45       8.8    6       white\n",
       "4  186                  3.19 0.40       9.9    6       white\n",
       "5  186                  3.19 0.40       9.9    6       white\n",
       "6   97                  3.26 0.44      10.1    6       white\n",
       "18  75                  3.33 0.39      12.8    8       white\n",
       "20 133                  3.22 0.50       9.5    5       white"
      ]
     },
     "metadata": {},
     "output_type": "display_data"
    }
   ],
   "source": [
    "#taking a look of the train and test dataset by columns \n",
    "head(training)\n",
    "head(testing)"
   ]
  },
  {
   "cell_type": "code",
   "execution_count": 19,
   "metadata": {},
   "outputs": [
    {
     "name": "stdout",
     "output_type": "stream",
     "text": [
      "'data.frame':\t4549 obs. of  11 variables:\n",
      " $ fixed.acidity       : num  6.3 8.1 6.2 7 6.3 8.1 8.1 8.6 7.9 6.6 ...\n",
      " $ volatile.acidity    : num  0.3 0.28 0.32 0.27 0.3 0.22 0.27 0.23 0.18 0.16 ...\n",
      " $ citric.acid         : num  0.34 0.4 0.16 0.36 0.34 0.43 0.41 0.4 0.37 0.4 ...\n",
      " $ residual.sugar      : num  1.6 6.9 7 17.5 1.6 ...\n",
      " $ chlorides           : num  0.049 0.05 0.045 0.045 0.049 0.044 0.033 0.035 0.04 0.044 ...\n",
      " $ total.sulfur.dioxide: num  132 97 136 170 132 129 63 109 75 143 ...\n",
      " $ pH                  : num  3.3 3.26 3.18 3 3.3 3.22 2.99 3.14 3.18 3.54 ...\n",
      " $ sulphates           : num  0.49 0.44 0.47 0.45 0.49 0.45 0.56 0.53 0.63 0.52 ...\n",
      " $ alcohol             : num  9.5 10.1 9.6 8.8 9.5 11 12 9.7 10.8 12.4 ...\n",
      " $ quality             : int  6 6 6 6 6 6 5 5 5 7 ...\n",
      " $ Class               : Factor w/ 2 levels \"white\",\"red\": 1 1 1 1 1 1 1 1 1 1 ...\n"
     ]
    }
   ],
   "source": [
    "# get some information about training dataset\n",
    "str(training[,1:11])"
   ]
  },
  {
   "cell_type": "code",
   "execution_count": 20,
   "metadata": {},
   "outputs": [
    {
     "name": "stdout",
     "output_type": "stream",
     "text": [
      "'data.frame':\t1948 obs. of  11 variables:\n",
      " $ fixed.acidity       : num  7 7.2 7.2 8.1 6.2 6.5 6.8 6.6 7.2 6.2 ...\n",
      " $ volatile.acidity    : num  0.27 0.23 0.23 0.28 0.655 0.31 0.26 0.27 0.32 0.12 ...\n",
      " $ citric.acid         : num  0.36 0.32 0.32 0.4 0.48 0.14 0.42 0.41 0.36 0.34 ...\n",
      " $ residual.sugar      : num  17.5 8.5 8.5 6.9 1.2 ...\n",
      " $ chlorides           : num  0.045 0.058 0.058 0.05 0.029 0.044 0.049 0.052 0.033 0.045 ...\n",
      " $ total.sulfur.dioxide: num  170 186 186 97 75 133 122 142 114 117 ...\n",
      " $ pH                  : num  3 3.19 3.19 3.26 3.33 3.22 3.47 3.42 3.1 3.42 ...\n",
      " $ sulphates           : num  0.45 0.4 0.4 0.44 0.39 0.5 0.48 0.47 0.71 0.51 ...\n",
      " $ alcohol             : num  8.8 9.9 9.9 10.1 12.8 9.5 10.5 10 12.3 9 ...\n",
      " $ quality             : int  6 6 6 6 8 5 8 6 7 6 ...\n",
      " $ Class               : Factor w/ 2 levels \"white\",\"red\": 1 1 1 1 1 1 1 1 1 1 ...\n"
     ]
    }
   ],
   "source": [
    "# get some information about testing dataset\n",
    "str(testing[,1:11])"
   ]
  },
  {
   "cell_type": "code",
   "execution_count": 21,
   "metadata": {},
   "outputs": [
    {
     "data": {
      "text/html": [
       "<table>\n",
       "<thead><tr><th scope=col>variable</th><th scope=col>n</th><th scope=col>P25</th><th scope=col>P75</th><th scope=col>IQR</th><th scope=col>Minimum</th><th scope=col>Median</th><th scope=col>Maximum</th><th scope=col>Range</th><th scope=col>Mean</th><th scope=col>StDev</th></tr></thead>\n",
       "<tbody>\n",
       "\t<tr><td>fixed.acidity       </td><td>4549                </td><td> 6.40               </td><td>  7.60              </td><td> 1.20               </td><td>4.20                </td><td>  7.00              </td><td>  9.65              </td><td>  5.45              </td><td>  7.13              </td><td> 1.05               </td></tr>\n",
       "\t<tr><td>volatile.acidity    </td><td>4549                </td><td> 0.23               </td><td>  0.41              </td><td> 0.18               </td><td>0.08                </td><td>  0.30              </td><td>  0.66              </td><td>  0.58              </td><td>  0.33              </td><td> 0.14               </td></tr>\n",
       "\t<tr><td>citric.acid         </td><td>4549                </td><td> 0.24               </td><td>  0.39              </td><td> 0.15               </td><td>0.00                </td><td>  0.31              </td><td>  0.60              </td><td>  0.60              </td><td>  0.31              </td><td> 0.13               </td></tr>\n",
       "\t<tr><td>residual.sugar      </td><td>4549                </td><td> 1.80               </td><td>  8.10              </td><td> 6.30               </td><td>0.60                </td><td>  2.90              </td><td> 17.55              </td><td> 16.95              </td><td>  5.39              </td><td> 4.61               </td></tr>\n",
       "\t<tr><td>chlorides           </td><td>4549                </td><td> 0.04               </td><td>  0.06              </td><td> 0.03               </td><td>0.01                </td><td>  0.05              </td><td>  0.10              </td><td>  0.10              </td><td>  0.05              </td><td> 0.02               </td></tr>\n",
       "\t<tr><td>total.sulfur.dioxide</td><td>4549                </td><td>78.00               </td><td>156.00              </td><td>78.00               </td><td>6.00                </td><td>119.00              </td><td>274.50              </td><td>268.50              </td><td>116.08              </td><td>56.17               </td></tr>\n",
       "\t<tr><td>pH                  </td><td>4549                </td><td> 3.11               </td><td>  3.32              </td><td> 0.21               </td><td>2.72                </td><td>  3.20              </td><td>  3.63              </td><td>  0.91              </td><td>  3.22              </td><td> 0.16               </td></tr>\n",
       "\t<tr><td>sulphates           </td><td>4549                </td><td> 0.43               </td><td>  0.60              </td><td> 0.17               </td><td>0.22                </td><td>  0.51              </td><td>  0.86              </td><td>  0.64              </td><td>  0.53              </td><td> 0.13               </td></tr>\n",
       "\t<tr><td>alcohol             </td><td>4549                </td><td> 9.50               </td><td> 11.30              </td><td> 1.80               </td><td>8.00                </td><td> 10.30              </td><td> 14.00              </td><td>  6.00              </td><td> 10.50              </td><td> 1.19               </td></tr>\n",
       "\t<tr><td>quality             </td><td>4549                </td><td> 5.00               </td><td>  6.00              </td><td> 1.00               </td><td>3.00                </td><td>  6.00              </td><td>  9.00              </td><td>  6.00              </td><td>  5.82              </td><td> 0.88               </td></tr>\n",
       "</tbody>\n",
       "</table>\n"
      ],
      "text/latex": [
       "\\begin{tabular}{r|lllllllllll}\n",
       " variable & n & P25 & P75 & IQR & Minimum & Median & Maximum & Range & Mean & StDev\\\\\n",
       "\\hline\n",
       "\t fixed.acidity        & 4549                 &  6.40                &   7.60               &  1.20                & 4.20                 &   7.00               &   9.65               &   5.45               &   7.13               &  1.05               \\\\\n",
       "\t volatile.acidity     & 4549                 &  0.23                &   0.41               &  0.18                & 0.08                 &   0.30               &   0.66               &   0.58               &   0.33               &  0.14               \\\\\n",
       "\t citric.acid          & 4549                 &  0.24                &   0.39               &  0.15                & 0.00                 &   0.31               &   0.60               &   0.60               &   0.31               &  0.13               \\\\\n",
       "\t residual.sugar       & 4549                 &  1.80                &   8.10               &  6.30                & 0.60                 &   2.90               &  17.55               &  16.95               &   5.39               &  4.61               \\\\\n",
       "\t chlorides            & 4549                 &  0.04                &   0.06               &  0.03                & 0.01                 &   0.05               &   0.10               &   0.10               &   0.05               &  0.02               \\\\\n",
       "\t total.sulfur.dioxide & 4549                 & 78.00                & 156.00               & 78.00                & 6.00                 & 119.00               & 274.50               & 268.50               & 116.08               & 56.17               \\\\\n",
       "\t pH                   & 4549                 &  3.11                &   3.32               &  0.21                & 2.72                 &   3.20               &   3.63               &   0.91               &   3.22               &  0.16               \\\\\n",
       "\t sulphates            & 4549                 &  0.43                &   0.60               &  0.17                & 0.22                 &   0.51               &   0.86               &   0.64               &   0.53               &  0.13               \\\\\n",
       "\t alcohol              & 4549                 &  9.50                &  11.30               &  1.80                & 8.00                 &  10.30               &  14.00               &   6.00               &  10.50               &  1.19               \\\\\n",
       "\t quality              & 4549                 &  5.00                &   6.00               &  1.00                & 3.00                 &   6.00               &   9.00               &   6.00               &   5.82               &  0.88               \\\\\n",
       "\\end{tabular}\n"
      ],
      "text/markdown": [
       "\n",
       "variable | n | P25 | P75 | IQR | Minimum | Median | Maximum | Range | Mean | StDev | \n",
       "|---|---|---|---|---|---|---|---|---|---|\n",
       "| fixed.acidity        | 4549                 |  6.40                |   7.60               |  1.20                | 4.20                 |   7.00               |   9.65               |   5.45               |   7.13               |  1.05                | \n",
       "| volatile.acidity     | 4549                 |  0.23                |   0.41               |  0.18                | 0.08                 |   0.30               |   0.66               |   0.58               |   0.33               |  0.14                | \n",
       "| citric.acid          | 4549                 |  0.24                |   0.39               |  0.15                | 0.00                 |   0.31               |   0.60               |   0.60               |   0.31               |  0.13                | \n",
       "| residual.sugar       | 4549                 |  1.80                |   8.10               |  6.30                | 0.60                 |   2.90               |  17.55               |  16.95               |   5.39               |  4.61                | \n",
       "| chlorides            | 4549                 |  0.04                |   0.06               |  0.03                | 0.01                 |   0.05               |   0.10               |   0.10               |   0.05               |  0.02                | \n",
       "| total.sulfur.dioxide | 4549                 | 78.00                | 156.00               | 78.00                | 6.00                 | 119.00               | 274.50               | 268.50               | 116.08               | 56.17                | \n",
       "| pH                   | 4549                 |  3.11                |   3.32               |  0.21                | 2.72                 |   3.20               |   3.63               |   0.91               |   3.22               |  0.16                | \n",
       "| sulphates            | 4549                 |  0.43                |   0.60               |  0.17                | 0.22                 |   0.51               |   0.86               |   0.64               |   0.53               |  0.13                | \n",
       "| alcohol              | 4549                 |  9.50                |  11.30               |  1.80                | 8.00                 |  10.30               |  14.00               |   6.00               |  10.50               |  1.19                | \n",
       "| quality              | 4549                 |  5.00                |   6.00               |  1.00                | 3.00                 |   6.00               |   9.00               |   6.00               |   5.82               |  0.88                | \n",
       "\n",
       "\n"
      ],
      "text/plain": [
       "   variable             n    P25   P75    IQR   Minimum Median Maximum Range \n",
       "1  fixed.acidity        4549  6.40   7.60  1.20 4.20      7.00   9.65    5.45\n",
       "2  volatile.acidity     4549  0.23   0.41  0.18 0.08      0.30   0.66    0.58\n",
       "3  citric.acid          4549  0.24   0.39  0.15 0.00      0.31   0.60    0.60\n",
       "4  residual.sugar       4549  1.80   8.10  6.30 0.60      2.90  17.55   16.95\n",
       "5  chlorides            4549  0.04   0.06  0.03 0.01      0.05   0.10    0.10\n",
       "6  total.sulfur.dioxide 4549 78.00 156.00 78.00 6.00    119.00 274.50  268.50\n",
       "7  pH                   4549  3.11   3.32  0.21 2.72      3.20   3.63    0.91\n",
       "8  sulphates            4549  0.43   0.60  0.17 0.22      0.51   0.86    0.64\n",
       "9  alcohol              4549  9.50  11.30  1.80 8.00     10.30  14.00    6.00\n",
       "10 quality              4549  5.00   6.00  1.00 3.00      6.00   9.00    6.00\n",
       "   Mean   StDev\n",
       "1    7.13  1.05\n",
       "2    0.33  0.14\n",
       "3    0.31  0.13\n",
       "4    5.39  4.61\n",
       "5    0.05  0.02\n",
       "6  116.08 56.17\n",
       "7    3.22  0.16\n",
       "8    0.53  0.13\n",
       "9   10.50  1.19\n",
       "10   5.82  0.88"
      ]
     },
     "metadata": {},
     "output_type": "display_data"
    }
   ],
   "source": [
    "# summarize training dataset\n",
    "(summary=propmiss(training[,-11])[,-(3:4)][,-6])"
   ]
  },
  {
   "cell_type": "code",
   "execution_count": 22,
   "metadata": {},
   "outputs": [
    {
     "data": {
      "text/html": [
       "<table>\n",
       "<thead><tr><th scope=col>variable</th><th scope=col>n</th><th scope=col>P25</th><th scope=col>P75</th><th scope=col>IQR</th><th scope=col>Minimum</th><th scope=col>Median</th><th scope=col>Maximum</th><th scope=col>Range</th><th scope=col>Mean</th><th scope=col>StDev</th></tr></thead>\n",
       "<tbody>\n",
       "\t<tr><td>fixed.acidity       </td><td>1948                </td><td> 6.40               </td><td>  7.80              </td><td> 1.40               </td><td>3.80                </td><td>  7.00              </td><td>  9.65              </td><td>  5.85              </td><td>  7.18              </td><td> 1.11               </td></tr>\n",
       "\t<tr><td>volatile.acidity    </td><td>1948                </td><td> 0.23               </td><td>  0.40              </td><td> 0.17               </td><td>0.08                </td><td>  0.29              </td><td>  0.66              </td><td>  0.57              </td><td>  0.33              </td><td> 0.14               </td></tr>\n",
       "\t<tr><td>citric.acid         </td><td>1948                </td><td> 0.25               </td><td>  0.40              </td><td> 0.15               </td><td>0.00                </td><td>  0.31              </td><td>  0.60              </td><td>  0.60              </td><td>  0.32              </td><td> 0.14               </td></tr>\n",
       "\t<tr><td>residual.sugar      </td><td>1948                </td><td> 1.80               </td><td>  8.10              </td><td> 6.30               </td><td>0.60                </td><td>  3.20              </td><td> 17.55              </td><td> 16.95              </td><td>  5.45              </td><td> 4.62               </td></tr>\n",
       "\t<tr><td>chlorides           </td><td>1948                </td><td> 0.04               </td><td>  0.06              </td><td> 0.03               </td><td>0.01                </td><td>  0.05              </td><td>  0.10              </td><td>  0.09              </td><td>  0.05              </td><td> 0.02               </td></tr>\n",
       "\t<tr><td>total.sulfur.dioxide</td><td>1948                </td><td>75.75               </td><td>155.00              </td><td>79.25               </td><td>6.00                </td><td>117.00              </td><td>274.50              </td><td>268.50              </td><td>114.72              </td><td>56.46               </td></tr>\n",
       "\t<tr><td>pH                  </td><td>1948                </td><td> 3.10               </td><td>  3.32              </td><td> 0.22               </td><td>2.79                </td><td>  3.21              </td><td>  3.63              </td><td>  0.84              </td><td>  3.22              </td><td> 0.16               </td></tr>\n",
       "\t<tr><td>sulphates           </td><td>1948                </td><td> 0.43               </td><td>  0.60              </td><td> 0.17               </td><td>0.25                </td><td>  0.50              </td><td>  0.86              </td><td>  0.60              </td><td>  0.53              </td><td> 0.13               </td></tr>\n",
       "\t<tr><td>alcohol             </td><td>1948                </td><td> 9.50               </td><td> 11.30              </td><td> 1.80               </td><td>8.00                </td><td> 10.30              </td><td> 14.00              </td><td>  6.00              </td><td> 10.47              </td><td> 1.20               </td></tr>\n",
       "\t<tr><td>quality             </td><td>1948                </td><td> 5.00               </td><td>  6.00              </td><td> 1.00               </td><td>3.00                </td><td>  6.00              </td><td>  9.00              </td><td>  6.00              </td><td>  5.82              </td><td> 0.85               </td></tr>\n",
       "</tbody>\n",
       "</table>\n"
      ],
      "text/latex": [
       "\\begin{tabular}{r|lllllllllll}\n",
       " variable & n & P25 & P75 & IQR & Minimum & Median & Maximum & Range & Mean & StDev\\\\\n",
       "\\hline\n",
       "\t fixed.acidity        & 1948                 &  6.40                &   7.80               &  1.40                & 3.80                 &   7.00               &   9.65               &   5.85               &   7.18               &  1.11               \\\\\n",
       "\t volatile.acidity     & 1948                 &  0.23                &   0.40               &  0.17                & 0.08                 &   0.29               &   0.66               &   0.57               &   0.33               &  0.14               \\\\\n",
       "\t citric.acid          & 1948                 &  0.25                &   0.40               &  0.15                & 0.00                 &   0.31               &   0.60               &   0.60               &   0.32               &  0.14               \\\\\n",
       "\t residual.sugar       & 1948                 &  1.80                &   8.10               &  6.30                & 0.60                 &   3.20               &  17.55               &  16.95               &   5.45               &  4.62               \\\\\n",
       "\t chlorides            & 1948                 &  0.04                &   0.06               &  0.03                & 0.01                 &   0.05               &   0.10               &   0.09               &   0.05               &  0.02               \\\\\n",
       "\t total.sulfur.dioxide & 1948                 & 75.75                & 155.00               & 79.25                & 6.00                 & 117.00               & 274.50               & 268.50               & 114.72               & 56.46               \\\\\n",
       "\t pH                   & 1948                 &  3.10                &   3.32               &  0.22                & 2.79                 &   3.21               &   3.63               &   0.84               &   3.22               &  0.16               \\\\\n",
       "\t sulphates            & 1948                 &  0.43                &   0.60               &  0.17                & 0.25                 &   0.50               &   0.86               &   0.60               &   0.53               &  0.13               \\\\\n",
       "\t alcohol              & 1948                 &  9.50                &  11.30               &  1.80                & 8.00                 &  10.30               &  14.00               &   6.00               &  10.47               &  1.20               \\\\\n",
       "\t quality              & 1948                 &  5.00                &   6.00               &  1.00                & 3.00                 &   6.00               &   9.00               &   6.00               &   5.82               &  0.85               \\\\\n",
       "\\end{tabular}\n"
      ],
      "text/markdown": [
       "\n",
       "variable | n | P25 | P75 | IQR | Minimum | Median | Maximum | Range | Mean | StDev | \n",
       "|---|---|---|---|---|---|---|---|---|---|\n",
       "| fixed.acidity        | 1948                 |  6.40                |   7.80               |  1.40                | 3.80                 |   7.00               |   9.65               |   5.85               |   7.18               |  1.11                | \n",
       "| volatile.acidity     | 1948                 |  0.23                |   0.40               |  0.17                | 0.08                 |   0.29               |   0.66               |   0.57               |   0.33               |  0.14                | \n",
       "| citric.acid          | 1948                 |  0.25                |   0.40               |  0.15                | 0.00                 |   0.31               |   0.60               |   0.60               |   0.32               |  0.14                | \n",
       "| residual.sugar       | 1948                 |  1.80                |   8.10               |  6.30                | 0.60                 |   3.20               |  17.55               |  16.95               |   5.45               |  4.62                | \n",
       "| chlorides            | 1948                 |  0.04                |   0.06               |  0.03                | 0.01                 |   0.05               |   0.10               |   0.09               |   0.05               |  0.02                | \n",
       "| total.sulfur.dioxide | 1948                 | 75.75                | 155.00               | 79.25                | 6.00                 | 117.00               | 274.50               | 268.50               | 114.72               | 56.46                | \n",
       "| pH                   | 1948                 |  3.10                |   3.32               |  0.22                | 2.79                 |   3.21               |   3.63               |   0.84               |   3.22               |  0.16                | \n",
       "| sulphates            | 1948                 |  0.43                |   0.60               |  0.17                | 0.25                 |   0.50               |   0.86               |   0.60               |   0.53               |  0.13                | \n",
       "| alcohol              | 1948                 |  9.50                |  11.30               |  1.80                | 8.00                 |  10.30               |  14.00               |   6.00               |  10.47               |  1.20                | \n",
       "| quality              | 1948                 |  5.00                |   6.00               |  1.00                | 3.00                 |   6.00               |   9.00               |   6.00               |   5.82               |  0.85                | \n",
       "\n",
       "\n"
      ],
      "text/plain": [
       "   variable             n    P25   P75    IQR   Minimum Median Maximum Range \n",
       "1  fixed.acidity        1948  6.40   7.80  1.40 3.80      7.00   9.65    5.85\n",
       "2  volatile.acidity     1948  0.23   0.40  0.17 0.08      0.29   0.66    0.57\n",
       "3  citric.acid          1948  0.25   0.40  0.15 0.00      0.31   0.60    0.60\n",
       "4  residual.sugar       1948  1.80   8.10  6.30 0.60      3.20  17.55   16.95\n",
       "5  chlorides            1948  0.04   0.06  0.03 0.01      0.05   0.10    0.09\n",
       "6  total.sulfur.dioxide 1948 75.75 155.00 79.25 6.00    117.00 274.50  268.50\n",
       "7  pH                   1948  3.10   3.32  0.22 2.79      3.21   3.63    0.84\n",
       "8  sulphates            1948  0.43   0.60  0.17 0.25      0.50   0.86    0.60\n",
       "9  alcohol              1948  9.50  11.30  1.80 8.00     10.30  14.00    6.00\n",
       "10 quality              1948  5.00   6.00  1.00 3.00      6.00   9.00    6.00\n",
       "   Mean   StDev\n",
       "1    7.18  1.11\n",
       "2    0.33  0.14\n",
       "3    0.32  0.14\n",
       "4    5.45  4.62\n",
       "5    0.05  0.02\n",
       "6  114.72 56.46\n",
       "7    3.22  0.16\n",
       "8    0.53  0.13\n",
       "9   10.47  1.20\n",
       "10   5.82  0.85"
      ]
     },
     "metadata": {},
     "output_type": "display_data"
    }
   ],
   "source": [
    "# summarize testing dataset\n",
    "(summary=propmiss(testing[,-11])[,-(3:4)][,-6])"
   ]
  },
  {
   "cell_type": "markdown",
   "metadata": {},
   "source": [
    "## IV Building models\n",
    " \n",
    "In this project I have considered CART, BOOSTED TREE C5.0, SVM, KNN and RF algorithms. I use \"set.seed(7)\" so that same sample can be reproduced in the future and also it ensures the results are directly comparable."
   ]
  },
  {
   "cell_type": "markdown",
   "metadata": {
    "collapsed": true
   },
   "source": [
    "### 41 CART"
   ]
  },
  {
   "cell_type": "code",
   "execution_count": 23,
   "metadata": {
    "collapsed": true
   },
   "outputs": [],
   "source": [
    "## Control Resampling Technique: 10-fold CV\n",
    "cvCtrl <- trainControl(method = \"cv\", number=10, summaryFunction = twoClassSummary, classProbs = TRUE)"
   ]
  },
  {
   "cell_type": "code",
   "execution_count": 24,
   "metadata": {},
   "outputs": [
    {
     "name": "stderr",
     "output_type": "stream",
     "text": [
      "Loading required package: rpart\n"
     ]
    }
   ],
   "source": [
    "## Construction Predictive Model\n",
    "set.seed(1)\n",
    "rpartTune <- train(Class ~ ., data = training, method = \"rpart\", tuneLength = 30, preProc = c(\"center\", \"scale\"), metric = \"ROC\",  trControl = cvCtrl)"
   ]
  },
  {
   "cell_type": "code",
   "execution_count": 25,
   "metadata": {},
   "outputs": [
    {
     "data": {
      "text/plain": [
       "CART \n",
       "\n",
       "4549 samples\n",
       "  10 predictor\n",
       "   2 classes: 'white', 'red' \n",
       "\n",
       "Pre-processing: centered (10), scaled (10) \n",
       "Resampling: Cross-Validated (10 fold) \n",
       "Summary of sample sizes: 4094, 4094, 4095, 4094, 4094, 4094, ... \n",
       "Resampling results across tuning parameters:\n",
       "\n",
       "  cp          ROC        Sens       Spec     \n",
       "  0.00000000  0.9877725  0.9842506  0.9607143\n",
       "  0.02358374  0.9755545  0.9810453  0.9339286\n",
       "  0.04716749  0.9758366  0.9755034  0.9357143\n",
       "  0.07075123  0.8976229  0.9769645  0.8008929\n",
       "  0.09433498  0.8976229  0.9769645  0.8008929\n",
       "  0.11791872  0.8847864  0.9454657  0.8241071\n",
       "  0.14150246  0.8847864  0.9454657  0.8241071\n",
       "  0.16508621  0.8847864  0.9454657  0.8241071\n",
       "  0.18866995  0.8847864  0.9454657  0.8241071\n",
       "  0.21225369  0.8847864  0.9454657  0.8241071\n",
       "  0.23583744  0.8847864  0.9454657  0.8241071\n",
       "  0.25942118  0.8847864  0.9454657  0.8241071\n",
       "  0.28300493  0.8847864  0.9454657  0.8241071\n",
       "  0.30658867  0.8847864  0.9454657  0.8241071\n",
       "  0.33017241  0.8847864  0.9454657  0.8241071\n",
       "  0.35375616  0.8847864  0.9454657  0.8241071\n",
       "  0.37733990  0.8847864  0.9454657  0.8241071\n",
       "  0.40092365  0.8847864  0.9454657  0.8241071\n",
       "  0.42450739  0.8847864  0.9454657  0.8241071\n",
       "  0.44809113  0.8847864  0.9454657  0.8241071\n",
       "  0.47167488  0.8847864  0.9454657  0.8241071\n",
       "  0.49525862  0.8847864  0.9454657  0.8241071\n",
       "  0.51884236  0.8847864  0.9454657  0.8241071\n",
       "  0.54242611  0.8847864  0.9454657  0.8241071\n",
       "  0.56600985  0.8847864  0.9454657  0.8241071\n",
       "  0.58959360  0.8847864  0.9454657  0.8241071\n",
       "  0.61317734  0.8847864  0.9454657  0.8241071\n",
       "  0.63676108  0.8847864  0.9454657  0.8241071\n",
       "  0.66034483  0.8847864  0.9454657  0.8241071\n",
       "  0.68392857  0.7615448  0.9623753  0.5607143\n",
       "\n",
       "ROC was used to select the optimal model using  the largest value.\n",
       "The final value used for the model was cp = 0."
      ]
     },
     "metadata": {},
     "output_type": "display_data"
    }
   ],
   "source": [
    "## train results\n",
    "rpartTune"
   ]
  },
  {
   "cell_type": "code",
   "execution_count": 26,
   "metadata": {},
   "outputs": [
    {
     "data": {
      "text/html": [
       "<table>\n",
       "<thead><tr><th scope=col>cp</th></tr></thead>\n",
       "<tbody>\n",
       "\t<tr><td>0</td></tr>\n",
       "</tbody>\n",
       "</table>\n"
      ],
      "text/latex": [
       "\\begin{tabular}{r|l}\n",
       " cp\\\\\n",
       "\\hline\n",
       "\t 0\\\\\n",
       "\\end{tabular}\n"
      ],
      "text/markdown": [
       "\n",
       "cp | \n",
       "|---|\n",
       "| 0 | \n",
       "\n",
       "\n"
      ],
      "text/plain": [
       "  cp\n",
       "1 0 "
      ]
     },
     "metadata": {},
     "output_type": "display_data"
    }
   ],
   "source": [
    "rpartTune$bestTune"
   ]
  },
  {
   "cell_type": "code",
   "execution_count": 27,
   "metadata": {},
   "outputs": [
    {
     "data": {
      "text/html": [
       "<table>\n",
       "<thead><tr><th scope=col>cp</th><th scope=col>ROC</th><th scope=col>Sens</th><th scope=col>Spec</th><th scope=col>ROCSD</th><th scope=col>SensSD</th><th scope=col>SpecSD</th></tr></thead>\n",
       "<tbody>\n",
       "\t<tr><td>0.00000000 </td><td>0.9877725  </td><td>0.9842506  </td><td>0.9607143  </td><td>0.007806591</td><td>0.011841261</td><td>0.01344237 </td></tr>\n",
       "\t<tr><td>0.02358374 </td><td>0.9755545  </td><td>0.9810453  </td><td>0.9339286  </td><td>0.006364581</td><td>0.009444961</td><td>0.03319487 </td></tr>\n",
       "\t<tr><td>0.04716749 </td><td>0.9758366  </td><td>0.9755034  </td><td>0.9357143  </td><td>0.007139131</td><td>0.010662646</td><td>0.03440044 </td></tr>\n",
       "\t<tr><td>0.07075123 </td><td>0.8976229  </td><td>0.9769645  </td><td>0.8008929  </td><td>0.034410621</td><td>0.013975560</td><td>0.04649911 </td></tr>\n",
       "\t<tr><td>0.09433498 </td><td>0.8976229  </td><td>0.9769645  </td><td>0.8008929  </td><td>0.034410621</td><td>0.013975560</td><td>0.04649911 </td></tr>\n",
       "\t<tr><td>0.11791872 </td><td>0.8847864  </td><td>0.9454657  </td><td>0.8241071  </td><td>0.025983959</td><td>0.012820212</td><td>0.06114605 </td></tr>\n",
       "</tbody>\n",
       "</table>\n"
      ],
      "text/latex": [
       "\\begin{tabular}{r|lllllll}\n",
       " cp & ROC & Sens & Spec & ROCSD & SensSD & SpecSD\\\\\n",
       "\\hline\n",
       "\t 0.00000000  & 0.9877725   & 0.9842506   & 0.9607143   & 0.007806591 & 0.011841261 & 0.01344237 \\\\\n",
       "\t 0.02358374  & 0.9755545   & 0.9810453   & 0.9339286   & 0.006364581 & 0.009444961 & 0.03319487 \\\\\n",
       "\t 0.04716749  & 0.9758366   & 0.9755034   & 0.9357143   & 0.007139131 & 0.010662646 & 0.03440044 \\\\\n",
       "\t 0.07075123  & 0.8976229   & 0.9769645   & 0.8008929   & 0.034410621 & 0.013975560 & 0.04649911 \\\\\n",
       "\t 0.09433498  & 0.8976229   & 0.9769645   & 0.8008929   & 0.034410621 & 0.013975560 & 0.04649911 \\\\\n",
       "\t 0.11791872  & 0.8847864   & 0.9454657   & 0.8241071   & 0.025983959 & 0.012820212 & 0.06114605 \\\\\n",
       "\\end{tabular}\n"
      ],
      "text/markdown": [
       "\n",
       "cp | ROC | Sens | Spec | ROCSD | SensSD | SpecSD | \n",
       "|---|---|---|---|---|---|\n",
       "| 0.00000000  | 0.9877725   | 0.9842506   | 0.9607143   | 0.007806591 | 0.011841261 | 0.01344237  | \n",
       "| 0.02358374  | 0.9755545   | 0.9810453   | 0.9339286   | 0.006364581 | 0.009444961 | 0.03319487  | \n",
       "| 0.04716749  | 0.9758366   | 0.9755034   | 0.9357143   | 0.007139131 | 0.010662646 | 0.03440044  | \n",
       "| 0.07075123  | 0.8976229   | 0.9769645   | 0.8008929   | 0.034410621 | 0.013975560 | 0.04649911  | \n",
       "| 0.09433498  | 0.8976229   | 0.9769645   | 0.8008929   | 0.034410621 | 0.013975560 | 0.04649911  | \n",
       "| 0.11791872  | 0.8847864   | 0.9454657   | 0.8241071   | 0.025983959 | 0.012820212 | 0.06114605  | \n",
       "\n",
       "\n"
      ],
      "text/plain": [
       "  cp         ROC       Sens      Spec      ROCSD       SensSD      SpecSD    \n",
       "1 0.00000000 0.9877725 0.9842506 0.9607143 0.007806591 0.011841261 0.01344237\n",
       "2 0.02358374 0.9755545 0.9810453 0.9339286 0.006364581 0.009444961 0.03319487\n",
       "3 0.04716749 0.9758366 0.9755034 0.9357143 0.007139131 0.010662646 0.03440044\n",
       "4 0.07075123 0.8976229 0.9769645 0.8008929 0.034410621 0.013975560 0.04649911\n",
       "5 0.09433498 0.8976229 0.9769645 0.8008929 0.034410621 0.013975560 0.04649911\n",
       "6 0.11791872 0.8847864 0.9454657 0.8241071 0.025983959 0.012820212 0.06114605"
      ]
     },
     "metadata": {},
     "output_type": "display_data"
    }
   ],
   "source": [
    "head(rpartTune$results)"
   ]
  },
  {
   "cell_type": "code",
   "execution_count": 28,
   "metadata": {},
   "outputs": [
    {
     "data": {
      "text/html": [
       "<table>\n",
       "<thead><tr><th scope=col>cp</th><th scope=col>ROC</th><th scope=col>Sens</th><th scope=col>Spec</th><th scope=col>ROCSD</th><th scope=col>SensSD</th><th scope=col>SpecSD</th></tr></thead>\n",
       "<tbody>\n",
       "\t<tr><td>0          </td><td>0.9877725  </td><td>0.9842506  </td><td>0.9607143  </td><td>0.007806591</td><td>0.01184126 </td><td>0.01344237 </td></tr>\n",
       "</tbody>\n",
       "</table>\n"
      ],
      "text/latex": [
       "\\begin{tabular}{r|lllllll}\n",
       " cp & ROC & Sens & Spec & ROCSD & SensSD & SpecSD\\\\\n",
       "\\hline\n",
       "\t 0           & 0.9877725   & 0.9842506   & 0.9607143   & 0.007806591 & 0.01184126  & 0.01344237 \\\\\n",
       "\\end{tabular}\n"
      ],
      "text/markdown": [
       "\n",
       "cp | ROC | Sens | Spec | ROCSD | SensSD | SpecSD | \n",
       "|---|\n",
       "| 0           | 0.9877725   | 0.9842506   | 0.9607143   | 0.007806591 | 0.01184126  | 0.01344237  | \n",
       "\n",
       "\n"
      ],
      "text/plain": [
       "  cp ROC       Sens      Spec      ROCSD       SensSD     SpecSD    \n",
       "1 0  0.9877725 0.9842506 0.9607143 0.007806591 0.01184126 0.01344237"
      ]
     },
     "metadata": {},
     "output_type": "display_data"
    }
   ],
   "source": [
    "(rpartTune$results)[1,]"
   ]
  },
  {
   "cell_type": "code",
   "execution_count": 29,
   "metadata": {},
   "outputs": [
    {
     "data": {},
     "metadata": {},
     "output_type": "display_data"
    },
    {
     "data": {
      "image/png": "[encoded data removed]",
      "text/plain": [
       "plot without title"
      ]
     },
     "metadata": {},
     "output_type": "display_data"
    }
   ],
   "source": [
    "## Plot train tune\n",
    "plot(rpartTune)"
   ]
  },
  {
   "cell_type": "code",
   "execution_count": 30,
   "metadata": {},
   "outputs": [
    {
     "data": {
      "text/plain": [
       "Confusion Matrix and Statistics\n",
       "\n",
       "          Reference\n",
       "Prediction white  red\n",
       "     white  1444   23\n",
       "     red      25  456\n",
       "                                          \n",
       "               Accuracy : 0.9754          \n",
       "                 95% CI : (0.9675, 0.9818)\n",
       "    No Information Rate : 0.7541          \n",
       "    P-Value [Acc > NIR] : <2e-16          \n",
       "                                          \n",
       "                  Kappa : 0.9337          \n",
       " Mcnemar's Test P-Value : 0.8852          \n",
       "                                          \n",
       "            Sensitivity : 0.9830          \n",
       "            Specificity : 0.9520          \n",
       "         Pos Pred Value : 0.9843          \n",
       "         Neg Pred Value : 0.9480          \n",
       "             Prevalence : 0.7541          \n",
       "         Detection Rate : 0.7413          \n",
       "   Detection Prevalence : 0.7531          \n",
       "      Balanced Accuracy : 0.9675          \n",
       "                                          \n",
       "       'Positive' Class : white           \n",
       "                                          "
      ]
     },
     "metadata": {},
     "output_type": "display_data"
    }
   ],
   "source": [
    "## Test Set Results   \n",
    "rpartPred <- predict(rpartTune, testing)\n",
    "confusionMatrix(rpartPred, testing$Class)"
   ]
  },
  {
   "cell_type": "code",
   "execution_count": 31,
   "metadata": {},
   "outputs": [
    {
     "data": {
      "text/html": [
       "<table>\n",
       "<thead><tr><th></th><th scope=col>white</th><th scope=col>red</th></tr></thead>\n",
       "<tbody>\n",
       "\t<tr><th scope=row>1</th><td>0.9977034  </td><td>0.002296588</td></tr>\n",
       "\t<tr><th scope=row>4</th><td>0.9977034  </td><td>0.002296588</td></tr>\n",
       "\t<tr><th scope=row>5</th><td>0.9977034  </td><td>0.002296588</td></tr>\n",
       "\t<tr><th scope=row>6</th><td>0.9977034  </td><td>0.002296588</td></tr>\n",
       "\t<tr><th scope=row>18</th><td>0.9977034  </td><td>0.002296588</td></tr>\n",
       "\t<tr><th scope=row>20</th><td>0.9977034  </td><td>0.002296588</td></tr>\n",
       "</tbody>\n",
       "</table>\n"
      ],
      "text/latex": [
       "\\begin{tabular}{r|ll}\n",
       "  & white & red\\\\\n",
       "\\hline\n",
       "\t1 & 0.9977034   & 0.002296588\\\\\n",
       "\t4 & 0.9977034   & 0.002296588\\\\\n",
       "\t5 & 0.9977034   & 0.002296588\\\\\n",
       "\t6 & 0.9977034   & 0.002296588\\\\\n",
       "\t18 & 0.9977034   & 0.002296588\\\\\n",
       "\t20 & 0.9977034   & 0.002296588\\\\\n",
       "\\end{tabular}\n"
      ],
      "text/markdown": [
       "\n",
       "| <!--/--> | white | red | \n",
       "|---|---|---|---|---|---|\n",
       "| 1 | 0.9977034   | 0.002296588 | \n",
       "| 4 | 0.9977034   | 0.002296588 | \n",
       "| 5 | 0.9977034   | 0.002296588 | \n",
       "| 6 | 0.9977034   | 0.002296588 | \n",
       "| 18 | 0.9977034   | 0.002296588 | \n",
       "| 20 | 0.9977034   | 0.002296588 | \n",
       "\n",
       "\n"
      ],
      "text/plain": [
       "   white     red        \n",
       "1  0.9977034 0.002296588\n",
       "4  0.9977034 0.002296588\n",
       "5  0.9977034 0.002296588\n",
       "6  0.9977034 0.002296588\n",
       "18 0.9977034 0.002296588\n",
       "20 0.9977034 0.002296588"
      ]
     },
     "metadata": {},
     "output_type": "display_data"
    }
   ],
   "source": [
    "## Predicting Class Probabilities\n",
    "rpartProbs <- predict(rpartTune, testing, type = \"prob\")\n",
    "head(rpartProbs)"
   ]
  },
  {
   "cell_type": "code",
   "execution_count": 32,
   "metadata": {},
   "outputs": [
    {
     "data": {
      "text/plain": [
       "rpart variable importance\n",
       "\n",
       "                     Overall\n",
       "total.sulfur.dioxide 1496.36\n",
       "chlorides            1154.94\n",
       "volatile.acidity      928.97\n",
       "sulphates             571.42\n",
       "fixed.acidity         373.67\n",
       "residual.sugar        175.68\n",
       "pH                    153.39\n",
       "citric.acid            68.99\n",
       "alcohol                23.74\n",
       "quality                14.32"
      ]
     },
     "metadata": {},
     "output_type": "display_data"
    }
   ],
   "source": [
    "# variable importance\n",
    "cart.imp = varImp ( rpartTune , scale = F )\n",
    "cart.imp"
   ]
  },
  {
   "cell_type": "code",
   "execution_count": 33,
   "metadata": {},
   "outputs": [
    {
     "data": {},
     "metadata": {},
     "output_type": "display_data"
    },
    {
     "data": {
      "image/png": "[encoded data removed]",
      "text/plain": [
       "plot without title"
      ]
     },
     "metadata": {},
     "output_type": "display_data"
    }
   ],
   "source": [
    "## Graphic variable importance\n",
    "# dev.new()\n",
    "plot(cart.imp, top=10, main=\"10 Top Variable Importance - CART Model\")"
   ]
  },
  {
   "cell_type": "markdown",
   "metadata": {
    "collapsed": true
   },
   "source": [
    "### 42 Boosted Trees C5.0 (C5)"
   ]
  },
  {
   "cell_type": "code",
   "execution_count": 34,
   "metadata": {
    "collapsed": true
   },
   "outputs": [],
   "source": [
    "## Control Resampling Technique: 10-fold CV\n",
    "cvCtrl <- trainControl(method = \"cv\", number=10, summaryFunction = twoClassSummary, classProbs = TRUE)"
   ]
  },
  {
   "cell_type": "code",
   "execution_count": 35,
   "metadata": {
    "collapsed": true
   },
   "outputs": [],
   "source": [
    "## Control Grid\n",
    "grid <- expand.grid(.model = \"tree\", .trials = c(1,5,10,15,20), .winnow = FALSE)"
   ]
  },
  {
   "cell_type": "code",
   "execution_count": 36,
   "metadata": {},
   "outputs": [
    {
     "name": "stderr",
     "output_type": "stream",
     "text": [
      "Loading required package: C50\n"
     ]
    }
   ],
   "source": [
    "## Construction Predictive Model\n",
    "set.seed(1)\n",
    "c5Tune <- train(Class ~ ., data = training, method = \"C5.0\", metric = \"ROC\", preProc = c(\"center\", \"scale\"), tuneGrid = grid, trControl = cvCtrl)"
   ]
  },
  {
   "cell_type": "code",
   "execution_count": 37,
   "metadata": {},
   "outputs": [
    {
     "data": {
      "text/plain": [
       "C5.0 \n",
       "\n",
       "4549 samples\n",
       "  10 predictor\n",
       "   2 classes: 'white', 'red' \n",
       "\n",
       "Pre-processing: centered (10), scaled (10) \n",
       "Resampling: Cross-Validated (10 fold) \n",
       "Summary of sample sizes: 4094, 4094, 4095, 4094, 4094, 4094, ... \n",
       "Resampling results across tuning parameters:\n",
       "\n",
       "  trials  ROC        Sens       Spec     \n",
       "   1      0.9922397  0.9912519  0.9723214\n",
       "   5      0.9963528  0.9909587  0.9794643\n",
       "  10      0.9977206  0.9927080  0.9830357\n",
       "  15      0.9981071  0.9947496  0.9830357\n",
       "  20      0.9985496  0.9947488  0.9848214\n",
       "\n",
       "Tuning parameter 'model' was held constant at a value of tree\n",
       "Tuning\n",
       " parameter 'winnow' was held constant at a value of FALSE\n",
       "ROC was used to select the optimal model using  the largest value.\n",
       "The final values used for the model were trials = 20, model = tree and winnow\n",
       " = FALSE."
      ]
     },
     "metadata": {},
     "output_type": "display_data"
    }
   ],
   "source": [
    "## train results\n",
    "c5Tune"
   ]
  },
  {
   "cell_type": "code",
   "execution_count": 38,
   "metadata": {},
   "outputs": [
    {
     "data": {
      "text/html": [
       "<table>\n",
       "<thead><tr><th></th><th scope=col>trials</th><th scope=col>model</th><th scope=col>winnow</th></tr></thead>\n",
       "<tbody>\n",
       "\t<tr><th scope=row>5</th><td>20   </td><td>tree </td><td>FALSE</td></tr>\n",
       "</tbody>\n",
       "</table>\n"
      ],
      "text/latex": [
       "\\begin{tabular}{r|lll}\n",
       "  & trials & model & winnow\\\\\n",
       "\\hline\n",
       "\t5 & 20    & tree  & FALSE\\\\\n",
       "\\end{tabular}\n"
      ],
      "text/markdown": [
       "\n",
       "| <!--/--> | trials | model | winnow | \n",
       "|---|\n",
       "| 5 | 20    | tree  | FALSE | \n",
       "\n",
       "\n"
      ],
      "text/plain": [
       "  trials model winnow\n",
       "5 20     tree  FALSE "
      ]
     },
     "metadata": {},
     "output_type": "display_data"
    }
   ],
   "source": [
    "c5Tune$bestTune"
   ]
  },
  {
   "cell_type": "code",
   "execution_count": 39,
   "metadata": {},
   "outputs": [
    {
     "data": {
      "text/html": [
       "<table>\n",
       "<thead><tr><th scope=col>model</th><th scope=col>winnow</th><th scope=col>trials</th><th scope=col>ROC</th><th scope=col>Sens</th><th scope=col>Spec</th><th scope=col>ROCSD</th><th scope=col>SensSD</th><th scope=col>SpecSD</th></tr></thead>\n",
       "<tbody>\n",
       "\t<tr><td>tree       </td><td>FALSE      </td><td> 1         </td><td>0.9922397  </td><td>0.9912519  </td><td>0.9723214  </td><td>0.004230720</td><td>0.004344831</td><td>0.01068946 </td></tr>\n",
       "\t<tr><td>tree       </td><td>FALSE      </td><td> 5         </td><td>0.9963528  </td><td>0.9909587  </td><td>0.9794643  </td><td>0.005427020</td><td>0.004227257</td><td>0.01035269 </td></tr>\n",
       "\t<tr><td>tree       </td><td>FALSE      </td><td>10         </td><td>0.9977206  </td><td>0.9927080  </td><td>0.9830357  </td><td>0.002908482</td><td>0.004613340</td><td>0.01293873 </td></tr>\n",
       "\t<tr><td>tree       </td><td>FALSE      </td><td>15         </td><td>0.9981071  </td><td>0.9947496  </td><td>0.9830357  </td><td>0.002430698</td><td>0.004919078</td><td>0.01068946 </td></tr>\n",
       "\t<tr><td>tree       </td><td>FALSE      </td><td>20         </td><td>0.9985496  </td><td>0.9947488  </td><td>0.9848214  </td><td>0.002035723</td><td>0.005110279</td><td>0.01194191 </td></tr>\n",
       "</tbody>\n",
       "</table>\n"
      ],
      "text/latex": [
       "\\begin{tabular}{r|lllllllll}\n",
       " model & winnow & trials & ROC & Sens & Spec & ROCSD & SensSD & SpecSD\\\\\n",
       "\\hline\n",
       "\t tree        & FALSE       &  1          & 0.9922397   & 0.9912519   & 0.9723214   & 0.004230720 & 0.004344831 & 0.01068946 \\\\\n",
       "\t tree        & FALSE       &  5          & 0.9963528   & 0.9909587   & 0.9794643   & 0.005427020 & 0.004227257 & 0.01035269 \\\\\n",
       "\t tree        & FALSE       & 10          & 0.9977206   & 0.9927080   & 0.9830357   & 0.002908482 & 0.004613340 & 0.01293873 \\\\\n",
       "\t tree        & FALSE       & 15          & 0.9981071   & 0.9947496   & 0.9830357   & 0.002430698 & 0.004919078 & 0.01068946 \\\\\n",
       "\t tree        & FALSE       & 20          & 0.9985496   & 0.9947488   & 0.9848214   & 0.002035723 & 0.005110279 & 0.01194191 \\\\\n",
       "\\end{tabular}\n"
      ],
      "text/markdown": [
       "\n",
       "model | winnow | trials | ROC | Sens | Spec | ROCSD | SensSD | SpecSD | \n",
       "|---|---|---|---|---|\n",
       "| tree        | FALSE       |  1          | 0.9922397   | 0.9912519   | 0.9723214   | 0.004230720 | 0.004344831 | 0.01068946  | \n",
       "| tree        | FALSE       |  5          | 0.9963528   | 0.9909587   | 0.9794643   | 0.005427020 | 0.004227257 | 0.01035269  | \n",
       "| tree        | FALSE       | 10          | 0.9977206   | 0.9927080   | 0.9830357   | 0.002908482 | 0.004613340 | 0.01293873  | \n",
       "| tree        | FALSE       | 15          | 0.9981071   | 0.9947496   | 0.9830357   | 0.002430698 | 0.004919078 | 0.01068946  | \n",
       "| tree        | FALSE       | 20          | 0.9985496   | 0.9947488   | 0.9848214   | 0.002035723 | 0.005110279 | 0.01194191  | \n",
       "\n",
       "\n"
      ],
      "text/plain": [
       "  model winnow trials ROC       Sens      Spec      ROCSD       SensSD     \n",
       "1 tree  FALSE   1     0.9922397 0.9912519 0.9723214 0.004230720 0.004344831\n",
       "2 tree  FALSE   5     0.9963528 0.9909587 0.9794643 0.005427020 0.004227257\n",
       "3 tree  FALSE  10     0.9977206 0.9927080 0.9830357 0.002908482 0.004613340\n",
       "4 tree  FALSE  15     0.9981071 0.9947496 0.9830357 0.002430698 0.004919078\n",
       "5 tree  FALSE  20     0.9985496 0.9947488 0.9848214 0.002035723 0.005110279\n",
       "  SpecSD    \n",
       "1 0.01068946\n",
       "2 0.01035269\n",
       "3 0.01293873\n",
       "4 0.01068946\n",
       "5 0.01194191"
      ]
     },
     "metadata": {},
     "output_type": "display_data"
    }
   ],
   "source": [
    "head(c5Tune$results)"
   ]
  },
  {
   "cell_type": "code",
   "execution_count": 40,
   "metadata": {},
   "outputs": [
    {
     "data": {
      "text/html": [
       "<table>\n",
       "<thead><tr><th></th><th scope=col>model</th><th scope=col>winnow</th><th scope=col>trials</th><th scope=col>ROC</th><th scope=col>Sens</th><th scope=col>Spec</th><th scope=col>ROCSD</th><th scope=col>SensSD</th><th scope=col>SpecSD</th></tr></thead>\n",
       "<tbody>\n",
       "\t<tr><th scope=row>5</th><td>tree       </td><td>FALSE      </td><td>20         </td><td>0.9985496  </td><td>0.9947488  </td><td>0.9848214  </td><td>0.002035723</td><td>0.005110279</td><td>0.01194191 </td></tr>\n",
       "</tbody>\n",
       "</table>\n"
      ],
      "text/latex": [
       "\\begin{tabular}{r|lllllllll}\n",
       "  & model & winnow & trials & ROC & Sens & Spec & ROCSD & SensSD & SpecSD\\\\\n",
       "\\hline\n",
       "\t5 & tree        & FALSE       & 20          & 0.9985496   & 0.9947488   & 0.9848214   & 0.002035723 & 0.005110279 & 0.01194191 \\\\\n",
       "\\end{tabular}\n"
      ],
      "text/markdown": [
       "\n",
       "| <!--/--> | model | winnow | trials | ROC | Sens | Spec | ROCSD | SensSD | SpecSD | \n",
       "|---|\n",
       "| 5 | tree        | FALSE       | 20          | 0.9985496   | 0.9947488   | 0.9848214   | 0.002035723 | 0.005110279 | 0.01194191  | \n",
       "\n",
       "\n"
      ],
      "text/plain": [
       "  model winnow trials ROC       Sens      Spec      ROCSD       SensSD     \n",
       "5 tree  FALSE  20     0.9985496 0.9947488 0.9848214 0.002035723 0.005110279\n",
       "  SpecSD    \n",
       "5 0.01194191"
      ]
     },
     "metadata": {},
     "output_type": "display_data"
    }
   ],
   "source": [
    "(c5Tune$results)[5,]"
   ]
  },
  {
   "cell_type": "code",
   "execution_count": 41,
   "metadata": {},
   "outputs": [
    {
     "data": {},
     "metadata": {},
     "output_type": "display_data"
    },
    {
     "data": {
      "image/png": "[encoded data removed]",
      "text/plain": [
       "plot without title"
      ]
     },
     "metadata": {},
     "output_type": "display_data"
    }
   ],
   "source": [
    "## Plot train tune\n",
    "plot(c5Tune)"
   ]
  },
  {
   "cell_type": "code",
   "execution_count": 42,
   "metadata": {},
   "outputs": [
    {
     "data": {
      "text/plain": [
       "Confusion Matrix and Statistics\n",
       "\n",
       "          Reference\n",
       "Prediction white  red\n",
       "     white  1468   12\n",
       "     red       1  467\n",
       "                                          \n",
       "               Accuracy : 0.9933          \n",
       "                 95% CI : (0.9886, 0.9964)\n",
       "    No Information Rate : 0.7541          \n",
       "    P-Value [Acc > NIR] : < 2.2e-16       \n",
       "                                          \n",
       "                  Kappa : 0.9819          \n",
       " Mcnemar's Test P-Value : 0.005546        \n",
       "                                          \n",
       "            Sensitivity : 0.9993          \n",
       "            Specificity : 0.9749          \n",
       "         Pos Pred Value : 0.9919          \n",
       "         Neg Pred Value : 0.9979          \n",
       "             Prevalence : 0.7541          \n",
       "         Detection Rate : 0.7536          \n",
       "   Detection Prevalence : 0.7598          \n",
       "      Balanced Accuracy : 0.9871          \n",
       "                                          \n",
       "       'Positive' Class : white           \n",
       "                                          "
      ]
     },
     "metadata": {},
     "output_type": "display_data"
    }
   ],
   "source": [
    "## Test Set Results\n",
    "c5Pred <- predict(c5Tune, testing, preProc = c(\"center\", \"scale\"))\n",
    "confusionMatrix(c5Pred, testing$Class)"
   ]
  },
  {
   "cell_type": "code",
   "execution_count": 43,
   "metadata": {},
   "outputs": [
    {
     "data": {
      "text/html": [
       "<table>\n",
       "<thead><tr><th></th><th scope=col>white</th><th scope=col>red</th></tr></thead>\n",
       "<tbody>\n",
       "\t<tr><th scope=row>1</th><td>1</td><td>0</td></tr>\n",
       "\t<tr><th scope=row>4</th><td>1</td><td>0</td></tr>\n",
       "\t<tr><th scope=row>5</th><td>1</td><td>0</td></tr>\n",
       "</tbody>\n",
       "</table>\n"
      ],
      "text/latex": [
       "\\begin{tabular}{r|ll}\n",
       "  & white & red\\\\\n",
       "\\hline\n",
       "\t1 & 1 & 0\\\\\n",
       "\t4 & 1 & 0\\\\\n",
       "\t5 & 1 & 0\\\\\n",
       "\\end{tabular}\n"
      ],
      "text/markdown": [
       "\n",
       "| <!--/--> | white | red | \n",
       "|---|---|---|\n",
       "| 1 | 1 | 0 | \n",
       "| 4 | 1 | 0 | \n",
       "| 5 | 1 | 0 | \n",
       "\n",
       "\n"
      ],
      "text/plain": [
       "  white red\n",
       "1 1     0  \n",
       "4 1     0  \n",
       "5 1     0  "
      ]
     },
     "metadata": {},
     "output_type": "display_data"
    }
   ],
   "source": [
    "## Predicting Class Probabilities\n",
    "c5Probs <- predict(c5Tune, testing, preProc = c(\"center\", \"scale\"), type = \"prob\")\n",
    "head(c5Probs, 3)"
   ]
  },
  {
   "cell_type": "code",
   "execution_count": 44,
   "metadata": {},
   "outputs": [
    {
     "data": {
      "text/plain": [
       "C5.0 variable importance\n",
       "\n",
       "                     Overall\n",
       "chlorides             100.00\n",
       "total.sulfur.dioxide  100.00\n",
       "volatile.acidity      100.00\n",
       "sulphates             100.00\n",
       "residual.sugar         99.49\n",
       "fixed.acidity          98.48\n",
       "alcohol                98.00\n",
       "pH                     95.60\n",
       "citric.acid            85.73\n",
       "quality                27.50"
      ]
     },
     "metadata": {},
     "output_type": "display_data"
    }
   ],
   "source": [
    "## variable importance\n",
    "c5.imp = varImp ( c5Tune , scale = F)\n",
    "c5.imp\n"
   ]
  },
  {
   "cell_type": "code",
   "execution_count": 45,
   "metadata": {},
   "outputs": [
    {
     "data": {},
     "metadata": {},
     "output_type": "display_data"
    },
    {
     "data": {
      "image/png": "[encoded data removed]",
      "text/plain": [
       "plot without title"
      ]
     },
     "metadata": {},
     "output_type": "display_data"
    }
   ],
   "source": [
    "## Graphic variable importance\n",
    "#dev.new()\n",
    "plot(c5.imp, top=10, main=\"10 Top Variable Importance - C5.0 Model\")"
   ]
  },
  {
   "cell_type": "markdown",
   "metadata": {},
   "source": [
    "### 43 Support Vector Machines (SVM)"
   ]
  },
  {
   "cell_type": "code",
   "execution_count": 46,
   "metadata": {
    "collapsed": true
   },
   "outputs": [],
   "source": [
    "## Control Resampling Technique: 10-fold CV\n",
    "cvCtrl <- trainControl(method = \"cv\", number=10, summaryFunction = twoClassSummary, classProbs = TRUE)"
   ]
  },
  {
   "cell_type": "code",
   "execution_count": 47,
   "metadata": {},
   "outputs": [
    {
     "name": "stderr",
     "output_type": "stream",
     "text": [
      "Loading required package: kernlab\n",
      "\n",
      "Attaching package: 'kernlab'\n",
      "\n",
      "The following object is masked from 'package:ggplot2':\n",
      "\n",
      "    alpha\n",
      "\n"
     ]
    }
   ],
   "source": [
    "## Construction Predictive Model\n",
    "set.seed(1)\n",
    "svmTune <- train(Class ~ ., data = training, method = \"svmRadial\", tuneLength = 9, preProc = c(\"center\", \"scale\"), metric = \"ROC\", trControl = cvCtrl)"
   ]
  },
  {
   "cell_type": "code",
   "execution_count": 48,
   "metadata": {},
   "outputs": [
    {
     "data": {
      "text/plain": [
       "Support Vector Machines with Radial Basis Function Kernel \n",
       "\n",
       "4549 samples\n",
       "  10 predictor\n",
       "   2 classes: 'white', 'red' \n",
       "\n",
       "Pre-processing: centered (10), scaled (10) \n",
       "Resampling: Cross-Validated (10 fold) \n",
       "Summary of sample sizes: 4094, 4094, 4095, 4094, 4094, 4094, ... \n",
       "Resampling results across tuning parameters:\n",
       "\n",
       "  C      ROC        Sens       Spec     \n",
       "   0.25  0.9978358  0.9959175  0.9857143\n",
       "   0.50  0.9980206  0.9965006  0.9866071\n",
       "   1.00  0.9980201  0.9965006  0.9866071\n",
       "   2.00  0.9983220  0.9967922  0.9875000\n",
       "   4.00  0.9987257  0.9973752  0.9857143\n",
       "   8.00  0.9989707  0.9976668  0.9866071\n",
       "  16.00  0.9991870  0.9970837  0.9821429\n",
       "  32.00  0.9990931  0.9967922  0.9794643\n",
       "  64.00  0.9990853  0.9970837  0.9803571\n",
       "\n",
       "Tuning parameter 'sigma' was held constant at a value of 0.08802895\n",
       "ROC was used to select the optimal model using  the largest value.\n",
       "The final values used for the model were sigma = 0.08802895 and C = 16."
      ]
     },
     "metadata": {},
     "output_type": "display_data"
    }
   ],
   "source": [
    "## train results\n",
    "svmTune"
   ]
  },
  {
   "cell_type": "code",
   "execution_count": 49,
   "metadata": {},
   "outputs": [
    {
     "data": {
      "text/html": [
       "<table>\n",
       "<thead><tr><th></th><th scope=col>sigma</th><th scope=col>C</th></tr></thead>\n",
       "<tbody>\n",
       "\t<tr><th scope=row>7</th><td>0.08802895</td><td>16        </td></tr>\n",
       "</tbody>\n",
       "</table>\n"
      ],
      "text/latex": [
       "\\begin{tabular}{r|ll}\n",
       "  & sigma & C\\\\\n",
       "\\hline\n",
       "\t7 & 0.08802895 & 16        \\\\\n",
       "\\end{tabular}\n"
      ],
      "text/markdown": [
       "\n",
       "| <!--/--> | sigma | C | \n",
       "|---|\n",
       "| 7 | 0.08802895 | 16         | \n",
       "\n",
       "\n"
      ],
      "text/plain": [
       "  sigma      C \n",
       "7 0.08802895 16"
      ]
     },
     "metadata": {},
     "output_type": "display_data"
    }
   ],
   "source": [
    "svmTune$bestTune"
   ]
  },
  {
   "cell_type": "code",
   "execution_count": 50,
   "metadata": {},
   "outputs": [
    {
     "data": {
      "text/html": [
       "<table>\n",
       "<thead><tr><th scope=col>sigma</th><th scope=col>C</th><th scope=col>ROC</th><th scope=col>Sens</th><th scope=col>Spec</th><th scope=col>ROCSD</th><th scope=col>SensSD</th><th scope=col>SpecSD</th></tr></thead>\n",
       "<tbody>\n",
       "\t<tr><td>0.08802895 </td><td>0.25       </td><td>0.9978358  </td><td>0.9959175  </td><td>0.9857143  </td><td>0.003002879</td><td>0.004599240</td><td>0.01048025 </td></tr>\n",
       "\t<tr><td>0.08802895 </td><td>0.50       </td><td>0.9980206  </td><td>0.9965006  </td><td>0.9866071  </td><td>0.002706658</td><td>0.004516477</td><td>0.01208934 </td></tr>\n",
       "\t<tr><td>0.08802895 </td><td>1.00       </td><td>0.9980201  </td><td>0.9965006  </td><td>0.9866071  </td><td>0.002587960</td><td>0.004516477</td><td>0.01208934 </td></tr>\n",
       "\t<tr><td>0.08802895 </td><td>2.00       </td><td>0.9983220  </td><td>0.9967922  </td><td>0.9875000  </td><td>0.002212474</td><td>0.003490356</td><td>0.01129385 </td></tr>\n",
       "\t<tr><td>0.08802895 </td><td>4.00       </td><td>0.9987257  </td><td>0.9973752  </td><td>0.9857143  </td><td>0.001670008</td><td>0.002151339</td><td>0.01276643 </td></tr>\n",
       "\t<tr><td>0.08802895 </td><td>8.00       </td><td>0.9989707  </td><td>0.9976668  </td><td>0.9866071  </td><td>0.001331752</td><td>0.002299981</td><td>0.01347528 </td></tr>\n",
       "</tbody>\n",
       "</table>\n"
      ],
      "text/latex": [
       "\\begin{tabular}{r|llllllll}\n",
       " sigma & C & ROC & Sens & Spec & ROCSD & SensSD & SpecSD\\\\\n",
       "\\hline\n",
       "\t 0.08802895  & 0.25        & 0.9978358   & 0.9959175   & 0.9857143   & 0.003002879 & 0.004599240 & 0.01048025 \\\\\n",
       "\t 0.08802895  & 0.50        & 0.9980206   & 0.9965006   & 0.9866071   & 0.002706658 & 0.004516477 & 0.01208934 \\\\\n",
       "\t 0.08802895  & 1.00        & 0.9980201   & 0.9965006   & 0.9866071   & 0.002587960 & 0.004516477 & 0.01208934 \\\\\n",
       "\t 0.08802895  & 2.00        & 0.9983220   & 0.9967922   & 0.9875000   & 0.002212474 & 0.003490356 & 0.01129385 \\\\\n",
       "\t 0.08802895  & 4.00        & 0.9987257   & 0.9973752   & 0.9857143   & 0.001670008 & 0.002151339 & 0.01276643 \\\\\n",
       "\t 0.08802895  & 8.00        & 0.9989707   & 0.9976668   & 0.9866071   & 0.001331752 & 0.002299981 & 0.01347528 \\\\\n",
       "\\end{tabular}\n"
      ],
      "text/markdown": [
       "\n",
       "sigma | C | ROC | Sens | Spec | ROCSD | SensSD | SpecSD | \n",
       "|---|---|---|---|---|---|\n",
       "| 0.08802895  | 0.25        | 0.9978358   | 0.9959175   | 0.9857143   | 0.003002879 | 0.004599240 | 0.01048025  | \n",
       "| 0.08802895  | 0.50        | 0.9980206   | 0.9965006   | 0.9866071   | 0.002706658 | 0.004516477 | 0.01208934  | \n",
       "| 0.08802895  | 1.00        | 0.9980201   | 0.9965006   | 0.9866071   | 0.002587960 | 0.004516477 | 0.01208934  | \n",
       "| 0.08802895  | 2.00        | 0.9983220   | 0.9967922   | 0.9875000   | 0.002212474 | 0.003490356 | 0.01129385  | \n",
       "| 0.08802895  | 4.00        | 0.9987257   | 0.9973752   | 0.9857143   | 0.001670008 | 0.002151339 | 0.01276643  | \n",
       "| 0.08802895  | 8.00        | 0.9989707   | 0.9976668   | 0.9866071   | 0.001331752 | 0.002299981 | 0.01347528  | \n",
       "\n",
       "\n"
      ],
      "text/plain": [
       "  sigma      C    ROC       Sens      Spec      ROCSD       SensSD     \n",
       "1 0.08802895 0.25 0.9978358 0.9959175 0.9857143 0.003002879 0.004599240\n",
       "2 0.08802895 0.50 0.9980206 0.9965006 0.9866071 0.002706658 0.004516477\n",
       "3 0.08802895 1.00 0.9980201 0.9965006 0.9866071 0.002587960 0.004516477\n",
       "4 0.08802895 2.00 0.9983220 0.9967922 0.9875000 0.002212474 0.003490356\n",
       "5 0.08802895 4.00 0.9987257 0.9973752 0.9857143 0.001670008 0.002151339\n",
       "6 0.08802895 8.00 0.9989707 0.9976668 0.9866071 0.001331752 0.002299981\n",
       "  SpecSD    \n",
       "1 0.01048025\n",
       "2 0.01208934\n",
       "3 0.01208934\n",
       "4 0.01129385\n",
       "5 0.01276643\n",
       "6 0.01347528"
      ]
     },
     "metadata": {},
     "output_type": "display_data"
    }
   ],
   "source": [
    "head(svmTune$results)"
   ]
  },
  {
   "cell_type": "code",
   "execution_count": 51,
   "metadata": {},
   "outputs": [
    {
     "data": {
      "text/html": [
       "<table>\n",
       "<thead><tr><th></th><th scope=col>sigma</th><th scope=col>C</th><th scope=col>ROC</th><th scope=col>Sens</th><th scope=col>Spec</th><th scope=col>ROCSD</th><th scope=col>SensSD</th><th scope=col>SpecSD</th></tr></thead>\n",
       "<tbody>\n",
       "\t<tr><th scope=row>7</th><td>0.08802895 </td><td>16         </td><td>0.999187   </td><td>0.9970837  </td><td>0.9821429  </td><td>0.000970579</td><td>0.003073157</td><td>0.01330993 </td></tr>\n",
       "</tbody>\n",
       "</table>\n"
      ],
      "text/latex": [
       "\\begin{tabular}{r|llllllll}\n",
       "  & sigma & C & ROC & Sens & Spec & ROCSD & SensSD & SpecSD\\\\\n",
       "\\hline\n",
       "\t7 & 0.08802895  & 16          & 0.999187    & 0.9970837   & 0.9821429   & 0.000970579 & 0.003073157 & 0.01330993 \\\\\n",
       "\\end{tabular}\n"
      ],
      "text/markdown": [
       "\n",
       "| <!--/--> | sigma | C | ROC | Sens | Spec | ROCSD | SensSD | SpecSD | \n",
       "|---|\n",
       "| 7 | 0.08802895  | 16          | 0.999187    | 0.9970837   | 0.9821429   | 0.000970579 | 0.003073157 | 0.01330993  | \n",
       "\n",
       "\n"
      ],
      "text/plain": [
       "  sigma      C  ROC      Sens      Spec      ROCSD       SensSD      SpecSD    \n",
       "7 0.08802895 16 0.999187 0.9970837 0.9821429 0.000970579 0.003073157 0.01330993"
      ]
     },
     "metadata": {},
     "output_type": "display_data"
    }
   ],
   "source": [
    "(svmTune$results)[7,]"
   ]
  },
  {
   "cell_type": "code",
   "execution_count": 52,
   "metadata": {
    "scrolled": false
   },
   "outputs": [
    {
     "data": {},
     "metadata": {},
     "output_type": "display_data"
    },
    {
     "data": {
      "image/png": "[encoded data removed]",
      "text/plain": [
       "plot without title"
      ]
     },
     "metadata": {},
     "output_type": "display_data"
    }
   ],
   "source": [
    "## Plot train tune\n",
    "plot(svmTune)"
   ]
  },
  {
   "cell_type": "code",
   "execution_count": 53,
   "metadata": {},
   "outputs": [
    {
     "data": {
      "text/plain": [
       "Confusion Matrix and Statistics\n",
       "\n",
       "          Reference\n",
       "Prediction white  red\n",
       "     white  1462   10\n",
       "     red       7  469\n",
       "                                          \n",
       "               Accuracy : 0.9913          \n",
       "                 95% CI : (0.9861, 0.9949)\n",
       "    No Information Rate : 0.7541          \n",
       "    P-Value [Acc > NIR] : <2e-16          \n",
       "                                          \n",
       "                  Kappa : 0.9764          \n",
       " Mcnemar's Test P-Value : 0.6276          \n",
       "                                          \n",
       "            Sensitivity : 0.9952          \n",
       "            Specificity : 0.9791          \n",
       "         Pos Pred Value : 0.9932          \n",
       "         Neg Pred Value : 0.9853          \n",
       "             Prevalence : 0.7541          \n",
       "         Detection Rate : 0.7505          \n",
       "   Detection Prevalence : 0.7556          \n",
       "      Balanced Accuracy : 0.9872          \n",
       "                                          \n",
       "       'Positive' Class : white           \n",
       "                                          "
      ]
     },
     "metadata": {},
     "output_type": "display_data"
    }
   ],
   "source": [
    "## Test Set Results\n",
    "svmPred <- predict(svmTune, testing, preProc = c(\"center\", \"scale\"))\n",
    "confusionMatrix(svmPred, testing$Class)"
   ]
  },
  {
   "cell_type": "code",
   "execution_count": 54,
   "metadata": {},
   "outputs": [
    {
     "data": {
      "text/html": [
       "<table>\n",
       "<thead><tr><th scope=col>white</th><th scope=col>red</th></tr></thead>\n",
       "<tbody>\n",
       "\t<tr><td>0.9999630   </td><td>3.702439e-05</td></tr>\n",
       "\t<tr><td>0.9997974   </td><td>2.025978e-04</td></tr>\n",
       "\t<tr><td>0.9997974   </td><td>2.025978e-04</td></tr>\n",
       "</tbody>\n",
       "</table>\n"
      ],
      "text/latex": [
       "\\begin{tabular}{r|ll}\n",
       " white & red\\\\\n",
       "\\hline\n",
       "\t 0.9999630    & 3.702439e-05\\\\\n",
       "\t 0.9997974    & 2.025978e-04\\\\\n",
       "\t 0.9997974    & 2.025978e-04\\\\\n",
       "\\end{tabular}\n"
      ],
      "text/markdown": [
       "\n",
       "white | red | \n",
       "|---|---|---|\n",
       "| 0.9999630    | 3.702439e-05 | \n",
       "| 0.9997974    | 2.025978e-04 | \n",
       "| 0.9997974    | 2.025978e-04 | \n",
       "\n",
       "\n"
      ],
      "text/plain": [
       "  white     red         \n",
       "1 0.9999630 3.702439e-05\n",
       "2 0.9997974 2.025978e-04\n",
       "3 0.9997974 2.025978e-04"
      ]
     },
     "metadata": {},
     "output_type": "display_data"
    }
   ],
   "source": [
    "## Predicting Class Probabilities\n",
    "svmProbs <- predict(svmTune, testing, preProc = c(\"center\", \"scale\"), type = \"prob\")\n",
    "head(svmProbs, 3)"
   ]
  },
  {
   "cell_type": "code",
   "execution_count": 55,
   "metadata": {},
   "outputs": [
    {
     "data": {
      "text/plain": [
       "ROC curve variable importance\n",
       "\n",
       "                     Importance\n",
       "total.sulfur.dioxide     0.9517\n",
       "chlorides                0.9477\n",
       "volatile.acidity         0.9080\n",
       "sulphates                0.8279\n",
       "fixed.acidity            0.7739\n",
       "pH                       0.7317\n",
       "residual.sugar           0.6731\n",
       "citric.acid              0.6175\n",
       "quality                  0.5858\n",
       "alcohol                  0.5123"
      ]
     },
     "metadata": {},
     "output_type": "display_data"
    }
   ],
   "source": [
    "## variable importance\n",
    "svm.imp = varImp ( svmTune , scale = F)\n",
    "svm.imp\n"
   ]
  },
  {
   "cell_type": "code",
   "execution_count": 56,
   "metadata": {},
   "outputs": [
    {
     "data": {},
     "metadata": {},
     "output_type": "display_data"
    },
    {
     "data": {
      "image/png": "[encoded data removed]",
      "text/plain": [
       "plot without title"
      ]
     },
     "metadata": {},
     "output_type": "display_data"
    }
   ],
   "source": [
    "## Graphic variable importance\n",
    "#dev.new()\n",
    "plot(svm.imp, top=10, main=\"10 Top Variable Importance - SVM Model\")"
   ]
  },
  {
   "cell_type": "markdown",
   "metadata": {},
   "source": [
    "### 44 K-Nearest Neighbors (KNN)"
   ]
  },
  {
   "cell_type": "code",
   "execution_count": 57,
   "metadata": {
    "collapsed": true
   },
   "outputs": [],
   "source": [
    "## Control Resampling Technique: 10-fold CV\n",
    "cvCtrl <- trainControl(method = \"cv\", number=10, summaryFunction = twoClassSummary, classProbs = TRUE)"
   ]
  },
  {
   "cell_type": "code",
   "execution_count": 58,
   "metadata": {
    "collapsed": true
   },
   "outputs": [],
   "source": [
    "## Construction Predictive Model\n",
    "set.seed(1)\n",
    "knnTune <- train ( Class ~ ., data = training, method = \"knn\", tuneLength = 10, preProc = c(\"center\", \"scale\"), metric= \"ROC\", trControl = cvCtrl)"
   ]
  },
  {
   "cell_type": "code",
   "execution_count": 59,
   "metadata": {},
   "outputs": [
    {
     "data": {
      "text/plain": [
       "k-Nearest Neighbors \n",
       "\n",
       "4549 samples\n",
       "  10 predictor\n",
       "   2 classes: 'white', 'red' \n",
       "\n",
       "Pre-processing: centered (10), scaled (10) \n",
       "Resampling: Cross-Validated (10 fold) \n",
       "Summary of sample sizes: 4094, 4094, 4095, 4094, 4094, 4094, ... \n",
       "Resampling results across tuning parameters:\n",
       "\n",
       "  k   ROC        Sens       Spec     \n",
       "   5  0.9945954  0.9944589  0.9875000\n",
       "   7  0.9952931  0.9932928  0.9857143\n",
       "   9  0.9962396  0.9930004  0.9857143\n",
       "  11  0.9962422  0.9924173  0.9866071\n",
       "  13  0.9962436  0.9927097  0.9875000\n",
       "  15  0.9963594  0.9938758  0.9857143\n",
       "  17  0.9971910  0.9938758  0.9857143\n",
       "  19  0.9971897  0.9935843  0.9857143\n",
       "  21  0.9971897  0.9935843  0.9839286\n",
       "  23  0.9976062  0.9935843  0.9848214\n",
       "\n",
       "ROC was used to select the optimal model using  the largest value.\n",
       "The final value used for the model was k = 23."
      ]
     },
     "metadata": {},
     "output_type": "display_data"
    }
   ],
   "source": [
    "## train results\n",
    "knnTune"
   ]
  },
  {
   "cell_type": "code",
   "execution_count": 60,
   "metadata": {},
   "outputs": [
    {
     "data": {
      "text/html": [
       "<table>\n",
       "<thead><tr><th></th><th scope=col>k</th></tr></thead>\n",
       "<tbody>\n",
       "\t<tr><th scope=row>10</th><td>23</td></tr>\n",
       "</tbody>\n",
       "</table>\n"
      ],
      "text/latex": [
       "\\begin{tabular}{r|l}\n",
       "  & k\\\\\n",
       "\\hline\n",
       "\t10 & 23\\\\\n",
       "\\end{tabular}\n"
      ],
      "text/markdown": [
       "\n",
       "| <!--/--> | k | \n",
       "|---|\n",
       "| 10 | 23 | \n",
       "\n",
       "\n"
      ],
      "text/plain": [
       "   k \n",
       "10 23"
      ]
     },
     "metadata": {},
     "output_type": "display_data"
    }
   ],
   "source": [
    "knnTune$bestTune"
   ]
  },
  {
   "cell_type": "code",
   "execution_count": 61,
   "metadata": {},
   "outputs": [
    {
     "data": {
      "text/html": [
       "<table>\n",
       "<thead><tr><th scope=col>k</th><th scope=col>ROC</th><th scope=col>Sens</th><th scope=col>Spec</th><th scope=col>ROCSD</th><th scope=col>SensSD</th><th scope=col>SpecSD</th></tr></thead>\n",
       "<tbody>\n",
       "\t<tr><td> 5         </td><td>0.9945954  </td><td>0.9944589  </td><td>0.9875000  </td><td>0.006074232</td><td>0.005574302</td><td>0.01205265 </td></tr>\n",
       "\t<tr><td> 7         </td><td>0.9952931  </td><td>0.9932928  </td><td>0.9857143  </td><td>0.005261859</td><td>0.005505714</td><td>0.01129385 </td></tr>\n",
       "\t<tr><td> 9         </td><td>0.9962396  </td><td>0.9930004  </td><td>0.9857143  </td><td>0.004544567</td><td>0.004801466</td><td>0.01205265 </td></tr>\n",
       "\t<tr><td>11         </td><td>0.9962422  </td><td>0.9924173  </td><td>0.9866071  </td><td>0.004571676</td><td>0.005358855</td><td>0.01133300 </td></tr>\n",
       "\t<tr><td>13         </td><td>0.9962436  </td><td>0.9927097  </td><td>0.9875000  </td><td>0.004567931</td><td>0.005366525</td><td>0.01205265 </td></tr>\n",
       "\t<tr><td>15         </td><td>0.9963594  </td><td>0.9938758  </td><td>0.9857143  </td><td>0.004283248</td><td>0.005903249</td><td>0.01205265 </td></tr>\n",
       "</tbody>\n",
       "</table>\n"
      ],
      "text/latex": [
       "\\begin{tabular}{r|lllllll}\n",
       " k & ROC & Sens & Spec & ROCSD & SensSD & SpecSD\\\\\n",
       "\\hline\n",
       "\t  5          & 0.9945954   & 0.9944589   & 0.9875000   & 0.006074232 & 0.005574302 & 0.01205265 \\\\\n",
       "\t  7          & 0.9952931   & 0.9932928   & 0.9857143   & 0.005261859 & 0.005505714 & 0.01129385 \\\\\n",
       "\t  9          & 0.9962396   & 0.9930004   & 0.9857143   & 0.004544567 & 0.004801466 & 0.01205265 \\\\\n",
       "\t 11          & 0.9962422   & 0.9924173   & 0.9866071   & 0.004571676 & 0.005358855 & 0.01133300 \\\\\n",
       "\t 13          & 0.9962436   & 0.9927097   & 0.9875000   & 0.004567931 & 0.005366525 & 0.01205265 \\\\\n",
       "\t 15          & 0.9963594   & 0.9938758   & 0.9857143   & 0.004283248 & 0.005903249 & 0.01205265 \\\\\n",
       "\\end{tabular}\n"
      ],
      "text/markdown": [
       "\n",
       "k | ROC | Sens | Spec | ROCSD | SensSD | SpecSD | \n",
       "|---|---|---|---|---|---|\n",
       "|  5          | 0.9945954   | 0.9944589   | 0.9875000   | 0.006074232 | 0.005574302 | 0.01205265  | \n",
       "|  7          | 0.9952931   | 0.9932928   | 0.9857143   | 0.005261859 | 0.005505714 | 0.01129385  | \n",
       "|  9          | 0.9962396   | 0.9930004   | 0.9857143   | 0.004544567 | 0.004801466 | 0.01205265  | \n",
       "| 11          | 0.9962422   | 0.9924173   | 0.9866071   | 0.004571676 | 0.005358855 | 0.01133300  | \n",
       "| 13          | 0.9962436   | 0.9927097   | 0.9875000   | 0.004567931 | 0.005366525 | 0.01205265  | \n",
       "| 15          | 0.9963594   | 0.9938758   | 0.9857143   | 0.004283248 | 0.005903249 | 0.01205265  | \n",
       "\n",
       "\n"
      ],
      "text/plain": [
       "  k  ROC       Sens      Spec      ROCSD       SensSD      SpecSD    \n",
       "1  5 0.9945954 0.9944589 0.9875000 0.006074232 0.005574302 0.01205265\n",
       "2  7 0.9952931 0.9932928 0.9857143 0.005261859 0.005505714 0.01129385\n",
       "3  9 0.9962396 0.9930004 0.9857143 0.004544567 0.004801466 0.01205265\n",
       "4 11 0.9962422 0.9924173 0.9866071 0.004571676 0.005358855 0.01133300\n",
       "5 13 0.9962436 0.9927097 0.9875000 0.004567931 0.005366525 0.01205265\n",
       "6 15 0.9963594 0.9938758 0.9857143 0.004283248 0.005903249 0.01205265"
      ]
     },
     "metadata": {},
     "output_type": "display_data"
    }
   ],
   "source": [
    "head(knnTune$results)"
   ]
  },
  {
   "cell_type": "code",
   "execution_count": 62,
   "metadata": {},
   "outputs": [
    {
     "data": {
      "text/html": [
       "<table>\n",
       "<thead><tr><th></th><th scope=col>k</th><th scope=col>ROC</th><th scope=col>Sens</th><th scope=col>Spec</th><th scope=col>ROCSD</th><th scope=col>SensSD</th><th scope=col>SpecSD</th></tr></thead>\n",
       "<tbody>\n",
       "\t<tr><th scope=row>10</th><td>23         </td><td>0.9976062  </td><td>0.9935843  </td><td>0.9848214  </td><td>0.003939684</td><td>0.005798231</td><td>0.01266193 </td></tr>\n",
       "</tbody>\n",
       "</table>\n"
      ],
      "text/latex": [
       "\\begin{tabular}{r|lllllll}\n",
       "  & k & ROC & Sens & Spec & ROCSD & SensSD & SpecSD\\\\\n",
       "\\hline\n",
       "\t10 & 23          & 0.9976062   & 0.9935843   & 0.9848214   & 0.003939684 & 0.005798231 & 0.01266193 \\\\\n",
       "\\end{tabular}\n"
      ],
      "text/markdown": [
       "\n",
       "| <!--/--> | k | ROC | Sens | Spec | ROCSD | SensSD | SpecSD | \n",
       "|---|\n",
       "| 10 | 23          | 0.9976062   | 0.9935843   | 0.9848214   | 0.003939684 | 0.005798231 | 0.01266193  | \n",
       "\n",
       "\n"
      ],
      "text/plain": [
       "   k  ROC       Sens      Spec      ROCSD       SensSD      SpecSD    \n",
       "10 23 0.9976062 0.9935843 0.9848214 0.003939684 0.005798231 0.01266193"
      ]
     },
     "metadata": {},
     "output_type": "display_data"
    }
   ],
   "source": [
    "(knnTune$results)[10,]"
   ]
  },
  {
   "cell_type": "code",
   "execution_count": 63,
   "metadata": {},
   "outputs": [
    {
     "data": {},
     "metadata": {},
     "output_type": "display_data"
    },
    {
     "data": {
      "image/png": "[encoded data removed]",
      "text/plain": [
       "plot without title"
      ]
     },
     "metadata": {},
     "output_type": "display_data"
    }
   ],
   "source": [
    "## Plot train tune\n",
    "plot(knnTune)"
   ]
  },
  {
   "cell_type": "code",
   "execution_count": 64,
   "metadata": {},
   "outputs": [
    {
     "data": {
      "text/plain": [
       "Confusion Matrix and Statistics\n",
       "\n",
       "          Reference\n",
       "Prediction white  red\n",
       "     white  1460   12\n",
       "     red       9  467\n",
       "                                          \n",
       "               Accuracy : 0.9892          \n",
       "                 95% CI : (0.9836, 0.9933)\n",
       "    No Information Rate : 0.7541          \n",
       "    P-Value [Acc > NIR] : <2e-16          \n",
       "                                          \n",
       "                  Kappa : 0.9709          \n",
       " Mcnemar's Test P-Value : 0.6625          \n",
       "                                          \n",
       "            Sensitivity : 0.9939          \n",
       "            Specificity : 0.9749          \n",
       "         Pos Pred Value : 0.9918          \n",
       "         Neg Pred Value : 0.9811          \n",
       "             Prevalence : 0.7541          \n",
       "         Detection Rate : 0.7495          \n",
       "   Detection Prevalence : 0.7556          \n",
       "      Balanced Accuracy : 0.9844          \n",
       "                                          \n",
       "       'Positive' Class : white           \n",
       "                                          "
      ]
     },
     "metadata": {},
     "output_type": "display_data"
    }
   ],
   "source": [
    "## Test Set Results\n",
    "knnPred <- predict(knnTune, testing, preProc = c(\"center\", \"scale\"))\n",
    "confusionMatrix(knnPred, testing$Class)"
   ]
  },
  {
   "cell_type": "code",
   "execution_count": 65,
   "metadata": {},
   "outputs": [
    {
     "data": {
      "text/html": [
       "<table>\n",
       "<thead><tr><th scope=col>white</th><th scope=col>red</th></tr></thead>\n",
       "<tbody>\n",
       "\t<tr><td>1</td><td>0</td></tr>\n",
       "\t<tr><td>1</td><td>0</td></tr>\n",
       "\t<tr><td>1</td><td>0</td></tr>\n",
       "</tbody>\n",
       "</table>\n"
      ],
      "text/latex": [
       "\\begin{tabular}{r|ll}\n",
       " white & red\\\\\n",
       "\\hline\n",
       "\t 1 & 0\\\\\n",
       "\t 1 & 0\\\\\n",
       "\t 1 & 0\\\\\n",
       "\\end{tabular}\n"
      ],
      "text/markdown": [
       "\n",
       "white | red | \n",
       "|---|---|---|\n",
       "| 1 | 0 | \n",
       "| 1 | 0 | \n",
       "| 1 | 0 | \n",
       "\n",
       "\n"
      ],
      "text/plain": [
       "  white red\n",
       "1 1     0  \n",
       "2 1     0  \n",
       "3 1     0  "
      ]
     },
     "metadata": {},
     "output_type": "display_data"
    }
   ],
   "source": [
    "## Predicting Class Probabilities\n",
    "knnProbs <- predict(knnTune, testing, preProc = c(\"center\", \"scale\"), type = \"prob\")\n",
    "head(knnProbs, 3)"
   ]
  },
  {
   "cell_type": "code",
   "execution_count": 66,
   "metadata": {},
   "outputs": [
    {
     "data": {
      "text/plain": [
       "ROC curve variable importance\n",
       "\n",
       "                     Importance\n",
       "total.sulfur.dioxide     0.9517\n",
       "chlorides                0.9477\n",
       "volatile.acidity         0.9080\n",
       "sulphates                0.8279\n",
       "fixed.acidity            0.7739\n",
       "pH                       0.7317\n",
       "residual.sugar           0.6731\n",
       "citric.acid              0.6175\n",
       "quality                  0.5858\n",
       "alcohol                  0.5123"
      ]
     },
     "metadata": {},
     "output_type": "display_data"
    }
   ],
   "source": [
    "## variable importance\n",
    "knn.imp = varImp ( knnTune , scale = F)\n",
    "knn.imp"
   ]
  },
  {
   "cell_type": "code",
   "execution_count": 67,
   "metadata": {},
   "outputs": [
    {
     "data": {},
     "metadata": {},
     "output_type": "display_data"
    },
    {
     "data": {
      "image/png": "[encoded data removed]",
      "text/plain": [
       "plot without title"
      ]
     },
     "metadata": {},
     "output_type": "display_data"
    }
   ],
   "source": [
    "## Graphic variable importance\n",
    "#dev.new()\n",
    "plot(knn.imp, top=10, main=\"10 Top Variable Importance - K-Nearest Neighbors (KNN) Model\")"
   ]
  },
  {
   "cell_type": "markdown",
   "metadata": {
    "collapsed": true
   },
   "source": [
    "### 45 Random Forest (RF)"
   ]
  },
  {
   "cell_type": "code",
   "execution_count": 68,
   "metadata": {
    "collapsed": true
   },
   "outputs": [],
   "source": [
    "## Control Resampling Technique: 10-fold CV\n",
    "cvCtrl <- trainControl(method = \"cv\", number=10, summaryFunction = twoClassSummary, classProbs = TRUE, search=\"grid\")"
   ]
  },
  {
   "cell_type": "code",
   "execution_count": 69,
   "metadata": {
    "scrolled": true
   },
   "outputs": [
    {
     "name": "stderr",
     "output_type": "stream",
     "text": [
      "Loading required package: randomForest\n",
      "randomForest 4.6-12\n",
      "Type rfNews() to see new features/changes/bug fixes.\n",
      "\n",
      "Attaching package: 'randomForest'\n",
      "\n",
      "The following object is masked from 'package:ggplot2':\n",
      "\n",
      "    margin\n",
      "\n",
      "The following object is masked from 'package:dplyr':\n",
      "\n",
      "    combine\n",
      "\n"
     ]
    }
   ],
   "source": [
    "## Construction Predictive Model\n",
    "set.seed(1)\n",
    "rfGrid <- expand.grid ( .mtry = c (1:6 ) )\n",
    "rfTune <- train ( Class ~ ., data = training, method = \"rf\", tuneGrid = rfGrid, ntree = 1000, preProc = c(\"center\", \"scale\"), metric= \"ROC\", trControl = cvCtrl)"
   ]
  },
  {
   "cell_type": "code",
   "execution_count": 70,
   "metadata": {},
   "outputs": [
    {
     "data": {
      "text/plain": [
       "Random Forest \n",
       "\n",
       "4549 samples\n",
       "  10 predictor\n",
       "   2 classes: 'white', 'red' \n",
       "\n",
       "Pre-processing: centered (10), scaled (10) \n",
       "Resampling: Cross-Validated (10 fold) \n",
       "Summary of sample sizes: 4094, 4094, 4095, 4094, 4094, 4094, ... \n",
       "Resampling results across tuning parameters:\n",
       "\n",
       "  mtry  ROC        Sens       Spec     \n",
       "  1     0.9988502  0.9982499  0.9821429\n",
       "  2     0.9991128  0.9976668  0.9821429\n",
       "  3     0.9991651  0.9964998  0.9848214\n",
       "  4     0.9989841  0.9964998  0.9839286\n",
       "  5     0.9985336  0.9962082  0.9839286\n",
       "  6     0.9987927  0.9956251  0.9830357\n",
       "\n",
       "ROC was used to select the optimal model using  the largest value.\n",
       "The final value used for the model was mtry = 3."
      ]
     },
     "metadata": {},
     "output_type": "display_data"
    }
   ],
   "source": [
    "## train results\n",
    "rfTune"
   ]
  },
  {
   "cell_type": "code",
   "execution_count": 71,
   "metadata": {},
   "outputs": [
    {
     "data": {
      "text/html": [
       "<table>\n",
       "<thead><tr><th></th><th scope=col>mtry</th></tr></thead>\n",
       "<tbody>\n",
       "\t<tr><th scope=row>3</th><td>3</td></tr>\n",
       "</tbody>\n",
       "</table>\n"
      ],
      "text/latex": [
       "\\begin{tabular}{r|l}\n",
       "  & mtry\\\\\n",
       "\\hline\n",
       "\t3 & 3\\\\\n",
       "\\end{tabular}\n"
      ],
      "text/markdown": [
       "\n",
       "| <!--/--> | mtry | \n",
       "|---|\n",
       "| 3 | 3 | \n",
       "\n",
       "\n"
      ],
      "text/plain": [
       "  mtry\n",
       "3 3   "
      ]
     },
     "metadata": {},
     "output_type": "display_data"
    }
   ],
   "source": [
    "rfTune$bestTune"
   ]
  },
  {
   "cell_type": "code",
   "execution_count": 72,
   "metadata": {},
   "outputs": [
    {
     "data": {
      "text/html": [
       "<table>\n",
       "<thead><tr><th scope=col>mtry</th><th scope=col>ROC</th><th scope=col>Sens</th><th scope=col>Spec</th><th scope=col>ROCSD</th><th scope=col>SensSD</th><th scope=col>SpecSD</th></tr></thead>\n",
       "<tbody>\n",
       "\t<tr><td>1          </td><td>0.9988502  </td><td>0.9982499  </td><td>0.9821429  </td><td>0.002015290</td><td>0.003134370</td><td>0.011904762</td></tr>\n",
       "\t<tr><td>2          </td><td>0.9991128  </td><td>0.9976668  </td><td>0.9821429  </td><td>0.001290093</td><td>0.003011250</td><td>0.011135885</td></tr>\n",
       "\t<tr><td>3          </td><td>0.9991651  </td><td>0.9964998  </td><td>0.9848214  </td><td>0.001069652</td><td>0.004517580</td><td>0.009458481</td></tr>\n",
       "\t<tr><td>4          </td><td>0.9989841  </td><td>0.9964998  </td><td>0.9839286  </td><td>0.001424089</td><td>0.004517580</td><td>0.009221389</td></tr>\n",
       "\t<tr><td>5          </td><td>0.9985336  </td><td>0.9962082  </td><td>0.9839286  </td><td>0.002229412</td><td>0.004569424</td><td>0.009221389</td></tr>\n",
       "\t<tr><td>6          </td><td>0.9987927  </td><td>0.9956251  </td><td>0.9830357  </td><td>0.001303116</td><td>0.005367554</td><td>0.008878830</td></tr>\n",
       "</tbody>\n",
       "</table>\n"
      ],
      "text/latex": [
       "\\begin{tabular}{r|lllllll}\n",
       " mtry & ROC & Sens & Spec & ROCSD & SensSD & SpecSD\\\\\n",
       "\\hline\n",
       "\t 1           & 0.9988502   & 0.9982499   & 0.9821429   & 0.002015290 & 0.003134370 & 0.011904762\\\\\n",
       "\t 2           & 0.9991128   & 0.9976668   & 0.9821429   & 0.001290093 & 0.003011250 & 0.011135885\\\\\n",
       "\t 3           & 0.9991651   & 0.9964998   & 0.9848214   & 0.001069652 & 0.004517580 & 0.009458481\\\\\n",
       "\t 4           & 0.9989841   & 0.9964998   & 0.9839286   & 0.001424089 & 0.004517580 & 0.009221389\\\\\n",
       "\t 5           & 0.9985336   & 0.9962082   & 0.9839286   & 0.002229412 & 0.004569424 & 0.009221389\\\\\n",
       "\t 6           & 0.9987927   & 0.9956251   & 0.9830357   & 0.001303116 & 0.005367554 & 0.008878830\\\\\n",
       "\\end{tabular}\n"
      ],
      "text/markdown": [
       "\n",
       "mtry | ROC | Sens | Spec | ROCSD | SensSD | SpecSD | \n",
       "|---|---|---|---|---|---|\n",
       "| 1           | 0.9988502   | 0.9982499   | 0.9821429   | 0.002015290 | 0.003134370 | 0.011904762 | \n",
       "| 2           | 0.9991128   | 0.9976668   | 0.9821429   | 0.001290093 | 0.003011250 | 0.011135885 | \n",
       "| 3           | 0.9991651   | 0.9964998   | 0.9848214   | 0.001069652 | 0.004517580 | 0.009458481 | \n",
       "| 4           | 0.9989841   | 0.9964998   | 0.9839286   | 0.001424089 | 0.004517580 | 0.009221389 | \n",
       "| 5           | 0.9985336   | 0.9962082   | 0.9839286   | 0.002229412 | 0.004569424 | 0.009221389 | \n",
       "| 6           | 0.9987927   | 0.9956251   | 0.9830357   | 0.001303116 | 0.005367554 | 0.008878830 | \n",
       "\n",
       "\n"
      ],
      "text/plain": [
       "  mtry ROC       Sens      Spec      ROCSD       SensSD      SpecSD     \n",
       "1 1    0.9988502 0.9982499 0.9821429 0.002015290 0.003134370 0.011904762\n",
       "2 2    0.9991128 0.9976668 0.9821429 0.001290093 0.003011250 0.011135885\n",
       "3 3    0.9991651 0.9964998 0.9848214 0.001069652 0.004517580 0.009458481\n",
       "4 4    0.9989841 0.9964998 0.9839286 0.001424089 0.004517580 0.009221389\n",
       "5 5    0.9985336 0.9962082 0.9839286 0.002229412 0.004569424 0.009221389\n",
       "6 6    0.9987927 0.9956251 0.9830357 0.001303116 0.005367554 0.008878830"
      ]
     },
     "metadata": {},
     "output_type": "display_data"
    }
   ],
   "source": [
    "head(rfTune$results)"
   ]
  },
  {
   "cell_type": "code",
   "execution_count": 73,
   "metadata": {},
   "outputs": [
    {
     "data": {
      "text/html": [
       "<table>\n",
       "<thead><tr><th></th><th scope=col>mtry</th><th scope=col>ROC</th><th scope=col>Sens</th><th scope=col>Spec</th><th scope=col>ROCSD</th><th scope=col>SensSD</th><th scope=col>SpecSD</th></tr></thead>\n",
       "<tbody>\n",
       "\t<tr><th scope=row>3</th><td>3          </td><td>0.9991651  </td><td>0.9964998  </td><td>0.9848214  </td><td>0.001069652</td><td>0.00451758 </td><td>0.009458481</td></tr>\n",
       "</tbody>\n",
       "</table>\n"
      ],
      "text/latex": [
       "\\begin{tabular}{r|lllllll}\n",
       "  & mtry & ROC & Sens & Spec & ROCSD & SensSD & SpecSD\\\\\n",
       "\\hline\n",
       "\t3 & 3           & 0.9991651   & 0.9964998   & 0.9848214   & 0.001069652 & 0.00451758  & 0.009458481\\\\\n",
       "\\end{tabular}\n"
      ],
      "text/markdown": [
       "\n",
       "| <!--/--> | mtry | ROC | Sens | Spec | ROCSD | SensSD | SpecSD | \n",
       "|---|\n",
       "| 3 | 3           | 0.9991651   | 0.9964998   | 0.9848214   | 0.001069652 | 0.00451758  | 0.009458481 | \n",
       "\n",
       "\n"
      ],
      "text/plain": [
       "  mtry ROC       Sens      Spec      ROCSD       SensSD     SpecSD     \n",
       "3 3    0.9991651 0.9964998 0.9848214 0.001069652 0.00451758 0.009458481"
      ]
     },
     "metadata": {},
     "output_type": "display_data"
    }
   ],
   "source": [
    "(rfTune$results)[3,]"
   ]
  },
  {
   "cell_type": "code",
   "execution_count": 74,
   "metadata": {},
   "outputs": [
    {
     "data": {},
     "metadata": {},
     "output_type": "display_data"
    },
    {
     "data": {
      "image/png": "[encoded data removed]",
      "text/plain": [
       "plot without title"
      ]
     },
     "metadata": {},
     "output_type": "display_data"
    }
   ],
   "source": [
    "## Plot train tune\n",
    "plot(rfTune)"
   ]
  },
  {
   "cell_type": "code",
   "execution_count": 75,
   "metadata": {},
   "outputs": [
    {
     "data": {
      "text/plain": [
       "Confusion Matrix and Statistics\n",
       "\n",
       "          Reference\n",
       "Prediction white  red\n",
       "     white  1464   13\n",
       "     red       5  466\n",
       "                                          \n",
       "               Accuracy : 0.9908          \n",
       "                 95% CI : (0.9854, 0.9945)\n",
       "    No Information Rate : 0.7541          \n",
       "    P-Value [Acc > NIR] : < 2e-16         \n",
       "                                          \n",
       "                  Kappa : 0.9749          \n",
       " Mcnemar's Test P-Value : 0.09896         \n",
       "                                          \n",
       "            Sensitivity : 0.9966          \n",
       "            Specificity : 0.9729          \n",
       "         Pos Pred Value : 0.9912          \n",
       "         Neg Pred Value : 0.9894          \n",
       "             Prevalence : 0.7541          \n",
       "         Detection Rate : 0.7515          \n",
       "   Detection Prevalence : 0.7582          \n",
       "      Balanced Accuracy : 0.9847          \n",
       "                                          \n",
       "       'Positive' Class : white           \n",
       "                                          "
      ]
     },
     "metadata": {},
     "output_type": "display_data"
    }
   ],
   "source": [
    "## Test Set Results\n",
    "rfPred <- predict(rfTune, testing, preProc = c(\"center\", \"scale\"))\n",
    "confusionMatrix(rfPred, testing$Class)"
   ]
  },
  {
   "cell_type": "code",
   "execution_count": 76,
   "metadata": {},
   "outputs": [
    {
     "data": {
      "text/html": [
       "<table>\n",
       "<thead><tr><th></th><th scope=col>white</th><th scope=col>red</th></tr></thead>\n",
       "<tbody>\n",
       "\t<tr><th scope=row>1</th><td>1</td><td>0</td></tr>\n",
       "\t<tr><th scope=row>4</th><td>1</td><td>0</td></tr>\n",
       "\t<tr><th scope=row>5</th><td>1</td><td>0</td></tr>\n",
       "</tbody>\n",
       "</table>\n"
      ],
      "text/latex": [
       "\\begin{tabular}{r|ll}\n",
       "  & white & red\\\\\n",
       "\\hline\n",
       "\t1 & 1 & 0\\\\\n",
       "\t4 & 1 & 0\\\\\n",
       "\t5 & 1 & 0\\\\\n",
       "\\end{tabular}\n"
      ],
      "text/markdown": [
       "\n",
       "| <!--/--> | white | red | \n",
       "|---|---|---|\n",
       "| 1 | 1 | 0 | \n",
       "| 4 | 1 | 0 | \n",
       "| 5 | 1 | 0 | \n",
       "\n",
       "\n"
      ],
      "text/plain": [
       "  white red\n",
       "1 1     0  \n",
       "4 1     0  \n",
       "5 1     0  "
      ]
     },
     "metadata": {},
     "output_type": "display_data"
    }
   ],
   "source": [
    "## Predicting Class Probabilities\n",
    "rfProbs <- predict(rfTune, testing, preProc = c(\"center\", \"scale\"), type = \"prob\")\n",
    "head(rfProbs, 3)"
   ]
  },
  {
   "cell_type": "code",
   "execution_count": 77,
   "metadata": {},
   "outputs": [
    {
     "data": {
      "text/plain": [
       "rf variable importance\n",
       "\n",
       "                     Overall\n",
       "total.sulfur.dioxide  550.16\n",
       "chlorides             512.72\n",
       "volatile.acidity      235.75\n",
       "sulphates             119.08\n",
       "residual.sugar         81.81\n",
       "fixed.acidity          79.98\n",
       "pH                     41.89\n",
       "citric.acid            41.27\n",
       "alcohol                19.31\n",
       "quality                 5.49"
      ]
     },
     "metadata": {},
     "output_type": "display_data"
    }
   ],
   "source": [
    "## variable importance\n",
    "rf.imp = varImp ( rfTune , scale = F)\n",
    "rf.imp"
   ]
  },
  {
   "cell_type": "code",
   "execution_count": 78,
   "metadata": {},
   "outputs": [
    {
     "data": {},
     "metadata": {},
     "output_type": "display_data"
    },
    {
     "data": {
      "image/png": "[encoded data removed]",
      "text/plain": [
       "plot without title"
      ]
     },
     "metadata": {},
     "output_type": "display_data"
    }
   ],
   "source": [
    "## Graphic variable importance\n",
    "#dev.new()\n",
    "plot(rf.imp, top=10, main=\"10 Top Variable Importance - Random Forest (RF) Model\")"
   ]
  },
  {
   "cell_type": "markdown",
   "metadata": {},
   "source": [
    "## V Selecting best model\n",
    " \n",
    "I have considered nonlinear (CART, C5 BOOSTED TREE, SVM, KNN, and RF) algorithms. I reset the random number seed before each run to ensure that the evaluation of each algorithm is performed using exactly the same data splits. It ensures the results are directly comparable. \n",
    " \n",
    "We now have 5 models and we need to compare them to each other and select the one with better ROC metric performance.\n",
    "\n",
    "The k-fold cross-validation method for the metrics was set in k=10. The following table presents the ROC metric measures across the 5 models."
   ]
  },
  {
   "cell_type": "code",
   "execution_count": 79,
   "metadata": {},
   "outputs": [
    {
     "data": {
      "text/html": [
       "<table>\n",
       "<thead><tr><th></th><th scope=col>ROC</th><th scope=col>Sensitivity</th><th scope=col>Specificity</th><th scope=col>Sd(ROC)</th><th scope=col>Sd(Sensitivity)</th><th scope=col>Sd(Specificity)</th></tr></thead>\n",
       "<tbody>\n",
       "\t<tr><th scope=row>CART</th><td>0.987772</td><td>0.9843  </td><td>0.9607  </td><td>0.0078  </td><td>0.0118  </td><td>0.0134  </td></tr>\n",
       "\t<tr><th scope=row>c5Boost</th><td>0.998550</td><td>0.9947  </td><td>0.9848  </td><td>0.0020  </td><td>0.0051  </td><td>0.0119  </td></tr>\n",
       "\t<tr><th scope=row>SVM</th><td>0.999187</td><td>0.9971  </td><td>0.9821  </td><td>0.0010  </td><td>0.0031  </td><td>0.0133  </td></tr>\n",
       "\t<tr><th scope=row>KNN</th><td>0.997606</td><td>0.9936  </td><td>0.9848  </td><td>0.0039  </td><td>0.0058  </td><td>0.0127  </td></tr>\n",
       "\t<tr><th scope=row>RF</th><td>0.999165</td><td>0.9965  </td><td>0.9848  </td><td>0.0011  </td><td>0.0045  </td><td>0.0095  </td></tr>\n",
       "</tbody>\n",
       "</table>\n"
      ],
      "text/latex": [
       "\\begin{tabular}{r|llllll}\n",
       "  & ROC & Sensitivity & Specificity & Sd(ROC) & Sd(Sensitivity) & Sd(Specificity)\\\\\n",
       "\\hline\n",
       "\tCART & 0.987772 & 0.9843   & 0.9607   & 0.0078   & 0.0118   & 0.0134  \\\\\n",
       "\tc5Boost & 0.998550 & 0.9947   & 0.9848   & 0.0020   & 0.0051   & 0.0119  \\\\\n",
       "\tSVM & 0.999187 & 0.9971   & 0.9821   & 0.0010   & 0.0031   & 0.0133  \\\\\n",
       "\tKNN & 0.997606 & 0.9936   & 0.9848   & 0.0039   & 0.0058   & 0.0127  \\\\\n",
       "\tRF & 0.999165 & 0.9965   & 0.9848   & 0.0011   & 0.0045   & 0.0095  \\\\\n",
       "\\end{tabular}\n"
      ],
      "text/markdown": [
       "\n",
       "| <!--/--> | ROC | Sensitivity | Specificity | Sd(ROC) | Sd(Sensitivity) | Sd(Specificity) | \n",
       "|---|---|---|---|---|\n",
       "| CART | 0.987772 | 0.9843   | 0.9607   | 0.0078   | 0.0118   | 0.0134   | \n",
       "| c5Boost | 0.998550 | 0.9947   | 0.9848   | 0.0020   | 0.0051   | 0.0119   | \n",
       "| SVM | 0.999187 | 0.9971   | 0.9821   | 0.0010   | 0.0031   | 0.0133   | \n",
       "| KNN | 0.997606 | 0.9936   | 0.9848   | 0.0039   | 0.0058   | 0.0127   | \n",
       "| RF | 0.999165 | 0.9965   | 0.9848   | 0.0011   | 0.0045   | 0.0095   | \n",
       "\n",
       "\n"
      ],
      "text/plain": [
       "        ROC      Sensitivity Specificity Sd(ROC) Sd(Sensitivity)\n",
       "CART    0.987772 0.9843      0.9607      0.0078  0.0118         \n",
       "c5Boost 0.998550 0.9947      0.9848      0.0020  0.0051         \n",
       "SVM     0.999187 0.9971      0.9821      0.0010  0.0031         \n",
       "KNN     0.997606 0.9936      0.9848      0.0039  0.0058         \n",
       "RF      0.999165 0.9965      0.9848      0.0011  0.0045         \n",
       "        Sd(Specificity)\n",
       "CART    0.0134         \n",
       "c5Boost 0.0119         \n",
       "SVM     0.0133         \n",
       "KNN     0.0127         \n",
       "RF      0.0095         "
      ]
     },
     "metadata": {},
     "output_type": "display_data"
    }
   ],
   "source": [
    "#create comparative table ROC metrics each model\n",
    "cvmetric1 <- c(round(mean(rpartTune$resample$ROC),6), round(mean(rpartTune$resample$Sens),4),round(mean(rpartTune$resample$Spec),4),round(sd(rpartTune$resample$ROC),4),round(sd(rpartTune$resample$Sens),4),round(sd(rpartTune$resample$Spec),4))\n",
    "\n",
    "cvmetric2 <- c(round(mean(c5Tune$resample$ROC),6), round(mean(c5Tune$resample$Sens),4),round(mean(c5Tune$resample$Spec),4),round(sd(c5Tune$resample$ROC),4),round(sd(c5Tune$resample$Sens),4),round(sd(c5Tune$resample$Spec),4))\n",
    "\n",
    "cvmetric3 <- c(round(mean(svmTune$resample$ROC),6), round(mean(svmTune$resample$Sens),4),round(mean(svmTune$resample$Spec),4),round(sd(svmTune$resample$ROC),4),round(sd(svmTune$resample$Sens),4),round(sd(svmTune$resample$Spec),4))\n",
    "\n",
    "cvmetric4 <- c(round(mean(knnTune$resample$ROC),6), round(mean(knnTune$resample$Sens),4),round(mean(knnTune$resample$Spec),4),round(sd(knnTune$resample$ROC),4),round(sd(knnTune$resample$Sens),4),round(sd(knnTune$resample$Spec),4))\n",
    "\n",
    "cvmetric5 <- c(round(mean(rfTune$resample$ROC),6), round(mean(rfTune$resample$Sens),4),round(mean(rfTune$resample$Spec),4),round(sd(rfTune$resample$ROC),4),round(sd(rfTune$resample$Sens),4),round(sd(rfTune$resample$Spec),4))\n",
    "\n",
    "allcvmetrics <- rbind(CART=cvmetric1, c5Boost=cvmetric2, SVM=cvmetric3, KNN=cvmetric4, RF=cvmetric5) \n",
    "\n",
    "colnames(allcvmetrics) <- c(\"ROC\",\"Sensitivity\",\"Specificity\",\"Sd(ROC)\",\"Sd(Sensitivity)\",\"Sd(Specificity)\")\n",
    "(allcvmetrics)\n"
   ]
  },
  {
   "cell_type": "markdown",
   "metadata": {
    "collapsed": true
   },
   "source": [
    "As a general appreciation, all models have very good ROC scores, but the best one corresponds to SVM (0.999187).\n",
    "\n",
    "The following graph presents the ROC curves of each model got it through the testing dataset. So we can see the different ROC's shapes and which of the models has a bigger AUC associated metric. In our case, all models are under SVM curve meaning that SVM's model performs better even in the testing dataset too.\n"
   ]
  },
  {
   "cell_type": "code",
   "execution_count": 80,
   "metadata": {},
   "outputs": [
    {
     "name": "stderr",
     "output_type": "stream",
     "text": [
      "Type 'citation(\"pROC\")' for a citation.\n",
      "\n",
      "Attaching package: 'pROC'\n",
      "\n",
      "The following objects are masked from 'package:stats':\n",
      "\n",
      "    cov, smooth, var\n",
      "\n"
     ]
    },
    {
     "data": {
      "image/png": "[encoded data removed]",
      "text/plain": [
       "Plot with title \"CART, C5.0, SVM, KNN and RF Models ROC curve\""
      ]
     },
     "metadata": {},
     "output_type": "display_data"
    }
   ],
   "source": [
    "## Creating the ROC Curve\n",
    "library(pROC)\n",
    "rpartROC <- roc(predictor = rpartProbs$white, response = testing$Class, levels = rev(levels(testing$Class)))\n",
    "c5ROC <- roc(predictor = c5Probs$white, response = testing$Class, levels = rev(levels(testing$Class)))\n",
    "svmROC <- roc(predictor = svmProbs$white, response = testing$Class, levels = rev(levels(testing$Class)))\n",
    "knnROC <- roc(predictor = knnProbs$white, response = testing$Class, levels = rev(levels(testing$Class)))\n",
    "rfROC <- roc(predictor = rfProbs$white, response = testing$Class, levels = rev(levels(testing$Class)))\n",
    "\n",
    "\n",
    "plot(rpartROC, type = \"S\", main=\"CART, C5.0, SVM, KNN and RF Models ROC curve\")\n",
    "plot(c5ROC, add = TRUE,  col = \"cyan\")\n",
    "plot(svmROC, add = TRUE, print.thres = .5, col = \"red\", print.auc=TRUE)\n",
    "plot(knnROC, add = TRUE, col = \"yellow\")\n",
    "plot(rfROC, add = TRUE,  col = \"blue\")\n",
    "legend(\"bottomright\", legend = c(\"CART\", \"C5.0\", \"SVM\", \"KNN\", \"RF\"), col = c(\"black\", \"cyan\", \"red\", \"yellow\", \"blue\"),lwd = 2)"
   ]
  },
  {
   "cell_type": "markdown",
   "metadata": {},
   "source": [
    "## VI Making predictions\n",
    " \n",
    "The RF algorithm was chosen as the best model that we tested. Now we want to get the predictions from the model on our training dataset."
   ]
  },
  {
   "cell_type": "code",
   "execution_count": 81,
   "metadata": {},
   "outputs": [
    {
     "data": {
      "text/html": [
       "<table>\n",
       "<thead><tr><th scope=col>white</th><th scope=col>red</th></tr></thead>\n",
       "<tbody>\n",
       "\t<tr><td>0.9999630   </td><td>3.702439e-05</td></tr>\n",
       "\t<tr><td>0.9997974   </td><td>2.025978e-04</td></tr>\n",
       "\t<tr><td>0.9997974   </td><td>2.025978e-04</td></tr>\n",
       "\t<tr><td>0.9993742   </td><td>6.258465e-04</td></tr>\n",
       "\t<tr><td>0.9993408   </td><td>6.592085e-04</td></tr>\n",
       "\t<tr><td>0.9999819   </td><td>1.812371e-05</td></tr>\n",
       "\t<tr><td>0.9999175   </td><td>8.252847e-05</td></tr>\n",
       "\t<tr><td>0.9998694   </td><td>1.306194e-04</td></tr>\n",
       "\t<tr><td>0.9998021   </td><td>1.979045e-04</td></tr>\n",
       "\t<tr><td>0.9999733   </td><td>2.667042e-05</td></tr>\n",
       "\t<tr><td>0.9992882   </td><td>7.117854e-04</td></tr>\n",
       "\t<tr><td>0.9997660   </td><td>2.340059e-04</td></tr>\n",
       "\t<tr><td>0.9751636   </td><td>2.483643e-02</td></tr>\n",
       "\t<tr><td>0.9999921   </td><td>7.853768e-06</td></tr>\n",
       "\t<tr><td>0.9995954   </td><td>4.046341e-04</td></tr>\n",
       "\t<tr><td>0.9997657   </td><td>2.343336e-04</td></tr>\n",
       "\t<tr><td>0.9972865   </td><td>2.713514e-03</td></tr>\n",
       "\t<tr><td>0.9940458   </td><td>5.954177e-03</td></tr>\n",
       "\t<tr><td>0.9991704   </td><td>8.295691e-04</td></tr>\n",
       "\t<tr><td>0.9999906   </td><td>9.445583e-06</td></tr>\n",
       "\t<tr><td>0.9949259   </td><td>5.074066e-03</td></tr>\n",
       "\t<tr><td>0.9999159   </td><td>8.405818e-05</td></tr>\n",
       "\t<tr><td>0.9996643   </td><td>3.357485e-04</td></tr>\n",
       "\t<tr><td>0.9999359   </td><td>6.410603e-05</td></tr>\n",
       "\t<tr><td>0.9999203   </td><td>7.968943e-05</td></tr>\n",
       "\t<tr><td>0.9999544   </td><td>4.561479e-05</td></tr>\n",
       "\t<tr><td>0.9999855   </td><td>1.445143e-05</td></tr>\n",
       "\t<tr><td>0.9998447   </td><td>1.552835e-04</td></tr>\n",
       "\t<tr><td>0.1806808   </td><td>8.193192e-01</td></tr>\n",
       "\t<tr><td>0.9998457   </td><td>1.543184e-04</td></tr>\n",
       "\t<tr><td>...</td><td>...</td></tr>\n",
       "\t<tr><td>1.100388e-05</td><td>0.9999890   </td></tr>\n",
       "\t<tr><td>5.359875e-02</td><td>0.9464012   </td></tr>\n",
       "\t<tr><td>2.106450e-03</td><td>0.9978935   </td></tr>\n",
       "\t<tr><td>3.039554e-03</td><td>0.9969604   </td></tr>\n",
       "\t<tr><td>3.504929e-04</td><td>0.9996495   </td></tr>\n",
       "\t<tr><td>6.243491e-04</td><td>0.9993757   </td></tr>\n",
       "\t<tr><td>8.509474e-03</td><td>0.9914905   </td></tr>\n",
       "\t<tr><td>1.383495e-03</td><td>0.9986165   </td></tr>\n",
       "\t<tr><td>7.440307e-04</td><td>0.9992560   </td></tr>\n",
       "\t<tr><td>3.828016e-05</td><td>0.9999617   </td></tr>\n",
       "\t<tr><td>4.080562e-05</td><td>0.9999592   </td></tr>\n",
       "\t<tr><td>4.587385e-06</td><td>0.9999954   </td></tr>\n",
       "\t<tr><td>7.465902e-05</td><td>0.9999253   </td></tr>\n",
       "\t<tr><td>9.963391e-06</td><td>0.9999900   </td></tr>\n",
       "\t<tr><td>3.076697e-02</td><td>0.9692330   </td></tr>\n",
       "\t<tr><td>1.455248e-03</td><td>0.9985448   </td></tr>\n",
       "\t<tr><td>2.423166e-05</td><td>0.9999758   </td></tr>\n",
       "\t<tr><td>5.691355e-03</td><td>0.9943086   </td></tr>\n",
       "\t<tr><td>2.035614e-03</td><td>0.9979644   </td></tr>\n",
       "\t<tr><td>1.248867e-05</td><td>0.9999875   </td></tr>\n",
       "\t<tr><td>1.741046e-05</td><td>0.9999826   </td></tr>\n",
       "\t<tr><td>1.261105e-05</td><td>0.9999874   </td></tr>\n",
       "\t<tr><td>1.261105e-05</td><td>0.9999874   </td></tr>\n",
       "\t<tr><td>1.582837e-05</td><td>0.9999842   </td></tr>\n",
       "\t<tr><td>7.871425e-03</td><td>0.9921286   </td></tr>\n",
       "\t<tr><td>7.012911e-01</td><td>0.2987089   </td></tr>\n",
       "\t<tr><td>1.979136e-02</td><td>0.9802086   </td></tr>\n",
       "\t<tr><td>1.314058e-04</td><td>0.9998686   </td></tr>\n",
       "\t<tr><td>1.324307e-03</td><td>0.9986757   </td></tr>\n",
       "\t<tr><td>1.701461e-04</td><td>0.9998299   </td></tr>\n",
       "</tbody>\n",
       "</table>\n"
      ],
      "text/latex": [
       "\\begin{tabular}{r|ll}\n",
       " white & red\\\\\n",
       "\\hline\n",
       "\t 0.9999630    & 3.702439e-05\\\\\n",
       "\t 0.9997974    & 2.025978e-04\\\\\n",
       "\t 0.9997974    & 2.025978e-04\\\\\n",
       "\t 0.9993742    & 6.258465e-04\\\\\n",
       "\t 0.9993408    & 6.592085e-04\\\\\n",
       "\t 0.9999819    & 1.812371e-05\\\\\n",
       "\t 0.9999175    & 8.252847e-05\\\\\n",
       "\t 0.9998694    & 1.306194e-04\\\\\n",
       "\t 0.9998021    & 1.979045e-04\\\\\n",
       "\t 0.9999733    & 2.667042e-05\\\\\n",
       "\t 0.9992882    & 7.117854e-04\\\\\n",
       "\t 0.9997660    & 2.340059e-04\\\\\n",
       "\t 0.9751636    & 2.483643e-02\\\\\n",
       "\t 0.9999921    & 7.853768e-06\\\\\n",
       "\t 0.9995954    & 4.046341e-04\\\\\n",
       "\t 0.9997657    & 2.343336e-04\\\\\n",
       "\t 0.9972865    & 2.713514e-03\\\\\n",
       "\t 0.9940458    & 5.954177e-03\\\\\n",
       "\t 0.9991704    & 8.295691e-04\\\\\n",
       "\t 0.9999906    & 9.445583e-06\\\\\n",
       "\t 0.9949259    & 5.074066e-03\\\\\n",
       "\t 0.9999159    & 8.405818e-05\\\\\n",
       "\t 0.9996643    & 3.357485e-04\\\\\n",
       "\t 0.9999359    & 6.410603e-05\\\\\n",
       "\t 0.9999203    & 7.968943e-05\\\\\n",
       "\t 0.9999544    & 4.561479e-05\\\\\n",
       "\t 0.9999855    & 1.445143e-05\\\\\n",
       "\t 0.9998447    & 1.552835e-04\\\\\n",
       "\t 0.1806808    & 8.193192e-01\\\\\n",
       "\t 0.9998457    & 1.543184e-04\\\\\n",
       "\t ... & ...\\\\\n",
       "\t 1.100388e-05 & 0.9999890   \\\\\n",
       "\t 5.359875e-02 & 0.9464012   \\\\\n",
       "\t 2.106450e-03 & 0.9978935   \\\\\n",
       "\t 3.039554e-03 & 0.9969604   \\\\\n",
       "\t 3.504929e-04 & 0.9996495   \\\\\n",
       "\t 6.243491e-04 & 0.9993757   \\\\\n",
       "\t 8.509474e-03 & 0.9914905   \\\\\n",
       "\t 1.383495e-03 & 0.9986165   \\\\\n",
       "\t 7.440307e-04 & 0.9992560   \\\\\n",
       "\t 3.828016e-05 & 0.9999617   \\\\\n",
       "\t 4.080562e-05 & 0.9999592   \\\\\n",
       "\t 4.587385e-06 & 0.9999954   \\\\\n",
       "\t 7.465902e-05 & 0.9999253   \\\\\n",
       "\t 9.963391e-06 & 0.9999900   \\\\\n",
       "\t 3.076697e-02 & 0.9692330   \\\\\n",
       "\t 1.455248e-03 & 0.9985448   \\\\\n",
       "\t 2.423166e-05 & 0.9999758   \\\\\n",
       "\t 5.691355e-03 & 0.9943086   \\\\\n",
       "\t 2.035614e-03 & 0.9979644   \\\\\n",
       "\t 1.248867e-05 & 0.9999875   \\\\\n",
       "\t 1.741046e-05 & 0.9999826   \\\\\n",
       "\t 1.261105e-05 & 0.9999874   \\\\\n",
       "\t 1.261105e-05 & 0.9999874   \\\\\n",
       "\t 1.582837e-05 & 0.9999842   \\\\\n",
       "\t 7.871425e-03 & 0.9921286   \\\\\n",
       "\t 7.012911e-01 & 0.2987089   \\\\\n",
       "\t 1.979136e-02 & 0.9802086   \\\\\n",
       "\t 1.314058e-04 & 0.9998686   \\\\\n",
       "\t 1.324307e-03 & 0.9986757   \\\\\n",
       "\t 1.701461e-04 & 0.9998299   \\\\\n",
       "\\end{tabular}\n"
      ],
      "text/markdown": [
       "\n",
       "white | red | \n",
       "|---|---|---|---|---|---|---|---|---|---|---|---|---|---|---|---|---|---|---|---|---|---|---|---|---|---|---|---|---|---|---|---|---|---|---|---|---|---|---|---|---|---|---|---|---|---|---|---|---|---|---|---|---|---|---|---|---|---|---|---|---|\n",
       "| 0.9999630    | 3.702439e-05 | \n",
       "| 0.9997974    | 2.025978e-04 | \n",
       "| 0.9997974    | 2.025978e-04 | \n",
       "| 0.9993742    | 6.258465e-04 | \n",
       "| 0.9993408    | 6.592085e-04 | \n",
       "| 0.9999819    | 1.812371e-05 | \n",
       "| 0.9999175    | 8.252847e-05 | \n",
       "| 0.9998694    | 1.306194e-04 | \n",
       "| 0.9998021    | 1.979045e-04 | \n",
       "| 0.9999733    | 2.667042e-05 | \n",
       "| 0.9992882    | 7.117854e-04 | \n",
       "| 0.9997660    | 2.340059e-04 | \n",
       "| 0.9751636    | 2.483643e-02 | \n",
       "| 0.9999921    | 7.853768e-06 | \n",
       "| 0.9995954    | 4.046341e-04 | \n",
       "| 0.9997657    | 2.343336e-04 | \n",
       "| 0.9972865    | 2.713514e-03 | \n",
       "| 0.9940458    | 5.954177e-03 | \n",
       "| 0.9991704    | 8.295691e-04 | \n",
       "| 0.9999906    | 9.445583e-06 | \n",
       "| 0.9949259    | 5.074066e-03 | \n",
       "| 0.9999159    | 8.405818e-05 | \n",
       "| 0.9996643    | 3.357485e-04 | \n",
       "| 0.9999359    | 6.410603e-05 | \n",
       "| 0.9999203    | 7.968943e-05 | \n",
       "| 0.9999544    | 4.561479e-05 | \n",
       "| 0.9999855    | 1.445143e-05 | \n",
       "| 0.9998447    | 1.552835e-04 | \n",
       "| 0.1806808    | 8.193192e-01 | \n",
       "| 0.9998457    | 1.543184e-04 | \n",
       "| ... | ... | \n",
       "| 1.100388e-05 | 0.9999890    | \n",
       "| 5.359875e-02 | 0.9464012    | \n",
       "| 2.106450e-03 | 0.9978935    | \n",
       "| 3.039554e-03 | 0.9969604    | \n",
       "| 3.504929e-04 | 0.9996495    | \n",
       "| 6.243491e-04 | 0.9993757    | \n",
       "| 8.509474e-03 | 0.9914905    | \n",
       "| 1.383495e-03 | 0.9986165    | \n",
       "| 7.440307e-04 | 0.9992560    | \n",
       "| 3.828016e-05 | 0.9999617    | \n",
       "| 4.080562e-05 | 0.9999592    | \n",
       "| 4.587385e-06 | 0.9999954    | \n",
       "| 7.465902e-05 | 0.9999253    | \n",
       "| 9.963391e-06 | 0.9999900    | \n",
       "| 3.076697e-02 | 0.9692330    | \n",
       "| 1.455248e-03 | 0.9985448    | \n",
       "| 2.423166e-05 | 0.9999758    | \n",
       "| 5.691355e-03 | 0.9943086    | \n",
       "| 2.035614e-03 | 0.9979644    | \n",
       "| 1.248867e-05 | 0.9999875    | \n",
       "| 1.741046e-05 | 0.9999826    | \n",
       "| 1.261105e-05 | 0.9999874    | \n",
       "| 1.261105e-05 | 0.9999874    | \n",
       "| 1.582837e-05 | 0.9999842    | \n",
       "| 7.871425e-03 | 0.9921286    | \n",
       "| 7.012911e-01 | 0.2987089    | \n",
       "| 1.979136e-02 | 0.9802086    | \n",
       "| 1.314058e-04 | 0.9998686    | \n",
       "| 1.324307e-03 | 0.9986757    | \n",
       "| 1.701461e-04 | 0.9998299    | \n",
       "\n",
       "\n"
      ],
      "text/plain": [
       "     white        red         \n",
       "1    0.9999630    3.702439e-05\n",
       "2    0.9997974    2.025978e-04\n",
       "3    0.9997974    2.025978e-04\n",
       "4    0.9993742    6.258465e-04\n",
       "5    0.9993408    6.592085e-04\n",
       "6    0.9999819    1.812371e-05\n",
       "7    0.9999175    8.252847e-05\n",
       "8    0.9998694    1.306194e-04\n",
       "9    0.9998021    1.979045e-04\n",
       "10   0.9999733    2.667042e-05\n",
       "11   0.9992882    7.117854e-04\n",
       "12   0.9997660    2.340059e-04\n",
       "13   0.9751636    2.483643e-02\n",
       "14   0.9999921    7.853768e-06\n",
       "15   0.9995954    4.046341e-04\n",
       "16   0.9997657    2.343336e-04\n",
       "17   0.9972865    2.713514e-03\n",
       "18   0.9940458    5.954177e-03\n",
       "19   0.9991704    8.295691e-04\n",
       "20   0.9999906    9.445583e-06\n",
       "21   0.9949259    5.074066e-03\n",
       "22   0.9999159    8.405818e-05\n",
       "23   0.9996643    3.357485e-04\n",
       "24   0.9999359    6.410603e-05\n",
       "25   0.9999203    7.968943e-05\n",
       "26   0.9999544    4.561479e-05\n",
       "27   0.9999855    1.445143e-05\n",
       "28   0.9998447    1.552835e-04\n",
       "29   0.1806808    8.193192e-01\n",
       "30   0.9998457    1.543184e-04\n",
       "...  ...          ...         \n",
       "1919 1.100388e-05 0.9999890   \n",
       "1920 5.359875e-02 0.9464012   \n",
       "1921 2.106450e-03 0.9978935   \n",
       "1922 3.039554e-03 0.9969604   \n",
       "1923 3.504929e-04 0.9996495   \n",
       "1924 6.243491e-04 0.9993757   \n",
       "1925 8.509474e-03 0.9914905   \n",
       "1926 1.383495e-03 0.9986165   \n",
       "1927 7.440307e-04 0.9992560   \n",
       "1928 3.828016e-05 0.9999617   \n",
       "1929 4.080562e-05 0.9999592   \n",
       "1930 4.587385e-06 0.9999954   \n",
       "1931 7.465902e-05 0.9999253   \n",
       "1932 9.963391e-06 0.9999900   \n",
       "1933 3.076697e-02 0.9692330   \n",
       "1934 1.455248e-03 0.9985448   \n",
       "1935 2.423166e-05 0.9999758   \n",
       "1936 5.691355e-03 0.9943086   \n",
       "1937 2.035614e-03 0.9979644   \n",
       "1938 1.248867e-05 0.9999875   \n",
       "1939 1.741046e-05 0.9999826   \n",
       "1940 1.261105e-05 0.9999874   \n",
       "1941 1.261105e-05 0.9999874   \n",
       "1942 1.582837e-05 0.9999842   \n",
       "1943 7.871425e-03 0.9921286   \n",
       "1944 7.012911e-01 0.2987089   \n",
       "1945 1.979136e-02 0.9802086   \n",
       "1946 1.314058e-04 0.9998686   \n",
       "1947 1.324307e-03 0.9986757   \n",
       "1948 1.701461e-04 0.9998299   "
      ]
     },
     "metadata": {},
     "output_type": "display_data"
    }
   ],
   "source": [
    "# print predictions probabilities by row\n",
    "as.data.frame(svmProbs)"
   ]
  },
  {
   "cell_type": "code",
   "execution_count": 82,
   "metadata": {},
   "outputs": [
    {
     "data": {
      "text/html": [
       "<table>\n",
       "<thead><tr><th scope=col>fixed.acidity</th><th scope=col>volatile.acidity</th><th scope=col>citric.acid</th><th scope=col>residual.sugar</th><th scope=col>chlorides</th><th scope=col>total.sulfur.dioxide</th><th scope=col>pH</th><th scope=col>sulphates</th><th scope=col>alcohol</th><th scope=col>quality</th><th scope=col>Class</th><th scope=col>svmPred</th></tr></thead>\n",
       "<tbody>\n",
       "\t<tr><td>7.0  </td><td>0.270</td><td>0.36 </td><td>17.55</td><td>0.045</td><td>170.0</td><td>3.00 </td><td>0.45 </td><td> 8.8 </td><td>6    </td><td>white</td><td>white</td></tr>\n",
       "\t<tr><td>7.2  </td><td>0.230</td><td>0.32 </td><td> 8.50</td><td>0.058</td><td>186.0</td><td>3.19 </td><td>0.40 </td><td> 9.9 </td><td>6    </td><td>white</td><td>white</td></tr>\n",
       "\t<tr><td>7.2  </td><td>0.230</td><td>0.32 </td><td> 8.50</td><td>0.058</td><td>186.0</td><td>3.19 </td><td>0.40 </td><td> 9.9 </td><td>6    </td><td>white</td><td>white</td></tr>\n",
       "\t<tr><td>8.1  </td><td>0.280</td><td>0.40 </td><td> 6.90</td><td>0.050</td><td> 97.0</td><td>3.26 </td><td>0.44 </td><td>10.1 </td><td>6    </td><td>white</td><td>white</td></tr>\n",
       "\t<tr><td>6.2  </td><td>0.655</td><td>0.48 </td><td> 1.20</td><td>0.029</td><td> 75.0</td><td>3.33 </td><td>0.39 </td><td>12.8 </td><td>8    </td><td>white</td><td>white</td></tr>\n",
       "\t<tr><td>6.5  </td><td>0.310</td><td>0.14 </td><td> 7.50</td><td>0.044</td><td>133.0</td><td>3.22 </td><td>0.50 </td><td> 9.5 </td><td>5    </td><td>white</td><td>white</td></tr>\n",
       "\t<tr><td>6.8  </td><td>0.260</td><td>0.42 </td><td> 1.70</td><td>0.049</td><td>122.0</td><td>3.47 </td><td>0.48 </td><td>10.5 </td><td>8    </td><td>white</td><td>white</td></tr>\n",
       "\t<tr><td>6.6  </td><td>0.270</td><td>0.41 </td><td> 1.30</td><td>0.052</td><td>142.0</td><td>3.42 </td><td>0.47 </td><td>10.0 </td><td>6    </td><td>white</td><td>white</td></tr>\n",
       "\t<tr><td>7.2  </td><td>0.320</td><td>0.36 </td><td> 2.00</td><td>0.033</td><td>114.0</td><td>3.10 </td><td>0.71 </td><td>12.3 </td><td>7    </td><td>white</td><td>white</td></tr>\n",
       "\t<tr><td>6.2  </td><td>0.120</td><td>0.34 </td><td> 1.50</td><td>0.045</td><td>117.0</td><td>3.42 </td><td>0.51 </td><td> 9.0 </td><td>6    </td><td>white</td><td>white</td></tr>\n",
       "\t<tr><td>5.8  </td><td>0.270</td><td>0.20 </td><td>14.95</td><td>0.044</td><td>179.0</td><td>3.37 </td><td>0.37 </td><td>10.2 </td><td>5    </td><td>white</td><td>white</td></tr>\n",
       "\t<tr><td>6.7  </td><td>0.230</td><td>0.26 </td><td> 1.40</td><td>0.060</td><td>154.0</td><td>3.24 </td><td>0.56 </td><td> 9.5 </td><td>6    </td><td>white</td><td>white</td></tr>\n",
       "\t<tr><td>6.6  </td><td>0.250</td><td>0.29 </td><td> 1.10</td><td>0.068</td><td>124.0</td><td>3.34 </td><td>0.58 </td><td>11.0 </td><td>7    </td><td>white</td><td>white</td></tr>\n",
       "\t<tr><td>7.4  </td><td>0.200</td><td>0.36 </td><td> 1.20</td><td>0.038</td><td>111.0</td><td>3.36 </td><td>0.34 </td><td> 9.9 </td><td>6    </td><td>white</td><td>white</td></tr>\n",
       "\t<tr><td>6.8  </td><td>0.220</td><td>0.24 </td><td> 4.90</td><td>0.092</td><td>123.0</td><td>3.03 </td><td>0.46 </td><td> 8.6 </td><td>6    </td><td>white</td><td>white</td></tr>\n",
       "\t<tr><td>7.0  </td><td>0.470</td><td>0.07 </td><td> 1.10</td><td>0.035</td><td>151.0</td><td>3.02 </td><td>0.34 </td><td>10.5 </td><td>5    </td><td>white</td><td>white</td></tr>\n",
       "\t<tr><td>6.6  </td><td>0.380</td><td>0.15 </td><td> 4.60</td><td>0.044</td><td> 78.0</td><td>3.11 </td><td>0.38 </td><td>10.2 </td><td>6    </td><td>white</td><td>white</td></tr>\n",
       "\t<tr><td>6.2  </td><td>0.350</td><td>0.03 </td><td> 1.20</td><td>0.064</td><td>120.0</td><td>3.22 </td><td>0.54 </td><td> 9.1 </td><td>5    </td><td>white</td><td>white</td></tr>\n",
       "\t<tr><td>6.7  </td><td>0.230</td><td>0.31 </td><td> 2.10</td><td>0.046</td><td> 96.0</td><td>3.33 </td><td>0.64 </td><td>10.7 </td><td>8    </td><td>white</td><td>white</td></tr>\n",
       "\t<tr><td>7.4  </td><td>0.240</td><td>0.29 </td><td>10.10</td><td>0.050</td><td>105.0</td><td>3.13 </td><td>0.35 </td><td> 9.5 </td><td>5    </td><td>white</td><td>white</td></tr>\n",
       "\t<tr><td>6.2  </td><td>0.270</td><td>0.43 </td><td> 7.80</td><td>0.056</td><td>244.0</td><td>3.10 </td><td>0.51 </td><td> 9.0 </td><td>6    </td><td>white</td><td>white</td></tr>\n",
       "\t<tr><td>6.8  </td><td>0.300</td><td>0.23 </td><td> 4.60</td><td>0.061</td><td>238.5</td><td>3.32 </td><td>0.60 </td><td> 9.5 </td><td>5    </td><td>white</td><td>white</td></tr>\n",
       "\t<tr><td>6.8  </td><td>0.250</td><td>0.31 </td><td>13.30</td><td>0.050</td><td>202.0</td><td>3.22 </td><td>0.48 </td><td> 9.7 </td><td>6    </td><td>white</td><td>white</td></tr>\n",
       "\t<tr><td>7.1  </td><td>0.430</td><td>0.60 </td><td>11.80</td><td>0.045</td><td>155.0</td><td>3.11 </td><td>0.45 </td><td> 8.7 </td><td>5    </td><td>white</td><td>white</td></tr>\n",
       "\t<tr><td>6.9  </td><td>0.240</td><td>0.33 </td><td> 1.70</td><td>0.035</td><td>136.0</td><td>3.26 </td><td>0.40 </td><td>12.6 </td><td>7    </td><td>white</td><td>white</td></tr>\n",
       "\t<tr><td>7.1  </td><td>0.120</td><td>0.32 </td><td> 9.60</td><td>0.054</td><td>162.0</td><td>3.40 </td><td>0.41 </td><td> 9.4 </td><td>5    </td><td>white</td><td>white</td></tr>\n",
       "\t<tr><td>7.1  </td><td>0.230</td><td>0.35 </td><td>16.50</td><td>0.040</td><td>171.0</td><td>3.16 </td><td>0.59 </td><td> 9.1 </td><td>6    </td><td>white</td><td>white</td></tr>\n",
       "\t<tr><td>6.9  </td><td>0.330</td><td>0.28 </td><td> 1.30</td><td>0.051</td><td>187.0</td><td>3.27 </td><td>0.60 </td><td>10.3 </td><td>5    </td><td>white</td><td>white</td></tr>\n",
       "\t<tr><td>5.5  </td><td>0.485</td><td>0.00 </td><td> 1.50</td><td>0.065</td><td>103.0</td><td>3.63 </td><td>0.40 </td><td> 9.7 </td><td>4    </td><td>white</td><td>red  </td></tr>\n",
       "\t<tr><td>6.0  </td><td>0.310</td><td>0.24 </td><td> 3.30</td><td>0.041</td><td>143.0</td><td>3.31 </td><td>0.44 </td><td>11.3 </td><td>6    </td><td>white</td><td>white</td></tr>\n",
       "\t<tr><td>...</td><td>...</td><td>...</td><td>...</td><td>...</td><td>...</td><td>...</td><td>...</td><td>...</td><td>...</td><td>...</td><td>...</td></tr>\n",
       "\t<tr><td>7.50 </td><td>0.655</td><td>0.04 </td><td> 1.5 </td><td>0.076</td><td>15   </td><td>3.26 </td><td>0.53 </td><td> 9.60</td><td>5    </td><td>red  </td><td>red  </td></tr>\n",
       "\t<tr><td>7.50 </td><td>0.380</td><td>0.57 </td><td> 2.3 </td><td>0.105</td><td>12   </td><td>3.36 </td><td>0.55 </td><td>11.40</td><td>6    </td><td>red  </td><td>red  </td></tr>\n",
       "\t<tr><td>7.10 </td><td>0.270</td><td>0.60 </td><td> 2.1 </td><td>0.074</td><td>25   </td><td>3.38 </td><td>0.72 </td><td>10.60</td><td>6    </td><td>red  </td><td>red  </td></tr>\n",
       "\t<tr><td>7.90 </td><td>0.180</td><td>0.40 </td><td> 1.8 </td><td>0.062</td><td>20   </td><td>3.28 </td><td>0.70 </td><td>11.10</td><td>5    </td><td>red  </td><td>red  </td></tr>\n",
       "\t<tr><td>6.90 </td><td>0.655</td><td>0.21 </td><td> 4.1 </td><td>0.074</td><td>65   </td><td>3.53 </td><td>0.72 </td><td> 9.25</td><td>6    </td><td>red  </td><td>red  </td></tr>\n",
       "\t<tr><td>7.40 </td><td>0.470</td><td>0.46 </td><td> 2.2 </td><td>0.105</td><td>20   </td><td>3.32 </td><td>0.63 </td><td>10.50</td><td>5    </td><td>red  </td><td>red  </td></tr>\n",
       "\t<tr><td>6.50 </td><td>0.530</td><td>0.06 </td><td> 2.0 </td><td>0.063</td><td>44   </td><td>3.38 </td><td>0.83 </td><td>10.30</td><td>6    </td><td>red  </td><td>red  </td></tr>\n",
       "\t<tr><td>6.00 </td><td>0.420</td><td>0.19 </td><td> 2.0 </td><td>0.075</td><td>47   </td><td>3.39 </td><td>0.78 </td><td>10.00</td><td>6    </td><td>red  </td><td>red  </td></tr>\n",
       "\t<tr><td>6.70 </td><td>0.480</td><td>0.08 </td><td> 2.1 </td><td>0.064</td><td>34   </td><td>3.33 </td><td>0.64 </td><td> 9.70</td><td>5    </td><td>red  </td><td>red  </td></tr>\n",
       "\t<tr><td>7.10 </td><td>0.655</td><td>0.08 </td><td> 2.1 </td><td>0.063</td><td>52   </td><td>3.42 </td><td>0.60 </td><td>10.20</td><td>6    </td><td>red  </td><td>red  </td></tr>\n",
       "\t<tr><td>6.10 </td><td>0.655</td><td>0.10 </td><td> 2.8 </td><td>0.081</td><td>28   </td><td>3.60 </td><td>0.66 </td><td>10.20</td><td>5    </td><td>red  </td><td>red  </td></tr>\n",
       "\t<tr><td>7.00 </td><td>0.550</td><td>0.13 </td><td> 2.2 </td><td>0.075</td><td>35   </td><td>3.36 </td><td>0.59 </td><td> 9.70</td><td>6    </td><td>red  </td><td>red  </td></tr>\n",
       "\t<tr><td>6.20 </td><td>0.640</td><td>0.09 </td><td> 2.5 </td><td>0.081</td><td>26   </td><td>3.57 </td><td>0.63 </td><td>12.00</td><td>5    </td><td>red  </td><td>red  </td></tr>\n",
       "\t<tr><td>6.20 </td><td>0.520</td><td>0.08 </td><td> 4.4 </td><td>0.071</td><td>32   </td><td>3.56 </td><td>0.63 </td><td>11.60</td><td>6    </td><td>red  </td><td>red  </td></tr>\n",
       "\t<tr><td>7.40 </td><td>0.250</td><td>0.29 </td><td> 2.2 </td><td>0.054</td><td>49   </td><td>3.40 </td><td>0.76 </td><td>10.90</td><td>7    </td><td>red  </td><td>red  </td></tr>\n",
       "\t<tr><td>6.50 </td><td>0.630</td><td>0.33 </td><td> 1.8 </td><td>0.059</td><td>28   </td><td>3.36 </td><td>0.64 </td><td>10.10</td><td>6    </td><td>red  </td><td>red  </td></tr>\n",
       "\t<tr><td>7.00 </td><td>0.570</td><td>0.02 </td><td> 2.0 </td><td>0.072</td><td>26   </td><td>3.36 </td><td>0.61 </td><td>10.20</td><td>5    </td><td>red  </td><td>red  </td></tr>\n",
       "\t<tr><td>9.65 </td><td>0.400</td><td>0.50 </td><td> 2.0 </td><td>0.099</td><td>50   </td><td>3.10 </td><td>0.58 </td><td>10.40</td><td>5    </td><td>red  </td><td>red  </td></tr>\n",
       "\t<tr><td>6.30 </td><td>0.655</td><td>0.01 </td><td> 3.7 </td><td>0.103</td><td>54   </td><td>3.51 </td><td>0.66 </td><td>11.30</td><td>6    </td><td>red  </td><td>red  </td></tr>\n",
       "\t<tr><td>7.30 </td><td>0.655</td><td>0.00 </td><td> 2.2 </td><td>0.080</td><td>28   </td><td>3.41 </td><td>0.60 </td><td> 9.40</td><td>5    </td><td>red  </td><td>red  </td></tr>\n",
       "\t<tr><td>6.60 </td><td>0.655</td><td>0.02 </td><td> 2.4 </td><td>0.062</td><td>23   </td><td>3.54 </td><td>0.60 </td><td>11.00</td><td>6    </td><td>red  </td><td>red  </td></tr>\n",
       "\t<tr><td>7.20 </td><td>0.655</td><td>0.13 </td><td> 2.0 </td><td>0.076</td><td>20   </td><td>3.29 </td><td>0.54 </td><td>10.10</td><td>5    </td><td>red  </td><td>red  </td></tr>\n",
       "\t<tr><td>7.20 </td><td>0.655</td><td>0.13 </td><td> 2.0 </td><td>0.076</td><td>20   </td><td>3.29 </td><td>0.54 </td><td>10.10</td><td>5    </td><td>red  </td><td>red  </td></tr>\n",
       "\t<tr><td>7.00 </td><td>0.560</td><td>0.13 </td><td> 1.6 </td><td>0.077</td><td>42   </td><td>3.34 </td><td>0.59 </td><td> 9.20</td><td>5    </td><td>red  </td><td>red  </td></tr>\n",
       "\t<tr><td>6.40 </td><td>0.380</td><td>0.14 </td><td> 2.2 </td><td>0.038</td><td>25   </td><td>3.44 </td><td>0.65 </td><td>11.10</td><td>6    </td><td>red  </td><td>red  </td></tr>\n",
       "\t<tr><td>5.60 </td><td>0.310</td><td>0.60 </td><td>13.9 </td><td>0.074</td><td>92   </td><td>3.39 </td><td>0.48 </td><td>10.50</td><td>6    </td><td>red  </td><td>white</td></tr>\n",
       "\t<tr><td>6.20 </td><td>0.460</td><td>0.29 </td><td> 2.1 </td><td>0.074</td><td>98   </td><td>3.33 </td><td>0.62 </td><td> 9.80</td><td>5    </td><td>red  </td><td>red  </td></tr>\n",
       "\t<tr><td>7.20 </td><td>0.390</td><td>0.44 </td><td> 2.6 </td><td>0.066</td><td>48   </td><td>3.30 </td><td>0.84 </td><td>11.50</td><td>6    </td><td>red  </td><td>red  </td></tr>\n",
       "\t<tr><td>6.80 </td><td>0.620</td><td>0.08 </td><td> 1.9 </td><td>0.068</td><td>38   </td><td>3.42 </td><td>0.82 </td><td> 9.50</td><td>6    </td><td>red  </td><td>red  </td></tr>\n",
       "\t<tr><td>5.90 </td><td>0.645</td><td>0.12 </td><td> 2.0 </td><td>0.075</td><td>44   </td><td>3.57 </td><td>0.71 </td><td>10.20</td><td>5    </td><td>red  </td><td>red  </td></tr>\n",
       "</tbody>\n",
       "</table>\n"
      ],
      "text/latex": [
       "\\begin{tabular}{r|llllllllllll}\n",
       " fixed.acidity & volatile.acidity & citric.acid & residual.sugar & chlorides & total.sulfur.dioxide & pH & sulphates & alcohol & quality & Class & svmPred\\\\\n",
       "\\hline\n",
       "\t 7.0   & 0.270 & 0.36  & 17.55 & 0.045 & 170.0 & 3.00  & 0.45  &  8.8  & 6     & white & white\\\\\n",
       "\t 7.2   & 0.230 & 0.32  &  8.50 & 0.058 & 186.0 & 3.19  & 0.40  &  9.9  & 6     & white & white\\\\\n",
       "\t 7.2   & 0.230 & 0.32  &  8.50 & 0.058 & 186.0 & 3.19  & 0.40  &  9.9  & 6     & white & white\\\\\n",
       "\t 8.1   & 0.280 & 0.40  &  6.90 & 0.050 &  97.0 & 3.26  & 0.44  & 10.1  & 6     & white & white\\\\\n",
       "\t 6.2   & 0.655 & 0.48  &  1.20 & 0.029 &  75.0 & 3.33  & 0.39  & 12.8  & 8     & white & white\\\\\n",
       "\t 6.5   & 0.310 & 0.14  &  7.50 & 0.044 & 133.0 & 3.22  & 0.50  &  9.5  & 5     & white & white\\\\\n",
       "\t 6.8   & 0.260 & 0.42  &  1.70 & 0.049 & 122.0 & 3.47  & 0.48  & 10.5  & 8     & white & white\\\\\n",
       "\t 6.6   & 0.270 & 0.41  &  1.30 & 0.052 & 142.0 & 3.42  & 0.47  & 10.0  & 6     & white & white\\\\\n",
       "\t 7.2   & 0.320 & 0.36  &  2.00 & 0.033 & 114.0 & 3.10  & 0.71  & 12.3  & 7     & white & white\\\\\n",
       "\t 6.2   & 0.120 & 0.34  &  1.50 & 0.045 & 117.0 & 3.42  & 0.51  &  9.0  & 6     & white & white\\\\\n",
       "\t 5.8   & 0.270 & 0.20  & 14.95 & 0.044 & 179.0 & 3.37  & 0.37  & 10.2  & 5     & white & white\\\\\n",
       "\t 6.7   & 0.230 & 0.26  &  1.40 & 0.060 & 154.0 & 3.24  & 0.56  &  9.5  & 6     & white & white\\\\\n",
       "\t 6.6   & 0.250 & 0.29  &  1.10 & 0.068 & 124.0 & 3.34  & 0.58  & 11.0  & 7     & white & white\\\\\n",
       "\t 7.4   & 0.200 & 0.36  &  1.20 & 0.038 & 111.0 & 3.36  & 0.34  &  9.9  & 6     & white & white\\\\\n",
       "\t 6.8   & 0.220 & 0.24  &  4.90 & 0.092 & 123.0 & 3.03  & 0.46  &  8.6  & 6     & white & white\\\\\n",
       "\t 7.0   & 0.470 & 0.07  &  1.10 & 0.035 & 151.0 & 3.02  & 0.34  & 10.5  & 5     & white & white\\\\\n",
       "\t 6.6   & 0.380 & 0.15  &  4.60 & 0.044 &  78.0 & 3.11  & 0.38  & 10.2  & 6     & white & white\\\\\n",
       "\t 6.2   & 0.350 & 0.03  &  1.20 & 0.064 & 120.0 & 3.22  & 0.54  &  9.1  & 5     & white & white\\\\\n",
       "\t 6.7   & 0.230 & 0.31  &  2.10 & 0.046 &  96.0 & 3.33  & 0.64  & 10.7  & 8     & white & white\\\\\n",
       "\t 7.4   & 0.240 & 0.29  & 10.10 & 0.050 & 105.0 & 3.13  & 0.35  &  9.5  & 5     & white & white\\\\\n",
       "\t 6.2   & 0.270 & 0.43  &  7.80 & 0.056 & 244.0 & 3.10  & 0.51  &  9.0  & 6     & white & white\\\\\n",
       "\t 6.8   & 0.300 & 0.23  &  4.60 & 0.061 & 238.5 & 3.32  & 0.60  &  9.5  & 5     & white & white\\\\\n",
       "\t 6.8   & 0.250 & 0.31  & 13.30 & 0.050 & 202.0 & 3.22  & 0.48  &  9.7  & 6     & white & white\\\\\n",
       "\t 7.1   & 0.430 & 0.60  & 11.80 & 0.045 & 155.0 & 3.11  & 0.45  &  8.7  & 5     & white & white\\\\\n",
       "\t 6.9   & 0.240 & 0.33  &  1.70 & 0.035 & 136.0 & 3.26  & 0.40  & 12.6  & 7     & white & white\\\\\n",
       "\t 7.1   & 0.120 & 0.32  &  9.60 & 0.054 & 162.0 & 3.40  & 0.41  &  9.4  & 5     & white & white\\\\\n",
       "\t 7.1   & 0.230 & 0.35  & 16.50 & 0.040 & 171.0 & 3.16  & 0.59  &  9.1  & 6     & white & white\\\\\n",
       "\t 6.9   & 0.330 & 0.28  &  1.30 & 0.051 & 187.0 & 3.27  & 0.60  & 10.3  & 5     & white & white\\\\\n",
       "\t 5.5   & 0.485 & 0.00  &  1.50 & 0.065 & 103.0 & 3.63  & 0.40  &  9.7  & 4     & white & red  \\\\\n",
       "\t 6.0   & 0.310 & 0.24  &  3.30 & 0.041 & 143.0 & 3.31  & 0.44  & 11.3  & 6     & white & white\\\\\n",
       "\t ... & ... & ... & ... & ... & ... & ... & ... & ... & ... & ... & ...\\\\\n",
       "\t 7.50  & 0.655 & 0.04  &  1.5  & 0.076 & 15    & 3.26  & 0.53  &  9.60 & 5     & red   & red  \\\\\n",
       "\t 7.50  & 0.380 & 0.57  &  2.3  & 0.105 & 12    & 3.36  & 0.55  & 11.40 & 6     & red   & red  \\\\\n",
       "\t 7.10  & 0.270 & 0.60  &  2.1  & 0.074 & 25    & 3.38  & 0.72  & 10.60 & 6     & red   & red  \\\\\n",
       "\t 7.90  & 0.180 & 0.40  &  1.8  & 0.062 & 20    & 3.28  & 0.70  & 11.10 & 5     & red   & red  \\\\\n",
       "\t 6.90  & 0.655 & 0.21  &  4.1  & 0.074 & 65    & 3.53  & 0.72  &  9.25 & 6     & red   & red  \\\\\n",
       "\t 7.40  & 0.470 & 0.46  &  2.2  & 0.105 & 20    & 3.32  & 0.63  & 10.50 & 5     & red   & red  \\\\\n",
       "\t 6.50  & 0.530 & 0.06  &  2.0  & 0.063 & 44    & 3.38  & 0.83  & 10.30 & 6     & red   & red  \\\\\n",
       "\t 6.00  & 0.420 & 0.19  &  2.0  & 0.075 & 47    & 3.39  & 0.78  & 10.00 & 6     & red   & red  \\\\\n",
       "\t 6.70  & 0.480 & 0.08  &  2.1  & 0.064 & 34    & 3.33  & 0.64  &  9.70 & 5     & red   & red  \\\\\n",
       "\t 7.10  & 0.655 & 0.08  &  2.1  & 0.063 & 52    & 3.42  & 0.60  & 10.20 & 6     & red   & red  \\\\\n",
       "\t 6.10  & 0.655 & 0.10  &  2.8  & 0.081 & 28    & 3.60  & 0.66  & 10.20 & 5     & red   & red  \\\\\n",
       "\t 7.00  & 0.550 & 0.13  &  2.2  & 0.075 & 35    & 3.36  & 0.59  &  9.70 & 6     & red   & red  \\\\\n",
       "\t 6.20  & 0.640 & 0.09  &  2.5  & 0.081 & 26    & 3.57  & 0.63  & 12.00 & 5     & red   & red  \\\\\n",
       "\t 6.20  & 0.520 & 0.08  &  4.4  & 0.071 & 32    & 3.56  & 0.63  & 11.60 & 6     & red   & red  \\\\\n",
       "\t 7.40  & 0.250 & 0.29  &  2.2  & 0.054 & 49    & 3.40  & 0.76  & 10.90 & 7     & red   & red  \\\\\n",
       "\t 6.50  & 0.630 & 0.33  &  1.8  & 0.059 & 28    & 3.36  & 0.64  & 10.10 & 6     & red   & red  \\\\\n",
       "\t 7.00  & 0.570 & 0.02  &  2.0  & 0.072 & 26    & 3.36  & 0.61  & 10.20 & 5     & red   & red  \\\\\n",
       "\t 9.65  & 0.400 & 0.50  &  2.0  & 0.099 & 50    & 3.10  & 0.58  & 10.40 & 5     & red   & red  \\\\\n",
       "\t 6.30  & 0.655 & 0.01  &  3.7  & 0.103 & 54    & 3.51  & 0.66  & 11.30 & 6     & red   & red  \\\\\n",
       "\t 7.30  & 0.655 & 0.00  &  2.2  & 0.080 & 28    & 3.41  & 0.60  &  9.40 & 5     & red   & red  \\\\\n",
       "\t 6.60  & 0.655 & 0.02  &  2.4  & 0.062 & 23    & 3.54  & 0.60  & 11.00 & 6     & red   & red  \\\\\n",
       "\t 7.20  & 0.655 & 0.13  &  2.0  & 0.076 & 20    & 3.29  & 0.54  & 10.10 & 5     & red   & red  \\\\\n",
       "\t 7.20  & 0.655 & 0.13  &  2.0  & 0.076 & 20    & 3.29  & 0.54  & 10.10 & 5     & red   & red  \\\\\n",
       "\t 7.00  & 0.560 & 0.13  &  1.6  & 0.077 & 42    & 3.34  & 0.59  &  9.20 & 5     & red   & red  \\\\\n",
       "\t 6.40  & 0.380 & 0.14  &  2.2  & 0.038 & 25    & 3.44  & 0.65  & 11.10 & 6     & red   & red  \\\\\n",
       "\t 5.60  & 0.310 & 0.60  & 13.9  & 0.074 & 92    & 3.39  & 0.48  & 10.50 & 6     & red   & white\\\\\n",
       "\t 6.20  & 0.460 & 0.29  &  2.1  & 0.074 & 98    & 3.33  & 0.62  &  9.80 & 5     & red   & red  \\\\\n",
       "\t 7.20  & 0.390 & 0.44  &  2.6  & 0.066 & 48    & 3.30  & 0.84  & 11.50 & 6     & red   & red  \\\\\n",
       "\t 6.80  & 0.620 & 0.08  &  1.9  & 0.068 & 38    & 3.42  & 0.82  &  9.50 & 6     & red   & red  \\\\\n",
       "\t 5.90  & 0.645 & 0.12  &  2.0  & 0.075 & 44    & 3.57  & 0.71  & 10.20 & 5     & red   & red  \\\\\n",
       "\\end{tabular}\n"
      ],
      "text/markdown": [
       "\n",
       "fixed.acidity | volatile.acidity | citric.acid | residual.sugar | chlorides | total.sulfur.dioxide | pH | sulphates | alcohol | quality | Class | svmPred | \n",
       "|---|---|---|---|---|---|---|---|---|---|---|---|---|---|---|---|---|---|---|---|---|---|---|---|---|---|---|---|---|---|---|---|---|---|---|---|---|---|---|---|---|---|---|---|---|---|---|---|---|---|---|---|---|---|---|---|---|---|---|---|---|\n",
       "| 7.0   | 0.270 | 0.36  | 17.55 | 0.045 | 170.0 | 3.00  | 0.45  |  8.8  | 6     | white | white | \n",
       "| 7.2   | 0.230 | 0.32  |  8.50 | 0.058 | 186.0 | 3.19  | 0.40  |  9.9  | 6     | white | white | \n",
       "| 7.2   | 0.230 | 0.32  |  8.50 | 0.058 | 186.0 | 3.19  | 0.40  |  9.9  | 6     | white | white | \n",
       "| 8.1   | 0.280 | 0.40  |  6.90 | 0.050 |  97.0 | 3.26  | 0.44  | 10.1  | 6     | white | white | \n",
       "| 6.2   | 0.655 | 0.48  |  1.20 | 0.029 |  75.0 | 3.33  | 0.39  | 12.8  | 8     | white | white | \n",
       "| 6.5   | 0.310 | 0.14  |  7.50 | 0.044 | 133.0 | 3.22  | 0.50  |  9.5  | 5     | white | white | \n",
       "| 6.8   | 0.260 | 0.42  |  1.70 | 0.049 | 122.0 | 3.47  | 0.48  | 10.5  | 8     | white | white | \n",
       "| 6.6   | 0.270 | 0.41  |  1.30 | 0.052 | 142.0 | 3.42  | 0.47  | 10.0  | 6     | white | white | \n",
       "| 7.2   | 0.320 | 0.36  |  2.00 | 0.033 | 114.0 | 3.10  | 0.71  | 12.3  | 7     | white | white | \n",
       "| 6.2   | 0.120 | 0.34  |  1.50 | 0.045 | 117.0 | 3.42  | 0.51  |  9.0  | 6     | white | white | \n",
       "| 5.8   | 0.270 | 0.20  | 14.95 | 0.044 | 179.0 | 3.37  | 0.37  | 10.2  | 5     | white | white | \n",
       "| 6.7   | 0.230 | 0.26  |  1.40 | 0.060 | 154.0 | 3.24  | 0.56  |  9.5  | 6     | white | white | \n",
       "| 6.6   | 0.250 | 0.29  |  1.10 | 0.068 | 124.0 | 3.34  | 0.58  | 11.0  | 7     | white | white | \n",
       "| 7.4   | 0.200 | 0.36  |  1.20 | 0.038 | 111.0 | 3.36  | 0.34  |  9.9  | 6     | white | white | \n",
       "| 6.8   | 0.220 | 0.24  |  4.90 | 0.092 | 123.0 | 3.03  | 0.46  |  8.6  | 6     | white | white | \n",
       "| 7.0   | 0.470 | 0.07  |  1.10 | 0.035 | 151.0 | 3.02  | 0.34  | 10.5  | 5     | white | white | \n",
       "| 6.6   | 0.380 | 0.15  |  4.60 | 0.044 |  78.0 | 3.11  | 0.38  | 10.2  | 6     | white | white | \n",
       "| 6.2   | 0.350 | 0.03  |  1.20 | 0.064 | 120.0 | 3.22  | 0.54  |  9.1  | 5     | white | white | \n",
       "| 6.7   | 0.230 | 0.31  |  2.10 | 0.046 |  96.0 | 3.33  | 0.64  | 10.7  | 8     | white | white | \n",
       "| 7.4   | 0.240 | 0.29  | 10.10 | 0.050 | 105.0 | 3.13  | 0.35  |  9.5  | 5     | white | white | \n",
       "| 6.2   | 0.270 | 0.43  |  7.80 | 0.056 | 244.0 | 3.10  | 0.51  |  9.0  | 6     | white | white | \n",
       "| 6.8   | 0.300 | 0.23  |  4.60 | 0.061 | 238.5 | 3.32  | 0.60  |  9.5  | 5     | white | white | \n",
       "| 6.8   | 0.250 | 0.31  | 13.30 | 0.050 | 202.0 | 3.22  | 0.48  |  9.7  | 6     | white | white | \n",
       "| 7.1   | 0.430 | 0.60  | 11.80 | 0.045 | 155.0 | 3.11  | 0.45  |  8.7  | 5     | white | white | \n",
       "| 6.9   | 0.240 | 0.33  |  1.70 | 0.035 | 136.0 | 3.26  | 0.40  | 12.6  | 7     | white | white | \n",
       "| 7.1   | 0.120 | 0.32  |  9.60 | 0.054 | 162.0 | 3.40  | 0.41  |  9.4  | 5     | white | white | \n",
       "| 7.1   | 0.230 | 0.35  | 16.50 | 0.040 | 171.0 | 3.16  | 0.59  |  9.1  | 6     | white | white | \n",
       "| 6.9   | 0.330 | 0.28  |  1.30 | 0.051 | 187.0 | 3.27  | 0.60  | 10.3  | 5     | white | white | \n",
       "| 5.5   | 0.485 | 0.00  |  1.50 | 0.065 | 103.0 | 3.63  | 0.40  |  9.7  | 4     | white | red   | \n",
       "| 6.0   | 0.310 | 0.24  |  3.30 | 0.041 | 143.0 | 3.31  | 0.44  | 11.3  | 6     | white | white | \n",
       "| ... | ... | ... | ... | ... | ... | ... | ... | ... | ... | ... | ... | \n",
       "| 7.50  | 0.655 | 0.04  |  1.5  | 0.076 | 15    | 3.26  | 0.53  |  9.60 | 5     | red   | red   | \n",
       "| 7.50  | 0.380 | 0.57  |  2.3  | 0.105 | 12    | 3.36  | 0.55  | 11.40 | 6     | red   | red   | \n",
       "| 7.10  | 0.270 | 0.60  |  2.1  | 0.074 | 25    | 3.38  | 0.72  | 10.60 | 6     | red   | red   | \n",
       "| 7.90  | 0.180 | 0.40  |  1.8  | 0.062 | 20    | 3.28  | 0.70  | 11.10 | 5     | red   | red   | \n",
       "| 6.90  | 0.655 | 0.21  |  4.1  | 0.074 | 65    | 3.53  | 0.72  |  9.25 | 6     | red   | red   | \n",
       "| 7.40  | 0.470 | 0.46  |  2.2  | 0.105 | 20    | 3.32  | 0.63  | 10.50 | 5     | red   | red   | \n",
       "| 6.50  | 0.530 | 0.06  |  2.0  | 0.063 | 44    | 3.38  | 0.83  | 10.30 | 6     | red   | red   | \n",
       "| 6.00  | 0.420 | 0.19  |  2.0  | 0.075 | 47    | 3.39  | 0.78  | 10.00 | 6     | red   | red   | \n",
       "| 6.70  | 0.480 | 0.08  |  2.1  | 0.064 | 34    | 3.33  | 0.64  |  9.70 | 5     | red   | red   | \n",
       "| 7.10  | 0.655 | 0.08  |  2.1  | 0.063 | 52    | 3.42  | 0.60  | 10.20 | 6     | red   | red   | \n",
       "| 6.10  | 0.655 | 0.10  |  2.8  | 0.081 | 28    | 3.60  | 0.66  | 10.20 | 5     | red   | red   | \n",
       "| 7.00  | 0.550 | 0.13  |  2.2  | 0.075 | 35    | 3.36  | 0.59  |  9.70 | 6     | red   | red   | \n",
       "| 6.20  | 0.640 | 0.09  |  2.5  | 0.081 | 26    | 3.57  | 0.63  | 12.00 | 5     | red   | red   | \n",
       "| 6.20  | 0.520 | 0.08  |  4.4  | 0.071 | 32    | 3.56  | 0.63  | 11.60 | 6     | red   | red   | \n",
       "| 7.40  | 0.250 | 0.29  |  2.2  | 0.054 | 49    | 3.40  | 0.76  | 10.90 | 7     | red   | red   | \n",
       "| 6.50  | 0.630 | 0.33  |  1.8  | 0.059 | 28    | 3.36  | 0.64  | 10.10 | 6     | red   | red   | \n",
       "| 7.00  | 0.570 | 0.02  |  2.0  | 0.072 | 26    | 3.36  | 0.61  | 10.20 | 5     | red   | red   | \n",
       "| 9.65  | 0.400 | 0.50  |  2.0  | 0.099 | 50    | 3.10  | 0.58  | 10.40 | 5     | red   | red   | \n",
       "| 6.30  | 0.655 | 0.01  |  3.7  | 0.103 | 54    | 3.51  | 0.66  | 11.30 | 6     | red   | red   | \n",
       "| 7.30  | 0.655 | 0.00  |  2.2  | 0.080 | 28    | 3.41  | 0.60  |  9.40 | 5     | red   | red   | \n",
       "| 6.60  | 0.655 | 0.02  |  2.4  | 0.062 | 23    | 3.54  | 0.60  | 11.00 | 6     | red   | red   | \n",
       "| 7.20  | 0.655 | 0.13  |  2.0  | 0.076 | 20    | 3.29  | 0.54  | 10.10 | 5     | red   | red   | \n",
       "| 7.20  | 0.655 | 0.13  |  2.0  | 0.076 | 20    | 3.29  | 0.54  | 10.10 | 5     | red   | red   | \n",
       "| 7.00  | 0.560 | 0.13  |  1.6  | 0.077 | 42    | 3.34  | 0.59  |  9.20 | 5     | red   | red   | \n",
       "| 6.40  | 0.380 | 0.14  |  2.2  | 0.038 | 25    | 3.44  | 0.65  | 11.10 | 6     | red   | red   | \n",
       "| 5.60  | 0.310 | 0.60  | 13.9  | 0.074 | 92    | 3.39  | 0.48  | 10.50 | 6     | red   | white | \n",
       "| 6.20  | 0.460 | 0.29  |  2.1  | 0.074 | 98    | 3.33  | 0.62  |  9.80 | 5     | red   | red   | \n",
       "| 7.20  | 0.390 | 0.44  |  2.6  | 0.066 | 48    | 3.30  | 0.84  | 11.50 | 6     | red   | red   | \n",
       "| 6.80  | 0.620 | 0.08  |  1.9  | 0.068 | 38    | 3.42  | 0.82  |  9.50 | 6     | red   | red   | \n",
       "| 5.90  | 0.645 | 0.12  |  2.0  | 0.075 | 44    | 3.57  | 0.71  | 10.20 | 5     | red   | red   | \n",
       "\n",
       "\n"
      ],
      "text/plain": [
       "     fixed.acidity volatile.acidity citric.acid residual.sugar chlorides\n",
       "1    7.0           0.270            0.36        17.55          0.045    \n",
       "2    7.2           0.230            0.32         8.50          0.058    \n",
       "3    7.2           0.230            0.32         8.50          0.058    \n",
       "4    8.1           0.280            0.40         6.90          0.050    \n",
       "5    6.2           0.655            0.48         1.20          0.029    \n",
       "6    6.5           0.310            0.14         7.50          0.044    \n",
       "7    6.8           0.260            0.42         1.70          0.049    \n",
       "8    6.6           0.270            0.41         1.30          0.052    \n",
       "9    7.2           0.320            0.36         2.00          0.033    \n",
       "10   6.2           0.120            0.34         1.50          0.045    \n",
       "11   5.8           0.270            0.20        14.95          0.044    \n",
       "12   6.7           0.230            0.26         1.40          0.060    \n",
       "13   6.6           0.250            0.29         1.10          0.068    \n",
       "14   7.4           0.200            0.36         1.20          0.038    \n",
       "15   6.8           0.220            0.24         4.90          0.092    \n",
       "16   7.0           0.470            0.07         1.10          0.035    \n",
       "17   6.6           0.380            0.15         4.60          0.044    \n",
       "18   6.2           0.350            0.03         1.20          0.064    \n",
       "19   6.7           0.230            0.31         2.10          0.046    \n",
       "20   7.4           0.240            0.29        10.10          0.050    \n",
       "21   6.2           0.270            0.43         7.80          0.056    \n",
       "22   6.8           0.300            0.23         4.60          0.061    \n",
       "23   6.8           0.250            0.31        13.30          0.050    \n",
       "24   7.1           0.430            0.60        11.80          0.045    \n",
       "25   6.9           0.240            0.33         1.70          0.035    \n",
       "26   7.1           0.120            0.32         9.60          0.054    \n",
       "27   7.1           0.230            0.35        16.50          0.040    \n",
       "28   6.9           0.330            0.28         1.30          0.051    \n",
       "29   5.5           0.485            0.00         1.50          0.065    \n",
       "30   6.0           0.310            0.24         3.30          0.041    \n",
       "...  ...           ...              ...         ...            ...      \n",
       "1919 7.50          0.655            0.04         1.5           0.076    \n",
       "1920 7.50          0.380            0.57         2.3           0.105    \n",
       "1921 7.10          0.270            0.60         2.1           0.074    \n",
       "1922 7.90          0.180            0.40         1.8           0.062    \n",
       "1923 6.90          0.655            0.21         4.1           0.074    \n",
       "1924 7.40          0.470            0.46         2.2           0.105    \n",
       "1925 6.50          0.530            0.06         2.0           0.063    \n",
       "1926 6.00          0.420            0.19         2.0           0.075    \n",
       "1927 6.70          0.480            0.08         2.1           0.064    \n",
       "1928 7.10          0.655            0.08         2.1           0.063    \n",
       "1929 6.10          0.655            0.10         2.8           0.081    \n",
       "1930 7.00          0.550            0.13         2.2           0.075    \n",
       "1931 6.20          0.640            0.09         2.5           0.081    \n",
       "1932 6.20          0.520            0.08         4.4           0.071    \n",
       "1933 7.40          0.250            0.29         2.2           0.054    \n",
       "1934 6.50          0.630            0.33         1.8           0.059    \n",
       "1935 7.00          0.570            0.02         2.0           0.072    \n",
       "1936 9.65          0.400            0.50         2.0           0.099    \n",
       "1937 6.30          0.655            0.01         3.7           0.103    \n",
       "1938 7.30          0.655            0.00         2.2           0.080    \n",
       "1939 6.60          0.655            0.02         2.4           0.062    \n",
       "1940 7.20          0.655            0.13         2.0           0.076    \n",
       "1941 7.20          0.655            0.13         2.0           0.076    \n",
       "1942 7.00          0.560            0.13         1.6           0.077    \n",
       "1943 6.40          0.380            0.14         2.2           0.038    \n",
       "1944 5.60          0.310            0.60        13.9           0.074    \n",
       "1945 6.20          0.460            0.29         2.1           0.074    \n",
       "1946 7.20          0.390            0.44         2.6           0.066    \n",
       "1947 6.80          0.620            0.08         1.9           0.068    \n",
       "1948 5.90          0.645            0.12         2.0           0.075    \n",
       "     total.sulfur.dioxide pH   sulphates alcohol quality Class svmPred\n",
       "1    170.0                3.00 0.45       8.8    6       white white  \n",
       "2    186.0                3.19 0.40       9.9    6       white white  \n",
       "3    186.0                3.19 0.40       9.9    6       white white  \n",
       "4     97.0                3.26 0.44      10.1    6       white white  \n",
       "5     75.0                3.33 0.39      12.8    8       white white  \n",
       "6    133.0                3.22 0.50       9.5    5       white white  \n",
       "7    122.0                3.47 0.48      10.5    8       white white  \n",
       "8    142.0                3.42 0.47      10.0    6       white white  \n",
       "9    114.0                3.10 0.71      12.3    7       white white  \n",
       "10   117.0                3.42 0.51       9.0    6       white white  \n",
       "11   179.0                3.37 0.37      10.2    5       white white  \n",
       "12   154.0                3.24 0.56       9.5    6       white white  \n",
       "13   124.0                3.34 0.58      11.0    7       white white  \n",
       "14   111.0                3.36 0.34       9.9    6       white white  \n",
       "15   123.0                3.03 0.46       8.6    6       white white  \n",
       "16   151.0                3.02 0.34      10.5    5       white white  \n",
       "17    78.0                3.11 0.38      10.2    6       white white  \n",
       "18   120.0                3.22 0.54       9.1    5       white white  \n",
       "19    96.0                3.33 0.64      10.7    8       white white  \n",
       "20   105.0                3.13 0.35       9.5    5       white white  \n",
       "21   244.0                3.10 0.51       9.0    6       white white  \n",
       "22   238.5                3.32 0.60       9.5    5       white white  \n",
       "23   202.0                3.22 0.48       9.7    6       white white  \n",
       "24   155.0                3.11 0.45       8.7    5       white white  \n",
       "25   136.0                3.26 0.40      12.6    7       white white  \n",
       "26   162.0                3.40 0.41       9.4    5       white white  \n",
       "27   171.0                3.16 0.59       9.1    6       white white  \n",
       "28   187.0                3.27 0.60      10.3    5       white white  \n",
       "29   103.0                3.63 0.40       9.7    4       white red    \n",
       "30   143.0                3.31 0.44      11.3    6       white white  \n",
       "...  ...                  ...  ...       ...     ...     ...   ...    \n",
       "1919 15                   3.26 0.53       9.60   5       red   red    \n",
       "1920 12                   3.36 0.55      11.40   6       red   red    \n",
       "1921 25                   3.38 0.72      10.60   6       red   red    \n",
       "1922 20                   3.28 0.70      11.10   5       red   red    \n",
       "1923 65                   3.53 0.72       9.25   6       red   red    \n",
       "1924 20                   3.32 0.63      10.50   5       red   red    \n",
       "1925 44                   3.38 0.83      10.30   6       red   red    \n",
       "1926 47                   3.39 0.78      10.00   6       red   red    \n",
       "1927 34                   3.33 0.64       9.70   5       red   red    \n",
       "1928 52                   3.42 0.60      10.20   6       red   red    \n",
       "1929 28                   3.60 0.66      10.20   5       red   red    \n",
       "1930 35                   3.36 0.59       9.70   6       red   red    \n",
       "1931 26                   3.57 0.63      12.00   5       red   red    \n",
       "1932 32                   3.56 0.63      11.60   6       red   red    \n",
       "1933 49                   3.40 0.76      10.90   7       red   red    \n",
       "1934 28                   3.36 0.64      10.10   6       red   red    \n",
       "1935 26                   3.36 0.61      10.20   5       red   red    \n",
       "1936 50                   3.10 0.58      10.40   5       red   red    \n",
       "1937 54                   3.51 0.66      11.30   6       red   red    \n",
       "1938 28                   3.41 0.60       9.40   5       red   red    \n",
       "1939 23                   3.54 0.60      11.00   6       red   red    \n",
       "1940 20                   3.29 0.54      10.10   5       red   red    \n",
       "1941 20                   3.29 0.54      10.10   5       red   red    \n",
       "1942 42                   3.34 0.59       9.20   5       red   red    \n",
       "1943 25                   3.44 0.65      11.10   6       red   red    \n",
       "1944 92                   3.39 0.48      10.50   6       red   white  \n",
       "1945 98                   3.33 0.62       9.80   5       red   red    \n",
       "1946 48                   3.30 0.84      11.50   6       red   red    \n",
       "1947 38                   3.42 0.82       9.50   6       red   red    \n",
       "1948 44                   3.57 0.71      10.20   5       red   red    "
      ]
     },
     "metadata": {},
     "output_type": "display_data"
    }
   ],
   "source": [
    "# print validation dataset and predictions by row\n",
    "(val<-as.data.frame(c(testing,as.data.frame(svmPred))))"
   ]
  },
  {
   "cell_type": "markdown",
   "metadata": {
    "collapsed": true
   },
   "source": [
    "Now if you want to get the predictions from a new test data, you can see the item 7.4 of my project [MACHINE LEARNING: A comparison of supervised learning algorithms applied to the classification problem with caret R-project library](http://nbviewer.jupyter.org/github/arqmain/Machine_Learning/blob/master/R_MLearning/MLearning_Classification_Comparison_R_Caret/MLearning_Classification_Comparison_R_Caret.ipynb). "
   ]
  },
  {
   "cell_type": "markdown",
   "metadata": {
    "collapsed": true
   },
   "source": [
    "## VII Conclusion"
   ]
  },
  {
   "cell_type": "markdown",
   "metadata": {},
   "source": [
    "This module of the project develops 5 algorithms of machine learning to classify the wines in white or red according to the 11 variables that characterize the wine subject to classification.\n",
    "\n",
    "The database -dfffull- does not consider two variables that appear in the original base. They could generate a problem of multicollinearity in the process of classification. So,  we got rid of them in dfffull. At the same time, <u><b><i>dfffull</i></b></u> keep all the register of the original database \"df\" but replace the upper outliers by its corresponding <i>Threshold</i>. The application of this rule does not reduce the original data size because it does not eliminate any register. So, dfffull data size is the same as the original \"df\" (6497). \n",
    "\n",
    "The 5 models proposed achieve a very good metric of classification, reaching all a ROC measurement of at least 98%. That is, the variables of the base allow to discriminate clearly the type of wine that they represent.\n",
    "\n",
    "The models were developed by tuning some or all of their parameters most of the time.  Anyway, this is modeling so, we can improve the models by filtering other variables, performing more tuning or doing both things at the same time."
   ]
  },
  {
   "cell_type": "markdown",
   "metadata": {},
   "source": [
    "<hr>\n",
    "By: Hector Alvaro Rojas | Data Science, Visualizations and Applied Statistics | October 12, 2017<br>\n",
    "Url: [http://www.arqmain.net]   &nbsp;&nbsp;&nbsp;|&nbsp;&nbsp;&nbsp;   GitHub: [https://github.com/arqmain]"
   ]
  }
 ],
 "metadata": {
  "anaconda-cloud": {},
  "kernelspec": {
   "display_name": "R",
   "language": "R",
   "name": "ir"
  },
  "language_info": {
   "codemirror_mode": "r",
   "file_extension": ".r",
   "mimetype": "text/x-r-source",
   "name": "R",
   "pygments_lexer": "r",
   "version": "3.4.1"
  }
 },
 "nbformat": 4,
 "nbformat_minor": 2
}
