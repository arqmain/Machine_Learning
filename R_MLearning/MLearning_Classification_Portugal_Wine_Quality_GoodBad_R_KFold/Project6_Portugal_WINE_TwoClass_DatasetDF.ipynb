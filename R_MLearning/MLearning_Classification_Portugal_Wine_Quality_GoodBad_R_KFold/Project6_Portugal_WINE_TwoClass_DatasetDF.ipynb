{
 "cells": [
  {
   "cell_type": "markdown",
   "metadata": {},
   "source": [
    "#  MACHINE LEARNING: Portugal Wine under Two Class approach for Quality classification with Logistic Regression using R and K fold cross-validation\n",
    "# Module 2: Solving Project with Original Dataset (df)\n",
    "\n",
    "By: Hector Alvaro Rojas | Data Science, Visualizations and Applied Statistics | October 25, 2017<br>\n",
    "Url: [http://www.arqmain.net]   &nbsp;&nbsp;&nbsp;|&nbsp;&nbsp;&nbsp;   GitHub: [https://github.com/arqmain]\n",
    "<hr>"
   ]
  },
  {
   "cell_type": "markdown",
   "metadata": {},
   "source": [
    "# I Introduction"
   ]
  },
  {
   "cell_type": "markdown",
   "metadata": {
    "collapsed": true
   },
   "source": [
    "We consider the original dataset (wine) and we get ride off the variables \"density\" and \"free.sulfor.dioxide\" becouse they may cause problems of collinearity that can affect the normal operation of the algorithms since we are in the presence of double information.\n",
    "\n",
    "As a consequence, we obtain the file \"<b>df</b>\" that goes on to represent the base with the original data pre-processed in a format ready to be used in the modeling."
   ]
  },
  {
   "cell_type": "markdown",
   "metadata": {},
   "source": [
    "# II Loading and the Data"
   ]
  },
  {
   "cell_type": "code",
   "execution_count": 117,
   "metadata": {
    "collapsed": true
   },
   "outputs": [],
   "source": [
    "# first remove ALL objects and close all possible connections\n",
    "closeAllConnections()\n",
    "rm(list = ls(all = TRUE)) # Does remove all inclusive hidden\n",
    "\n",
    "# see your memory size\n",
    "memory.size() "
   ]
  },
  {
   "cell_type": "code",
   "execution_count": 49,
   "metadata": {},
   "outputs": [
    {
     "data": {
      "text/html": [
       "<dl class=dl-horizontal>\n",
       "\t<dt>plyr</dt>\n",
       "\t\t<dd>TRUE</dd>\n",
       "\t<dt>dplyr</dt>\n",
       "\t\t<dd>TRUE</dd>\n",
       "\t<dt>car</dt>\n",
       "\t\t<dd>TRUE</dd>\n",
       "\t<dt>caret</dt>\n",
       "\t\t<dd>TRUE</dd>\n",
       "</dl>\n"
      ],
      "text/latex": [
       "\\begin{description*}\n",
       "\\item[plyr] TRUE\n",
       "\\item[dplyr] TRUE\n",
       "\\item[car] TRUE\n",
       "\\item[caret] TRUE\n",
       "\\end{description*}\n"
      ],
      "text/markdown": [
       "plyr\n",
       ":   TRUEdplyr\n",
       ":   TRUEcar\n",
       ":   TRUEcaret\n",
       ":   TRUE\n",
       "\n"
      ],
      "text/plain": [
       " plyr dplyr   car caret \n",
       " TRUE  TRUE  TRUE  TRUE "
      ]
     },
     "metadata": {},
     "output_type": "display_data"
    }
   ],
   "source": [
    "# install packages and load libraries\n",
    "ipak <- function(pkg){\n",
    "    new.pkg <- pkg[!(pkg %in% installed.packages()[, \"Package\"])]\n",
    "    if (length(new.pkg)) \n",
    "        install.packages(new.pkg, dependencies = c(\"Depends\", \"Suggests\"))\n",
    "    sapply(pkg, require, character.only = TRUE)\n",
    "}\n",
    "# usage\n",
    "packages <- c(\"plyr\", \"dplyr\", \"car\", \"caret\")\n",
    "ipak(packages)\n"
   ]
  },
  {
   "cell_type": "code",
   "execution_count": 2,
   "metadata": {},
   "outputs": [
    {
     "data": {
      "text/html": [
       "<table>\n",
       "<thead><tr><th scope=col>fixed.acidity</th><th scope=col>volatile.acidity</th><th scope=col>citric.acid</th><th scope=col>residual.sugar</th><th scope=col>chlorides</th><th scope=col>total.sulfur.dioxide</th><th scope=col>pH</th><th scope=col>sulphates</th><th scope=col>alcohol</th><th scope=col>quality</th><th scope=col>Class</th></tr></thead>\n",
       "<tbody>\n",
       "\t<tr><td>7.0  </td><td>0.27 </td><td>0.36 </td><td>20.7 </td><td>0.045</td><td>170  </td><td>3.00 </td><td>0.45 </td><td> 8.8 </td><td>Good </td><td>white</td></tr>\n",
       "\t<tr><td>6.3  </td><td>0.30 </td><td>0.34 </td><td> 1.6 </td><td>0.049</td><td>132  </td><td>3.30 </td><td>0.49 </td><td> 9.5 </td><td>Good </td><td>white</td></tr>\n",
       "\t<tr><td>8.1  </td><td>0.28 </td><td>0.40 </td><td> 6.9 </td><td>0.050</td><td> 97  </td><td>3.26 </td><td>0.44 </td><td>10.1 </td><td>Good </td><td>white</td></tr>\n",
       "\t<tr><td>7.2  </td><td>0.23 </td><td>0.32 </td><td> 8.5 </td><td>0.058</td><td>186  </td><td>3.19 </td><td>0.40 </td><td> 9.9 </td><td>Good </td><td>white</td></tr>\n",
       "\t<tr><td>7.2  </td><td>0.23 </td><td>0.32 </td><td> 8.5 </td><td>0.058</td><td>186  </td><td>3.19 </td><td>0.40 </td><td> 9.9 </td><td>Good </td><td>white</td></tr>\n",
       "\t<tr><td>8.1  </td><td>0.28 </td><td>0.40 </td><td> 6.9 </td><td>0.050</td><td> 97  </td><td>3.26 </td><td>0.44 </td><td>10.1 </td><td>Good </td><td>white</td></tr>\n",
       "</tbody>\n",
       "</table>\n"
      ],
      "text/latex": [
       "\\begin{tabular}{r|lllllllllll}\n",
       " fixed.acidity & volatile.acidity & citric.acid & residual.sugar & chlorides & total.sulfur.dioxide & pH & sulphates & alcohol & quality & Class\\\\\n",
       "\\hline\n",
       "\t 7.0   & 0.27  & 0.36  & 20.7  & 0.045 & 170   & 3.00  & 0.45  &  8.8  & Good  & white\\\\\n",
       "\t 6.3   & 0.30  & 0.34  &  1.6  & 0.049 & 132   & 3.30  & 0.49  &  9.5  & Good  & white\\\\\n",
       "\t 8.1   & 0.28  & 0.40  &  6.9  & 0.050 &  97   & 3.26  & 0.44  & 10.1  & Good  & white\\\\\n",
       "\t 7.2   & 0.23  & 0.32  &  8.5  & 0.058 & 186   & 3.19  & 0.40  &  9.9  & Good  & white\\\\\n",
       "\t 7.2   & 0.23  & 0.32  &  8.5  & 0.058 & 186   & 3.19  & 0.40  &  9.9  & Good  & white\\\\\n",
       "\t 8.1   & 0.28  & 0.40  &  6.9  & 0.050 &  97   & 3.26  & 0.44  & 10.1  & Good  & white\\\\\n",
       "\\end{tabular}\n"
      ],
      "text/markdown": [
       "\n",
       "fixed.acidity | volatile.acidity | citric.acid | residual.sugar | chlorides | total.sulfur.dioxide | pH | sulphates | alcohol | quality | Class | \n",
       "|---|---|---|---|---|---|\n",
       "| 7.0   | 0.27  | 0.36  | 20.7  | 0.045 | 170   | 3.00  | 0.45  |  8.8  | Good  | white | \n",
       "| 6.3   | 0.30  | 0.34  |  1.6  | 0.049 | 132   | 3.30  | 0.49  |  9.5  | Good  | white | \n",
       "| 8.1   | 0.28  | 0.40  |  6.9  | 0.050 |  97   | 3.26  | 0.44  | 10.1  | Good  | white | \n",
       "| 7.2   | 0.23  | 0.32  |  8.5  | 0.058 | 186   | 3.19  | 0.40  |  9.9  | Good  | white | \n",
       "| 7.2   | 0.23  | 0.32  |  8.5  | 0.058 | 186   | 3.19  | 0.40  |  9.9  | Good  | white | \n",
       "| 8.1   | 0.28  | 0.40  |  6.9  | 0.050 |  97   | 3.26  | 0.44  | 10.1  | Good  | white | \n",
       "\n",
       "\n"
      ],
      "text/plain": [
       "  fixed.acidity volatile.acidity citric.acid residual.sugar chlorides\n",
       "1 7.0           0.27             0.36        20.7           0.045    \n",
       "2 6.3           0.30             0.34         1.6           0.049    \n",
       "3 8.1           0.28             0.40         6.9           0.050    \n",
       "4 7.2           0.23             0.32         8.5           0.058    \n",
       "5 7.2           0.23             0.32         8.5           0.058    \n",
       "6 8.1           0.28             0.40         6.9           0.050    \n",
       "  total.sulfur.dioxide pH   sulphates alcohol quality Class\n",
       "1 170                  3.00 0.45       8.8    Good    white\n",
       "2 132                  3.30 0.49       9.5    Good    white\n",
       "3  97                  3.26 0.44      10.1    Good    white\n",
       "4 186                  3.19 0.40       9.9    Good    white\n",
       "5 186                  3.19 0.40       9.9    Good    white\n",
       "6  97                  3.26 0.44      10.1    Good    white"
      ]
     },
     "metadata": {},
     "output_type": "display_data"
    }
   ],
   "source": [
    "# define path location of datasets\n",
    "wine1.url <- \"http://archive.ics.uci.edu/ml/machine-learning-databases/wine-quality/winequality-white.csv\"\n",
    "wine2.url <- \"http://archive.ics.uci.edu/ml/machine-learning-databases/wine-quality/winequality-red.csv\"\n",
    "\n",
    "# read datasets\n",
    "wine1 <- read.csv(wine1.url, header=TRUE, sep=';')\n",
    "wine2 <- read.csv(wine2.url, header=TRUE, sep=';')\n",
    "\n",
    "# create dataset base\n",
    "paso <- rbind(cbind(wine1, Class='white'), cbind(wine2, Class='red'))\n",
    "paso$quality<- ifelse(paso$quality>=6, \"Good\", ifelse(paso$quality<6, \"Bad\", NA))\n",
    "\n",
    "df= subset(paso, select=c('fixed.acidity', 'volatile.acidity', 'citric.acid', 'residual.sugar', 'chlorides' ,'total.sulfur.dioxide','pH', 'sulphates', 'alcohol', 'quality', 'Class'))\n",
    "attach(df)\n",
    "head(df)\n",
    "rm(\"paso\", \"wine1\", \"wine2\")"
   ]
  },
  {
   "cell_type": "code",
   "execution_count": 3,
   "metadata": {
    "collapsed": true
   },
   "outputs": [],
   "source": [
    "# verify response variable \"quality\" as factor\n",
    "df$quality <- as.factor(df$quality)\n",
    "df$Class <- as.factor(df$Class)"
   ]
  },
  {
   "cell_type": "code",
   "execution_count": 5,
   "metadata": {},
   "outputs": [
    {
     "name": "stdout",
     "output_type": "stream",
     "text": [
      "'data.frame':\t6497 obs. of  11 variables:\n",
      " $ fixed.acidity       : num  7 6.3 8.1 7.2 7.2 8.1 6.2 7 6.3 8.1 ...\n",
      " $ volatile.acidity    : num  0.27 0.3 0.28 0.23 0.23 0.28 0.32 0.27 0.3 0.22 ...\n",
      " $ citric.acid         : num  0.36 0.34 0.4 0.32 0.32 0.4 0.16 0.36 0.34 0.43 ...\n",
      " $ residual.sugar      : num  20.7 1.6 6.9 8.5 8.5 6.9 7 20.7 1.6 1.5 ...\n",
      " $ chlorides           : num  0.045 0.049 0.05 0.058 0.058 0.05 0.045 0.045 0.049 0.044 ...\n",
      " $ total.sulfur.dioxide: num  170 132 97 186 186 97 136 170 132 129 ...\n",
      " $ pH                  : num  3 3.3 3.26 3.19 3.19 3.26 3.18 3 3.3 3.22 ...\n",
      " $ sulphates           : num  0.45 0.49 0.44 0.4 0.4 0.44 0.47 0.45 0.49 0.45 ...\n",
      " $ alcohol             : num  8.8 9.5 10.1 9.9 9.9 10.1 9.6 8.8 9.5 11 ...\n",
      " $ quality             : Factor w/ 2 levels \"Bad\",\"Good\": 2 2 2 2 2 2 2 2 2 2 ...\n",
      " $ Class               : Factor w/ 2 levels \"white\",\"red\": 1 1 1 1 1 1 1 1 1 1 ...\n"
     ]
    }
   ],
   "source": [
    "# get some information about the dataset\n",
    "str(df)"
   ]
  },
  {
   "cell_type": "markdown",
   "metadata": {},
   "source": [
    "# III Getting train and test datasets"
   ]
  },
  {
   "cell_type": "code",
   "execution_count": 27,
   "metadata": {},
   "outputs": [],
   "source": [
    "#stratified sampling to get the train and test dataset\n",
    "set.seed(7) # Set Seed so that same sample can be reproduced in future also\n",
    "# considering response variable as strata\n",
    "data_part <- createDataPartition(y = df$quality ,  p = 0.70, list = F)\n",
    "testing <- df[-data_part,] # 30% data goes here\n",
    "training <- df[data_part,] # 70% here"
   ]
  },
  {
   "cell_type": "code",
   "execution_count": 26,
   "metadata": {},
   "outputs": [
    {
     "data": {
      "text/html": [
       "<table>\n",
       "<thead><tr><th></th><th scope=col>fixed.acidity</th><th scope=col>volatile.acidity</th><th scope=col>citric.acid</th><th scope=col>residual.sugar</th><th scope=col>chlorides</th><th scope=col>total.sulfur.dioxide</th><th scope=col>pH</th><th scope=col>sulphates</th><th scope=col>alcohol</th><th scope=col>quality</th><th scope=col>Class</th></tr></thead>\n",
       "<tbody>\n",
       "\t<tr><th scope=row>2</th><td>6.3  </td><td>0.30 </td><td>0.34 </td><td> 1.6 </td><td>0.049</td><td>132  </td><td>3.30 </td><td>0.49 </td><td> 9.5 </td><td>Good </td><td>white</td></tr>\n",
       "\t<tr><th scope=row>3</th><td>8.1  </td><td>0.28 </td><td>0.40 </td><td> 6.9 </td><td>0.050</td><td> 97  </td><td>3.26 </td><td>0.44 </td><td>10.1 </td><td>Good </td><td>white</td></tr>\n",
       "\t<tr><th scope=row>4</th><td>7.2  </td><td>0.23 </td><td>0.32 </td><td> 8.5 </td><td>0.058</td><td>186  </td><td>3.19 </td><td>0.40 </td><td> 9.9 </td><td>Good </td><td>white</td></tr>\n",
       "\t<tr><th scope=row>5</th><td>7.2  </td><td>0.23 </td><td>0.32 </td><td> 8.5 </td><td>0.058</td><td>186  </td><td>3.19 </td><td>0.40 </td><td> 9.9 </td><td>Good </td><td>white</td></tr>\n",
       "\t<tr><th scope=row>8</th><td>7.0  </td><td>0.27 </td><td>0.36 </td><td>20.7 </td><td>0.045</td><td>170  </td><td>3.00 </td><td>0.45 </td><td> 8.8 </td><td>Good </td><td>white</td></tr>\n",
       "\t<tr><th scope=row>9</th><td>6.3  </td><td>0.30 </td><td>0.34 </td><td> 1.6 </td><td>0.049</td><td>132  </td><td>3.30 </td><td>0.49 </td><td> 9.5 </td><td>Good </td><td>white</td></tr>\n",
       "</tbody>\n",
       "</table>\n"
      ],
      "text/latex": [
       "\\begin{tabular}{r|lllllllllll}\n",
       "  & fixed.acidity & volatile.acidity & citric.acid & residual.sugar & chlorides & total.sulfur.dioxide & pH & sulphates & alcohol & quality & Class\\\\\n",
       "\\hline\n",
       "\t2 & 6.3   & 0.30  & 0.34  &  1.6  & 0.049 & 132   & 3.30  & 0.49  &  9.5  & Good  & white\\\\\n",
       "\t3 & 8.1   & 0.28  & 0.40  &  6.9  & 0.050 &  97   & 3.26  & 0.44  & 10.1  & Good  & white\\\\\n",
       "\t4 & 7.2   & 0.23  & 0.32  &  8.5  & 0.058 & 186   & 3.19  & 0.40  &  9.9  & Good  & white\\\\\n",
       "\t5 & 7.2   & 0.23  & 0.32  &  8.5  & 0.058 & 186   & 3.19  & 0.40  &  9.9  & Good  & white\\\\\n",
       "\t8 & 7.0   & 0.27  & 0.36  & 20.7  & 0.045 & 170   & 3.00  & 0.45  &  8.8  & Good  & white\\\\\n",
       "\t9 & 6.3   & 0.30  & 0.34  &  1.6  & 0.049 & 132   & 3.30  & 0.49  &  9.5  & Good  & white\\\\\n",
       "\\end{tabular}\n"
      ],
      "text/markdown": [
       "\n",
       "| <!--/--> | fixed.acidity | volatile.acidity | citric.acid | residual.sugar | chlorides | total.sulfur.dioxide | pH | sulphates | alcohol | quality | Class | \n",
       "|---|---|---|---|---|---|\n",
       "| 2 | 6.3   | 0.30  | 0.34  |  1.6  | 0.049 | 132   | 3.30  | 0.49  |  9.5  | Good  | white | \n",
       "| 3 | 8.1   | 0.28  | 0.40  |  6.9  | 0.050 |  97   | 3.26  | 0.44  | 10.1  | Good  | white | \n",
       "| 4 | 7.2   | 0.23  | 0.32  |  8.5  | 0.058 | 186   | 3.19  | 0.40  |  9.9  | Good  | white | \n",
       "| 5 | 7.2   | 0.23  | 0.32  |  8.5  | 0.058 | 186   | 3.19  | 0.40  |  9.9  | Good  | white | \n",
       "| 8 | 7.0   | 0.27  | 0.36  | 20.7  | 0.045 | 170   | 3.00  | 0.45  |  8.8  | Good  | white | \n",
       "| 9 | 6.3   | 0.30  | 0.34  |  1.6  | 0.049 | 132   | 3.30  | 0.49  |  9.5  | Good  | white | \n",
       "\n",
       "\n"
      ],
      "text/plain": [
       "  fixed.acidity volatile.acidity citric.acid residual.sugar chlorides\n",
       "2 6.3           0.30             0.34         1.6           0.049    \n",
       "3 8.1           0.28             0.40         6.9           0.050    \n",
       "4 7.2           0.23             0.32         8.5           0.058    \n",
       "5 7.2           0.23             0.32         8.5           0.058    \n",
       "8 7.0           0.27             0.36        20.7           0.045    \n",
       "9 6.3           0.30             0.34         1.6           0.049    \n",
       "  total.sulfur.dioxide pH   sulphates alcohol quality Class\n",
       "2 132                  3.30 0.49       9.5    Good    white\n",
       "3  97                  3.26 0.44      10.1    Good    white\n",
       "4 186                  3.19 0.40       9.9    Good    white\n",
       "5 186                  3.19 0.40       9.9    Good    white\n",
       "8 170                  3.00 0.45       8.8    Good    white\n",
       "9 132                  3.30 0.49       9.5    Good    white"
      ]
     },
     "metadata": {},
     "output_type": "display_data"
    },
    {
     "data": {
      "text/html": [
       "<table>\n",
       "<thead><tr><th></th><th scope=col>fixed.acidity</th><th scope=col>volatile.acidity</th><th scope=col>citric.acid</th><th scope=col>residual.sugar</th><th scope=col>chlorides</th><th scope=col>total.sulfur.dioxide</th><th scope=col>pH</th><th scope=col>sulphates</th><th scope=col>alcohol</th><th scope=col>quality</th><th scope=col>Class</th></tr></thead>\n",
       "<tbody>\n",
       "\t<tr><th scope=row>1</th><td>7.0  </td><td>0.27 </td><td>0.36 </td><td>20.70</td><td>0.045</td><td>170  </td><td>3.00 </td><td>0.45 </td><td> 8.8 </td><td>Good </td><td>white</td></tr>\n",
       "\t<tr><th scope=row>6</th><td>8.1  </td><td>0.28 </td><td>0.40 </td><td> 6.90</td><td>0.050</td><td> 97  </td><td>3.26 </td><td>0.44 </td><td>10.1 </td><td>Good </td><td>white</td></tr>\n",
       "\t<tr><th scope=row>7</th><td>6.2  </td><td>0.32 </td><td>0.16 </td><td> 7.00</td><td>0.045</td><td>136  </td><td>3.18 </td><td>0.47 </td><td> 9.6 </td><td>Good </td><td>white</td></tr>\n",
       "\t<tr><th scope=row>11</th><td>8.1  </td><td>0.27 </td><td>0.41 </td><td> 1.45</td><td>0.033</td><td> 63  </td><td>2.99 </td><td>0.56 </td><td>12.0 </td><td>Bad  </td><td>white</td></tr>\n",
       "\t<tr><th scope=row>12</th><td>8.6  </td><td>0.23 </td><td>0.40 </td><td> 4.20</td><td>0.035</td><td>109  </td><td>3.14 </td><td>0.53 </td><td> 9.7 </td><td>Bad  </td><td>white</td></tr>\n",
       "\t<tr><th scope=row>19</th><td>7.4  </td><td>0.34 </td><td>0.42 </td><td> 1.10</td><td>0.033</td><td>171  </td><td>3.12 </td><td>0.53 </td><td>11.3 </td><td>Good </td><td>white</td></tr>\n",
       "</tbody>\n",
       "</table>\n"
      ],
      "text/latex": [
       "\\begin{tabular}{r|lllllllllll}\n",
       "  & fixed.acidity & volatile.acidity & citric.acid & residual.sugar & chlorides & total.sulfur.dioxide & pH & sulphates & alcohol & quality & Class\\\\\n",
       "\\hline\n",
       "\t1 & 7.0   & 0.27  & 0.36  & 20.70 & 0.045 & 170   & 3.00  & 0.45  &  8.8  & Good  & white\\\\\n",
       "\t6 & 8.1   & 0.28  & 0.40  &  6.90 & 0.050 &  97   & 3.26  & 0.44  & 10.1  & Good  & white\\\\\n",
       "\t7 & 6.2   & 0.32  & 0.16  &  7.00 & 0.045 & 136   & 3.18  & 0.47  &  9.6  & Good  & white\\\\\n",
       "\t11 & 8.1   & 0.27  & 0.41  &  1.45 & 0.033 &  63   & 2.99  & 0.56  & 12.0  & Bad   & white\\\\\n",
       "\t12 & 8.6   & 0.23  & 0.40  &  4.20 & 0.035 & 109   & 3.14  & 0.53  &  9.7  & Bad   & white\\\\\n",
       "\t19 & 7.4   & 0.34  & 0.42  &  1.10 & 0.033 & 171   & 3.12  & 0.53  & 11.3  & Good  & white\\\\\n",
       "\\end{tabular}\n"
      ],
      "text/markdown": [
       "\n",
       "| <!--/--> | fixed.acidity | volatile.acidity | citric.acid | residual.sugar | chlorides | total.sulfur.dioxide | pH | sulphates | alcohol | quality | Class | \n",
       "|---|---|---|---|---|---|\n",
       "| 1 | 7.0   | 0.27  | 0.36  | 20.70 | 0.045 | 170   | 3.00  | 0.45  |  8.8  | Good  | white | \n",
       "| 6 | 8.1   | 0.28  | 0.40  |  6.90 | 0.050 |  97   | 3.26  | 0.44  | 10.1  | Good  | white | \n",
       "| 7 | 6.2   | 0.32  | 0.16  |  7.00 | 0.045 | 136   | 3.18  | 0.47  |  9.6  | Good  | white | \n",
       "| 11 | 8.1   | 0.27  | 0.41  |  1.45 | 0.033 |  63   | 2.99  | 0.56  | 12.0  | Bad   | white | \n",
       "| 12 | 8.6   | 0.23  | 0.40  |  4.20 | 0.035 | 109   | 3.14  | 0.53  |  9.7  | Bad   | white | \n",
       "| 19 | 7.4   | 0.34  | 0.42  |  1.10 | 0.033 | 171   | 3.12  | 0.53  | 11.3  | Good  | white | \n",
       "\n",
       "\n"
      ],
      "text/plain": [
       "   fixed.acidity volatile.acidity citric.acid residual.sugar chlorides\n",
       "1  7.0           0.27             0.36        20.70          0.045    \n",
       "6  8.1           0.28             0.40         6.90          0.050    \n",
       "7  6.2           0.32             0.16         7.00          0.045    \n",
       "11 8.1           0.27             0.41         1.45          0.033    \n",
       "12 8.6           0.23             0.40         4.20          0.035    \n",
       "19 7.4           0.34             0.42         1.10          0.033    \n",
       "   total.sulfur.dioxide pH   sulphates alcohol quality Class\n",
       "1  170                  3.00 0.45       8.8    Good    white\n",
       "6   97                  3.26 0.44      10.1    Good    white\n",
       "7  136                  3.18 0.47       9.6    Good    white\n",
       "11  63                  2.99 0.56      12.0    Bad     white\n",
       "12 109                  3.14 0.53       9.7    Bad     white\n",
       "19 171                  3.12 0.53      11.3    Good    white"
      ]
     },
     "metadata": {},
     "output_type": "display_data"
    }
   ],
   "source": [
    "#taking a look of the train and test dataset by columns \n",
    "head(training)\n",
    "head(testing)"
   ]
  },
  {
   "cell_type": "code",
   "execution_count": 27,
   "metadata": {},
   "outputs": [
    {
     "name": "stdout",
     "output_type": "stream",
     "text": [
      "'data.frame':\t4549 obs. of  11 variables:\n",
      " $ fixed.acidity       : num  6.3 8.1 7.2 7.2 7 6.3 8.1 7.9 6.6 8.3 ...\n",
      " $ volatile.acidity    : num  0.3 0.28 0.23 0.23 0.27 0.3 0.22 0.18 0.16 0.42 ...\n",
      " $ citric.acid         : num  0.34 0.4 0.32 0.32 0.36 0.34 0.43 0.37 0.4 0.62 ...\n",
      " $ residual.sugar      : num  1.6 6.9 8.5 8.5 20.7 ...\n",
      " $ chlorides           : num  0.049 0.05 0.058 0.058 0.045 0.049 0.044 0.04 0.044 0.04 ...\n",
      " $ total.sulfur.dioxide: num  132 97 186 186 170 132 129 75 143 172 ...\n",
      " $ pH                  : num  3.3 3.26 3.19 3.19 3 3.3 3.22 3.18 3.54 2.98 ...\n",
      " $ sulphates           : num  0.49 0.44 0.4 0.4 0.45 0.49 0.45 0.63 0.52 0.67 ...\n",
      " $ alcohol             : num  9.5 10.1 9.9 9.9 8.8 9.5 11 10.8 12.4 9.7 ...\n",
      " $ quality             : Factor w/ 2 levels \"Bad\",\"Good\": 2 2 2 2 2 2 2 1 2 1 ...\n",
      " $ Class               : Factor w/ 2 levels \"white\",\"red\": 1 1 1 1 1 1 1 1 1 1 ...\n"
     ]
    }
   ],
   "source": [
    "# get some information about training dataset\n",
    "str(training[,1:11])"
   ]
  },
  {
   "cell_type": "code",
   "execution_count": 28,
   "metadata": {},
   "outputs": [
    {
     "name": "stdout",
     "output_type": "stream",
     "text": [
      "'data.frame':\t1948 obs. of  11 variables:\n",
      " $ fixed.acidity       : num  7 8.1 6.2 8.1 8.6 7.4 6.5 7 7.4 8.5 ...\n",
      " $ volatile.acidity    : num  0.27 0.28 0.32 0.27 0.23 0.34 0.31 0.25 0.27 0.24 ...\n",
      " $ citric.acid         : num  0.36 0.4 0.16 0.41 0.4 0.42 0.14 0.32 0.48 0.39 ...\n",
      " $ residual.sugar      : num  20.7 6.9 7 1.45 4.2 1.1 7.5 9 1.1 10.4 ...\n",
      " $ chlorides           : num  0.045 0.05 0.045 0.033 0.035 0.033 0.044 0.046 0.047 0.044 ...\n",
      " $ total.sulfur.dioxide: num  170 97 136 63 109 171 133 245 132 142 ...\n",
      " $ pH                  : num  3 3.26 3.18 2.99 3.14 3.12 3.22 3.25 3.19 3.2 ...\n",
      " $ sulphates           : num  0.45 0.44 0.47 0.56 0.53 0.53 0.5 0.5 0.49 0.53 ...\n",
      " $ alcohol             : num  8.8 10.1 9.6 12 9.7 11.3 9.5 10.4 11.6 10 ...\n",
      " $ quality             : Factor w/ 2 levels \"Bad\",\"Good\": 2 2 2 1 1 2 1 2 2 2 ...\n",
      " $ Class               : Factor w/ 2 levels \"white\",\"red\": 1 1 1 1 1 1 1 1 1 1 ...\n"
     ]
    }
   ],
   "source": [
    "# get some information about testing dataset\n",
    "str(testing[,1:11])"
   ]
  },
  {
   "cell_type": "code",
   "execution_count": 5,
   "metadata": {
    "collapsed": true
   },
   "outputs": [],
   "source": [
    "#summarize full dataset by columns \n",
    "propmiss <- function(dataframe) {\n",
    "\tm <- sapply(dataframe, function(x) {\n",
    "\t\tdata.frame(\n",
    "\t\t\tn=length(!is.na(x)), \n",
    "\t\t\tnmiss=sum(is.na(x)), \n",
    "\t\t\tpropmiss=sum(is.na(x))/length(x),\n",
    "\t\t\tP25=round(quantile(x, 0.25, na.rm=TRUE),2),\n",
    "\t\t\tP75=round(quantile(x, 0.75, na.rm=TRUE),2),            \n",
    "\t\t\tIQR=round(IQR(x, na.rm=TRUE),2),\n",
    "\t\t\tThreshold= round(quantile(x, 0.75, na.rm=TRUE),2) + 1.5*round(IQR(x, na.rm=TRUE),2),            \n",
    "\t\t\tMinimum=round(min(x, na.rm=TRUE),2),\n",
    "\t\t\tMedian=round(median(x, na.rm=TRUE),2),            \n",
    "\t\t\tMaximum=round(max(x, na.rm=TRUE),2),\n",
    "\t\t\tRange=round(max(x, na.rm=TRUE)-min(x, na.rm=TRUE),2),\n",
    "\t\t\tMean=round(mean(x, na.rm=TRUE),2),\n",
    "\t\t\tStDev=round(sd(x, na.rm=TRUE),2)\n",
    "\t\t)\n",
    "\t})\n",
    "\td <- data.frame(t(m))\n",
    "\td <- sapply(d, unlist)\n",
    "\td <- as.data.frame(d)\n",
    "\td$variable <- row.names(d)\n",
    "\trow.names(d) <- NULL\n",
    "\td <- cbind(d[ncol(d)],d[-ncol(d)])\n",
    "\treturn(d[order(d$propmiss), ])\n",
    "}"
   ]
  },
  {
   "cell_type": "code",
   "execution_count": 30,
   "metadata": {},
   "outputs": [
    {
     "data": {
      "text/html": [
       "<table>\n",
       "<thead><tr><th scope=col>variable</th><th scope=col>n</th><th scope=col>P25</th><th scope=col>P75</th><th scope=col>IQR</th><th scope=col>Minimum</th><th scope=col>Median</th><th scope=col>Maximum</th><th scope=col>Range</th><th scope=col>Mean</th><th scope=col>StDev</th></tr></thead>\n",
       "<tbody>\n",
       "\t<tr><td>fixed.acidity       </td><td>4549                </td><td> 6.40               </td><td>  7.70              </td><td> 1.30               </td><td>3.80                </td><td>  7.00              </td><td> 15.90              </td><td> 12.10              </td><td>  7.22              </td><td> 1.30               </td></tr>\n",
       "\t<tr><td>volatile.acidity    </td><td>4549                </td><td> 0.23               </td><td>  0.41              </td><td> 0.18               </td><td>0.08                </td><td>  0.29              </td><td>  1.58              </td><td>  1.50              </td><td>  0.34              </td><td> 0.17               </td></tr>\n",
       "\t<tr><td>citric.acid         </td><td>4549                </td><td> 0.25               </td><td>  0.39              </td><td> 0.14               </td><td>0.00                </td><td>  0.31              </td><td>  1.66              </td><td>  1.66              </td><td>  0.32              </td><td> 0.15               </td></tr>\n",
       "\t<tr><td>residual.sugar      </td><td>4549                </td><td> 1.80               </td><td>  8.00              </td><td> 6.20               </td><td>0.60                </td><td>  2.90              </td><td> 65.80              </td><td> 65.20              </td><td>  5.38              </td><td> 4.76               </td></tr>\n",
       "\t<tr><td>chlorides           </td><td>4549                </td><td> 0.04               </td><td>  0.06              </td><td> 0.03               </td><td>0.01                </td><td>  0.05              </td><td>  0.61              </td><td>  0.60              </td><td>  0.06              </td><td> 0.04               </td></tr>\n",
       "\t<tr><td>total.sulfur.dioxide</td><td>4549                </td><td>77.00               </td><td>156.00              </td><td>79.00               </td><td>6.00                </td><td>118.00              </td><td>344.00              </td><td>338.00              </td><td>115.56              </td><td>56.82               </td></tr>\n",
       "\t<tr><td>pH                  </td><td>4549                </td><td> 3.11               </td><td>  3.32              </td><td> 0.21               </td><td>2.72                </td><td>  3.21              </td><td>  4.01              </td><td>  1.29              </td><td>  3.22              </td><td> 0.16               </td></tr>\n",
       "\t<tr><td>sulphates           </td><td>4549                </td><td> 0.43               </td><td>  0.60              </td><td> 0.17               </td><td>0.25                </td><td>  0.51              </td><td>  2.00              </td><td>  1.75              </td><td>  0.53              </td><td> 0.15               </td></tr>\n",
       "\t<tr><td>alcohol             </td><td>4549                </td><td> 9.50               </td><td> 11.30              </td><td> 1.80               </td><td>8.00                </td><td> 10.40              </td><td> 14.90              </td><td>  6.90              </td><td> 10.51              </td><td> 1.20               </td></tr>\n",
       "</tbody>\n",
       "</table>\n"
      ],
      "text/latex": [
       "\\begin{tabular}{r|lllllllllll}\n",
       " variable & n & P25 & P75 & IQR & Minimum & Median & Maximum & Range & Mean & StDev\\\\\n",
       "\\hline\n",
       "\t fixed.acidity        & 4549                 &  6.40                &   7.70               &  1.30                & 3.80                 &   7.00               &  15.90               &  12.10               &   7.22               &  1.30               \\\\\n",
       "\t volatile.acidity     & 4549                 &  0.23                &   0.41               &  0.18                & 0.08                 &   0.29               &   1.58               &   1.50               &   0.34               &  0.17               \\\\\n",
       "\t citric.acid          & 4549                 &  0.25                &   0.39               &  0.14                & 0.00                 &   0.31               &   1.66               &   1.66               &   0.32               &  0.15               \\\\\n",
       "\t residual.sugar       & 4549                 &  1.80                &   8.00               &  6.20                & 0.60                 &   2.90               &  65.80               &  65.20               &   5.38               &  4.76               \\\\\n",
       "\t chlorides            & 4549                 &  0.04                &   0.06               &  0.03                & 0.01                 &   0.05               &   0.61               &   0.60               &   0.06               &  0.04               \\\\\n",
       "\t total.sulfur.dioxide & 4549                 & 77.00                & 156.00               & 79.00                & 6.00                 & 118.00               & 344.00               & 338.00               & 115.56               & 56.82               \\\\\n",
       "\t pH                   & 4549                 &  3.11                &   3.32               &  0.21                & 2.72                 &   3.21               &   4.01               &   1.29               &   3.22               &  0.16               \\\\\n",
       "\t sulphates            & 4549                 &  0.43                &   0.60               &  0.17                & 0.25                 &   0.51               &   2.00               &   1.75               &   0.53               &  0.15               \\\\\n",
       "\t alcohol              & 4549                 &  9.50                &  11.30               &  1.80                & 8.00                 &  10.40               &  14.90               &   6.90               &  10.51               &  1.20               \\\\\n",
       "\\end{tabular}\n"
      ],
      "text/markdown": [
       "\n",
       "variable | n | P25 | P75 | IQR | Minimum | Median | Maximum | Range | Mean | StDev | \n",
       "|---|---|---|---|---|---|---|---|---|\n",
       "| fixed.acidity        | 4549                 |  6.40                |   7.70               |  1.30                | 3.80                 |   7.00               |  15.90               |  12.10               |   7.22               |  1.30                | \n",
       "| volatile.acidity     | 4549                 |  0.23                |   0.41               |  0.18                | 0.08                 |   0.29               |   1.58               |   1.50               |   0.34               |  0.17                | \n",
       "| citric.acid          | 4549                 |  0.25                |   0.39               |  0.14                | 0.00                 |   0.31               |   1.66               |   1.66               |   0.32               |  0.15                | \n",
       "| residual.sugar       | 4549                 |  1.80                |   8.00               |  6.20                | 0.60                 |   2.90               |  65.80               |  65.20               |   5.38               |  4.76                | \n",
       "| chlorides            | 4549                 |  0.04                |   0.06               |  0.03                | 0.01                 |   0.05               |   0.61               |   0.60               |   0.06               |  0.04                | \n",
       "| total.sulfur.dioxide | 4549                 | 77.00                | 156.00               | 79.00                | 6.00                 | 118.00               | 344.00               | 338.00               | 115.56               | 56.82                | \n",
       "| pH                   | 4549                 |  3.11                |   3.32               |  0.21                | 2.72                 |   3.21               |   4.01               |   1.29               |   3.22               |  0.16                | \n",
       "| sulphates            | 4549                 |  0.43                |   0.60               |  0.17                | 0.25                 |   0.51               |   2.00               |   1.75               |   0.53               |  0.15                | \n",
       "| alcohol              | 4549                 |  9.50                |  11.30               |  1.80                | 8.00                 |  10.40               |  14.90               |   6.90               |  10.51               |  1.20                | \n",
       "\n",
       "\n"
      ],
      "text/plain": [
       "  variable             n    P25   P75    IQR   Minimum Median Maximum Range \n",
       "1 fixed.acidity        4549  6.40   7.70  1.30 3.80      7.00  15.90   12.10\n",
       "2 volatile.acidity     4549  0.23   0.41  0.18 0.08      0.29   1.58    1.50\n",
       "3 citric.acid          4549  0.25   0.39  0.14 0.00      0.31   1.66    1.66\n",
       "4 residual.sugar       4549  1.80   8.00  6.20 0.60      2.90  65.80   65.20\n",
       "5 chlorides            4549  0.04   0.06  0.03 0.01      0.05   0.61    0.60\n",
       "6 total.sulfur.dioxide 4549 77.00 156.00 79.00 6.00    118.00 344.00  338.00\n",
       "7 pH                   4549  3.11   3.32  0.21 2.72      3.21   4.01    1.29\n",
       "8 sulphates            4549  0.43   0.60  0.17 0.25      0.51   2.00    1.75\n",
       "9 alcohol              4549  9.50  11.30  1.80 8.00     10.40  14.90    6.90\n",
       "  Mean   StDev\n",
       "1   7.22  1.30\n",
       "2   0.34  0.17\n",
       "3   0.32  0.15\n",
       "4   5.38  4.76\n",
       "5   0.06  0.04\n",
       "6 115.56 56.82\n",
       "7   3.22  0.16\n",
       "8   0.53  0.15\n",
       "9  10.51  1.20"
      ]
     },
     "metadata": {},
     "output_type": "display_data"
    }
   ],
   "source": [
    "# summarize training dataset\n",
    "(summary=propmiss(training[,-c(10:11)])[,-(3:4)][,-6])"
   ]
  },
  {
   "cell_type": "code",
   "execution_count": 31,
   "metadata": {},
   "outputs": [
    {
     "data": {
      "text/html": [
       "<table>\n",
       "<thead><tr><th scope=col>variable</th><th scope=col>n</th><th scope=col>P25</th><th scope=col>P75</th><th scope=col>IQR</th><th scope=col>Minimum</th><th scope=col>Median</th><th scope=col>Maximum</th><th scope=col>Range</th><th scope=col>Mean</th><th scope=col>StDev</th></tr></thead>\n",
       "<tbody>\n",
       "\t<tr><td>fixed.acidity       </td><td>1948                </td><td> 6.40               </td><td>  7.70              </td><td> 1.30               </td><td>4.40                </td><td>  7.00              </td><td> 15.60              </td><td> 11.20              </td><td>  7.21              </td><td> 1.30               </td></tr>\n",
       "\t<tr><td>volatile.acidity    </td><td>1948                </td><td> 0.23               </td><td>  0.40              </td><td> 0.17               </td><td>0.08                </td><td>  0.29              </td><td>  1.33              </td><td>  1.25              </td><td>  0.34              </td><td> 0.16               </td></tr>\n",
       "\t<tr><td>citric.acid         </td><td>1948                </td><td> 0.24               </td><td>  0.39              </td><td> 0.15               </td><td>0.00                </td><td>  0.31              </td><td>  1.00              </td><td>  1.00              </td><td>  0.32              </td><td> 0.15               </td></tr>\n",
       "\t<tr><td>residual.sugar      </td><td>1948                </td><td> 1.80               </td><td>  8.30              </td><td> 6.50               </td><td>0.70                </td><td>  3.30              </td><td> 31.60              </td><td> 30.90              </td><td>  5.58              </td><td> 4.76               </td></tr>\n",
       "\t<tr><td>chlorides           </td><td>1948                </td><td> 0.04               </td><td>  0.06              </td><td> 0.03               </td><td>0.01                </td><td>  0.05              </td><td>  0.42              </td><td>  0.41              </td><td>  0.06              </td><td> 0.03               </td></tr>\n",
       "\t<tr><td>total.sulfur.dioxide</td><td>1948                </td><td>78.00               </td><td>155.00              </td><td>77.00               </td><td>6.00                </td><td>119.00              </td><td>440.00              </td><td>434.00              </td><td>116.17              </td><td>55.82               </td></tr>\n",
       "\t<tr><td>pH                  </td><td>1948                </td><td> 3.11               </td><td>  3.31              </td><td> 0.20               </td><td>2.74                </td><td>  3.20              </td><td>  4.01              </td><td>  1.27              </td><td>  3.22              </td><td> 0.16               </td></tr>\n",
       "\t<tr><td>sulphates           </td><td>1948                </td><td> 0.43               </td><td>  0.59              </td><td> 0.16               </td><td>0.22                </td><td>  0.50              </td><td>  1.95              </td><td>  1.73              </td><td>  0.53              </td><td> 0.15               </td></tr>\n",
       "\t<tr><td>alcohol             </td><td>1948                </td><td> 9.50               </td><td> 11.30              </td><td> 1.80               </td><td>8.40                </td><td> 10.20              </td><td> 14.00              </td><td>  5.60              </td><td> 10.45              </td><td> 1.19               </td></tr>\n",
       "</tbody>\n",
       "</table>\n"
      ],
      "text/latex": [
       "\\begin{tabular}{r|lllllllllll}\n",
       " variable & n & P25 & P75 & IQR & Minimum & Median & Maximum & Range & Mean & StDev\\\\\n",
       "\\hline\n",
       "\t fixed.acidity        & 1948                 &  6.40                &   7.70               &  1.30                & 4.40                 &   7.00               &  15.60               &  11.20               &   7.21               &  1.30               \\\\\n",
       "\t volatile.acidity     & 1948                 &  0.23                &   0.40               &  0.17                & 0.08                 &   0.29               &   1.33               &   1.25               &   0.34               &  0.16               \\\\\n",
       "\t citric.acid          & 1948                 &  0.24                &   0.39               &  0.15                & 0.00                 &   0.31               &   1.00               &   1.00               &   0.32               &  0.15               \\\\\n",
       "\t residual.sugar       & 1948                 &  1.80                &   8.30               &  6.50                & 0.70                 &   3.30               &  31.60               &  30.90               &   5.58               &  4.76               \\\\\n",
       "\t chlorides            & 1948                 &  0.04                &   0.06               &  0.03                & 0.01                 &   0.05               &   0.42               &   0.41               &   0.06               &  0.03               \\\\\n",
       "\t total.sulfur.dioxide & 1948                 & 78.00                & 155.00               & 77.00                & 6.00                 & 119.00               & 440.00               & 434.00               & 116.17               & 55.82               \\\\\n",
       "\t pH                   & 1948                 &  3.11                &   3.31               &  0.20                & 2.74                 &   3.20               &   4.01               &   1.27               &   3.22               &  0.16               \\\\\n",
       "\t sulphates            & 1948                 &  0.43                &   0.59               &  0.16                & 0.22                 &   0.50               &   1.95               &   1.73               &   0.53               &  0.15               \\\\\n",
       "\t alcohol              & 1948                 &  9.50                &  11.30               &  1.80                & 8.40                 &  10.20               &  14.00               &   5.60               &  10.45               &  1.19               \\\\\n",
       "\\end{tabular}\n"
      ],
      "text/markdown": [
       "\n",
       "variable | n | P25 | P75 | IQR | Minimum | Median | Maximum | Range | Mean | StDev | \n",
       "|---|---|---|---|---|---|---|---|---|\n",
       "| fixed.acidity        | 1948                 |  6.40                |   7.70               |  1.30                | 4.40                 |   7.00               |  15.60               |  11.20               |   7.21               |  1.30                | \n",
       "| volatile.acidity     | 1948                 |  0.23                |   0.40               |  0.17                | 0.08                 |   0.29               |   1.33               |   1.25               |   0.34               |  0.16                | \n",
       "| citric.acid          | 1948                 |  0.24                |   0.39               |  0.15                | 0.00                 |   0.31               |   1.00               |   1.00               |   0.32               |  0.15                | \n",
       "| residual.sugar       | 1948                 |  1.80                |   8.30               |  6.50                | 0.70                 |   3.30               |  31.60               |  30.90               |   5.58               |  4.76                | \n",
       "| chlorides            | 1948                 |  0.04                |   0.06               |  0.03                | 0.01                 |   0.05               |   0.42               |   0.41               |   0.06               |  0.03                | \n",
       "| total.sulfur.dioxide | 1948                 | 78.00                | 155.00               | 77.00                | 6.00                 | 119.00               | 440.00               | 434.00               | 116.17               | 55.82                | \n",
       "| pH                   | 1948                 |  3.11                |   3.31               |  0.20                | 2.74                 |   3.20               |   4.01               |   1.27               |   3.22               |  0.16                | \n",
       "| sulphates            | 1948                 |  0.43                |   0.59               |  0.16                | 0.22                 |   0.50               |   1.95               |   1.73               |   0.53               |  0.15                | \n",
       "| alcohol              | 1948                 |  9.50                |  11.30               |  1.80                | 8.40                 |  10.20               |  14.00               |   5.60               |  10.45               |  1.19                | \n",
       "\n",
       "\n"
      ],
      "text/plain": [
       "  variable             n    P25   P75    IQR   Minimum Median Maximum Range \n",
       "1 fixed.acidity        1948  6.40   7.70  1.30 4.40      7.00  15.60   11.20\n",
       "2 volatile.acidity     1948  0.23   0.40  0.17 0.08      0.29   1.33    1.25\n",
       "3 citric.acid          1948  0.24   0.39  0.15 0.00      0.31   1.00    1.00\n",
       "4 residual.sugar       1948  1.80   8.30  6.50 0.70      3.30  31.60   30.90\n",
       "5 chlorides            1948  0.04   0.06  0.03 0.01      0.05   0.42    0.41\n",
       "6 total.sulfur.dioxide 1948 78.00 155.00 77.00 6.00    119.00 440.00  434.00\n",
       "7 pH                   1948  3.11   3.31  0.20 2.74      3.20   4.01    1.27\n",
       "8 sulphates            1948  0.43   0.59  0.16 0.22      0.50   1.95    1.73\n",
       "9 alcohol              1948  9.50  11.30  1.80 8.40     10.20  14.00    5.60\n",
       "  Mean   StDev\n",
       "1   7.21  1.30\n",
       "2   0.34  0.16\n",
       "3   0.32  0.15\n",
       "4   5.58  4.76\n",
       "5   0.06  0.03\n",
       "6 116.17 55.82\n",
       "7   3.22  0.16\n",
       "8   0.53  0.15\n",
       "9  10.45  1.19"
      ]
     },
     "metadata": {},
     "output_type": "display_data"
    }
   ],
   "source": [
    "# summarize testing dataset\n",
    "(summary=propmiss(testing[,-c(10:11)])[,-(3:4)][,-6])"
   ]
  },
  {
   "cell_type": "markdown",
   "metadata": {},
   "source": [
    "# IV Logistic Regression\n",
    " \n",
    "In this project I have considered Logistic Regression algorithm. I use \"set.seed(7)\" so that same sample can be reproduced in the future and also it ensures the results are directly comparable."
   ]
  },
  {
   "cell_type": "markdown",
   "metadata": {
    "collapsed": true
   },
   "source": [
    "## 41 Building Machine Learning Model\n",
    "\n",
    "### 411 Find model equation "
   ]
  },
  {
   "cell_type": "code",
   "execution_count": 39,
   "metadata": {},
   "outputs": [
    {
     "data": {
      "text/html": [
       "<ol class=list-inline>\n",
       "\t<li>'fixed.acidity'</li>\n",
       "\t<li>'volatile.acidity'</li>\n",
       "\t<li>'citric.acid'</li>\n",
       "\t<li>'residual.sugar'</li>\n",
       "\t<li>'chlorides'</li>\n",
       "\t<li>'total.sulfur.dioxide'</li>\n",
       "\t<li>'pH'</li>\n",
       "\t<li>'sulphates'</li>\n",
       "\t<li>'alcohol'</li>\n",
       "\t<li>'quality'</li>\n",
       "\t<li>'Class'</li>\n",
       "</ol>\n"
      ],
      "text/latex": [
       "\\begin{enumerate*}\n",
       "\\item 'fixed.acidity'\n",
       "\\item 'volatile.acidity'\n",
       "\\item 'citric.acid'\n",
       "\\item 'residual.sugar'\n",
       "\\item 'chlorides'\n",
       "\\item 'total.sulfur.dioxide'\n",
       "\\item 'pH'\n",
       "\\item 'sulphates'\n",
       "\\item 'alcohol'\n",
       "\\item 'quality'\n",
       "\\item 'Class'\n",
       "\\end{enumerate*}\n"
      ],
      "text/markdown": [
       "1. 'fixed.acidity'\n",
       "2. 'volatile.acidity'\n",
       "3. 'citric.acid'\n",
       "4. 'residual.sugar'\n",
       "5. 'chlorides'\n",
       "6. 'total.sulfur.dioxide'\n",
       "7. 'pH'\n",
       "8. 'sulphates'\n",
       "9. 'alcohol'\n",
       "10. 'quality'\n",
       "11. 'Class'\n",
       "\n",
       "\n"
      ],
      "text/plain": [
       " [1] \"fixed.acidity\"        \"volatile.acidity\"     \"citric.acid\"         \n",
       " [4] \"residual.sugar\"       \"chlorides\"            \"total.sulfur.dioxide\"\n",
       " [7] \"pH\"                   \"sulphates\"            \"alcohol\"             \n",
       "[10] \"quality\"              \"Class\"               "
      ]
     },
     "metadata": {},
     "output_type": "display_data"
    },
    {
     "data": {
      "text/plain": [
       "\n",
       "Call:\n",
       "glm(formula = quality ~ ., family = \"binomial\", data = training)\n",
       "\n",
       "Deviance Residuals: \n",
       "    Min       1Q   Median       3Q      Max  \n",
       "-3.2864  -0.9007   0.4268   0.8137   2.6775  \n",
       "\n",
       "Coefficients:\n",
       "                      Estimate Std. Error z value Pr(>|z|)    \n",
       "(Intercept)          -9.461651   1.137946  -8.315  < 2e-16 ***\n",
       "fixed.acidity        -0.058665   0.039970  -1.468  0.14218    \n",
       "volatile.acidity     -4.929850   0.344870 -14.295  < 2e-16 ***\n",
       "citric.acid          -0.287698   0.311363  -0.924  0.35549    \n",
       "residual.sugar        0.060079   0.009037   6.648 2.98e-11 ***\n",
       "chlorides            -2.093816   1.217861  -1.719  0.08557 .  \n",
       "total.sulfur.dioxide -0.002420   0.001016  -2.381  0.01725 *  \n",
       "pH                    0.317089   0.282134   1.124  0.26106    \n",
       "sulphates             1.646898   0.312352   5.273 1.35e-07 ***\n",
       "alcohol               0.995744   0.044397  22.428  < 2e-16 ***\n",
       "Classred              0.509386   0.196228   2.596  0.00943 ** \n",
       "---\n",
       "Signif. codes:  0 '***' 0.001 '**' 0.01 '*' 0.05 '.' 0.1 ' ' 1\n",
       "\n",
       "(Dispersion parameter for binomial family taken to be 1)\n",
       "\n",
       "    Null deviance: 5979.9  on 4548  degrees of freedom\n",
       "Residual deviance: 4662.9  on 4538  degrees of freedom\n",
       "AIC: 4684.9\n",
       "\n",
       "Number of Fisher Scoring iterations: 5\n"
      ]
     },
     "metadata": {},
     "output_type": "display_data"
    }
   ],
   "source": [
    "## full model\n",
    "names(training)\n",
    "model1<- glm(quality ~ ., data=training, family=\"binomial\")\n",
    "summary(model1)"
   ]
  },
  {
   "cell_type": "code",
   "execution_count": 29,
   "metadata": {},
   "outputs": [
    {
     "data": {
      "text/html": [
       "<dl class=dl-horizontal>\n",
       "\t<dt>fixed.acidity</dt>\n",
       "\t\t<dd>2.08601611695586</dd>\n",
       "\t<dt>volatile.acidity</dt>\n",
       "\t\t<dd>2.33943310604878</dd>\n",
       "\t<dt>citric.acid</dt>\n",
       "\t\t<dd>1.64392920544367</dd>\n",
       "\t<dt>residual.sugar</dt>\n",
       "\t\t<dd>1.58949323196844</dd>\n",
       "\t<dt>chlorides</dt>\n",
       "\t\t<dd>1.58209106138084</dd>\n",
       "\t<dt>total.sulfur.dioxide</dt>\n",
       "\t\t<dd>2.7843207370228</dd>\n",
       "\t<dt>pH</dt>\n",
       "\t\t<dd>1.62152124511799</dd>\n",
       "\t<dt>sulphates</dt>\n",
       "\t\t<dd>1.55031517895319</dd>\n",
       "\t<dt>alcohol</dt>\n",
       "\t\t<dd>1.42935920106499</dd>\n",
       "\t<dt>Class</dt>\n",
       "\t\t<dd>5.60236109712436</dd>\n",
       "</dl>\n"
      ],
      "text/latex": [
       "\\begin{description*}\n",
       "\\item[fixed.acidity] 2.08601611695586\n",
       "\\item[volatile.acidity] 2.33943310604878\n",
       "\\item[citric.acid] 1.64392920544367\n",
       "\\item[residual.sugar] 1.58949323196844\n",
       "\\item[chlorides] 1.58209106138084\n",
       "\\item[total.sulfur.dioxide] 2.7843207370228\n",
       "\\item[pH] 1.62152124511799\n",
       "\\item[sulphates] 1.55031517895319\n",
       "\\item[alcohol] 1.42935920106499\n",
       "\\item[Class] 5.60236109712436\n",
       "\\end{description*}\n"
      ],
      "text/markdown": [
       "fixed.acidity\n",
       ":   2.08601611695586volatile.acidity\n",
       ":   2.33943310604878citric.acid\n",
       ":   1.64392920544367residual.sugar\n",
       ":   1.58949323196844chlorides\n",
       ":   1.58209106138084total.sulfur.dioxide\n",
       ":   2.7843207370228pH\n",
       ":   1.62152124511799sulphates\n",
       ":   1.55031517895319alcohol\n",
       ":   1.42935920106499Class\n",
       ":   5.60236109712436\n",
       "\n"
      ],
      "text/plain": [
       "       fixed.acidity     volatile.acidity          citric.acid \n",
       "            2.086016             2.339433             1.643929 \n",
       "      residual.sugar            chlorides total.sulfur.dioxide \n",
       "            1.589493             1.582091             2.784321 \n",
       "                  pH            sulphates              alcohol \n",
       "            1.621521             1.550315             1.429359 \n",
       "               Class \n",
       "            5.602361 "
      ]
     },
     "metadata": {},
     "output_type": "display_data"
    }
   ],
   "source": [
    "# VIF variable inflation factor for each variable in the model\n",
    "vif(model1)"
   ]
  },
  {
   "cell_type": "markdown",
   "metadata": {},
   "source": [
    "VIF >= 10 ==> variable is collinear and should be omitted from the model. \n",
    "\n",
    "So,  VIF < 6 for all variables ==> variables are ok and should be kept on the model. "
   ]
  },
  {
   "cell_type": "code",
   "execution_count": 40,
   "metadata": {},
   "outputs": [
    {
     "data": {
      "text/plain": [
       "\n",
       "Call:\n",
       "glm(formula = quality ~ fixed.acidity + volatile.acidity + residual.sugar + \n",
       "    chlorides + total.sulfur.dioxide + sulphates + alcohol + \n",
       "    Class, family = binomial(link = \"logit\"), data = training)\n",
       "\n",
       "Deviance Residuals: \n",
       "    Min       1Q   Median       3Q      Max  \n",
       "-3.2620  -0.9042   0.4245   0.8193   2.6739  \n",
       "\n",
       "Coefficients:\n",
       "                      Estimate Std. Error z value Pr(>|z|)    \n",
       "(Intercept)          -8.303121   0.583302 -14.235  < 2e-16 ***\n",
       "fixed.acidity        -0.094429   0.032037  -2.948  0.00320 ** \n",
       "volatile.acidity     -4.829341   0.328449 -14.703  < 2e-16 ***\n",
       "residual.sugar        0.058010   0.008905   6.514 7.31e-11 ***\n",
       "chlorides            -2.542002   1.178236  -2.157  0.03097 *  \n",
       "total.sulfur.dioxide -0.002408   0.001008  -2.390  0.01687 *  \n",
       "sulphates             1.666107   0.309410   5.385 7.25e-08 ***\n",
       "alcohol               0.995605   0.044196  22.527  < 2e-16 ***\n",
       "Classred              0.604536   0.184351   3.279  0.00104 ** \n",
       "---\n",
       "Signif. codes:  0 '***' 0.001 '**' 0.01 '*' 0.05 '.' 0.1 ' ' 1\n",
       "\n",
       "(Dispersion parameter for binomial family taken to be 1)\n",
       "\n",
       "    Null deviance: 5979.9  on 4548  degrees of freedom\n",
       "Residual deviance: 4665.1  on 4540  degrees of freedom\n",
       "AIC: 4683.1\n",
       "\n",
       "Number of Fisher Scoring iterations: 5\n"
      ]
     },
     "metadata": {},
     "output_type": "display_data"
    }
   ],
   "source": [
    "# best model Stepwise backward-AIC\n",
    "model2<- step(glm(quality ~ ., family = binomial(link = \"logit\"), data=training), trace= F, direction=\"backward\")\n",
    "summary(model2)"
   ]
  },
  {
   "cell_type": "code",
   "execution_count": 41,
   "metadata": {},
   "outputs": [
    {
     "data": {
      "text/html": [
       "<dl class=dl-horizontal>\n",
       "\t<dt>fixed.acidity</dt>\n",
       "\t\t<dd>1.34202418336351</dd>\n",
       "\t<dt>volatile.acidity</dt>\n",
       "\t\t<dd>2.12580404162852</dd>\n",
       "\t<dt>residual.sugar</dt>\n",
       "\t\t<dd>1.54815310492989</dd>\n",
       "\t<dt>chlorides</dt>\n",
       "\t\t<dd>1.48456379694083</dd>\n",
       "\t<dt>total.sulfur.dioxide</dt>\n",
       "\t\t<dd>2.73765522802233</dd>\n",
       "\t<dt>sulphates</dt>\n",
       "\t\t<dd>1.51298560721926</dd>\n",
       "\t<dt>alcohol</dt>\n",
       "\t\t<dd>1.41077099726036</dd>\n",
       "\t<dt>Class</dt>\n",
       "\t\t<dd>4.94127093680921</dd>\n",
       "</dl>\n"
      ],
      "text/latex": [
       "\\begin{description*}\n",
       "\\item[fixed.acidity] 1.34202418336351\n",
       "\\item[volatile.acidity] 2.12580404162852\n",
       "\\item[residual.sugar] 1.54815310492989\n",
       "\\item[chlorides] 1.48456379694083\n",
       "\\item[total.sulfur.dioxide] 2.73765522802233\n",
       "\\item[sulphates] 1.51298560721926\n",
       "\\item[alcohol] 1.41077099726036\n",
       "\\item[Class] 4.94127093680921\n",
       "\\end{description*}\n"
      ],
      "text/markdown": [
       "fixed.acidity\n",
       ":   1.34202418336351volatile.acidity\n",
       ":   2.12580404162852residual.sugar\n",
       ":   1.54815310492989chlorides\n",
       ":   1.48456379694083total.sulfur.dioxide\n",
       ":   2.73765522802233sulphates\n",
       ":   1.51298560721926alcohol\n",
       ":   1.41077099726036Class\n",
       ":   4.94127093680921\n",
       "\n"
      ],
      "text/plain": [
       "       fixed.acidity     volatile.acidity       residual.sugar \n",
       "            1.342024             2.125804             1.548153 \n",
       "           chlorides total.sulfur.dioxide            sulphates \n",
       "            1.484564             2.737655             1.512986 \n",
       "             alcohol                Class \n",
       "            1.410771             4.941271 "
      ]
     },
     "metadata": {},
     "output_type": "display_data"
    }
   ],
   "source": [
    "# VIF variable inflation factor for each variable in the model\n",
    "vif(model2)"
   ]
  },
  {
   "cell_type": "markdown",
   "metadata": {},
   "source": [
    "VIF >= 10 ==> variable is collinear and should be omitted from the model. \n",
    "\n",
    "So,  VIF < 6 for all variables ==> variables are ok and should be kept on the model. "
   ]
  },
  {
   "cell_type": "code",
   "execution_count": 42,
   "metadata": {},
   "outputs": [
    {
     "data": {
      "text/plain": [
       "\n",
       "Call:\n",
       "glm(formula = quality ~ fixed.acidity + volatile.acidity + residual.sugar + \n",
       "    sulphates + alcohol + Class, family = binomial(link = \"logit\"), \n",
       "    data = training)\n",
       "\n",
       "Deviance Residuals: \n",
       "    Min       1Q   Median       3Q      Max  \n",
       "-3.3414  -0.9036   0.4229   0.8226   2.7373  \n",
       "\n",
       "Coefficients:\n",
       "                  Estimate Std. Error z value Pr(>|z|)    \n",
       "(Intercept)      -9.085228   0.528126 -17.203  < 2e-16 ***\n",
       "fixed.acidity    -0.094676   0.032044  -2.955  0.00313 ** \n",
       "volatile.acidity -4.960178   0.326688 -15.183  < 2e-16 ***\n",
       "residual.sugar    0.054498   0.008586   6.347 2.19e-10 ***\n",
       "sulphates         1.380367   0.293379   4.705 2.54e-06 ***\n",
       "alcohol           1.046091   0.041652  25.115  < 2e-16 ***\n",
       "Classred          0.799835   0.149339   5.356 8.52e-08 ***\n",
       "---\n",
       "Signif. codes:  0 '***' 0.001 '**' 0.01 '*' 0.05 '.' 0.1 ' ' 1\n",
       "\n",
       "(Dispersion parameter for binomial family taken to be 1)\n",
       "\n",
       "    Null deviance: 5979.9  on 4548  degrees of freedom\n",
       "Residual deviance: 4675.4  on 4542  degrees of freedom\n",
       "AIC: 4689.4\n",
       "\n",
       "Number of Fisher Scoring iterations: 5\n"
      ]
     },
     "metadata": {},
     "output_type": "display_data"
    }
   ],
   "source": [
    "## best model Stepwise backward-BIC\n",
    "model3<- step(glm(quality ~ ., family = binomial(link = \"logit\"), data=training), trace= F, direction=\"backward\", k=log(nrow(training)))\n",
    "summary(model3)"
   ]
  },
  {
   "cell_type": "code",
   "execution_count": 43,
   "metadata": {},
   "outputs": [
    {
     "data": {
      "text/html": [
       "<dl class=dl-horizontal>\n",
       "\t<dt>fixed.acidity</dt>\n",
       "\t\t<dd>1.34360971321144</dd>\n",
       "\t<dt>volatile.acidity</dt>\n",
       "\t\t<dd>2.09903936264954</dd>\n",
       "\t<dt>residual.sugar</dt>\n",
       "\t\t<dd>1.45002734118218</dd>\n",
       "\t<dt>sulphates</dt>\n",
       "\t\t<dd>1.36684799698177</dd>\n",
       "\t<dt>alcohol</dt>\n",
       "\t\t<dd>1.2470994934776</dd>\n",
       "\t<dt>Class</dt>\n",
       "\t\t<dd>3.24394759721782</dd>\n",
       "</dl>\n"
      ],
      "text/latex": [
       "\\begin{description*}\n",
       "\\item[fixed.acidity] 1.34360971321144\n",
       "\\item[volatile.acidity] 2.09903936264954\n",
       "\\item[residual.sugar] 1.45002734118218\n",
       "\\item[sulphates] 1.36684799698177\n",
       "\\item[alcohol] 1.2470994934776\n",
       "\\item[Class] 3.24394759721782\n",
       "\\end{description*}\n"
      ],
      "text/markdown": [
       "fixed.acidity\n",
       ":   1.34360971321144volatile.acidity\n",
       ":   2.09903936264954residual.sugar\n",
       ":   1.45002734118218sulphates\n",
       ":   1.36684799698177alcohol\n",
       ":   1.2470994934776Class\n",
       ":   3.24394759721782\n",
       "\n"
      ],
      "text/plain": [
       "   fixed.acidity volatile.acidity   residual.sugar        sulphates \n",
       "        1.343610         2.099039         1.450027         1.366848 \n",
       "         alcohol            Class \n",
       "        1.247099         3.243948 "
      ]
     },
     "metadata": {},
     "output_type": "display_data"
    }
   ],
   "source": [
    "# VIF variable inflation factor for each variable in the model\n",
    "vif(model3)"
   ]
  },
  {
   "cell_type": "markdown",
   "metadata": {},
   "source": [
    "VIF >= 10 ==> variable is collinear and should be omitted from the model. \n",
    "\n",
    "So,  VIF < 6 for all variables ==> variables are ok and should be kept on the model. "
   ]
  },
  {
   "cell_type": "markdown",
   "metadata": {},
   "source": [
    "As we can see, Model2 (backward-AIC) has achieved a lower AIC value (model2-AIC= 4683.1) being the best model according to the Stepwise method. Also, we can compare the models using the ANOVA test. Let's say our null hypothesis is that second model is better than the first model. p < 0.05 would reject our hypothesis and in case p > 0.05, we'll fail to reject the null hypothesis."
   ]
  },
  {
   "cell_type": "code",
   "execution_count": 44,
   "metadata": {},
   "outputs": [
    {
     "data": {
      "text/html": [
       "<table>\n",
       "<thead><tr><th scope=col>Resid. Df</th><th scope=col>Resid. Dev</th><th scope=col>Df</th><th scope=col>Deviance</th><th scope=col>Pr(&gt;Chi)</th></tr></thead>\n",
       "<tbody>\n",
       "\t<tr><td>4538     </td><td>4662.857 </td><td>NA       </td><td>       NA</td><td>       NA</td></tr>\n",
       "\t<tr><td>4540     </td><td>4665.105 </td><td>-2       </td><td>-2.248035</td><td>0.3249715</td></tr>\n",
       "</tbody>\n",
       "</table>\n"
      ],
      "text/latex": [
       "\\begin{tabular}{r|lllll}\n",
       " Resid. Df & Resid. Dev & Df & Deviance & Pr(>Chi)\\\\\n",
       "\\hline\n",
       "\t 4538      & 4662.857  & NA        &        NA &        NA\\\\\n",
       "\t 4540      & 4665.105  & -2        & -2.248035 & 0.3249715\\\\\n",
       "\\end{tabular}\n"
      ],
      "text/markdown": [
       "\n",
       "Resid. Df | Resid. Dev | Df | Deviance | Pr(>Chi) | \n",
       "|---|---|\n",
       "| 4538      | 4662.857  | NA        |        NA |        NA | \n",
       "| 4540      | 4665.105  | -2        | -2.248035 | 0.3249715 | \n",
       "\n",
       "\n"
      ],
      "text/plain": [
       "  Resid. Df Resid. Dev Df Deviance  Pr(>Chi) \n",
       "1 4538      4662.857   NA        NA        NA\n",
       "2 4540      4665.105   -2 -2.248035 0.3249715"
      ]
     },
     "metadata": {},
     "output_type": "display_data"
    },
    {
     "data": {
      "text/html": [
       "<table>\n",
       "<thead><tr><th scope=col>Resid. Df</th><th scope=col>Resid. Dev</th><th scope=col>Df</th><th scope=col>Deviance</th><th scope=col>Pr(&gt;Chi)</th></tr></thead>\n",
       "<tbody>\n",
       "\t<tr><td>4538      </td><td>4662.857  </td><td>NA        </td><td>       NA </td><td>        NA</td></tr>\n",
       "\t<tr><td>4542      </td><td>4675.350  </td><td>-4        </td><td>-12.49333 </td><td>0.01403606</td></tr>\n",
       "</tbody>\n",
       "</table>\n"
      ],
      "text/latex": [
       "\\begin{tabular}{r|lllll}\n",
       " Resid. Df & Resid. Dev & Df & Deviance & Pr(>Chi)\\\\\n",
       "\\hline\n",
       "\t 4538       & 4662.857   & NA         &        NA  &         NA\\\\\n",
       "\t 4542       & 4675.350   & -4         & -12.49333  & 0.01403606\\\\\n",
       "\\end{tabular}\n"
      ],
      "text/markdown": [
       "\n",
       "Resid. Df | Resid. Dev | Df | Deviance | Pr(>Chi) | \n",
       "|---|---|\n",
       "| 4538       | 4662.857   | NA         |        NA  |         NA | \n",
       "| 4542       | 4675.350   | -4         | -12.49333  | 0.01403606 | \n",
       "\n",
       "\n"
      ],
      "text/plain": [
       "  Resid. Df Resid. Dev Df Deviance  Pr(>Chi)  \n",
       "1 4538      4662.857   NA        NA         NA\n",
       "2 4542      4675.350   -4 -12.49333 0.01403606"
      ]
     },
     "metadata": {},
     "output_type": "display_data"
    },
    {
     "data": {
      "text/html": [
       "<table>\n",
       "<thead><tr><th scope=col>Resid. Df</th><th scope=col>Resid. Dev</th><th scope=col>Df</th><th scope=col>Deviance</th><th scope=col>Pr(&gt;Chi)</th></tr></thead>\n",
       "<tbody>\n",
       "\t<tr><td>4540      </td><td>4665.105  </td><td>NA        </td><td>      NA  </td><td>        NA</td></tr>\n",
       "\t<tr><td>4542      </td><td>4675.350  </td><td>-2        </td><td>-10.2453  </td><td>0.00596021</td></tr>\n",
       "</tbody>\n",
       "</table>\n"
      ],
      "text/latex": [
       "\\begin{tabular}{r|lllll}\n",
       " Resid. Df & Resid. Dev & Df & Deviance & Pr(>Chi)\\\\\n",
       "\\hline\n",
       "\t 4540       & 4665.105   & NA         &       NA   &         NA\\\\\n",
       "\t 4542       & 4675.350   & -2         & -10.2453   & 0.00596021\\\\\n",
       "\\end{tabular}\n"
      ],
      "text/markdown": [
       "\n",
       "Resid. Df | Resid. Dev | Df | Deviance | Pr(>Chi) | \n",
       "|---|---|\n",
       "| 4540       | 4665.105   | NA         |       NA   |         NA | \n",
       "| 4542       | 4675.350   | -2         | -10.2453   | 0.00596021 | \n",
       "\n",
       "\n"
      ],
      "text/plain": [
       "  Resid. Df Resid. Dev Df Deviance Pr(>Chi)  \n",
       "1 4540      4665.105   NA       NA         NA\n",
       "2 4542      4675.350   -2 -10.2453 0.00596021"
      ]
     },
     "metadata": {},
     "output_type": "display_data"
    }
   ],
   "source": [
    "#compare the models by using anova-chisq\n",
    "anova(model1,model2,test = \"Chisq\")\n",
    "anova(model1,model3,test = \"Chisq\")\n",
    "anova(model2,model3,test = \"Chisq\")"
   ]
  },
  {
   "cell_type": "code",
   "execution_count": 48,
   "metadata": {},
   "outputs": [
    {
     "data": {
      "text/html": [
       "<table>\n",
       "<thead><tr><th scope=col>#Df</th><th scope=col>LogLik</th><th scope=col>Df</th><th scope=col>Chisq</th><th scope=col>Pr(&gt;Chisq)</th></tr></thead>\n",
       "<tbody>\n",
       "\t<tr><td>11       </td><td>-2331.429</td><td>NA       </td><td>      NA </td><td>       NA</td></tr>\n",
       "\t<tr><td> 9       </td><td>-2332.553</td><td>-2       </td><td>2.248035 </td><td>0.3249715</td></tr>\n",
       "</tbody>\n",
       "</table>\n"
      ],
      "text/latex": [
       "\\begin{tabular}{r|lllll}\n",
       " \\#Df & LogLik & Df & Chisq & Pr(>Chisq)\\\\\n",
       "\\hline\n",
       "\t 11        & -2331.429 & NA        &       NA  &        NA\\\\\n",
       "\t  9        & -2332.553 & -2        & 2.248035  & 0.3249715\\\\\n",
       "\\end{tabular}\n"
      ],
      "text/markdown": [
       "\n",
       "#Df | LogLik | Df | Chisq | Pr(>Chisq) | \n",
       "|---|---|\n",
       "| 11        | -2331.429 | NA        |       NA  |        NA | \n",
       "|  9        | -2332.553 | -2        | 2.248035  | 0.3249715 | \n",
       "\n",
       "\n"
      ],
      "text/plain": [
       "  #Df LogLik    Df Chisq    Pr(>Chisq)\n",
       "1 11  -2331.429 NA       NA        NA \n",
       "2  9  -2332.553 -2 2.248035 0.3249715 "
      ]
     },
     "metadata": {},
     "output_type": "display_data"
    },
    {
     "data": {
      "text/html": [
       "<table>\n",
       "<thead><tr><th scope=col>#Df</th><th scope=col>LogLik</th><th scope=col>Df</th><th scope=col>Chisq</th><th scope=col>Pr(&gt;Chisq)</th></tr></thead>\n",
       "<tbody>\n",
       "\t<tr><td>11        </td><td>-2331.429 </td><td>NA        </td><td>      NA  </td><td>        NA</td></tr>\n",
       "\t<tr><td> 7        </td><td>-2337.675 </td><td>-4        </td><td>12.49333  </td><td>0.01403606</td></tr>\n",
       "</tbody>\n",
       "</table>\n"
      ],
      "text/latex": [
       "\\begin{tabular}{r|lllll}\n",
       " \\#Df & LogLik & Df & Chisq & Pr(>Chisq)\\\\\n",
       "\\hline\n",
       "\t 11         & -2331.429  & NA         &       NA   &         NA\\\\\n",
       "\t  7         & -2337.675  & -4         & 12.49333   & 0.01403606\\\\\n",
       "\\end{tabular}\n"
      ],
      "text/markdown": [
       "\n",
       "#Df | LogLik | Df | Chisq | Pr(>Chisq) | \n",
       "|---|---|\n",
       "| 11         | -2331.429  | NA         |       NA   |         NA | \n",
       "|  7         | -2337.675  | -4         | 12.49333   | 0.01403606 | \n",
       "\n",
       "\n"
      ],
      "text/plain": [
       "  #Df LogLik    Df Chisq    Pr(>Chisq)\n",
       "1 11  -2331.429 NA       NA         NA\n",
       "2  7  -2337.675 -4 12.49333 0.01403606"
      ]
     },
     "metadata": {},
     "output_type": "display_data"
    },
    {
     "data": {
      "text/html": [
       "<table>\n",
       "<thead><tr><th scope=col>#Df</th><th scope=col>LogLik</th><th scope=col>Df</th><th scope=col>Chisq</th><th scope=col>Pr(&gt;Chisq)</th></tr></thead>\n",
       "<tbody>\n",
       "\t<tr><td>9         </td><td>-2332.553 </td><td>NA        </td><td>     NA   </td><td>        NA</td></tr>\n",
       "\t<tr><td>7         </td><td>-2337.675 </td><td>-2        </td><td>10.2453   </td><td>0.00596021</td></tr>\n",
       "</tbody>\n",
       "</table>\n"
      ],
      "text/latex": [
       "\\begin{tabular}{r|lllll}\n",
       " \\#Df & LogLik & Df & Chisq & Pr(>Chisq)\\\\\n",
       "\\hline\n",
       "\t 9          & -2332.553  & NA         &      NA    &         NA\\\\\n",
       "\t 7          & -2337.675  & -2         & 10.2453    & 0.00596021\\\\\n",
       "\\end{tabular}\n"
      ],
      "text/markdown": [
       "\n",
       "#Df | LogLik | Df | Chisq | Pr(>Chisq) | \n",
       "|---|---|\n",
       "| 9          | -2332.553  | NA         |      NA    |         NA | \n",
       "| 7          | -2337.675  | -2         | 10.2453    | 0.00596021 | \n",
       "\n",
       "\n"
      ],
      "text/plain": [
       "  #Df LogLik    Df Chisq   Pr(>Chisq)\n",
       "1 9   -2332.553 NA      NA         NA\n",
       "2 7   -2337.675 -2 10.2453 0.00596021"
      ]
     },
     "metadata": {},
     "output_type": "display_data"
    }
   ],
   "source": [
    "#compare the models by using lrtest-chisq\n",
    "library(lmtest)\n",
    "lrtest(model1, model2)\n",
    "lrtest(model1, model3)\n",
    "lrtest(model2,model3)"
   ]
  },
  {
   "cell_type": "markdown",
   "metadata": {},
   "source": [
    "With p > 0.05, both test (ANOVA and LRTEST) also corroborates the fact that the second model (model2) is the best model according to the Stepwise method.  So, we will keep model2 and we will evaluate its performance as a supervised machine learning model.  "
   ]
  },
  {
   "cell_type": "markdown",
   "metadata": {},
   "source": [
    "### 412 Building the model "
   ]
  },
  {
   "cell_type": "code",
   "execution_count": 15,
   "metadata": {
    "collapsed": true
   },
   "outputs": [],
   "source": [
    "## Control Resampling Technique: 10-fold CV\n",
    "fiveStats = function(...) c (twoClassSummary(...), defaultSummary(...))\n",
    "cvCtrl <- trainControl(method = \"cv\", number=10,  summaryFunction = fiveStats, classProbs = TRUE, savePredictions=T)"
   ]
  },
  {
   "cell_type": "code",
   "execution_count": 6,
   "metadata": {
    "collapsed": true
   },
   "outputs": [],
   "source": [
    "## Construction Predictive Model\n",
    "set.seed(1)\n",
    "formula2 <- as.formula(\"quality ~ fixed.acidity + volatile.acidity + residual.sugar + chlorides + total.sulfur.dioxide + sulphates + alcohol + Class\")\n",
    "lrmodel2 <- train(formula2, data=training, method=\"glm\",   family=binomial(link = \"logit\"), preProc = c(\"center\", \"scale\"), tuneLength = 5, trControl = cvCtrl)"
   ]
  },
  {
   "cell_type": "code",
   "execution_count": 7,
   "metadata": {},
   "outputs": [
    {
     "data": {
      "text/plain": [
       "\n",
       "Call:\n",
       "NULL\n",
       "\n",
       "Deviance Residuals: \n",
       "    Min       1Q   Median       3Q      Max  \n",
       "-3.2620  -0.9042   0.4245   0.8193   2.6739  \n",
       "\n",
       "Coefficients:\n",
       "                     Estimate Std. Error z value Pr(>|z|)    \n",
       "(Intercept)           0.76009    0.03864  19.669  < 2e-16 ***\n",
       "fixed.acidity        -0.12231    0.04149  -2.948  0.00320 ** \n",
       "volatile.acidity     -0.80825    0.05497 -14.703  < 2e-16 ***\n",
       "residual.sugar        0.27588    0.04235   6.514 7.31e-11 ***\n",
       "chlorides            -0.09106    0.04221  -2.157  0.03097 *  \n",
       "total.sulfur.dioxide -0.13685    0.05727  -2.390  0.01687 *  \n",
       "sulphates             0.24694    0.04586   5.385 7.25e-08 ***\n",
       "alcohol               1.19011    0.05283  22.527  < 2e-16 ***\n",
       "Classred              0.26163    0.07978   3.279  0.00104 ** \n",
       "---\n",
       "Signif. codes:  0 '***' 0.001 '**' 0.01 '*' 0.05 '.' 0.1 ' ' 1\n",
       "\n",
       "(Dispersion parameter for binomial family taken to be 1)\n",
       "\n",
       "    Null deviance: 5979.9  on 4548  degrees of freedom\n",
       "Residual deviance: 4665.1  on 4540  degrees of freedom\n",
       "AIC: 4683.1\n",
       "\n",
       "Number of Fisher Scoring iterations: 5\n"
      ]
     },
     "metadata": {},
     "output_type": "display_data"
    }
   ],
   "source": [
    "## Getting summary of fitted model2\n",
    "summary(lrmodel2)"
   ]
  },
  {
   "cell_type": "code",
   "execution_count": 9,
   "metadata": {},
   "outputs": [
    {
     "data": {
      "text/plain": [
       "Generalized Linear Model \n",
       "\n",
       "4549 samples\n",
       "   8 predictor\n",
       "   2 classes: 'Bad', 'Good' \n",
       "\n",
       "Pre-processing: centered (8), scaled (8) \n",
       "Resampling: Cross-Validated (10 fold) \n",
       "Summary of sample sizes: 4095, 4094, 4094, 4094, 4094, 4094, ... \n",
       "Resampling results:\n",
       "\n",
       "  ROC        Sens       Spec       Accuracy  Kappa    \n",
       "  0.8041218  0.5889546  0.8430556  0.749834  0.4449785\n"
      ]
     },
     "metadata": {},
     "output_type": "display_data"
    }
   ],
   "source": [
    "## train results model2\n",
    "lrmodel2"
   ]
  },
  {
   "cell_type": "code",
   "execution_count": 10,
   "metadata": {},
   "outputs": [
    {
     "data": {
      "text/plain": [
       "Confusion Matrix and Statistics\n",
       "\n",
       "          Reference\n",
       "Prediction  Bad Good\n",
       "      Bad   419  220\n",
       "      Good  296 1013\n",
       "                                          \n",
       "               Accuracy : 0.7351          \n",
       "                 95% CI : (0.7149, 0.7546)\n",
       "    No Information Rate : 0.633           \n",
       "    P-Value [Acc > NIR] : < 2.2e-16       \n",
       "                                          \n",
       "                  Kappa : 0.4169          \n",
       " Mcnemar's Test P-Value : 0.000961        \n",
       "                                          \n",
       "            Sensitivity : 0.8216          \n",
       "            Specificity : 0.5860          \n",
       "         Pos Pred Value : 0.7739          \n",
       "         Neg Pred Value : 0.6557          \n",
       "             Prevalence : 0.6330          \n",
       "         Detection Rate : 0.5200          \n",
       "   Detection Prevalence : 0.6720          \n",
       "      Balanced Accuracy : 0.7038          \n",
       "                                          \n",
       "       'Positive' Class : Good            \n",
       "                                          "
      ]
     },
     "metadata": {},
     "output_type": "display_data"
    }
   ],
   "source": [
    "## Test Set Results model2\n",
    "lrPred2 <- predict(lrmodel2,testing, type=\"raw\")\n",
    "confusionMatrix(lrPred2, testing$quality, positive = \"Good\")"
   ]
  },
  {
   "cell_type": "code",
   "execution_count": 11,
   "metadata": {},
   "outputs": [
    {
     "data": {
      "text/html": [
       "<table>\n",
       "<thead><tr><th></th><th scope=col>Bad</th><th scope=col>Good</th></tr></thead>\n",
       "<tbody>\n",
       "\t<tr><th scope=row>1</th><td>0.51998628</td><td>0.4800137 </td></tr>\n",
       "\t<tr><th scope=row>6</th><td>0.39938201</td><td>0.6006180 </td></tr>\n",
       "\t<tr><th scope=row>7</th><td>0.53219328</td><td>0.4678067 </td></tr>\n",
       "\t<tr><th scope=row>11</th><td>0.08652178</td><td>0.9134782 </td></tr>\n",
       "\t<tr><th scope=row>12</th><td>0.44853184</td><td>0.5514682 </td></tr>\n",
       "\t<tr><th scope=row>19</th><td>0.25776898</td><td>0.7422310 </td></tr>\n",
       "</tbody>\n",
       "</table>\n"
      ],
      "text/latex": [
       "\\begin{tabular}{r|ll}\n",
       "  & Bad & Good\\\\\n",
       "\\hline\n",
       "\t1 & 0.51998628 & 0.4800137 \\\\\n",
       "\t6 & 0.39938201 & 0.6006180 \\\\\n",
       "\t7 & 0.53219328 & 0.4678067 \\\\\n",
       "\t11 & 0.08652178 & 0.9134782 \\\\\n",
       "\t12 & 0.44853184 & 0.5514682 \\\\\n",
       "\t19 & 0.25776898 & 0.7422310 \\\\\n",
       "\\end{tabular}\n"
      ],
      "text/markdown": [
       "\n",
       "| <!--/--> | Bad | Good | \n",
       "|---|---|---|---|---|---|\n",
       "| 1 | 0.51998628 | 0.4800137  | \n",
       "| 6 | 0.39938201 | 0.6006180  | \n",
       "| 7 | 0.53219328 | 0.4678067  | \n",
       "| 11 | 0.08652178 | 0.9134782  | \n",
       "| 12 | 0.44853184 | 0.5514682  | \n",
       "| 19 | 0.25776898 | 0.7422310  | \n",
       "\n",
       "\n"
      ],
      "text/plain": [
       "   Bad        Good     \n",
       "1  0.51998628 0.4800137\n",
       "6  0.39938201 0.6006180\n",
       "7  0.53219328 0.4678067\n",
       "11 0.08652178 0.9134782\n",
       "12 0.44853184 0.5514682\n",
       "19 0.25776898 0.7422310"
      ]
     },
     "metadata": {},
     "output_type": "display_data"
    }
   ],
   "source": [
    "## Predicting Class Probabilities model2\n",
    "lrProbs2 <- predict(lrmodel2, testing, type = \"prob\")\n",
    "head(lrProbs2)"
   ]
  },
  {
   "cell_type": "code",
   "execution_count": 12,
   "metadata": {},
   "outputs": [
    {
     "data": {
      "text/plain": [
       "glm variable importance\n",
       "\n",
       "                     Overall\n",
       "alcohol               22.527\n",
       "volatile.acidity      14.703\n",
       "residual.sugar         6.514\n",
       "sulphates              5.385\n",
       "Classred               3.279\n",
       "fixed.acidity          2.948\n",
       "total.sulfur.dioxide   2.390\n",
       "chlorides              2.157"
      ]
     },
     "metadata": {},
     "output_type": "display_data"
    }
   ],
   "source": [
    "# variable importance model2\n",
    "lr.imp2 = varImp (lrmodel2 , scale = F )\n",
    "lr.imp2"
   ]
  },
  {
   "cell_type": "code",
   "execution_count": 13,
   "metadata": {},
   "outputs": [
    {
     "data": {},
     "metadata": {},
     "output_type": "display_data"
    },
    {
     "data": {
      "image/png": "[encoded data removed]",
      "text/plain": [
       "plot without title"
      ]
     },
     "metadata": {},
     "output_type": "display_data"
    }
   ],
   "source": [
    "## Graphic variable importance model2\n",
    "# dev.new()\n",
    "plot(lr.imp2, top=8, main=\"Variable Importance - LR Model2\")"
   ]
  },
  {
   "cell_type": "code",
   "execution_count": 16,
   "metadata": {},
   "outputs": [
    {
     "data": {
      "image/png": "[encoded data removed]",
      "text/plain": [
       "Plot with title \"Logistic Regression Models ROC curve\""
      ]
     },
     "metadata": {},
     "output_type": "display_data"
    }
   ],
   "source": [
    "## Creating the ROC Curve\n",
    "library(pROC)\n",
    "formula1 <- as.formula(\"quality ~ .\") \n",
    "lrmodel1 <- train(formula1, data=training, method=\"glm\",   family=binomial(link = \"logit\"), preProc = c(\"center\", \"scale\"), tuneLength = 5, trControl = cvCtrl)\n",
    "lrProbs <- predict(lrmodel1, testing, type = \"prob\")\n",
    "\n",
    "## Creating the ROC Curve\n",
    "library(pROC)\n",
    "lrROC <- roc(predictor = lrProbs$Good, response = testing$quality, levels = rev(levels(testing$quality)))\n",
    "lrROC2 <- roc(predictor = lrProbs2$Good, response = testing$quality, levels = rev(levels(testing$quality)))\n",
    "\n",
    "plot(lrROC, type = \"S\", main=\"Logistic Regression Models ROC curve\",  col = \"blue\")\n",
    "plot(lrROC2, add = TRUE, print.thres = .5, col = \"red\", print.auc=TRUE)\n",
    "#plot(knnROC, add = TRUE, col = \"yellow\")\n",
    "#plot(rfROC, add = TRUE, print.thres = .5, col = \"blue\", print.auc=TRUE)\n",
    "legend(\"bottomright\", legend = c(\"LRmodel1\",\"LRmodel2\"), col = c(\"blue\",\"red\"),lwd = 2)\n"
   ]
  },
  {
   "cell_type": "markdown",
   "metadata": {},
   "source": [
    "## V Making predictions\n",
    " \n",
    "After doing all the building stuff,  we want to get the predictions from model2 on our training dataset."
   ]
  },
  {
   "cell_type": "code",
   "execution_count": 37,
   "metadata": {},
   "outputs": [
    {
     "data": {
      "text/html": [
       "<table>\n",
       "<thead><tr><th></th><th scope=col>Bad</th><th scope=col>Good</th></tr></thead>\n",
       "<tbody>\n",
       "\t<tr><th scope=row>1</th><td>0.51998628</td><td>0.4800137 </td></tr>\n",
       "\t<tr><th scope=row>6</th><td>0.39938201</td><td>0.6006180 </td></tr>\n",
       "\t<tr><th scope=row>7</th><td>0.53219328</td><td>0.4678067 </td></tr>\n",
       "\t<tr><th scope=row>11</th><td>0.08652178</td><td>0.9134782 </td></tr>\n",
       "\t<tr><th scope=row>12</th><td>0.44853184</td><td>0.5514682 </td></tr>\n",
       "</tbody>\n",
       "</table>\n"
      ],
      "text/latex": [
       "\\begin{tabular}{r|ll}\n",
       "  & Bad & Good\\\\\n",
       "\\hline\n",
       "\t1 & 0.51998628 & 0.4800137 \\\\\n",
       "\t6 & 0.39938201 & 0.6006180 \\\\\n",
       "\t7 & 0.53219328 & 0.4678067 \\\\\n",
       "\t11 & 0.08652178 & 0.9134782 \\\\\n",
       "\t12 & 0.44853184 & 0.5514682 \\\\\n",
       "\\end{tabular}\n"
      ],
      "text/markdown": [
       "\n",
       "| <!--/--> | Bad | Good | \n",
       "|---|---|---|---|---|\n",
       "| 1 | 0.51998628 | 0.4800137  | \n",
       "| 6 | 0.39938201 | 0.6006180  | \n",
       "| 7 | 0.53219328 | 0.4678067  | \n",
       "| 11 | 0.08652178 | 0.9134782  | \n",
       "| 12 | 0.44853184 | 0.5514682  | \n",
       "\n",
       "\n"
      ],
      "text/plain": [
       "   Bad        Good     \n",
       "1  0.51998628 0.4800137\n",
       "6  0.39938201 0.6006180\n",
       "7  0.53219328 0.4678067\n",
       "11 0.08652178 0.9134782\n",
       "12 0.44853184 0.5514682"
      ]
     },
     "metadata": {},
     "output_type": "display_data"
    }
   ],
   "source": [
    "# print predictions probabilities by row model2\n",
    "head(as.data.frame(lrProbs2),5)"
   ]
  },
  {
   "cell_type": "code",
   "execution_count": 38,
   "metadata": {},
   "outputs": [
    {
     "data": {
      "text/html": [
       "<table>\n",
       "<thead><tr><th scope=col>fixed.acidity</th><th scope=col>volatile.acidity</th><th scope=col>citric.acid</th><th scope=col>residual.sugar</th><th scope=col>chlorides</th><th scope=col>total.sulfur.dioxide</th><th scope=col>pH</th><th scope=col>sulphates</th><th scope=col>alcohol</th><th scope=col>quality</th><th scope=col>Class</th><th scope=col>lrPred2</th></tr></thead>\n",
       "<tbody>\n",
       "\t<tr><td>7.0  </td><td>0.27 </td><td>0.36 </td><td>20.70</td><td>0.045</td><td>170  </td><td>3.00 </td><td>0.45 </td><td> 8.8 </td><td>Good </td><td>white</td><td>Bad  </td></tr>\n",
       "\t<tr><td>8.1  </td><td>0.28 </td><td>0.40 </td><td> 6.90</td><td>0.050</td><td> 97  </td><td>3.26 </td><td>0.44 </td><td>10.1 </td><td>Good </td><td>white</td><td>Good </td></tr>\n",
       "\t<tr><td>6.2  </td><td>0.32 </td><td>0.16 </td><td> 7.00</td><td>0.045</td><td>136  </td><td>3.18 </td><td>0.47 </td><td> 9.6 </td><td>Good </td><td>white</td><td>Bad  </td></tr>\n",
       "\t<tr><td>8.1  </td><td>0.27 </td><td>0.41 </td><td> 1.45</td><td>0.033</td><td> 63  </td><td>2.99 </td><td>0.56 </td><td>12.0 </td><td>Bad  </td><td>white</td><td>Good </td></tr>\n",
       "\t<tr><td>8.6  </td><td>0.23 </td><td>0.40 </td><td> 4.20</td><td>0.035</td><td>109  </td><td>3.14 </td><td>0.53 </td><td> 9.7 </td><td>Bad  </td><td>white</td><td>Good </td></tr>\n",
       "\t<tr><td>7.4  </td><td>0.34 </td><td>0.42 </td><td> 1.10</td><td>0.033</td><td>171  </td><td>3.12 </td><td>0.53 </td><td>11.3 </td><td>Good </td><td>white</td><td>Good </td></tr>\n",
       "\t<tr><td>6.5  </td><td>0.31 </td><td>0.14 </td><td> 7.50</td><td>0.044</td><td>133  </td><td>3.22 </td><td>0.50 </td><td> 9.5 </td><td>Bad  </td><td>white</td><td>Bad  </td></tr>\n",
       "\t<tr><td>7.0  </td><td>0.25 </td><td>0.32 </td><td> 9.00</td><td>0.046</td><td>245  </td><td>3.25 </td><td>0.50 </td><td>10.4 </td><td>Good </td><td>white</td><td>Good </td></tr>\n",
       "\t<tr><td>7.4  </td><td>0.27 </td><td>0.48 </td><td> 1.10</td><td>0.047</td><td>132  </td><td>3.19 </td><td>0.49 </td><td>11.6 </td><td>Good </td><td>white</td><td>Good </td></tr>\n",
       "\t<tr><td>8.5  </td><td>0.24 </td><td>0.39 </td><td>10.40</td><td>0.044</td><td>142  </td><td>3.20 </td><td>0.53 </td><td>10.0 </td><td>Good </td><td>white</td><td>Good </td></tr>\n",
       "</tbody>\n",
       "</table>\n"
      ],
      "text/latex": [
       "\\begin{tabular}{r|llllllllllll}\n",
       " fixed.acidity & volatile.acidity & citric.acid & residual.sugar & chlorides & total.sulfur.dioxide & pH & sulphates & alcohol & quality & Class & lrPred2\\\\\n",
       "\\hline\n",
       "\t 7.0   & 0.27  & 0.36  & 20.70 & 0.045 & 170   & 3.00  & 0.45  &  8.8  & Good  & white & Bad  \\\\\n",
       "\t 8.1   & 0.28  & 0.40  &  6.90 & 0.050 &  97   & 3.26  & 0.44  & 10.1  & Good  & white & Good \\\\\n",
       "\t 6.2   & 0.32  & 0.16  &  7.00 & 0.045 & 136   & 3.18  & 0.47  &  9.6  & Good  & white & Bad  \\\\\n",
       "\t 8.1   & 0.27  & 0.41  &  1.45 & 0.033 &  63   & 2.99  & 0.56  & 12.0  & Bad   & white & Good \\\\\n",
       "\t 8.6   & 0.23  & 0.40  &  4.20 & 0.035 & 109   & 3.14  & 0.53  &  9.7  & Bad   & white & Good \\\\\n",
       "\t 7.4   & 0.34  & 0.42  &  1.10 & 0.033 & 171   & 3.12  & 0.53  & 11.3  & Good  & white & Good \\\\\n",
       "\t 6.5   & 0.31  & 0.14  &  7.50 & 0.044 & 133   & 3.22  & 0.50  &  9.5  & Bad   & white & Bad  \\\\\n",
       "\t 7.0   & 0.25  & 0.32  &  9.00 & 0.046 & 245   & 3.25  & 0.50  & 10.4  & Good  & white & Good \\\\\n",
       "\t 7.4   & 0.27  & 0.48  &  1.10 & 0.047 & 132   & 3.19  & 0.49  & 11.6  & Good  & white & Good \\\\\n",
       "\t 8.5   & 0.24  & 0.39  & 10.40 & 0.044 & 142   & 3.20  & 0.53  & 10.0  & Good  & white & Good \\\\\n",
       "\\end{tabular}\n"
      ],
      "text/markdown": [
       "\n",
       "fixed.acidity | volatile.acidity | citric.acid | residual.sugar | chlorides | total.sulfur.dioxide | pH | sulphates | alcohol | quality | Class | lrPred2 | \n",
       "|---|---|---|---|---|---|---|---|---|---|\n",
       "| 7.0   | 0.27  | 0.36  | 20.70 | 0.045 | 170   | 3.00  | 0.45  |  8.8  | Good  | white | Bad   | \n",
       "| 8.1   | 0.28  | 0.40  |  6.90 | 0.050 |  97   | 3.26  | 0.44  | 10.1  | Good  | white | Good  | \n",
       "| 6.2   | 0.32  | 0.16  |  7.00 | 0.045 | 136   | 3.18  | 0.47  |  9.6  | Good  | white | Bad   | \n",
       "| 8.1   | 0.27  | 0.41  |  1.45 | 0.033 |  63   | 2.99  | 0.56  | 12.0  | Bad   | white | Good  | \n",
       "| 8.6   | 0.23  | 0.40  |  4.20 | 0.035 | 109   | 3.14  | 0.53  |  9.7  | Bad   | white | Good  | \n",
       "| 7.4   | 0.34  | 0.42  |  1.10 | 0.033 | 171   | 3.12  | 0.53  | 11.3  | Good  | white | Good  | \n",
       "| 6.5   | 0.31  | 0.14  |  7.50 | 0.044 | 133   | 3.22  | 0.50  |  9.5  | Bad   | white | Bad   | \n",
       "| 7.0   | 0.25  | 0.32  |  9.00 | 0.046 | 245   | 3.25  | 0.50  | 10.4  | Good  | white | Good  | \n",
       "| 7.4   | 0.27  | 0.48  |  1.10 | 0.047 | 132   | 3.19  | 0.49  | 11.6  | Good  | white | Good  | \n",
       "| 8.5   | 0.24  | 0.39  | 10.40 | 0.044 | 142   | 3.20  | 0.53  | 10.0  | Good  | white | Good  | \n",
       "\n",
       "\n"
      ],
      "text/plain": [
       "   fixed.acidity volatile.acidity citric.acid residual.sugar chlorides\n",
       "1  7.0           0.27             0.36        20.70          0.045    \n",
       "2  8.1           0.28             0.40         6.90          0.050    \n",
       "3  6.2           0.32             0.16         7.00          0.045    \n",
       "4  8.1           0.27             0.41         1.45          0.033    \n",
       "5  8.6           0.23             0.40         4.20          0.035    \n",
       "6  7.4           0.34             0.42         1.10          0.033    \n",
       "7  6.5           0.31             0.14         7.50          0.044    \n",
       "8  7.0           0.25             0.32         9.00          0.046    \n",
       "9  7.4           0.27             0.48         1.10          0.047    \n",
       "10 8.5           0.24             0.39        10.40          0.044    \n",
       "   total.sulfur.dioxide pH   sulphates alcohol quality Class lrPred2\n",
       "1  170                  3.00 0.45       8.8    Good    white Bad    \n",
       "2   97                  3.26 0.44      10.1    Good    white Good   \n",
       "3  136                  3.18 0.47       9.6    Good    white Bad    \n",
       "4   63                  2.99 0.56      12.0    Bad     white Good   \n",
       "5  109                  3.14 0.53       9.7    Bad     white Good   \n",
       "6  171                  3.12 0.53      11.3    Good    white Good   \n",
       "7  133                  3.22 0.50       9.5    Bad     white Bad    \n",
       "8  245                  3.25 0.50      10.4    Good    white Good   \n",
       "9  132                  3.19 0.49      11.6    Good    white Good   \n",
       "10 142                  3.20 0.53      10.0    Good    white Good   "
      ]
     },
     "metadata": {},
     "output_type": "display_data"
    }
   ],
   "source": [
    "# print validation dataset and predictions by row model2\n",
    "head((val<-as.data.frame(c(testing,as.data.frame(lrPred2)))),10)"
   ]
  },
  {
   "cell_type": "markdown",
   "metadata": {
    "collapsed": true
   },
   "source": [
    "Now if you want to get the predictions from a new test data, you can see the item 7.4 of my project [MACHINE LEARNING: A comparison of supervised learning algorithms applied to the classification problem with caret R-project library](http://nbviewer.jupyter.org/github/arqmain/Machine_Learning/blob/master/R_MLearning/MLearning_Classification_Comparison_R_Caret/MLearning_Classification_Comparison_R_Caret.ipynb). "
   ]
  },
  {
   "cell_type": "markdown",
   "metadata": {
    "collapsed": true
   },
   "source": [
    "## VI Conclusion"
   ]
  },
  {
   "cell_type": "markdown",
   "metadata": {},
   "source": [
    "This module of the project develops Logistic Regression algorithm of machine learning to classify the quality of the wine \"Good\" or \"Bad\" according to the 11 variables that characterize the wine subject to classification.\n",
    "\n",
    "The database -df- does not consider two variables that appear in the original base. They could generate a problem of multicollinearity in the process of classification. So, we got rid of them in df.\n",
    "\n",
    "The lrmodel2 achieves a good classification metric, reaching ROC measurement of 80.42%. That is, the variables of the \"df\" database allow discriminating in a good way the quality of wine that they represent.\n",
    "\n",
    "The model was developed selecting the variables included by using the stepwise backward elimination method based on AIC selection criterion. Anyway, this is modeling so, we may improve more or not the model by filtering other variables, incorporating variable's interactions or using another variable's selection method."
   ]
  },
  {
   "cell_type": "markdown",
   "metadata": {},
   "source": [
    "<hr>\n",
    "By: Hector Alvaro Rojas | Data Science, Visualizations and Applied Statistics | October 25, 2017<br>\n",
    "Url: [http://www.arqmain.net]   &nbsp;&nbsp;&nbsp;|&nbsp;&nbsp;&nbsp;   GitHub: [https://github.com/arqmain]"
   ]
  },
  {
   "cell_type": "code",
   "execution_count": null,
   "metadata": {
    "collapsed": true
   },
   "outputs": [],
   "source": []
  }
 ],
 "metadata": {
  "anaconda-cloud": {},
  "kernelspec": {
   "display_name": "R",
   "language": "R",
   "name": "ir"
  },
  "language_info": {
   "codemirror_mode": "r",
   "file_extension": ".r",
   "mimetype": "text/x-r-source",
   "name": "R",
   "pygments_lexer": "r",
   "version": "3.4.1"
  }
 },
 "nbformat": 4,
 "nbformat_minor": 2
}
