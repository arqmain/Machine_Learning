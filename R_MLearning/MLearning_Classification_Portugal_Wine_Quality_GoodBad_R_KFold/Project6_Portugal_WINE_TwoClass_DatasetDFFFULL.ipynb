{
 "cells": [
  {
   "cell_type": "markdown",
   "metadata": {},
   "source": [
    "#  MACHINE LEARNING: Portugal Wine under Two Class approach for Quality classification with Logistic Regression using R and K fold cross-validation\n",
    "# Module 3: Solving project with dataset dffful\n",
    "\n",
    "\n",
    "By: Hector Alvaro Rojas | Data Science, Visualizations and Applied Statistics | October 25, 2017<br>\n",
    "Url: [http://www.arqmain.net]   &nbsp;&nbsp;&nbsp;|&nbsp;&nbsp;&nbsp;   GitHub: [https://github.com/arqmain]\n",
    "<hr>"
   ]
  },
  {
   "cell_type": "markdown",
   "metadata": {},
   "source": [
    "# I Introduction"
   ]
  },
  {
   "cell_type": "markdown",
   "metadata": {
    "collapsed": true
   },
   "source": [
    "We consider the original dataset without the variables \"density\" and \"free.sulfor.dioxide\".\n",
    "\n",
    "<u><b><i>dfffull</i></b></u> keep all the register of the original database \"df\" but replace the upper outliers by its corresponding <i>Threshold</i>.\n",
    "\n",
    "\n",
    "We consider outliers those points that have any predictor variable value to be outside of the limits constructed by boxplots. The following rule is applied:\n",
    "\n",
    "* A predictor value is considered to be an upper outlier only if it is greater than <b>Threshold = Q3 + 1.5IQR</b>\n",
    "\n",
    "Application of this rule oes not reduces the original datasize becouse it does not eliminate any register.  So, <i>dfffull</i></b></u> data size is the same as the original \"df\" 6497)."
   ]
  },
  {
   "cell_type": "markdown",
   "metadata": {},
   "source": [
    "# II Loading and the Data"
   ]
  },
  {
   "cell_type": "code",
   "execution_count": 117,
   "metadata": {
    "collapsed": true
   },
   "outputs": [],
   "source": [
    "# first remove ALL objects and close all possible connections\n",
    "closeAllConnections()\n",
    "rm(list = ls(all = TRUE)) # Does remove all inclusive hidden\n",
    "\n",
    "# see your memory size\n",
    "memory.size() "
   ]
  },
  {
   "cell_type": "code",
   "execution_count": 1,
   "metadata": {},
   "outputs": [
    {
     "name": "stderr",
     "output_type": "stream",
     "text": [
      "Loading required package: plyr\n",
      "Loading required package: dplyr\n",
      "\n",
      "Attaching package: 'dplyr'\n",
      "\n",
      "The following objects are masked from 'package:plyr':\n",
      "\n",
      "    arrange, count, desc, failwith, id, mutate, rename, summarise,\n",
      "    summarize\n",
      "\n",
      "The following objects are masked from 'package:stats':\n",
      "\n",
      "    filter, lag\n",
      "\n",
      "The following objects are masked from 'package:base':\n",
      "\n",
      "    intersect, setdiff, setequal, union\n",
      "\n",
      "Loading required package: caret\n",
      "Loading required package: lattice\n",
      "Loading required package: ggplot2\n"
     ]
    },
    {
     "data": {
      "text/html": [
       "<dl class=dl-horizontal>\n",
       "\t<dt>plyr</dt>\n",
       "\t\t<dd>TRUE</dd>\n",
       "\t<dt>dplyr</dt>\n",
       "\t\t<dd>TRUE</dd>\n",
       "\t<dt>caret</dt>\n",
       "\t\t<dd>TRUE</dd>\n",
       "</dl>\n"
      ],
      "text/latex": [
       "\\begin{description*}\n",
       "\\item[plyr] TRUE\n",
       "\\item[dplyr] TRUE\n",
       "\\item[caret] TRUE\n",
       "\\end{description*}\n"
      ],
      "text/markdown": [
       "plyr\n",
       ":   TRUEdplyr\n",
       ":   TRUEcaret\n",
       ":   TRUE\n",
       "\n"
      ],
      "text/plain": [
       " plyr dplyr caret \n",
       " TRUE  TRUE  TRUE "
      ]
     },
     "metadata": {},
     "output_type": "display_data"
    }
   ],
   "source": [
    "# install packages and load libraries\n",
    "ipak <- function(pkg){\n",
    "    new.pkg <- pkg[!(pkg %in% installed.packages()[, \"Package\"])]\n",
    "    if (length(new.pkg)) \n",
    "        install.packages(new.pkg, dependencies = c(\"Depends\", \"Suggests\"))\n",
    "    sapply(pkg, require, character.only = TRUE)\n",
    "}\n",
    "# usage\n",
    "packages <- c(\"plyr\", \"dplyr\", \"caret\")\n",
    "ipak(packages)\n"
   ]
  },
  {
   "cell_type": "code",
   "execution_count": 2,
   "metadata": {},
   "outputs": [
    {
     "data": {
      "text/html": [
       "<table>\n",
       "<thead><tr><th scope=col>fixed.acidity</th><th scope=col>volatile.acidity</th><th scope=col>citric.acid</th><th scope=col>residual.sugar</th><th scope=col>chlorides</th><th scope=col>total.sulfur.dioxide</th><th scope=col>pH</th><th scope=col>sulphates</th><th scope=col>alcohol</th><th scope=col>quality</th><th scope=col>Class</th></tr></thead>\n",
       "<tbody>\n",
       "\t<tr><td>7.0  </td><td>0.27 </td><td>0.36 </td><td>20.7 </td><td>0.045</td><td>170  </td><td>3.00 </td><td>0.45 </td><td> 8.8 </td><td>Good </td><td>white</td></tr>\n",
       "\t<tr><td>6.3  </td><td>0.30 </td><td>0.34 </td><td> 1.6 </td><td>0.049</td><td>132  </td><td>3.30 </td><td>0.49 </td><td> 9.5 </td><td>Good </td><td>white</td></tr>\n",
       "\t<tr><td>8.1  </td><td>0.28 </td><td>0.40 </td><td> 6.9 </td><td>0.050</td><td> 97  </td><td>3.26 </td><td>0.44 </td><td>10.1 </td><td>Good </td><td>white</td></tr>\n",
       "\t<tr><td>7.2  </td><td>0.23 </td><td>0.32 </td><td> 8.5 </td><td>0.058</td><td>186  </td><td>3.19 </td><td>0.40 </td><td> 9.9 </td><td>Good </td><td>white</td></tr>\n",
       "\t<tr><td>7.2  </td><td>0.23 </td><td>0.32 </td><td> 8.5 </td><td>0.058</td><td>186  </td><td>3.19 </td><td>0.40 </td><td> 9.9 </td><td>Good </td><td>white</td></tr>\n",
       "\t<tr><td>8.1  </td><td>0.28 </td><td>0.40 </td><td> 6.9 </td><td>0.050</td><td> 97  </td><td>3.26 </td><td>0.44 </td><td>10.1 </td><td>Good </td><td>white</td></tr>\n",
       "</tbody>\n",
       "</table>\n"
      ],
      "text/latex": [
       "\\begin{tabular}{r|lllllllllll}\n",
       " fixed.acidity & volatile.acidity & citric.acid & residual.sugar & chlorides & total.sulfur.dioxide & pH & sulphates & alcohol & quality & Class\\\\\n",
       "\\hline\n",
       "\t 7.0   & 0.27  & 0.36  & 20.7  & 0.045 & 170   & 3.00  & 0.45  &  8.8  & Good  & white\\\\\n",
       "\t 6.3   & 0.30  & 0.34  &  1.6  & 0.049 & 132   & 3.30  & 0.49  &  9.5  & Good  & white\\\\\n",
       "\t 8.1   & 0.28  & 0.40  &  6.9  & 0.050 &  97   & 3.26  & 0.44  & 10.1  & Good  & white\\\\\n",
       "\t 7.2   & 0.23  & 0.32  &  8.5  & 0.058 & 186   & 3.19  & 0.40  &  9.9  & Good  & white\\\\\n",
       "\t 7.2   & 0.23  & 0.32  &  8.5  & 0.058 & 186   & 3.19  & 0.40  &  9.9  & Good  & white\\\\\n",
       "\t 8.1   & 0.28  & 0.40  &  6.9  & 0.050 &  97   & 3.26  & 0.44  & 10.1  & Good  & white\\\\\n",
       "\\end{tabular}\n"
      ],
      "text/markdown": [
       "\n",
       "fixed.acidity | volatile.acidity | citric.acid | residual.sugar | chlorides | total.sulfur.dioxide | pH | sulphates | alcohol | quality | Class | \n",
       "|---|---|---|---|---|---|\n",
       "| 7.0   | 0.27  | 0.36  | 20.7  | 0.045 | 170   | 3.00  | 0.45  |  8.8  | Good  | white | \n",
       "| 6.3   | 0.30  | 0.34  |  1.6  | 0.049 | 132   | 3.30  | 0.49  |  9.5  | Good  | white | \n",
       "| 8.1   | 0.28  | 0.40  |  6.9  | 0.050 |  97   | 3.26  | 0.44  | 10.1  | Good  | white | \n",
       "| 7.2   | 0.23  | 0.32  |  8.5  | 0.058 | 186   | 3.19  | 0.40  |  9.9  | Good  | white | \n",
       "| 7.2   | 0.23  | 0.32  |  8.5  | 0.058 | 186   | 3.19  | 0.40  |  9.9  | Good  | white | \n",
       "| 8.1   | 0.28  | 0.40  |  6.9  | 0.050 |  97   | 3.26  | 0.44  | 10.1  | Good  | white | \n",
       "\n",
       "\n"
      ],
      "text/plain": [
       "  fixed.acidity volatile.acidity citric.acid residual.sugar chlorides\n",
       "1 7.0           0.27             0.36        20.7           0.045    \n",
       "2 6.3           0.30             0.34         1.6           0.049    \n",
       "3 8.1           0.28             0.40         6.9           0.050    \n",
       "4 7.2           0.23             0.32         8.5           0.058    \n",
       "5 7.2           0.23             0.32         8.5           0.058    \n",
       "6 8.1           0.28             0.40         6.9           0.050    \n",
       "  total.sulfur.dioxide pH   sulphates alcohol quality Class\n",
       "1 170                  3.00 0.45       8.8    Good    white\n",
       "2 132                  3.30 0.49       9.5    Good    white\n",
       "3  97                  3.26 0.44      10.1    Good    white\n",
       "4 186                  3.19 0.40       9.9    Good    white\n",
       "5 186                  3.19 0.40       9.9    Good    white\n",
       "6  97                  3.26 0.44      10.1    Good    white"
      ]
     },
     "metadata": {},
     "output_type": "display_data"
    }
   ],
   "source": [
    "# define path location of datasets\n",
    "wine1.url <- \"http://archive.ics.uci.edu/ml/machine-learning-databases/wine-quality/winequality-white.csv\"\n",
    "wine2.url <- \"http://archive.ics.uci.edu/ml/machine-learning-databases/wine-quality/winequality-red.csv\"\n",
    "\n",
    "# read datasets\n",
    "wine1 <- read.csv(wine1.url, header=TRUE, sep=';')\n",
    "wine2 <- read.csv(wine2.url, header=TRUE, sep=';')\n",
    "\n",
    "# create dataset base\n",
    "paso <- rbind(cbind(wine1, Class='white'), cbind(wine2, Class='red'))\n",
    "paso$quality<- ifelse(paso$quality>=6, \"Good\", ifelse(paso$quality<6, \"Bad\", NA))\n",
    "\n",
    "df= subset(paso, select=c('fixed.acidity', 'volatile.acidity', 'citric.acid', 'residual.sugar', 'chlorides' ,'total.sulfur.dioxide','pH', 'sulphates', 'alcohol', 'quality', 'Class'))\n",
    "attach(df)\n",
    "head(df)\n",
    "rm(\"paso\", \"wine1\", \"wine2\")"
   ]
  },
  {
   "cell_type": "code",
   "execution_count": 3,
   "metadata": {
    "collapsed": true
   },
   "outputs": [],
   "source": [
    "# verify response variable \"quality\" as factor\n",
    "df$quality <- as.factor(df$quality)\n",
    "df$Class <- as.factor(df$Class)"
   ]
  },
  {
   "cell_type": "code",
   "execution_count": 51,
   "metadata": {},
   "outputs": [
    {
     "name": "stdout",
     "output_type": "stream",
     "text": [
      "'data.frame':\t6497 obs. of  11 variables:\n",
      " $ fixed.acidity       : num  7 6.3 8.1 7.2 7.2 8.1 6.2 7 6.3 8.1 ...\n",
      " $ volatile.acidity    : num  0.27 0.3 0.28 0.23 0.23 0.28 0.32 0.27 0.3 0.22 ...\n",
      " $ citric.acid         : num  0.36 0.34 0.4 0.32 0.32 0.4 0.16 0.36 0.34 0.43 ...\n",
      " $ residual.sugar      : num  20.7 1.6 6.9 8.5 8.5 6.9 7 20.7 1.6 1.5 ...\n",
      " $ chlorides           : num  0.045 0.049 0.05 0.058 0.058 0.05 0.045 0.045 0.049 0.044 ...\n",
      " $ total.sulfur.dioxide: num  170 132 97 186 186 97 136 170 132 129 ...\n",
      " $ pH                  : num  3 3.3 3.26 3.19 3.19 3.26 3.18 3 3.3 3.22 ...\n",
      " $ sulphates           : num  0.45 0.49 0.44 0.4 0.4 0.44 0.47 0.45 0.49 0.45 ...\n",
      " $ alcohol             : num  8.8 9.5 10.1 9.9 9.9 10.1 9.6 8.8 9.5 11 ...\n",
      " $ quality             : Factor w/ 2 levels \"Bad\",\"Good\": 2 2 2 2 2 2 2 2 2 2 ...\n",
      " $ Class               : Factor w/ 2 levels \"white\",\"red\": 1 1 1 1 1 1 1 1 1 1 ...\n"
     ]
    }
   ],
   "source": [
    "# get some information about the dataset\n",
    "str(df)"
   ]
  },
  {
   "cell_type": "code",
   "execution_count": 6,
   "metadata": {
    "collapsed": true
   },
   "outputs": [],
   "source": [
    "#summarize full dataset by columns \n",
    "propmiss <- function(dataframe) {\n",
    "\tm <- sapply(dataframe, function(x) {\n",
    "\t\tdata.frame(\n",
    "\t\t\tn=length(!is.na(x)), \n",
    "\t\t\tnmiss=sum(is.na(x)), \n",
    "\t\t\tpropmiss=sum(is.na(x))/length(x),\n",
    "\t\t\tP25=round(quantile(x, 0.25, na.rm=TRUE),2),\n",
    "\t\t\tP75=round(quantile(x, 0.75, na.rm=TRUE),2),            \n",
    "\t\t\tIQR=round(IQR(x, na.rm=TRUE),2),\n",
    "\t\t\tThreshold= round(quantile(x, 0.75, na.rm=TRUE),2) + 1.5*round(IQR(x, na.rm=TRUE),2),            \n",
    "\t\t\tMinimum=round(min(x, na.rm=TRUE),2),\n",
    "\t\t\tMedian=round(median(x, na.rm=TRUE),2),            \n",
    "\t\t\tMaximum=round(max(x, na.rm=TRUE),2),\n",
    "\t\t\tRange=round(max(x, na.rm=TRUE)-min(x, na.rm=TRUE),2),\n",
    "\t\t\tMean=round(mean(x, na.rm=TRUE),2),\n",
    "\t\t\tStDev=round(sd(x, na.rm=TRUE),2)\n",
    "\t\t)\n",
    "\t})\n",
    "\td <- data.frame(t(m))\n",
    "\td <- sapply(d, unlist)\n",
    "\td <- as.data.frame(d)\n",
    "\td$variable <- row.names(d)\n",
    "\trow.names(d) <- NULL\n",
    "\td <- cbind(d[ncol(d)],d[-ncol(d)])\n",
    "\treturn(d[order(d$propmiss), ])\n",
    "}"
   ]
  },
  {
   "cell_type": "code",
   "execution_count": 7,
   "metadata": {},
   "outputs": [
    {
     "data": {
      "text/html": [
       "<table>\n",
       "<thead><tr><th scope=col>variable</th><th scope=col>n</th><th scope=col>P25</th><th scope=col>P75</th><th scope=col>IQR</th><th scope=col>Threshold</th><th scope=col>Minimum</th><th scope=col>Median</th><th scope=col>Maximum</th><th scope=col>Range</th><th scope=col>Mean</th><th scope=col>StDev</th></tr></thead>\n",
       "<tbody>\n",
       "\t<tr><td>fixed.acidity       </td><td>6497                </td><td> 6.40               </td><td>  7.70              </td><td> 1.30               </td><td>  9.650             </td><td>3.80                </td><td>  7.00              </td><td> 15.90              </td><td> 12.10              </td><td>  7.22              </td><td> 1.30               </td></tr>\n",
       "\t<tr><td>volatile.acidity    </td><td>6497                </td><td> 0.23               </td><td>  0.40              </td><td> 0.17               </td><td>  0.655             </td><td>0.08                </td><td>  0.29              </td><td>  1.58              </td><td>  1.50              </td><td>  0.34              </td><td> 0.16               </td></tr>\n",
       "\t<tr><td>citric.acid         </td><td>6497                </td><td> 0.25               </td><td>  0.39              </td><td> 0.14               </td><td>  0.600             </td><td>0.00                </td><td>  0.31              </td><td>  1.66              </td><td>  1.66              </td><td>  0.32              </td><td> 0.15               </td></tr>\n",
       "\t<tr><td>residual.sugar      </td><td>6497                </td><td> 1.80               </td><td>  8.10              </td><td> 6.30               </td><td> 17.550             </td><td>0.60                </td><td>  3.00              </td><td> 65.80              </td><td> 65.20              </td><td>  5.44              </td><td> 4.76               </td></tr>\n",
       "\t<tr><td>chlorides           </td><td>6497                </td><td> 0.04               </td><td>  0.06              </td><td> 0.03               </td><td>  0.105             </td><td>0.01                </td><td>  0.05              </td><td>  0.61              </td><td>  0.60              </td><td>  0.06              </td><td> 0.04               </td></tr>\n",
       "\t<tr><td>total.sulfur.dioxide</td><td>6497                </td><td>77.00               </td><td>156.00              </td><td>79.00               </td><td>274.500             </td><td>6.00                </td><td>118.00              </td><td>440.00              </td><td>434.00              </td><td>115.74              </td><td>56.52               </td></tr>\n",
       "\t<tr><td>pH                  </td><td>6497                </td><td> 3.11               </td><td>  3.32              </td><td> 0.21               </td><td>  3.635             </td><td>2.72                </td><td>  3.21              </td><td>  4.01              </td><td>  1.29              </td><td>  3.22              </td><td> 0.16               </td></tr>\n",
       "\t<tr><td>sulphates           </td><td>6497                </td><td> 0.43               </td><td>  0.60              </td><td> 0.17               </td><td>  0.855             </td><td>0.22                </td><td>  0.51              </td><td>  2.00              </td><td>  1.78              </td><td>  0.53              </td><td> 0.15               </td></tr>\n",
       "\t<tr><td>alcohol             </td><td>6497                </td><td> 9.50               </td><td> 11.30              </td><td> 1.80               </td><td> 14.000             </td><td>8.00                </td><td> 10.30              </td><td> 14.90              </td><td>  6.90              </td><td> 10.49              </td><td> 1.19               </td></tr>\n",
       "</tbody>\n",
       "</table>\n"
      ],
      "text/latex": [
       "\\begin{tabular}{r|llllllllllll}\n",
       " variable & n & P25 & P75 & IQR & Threshold & Minimum & Median & Maximum & Range & Mean & StDev\\\\\n",
       "\\hline\n",
       "\t fixed.acidity        & 6497                 &  6.40                &   7.70               &  1.30                &   9.650              & 3.80                 &   7.00               &  15.90               &  12.10               &   7.22               &  1.30               \\\\\n",
       "\t volatile.acidity     & 6497                 &  0.23                &   0.40               &  0.17                &   0.655              & 0.08                 &   0.29               &   1.58               &   1.50               &   0.34               &  0.16               \\\\\n",
       "\t citric.acid          & 6497                 &  0.25                &   0.39               &  0.14                &   0.600              & 0.00                 &   0.31               &   1.66               &   1.66               &   0.32               &  0.15               \\\\\n",
       "\t residual.sugar       & 6497                 &  1.80                &   8.10               &  6.30                &  17.550              & 0.60                 &   3.00               &  65.80               &  65.20               &   5.44               &  4.76               \\\\\n",
       "\t chlorides            & 6497                 &  0.04                &   0.06               &  0.03                &   0.105              & 0.01                 &   0.05               &   0.61               &   0.60               &   0.06               &  0.04               \\\\\n",
       "\t total.sulfur.dioxide & 6497                 & 77.00                & 156.00               & 79.00                & 274.500              & 6.00                 & 118.00               & 440.00               & 434.00               & 115.74               & 56.52               \\\\\n",
       "\t pH                   & 6497                 &  3.11                &   3.32               &  0.21                &   3.635              & 2.72                 &   3.21               &   4.01               &   1.29               &   3.22               &  0.16               \\\\\n",
       "\t sulphates            & 6497                 &  0.43                &   0.60               &  0.17                &   0.855              & 0.22                 &   0.51               &   2.00               &   1.78               &   0.53               &  0.15               \\\\\n",
       "\t alcohol              & 6497                 &  9.50                &  11.30               &  1.80                &  14.000              & 8.00                 &  10.30               &  14.90               &   6.90               &  10.49               &  1.19               \\\\\n",
       "\\end{tabular}\n"
      ],
      "text/markdown": [
       "\n",
       "variable | n | P25 | P75 | IQR | Threshold | Minimum | Median | Maximum | Range | Mean | StDev | \n",
       "|---|---|---|---|---|---|---|---|---|\n",
       "| fixed.acidity        | 6497                 |  6.40                |   7.70               |  1.30                |   9.650              | 3.80                 |   7.00               |  15.90               |  12.10               |   7.22               |  1.30                | \n",
       "| volatile.acidity     | 6497                 |  0.23                |   0.40               |  0.17                |   0.655              | 0.08                 |   0.29               |   1.58               |   1.50               |   0.34               |  0.16                | \n",
       "| citric.acid          | 6497                 |  0.25                |   0.39               |  0.14                |   0.600              | 0.00                 |   0.31               |   1.66               |   1.66               |   0.32               |  0.15                | \n",
       "| residual.sugar       | 6497                 |  1.80                |   8.10               |  6.30                |  17.550              | 0.60                 |   3.00               |  65.80               |  65.20               |   5.44               |  4.76                | \n",
       "| chlorides            | 6497                 |  0.04                |   0.06               |  0.03                |   0.105              | 0.01                 |   0.05               |   0.61               |   0.60               |   0.06               |  0.04                | \n",
       "| total.sulfur.dioxide | 6497                 | 77.00                | 156.00               | 79.00                | 274.500              | 6.00                 | 118.00               | 440.00               | 434.00               | 115.74               | 56.52                | \n",
       "| pH                   | 6497                 |  3.11                |   3.32               |  0.21                |   3.635              | 2.72                 |   3.21               |   4.01               |   1.29               |   3.22               |  0.16                | \n",
       "| sulphates            | 6497                 |  0.43                |   0.60               |  0.17                |   0.855              | 0.22                 |   0.51               |   2.00               |   1.78               |   0.53               |  0.15                | \n",
       "| alcohol              | 6497                 |  9.50                |  11.30               |  1.80                |  14.000              | 8.00                 |  10.30               |  14.90               |   6.90               |  10.49               |  1.19                | \n",
       "\n",
       "\n"
      ],
      "text/plain": [
       "  variable             n    P25   P75    IQR   Threshold Minimum Median Maximum\n",
       "1 fixed.acidity        6497  6.40   7.70  1.30   9.650   3.80      7.00  15.90 \n",
       "2 volatile.acidity     6497  0.23   0.40  0.17   0.655   0.08      0.29   1.58 \n",
       "3 citric.acid          6497  0.25   0.39  0.14   0.600   0.00      0.31   1.66 \n",
       "4 residual.sugar       6497  1.80   8.10  6.30  17.550   0.60      3.00  65.80 \n",
       "5 chlorides            6497  0.04   0.06  0.03   0.105   0.01      0.05   0.61 \n",
       "6 total.sulfur.dioxide 6497 77.00 156.00 79.00 274.500   6.00    118.00 440.00 \n",
       "7 pH                   6497  3.11   3.32  0.21   3.635   2.72      3.21   4.01 \n",
       "8 sulphates            6497  0.43   0.60  0.17   0.855   0.22      0.51   2.00 \n",
       "9 alcohol              6497  9.50  11.30  1.80  14.000   8.00     10.30  14.90 \n",
       "  Range  Mean   StDev\n",
       "1  12.10   7.22  1.30\n",
       "2   1.50   0.34  0.16\n",
       "3   1.66   0.32  0.15\n",
       "4  65.20   5.44  4.76\n",
       "5   0.60   0.06  0.04\n",
       "6 434.00 115.74 56.52\n",
       "7   1.29   3.22  0.16\n",
       "8   1.78   0.53  0.15\n",
       "9   6.90  10.49  1.19"
      ]
     },
     "metadata": {},
     "output_type": "display_data"
    }
   ],
   "source": [
    "# summarize original df dataset\n",
    "(summary1=propmiss(df[,-c(10:11)])[,-(3:4)])"
   ]
  },
  {
   "cell_type": "code",
   "execution_count": 4,
   "metadata": {},
   "outputs": [
    {
     "name": "stderr",
     "output_type": "stream",
     "text": [
      "Loading required package: ParamHelpers\n",
      "\n",
      "Attaching package: 'mlr'\n",
      "\n",
      "The following object is masked from 'package:caret':\n",
      "\n",
      "    train\n",
      "\n"
     ]
    }
   ],
   "source": [
    "# r code to replace outliers by the threshold of each variable\n",
    "library(mlr)"
   ]
  },
  {
   "cell_type": "code",
   "execution_count": 8,
   "metadata": {
    "collapsed": true
   },
   "outputs": [],
   "source": [
    "dfffull <- capLargeValues(df, target = \"Class\",cols = c(\"fixed.acidity\"),threshold = summary1[1,6])\n",
    "dfffull <- capLargeValues(dfffull, target = \"Class\",cols = c(\"volatile.acidity\"),threshold = summary1[2,6])\n",
    "dfffull <- capLargeValues(dfffull, target = \"Class\",cols = c(\"citric.acid\"),threshold = summary1[3,6])\n",
    "dfffull <- capLargeValues(dfffull, target = \"Class\",cols = c(\"residual.sugar\"),threshold = summary1[4,6])\n",
    "dfffull <- capLargeValues(dfffull, target = \"Class\",cols = c(\"chlorides\"),threshold = summary1[5,6])\n",
    "dfffull <- capLargeValues(dfffull, target = \"Class\",cols = c(\"total.sulfur.dioxide\"),threshold = summary1[6,6])\n",
    "dfffull <- capLargeValues(dfffull, target = \"Class\",cols = c(\"pH\"),threshold = summary1[7,6])\n",
    "dfffull <- capLargeValues(dfffull, target = \"Class\",cols = c(\"sulphates\"),threshold = summary1[8,6])\n",
    "dfffull <- capLargeValues(dfffull, target = \"Class\",cols = c(\"alcohol\"),threshold = summary1[9,6])\n",
    "unloadNamespace(\"mlr\")"
   ]
  },
  {
   "cell_type": "code",
   "execution_count": 9,
   "metadata": {},
   "outputs": [
    {
     "name": "stdout",
     "output_type": "stream",
     "text": [
      "'data.frame':\t6497 obs. of  11 variables:\n",
      " $ fixed.acidity       : num  7 6.3 8.1 7.2 7.2 8.1 6.2 7 6.3 8.1 ...\n",
      " $ volatile.acidity    : num  0.27 0.3 0.28 0.23 0.23 0.28 0.32 0.27 0.3 0.22 ...\n",
      " $ citric.acid         : num  0.36 0.34 0.4 0.32 0.32 0.4 0.16 0.36 0.34 0.43 ...\n",
      " $ residual.sugar      : num  17.5 1.6 6.9 8.5 8.5 ...\n",
      " $ chlorides           : num  0.045 0.049 0.05 0.058 0.058 0.05 0.045 0.045 0.049 0.044 ...\n",
      " $ total.sulfur.dioxide: num  170 132 97 186 186 97 136 170 132 129 ...\n",
      " $ pH                  : num  3 3.3 3.26 3.19 3.19 3.26 3.18 3 3.3 3.22 ...\n",
      " $ sulphates           : num  0.45 0.49 0.44 0.4 0.4 0.44 0.47 0.45 0.49 0.45 ...\n",
      " $ alcohol             : num  8.8 9.5 10.1 9.9 9.9 10.1 9.6 8.8 9.5 11 ...\n",
      " $ quality             : Factor w/ 2 levels \"Bad\",\"Good\": 2 2 2 2 2 2 2 2 2 2 ...\n",
      " $ Class               : Factor w/ 2 levels \"white\",\"red\": 1 1 1 1 1 1 1 1 1 1 ...\n"
     ]
    }
   ],
   "source": [
    "# get some information about the dataset\n",
    "str(dfffull)"
   ]
  },
  {
   "cell_type": "code",
   "execution_count": 9,
   "metadata": {
    "collapsed": true
   },
   "outputs": [],
   "source": [
    "# remove and dettach df dataset\n",
    "rm(\"df\")\n",
    "detach(\"df\")"
   ]
  },
  {
   "cell_type": "code",
   "execution_count": 10,
   "metadata": {
    "collapsed": true
   },
   "outputs": [],
   "source": [
    "# rename dff dataset as df dataset to use the already created R scripts\n",
    "df <- dfffull\n",
    "\n",
    "# remove dff dataset\n",
    "rm(\"dfffull\")"
   ]
  },
  {
   "cell_type": "code",
   "execution_count": 12,
   "metadata": {},
   "outputs": [
    {
     "data": {
      "text/html": [
       "<table>\n",
       "<thead><tr><th scope=col>fixed.acidity</th><th scope=col>volatile.acidity</th><th scope=col>citric.acid</th><th scope=col>residual.sugar</th><th scope=col>chlorides</th><th scope=col>total.sulfur.dioxide</th><th scope=col>pH</th><th scope=col>sulphates</th><th scope=col>alcohol</th><th scope=col>quality</th><th scope=col>Class</th></tr></thead>\n",
       "<tbody>\n",
       "\t<tr><td>7.0  </td><td>0.27 </td><td>0.36 </td><td>17.55</td><td>0.045</td><td>170  </td><td>3.00 </td><td>0.45 </td><td> 8.8 </td><td>Good </td><td>white</td></tr>\n",
       "\t<tr><td>6.3  </td><td>0.30 </td><td>0.34 </td><td> 1.60</td><td>0.049</td><td>132  </td><td>3.30 </td><td>0.49 </td><td> 9.5 </td><td>Good </td><td>white</td></tr>\n",
       "\t<tr><td>8.1  </td><td>0.28 </td><td>0.40 </td><td> 6.90</td><td>0.050</td><td> 97  </td><td>3.26 </td><td>0.44 </td><td>10.1 </td><td>Good </td><td>white</td></tr>\n",
       "\t<tr><td>7.2  </td><td>0.23 </td><td>0.32 </td><td> 8.50</td><td>0.058</td><td>186  </td><td>3.19 </td><td>0.40 </td><td> 9.9 </td><td>Good </td><td>white</td></tr>\n",
       "\t<tr><td>7.2  </td><td>0.23 </td><td>0.32 </td><td> 8.50</td><td>0.058</td><td>186  </td><td>3.19 </td><td>0.40 </td><td> 9.9 </td><td>Good </td><td>white</td></tr>\n",
       "\t<tr><td>8.1  </td><td>0.28 </td><td>0.40 </td><td> 6.90</td><td>0.050</td><td> 97  </td><td>3.26 </td><td>0.44 </td><td>10.1 </td><td>Good </td><td>white</td></tr>\n",
       "</tbody>\n",
       "</table>\n"
      ],
      "text/latex": [
       "\\begin{tabular}{r|lllllllllll}\n",
       " fixed.acidity & volatile.acidity & citric.acid & residual.sugar & chlorides & total.sulfur.dioxide & pH & sulphates & alcohol & quality & Class\\\\\n",
       "\\hline\n",
       "\t 7.0   & 0.27  & 0.36  & 17.55 & 0.045 & 170   & 3.00  & 0.45  &  8.8  & Good  & white\\\\\n",
       "\t 6.3   & 0.30  & 0.34  &  1.60 & 0.049 & 132   & 3.30  & 0.49  &  9.5  & Good  & white\\\\\n",
       "\t 8.1   & 0.28  & 0.40  &  6.90 & 0.050 &  97   & 3.26  & 0.44  & 10.1  & Good  & white\\\\\n",
       "\t 7.2   & 0.23  & 0.32  &  8.50 & 0.058 & 186   & 3.19  & 0.40  &  9.9  & Good  & white\\\\\n",
       "\t 7.2   & 0.23  & 0.32  &  8.50 & 0.058 & 186   & 3.19  & 0.40  &  9.9  & Good  & white\\\\\n",
       "\t 8.1   & 0.28  & 0.40  &  6.90 & 0.050 &  97   & 3.26  & 0.44  & 10.1  & Good  & white\\\\\n",
       "\\end{tabular}\n"
      ],
      "text/markdown": [
       "\n",
       "fixed.acidity | volatile.acidity | citric.acid | residual.sugar | chlorides | total.sulfur.dioxide | pH | sulphates | alcohol | quality | Class | \n",
       "|---|---|---|---|---|---|\n",
       "| 7.0   | 0.27  | 0.36  | 17.55 | 0.045 | 170   | 3.00  | 0.45  |  8.8  | Good  | white | \n",
       "| 6.3   | 0.30  | 0.34  |  1.60 | 0.049 | 132   | 3.30  | 0.49  |  9.5  | Good  | white | \n",
       "| 8.1   | 0.28  | 0.40  |  6.90 | 0.050 |  97   | 3.26  | 0.44  | 10.1  | Good  | white | \n",
       "| 7.2   | 0.23  | 0.32  |  8.50 | 0.058 | 186   | 3.19  | 0.40  |  9.9  | Good  | white | \n",
       "| 7.2   | 0.23  | 0.32  |  8.50 | 0.058 | 186   | 3.19  | 0.40  |  9.9  | Good  | white | \n",
       "| 8.1   | 0.28  | 0.40  |  6.90 | 0.050 |  97   | 3.26  | 0.44  | 10.1  | Good  | white | \n",
       "\n",
       "\n"
      ],
      "text/plain": [
       "  fixed.acidity volatile.acidity citric.acid residual.sugar chlorides\n",
       "1 7.0           0.27             0.36        17.55          0.045    \n",
       "2 6.3           0.30             0.34         1.60          0.049    \n",
       "3 8.1           0.28             0.40         6.90          0.050    \n",
       "4 7.2           0.23             0.32         8.50          0.058    \n",
       "5 7.2           0.23             0.32         8.50          0.058    \n",
       "6 8.1           0.28             0.40         6.90          0.050    \n",
       "  total.sulfur.dioxide pH   sulphates alcohol quality Class\n",
       "1 170                  3.00 0.45       8.8    Good    white\n",
       "2 132                  3.30 0.49       9.5    Good    white\n",
       "3  97                  3.26 0.44      10.1    Good    white\n",
       "4 186                  3.19 0.40       9.9    Good    white\n",
       "5 186                  3.19 0.40       9.9    Good    white\n",
       "6  97                  3.26 0.44      10.1    Good    white"
      ]
     },
     "metadata": {},
     "output_type": "display_data"
    },
    {
     "name": "stdout",
     "output_type": "stream",
     "text": [
      "'data.frame':\t6497 obs. of  11 variables:\n",
      " $ fixed.acidity       : num  7 6.3 8.1 7.2 7.2 8.1 6.2 7 6.3 8.1 ...\n",
      " $ volatile.acidity    : num  0.27 0.3 0.28 0.23 0.23 0.28 0.32 0.27 0.3 0.22 ...\n",
      " $ citric.acid         : num  0.36 0.34 0.4 0.32 0.32 0.4 0.16 0.36 0.34 0.43 ...\n",
      " $ residual.sugar      : num  17.5 1.6 6.9 8.5 8.5 ...\n",
      " $ chlorides           : num  0.045 0.049 0.05 0.058 0.058 0.05 0.045 0.045 0.049 0.044 ...\n",
      " $ total.sulfur.dioxide: num  170 132 97 186 186 97 136 170 132 129 ...\n",
      " $ pH                  : num  3 3.3 3.26 3.19 3.19 3.26 3.18 3 3.3 3.22 ...\n",
      " $ sulphates           : num  0.45 0.49 0.44 0.4 0.4 0.44 0.47 0.45 0.49 0.45 ...\n",
      " $ alcohol             : num  8.8 9.5 10.1 9.9 9.9 10.1 9.6 8.8 9.5 11 ...\n",
      " $ quality             : Factor w/ 2 levels \"Bad\",\"Good\": 2 2 2 2 2 2 2 2 2 2 ...\n",
      " $ Class               : Factor w/ 2 levels \"white\",\"red\": 1 1 1 1 1 1 1 1 1 1 ...\n"
     ]
    }
   ],
   "source": [
    "head(df)\n",
    "str(df)"
   ]
  },
  {
   "cell_type": "markdown",
   "metadata": {},
   "source": [
    "# III Getting train and test datasets"
   ]
  },
  {
   "cell_type": "code",
   "execution_count": 11,
   "metadata": {},
   "outputs": [
    {
     "data": {
      "text/html": [
       "4549"
      ],
      "text/latex": [
       "4549"
      ],
      "text/markdown": [
       "4549"
      ],
      "text/plain": [
       "[1] 4549"
      ]
     },
     "metadata": {},
     "output_type": "display_data"
    },
    {
     "data": {
      "text/html": [
       "1948"
      ],
      "text/latex": [
       "1948"
      ],
      "text/markdown": [
       "1948"
      ],
      "text/plain": [
       "[1] 1948"
      ]
     },
     "metadata": {},
     "output_type": "display_data"
    }
   ],
   "source": [
    "#stratified sampling to get the train and test dataset\n",
    "set.seed(7) # Set Seed so that same sample can be reproduced in future also\n",
    "# considering response variable as strata\n",
    "data_part <- createDataPartition(y = df$quality ,  p = 0.70, list = F)\n",
    "testing <- df[-data_part,] # 30% data goes here\n",
    "training <- df[data_part,] # 70% here\n",
    "\n",
    "length(training$Class)\n",
    "length(testing$Class)"
   ]
  },
  {
   "cell_type": "code",
   "execution_count": 26,
   "metadata": {},
   "outputs": [
    {
     "data": {
      "text/html": [
       "<table>\n",
       "<thead><tr><th></th><th scope=col>fixed.acidity</th><th scope=col>volatile.acidity</th><th scope=col>citric.acid</th><th scope=col>residual.sugar</th><th scope=col>chlorides</th><th scope=col>total.sulfur.dioxide</th><th scope=col>pH</th><th scope=col>sulphates</th><th scope=col>alcohol</th><th scope=col>quality</th><th scope=col>Class</th></tr></thead>\n",
       "<tbody>\n",
       "\t<tr><th scope=row>2</th><td>6.3  </td><td>0.30 </td><td>0.34 </td><td> 1.6 </td><td>0.049</td><td>132  </td><td>3.30 </td><td>0.49 </td><td> 9.5 </td><td>Good </td><td>white</td></tr>\n",
       "\t<tr><th scope=row>3</th><td>8.1  </td><td>0.28 </td><td>0.40 </td><td> 6.9 </td><td>0.050</td><td> 97  </td><td>3.26 </td><td>0.44 </td><td>10.1 </td><td>Good </td><td>white</td></tr>\n",
       "\t<tr><th scope=row>4</th><td>7.2  </td><td>0.23 </td><td>0.32 </td><td> 8.5 </td><td>0.058</td><td>186  </td><td>3.19 </td><td>0.40 </td><td> 9.9 </td><td>Good </td><td>white</td></tr>\n",
       "\t<tr><th scope=row>5</th><td>7.2  </td><td>0.23 </td><td>0.32 </td><td> 8.5 </td><td>0.058</td><td>186  </td><td>3.19 </td><td>0.40 </td><td> 9.9 </td><td>Good </td><td>white</td></tr>\n",
       "\t<tr><th scope=row>8</th><td>7.0  </td><td>0.27 </td><td>0.36 </td><td>20.7 </td><td>0.045</td><td>170  </td><td>3.00 </td><td>0.45 </td><td> 8.8 </td><td>Good </td><td>white</td></tr>\n",
       "\t<tr><th scope=row>9</th><td>6.3  </td><td>0.30 </td><td>0.34 </td><td> 1.6 </td><td>0.049</td><td>132  </td><td>3.30 </td><td>0.49 </td><td> 9.5 </td><td>Good </td><td>white</td></tr>\n",
       "</tbody>\n",
       "</table>\n"
      ],
      "text/latex": [
       "\\begin{tabular}{r|lllllllllll}\n",
       "  & fixed.acidity & volatile.acidity & citric.acid & residual.sugar & chlorides & total.sulfur.dioxide & pH & sulphates & alcohol & quality & Class\\\\\n",
       "\\hline\n",
       "\t2 & 6.3   & 0.30  & 0.34  &  1.6  & 0.049 & 132   & 3.30  & 0.49  &  9.5  & Good  & white\\\\\n",
       "\t3 & 8.1   & 0.28  & 0.40  &  6.9  & 0.050 &  97   & 3.26  & 0.44  & 10.1  & Good  & white\\\\\n",
       "\t4 & 7.2   & 0.23  & 0.32  &  8.5  & 0.058 & 186   & 3.19  & 0.40  &  9.9  & Good  & white\\\\\n",
       "\t5 & 7.2   & 0.23  & 0.32  &  8.5  & 0.058 & 186   & 3.19  & 0.40  &  9.9  & Good  & white\\\\\n",
       "\t8 & 7.0   & 0.27  & 0.36  & 20.7  & 0.045 & 170   & 3.00  & 0.45  &  8.8  & Good  & white\\\\\n",
       "\t9 & 6.3   & 0.30  & 0.34  &  1.6  & 0.049 & 132   & 3.30  & 0.49  &  9.5  & Good  & white\\\\\n",
       "\\end{tabular}\n"
      ],
      "text/markdown": [
       "\n",
       "| <!--/--> | fixed.acidity | volatile.acidity | citric.acid | residual.sugar | chlorides | total.sulfur.dioxide | pH | sulphates | alcohol | quality | Class | \n",
       "|---|---|---|---|---|---|\n",
       "| 2 | 6.3   | 0.30  | 0.34  |  1.6  | 0.049 | 132   | 3.30  | 0.49  |  9.5  | Good  | white | \n",
       "| 3 | 8.1   | 0.28  | 0.40  |  6.9  | 0.050 |  97   | 3.26  | 0.44  | 10.1  | Good  | white | \n",
       "| 4 | 7.2   | 0.23  | 0.32  |  8.5  | 0.058 | 186   | 3.19  | 0.40  |  9.9  | Good  | white | \n",
       "| 5 | 7.2   | 0.23  | 0.32  |  8.5  | 0.058 | 186   | 3.19  | 0.40  |  9.9  | Good  | white | \n",
       "| 8 | 7.0   | 0.27  | 0.36  | 20.7  | 0.045 | 170   | 3.00  | 0.45  |  8.8  | Good  | white | \n",
       "| 9 | 6.3   | 0.30  | 0.34  |  1.6  | 0.049 | 132   | 3.30  | 0.49  |  9.5  | Good  | white | \n",
       "\n",
       "\n"
      ],
      "text/plain": [
       "  fixed.acidity volatile.acidity citric.acid residual.sugar chlorides\n",
       "2 6.3           0.30             0.34         1.6           0.049    \n",
       "3 8.1           0.28             0.40         6.9           0.050    \n",
       "4 7.2           0.23             0.32         8.5           0.058    \n",
       "5 7.2           0.23             0.32         8.5           0.058    \n",
       "8 7.0           0.27             0.36        20.7           0.045    \n",
       "9 6.3           0.30             0.34         1.6           0.049    \n",
       "  total.sulfur.dioxide pH   sulphates alcohol quality Class\n",
       "2 132                  3.30 0.49       9.5    Good    white\n",
       "3  97                  3.26 0.44      10.1    Good    white\n",
       "4 186                  3.19 0.40       9.9    Good    white\n",
       "5 186                  3.19 0.40       9.9    Good    white\n",
       "8 170                  3.00 0.45       8.8    Good    white\n",
       "9 132                  3.30 0.49       9.5    Good    white"
      ]
     },
     "metadata": {},
     "output_type": "display_data"
    },
    {
     "data": {
      "text/html": [
       "<table>\n",
       "<thead><tr><th></th><th scope=col>fixed.acidity</th><th scope=col>volatile.acidity</th><th scope=col>citric.acid</th><th scope=col>residual.sugar</th><th scope=col>chlorides</th><th scope=col>total.sulfur.dioxide</th><th scope=col>pH</th><th scope=col>sulphates</th><th scope=col>alcohol</th><th scope=col>quality</th><th scope=col>Class</th></tr></thead>\n",
       "<tbody>\n",
       "\t<tr><th scope=row>1</th><td>7.0  </td><td>0.27 </td><td>0.36 </td><td>20.70</td><td>0.045</td><td>170  </td><td>3.00 </td><td>0.45 </td><td> 8.8 </td><td>Good </td><td>white</td></tr>\n",
       "\t<tr><th scope=row>6</th><td>8.1  </td><td>0.28 </td><td>0.40 </td><td> 6.90</td><td>0.050</td><td> 97  </td><td>3.26 </td><td>0.44 </td><td>10.1 </td><td>Good </td><td>white</td></tr>\n",
       "\t<tr><th scope=row>7</th><td>6.2  </td><td>0.32 </td><td>0.16 </td><td> 7.00</td><td>0.045</td><td>136  </td><td>3.18 </td><td>0.47 </td><td> 9.6 </td><td>Good </td><td>white</td></tr>\n",
       "\t<tr><th scope=row>11</th><td>8.1  </td><td>0.27 </td><td>0.41 </td><td> 1.45</td><td>0.033</td><td> 63  </td><td>2.99 </td><td>0.56 </td><td>12.0 </td><td>Bad  </td><td>white</td></tr>\n",
       "\t<tr><th scope=row>12</th><td>8.6  </td><td>0.23 </td><td>0.40 </td><td> 4.20</td><td>0.035</td><td>109  </td><td>3.14 </td><td>0.53 </td><td> 9.7 </td><td>Bad  </td><td>white</td></tr>\n",
       "\t<tr><th scope=row>19</th><td>7.4  </td><td>0.34 </td><td>0.42 </td><td> 1.10</td><td>0.033</td><td>171  </td><td>3.12 </td><td>0.53 </td><td>11.3 </td><td>Good </td><td>white</td></tr>\n",
       "</tbody>\n",
       "</table>\n"
      ],
      "text/latex": [
       "\\begin{tabular}{r|lllllllllll}\n",
       "  & fixed.acidity & volatile.acidity & citric.acid & residual.sugar & chlorides & total.sulfur.dioxide & pH & sulphates & alcohol & quality & Class\\\\\n",
       "\\hline\n",
       "\t1 & 7.0   & 0.27  & 0.36  & 20.70 & 0.045 & 170   & 3.00  & 0.45  &  8.8  & Good  & white\\\\\n",
       "\t6 & 8.1   & 0.28  & 0.40  &  6.90 & 0.050 &  97   & 3.26  & 0.44  & 10.1  & Good  & white\\\\\n",
       "\t7 & 6.2   & 0.32  & 0.16  &  7.00 & 0.045 & 136   & 3.18  & 0.47  &  9.6  & Good  & white\\\\\n",
       "\t11 & 8.1   & 0.27  & 0.41  &  1.45 & 0.033 &  63   & 2.99  & 0.56  & 12.0  & Bad   & white\\\\\n",
       "\t12 & 8.6   & 0.23  & 0.40  &  4.20 & 0.035 & 109   & 3.14  & 0.53  &  9.7  & Bad   & white\\\\\n",
       "\t19 & 7.4   & 0.34  & 0.42  &  1.10 & 0.033 & 171   & 3.12  & 0.53  & 11.3  & Good  & white\\\\\n",
       "\\end{tabular}\n"
      ],
      "text/markdown": [
       "\n",
       "| <!--/--> | fixed.acidity | volatile.acidity | citric.acid | residual.sugar | chlorides | total.sulfur.dioxide | pH | sulphates | alcohol | quality | Class | \n",
       "|---|---|---|---|---|---|\n",
       "| 1 | 7.0   | 0.27  | 0.36  | 20.70 | 0.045 | 170   | 3.00  | 0.45  |  8.8  | Good  | white | \n",
       "| 6 | 8.1   | 0.28  | 0.40  |  6.90 | 0.050 |  97   | 3.26  | 0.44  | 10.1  | Good  | white | \n",
       "| 7 | 6.2   | 0.32  | 0.16  |  7.00 | 0.045 | 136   | 3.18  | 0.47  |  9.6  | Good  | white | \n",
       "| 11 | 8.1   | 0.27  | 0.41  |  1.45 | 0.033 |  63   | 2.99  | 0.56  | 12.0  | Bad   | white | \n",
       "| 12 | 8.6   | 0.23  | 0.40  |  4.20 | 0.035 | 109   | 3.14  | 0.53  |  9.7  | Bad   | white | \n",
       "| 19 | 7.4   | 0.34  | 0.42  |  1.10 | 0.033 | 171   | 3.12  | 0.53  | 11.3  | Good  | white | \n",
       "\n",
       "\n"
      ],
      "text/plain": [
       "   fixed.acidity volatile.acidity citric.acid residual.sugar chlorides\n",
       "1  7.0           0.27             0.36        20.70          0.045    \n",
       "6  8.1           0.28             0.40         6.90          0.050    \n",
       "7  6.2           0.32             0.16         7.00          0.045    \n",
       "11 8.1           0.27             0.41         1.45          0.033    \n",
       "12 8.6           0.23             0.40         4.20          0.035    \n",
       "19 7.4           0.34             0.42         1.10          0.033    \n",
       "   total.sulfur.dioxide pH   sulphates alcohol quality Class\n",
       "1  170                  3.00 0.45       8.8    Good    white\n",
       "6   97                  3.26 0.44      10.1    Good    white\n",
       "7  136                  3.18 0.47       9.6    Good    white\n",
       "11  63                  2.99 0.56      12.0    Bad     white\n",
       "12 109                  3.14 0.53       9.7    Bad     white\n",
       "19 171                  3.12 0.53      11.3    Good    white"
      ]
     },
     "metadata": {},
     "output_type": "display_data"
    }
   ],
   "source": [
    "#taking a look of the train and test dataset by columns \n",
    "head(training)\n",
    "head(testing)"
   ]
  },
  {
   "cell_type": "code",
   "execution_count": 14,
   "metadata": {},
   "outputs": [
    {
     "name": "stdout",
     "output_type": "stream",
     "text": [
      "'data.frame':\t4549 obs. of  11 variables:\n",
      " $ fixed.acidity       : num  6.3 8.1 7.2 7.2 7 6.3 8.1 7.9 6.6 8.3 ...\n",
      " $ volatile.acidity    : num  0.3 0.28 0.23 0.23 0.27 0.3 0.22 0.18 0.16 0.42 ...\n",
      " $ citric.acid         : num  0.34 0.4 0.32 0.32 0.36 0.34 0.43 0.37 0.4 0.6 ...\n",
      " $ residual.sugar      : num  1.6 6.9 8.5 8.5 17.5 ...\n",
      " $ chlorides           : num  0.049 0.05 0.058 0.058 0.045 0.049 0.044 0.04 0.044 0.04 ...\n",
      " $ total.sulfur.dioxide: num  132 97 186 186 170 132 129 75 143 172 ...\n",
      " $ pH                  : num  3.3 3.26 3.19 3.19 3 3.3 3.22 3.18 3.54 2.98 ...\n",
      " $ sulphates           : num  0.49 0.44 0.4 0.4 0.45 0.49 0.45 0.63 0.52 0.67 ...\n",
      " $ alcohol             : num  9.5 10.1 9.9 9.9 8.8 9.5 11 10.8 12.4 9.7 ...\n",
      " $ quality             : Factor w/ 2 levels \"Bad\",\"Good\": 2 2 2 2 2 2 2 1 2 1 ...\n",
      " $ Class               : Factor w/ 2 levels \"white\",\"red\": 1 1 1 1 1 1 1 1 1 1 ...\n"
     ]
    }
   ],
   "source": [
    "# get some information about training dataset\n",
    "str(training[,1:11])"
   ]
  },
  {
   "cell_type": "code",
   "execution_count": 15,
   "metadata": {},
   "outputs": [
    {
     "name": "stdout",
     "output_type": "stream",
     "text": [
      "'data.frame':\t1948 obs. of  11 variables:\n",
      " $ fixed.acidity       : num  7 8.1 6.2 8.1 8.6 7.4 6.5 7 7.4 8.5 ...\n",
      " $ volatile.acidity    : num  0.27 0.28 0.32 0.27 0.23 0.34 0.31 0.25 0.27 0.24 ...\n",
      " $ citric.acid         : num  0.36 0.4 0.16 0.41 0.4 0.42 0.14 0.32 0.48 0.39 ...\n",
      " $ residual.sugar      : num  17.55 6.9 7 1.45 4.2 ...\n",
      " $ chlorides           : num  0.045 0.05 0.045 0.033 0.035 0.033 0.044 0.046 0.047 0.044 ...\n",
      " $ total.sulfur.dioxide: num  170 97 136 63 109 171 133 245 132 142 ...\n",
      " $ pH                  : num  3 3.26 3.18 2.99 3.14 3.12 3.22 3.25 3.19 3.2 ...\n",
      " $ sulphates           : num  0.45 0.44 0.47 0.56 0.53 0.53 0.5 0.5 0.49 0.53 ...\n",
      " $ alcohol             : num  8.8 10.1 9.6 12 9.7 11.3 9.5 10.4 11.6 10 ...\n",
      " $ quality             : Factor w/ 2 levels \"Bad\",\"Good\": 2 2 2 1 1 2 1 2 2 2 ...\n",
      " $ Class               : Factor w/ 2 levels \"white\",\"red\": 1 1 1 1 1 1 1 1 1 1 ...\n"
     ]
    }
   ],
   "source": [
    "# get some information about testing dataset\n",
    "str(testing[,1:11])"
   ]
  },
  {
   "cell_type": "code",
   "execution_count": 16,
   "metadata": {},
   "outputs": [
    {
     "data": {
      "text/html": [
       "<table>\n",
       "<thead><tr><th scope=col>variable</th><th scope=col>n</th><th scope=col>P25</th><th scope=col>P75</th><th scope=col>IQR</th><th scope=col>Minimum</th><th scope=col>Median</th><th scope=col>Maximum</th><th scope=col>Range</th><th scope=col>Mean</th><th scope=col>StDev</th></tr></thead>\n",
       "<tbody>\n",
       "\t<tr><td>fixed.acidity       </td><td>4549                </td><td> 6.40               </td><td>  7.70              </td><td> 1.30               </td><td>3.80                </td><td>  7.00              </td><td>  9.65              </td><td>  5.85              </td><td>  7.15              </td><td> 1.07               </td></tr>\n",
       "\t<tr><td>volatile.acidity    </td><td>4549                </td><td> 0.23               </td><td>  0.41              </td><td> 0.18               </td><td>0.08                </td><td>  0.29              </td><td>  0.66              </td><td>  0.58              </td><td>  0.33              </td><td> 0.15               </td></tr>\n",
       "\t<tr><td>citric.acid         </td><td>4549                </td><td> 0.25               </td><td>  0.39              </td><td> 0.14               </td><td>0.00                </td><td>  0.31              </td><td>  0.60              </td><td>  0.60              </td><td>  0.31              </td><td> 0.13               </td></tr>\n",
       "\t<tr><td>residual.sugar      </td><td>4549                </td><td> 1.80               </td><td>  8.00              </td><td> 6.20               </td><td>0.60                </td><td>  2.90              </td><td> 17.55              </td><td> 16.95              </td><td>  5.35              </td><td> 4.59               </td></tr>\n",
       "\t<tr><td>chlorides           </td><td>4549                </td><td> 0.04               </td><td>  0.06              </td><td> 0.03               </td><td>0.01                </td><td>  0.05              </td><td>  0.10              </td><td>  0.09              </td><td>  0.05              </td><td> 0.02               </td></tr>\n",
       "\t<tr><td>total.sulfur.dioxide</td><td>4549                </td><td>77.00               </td><td>156.00              </td><td>79.00               </td><td>6.00                </td><td>118.00              </td><td>274.50              </td><td>268.50              </td><td>115.52              </td><td>56.70               </td></tr>\n",
       "\t<tr><td>pH                  </td><td>4549                </td><td> 3.11               </td><td>  3.32              </td><td> 0.21               </td><td>2.72                </td><td>  3.21              </td><td>  3.63              </td><td>  0.91              </td><td>  3.22              </td><td> 0.16               </td></tr>\n",
       "\t<tr><td>sulphates           </td><td>4549                </td><td> 0.43               </td><td>  0.60              </td><td> 0.17               </td><td>0.25                </td><td>  0.51              </td><td>  0.86              </td><td>  0.60              </td><td>  0.53              </td><td> 0.13               </td></tr>\n",
       "\t<tr><td>alcohol             </td><td>4549                </td><td> 9.50               </td><td> 11.30              </td><td> 1.80               </td><td>8.00                </td><td> 10.40              </td><td> 14.00              </td><td>  6.00              </td><td> 10.51              </td><td> 1.19               </td></tr>\n",
       "</tbody>\n",
       "</table>\n"
      ],
      "text/latex": [
       "\\begin{tabular}{r|lllllllllll}\n",
       " variable & n & P25 & P75 & IQR & Minimum & Median & Maximum & Range & Mean & StDev\\\\\n",
       "\\hline\n",
       "\t fixed.acidity        & 4549                 &  6.40                &   7.70               &  1.30                & 3.80                 &   7.00               &   9.65               &   5.85               &   7.15               &  1.07               \\\\\n",
       "\t volatile.acidity     & 4549                 &  0.23                &   0.41               &  0.18                & 0.08                 &   0.29               &   0.66               &   0.58               &   0.33               &  0.15               \\\\\n",
       "\t citric.acid          & 4549                 &  0.25                &   0.39               &  0.14                & 0.00                 &   0.31               &   0.60               &   0.60               &   0.31               &  0.13               \\\\\n",
       "\t residual.sugar       & 4549                 &  1.80                &   8.00               &  6.20                & 0.60                 &   2.90               &  17.55               &  16.95               &   5.35               &  4.59               \\\\\n",
       "\t chlorides            & 4549                 &  0.04                &   0.06               &  0.03                & 0.01                 &   0.05               &   0.10               &   0.09               &   0.05               &  0.02               \\\\\n",
       "\t total.sulfur.dioxide & 4549                 & 77.00                & 156.00               & 79.00                & 6.00                 & 118.00               & 274.50               & 268.50               & 115.52               & 56.70               \\\\\n",
       "\t pH                   & 4549                 &  3.11                &   3.32               &  0.21                & 2.72                 &   3.21               &   3.63               &   0.91               &   3.22               &  0.16               \\\\\n",
       "\t sulphates            & 4549                 &  0.43                &   0.60               &  0.17                & 0.25                 &   0.51               &   0.86               &   0.60               &   0.53               &  0.13               \\\\\n",
       "\t alcohol              & 4549                 &  9.50                &  11.30               &  1.80                & 8.00                 &  10.40               &  14.00               &   6.00               &  10.51               &  1.19               \\\\\n",
       "\\end{tabular}\n"
      ],
      "text/markdown": [
       "\n",
       "variable | n | P25 | P75 | IQR | Minimum | Median | Maximum | Range | Mean | StDev | \n",
       "|---|---|---|---|---|---|---|---|---|\n",
       "| fixed.acidity        | 4549                 |  6.40                |   7.70               |  1.30                | 3.80                 |   7.00               |   9.65               |   5.85               |   7.15               |  1.07                | \n",
       "| volatile.acidity     | 4549                 |  0.23                |   0.41               |  0.18                | 0.08                 |   0.29               |   0.66               |   0.58               |   0.33               |  0.15                | \n",
       "| citric.acid          | 4549                 |  0.25                |   0.39               |  0.14                | 0.00                 |   0.31               |   0.60               |   0.60               |   0.31               |  0.13                | \n",
       "| residual.sugar       | 4549                 |  1.80                |   8.00               |  6.20                | 0.60                 |   2.90               |  17.55               |  16.95               |   5.35               |  4.59                | \n",
       "| chlorides            | 4549                 |  0.04                |   0.06               |  0.03                | 0.01                 |   0.05               |   0.10               |   0.09               |   0.05               |  0.02                | \n",
       "| total.sulfur.dioxide | 4549                 | 77.00                | 156.00               | 79.00                | 6.00                 | 118.00               | 274.50               | 268.50               | 115.52               | 56.70                | \n",
       "| pH                   | 4549                 |  3.11                |   3.32               |  0.21                | 2.72                 |   3.21               |   3.63               |   0.91               |   3.22               |  0.16                | \n",
       "| sulphates            | 4549                 |  0.43                |   0.60               |  0.17                | 0.25                 |   0.51               |   0.86               |   0.60               |   0.53               |  0.13                | \n",
       "| alcohol              | 4549                 |  9.50                |  11.30               |  1.80                | 8.00                 |  10.40               |  14.00               |   6.00               |  10.51               |  1.19                | \n",
       "\n",
       "\n"
      ],
      "text/plain": [
       "  variable             n    P25   P75    IQR   Minimum Median Maximum Range \n",
       "1 fixed.acidity        4549  6.40   7.70  1.30 3.80      7.00   9.65    5.85\n",
       "2 volatile.acidity     4549  0.23   0.41  0.18 0.08      0.29   0.66    0.58\n",
       "3 citric.acid          4549  0.25   0.39  0.14 0.00      0.31   0.60    0.60\n",
       "4 residual.sugar       4549  1.80   8.00  6.20 0.60      2.90  17.55   16.95\n",
       "5 chlorides            4549  0.04   0.06  0.03 0.01      0.05   0.10    0.09\n",
       "6 total.sulfur.dioxide 4549 77.00 156.00 79.00 6.00    118.00 274.50  268.50\n",
       "7 pH                   4549  3.11   3.32  0.21 2.72      3.21   3.63    0.91\n",
       "8 sulphates            4549  0.43   0.60  0.17 0.25      0.51   0.86    0.60\n",
       "9 alcohol              4549  9.50  11.30  1.80 8.00     10.40  14.00    6.00\n",
       "  Mean   StDev\n",
       "1   7.15  1.07\n",
       "2   0.33  0.15\n",
       "3   0.31  0.13\n",
       "4   5.35  4.59\n",
       "5   0.05  0.02\n",
       "6 115.52 56.70\n",
       "7   3.22  0.16\n",
       "8   0.53  0.13\n",
       "9  10.51  1.19"
      ]
     },
     "metadata": {},
     "output_type": "display_data"
    }
   ],
   "source": [
    "# summarize training dataset\n",
    "(summary=propmiss(training[,-c(10:11)])[,-(3:4)][,-6])"
   ]
  },
  {
   "cell_type": "code",
   "execution_count": 17,
   "metadata": {},
   "outputs": [
    {
     "data": {
      "text/html": [
       "<table>\n",
       "<thead><tr><th scope=col>variable</th><th scope=col>n</th><th scope=col>P25</th><th scope=col>P75</th><th scope=col>IQR</th><th scope=col>Minimum</th><th scope=col>Median</th><th scope=col>Maximum</th><th scope=col>Range</th><th scope=col>Mean</th><th scope=col>StDev</th></tr></thead>\n",
       "<tbody>\n",
       "\t<tr><td>fixed.acidity       </td><td>1948                </td><td> 6.40               </td><td>  7.70              </td><td> 1.30               </td><td>4.40                </td><td>  7.00              </td><td>  9.65              </td><td>  5.25              </td><td>  7.13              </td><td> 1.06               </td></tr>\n",
       "\t<tr><td>volatile.acidity    </td><td>1948                </td><td> 0.23               </td><td>  0.40              </td><td> 0.17               </td><td>0.08                </td><td>  0.29              </td><td>  0.66              </td><td>  0.58              </td><td>  0.33              </td><td> 0.14               </td></tr>\n",
       "\t<tr><td>citric.acid         </td><td>1948                </td><td> 0.24               </td><td>  0.39              </td><td> 0.15               </td><td>0.00                </td><td>  0.31              </td><td>  0.60              </td><td>  0.60              </td><td>  0.32              </td><td> 0.14               </td></tr>\n",
       "\t<tr><td>residual.sugar      </td><td>1948                </td><td> 1.80               </td><td>  8.30              </td><td> 6.50               </td><td>0.70                </td><td>  3.30              </td><td> 17.55              </td><td> 16.85              </td><td>  5.55              </td><td> 4.66               </td></tr>\n",
       "\t<tr><td>chlorides           </td><td>1948                </td><td> 0.04               </td><td>  0.06              </td><td> 0.03               </td><td>0.01                </td><td>  0.05              </td><td>  0.10              </td><td>  0.10              </td><td>  0.05              </td><td> 0.02               </td></tr>\n",
       "\t<tr><td>total.sulfur.dioxide</td><td>1948                </td><td>78.00               </td><td>155.00              </td><td>77.00               </td><td>6.00                </td><td>119.00              </td><td>274.50              </td><td>268.50              </td><td>116.02              </td><td>55.23               </td></tr>\n",
       "\t<tr><td>pH                  </td><td>1948                </td><td> 3.11               </td><td>  3.31              </td><td> 0.20               </td><td>2.74                </td><td>  3.20              </td><td>  3.63              </td><td>  0.89              </td><td>  3.22              </td><td> 0.15               </td></tr>\n",
       "\t<tr><td>sulphates           </td><td>1948                </td><td> 0.43               </td><td>  0.59              </td><td> 0.16               </td><td>0.22                </td><td>  0.50              </td><td>  0.86              </td><td>  0.64              </td><td>  0.52              </td><td> 0.13               </td></tr>\n",
       "\t<tr><td>alcohol             </td><td>1948                </td><td> 9.50               </td><td> 11.30              </td><td> 1.80               </td><td>8.40                </td><td> 10.20              </td><td> 14.00              </td><td>  5.60              </td><td> 10.45              </td><td> 1.19               </td></tr>\n",
       "</tbody>\n",
       "</table>\n"
      ],
      "text/latex": [
       "\\begin{tabular}{r|lllllllllll}\n",
       " variable & n & P25 & P75 & IQR & Minimum & Median & Maximum & Range & Mean & StDev\\\\\n",
       "\\hline\n",
       "\t fixed.acidity        & 1948                 &  6.40                &   7.70               &  1.30                & 4.40                 &   7.00               &   9.65               &   5.25               &   7.13               &  1.06               \\\\\n",
       "\t volatile.acidity     & 1948                 &  0.23                &   0.40               &  0.17                & 0.08                 &   0.29               &   0.66               &   0.58               &   0.33               &  0.14               \\\\\n",
       "\t citric.acid          & 1948                 &  0.24                &   0.39               &  0.15                & 0.00                 &   0.31               &   0.60               &   0.60               &   0.32               &  0.14               \\\\\n",
       "\t residual.sugar       & 1948                 &  1.80                &   8.30               &  6.50                & 0.70                 &   3.30               &  17.55               &  16.85               &   5.55               &  4.66               \\\\\n",
       "\t chlorides            & 1948                 &  0.04                &   0.06               &  0.03                & 0.01                 &   0.05               &   0.10               &   0.10               &   0.05               &  0.02               \\\\\n",
       "\t total.sulfur.dioxide & 1948                 & 78.00                & 155.00               & 77.00                & 6.00                 & 119.00               & 274.50               & 268.50               & 116.02               & 55.23               \\\\\n",
       "\t pH                   & 1948                 &  3.11                &   3.31               &  0.20                & 2.74                 &   3.20               &   3.63               &   0.89               &   3.22               &  0.15               \\\\\n",
       "\t sulphates            & 1948                 &  0.43                &   0.59               &  0.16                & 0.22                 &   0.50               &   0.86               &   0.64               &   0.52               &  0.13               \\\\\n",
       "\t alcohol              & 1948                 &  9.50                &  11.30               &  1.80                & 8.40                 &  10.20               &  14.00               &   5.60               &  10.45               &  1.19               \\\\\n",
       "\\end{tabular}\n"
      ],
      "text/markdown": [
       "\n",
       "variable | n | P25 | P75 | IQR | Minimum | Median | Maximum | Range | Mean | StDev | \n",
       "|---|---|---|---|---|---|---|---|---|\n",
       "| fixed.acidity        | 1948                 |  6.40                |   7.70               |  1.30                | 4.40                 |   7.00               |   9.65               |   5.25               |   7.13               |  1.06                | \n",
       "| volatile.acidity     | 1948                 |  0.23                |   0.40               |  0.17                | 0.08                 |   0.29               |   0.66               |   0.58               |   0.33               |  0.14                | \n",
       "| citric.acid          | 1948                 |  0.24                |   0.39               |  0.15                | 0.00                 |   0.31               |   0.60               |   0.60               |   0.32               |  0.14                | \n",
       "| residual.sugar       | 1948                 |  1.80                |   8.30               |  6.50                | 0.70                 |   3.30               |  17.55               |  16.85               |   5.55               |  4.66                | \n",
       "| chlorides            | 1948                 |  0.04                |   0.06               |  0.03                | 0.01                 |   0.05               |   0.10               |   0.10               |   0.05               |  0.02                | \n",
       "| total.sulfur.dioxide | 1948                 | 78.00                | 155.00               | 77.00                | 6.00                 | 119.00               | 274.50               | 268.50               | 116.02               | 55.23                | \n",
       "| pH                   | 1948                 |  3.11                |   3.31               |  0.20                | 2.74                 |   3.20               |   3.63               |   0.89               |   3.22               |  0.15                | \n",
       "| sulphates            | 1948                 |  0.43                |   0.59               |  0.16                | 0.22                 |   0.50               |   0.86               |   0.64               |   0.52               |  0.13                | \n",
       "| alcohol              | 1948                 |  9.50                |  11.30               |  1.80                | 8.40                 |  10.20               |  14.00               |   5.60               |  10.45               |  1.19                | \n",
       "\n",
       "\n"
      ],
      "text/plain": [
       "  variable             n    P25   P75    IQR   Minimum Median Maximum Range \n",
       "1 fixed.acidity        1948  6.40   7.70  1.30 4.40      7.00   9.65    5.25\n",
       "2 volatile.acidity     1948  0.23   0.40  0.17 0.08      0.29   0.66    0.58\n",
       "3 citric.acid          1948  0.24   0.39  0.15 0.00      0.31   0.60    0.60\n",
       "4 residual.sugar       1948  1.80   8.30  6.50 0.70      3.30  17.55   16.85\n",
       "5 chlorides            1948  0.04   0.06  0.03 0.01      0.05   0.10    0.10\n",
       "6 total.sulfur.dioxide 1948 78.00 155.00 77.00 6.00    119.00 274.50  268.50\n",
       "7 pH                   1948  3.11   3.31  0.20 2.74      3.20   3.63    0.89\n",
       "8 sulphates            1948  0.43   0.59  0.16 0.22      0.50   0.86    0.64\n",
       "9 alcohol              1948  9.50  11.30  1.80 8.40     10.20  14.00    5.60\n",
       "  Mean   StDev\n",
       "1   7.13  1.06\n",
       "2   0.33  0.14\n",
       "3   0.32  0.14\n",
       "4   5.55  4.66\n",
       "5   0.05  0.02\n",
       "6 116.02 55.23\n",
       "7   3.22  0.15\n",
       "8   0.52  0.13\n",
       "9  10.45  1.19"
      ]
     },
     "metadata": {},
     "output_type": "display_data"
    }
   ],
   "source": [
    "# summarize testing dataset\n",
    "(summary=propmiss(testing[,-c(10:11)])[,-(3:4)][,-6])"
   ]
  },
  {
   "cell_type": "markdown",
   "metadata": {},
   "source": [
    "# IV Logistic Regression\n",
    " \n",
    "In this project I have considered Logistic Regression algorithm. I use \"set.seed(7)\" so that same sample can be reproduced in the future and also it ensures the results are directly comparable."
   ]
  },
  {
   "cell_type": "markdown",
   "metadata": {
    "collapsed": true
   },
   "source": [
    "## 41 Building Machine Learning Model\n",
    "\n",
    "### 411 Find model equation "
   ]
  },
  {
   "cell_type": "code",
   "execution_count": 16,
   "metadata": {},
   "outputs": [
    {
     "data": {
      "text/plain": [
       "\n",
       "Call:\n",
       "glm(formula = quality ~ ., family = \"binomial\", data = training)\n",
       "\n",
       "Deviance Residuals: \n",
       "    Min       1Q   Median       3Q      Max  \n",
       "-3.1391  -0.8884   0.4244   0.8147   2.2726  \n",
       "\n",
       "Coefficients:\n",
       "                      Estimate Std. Error z value Pr(>|z|)    \n",
       "(Intercept)          -8.273492   1.188135  -6.963 3.32e-12 ***\n",
       "fixed.acidity        -0.094141   0.047391  -1.986  0.04698 *  \n",
       "volatile.acidity     -5.696527   0.391809 -14.539  < 2e-16 ***\n",
       "citric.acid          -0.407946   0.327890  -1.244  0.21344    \n",
       "residual.sugar        0.060909   0.009333   6.526 6.73e-11 ***\n",
       "chlorides            -5.086168   2.711614  -1.876  0.06070 .  \n",
       "total.sulfur.dioxide -0.002056   0.001032  -1.993  0.04627 *  \n",
       "pH                    0.053819   0.286055   0.188  0.85076    \n",
       "sulphates             2.224594   0.354080   6.283 3.33e-10 ***\n",
       "alcohol               0.990151   0.045830  21.605  < 2e-16 ***\n",
       "Classred              0.683281   0.213763   3.196  0.00139 ** \n",
       "---\n",
       "Signif. codes:  0 '***' 0.001 '**' 0.01 '*' 0.05 '.' 0.1 ' ' 1\n",
       "\n",
       "(Dispersion parameter for binomial family taken to be 1)\n",
       "\n",
       "    Null deviance: 5979.9  on 4548  degrees of freedom\n",
       "Residual deviance: 4644.5  on 4538  degrees of freedom\n",
       "AIC: 4666.5\n",
       "\n",
       "Number of Fisher Scoring iterations: 5\n"
      ]
     },
     "metadata": {},
     "output_type": "display_data"
    }
   ],
   "source": [
    "## modelo completo\n",
    "set.seed(7)\n",
    "model1<- glm(quality ~ ., data=training, family=\"binomial\")\n",
    "summary(model1)"
   ]
  },
  {
   "cell_type": "code",
   "execution_count": 13,
   "metadata": {},
   "outputs": [
    {
     "data": {
      "text/plain": [
       "\n",
       "Call:\n",
       "glm(formula = quality ~ fixed.acidity + volatile.acidity + residual.sugar + \n",
       "    chlorides + total.sulfur.dioxide + sulphates + alcohol + \n",
       "    Class, family = binomial(link = \"logit\"), data = training)\n",
       "\n",
       "Deviance Residuals: \n",
       "    Min       1Q   Median       3Q      Max  \n",
       "-3.1558  -0.8875   0.4230   0.8136   2.2720  \n",
       "\n",
       "Coefficients:\n",
       "                      Estimate Std. Error z value Pr(>|z|)    \n",
       "(Intercept)          -7.993687   0.644156 -12.410  < 2e-16 ***\n",
       "fixed.acidity        -0.121557   0.038912  -3.124 0.001785 ** \n",
       "volatile.acidity     -5.535149   0.369428 -14.983  < 2e-16 ***\n",
       "residual.sugar        0.060006   0.009228   6.503 7.89e-11 ***\n",
       "chlorides            -5.441662   2.690726  -2.022 0.043137 *  \n",
       "total.sulfur.dioxide -0.002152   0.001021  -2.107 0.035109 *  \n",
       "sulphates             2.181291   0.346916   6.288 3.22e-10 ***\n",
       "alcohol               0.986092   0.045536  21.655  < 2e-16 ***\n",
       "Classred              0.719525   0.203962   3.528 0.000419 ***\n",
       "---\n",
       "Signif. codes:  0 '***' 0.001 '**' 0.01 '*' 0.05 '.' 0.1 ' ' 1\n",
       "\n",
       "(Dispersion parameter for binomial family taken to be 1)\n",
       "\n",
       "    Null deviance: 5979.9  on 4548  degrees of freedom\n",
       "Residual deviance: 4646.1  on 4540  degrees of freedom\n",
       "AIC: 4664.1\n",
       "\n",
       "Number of Fisher Scoring iterations: 5\n"
      ]
     },
     "metadata": {},
     "output_type": "display_data"
    }
   ],
   "source": [
    "# best model Stepwise backward-AIC\n",
    "model2<- step(glm(quality ~ ., family = binomial(link = \"logit\"), data=training), trace= F, direction=\"backward\")\n",
    "summary(model2)"
   ]
  },
  {
   "cell_type": "code",
   "execution_count": 14,
   "metadata": {},
   "outputs": [
    {
     "data": {
      "text/plain": [
       "\n",
       "Call:\n",
       "glm(formula = quality ~ fixed.acidity + volatile.acidity + residual.sugar + \n",
       "    sulphates + alcohol + Class, family = binomial(link = \"logit\"), \n",
       "    data = training)\n",
       "\n",
       "Deviance Residuals: \n",
       "    Min       1Q   Median       3Q      Max  \n",
       "-3.2549  -0.8848   0.4224   0.8195   2.3150  \n",
       "\n",
       "Coefficients:\n",
       "                  Estimate Std. Error z value Pr(>|z|)    \n",
       "(Intercept)      -8.953905   0.561935 -15.934  < 2e-16 ***\n",
       "fixed.acidity    -0.127763   0.038785  -3.294 0.000987 ***\n",
       "volatile.acidity -5.701184   0.365988 -15.578  < 2e-16 ***\n",
       "residual.sugar    0.056636   0.008906   6.360 2.02e-10 ***\n",
       "sulphates         2.013965   0.340206   5.920 3.22e-09 ***\n",
       "alcohol           1.044034   0.041592  25.102  < 2e-16 ***\n",
       "Classred          0.798313   0.150720   5.297 1.18e-07 ***\n",
       "---\n",
       "Signif. codes:  0 '***' 0.001 '**' 0.01 '*' 0.05 '.' 0.1 ' ' 1\n",
       "\n",
       "(Dispersion parameter for binomial family taken to be 1)\n",
       "\n",
       "    Null deviance: 5979.9  on 4548  degrees of freedom\n",
       "Residual deviance: 4655.2  on 4542  degrees of freedom\n",
       "AIC: 4669.2\n",
       "\n",
       "Number of Fisher Scoring iterations: 5\n"
      ]
     },
     "metadata": {},
     "output_type": "display_data"
    }
   ],
   "source": [
    "## best model Stepwise backward-BIC\n",
    "model3<- step(glm(quality ~ ., family = binomial(link = \"logit\"), data=training), trace= F, direction=\"backward\", k=log(nrow(training)))\n",
    "summary(model3)"
   ]
  },
  {
   "cell_type": "markdown",
   "metadata": {},
   "source": [
    "As we can see, Model2 (backward-AIC) has achieved a lower AIC value (model2-AIC= 4664.1) being the best model according to the Stepwise method. Also, we can compare the models using the ANOVA test. Let's say our null hypothesis is that second model is better than the first model. p < 0.05 would reject our hypothesis and in case p > 0.05, we'll fail to reject the null hypothesis."
   ]
  },
  {
   "cell_type": "code",
   "execution_count": 17,
   "metadata": {},
   "outputs": [
    {
     "data": {
      "text/html": [
       "<table>\n",
       "<thead><tr><th scope=col>Resid. Df</th><th scope=col>Resid. Dev</th><th scope=col>Df</th><th scope=col>Deviance</th><th scope=col>Pr(&gt;Chi)</th></tr></thead>\n",
       "<tbody>\n",
       "\t<tr><td>4538     </td><td>4644.480 </td><td>NA       </td><td>       NA</td><td>       NA</td></tr>\n",
       "\t<tr><td>4540     </td><td>4646.145 </td><td>-2       </td><td>-1.665102</td><td>0.4349384</td></tr>\n",
       "</tbody>\n",
       "</table>\n"
      ],
      "text/latex": [
       "\\begin{tabular}{r|lllll}\n",
       " Resid. Df & Resid. Dev & Df & Deviance & Pr(>Chi)\\\\\n",
       "\\hline\n",
       "\t 4538      & 4644.480  & NA        &        NA &        NA\\\\\n",
       "\t 4540      & 4646.145  & -2        & -1.665102 & 0.4349384\\\\\n",
       "\\end{tabular}\n"
      ],
      "text/markdown": [
       "\n",
       "Resid. Df | Resid. Dev | Df | Deviance | Pr(>Chi) | \n",
       "|---|---|\n",
       "| 4538      | 4644.480  | NA        |        NA |        NA | \n",
       "| 4540      | 4646.145  | -2        | -1.665102 | 0.4349384 | \n",
       "\n",
       "\n"
      ],
      "text/plain": [
       "  Resid. Df Resid. Dev Df Deviance  Pr(>Chi) \n",
       "1 4538      4644.480   NA        NA        NA\n",
       "2 4540      4646.145   -2 -1.665102 0.4349384"
      ]
     },
     "metadata": {},
     "output_type": "display_data"
    },
    {
     "data": {
      "text/html": [
       "<table>\n",
       "<thead><tr><th scope=col>Resid. Df</th><th scope=col>Resid. Dev</th><th scope=col>Df</th><th scope=col>Deviance</th><th scope=col>Pr(&gt;Chi)</th></tr></thead>\n",
       "<tbody>\n",
       "\t<tr><td>4538      </td><td>4644.480  </td><td>NA        </td><td>       NA </td><td>        NA</td></tr>\n",
       "\t<tr><td>4542      </td><td>4655.201  </td><td>-4        </td><td>-10.72086 </td><td>0.02988689</td></tr>\n",
       "</tbody>\n",
       "</table>\n"
      ],
      "text/latex": [
       "\\begin{tabular}{r|lllll}\n",
       " Resid. Df & Resid. Dev & Df & Deviance & Pr(>Chi)\\\\\n",
       "\\hline\n",
       "\t 4538       & 4644.480   & NA         &        NA  &         NA\\\\\n",
       "\t 4542       & 4655.201   & -4         & -10.72086  & 0.02988689\\\\\n",
       "\\end{tabular}\n"
      ],
      "text/markdown": [
       "\n",
       "Resid. Df | Resid. Dev | Df | Deviance | Pr(>Chi) | \n",
       "|---|---|\n",
       "| 4538       | 4644.480   | NA         |        NA  |         NA | \n",
       "| 4542       | 4655.201   | -4         | -10.72086  | 0.02988689 | \n",
       "\n",
       "\n"
      ],
      "text/plain": [
       "  Resid. Df Resid. Dev Df Deviance  Pr(>Chi)  \n",
       "1 4538      4644.480   NA        NA         NA\n",
       "2 4542      4655.201   -4 -10.72086 0.02988689"
      ]
     },
     "metadata": {},
     "output_type": "display_data"
    },
    {
     "data": {
      "text/html": [
       "<table>\n",
       "<thead><tr><th scope=col>Resid. Df</th><th scope=col>Resid. Dev</th><th scope=col>Df</th><th scope=col>Deviance</th><th scope=col>Pr(&gt;Chi)</th></tr></thead>\n",
       "<tbody>\n",
       "\t<tr><td>4540      </td><td>4646.145  </td><td>NA        </td><td>       NA </td><td>        NA</td></tr>\n",
       "\t<tr><td>4542      </td><td>4655.201  </td><td>-2        </td><td>-9.055762 </td><td>0.01080355</td></tr>\n",
       "</tbody>\n",
       "</table>\n"
      ],
      "text/latex": [
       "\\begin{tabular}{r|lllll}\n",
       " Resid. Df & Resid. Dev & Df & Deviance & Pr(>Chi)\\\\\n",
       "\\hline\n",
       "\t 4540       & 4646.145   & NA         &        NA  &         NA\\\\\n",
       "\t 4542       & 4655.201   & -2         & -9.055762  & 0.01080355\\\\\n",
       "\\end{tabular}\n"
      ],
      "text/markdown": [
       "\n",
       "Resid. Df | Resid. Dev | Df | Deviance | Pr(>Chi) | \n",
       "|---|---|\n",
       "| 4540       | 4646.145   | NA         |        NA  |         NA | \n",
       "| 4542       | 4655.201   | -2         | -9.055762  | 0.01080355 | \n",
       "\n",
       "\n"
      ],
      "text/plain": [
       "  Resid. Df Resid. Dev Df Deviance  Pr(>Chi)  \n",
       "1 4540      4646.145   NA        NA         NA\n",
       "2 4542      4655.201   -2 -9.055762 0.01080355"
      ]
     },
     "metadata": {},
     "output_type": "display_data"
    }
   ],
   "source": [
    "#compare the models by using anova-chisq\n",
    "anova(model1,model2,test = \"Chisq\")\n",
    "anova(model1,model3,test = \"Chisq\")\n",
    "anova(model2,model3,test = \"Chisq\")\n"
   ]
  },
  {
   "cell_type": "code",
   "execution_count": 18,
   "metadata": {},
   "outputs": [
    {
     "name": "stderr",
     "output_type": "stream",
     "text": [
      "Loading required package: zoo\n",
      "\n",
      "Attaching package: 'zoo'\n",
      "\n",
      "The following objects are masked from 'package:base':\n",
      "\n",
      "    as.Date, as.Date.numeric\n",
      "\n"
     ]
    },
    {
     "data": {
      "text/html": [
       "<table>\n",
       "<thead><tr><th scope=col>#Df</th><th scope=col>LogLik</th><th scope=col>Df</th><th scope=col>Chisq</th><th scope=col>Pr(&gt;Chisq)</th></tr></thead>\n",
       "<tbody>\n",
       "\t<tr><td>11       </td><td>-2322.240</td><td>NA       </td><td>      NA </td><td>       NA</td></tr>\n",
       "\t<tr><td> 9       </td><td>-2323.072</td><td>-2       </td><td>1.665102 </td><td>0.4349384</td></tr>\n",
       "</tbody>\n",
       "</table>\n"
      ],
      "text/latex": [
       "\\begin{tabular}{r|lllll}\n",
       " \\#Df & LogLik & Df & Chisq & Pr(>Chisq)\\\\\n",
       "\\hline\n",
       "\t 11        & -2322.240 & NA        &       NA  &        NA\\\\\n",
       "\t  9        & -2323.072 & -2        & 1.665102  & 0.4349384\\\\\n",
       "\\end{tabular}\n"
      ],
      "text/markdown": [
       "\n",
       "#Df | LogLik | Df | Chisq | Pr(>Chisq) | \n",
       "|---|---|\n",
       "| 11        | -2322.240 | NA        |       NA  |        NA | \n",
       "|  9        | -2323.072 | -2        | 1.665102  | 0.4349384 | \n",
       "\n",
       "\n"
      ],
      "text/plain": [
       "  #Df LogLik    Df Chisq    Pr(>Chisq)\n",
       "1 11  -2322.240 NA       NA        NA \n",
       "2  9  -2323.072 -2 1.665102 0.4349384 "
      ]
     },
     "metadata": {},
     "output_type": "display_data"
    },
    {
     "data": {
      "text/html": [
       "<table>\n",
       "<thead><tr><th scope=col>#Df</th><th scope=col>LogLik</th><th scope=col>Df</th><th scope=col>Chisq</th><th scope=col>Pr(&gt;Chisq)</th></tr></thead>\n",
       "<tbody>\n",
       "\t<tr><td>11        </td><td>-2322.24  </td><td>NA        </td><td>      NA  </td><td>        NA</td></tr>\n",
       "\t<tr><td> 7        </td><td>-2327.60  </td><td>-4        </td><td>10.72086  </td><td>0.02988689</td></tr>\n",
       "</tbody>\n",
       "</table>\n"
      ],
      "text/latex": [
       "\\begin{tabular}{r|lllll}\n",
       " \\#Df & LogLik & Df & Chisq & Pr(>Chisq)\\\\\n",
       "\\hline\n",
       "\t 11         & -2322.24   & NA         &       NA   &         NA\\\\\n",
       "\t  7         & -2327.60   & -4         & 10.72086   & 0.02988689\\\\\n",
       "\\end{tabular}\n"
      ],
      "text/markdown": [
       "\n",
       "#Df | LogLik | Df | Chisq | Pr(>Chisq) | \n",
       "|---|---|\n",
       "| 11         | -2322.24   | NA         |       NA   |         NA | \n",
       "|  7         | -2327.60   | -4         | 10.72086   | 0.02988689 | \n",
       "\n",
       "\n"
      ],
      "text/plain": [
       "  #Df LogLik   Df Chisq    Pr(>Chisq)\n",
       "1 11  -2322.24 NA       NA         NA\n",
       "2  7  -2327.60 -4 10.72086 0.02988689"
      ]
     },
     "metadata": {},
     "output_type": "display_data"
    },
    {
     "data": {
      "text/html": [
       "<table>\n",
       "<thead><tr><th scope=col>#Df</th><th scope=col>LogLik</th><th scope=col>Df</th><th scope=col>Chisq</th><th scope=col>Pr(&gt;Chisq)</th></tr></thead>\n",
       "<tbody>\n",
       "\t<tr><td>9         </td><td>-2323.072 </td><td>NA        </td><td>      NA  </td><td>        NA</td></tr>\n",
       "\t<tr><td>7         </td><td>-2327.600 </td><td>-2        </td><td>9.055762  </td><td>0.01080355</td></tr>\n",
       "</tbody>\n",
       "</table>\n"
      ],
      "text/latex": [
       "\\begin{tabular}{r|lllll}\n",
       " \\#Df & LogLik & Df & Chisq & Pr(>Chisq)\\\\\n",
       "\\hline\n",
       "\t 9          & -2323.072  & NA         &       NA   &         NA\\\\\n",
       "\t 7          & -2327.600  & -2         & 9.055762   & 0.01080355\\\\\n",
       "\\end{tabular}\n"
      ],
      "text/markdown": [
       "\n",
       "#Df | LogLik | Df | Chisq | Pr(>Chisq) | \n",
       "|---|---|\n",
       "| 9          | -2323.072  | NA         |       NA   |         NA | \n",
       "| 7          | -2327.600  | -2         | 9.055762   | 0.01080355 | \n",
       "\n",
       "\n"
      ],
      "text/plain": [
       "  #Df LogLik    Df Chisq    Pr(>Chisq)\n",
       "1 9   -2323.072 NA       NA         NA\n",
       "2 7   -2327.600 -2 9.055762 0.01080355"
      ]
     },
     "metadata": {},
     "output_type": "display_data"
    }
   ],
   "source": [
    "#compare the models by using lrtest-chisq\n",
    "library(lmtest)\n",
    "lrtest(model, model2)\n",
    "lrtest(model, model3)\n",
    "lrtest(model2,model3)"
   ]
  },
  {
   "cell_type": "markdown",
   "metadata": {},
   "source": [
    "With p > 0.05, both test (ANOVA and LRTEST) also corroborates the fact that the second model (model2) is the best model according to the Stepwise method. So, we will keep model2 and we will evaluate its performance as a supervised machine learning model."
   ]
  },
  {
   "cell_type": "markdown",
   "metadata": {},
   "source": [
    "### 412 Building the model "
   ]
  },
  {
   "cell_type": "code",
   "execution_count": 19,
   "metadata": {
    "collapsed": true
   },
   "outputs": [],
   "source": [
    "## Control Resampling Technique: 10-fold CV\n",
    "fiveStats = function(...) c (twoClassSummary(...), defaultSummary(...))\n",
    "cvCtrl <- trainControl(method = \"cv\", number=10,  summaryFunction = fiveStats, classProbs = TRUE, savePredictions=T)"
   ]
  },
  {
   "cell_type": "code",
   "execution_count": 20,
   "metadata": {
    "collapsed": true
   },
   "outputs": [],
   "source": [
    "## Construction Predictive Model\n",
    "set.seed(1)\n",
    "formula2 <- as.formula(\"quality ~ fixed.acidity + volatile.acidity + residual.sugar + chlorides + total.sulfur.dioxide + sulphates + alcohol + Class\")\n",
    "lrmodel2 <- train(formula2, data=training, method=\"glm\",   family=binomial(link = \"logit\"), preProc = c(\"center\", \"scale\"), tuneLength = 5, trControl = cvCtrl)"
   ]
  },
  {
   "cell_type": "code",
   "execution_count": 21,
   "metadata": {},
   "outputs": [
    {
     "data": {
      "text/plain": [
       "\n",
       "Call:\n",
       "NULL\n",
       "\n",
       "Deviance Residuals: \n",
       "    Min       1Q   Median       3Q      Max  \n",
       "-3.1558  -0.8875   0.4230   0.8136   2.2720  \n",
       "\n",
       "Coefficients:\n",
       "                     Estimate Std. Error z value Pr(>|z|)    \n",
       "(Intercept)           0.76849    0.03865  19.882  < 2e-16 ***\n",
       "fixed.acidity        -0.13015    0.04166  -3.124 0.001785 ** \n",
       "volatile.acidity     -0.80567    0.05377 -14.983  < 2e-16 ***\n",
       "residual.sugar        0.27550    0.04237   6.503 7.89e-11 ***\n",
       "chlorides            -0.11566    0.05719  -2.022 0.043137 *  \n",
       "total.sulfur.dioxide -0.12203    0.05791  -2.107 0.035109 *  \n",
       "sulphates             0.28677    0.04561   6.288 3.22e-10 ***\n",
       "alcohol               1.17793    0.05440  21.655  < 2e-16 ***\n",
       "Classred              0.31139    0.08827   3.528 0.000419 ***\n",
       "---\n",
       "Signif. codes:  0 '***' 0.001 '**' 0.01 '*' 0.05 '.' 0.1 ' ' 1\n",
       "\n",
       "(Dispersion parameter for binomial family taken to be 1)\n",
       "\n",
       "    Null deviance: 5979.9  on 4548  degrees of freedom\n",
       "Residual deviance: 4646.1  on 4540  degrees of freedom\n",
       "AIC: 4664.1\n",
       "\n",
       "Number of Fisher Scoring iterations: 5\n"
      ]
     },
     "metadata": {},
     "output_type": "display_data"
    }
   ],
   "source": [
    "## Getting summary of fitted model2\n",
    "summary(lrmodel2)"
   ]
  },
  {
   "cell_type": "code",
   "execution_count": 22,
   "metadata": {},
   "outputs": [
    {
     "data": {
      "text/plain": [
       "Generalized Linear Model \n",
       "\n",
       "4549 samples\n",
       "   8 predictor\n",
       "   2 classes: 'Bad', 'Good' \n",
       "\n",
       "Pre-processing: centered (8), scaled (8) \n",
       "Resampling: Cross-Validated (10 fold) \n",
       "Summary of sample sizes: 4095, 4094, 4094, 4094, 4094, 4094, ... \n",
       "Resampling results:\n",
       "\n",
       "  ROC        Sens       Spec       Accuracy   Kappa   \n",
       "  0.8054554  0.5871654  0.8451389  0.7504947  0.445908\n"
      ]
     },
     "metadata": {},
     "output_type": "display_data"
    }
   ],
   "source": [
    "## train results model2\n",
    "lrmodel2"
   ]
  },
  {
   "cell_type": "code",
   "execution_count": 23,
   "metadata": {},
   "outputs": [
    {
     "data": {
      "text/plain": [
       "Confusion Matrix and Statistics\n",
       "\n",
       "          Reference\n",
       "Prediction  Bad Good\n",
       "      Bad   409  219\n",
       "      Good  306 1014\n",
       "                                          \n",
       "               Accuracy : 0.7305          \n",
       "                 95% CI : (0.7102, 0.7501)\n",
       "    No Information Rate : 0.633           \n",
       "    P-Value [Acc > NIR] : < 2.2e-16       \n",
       "                                          \n",
       "                  Kappa : 0.4048          \n",
       " Mcnemar's Test P-Value : 0.0001745       \n",
       "                                          \n",
       "            Sensitivity : 0.8224          \n",
       "            Specificity : 0.5720          \n",
       "         Pos Pred Value : 0.7682          \n",
       "         Neg Pred Value : 0.6513          \n",
       "             Prevalence : 0.6330          \n",
       "         Detection Rate : 0.5205          \n",
       "   Detection Prevalence : 0.6776          \n",
       "      Balanced Accuracy : 0.6972          \n",
       "                                          \n",
       "       'Positive' Class : Good            \n",
       "                                          "
      ]
     },
     "metadata": {},
     "output_type": "display_data"
    }
   ],
   "source": [
    "## Test Set Results model2\n",
    "lrPred2 <- predict(lrmodel2,testing, type=\"raw\")\n",
    "confusionMatrix(lrPred2, testing$quality, positive = \"Good\")"
   ]
  },
  {
   "cell_type": "code",
   "execution_count": 24,
   "metadata": {},
   "outputs": [
    {
     "data": {
      "text/html": [
       "<table>\n",
       "<thead><tr><th></th><th scope=col>Bad</th><th scope=col>Good</th></tr></thead>\n",
       "<tbody>\n",
       "\t<tr><th scope=row>1</th><td>0.55910952</td><td>0.4408905 </td></tr>\n",
       "\t<tr><th scope=row>6</th><td>0.41961854</td><td>0.5803815 </td></tr>\n",
       "\t<tr><th scope=row>7</th><td>0.53604910</td><td>0.4639509 </td></tr>\n",
       "\t<tr><th scope=row>11</th><td>0.08677416</td><td>0.9132258 </td></tr>\n",
       "\t<tr><th scope=row>12</th><td>0.44127759</td><td>0.5587224 </td></tr>\n",
       "\t<tr><th scope=row>19</th><td>0.26073573</td><td>0.7392643 </td></tr>\n",
       "</tbody>\n",
       "</table>\n"
      ],
      "text/latex": [
       "\\begin{tabular}{r|ll}\n",
       "  & Bad & Good\\\\\n",
       "\\hline\n",
       "\t1 & 0.55910952 & 0.4408905 \\\\\n",
       "\t6 & 0.41961854 & 0.5803815 \\\\\n",
       "\t7 & 0.53604910 & 0.4639509 \\\\\n",
       "\t11 & 0.08677416 & 0.9132258 \\\\\n",
       "\t12 & 0.44127759 & 0.5587224 \\\\\n",
       "\t19 & 0.26073573 & 0.7392643 \\\\\n",
       "\\end{tabular}\n"
      ],
      "text/markdown": [
       "\n",
       "| <!--/--> | Bad | Good | \n",
       "|---|---|---|---|---|---|\n",
       "| 1 | 0.55910952 | 0.4408905  | \n",
       "| 6 | 0.41961854 | 0.5803815  | \n",
       "| 7 | 0.53604910 | 0.4639509  | \n",
       "| 11 | 0.08677416 | 0.9132258  | \n",
       "| 12 | 0.44127759 | 0.5587224  | \n",
       "| 19 | 0.26073573 | 0.7392643  | \n",
       "\n",
       "\n"
      ],
      "text/plain": [
       "   Bad        Good     \n",
       "1  0.55910952 0.4408905\n",
       "6  0.41961854 0.5803815\n",
       "7  0.53604910 0.4639509\n",
       "11 0.08677416 0.9132258\n",
       "12 0.44127759 0.5587224\n",
       "19 0.26073573 0.7392643"
      ]
     },
     "metadata": {},
     "output_type": "display_data"
    }
   ],
   "source": [
    "## Predicting Class Probabilities model2\n",
    "lrProbs2 <- predict(lrmodel2, testing, type = \"prob\")\n",
    "head(lrProbs2)"
   ]
  },
  {
   "cell_type": "code",
   "execution_count": 25,
   "metadata": {},
   "outputs": [
    {
     "data": {
      "text/plain": [
       "glm variable importance\n",
       "\n",
       "                     Overall\n",
       "alcohol               21.655\n",
       "volatile.acidity      14.983\n",
       "residual.sugar         6.503\n",
       "sulphates              6.288\n",
       "Classred               3.528\n",
       "fixed.acidity          3.124\n",
       "total.sulfur.dioxide   2.107\n",
       "chlorides              2.022"
      ]
     },
     "metadata": {},
     "output_type": "display_data"
    }
   ],
   "source": [
    "# variable importance model2\n",
    "lr.imp2 = varImp (lrmodel2 , scale = F )\n",
    "lr.imp2"
   ]
  },
  {
   "cell_type": "code",
   "execution_count": 26,
   "metadata": {},
   "outputs": [
    {
     "data": {},
     "metadata": {},
     "output_type": "display_data"
    },
    {
     "data": {
      "image/png": "[encoded data removed]",
      "text/plain": [
       "plot without title"
      ]
     },
     "metadata": {},
     "output_type": "display_data"
    }
   ],
   "source": [
    "## Graphic variable importance model2\n",
    "# dev.new()\n",
    "plot(lr.imp2, top=8, main=\"Variable Importance - LR Model2\")"
   ]
  },
  {
   "cell_type": "code",
   "execution_count": 28,
   "metadata": {},
   "outputs": [
    {
     "data": {
      "image/png": "[encoded data removed]",
      "text/plain": [
       "Plot with title \"Logistic Regression Models ROC curve\""
      ]
     },
     "metadata": {},
     "output_type": "display_data"
    }
   ],
   "source": [
    "## Creating the ROC Curve\n",
    "library(pROC)\n",
    "formula1 <- as.formula(\"quality ~ .\") \n",
    "lrmodel1 <- train(formula1, data=training, method=\"glm\",   family=binomial(link = \"logit\"), preProc = c(\"center\", \"scale\"), tuneLength = 5, trControl = cvCtrl)\n",
    "lrProbs <- predict(lrmodel1, testing, type = \"prob\")\n",
    "\n",
    "## Creating the ROC Curve\n",
    "library(pROC)\n",
    "lrROC <- roc(predictor = lrProbs$Good, response = testing$quality, levels = rev(levels(testing$quality)))\n",
    "lrROC2 <- roc(predictor = lrProbs2$Good, response = testing$quality, levels = rev(levels(testing$quality)))\n",
    "\n",
    "plot(lrROC, type = \"S\", main=\"Logistic Regression Models ROC curve\",  col = \"blue\")\n",
    "plot(lrROC2, add = TRUE, print.thres = .5, col = \"red\", print.auc=TRUE)\n",
    "#plot(knnROC, add = TRUE, col = \"yellow\")\n",
    "#plot(rfROC, add = TRUE, print.thres = .5, col = \"blue\", print.auc=TRUE)\n",
    "legend(\"bottomright\", legend = c(\"LRmodel1\",\"LRmodel2\"), col = c(\"blue\",\"red\"),lwd = 2)\n"
   ]
  },
  {
   "cell_type": "markdown",
   "metadata": {},
   "source": [
    "## V Making predictions\n",
    " \n",
    "After doing all the building stuff, we want to get the predictions from model2 on our training dataset."
   ]
  },
  {
   "cell_type": "code",
   "execution_count": 29,
   "metadata": {},
   "outputs": [
    {
     "data": {
      "text/html": [
       "<table>\n",
       "<thead><tr><th></th><th scope=col>Bad</th><th scope=col>Good</th></tr></thead>\n",
       "<tbody>\n",
       "\t<tr><th scope=row>1</th><td>0.55910952</td><td>0.4408905 </td></tr>\n",
       "\t<tr><th scope=row>6</th><td>0.41961854</td><td>0.5803815 </td></tr>\n",
       "\t<tr><th scope=row>7</th><td>0.53604910</td><td>0.4639509 </td></tr>\n",
       "\t<tr><th scope=row>11</th><td>0.08677416</td><td>0.9132258 </td></tr>\n",
       "\t<tr><th scope=row>12</th><td>0.44127759</td><td>0.5587224 </td></tr>\n",
       "</tbody>\n",
       "</table>\n"
      ],
      "text/latex": [
       "\\begin{tabular}{r|ll}\n",
       "  & Bad & Good\\\\\n",
       "\\hline\n",
       "\t1 & 0.55910952 & 0.4408905 \\\\\n",
       "\t6 & 0.41961854 & 0.5803815 \\\\\n",
       "\t7 & 0.53604910 & 0.4639509 \\\\\n",
       "\t11 & 0.08677416 & 0.9132258 \\\\\n",
       "\t12 & 0.44127759 & 0.5587224 \\\\\n",
       "\\end{tabular}\n"
      ],
      "text/markdown": [
       "\n",
       "| <!--/--> | Bad | Good | \n",
       "|---|---|---|---|---|\n",
       "| 1 | 0.55910952 | 0.4408905  | \n",
       "| 6 | 0.41961854 | 0.5803815  | \n",
       "| 7 | 0.53604910 | 0.4639509  | \n",
       "| 11 | 0.08677416 | 0.9132258  | \n",
       "| 12 | 0.44127759 | 0.5587224  | \n",
       "\n",
       "\n"
      ],
      "text/plain": [
       "   Bad        Good     \n",
       "1  0.55910952 0.4408905\n",
       "6  0.41961854 0.5803815\n",
       "7  0.53604910 0.4639509\n",
       "11 0.08677416 0.9132258\n",
       "12 0.44127759 0.5587224"
      ]
     },
     "metadata": {},
     "output_type": "display_data"
    }
   ],
   "source": [
    "# print predictions probabilities by row model2\n",
    "head(as.data.frame(lrProbs2),5)"
   ]
  },
  {
   "cell_type": "code",
   "execution_count": 30,
   "metadata": {},
   "outputs": [
    {
     "data": {
      "text/html": [
       "<table>\n",
       "<thead><tr><th scope=col>fixed.acidity</th><th scope=col>volatile.acidity</th><th scope=col>citric.acid</th><th scope=col>residual.sugar</th><th scope=col>chlorides</th><th scope=col>total.sulfur.dioxide</th><th scope=col>pH</th><th scope=col>sulphates</th><th scope=col>alcohol</th><th scope=col>quality</th><th scope=col>Class</th><th scope=col>lrPred2</th></tr></thead>\n",
       "<tbody>\n",
       "\t<tr><td>7.0  </td><td>0.27 </td><td>0.36 </td><td>17.55</td><td>0.045</td><td>170  </td><td>3.00 </td><td>0.45 </td><td> 8.8 </td><td>Good </td><td>white</td><td>Bad  </td></tr>\n",
       "\t<tr><td>8.1  </td><td>0.28 </td><td>0.40 </td><td> 6.90</td><td>0.050</td><td> 97  </td><td>3.26 </td><td>0.44 </td><td>10.1 </td><td>Good </td><td>white</td><td>Good </td></tr>\n",
       "\t<tr><td>6.2  </td><td>0.32 </td><td>0.16 </td><td> 7.00</td><td>0.045</td><td>136  </td><td>3.18 </td><td>0.47 </td><td> 9.6 </td><td>Good </td><td>white</td><td>Bad  </td></tr>\n",
       "\t<tr><td>8.1  </td><td>0.27 </td><td>0.41 </td><td> 1.45</td><td>0.033</td><td> 63  </td><td>2.99 </td><td>0.56 </td><td>12.0 </td><td>Bad  </td><td>white</td><td>Good </td></tr>\n",
       "\t<tr><td>8.6  </td><td>0.23 </td><td>0.40 </td><td> 4.20</td><td>0.035</td><td>109  </td><td>3.14 </td><td>0.53 </td><td> 9.7 </td><td>Bad  </td><td>white</td><td>Good </td></tr>\n",
       "\t<tr><td>7.4  </td><td>0.34 </td><td>0.42 </td><td> 1.10</td><td>0.033</td><td>171  </td><td>3.12 </td><td>0.53 </td><td>11.3 </td><td>Good </td><td>white</td><td>Good </td></tr>\n",
       "\t<tr><td>6.5  </td><td>0.31 </td><td>0.14 </td><td> 7.50</td><td>0.044</td><td>133  </td><td>3.22 </td><td>0.50 </td><td> 9.5 </td><td>Bad  </td><td>white</td><td>Bad  </td></tr>\n",
       "\t<tr><td>7.0  </td><td>0.25 </td><td>0.32 </td><td> 9.00</td><td>0.046</td><td>245  </td><td>3.25 </td><td>0.50 </td><td>10.4 </td><td>Good </td><td>white</td><td>Good </td></tr>\n",
       "\t<tr><td>7.4  </td><td>0.27 </td><td>0.48 </td><td> 1.10</td><td>0.047</td><td>132  </td><td>3.19 </td><td>0.49 </td><td>11.6 </td><td>Good </td><td>white</td><td>Good </td></tr>\n",
       "\t<tr><td>8.5  </td><td>0.24 </td><td>0.39 </td><td>10.40</td><td>0.044</td><td>142  </td><td>3.20 </td><td>0.53 </td><td>10.0 </td><td>Good </td><td>white</td><td>Good </td></tr>\n",
       "</tbody>\n",
       "</table>\n"
      ],
      "text/latex": [
       "\\begin{tabular}{r|llllllllllll}\n",
       " fixed.acidity & volatile.acidity & citric.acid & residual.sugar & chlorides & total.sulfur.dioxide & pH & sulphates & alcohol & quality & Class & lrPred2\\\\\n",
       "\\hline\n",
       "\t 7.0   & 0.27  & 0.36  & 17.55 & 0.045 & 170   & 3.00  & 0.45  &  8.8  & Good  & white & Bad  \\\\\n",
       "\t 8.1   & 0.28  & 0.40  &  6.90 & 0.050 &  97   & 3.26  & 0.44  & 10.1  & Good  & white & Good \\\\\n",
       "\t 6.2   & 0.32  & 0.16  &  7.00 & 0.045 & 136   & 3.18  & 0.47  &  9.6  & Good  & white & Bad  \\\\\n",
       "\t 8.1   & 0.27  & 0.41  &  1.45 & 0.033 &  63   & 2.99  & 0.56  & 12.0  & Bad   & white & Good \\\\\n",
       "\t 8.6   & 0.23  & 0.40  &  4.20 & 0.035 & 109   & 3.14  & 0.53  &  9.7  & Bad   & white & Good \\\\\n",
       "\t 7.4   & 0.34  & 0.42  &  1.10 & 0.033 & 171   & 3.12  & 0.53  & 11.3  & Good  & white & Good \\\\\n",
       "\t 6.5   & 0.31  & 0.14  &  7.50 & 0.044 & 133   & 3.22  & 0.50  &  9.5  & Bad   & white & Bad  \\\\\n",
       "\t 7.0   & 0.25  & 0.32  &  9.00 & 0.046 & 245   & 3.25  & 0.50  & 10.4  & Good  & white & Good \\\\\n",
       "\t 7.4   & 0.27  & 0.48  &  1.10 & 0.047 & 132   & 3.19  & 0.49  & 11.6  & Good  & white & Good \\\\\n",
       "\t 8.5   & 0.24  & 0.39  & 10.40 & 0.044 & 142   & 3.20  & 0.53  & 10.0  & Good  & white & Good \\\\\n",
       "\\end{tabular}\n"
      ],
      "text/markdown": [
       "\n",
       "fixed.acidity | volatile.acidity | citric.acid | residual.sugar | chlorides | total.sulfur.dioxide | pH | sulphates | alcohol | quality | Class | lrPred2 | \n",
       "|---|---|---|---|---|---|---|---|---|---|\n",
       "| 7.0   | 0.27  | 0.36  | 17.55 | 0.045 | 170   | 3.00  | 0.45  |  8.8  | Good  | white | Bad   | \n",
       "| 8.1   | 0.28  | 0.40  |  6.90 | 0.050 |  97   | 3.26  | 0.44  | 10.1  | Good  | white | Good  | \n",
       "| 6.2   | 0.32  | 0.16  |  7.00 | 0.045 | 136   | 3.18  | 0.47  |  9.6  | Good  | white | Bad   | \n",
       "| 8.1   | 0.27  | 0.41  |  1.45 | 0.033 |  63   | 2.99  | 0.56  | 12.0  | Bad   | white | Good  | \n",
       "| 8.6   | 0.23  | 0.40  |  4.20 | 0.035 | 109   | 3.14  | 0.53  |  9.7  | Bad   | white | Good  | \n",
       "| 7.4   | 0.34  | 0.42  |  1.10 | 0.033 | 171   | 3.12  | 0.53  | 11.3  | Good  | white | Good  | \n",
       "| 6.5   | 0.31  | 0.14  |  7.50 | 0.044 | 133   | 3.22  | 0.50  |  9.5  | Bad   | white | Bad   | \n",
       "| 7.0   | 0.25  | 0.32  |  9.00 | 0.046 | 245   | 3.25  | 0.50  | 10.4  | Good  | white | Good  | \n",
       "| 7.4   | 0.27  | 0.48  |  1.10 | 0.047 | 132   | 3.19  | 0.49  | 11.6  | Good  | white | Good  | \n",
       "| 8.5   | 0.24  | 0.39  | 10.40 | 0.044 | 142   | 3.20  | 0.53  | 10.0  | Good  | white | Good  | \n",
       "\n",
       "\n"
      ],
      "text/plain": [
       "   fixed.acidity volatile.acidity citric.acid residual.sugar chlorides\n",
       "1  7.0           0.27             0.36        17.55          0.045    \n",
       "2  8.1           0.28             0.40         6.90          0.050    \n",
       "3  6.2           0.32             0.16         7.00          0.045    \n",
       "4  8.1           0.27             0.41         1.45          0.033    \n",
       "5  8.6           0.23             0.40         4.20          0.035    \n",
       "6  7.4           0.34             0.42         1.10          0.033    \n",
       "7  6.5           0.31             0.14         7.50          0.044    \n",
       "8  7.0           0.25             0.32         9.00          0.046    \n",
       "9  7.4           0.27             0.48         1.10          0.047    \n",
       "10 8.5           0.24             0.39        10.40          0.044    \n",
       "   total.sulfur.dioxide pH   sulphates alcohol quality Class lrPred2\n",
       "1  170                  3.00 0.45       8.8    Good    white Bad    \n",
       "2   97                  3.26 0.44      10.1    Good    white Good   \n",
       "3  136                  3.18 0.47       9.6    Good    white Bad    \n",
       "4   63                  2.99 0.56      12.0    Bad     white Good   \n",
       "5  109                  3.14 0.53       9.7    Bad     white Good   \n",
       "6  171                  3.12 0.53      11.3    Good    white Good   \n",
       "7  133                  3.22 0.50       9.5    Bad     white Bad    \n",
       "8  245                  3.25 0.50      10.4    Good    white Good   \n",
       "9  132                  3.19 0.49      11.6    Good    white Good   \n",
       "10 142                  3.20 0.53      10.0    Good    white Good   "
      ]
     },
     "metadata": {},
     "output_type": "display_data"
    }
   ],
   "source": [
    "# print validation dataset and predictions by row model2\n",
    "head((val<-as.data.frame(c(testing,as.data.frame(lrPred2)))),10)"
   ]
  },
  {
   "cell_type": "markdown",
   "metadata": {
    "collapsed": true
   },
   "source": [
    "Now if you want to get the predictions from a new test data, you can see the item 7.4 of my project [MACHINE LEARNING: A comparison of supervised learning algorithms applied to the classification problem with caret R-project library](http://nbviewer.jupyter.org/github/arqmain/Machine_Learning/blob/master/R_MLearning/MLearning_Classification_Comparison_R_Caret/MLearning_Classification_Comparison_R_Caret.ipynb). "
   ]
  },
  {
   "cell_type": "markdown",
   "metadata": {
    "collapsed": true
   },
   "source": [
    "## VI Conclusion"
   ]
  },
  {
   "cell_type": "markdown",
   "metadata": {},
   "source": [
    "This module of the project develops Logistic Regression algorithm of machine learning to classify the quality of the wine \"Good\" or \"Bad\" according to the 11 variables that characterize the wine subject to classification.\n",
    "\n",
    "The database -dfffull- does not consider two variables that appear in the original base. They could generate a problem of multicollinearity in the process of classification. So,  we got rid of them in dfffull. At the same time, <u><b><i>dfffull</i></b></u> keep all the register of the original database \"df\" but replace the upper outliers by its corresponding <i>Threshold</i>. The application of this rule does not reduce the original data size because it does not eliminate any register. So, dfffull data size is the same as the original \"df\" (6497).\n",
    "\n",
    "The lrmodel2 achieves a good classification metric, reaching ROC measurement of 80.55%. That is, the variables of the \"df\" database allow discriminating in a good way the quality of wine that they represent.\n",
    "\n",
    "The model was developed selecting the variables included by using the stepwise backward elimination method based on AIC selection criterion. Anyway, this is modeling so, we can improve more or not the model by filtering other variables, using another variable selection method or doing both things at the same time."
   ]
  },
  {
   "cell_type": "markdown",
   "metadata": {},
   "source": [
    "<hr>\n",
    "By: Hector Alvaro Rojas | Data Science, Visualizations and Applied Statistics | October 25, 2017<br>\n",
    "Url: [http://www.arqmain.net]   &nbsp;&nbsp;&nbsp;|&nbsp;&nbsp;&nbsp;   GitHub: [https://github.com/arqmain]"
   ]
  }
 ],
 "metadata": {
  "anaconda-cloud": {},
  "kernelspec": {
   "display_name": "R",
   "language": "R",
   "name": "ir"
  },
  "language_info": {
   "codemirror_mode": "r",
   "file_extension": ".r",
   "mimetype": "text/x-r-source",
   "name": "R",
   "pygments_lexer": "r",
   "version": "3.4.1"
  }
 },
 "nbformat": 4,
 "nbformat_minor": 2
}
