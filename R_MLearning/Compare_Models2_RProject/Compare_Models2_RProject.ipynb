{
 "cells": [
  {
   "cell_type": "markdown",
   "metadata": {},
   "source": [
    "#  MACHINE LEARNING: A general way to run and compare most common  supervised learning algorithms with R-project\n",
    "\n",
    "By: Hector Alvaro Rojas | Data Science, Visualizations and Applied Statistics | September 2017<br>\n",
    "Url: [http://www.arqmain.net]   &nbsp;&nbsp;&nbsp;|&nbsp;&nbsp;&nbsp;   GitHub: [https://github.com/arqmain]\n",
    "<hr>"
   ]
  },
  {
   "cell_type": "markdown",
   "metadata": {},
   "source": [
    "## I Introduction\n",
    "\n",
    "This project presents a general way to run and compare several supervised learning algorithms applied to the classification problem, evaluating and selecting the best of them according to a precision measurement (accuracy_score) and R.\n",
    "\n",
    "The supervised learning algorithms to be considered here are:\n",
    "\n",
    "* Logistic Regression (LR)\n",
    "* Linear Discriminant Analysis (LDA)\n",
    "* K-Nearest Neighbors (KNN)\n",
    "* Classification and Regression Trees (CART)\n",
    "* Random Forest Classifier (RF)\n",
    "* Gaussian Naive Bayes (NB)\n",
    "* Support Vector Machines (SVM)\n",
    "\n",
    "I am not using any specific library -like caret- to control the central procedure to get the modeling. If I'll use one of them will be as a support for only some part of the modeling process not as a central support one.\n",
    "\n",
    "The famous iris flowers dataset is used as a data support. The dataset contains 150 observations of iris flowers. There are four columns of measurements of the flowers in centimeters. These columns are the variables (features): SepalLength; SepalWidth; PetalLength; PetalWidth.\n",
    "\n",
    "The fifth column is the species of the flower observed. All observed flowers belong to one of three species: Iris-setosa; Iris-versicolor; Iris-virginica. You can learn more about this dataset on [  Wikipedia ](https://en.wikipedia.org/wiki/Iris_flower_data_set).\n",
    "\n",
    "The dataset can be gotten from [  UCI Machine Learning Repository ](https://archive.ics.uci.edu/ml/datasets/Iris), but in this project I will use a copy of this dataset which I am going to download from [  here ](https://en.wikipedia.org/wiki/Iris_flower_data_set) [ http://www.arqmain.net/MLearning/Datasets/iris.csv].\n",
    "\n",
    "The data check, summarize and visualization process has been done already by me as part of other machine learning projects. You can download those results [  here ](https://github.com/arqmain/Machine_Learning/blob/master/R_MLearning/MLearning_Classification_Comparison_R_Caret/README.md). \n",
    "\n",
    "The \"accuracy score\" of the models will be measured using the \"train/test split\" method.  So, I will split the dataset into two parts: datatrain and validation. I will train models on the \"datatrain\" dataset and validate them on the \"validation\" one.\n",
    "\n",
    "The size of the split can depend on the size and specifics of your dataset, although it is common to use any value in a range from 60% to 80% of the data for training and the remaining difference for testing.  I will use 60% and 40% for the training and validate (testing) datasets respectively. \n",
    "\n",
    "Special consideration must be done if you have a dataset that admitted more than one variable of classification or different representation's percentage for all the data. As always, we must be careful to get a good photograph of the original dataset in each split dataset that we get.\n",
    "\n",
    "Using a train/test split is good for speed when using a slow algorithm and produces performance estimates with lower bias when using large datasets. This algorithm evaluation technique is very fast. It is ideal for large datasets (millions of records) where there is strong evidence that both splits of the data are representative of the underlying problem.\n",
    "\n",
    "One negative part of this technique is that it can have a high variance. This means that differences in the training and test dataset can result in meaningful differences in the estimate of accuracy.\n",
    "\n",
    "Some good links to get more information about the train/test split method are:\n",
    "\n",
    "* [  Model Selection and Train/Validation/Test Sets ](https://es.coursera.org/learn/machine-learning/lecture/QGKbr/model-selection-and-train-validation-sets)\n",
    "* [  Comparing machine learning models in scikit-learn ](https://www.youtube.com/watch?v=0pP4EwWJgIU&list=PL5-da3qGB5ICeMbQuqbbCOQWcS6OYBr5A&index=5)\n",
    "\n",
    "This project has the following general two objectives to be accomplished for:\n",
    "\n",
    "<b><i>1) Show a general way to build the models with R.<br>\n",
    "2) Show a way to select the models using the \"train/test split\" method and the accuracy score.</b></i>\n"
   ]
  },
  {
   "cell_type": "markdown",
   "metadata": {},
   "source": [
    "## I Loading and checking the data\n",
    "\n",
    "The dataset can be gotten from [  UCI Machine Learning Repository ](https://archive.ics.uci.edu/ml/datasets/Iris), but in this project I will use a copy of this dataset which I am going to download from [  here ](https://en.wikipedia.org/wiki/Iris_flower_data_set) [ http://www.arqmain.net/MLearning/Datasets/iris.csv]."
   ]
  },
  {
   "cell_type": "code",
   "execution_count": 1,
   "metadata": {
    "collapsed": true
   },
   "outputs": [],
   "source": [
    "# read and attach the dataset\n",
    "filename <- \"http://www.arqmain.net/MLearning/Datasets/iris.csv\"\n",
    "\n",
    "# load the CSV file from the local directory\n",
    "df <- read.csv(filename, header=TRUE)\n",
    "attach(df)"
   ]
  },
  {
   "cell_type": "markdown",
   "metadata": {},
   "source": [
    "## II Getting train and test datasets\n"
   ]
  },
  {
   "cell_type": "code",
   "execution_count": 2,
   "metadata": {},
   "outputs": [
    {
     "name": "stderr",
     "output_type": "stream",
     "text": [
      "Loading required package: lattice\n",
      "Loading required package: ggplot2\n"
     ]
    },
    {
     "data": {
      "text/html": [
       "<table>\n",
       "<thead><tr><th></th><th scope=col>SepalLength</th><th scope=col>SepalWidth</th><th scope=col>PetalLength</th><th scope=col>PetalWidth</th><th scope=col>Species</th></tr></thead>\n",
       "<tbody>\n",
       "\t<tr><th scope=row>5</th><td>5.0        </td><td>3.6        </td><td>1.4        </td><td>0.2        </td><td>Iris-setosa</td></tr>\n",
       "\t<tr><th scope=row>11</th><td>5.4        </td><td>3.7        </td><td>1.5        </td><td>0.2        </td><td>Iris-setosa</td></tr>\n",
       "\t<tr><th scope=row>13</th><td>4.8        </td><td>3.0        </td><td>1.4        </td><td>0.1        </td><td>Iris-setosa</td></tr>\n",
       "\t<tr><th scope=row>14</th><td>4.3        </td><td>3.0        </td><td>1.1        </td><td>0.1        </td><td>Iris-setosa</td></tr>\n",
       "\t<tr><th scope=row>18</th><td>5.1        </td><td>3.5        </td><td>1.4        </td><td>0.3        </td><td>Iris-setosa</td></tr>\n",
       "\t<tr><th scope=row>21</th><td>5.4        </td><td>3.4        </td><td>1.7        </td><td>0.2        </td><td>Iris-setosa</td></tr>\n",
       "</tbody>\n",
       "</table>\n"
      ],
      "text/latex": [
       "\\begin{tabular}{r|lllll}\n",
       "  & SepalLength & SepalWidth & PetalLength & PetalWidth & Species\\\\\n",
       "\\hline\n",
       "\t5 & 5.0         & 3.6         & 1.4         & 0.2         & Iris-setosa\\\\\n",
       "\t11 & 5.4         & 3.7         & 1.5         & 0.2         & Iris-setosa\\\\\n",
       "\t13 & 4.8         & 3.0         & 1.4         & 0.1         & Iris-setosa\\\\\n",
       "\t14 & 4.3         & 3.0         & 1.1         & 0.1         & Iris-setosa\\\\\n",
       "\t18 & 5.1         & 3.5         & 1.4         & 0.3         & Iris-setosa\\\\\n",
       "\t21 & 5.4         & 3.4         & 1.7         & 0.2         & Iris-setosa\\\\\n",
       "\\end{tabular}\n"
      ],
      "text/markdown": [
       "\n",
       "| <!--/--> | SepalLength | SepalWidth | PetalLength | PetalWidth | Species | \n",
       "|---|---|---|---|---|---|\n",
       "| 5 | 5.0         | 3.6         | 1.4         | 0.2         | Iris-setosa | \n",
       "| 11 | 5.4         | 3.7         | 1.5         | 0.2         | Iris-setosa | \n",
       "| 13 | 4.8         | 3.0         | 1.4         | 0.1         | Iris-setosa | \n",
       "| 14 | 4.3         | 3.0         | 1.1         | 0.1         | Iris-setosa | \n",
       "| 18 | 5.1         | 3.5         | 1.4         | 0.3         | Iris-setosa | \n",
       "| 21 | 5.4         | 3.4         | 1.7         | 0.2         | Iris-setosa | \n",
       "\n",
       "\n"
      ],
      "text/plain": [
       "   SepalLength SepalWidth PetalLength PetalWidth Species    \n",
       "5  5.0         3.6        1.4         0.2        Iris-setosa\n",
       "11 5.4         3.7        1.5         0.2        Iris-setosa\n",
       "13 4.8         3.0        1.4         0.1        Iris-setosa\n",
       "14 4.3         3.0        1.1         0.1        Iris-setosa\n",
       "18 5.1         3.5        1.4         0.3        Iris-setosa\n",
       "21 5.4         3.4        1.7         0.2        Iris-setosa"
      ]
     },
     "metadata": {},
     "output_type": "display_data"
    },
    {
     "data": {
      "text/html": [
       "<table>\n",
       "<thead><tr><th></th><th scope=col>SepalLength</th><th scope=col>SepalWidth</th><th scope=col>PetalLength</th><th scope=col>PetalWidth</th><th scope=col>Species</th></tr></thead>\n",
       "<tbody>\n",
       "\t<tr><th scope=row>1</th><td>5.1        </td><td>3.5        </td><td>1.4        </td><td>0.2        </td><td>Iris-setosa</td></tr>\n",
       "\t<tr><th scope=row>2</th><td>4.9        </td><td>3.0        </td><td>1.4        </td><td>0.2        </td><td>Iris-setosa</td></tr>\n",
       "\t<tr><th scope=row>3</th><td>4.7        </td><td>3.2        </td><td>1.3        </td><td>0.2        </td><td>Iris-setosa</td></tr>\n",
       "\t<tr><th scope=row>4</th><td>4.6        </td><td>3.1        </td><td>1.5        </td><td>0.2        </td><td>Iris-setosa</td></tr>\n",
       "\t<tr><th scope=row>6</th><td>5.4        </td><td>3.9        </td><td>1.7        </td><td>0.4        </td><td>Iris-setosa</td></tr>\n",
       "\t<tr><th scope=row>7</th><td>4.6        </td><td>3.4        </td><td>1.4        </td><td>0.3        </td><td>Iris-setosa</td></tr>\n",
       "</tbody>\n",
       "</table>\n"
      ],
      "text/latex": [
       "\\begin{tabular}{r|lllll}\n",
       "  & SepalLength & SepalWidth & PetalLength & PetalWidth & Species\\\\\n",
       "\\hline\n",
       "\t1 & 5.1         & 3.5         & 1.4         & 0.2         & Iris-setosa\\\\\n",
       "\t2 & 4.9         & 3.0         & 1.4         & 0.2         & Iris-setosa\\\\\n",
       "\t3 & 4.7         & 3.2         & 1.3         & 0.2         & Iris-setosa\\\\\n",
       "\t4 & 4.6         & 3.1         & 1.5         & 0.2         & Iris-setosa\\\\\n",
       "\t6 & 5.4         & 3.9         & 1.7         & 0.4         & Iris-setosa\\\\\n",
       "\t7 & 4.6         & 3.4         & 1.4         & 0.3         & Iris-setosa\\\\\n",
       "\\end{tabular}\n"
      ],
      "text/markdown": [
       "\n",
       "| <!--/--> | SepalLength | SepalWidth | PetalLength | PetalWidth | Species | \n",
       "|---|---|---|---|---|---|\n",
       "| 1 | 5.1         | 3.5         | 1.4         | 0.2         | Iris-setosa | \n",
       "| 2 | 4.9         | 3.0         | 1.4         | 0.2         | Iris-setosa | \n",
       "| 3 | 4.7         | 3.2         | 1.3         | 0.2         | Iris-setosa | \n",
       "| 4 | 4.6         | 3.1         | 1.5         | 0.2         | Iris-setosa | \n",
       "| 6 | 5.4         | 3.9         | 1.7         | 0.4         | Iris-setosa | \n",
       "| 7 | 4.6         | 3.4         | 1.4         | 0.3         | Iris-setosa | \n",
       "\n",
       "\n"
      ],
      "text/plain": [
       "  SepalLength SepalWidth PetalLength PetalWidth Species    \n",
       "1 5.1         3.5        1.4         0.2        Iris-setosa\n",
       "2 4.9         3.0        1.4         0.2        Iris-setosa\n",
       "3 4.7         3.2        1.3         0.2        Iris-setosa\n",
       "4 4.6         3.1        1.5         0.2        Iris-setosa\n",
       "6 5.4         3.9        1.7         0.4        Iris-setosa\n",
       "7 4.6         3.4        1.4         0.3        Iris-setosa"
      ]
     },
     "metadata": {},
     "output_type": "display_data"
    }
   ],
   "source": [
    "library(caret)\n",
    "\n",
    "# split training and testing dataset\n",
    "percentage = 0.60\n",
    "set.seed(7)\n",
    "# create a list of 60% of the rows in the original dataset we can use for training\n",
    "validation_index <- createDataPartition(df$Species, p=percentage, list=FALSE)\n",
    "# select 40% of the data for validation\n",
    "validation <- df[-validation_index,]\n",
    "# use the remaining 60% of data to training and testing the models\n",
    "datatrain <- df[validation_index,]\n",
    "\n",
    "head(validation)\n",
    "\n",
    "head(datatrain)"
   ]
  },
  {
   "cell_type": "markdown",
   "metadata": {},
   "source": [
    "## III Building models\n",
    " \n",
    "I have considered linear (LR and LDA), nonlinear (KNN, CART, RF, NB and SVM) algorithms. I reset the random number seed before each run to ensure that the evaluation of each algorithm is performed using exactly the same data splits. It ensures the results are directly comparable."
   ]
  },
  {
   "cell_type": "markdown",
   "metadata": {},
   "source": [
    "### 3.1 Logistic Regression (LR)"
   ]
  },
  {
   "cell_type": "code",
   "execution_count": 3,
   "metadata": {},
   "outputs": [
    {
     "name": "stderr",
     "output_type": "stream",
     "text": [
      "Loading required package: stats4\n",
      "Loading required package: splines\n",
      "\n",
      "Attaching package: 'VGAM'\n",
      "\n",
      "The following object is masked from 'package:caret':\n",
      "\n",
      "    predictors\n",
      "\n",
      "Warning message in checkwz(wz, M = M, trace = trace, wzepsilon = control$wzepsilon):\n",
      "\"1 diagonal elements of the working weights variable 'wz' have been replaced by 1.819e-12\"Warning message in checkwz(wz, M = M, trace = trace, wzepsilon = control$wzepsilon):\n",
      "\"10 diagonal elements of the working weights variable 'wz' have been replaced by 1.819e-12\"Warning message in checkwz(wz, M = M, trace = trace, wzepsilon = control$wzepsilon):\n",
      "\"18 diagonal elements of the working weights variable 'wz' have been replaced by 1.819e-12\"Warning message in checkwz(wz, M = M, trace = trace, wzepsilon = control$wzepsilon):\n",
      "\"32 diagonal elements of the working weights variable 'wz' have been replaced by 1.819e-12\"Warning message in slot(family, \"linkinv\")(eta, extra = extra):\n",
      "\"fitted probabilities numerically 0 or 1 occurred\"Warning message in tfun(mu = mu, y = y, w = w, res = FALSE, eta = eta, extra = extra):\n",
      "\"fitted values close to 0 or 1\"Warning message in slot(family, \"linkinv\")(eta, extra = extra):\n",
      "\"fitted probabilities numerically 0 or 1 occurred\"Warning message in tfun(mu = mu, y = y, w = w, res = FALSE, eta = eta, extra = extra):\n",
      "\"fitted values close to 0 or 1\"Warning message in slot(family, \"linkinv\")(eta, extra = extra):\n",
      "\"fitted probabilities numerically 0 or 1 occurred\"Warning message in tfun(mu = mu, y = y, w = w, res = FALSE, eta = eta, extra = extra):\n",
      "\"fitted values close to 0 or 1\"Warning message in slot(family, \"linkinv\")(eta, extra = extra):\n",
      "\"fitted probabilities numerically 0 or 1 occurred\"Warning message in tfun(mu = mu, y = y, w = w, res = FALSE, eta = eta, extra = extra):\n",
      "\"fitted values close to 0 or 1\"Warning message in slot(family, \"linkinv\")(eta, extra = extra):\n",
      "\"fitted probabilities numerically 0 or 1 occurred\"Warning message in tfun(mu = mu, y = y, w = w, res = FALSE, eta = eta, extra = extra):\n",
      "\"fitted values close to 0 or 1\"Warning message in slot(family, \"linkinv\")(eta, extra = extra):\n",
      "\"fitted probabilities numerically 0 or 1 occurred\"Warning message in tfun(mu = mu, y = y, w = w, res = FALSE, eta = eta, extra = extra):\n",
      "\"fitted values close to 0 or 1\"Warning message in slot(family, \"linkinv\")(eta, extra = extra):\n",
      "\"fitted probabilities numerically 0 or 1 occurred\"Warning message in tfun(mu = mu, y = y, w = w, res = FALSE, eta = eta, extra = extra):\n",
      "\"fitted values close to 0 or 1\"Warning message in checkwz(wz, M = M, trace = trace, wzepsilon = control$wzepsilon):\n",
      "\"32 diagonal elements of the working weights variable 'wz' have been replaced by 1.819e-12\"Warning message in slot(family, \"linkinv\")(eta, extra = extra):\n",
      "\"fitted probabilities numerically 0 or 1 occurred\"Warning message in tfun(mu = mu, y = y, w = w, res = FALSE, eta = eta, extra = extra):\n",
      "\"fitted values close to 0 or 1\"Warning message in slot(family, \"linkinv\")(eta, extra = extra):\n",
      "\"fitted probabilities numerically 0 or 1 occurred\"Warning message in tfun(mu = mu, y = y, w = w, res = FALSE, eta = eta, extra = extra):\n",
      "\"fitted values close to 0 or 1\"Warning message in slot(family, \"linkinv\")(eta, extra = extra):\n",
      "\"fitted probabilities numerically 0 or 1 occurred\"Warning message in tfun(mu = mu, y = y, w = w, res = FALSE, eta = eta, extra = extra):\n",
      "\"fitted values close to 0 or 1\"Warning message in slot(family, \"linkinv\")(eta, extra = extra):\n",
      "\"fitted probabilities numerically 0 or 1 occurred\"Warning message in tfun(mu = mu, y = y, w = w, res = FALSE, eta = eta, extra = extra):\n",
      "\"fitted values close to 0 or 1\"Warning message in slot(family, \"linkinv\")(eta, extra = extra):\n",
      "\"fitted probabilities numerically 0 or 1 occurred\"Warning message in tfun(mu = mu, y = y, w = w, res = FALSE, eta = eta, extra = extra):\n",
      "\"fitted values close to 0 or 1\"Warning message in slot(family, \"linkinv\")(eta, extra = extra):\n",
      "\"fitted probabilities numerically 0 or 1 occurred\"Warning message in tfun(mu = mu, y = y, w = w, res = FALSE, eta = eta, extra = extra):\n",
      "\"fitted values close to 0 or 1\"Warning message in slot(family, \"linkinv\")(eta, extra = extra):\n",
      "\"fitted probabilities numerically 0 or 1 occurred\"Warning message in tfun(mu = mu, y = y, w = w, res = FALSE, eta = eta, extra = extra):\n",
      "\"fitted values close to 0 or 1\"Warning message in slot(family, \"linkinv\")(eta, extra = extra):\n",
      "\"fitted probabilities numerically 0 or 1 occurred\"Warning message in tfun(mu = mu, y = y, w = w, res = FALSE, eta = eta, extra = extra):\n",
      "\"fitted values close to 0 or 1\"Warning message in checkwz(wz, M = M, trace = trace, wzepsilon = control$wzepsilon):\n",
      "\"32 diagonal elements of the working weights variable 'wz' have been replaced by 1.819e-12\"Warning message in slot(family, \"linkinv\")(eta, extra = extra):\n",
      "\"fitted probabilities numerically 0 or 1 occurred\"Warning message in tfun(mu = mu, y = y, w = w, res = FALSE, eta = eta, extra = extra):\n",
      "\"fitted values close to 0 or 1\"Warning message in slot(family, \"linkinv\")(eta, extra = extra):\n",
      "\"fitted probabilities numerically 0 or 1 occurred\"Warning message in tfun(mu = mu, y = y, w = w, res = FALSE, eta = eta, extra = extra):\n",
      "\"fitted values close to 0 or 1\"Warning message in slot(family, \"linkinv\")(eta, extra = extra):\n",
      "\"fitted probabilities numerically 0 or 1 occurred\"Warning message in tfun(mu = mu, y = y, w = w, res = FALSE, eta = eta, extra = extra):\n",
      "\"fitted values close to 0 or 1\"Warning message in slot(family, \"linkinv\")(eta, extra = extra):\n",
      "\"fitted probabilities numerically 0 or 1 occurred\"Warning message in tfun(mu = mu, y = y, w = w, res = FALSE, eta = eta, extra = extra):\n",
      "\"fitted values close to 0 or 1\"Warning message in slot(family, \"linkinv\")(eta, extra = extra):\n",
      "\"fitted probabilities numerically 0 or 1 occurred\"Warning message in tfun(mu = mu, y = y, w = w, res = FALSE, eta = eta, extra = extra):\n",
      "\"fitted values close to 0 or 1\"Warning message in slot(family, \"linkinv\")(eta, extra = extra):\n",
      "\"fitted probabilities numerically 0 or 1 occurred\"Warning message in tfun(mu = mu, y = y, w = w, res = FALSE, eta = eta, extra = extra):\n",
      "\"fitted values close to 0 or 1\"Warning message in slot(family, \"linkinv\")(eta, extra = extra):\n",
      "\"fitted probabilities numerically 0 or 1 occurred\"Warning message in tfun(mu = mu, y = y, w = w, res = FALSE, eta = eta, extra = extra):\n",
      "\"fitted values close to 0 or 1\"Warning message in slot(family, \"linkinv\")(eta, extra = extra):\n",
      "\"fitted probabilities numerically 0 or 1 occurred\"Warning message in tfun(mu = mu, y = y, w = w, res = FALSE, eta = eta, extra = extra):\n",
      "\"fitted values close to 0 or 1\"Warning message in slot(family, \"linkinv\")(eta, extra = extra):\n",
      "\"fitted probabilities numerically 0 or 1 occurred\"Warning message in tfun(mu = mu, y = y, w = w, res = FALSE, eta = eta, extra = extra):\n",
      "\"fitted values close to 0 or 1\"Warning message in slot(family, \"linkinv\")(eta, extra = extra):\n",
      "\"fitted probabilities numerically 0 or 1 occurred\"Warning message in tfun(mu = mu, y = y, w = w, res = FALSE, eta = eta, extra = extra):\n",
      "\"fitted values close to 0 or 1\"Warning message in slot(family, \"linkinv\")(eta, extra = extra):\n",
      "\"fitted probabilities numerically 0 or 1 occurred\"Warning message in tfun(mu = mu, y = y, w = w, res = FALSE, eta = eta, extra = extra):\n",
      "\"fitted values close to 0 or 1\"Warning message in slot(family, \"linkinv\")(eta, extra = extra):\n",
      "\"fitted probabilities numerically 0 or 1 occurred\"Warning message in tfun(mu = mu, y = y, w = w, res = FALSE, eta = eta, extra = extra):\n",
      "\"fitted values close to 0 or 1\"Warning message in slot(family, \"linkinv\")(eta, extra = extra):\n",
      "\"fitted probabilities numerically 0 or 1 occurred\"Warning message in tfun(mu = mu, y = y, w = w, res = FALSE, eta = eta, extra = extra):\n",
      "\"fitted values close to 0 or 1\"Warning message in slot(family, \"linkinv\")(eta, extra = extra):\n",
      "\"fitted probabilities numerically 0 or 1 occurred\"Warning message in tfun(mu = mu, y = y, w = w, res = FALSE, eta = eta, extra = extra):\n",
      "\"fitted values close to 0 or 1\"Warning message in slot(family, \"linkinv\")(eta, extra = extra):\n",
      "\"fitted probabilities numerically 0 or 1 occurred\"Warning message in tfun(mu = mu, y = y, w = w, res = FALSE, eta = eta, extra = extra):\n",
      "\"fitted values close to 0 or 1\"Warning message in checkwz(wz, M = M, trace = trace, wzepsilon = control$wzepsilon):\n"
     ]
    },
    {
     "name": "stderr",
     "output_type": "stream",
     "text": [
      "\"32 diagonal elements of the working weights variable 'wz' have been replaced by 1.819e-12\"Warning message in slot(family, \"linkinv\")(eta, extra = extra):\n",
      "\"fitted probabilities numerically 0 or 1 occurred\"Warning message in tfun(mu = mu, y = y, w = w, res = FALSE, eta = eta, extra = extra):\n",
      "\"fitted values close to 0 or 1\"Warning message in slot(family, \"linkinv\")(eta, extra = extra):\n",
      "\"fitted probabilities numerically 0 or 1 occurred\"Warning message in tfun(mu = mu, y = y, w = w, res = FALSE, eta = eta, extra = extra):\n",
      "\"fitted values close to 0 or 1\"Warning message in slot(family, \"linkinv\")(eta, extra = extra):\n",
      "\"fitted probabilities numerically 0 or 1 occurred\"Warning message in tfun(mu = mu, y = y, w = w, res = FALSE, eta = eta, extra = extra):\n",
      "\"fitted values close to 0 or 1\"Warning message in slot(family, \"linkinv\")(eta, extra = extra):\n",
      "\"fitted probabilities numerically 0 or 1 occurred\"Warning message in tfun(mu = mu, y = y, w = w, res = FALSE, eta = eta, extra = extra):\n",
      "\"fitted values close to 0 or 1\"Warning message in slot(family, \"linkinv\")(eta, extra = extra):\n",
      "\"fitted probabilities numerically 0 or 1 occurred\"Warning message in tfun(mu = mu, y = y, w = w, res = FALSE, eta = eta, extra = extra):\n",
      "\"fitted values close to 0 or 1\"Warning message in slot(family, \"linkinv\")(eta, extra = extra):\n",
      "\"fitted probabilities numerically 0 or 1 occurred\"Warning message in tfun(mu = mu, y = y, w = w, res = FALSE, eta = eta, extra = extra):\n",
      "\"fitted values close to 0 or 1\"Warning message in slot(family, \"linkinv\")(eta, extra = extra):\n",
      "\"fitted probabilities numerically 0 or 1 occurred\"Warning message in tfun(mu = mu, y = y, w = w, res = FALSE, eta = eta, extra = extra):\n",
      "\"fitted values close to 0 or 1\"Warning message in slot(family, \"linkinv\")(eta, extra = extra):\n",
      "\"fitted probabilities numerically 0 or 1 occurred\"Warning message in tfun(mu = mu, y = y, w = w, res = FALSE, eta = eta, extra = extra):\n",
      "\"fitted values close to 0 or 1\"Warning message in slot(family, \"linkinv\")(eta, extra = extra):\n",
      "\"fitted probabilities numerically 0 or 1 occurred\"Warning message in tfun(mu = mu, y = y, w = w, res = FALSE, eta = eta, extra = extra):\n",
      "\"fitted values close to 0 or 1\"Warning message in slot(family, \"linkinv\")(eta, extra = extra):\n",
      "\"fitted probabilities numerically 0 or 1 occurred\"Warning message in tfun(mu = mu, y = y, w = w, res = FALSE, eta = eta, extra = extra):\n",
      "\"fitted values close to 0 or 1\"Warning message in slot(family, \"linkinv\")(eta, extra = extra):\n",
      "\"fitted probabilities numerically 0 or 1 occurred\"Warning message in tfun(mu = mu, y = y, w = w, res = FALSE, eta = eta, extra = extra):\n",
      "\"fitted values close to 0 or 1\"Warning message in slot(family, \"linkinv\")(eta, extra = extra):\n",
      "\"fitted probabilities numerically 0 or 1 occurred\"Warning message in tfun(mu = mu, y = y, w = w, res = FALSE, eta = eta, extra = extra):\n",
      "\"fitted values close to 0 or 1\"Warning message in slot(family, \"linkinv\")(eta, extra = extra):\n",
      "\"fitted probabilities numerically 0 or 1 occurred\"Warning message in tfun(mu = mu, y = y, w = w, res = FALSE, eta = eta, extra = extra):\n",
      "\"fitted values close to 0 or 1\"Warning message in slot(family, \"linkinv\")(eta, extra = extra):\n",
      "\"fitted probabilities numerically 0 or 1 occurred\"Warning message in tfun(mu = mu, y = y, w = w, res = FALSE, eta = eta, extra = extra):\n",
      "\"fitted values close to 0 or 1\"Warning message in slot(family, \"linkinv\")(eta, extra = extra):\n",
      "\"fitted probabilities numerically 0 or 1 occurred\"Warning message in tfun(mu = mu, y = y, w = w, res = FALSE, eta = eta, extra = extra):\n",
      "\"fitted values close to 0 or 1\"Warning message in slot(family, \"linkinv\")(eta, extra = extra):\n",
      "\"fitted probabilities numerically 0 or 1 occurred\"Warning message in tfun(mu = mu, y = y, w = w, res = FALSE, eta = eta, extra = extra):\n",
      "\"fitted values close to 0 or 1\"Warning message in checkwz(wz, M = M, trace = trace, wzepsilon = control$wzepsilon):\n",
      "\"32 diagonal elements of the working weights variable 'wz' have been replaced by 1.819e-12\"Warning message in slot(family, \"linkinv\")(eta, extra = extra):\n",
      "\"fitted probabilities numerically 0 or 1 occurred\"Warning message in tfun(mu = mu, y = y, w = w, res = FALSE, eta = eta, extra = extra):\n",
      "\"fitted values close to 0 or 1\"Warning message in slot(family, \"linkinv\")(eta, extra = extra):\n",
      "\"fitted probabilities numerically 0 or 1 occurred\"Warning message in tfun(mu = mu, y = y, w = w, res = FALSE, eta = eta, extra = extra):\n",
      "\"fitted values close to 0 or 1\"Warning message in slot(family, \"linkinv\")(eta, extra = extra):\n",
      "\"fitted probabilities numerically 0 or 1 occurred\"Warning message in tfun(mu = mu, y = y, w = w, res = FALSE, eta = eta, extra = extra):\n",
      "\"fitted values close to 0 or 1\"Warning message in slot(family, \"linkinv\")(eta, extra = extra):\n",
      "\"fitted probabilities numerically 0 or 1 occurred\"Warning message in tfun(mu = mu, y = y, w = w, res = FALSE, eta = eta, extra = extra):\n",
      "\"fitted values close to 0 or 1\"Warning message in slot(family, \"linkinv\")(eta, extra = extra):\n",
      "\"fitted probabilities numerically 0 or 1 occurred\"Warning message in tfun(mu = mu, y = y, w = w, res = FALSE, eta = eta, extra = extra):\n",
      "\"fitted values close to 0 or 1\"Warning message in slot(family, \"linkinv\")(eta, extra = extra):\n",
      "\"fitted probabilities numerically 0 or 1 occurred\"Warning message in tfun(mu = mu, y = y, w = w, res = FALSE, eta = eta, extra = extra):\n",
      "\"fitted values close to 0 or 1\"Warning message in slot(family, \"linkinv\")(eta, extra = extra):\n",
      "\"fitted probabilities numerically 0 or 1 occurred\"Warning message in tfun(mu = mu, y = y, w = w, res = FALSE, eta = eta, extra = extra):\n",
      "\"fitted values close to 0 or 1\"Warning message in slot(family, \"linkinv\")(eta, extra = extra):\n",
      "\"fitted probabilities numerically 0 or 1 occurred\"Warning message in tfun(mu = mu, y = y, w = w, res = FALSE, eta = eta, extra = extra):\n",
      "\"fitted values close to 0 or 1\"Warning message in slot(family, \"linkinv\")(eta, extra = extra):\n",
      "\"fitted probabilities numerically 0 or 1 occurred\"Warning message in tfun(mu = mu, y = y, w = w, res = FALSE, eta = eta, extra = extra):\n",
      "\"fitted values close to 0 or 1\"Warning message in slot(family, \"linkinv\")(eta, extra = extra):\n",
      "\"fitted probabilities numerically 0 or 1 occurred\"Warning message in tfun(mu = mu, y = y, w = w, res = FALSE, eta = eta, extra = extra):\n",
      "\"fitted values close to 0 or 1\"Warning message in slot(family, \"linkinv\")(eta, extra = extra):\n",
      "\"fitted probabilities numerically 0 or 1 occurred\"Warning message in tfun(mu = mu, y = y, w = w, res = FALSE, eta = eta, extra = extra):\n",
      "\"fitted values close to 0 or 1\"Warning message in slot(family, \"linkinv\")(eta, extra = extra):\n",
      "\"fitted probabilities numerically 0 or 1 occurred\"Warning message in tfun(mu = mu, y = y, w = w, res = FALSE, eta = eta, extra = extra):\n",
      "\"fitted values close to 0 or 1\"Warning message in slot(family, \"linkinv\")(eta, extra = extra):\n",
      "\"fitted probabilities numerically 0 or 1 occurred\"Warning message in tfun(mu = mu, y = y, w = w, res = FALSE, eta = eta, extra = extra):\n",
      "\"fitted values close to 0 or 1\"Warning message in slot(family, \"linkinv\")(eta, extra = extra):\n",
      "\"fitted probabilities numerically 0 or 1 occurred\"Warning message in tfun(mu = mu, y = y, w = w, res = FALSE, eta = eta, extra = extra):\n",
      "\"fitted values close to 0 or 1\"Warning message in slot(family, \"linkinv\")(eta, extra = extra):\n",
      "\"fitted probabilities numerically 0 or 1 occurred\"Warning message in tfun(mu = mu, y = y, w = w, res = FALSE, eta = eta, extra = extra):\n",
      "\"fitted values close to 0 or 1\"Warning message in slot(family, \"linkinv\")(eta, extra = extra):\n",
      "\"fitted probabilities numerically 0 or 1 occurred\"Warning message in tfun(mu = mu, y = y, w = w, res = FALSE, eta = eta, extra = extra):\n",
      "\"fitted values close to 0 or 1\"Warning message in slot(family, \"linkinv\")(eta, extra = extra):\n",
      "\"fitted probabilities numerically 0 or 1 occurred\"Warning message in tfun(mu = mu, y = y, w = w, res = FALSE, eta = eta, extra = extra):\n",
      "\"fitted values close to 0 or 1\"Warning message in checkwz(wz, M = M, trace = trace, wzepsilon = control$wzepsilon):\n",
      "\"32 diagonal elements of the working weights variable 'wz' have been replaced by 1.819e-12\"Warning message in slot(family, \"linkinv\")(eta, extra = extra):\n"
     ]
    },
    {
     "name": "stderr",
     "output_type": "stream",
     "text": [
      "\"fitted probabilities numerically 0 or 1 occurred\"Warning message in tfun(mu = mu, y = y, w = w, res = FALSE, eta = eta, extra = extra):\n",
      "\"fitted values close to 0 or 1\"Warning message in slot(family, \"linkinv\")(eta, extra = extra):\n",
      "\"fitted probabilities numerically 0 or 1 occurred\"Warning message in tfun(mu = mu, y = y, w = w, res = FALSE, eta = eta, extra = extra):\n",
      "\"fitted values close to 0 or 1\"Warning message in slot(family, \"linkinv\")(eta, extra = extra):\n",
      "\"fitted probabilities numerically 0 or 1 occurred\"Warning message in tfun(mu = mu, y = y, w = w, res = FALSE, eta = eta, extra = extra):\n",
      "\"fitted values close to 0 or 1\"Warning message in slot(family, \"linkinv\")(eta, extra = extra):\n",
      "\"fitted probabilities numerically 0 or 1 occurred\"Warning message in tfun(mu = mu, y = y, w = w, res = FALSE, eta = eta, extra = extra):\n",
      "\"fitted values close to 0 or 1\"Warning message in slot(family, \"linkinv\")(eta, extra = extra):\n",
      "\"fitted probabilities numerically 0 or 1 occurred\"Warning message in tfun(mu = mu, y = y, w = w, res = FALSE, eta = eta, extra = extra):\n",
      "\"fitted values close to 0 or 1\"Warning message in slot(family, \"linkinv\")(eta, extra = extra):\n",
      "\"fitted probabilities numerically 0 or 1 occurred\"Warning message in tfun(mu = mu, y = y, w = w, res = FALSE, eta = eta, extra = extra):\n",
      "\"fitted values close to 0 or 1\"Warning message in slot(family, \"linkinv\")(eta, extra = extra):\n",
      "\"fitted probabilities numerically 0 or 1 occurred\"Warning message in tfun(mu = mu, y = y, w = w, res = FALSE, eta = eta, extra = extra):\n",
      "\"fitted values close to 0 or 1\"Warning message in slot(family, \"linkinv\")(eta, extra = extra):\n",
      "\"fitted probabilities numerically 0 or 1 occurred\"Warning message in tfun(mu = mu, y = y, w = w, res = FALSE, eta = eta, extra = extra):\n",
      "\"fitted values close to 0 or 1\"Warning message in slot(family, \"linkinv\")(eta, extra = extra):\n",
      "\"fitted probabilities numerically 0 or 1 occurred\"Warning message in tfun(mu = mu, y = y, w = w, res = FALSE, eta = eta, extra = extra):\n",
      "\"fitted values close to 0 or 1\"Warning message in slot(family, \"linkinv\")(eta, extra = extra):\n",
      "\"fitted probabilities numerically 0 or 1 occurred\"Warning message in tfun(mu = mu, y = y, w = w, res = FALSE, eta = eta, extra = extra):\n",
      "\"fitted values close to 0 or 1\"Warning message in slot(family, \"linkinv\")(eta, extra = extra):\n",
      "\"fitted probabilities numerically 0 or 1 occurred\"Warning message in tfun(mu = mu, y = y, w = w, res = FALSE, eta = eta, extra = extra):\n",
      "\"fitted values close to 0 or 1\"Warning message in slot(family, \"linkinv\")(eta, extra = extra):\n",
      "\"fitted probabilities numerically 0 or 1 occurred\"Warning message in tfun(mu = mu, y = y, w = w, res = FALSE, eta = eta, extra = extra):\n",
      "\"fitted values close to 0 or 1\"Warning message in slot(family, \"linkinv\")(eta, extra = extra):\n",
      "\"fitted probabilities numerically 0 or 1 occurred\"Warning message in tfun(mu = mu, y = y, w = w, res = FALSE, eta = eta, extra = extra):\n",
      "\"fitted values close to 0 or 1\"Warning message in slot(family, \"linkinv\")(eta, extra = extra):\n",
      "\"fitted probabilities numerically 0 or 1 occurred\"Warning message in tfun(mu = mu, y = y, w = w, res = FALSE, eta = eta, extra = extra):\n",
      "\"fitted values close to 0 or 1\"Warning message in slot(family, \"linkinv\")(eta, extra = extra):\n",
      "\"fitted probabilities numerically 0 or 1 occurred\"Warning message in tfun(mu = mu, y = y, w = w, res = FALSE, eta = eta, extra = extra):\n",
      "\"fitted values close to 0 or 1\"Warning message in slot(family, \"linkinv\")(eta, extra = extra):\n",
      "\"fitted probabilities numerically 0 or 1 occurred\"Warning message in tfun(mu = mu, y = y, w = w, res = FALSE, eta = eta, extra = extra):\n",
      "\"fitted values close to 0 or 1\"Warning message in slot(family, \"linkinv\")(eta, extra = extra):\n",
      "\"fitted probabilities numerically 0 or 1 occurred\"Warning message in tfun(mu = mu, y = y, w = w, res = FALSE, eta = eta, extra = extra):\n",
      "\"fitted values close to 0 or 1\"Warning message in slot(family, \"linkinv\")(eta, extra = extra):\n",
      "\"fitted probabilities numerically 0 or 1 occurred\"Warning message in tfun(mu = mu, y = y, w = w, res = FALSE, eta = eta, extra = extra):\n",
      "\"fitted values close to 0 or 1\"Warning message in checkwz(wz, M = M, trace = trace, wzepsilon = control$wzepsilon):\n",
      "\"32 diagonal elements of the working weights variable 'wz' have been replaced by 1.819e-12\"Warning message in slot(family, \"linkinv\")(eta, extra = extra):\n",
      "\"fitted probabilities numerically 0 or 1 occurred\"Warning message in tfun(mu = mu, y = y, w = w, res = FALSE, eta = eta, extra = extra):\n",
      "\"fitted values close to 0 or 1\"Warning message in slot(family, \"linkinv\")(eta, extra = extra):\n",
      "\"fitted probabilities numerically 0 or 1 occurred\"Warning message in tfun(mu = mu, y = y, w = w, res = FALSE, eta = eta, extra = extra):\n",
      "\"fitted values close to 0 or 1\"Warning message in slot(family, \"linkinv\")(eta, extra = extra):\n",
      "\"fitted probabilities numerically 0 or 1 occurred\"Warning message in tfun(mu = mu, y = y, w = w, res = FALSE, eta = eta, extra = extra):\n",
      "\"fitted values close to 0 or 1\"Warning message in slot(family, \"linkinv\")(eta, extra = extra):\n",
      "\"fitted probabilities numerically 0 or 1 occurred\"Warning message in tfun(mu = mu, y = y, w = w, res = FALSE, eta = eta, extra = extra):\n",
      "\"fitted values close to 0 or 1\"Warning message in slot(family, \"linkinv\")(eta, extra = extra):\n",
      "\"fitted probabilities numerically 0 or 1 occurred\"Warning message in tfun(mu = mu, y = y, w = w, res = FALSE, eta = eta, extra = extra):\n",
      "\"fitted values close to 0 or 1\"Warning message in slot(family, \"linkinv\")(eta, extra = extra):\n",
      "\"fitted probabilities numerically 0 or 1 occurred\"Warning message in tfun(mu = mu, y = y, w = w, res = FALSE, eta = eta, extra = extra):\n",
      "\"fitted values close to 0 or 1\"Warning message in slot(family, \"linkinv\")(eta, extra = extra):\n",
      "\"fitted probabilities numerically 0 or 1 occurred\"Warning message in tfun(mu = mu, y = y, w = w, res = FALSE, eta = eta, extra = extra):\n",
      "\"fitted values close to 0 or 1\"Warning message in slot(family, \"linkinv\")(eta, extra = extra):\n",
      "\"fitted probabilities numerically 0 or 1 occurred\"Warning message in tfun(mu = mu, y = y, w = w, res = FALSE, eta = eta, extra = extra):\n",
      "\"fitted values close to 0 or 1\"Warning message in slot(family, \"linkinv\")(eta, extra = extra):\n",
      "\"fitted probabilities numerically 0 or 1 occurred\"Warning message in tfun(mu = mu, y = y, w = w, res = FALSE, eta = eta, extra = extra):\n",
      "\"fitted values close to 0 or 1\"Warning message in slot(family, \"linkinv\")(eta, extra = extra):\n",
      "\"fitted probabilities numerically 0 or 1 occurred\"Warning message in tfun(mu = mu, y = y, w = w, res = FALSE, eta = eta, extra = extra):\n",
      "\"fitted values close to 0 or 1\"Warning message in slot(family, \"linkinv\")(eta, extra = extra):\n",
      "\"fitted probabilities numerically 0 or 1 occurred\"Warning message in tfun(mu = mu, y = y, w = w, res = FALSE, eta = eta, extra = extra):\n",
      "\"fitted values close to 0 or 1\"Warning message in slot(family, \"linkinv\")(eta, extra = extra):\n",
      "\"fitted probabilities numerically 0 or 1 occurred\"Warning message in tfun(mu = mu, y = y, w = w, res = FALSE, eta = eta, extra = extra):\n",
      "\"fitted values close to 0 or 1\"Warning message in slot(family, \"linkinv\")(eta, extra = extra):\n",
      "\"fitted probabilities numerically 0 or 1 occurred\"Warning message in tfun(mu = mu, y = y, w = w, res = FALSE, eta = eta, extra = extra):\n",
      "\"fitted values close to 0 or 1\"Warning message in slot(family, \"linkinv\")(eta, extra = extra):\n",
      "\"fitted probabilities numerically 0 or 1 occurred\"Warning message in tfun(mu = mu, y = y, w = w, res = FALSE, eta = eta, extra = extra):\n",
      "\"fitted values close to 0 or 1\"Warning message in slot(family, \"linkinv\")(eta, extra = extra):\n",
      "\"fitted probabilities numerically 0 or 1 occurred\"Warning message in tfun(mu = mu, y = y, w = w, res = FALSE, eta = eta, extra = extra):\n",
      "\"fitted values close to 0 or 1\"Warning message in slot(family, \"linkinv\")(eta, extra = extra):\n",
      "\"fitted probabilities numerically 0 or 1 occurred\"Warning message in tfun(mu = mu, y = y, w = w, res = FALSE, eta = eta, extra = extra):\n",
      "\"fitted values close to 0 or 1\"Warning message in slot(family, \"linkinv\")(eta, extra = extra):\n",
      "\"fitted probabilities numerically 0 or 1 occurred\"Warning message in tfun(mu = mu, y = y, w = w, res = FALSE, eta = eta, extra = extra):\n"
     ]
    },
    {
     "name": "stderr",
     "output_type": "stream",
     "text": [
      "\"fitted values close to 0 or 1\"Warning message in slot(family, \"linkinv\")(eta, extra = extra):\n",
      "\"fitted probabilities numerically 0 or 1 occurred\"Warning message in tfun(mu = mu, y = y, w = w, res = FALSE, eta = eta, extra = extra):\n",
      "\"fitted values close to 0 or 1\"Warning message in slot(family, \"linkinv\")(eta, extra = extra):\n",
      "\"fitted probabilities numerically 0 or 1 occurred\"Warning message in tfun(mu = mu, y = y, w = w, res = FALSE, eta = eta, extra = extra):\n",
      "\"fitted values close to 0 or 1\"Warning message in checkwz(wz, M = M, trace = trace, wzepsilon = control$wzepsilon):\n",
      "\"32 diagonal elements of the working weights variable 'wz' have been replaced by 1.819e-12\"Warning message in slot(family, \"linkinv\")(eta, extra = extra):\n",
      "\"fitted probabilities numerically 0 or 1 occurred\"Warning message in tfun(mu = mu, y = y, w = w, res = FALSE, eta = eta, extra = extra):\n",
      "\"fitted values close to 0 or 1\"Warning message in slot(family, \"linkinv\")(eta, extra = extra):\n",
      "\"fitted probabilities numerically 0 or 1 occurred\"Warning message in tfun(mu = mu, y = y, w = w, res = FALSE, eta = eta, extra = extra):\n",
      "\"fitted values close to 0 or 1\"Warning message in slot(family, \"linkinv\")(eta, extra = extra):\n",
      "\"fitted probabilities numerically 0 or 1 occurred\"Warning message in tfun(mu = mu, y = y, w = w, res = FALSE, eta = eta, extra = extra):\n",
      "\"fitted values close to 0 or 1\"Warning message in slot(family, \"linkinv\")(eta, extra = extra):\n",
      "\"fitted probabilities numerically 0 or 1 occurred\"Warning message in tfun(mu = mu, y = y, w = w, res = FALSE, eta = eta, extra = extra):\n",
      "\"fitted values close to 0 or 1\"Warning message in slot(family, \"linkinv\")(eta, extra = extra):\n",
      "\"fitted probabilities numerically 0 or 1 occurred\"Warning message in tfun(mu = mu, y = y, w = w, res = FALSE, eta = eta, extra = extra):\n",
      "\"fitted values close to 0 or 1\"Warning message in slot(family, \"linkinv\")(eta, extra = extra):\n",
      "\"fitted probabilities numerically 0 or 1 occurred\"Warning message in tfun(mu = mu, y = y, w = w, res = FALSE, eta = eta, extra = extra):\n",
      "\"fitted values close to 0 or 1\"Warning message in slot(family, \"linkinv\")(eta, extra = extra):\n",
      "\"fitted probabilities numerically 0 or 1 occurred\"Warning message in tfun(mu = mu, y = y, w = w, res = FALSE, eta = eta, extra = extra):\n",
      "\"fitted values close to 0 or 1\"Warning message in slot(family, \"linkinv\")(eta, extra = extra):\n",
      "\"fitted probabilities numerically 0 or 1 occurred\"Warning message in tfun(mu = mu, y = y, w = w, res = FALSE, eta = eta, extra = extra):\n",
      "\"fitted values close to 0 or 1\"Warning message in slot(family, \"linkinv\")(eta, extra = extra):\n",
      "\"fitted probabilities numerically 0 or 1 occurred\"Warning message in tfun(mu = mu, y = y, w = w, res = FALSE, eta = eta, extra = extra):\n",
      "\"fitted values close to 0 or 1\"Warning message in slot(family, \"linkinv\")(eta, extra = extra):\n",
      "\"fitted probabilities numerically 0 or 1 occurred\"Warning message in tfun(mu = mu, y = y, w = w, res = FALSE, eta = eta, extra = extra):\n",
      "\"fitted values close to 0 or 1\"Warning message in slot(family, \"linkinv\")(eta, extra = extra):\n",
      "\"fitted probabilities numerically 0 or 1 occurred\"Warning message in tfun(mu = mu, y = y, w = w, res = FALSE, eta = eta, extra = extra):\n",
      "\"fitted values close to 0 or 1\"Warning message in slot(family, \"linkinv\")(eta, extra = extra):\n",
      "\"fitted probabilities numerically 0 or 1 occurred\"Warning message in tfun(mu = mu, y = y, w = w, res = FALSE, eta = eta, extra = extra):\n",
      "\"fitted values close to 0 or 1\"Warning message in slot(family, \"linkinv\")(eta, extra = extra):\n",
      "\"fitted probabilities numerically 0 or 1 occurred\"Warning message in tfun(mu = mu, y = y, w = w, res = FALSE, eta = eta, extra = extra):\n",
      "\"fitted values close to 0 or 1\"Warning message in slot(family, \"linkinv\")(eta, extra = extra):\n",
      "\"fitted probabilities numerically 0 or 1 occurred\"Warning message in tfun(mu = mu, y = y, w = w, res = FALSE, eta = eta, extra = extra):\n",
      "\"fitted values close to 0 or 1\"Warning message in slot(family, \"linkinv\")(eta, extra = extra):\n",
      "\"fitted probabilities numerically 0 or 1 occurred\"Warning message in tfun(mu = mu, y = y, w = w, res = FALSE, eta = eta, extra = extra):\n",
      "\"fitted values close to 0 or 1\"Warning message in slot(family, \"linkinv\")(eta, extra = extra):\n",
      "\"fitted probabilities numerically 0 or 1 occurred\"Warning message in tfun(mu = mu, y = y, w = w, res = FALSE, eta = eta, extra = extra):\n",
      "\"fitted values close to 0 or 1\"Warning message in slot(family, \"linkinv\")(eta, extra = extra):\n",
      "\"fitted probabilities numerically 0 or 1 occurred\"Warning message in tfun(mu = mu, y = y, w = w, res = FALSE, eta = eta, extra = extra):\n",
      "\"fitted values close to 0 or 1\"Warning message in slot(family, \"linkinv\")(eta, extra = extra):\n",
      "\"fitted probabilities numerically 0 or 1 occurred\"Warning message in tfun(mu = mu, y = y, w = w, res = FALSE, eta = eta, extra = extra):\n",
      "\"fitted values close to 0 or 1\"Warning message in slot(family, \"linkinv\")(eta, extra = extra):\n",
      "\"fitted probabilities numerically 0 or 1 occurred\"Warning message in tfun(mu = mu, y = y, w = w, res = FALSE, eta = eta, extra = extra):\n",
      "\"fitted values close to 0 or 1\"Warning message in slot(family, \"linkinv\")(eta, extra = extra):\n",
      "\"fitted probabilities numerically 0 or 1 occurred\"Warning message in tfun(mu = mu, y = y, w = w, res = FALSE, eta = eta, extra = extra):\n",
      "\"fitted values close to 0 or 1\"Warning message in vglm.fitter(x = x, y = y, w = w, offset = offset, Xm2 = Xm2, :\n",
      "\"iterations terminated because half-step sizes are very small\"Warning message in vglm.fitter(x = x, y = y, w = w, offset = offset, Xm2 = Xm2, :\n",
      "\"some quantities such as z, residuals, SEs may be inaccurate due to convergence at a half-step\""
     ]
    },
    {
     "data": {
      "text/plain": [
       "\n",
       "Call:\n",
       "vglm(formula = Species ~ ., family = \"multinomial\", data = datatrain)\n",
       "\n",
       "\n",
       "Pearson residuals:\n",
       "                        Min        1Q     Median       3Q     Max\n",
       "log(mu[,1]/mu[,3]) -0.02579 -0.001040  5.313e-13 0.003001 0.02556\n",
       "log(mu[,2]/mu[,3]) -0.50131 -0.004555 -2.259e-05 0.001302 1.20400\n",
       "\n",
       "Coefficients: \n",
       "              Estimate Std. Error z value Pr(>|z|)\n",
       "(Intercept):1   85.750    203.410   0.422    0.673\n",
       "(Intercept):2   81.084     73.110   1.109    0.267\n",
       "SepalLength:1    3.144     53.916   0.058    0.954\n",
       "SepalLength:2    2.629      4.198   0.626    0.531\n",
       "SepalWidth:1    23.289     41.971   0.555    0.579\n",
       "SepalWidth:2    19.741     21.679   0.911    0.363\n",
       "PetalLength:1  -21.791     47.588  -0.458    0.647\n",
       "PetalLength:2  -15.925     14.311  -1.113    0.266\n",
       "PetalWidth:1   -46.236    107.562  -0.430    0.667\n",
       "PetalWidth:2   -43.321     39.213  -1.105    0.269\n",
       "\n",
       "Number of linear predictors:  2 \n",
       "\n",
       "Names of linear predictors: log(mu[,1]/mu[,3]), log(mu[,2]/mu[,3])\n",
       "\n",
       "Residual deviance: 3.08 on 170 degrees of freedom\n",
       "\n",
       "Log-likelihood: -1.54 on 170 degrees of freedom\n",
       "\n",
       "Number of iterations: 17 \n",
       "\n",
       "Reference group is level  3  of the response"
      ]
     },
     "metadata": {},
     "output_type": "display_data"
    }
   ],
   "source": [
    "library(VGAM)\n",
    "#Build the model\n",
    "model1<-vglm(Species ~ .,family = \"multinomial\",data=datatrain)\n",
    "#Summarize the model\n",
    "summary(model1)"
   ]
  },
  {
   "cell_type": "code",
   "execution_count": 6,
   "metadata": {},
   "outputs": [
    {
     "name": "stderr",
     "output_type": "stream",
     "text": [
      "Warning message in object@family@linkinv(predictor, extra = new.extra):\n",
      "\"fitted probabilities numerically 0 or 1 occurred\""
     ]
    },
    {
     "data": {
      "text/plain": [
       "Confusion Matrix and Statistics\n",
       "\n",
       "                 \n",
       "                  Iris-setosa Iris-versicolor Iris-virginica\n",
       "  Iris-setosa              30               0              0\n",
       "  Iris-versicolor           0              29              0\n",
       "  Iris-virginica            0               1             30\n",
       "\n",
       "Overall Statistics\n",
       "                                          \n",
       "               Accuracy : 0.9889          \n",
       "                 95% CI : (0.9396, 0.9997)\n",
       "    No Information Rate : 0.3333          \n",
       "    P-Value [Acc > NIR] : < 2.2e-16       \n",
       "                                          \n",
       "                  Kappa : 0.9833          \n",
       " Mcnemar's Test P-Value : NA              \n",
       "\n",
       "Statistics by Class:\n",
       "\n",
       "                     Class: Iris-setosa Class: Iris-versicolor\n",
       "Sensitivity                      1.0000                 0.9667\n",
       "Specificity                      1.0000                 1.0000\n",
       "Pos Pred Value                   1.0000                 1.0000\n",
       "Neg Pred Value                   1.0000                 0.9836\n",
       "Prevalence                       0.3333                 0.3333\n",
       "Detection Rate                   0.3333                 0.3222\n",
       "Detection Prevalence             0.3333                 0.3222\n",
       "Balanced Accuracy                1.0000                 0.9833\n",
       "                     Class: Iris-virginica\n",
       "Sensitivity                         1.0000\n",
       "Specificity                         0.9833\n",
       "Pos Pred Value                      0.9677\n",
       "Neg Pred Value                      1.0000\n",
       "Prevalence                          0.3333\n",
       "Detection Rate                      0.3333\n",
       "Detection Prevalence                0.3444\n",
       "Balanced Accuracy                   0.9917"
      ]
     },
     "metadata": {},
     "output_type": "display_data"
    }
   ],
   "source": [
    "#Predict datatrain using the model\n",
    "x<-datatrain[,1:4]\n",
    "y<-datatrain[,5]\n",
    "probability<-predict(model1,x,type=\"response\")\n",
    "datatrain$pred_lr<-apply(probability,1,which.max)\n",
    "datatrain$pred_lr<-apply(probability,1,which.max)\n",
    "datatrain$pred_lr[which(datatrain$pred_lr==\"1\")]<-levels(datatrain$Species)[1]\n",
    "datatrain$pred_lr[which(datatrain$pred_lr==\"2\")]<-levels(datatrain$Species)[2]\n",
    "datatrain$pred_lr[which(datatrain$pred_lr==\"3\")]<-levels(datatrain$Species)[3]\n",
    "\n",
    "#Accuracy of the model\n",
    "mtab<-table(datatrain$pred_lr,datatrain$Species)\n",
    "library(caret)\n",
    "confusionMatrix(mtab)"
   ]
  },
  {
   "cell_type": "code",
   "execution_count": 7,
   "metadata": {},
   "outputs": [
    {
     "name": "stderr",
     "output_type": "stream",
     "text": [
      "Warning message in object@family@linkinv(predictor, extra = new.extra):\n",
      "\"fitted probabilities numerically 0 or 1 occurred\""
     ]
    },
    {
     "data": {
      "text/plain": [
       "Confusion Matrix and Statistics\n",
       "\n",
       "                 \n",
       "                  Iris-setosa Iris-versicolor Iris-virginica\n",
       "  Iris-setosa              20               0              0\n",
       "  Iris-versicolor           0              20              3\n",
       "  Iris-virginica            0               0             17\n",
       "\n",
       "Overall Statistics\n",
       "                                          \n",
       "               Accuracy : 0.95            \n",
       "                 95% CI : (0.8608, 0.9896)\n",
       "    No Information Rate : 0.3333          \n",
       "    P-Value [Acc > NIR] : < 2.2e-16       \n",
       "                                          \n",
       "                  Kappa : 0.925           \n",
       " Mcnemar's Test P-Value : NA              \n",
       "\n",
       "Statistics by Class:\n",
       "\n",
       "                     Class: Iris-setosa Class: Iris-versicolor\n",
       "Sensitivity                      1.0000                 1.0000\n",
       "Specificity                      1.0000                 0.9250\n",
       "Pos Pred Value                   1.0000                 0.8696\n",
       "Neg Pred Value                   1.0000                 1.0000\n",
       "Prevalence                       0.3333                 0.3333\n",
       "Detection Rate                   0.3333                 0.3333\n",
       "Detection Prevalence             0.3333                 0.3833\n",
       "Balanced Accuracy                1.0000                 0.9625\n",
       "                     Class: Iris-virginica\n",
       "Sensitivity                         0.8500\n",
       "Specificity                         1.0000\n",
       "Pos Pred Value                      1.0000\n",
       "Neg Pred Value                      0.9302\n",
       "Prevalence                          0.3333\n",
       "Detection Rate                      0.2833\n",
       "Detection Prevalence                0.2833\n",
       "Balanced Accuracy                   0.9250"
      ]
     },
     "metadata": {},
     "output_type": "display_data"
    }
   ],
   "source": [
    "#Predict data \"validation\" using the model\n",
    "x<-validation[,1:4]\n",
    "y<-validation[,5]\n",
    "probability<-predict(model1,x,type=\"response\")\n",
    "validation$pred_lr<-apply(probability,1,which.max)\n",
    "validation$pred_lr<-apply(probability,1,which.max)\n",
    "validation$pred_lr[which(validation$pred_lr==\"1\")]<-levels(validation$Species)[1]\n",
    "validation$pred_lr[which(validation$pred_lr==\"2\")]<-levels(validation$Species)[2]\n",
    "validation$pred_lr[which(validation$pred_lr==\"3\")]<-levels(validation$Species)[3]\n",
    "\n",
    "#Accuracy of the model\n",
    "mtab<-table(validation$pred_lr,validation$Species)\n",
    "library(caret)\n",
    "confusionMatrix(mtab)"
   ]
  },
  {
   "cell_type": "markdown",
   "metadata": {},
   "source": [
    "### 3.2 Linear Discriminant Analysis (LDA)"
   ]
  },
  {
   "cell_type": "code",
   "execution_count": 8,
   "metadata": {},
   "outputs": [
    {
     "data": {
      "text/plain": [
       "        Length Class  Mode     \n",
       "prior    3     -none- numeric  \n",
       "counts   3     -none- numeric  \n",
       "means   12     -none- numeric  \n",
       "scaling  8     -none- numeric  \n",
       "lev      3     -none- character\n",
       "svd      2     -none- numeric  \n",
       "N        1     -none- numeric  \n",
       "call     3     -none- call     \n",
       "terms    3     terms  call     \n",
       "xlevels  0     -none- list     "
      ]
     },
     "metadata": {},
     "output_type": "display_data"
    }
   ],
   "source": [
    "library(MASS)\n",
    "#Build the model\n",
    "model2<-lda(Species~SepalLength+SepalWidth+PetalLength+PetalWidth,data=datatrain)\n",
    "#Summarize the model\n",
    "summary(model2)"
   ]
  },
  {
   "cell_type": "code",
   "execution_count": 9,
   "metadata": {},
   "outputs": [
    {
     "data": {
      "text/plain": [
       "Confusion Matrix and Statistics\n",
       "\n",
       "                 \n",
       "                  Iris-setosa Iris-versicolor Iris-virginica\n",
       "  Iris-setosa              30               0              0\n",
       "  Iris-versicolor           0              28              0\n",
       "  Iris-virginica            0               2             30\n",
       "\n",
       "Overall Statistics\n",
       "                                         \n",
       "               Accuracy : 0.9778         \n",
       "                 95% CI : (0.922, 0.9973)\n",
       "    No Information Rate : 0.3333         \n",
       "    P-Value [Acc > NIR] : < 2.2e-16      \n",
       "                                         \n",
       "                  Kappa : 0.9667         \n",
       " Mcnemar's Test P-Value : NA             \n",
       "\n",
       "Statistics by Class:\n",
       "\n",
       "                     Class: Iris-setosa Class: Iris-versicolor\n",
       "Sensitivity                      1.0000                 0.9333\n",
       "Specificity                      1.0000                 1.0000\n",
       "Pos Pred Value                   1.0000                 1.0000\n",
       "Neg Pred Value                   1.0000                 0.9677\n",
       "Prevalence                       0.3333                 0.3333\n",
       "Detection Rate                   0.3333                 0.3111\n",
       "Detection Prevalence             0.3333                 0.3111\n",
       "Balanced Accuracy                1.0000                 0.9667\n",
       "                     Class: Iris-virginica\n",
       "Sensitivity                         1.0000\n",
       "Specificity                         0.9667\n",
       "Pos Pred Value                      0.9375\n",
       "Neg Pred Value                      1.0000\n",
       "Prevalence                          0.3333\n",
       "Detection Rate                      0.3333\n",
       "Detection Prevalence                0.3556\n",
       "Balanced Accuracy                   0.9833"
      ]
     },
     "metadata": {},
     "output_type": "display_data"
    }
   ],
   "source": [
    "#Predict datatrain using the model\n",
    "x<-datatrain[,1:4]\n",
    "y<-datatrain[,5]\n",
    "\n",
    "#Predict using the model\n",
    "datatrain$pred_lda<-predict(model2,x)$class\n",
    "\n",
    "#Accuracy of the model\n",
    "mtab<-table(datatrain$pred_lda,datatrain$Species)\n",
    "confusionMatrix(mtab)"
   ]
  },
  {
   "cell_type": "code",
   "execution_count": 10,
   "metadata": {},
   "outputs": [
    {
     "data": {
      "text/plain": [
       "Confusion Matrix and Statistics\n",
       "\n",
       "                 \n",
       "                  Iris-setosa Iris-versicolor Iris-virginica\n",
       "  Iris-setosa              20               0              0\n",
       "  Iris-versicolor           0              20              1\n",
       "  Iris-virginica            0               0             19\n",
       "\n",
       "Overall Statistics\n",
       "                                          \n",
       "               Accuracy : 0.9833          \n",
       "                 95% CI : (0.9106, 0.9996)\n",
       "    No Information Rate : 0.3333          \n",
       "    P-Value [Acc > NIR] : < 2.2e-16       \n",
       "                                          \n",
       "                  Kappa : 0.975           \n",
       " Mcnemar's Test P-Value : NA              \n",
       "\n",
       "Statistics by Class:\n",
       "\n",
       "                     Class: Iris-setosa Class: Iris-versicolor\n",
       "Sensitivity                      1.0000                 1.0000\n",
       "Specificity                      1.0000                 0.9750\n",
       "Pos Pred Value                   1.0000                 0.9524\n",
       "Neg Pred Value                   1.0000                 1.0000\n",
       "Prevalence                       0.3333                 0.3333\n",
       "Detection Rate                   0.3333                 0.3333\n",
       "Detection Prevalence             0.3333                 0.3500\n",
       "Balanced Accuracy                1.0000                 0.9875\n",
       "                     Class: Iris-virginica\n",
       "Sensitivity                         0.9500\n",
       "Specificity                         1.0000\n",
       "Pos Pred Value                      1.0000\n",
       "Neg Pred Value                      0.9756\n",
       "Prevalence                          0.3333\n",
       "Detection Rate                      0.3167\n",
       "Detection Prevalence                0.3167\n",
       "Balanced Accuracy                   0.9750"
      ]
     },
     "metadata": {},
     "output_type": "display_data"
    }
   ],
   "source": [
    "#Predict datatrain using the model\n",
    "x<-validation[,1:4]\n",
    "y<-validation[,5]\n",
    "\n",
    "#Predict using the model\n",
    "validation$pred_lda<-predict(model2,x)$class\n",
    "\n",
    "#Accuracy of the model\n",
    "mtab<-table(validation$pred_lda,validation$Species)\n",
    "confusionMatrix(mtab)"
   ]
  },
  {
   "cell_type": "markdown",
   "metadata": {},
   "source": [
    "### 3.3 Support Vector Machine (SVM)"
   ]
  },
  {
   "cell_type": "code",
   "execution_count": 11,
   "metadata": {},
   "outputs": [
    {
     "name": "stderr",
     "output_type": "stream",
     "text": [
      "\n",
      "Attaching package: 'kernlab'\n",
      "\n",
      "The following object is masked from 'package:VGAM':\n",
      "\n",
      "    nvar\n",
      "\n",
      "The following object is masked from 'package:ggplot2':\n",
      "\n",
      "    alpha\n",
      "\n"
     ]
    },
    {
     "data": {
      "text/plain": [
       "Length  Class   Mode \n",
       "     1   ksvm     S4 "
      ]
     },
     "metadata": {},
     "output_type": "display_data"
    }
   ],
   "source": [
    "library(kernlab)\n",
    "#Build the model\n",
    "model3<-ksvm(Species~SepalLength+SepalWidth+PetalLength+PetalWidth,data=datatrain)\n",
    "#Summarize the model\n",
    "summary(model3)\n"
   ]
  },
  {
   "cell_type": "code",
   "execution_count": 12,
   "metadata": {},
   "outputs": [
    {
     "data": {
      "text/plain": [
       "Confusion Matrix and Statistics\n",
       "\n",
       "                 \n",
       "                  Iris-setosa Iris-versicolor Iris-virginica\n",
       "  Iris-setosa              30               0              0\n",
       "  Iris-versicolor           0              29              1\n",
       "  Iris-virginica            0               1             29\n",
       "\n",
       "Overall Statistics\n",
       "                                         \n",
       "               Accuracy : 0.9778         \n",
       "                 95% CI : (0.922, 0.9973)\n",
       "    No Information Rate : 0.3333         \n",
       "    P-Value [Acc > NIR] : < 2.2e-16      \n",
       "                                         \n",
       "                  Kappa : 0.9667         \n",
       " Mcnemar's Test P-Value : NA             \n",
       "\n",
       "Statistics by Class:\n",
       "\n",
       "                     Class: Iris-setosa Class: Iris-versicolor\n",
       "Sensitivity                      1.0000                 0.9667\n",
       "Specificity                      1.0000                 0.9833\n",
       "Pos Pred Value                   1.0000                 0.9667\n",
       "Neg Pred Value                   1.0000                 0.9833\n",
       "Prevalence                       0.3333                 0.3333\n",
       "Detection Rate                   0.3333                 0.3222\n",
       "Detection Prevalence             0.3333                 0.3333\n",
       "Balanced Accuracy                1.0000                 0.9750\n",
       "                     Class: Iris-virginica\n",
       "Sensitivity                         0.9667\n",
       "Specificity                         0.9833\n",
       "Pos Pred Value                      0.9667\n",
       "Neg Pred Value                      0.9833\n",
       "Prevalence                          0.3333\n",
       "Detection Rate                      0.3222\n",
       "Detection Prevalence                0.3333\n",
       "Balanced Accuracy                   0.9750"
      ]
     },
     "metadata": {},
     "output_type": "display_data"
    }
   ],
   "source": [
    "#Predict datatrain using the model\n",
    "x<-datatrain[,1:4]\n",
    "y<-datatrain[,5]\n",
    "#Predict using the model\n",
    "datatrain$pred_svm<-predict(model3,x,type=\"response\")\n",
    "\n",
    "#Accuracy of the model\n",
    "mtab<-table(datatrain$pred_svm,datatrain$Species)\n",
    "confusionMatrix(mtab)"
   ]
  },
  {
   "cell_type": "code",
   "execution_count": 13,
   "metadata": {},
   "outputs": [
    {
     "data": {
      "text/plain": [
       "Confusion Matrix and Statistics\n",
       "\n",
       "                 \n",
       "                  Iris-setosa Iris-versicolor Iris-virginica\n",
       "  Iris-setosa              20               0              0\n",
       "  Iris-versicolor           0              20              3\n",
       "  Iris-virginica            0               0             17\n",
       "\n",
       "Overall Statistics\n",
       "                                          \n",
       "               Accuracy : 0.95            \n",
       "                 95% CI : (0.8608, 0.9896)\n",
       "    No Information Rate : 0.3333          \n",
       "    P-Value [Acc > NIR] : < 2.2e-16       \n",
       "                                          \n",
       "                  Kappa : 0.925           \n",
       " Mcnemar's Test P-Value : NA              \n",
       "\n",
       "Statistics by Class:\n",
       "\n",
       "                     Class: Iris-setosa Class: Iris-versicolor\n",
       "Sensitivity                      1.0000                 1.0000\n",
       "Specificity                      1.0000                 0.9250\n",
       "Pos Pred Value                   1.0000                 0.8696\n",
       "Neg Pred Value                   1.0000                 1.0000\n",
       "Prevalence                       0.3333                 0.3333\n",
       "Detection Rate                   0.3333                 0.3333\n",
       "Detection Prevalence             0.3333                 0.3833\n",
       "Balanced Accuracy                1.0000                 0.9625\n",
       "                     Class: Iris-virginica\n",
       "Sensitivity                         0.8500\n",
       "Specificity                         1.0000\n",
       "Pos Pred Value                      1.0000\n",
       "Neg Pred Value                      0.9302\n",
       "Prevalence                          0.3333\n",
       "Detection Rate                      0.2833\n",
       "Detection Prevalence                0.2833\n",
       "Balanced Accuracy                   0.9250"
      ]
     },
     "metadata": {},
     "output_type": "display_data"
    }
   ],
   "source": [
    "#Predict datatrain using the model\n",
    "x<-validation[,1:4]\n",
    "y<-validation[,5]\n",
    "#Predict using the model\n",
    "validation$pred_svm<-predict(model3,x,type=\"response\")\n",
    "\n",
    "#Accuracy of the model\n",
    "mtab<-table(validation$pred_svm,validation$Species)\n",
    "confusionMatrix(mtab)"
   ]
  },
  {
   "cell_type": "markdown",
   "metadata": {},
   "source": [
    "### 3.4 k-Nearest Neighbors (KNN)"
   ]
  },
  {
   "cell_type": "code",
   "execution_count": 15,
   "metadata": {},
   "outputs": [
    {
     "data": {
      "text/plain": [
       "        Length Class  Mode   \n",
       "learn   2      -none- list   \n",
       "k       1      -none- numeric\n",
       "terms   3      terms  call   \n",
       "xlevels 0      -none- list   \n",
       "theDots 0      -none- list   "
      ]
     },
     "metadata": {},
     "output_type": "display_data"
    }
   ],
   "source": [
    "library(caret)\n",
    "#Build the model\n",
    "model4<-knn3(Species~SepalLength+SepalWidth+PetalLength+PetalWidth,data=datatrain,k=5)\n",
    "#Summarize the model\n",
    "summary(model4)\n"
   ]
  },
  {
   "cell_type": "code",
   "execution_count": 16,
   "metadata": {},
   "outputs": [
    {
     "data": {
      "text/plain": [
       "Confusion Matrix and Statistics\n",
       "\n",
       "                 \n",
       "                  Iris-setosa Iris-versicolor Iris-virginica\n",
       "  Iris-setosa              30               0              0\n",
       "  Iris-versicolor           0              29              2\n",
       "  Iris-virginica            0               1             28\n",
       "\n",
       "Overall Statistics\n",
       "                                          \n",
       "               Accuracy : 0.9667          \n",
       "                 95% CI : (0.9057, 0.9931)\n",
       "    No Information Rate : 0.3333          \n",
       "    P-Value [Acc > NIR] : < 2.2e-16       \n",
       "                                          \n",
       "                  Kappa : 0.95            \n",
       " Mcnemar's Test P-Value : NA              \n",
       "\n",
       "Statistics by Class:\n",
       "\n",
       "                     Class: Iris-setosa Class: Iris-versicolor\n",
       "Sensitivity                      1.0000                 0.9667\n",
       "Specificity                      1.0000                 0.9667\n",
       "Pos Pred Value                   1.0000                 0.9355\n",
       "Neg Pred Value                   1.0000                 0.9831\n",
       "Prevalence                       0.3333                 0.3333\n",
       "Detection Rate                   0.3333                 0.3222\n",
       "Detection Prevalence             0.3333                 0.3444\n",
       "Balanced Accuracy                1.0000                 0.9667\n",
       "                     Class: Iris-virginica\n",
       "Sensitivity                         0.9333\n",
       "Specificity                         0.9833\n",
       "Pos Pred Value                      0.9655\n",
       "Neg Pred Value                      0.9672\n",
       "Prevalence                          0.3333\n",
       "Detection Rate                      0.3111\n",
       "Detection Prevalence                0.3222\n",
       "Balanced Accuracy                   0.9583"
      ]
     },
     "metadata": {},
     "output_type": "display_data"
    }
   ],
   "source": [
    "#Predict datatrain using the model\n",
    "x<-datatrain[,1:4]\n",
    "y<-datatrain[,5]\n",
    "#Predict using the model\n",
    "datatrain$pred_knn<-predict(model4,x,type=\"class\")\n",
    "\n",
    "#Accuracy of the model\n",
    "mtab<-table(datatrain$pred_knn,datatrain$Species)\n",
    "confusionMatrix(mtab)"
   ]
  },
  {
   "cell_type": "code",
   "execution_count": 17,
   "metadata": {},
   "outputs": [
    {
     "data": {
      "text/plain": [
       "Confusion Matrix and Statistics\n",
       "\n",
       "                 \n",
       "                  Iris-setosa Iris-versicolor Iris-virginica\n",
       "  Iris-setosa              20               0              0\n",
       "  Iris-versicolor           0              19              1\n",
       "  Iris-virginica            0               1             19\n",
       "\n",
       "Overall Statistics\n",
       "                                          \n",
       "               Accuracy : 0.9667          \n",
       "                 95% CI : (0.8847, 0.9959)\n",
       "    No Information Rate : 0.3333          \n",
       "    P-Value [Acc > NIR] : < 2.2e-16       \n",
       "                                          \n",
       "                  Kappa : 0.95            \n",
       " Mcnemar's Test P-Value : NA              \n",
       "\n",
       "Statistics by Class:\n",
       "\n",
       "                     Class: Iris-setosa Class: Iris-versicolor\n",
       "Sensitivity                      1.0000                 0.9500\n",
       "Specificity                      1.0000                 0.9750\n",
       "Pos Pred Value                   1.0000                 0.9500\n",
       "Neg Pred Value                   1.0000                 0.9750\n",
       "Prevalence                       0.3333                 0.3333\n",
       "Detection Rate                   0.3333                 0.3167\n",
       "Detection Prevalence             0.3333                 0.3333\n",
       "Balanced Accuracy                1.0000                 0.9625\n",
       "                     Class: Iris-virginica\n",
       "Sensitivity                         0.9500\n",
       "Specificity                         0.9750\n",
       "Pos Pred Value                      0.9500\n",
       "Neg Pred Value                      0.9750\n",
       "Prevalence                          0.3333\n",
       "Detection Rate                      0.3167\n",
       "Detection Prevalence                0.3333\n",
       "Balanced Accuracy                   0.9625"
      ]
     },
     "metadata": {},
     "output_type": "display_data"
    }
   ],
   "source": [
    "#Predict datatrain using the model\n",
    "x<-validation[,1:4]\n",
    "y<-validation[,5]\n",
    "#Predict using the model\n",
    "validation$pred_knn<-predict(model4,x,type=\"class\")\n",
    "\n",
    "#Accuracy of the model\n",
    "mtab<-table(validation$pred_knn,validation$Species)\n",
    "confusionMatrix(mtab)\n"
   ]
  },
  {
   "cell_type": "markdown",
   "metadata": {},
   "source": [
    "### 3.5 Naive Bayes"
   ]
  },
  {
   "cell_type": "code",
   "execution_count": 18,
   "metadata": {},
   "outputs": [
    {
     "data": {
      "text/plain": [
       "        Length Class  Mode     \n",
       "apriori 3      table  numeric  \n",
       "tables  4      -none- list     \n",
       "levels  3      -none- character\n",
       "call    5      -none- call     "
      ]
     },
     "metadata": {},
     "output_type": "display_data"
    }
   ],
   "source": [
    "library(e1071)\n",
    "#Build the model\n",
    "model5<-naiveBayes(Species~SepalLength+SepalWidth+PetalLength+PetalWidth,data=datatrain,k=5)\n",
    "#Summarize the model\n",
    "summary(model5)"
   ]
  },
  {
   "cell_type": "code",
   "execution_count": 19,
   "metadata": {},
   "outputs": [
    {
     "data": {
      "text/plain": [
       "Confusion Matrix and Statistics\n",
       "\n",
       "                 \n",
       "                  Iris-setosa Iris-versicolor Iris-virginica\n",
       "  Iris-setosa              30               0              0\n",
       "  Iris-versicolor           0              28              2\n",
       "  Iris-virginica            0               2             28\n",
       "\n",
       "Overall Statistics\n",
       "                                          \n",
       "               Accuracy : 0.9556          \n",
       "                 95% CI : (0.8901, 0.9878)\n",
       "    No Information Rate : 0.3333          \n",
       "    P-Value [Acc > NIR] : < 2.2e-16       \n",
       "                                          \n",
       "                  Kappa : 0.9333          \n",
       " Mcnemar's Test P-Value : NA              \n",
       "\n",
       "Statistics by Class:\n",
       "\n",
       "                     Class: Iris-setosa Class: Iris-versicolor\n",
       "Sensitivity                      1.0000                 0.9333\n",
       "Specificity                      1.0000                 0.9667\n",
       "Pos Pred Value                   1.0000                 0.9333\n",
       "Neg Pred Value                   1.0000                 0.9667\n",
       "Prevalence                       0.3333                 0.3333\n",
       "Detection Rate                   0.3333                 0.3111\n",
       "Detection Prevalence             0.3333                 0.3333\n",
       "Balanced Accuracy                1.0000                 0.9500\n",
       "                     Class: Iris-virginica\n",
       "Sensitivity                         0.9333\n",
       "Specificity                         0.9667\n",
       "Pos Pred Value                      0.9333\n",
       "Neg Pred Value                      0.9667\n",
       "Prevalence                          0.3333\n",
       "Detection Rate                      0.3111\n",
       "Detection Prevalence                0.3333\n",
       "Balanced Accuracy                   0.9500"
      ]
     },
     "metadata": {},
     "output_type": "display_data"
    }
   ],
   "source": [
    "#Predict datatrain using the model\n",
    "x<-datatrain[,1:4]\n",
    "y<-datatrain[,5]\n",
    "#Predict using the model\n",
    "datatrain$pred_naive<-predict(model5,x)\n",
    "\n",
    "#Accuracy of the model\n",
    "mtab<-table(datatrain$pred_naive,datatrain$Species)\n",
    "confusionMatrix(mtab)\n"
   ]
  },
  {
   "cell_type": "code",
   "execution_count": 20,
   "metadata": {},
   "outputs": [
    {
     "data": {
      "text/plain": [
       "Confusion Matrix and Statistics\n",
       "\n",
       "                 \n",
       "                  Iris-setosa Iris-versicolor Iris-virginica\n",
       "  Iris-setosa              20               0              0\n",
       "  Iris-versicolor           0              19              1\n",
       "  Iris-virginica            0               1             19\n",
       "\n",
       "Overall Statistics\n",
       "                                          \n",
       "               Accuracy : 0.9667          \n",
       "                 95% CI : (0.8847, 0.9959)\n",
       "    No Information Rate : 0.3333          \n",
       "    P-Value [Acc > NIR] : < 2.2e-16       \n",
       "                                          \n",
       "                  Kappa : 0.95            \n",
       " Mcnemar's Test P-Value : NA              \n",
       "\n",
       "Statistics by Class:\n",
       "\n",
       "                     Class: Iris-setosa Class: Iris-versicolor\n",
       "Sensitivity                      1.0000                 0.9500\n",
       "Specificity                      1.0000                 0.9750\n",
       "Pos Pred Value                   1.0000                 0.9500\n",
       "Neg Pred Value                   1.0000                 0.9750\n",
       "Prevalence                       0.3333                 0.3333\n",
       "Detection Rate                   0.3333                 0.3167\n",
       "Detection Prevalence             0.3333                 0.3333\n",
       "Balanced Accuracy                1.0000                 0.9625\n",
       "                     Class: Iris-virginica\n",
       "Sensitivity                         0.9500\n",
       "Specificity                         0.9750\n",
       "Pos Pred Value                      0.9500\n",
       "Neg Pred Value                      0.9750\n",
       "Prevalence                          0.3333\n",
       "Detection Rate                      0.3167\n",
       "Detection Prevalence                0.3333\n",
       "Balanced Accuracy                   0.9625"
      ]
     },
     "metadata": {},
     "output_type": "display_data"
    }
   ],
   "source": [
    "#Predict datatrain using the model\n",
    "x<-validation[,1:4]\n",
    "y<-validation[,5]\n",
    "#Predict using the model\n",
    "validation$pred_naive<-predict(model5,x)\n",
    "\n",
    "#Accuracy of the model\n",
    "mtab<-table(validation$pred_naive,validation$Species)\n",
    "confusionMatrix(mtab)\n"
   ]
  },
  {
   "cell_type": "markdown",
   "metadata": {
    "collapsed": true
   },
   "source": [
    "### 3.6 Classification and Regression Trees(CART)"
   ]
  },
  {
   "cell_type": "code",
   "execution_count": 21,
   "metadata": {},
   "outputs": [
    {
     "name": "stdout",
     "output_type": "stream",
     "text": [
      "Call:\n",
      "rpart(formula = Species ~ SepalLength + SepalWidth + PetalLength + \n",
      "    PetalWidth, data = datatrain)\n",
      "  n= 90 \n",
      "\n",
      "         CP nsplit  rel error     xerror       xstd\n",
      "1 0.5000000      0 1.00000000 1.20000000 0.06324555\n",
      "2 0.4333333      1 0.50000000 0.76666667 0.07903742\n",
      "3 0.0100000      2 0.06666667 0.08333333 0.03621779\n",
      "\n",
      "Variable importance\n",
      "PetalLength  PetalWidth SepalLength  SepalWidth \n",
      "         34          31          23          12 \n",
      "\n",
      "Node number 1: 90 observations,    complexity param=0.5\n",
      "  predicted class=Iris-setosa      expected loss=0.6666667  P(node) =1\n",
      "    class counts:    30    30    30\n",
      "   probabilities: 0.333 0.333 0.333 \n",
      "  left son=2 (30 obs) right son=3 (60 obs)\n",
      "  Primary splits:\n",
      "      PetalLength < 2.6  to the left,  improve=30.000000, (0 missing)\n",
      "      PetalWidth  < 0.7  to the left,  improve=30.000000, (0 missing)\n",
      "      SepalLength < 5.45 to the left,  improve=20.384400, (0 missing)\n",
      "      SepalWidth  < 3.15 to the right, improve= 9.579832, (0 missing)\n",
      "  Surrogate splits:\n",
      "      PetalWidth  < 0.7  to the left,  agree=1.000, adj=1.000, (0 split)\n",
      "      SepalLength < 5.45 to the left,  agree=0.922, adj=0.767, (0 split)\n",
      "      SepalWidth  < 3.25 to the right, agree=0.800, adj=0.400, (0 split)\n",
      "\n",
      "Node number 2: 30 observations\n",
      "  predicted class=Iris-setosa      expected loss=0  P(node) =0.3333333\n",
      "    class counts:    30     0     0\n",
      "   probabilities: 1.000 0.000 0.000 \n",
      "\n",
      "Node number 3: 60 observations,    complexity param=0.4333333\n",
      "  predicted class=Iris-versicolor  expected loss=0.5  P(node) =0.6666667\n",
      "    class counts:     0    30    30\n",
      "   probabilities: 0.000 0.500 0.500 \n",
      "  left son=6 (32 obs) right son=7 (28 obs)\n",
      "  Primary splits:\n",
      "      PetalLength < 4.95 to the left,  improve=22.633930, (0 missing)\n",
      "      PetalWidth  < 1.65 to the left,  improve=22.633930, (0 missing)\n",
      "      SepalLength < 6.25 to the left,  improve= 9.644049, (0 missing)\n",
      "      SepalWidth  < 3.15 to the left,  improve= 3.333333, (0 missing)\n",
      "  Surrogate splits:\n",
      "      PetalWidth  < 1.55 to the left,  agree=0.883, adj=0.750, (0 split)\n",
      "      SepalLength < 6.35 to the left,  agree=0.800, adj=0.571, (0 split)\n",
      "      SepalWidth  < 2.95 to the left,  agree=0.667, adj=0.286, (0 split)\n",
      "\n",
      "Node number 6: 32 observations\n",
      "  predicted class=Iris-versicolor  expected loss=0.09375  P(node) =0.3555556\n",
      "    class counts:     0    29     3\n",
      "   probabilities: 0.000 0.906 0.094 \n",
      "\n",
      "Node number 7: 28 observations\n",
      "  predicted class=Iris-virginica   expected loss=0.03571429  P(node) =0.3111111\n",
      "    class counts:     0     1    27\n",
      "   probabilities: 0.000 0.036 0.964 \n",
      "\n"
     ]
    }
   ],
   "source": [
    "library(rpart)\n",
    "#Build the model\n",
    "model6<-rpart(Species~SepalLength+SepalWidth+PetalLength+PetalWidth,data=datatrain)\n",
    "#Summarize the model\n",
    "summary(model6)"
   ]
  },
  {
   "cell_type": "code",
   "execution_count": 22,
   "metadata": {},
   "outputs": [
    {
     "data": {
      "text/plain": [
       "Confusion Matrix and Statistics\n",
       "\n",
       "                 \n",
       "                  Iris-setosa Iris-versicolor Iris-virginica\n",
       "  Iris-setosa              30               0              0\n",
       "  Iris-versicolor           0              29              3\n",
       "  Iris-virginica            0               1             27\n",
       "\n",
       "Overall Statistics\n",
       "                                          \n",
       "               Accuracy : 0.9556          \n",
       "                 95% CI : (0.8901, 0.9878)\n",
       "    No Information Rate : 0.3333          \n",
       "    P-Value [Acc > NIR] : < 2.2e-16       \n",
       "                                          \n",
       "                  Kappa : 0.9333          \n",
       " Mcnemar's Test P-Value : NA              \n",
       "\n",
       "Statistics by Class:\n",
       "\n",
       "                     Class: Iris-setosa Class: Iris-versicolor\n",
       "Sensitivity                      1.0000                 0.9667\n",
       "Specificity                      1.0000                 0.9500\n",
       "Pos Pred Value                   1.0000                 0.9062\n",
       "Neg Pred Value                   1.0000                 0.9828\n",
       "Prevalence                       0.3333                 0.3333\n",
       "Detection Rate                   0.3333                 0.3222\n",
       "Detection Prevalence             0.3333                 0.3556\n",
       "Balanced Accuracy                1.0000                 0.9583\n",
       "                     Class: Iris-virginica\n",
       "Sensitivity                         0.9000\n",
       "Specificity                         0.9833\n",
       "Pos Pred Value                      0.9643\n",
       "Neg Pred Value                      0.9516\n",
       "Prevalence                          0.3333\n",
       "Detection Rate                      0.3000\n",
       "Detection Prevalence                0.3111\n",
       "Balanced Accuracy                   0.9417"
      ]
     },
     "metadata": {},
     "output_type": "display_data"
    }
   ],
   "source": [
    "#Predict datatrain using the model\n",
    "x<-datatrain[,1:4]\n",
    "y<-datatrain[,5]\n",
    "#Predict using the model\n",
    "datatrain$pred_cart<-predict(model6,x,type=\"class\")\n",
    "\n",
    "#Accuracy of the model\n",
    "mtab<-table(datatrain$pred_cart,datatrain$Species)\n",
    "confusionMatrix(mtab)\n"
   ]
  },
  {
   "cell_type": "code",
   "execution_count": 23,
   "metadata": {},
   "outputs": [
    {
     "data": {
      "text/plain": [
       "Confusion Matrix and Statistics\n",
       "\n",
       "                 \n",
       "                  Iris-setosa Iris-versicolor Iris-virginica\n",
       "  Iris-setosa              20               0              0\n",
       "  Iris-versicolor           0              19              3\n",
       "  Iris-virginica            0               1             17\n",
       "\n",
       "Overall Statistics\n",
       "                                         \n",
       "               Accuracy : 0.9333         \n",
       "                 95% CI : (0.838, 0.9815)\n",
       "    No Information Rate : 0.3333         \n",
       "    P-Value [Acc > NIR] : < 2.2e-16      \n",
       "                                         \n",
       "                  Kappa : 0.9            \n",
       " Mcnemar's Test P-Value : NA             \n",
       "\n",
       "Statistics by Class:\n",
       "\n",
       "                     Class: Iris-setosa Class: Iris-versicolor\n",
       "Sensitivity                      1.0000                 0.9500\n",
       "Specificity                      1.0000                 0.9250\n",
       "Pos Pred Value                   1.0000                 0.8636\n",
       "Neg Pred Value                   1.0000                 0.9737\n",
       "Prevalence                       0.3333                 0.3333\n",
       "Detection Rate                   0.3333                 0.3167\n",
       "Detection Prevalence             0.3333                 0.3667\n",
       "Balanced Accuracy                1.0000                 0.9375\n",
       "                     Class: Iris-virginica\n",
       "Sensitivity                         0.8500\n",
       "Specificity                         0.9750\n",
       "Pos Pred Value                      0.9444\n",
       "Neg Pred Value                      0.9286\n",
       "Prevalence                          0.3333\n",
       "Detection Rate                      0.2833\n",
       "Detection Prevalence                0.3000\n",
       "Balanced Accuracy                   0.9125"
      ]
     },
     "metadata": {},
     "output_type": "display_data"
    }
   ],
   "source": [
    "#Predict datatrain using the model\n",
    "x<-validation[,1:4]\n",
    "y<-validation[,5]\n",
    "#Predict using the model\n",
    "validation$pred_cart<-predict(model6,x,type=\"class\")\n",
    "\n",
    "#Accuracy of the model\n",
    "mtab<-table(validation$pred_cart,validation$Species)\n",
    "confusionMatrix(mtab)"
   ]
  },
  {
   "cell_type": "markdown",
   "metadata": {},
   "source": [
    "### 1.7 Random Forest"
   ]
  },
  {
   "cell_type": "code",
   "execution_count": 24,
   "metadata": {},
   "outputs": [
    {
     "name": "stderr",
     "output_type": "stream",
     "text": [
      "randomForest 4.6-12\n",
      "Type rfNews() to see new features/changes/bug fixes.\n",
      "\n",
      "Attaching package: 'randomForest'\n",
      "\n",
      "The following object is masked from 'package:ggplot2':\n",
      "\n",
      "    margin\n",
      "\n"
     ]
    },
    {
     "data": {
      "text/plain": [
       "                Length Class  Mode     \n",
       "call               3   -none- call     \n",
       "type               1   -none- character\n",
       "predicted         90   factor numeric  \n",
       "err.rate        2000   -none- numeric  \n",
       "confusion         12   -none- numeric  \n",
       "votes            270   matrix numeric  \n",
       "oob.times         90   -none- numeric  \n",
       "classes            3   -none- character\n",
       "importance         4   -none- numeric  \n",
       "importanceSD       0   -none- NULL     \n",
       "localImportance    0   -none- NULL     \n",
       "proximity          0   -none- NULL     \n",
       "ntree              1   -none- numeric  \n",
       "mtry               1   -none- numeric  \n",
       "forest            14   -none- list     \n",
       "y                 90   factor numeric  \n",
       "test               0   -none- NULL     \n",
       "inbag              0   -none- NULL     \n",
       "terms              3   terms  call     "
      ]
     },
     "metadata": {},
     "output_type": "display_data"
    }
   ],
   "source": [
    "library(randomForest)\n",
    "#Build the model\n",
    "model7<-randomForest(Species~SepalLength+SepalWidth+PetalLength+PetalWidth,data=datatrain)\n",
    "#Summarize the model\n",
    "summary(model7)"
   ]
  },
  {
   "cell_type": "code",
   "execution_count": 25,
   "metadata": {},
   "outputs": [
    {
     "data": {
      "text/plain": [
       "Confusion Matrix and Statistics\n",
       "\n",
       "                 \n",
       "                  Iris-setosa Iris-versicolor Iris-virginica\n",
       "  Iris-setosa              30               0              0\n",
       "  Iris-versicolor           0              30              0\n",
       "  Iris-virginica            0               0             30\n",
       "\n",
       "Overall Statistics\n",
       "                                     \n",
       "               Accuracy : 1          \n",
       "                 95% CI : (0.9598, 1)\n",
       "    No Information Rate : 0.3333     \n",
       "    P-Value [Acc > NIR] : < 2.2e-16  \n",
       "                                     \n",
       "                  Kappa : 1          \n",
       " Mcnemar's Test P-Value : NA         \n",
       "\n",
       "Statistics by Class:\n",
       "\n",
       "                     Class: Iris-setosa Class: Iris-versicolor\n",
       "Sensitivity                      1.0000                 1.0000\n",
       "Specificity                      1.0000                 1.0000\n",
       "Pos Pred Value                   1.0000                 1.0000\n",
       "Neg Pred Value                   1.0000                 1.0000\n",
       "Prevalence                       0.3333                 0.3333\n",
       "Detection Rate                   0.3333                 0.3333\n",
       "Detection Prevalence             0.3333                 0.3333\n",
       "Balanced Accuracy                1.0000                 1.0000\n",
       "                     Class: Iris-virginica\n",
       "Sensitivity                         1.0000\n",
       "Specificity                         1.0000\n",
       "Pos Pred Value                      1.0000\n",
       "Neg Pred Value                      1.0000\n",
       "Prevalence                          0.3333\n",
       "Detection Rate                      0.3333\n",
       "Detection Prevalence                0.3333\n",
       "Balanced Accuracy                   1.0000"
      ]
     },
     "metadata": {},
     "output_type": "display_data"
    }
   ],
   "source": [
    "#Predict datatrain using the model\n",
    "x<-datatrain[,1:4]\n",
    "y<-datatrain[,5]\n",
    "#Predict using the model\n",
    "datatrain$pred_randomforest<-predict(model7,x)\n",
    "\n",
    "#Accuracy of the model\n",
    "mtab<-table(datatrain$pred_randomforest,datatrain$Species)\n",
    "confusionMatrix(mtab)"
   ]
  },
  {
   "cell_type": "code",
   "execution_count": 26,
   "metadata": {},
   "outputs": [
    {
     "data": {
      "text/plain": [
       "Confusion Matrix and Statistics\n",
       "\n",
       "                 \n",
       "                  Iris-setosa Iris-versicolor Iris-virginica\n",
       "  Iris-setosa              20               0              0\n",
       "  Iris-versicolor           0              19              2\n",
       "  Iris-virginica            0               1             18\n",
       "\n",
       "Overall Statistics\n",
       "                                          \n",
       "               Accuracy : 0.95            \n",
       "                 95% CI : (0.8608, 0.9896)\n",
       "    No Information Rate : 0.3333          \n",
       "    P-Value [Acc > NIR] : < 2.2e-16       \n",
       "                                          \n",
       "                  Kappa : 0.925           \n",
       " Mcnemar's Test P-Value : NA              \n",
       "\n",
       "Statistics by Class:\n",
       "\n",
       "                     Class: Iris-setosa Class: Iris-versicolor\n",
       "Sensitivity                      1.0000                 0.9500\n",
       "Specificity                      1.0000                 0.9500\n",
       "Pos Pred Value                   1.0000                 0.9048\n",
       "Neg Pred Value                   1.0000                 0.9744\n",
       "Prevalence                       0.3333                 0.3333\n",
       "Detection Rate                   0.3333                 0.3167\n",
       "Detection Prevalence             0.3333                 0.3500\n",
       "Balanced Accuracy                1.0000                 0.9500\n",
       "                     Class: Iris-virginica\n",
       "Sensitivity                         0.9000\n",
       "Specificity                         0.9750\n",
       "Pos Pred Value                      0.9474\n",
       "Neg Pred Value                      0.9512\n",
       "Prevalence                          0.3333\n",
       "Detection Rate                      0.3000\n",
       "Detection Prevalence                0.3167\n",
       "Balanced Accuracy                   0.9375"
      ]
     },
     "metadata": {},
     "output_type": "display_data"
    }
   ],
   "source": [
    "#Predict datatrain using the model\n",
    "x<-validation[,1:4]\n",
    "y<-validation[,5]\n",
    "#Predict using the model\n",
    "validation$pred_randomforest<-predict(model7,x)\n",
    "\n",
    "#Accuracy of the model\n",
    "mtab<-table(validation$pred_randomforest,validation$Species)\n",
    "confusionMatrix(mtab)"
   ]
  },
  {
   "cell_type": "markdown",
   "metadata": {},
   "source": [
    "## IV Selecting best model\n",
    " \n",
    "I have considered linear (LR and LDA), nonlinear (KNN, CART, RF, NB and SVM) algorithms. I reset the random number seed before each run to ensure that the evaluation of each algorithm is performed using exactly the same data splits. It ensures the results are directly comparable. \n",
    " \n",
    "We now have 7 models and accuracy estimations for each. We need to compare the models to each other and select the most accurate.\n",
    "\n",
    "We can create a summary table with the accuracy percentage and kappa index for both train and validate dataset, to have a general overview of the behavior of our models.\n",
    "\n",
    "<table style=\"width:60%\" align=\"left\">\n",
    "  <thead>\n",
    "  <tr>\n",
    "   <th colspan=\"1\">Model</th>\n",
    "    <th colspan=\"2\">Accuracy</th>\n",
    "    <th colspan=\"2\">Kappa</th>\n",
    "  </tr>\n",
    "  <tr>\n",
    "      <th></th>\n",
    "    <th>Train</th>\n",
    "    <th>Evaluation</th>\n",
    "     <th>Train</th>\n",
    "     <th>Evaluation</th>\n",
    "  </tr>\n",
    "    </thead>\n",
    "  <tbody>    \n",
    "    <tr>\n",
    "        <th>LR</th>\n",
    "    <td>0.9833</td>\n",
    "    <td>1</td>\n",
    "     <td>0.9833</td>\n",
    "     <td>1</td>\n",
    "  </tr>\n",
    "      <tr>\n",
    "        <th>LDA</th>\n",
    "    <td>0.9750</td>\n",
    "    <td>1</td>\n",
    "     <td>0.9625</td>\n",
    "     <td>1</td>\n",
    "  </tr>\n",
    "      <tr>\n",
    "        <th>SVM</th>\n",
    "    <td>0.9833</td>\n",
    "    <td>0.9667</td>\n",
    "     <td>0.9750</td>\n",
    "     <td>0.95</td>\n",
    "  </tr>\n",
    "        <tr>\n",
    "        <th>KNN</th>\n",
    "    <td>0.9667</td>\n",
    "    <td>0.9667</td>\n",
    "     <td>0.95</td>\n",
    "     <td>0.95</td>\n",
    "  </tr>\n",
    "          <tr>\n",
    "        <th>NB</th>\n",
    "    <td>0.9583</td>\n",
    "    <td>0.9667</td>\n",
    "     <td>0.9375</td>\n",
    "     <td>0.95</td>\n",
    "  </tr>\n",
    "            <tr>\n",
    "        <th>CART</th>\n",
    "    <td>0.9667</td>\n",
    "    <td>0.9333</td>\n",
    "     <td>0.95</td>\n",
    "     <td>0.90</td>\n",
    "  </tr>\n",
    "              <tr>\n",
    "        <th>RF</th>\n",
    "    <td>1.0</td>\n",
    "    <td>0.9667</td>\n",
    "     <td>1.0</td>\n",
    "     <td>0.95</td>\n",
    "  </tr>\n",
    "    </tbody>\n",
    "</table>"
   ]
  },
  {
   "cell_type": "markdown",
   "metadata": {},
   "source": [
    "As we were expecting all models have good train and validate accuracy scores, but among both we have to consider the validate one. Remember that testing models on the train dataset is not an optimal model evaluation procedure.  So we can get this other table with the summary of the acurracy based on the validate dataset.\n",
    "\n",
    "<table align=\"left\">\n",
    "  <thead>\n",
    "  <tr>\n",
    "    <th >Model</th>\n",
    "    <th >Accuracy</th>\n",
    "    <th>95%CI</th>\n",
    "        <th>Kappa</th>\n",
    "  </tr>\n",
    "    </thead>\n",
    "      <tbody>\n",
    "  <tr>\n",
    "    <td>LR</td>\n",
    "        <td>1.0000</td>\n",
    "    <td>(0.8843, 1.0000)</td>\n",
    "        <td>1.00</td>\n",
    "  </tr>\n",
    "  <tr>\n",
    "    <td>LDA</td>\n",
    "        <td>1.0000</td>\n",
    "    <td>(0.8843, 1.0000)</td>\n",
    "        <td>1.00</td>\n",
    "  </tr>\n",
    "  <tr>\n",
    "    <td>SVM</td>\n",
    "        <td>0.9667</td>\n",
    "    <td>(0.8278, 0.9992)</td>\n",
    "        <td>0.95</td>\n",
    "  </tr>\n",
    "  <tr>\n",
    "    <td>KNN</td>\n",
    "        <td>0.9667</td>\n",
    "    <td>(0.8278, 0.9992)</td>\n",
    "        <td>0.95</td>\n",
    "  </tr>\n",
    "  <tr>\n",
    "    <td>NB</td>\n",
    "        <td>0.9667</td>\n",
    "    <td>(0.8278, 0.9992)</td>\n",
    "        <td>0.95</td>\n",
    "  </tr>\n",
    "  <tr>\n",
    "    <td>CART</td>\n",
    "        <td>0.9333</td>\n",
    "    <td>(0.9169, 0.9908)</td>\n",
    "        <td>0.90</td>\n",
    "  </tr>\n",
    "    <tr>\n",
    "    <td>RF</td>\n",
    "        <td>0.9667</td>\n",
    "    <td>(0.8278, 0.9992)</td>\n",
    "        <td>0.95</td>\n",
    "  </tr>\n",
    "   </tbody>\n",
    "</table>"
   ]
  },
  {
   "cell_type": "markdown",
   "metadata": {
    "collapsed": true
   },
   "source": [
    "## V Conclusions"
   ]
  },
  {
   "cell_type": "markdown",
   "metadata": {},
   "source": [
    "This project provides a general way to apply machine learning algorithms based on R without used any specific library to control the central procedure to get the models done.\n",
    "\n",
    "The idea here is to provide a basic understanding of getting started with a machine learning problem applying the most common algorithms to the well known \"iris\" dataset.\n",
    "\n",
    "Because training and testing models on the same dataset are not an optimal evaluation procedure, to build the models and study their quality the \"train/test split\" method was used. An equal percentage representation for the class variable (Species) was considered with a fraction of 1/3 for each iris species.\n",
    "\n",
    "The performance of each model was measured by using the \"accuracy score\".  All models presented a high train and validate accuracy. \n",
    "\n",
    "Hitting at the right machine learning algorithm is the ideal approach to achieve higher accuracy. But, it is easier said than done.\n",
    "\n",
    "Improving the models can be done by tuning their parameters. Every Machine Learning model comes with a variety of parameters to tune and these parameters can be vitally important to the performance of our classifier.\n",
    "\n",
    "Finally, \"cross validation\" is an approach that you can use to estimate the performance of a machine learning algorithm with less variance than a single \"train/test split\". Methods like \"K-fold Cross Validation\", \"Leave One Out Cross Validation\", and \"Repeated Random Test-Train Splits\" are the most known ones.  Of course, the door is opening for anybody who wants to try developing this project by using one of those \"cross validation\" methods to measure the accuracy of the models involved. I am personally putting in a line to develop a project like after finishing some other important machine learning stuff that I am already working on.\n"
   ]
  },
  {
   "cell_type": "markdown",
   "metadata": {},
   "source": [
    "<hr>\n",
    "By: Hector Alvaro Rojas | Data Science, Visualizations and Applied Statistics | September 2017<br>\n",
    "Url: [http://www.arqmain.net]   &nbsp;&nbsp;&nbsp;|&nbsp;&nbsp;&nbsp;   GitHub: [https://github.com/arqmain]"
   ]
  }
 ],
 "metadata": {
  "anaconda-cloud": {},
  "kernelspec": {
   "display_name": "R",
   "language": "R",
   "name": "ir"
  },
  "language_info": {
   "codemirror_mode": "r",
   "file_extension": ".r",
   "mimetype": "text/x-r-source",
   "name": "R",
   "pygments_lexer": "r",
   "version": "3.4.1"
  }
 },
 "nbformat": 4,
 "nbformat_minor": 2
}
