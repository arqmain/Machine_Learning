{
 "cells": [
  {
   "cell_type": "markdown",
   "metadata": {},
   "source": [
    "#  MACHINE LEARNING: Portugal Wine. Two Class approach for Red and White classification with with Neural Network using R\n",
    "\n",
    "\n",
    "By: Hector Alvaro Rojas | Data Science, Visualizations and Applied Statistics | November 02, 2017<br>\n",
    "Url: [http://www.arqmain.net]   &nbsp;&nbsp;&nbsp;|&nbsp;&nbsp;&nbsp;   GitHub: [https://github.com/arqmain]\n",
    "<hr>"
   ]
  },
  {
   "cell_type": "markdown",
   "metadata": {},
   "source": [
    "# I Introduction"
   ]
  },
  {
   "cell_type": "markdown",
   "metadata": {
    "collapsed": true
   },
   "source": [
    "This project develops Neural Network algorithm of machine learning to classify the class -\"white\" or \"red\"- of some wine.\n",
    "\n",
    "We will use the famous Portugal wine dataset. Two datasets are available of which one dataset is about red wine and have 1599 different varieties and the other is on white wine and have 4898 varieties. I have combined them into one dataset named \"wine\" and created one additional variable \"Class\" with its categories \"white\" and \"red\".\n",
    "\n",
    "The original data along with detailed description can be found here [ http://archive.ics.uci.edu/ml/datasets/Wine+Quality].\n",
    "\n",
    "The columns of the \"wine\" dataset are the variables (features): fixed acidity; volatile acidity; citric acid; residual sugar; chlorides; free sulfur dioxide; total sulfur dioxide; density; pH; sulphates; alcohol; quality. The 13th column is the Class of wine observed: white; red.\n",
    "\n",
    "Our original dataset is an imbalance one. There are 6497 registers but only 1599 (24.6%) are of the red class of wine.\n",
    "\n",
    "We consider the original dataset without the variables \"density\" and \"free.sulfor.dioxide\".\n",
    "\n",
    "The dataset (dfffull) keep all the register of the original database but replace the upper outliers by its corresponding <i>Threshold</i>.\n",
    "\n",
    "We consider outliers those points that have any predictor variable value to be outside of the limits constructed by boxplots. The following rule is applied:\n",
    "\n",
    "* A predictor value is considered to be an upper outlier only if it is greater than <b>Threshold = Q3 + 1.5IQR</b>\n",
    "\n",
    "Application of this rule does not reduces the original datasize becouse it does not eliminate any register.  So, <i>dfffull</i> data size is the same as the original (6497 registers).\n",
    "\n",
    "The model performance was evaluated using R, K fold cross-validation, and the ROC metric. I considered 70% and 30% original dataset splitting for the training and testing datasets respectively."
   ]
  },
  {
   "cell_type": "markdown",
   "metadata": {},
   "source": [
    "# II Loading, EDA and Data Preprocessing"
   ]
  },
  {
   "cell_type": "markdown",
   "metadata": {},
   "source": [
    "## 21 Loading the Data"
   ]
  },
  {
   "cell_type": "code",
   "execution_count": 117,
   "metadata": {
    "collapsed": true
   },
   "outputs": [],
   "source": [
    "# first remove ALL objects and close all possible connections\n",
    "closeAllConnections()\n",
    "rm(list = ls(all = TRUE)) # Does remove all inclusive hidden\n",
    "\n",
    "# see your memory size\n",
    "memory.size() "
   ]
  },
  {
   "cell_type": "code",
   "execution_count": 2,
   "metadata": {},
   "outputs": [
    {
     "name": "stderr",
     "output_type": "stream",
     "text": [
      "Loading required package: plyr\n",
      "Loading required package: dplyr\n",
      "\n",
      "Attaching package: 'dplyr'\n",
      "\n",
      "The following objects are masked from 'package:plyr':\n",
      "\n",
      "    arrange, count, desc, failwith, id, mutate, rename, summarise,\n",
      "    summarize\n",
      "\n",
      "The following objects are masked from 'package:stats':\n",
      "\n",
      "    filter, lag\n",
      "\n",
      "The following objects are masked from 'package:base':\n",
      "\n",
      "    intersect, setdiff, setequal, union\n",
      "\n",
      "Loading required package: car\n",
      "Warning message:\n",
      "\"package 'car' was built under R version 3.4.2\"\n",
      "Attaching package: 'car'\n",
      "\n",
      "The following object is masked from 'package:dplyr':\n",
      "\n",
      "    recode\n",
      "\n",
      "Loading required package: caret\n",
      "Loading required package: lattice\n",
      "Loading required package: ggplot2\n"
     ]
    },
    {
     "data": {
      "text/html": [
       "<dl class=dl-horizontal>\n",
       "\t<dt>plyr</dt>\n",
       "\t\t<dd>TRUE</dd>\n",
       "\t<dt>dplyr</dt>\n",
       "\t\t<dd>TRUE</dd>\n",
       "\t<dt>car</dt>\n",
       "\t\t<dd>TRUE</dd>\n",
       "\t<dt>caret</dt>\n",
       "\t\t<dd>TRUE</dd>\n",
       "</dl>\n"
      ],
      "text/latex": [
       "\\begin{description*}\n",
       "\\item[plyr] TRUE\n",
       "\\item[dplyr] TRUE\n",
       "\\item[car] TRUE\n",
       "\\item[caret] TRUE\n",
       "\\end{description*}\n"
      ],
      "text/markdown": [
       "plyr\n",
       ":   TRUEdplyr\n",
       ":   TRUEcar\n",
       ":   TRUEcaret\n",
       ":   TRUE\n",
       "\n"
      ],
      "text/plain": [
       " plyr dplyr   car caret \n",
       " TRUE  TRUE  TRUE  TRUE "
      ]
     },
     "metadata": {},
     "output_type": "display_data"
    }
   ],
   "source": [
    "# install packages and load libraries\n",
    "ipak <- function(pkg){\n",
    "    new.pkg <- pkg[!(pkg %in% installed.packages()[, \"Package\"])]\n",
    "    if (length(new.pkg)) \n",
    "        install.packages(new.pkg, dependencies = c(\"Depends\", \"Suggests\"))\n",
    "    sapply(pkg, require, character.only = TRUE)\n",
    "}\n",
    "# usage\n",
    "packages <- c(\"plyr\", \"dplyr\", \"car\",\"caret\")\n",
    "ipak(packages)\n"
   ]
  },
  {
   "cell_type": "code",
   "execution_count": 3,
   "metadata": {},
   "outputs": [
    {
     "data": {
      "text/html": [
       "<table>\n",
       "<thead><tr><th scope=col>fixed.acidity</th><th scope=col>volatile.acidity</th><th scope=col>citric.acid</th><th scope=col>residual.sugar</th><th scope=col>chlorides</th><th scope=col>total.sulfur.dioxide</th><th scope=col>pH</th><th scope=col>sulphates</th><th scope=col>alcohol</th><th scope=col>quality</th><th scope=col>Class</th></tr></thead>\n",
       "<tbody>\n",
       "\t<tr><td>7.0  </td><td>0.27 </td><td>0.36 </td><td>20.7 </td><td>0.045</td><td>170  </td><td>3.00 </td><td>0.45 </td><td> 8.8 </td><td>6    </td><td>white</td></tr>\n",
       "\t<tr><td>6.3  </td><td>0.30 </td><td>0.34 </td><td> 1.6 </td><td>0.049</td><td>132  </td><td>3.30 </td><td>0.49 </td><td> 9.5 </td><td>6    </td><td>white</td></tr>\n",
       "\t<tr><td>8.1  </td><td>0.28 </td><td>0.40 </td><td> 6.9 </td><td>0.050</td><td> 97  </td><td>3.26 </td><td>0.44 </td><td>10.1 </td><td>6    </td><td>white</td></tr>\n",
       "\t<tr><td>7.2  </td><td>0.23 </td><td>0.32 </td><td> 8.5 </td><td>0.058</td><td>186  </td><td>3.19 </td><td>0.40 </td><td> 9.9 </td><td>6    </td><td>white</td></tr>\n",
       "\t<tr><td>7.2  </td><td>0.23 </td><td>0.32 </td><td> 8.5 </td><td>0.058</td><td>186  </td><td>3.19 </td><td>0.40 </td><td> 9.9 </td><td>6    </td><td>white</td></tr>\n",
       "\t<tr><td>8.1  </td><td>0.28 </td><td>0.40 </td><td> 6.9 </td><td>0.050</td><td> 97  </td><td>3.26 </td><td>0.44 </td><td>10.1 </td><td>6    </td><td>white</td></tr>\n",
       "</tbody>\n",
       "</table>\n"
      ],
      "text/latex": [
       "\\begin{tabular}{r|lllllllllll}\n",
       " fixed.acidity & volatile.acidity & citric.acid & residual.sugar & chlorides & total.sulfur.dioxide & pH & sulphates & alcohol & quality & Class\\\\\n",
       "\\hline\n",
       "\t 7.0   & 0.27  & 0.36  & 20.7  & 0.045 & 170   & 3.00  & 0.45  &  8.8  & 6     & white\\\\\n",
       "\t 6.3   & 0.30  & 0.34  &  1.6  & 0.049 & 132   & 3.30  & 0.49  &  9.5  & 6     & white\\\\\n",
       "\t 8.1   & 0.28  & 0.40  &  6.9  & 0.050 &  97   & 3.26  & 0.44  & 10.1  & 6     & white\\\\\n",
       "\t 7.2   & 0.23  & 0.32  &  8.5  & 0.058 & 186   & 3.19  & 0.40  &  9.9  & 6     & white\\\\\n",
       "\t 7.2   & 0.23  & 0.32  &  8.5  & 0.058 & 186   & 3.19  & 0.40  &  9.9  & 6     & white\\\\\n",
       "\t 8.1   & 0.28  & 0.40  &  6.9  & 0.050 &  97   & 3.26  & 0.44  & 10.1  & 6     & white\\\\\n",
       "\\end{tabular}\n"
      ],
      "text/markdown": [
       "\n",
       "fixed.acidity | volatile.acidity | citric.acid | residual.sugar | chlorides | total.sulfur.dioxide | pH | sulphates | alcohol | quality | Class | \n",
       "|---|---|---|---|---|---|\n",
       "| 7.0   | 0.27  | 0.36  | 20.7  | 0.045 | 170   | 3.00  | 0.45  |  8.8  | 6     | white | \n",
       "| 6.3   | 0.30  | 0.34  |  1.6  | 0.049 | 132   | 3.30  | 0.49  |  9.5  | 6     | white | \n",
       "| 8.1   | 0.28  | 0.40  |  6.9  | 0.050 |  97   | 3.26  | 0.44  | 10.1  | 6     | white | \n",
       "| 7.2   | 0.23  | 0.32  |  8.5  | 0.058 | 186   | 3.19  | 0.40  |  9.9  | 6     | white | \n",
       "| 7.2   | 0.23  | 0.32  |  8.5  | 0.058 | 186   | 3.19  | 0.40  |  9.9  | 6     | white | \n",
       "| 8.1   | 0.28  | 0.40  |  6.9  | 0.050 |  97   | 3.26  | 0.44  | 10.1  | 6     | white | \n",
       "\n",
       "\n"
      ],
      "text/plain": [
       "  fixed.acidity volatile.acidity citric.acid residual.sugar chlorides\n",
       "1 7.0           0.27             0.36        20.7           0.045    \n",
       "2 6.3           0.30             0.34         1.6           0.049    \n",
       "3 8.1           0.28             0.40         6.9           0.050    \n",
       "4 7.2           0.23             0.32         8.5           0.058    \n",
       "5 7.2           0.23             0.32         8.5           0.058    \n",
       "6 8.1           0.28             0.40         6.9           0.050    \n",
       "  total.sulfur.dioxide pH   sulphates alcohol quality Class\n",
       "1 170                  3.00 0.45       8.8    6       white\n",
       "2 132                  3.30 0.49       9.5    6       white\n",
       "3  97                  3.26 0.44      10.1    6       white\n",
       "4 186                  3.19 0.40       9.9    6       white\n",
       "5 186                  3.19 0.40       9.9    6       white\n",
       "6  97                  3.26 0.44      10.1    6       white"
      ]
     },
     "metadata": {},
     "output_type": "display_data"
    }
   ],
   "source": [
    "# define path location of datasets\n",
    "wine1.url <- \"http://archive.ics.uci.edu/ml/machine-learning-databases/wine-quality/winequality-white.csv\"\n",
    "wine2.url <- \"http://archive.ics.uci.edu/ml/machine-learning-databases/wine-quality/winequality-red.csv\"\n",
    "\n",
    "# read datasets\n",
    "wine1 <- read.csv(wine1.url, header=TRUE, sep=';')\n",
    "wine2 <- read.csv(wine2.url, header=TRUE, sep=';')\n",
    "\n",
    "# create dataset base\n",
    "paso <- rbind(cbind(wine1, Class='white'), cbind(wine2, Class='red'))\n",
    "#paso$quality<- ifelse(paso$quality>=6, \"Good\", ifelse(paso$quality<6, \"Bad\", NA))\n",
    "\n",
    "df= subset(paso, select=c('fixed.acidity', 'volatile.acidity', 'citric.acid', 'residual.sugar', 'chlorides' ,'total.sulfur.dioxide','pH', 'sulphates', 'alcohol', 'quality', 'Class'))\n",
    "attach(df)\n",
    "head(df)\n",
    "rm(\"paso\", \"wine1\", \"wine2\")"
   ]
  },
  {
   "cell_type": "code",
   "execution_count": 4,
   "metadata": {
    "collapsed": true
   },
   "outputs": [],
   "source": [
    "# verify response variable \"quality\" as factor\n",
    "df$Class <- as.factor(df$Class)"
   ]
  },
  {
   "cell_type": "code",
   "execution_count": 5,
   "metadata": {},
   "outputs": [
    {
     "name": "stdout",
     "output_type": "stream",
     "text": [
      "'data.frame':\t6497 obs. of  11 variables:\n",
      " $ fixed.acidity       : num  7 6.3 8.1 7.2 7.2 8.1 6.2 7 6.3 8.1 ...\n",
      " $ volatile.acidity    : num  0.27 0.3 0.28 0.23 0.23 0.28 0.32 0.27 0.3 0.22 ...\n",
      " $ citric.acid         : num  0.36 0.34 0.4 0.32 0.32 0.4 0.16 0.36 0.34 0.43 ...\n",
      " $ residual.sugar      : num  20.7 1.6 6.9 8.5 8.5 6.9 7 20.7 1.6 1.5 ...\n",
      " $ chlorides           : num  0.045 0.049 0.05 0.058 0.058 0.05 0.045 0.045 0.049 0.044 ...\n",
      " $ total.sulfur.dioxide: num  170 132 97 186 186 97 136 170 132 129 ...\n",
      " $ pH                  : num  3 3.3 3.26 3.19 3.19 3.26 3.18 3 3.3 3.22 ...\n",
      " $ sulphates           : num  0.45 0.49 0.44 0.4 0.4 0.44 0.47 0.45 0.49 0.45 ...\n",
      " $ alcohol             : num  8.8 9.5 10.1 9.9 9.9 10.1 9.6 8.8 9.5 11 ...\n",
      " $ quality             : int  6 6 6 6 6 6 6 6 6 6 ...\n",
      " $ Class               : Factor w/ 2 levels \"white\",\"red\": 1 1 1 1 1 1 1 1 1 1 ...\n"
     ]
    }
   ],
   "source": [
    "# get some information about the dataset\n",
    "str(df)"
   ]
  },
  {
   "cell_type": "code",
   "execution_count": 6,
   "metadata": {
    "collapsed": true
   },
   "outputs": [],
   "source": [
    "#summarize full dataset by columns \n",
    "propmiss <- function(dataframe) {\n",
    "\tm <- sapply(dataframe, function(x) {\n",
    "\t\tdata.frame(\n",
    "\t\t\tn=length(!is.na(x)), \n",
    "\t\t\tnmiss=sum(is.na(x)), \n",
    "\t\t\tpropmiss=sum(is.na(x))/length(x),\n",
    "\t\t\tP25=round(quantile(x, 0.25, na.rm=TRUE),2),\n",
    "\t\t\tP75=round(quantile(x, 0.75, na.rm=TRUE),2),            \n",
    "\t\t\tIQR=round(IQR(x, na.rm=TRUE),2),\n",
    "\t\t\tThreshold= round(quantile(x, 0.75, na.rm=TRUE),2) + 1.5*round(IQR(x, na.rm=TRUE),2),            \n",
    "\t\t\tMinimum=round(min(x, na.rm=TRUE),2),\n",
    "\t\t\tMedian=round(median(x, na.rm=TRUE),2),            \n",
    "\t\t\tMaximum=round(max(x, na.rm=TRUE),2),\n",
    "\t\t\tRange=round(max(x, na.rm=TRUE)-min(x, na.rm=TRUE),2),\n",
    "\t\t\tMean=round(mean(x, na.rm=TRUE),2),\n",
    "\t\t\tStDev=round(sd(x, na.rm=TRUE),2)\n",
    "\t\t)\n",
    "\t})\n",
    "\td <- data.frame(t(m))\n",
    "\td <- sapply(d, unlist)\n",
    "\td <- as.data.frame(d)\n",
    "\td$variable <- row.names(d)\n",
    "\trow.names(d) <- NULL\n",
    "\td <- cbind(d[ncol(d)],d[-ncol(d)])\n",
    "\treturn(d[order(d$propmiss), ])\n",
    "}"
   ]
  },
  {
   "cell_type": "code",
   "execution_count": 7,
   "metadata": {},
   "outputs": [
    {
     "data": {
      "text/html": [
       "<table>\n",
       "<thead><tr><th scope=col>variable</th><th scope=col>n</th><th scope=col>P25</th><th scope=col>P75</th><th scope=col>IQR</th><th scope=col>Threshold</th><th scope=col>Minimum</th><th scope=col>Median</th><th scope=col>Maximum</th><th scope=col>Range</th><th scope=col>Mean</th><th scope=col>StDev</th></tr></thead>\n",
       "<tbody>\n",
       "\t<tr><td>fixed.acidity       </td><td>6497                </td><td> 6.40               </td><td>  7.70              </td><td> 1.30               </td><td>  9.650             </td><td>3.80                </td><td>  7.00              </td><td> 15.90              </td><td> 12.10              </td><td>  7.22              </td><td> 1.30               </td></tr>\n",
       "\t<tr><td>volatile.acidity    </td><td>6497                </td><td> 0.23               </td><td>  0.40              </td><td> 0.17               </td><td>  0.655             </td><td>0.08                </td><td>  0.29              </td><td>  1.58              </td><td>  1.50              </td><td>  0.34              </td><td> 0.16               </td></tr>\n",
       "\t<tr><td>citric.acid         </td><td>6497                </td><td> 0.25               </td><td>  0.39              </td><td> 0.14               </td><td>  0.600             </td><td>0.00                </td><td>  0.31              </td><td>  1.66              </td><td>  1.66              </td><td>  0.32              </td><td> 0.15               </td></tr>\n",
       "\t<tr><td>residual.sugar      </td><td>6497                </td><td> 1.80               </td><td>  8.10              </td><td> 6.30               </td><td> 17.550             </td><td>0.60                </td><td>  3.00              </td><td> 65.80              </td><td> 65.20              </td><td>  5.44              </td><td> 4.76               </td></tr>\n",
       "\t<tr><td>chlorides           </td><td>6497                </td><td> 0.04               </td><td>  0.06              </td><td> 0.03               </td><td>  0.105             </td><td>0.01                </td><td>  0.05              </td><td>  0.61              </td><td>  0.60              </td><td>  0.06              </td><td> 0.04               </td></tr>\n",
       "\t<tr><td>total.sulfur.dioxide</td><td>6497                </td><td>77.00               </td><td>156.00              </td><td>79.00               </td><td>274.500             </td><td>6.00                </td><td>118.00              </td><td>440.00              </td><td>434.00              </td><td>115.74              </td><td>56.52               </td></tr>\n",
       "\t<tr><td>pH                  </td><td>6497                </td><td> 3.11               </td><td>  3.32              </td><td> 0.21               </td><td>  3.635             </td><td>2.72                </td><td>  3.21              </td><td>  4.01              </td><td>  1.29              </td><td>  3.22              </td><td> 0.16               </td></tr>\n",
       "\t<tr><td>sulphates           </td><td>6497                </td><td> 0.43               </td><td>  0.60              </td><td> 0.17               </td><td>  0.855             </td><td>0.22                </td><td>  0.51              </td><td>  2.00              </td><td>  1.78              </td><td>  0.53              </td><td> 0.15               </td></tr>\n",
       "\t<tr><td>alcohol             </td><td>6497                </td><td> 9.50               </td><td> 11.30              </td><td> 1.80               </td><td> 14.000             </td><td>8.00                </td><td> 10.30              </td><td> 14.90              </td><td>  6.90              </td><td> 10.49              </td><td> 1.19               </td></tr>\n",
       "</tbody>\n",
       "</table>\n"
      ],
      "text/latex": [
       "\\begin{tabular}{r|llllllllllll}\n",
       " variable & n & P25 & P75 & IQR & Threshold & Minimum & Median & Maximum & Range & Mean & StDev\\\\\n",
       "\\hline\n",
       "\t fixed.acidity        & 6497                 &  6.40                &   7.70               &  1.30                &   9.650              & 3.80                 &   7.00               &  15.90               &  12.10               &   7.22               &  1.30               \\\\\n",
       "\t volatile.acidity     & 6497                 &  0.23                &   0.40               &  0.17                &   0.655              & 0.08                 &   0.29               &   1.58               &   1.50               &   0.34               &  0.16               \\\\\n",
       "\t citric.acid          & 6497                 &  0.25                &   0.39               &  0.14                &   0.600              & 0.00                 &   0.31               &   1.66               &   1.66               &   0.32               &  0.15               \\\\\n",
       "\t residual.sugar       & 6497                 &  1.80                &   8.10               &  6.30                &  17.550              & 0.60                 &   3.00               &  65.80               &  65.20               &   5.44               &  4.76               \\\\\n",
       "\t chlorides            & 6497                 &  0.04                &   0.06               &  0.03                &   0.105              & 0.01                 &   0.05               &   0.61               &   0.60               &   0.06               &  0.04               \\\\\n",
       "\t total.sulfur.dioxide & 6497                 & 77.00                & 156.00               & 79.00                & 274.500              & 6.00                 & 118.00               & 440.00               & 434.00               & 115.74               & 56.52               \\\\\n",
       "\t pH                   & 6497                 &  3.11                &   3.32               &  0.21                &   3.635              & 2.72                 &   3.21               &   4.01               &   1.29               &   3.22               &  0.16               \\\\\n",
       "\t sulphates            & 6497                 &  0.43                &   0.60               &  0.17                &   0.855              & 0.22                 &   0.51               &   2.00               &   1.78               &   0.53               &  0.15               \\\\\n",
       "\t alcohol              & 6497                 &  9.50                &  11.30               &  1.80                &  14.000              & 8.00                 &  10.30               &  14.90               &   6.90               &  10.49               &  1.19               \\\\\n",
       "\\end{tabular}\n"
      ],
      "text/markdown": [
       "\n",
       "variable | n | P25 | P75 | IQR | Threshold | Minimum | Median | Maximum | Range | Mean | StDev | \n",
       "|---|---|---|---|---|---|---|---|---|\n",
       "| fixed.acidity        | 6497                 |  6.40                |   7.70               |  1.30                |   9.650              | 3.80                 |   7.00               |  15.90               |  12.10               |   7.22               |  1.30                | \n",
       "| volatile.acidity     | 6497                 |  0.23                |   0.40               |  0.17                |   0.655              | 0.08                 |   0.29               |   1.58               |   1.50               |   0.34               |  0.16                | \n",
       "| citric.acid          | 6497                 |  0.25                |   0.39               |  0.14                |   0.600              | 0.00                 |   0.31               |   1.66               |   1.66               |   0.32               |  0.15                | \n",
       "| residual.sugar       | 6497                 |  1.80                |   8.10               |  6.30                |  17.550              | 0.60                 |   3.00               |  65.80               |  65.20               |   5.44               |  4.76                | \n",
       "| chlorides            | 6497                 |  0.04                |   0.06               |  0.03                |   0.105              | 0.01                 |   0.05               |   0.61               |   0.60               |   0.06               |  0.04                | \n",
       "| total.sulfur.dioxide | 6497                 | 77.00                | 156.00               | 79.00                | 274.500              | 6.00                 | 118.00               | 440.00               | 434.00               | 115.74               | 56.52                | \n",
       "| pH                   | 6497                 |  3.11                |   3.32               |  0.21                |   3.635              | 2.72                 |   3.21               |   4.01               |   1.29               |   3.22               |  0.16                | \n",
       "| sulphates            | 6497                 |  0.43                |   0.60               |  0.17                |   0.855              | 0.22                 |   0.51               |   2.00               |   1.78               |   0.53               |  0.15                | \n",
       "| alcohol              | 6497                 |  9.50                |  11.30               |  1.80                |  14.000              | 8.00                 |  10.30               |  14.90               |   6.90               |  10.49               |  1.19                | \n",
       "\n",
       "\n"
      ],
      "text/plain": [
       "  variable             n    P25   P75    IQR   Threshold Minimum Median Maximum\n",
       "1 fixed.acidity        6497  6.40   7.70  1.30   9.650   3.80      7.00  15.90 \n",
       "2 volatile.acidity     6497  0.23   0.40  0.17   0.655   0.08      0.29   1.58 \n",
       "3 citric.acid          6497  0.25   0.39  0.14   0.600   0.00      0.31   1.66 \n",
       "4 residual.sugar       6497  1.80   8.10  6.30  17.550   0.60      3.00  65.80 \n",
       "5 chlorides            6497  0.04   0.06  0.03   0.105   0.01      0.05   0.61 \n",
       "6 total.sulfur.dioxide 6497 77.00 156.00 79.00 274.500   6.00    118.00 440.00 \n",
       "7 pH                   6497  3.11   3.32  0.21   3.635   2.72      3.21   4.01 \n",
       "8 sulphates            6497  0.43   0.60  0.17   0.855   0.22      0.51   2.00 \n",
       "9 alcohol              6497  9.50  11.30  1.80  14.000   8.00     10.30  14.90 \n",
       "  Range  Mean   StDev\n",
       "1  12.10   7.22  1.30\n",
       "2   1.50   0.34  0.16\n",
       "3   1.66   0.32  0.15\n",
       "4  65.20   5.44  4.76\n",
       "5   0.60   0.06  0.04\n",
       "6 434.00 115.74 56.52\n",
       "7   1.29   3.22  0.16\n",
       "8   1.78   0.53  0.15\n",
       "9   6.90  10.49  1.19"
      ]
     },
     "metadata": {},
     "output_type": "display_data"
    }
   ],
   "source": [
    "# summarize original df dataset\n",
    "(summary1=propmiss(df[,-c(10:11)])[,-(3:4)])"
   ]
  },
  {
   "cell_type": "code",
   "execution_count": 8,
   "metadata": {},
   "outputs": [
    {
     "name": "stderr",
     "output_type": "stream",
     "text": [
      "Loading required package: ParamHelpers\n",
      "\n",
      "Attaching package: 'mlr'\n",
      "\n",
      "The following object is masked from 'package:caret':\n",
      "\n",
      "    train\n",
      "\n"
     ]
    }
   ],
   "source": [
    "# r code to replace outliers by the threshold of each variable\n",
    "library(mlr)"
   ]
  },
  {
   "cell_type": "code",
   "execution_count": 9,
   "metadata": {
    "collapsed": true
   },
   "outputs": [],
   "source": [
    "dfffull <- capLargeValues(df, target = \"Class\",cols = c(\"fixed.acidity\"),threshold = summary1[1,6])\n",
    "dfffull <- capLargeValues(dfffull, target = \"Class\",cols = c(\"volatile.acidity\"),threshold = summary1[2,6])\n",
    "dfffull <- capLargeValues(dfffull, target = \"Class\",cols = c(\"citric.acid\"),threshold = summary1[3,6])\n",
    "dfffull <- capLargeValues(dfffull, target = \"Class\",cols = c(\"residual.sugar\"),threshold = summary1[4,6])\n",
    "dfffull <- capLargeValues(dfffull, target = \"Class\",cols = c(\"chlorides\"),threshold = summary1[5,6])\n",
    "dfffull <- capLargeValues(dfffull, target = \"Class\",cols = c(\"total.sulfur.dioxide\"),threshold = summary1[6,6])\n",
    "dfffull <- capLargeValues(dfffull, target = \"Class\",cols = c(\"pH\"),threshold = summary1[7,6])\n",
    "dfffull <- capLargeValues(dfffull, target = \"Class\",cols = c(\"sulphates\"),threshold = summary1[8,6])\n",
    "dfffull <- capLargeValues(dfffull, target = \"Class\",cols = c(\"alcohol\"),threshold = summary1[9,6])\n",
    "unloadNamespace(\"mlr\")"
   ]
  },
  {
   "cell_type": "code",
   "execution_count": 10,
   "metadata": {},
   "outputs": [
    {
     "name": "stdout",
     "output_type": "stream",
     "text": [
      "'data.frame':\t6497 obs. of  11 variables:\n",
      " $ fixed.acidity       : num  7 6.3 8.1 7.2 7.2 8.1 6.2 7 6.3 8.1 ...\n",
      " $ volatile.acidity    : num  0.27 0.3 0.28 0.23 0.23 0.28 0.32 0.27 0.3 0.22 ...\n",
      " $ citric.acid         : num  0.36 0.34 0.4 0.32 0.32 0.4 0.16 0.36 0.34 0.43 ...\n",
      " $ residual.sugar      : num  17.5 1.6 6.9 8.5 8.5 ...\n",
      " $ chlorides           : num  0.045 0.049 0.05 0.058 0.058 0.05 0.045 0.045 0.049 0.044 ...\n",
      " $ total.sulfur.dioxide: num  170 132 97 186 186 97 136 170 132 129 ...\n",
      " $ pH                  : num  3 3.3 3.26 3.19 3.19 3.26 3.18 3 3.3 3.22 ...\n",
      " $ sulphates           : num  0.45 0.49 0.44 0.4 0.4 0.44 0.47 0.45 0.49 0.45 ...\n",
      " $ alcohol             : num  8.8 9.5 10.1 9.9 9.9 10.1 9.6 8.8 9.5 11 ...\n",
      " $ quality             : int  6 6 6 6 6 6 6 6 6 6 ...\n",
      " $ Class               : Factor w/ 2 levels \"white\",\"red\": 1 1 1 1 1 1 1 1 1 1 ...\n"
     ]
    }
   ],
   "source": [
    "# get some information about the dataset\n",
    "str(dfffull)"
   ]
  },
  {
   "cell_type": "code",
   "execution_count": 11,
   "metadata": {
    "collapsed": true
   },
   "outputs": [],
   "source": [
    "# remove and dettach df dataset\n",
    "rm(\"df\")\n",
    "detach(\"df\")"
   ]
  },
  {
   "cell_type": "code",
   "execution_count": 12,
   "metadata": {
    "collapsed": true
   },
   "outputs": [],
   "source": [
    "# rename dff dataset as df dataset to use the already created R scripts\n",
    "df <- dfffull\n",
    "\n",
    "# remove dff dataset\n",
    "rm(\"dfffull\")"
   ]
  },
  {
   "cell_type": "code",
   "execution_count": 13,
   "metadata": {},
   "outputs": [
    {
     "data": {
      "text/html": [
       "<table>\n",
       "<thead><tr><th scope=col>fixed.acidity</th><th scope=col>volatile.acidity</th><th scope=col>citric.acid</th><th scope=col>residual.sugar</th><th scope=col>chlorides</th><th scope=col>total.sulfur.dioxide</th><th scope=col>pH</th><th scope=col>sulphates</th><th scope=col>alcohol</th><th scope=col>quality</th><th scope=col>Class</th></tr></thead>\n",
       "<tbody>\n",
       "\t<tr><td>7.0  </td><td>0.27 </td><td>0.36 </td><td>17.55</td><td>0.045</td><td>170  </td><td>3.00 </td><td>0.45 </td><td> 8.8 </td><td>6    </td><td>white</td></tr>\n",
       "\t<tr><td>6.3  </td><td>0.30 </td><td>0.34 </td><td> 1.60</td><td>0.049</td><td>132  </td><td>3.30 </td><td>0.49 </td><td> 9.5 </td><td>6    </td><td>white</td></tr>\n",
       "\t<tr><td>8.1  </td><td>0.28 </td><td>0.40 </td><td> 6.90</td><td>0.050</td><td> 97  </td><td>3.26 </td><td>0.44 </td><td>10.1 </td><td>6    </td><td>white</td></tr>\n",
       "\t<tr><td>7.2  </td><td>0.23 </td><td>0.32 </td><td> 8.50</td><td>0.058</td><td>186  </td><td>3.19 </td><td>0.40 </td><td> 9.9 </td><td>6    </td><td>white</td></tr>\n",
       "\t<tr><td>7.2  </td><td>0.23 </td><td>0.32 </td><td> 8.50</td><td>0.058</td><td>186  </td><td>3.19 </td><td>0.40 </td><td> 9.9 </td><td>6    </td><td>white</td></tr>\n",
       "\t<tr><td>8.1  </td><td>0.28 </td><td>0.40 </td><td> 6.90</td><td>0.050</td><td> 97  </td><td>3.26 </td><td>0.44 </td><td>10.1 </td><td>6    </td><td>white</td></tr>\n",
       "</tbody>\n",
       "</table>\n"
      ],
      "text/latex": [
       "\\begin{tabular}{r|lllllllllll}\n",
       " fixed.acidity & volatile.acidity & citric.acid & residual.sugar & chlorides & total.sulfur.dioxide & pH & sulphates & alcohol & quality & Class\\\\\n",
       "\\hline\n",
       "\t 7.0   & 0.27  & 0.36  & 17.55 & 0.045 & 170   & 3.00  & 0.45  &  8.8  & 6     & white\\\\\n",
       "\t 6.3   & 0.30  & 0.34  &  1.60 & 0.049 & 132   & 3.30  & 0.49  &  9.5  & 6     & white\\\\\n",
       "\t 8.1   & 0.28  & 0.40  &  6.90 & 0.050 &  97   & 3.26  & 0.44  & 10.1  & 6     & white\\\\\n",
       "\t 7.2   & 0.23  & 0.32  &  8.50 & 0.058 & 186   & 3.19  & 0.40  &  9.9  & 6     & white\\\\\n",
       "\t 7.2   & 0.23  & 0.32  &  8.50 & 0.058 & 186   & 3.19  & 0.40  &  9.9  & 6     & white\\\\\n",
       "\t 8.1   & 0.28  & 0.40  &  6.90 & 0.050 &  97   & 3.26  & 0.44  & 10.1  & 6     & white\\\\\n",
       "\\end{tabular}\n"
      ],
      "text/markdown": [
       "\n",
       "fixed.acidity | volatile.acidity | citric.acid | residual.sugar | chlorides | total.sulfur.dioxide | pH | sulphates | alcohol | quality | Class | \n",
       "|---|---|---|---|---|---|\n",
       "| 7.0   | 0.27  | 0.36  | 17.55 | 0.045 | 170   | 3.00  | 0.45  |  8.8  | 6     | white | \n",
       "| 6.3   | 0.30  | 0.34  |  1.60 | 0.049 | 132   | 3.30  | 0.49  |  9.5  | 6     | white | \n",
       "| 8.1   | 0.28  | 0.40  |  6.90 | 0.050 |  97   | 3.26  | 0.44  | 10.1  | 6     | white | \n",
       "| 7.2   | 0.23  | 0.32  |  8.50 | 0.058 | 186   | 3.19  | 0.40  |  9.9  | 6     | white | \n",
       "| 7.2   | 0.23  | 0.32  |  8.50 | 0.058 | 186   | 3.19  | 0.40  |  9.9  | 6     | white | \n",
       "| 8.1   | 0.28  | 0.40  |  6.90 | 0.050 |  97   | 3.26  | 0.44  | 10.1  | 6     | white | \n",
       "\n",
       "\n"
      ],
      "text/plain": [
       "  fixed.acidity volatile.acidity citric.acid residual.sugar chlorides\n",
       "1 7.0           0.27             0.36        17.55          0.045    \n",
       "2 6.3           0.30             0.34         1.60          0.049    \n",
       "3 8.1           0.28             0.40         6.90          0.050    \n",
       "4 7.2           0.23             0.32         8.50          0.058    \n",
       "5 7.2           0.23             0.32         8.50          0.058    \n",
       "6 8.1           0.28             0.40         6.90          0.050    \n",
       "  total.sulfur.dioxide pH   sulphates alcohol quality Class\n",
       "1 170                  3.00 0.45       8.8    6       white\n",
       "2 132                  3.30 0.49       9.5    6       white\n",
       "3  97                  3.26 0.44      10.1    6       white\n",
       "4 186                  3.19 0.40       9.9    6       white\n",
       "5 186                  3.19 0.40       9.9    6       white\n",
       "6  97                  3.26 0.44      10.1    6       white"
      ]
     },
     "metadata": {},
     "output_type": "display_data"
    },
    {
     "name": "stdout",
     "output_type": "stream",
     "text": [
      "'data.frame':\t6497 obs. of  11 variables:\n",
      " $ fixed.acidity       : num  7 6.3 8.1 7.2 7.2 8.1 6.2 7 6.3 8.1 ...\n",
      " $ volatile.acidity    : num  0.27 0.3 0.28 0.23 0.23 0.28 0.32 0.27 0.3 0.22 ...\n",
      " $ citric.acid         : num  0.36 0.34 0.4 0.32 0.32 0.4 0.16 0.36 0.34 0.43 ...\n",
      " $ residual.sugar      : num  17.5 1.6 6.9 8.5 8.5 ...\n",
      " $ chlorides           : num  0.045 0.049 0.05 0.058 0.058 0.05 0.045 0.045 0.049 0.044 ...\n",
      " $ total.sulfur.dioxide: num  170 132 97 186 186 97 136 170 132 129 ...\n",
      " $ pH                  : num  3 3.3 3.26 3.19 3.19 3.26 3.18 3 3.3 3.22 ...\n",
      " $ sulphates           : num  0.45 0.49 0.44 0.4 0.4 0.44 0.47 0.45 0.49 0.45 ...\n",
      " $ alcohol             : num  8.8 9.5 10.1 9.9 9.9 10.1 9.6 8.8 9.5 11 ...\n",
      " $ quality             : int  6 6 6 6 6 6 6 6 6 6 ...\n",
      " $ Class               : Factor w/ 2 levels \"white\",\"red\": 1 1 1 1 1 1 1 1 1 1 ...\n"
     ]
    }
   ],
   "source": [
    "head(df)\n",
    "str(df)"
   ]
  },
  {
   "cell_type": "markdown",
   "metadata": {},
   "source": [
    "## 22 Exploratory Data Analysis (EDA) and Data Preprocessing"
   ]
  },
  {
   "cell_type": "markdown",
   "metadata": {},
   "source": [
    "This Exploratory Data Analysis and Data Preprocessing unit has been done in another project already. The results and the R code [can be found here ](http://nbviewer.jupyter.org/github/arqmain/Machine_Learning/blob/master/R_MLearning/MLearning_Classification_Portugal_Wine_TwoClass_RedWhite_R_KFold/Project4_Portugal_WINE_TwoClass_EDA.ipynb)."
   ]
  },
  {
   "cell_type": "markdown",
   "metadata": {},
   "source": [
    "# III Getting train and test datasets"
   ]
  },
  {
   "cell_type": "code",
   "execution_count": 14,
   "metadata": {
    "collapsed": true
   },
   "outputs": [],
   "source": [
    "#stratified sampling to get the train and test dataset\n",
    "set.seed(7) # Set Seed so that same sample can be reproduced in future also\n",
    "# considering response variable as strata\n",
    "data_part <- createDataPartition(y = df$Class ,  p = 0.70, list = F)\n",
    "testing <- df[-data_part,] # 30% data goes here\n",
    "training <- df[data_part,] # 70% here"
   ]
  },
  {
   "cell_type": "code",
   "execution_count": 15,
   "metadata": {},
   "outputs": [
    {
     "data": {
      "text/html": [
       "<table>\n",
       "<thead><tr><th></th><th scope=col>fixed.acidity</th><th scope=col>volatile.acidity</th><th scope=col>citric.acid</th><th scope=col>residual.sugar</th><th scope=col>chlorides</th><th scope=col>total.sulfur.dioxide</th><th scope=col>pH</th><th scope=col>sulphates</th><th scope=col>alcohol</th><th scope=col>quality</th><th scope=col>Class</th></tr></thead>\n",
       "<tbody>\n",
       "\t<tr><th scope=row>2</th><td>6.3  </td><td>0.30 </td><td>0.34 </td><td> 1.60</td><td>0.049</td><td>132  </td><td>3.30 </td><td>0.49 </td><td> 9.5 </td><td>6    </td><td>white</td></tr>\n",
       "\t<tr><th scope=row>3</th><td>8.1  </td><td>0.28 </td><td>0.40 </td><td> 6.90</td><td>0.050</td><td> 97  </td><td>3.26 </td><td>0.44 </td><td>10.1 </td><td>6    </td><td>white</td></tr>\n",
       "\t<tr><th scope=row>7</th><td>6.2  </td><td>0.32 </td><td>0.16 </td><td> 7.00</td><td>0.045</td><td>136  </td><td>3.18 </td><td>0.47 </td><td> 9.6 </td><td>6    </td><td>white</td></tr>\n",
       "\t<tr><th scope=row>8</th><td>7.0  </td><td>0.27 </td><td>0.36 </td><td>17.55</td><td>0.045</td><td>170  </td><td>3.00 </td><td>0.45 </td><td> 8.8 </td><td>6    </td><td>white</td></tr>\n",
       "\t<tr><th scope=row>9</th><td>6.3  </td><td>0.30 </td><td>0.34 </td><td> 1.60</td><td>0.049</td><td>132  </td><td>3.30 </td><td>0.49 </td><td> 9.5 </td><td>6    </td><td>white</td></tr>\n",
       "\t<tr><th scope=row>10</th><td>8.1  </td><td>0.22 </td><td>0.43 </td><td> 1.50</td><td>0.044</td><td>129  </td><td>3.22 </td><td>0.45 </td><td>11.0 </td><td>6    </td><td>white</td></tr>\n",
       "</tbody>\n",
       "</table>\n"
      ],
      "text/latex": [
       "\\begin{tabular}{r|lllllllllll}\n",
       "  & fixed.acidity & volatile.acidity & citric.acid & residual.sugar & chlorides & total.sulfur.dioxide & pH & sulphates & alcohol & quality & Class\\\\\n",
       "\\hline\n",
       "\t2 & 6.3   & 0.30  & 0.34  &  1.60 & 0.049 & 132   & 3.30  & 0.49  &  9.5  & 6     & white\\\\\n",
       "\t3 & 8.1   & 0.28  & 0.40  &  6.90 & 0.050 &  97   & 3.26  & 0.44  & 10.1  & 6     & white\\\\\n",
       "\t7 & 6.2   & 0.32  & 0.16  &  7.00 & 0.045 & 136   & 3.18  & 0.47  &  9.6  & 6     & white\\\\\n",
       "\t8 & 7.0   & 0.27  & 0.36  & 17.55 & 0.045 & 170   & 3.00  & 0.45  &  8.8  & 6     & white\\\\\n",
       "\t9 & 6.3   & 0.30  & 0.34  &  1.60 & 0.049 & 132   & 3.30  & 0.49  &  9.5  & 6     & white\\\\\n",
       "\t10 & 8.1   & 0.22  & 0.43  &  1.50 & 0.044 & 129   & 3.22  & 0.45  & 11.0  & 6     & white\\\\\n",
       "\\end{tabular}\n"
      ],
      "text/markdown": [
       "\n",
       "| <!--/--> | fixed.acidity | volatile.acidity | citric.acid | residual.sugar | chlorides | total.sulfur.dioxide | pH | sulphates | alcohol | quality | Class | \n",
       "|---|---|---|---|---|---|\n",
       "| 2 | 6.3   | 0.30  | 0.34  |  1.60 | 0.049 | 132   | 3.30  | 0.49  |  9.5  | 6     | white | \n",
       "| 3 | 8.1   | 0.28  | 0.40  |  6.90 | 0.050 |  97   | 3.26  | 0.44  | 10.1  | 6     | white | \n",
       "| 7 | 6.2   | 0.32  | 0.16  |  7.00 | 0.045 | 136   | 3.18  | 0.47  |  9.6  | 6     | white | \n",
       "| 8 | 7.0   | 0.27  | 0.36  | 17.55 | 0.045 | 170   | 3.00  | 0.45  |  8.8  | 6     | white | \n",
       "| 9 | 6.3   | 0.30  | 0.34  |  1.60 | 0.049 | 132   | 3.30  | 0.49  |  9.5  | 6     | white | \n",
       "| 10 | 8.1   | 0.22  | 0.43  |  1.50 | 0.044 | 129   | 3.22  | 0.45  | 11.0  | 6     | white | \n",
       "\n",
       "\n"
      ],
      "text/plain": [
       "   fixed.acidity volatile.acidity citric.acid residual.sugar chlorides\n",
       "2  6.3           0.30             0.34         1.60          0.049    \n",
       "3  8.1           0.28             0.40         6.90          0.050    \n",
       "7  6.2           0.32             0.16         7.00          0.045    \n",
       "8  7.0           0.27             0.36        17.55          0.045    \n",
       "9  6.3           0.30             0.34         1.60          0.049    \n",
       "10 8.1           0.22             0.43         1.50          0.044    \n",
       "   total.sulfur.dioxide pH   sulphates alcohol quality Class\n",
       "2  132                  3.30 0.49       9.5    6       white\n",
       "3   97                  3.26 0.44      10.1    6       white\n",
       "7  136                  3.18 0.47       9.6    6       white\n",
       "8  170                  3.00 0.45       8.8    6       white\n",
       "9  132                  3.30 0.49       9.5    6       white\n",
       "10 129                  3.22 0.45      11.0    6       white"
      ]
     },
     "metadata": {},
     "output_type": "display_data"
    },
    {
     "data": {
      "text/html": [
       "<table>\n",
       "<thead><tr><th></th><th scope=col>fixed.acidity</th><th scope=col>volatile.acidity</th><th scope=col>citric.acid</th><th scope=col>residual.sugar</th><th scope=col>chlorides</th><th scope=col>total.sulfur.dioxide</th><th scope=col>pH</th><th scope=col>sulphates</th><th scope=col>alcohol</th><th scope=col>quality</th><th scope=col>Class</th></tr></thead>\n",
       "<tbody>\n",
       "\t<tr><th scope=row>1</th><td>7.0  </td><td>0.270</td><td>0.36 </td><td>17.55</td><td>0.045</td><td>170  </td><td>3.00 </td><td>0.45 </td><td> 8.8 </td><td>6    </td><td>white</td></tr>\n",
       "\t<tr><th scope=row>4</th><td>7.2  </td><td>0.230</td><td>0.32 </td><td> 8.50</td><td>0.058</td><td>186  </td><td>3.19 </td><td>0.40 </td><td> 9.9 </td><td>6    </td><td>white</td></tr>\n",
       "\t<tr><th scope=row>5</th><td>7.2  </td><td>0.230</td><td>0.32 </td><td> 8.50</td><td>0.058</td><td>186  </td><td>3.19 </td><td>0.40 </td><td> 9.9 </td><td>6    </td><td>white</td></tr>\n",
       "\t<tr><th scope=row>6</th><td>8.1  </td><td>0.280</td><td>0.40 </td><td> 6.90</td><td>0.050</td><td> 97  </td><td>3.26 </td><td>0.44 </td><td>10.1 </td><td>6    </td><td>white</td></tr>\n",
       "\t<tr><th scope=row>18</th><td>6.2  </td><td>0.655</td><td>0.48 </td><td> 1.20</td><td>0.029</td><td> 75  </td><td>3.33 </td><td>0.39 </td><td>12.8 </td><td>8    </td><td>white</td></tr>\n",
       "\t<tr><th scope=row>20</th><td>6.5  </td><td>0.310</td><td>0.14 </td><td> 7.50</td><td>0.044</td><td>133  </td><td>3.22 </td><td>0.50 </td><td> 9.5 </td><td>5    </td><td>white</td></tr>\n",
       "</tbody>\n",
       "</table>\n"
      ],
      "text/latex": [
       "\\begin{tabular}{r|lllllllllll}\n",
       "  & fixed.acidity & volatile.acidity & citric.acid & residual.sugar & chlorides & total.sulfur.dioxide & pH & sulphates & alcohol & quality & Class\\\\\n",
       "\\hline\n",
       "\t1 & 7.0   & 0.270 & 0.36  & 17.55 & 0.045 & 170   & 3.00  & 0.45  &  8.8  & 6     & white\\\\\n",
       "\t4 & 7.2   & 0.230 & 0.32  &  8.50 & 0.058 & 186   & 3.19  & 0.40  &  9.9  & 6     & white\\\\\n",
       "\t5 & 7.2   & 0.230 & 0.32  &  8.50 & 0.058 & 186   & 3.19  & 0.40  &  9.9  & 6     & white\\\\\n",
       "\t6 & 8.1   & 0.280 & 0.40  &  6.90 & 0.050 &  97   & 3.26  & 0.44  & 10.1  & 6     & white\\\\\n",
       "\t18 & 6.2   & 0.655 & 0.48  &  1.20 & 0.029 &  75   & 3.33  & 0.39  & 12.8  & 8     & white\\\\\n",
       "\t20 & 6.5   & 0.310 & 0.14  &  7.50 & 0.044 & 133   & 3.22  & 0.50  &  9.5  & 5     & white\\\\\n",
       "\\end{tabular}\n"
      ],
      "text/markdown": [
       "\n",
       "| <!--/--> | fixed.acidity | volatile.acidity | citric.acid | residual.sugar | chlorides | total.sulfur.dioxide | pH | sulphates | alcohol | quality | Class | \n",
       "|---|---|---|---|---|---|\n",
       "| 1 | 7.0   | 0.270 | 0.36  | 17.55 | 0.045 | 170   | 3.00  | 0.45  |  8.8  | 6     | white | \n",
       "| 4 | 7.2   | 0.230 | 0.32  |  8.50 | 0.058 | 186   | 3.19  | 0.40  |  9.9  | 6     | white | \n",
       "| 5 | 7.2   | 0.230 | 0.32  |  8.50 | 0.058 | 186   | 3.19  | 0.40  |  9.9  | 6     | white | \n",
       "| 6 | 8.1   | 0.280 | 0.40  |  6.90 | 0.050 |  97   | 3.26  | 0.44  | 10.1  | 6     | white | \n",
       "| 18 | 6.2   | 0.655 | 0.48  |  1.20 | 0.029 |  75   | 3.33  | 0.39  | 12.8  | 8     | white | \n",
       "| 20 | 6.5   | 0.310 | 0.14  |  7.50 | 0.044 | 133   | 3.22  | 0.50  |  9.5  | 5     | white | \n",
       "\n",
       "\n"
      ],
      "text/plain": [
       "   fixed.acidity volatile.acidity citric.acid residual.sugar chlorides\n",
       "1  7.0           0.270            0.36        17.55          0.045    \n",
       "4  7.2           0.230            0.32         8.50          0.058    \n",
       "5  7.2           0.230            0.32         8.50          0.058    \n",
       "6  8.1           0.280            0.40         6.90          0.050    \n",
       "18 6.2           0.655            0.48         1.20          0.029    \n",
       "20 6.5           0.310            0.14         7.50          0.044    \n",
       "   total.sulfur.dioxide pH   sulphates alcohol quality Class\n",
       "1  170                  3.00 0.45       8.8    6       white\n",
       "4  186                  3.19 0.40       9.9    6       white\n",
       "5  186                  3.19 0.40       9.9    6       white\n",
       "6   97                  3.26 0.44      10.1    6       white\n",
       "18  75                  3.33 0.39      12.8    8       white\n",
       "20 133                  3.22 0.50       9.5    5       white"
      ]
     },
     "metadata": {},
     "output_type": "display_data"
    }
   ],
   "source": [
    "#taking a look of the train and test dataset by columns \n",
    "head(training)\n",
    "head(testing)"
   ]
  },
  {
   "cell_type": "code",
   "execution_count": 15,
   "metadata": {},
   "outputs": [
    {
     "name": "stdout",
     "output_type": "stream",
     "text": [
      "'data.frame':\t4549 obs. of  11 variables:\n",
      " $ fixed.acidity       : num  6.3 8.1 6.2 7 6.3 8.1 8.1 8.6 7.9 6.6 ...\n",
      " $ volatile.acidity    : num  0.3 0.28 0.32 0.27 0.3 0.22 0.27 0.23 0.18 0.16 ...\n",
      " $ citric.acid         : num  0.34 0.4 0.16 0.36 0.34 0.43 0.41 0.4 0.37 0.4 ...\n",
      " $ residual.sugar      : num  1.6 6.9 7 17.5 1.6 ...\n",
      " $ chlorides           : num  0.049 0.05 0.045 0.045 0.049 0.044 0.033 0.035 0.04 0.044 ...\n",
      " $ total.sulfur.dioxide: num  132 97 136 170 132 129 63 109 75 143 ...\n",
      " $ pH                  : num  3.3 3.26 3.18 3 3.3 3.22 2.99 3.14 3.18 3.54 ...\n",
      " $ sulphates           : num  0.49 0.44 0.47 0.45 0.49 0.45 0.56 0.53 0.63 0.52 ...\n",
      " $ alcohol             : num  9.5 10.1 9.6 8.8 9.5 11 12 9.7 10.8 12.4 ...\n",
      " $ quality             : int  6 6 6 6 6 6 5 5 5 7 ...\n",
      " $ Class               : Factor w/ 2 levels \"white\",\"red\": 1 1 1 1 1 1 1 1 1 1 ...\n"
     ]
    }
   ],
   "source": [
    "# get some information about training dataset\n",
    "str(training[,1:11])"
   ]
  },
  {
   "cell_type": "code",
   "execution_count": 16,
   "metadata": {},
   "outputs": [
    {
     "name": "stdout",
     "output_type": "stream",
     "text": [
      "'data.frame':\t1948 obs. of  11 variables:\n",
      " $ fixed.acidity       : num  7 7.2 7.2 8.1 6.2 6.5 6.8 6.6 7.2 6.2 ...\n",
      " $ volatile.acidity    : num  0.27 0.23 0.23 0.28 0.655 0.31 0.26 0.27 0.32 0.12 ...\n",
      " $ citric.acid         : num  0.36 0.32 0.32 0.4 0.48 0.14 0.42 0.41 0.36 0.34 ...\n",
      " $ residual.sugar      : num  17.5 8.5 8.5 6.9 1.2 ...\n",
      " $ chlorides           : num  0.045 0.058 0.058 0.05 0.029 0.044 0.049 0.052 0.033 0.045 ...\n",
      " $ total.sulfur.dioxide: num  170 186 186 97 75 133 122 142 114 117 ...\n",
      " $ pH                  : num  3 3.19 3.19 3.26 3.33 3.22 3.47 3.42 3.1 3.42 ...\n",
      " $ sulphates           : num  0.45 0.4 0.4 0.44 0.39 0.5 0.48 0.47 0.71 0.51 ...\n",
      " $ alcohol             : num  8.8 9.9 9.9 10.1 12.8 9.5 10.5 10 12.3 9 ...\n",
      " $ quality             : int  6 6 6 6 8 5 8 6 7 6 ...\n",
      " $ Class               : Factor w/ 2 levels \"white\",\"red\": 1 1 1 1 1 1 1 1 1 1 ...\n"
     ]
    }
   ],
   "source": [
    "# get some information about testing dataset\n",
    "str(testing[,1:11])"
   ]
  },
  {
   "cell_type": "code",
   "execution_count": 17,
   "metadata": {},
   "outputs": [
    {
     "data": {
      "text/html": [
       "<table>\n",
       "<thead><tr><th scope=col>variable</th><th scope=col>n</th><th scope=col>P25</th><th scope=col>P75</th><th scope=col>IQR</th><th scope=col>Minimum</th><th scope=col>Median</th><th scope=col>Maximum</th><th scope=col>Range</th><th scope=col>Mean</th><th scope=col>StDev</th></tr></thead>\n",
       "<tbody>\n",
       "\t<tr><td>fixed.acidity       </td><td>4549                </td><td> 6.40               </td><td>  7.60              </td><td> 1.20               </td><td>4.20                </td><td>  7.00              </td><td>  9.65              </td><td>  5.45              </td><td>  7.13              </td><td> 1.05               </td></tr>\n",
       "\t<tr><td>volatile.acidity    </td><td>4549                </td><td> 0.23               </td><td>  0.41              </td><td> 0.18               </td><td>0.08                </td><td>  0.30              </td><td>  0.66              </td><td>  0.58              </td><td>  0.33              </td><td> 0.14               </td></tr>\n",
       "\t<tr><td>citric.acid         </td><td>4549                </td><td> 0.24               </td><td>  0.39              </td><td> 0.15               </td><td>0.00                </td><td>  0.31              </td><td>  0.60              </td><td>  0.60              </td><td>  0.31              </td><td> 0.13               </td></tr>\n",
       "\t<tr><td>residual.sugar      </td><td>4549                </td><td> 1.80               </td><td>  8.10              </td><td> 6.30               </td><td>0.60                </td><td>  2.90              </td><td> 17.55              </td><td> 16.95              </td><td>  5.39              </td><td> 4.61               </td></tr>\n",
       "\t<tr><td>chlorides           </td><td>4549                </td><td> 0.04               </td><td>  0.06              </td><td> 0.03               </td><td>0.01                </td><td>  0.05              </td><td>  0.10              </td><td>  0.10              </td><td>  0.05              </td><td> 0.02               </td></tr>\n",
       "\t<tr><td>total.sulfur.dioxide</td><td>4549                </td><td>78.00               </td><td>156.00              </td><td>78.00               </td><td>6.00                </td><td>119.00              </td><td>274.50              </td><td>268.50              </td><td>116.08              </td><td>56.17               </td></tr>\n",
       "\t<tr><td>pH                  </td><td>4549                </td><td> 3.11               </td><td>  3.32              </td><td> 0.21               </td><td>2.72                </td><td>  3.20              </td><td>  3.63              </td><td>  0.91              </td><td>  3.22              </td><td> 0.16               </td></tr>\n",
       "\t<tr><td>sulphates           </td><td>4549                </td><td> 0.43               </td><td>  0.60              </td><td> 0.17               </td><td>0.22                </td><td>  0.51              </td><td>  0.86              </td><td>  0.64              </td><td>  0.53              </td><td> 0.13               </td></tr>\n",
       "\t<tr><td>alcohol             </td><td>4549                </td><td> 9.50               </td><td> 11.30              </td><td> 1.80               </td><td>8.00                </td><td> 10.30              </td><td> 14.00              </td><td>  6.00              </td><td> 10.50              </td><td> 1.19               </td></tr>\n",
       "</tbody>\n",
       "</table>\n"
      ],
      "text/latex": [
       "\\begin{tabular}{r|lllllllllll}\n",
       " variable & n & P25 & P75 & IQR & Minimum & Median & Maximum & Range & Mean & StDev\\\\\n",
       "\\hline\n",
       "\t fixed.acidity        & 4549                 &  6.40                &   7.60               &  1.20                & 4.20                 &   7.00               &   9.65               &   5.45               &   7.13               &  1.05               \\\\\n",
       "\t volatile.acidity     & 4549                 &  0.23                &   0.41               &  0.18                & 0.08                 &   0.30               &   0.66               &   0.58               &   0.33               &  0.14               \\\\\n",
       "\t citric.acid          & 4549                 &  0.24                &   0.39               &  0.15                & 0.00                 &   0.31               &   0.60               &   0.60               &   0.31               &  0.13               \\\\\n",
       "\t residual.sugar       & 4549                 &  1.80                &   8.10               &  6.30                & 0.60                 &   2.90               &  17.55               &  16.95               &   5.39               &  4.61               \\\\\n",
       "\t chlorides            & 4549                 &  0.04                &   0.06               &  0.03                & 0.01                 &   0.05               &   0.10               &   0.10               &   0.05               &  0.02               \\\\\n",
       "\t total.sulfur.dioxide & 4549                 & 78.00                & 156.00               & 78.00                & 6.00                 & 119.00               & 274.50               & 268.50               & 116.08               & 56.17               \\\\\n",
       "\t pH                   & 4549                 &  3.11                &   3.32               &  0.21                & 2.72                 &   3.20               &   3.63               &   0.91               &   3.22               &  0.16               \\\\\n",
       "\t sulphates            & 4549                 &  0.43                &   0.60               &  0.17                & 0.22                 &   0.51               &   0.86               &   0.64               &   0.53               &  0.13               \\\\\n",
       "\t alcohol              & 4549                 &  9.50                &  11.30               &  1.80                & 8.00                 &  10.30               &  14.00               &   6.00               &  10.50               &  1.19               \\\\\n",
       "\\end{tabular}\n"
      ],
      "text/markdown": [
       "\n",
       "variable | n | P25 | P75 | IQR | Minimum | Median | Maximum | Range | Mean | StDev | \n",
       "|---|---|---|---|---|---|---|---|---|\n",
       "| fixed.acidity        | 4549                 |  6.40                |   7.60               |  1.20                | 4.20                 |   7.00               |   9.65               |   5.45               |   7.13               |  1.05                | \n",
       "| volatile.acidity     | 4549                 |  0.23                |   0.41               |  0.18                | 0.08                 |   0.30               |   0.66               |   0.58               |   0.33               |  0.14                | \n",
       "| citric.acid          | 4549                 |  0.24                |   0.39               |  0.15                | 0.00                 |   0.31               |   0.60               |   0.60               |   0.31               |  0.13                | \n",
       "| residual.sugar       | 4549                 |  1.80                |   8.10               |  6.30                | 0.60                 |   2.90               |  17.55               |  16.95               |   5.39               |  4.61                | \n",
       "| chlorides            | 4549                 |  0.04                |   0.06               |  0.03                | 0.01                 |   0.05               |   0.10               |   0.10               |   0.05               |  0.02                | \n",
       "| total.sulfur.dioxide | 4549                 | 78.00                | 156.00               | 78.00                | 6.00                 | 119.00               | 274.50               | 268.50               | 116.08               | 56.17                | \n",
       "| pH                   | 4549                 |  3.11                |   3.32               |  0.21                | 2.72                 |   3.20               |   3.63               |   0.91               |   3.22               |  0.16                | \n",
       "| sulphates            | 4549                 |  0.43                |   0.60               |  0.17                | 0.22                 |   0.51               |   0.86               |   0.64               |   0.53               |  0.13                | \n",
       "| alcohol              | 4549                 |  9.50                |  11.30               |  1.80                | 8.00                 |  10.30               |  14.00               |   6.00               |  10.50               |  1.19                | \n",
       "\n",
       "\n"
      ],
      "text/plain": [
       "  variable             n    P25   P75    IQR   Minimum Median Maximum Range \n",
       "1 fixed.acidity        4549  6.40   7.60  1.20 4.20      7.00   9.65    5.45\n",
       "2 volatile.acidity     4549  0.23   0.41  0.18 0.08      0.30   0.66    0.58\n",
       "3 citric.acid          4549  0.24   0.39  0.15 0.00      0.31   0.60    0.60\n",
       "4 residual.sugar       4549  1.80   8.10  6.30 0.60      2.90  17.55   16.95\n",
       "5 chlorides            4549  0.04   0.06  0.03 0.01      0.05   0.10    0.10\n",
       "6 total.sulfur.dioxide 4549 78.00 156.00 78.00 6.00    119.00 274.50  268.50\n",
       "7 pH                   4549  3.11   3.32  0.21 2.72      3.20   3.63    0.91\n",
       "8 sulphates            4549  0.43   0.60  0.17 0.22      0.51   0.86    0.64\n",
       "9 alcohol              4549  9.50  11.30  1.80 8.00     10.30  14.00    6.00\n",
       "  Mean   StDev\n",
       "1   7.13  1.05\n",
       "2   0.33  0.14\n",
       "3   0.31  0.13\n",
       "4   5.39  4.61\n",
       "5   0.05  0.02\n",
       "6 116.08 56.17\n",
       "7   3.22  0.16\n",
       "8   0.53  0.13\n",
       "9  10.50  1.19"
      ]
     },
     "metadata": {},
     "output_type": "display_data"
    }
   ],
   "source": [
    "# summarize training dataset\n",
    "(summary=propmiss(training[,-c(10:11)])[,-(3:4)][,-6])"
   ]
  },
  {
   "cell_type": "code",
   "execution_count": 18,
   "metadata": {},
   "outputs": [
    {
     "data": {
      "text/html": [
       "<table>\n",
       "<thead><tr><th scope=col>variable</th><th scope=col>n</th><th scope=col>P25</th><th scope=col>P75</th><th scope=col>IQR</th><th scope=col>Minimum</th><th scope=col>Median</th><th scope=col>Maximum</th><th scope=col>Range</th><th scope=col>Mean</th><th scope=col>StDev</th></tr></thead>\n",
       "<tbody>\n",
       "\t<tr><td>fixed.acidity       </td><td>1948                </td><td> 6.40               </td><td>  7.80              </td><td> 1.40               </td><td>3.80                </td><td>  7.00              </td><td>  9.65              </td><td>  5.85              </td><td>  7.18              </td><td> 1.11               </td></tr>\n",
       "\t<tr><td>volatile.acidity    </td><td>1948                </td><td> 0.23               </td><td>  0.40              </td><td> 0.17               </td><td>0.08                </td><td>  0.29              </td><td>  0.66              </td><td>  0.57              </td><td>  0.33              </td><td> 0.14               </td></tr>\n",
       "\t<tr><td>citric.acid         </td><td>1948                </td><td> 0.25               </td><td>  0.40              </td><td> 0.15               </td><td>0.00                </td><td>  0.31              </td><td>  0.60              </td><td>  0.60              </td><td>  0.32              </td><td> 0.14               </td></tr>\n",
       "\t<tr><td>residual.sugar      </td><td>1948                </td><td> 1.80               </td><td>  8.10              </td><td> 6.30               </td><td>0.60                </td><td>  3.20              </td><td> 17.55              </td><td> 16.95              </td><td>  5.45              </td><td> 4.62               </td></tr>\n",
       "\t<tr><td>chlorides           </td><td>1948                </td><td> 0.04               </td><td>  0.06              </td><td> 0.03               </td><td>0.01                </td><td>  0.05              </td><td>  0.10              </td><td>  0.09              </td><td>  0.05              </td><td> 0.02               </td></tr>\n",
       "\t<tr><td>total.sulfur.dioxide</td><td>1948                </td><td>75.75               </td><td>155.00              </td><td>79.25               </td><td>6.00                </td><td>117.00              </td><td>274.50              </td><td>268.50              </td><td>114.72              </td><td>56.46               </td></tr>\n",
       "\t<tr><td>pH                  </td><td>1948                </td><td> 3.10               </td><td>  3.32              </td><td> 0.22               </td><td>2.79                </td><td>  3.21              </td><td>  3.63              </td><td>  0.84              </td><td>  3.22              </td><td> 0.16               </td></tr>\n",
       "\t<tr><td>sulphates           </td><td>1948                </td><td> 0.43               </td><td>  0.60              </td><td> 0.17               </td><td>0.25                </td><td>  0.50              </td><td>  0.86              </td><td>  0.60              </td><td>  0.53              </td><td> 0.13               </td></tr>\n",
       "\t<tr><td>alcohol             </td><td>1948                </td><td> 9.50               </td><td> 11.30              </td><td> 1.80               </td><td>8.00                </td><td> 10.30              </td><td> 14.00              </td><td>  6.00              </td><td> 10.47              </td><td> 1.20               </td></tr>\n",
       "</tbody>\n",
       "</table>\n"
      ],
      "text/latex": [
       "\\begin{tabular}{r|lllllllllll}\n",
       " variable & n & P25 & P75 & IQR & Minimum & Median & Maximum & Range & Mean & StDev\\\\\n",
       "\\hline\n",
       "\t fixed.acidity        & 1948                 &  6.40                &   7.80               &  1.40                & 3.80                 &   7.00               &   9.65               &   5.85               &   7.18               &  1.11               \\\\\n",
       "\t volatile.acidity     & 1948                 &  0.23                &   0.40               &  0.17                & 0.08                 &   0.29               &   0.66               &   0.57               &   0.33               &  0.14               \\\\\n",
       "\t citric.acid          & 1948                 &  0.25                &   0.40               &  0.15                & 0.00                 &   0.31               &   0.60               &   0.60               &   0.32               &  0.14               \\\\\n",
       "\t residual.sugar       & 1948                 &  1.80                &   8.10               &  6.30                & 0.60                 &   3.20               &  17.55               &  16.95               &   5.45               &  4.62               \\\\\n",
       "\t chlorides            & 1948                 &  0.04                &   0.06               &  0.03                & 0.01                 &   0.05               &   0.10               &   0.09               &   0.05               &  0.02               \\\\\n",
       "\t total.sulfur.dioxide & 1948                 & 75.75                & 155.00               & 79.25                & 6.00                 & 117.00               & 274.50               & 268.50               & 114.72               & 56.46               \\\\\n",
       "\t pH                   & 1948                 &  3.10                &   3.32               &  0.22                & 2.79                 &   3.21               &   3.63               &   0.84               &   3.22               &  0.16               \\\\\n",
       "\t sulphates            & 1948                 &  0.43                &   0.60               &  0.17                & 0.25                 &   0.50               &   0.86               &   0.60               &   0.53               &  0.13               \\\\\n",
       "\t alcohol              & 1948                 &  9.50                &  11.30               &  1.80                & 8.00                 &  10.30               &  14.00               &   6.00               &  10.47               &  1.20               \\\\\n",
       "\\end{tabular}\n"
      ],
      "text/markdown": [
       "\n",
       "variable | n | P25 | P75 | IQR | Minimum | Median | Maximum | Range | Mean | StDev | \n",
       "|---|---|---|---|---|---|---|---|---|\n",
       "| fixed.acidity        | 1948                 |  6.40                |   7.80               |  1.40                | 3.80                 |   7.00               |   9.65               |   5.85               |   7.18               |  1.11                | \n",
       "| volatile.acidity     | 1948                 |  0.23                |   0.40               |  0.17                | 0.08                 |   0.29               |   0.66               |   0.57               |   0.33               |  0.14                | \n",
       "| citric.acid          | 1948                 |  0.25                |   0.40               |  0.15                | 0.00                 |   0.31               |   0.60               |   0.60               |   0.32               |  0.14                | \n",
       "| residual.sugar       | 1948                 |  1.80                |   8.10               |  6.30                | 0.60                 |   3.20               |  17.55               |  16.95               |   5.45               |  4.62                | \n",
       "| chlorides            | 1948                 |  0.04                |   0.06               |  0.03                | 0.01                 |   0.05               |   0.10               |   0.09               |   0.05               |  0.02                | \n",
       "| total.sulfur.dioxide | 1948                 | 75.75                | 155.00               | 79.25                | 6.00                 | 117.00               | 274.50               | 268.50               | 114.72               | 56.46                | \n",
       "| pH                   | 1948                 |  3.10                |   3.32               |  0.22                | 2.79                 |   3.21               |   3.63               |   0.84               |   3.22               |  0.16                | \n",
       "| sulphates            | 1948                 |  0.43                |   0.60               |  0.17                | 0.25                 |   0.50               |   0.86               |   0.60               |   0.53               |  0.13                | \n",
       "| alcohol              | 1948                 |  9.50                |  11.30               |  1.80                | 8.00                 |  10.30               |  14.00               |   6.00               |  10.47               |  1.20                | \n",
       "\n",
       "\n"
      ],
      "text/plain": [
       "  variable             n    P25   P75    IQR   Minimum Median Maximum Range \n",
       "1 fixed.acidity        1948  6.40   7.80  1.40 3.80      7.00   9.65    5.85\n",
       "2 volatile.acidity     1948  0.23   0.40  0.17 0.08      0.29   0.66    0.57\n",
       "3 citric.acid          1948  0.25   0.40  0.15 0.00      0.31   0.60    0.60\n",
       "4 residual.sugar       1948  1.80   8.10  6.30 0.60      3.20  17.55   16.95\n",
       "5 chlorides            1948  0.04   0.06  0.03 0.01      0.05   0.10    0.09\n",
       "6 total.sulfur.dioxide 1948 75.75 155.00 79.25 6.00    117.00 274.50  268.50\n",
       "7 pH                   1948  3.10   3.32  0.22 2.79      3.21   3.63    0.84\n",
       "8 sulphates            1948  0.43   0.60  0.17 0.25      0.50   0.86    0.60\n",
       "9 alcohol              1948  9.50  11.30  1.80 8.00     10.30  14.00    6.00\n",
       "  Mean   StDev\n",
       "1   7.18  1.11\n",
       "2   0.33  0.14\n",
       "3   0.32  0.14\n",
       "4   5.45  4.62\n",
       "5   0.05  0.02\n",
       "6 114.72 56.46\n",
       "7   3.22  0.16\n",
       "8   0.53  0.13\n",
       "9  10.47  1.20"
      ]
     },
     "metadata": {},
     "output_type": "display_data"
    }
   ],
   "source": [
    "# summarize testing dataset\n",
    "(summary=propmiss(testing[,-c(10:11)])[,-(3:4)][,-6])"
   ]
  },
  {
   "cell_type": "markdown",
   "metadata": {},
   "source": [
    "# IV Neural Network\n",
    " \n",
    "In this project I have considered Neural Network algorithm. I use \"set.seed(7)\" so that same sample can be reproduced in the future and also it ensures the results are directly comparable."
   ]
  },
  {
   "cell_type": "markdown",
   "metadata": {
    "collapsed": true
   },
   "source": [
    "## 41 Building Machine Learning Model"
   ]
  },
  {
   "cell_type": "code",
   "execution_count": 16,
   "metadata": {
    "collapsed": true
   },
   "outputs": [],
   "source": [
    "## Control Resampling Technique: 10-fold CV\n",
    "fiveStats = function(...) c (twoClassSummary(...), defaultSummary(...))\n",
    "metric <- \"ROC\"\n",
    "cvCtrl <- trainControl(method = \"cv\", number=10,  summaryFunction = fiveStats, classProbs = TRUE, savePredictions=T)"
   ]
  },
  {
   "cell_type": "code",
   "execution_count": 17,
   "metadata": {},
   "outputs": [
    {
     "name": "stderr",
     "output_type": "stream",
     "text": [
      "Loading required package: nnet\n"
     ]
    }
   ],
   "source": [
    "## Construction Predictive Model1\n",
    "set.seed(7)\n",
    "model1.fit <- train(Class ~ ., data = training, method=\"nnet\", trControl=cvCtrl, metric= metric, preProcess=\"range\", tuneLength=3, trace=F, maxit=1000)"
   ]
  },
  {
   "cell_type": "code",
   "execution_count": 18,
   "metadata": {},
   "outputs": [
    {
     "data": {
      "text/plain": [
       "Neural Network \n",
       "\n",
       "4549 samples\n",
       "  10 predictor\n",
       "   2 classes: 'white', 'red' \n",
       "\n",
       "Pre-processing: re-scaling to [0, 1] (10) \n",
       "Resampling: Cross-Validated (10 fold) \n",
       "Summary of sample sizes: 4094, 4094, 4094, 4094, 4094, 4094, ... \n",
       "Resampling results across tuning parameters:\n",
       "\n",
       "  size  decay  ROC        Sens       Spec       Accuracy   Kappa    \n",
       "  1     0e+00  0.8483990  0.9970828  0.6848214  0.9202183  0.6839427\n",
       "  1     1e-04  0.9477586  0.9956251  0.8794643  0.9670315  0.8774227\n",
       "  1     1e-01  0.9974723  0.9941674  0.9812500  0.9909876  0.9756942\n",
       "  3     0e+00  0.9941946  0.9932936  0.9767857  0.9892288  0.9711899\n",
       "  3     1e-04  0.9950710  0.9912519  0.9830357  0.9892293  0.9713004\n",
       "  3     1e-01  0.9992190  0.9956260  0.9866071  0.9934051  0.9822323\n",
       "  5     0e+00  0.9918494  0.9959184  0.9767857  0.9912073  0.9762138\n",
       "  5     1e-04  0.9913200  0.9903773  0.9758929  0.9868113  0.9645459\n",
       "  5     1e-01  0.9990707  0.9959167  0.9875000  0.9938447  0.9834132\n",
       "\n",
       "ROC was used to select the optimal model using  the largest value.\n",
       "The final values used for the model were size = 3 and decay = 0.1."
      ]
     },
     "metadata": {},
     "output_type": "display_data"
    }
   ],
   "source": [
    "model1.fit"
   ]
  },
  {
   "cell_type": "code",
   "execution_count": 19,
   "metadata": {},
   "outputs": [
    {
     "data": {
      "text/plain": [
       "Confusion Matrix and Statistics\n",
       "\n",
       "          Reference\n",
       "Prediction white  red\n",
       "     white  1462    7\n",
       "     red       7  472\n",
       "                                         \n",
       "               Accuracy : 0.9928         \n",
       "                 95% CI : (0.988, 0.9961)\n",
       "    No Information Rate : 0.7541         \n",
       "    P-Value [Acc > NIR] : <2e-16         \n",
       "                                         \n",
       "                  Kappa : 0.9806         \n",
       " Mcnemar's Test P-Value : 1              \n",
       "                                         \n",
       "            Sensitivity : 0.9952         \n",
       "            Specificity : 0.9854         \n",
       "         Pos Pred Value : 0.9952         \n",
       "         Neg Pred Value : 0.9854         \n",
       "             Prevalence : 0.7541         \n",
       "         Detection Rate : 0.7505         \n",
       "   Detection Prevalence : 0.7541         \n",
       "      Balanced Accuracy : 0.9903         \n",
       "                                         \n",
       "       'Positive' Class : white          \n",
       "                                         "
      ]
     },
     "metadata": {},
     "output_type": "display_data"
    }
   ],
   "source": [
    "## Test Set Results model1\n",
    "preds_nnet = predict(model1.fit, testing[,-11])\n",
    "confusionMatrix(preds_nnet, testing[,11], positive='white')"
   ]
  },
  {
   "cell_type": "code",
   "execution_count": 20,
   "metadata": {},
   "outputs": [
    {
     "data": {
      "text/plain": [
       "nnet variable importance\n",
       "\n",
       "                     Overall\n",
       "chlorides             27.379\n",
       "total.sulfur.dioxide  13.261\n",
       "pH                    12.080\n",
       "volatile.acidity      10.152\n",
       "sulphates              9.661\n",
       "alcohol                9.294\n",
       "fixed.acidity          9.158\n",
       "residual.sugar         4.603\n",
       "quality                3.247\n",
       "citric.acid            1.165"
      ]
     },
     "metadata": {},
     "output_type": "display_data"
    }
   ],
   "source": [
    "## variable importance model1\n",
    "nn.imp1 = varImp ( model1.fit , scale = F)\n",
    "nn.imp1"
   ]
  },
  {
   "cell_type": "code",
   "execution_count": 23,
   "metadata": {},
   "outputs": [
    {
     "data": {},
     "metadata": {},
     "output_type": "display_data"
    },
    {
     "data": {
      "image/png": "[encoded data removed]",
      "text/plain": [
       "plot without title"
      ]
     },
     "metadata": {},
     "output_type": "display_data"
    }
   ],
   "source": [
    "## Graphic variable importance model1\n",
    "# dev.new()\n",
    "plot(nn.imp1, top=10, main=\"Variable Importance - NN Model1\")"
   ]
  },
  {
   "cell_type": "code",
   "execution_count": 24,
   "metadata": {},
   "outputs": [
    {
     "data": {
      "text/html": [
       "<table>\n",
       "<thead><tr><th></th><th scope=col>white</th><th scope=col>red</th></tr></thead>\n",
       "<tbody>\n",
       "\t<tr><th scope=row>1</th><td>0.9999586   </td><td>4.137532e-05</td></tr>\n",
       "\t<tr><th scope=row>4</th><td>0.9997720   </td><td>2.279823e-04</td></tr>\n",
       "\t<tr><th scope=row>5</th><td>0.9997720   </td><td>2.279823e-04</td></tr>\n",
       "\t<tr><th scope=row>6</th><td>0.9968113   </td><td>3.188682e-03</td></tr>\n",
       "\t<tr><th scope=row>18</th><td>0.9784942   </td><td>2.150584e-02</td></tr>\n",
       "\t<tr><th scope=row>20</th><td>0.9997780   </td><td>2.220199e-04</td></tr>\n",
       "</tbody>\n",
       "</table>\n"
      ],
      "text/latex": [
       "\\begin{tabular}{r|ll}\n",
       "  & white & red\\\\\n",
       "\\hline\n",
       "\t1 & 0.9999586    & 4.137532e-05\\\\\n",
       "\t4 & 0.9997720    & 2.279823e-04\\\\\n",
       "\t5 & 0.9997720    & 2.279823e-04\\\\\n",
       "\t6 & 0.9968113    & 3.188682e-03\\\\\n",
       "\t18 & 0.9784942    & 2.150584e-02\\\\\n",
       "\t20 & 0.9997780    & 2.220199e-04\\\\\n",
       "\\end{tabular}\n"
      ],
      "text/markdown": [
       "\n",
       "| <!--/--> | white | red | \n",
       "|---|---|---|---|---|---|\n",
       "| 1 | 0.9999586    | 4.137532e-05 | \n",
       "| 4 | 0.9997720    | 2.279823e-04 | \n",
       "| 5 | 0.9997720    | 2.279823e-04 | \n",
       "| 6 | 0.9968113    | 3.188682e-03 | \n",
       "| 18 | 0.9784942    | 2.150584e-02 | \n",
       "| 20 | 0.9997780    | 2.220199e-04 | \n",
       "\n",
       "\n"
      ],
      "text/plain": [
       "   white     red         \n",
       "1  0.9999586 4.137532e-05\n",
       "4  0.9997720 2.279823e-04\n",
       "5  0.9997720 2.279823e-04\n",
       "6  0.9968113 3.188682e-03\n",
       "18 0.9784942 2.150584e-02\n",
       "20 0.9997780 2.220199e-04"
      ]
     },
     "metadata": {},
     "output_type": "display_data"
    }
   ],
   "source": [
    "nnProbs <- predict(model1.fit, testing, type = \"prob\")\n",
    "head(nnProbs)"
   ]
  },
  {
   "cell_type": "code",
   "execution_count": 25,
   "metadata": {},
   "outputs": [
    {
     "name": "stderr",
     "output_type": "stream",
     "text": [
      "Type 'citation(\"pROC\")' for a citation.\n",
      "\n",
      "Attaching package: 'pROC'\n",
      "\n",
      "The following objects are masked from 'package:stats':\n",
      "\n",
      "    cov, smooth, var\n",
      "\n"
     ]
    },
    {
     "data": {
      "image/png": "[encoded data removed]",
      "text/plain": [
       "Plot with title \"Neural Network Model1 ROC curve\""
      ]
     },
     "metadata": {},
     "output_type": "display_data"
    }
   ],
   "source": [
    "## Creating the ROC Curve\n",
    "library(pROC)\n",
    "nnProbs <- predict(model1.fit, testing, type = \"prob\")\n",
    "nnROC <- roc(predictor = nnProbs$white, response = testing$Class, levels = rev(levels(testing$Class)))\n",
    "\n",
    "plot(nnROC, type = \"S\", print.thres = .5, main=\"Neural Network Model1 ROC curve\",  col = \"blue\", print.auc=TRUE)\n"
   ]
  },
  {
   "cell_type": "markdown",
   "metadata": {},
   "source": [
    "## 42 Plotting the Neural Network selected model"
   ]
  },
  {
   "cell_type": "code",
   "execution_count": 24,
   "metadata": {},
   "outputs": [
    {
     "data": {
      "image/png": "[encoded data removed]",
      "text/plain": [
       "plot without title"
      ]
     },
     "metadata": {},
     "output_type": "display_data"
    }
   ],
   "source": [
    "## Creating the nn plot\n",
    "library(NeuralNetTools)\n",
    "plotnet(model1.fit, alpha=0.6)\n"
   ]
  },
  {
   "cell_type": "code",
   "execution_count": 40,
   "metadata": {},
   "outputs": [
    {
     "data": {
      "text/plain": [
       "a 10-3-1 network with 37 weights\n",
       "options were - entropy fitting  decay=0.1\n",
       "  b->h1  i1->h1  i2->h1  i3->h1  i4->h1  i5->h1  i6->h1  i7->h1  i8->h1  i9->h1 \n",
       "   4.78   -2.65   -2.79    0.24    1.90   -1.13    5.38   -3.77   -1.58    1.52 \n",
       "i10->h1 \n",
       "  -0.58 \n",
       "  b->h2  i1->h2  i2->h2  i3->h2  i4->h2  i5->h2  i6->h2  i7->h2  i8->h2  i9->h2 \n",
       "  -2.77   -1.34   -0.47   -0.04    0.64    9.23   -2.33   -1.55    0.73    2.94 \n",
       "i10->h2 \n",
       "  -0.76 \n",
       "  b->h3  i1->h3  i2->h3  i3->h3  i4->h3  i5->h3  i6->h3  i7->h3  i8->h3  i9->h3 \n",
       "  -0.41    1.19    2.13    0.31   -0.25   -4.34   -0.44    1.55    2.52    0.87 \n",
       "i10->h3 \n",
       "   0.46 \n",
       "  b->o  h1->o  h2->o  h3->o \n",
       " -3.66 -10.93   8.75   4.57 "
      ]
     },
     "metadata": {},
     "output_type": "display_data"
    }
   ],
   "source": [
    "## Getting summary of fitted model1.  We get the weights for the selected nn model\n",
    "summary(model1.fit)"
   ]
  },
  {
   "cell_type": "markdown",
   "metadata": {},
   "source": [
    "The model chosen by the nnet method has 3 hidden layer nodes and a decay parameter of 0.1. The nnet plot shows us its graphical representation. \n",
    "\n",
    "The weights measures for each combination of input-layer hidden-layer and the output can be gotten from the output of the summary (model1.fit) command."
   ]
  },
  {
   "cell_type": "markdown",
   "metadata": {},
   "source": [
    "## V Making predictions\n",
    " \n",
    "After doing all the building stuff, we want to get the predictions from model1 on our training dataset."
   ]
  },
  {
   "cell_type": "code",
   "execution_count": 26,
   "metadata": {},
   "outputs": [
    {
     "data": {
      "text/html": [
       "<table>\n",
       "<thead><tr><th></th><th scope=col>white</th><th scope=col>red</th></tr></thead>\n",
       "<tbody>\n",
       "\t<tr><th scope=row>1</th><td>0.9999586   </td><td>4.137532e-05</td></tr>\n",
       "\t<tr><th scope=row>4</th><td>0.9997720   </td><td>2.279823e-04</td></tr>\n",
       "\t<tr><th scope=row>5</th><td>0.9997720   </td><td>2.279823e-04</td></tr>\n",
       "\t<tr><th scope=row>6</th><td>0.9968113   </td><td>3.188682e-03</td></tr>\n",
       "\t<tr><th scope=row>18</th><td>0.9784942   </td><td>2.150584e-02</td></tr>\n",
       "</tbody>\n",
       "</table>\n"
      ],
      "text/latex": [
       "\\begin{tabular}{r|ll}\n",
       "  & white & red\\\\\n",
       "\\hline\n",
       "\t1 & 0.9999586    & 4.137532e-05\\\\\n",
       "\t4 & 0.9997720    & 2.279823e-04\\\\\n",
       "\t5 & 0.9997720    & 2.279823e-04\\\\\n",
       "\t6 & 0.9968113    & 3.188682e-03\\\\\n",
       "\t18 & 0.9784942    & 2.150584e-02\\\\\n",
       "\\end{tabular}\n"
      ],
      "text/markdown": [
       "\n",
       "| <!--/--> | white | red | \n",
       "|---|---|---|---|---|\n",
       "| 1 | 0.9999586    | 4.137532e-05 | \n",
       "| 4 | 0.9997720    | 2.279823e-04 | \n",
       "| 5 | 0.9997720    | 2.279823e-04 | \n",
       "| 6 | 0.9968113    | 3.188682e-03 | \n",
       "| 18 | 0.9784942    | 2.150584e-02 | \n",
       "\n",
       "\n"
      ],
      "text/plain": [
       "   white     red         \n",
       "1  0.9999586 4.137532e-05\n",
       "4  0.9997720 2.279823e-04\n",
       "5  0.9997720 2.279823e-04\n",
       "6  0.9968113 3.188682e-03\n",
       "18 0.9784942 2.150584e-02"
      ]
     },
     "metadata": {},
     "output_type": "display_data"
    }
   ],
   "source": [
    "# print predictions probabilities by row model1\n",
    "head(as.data.frame(nnProbs),5)"
   ]
  },
  {
   "cell_type": "code",
   "execution_count": 27,
   "metadata": {},
   "outputs": [
    {
     "data": {
      "text/html": [
       "<table>\n",
       "<thead><tr><th scope=col>fixed.acidity</th><th scope=col>volatile.acidity</th><th scope=col>citric.acid</th><th scope=col>residual.sugar</th><th scope=col>chlorides</th><th scope=col>total.sulfur.dioxide</th><th scope=col>pH</th><th scope=col>sulphates</th><th scope=col>alcohol</th><th scope=col>quality</th><th scope=col>Class</th><th scope=col>preds_nnet</th></tr></thead>\n",
       "<tbody>\n",
       "\t<tr><td>7.0  </td><td>0.270</td><td>0.36 </td><td>17.55</td><td>0.045</td><td>170  </td><td>3.00 </td><td>0.45 </td><td> 8.8 </td><td>6    </td><td>white</td><td>white</td></tr>\n",
       "\t<tr><td>7.2  </td><td>0.230</td><td>0.32 </td><td> 8.50</td><td>0.058</td><td>186  </td><td>3.19 </td><td>0.40 </td><td> 9.9 </td><td>6    </td><td>white</td><td>white</td></tr>\n",
       "\t<tr><td>7.2  </td><td>0.230</td><td>0.32 </td><td> 8.50</td><td>0.058</td><td>186  </td><td>3.19 </td><td>0.40 </td><td> 9.9 </td><td>6    </td><td>white</td><td>white</td></tr>\n",
       "\t<tr><td>8.1  </td><td>0.280</td><td>0.40 </td><td> 6.90</td><td>0.050</td><td> 97  </td><td>3.26 </td><td>0.44 </td><td>10.1 </td><td>6    </td><td>white</td><td>white</td></tr>\n",
       "\t<tr><td>6.2  </td><td>0.655</td><td>0.48 </td><td> 1.20</td><td>0.029</td><td> 75  </td><td>3.33 </td><td>0.39 </td><td>12.8 </td><td>8    </td><td>white</td><td>white</td></tr>\n",
       "\t<tr><td>6.5  </td><td>0.310</td><td>0.14 </td><td> 7.50</td><td>0.044</td><td>133  </td><td>3.22 </td><td>0.50 </td><td> 9.5 </td><td>5    </td><td>white</td><td>white</td></tr>\n",
       "\t<tr><td>6.8  </td><td>0.260</td><td>0.42 </td><td> 1.70</td><td>0.049</td><td>122  </td><td>3.47 </td><td>0.48 </td><td>10.5 </td><td>8    </td><td>white</td><td>white</td></tr>\n",
       "\t<tr><td>6.6  </td><td>0.270</td><td>0.41 </td><td> 1.30</td><td>0.052</td><td>142  </td><td>3.42 </td><td>0.47 </td><td>10.0 </td><td>6    </td><td>white</td><td>white</td></tr>\n",
       "\t<tr><td>7.2  </td><td>0.320</td><td>0.36 </td><td> 2.00</td><td>0.033</td><td>114  </td><td>3.10 </td><td>0.71 </td><td>12.3 </td><td>7    </td><td>white</td><td>white</td></tr>\n",
       "\t<tr><td>6.2  </td><td>0.120</td><td>0.34 </td><td> 1.50</td><td>0.045</td><td>117  </td><td>3.42 </td><td>0.51 </td><td> 9.0 </td><td>6    </td><td>white</td><td>white</td></tr>\n",
       "</tbody>\n",
       "</table>\n"
      ],
      "text/latex": [
       "\\begin{tabular}{r|llllllllllll}\n",
       " fixed.acidity & volatile.acidity & citric.acid & residual.sugar & chlorides & total.sulfur.dioxide & pH & sulphates & alcohol & quality & Class & preds\\_nnet\\\\\n",
       "\\hline\n",
       "\t 7.0   & 0.270 & 0.36  & 17.55 & 0.045 & 170   & 3.00  & 0.45  &  8.8  & 6     & white & white\\\\\n",
       "\t 7.2   & 0.230 & 0.32  &  8.50 & 0.058 & 186   & 3.19  & 0.40  &  9.9  & 6     & white & white\\\\\n",
       "\t 7.2   & 0.230 & 0.32  &  8.50 & 0.058 & 186   & 3.19  & 0.40  &  9.9  & 6     & white & white\\\\\n",
       "\t 8.1   & 0.280 & 0.40  &  6.90 & 0.050 &  97   & 3.26  & 0.44  & 10.1  & 6     & white & white\\\\\n",
       "\t 6.2   & 0.655 & 0.48  &  1.20 & 0.029 &  75   & 3.33  & 0.39  & 12.8  & 8     & white & white\\\\\n",
       "\t 6.5   & 0.310 & 0.14  &  7.50 & 0.044 & 133   & 3.22  & 0.50  &  9.5  & 5     & white & white\\\\\n",
       "\t 6.8   & 0.260 & 0.42  &  1.70 & 0.049 & 122   & 3.47  & 0.48  & 10.5  & 8     & white & white\\\\\n",
       "\t 6.6   & 0.270 & 0.41  &  1.30 & 0.052 & 142   & 3.42  & 0.47  & 10.0  & 6     & white & white\\\\\n",
       "\t 7.2   & 0.320 & 0.36  &  2.00 & 0.033 & 114   & 3.10  & 0.71  & 12.3  & 7     & white & white\\\\\n",
       "\t 6.2   & 0.120 & 0.34  &  1.50 & 0.045 & 117   & 3.42  & 0.51  &  9.0  & 6     & white & white\\\\\n",
       "\\end{tabular}\n"
      ],
      "text/markdown": [
       "\n",
       "fixed.acidity | volatile.acidity | citric.acid | residual.sugar | chlorides | total.sulfur.dioxide | pH | sulphates | alcohol | quality | Class | preds_nnet | \n",
       "|---|---|---|---|---|---|---|---|---|---|\n",
       "| 7.0   | 0.270 | 0.36  | 17.55 | 0.045 | 170   | 3.00  | 0.45  |  8.8  | 6     | white | white | \n",
       "| 7.2   | 0.230 | 0.32  |  8.50 | 0.058 | 186   | 3.19  | 0.40  |  9.9  | 6     | white | white | \n",
       "| 7.2   | 0.230 | 0.32  |  8.50 | 0.058 | 186   | 3.19  | 0.40  |  9.9  | 6     | white | white | \n",
       "| 8.1   | 0.280 | 0.40  |  6.90 | 0.050 |  97   | 3.26  | 0.44  | 10.1  | 6     | white | white | \n",
       "| 6.2   | 0.655 | 0.48  |  1.20 | 0.029 |  75   | 3.33  | 0.39  | 12.8  | 8     | white | white | \n",
       "| 6.5   | 0.310 | 0.14  |  7.50 | 0.044 | 133   | 3.22  | 0.50  |  9.5  | 5     | white | white | \n",
       "| 6.8   | 0.260 | 0.42  |  1.70 | 0.049 | 122   | 3.47  | 0.48  | 10.5  | 8     | white | white | \n",
       "| 6.6   | 0.270 | 0.41  |  1.30 | 0.052 | 142   | 3.42  | 0.47  | 10.0  | 6     | white | white | \n",
       "| 7.2   | 0.320 | 0.36  |  2.00 | 0.033 | 114   | 3.10  | 0.71  | 12.3  | 7     | white | white | \n",
       "| 6.2   | 0.120 | 0.34  |  1.50 | 0.045 | 117   | 3.42  | 0.51  |  9.0  | 6     | white | white | \n",
       "\n",
       "\n"
      ],
      "text/plain": [
       "   fixed.acidity volatile.acidity citric.acid residual.sugar chlorides\n",
       "1  7.0           0.270            0.36        17.55          0.045    \n",
       "2  7.2           0.230            0.32         8.50          0.058    \n",
       "3  7.2           0.230            0.32         8.50          0.058    \n",
       "4  8.1           0.280            0.40         6.90          0.050    \n",
       "5  6.2           0.655            0.48         1.20          0.029    \n",
       "6  6.5           0.310            0.14         7.50          0.044    \n",
       "7  6.8           0.260            0.42         1.70          0.049    \n",
       "8  6.6           0.270            0.41         1.30          0.052    \n",
       "9  7.2           0.320            0.36         2.00          0.033    \n",
       "10 6.2           0.120            0.34         1.50          0.045    \n",
       "   total.sulfur.dioxide pH   sulphates alcohol quality Class preds_nnet\n",
       "1  170                  3.00 0.45       8.8    6       white white     \n",
       "2  186                  3.19 0.40       9.9    6       white white     \n",
       "3  186                  3.19 0.40       9.9    6       white white     \n",
       "4   97                  3.26 0.44      10.1    6       white white     \n",
       "5   75                  3.33 0.39      12.8    8       white white     \n",
       "6  133                  3.22 0.50       9.5    5       white white     \n",
       "7  122                  3.47 0.48      10.5    8       white white     \n",
       "8  142                  3.42 0.47      10.0    6       white white     \n",
       "9  114                  3.10 0.71      12.3    7       white white     \n",
       "10 117                  3.42 0.51       9.0    6       white white     "
      ]
     },
     "metadata": {},
     "output_type": "display_data"
    }
   ],
   "source": [
    "# print validation dataset and predictions by row model1\n",
    "head((val<-as.data.frame(c(testing,as.data.frame(preds_nnet)))),10)"
   ]
  },
  {
   "cell_type": "markdown",
   "metadata": {
    "collapsed": true
   },
   "source": [
    "Now if you want to get the predictions from a new test data, you can see the item 7.4 of my project [MACHINE LEARNING: A comparison of supervised learning algorithms applied to the classification problem with caret R-project library](http://nbviewer.jupyter.org/github/arqmain/Machine_Learning/blob/master/R_MLearning/MLearning_Classification_Comparison_R_Caret/MLearning_Classification_Comparison_R_Caret.ipynb). "
   ]
  },
  {
   "cell_type": "markdown",
   "metadata": {
    "collapsed": true
   },
   "source": [
    "## VI Conclusion"
   ]
  },
  {
   "cell_type": "markdown",
   "metadata": {},
   "source": [
    "I used the wine data set from the UCI Machine Learning data repository. The goal is to predict wine class which can be \"white\" or \"red\".\n",
    "\n",
    "The original data is separated into white and red datasets. I combined them and created one additional variable: \"Class\" indicating \"white\" or \"red\" wine.\n",
    "\n",
    "This project develops neural Network algorithm of machine learning to classify wine \"white\" or \"red\" according to 12 variables that characterize the wine subject to classification.\n",
    "\n",
    "Our original dataset is an imbalance one. There are 6497 registers but only 1599 (24.6%) are of the red class of wine. So, we decided using the ROC metric to compare the model's performance. \n",
    "\n",
    "The database -dfffull- does not consider two variables that appear in the original base. They could generate a problem of multicollinearity in the process of classification. So,  we got rid of them in dfffull. At the same time, <u><b><i>dfffull</i></b></u> keep all the register of the original database \"df\" but replace the upper outliers by its corresponding <i>Threshold</i>. The application of this rule does not reduce the original data size because it does not eliminate any register. So, dfffull data size is the same as the original \"df\" (6497).\n",
    "\n",
    "All the variables showed to have outliers. Some of them had a lot, some had a few. Mostly outliers were on the positive side of distributions.\n",
    "\n",
    "\"dfffull\", consider all registers but replace outliers by a \"threshold\" value which is generated for each variable using the upper limit of its Box-plot.\n",
    "\n",
    "Other criterions that use information of variables in the dataset to help out us with the outlier problem may reach better solutions here. Anyway, the criterion used to generate the dfffull dataset is still better than eliminating outliers, because at least do not erase the information that lies in the other variables with no outlier presence at that data point.\n",
    "\n",
    "The fitted model (model1.fit) achieves a good classification metric, reaching ROC measurement of 99.92%. That is, the variables of the \"df\" database allow discriminating in a very good way the quality of wine that they represent.\n",
    "\n",
    "I re-run the model without the less important predictors (citric.acid and quality), and I got a ROC= 99.90%.  So, I decided to keep the model the way it was before. Anyway, you can try reducing one predictor at a time and see how the model change in its metrics.\n",
    "\n",
    "Finally, whenever I work in some modeling project I try always to remember what the late brilliant George Box one time stated: \" ... remember that all models are wrong; the practical question is how wrong do they have to be to not be useful?\". "
   ]
  },
  {
   "cell_type": "markdown",
   "metadata": {},
   "source": [
    "<hr>\n",
    "By: Hector Alvaro Rojas | Data Science, Visualizations and Applied Statistics | November 02, 2017<br>\n",
    "Url: [http://www.arqmain.net]   &nbsp;&nbsp;&nbsp;|&nbsp;&nbsp;&nbsp;   GitHub: [https://github.com/arqmain]"
   ]
  }
 ],
 "metadata": {
  "anaconda-cloud": {},
  "kernelspec": {
   "display_name": "R",
   "language": "R",
   "name": "ir"
  },
  "language_info": {
   "codemirror_mode": "r",
   "file_extension": ".r",
   "mimetype": "text/x-r-source",
   "name": "R",
   "pygments_lexer": "r",
   "version": "3.4.1"
  }
 },
 "nbformat": 4,
 "nbformat_minor": 2
}
