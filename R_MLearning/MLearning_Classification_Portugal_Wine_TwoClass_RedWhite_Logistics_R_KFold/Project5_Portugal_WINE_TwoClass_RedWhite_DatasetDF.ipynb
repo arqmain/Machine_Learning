{
 "cells": [
  {
   "cell_type": "markdown",
   "metadata": {},
   "source": [
    "#  MACHINE LEARNING: Portugal Wine under Two Class approach for Red and White classification with Logistic Regression using R and K fold cross-validation\n",
    "# Module 2: Solving Project with Original Dataset (df)\n",
    "\n",
    "By: Hector Alvaro Rojas | Data Science, Visualizations and Applied Statistics | October 30, 2017<br>\n",
    "Url: [http://www.arqmain.net]   &nbsp;&nbsp;&nbsp;|&nbsp;&nbsp;&nbsp;   GitHub: [https://github.com/arqmain]\n",
    "<hr>"
   ]
  },
  {
   "cell_type": "markdown",
   "metadata": {},
   "source": [
    "# I Introduction"
   ]
  },
  {
   "cell_type": "markdown",
   "metadata": {
    "collapsed": true
   },
   "source": [
    "We consider the original dataset (wine) and we get ride off the variables \"density\" and \"free.sulfor.dioxide\" becouse they may cause problems of collinearity that can affect the normal operation of the algorithms since we are in the presence of double information.\n",
    "\n",
    "As a consequence, we obtain the file \"<b>df</b>\" that goes on to represent the base with the original data pre-processed in a format ready to be used in the modeling."
   ]
  },
  {
   "cell_type": "markdown",
   "metadata": {},
   "source": [
    "# II Loading and the Data"
   ]
  },
  {
   "cell_type": "code",
   "execution_count": 117,
   "metadata": {
    "collapsed": true
   },
   "outputs": [],
   "source": [
    "# first remove ALL objects and close all possible connections\n",
    "closeAllConnections()\n",
    "rm(list = ls(all = TRUE)) # Does remove all inclusive hidden\n",
    "\n",
    "# see your memory size\n",
    "memory.size() "
   ]
  },
  {
   "cell_type": "code",
   "execution_count": 1,
   "metadata": {},
   "outputs": [
    {
     "name": "stderr",
     "output_type": "stream",
     "text": [
      "Loading required package: plyr\n",
      "Loading required package: dplyr\n",
      "\n",
      "Attaching package: 'dplyr'\n",
      "\n",
      "The following objects are masked from 'package:plyr':\n",
      "\n",
      "    arrange, count, desc, failwith, id, mutate, rename, summarise,\n",
      "    summarize\n",
      "\n",
      "The following objects are masked from 'package:stats':\n",
      "\n",
      "    filter, lag\n",
      "\n",
      "The following objects are masked from 'package:base':\n",
      "\n",
      "    intersect, setdiff, setequal, union\n",
      "\n",
      "Loading required package: car\n",
      "Warning message:\n",
      "\"package 'car' was built under R version 3.4.2\"\n",
      "Attaching package: 'car'\n",
      "\n",
      "The following object is masked from 'package:dplyr':\n",
      "\n",
      "    recode\n",
      "\n",
      "Loading required package: caret\n",
      "Loading required package: lattice\n",
      "Loading required package: ggplot2\n"
     ]
    },
    {
     "data": {
      "text/html": [
       "<dl class=dl-horizontal>\n",
       "\t<dt>plyr</dt>\n",
       "\t\t<dd>TRUE</dd>\n",
       "\t<dt>dplyr</dt>\n",
       "\t\t<dd>TRUE</dd>\n",
       "\t<dt>car</dt>\n",
       "\t\t<dd>TRUE</dd>\n",
       "\t<dt>caret</dt>\n",
       "\t\t<dd>TRUE</dd>\n",
       "</dl>\n"
      ],
      "text/latex": [
       "\\begin{description*}\n",
       "\\item[plyr] TRUE\n",
       "\\item[dplyr] TRUE\n",
       "\\item[car] TRUE\n",
       "\\item[caret] TRUE\n",
       "\\end{description*}\n"
      ],
      "text/markdown": [
       "plyr\n",
       ":   TRUEdplyr\n",
       ":   TRUEcar\n",
       ":   TRUEcaret\n",
       ":   TRUE\n",
       "\n"
      ],
      "text/plain": [
       " plyr dplyr   car caret \n",
       " TRUE  TRUE  TRUE  TRUE "
      ]
     },
     "metadata": {},
     "output_type": "display_data"
    }
   ],
   "source": [
    "# install packages and load libraries\n",
    "ipak <- function(pkg){\n",
    "    new.pkg <- pkg[!(pkg %in% installed.packages()[, \"Package\"])]\n",
    "    if (length(new.pkg)) \n",
    "        install.packages(new.pkg, dependencies = c(\"Depends\", \"Suggests\"))\n",
    "    sapply(pkg, require, character.only = TRUE)\n",
    "}\n",
    "# usage\n",
    "packages <- c(\"plyr\", \"dplyr\", \"car\", \"caret\")\n",
    "ipak(packages)\n"
   ]
  },
  {
   "cell_type": "code",
   "execution_count": 82,
   "metadata": {},
   "outputs": [
    {
     "name": "stderr",
     "output_type": "stream",
     "text": [
      "The following objects are masked from df (pos = 5):\n",
      "\n",
      "    alcohol, chlorides, citric.acid, Class, fixed.acidity, pH, quality,\n",
      "    residual.sugar, sulphates, total.sulfur.dioxide, volatile.acidity\n",
      "\n",
      "The following objects are masked from df (pos = 6):\n",
      "\n",
      "    alcohol, chlorides, citric.acid, Class, fixed.acidity, pH, quality,\n",
      "    residual.sugar, sulphates, total.sulfur.dioxide, volatile.acidity\n",
      "\n"
     ]
    },
    {
     "data": {
      "text/html": [
       "<table>\n",
       "<thead><tr><th scope=col>fixed.acidity</th><th scope=col>volatile.acidity</th><th scope=col>citric.acid</th><th scope=col>residual.sugar</th><th scope=col>chlorides</th><th scope=col>total.sulfur.dioxide</th><th scope=col>pH</th><th scope=col>sulphates</th><th scope=col>alcohol</th><th scope=col>quality</th><th scope=col>Class</th></tr></thead>\n",
       "<tbody>\n",
       "\t<tr><td>7.0  </td><td>0.27 </td><td>0.36 </td><td>20.7 </td><td>0.045</td><td>170  </td><td>3.00 </td><td>0.45 </td><td> 8.8 </td><td>6    </td><td>white</td></tr>\n",
       "\t<tr><td>6.3  </td><td>0.30 </td><td>0.34 </td><td> 1.6 </td><td>0.049</td><td>132  </td><td>3.30 </td><td>0.49 </td><td> 9.5 </td><td>6    </td><td>white</td></tr>\n",
       "\t<tr><td>8.1  </td><td>0.28 </td><td>0.40 </td><td> 6.9 </td><td>0.050</td><td> 97  </td><td>3.26 </td><td>0.44 </td><td>10.1 </td><td>6    </td><td>white</td></tr>\n",
       "\t<tr><td>7.2  </td><td>0.23 </td><td>0.32 </td><td> 8.5 </td><td>0.058</td><td>186  </td><td>3.19 </td><td>0.40 </td><td> 9.9 </td><td>6    </td><td>white</td></tr>\n",
       "\t<tr><td>7.2  </td><td>0.23 </td><td>0.32 </td><td> 8.5 </td><td>0.058</td><td>186  </td><td>3.19 </td><td>0.40 </td><td> 9.9 </td><td>6    </td><td>white</td></tr>\n",
       "\t<tr><td>8.1  </td><td>0.28 </td><td>0.40 </td><td> 6.9 </td><td>0.050</td><td> 97  </td><td>3.26 </td><td>0.44 </td><td>10.1 </td><td>6    </td><td>white</td></tr>\n",
       "</tbody>\n",
       "</table>\n"
      ],
      "text/latex": [
       "\\begin{tabular}{r|lllllllllll}\n",
       " fixed.acidity & volatile.acidity & citric.acid & residual.sugar & chlorides & total.sulfur.dioxide & pH & sulphates & alcohol & quality & Class\\\\\n",
       "\\hline\n",
       "\t 7.0   & 0.27  & 0.36  & 20.7  & 0.045 & 170   & 3.00  & 0.45  &  8.8  & 6     & white\\\\\n",
       "\t 6.3   & 0.30  & 0.34  &  1.6  & 0.049 & 132   & 3.30  & 0.49  &  9.5  & 6     & white\\\\\n",
       "\t 8.1   & 0.28  & 0.40  &  6.9  & 0.050 &  97   & 3.26  & 0.44  & 10.1  & 6     & white\\\\\n",
       "\t 7.2   & 0.23  & 0.32  &  8.5  & 0.058 & 186   & 3.19  & 0.40  &  9.9  & 6     & white\\\\\n",
       "\t 7.2   & 0.23  & 0.32  &  8.5  & 0.058 & 186   & 3.19  & 0.40  &  9.9  & 6     & white\\\\\n",
       "\t 8.1   & 0.28  & 0.40  &  6.9  & 0.050 &  97   & 3.26  & 0.44  & 10.1  & 6     & white\\\\\n",
       "\\end{tabular}\n"
      ],
      "text/markdown": [
       "\n",
       "fixed.acidity | volatile.acidity | citric.acid | residual.sugar | chlorides | total.sulfur.dioxide | pH | sulphates | alcohol | quality | Class | \n",
       "|---|---|---|---|---|---|\n",
       "| 7.0   | 0.27  | 0.36  | 20.7  | 0.045 | 170   | 3.00  | 0.45  |  8.8  | 6     | white | \n",
       "| 6.3   | 0.30  | 0.34  |  1.6  | 0.049 | 132   | 3.30  | 0.49  |  9.5  | 6     | white | \n",
       "| 8.1   | 0.28  | 0.40  |  6.9  | 0.050 |  97   | 3.26  | 0.44  | 10.1  | 6     | white | \n",
       "| 7.2   | 0.23  | 0.32  |  8.5  | 0.058 | 186   | 3.19  | 0.40  |  9.9  | 6     | white | \n",
       "| 7.2   | 0.23  | 0.32  |  8.5  | 0.058 | 186   | 3.19  | 0.40  |  9.9  | 6     | white | \n",
       "| 8.1   | 0.28  | 0.40  |  6.9  | 0.050 |  97   | 3.26  | 0.44  | 10.1  | 6     | white | \n",
       "\n",
       "\n"
      ],
      "text/plain": [
       "  fixed.acidity volatile.acidity citric.acid residual.sugar chlorides\n",
       "1 7.0           0.27             0.36        20.7           0.045    \n",
       "2 6.3           0.30             0.34         1.6           0.049    \n",
       "3 8.1           0.28             0.40         6.9           0.050    \n",
       "4 7.2           0.23             0.32         8.5           0.058    \n",
       "5 7.2           0.23             0.32         8.5           0.058    \n",
       "6 8.1           0.28             0.40         6.9           0.050    \n",
       "  total.sulfur.dioxide pH   sulphates alcohol quality Class\n",
       "1 170                  3.00 0.45       8.8    6       white\n",
       "2 132                  3.30 0.49       9.5    6       white\n",
       "3  97                  3.26 0.44      10.1    6       white\n",
       "4 186                  3.19 0.40       9.9    6       white\n",
       "5 186                  3.19 0.40       9.9    6       white\n",
       "6  97                  3.26 0.44      10.1    6       white"
      ]
     },
     "metadata": {},
     "output_type": "display_data"
    }
   ],
   "source": [
    "# define path location of datasets\n",
    "wine1.url <- \"http://archive.ics.uci.edu/ml/machine-learning-databases/wine-quality/winequality-white.csv\"\n",
    "wine2.url <- \"http://archive.ics.uci.edu/ml/machine-learning-databases/wine-quality/winequality-red.csv\"\n",
    "\n",
    "# read datasets\n",
    "wine1 <- read.csv(wine1.url, header=TRUE, sep=';')\n",
    "wine2 <- read.csv(wine2.url, header=TRUE, sep=';')\n",
    "\n",
    "# create dataset base\n",
    "paso <- rbind(cbind(wine1, Class='white'), cbind(wine2, Class='red'))\n",
    "#paso$quality<- ifelse(paso$quality>=6, \"Good\", ifelse(paso$quality<6, \"Bad\", NA))\n",
    "\n",
    "df= subset(paso, select=c('fixed.acidity', 'volatile.acidity', 'citric.acid', 'residual.sugar', 'chlorides' ,'total.sulfur.dioxide','pH', 'sulphates', 'alcohol', 'quality', 'Class'))\n",
    "attach(df)\n",
    "head(df)\n",
    "rm(\"paso\", \"wine1\", \"wine2\")"
   ]
  },
  {
   "cell_type": "code",
   "execution_count": 141,
   "metadata": {
    "collapsed": true
   },
   "outputs": [],
   "source": [
    "# verify response variable \"Class\" as factor\n",
    "df$Class <- as.factor(df$Class)"
   ]
  },
  {
   "cell_type": "code",
   "execution_count": 142,
   "metadata": {},
   "outputs": [
    {
     "name": "stdout",
     "output_type": "stream",
     "text": [
      "'data.frame':\t6497 obs. of  11 variables:\n",
      " $ fixed.acidity       : num  7 6.3 8.1 7.2 7.2 8.1 6.2 7 6.3 8.1 ...\n",
      " $ volatile.acidity    : num  0.27 0.3 0.28 0.23 0.23 0.28 0.32 0.27 0.3 0.22 ...\n",
      " $ citric.acid         : num  0.36 0.34 0.4 0.32 0.32 0.4 0.16 0.36 0.34 0.43 ...\n",
      " $ residual.sugar      : num  20.7 1.6 6.9 8.5 8.5 6.9 7 20.7 1.6 1.5 ...\n",
      " $ chlorides           : num  0.045 0.049 0.05 0.058 0.058 0.05 0.045 0.045 0.049 0.044 ...\n",
      " $ total.sulfur.dioxide: num  170 132 97 186 186 97 136 170 132 129 ...\n",
      " $ pH                  : num  3 3.3 3.26 3.19 3.19 3.26 3.18 3 3.3 3.22 ...\n",
      " $ sulphates           : num  0.45 0.49 0.44 0.4 0.4 0.44 0.47 0.45 0.49 0.45 ...\n",
      " $ alcohol             : num  8.8 9.5 10.1 9.9 9.9 10.1 9.6 8.8 9.5 11 ...\n",
      " $ quality             : int  6 6 6 6 6 6 6 6 6 6 ...\n",
      " $ Class               : Factor w/ 2 levels \"white\",\"red\": 1 1 1 1 1 1 1 1 1 1 ...\n"
     ]
    }
   ],
   "source": [
    "# get some information about the dataset\n",
    "str(df)"
   ]
  },
  {
   "cell_type": "markdown",
   "metadata": {},
   "source": [
    "# III Getting train and test datasets"
   ]
  },
  {
   "cell_type": "code",
   "execution_count": 86,
   "metadata": {
    "collapsed": true
   },
   "outputs": [],
   "source": [
    "#stratified sampling to get the train and test dataset\n",
    "set.seed(7) # Set Seed so that same sample can be reproduced in future also\n",
    "# considering response variable as strata\n",
    "data_part <- createDataPartition(y = df$Class ,  p = 0.70, list = F)\n",
    "testing <- df[-data_part,] # 30% data goes here\n",
    "training <- df[data_part,] # 70% here"
   ]
  },
  {
   "cell_type": "code",
   "execution_count": 87,
   "metadata": {},
   "outputs": [
    {
     "data": {
      "text/html": [
       "<table>\n",
       "<thead><tr><th></th><th scope=col>fixed.acidity</th><th scope=col>volatile.acidity</th><th scope=col>citric.acid</th><th scope=col>residual.sugar</th><th scope=col>chlorides</th><th scope=col>total.sulfur.dioxide</th><th scope=col>pH</th><th scope=col>sulphates</th><th scope=col>alcohol</th><th scope=col>quality</th><th scope=col>Class</th></tr></thead>\n",
       "<tbody>\n",
       "\t<tr><th scope=row>2</th><td>6.3  </td><td>0.30 </td><td>0.34 </td><td> 1.6 </td><td>0.049</td><td>132  </td><td>3.30 </td><td>0.49 </td><td> 9.5 </td><td>6    </td><td>white</td></tr>\n",
       "\t<tr><th scope=row>3</th><td>8.1  </td><td>0.28 </td><td>0.40 </td><td> 6.9 </td><td>0.050</td><td> 97  </td><td>3.26 </td><td>0.44 </td><td>10.1 </td><td>6    </td><td>white</td></tr>\n",
       "\t<tr><th scope=row>7</th><td>6.2  </td><td>0.32 </td><td>0.16 </td><td> 7.0 </td><td>0.045</td><td>136  </td><td>3.18 </td><td>0.47 </td><td> 9.6 </td><td>6    </td><td>white</td></tr>\n",
       "\t<tr><th scope=row>8</th><td>7.0  </td><td>0.27 </td><td>0.36 </td><td>20.7 </td><td>0.045</td><td>170  </td><td>3.00 </td><td>0.45 </td><td> 8.8 </td><td>6    </td><td>white</td></tr>\n",
       "\t<tr><th scope=row>9</th><td>6.3  </td><td>0.30 </td><td>0.34 </td><td> 1.6 </td><td>0.049</td><td>132  </td><td>3.30 </td><td>0.49 </td><td> 9.5 </td><td>6    </td><td>white</td></tr>\n",
       "\t<tr><th scope=row>10</th><td>8.1  </td><td>0.22 </td><td>0.43 </td><td> 1.5 </td><td>0.044</td><td>129  </td><td>3.22 </td><td>0.45 </td><td>11.0 </td><td>6    </td><td>white</td></tr>\n",
       "</tbody>\n",
       "</table>\n"
      ],
      "text/latex": [
       "\\begin{tabular}{r|lllllllllll}\n",
       "  & fixed.acidity & volatile.acidity & citric.acid & residual.sugar & chlorides & total.sulfur.dioxide & pH & sulphates & alcohol & quality & Class\\\\\n",
       "\\hline\n",
       "\t2 & 6.3   & 0.30  & 0.34  &  1.6  & 0.049 & 132   & 3.30  & 0.49  &  9.5  & 6     & white\\\\\n",
       "\t3 & 8.1   & 0.28  & 0.40  &  6.9  & 0.050 &  97   & 3.26  & 0.44  & 10.1  & 6     & white\\\\\n",
       "\t7 & 6.2   & 0.32  & 0.16  &  7.0  & 0.045 & 136   & 3.18  & 0.47  &  9.6  & 6     & white\\\\\n",
       "\t8 & 7.0   & 0.27  & 0.36  & 20.7  & 0.045 & 170   & 3.00  & 0.45  &  8.8  & 6     & white\\\\\n",
       "\t9 & 6.3   & 0.30  & 0.34  &  1.6  & 0.049 & 132   & 3.30  & 0.49  &  9.5  & 6     & white\\\\\n",
       "\t10 & 8.1   & 0.22  & 0.43  &  1.5  & 0.044 & 129   & 3.22  & 0.45  & 11.0  & 6     & white\\\\\n",
       "\\end{tabular}\n"
      ],
      "text/markdown": [
       "\n",
       "| <!--/--> | fixed.acidity | volatile.acidity | citric.acid | residual.sugar | chlorides | total.sulfur.dioxide | pH | sulphates | alcohol | quality | Class | \n",
       "|---|---|---|---|---|---|\n",
       "| 2 | 6.3   | 0.30  | 0.34  |  1.6  | 0.049 | 132   | 3.30  | 0.49  |  9.5  | 6     | white | \n",
       "| 3 | 8.1   | 0.28  | 0.40  |  6.9  | 0.050 |  97   | 3.26  | 0.44  | 10.1  | 6     | white | \n",
       "| 7 | 6.2   | 0.32  | 0.16  |  7.0  | 0.045 | 136   | 3.18  | 0.47  |  9.6  | 6     | white | \n",
       "| 8 | 7.0   | 0.27  | 0.36  | 20.7  | 0.045 | 170   | 3.00  | 0.45  |  8.8  | 6     | white | \n",
       "| 9 | 6.3   | 0.30  | 0.34  |  1.6  | 0.049 | 132   | 3.30  | 0.49  |  9.5  | 6     | white | \n",
       "| 10 | 8.1   | 0.22  | 0.43  |  1.5  | 0.044 | 129   | 3.22  | 0.45  | 11.0  | 6     | white | \n",
       "\n",
       "\n"
      ],
      "text/plain": [
       "   fixed.acidity volatile.acidity citric.acid residual.sugar chlorides\n",
       "2  6.3           0.30             0.34         1.6           0.049    \n",
       "3  8.1           0.28             0.40         6.9           0.050    \n",
       "7  6.2           0.32             0.16         7.0           0.045    \n",
       "8  7.0           0.27             0.36        20.7           0.045    \n",
       "9  6.3           0.30             0.34         1.6           0.049    \n",
       "10 8.1           0.22             0.43         1.5           0.044    \n",
       "   total.sulfur.dioxide pH   sulphates alcohol quality Class\n",
       "2  132                  3.30 0.49       9.5    6       white\n",
       "3   97                  3.26 0.44      10.1    6       white\n",
       "7  136                  3.18 0.47       9.6    6       white\n",
       "8  170                  3.00 0.45       8.8    6       white\n",
       "9  132                  3.30 0.49       9.5    6       white\n",
       "10 129                  3.22 0.45      11.0    6       white"
      ]
     },
     "metadata": {},
     "output_type": "display_data"
    },
    {
     "data": {
      "text/html": [
       "<table>\n",
       "<thead><tr><th></th><th scope=col>fixed.acidity</th><th scope=col>volatile.acidity</th><th scope=col>citric.acid</th><th scope=col>residual.sugar</th><th scope=col>chlorides</th><th scope=col>total.sulfur.dioxide</th><th scope=col>pH</th><th scope=col>sulphates</th><th scope=col>alcohol</th><th scope=col>quality</th><th scope=col>Class</th></tr></thead>\n",
       "<tbody>\n",
       "\t<tr><th scope=row>1</th><td>7.0  </td><td>0.27 </td><td>0.36 </td><td>20.7 </td><td>0.045</td><td>170  </td><td>3.00 </td><td>0.45 </td><td> 8.8 </td><td>6    </td><td>white</td></tr>\n",
       "\t<tr><th scope=row>4</th><td>7.2  </td><td>0.23 </td><td>0.32 </td><td> 8.5 </td><td>0.058</td><td>186  </td><td>3.19 </td><td>0.40 </td><td> 9.9 </td><td>6    </td><td>white</td></tr>\n",
       "\t<tr><th scope=row>5</th><td>7.2  </td><td>0.23 </td><td>0.32 </td><td> 8.5 </td><td>0.058</td><td>186  </td><td>3.19 </td><td>0.40 </td><td> 9.9 </td><td>6    </td><td>white</td></tr>\n",
       "\t<tr><th scope=row>6</th><td>8.1  </td><td>0.28 </td><td>0.40 </td><td> 6.9 </td><td>0.050</td><td> 97  </td><td>3.26 </td><td>0.44 </td><td>10.1 </td><td>6    </td><td>white</td></tr>\n",
       "\t<tr><th scope=row>18</th><td>6.2  </td><td>0.66 </td><td>0.48 </td><td> 1.2 </td><td>0.029</td><td> 75  </td><td>3.33 </td><td>0.39 </td><td>12.8 </td><td>8    </td><td>white</td></tr>\n",
       "\t<tr><th scope=row>20</th><td>6.5  </td><td>0.31 </td><td>0.14 </td><td> 7.5 </td><td>0.044</td><td>133  </td><td>3.22 </td><td>0.50 </td><td> 9.5 </td><td>5    </td><td>white</td></tr>\n",
       "</tbody>\n",
       "</table>\n"
      ],
      "text/latex": [
       "\\begin{tabular}{r|lllllllllll}\n",
       "  & fixed.acidity & volatile.acidity & citric.acid & residual.sugar & chlorides & total.sulfur.dioxide & pH & sulphates & alcohol & quality & Class\\\\\n",
       "\\hline\n",
       "\t1 & 7.0   & 0.27  & 0.36  & 20.7  & 0.045 & 170   & 3.00  & 0.45  &  8.8  & 6     & white\\\\\n",
       "\t4 & 7.2   & 0.23  & 0.32  &  8.5  & 0.058 & 186   & 3.19  & 0.40  &  9.9  & 6     & white\\\\\n",
       "\t5 & 7.2   & 0.23  & 0.32  &  8.5  & 0.058 & 186   & 3.19  & 0.40  &  9.9  & 6     & white\\\\\n",
       "\t6 & 8.1   & 0.28  & 0.40  &  6.9  & 0.050 &  97   & 3.26  & 0.44  & 10.1  & 6     & white\\\\\n",
       "\t18 & 6.2   & 0.66  & 0.48  &  1.2  & 0.029 &  75   & 3.33  & 0.39  & 12.8  & 8     & white\\\\\n",
       "\t20 & 6.5   & 0.31  & 0.14  &  7.5  & 0.044 & 133   & 3.22  & 0.50  &  9.5  & 5     & white\\\\\n",
       "\\end{tabular}\n"
      ],
      "text/markdown": [
       "\n",
       "| <!--/--> | fixed.acidity | volatile.acidity | citric.acid | residual.sugar | chlorides | total.sulfur.dioxide | pH | sulphates | alcohol | quality | Class | \n",
       "|---|---|---|---|---|---|\n",
       "| 1 | 7.0   | 0.27  | 0.36  | 20.7  | 0.045 | 170   | 3.00  | 0.45  |  8.8  | 6     | white | \n",
       "| 4 | 7.2   | 0.23  | 0.32  |  8.5  | 0.058 | 186   | 3.19  | 0.40  |  9.9  | 6     | white | \n",
       "| 5 | 7.2   | 0.23  | 0.32  |  8.5  | 0.058 | 186   | 3.19  | 0.40  |  9.9  | 6     | white | \n",
       "| 6 | 8.1   | 0.28  | 0.40  |  6.9  | 0.050 |  97   | 3.26  | 0.44  | 10.1  | 6     | white | \n",
       "| 18 | 6.2   | 0.66  | 0.48  |  1.2  | 0.029 |  75   | 3.33  | 0.39  | 12.8  | 8     | white | \n",
       "| 20 | 6.5   | 0.31  | 0.14  |  7.5  | 0.044 | 133   | 3.22  | 0.50  |  9.5  | 5     | white | \n",
       "\n",
       "\n"
      ],
      "text/plain": [
       "   fixed.acidity volatile.acidity citric.acid residual.sugar chlorides\n",
       "1  7.0           0.27             0.36        20.7           0.045    \n",
       "4  7.2           0.23             0.32         8.5           0.058    \n",
       "5  7.2           0.23             0.32         8.5           0.058    \n",
       "6  8.1           0.28             0.40         6.9           0.050    \n",
       "18 6.2           0.66             0.48         1.2           0.029    \n",
       "20 6.5           0.31             0.14         7.5           0.044    \n",
       "   total.sulfur.dioxide pH   sulphates alcohol quality Class\n",
       "1  170                  3.00 0.45       8.8    6       white\n",
       "4  186                  3.19 0.40       9.9    6       white\n",
       "5  186                  3.19 0.40       9.9    6       white\n",
       "6   97                  3.26 0.44      10.1    6       white\n",
       "18  75                  3.33 0.39      12.8    8       white\n",
       "20 133                  3.22 0.50       9.5    5       white"
      ]
     },
     "metadata": {},
     "output_type": "display_data"
    }
   ],
   "source": [
    "#taking a look of the train and test dataset by columns \n",
    "head(training)\n",
    "head(testing)"
   ]
  },
  {
   "cell_type": "code",
   "execution_count": 88,
   "metadata": {},
   "outputs": [
    {
     "name": "stdout",
     "output_type": "stream",
     "text": [
      "'data.frame':\t4549 obs. of  11 variables:\n",
      " $ fixed.acidity       : num  6.3 8.1 6.2 7 6.3 8.1 8.1 8.6 7.9 6.6 ...\n",
      " $ volatile.acidity    : num  0.3 0.28 0.32 0.27 0.3 0.22 0.27 0.23 0.18 0.16 ...\n",
      " $ citric.acid         : num  0.34 0.4 0.16 0.36 0.34 0.43 0.41 0.4 0.37 0.4 ...\n",
      " $ residual.sugar      : num  1.6 6.9 7 20.7 1.6 1.5 1.45 4.2 1.2 1.5 ...\n",
      " $ chlorides           : num  0.049 0.05 0.045 0.045 0.049 0.044 0.033 0.035 0.04 0.044 ...\n",
      " $ total.sulfur.dioxide: num  132 97 136 170 132 129 63 109 75 143 ...\n",
      " $ pH                  : num  3.3 3.26 3.18 3 3.3 3.22 2.99 3.14 3.18 3.54 ...\n",
      " $ sulphates           : num  0.49 0.44 0.47 0.45 0.49 0.45 0.56 0.53 0.63 0.52 ...\n",
      " $ alcohol             : num  9.5 10.1 9.6 8.8 9.5 11 12 9.7 10.8 12.4 ...\n",
      " $ quality             : int  6 6 6 6 6 6 5 5 5 7 ...\n",
      " $ Class               : Factor w/ 2 levels \"white\",\"red\": 1 1 1 1 1 1 1 1 1 1 ...\n"
     ]
    }
   ],
   "source": [
    "# get some information about training dataset\n",
    "str(training[,1:11])"
   ]
  },
  {
   "cell_type": "code",
   "execution_count": 89,
   "metadata": {},
   "outputs": [
    {
     "name": "stdout",
     "output_type": "stream",
     "text": [
      "'data.frame':\t1948 obs. of  11 variables:\n",
      " $ fixed.acidity       : num  7 7.2 7.2 8.1 6.2 6.5 6.8 6.6 7.2 6.2 ...\n",
      " $ volatile.acidity    : num  0.27 0.23 0.23 0.28 0.66 0.31 0.26 0.27 0.32 0.12 ...\n",
      " $ citric.acid         : num  0.36 0.32 0.32 0.4 0.48 0.14 0.42 0.41 0.36 0.34 ...\n",
      " $ residual.sugar      : num  20.7 8.5 8.5 6.9 1.2 7.5 1.7 1.3 2 1.5 ...\n",
      " $ chlorides           : num  0.045 0.058 0.058 0.05 0.029 0.044 0.049 0.052 0.033 0.045 ...\n",
      " $ total.sulfur.dioxide: num  170 186 186 97 75 133 122 142 114 117 ...\n",
      " $ pH                  : num  3 3.19 3.19 3.26 3.33 3.22 3.47 3.42 3.1 3.42 ...\n",
      " $ sulphates           : num  0.45 0.4 0.4 0.44 0.39 0.5 0.48 0.47 0.71 0.51 ...\n",
      " $ alcohol             : num  8.8 9.9 9.9 10.1 12.8 9.5 10.5 10 12.3 9 ...\n",
      " $ quality             : int  6 6 6 6 8 5 8 6 7 6 ...\n",
      " $ Class               : Factor w/ 2 levels \"white\",\"red\": 1 1 1 1 1 1 1 1 1 1 ...\n"
     ]
    }
   ],
   "source": [
    "# get some information about testing dataset\n",
    "str(testing[,1:11])"
   ]
  },
  {
   "cell_type": "code",
   "execution_count": 90,
   "metadata": {
    "collapsed": true
   },
   "outputs": [],
   "source": [
    "#summarize full dataset by columns \n",
    "propmiss <- function(dataframe) {\n",
    "\tm <- sapply(dataframe, function(x) {\n",
    "\t\tdata.frame(\n",
    "\t\t\tn=length(!is.na(x)), \n",
    "\t\t\tnmiss=sum(is.na(x)), \n",
    "\t\t\tpropmiss=sum(is.na(x))/length(x),\n",
    "\t\t\tP25=round(quantile(x, 0.25, na.rm=TRUE),2),\n",
    "\t\t\tP75=round(quantile(x, 0.75, na.rm=TRUE),2),            \n",
    "\t\t\tIQR=round(IQR(x, na.rm=TRUE),2),\n",
    "\t\t\tThreshold= round(quantile(x, 0.75, na.rm=TRUE),2) + 1.5*round(IQR(x, na.rm=TRUE),2),            \n",
    "\t\t\tMinimum=round(min(x, na.rm=TRUE),2),\n",
    "\t\t\tMedian=round(median(x, na.rm=TRUE),2),            \n",
    "\t\t\tMaximum=round(max(x, na.rm=TRUE),2),\n",
    "\t\t\tRange=round(max(x, na.rm=TRUE)-min(x, na.rm=TRUE),2),\n",
    "\t\t\tMean=round(mean(x, na.rm=TRUE),2),\n",
    "\t\t\tStDev=round(sd(x, na.rm=TRUE),2)\n",
    "\t\t)\n",
    "\t})\n",
    "\td <- data.frame(t(m))\n",
    "\td <- sapply(d, unlist)\n",
    "\td <- as.data.frame(d)\n",
    "\td$variable <- row.names(d)\n",
    "\trow.names(d) <- NULL\n",
    "\td <- cbind(d[ncol(d)],d[-ncol(d)])\n",
    "\treturn(d[order(d$propmiss), ])\n",
    "}"
   ]
  },
  {
   "cell_type": "code",
   "execution_count": 91,
   "metadata": {},
   "outputs": [
    {
     "data": {
      "text/html": [
       "<table>\n",
       "<thead><tr><th scope=col>variable</th><th scope=col>n</th><th scope=col>P25</th><th scope=col>P75</th><th scope=col>IQR</th><th scope=col>Minimum</th><th scope=col>Median</th><th scope=col>Maximum</th><th scope=col>Range</th><th scope=col>Mean</th><th scope=col>StDev</th></tr></thead>\n",
       "<tbody>\n",
       "\t<tr><td>fixed.acidity       </td><td>4549                </td><td> 6.40               </td><td>  7.60              </td><td> 1.20               </td><td>4.20                </td><td>  7.00              </td><td> 15.90              </td><td> 11.70              </td><td>  7.20              </td><td> 1.27               </td></tr>\n",
       "\t<tr><td>volatile.acidity    </td><td>4549                </td><td> 0.23               </td><td>  0.41              </td><td> 0.18               </td><td>0.08                </td><td>  0.30              </td><td>  1.58              </td><td>  1.50              </td><td>  0.34              </td><td> 0.17               </td></tr>\n",
       "\t<tr><td>citric.acid         </td><td>4549                </td><td> 0.24               </td><td>  0.39              </td><td> 0.15               </td><td>0.00                </td><td>  0.31              </td><td>  1.66              </td><td>  1.66              </td><td>  0.32              </td><td> 0.14               </td></tr>\n",
       "\t<tr><td>residual.sugar      </td><td>4549                </td><td> 1.80               </td><td>  8.10              </td><td> 6.30               </td><td>0.60                </td><td>  2.90              </td><td> 65.80              </td><td> 65.20              </td><td>  5.43              </td><td> 4.79               </td></tr>\n",
       "\t<tr><td>chlorides           </td><td>4549                </td><td> 0.04               </td><td>  0.06              </td><td> 0.03               </td><td>0.01                </td><td>  0.05              </td><td>  0.61              </td><td>  0.60              </td><td>  0.06              </td><td> 0.04               </td></tr>\n",
       "\t<tr><td>total.sulfur.dioxide</td><td>4549                </td><td>78.00               </td><td>156.00              </td><td>78.00               </td><td>6.00                </td><td>119.00              </td><td>440.00              </td><td>434.00              </td><td>116.16              </td><td>56.48               </td></tr>\n",
       "\t<tr><td>pH                  </td><td>4549                </td><td> 3.11               </td><td>  3.32              </td><td> 0.21               </td><td>2.72                </td><td>  3.20              </td><td>  4.01              </td><td>  1.29              </td><td>  3.22              </td><td> 0.16               </td></tr>\n",
       "\t<tr><td>sulphates           </td><td>4549                </td><td> 0.43               </td><td>  0.60              </td><td> 0.17               </td><td>0.22                </td><td>  0.51              </td><td>  2.00              </td><td>  1.78              </td><td>  0.53              </td><td> 0.15               </td></tr>\n",
       "\t<tr><td>alcohol             </td><td>4549                </td><td> 9.50               </td><td> 11.30              </td><td> 1.80               </td><td>8.00                </td><td> 10.30              </td><td> 14.90              </td><td>  6.90              </td><td> 10.50              </td><td> 1.19               </td></tr>\n",
       "\t<tr><td>quality             </td><td>4549                </td><td> 5.00               </td><td>  6.00              </td><td> 1.00               </td><td>3.00                </td><td>  6.00              </td><td>  9.00              </td><td>  6.00              </td><td>  5.82              </td><td> 0.88               </td></tr>\n",
       "</tbody>\n",
       "</table>\n"
      ],
      "text/latex": [
       "\\begin{tabular}{r|lllllllllll}\n",
       " variable & n & P25 & P75 & IQR & Minimum & Median & Maximum & Range & Mean & StDev\\\\\n",
       "\\hline\n",
       "\t fixed.acidity        & 4549                 &  6.40                &   7.60               &  1.20                & 4.20                 &   7.00               &  15.90               &  11.70               &   7.20               &  1.27               \\\\\n",
       "\t volatile.acidity     & 4549                 &  0.23                &   0.41               &  0.18                & 0.08                 &   0.30               &   1.58               &   1.50               &   0.34               &  0.17               \\\\\n",
       "\t citric.acid          & 4549                 &  0.24                &   0.39               &  0.15                & 0.00                 &   0.31               &   1.66               &   1.66               &   0.32               &  0.14               \\\\\n",
       "\t residual.sugar       & 4549                 &  1.80                &   8.10               &  6.30                & 0.60                 &   2.90               &  65.80               &  65.20               &   5.43               &  4.79               \\\\\n",
       "\t chlorides            & 4549                 &  0.04                &   0.06               &  0.03                & 0.01                 &   0.05               &   0.61               &   0.60               &   0.06               &  0.04               \\\\\n",
       "\t total.sulfur.dioxide & 4549                 & 78.00                & 156.00               & 78.00                & 6.00                 & 119.00               & 440.00               & 434.00               & 116.16               & 56.48               \\\\\n",
       "\t pH                   & 4549                 &  3.11                &   3.32               &  0.21                & 2.72                 &   3.20               &   4.01               &   1.29               &   3.22               &  0.16               \\\\\n",
       "\t sulphates            & 4549                 &  0.43                &   0.60               &  0.17                & 0.22                 &   0.51               &   2.00               &   1.78               &   0.53               &  0.15               \\\\\n",
       "\t alcohol              & 4549                 &  9.50                &  11.30               &  1.80                & 8.00                 &  10.30               &  14.90               &   6.90               &  10.50               &  1.19               \\\\\n",
       "\t quality              & 4549                 &  5.00                &   6.00               &  1.00                & 3.00                 &   6.00               &   9.00               &   6.00               &   5.82               &  0.88               \\\\\n",
       "\\end{tabular}\n"
      ],
      "text/markdown": [
       "\n",
       "variable | n | P25 | P75 | IQR | Minimum | Median | Maximum | Range | Mean | StDev | \n",
       "|---|---|---|---|---|---|---|---|---|---|\n",
       "| fixed.acidity        | 4549                 |  6.40                |   7.60               |  1.20                | 4.20                 |   7.00               |  15.90               |  11.70               |   7.20               |  1.27                | \n",
       "| volatile.acidity     | 4549                 |  0.23                |   0.41               |  0.18                | 0.08                 |   0.30               |   1.58               |   1.50               |   0.34               |  0.17                | \n",
       "| citric.acid          | 4549                 |  0.24                |   0.39               |  0.15                | 0.00                 |   0.31               |   1.66               |   1.66               |   0.32               |  0.14                | \n",
       "| residual.sugar       | 4549                 |  1.80                |   8.10               |  6.30                | 0.60                 |   2.90               |  65.80               |  65.20               |   5.43               |  4.79                | \n",
       "| chlorides            | 4549                 |  0.04                |   0.06               |  0.03                | 0.01                 |   0.05               |   0.61               |   0.60               |   0.06               |  0.04                | \n",
       "| total.sulfur.dioxide | 4549                 | 78.00                | 156.00               | 78.00                | 6.00                 | 119.00               | 440.00               | 434.00               | 116.16               | 56.48                | \n",
       "| pH                   | 4549                 |  3.11                |   3.32               |  0.21                | 2.72                 |   3.20               |   4.01               |   1.29               |   3.22               |  0.16                | \n",
       "| sulphates            | 4549                 |  0.43                |   0.60               |  0.17                | 0.22                 |   0.51               |   2.00               |   1.78               |   0.53               |  0.15                | \n",
       "| alcohol              | 4549                 |  9.50                |  11.30               |  1.80                | 8.00                 |  10.30               |  14.90               |   6.90               |  10.50               |  1.19                | \n",
       "| quality              | 4549                 |  5.00                |   6.00               |  1.00                | 3.00                 |   6.00               |   9.00               |   6.00               |   5.82               |  0.88                | \n",
       "\n",
       "\n"
      ],
      "text/plain": [
       "   variable             n    P25   P75    IQR   Minimum Median Maximum Range \n",
       "1  fixed.acidity        4549  6.40   7.60  1.20 4.20      7.00  15.90   11.70\n",
       "2  volatile.acidity     4549  0.23   0.41  0.18 0.08      0.30   1.58    1.50\n",
       "3  citric.acid          4549  0.24   0.39  0.15 0.00      0.31   1.66    1.66\n",
       "4  residual.sugar       4549  1.80   8.10  6.30 0.60      2.90  65.80   65.20\n",
       "5  chlorides            4549  0.04   0.06  0.03 0.01      0.05   0.61    0.60\n",
       "6  total.sulfur.dioxide 4549 78.00 156.00 78.00 6.00    119.00 440.00  434.00\n",
       "7  pH                   4549  3.11   3.32  0.21 2.72      3.20   4.01    1.29\n",
       "8  sulphates            4549  0.43   0.60  0.17 0.22      0.51   2.00    1.78\n",
       "9  alcohol              4549  9.50  11.30  1.80 8.00     10.30  14.90    6.90\n",
       "10 quality              4549  5.00   6.00  1.00 3.00      6.00   9.00    6.00\n",
       "   Mean   StDev\n",
       "1    7.20  1.27\n",
       "2    0.34  0.17\n",
       "3    0.32  0.14\n",
       "4    5.43  4.79\n",
       "5    0.06  0.04\n",
       "6  116.16 56.48\n",
       "7    3.22  0.16\n",
       "8    0.53  0.15\n",
       "9   10.50  1.19\n",
       "10   5.82  0.88"
      ]
     },
     "metadata": {},
     "output_type": "display_data"
    }
   ],
   "source": [
    "# summarize training dataset\n",
    "(summary=propmiss(training[,-11])[,-(3:4)][,-6])"
   ]
  },
  {
   "cell_type": "code",
   "execution_count": 92,
   "metadata": {},
   "outputs": [
    {
     "data": {
      "text/html": [
       "<table>\n",
       "<thead><tr><th scope=col>variable</th><th scope=col>n</th><th scope=col>P25</th><th scope=col>P75</th><th scope=col>IQR</th><th scope=col>Minimum</th><th scope=col>Median</th><th scope=col>Maximum</th><th scope=col>Range</th><th scope=col>Mean</th><th scope=col>StDev</th></tr></thead>\n",
       "<tbody>\n",
       "\t<tr><td>fixed.acidity       </td><td>1948                </td><td> 6.40               </td><td>  7.80              </td><td> 1.40               </td><td>3.80                </td><td>  7.00              </td><td> 15.60              </td><td> 11.80              </td><td>  7.26              </td><td> 1.35               </td></tr>\n",
       "\t<tr><td>volatile.acidity    </td><td>1948                </td><td> 0.23               </td><td>  0.40              </td><td> 0.17               </td><td>0.08                </td><td>  0.29              </td><td>  1.33              </td><td>  1.25              </td><td>  0.33              </td><td> 0.16               </td></tr>\n",
       "\t<tr><td>citric.acid         </td><td>1948                </td><td> 0.25               </td><td>  0.40              </td><td> 0.15               </td><td>0.00                </td><td>  0.31              </td><td>  1.00              </td><td>  1.00              </td><td>  0.32              </td><td> 0.15               </td></tr>\n",
       "\t<tr><td>residual.sugar      </td><td>1948                </td><td> 1.80               </td><td>  8.10              </td><td> 6.30               </td><td>0.60                </td><td>  3.20              </td><td> 22.60              </td><td> 22.00              </td><td>  5.47              </td><td> 4.69               </td></tr>\n",
       "\t<tr><td>chlorides           </td><td>1948                </td><td> 0.04               </td><td>  0.06              </td><td> 0.03               </td><td>0.01                </td><td>  0.05              </td><td>  0.47              </td><td>  0.46              </td><td>  0.06              </td><td> 0.03               </td></tr>\n",
       "\t<tr><td>total.sulfur.dioxide</td><td>1948                </td><td>75.75               </td><td>155.00              </td><td>79.25               </td><td>6.00                </td><td>117.00              </td><td>344.00              </td><td>338.00              </td><td>114.77              </td><td>56.62               </td></tr>\n",
       "\t<tr><td>pH                  </td><td>1948                </td><td> 3.10               </td><td>  3.32              </td><td> 0.22               </td><td>2.79                </td><td>  3.21              </td><td>  3.90              </td><td>  1.11              </td><td>  3.22              </td><td> 0.16               </td></tr>\n",
       "\t<tr><td>sulphates           </td><td>1948                </td><td> 0.43               </td><td>  0.60              </td><td> 0.17               </td><td>0.25                </td><td>  0.50              </td><td>  1.56              </td><td>  1.31              </td><td>  0.53              </td><td> 0.15               </td></tr>\n",
       "\t<tr><td>alcohol             </td><td>1948                </td><td> 9.50               </td><td> 11.30              </td><td> 1.80               </td><td>8.00                </td><td> 10.30              </td><td> 14.05              </td><td>  6.05              </td><td> 10.47              </td><td> 1.20               </td></tr>\n",
       "\t<tr><td>quality             </td><td>1948                </td><td> 5.00               </td><td>  6.00              </td><td> 1.00               </td><td>3.00                </td><td>  6.00              </td><td>  9.00              </td><td>  6.00              </td><td>  5.82              </td><td> 0.85               </td></tr>\n",
       "</tbody>\n",
       "</table>\n"
      ],
      "text/latex": [
       "\\begin{tabular}{r|lllllllllll}\n",
       " variable & n & P25 & P75 & IQR & Minimum & Median & Maximum & Range & Mean & StDev\\\\\n",
       "\\hline\n",
       "\t fixed.acidity        & 1948                 &  6.40                &   7.80               &  1.40                & 3.80                 &   7.00               &  15.60               &  11.80               &   7.26               &  1.35               \\\\\n",
       "\t volatile.acidity     & 1948                 &  0.23                &   0.40               &  0.17                & 0.08                 &   0.29               &   1.33               &   1.25               &   0.33               &  0.16               \\\\\n",
       "\t citric.acid          & 1948                 &  0.25                &   0.40               &  0.15                & 0.00                 &   0.31               &   1.00               &   1.00               &   0.32               &  0.15               \\\\\n",
       "\t residual.sugar       & 1948                 &  1.80                &   8.10               &  6.30                & 0.60                 &   3.20               &  22.60               &  22.00               &   5.47               &  4.69               \\\\\n",
       "\t chlorides            & 1948                 &  0.04                &   0.06               &  0.03                & 0.01                 &   0.05               &   0.47               &   0.46               &   0.06               &  0.03               \\\\\n",
       "\t total.sulfur.dioxide & 1948                 & 75.75                & 155.00               & 79.25                & 6.00                 & 117.00               & 344.00               & 338.00               & 114.77               & 56.62               \\\\\n",
       "\t pH                   & 1948                 &  3.10                &   3.32               &  0.22                & 2.79                 &   3.21               &   3.90               &   1.11               &   3.22               &  0.16               \\\\\n",
       "\t sulphates            & 1948                 &  0.43                &   0.60               &  0.17                & 0.25                 &   0.50               &   1.56               &   1.31               &   0.53               &  0.15               \\\\\n",
       "\t alcohol              & 1948                 &  9.50                &  11.30               &  1.80                & 8.00                 &  10.30               &  14.05               &   6.05               &  10.47               &  1.20               \\\\\n",
       "\t quality              & 1948                 &  5.00                &   6.00               &  1.00                & 3.00                 &   6.00               &   9.00               &   6.00               &   5.82               &  0.85               \\\\\n",
       "\\end{tabular}\n"
      ],
      "text/markdown": [
       "\n",
       "variable | n | P25 | P75 | IQR | Minimum | Median | Maximum | Range | Mean | StDev | \n",
       "|---|---|---|---|---|---|---|---|---|---|\n",
       "| fixed.acidity        | 1948                 |  6.40                |   7.80               |  1.40                | 3.80                 |   7.00               |  15.60               |  11.80               |   7.26               |  1.35                | \n",
       "| volatile.acidity     | 1948                 |  0.23                |   0.40               |  0.17                | 0.08                 |   0.29               |   1.33               |   1.25               |   0.33               |  0.16                | \n",
       "| citric.acid          | 1948                 |  0.25                |   0.40               |  0.15                | 0.00                 |   0.31               |   1.00               |   1.00               |   0.32               |  0.15                | \n",
       "| residual.sugar       | 1948                 |  1.80                |   8.10               |  6.30                | 0.60                 |   3.20               |  22.60               |  22.00               |   5.47               |  4.69                | \n",
       "| chlorides            | 1948                 |  0.04                |   0.06               |  0.03                | 0.01                 |   0.05               |   0.47               |   0.46               |   0.06               |  0.03                | \n",
       "| total.sulfur.dioxide | 1948                 | 75.75                | 155.00               | 79.25                | 6.00                 | 117.00               | 344.00               | 338.00               | 114.77               | 56.62                | \n",
       "| pH                   | 1948                 |  3.10                |   3.32               |  0.22                | 2.79                 |   3.21               |   3.90               |   1.11               |   3.22               |  0.16                | \n",
       "| sulphates            | 1948                 |  0.43                |   0.60               |  0.17                | 0.25                 |   0.50               |   1.56               |   1.31               |   0.53               |  0.15                | \n",
       "| alcohol              | 1948                 |  9.50                |  11.30               |  1.80                | 8.00                 |  10.30               |  14.05               |   6.05               |  10.47               |  1.20                | \n",
       "| quality              | 1948                 |  5.00                |   6.00               |  1.00                | 3.00                 |   6.00               |   9.00               |   6.00               |   5.82               |  0.85                | \n",
       "\n",
       "\n"
      ],
      "text/plain": [
       "   variable             n    P25   P75    IQR   Minimum Median Maximum Range \n",
       "1  fixed.acidity        1948  6.40   7.80  1.40 3.80      7.00  15.60   11.80\n",
       "2  volatile.acidity     1948  0.23   0.40  0.17 0.08      0.29   1.33    1.25\n",
       "3  citric.acid          1948  0.25   0.40  0.15 0.00      0.31   1.00    1.00\n",
       "4  residual.sugar       1948  1.80   8.10  6.30 0.60      3.20  22.60   22.00\n",
       "5  chlorides            1948  0.04   0.06  0.03 0.01      0.05   0.47    0.46\n",
       "6  total.sulfur.dioxide 1948 75.75 155.00 79.25 6.00    117.00 344.00  338.00\n",
       "7  pH                   1948  3.10   3.32  0.22 2.79      3.21   3.90    1.11\n",
       "8  sulphates            1948  0.43   0.60  0.17 0.25      0.50   1.56    1.31\n",
       "9  alcohol              1948  9.50  11.30  1.80 8.00     10.30  14.05    6.05\n",
       "10 quality              1948  5.00   6.00  1.00 3.00      6.00   9.00    6.00\n",
       "   Mean   StDev\n",
       "1    7.26  1.35\n",
       "2    0.33  0.16\n",
       "3    0.32  0.15\n",
       "4    5.47  4.69\n",
       "5    0.06  0.03\n",
       "6  114.77 56.62\n",
       "7    3.22  0.16\n",
       "8    0.53  0.15\n",
       "9   10.47  1.20\n",
       "10   5.82  0.85"
      ]
     },
     "metadata": {},
     "output_type": "display_data"
    }
   ],
   "source": [
    "# summarize testing dataset\n",
    "(summary=propmiss(testing[,-11])[,-(3:4)][,-6])"
   ]
  },
  {
   "cell_type": "markdown",
   "metadata": {},
   "source": [
    "# IV Logistic Regression\n",
    " \n",
    "In this project I have considered Logistic Regression algorithm. I use \"set.seed(7)\" so that same sample can be reproduced in the future and also it ensures the results are directly comparable."
   ]
  },
  {
   "cell_type": "markdown",
   "metadata": {
    "collapsed": true
   },
   "source": [
    "## 41 Building Machine Learning Model\n",
    "\n",
    "### 411 Find model equation "
   ]
  },
  {
   "cell_type": "code",
   "execution_count": 107,
   "metadata": {},
   "outputs": [
    {
     "data": {
      "text/html": [
       "<ol class=list-inline>\n",
       "\t<li>'fixed.acidity'</li>\n",
       "\t<li>'volatile.acidity'</li>\n",
       "\t<li>'citric.acid'</li>\n",
       "\t<li>'residual.sugar'</li>\n",
       "\t<li>'chlorides'</li>\n",
       "\t<li>'total.sulfur.dioxide'</li>\n",
       "\t<li>'pH'</li>\n",
       "\t<li>'sulphates'</li>\n",
       "\t<li>'alcohol'</li>\n",
       "\t<li>'quality'</li>\n",
       "\t<li>'Class'</li>\n",
       "</ol>\n"
      ],
      "text/latex": [
       "\\begin{enumerate*}\n",
       "\\item 'fixed.acidity'\n",
       "\\item 'volatile.acidity'\n",
       "\\item 'citric.acid'\n",
       "\\item 'residual.sugar'\n",
       "\\item 'chlorides'\n",
       "\\item 'total.sulfur.dioxide'\n",
       "\\item 'pH'\n",
       "\\item 'sulphates'\n",
       "\\item 'alcohol'\n",
       "\\item 'quality'\n",
       "\\item 'Class'\n",
       "\\end{enumerate*}\n"
      ],
      "text/markdown": [
       "1. 'fixed.acidity'\n",
       "2. 'volatile.acidity'\n",
       "3. 'citric.acid'\n",
       "4. 'residual.sugar'\n",
       "5. 'chlorides'\n",
       "6. 'total.sulfur.dioxide'\n",
       "7. 'pH'\n",
       "8. 'sulphates'\n",
       "9. 'alcohol'\n",
       "10. 'quality'\n",
       "11. 'Class'\n",
       "\n",
       "\n"
      ],
      "text/plain": [
       " [1] \"fixed.acidity\"        \"volatile.acidity\"     \"citric.acid\"         \n",
       " [4] \"residual.sugar\"       \"chlorides\"            \"total.sulfur.dioxide\"\n",
       " [7] \"pH\"                   \"sulphates\"            \"alcohol\"             \n",
       "[10] \"quality\"              \"Class\"               "
      ]
     },
     "metadata": {},
     "output_type": "display_data"
    },
    {
     "name": "stderr",
     "output_type": "stream",
     "text": [
      "Warning message:\n",
      "\"glm.fit: fitted probabilities numerically 0 or 1 occurred\""
     ]
    },
    {
     "data": {
      "text/plain": [
       "\n",
       "Call:\n",
       "glm(formula = Class ~ ., family = \"binomial\", data = training)\n",
       "\n",
       "Deviance Residuals: \n",
       "    Min       1Q   Median       3Q      Max  \n",
       "-2.8451  -0.0374  -0.0097  -0.0003   4.4663  \n",
       "\n",
       "Coefficients:\n",
       "                       Estimate Std. Error z value Pr(>|z|)    \n",
       "(Intercept)          -49.188736   4.899808 -10.039  < 2e-16 ***\n",
       "fixed.acidity          1.617783   0.188645   8.576  < 2e-16 ***\n",
       "volatile.acidity      11.719671   1.125829  10.410  < 2e-16 ***\n",
       "citric.acid           -2.373047   1.251969  -1.895  0.05803 .  \n",
       "residual.sugar        -0.110101   0.046975  -2.344  0.01909 *  \n",
       "chlorides             41.428951   4.639321   8.930  < 2e-16 ***\n",
       "total.sulfur.dioxide  -0.060189   0.004673 -12.879  < 2e-16 ***\n",
       "pH                    10.300760   1.084779   9.496  < 2e-16 ***\n",
       "sulphates              9.798944   1.199620   8.168 3.13e-16 ***\n",
       "alcohol               -0.454528   0.157893  -2.879  0.00399 ** \n",
       "quality                0.227110   0.186065   1.221  0.22224    \n",
       "---\n",
       "Signif. codes:  0 '***' 0.001 '**' 0.01 '*' 0.05 '.' 0.1 ' ' 1\n",
       "\n",
       "(Dispersion parameter for binomial family taken to be 1)\n",
       "\n",
       "    Null deviance: 5077.87  on 4548  degrees of freedom\n",
       "Residual deviance:  368.17  on 4538  degrees of freedom\n",
       "AIC: 390.17\n",
       "\n",
       "Number of Fisher Scoring iterations: 9\n"
      ]
     },
     "metadata": {},
     "output_type": "display_data"
    }
   ],
   "source": [
    "## full model\n",
    "names(training)\n",
    "model1<- glm(Class ~ ., data=training, family=\"binomial\")\n",
    "summary(model1)"
   ]
  },
  {
   "cell_type": "code",
   "execution_count": 108,
   "metadata": {},
   "outputs": [
    {
     "data": {
      "text/html": [
       "<dl class=dl-horizontal>\n",
       "\t<dt>fixed.acidity</dt>\n",
       "\t\t<dd>2.15734238811302</dd>\n",
       "\t<dt>volatile.acidity</dt>\n",
       "\t\t<dd>1.86618028961415</dd>\n",
       "\t<dt>citric.acid</dt>\n",
       "\t\t<dd>1.69475059953576</dd>\n",
       "\t<dt>residual.sugar</dt>\n",
       "\t\t<dd>1.09051327361411</dd>\n",
       "\t<dt>chlorides</dt>\n",
       "\t\t<dd>1.4717357777408</dd>\n",
       "\t<dt>total.sulfur.dioxide</dt>\n",
       "\t\t<dd>1.60483700983828</dd>\n",
       "\t<dt>pH</dt>\n",
       "\t\t<dd>1.88162872129092</dd>\n",
       "\t<dt>sulphates</dt>\n",
       "\t\t<dd>1.35215209578395</dd>\n",
       "\t<dt>alcohol</dt>\n",
       "\t\t<dd>1.85217018778837</dd>\n",
       "\t<dt>quality</dt>\n",
       "\t\t<dd>1.61099938938277</dd>\n",
       "</dl>\n"
      ],
      "text/latex": [
       "\\begin{description*}\n",
       "\\item[fixed.acidity] 2.15734238811302\n",
       "\\item[volatile.acidity] 1.86618028961415\n",
       "\\item[citric.acid] 1.69475059953576\n",
       "\\item[residual.sugar] 1.09051327361411\n",
       "\\item[chlorides] 1.4717357777408\n",
       "\\item[total.sulfur.dioxide] 1.60483700983828\n",
       "\\item[pH] 1.88162872129092\n",
       "\\item[sulphates] 1.35215209578395\n",
       "\\item[alcohol] 1.85217018778837\n",
       "\\item[quality] 1.61099938938277\n",
       "\\end{description*}\n"
      ],
      "text/markdown": [
       "fixed.acidity\n",
       ":   2.15734238811302volatile.acidity\n",
       ":   1.86618028961415citric.acid\n",
       ":   1.69475059953576residual.sugar\n",
       ":   1.09051327361411chlorides\n",
       ":   1.4717357777408total.sulfur.dioxide\n",
       ":   1.60483700983828pH\n",
       ":   1.88162872129092sulphates\n",
       ":   1.35215209578395alcohol\n",
       ":   1.85217018778837quality\n",
       ":   1.61099938938277\n",
       "\n"
      ],
      "text/plain": [
       "       fixed.acidity     volatile.acidity          citric.acid \n",
       "            2.157342             1.866180             1.694751 \n",
       "      residual.sugar            chlorides total.sulfur.dioxide \n",
       "            1.090513             1.471736             1.604837 \n",
       "                  pH            sulphates              alcohol \n",
       "            1.881629             1.352152             1.852170 \n",
       "             quality \n",
       "            1.610999 "
      ]
     },
     "metadata": {},
     "output_type": "display_data"
    }
   ],
   "source": [
    "# VIF variable inflation factor for each variable in the model\n",
    "vif(model1)"
   ]
  },
  {
   "cell_type": "markdown",
   "metadata": {},
   "source": [
    "VIF >= 10 ==> variable is collinear and should be omitted from the model. \n",
    "\n",
    "So,  VIF < 10 for all variables ==> variables are ok and should be kept on the model. "
   ]
  },
  {
   "cell_type": "code",
   "execution_count": 118,
   "metadata": {},
   "outputs": [
    {
     "name": "stderr",
     "output_type": "stream",
     "text": [
      "Warning message:\n",
      "\"glm.fit: fitted probabilities numerically 0 or 1 occurred\"Warning message:\n",
      "\"glm.fit: fitted probabilities numerically 0 or 1 occurred\"Warning message:\n",
      "\"glm.fit: fitted probabilities numerically 0 or 1 occurred\"Warning message:\n",
      "\"glm.fit: fitted probabilities numerically 0 or 1 occurred\"Warning message:\n",
      "\"glm.fit: fitted probabilities numerically 0 or 1 occurred\"Warning message:\n",
      "\"glm.fit: fitted probabilities numerically 0 or 1 occurred\"Warning message:\n",
      "\"glm.fit: fitted probabilities numerically 0 or 1 occurred\"Warning message:\n",
      "\"glm.fit: fitted probabilities numerically 0 or 1 occurred\"Warning message:\n",
      "\"glm.fit: fitted probabilities numerically 0 or 1 occurred\"Warning message:\n",
      "\"glm.fit: fitted probabilities numerically 0 or 1 occurred\"Warning message:\n",
      "\"glm.fit: fitted probabilities numerically 0 or 1 occurred\"Warning message:\n",
      "\"glm.fit: fitted probabilities numerically 0 or 1 occurred\"Warning message:\n",
      "\"glm.fit: fitted probabilities numerically 0 or 1 occurred\"Warning message:\n",
      "\"glm.fit: fitted probabilities numerically 0 or 1 occurred\"Warning message:\n",
      "\"glm.fit: fitted probabilities numerically 0 or 1 occurred\"Warning message:\n",
      "\"glm.fit: fitted probabilities numerically 0 or 1 occurred\"Warning message:\n",
      "\"glm.fit: fitted probabilities numerically 0 or 1 occurred\""
     ]
    },
    {
     "data": {
      "text/plain": [
       "\n",
       "Call:\n",
       "glm(formula = Class ~ fixed.acidity + volatile.acidity + citric.acid + \n",
       "    residual.sugar + chlorides + total.sulfur.dioxide + pH + \n",
       "    sulphates + alcohol, family = binomial, data = training)\n",
       "\n",
       "Deviance Residuals: \n",
       "    Min       1Q   Median       3Q      Max  \n",
       "-2.8655  -0.0367  -0.0095  -0.0003   4.4398  \n",
       "\n",
       "Coefficients:\n",
       "                       Estimate Std. Error z value Pr(>|z|)    \n",
       "(Intercept)          -48.962936   4.915291  -9.961  < 2e-16 ***\n",
       "fixed.acidity          1.629273   0.188888   8.626  < 2e-16 ***\n",
       "volatile.acidity      11.209315   1.028209  10.902  < 2e-16 ***\n",
       "citric.acid           -2.465382   1.246617  -1.978  0.04797 *  \n",
       "residual.sugar        -0.107447   0.047916  -2.242  0.02494 *  \n",
       "chlorides             41.614606   4.651114   8.947  < 2e-16 ***\n",
       "total.sulfur.dioxide  -0.059911   0.004626 -12.950  < 2e-16 ***\n",
       "pH                    10.383193   1.085275   9.567  < 2e-16 ***\n",
       "sulphates              9.936719   1.212884   8.193 2.56e-16 ***\n",
       "alcohol               -0.379671   0.144990  -2.619  0.00883 ** \n",
       "---\n",
       "Signif. codes:  0 '***' 0.001 '**' 0.01 '*' 0.05 '.' 0.1 ' ' 1\n",
       "\n",
       "(Dispersion parameter for binomial family taken to be 1)\n",
       "\n",
       "    Null deviance: 5077.87  on 4548  degrees of freedom\n",
       "Residual deviance:  369.67  on 4539  degrees of freedom\n",
       "AIC: 389.67\n",
       "\n",
       "Number of Fisher Scoring iterations: 9\n"
      ]
     },
     "metadata": {},
     "output_type": "display_data"
    }
   ],
   "source": [
    "# best model Stepwise backward-AIC\n",
    "model2<- step(glm(Class ~ ., family = binomial, data=training), trace= F, direction=\"backward\", k=2)\n",
    "summary(model2)"
   ]
  },
  {
   "cell_type": "code",
   "execution_count": 119,
   "metadata": {},
   "outputs": [
    {
     "data": {
      "text/html": [
       "<dl class=dl-horizontal>\n",
       "\t<dt>fixed.acidity</dt>\n",
       "\t\t<dd>2.18952822831095</dd>\n",
       "\t<dt>volatile.acidity</dt>\n",
       "\t\t<dd>1.55619127072334</dd>\n",
       "\t<dt>citric.acid</dt>\n",
       "\t\t<dd>1.70522232991691</dd>\n",
       "\t<dt>residual.sugar</dt>\n",
       "\t\t<dd>1.09094057037368</dd>\n",
       "\t<dt>chlorides</dt>\n",
       "\t\t<dd>1.48363789611349</dd>\n",
       "\t<dt>total.sulfur.dioxide</dt>\n",
       "\t\t<dd>1.62201274250079</dd>\n",
       "\t<dt>pH</dt>\n",
       "\t\t<dd>1.90066506391407</dd>\n",
       "\t<dt>sulphates</dt>\n",
       "\t\t<dd>1.35335167819817</dd>\n",
       "\t<dt>alcohol</dt>\n",
       "\t\t<dd>1.55553377565121</dd>\n",
       "</dl>\n"
      ],
      "text/latex": [
       "\\begin{description*}\n",
       "\\item[fixed.acidity] 2.18952822831095\n",
       "\\item[volatile.acidity] 1.55619127072334\n",
       "\\item[citric.acid] 1.70522232991691\n",
       "\\item[residual.sugar] 1.09094057037368\n",
       "\\item[chlorides] 1.48363789611349\n",
       "\\item[total.sulfur.dioxide] 1.62201274250079\n",
       "\\item[pH] 1.90066506391407\n",
       "\\item[sulphates] 1.35335167819817\n",
       "\\item[alcohol] 1.55553377565121\n",
       "\\end{description*}\n"
      ],
      "text/markdown": [
       "fixed.acidity\n",
       ":   2.18952822831095volatile.acidity\n",
       ":   1.55619127072334citric.acid\n",
       ":   1.70522232991691residual.sugar\n",
       ":   1.09094057037368chlorides\n",
       ":   1.48363789611349total.sulfur.dioxide\n",
       ":   1.62201274250079pH\n",
       ":   1.90066506391407sulphates\n",
       ":   1.35335167819817alcohol\n",
       ":   1.55553377565121\n",
       "\n"
      ],
      "text/plain": [
       "       fixed.acidity     volatile.acidity          citric.acid \n",
       "            2.189528             1.556191             1.705222 \n",
       "      residual.sugar            chlorides total.sulfur.dioxide \n",
       "            1.090941             1.483638             1.622013 \n",
       "                  pH            sulphates              alcohol \n",
       "            1.900665             1.353352             1.555534 "
      ]
     },
     "metadata": {},
     "output_type": "display_data"
    }
   ],
   "source": [
    "# VIF variable inflation factor for each variable in the model\n",
    "vif(model2)"
   ]
  },
  {
   "cell_type": "markdown",
   "metadata": {},
   "source": [
    "VIF >= 10 ==> variable is collinear and should be omitted from the model. \n",
    "\n",
    "So,  VIF < 6 for all variables ==> variables are ok and should be kept on the model. "
   ]
  },
  {
   "cell_type": "code",
   "execution_count": 120,
   "metadata": {},
   "outputs": [
    {
     "name": "stderr",
     "output_type": "stream",
     "text": [
      "Warning message:\n",
      "\"glm.fit: fitted probabilities numerically 0 or 1 occurred\"Warning message:\n",
      "\"glm.fit: fitted probabilities numerically 0 or 1 occurred\"Warning message:\n",
      "\"glm.fit: fitted probabilities numerically 0 or 1 occurred\"Warning message:\n",
      "\"glm.fit: fitted probabilities numerically 0 or 1 occurred\"Warning message:\n",
      "\"glm.fit: fitted probabilities numerically 0 or 1 occurred\"Warning message:\n",
      "\"glm.fit: fitted probabilities numerically 0 or 1 occurred\"Warning message:\n",
      "\"glm.fit: fitted probabilities numerically 0 or 1 occurred\"Warning message:\n",
      "\"glm.fit: fitted probabilities numerically 0 or 1 occurred\"Warning message:\n",
      "\"glm.fit: fitted probabilities numerically 0 or 1 occurred\"Warning message:\n",
      "\"glm.fit: fitted probabilities numerically 0 or 1 occurred\"Warning message:\n",
      "\"glm.fit: fitted probabilities numerically 0 or 1 occurred\"Warning message:\n",
      "\"glm.fit: fitted probabilities numerically 0 or 1 occurred\"Warning message:\n",
      "\"glm.fit: fitted probabilities numerically 0 or 1 occurred\"Warning message:\n",
      "\"glm.fit: fitted probabilities numerically 0 or 1 occurred\"Warning message:\n",
      "\"glm.fit: fitted probabilities numerically 0 or 1 occurred\"Warning message:\n",
      "\"glm.fit: fitted probabilities numerically 0 or 1 occurred\"Warning message:\n",
      "\"glm.fit: fitted probabilities numerically 0 or 1 occurred\"Warning message:\n",
      "\"glm.fit: fitted probabilities numerically 0 or 1 occurred\"Warning message:\n",
      "\"glm.fit: fitted probabilities numerically 0 or 1 occurred\"Warning message:\n",
      "\"glm.fit: fitted probabilities numerically 0 or 1 occurred\"Warning message:\n",
      "\"glm.fit: fitted probabilities numerically 0 or 1 occurred\"Warning message:\n",
      "\"glm.fit: fitted probabilities numerically 0 or 1 occurred\"Warning message:\n",
      "\"glm.fit: fitted probabilities numerically 0 or 1 occurred\"Warning message:\n",
      "\"glm.fit: fitted probabilities numerically 0 or 1 occurred\""
     ]
    },
    {
     "data": {
      "text/plain": [
       "\n",
       "Call:\n",
       "glm(formula = Class ~ fixed.acidity + volatile.acidity + residual.sugar + \n",
       "    chlorides + total.sulfur.dioxide + pH + sulphates + alcohol, \n",
       "    family = binomial(link = \"logit\"), data = training)\n",
       "\n",
       "Deviance Residuals: \n",
       "    Min       1Q   Median       3Q      Max  \n",
       "-2.9781  -0.0365  -0.0094  -0.0003   4.4955  \n",
       "\n",
       "Coefficients:\n",
       "                       Estimate Std. Error z value Pr(>|z|)    \n",
       "(Intercept)          -48.883248   4.865734 -10.046  < 2e-16 ***\n",
       "fixed.acidity          1.492970   0.172129   8.674  < 2e-16 ***\n",
       "volatile.acidity      12.043998   0.956135  12.597  < 2e-16 ***\n",
       "residual.sugar        -0.114265   0.042892  -2.664  0.00772 ** \n",
       "chlorides             38.934863   4.233995   9.196  < 2e-16 ***\n",
       "total.sulfur.dioxide  -0.060831   0.004575 -13.295  < 2e-16 ***\n",
       "pH                    10.586327   1.079422   9.807  < 2e-16 ***\n",
       "sulphates              9.856996   1.199222   8.219  < 2e-16 ***\n",
       "alcohol               -0.428291   0.141182  -3.034  0.00242 ** \n",
       "---\n",
       "Signif. codes:  0 '***' 0.001 '**' 0.01 '*' 0.05 '.' 0.1 ' ' 1\n",
       "\n",
       "(Dispersion parameter for binomial family taken to be 1)\n",
       "\n",
       "    Null deviance: 5077.87  on 4548  degrees of freedom\n",
       "Residual deviance:  373.71  on 4540  degrees of freedom\n",
       "AIC: 391.71\n",
       "\n",
       "Number of Fisher Scoring iterations: 9\n"
      ]
     },
     "metadata": {},
     "output_type": "display_data"
    }
   ],
   "source": [
    "## best model Stepwise backward-BIC\n",
    "model3<- step(glm(Class ~ ., family = binomial(link = \"logit\"), data=training), trace= F, direction=\"backward\", k=log(nrow(training)))\n",
    "summary(model3)"
   ]
  },
  {
   "cell_type": "code",
   "execution_count": 121,
   "metadata": {},
   "outputs": [
    {
     "data": {
      "text/html": [
       "<dl class=dl-horizontal>\n",
       "\t<dt>fixed.acidity</dt>\n",
       "\t\t<dd>1.82707793726459</dd>\n",
       "\t<dt>volatile.acidity</dt>\n",
       "\t\t<dd>1.33150246666719</dd>\n",
       "\t<dt>residual.sugar</dt>\n",
       "\t\t<dd>1.08529246974575</dd>\n",
       "\t<dt>chlorides</dt>\n",
       "\t\t<dd>1.35314381101329</dd>\n",
       "\t<dt>total.sulfur.dioxide</dt>\n",
       "\t\t<dd>1.5881307578942</dd>\n",
       "\t<dt>pH</dt>\n",
       "\t\t<dd>1.88592585413815</dd>\n",
       "\t<dt>sulphates</dt>\n",
       "\t\t<dd>1.3412179017199</dd>\n",
       "\t<dt>alcohol</dt>\n",
       "\t\t<dd>1.53777457934907</dd>\n",
       "</dl>\n"
      ],
      "text/latex": [
       "\\begin{description*}\n",
       "\\item[fixed.acidity] 1.82707793726459\n",
       "\\item[volatile.acidity] 1.33150246666719\n",
       "\\item[residual.sugar] 1.08529246974575\n",
       "\\item[chlorides] 1.35314381101329\n",
       "\\item[total.sulfur.dioxide] 1.5881307578942\n",
       "\\item[pH] 1.88592585413815\n",
       "\\item[sulphates] 1.3412179017199\n",
       "\\item[alcohol] 1.53777457934907\n",
       "\\end{description*}\n"
      ],
      "text/markdown": [
       "fixed.acidity\n",
       ":   1.82707793726459volatile.acidity\n",
       ":   1.33150246666719residual.sugar\n",
       ":   1.08529246974575chlorides\n",
       ":   1.35314381101329total.sulfur.dioxide\n",
       ":   1.5881307578942pH\n",
       ":   1.88592585413815sulphates\n",
       ":   1.3412179017199alcohol\n",
       ":   1.53777457934907\n",
       "\n"
      ],
      "text/plain": [
       "       fixed.acidity     volatile.acidity       residual.sugar \n",
       "            1.827078             1.331502             1.085292 \n",
       "           chlorides total.sulfur.dioxide                   pH \n",
       "            1.353144             1.588131             1.885926 \n",
       "           sulphates              alcohol \n",
       "            1.341218             1.537775 "
      ]
     },
     "metadata": {},
     "output_type": "display_data"
    }
   ],
   "source": [
    "# VIF variable inflation factor for each variable in the model\n",
    "vif(model3)"
   ]
  },
  {
   "cell_type": "markdown",
   "metadata": {},
   "source": [
    "VIF >= 10 ==> variable is collinear and should be omitted from the model. \n",
    "\n",
    "So,  VIF < 10 for all variables ==> variables are ok and should be kept on the model. "
   ]
  },
  {
   "cell_type": "markdown",
   "metadata": {},
   "source": [
    "As we can see, Model2 (backward-AIC) has achieved a lower AIC value (model2-AIC= 389.67) being the best model according to the Stepwise method. Also, we can compare the models using the ANOVA test. Let's say our null hypothesis is that second model is better than the first model. p < 0.05 would reject our hypothesis and in case p > 0.05, we'll fail to reject the null hypothesis."
   ]
  },
  {
   "cell_type": "code",
   "execution_count": 122,
   "metadata": {},
   "outputs": [
    {
     "data": {
      "text/html": [
       "<table>\n",
       "<thead><tr><th scope=col>Resid. Df</th><th scope=col>Resid. Dev</th><th scope=col>Df</th><th scope=col>Deviance</th><th scope=col>Pr(&gt;Chi)</th></tr></thead>\n",
       "<tbody>\n",
       "\t<tr><td>4538     </td><td>368.1740 </td><td>NA       </td><td>      NA </td><td>       NA</td></tr>\n",
       "\t<tr><td>4539     </td><td>369.6733 </td><td>-1       </td><td>-1.49924 </td><td>0.2207884</td></tr>\n",
       "</tbody>\n",
       "</table>\n"
      ],
      "text/latex": [
       "\\begin{tabular}{r|lllll}\n",
       " Resid. Df & Resid. Dev & Df & Deviance & Pr(>Chi)\\\\\n",
       "\\hline\n",
       "\t 4538      & 368.1740  & NA        &       NA  &        NA\\\\\n",
       "\t 4539      & 369.6733  & -1        & -1.49924  & 0.2207884\\\\\n",
       "\\end{tabular}\n"
      ],
      "text/markdown": [
       "\n",
       "Resid. Df | Resid. Dev | Df | Deviance | Pr(>Chi) | \n",
       "|---|---|\n",
       "| 4538      | 368.1740  | NA        |       NA  |        NA | \n",
       "| 4539      | 369.6733  | -1        | -1.49924  | 0.2207884 | \n",
       "\n",
       "\n"
      ],
      "text/plain": [
       "  Resid. Df Resid. Dev Df Deviance Pr(>Chi) \n",
       "1 4538      368.1740   NA       NA        NA\n",
       "2 4539      369.6733   -1 -1.49924 0.2207884"
      ]
     },
     "metadata": {},
     "output_type": "display_data"
    },
    {
     "data": {
      "text/html": [
       "<table>\n",
       "<thead><tr><th scope=col>Resid. Df</th><th scope=col>Resid. Dev</th><th scope=col>Df</th><th scope=col>Deviance</th><th scope=col>Pr(&gt;Chi)</th></tr></thead>\n",
       "<tbody>\n",
       "\t<tr><td>4538      </td><td>368.1740  </td><td>NA        </td><td>       NA </td><td>        NA</td></tr>\n",
       "\t<tr><td>4540      </td><td>373.7131  </td><td>-2        </td><td>-5.539069 </td><td>0.06269119</td></tr>\n",
       "</tbody>\n",
       "</table>\n"
      ],
      "text/latex": [
       "\\begin{tabular}{r|lllll}\n",
       " Resid. Df & Resid. Dev & Df & Deviance & Pr(>Chi)\\\\\n",
       "\\hline\n",
       "\t 4538       & 368.1740   & NA         &        NA  &         NA\\\\\n",
       "\t 4540       & 373.7131   & -2         & -5.539069  & 0.06269119\\\\\n",
       "\\end{tabular}\n"
      ],
      "text/markdown": [
       "\n",
       "Resid. Df | Resid. Dev | Df | Deviance | Pr(>Chi) | \n",
       "|---|---|\n",
       "| 4538       | 368.1740   | NA         |        NA  |         NA | \n",
       "| 4540       | 373.7131   | -2         | -5.539069  | 0.06269119 | \n",
       "\n",
       "\n"
      ],
      "text/plain": [
       "  Resid. Df Resid. Dev Df Deviance  Pr(>Chi)  \n",
       "1 4538      368.1740   NA        NA         NA\n",
       "2 4540      373.7131   -2 -5.539069 0.06269119"
      ]
     },
     "metadata": {},
     "output_type": "display_data"
    },
    {
     "data": {
      "text/html": [
       "<table>\n",
       "<thead><tr><th scope=col>Resid. Df</th><th scope=col>Resid. Dev</th><th scope=col>Df</th><th scope=col>Deviance</th><th scope=col>Pr(&gt;Chi)</th></tr></thead>\n",
       "<tbody>\n",
       "\t<tr><td>4539      </td><td>369.6733  </td><td>NA        </td><td>       NA </td><td>        NA</td></tr>\n",
       "\t<tr><td>4540      </td><td>373.7131  </td><td>-1        </td><td>-4.039829 </td><td>0.04443833</td></tr>\n",
       "</tbody>\n",
       "</table>\n"
      ],
      "text/latex": [
       "\\begin{tabular}{r|lllll}\n",
       " Resid. Df & Resid. Dev & Df & Deviance & Pr(>Chi)\\\\\n",
       "\\hline\n",
       "\t 4539       & 369.6733   & NA         &        NA  &         NA\\\\\n",
       "\t 4540       & 373.7131   & -1         & -4.039829  & 0.04443833\\\\\n",
       "\\end{tabular}\n"
      ],
      "text/markdown": [
       "\n",
       "Resid. Df | Resid. Dev | Df | Deviance | Pr(>Chi) | \n",
       "|---|---|\n",
       "| 4539       | 369.6733   | NA         |        NA  |         NA | \n",
       "| 4540       | 373.7131   | -1         | -4.039829  | 0.04443833 | \n",
       "\n",
       "\n"
      ],
      "text/plain": [
       "  Resid. Df Resid. Dev Df Deviance  Pr(>Chi)  \n",
       "1 4539      369.6733   NA        NA         NA\n",
       "2 4540      373.7131   -1 -4.039829 0.04443833"
      ]
     },
     "metadata": {},
     "output_type": "display_data"
    }
   ],
   "source": [
    "#compare the models by using anova-chisq\n",
    "anova(model1,model2,test = \"Chisq\")\n",
    "anova(model1,model3,test = \"Chisq\")\n",
    "anova(model2,model3,test = \"Chisq\")"
   ]
  },
  {
   "cell_type": "code",
   "execution_count": 123,
   "metadata": {},
   "outputs": [
    {
     "data": {
      "text/html": [
       "<table>\n",
       "<thead><tr><th scope=col>#Df</th><th scope=col>LogLik</th><th scope=col>Df</th><th scope=col>Chisq</th><th scope=col>Pr(&gt;Chisq)</th></tr></thead>\n",
       "<tbody>\n",
       "\t<tr><td>11       </td><td>-184.0870</td><td>NA       </td><td>     NA  </td><td>       NA</td></tr>\n",
       "\t<tr><td>10       </td><td>-184.8366</td><td>-1       </td><td>1.49924  </td><td>0.2207884</td></tr>\n",
       "</tbody>\n",
       "</table>\n"
      ],
      "text/latex": [
       "\\begin{tabular}{r|lllll}\n",
       " \\#Df & LogLik & Df & Chisq & Pr(>Chisq)\\\\\n",
       "\\hline\n",
       "\t 11        & -184.0870 & NA        &      NA   &        NA\\\\\n",
       "\t 10        & -184.8366 & -1        & 1.49924   & 0.2207884\\\\\n",
       "\\end{tabular}\n"
      ],
      "text/markdown": [
       "\n",
       "#Df | LogLik | Df | Chisq | Pr(>Chisq) | \n",
       "|---|---|\n",
       "| 11        | -184.0870 | NA        |      NA   |        NA | \n",
       "| 10        | -184.8366 | -1        | 1.49924   | 0.2207884 | \n",
       "\n",
       "\n"
      ],
      "text/plain": [
       "  #Df LogLik    Df Chisq   Pr(>Chisq)\n",
       "1 11  -184.0870 NA      NA        NA \n",
       "2 10  -184.8366 -1 1.49924 0.2207884 "
      ]
     },
     "metadata": {},
     "output_type": "display_data"
    },
    {
     "data": {
      "text/html": [
       "<table>\n",
       "<thead><tr><th scope=col>#Df</th><th scope=col>LogLik</th><th scope=col>Df</th><th scope=col>Chisq</th><th scope=col>Pr(&gt;Chisq)</th></tr></thead>\n",
       "<tbody>\n",
       "\t<tr><td>11        </td><td>-184.0870 </td><td>NA        </td><td>      NA  </td><td>        NA</td></tr>\n",
       "\t<tr><td> 9        </td><td>-186.8565 </td><td>-2        </td><td>5.539069  </td><td>0.06269119</td></tr>\n",
       "</tbody>\n",
       "</table>\n"
      ],
      "text/latex": [
       "\\begin{tabular}{r|lllll}\n",
       " \\#Df & LogLik & Df & Chisq & Pr(>Chisq)\\\\\n",
       "\\hline\n",
       "\t 11         & -184.0870  & NA         &       NA   &         NA\\\\\n",
       "\t  9         & -186.8565  & -2         & 5.539069   & 0.06269119\\\\\n",
       "\\end{tabular}\n"
      ],
      "text/markdown": [
       "\n",
       "#Df | LogLik | Df | Chisq | Pr(>Chisq) | \n",
       "|---|---|\n",
       "| 11         | -184.0870  | NA         |       NA   |         NA | \n",
       "|  9         | -186.8565  | -2         | 5.539069   | 0.06269119 | \n",
       "\n",
       "\n"
      ],
      "text/plain": [
       "  #Df LogLik    Df Chisq    Pr(>Chisq)\n",
       "1 11  -184.0870 NA       NA         NA\n",
       "2  9  -186.8565 -2 5.539069 0.06269119"
      ]
     },
     "metadata": {},
     "output_type": "display_data"
    },
    {
     "data": {
      "text/html": [
       "<table>\n",
       "<thead><tr><th scope=col>#Df</th><th scope=col>LogLik</th><th scope=col>Df</th><th scope=col>Chisq</th><th scope=col>Pr(&gt;Chisq)</th></tr></thead>\n",
       "<tbody>\n",
       "\t<tr><td>10        </td><td>-184.8366 </td><td>NA        </td><td>      NA  </td><td>        NA</td></tr>\n",
       "\t<tr><td> 9        </td><td>-186.8565 </td><td>-1        </td><td>4.039829  </td><td>0.04443833</td></tr>\n",
       "</tbody>\n",
       "</table>\n"
      ],
      "text/latex": [
       "\\begin{tabular}{r|lllll}\n",
       " \\#Df & LogLik & Df & Chisq & Pr(>Chisq)\\\\\n",
       "\\hline\n",
       "\t 10         & -184.8366  & NA         &       NA   &         NA\\\\\n",
       "\t  9         & -186.8565  & -1         & 4.039829   & 0.04443833\\\\\n",
       "\\end{tabular}\n"
      ],
      "text/markdown": [
       "\n",
       "#Df | LogLik | Df | Chisq | Pr(>Chisq) | \n",
       "|---|---|\n",
       "| 10         | -184.8366  | NA         |       NA   |         NA | \n",
       "|  9         | -186.8565  | -1         | 4.039829   | 0.04443833 | \n",
       "\n",
       "\n"
      ],
      "text/plain": [
       "  #Df LogLik    Df Chisq    Pr(>Chisq)\n",
       "1 10  -184.8366 NA       NA         NA\n",
       "2  9  -186.8565 -1 4.039829 0.04443833"
      ]
     },
     "metadata": {},
     "output_type": "display_data"
    }
   ],
   "source": [
    "#compare the models by using lrtest-chisq\n",
    "library(lmtest)\n",
    "lrtest(model1, model2)\n",
    "lrtest(model1, model3)\n",
    "lrtest(model2,model3)"
   ]
  },
  {
   "cell_type": "markdown",
   "metadata": {},
   "source": [
    "With p > 0.05, both test (ANOVA and LRTEST) also corroborates the fact that the second model (model2) is the best model according to the Stepwise method.  So, we will keep model2 and we will evaluate its performance as a supervised machine learning model.  "
   ]
  },
  {
   "cell_type": "markdown",
   "metadata": {},
   "source": [
    "### 412 Building the model "
   ]
  },
  {
   "cell_type": "code",
   "execution_count": 124,
   "metadata": {
    "collapsed": true
   },
   "outputs": [],
   "source": [
    "## Control Resampling Technique: 10-fold CV\n",
    "fiveStats = function(...) c (twoClassSummary(...), defaultSummary(...))\n",
    "cvCtrl <- trainControl(method = \"cv\", number=10,  summaryFunction = fiveStats, classProbs = TRUE, savePredictions=T)"
   ]
  },
  {
   "cell_type": "code",
   "execution_count": 125,
   "metadata": {},
   "outputs": [
    {
     "name": "stderr",
     "output_type": "stream",
     "text": [
      "Warning message:\n",
      "\"glm.fit: fitted probabilities numerically 0 or 1 occurred\"Warning message:\n",
      "\"glm.fit: fitted probabilities numerically 0 or 1 occurred\"Warning message:\n",
      "\"glm.fit: fitted probabilities numerically 0 or 1 occurred\"Warning message:\n",
      "\"glm.fit: fitted probabilities numerically 0 or 1 occurred\"Warning message:\n",
      "\"glm.fit: fitted probabilities numerically 0 or 1 occurred\"Warning message:\n",
      "\"glm.fit: fitted probabilities numerically 0 or 1 occurred\"Warning message:\n",
      "\"glm.fit: fitted probabilities numerically 0 or 1 occurred\"Warning message:\n",
      "\"glm.fit: fitted probabilities numerically 0 or 1 occurred\"Warning message:\n",
      "\"glm.fit: fitted probabilities numerically 0 or 1 occurred\"Warning message:\n",
      "\"glm.fit: fitted probabilities numerically 0 or 1 occurred\""
     ]
    }
   ],
   "source": [
    "## Construction Predictive Model\n",
    "set.seed(1)\n",
    "formula2 <- as.formula(\"Class ~ fixed.acidity + volatile.acidity + citric.acid + residual.sugar + chlorides + total.sulfur.dioxide + pH + sulphates + alcohol\")\n",
    "lrmodel2 <- train(formula2, data=training, method=\"glm\",   family=binomial, preProc = c(\"center\", \"scale\"), tuneLength = 5, trControl = cvCtrl)"
   ]
  },
  {
   "cell_type": "code",
   "execution_count": 126,
   "metadata": {},
   "outputs": [
    {
     "data": {
      "text/plain": [
       "\n",
       "Call:\n",
       "NULL\n",
       "\n",
       "Deviance Residuals: \n",
       "    Min       1Q   Median       3Q      Max  \n",
       "-2.8655  -0.0367  -0.0095  -0.0003   4.4398  \n",
       "\n",
       "Coefficients:\n",
       "                     Estimate Std. Error z value Pr(>|z|)    \n",
       "(Intercept)           -4.6757     0.2923 -15.996  < 2e-16 ***\n",
       "fixed.acidity          2.0752     0.2406   8.626  < 2e-16 ***\n",
       "volatile.acidity       1.8560     0.1702  10.902  < 2e-16 ***\n",
       "citric.acid           -0.3574     0.1807  -1.978  0.04797 *  \n",
       "residual.sugar        -0.5143     0.2294  -2.242  0.02494 *  \n",
       "chlorides              1.4832     0.1658   8.947  < 2e-16 ***\n",
       "total.sulfur.dioxide  -3.3837     0.2613 -12.950  < 2e-16 ***\n",
       "pH                     1.6723     0.1748   9.567  < 2e-16 ***\n",
       "sulphates              1.4874     0.1816   8.193 2.56e-16 ***\n",
       "alcohol               -0.4514     0.1724  -2.619  0.00883 ** \n",
       "---\n",
       "Signif. codes:  0 '***' 0.001 '**' 0.01 '*' 0.05 '.' 0.1 ' ' 1\n",
       "\n",
       "(Dispersion parameter for binomial family taken to be 1)\n",
       "\n",
       "    Null deviance: 5077.87  on 4548  degrees of freedom\n",
       "Residual deviance:  369.67  on 4539  degrees of freedom\n",
       "AIC: 389.67\n",
       "\n",
       "Number of Fisher Scoring iterations: 9\n"
      ]
     },
     "metadata": {},
     "output_type": "display_data"
    }
   ],
   "source": [
    "## Getting summary of fitted model2\n",
    "summary(lrmodel2)"
   ]
  },
  {
   "cell_type": "code",
   "execution_count": 133,
   "metadata": {},
   "outputs": [
    {
     "data": {
      "text/plain": [
       "Generalized Linear Model \n",
       "\n",
       "4549 samples\n",
       "   9 predictor\n",
       "   2 classes: 'white', 'red' \n",
       "\n",
       "Pre-processing: centered (9), scaled (9) \n",
       "Resampling: Cross-Validated (10 fold) \n",
       "Summary of sample sizes: 4094, 4094, 4095, 4094, 4094, 4094, ... \n",
       "Resampling results:\n",
       "\n",
       "  ROC        Sens       Spec       Accuracy   Kappa    \n",
       "  0.9965696  0.9932928  0.9714286  0.9879092  0.9673185\n"
      ]
     },
     "metadata": {},
     "output_type": "display_data"
    }
   ],
   "source": [
    "## train results model2\n",
    "lrmodel2"
   ]
  },
  {
   "cell_type": "code",
   "execution_count": 134,
   "metadata": {},
   "outputs": [
    {
     "data": {
      "text/plain": [
       "Confusion Matrix and Statistics\n",
       "\n",
       "          Reference\n",
       "Prediction white  red\n",
       "     white  1459   13\n",
       "     red      10  466\n",
       "                                          \n",
       "               Accuracy : 0.9882          \n",
       "                 95% CI : (0.9823, 0.9925)\n",
       "    No Information Rate : 0.7541          \n",
       "    P-Value [Acc > NIR] : <2e-16          \n",
       "                                          \n",
       "                  Kappa : 0.9681          \n",
       " Mcnemar's Test P-Value : 0.6767          \n",
       "                                          \n",
       "            Sensitivity : 0.9932          \n",
       "            Specificity : 0.9729          \n",
       "         Pos Pred Value : 0.9912          \n",
       "         Neg Pred Value : 0.9790          \n",
       "             Prevalence : 0.7541          \n",
       "         Detection Rate : 0.7490          \n",
       "   Detection Prevalence : 0.7556          \n",
       "      Balanced Accuracy : 0.9830          \n",
       "                                          \n",
       "       'Positive' Class : white           \n",
       "                                          "
      ]
     },
     "metadata": {},
     "output_type": "display_data"
    }
   ],
   "source": [
    "## Test Set Results model2\n",
    "lrPred2 <- predict(lrmodel2,testing, type=\"raw\")\n",
    "confusionMatrix(lrPred2, testing$Class, positive = \"white\")"
   ]
  },
  {
   "cell_type": "code",
   "execution_count": 135,
   "metadata": {},
   "outputs": [
    {
     "data": {
      "text/html": [
       "<table>\n",
       "<thead><tr><th></th><th scope=col>white</th><th scope=col>red</th></tr></thead>\n",
       "<tbody>\n",
       "\t<tr><th scope=row>1</th><td>0.9999988   </td><td>1.150366e-06</td></tr>\n",
       "\t<tr><th scope=row>4</th><td>0.9999921   </td><td>7.907188e-06</td></tr>\n",
       "\t<tr><th scope=row>5</th><td>0.9999921   </td><td>7.907188e-06</td></tr>\n",
       "\t<tr><th scope=row>6</th><td>0.9758426   </td><td>2.415741e-02</td></tr>\n",
       "\t<tr><th scope=row>18</th><td>0.9220521   </td><td>7.794794e-02</td></tr>\n",
       "\t<tr><th scope=row>20</th><td>0.9993833   </td><td>6.166798e-04</td></tr>\n",
       "</tbody>\n",
       "</table>\n"
      ],
      "text/latex": [
       "\\begin{tabular}{r|ll}\n",
       "  & white & red\\\\\n",
       "\\hline\n",
       "\t1 & 0.9999988    & 1.150366e-06\\\\\n",
       "\t4 & 0.9999921    & 7.907188e-06\\\\\n",
       "\t5 & 0.9999921    & 7.907188e-06\\\\\n",
       "\t6 & 0.9758426    & 2.415741e-02\\\\\n",
       "\t18 & 0.9220521    & 7.794794e-02\\\\\n",
       "\t20 & 0.9993833    & 6.166798e-04\\\\\n",
       "\\end{tabular}\n"
      ],
      "text/markdown": [
       "\n",
       "| <!--/--> | white | red | \n",
       "|---|---|---|---|---|---|\n",
       "| 1 | 0.9999988    | 1.150366e-06 | \n",
       "| 4 | 0.9999921    | 7.907188e-06 | \n",
       "| 5 | 0.9999921    | 7.907188e-06 | \n",
       "| 6 | 0.9758426    | 2.415741e-02 | \n",
       "| 18 | 0.9220521    | 7.794794e-02 | \n",
       "| 20 | 0.9993833    | 6.166798e-04 | \n",
       "\n",
       "\n"
      ],
      "text/plain": [
       "   white     red         \n",
       "1  0.9999988 1.150366e-06\n",
       "4  0.9999921 7.907188e-06\n",
       "5  0.9999921 7.907188e-06\n",
       "6  0.9758426 2.415741e-02\n",
       "18 0.9220521 7.794794e-02\n",
       "20 0.9993833 6.166798e-04"
      ]
     },
     "metadata": {},
     "output_type": "display_data"
    }
   ],
   "source": [
    "## Predicting Class Probabilities model2\n",
    "lrProbs2 <- predict(lrmodel2, testing, type = \"prob\")\n",
    "head(lrProbs2)"
   ]
  },
  {
   "cell_type": "code",
   "execution_count": 136,
   "metadata": {},
   "outputs": [
    {
     "data": {
      "text/plain": [
       "glm variable importance\n",
       "\n",
       "                     Overall\n",
       "total.sulfur.dioxide  12.950\n",
       "volatile.acidity      10.902\n",
       "pH                     9.567\n",
       "chlorides              8.947\n",
       "fixed.acidity          8.626\n",
       "sulphates              8.193\n",
       "alcohol                2.619\n",
       "residual.sugar         2.242\n",
       "citric.acid            1.978"
      ]
     },
     "metadata": {},
     "output_type": "display_data"
    }
   ],
   "source": [
    "# variable importance model2\n",
    "lr.imp2 = varImp (lrmodel2 , scale = F )\n",
    "lr.imp2"
   ]
  },
  {
   "cell_type": "code",
   "execution_count": 137,
   "metadata": {},
   "outputs": [
    {
     "data": {},
     "metadata": {},
     "output_type": "display_data"
    },
    {
     "data": {
      "image/png": "[encoded data removed]",
      "text/plain": [
       "plot without title"
      ]
     },
     "metadata": {},
     "output_type": "display_data"
    }
   ],
   "source": [
    "## Graphic variable importance model2\n",
    "# dev.new()\n",
    "plot(lr.imp2, top=8, main=\"Variable Importance - LR Model2\")"
   ]
  },
  {
   "cell_type": "code",
   "execution_count": 138,
   "metadata": {},
   "outputs": [
    {
     "name": "stderr",
     "output_type": "stream",
     "text": [
      "Type 'citation(\"pROC\")' for a citation.\n",
      "\n",
      "Attaching package: 'pROC'\n",
      "\n",
      "The following objects are masked from 'package:stats':\n",
      "\n",
      "    cov, smooth, var\n",
      "\n",
      "Warning message:\n",
      "\"glm.fit: fitted probabilities numerically 0 or 1 occurred\"Warning message:\n",
      "\"glm.fit: fitted probabilities numerically 0 or 1 occurred\"Warning message:\n",
      "\"glm.fit: fitted probabilities numerically 0 or 1 occurred\"Warning message:\n",
      "\"glm.fit: fitted probabilities numerically 0 or 1 occurred\"Warning message:\n",
      "\"glm.fit: fitted probabilities numerically 0 or 1 occurred\"Warning message:\n",
      "\"glm.fit: fitted probabilities numerically 0 or 1 occurred\"Warning message:\n",
      "\"glm.fit: fitted probabilities numerically 0 or 1 occurred\"Warning message:\n",
      "\"glm.fit: fitted probabilities numerically 0 or 1 occurred\"Warning message:\n",
      "\"glm.fit: fitted probabilities numerically 0 or 1 occurred\"Warning message:\n",
      "\"glm.fit: fitted probabilities numerically 0 or 1 occurred\"Warning message:\n",
      "\"glm.fit: fitted probabilities numerically 0 or 1 occurred\""
     ]
    },
    {
     "data": {
      "image/png": "[encoded data removed]",
      "text/plain": [
       "Plot with title \"Logistic Regression Models ROC curve\""
      ]
     },
     "metadata": {},
     "output_type": "display_data"
    }
   ],
   "source": [
    "## Creating the ROC Curve\n",
    "library(pROC)\n",
    "formula1 <- as.formula(\"Class ~ .\") \n",
    "lrmodel1 <- train(formula1, data=training, method=\"glm\",   family=binomial, preProc = c(\"center\", \"scale\"), tuneLength = 5, trControl = cvCtrl)\n",
    "lrProbs <- predict(lrmodel1, testing, type = \"prob\")\n",
    "\n",
    "## Creating the ROC Curve\n",
    "library(pROC)\n",
    "lrROC <- roc(predictor = lrProbs$white, response = testing$Class, levels = rev(levels(testing$Class)))\n",
    "lrROC2 <- roc(predictor = lrProbs2$white, response = testing$Class, levels = rev(levels(testing$Class)))\n",
    "\n",
    "plot(lrROC, type = \"S\", main=\"Logistic Regression Models ROC curve\",  col = \"blue\")\n",
    "plot(lrROC2, add = TRUE, print.thres = .5, col = \"red\", print.auc=TRUE)\n",
    "#plot(knnROC, add = TRUE, col = \"yellow\")\n",
    "#plot(rfROC, add = TRUE, print.thres = .5, col = \"blue\", print.auc=TRUE)\n",
    "legend(\"bottomright\", legend = c(\"LRmodel1\",\"LRmodel2\"), col = c(\"blue\",\"red\"),lwd = 2)\n"
   ]
  },
  {
   "cell_type": "markdown",
   "metadata": {},
   "source": [
    "## V Making predictions\n",
    " \n",
    "After doing all the building stuff,  we want to get the predictions from model2 on our training dataset."
   ]
  },
  {
   "cell_type": "code",
   "execution_count": 139,
   "metadata": {},
   "outputs": [
    {
     "data": {
      "text/html": [
       "<table>\n",
       "<thead><tr><th></th><th scope=col>white</th><th scope=col>red</th></tr></thead>\n",
       "<tbody>\n",
       "\t<tr><th scope=row>1</th><td>0.9999988   </td><td>1.150366e-06</td></tr>\n",
       "\t<tr><th scope=row>4</th><td>0.9999921   </td><td>7.907188e-06</td></tr>\n",
       "\t<tr><th scope=row>5</th><td>0.9999921   </td><td>7.907188e-06</td></tr>\n",
       "\t<tr><th scope=row>6</th><td>0.9758426   </td><td>2.415741e-02</td></tr>\n",
       "\t<tr><th scope=row>18</th><td>0.9220521   </td><td>7.794794e-02</td></tr>\n",
       "</tbody>\n",
       "</table>\n"
      ],
      "text/latex": [
       "\\begin{tabular}{r|ll}\n",
       "  & white & red\\\\\n",
       "\\hline\n",
       "\t1 & 0.9999988    & 1.150366e-06\\\\\n",
       "\t4 & 0.9999921    & 7.907188e-06\\\\\n",
       "\t5 & 0.9999921    & 7.907188e-06\\\\\n",
       "\t6 & 0.9758426    & 2.415741e-02\\\\\n",
       "\t18 & 0.9220521    & 7.794794e-02\\\\\n",
       "\\end{tabular}\n"
      ],
      "text/markdown": [
       "\n",
       "| <!--/--> | white | red | \n",
       "|---|---|---|---|---|\n",
       "| 1 | 0.9999988    | 1.150366e-06 | \n",
       "| 4 | 0.9999921    | 7.907188e-06 | \n",
       "| 5 | 0.9999921    | 7.907188e-06 | \n",
       "| 6 | 0.9758426    | 2.415741e-02 | \n",
       "| 18 | 0.9220521    | 7.794794e-02 | \n",
       "\n",
       "\n"
      ],
      "text/plain": [
       "   white     red         \n",
       "1  0.9999988 1.150366e-06\n",
       "4  0.9999921 7.907188e-06\n",
       "5  0.9999921 7.907188e-06\n",
       "6  0.9758426 2.415741e-02\n",
       "18 0.9220521 7.794794e-02"
      ]
     },
     "metadata": {},
     "output_type": "display_data"
    }
   ],
   "source": [
    "# print predictions probabilities by row model2\n",
    "head(as.data.frame(lrProbs2),5)"
   ]
  },
  {
   "cell_type": "code",
   "execution_count": 140,
   "metadata": {},
   "outputs": [
    {
     "data": {
      "text/html": [
       "<table>\n",
       "<thead><tr><th scope=col>fixed.acidity</th><th scope=col>volatile.acidity</th><th scope=col>citric.acid</th><th scope=col>residual.sugar</th><th scope=col>chlorides</th><th scope=col>total.sulfur.dioxide</th><th scope=col>pH</th><th scope=col>sulphates</th><th scope=col>alcohol</th><th scope=col>quality</th><th scope=col>Class</th><th scope=col>lrPred2</th></tr></thead>\n",
       "<tbody>\n",
       "\t<tr><td>7.0  </td><td>0.27 </td><td>0.36 </td><td>20.7 </td><td>0.045</td><td>170  </td><td>3.00 </td><td>0.45 </td><td> 8.8 </td><td>6    </td><td>white</td><td>white</td></tr>\n",
       "\t<tr><td>7.2  </td><td>0.23 </td><td>0.32 </td><td> 8.5 </td><td>0.058</td><td>186  </td><td>3.19 </td><td>0.40 </td><td> 9.9 </td><td>6    </td><td>white</td><td>white</td></tr>\n",
       "\t<tr><td>7.2  </td><td>0.23 </td><td>0.32 </td><td> 8.5 </td><td>0.058</td><td>186  </td><td>3.19 </td><td>0.40 </td><td> 9.9 </td><td>6    </td><td>white</td><td>white</td></tr>\n",
       "\t<tr><td>8.1  </td><td>0.28 </td><td>0.40 </td><td> 6.9 </td><td>0.050</td><td> 97  </td><td>3.26 </td><td>0.44 </td><td>10.1 </td><td>6    </td><td>white</td><td>white</td></tr>\n",
       "\t<tr><td>6.2  </td><td>0.66 </td><td>0.48 </td><td> 1.2 </td><td>0.029</td><td> 75  </td><td>3.33 </td><td>0.39 </td><td>12.8 </td><td>8    </td><td>white</td><td>white</td></tr>\n",
       "\t<tr><td>6.5  </td><td>0.31 </td><td>0.14 </td><td> 7.5 </td><td>0.044</td><td>133  </td><td>3.22 </td><td>0.50 </td><td> 9.5 </td><td>5    </td><td>white</td><td>white</td></tr>\n",
       "\t<tr><td>6.8  </td><td>0.26 </td><td>0.42 </td><td> 1.7 </td><td>0.049</td><td>122  </td><td>3.47 </td><td>0.48 </td><td>10.5 </td><td>8    </td><td>white</td><td>white</td></tr>\n",
       "\t<tr><td>6.6  </td><td>0.27 </td><td>0.41 </td><td> 1.3 </td><td>0.052</td><td>142  </td><td>3.42 </td><td>0.47 </td><td>10.0 </td><td>6    </td><td>white</td><td>white</td></tr>\n",
       "\t<tr><td>7.2  </td><td>0.32 </td><td>0.36 </td><td> 2.0 </td><td>0.033</td><td>114  </td><td>3.10 </td><td>0.71 </td><td>12.3 </td><td>7    </td><td>white</td><td>white</td></tr>\n",
       "\t<tr><td>6.2  </td><td>0.12 </td><td>0.34 </td><td> 1.5 </td><td>0.045</td><td>117  </td><td>3.42 </td><td>0.51 </td><td> 9.0 </td><td>6    </td><td>white</td><td>white</td></tr>\n",
       "</tbody>\n",
       "</table>\n"
      ],
      "text/latex": [
       "\\begin{tabular}{r|llllllllllll}\n",
       " fixed.acidity & volatile.acidity & citric.acid & residual.sugar & chlorides & total.sulfur.dioxide & pH & sulphates & alcohol & quality & Class & lrPred2\\\\\n",
       "\\hline\n",
       "\t 7.0   & 0.27  & 0.36  & 20.7  & 0.045 & 170   & 3.00  & 0.45  &  8.8  & 6     & white & white\\\\\n",
       "\t 7.2   & 0.23  & 0.32  &  8.5  & 0.058 & 186   & 3.19  & 0.40  &  9.9  & 6     & white & white\\\\\n",
       "\t 7.2   & 0.23  & 0.32  &  8.5  & 0.058 & 186   & 3.19  & 0.40  &  9.9  & 6     & white & white\\\\\n",
       "\t 8.1   & 0.28  & 0.40  &  6.9  & 0.050 &  97   & 3.26  & 0.44  & 10.1  & 6     & white & white\\\\\n",
       "\t 6.2   & 0.66  & 0.48  &  1.2  & 0.029 &  75   & 3.33  & 0.39  & 12.8  & 8     & white & white\\\\\n",
       "\t 6.5   & 0.31  & 0.14  &  7.5  & 0.044 & 133   & 3.22  & 0.50  &  9.5  & 5     & white & white\\\\\n",
       "\t 6.8   & 0.26  & 0.42  &  1.7  & 0.049 & 122   & 3.47  & 0.48  & 10.5  & 8     & white & white\\\\\n",
       "\t 6.6   & 0.27  & 0.41  &  1.3  & 0.052 & 142   & 3.42  & 0.47  & 10.0  & 6     & white & white\\\\\n",
       "\t 7.2   & 0.32  & 0.36  &  2.0  & 0.033 & 114   & 3.10  & 0.71  & 12.3  & 7     & white & white\\\\\n",
       "\t 6.2   & 0.12  & 0.34  &  1.5  & 0.045 & 117   & 3.42  & 0.51  &  9.0  & 6     & white & white\\\\\n",
       "\\end{tabular}\n"
      ],
      "text/markdown": [
       "\n",
       "fixed.acidity | volatile.acidity | citric.acid | residual.sugar | chlorides | total.sulfur.dioxide | pH | sulphates | alcohol | quality | Class | lrPred2 | \n",
       "|---|---|---|---|---|---|---|---|---|---|\n",
       "| 7.0   | 0.27  | 0.36  | 20.7  | 0.045 | 170   | 3.00  | 0.45  |  8.8  | 6     | white | white | \n",
       "| 7.2   | 0.23  | 0.32  |  8.5  | 0.058 | 186   | 3.19  | 0.40  |  9.9  | 6     | white | white | \n",
       "| 7.2   | 0.23  | 0.32  |  8.5  | 0.058 | 186   | 3.19  | 0.40  |  9.9  | 6     | white | white | \n",
       "| 8.1   | 0.28  | 0.40  |  6.9  | 0.050 |  97   | 3.26  | 0.44  | 10.1  | 6     | white | white | \n",
       "| 6.2   | 0.66  | 0.48  |  1.2  | 0.029 |  75   | 3.33  | 0.39  | 12.8  | 8     | white | white | \n",
       "| 6.5   | 0.31  | 0.14  |  7.5  | 0.044 | 133   | 3.22  | 0.50  |  9.5  | 5     | white | white | \n",
       "| 6.8   | 0.26  | 0.42  |  1.7  | 0.049 | 122   | 3.47  | 0.48  | 10.5  | 8     | white | white | \n",
       "| 6.6   | 0.27  | 0.41  |  1.3  | 0.052 | 142   | 3.42  | 0.47  | 10.0  | 6     | white | white | \n",
       "| 7.2   | 0.32  | 0.36  |  2.0  | 0.033 | 114   | 3.10  | 0.71  | 12.3  | 7     | white | white | \n",
       "| 6.2   | 0.12  | 0.34  |  1.5  | 0.045 | 117   | 3.42  | 0.51  |  9.0  | 6     | white | white | \n",
       "\n",
       "\n"
      ],
      "text/plain": [
       "   fixed.acidity volatile.acidity citric.acid residual.sugar chlorides\n",
       "1  7.0           0.27             0.36        20.7           0.045    \n",
       "2  7.2           0.23             0.32         8.5           0.058    \n",
       "3  7.2           0.23             0.32         8.5           0.058    \n",
       "4  8.1           0.28             0.40         6.9           0.050    \n",
       "5  6.2           0.66             0.48         1.2           0.029    \n",
       "6  6.5           0.31             0.14         7.5           0.044    \n",
       "7  6.8           0.26             0.42         1.7           0.049    \n",
       "8  6.6           0.27             0.41         1.3           0.052    \n",
       "9  7.2           0.32             0.36         2.0           0.033    \n",
       "10 6.2           0.12             0.34         1.5           0.045    \n",
       "   total.sulfur.dioxide pH   sulphates alcohol quality Class lrPred2\n",
       "1  170                  3.00 0.45       8.8    6       white white  \n",
       "2  186                  3.19 0.40       9.9    6       white white  \n",
       "3  186                  3.19 0.40       9.9    6       white white  \n",
       "4   97                  3.26 0.44      10.1    6       white white  \n",
       "5   75                  3.33 0.39      12.8    8       white white  \n",
       "6  133                  3.22 0.50       9.5    5       white white  \n",
       "7  122                  3.47 0.48      10.5    8       white white  \n",
       "8  142                  3.42 0.47      10.0    6       white white  \n",
       "9  114                  3.10 0.71      12.3    7       white white  \n",
       "10 117                  3.42 0.51       9.0    6       white white  "
      ]
     },
     "metadata": {},
     "output_type": "display_data"
    }
   ],
   "source": [
    "# print validation dataset and predictions by row model2\n",
    "head((val<-as.data.frame(c(testing,as.data.frame(lrPred2)))),10)"
   ]
  },
  {
   "cell_type": "markdown",
   "metadata": {
    "collapsed": true
   },
   "source": [
    "Now if you want to get the predictions from a new test data, you can see the item 7.4 of my project [MACHINE LEARNING: A comparison of supervised learning algorithms applied to the classification problem with caret R-project library](http://nbviewer.jupyter.org/github/arqmain/Machine_Learning/blob/master/R_MLearning/MLearning_Classification_Comparison_R_Caret/MLearning_Classification_Comparison_R_Caret.ipynb). "
   ]
  },
  {
   "cell_type": "markdown",
   "metadata": {
    "collapsed": true
   },
   "source": [
    "## VI Conclusion"
   ]
  },
  {
   "cell_type": "markdown",
   "metadata": {},
   "source": [
    "This module of the project develops Logistic Regression algorithm of machine learning to classify the Class of the wine \"White\" or \"Red\" according to the 11 variables that characterize the wine subject to classification.\n",
    "\n",
    "The database -df- does not consider two variables that appear in the original base. They could generate a problem of multicollinearity in the process of classification. So, we got rid of them in df.\n",
    "\n",
    "The lrmodel2 achieves a good classification metric, reaching ROC measurement of 99.66%. That is, the variables of the \"df\" database allow discriminating in a good way the Class of wine that they represent.\n",
    "\n",
    "The model was developed selecting the variables included by using the stepwise backward elimination method based on AIC selection criterion. Anyway, this is modeling so, we may improve more or not the model by filtering other variables, incorporating variable's interactions or using another variable's selection method."
   ]
  },
  {
   "cell_type": "markdown",
   "metadata": {},
   "source": [
    "<hr>\n",
    "By: Hector Alvaro Rojas | Data Science, Visualizations and Applied Statistics | October 30, 2017<br>\n",
    "Url: [http://www.arqmain.net]   &nbsp;&nbsp;&nbsp;|&nbsp;&nbsp;&nbsp;   GitHub: [https://github.com/arqmain]"
   ]
  },
  {
   "cell_type": "code",
   "execution_count": null,
   "metadata": {
    "collapsed": true
   },
   "outputs": [],
   "source": []
  }
 ],
 "metadata": {
  "anaconda-cloud": {},
  "kernelspec": {
   "display_name": "R",
   "language": "R",
   "name": "ir"
  },
  "language_info": {
   "codemirror_mode": "r",
   "file_extension": ".r",
   "mimetype": "text/x-r-source",
   "name": "R",
   "pygments_lexer": "r",
   "version": "3.4.1"
  }
 },
 "nbformat": 4,
 "nbformat_minor": 2
}
