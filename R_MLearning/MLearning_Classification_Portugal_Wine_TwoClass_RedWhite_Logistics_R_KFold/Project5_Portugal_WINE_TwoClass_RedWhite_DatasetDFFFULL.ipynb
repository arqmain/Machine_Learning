{
 "cells": [
  {
   "cell_type": "markdown",
   "metadata": {},
   "source": [
    "#  MACHINE LEARNING: Portugal Wine under Two Class approach for Red and White classification with Logistic Regression using R and K fold cross-validation\n",
    "# Module 3: Solving project with dataset dffful\n",
    "\n",
    "\n",
    "By: Hector Alvaro Rojas | Data Science, Visualizations and Applied Statistics | October 30, 2017<br>\n",
    "Url: [http://www.arqmain.net]   &nbsp;&nbsp;&nbsp;|&nbsp;&nbsp;&nbsp;   GitHub: [https://github.com/arqmain]\n",
    "<hr>"
   ]
  },
  {
   "cell_type": "markdown",
   "metadata": {},
   "source": [
    "# I Introduction"
   ]
  },
  {
   "cell_type": "markdown",
   "metadata": {
    "collapsed": true
   },
   "source": [
    "We consider the original dataset without the variables \"density\" and \"free.sulfor.dioxide\".\n",
    "\n",
    "<u><b><i>dfffull</i></b></u> keep all the register of the original database \"df\" but replace the upper outliers by its corresponding <i>Threshold</i>.\n",
    "\n",
    "\n",
    "We consider outliers those points that have any predictor variable value to be outside of the limits constructed by boxplots. The following rule is applied:\n",
    "\n",
    "* A predictor value is considered to be an upper outlier only if it is greater than <b>Threshold = Q3 + 1.5IQR</b>\n",
    "\n",
    "Application of this rule oes not reduces the original datasize becouse it does not eliminate any register.  So, <i>dfffull</i></b></u> data size is the same as the original \"df\" 6497)."
   ]
  },
  {
   "cell_type": "markdown",
   "metadata": {},
   "source": [
    "# II Loading and the Data"
   ]
  },
  {
   "cell_type": "code",
   "execution_count": 117,
   "metadata": {
    "collapsed": true
   },
   "outputs": [],
   "source": [
    "# first remove ALL objects and close all possible connections\n",
    "closeAllConnections()\n",
    "rm(list = ls(all = TRUE)) # Does remove all inclusive hidden\n",
    "\n",
    "# see your memory size\n",
    "memory.size() "
   ]
  },
  {
   "cell_type": "code",
   "execution_count": 1,
   "metadata": {},
   "outputs": [
    {
     "name": "stderr",
     "output_type": "stream",
     "text": [
      "Loading required package: plyr\n",
      "Loading required package: dplyr\n",
      "\n",
      "Attaching package: 'dplyr'\n",
      "\n",
      "The following objects are masked from 'package:plyr':\n",
      "\n",
      "    arrange, count, desc, failwith, id, mutate, rename, summarise,\n",
      "    summarize\n",
      "\n",
      "The following objects are masked from 'package:stats':\n",
      "\n",
      "    filter, lag\n",
      "\n",
      "The following objects are masked from 'package:base':\n",
      "\n",
      "    intersect, setdiff, setequal, union\n",
      "\n",
      "Loading required package: car\n",
      "Warning message:\n",
      "\"package 'car' was built under R version 3.4.2\"\n",
      "Attaching package: 'car'\n",
      "\n",
      "The following object is masked from 'package:dplyr':\n",
      "\n",
      "    recode\n",
      "\n",
      "Loading required package: caret\n",
      "Loading required package: lattice\n",
      "Loading required package: ggplot2\n"
     ]
    },
    {
     "data": {
      "text/html": [
       "<dl class=dl-horizontal>\n",
       "\t<dt>plyr</dt>\n",
       "\t\t<dd>TRUE</dd>\n",
       "\t<dt>dplyr</dt>\n",
       "\t\t<dd>TRUE</dd>\n",
       "\t<dt>car</dt>\n",
       "\t\t<dd>TRUE</dd>\n",
       "\t<dt>caret</dt>\n",
       "\t\t<dd>TRUE</dd>\n",
       "</dl>\n"
      ],
      "text/latex": [
       "\\begin{description*}\n",
       "\\item[plyr] TRUE\n",
       "\\item[dplyr] TRUE\n",
       "\\item[car] TRUE\n",
       "\\item[caret] TRUE\n",
       "\\end{description*}\n"
      ],
      "text/markdown": [
       "plyr\n",
       ":   TRUEdplyr\n",
       ":   TRUEcar\n",
       ":   TRUEcaret\n",
       ":   TRUE\n",
       "\n"
      ],
      "text/plain": [
       " plyr dplyr   car caret \n",
       " TRUE  TRUE  TRUE  TRUE "
      ]
     },
     "metadata": {},
     "output_type": "display_data"
    }
   ],
   "source": [
    "# install packages and load libraries\n",
    "ipak <- function(pkg){\n",
    "    new.pkg <- pkg[!(pkg %in% installed.packages()[, \"Package\"])]\n",
    "    if (length(new.pkg)) \n",
    "        install.packages(new.pkg, dependencies = c(\"Depends\", \"Suggests\"))\n",
    "    sapply(pkg, require, character.only = TRUE)\n",
    "}\n",
    "# usage\n",
    "packages <- c(\"plyr\", \"dplyr\", \"car\",\"caret\")\n",
    "ipak(packages)\n"
   ]
  },
  {
   "cell_type": "code",
   "execution_count": 4,
   "metadata": {},
   "outputs": [
    {
     "name": "stderr",
     "output_type": "stream",
     "text": [
      "The following objects are masked from df (pos = 3):\n",
      "\n",
      "    alcohol, chlorides, citric.acid, Class, fixed.acidity, pH, quality,\n",
      "    residual.sugar, sulphates, total.sulfur.dioxide, volatile.acidity\n",
      "\n"
     ]
    },
    {
     "data": {
      "text/html": [
       "<table>\n",
       "<thead><tr><th scope=col>fixed.acidity</th><th scope=col>volatile.acidity</th><th scope=col>citric.acid</th><th scope=col>residual.sugar</th><th scope=col>chlorides</th><th scope=col>total.sulfur.dioxide</th><th scope=col>pH</th><th scope=col>sulphates</th><th scope=col>alcohol</th><th scope=col>quality</th><th scope=col>Class</th></tr></thead>\n",
       "<tbody>\n",
       "\t<tr><td>7.0  </td><td>0.27 </td><td>0.36 </td><td>20.7 </td><td>0.045</td><td>170  </td><td>3.00 </td><td>0.45 </td><td> 8.8 </td><td>6    </td><td>white</td></tr>\n",
       "\t<tr><td>6.3  </td><td>0.30 </td><td>0.34 </td><td> 1.6 </td><td>0.049</td><td>132  </td><td>3.30 </td><td>0.49 </td><td> 9.5 </td><td>6    </td><td>white</td></tr>\n",
       "\t<tr><td>8.1  </td><td>0.28 </td><td>0.40 </td><td> 6.9 </td><td>0.050</td><td> 97  </td><td>3.26 </td><td>0.44 </td><td>10.1 </td><td>6    </td><td>white</td></tr>\n",
       "\t<tr><td>7.2  </td><td>0.23 </td><td>0.32 </td><td> 8.5 </td><td>0.058</td><td>186  </td><td>3.19 </td><td>0.40 </td><td> 9.9 </td><td>6    </td><td>white</td></tr>\n",
       "\t<tr><td>7.2  </td><td>0.23 </td><td>0.32 </td><td> 8.5 </td><td>0.058</td><td>186  </td><td>3.19 </td><td>0.40 </td><td> 9.9 </td><td>6    </td><td>white</td></tr>\n",
       "\t<tr><td>8.1  </td><td>0.28 </td><td>0.40 </td><td> 6.9 </td><td>0.050</td><td> 97  </td><td>3.26 </td><td>0.44 </td><td>10.1 </td><td>6    </td><td>white</td></tr>\n",
       "</tbody>\n",
       "</table>\n"
      ],
      "text/latex": [
       "\\begin{tabular}{r|lllllllllll}\n",
       " fixed.acidity & volatile.acidity & citric.acid & residual.sugar & chlorides & total.sulfur.dioxide & pH & sulphates & alcohol & quality & Class\\\\\n",
       "\\hline\n",
       "\t 7.0   & 0.27  & 0.36  & 20.7  & 0.045 & 170   & 3.00  & 0.45  &  8.8  & 6     & white\\\\\n",
       "\t 6.3   & 0.30  & 0.34  &  1.6  & 0.049 & 132   & 3.30  & 0.49  &  9.5  & 6     & white\\\\\n",
       "\t 8.1   & 0.28  & 0.40  &  6.9  & 0.050 &  97   & 3.26  & 0.44  & 10.1  & 6     & white\\\\\n",
       "\t 7.2   & 0.23  & 0.32  &  8.5  & 0.058 & 186   & 3.19  & 0.40  &  9.9  & 6     & white\\\\\n",
       "\t 7.2   & 0.23  & 0.32  &  8.5  & 0.058 & 186   & 3.19  & 0.40  &  9.9  & 6     & white\\\\\n",
       "\t 8.1   & 0.28  & 0.40  &  6.9  & 0.050 &  97   & 3.26  & 0.44  & 10.1  & 6     & white\\\\\n",
       "\\end{tabular}\n"
      ],
      "text/markdown": [
       "\n",
       "fixed.acidity | volatile.acidity | citric.acid | residual.sugar | chlorides | total.sulfur.dioxide | pH | sulphates | alcohol | quality | Class | \n",
       "|---|---|---|---|---|---|\n",
       "| 7.0   | 0.27  | 0.36  | 20.7  | 0.045 | 170   | 3.00  | 0.45  |  8.8  | 6     | white | \n",
       "| 6.3   | 0.30  | 0.34  |  1.6  | 0.049 | 132   | 3.30  | 0.49  |  9.5  | 6     | white | \n",
       "| 8.1   | 0.28  | 0.40  |  6.9  | 0.050 |  97   | 3.26  | 0.44  | 10.1  | 6     | white | \n",
       "| 7.2   | 0.23  | 0.32  |  8.5  | 0.058 | 186   | 3.19  | 0.40  |  9.9  | 6     | white | \n",
       "| 7.2   | 0.23  | 0.32  |  8.5  | 0.058 | 186   | 3.19  | 0.40  |  9.9  | 6     | white | \n",
       "| 8.1   | 0.28  | 0.40  |  6.9  | 0.050 |  97   | 3.26  | 0.44  | 10.1  | 6     | white | \n",
       "\n",
       "\n"
      ],
      "text/plain": [
       "  fixed.acidity volatile.acidity citric.acid residual.sugar chlorides\n",
       "1 7.0           0.27             0.36        20.7           0.045    \n",
       "2 6.3           0.30             0.34         1.6           0.049    \n",
       "3 8.1           0.28             0.40         6.9           0.050    \n",
       "4 7.2           0.23             0.32         8.5           0.058    \n",
       "5 7.2           0.23             0.32         8.5           0.058    \n",
       "6 8.1           0.28             0.40         6.9           0.050    \n",
       "  total.sulfur.dioxide pH   sulphates alcohol quality Class\n",
       "1 170                  3.00 0.45       8.8    6       white\n",
       "2 132                  3.30 0.49       9.5    6       white\n",
       "3  97                  3.26 0.44      10.1    6       white\n",
       "4 186                  3.19 0.40       9.9    6       white\n",
       "5 186                  3.19 0.40       9.9    6       white\n",
       "6  97                  3.26 0.44      10.1    6       white"
      ]
     },
     "metadata": {},
     "output_type": "display_data"
    }
   ],
   "source": [
    "# define path location of datasets\n",
    "wine1.url <- \"http://archive.ics.uci.edu/ml/machine-learning-databases/wine-quality/winequality-white.csv\"\n",
    "wine2.url <- \"http://archive.ics.uci.edu/ml/machine-learning-databases/wine-quality/winequality-red.csv\"\n",
    "\n",
    "# read datasets\n",
    "wine1 <- read.csv(wine1.url, header=TRUE, sep=';')\n",
    "wine2 <- read.csv(wine2.url, header=TRUE, sep=';')\n",
    "\n",
    "# create dataset base\n",
    "paso <- rbind(cbind(wine1, Class='white'), cbind(wine2, Class='red'))\n",
    "#paso$quality<- ifelse(paso$quality>=6, \"Good\", ifelse(paso$quality<6, \"Bad\", NA))\n",
    "\n",
    "df= subset(paso, select=c('fixed.acidity', 'volatile.acidity', 'citric.acid', 'residual.sugar', 'chlorides' ,'total.sulfur.dioxide','pH', 'sulphates', 'alcohol', 'quality', 'Class'))\n",
    "attach(df)\n",
    "head(df)\n",
    "rm(\"paso\", \"wine1\", \"wine2\")"
   ]
  },
  {
   "cell_type": "code",
   "execution_count": 5,
   "metadata": {
    "collapsed": true
   },
   "outputs": [],
   "source": [
    "# verify response variable \"quality\" as factor\n",
    "df$Class <- as.factor(df$Class)"
   ]
  },
  {
   "cell_type": "code",
   "execution_count": 6,
   "metadata": {},
   "outputs": [
    {
     "name": "stdout",
     "output_type": "stream",
     "text": [
      "'data.frame':\t6497 obs. of  11 variables:\n",
      " $ fixed.acidity       : num  7 6.3 8.1 7.2 7.2 8.1 6.2 7 6.3 8.1 ...\n",
      " $ volatile.acidity    : num  0.27 0.3 0.28 0.23 0.23 0.28 0.32 0.27 0.3 0.22 ...\n",
      " $ citric.acid         : num  0.36 0.34 0.4 0.32 0.32 0.4 0.16 0.36 0.34 0.43 ...\n",
      " $ residual.sugar      : num  20.7 1.6 6.9 8.5 8.5 6.9 7 20.7 1.6 1.5 ...\n",
      " $ chlorides           : num  0.045 0.049 0.05 0.058 0.058 0.05 0.045 0.045 0.049 0.044 ...\n",
      " $ total.sulfur.dioxide: num  170 132 97 186 186 97 136 170 132 129 ...\n",
      " $ pH                  : num  3 3.3 3.26 3.19 3.19 3.26 3.18 3 3.3 3.22 ...\n",
      " $ sulphates           : num  0.45 0.49 0.44 0.4 0.4 0.44 0.47 0.45 0.49 0.45 ...\n",
      " $ alcohol             : num  8.8 9.5 10.1 9.9 9.9 10.1 9.6 8.8 9.5 11 ...\n",
      " $ quality             : int  6 6 6 6 6 6 6 6 6 6 ...\n",
      " $ Class               : Factor w/ 2 levels \"white\",\"red\": 1 1 1 1 1 1 1 1 1 1 ...\n"
     ]
    }
   ],
   "source": [
    "# get some information about the dataset\n",
    "str(df)"
   ]
  },
  {
   "cell_type": "code",
   "execution_count": 7,
   "metadata": {
    "collapsed": true
   },
   "outputs": [],
   "source": [
    "#summarize full dataset by columns \n",
    "propmiss <- function(dataframe) {\n",
    "\tm <- sapply(dataframe, function(x) {\n",
    "\t\tdata.frame(\n",
    "\t\t\tn=length(!is.na(x)), \n",
    "\t\t\tnmiss=sum(is.na(x)), \n",
    "\t\t\tpropmiss=sum(is.na(x))/length(x),\n",
    "\t\t\tP25=round(quantile(x, 0.25, na.rm=TRUE),2),\n",
    "\t\t\tP75=round(quantile(x, 0.75, na.rm=TRUE),2),            \n",
    "\t\t\tIQR=round(IQR(x, na.rm=TRUE),2),\n",
    "\t\t\tThreshold= round(quantile(x, 0.75, na.rm=TRUE),2) + 1.5*round(IQR(x, na.rm=TRUE),2),            \n",
    "\t\t\tMinimum=round(min(x, na.rm=TRUE),2),\n",
    "\t\t\tMedian=round(median(x, na.rm=TRUE),2),            \n",
    "\t\t\tMaximum=round(max(x, na.rm=TRUE),2),\n",
    "\t\t\tRange=round(max(x, na.rm=TRUE)-min(x, na.rm=TRUE),2),\n",
    "\t\t\tMean=round(mean(x, na.rm=TRUE),2),\n",
    "\t\t\tStDev=round(sd(x, na.rm=TRUE),2)\n",
    "\t\t)\n",
    "\t})\n",
    "\td <- data.frame(t(m))\n",
    "\td <- sapply(d, unlist)\n",
    "\td <- as.data.frame(d)\n",
    "\td$variable <- row.names(d)\n",
    "\trow.names(d) <- NULL\n",
    "\td <- cbind(d[ncol(d)],d[-ncol(d)])\n",
    "\treturn(d[order(d$propmiss), ])\n",
    "}"
   ]
  },
  {
   "cell_type": "code",
   "execution_count": 8,
   "metadata": {},
   "outputs": [
    {
     "data": {
      "text/html": [
       "<table>\n",
       "<thead><tr><th scope=col>variable</th><th scope=col>n</th><th scope=col>P25</th><th scope=col>P75</th><th scope=col>IQR</th><th scope=col>Threshold</th><th scope=col>Minimum</th><th scope=col>Median</th><th scope=col>Maximum</th><th scope=col>Range</th><th scope=col>Mean</th><th scope=col>StDev</th></tr></thead>\n",
       "<tbody>\n",
       "\t<tr><td>fixed.acidity       </td><td>6497                </td><td> 6.40               </td><td>  7.70              </td><td> 1.30               </td><td>  9.650             </td><td>3.80                </td><td>  7.00              </td><td> 15.90              </td><td> 12.10              </td><td>  7.22              </td><td> 1.30               </td></tr>\n",
       "\t<tr><td>volatile.acidity    </td><td>6497                </td><td> 0.23               </td><td>  0.40              </td><td> 0.17               </td><td>  0.655             </td><td>0.08                </td><td>  0.29              </td><td>  1.58              </td><td>  1.50              </td><td>  0.34              </td><td> 0.16               </td></tr>\n",
       "\t<tr><td>citric.acid         </td><td>6497                </td><td> 0.25               </td><td>  0.39              </td><td> 0.14               </td><td>  0.600             </td><td>0.00                </td><td>  0.31              </td><td>  1.66              </td><td>  1.66              </td><td>  0.32              </td><td> 0.15               </td></tr>\n",
       "\t<tr><td>residual.sugar      </td><td>6497                </td><td> 1.80               </td><td>  8.10              </td><td> 6.30               </td><td> 17.550             </td><td>0.60                </td><td>  3.00              </td><td> 65.80              </td><td> 65.20              </td><td>  5.44              </td><td> 4.76               </td></tr>\n",
       "\t<tr><td>chlorides           </td><td>6497                </td><td> 0.04               </td><td>  0.06              </td><td> 0.03               </td><td>  0.105             </td><td>0.01                </td><td>  0.05              </td><td>  0.61              </td><td>  0.60              </td><td>  0.06              </td><td> 0.04               </td></tr>\n",
       "\t<tr><td>total.sulfur.dioxide</td><td>6497                </td><td>77.00               </td><td>156.00              </td><td>79.00               </td><td>274.500             </td><td>6.00                </td><td>118.00              </td><td>440.00              </td><td>434.00              </td><td>115.74              </td><td>56.52               </td></tr>\n",
       "\t<tr><td>pH                  </td><td>6497                </td><td> 3.11               </td><td>  3.32              </td><td> 0.21               </td><td>  3.635             </td><td>2.72                </td><td>  3.21              </td><td>  4.01              </td><td>  1.29              </td><td>  3.22              </td><td> 0.16               </td></tr>\n",
       "\t<tr><td>sulphates           </td><td>6497                </td><td> 0.43               </td><td>  0.60              </td><td> 0.17               </td><td>  0.855             </td><td>0.22                </td><td>  0.51              </td><td>  2.00              </td><td>  1.78              </td><td>  0.53              </td><td> 0.15               </td></tr>\n",
       "\t<tr><td>alcohol             </td><td>6497                </td><td> 9.50               </td><td> 11.30              </td><td> 1.80               </td><td> 14.000             </td><td>8.00                </td><td> 10.30              </td><td> 14.90              </td><td>  6.90              </td><td> 10.49              </td><td> 1.19               </td></tr>\n",
       "</tbody>\n",
       "</table>\n"
      ],
      "text/latex": [
       "\\begin{tabular}{r|llllllllllll}\n",
       " variable & n & P25 & P75 & IQR & Threshold & Minimum & Median & Maximum & Range & Mean & StDev\\\\\n",
       "\\hline\n",
       "\t fixed.acidity        & 6497                 &  6.40                &   7.70               &  1.30                &   9.650              & 3.80                 &   7.00               &  15.90               &  12.10               &   7.22               &  1.30               \\\\\n",
       "\t volatile.acidity     & 6497                 &  0.23                &   0.40               &  0.17                &   0.655              & 0.08                 &   0.29               &   1.58               &   1.50               &   0.34               &  0.16               \\\\\n",
       "\t citric.acid          & 6497                 &  0.25                &   0.39               &  0.14                &   0.600              & 0.00                 &   0.31               &   1.66               &   1.66               &   0.32               &  0.15               \\\\\n",
       "\t residual.sugar       & 6497                 &  1.80                &   8.10               &  6.30                &  17.550              & 0.60                 &   3.00               &  65.80               &  65.20               &   5.44               &  4.76               \\\\\n",
       "\t chlorides            & 6497                 &  0.04                &   0.06               &  0.03                &   0.105              & 0.01                 &   0.05               &   0.61               &   0.60               &   0.06               &  0.04               \\\\\n",
       "\t total.sulfur.dioxide & 6497                 & 77.00                & 156.00               & 79.00                & 274.500              & 6.00                 & 118.00               & 440.00               & 434.00               & 115.74               & 56.52               \\\\\n",
       "\t pH                   & 6497                 &  3.11                &   3.32               &  0.21                &   3.635              & 2.72                 &   3.21               &   4.01               &   1.29               &   3.22               &  0.16               \\\\\n",
       "\t sulphates            & 6497                 &  0.43                &   0.60               &  0.17                &   0.855              & 0.22                 &   0.51               &   2.00               &   1.78               &   0.53               &  0.15               \\\\\n",
       "\t alcohol              & 6497                 &  9.50                &  11.30               &  1.80                &  14.000              & 8.00                 &  10.30               &  14.90               &   6.90               &  10.49               &  1.19               \\\\\n",
       "\\end{tabular}\n"
      ],
      "text/markdown": [
       "\n",
       "variable | n | P25 | P75 | IQR | Threshold | Minimum | Median | Maximum | Range | Mean | StDev | \n",
       "|---|---|---|---|---|---|---|---|---|\n",
       "| fixed.acidity        | 6497                 |  6.40                |   7.70               |  1.30                |   9.650              | 3.80                 |   7.00               |  15.90               |  12.10               |   7.22               |  1.30                | \n",
       "| volatile.acidity     | 6497                 |  0.23                |   0.40               |  0.17                |   0.655              | 0.08                 |   0.29               |   1.58               |   1.50               |   0.34               |  0.16                | \n",
       "| citric.acid          | 6497                 |  0.25                |   0.39               |  0.14                |   0.600              | 0.00                 |   0.31               |   1.66               |   1.66               |   0.32               |  0.15                | \n",
       "| residual.sugar       | 6497                 |  1.80                |   8.10               |  6.30                |  17.550              | 0.60                 |   3.00               |  65.80               |  65.20               |   5.44               |  4.76                | \n",
       "| chlorides            | 6497                 |  0.04                |   0.06               |  0.03                |   0.105              | 0.01                 |   0.05               |   0.61               |   0.60               |   0.06               |  0.04                | \n",
       "| total.sulfur.dioxide | 6497                 | 77.00                | 156.00               | 79.00                | 274.500              | 6.00                 | 118.00               | 440.00               | 434.00               | 115.74               | 56.52                | \n",
       "| pH                   | 6497                 |  3.11                |   3.32               |  0.21                |   3.635              | 2.72                 |   3.21               |   4.01               |   1.29               |   3.22               |  0.16                | \n",
       "| sulphates            | 6497                 |  0.43                |   0.60               |  0.17                |   0.855              | 0.22                 |   0.51               |   2.00               |   1.78               |   0.53               |  0.15                | \n",
       "| alcohol              | 6497                 |  9.50                |  11.30               |  1.80                |  14.000              | 8.00                 |  10.30               |  14.90               |   6.90               |  10.49               |  1.19                | \n",
       "\n",
       "\n"
      ],
      "text/plain": [
       "  variable             n    P25   P75    IQR   Threshold Minimum Median Maximum\n",
       "1 fixed.acidity        6497  6.40   7.70  1.30   9.650   3.80      7.00  15.90 \n",
       "2 volatile.acidity     6497  0.23   0.40  0.17   0.655   0.08      0.29   1.58 \n",
       "3 citric.acid          6497  0.25   0.39  0.14   0.600   0.00      0.31   1.66 \n",
       "4 residual.sugar       6497  1.80   8.10  6.30  17.550   0.60      3.00  65.80 \n",
       "5 chlorides            6497  0.04   0.06  0.03   0.105   0.01      0.05   0.61 \n",
       "6 total.sulfur.dioxide 6497 77.00 156.00 79.00 274.500   6.00    118.00 440.00 \n",
       "7 pH                   6497  3.11   3.32  0.21   3.635   2.72      3.21   4.01 \n",
       "8 sulphates            6497  0.43   0.60  0.17   0.855   0.22      0.51   2.00 \n",
       "9 alcohol              6497  9.50  11.30  1.80  14.000   8.00     10.30  14.90 \n",
       "  Range  Mean   StDev\n",
       "1  12.10   7.22  1.30\n",
       "2   1.50   0.34  0.16\n",
       "3   1.66   0.32  0.15\n",
       "4  65.20   5.44  4.76\n",
       "5   0.60   0.06  0.04\n",
       "6 434.00 115.74 56.52\n",
       "7   1.29   3.22  0.16\n",
       "8   1.78   0.53  0.15\n",
       "9   6.90  10.49  1.19"
      ]
     },
     "metadata": {},
     "output_type": "display_data"
    }
   ],
   "source": [
    "# summarize original df dataset\n",
    "(summary1=propmiss(df[,-c(10:11)])[,-(3:4)])"
   ]
  },
  {
   "cell_type": "code",
   "execution_count": 9,
   "metadata": {},
   "outputs": [
    {
     "name": "stderr",
     "output_type": "stream",
     "text": [
      "Loading required package: ParamHelpers\n",
      "\n",
      "Attaching package: 'mlr'\n",
      "\n",
      "The following object is masked from 'package:caret':\n",
      "\n",
      "    train\n",
      "\n"
     ]
    }
   ],
   "source": [
    "# r code to replace outliers by the threshold of each variable\n",
    "library(mlr)"
   ]
  },
  {
   "cell_type": "code",
   "execution_count": 11,
   "metadata": {
    "collapsed": true
   },
   "outputs": [],
   "source": [
    "dfffull <- capLargeValues(df, target = \"Class\",cols = c(\"fixed.acidity\"),threshold = summary1[1,6])\n",
    "dfffull <- capLargeValues(dfffull, target = \"Class\",cols = c(\"volatile.acidity\"),threshold = summary1[2,6])\n",
    "dfffull <- capLargeValues(dfffull, target = \"Class\",cols = c(\"citric.acid\"),threshold = summary1[3,6])\n",
    "dfffull <- capLargeValues(dfffull, target = \"Class\",cols = c(\"residual.sugar\"),threshold = summary1[4,6])\n",
    "dfffull <- capLargeValues(dfffull, target = \"Class\",cols = c(\"chlorides\"),threshold = summary1[5,6])\n",
    "dfffull <- capLargeValues(dfffull, target = \"Class\",cols = c(\"total.sulfur.dioxide\"),threshold = summary1[6,6])\n",
    "dfffull <- capLargeValues(dfffull, target = \"Class\",cols = c(\"pH\"),threshold = summary1[7,6])\n",
    "dfffull <- capLargeValues(dfffull, target = \"Class\",cols = c(\"sulphates\"),threshold = summary1[8,6])\n",
    "dfffull <- capLargeValues(dfffull, target = \"Class\",cols = c(\"alcohol\"),threshold = summary1[9,6])\n",
    "unloadNamespace(\"mlr\")"
   ]
  },
  {
   "cell_type": "code",
   "execution_count": 12,
   "metadata": {},
   "outputs": [
    {
     "name": "stdout",
     "output_type": "stream",
     "text": [
      "'data.frame':\t6497 obs. of  11 variables:\n",
      " $ fixed.acidity       : num  7 6.3 8.1 7.2 7.2 8.1 6.2 7 6.3 8.1 ...\n",
      " $ volatile.acidity    : num  0.27 0.3 0.28 0.23 0.23 0.28 0.32 0.27 0.3 0.22 ...\n",
      " $ citric.acid         : num  0.36 0.34 0.4 0.32 0.32 0.4 0.16 0.36 0.34 0.43 ...\n",
      " $ residual.sugar      : num  17.5 1.6 6.9 8.5 8.5 ...\n",
      " $ chlorides           : num  0.045 0.049 0.05 0.058 0.058 0.05 0.045 0.045 0.049 0.044 ...\n",
      " $ total.sulfur.dioxide: num  170 132 97 186 186 97 136 170 132 129 ...\n",
      " $ pH                  : num  3 3.3 3.26 3.19 3.19 3.26 3.18 3 3.3 3.22 ...\n",
      " $ sulphates           : num  0.45 0.49 0.44 0.4 0.4 0.44 0.47 0.45 0.49 0.45 ...\n",
      " $ alcohol             : num  8.8 9.5 10.1 9.9 9.9 10.1 9.6 8.8 9.5 11 ...\n",
      " $ quality             : int  6 6 6 6 6 6 6 6 6 6 ...\n",
      " $ Class               : Factor w/ 2 levels \"white\",\"red\": 1 1 1 1 1 1 1 1 1 1 ...\n"
     ]
    }
   ],
   "source": [
    "# get some information about the dataset\n",
    "str(dfffull)"
   ]
  },
  {
   "cell_type": "code",
   "execution_count": 13,
   "metadata": {
    "collapsed": true
   },
   "outputs": [],
   "source": [
    "# remove and dettach df dataset\n",
    "rm(\"df\")\n",
    "detach(\"df\")"
   ]
  },
  {
   "cell_type": "code",
   "execution_count": 14,
   "metadata": {
    "collapsed": true
   },
   "outputs": [],
   "source": [
    "# rename dff dataset as df dataset to use the already created R scripts\n",
    "df <- dfffull\n",
    "\n",
    "# remove dff dataset\n",
    "rm(\"dfffull\")"
   ]
  },
  {
   "cell_type": "code",
   "execution_count": 15,
   "metadata": {},
   "outputs": [
    {
     "data": {
      "text/html": [
       "<table>\n",
       "<thead><tr><th scope=col>fixed.acidity</th><th scope=col>volatile.acidity</th><th scope=col>citric.acid</th><th scope=col>residual.sugar</th><th scope=col>chlorides</th><th scope=col>total.sulfur.dioxide</th><th scope=col>pH</th><th scope=col>sulphates</th><th scope=col>alcohol</th><th scope=col>quality</th><th scope=col>Class</th></tr></thead>\n",
       "<tbody>\n",
       "\t<tr><td>7.0  </td><td>0.27 </td><td>0.36 </td><td>17.55</td><td>0.045</td><td>170  </td><td>3.00 </td><td>0.45 </td><td> 8.8 </td><td>6    </td><td>white</td></tr>\n",
       "\t<tr><td>6.3  </td><td>0.30 </td><td>0.34 </td><td> 1.60</td><td>0.049</td><td>132  </td><td>3.30 </td><td>0.49 </td><td> 9.5 </td><td>6    </td><td>white</td></tr>\n",
       "\t<tr><td>8.1  </td><td>0.28 </td><td>0.40 </td><td> 6.90</td><td>0.050</td><td> 97  </td><td>3.26 </td><td>0.44 </td><td>10.1 </td><td>6    </td><td>white</td></tr>\n",
       "\t<tr><td>7.2  </td><td>0.23 </td><td>0.32 </td><td> 8.50</td><td>0.058</td><td>186  </td><td>3.19 </td><td>0.40 </td><td> 9.9 </td><td>6    </td><td>white</td></tr>\n",
       "\t<tr><td>7.2  </td><td>0.23 </td><td>0.32 </td><td> 8.50</td><td>0.058</td><td>186  </td><td>3.19 </td><td>0.40 </td><td> 9.9 </td><td>6    </td><td>white</td></tr>\n",
       "\t<tr><td>8.1  </td><td>0.28 </td><td>0.40 </td><td> 6.90</td><td>0.050</td><td> 97  </td><td>3.26 </td><td>0.44 </td><td>10.1 </td><td>6    </td><td>white</td></tr>\n",
       "</tbody>\n",
       "</table>\n"
      ],
      "text/latex": [
       "\\begin{tabular}{r|lllllllllll}\n",
       " fixed.acidity & volatile.acidity & citric.acid & residual.sugar & chlorides & total.sulfur.dioxide & pH & sulphates & alcohol & quality & Class\\\\\n",
       "\\hline\n",
       "\t 7.0   & 0.27  & 0.36  & 17.55 & 0.045 & 170   & 3.00  & 0.45  &  8.8  & 6     & white\\\\\n",
       "\t 6.3   & 0.30  & 0.34  &  1.60 & 0.049 & 132   & 3.30  & 0.49  &  9.5  & 6     & white\\\\\n",
       "\t 8.1   & 0.28  & 0.40  &  6.90 & 0.050 &  97   & 3.26  & 0.44  & 10.1  & 6     & white\\\\\n",
       "\t 7.2   & 0.23  & 0.32  &  8.50 & 0.058 & 186   & 3.19  & 0.40  &  9.9  & 6     & white\\\\\n",
       "\t 7.2   & 0.23  & 0.32  &  8.50 & 0.058 & 186   & 3.19  & 0.40  &  9.9  & 6     & white\\\\\n",
       "\t 8.1   & 0.28  & 0.40  &  6.90 & 0.050 &  97   & 3.26  & 0.44  & 10.1  & 6     & white\\\\\n",
       "\\end{tabular}\n"
      ],
      "text/markdown": [
       "\n",
       "fixed.acidity | volatile.acidity | citric.acid | residual.sugar | chlorides | total.sulfur.dioxide | pH | sulphates | alcohol | quality | Class | \n",
       "|---|---|---|---|---|---|\n",
       "| 7.0   | 0.27  | 0.36  | 17.55 | 0.045 | 170   | 3.00  | 0.45  |  8.8  | 6     | white | \n",
       "| 6.3   | 0.30  | 0.34  |  1.60 | 0.049 | 132   | 3.30  | 0.49  |  9.5  | 6     | white | \n",
       "| 8.1   | 0.28  | 0.40  |  6.90 | 0.050 |  97   | 3.26  | 0.44  | 10.1  | 6     | white | \n",
       "| 7.2   | 0.23  | 0.32  |  8.50 | 0.058 | 186   | 3.19  | 0.40  |  9.9  | 6     | white | \n",
       "| 7.2   | 0.23  | 0.32  |  8.50 | 0.058 | 186   | 3.19  | 0.40  |  9.9  | 6     | white | \n",
       "| 8.1   | 0.28  | 0.40  |  6.90 | 0.050 |  97   | 3.26  | 0.44  | 10.1  | 6     | white | \n",
       "\n",
       "\n"
      ],
      "text/plain": [
       "  fixed.acidity volatile.acidity citric.acid residual.sugar chlorides\n",
       "1 7.0           0.27             0.36        17.55          0.045    \n",
       "2 6.3           0.30             0.34         1.60          0.049    \n",
       "3 8.1           0.28             0.40         6.90          0.050    \n",
       "4 7.2           0.23             0.32         8.50          0.058    \n",
       "5 7.2           0.23             0.32         8.50          0.058    \n",
       "6 8.1           0.28             0.40         6.90          0.050    \n",
       "  total.sulfur.dioxide pH   sulphates alcohol quality Class\n",
       "1 170                  3.00 0.45       8.8    6       white\n",
       "2 132                  3.30 0.49       9.5    6       white\n",
       "3  97                  3.26 0.44      10.1    6       white\n",
       "4 186                  3.19 0.40       9.9    6       white\n",
       "5 186                  3.19 0.40       9.9    6       white\n",
       "6  97                  3.26 0.44      10.1    6       white"
      ]
     },
     "metadata": {},
     "output_type": "display_data"
    },
    {
     "name": "stdout",
     "output_type": "stream",
     "text": [
      "'data.frame':\t6497 obs. of  11 variables:\n",
      " $ fixed.acidity       : num  7 6.3 8.1 7.2 7.2 8.1 6.2 7 6.3 8.1 ...\n",
      " $ volatile.acidity    : num  0.27 0.3 0.28 0.23 0.23 0.28 0.32 0.27 0.3 0.22 ...\n",
      " $ citric.acid         : num  0.36 0.34 0.4 0.32 0.32 0.4 0.16 0.36 0.34 0.43 ...\n",
      " $ residual.sugar      : num  17.5 1.6 6.9 8.5 8.5 ...\n",
      " $ chlorides           : num  0.045 0.049 0.05 0.058 0.058 0.05 0.045 0.045 0.049 0.044 ...\n",
      " $ total.sulfur.dioxide: num  170 132 97 186 186 97 136 170 132 129 ...\n",
      " $ pH                  : num  3 3.3 3.26 3.19 3.19 3.26 3.18 3 3.3 3.22 ...\n",
      " $ sulphates           : num  0.45 0.49 0.44 0.4 0.4 0.44 0.47 0.45 0.49 0.45 ...\n",
      " $ alcohol             : num  8.8 9.5 10.1 9.9 9.9 10.1 9.6 8.8 9.5 11 ...\n",
      " $ quality             : int  6 6 6 6 6 6 6 6 6 6 ...\n",
      " $ Class               : Factor w/ 2 levels \"white\",\"red\": 1 1 1 1 1 1 1 1 1 1 ...\n"
     ]
    }
   ],
   "source": [
    "head(df)\n",
    "str(df)"
   ]
  },
  {
   "cell_type": "markdown",
   "metadata": {},
   "source": [
    "# III Getting train and test datasets"
   ]
  },
  {
   "cell_type": "code",
   "execution_count": 18,
   "metadata": {
    "collapsed": true
   },
   "outputs": [],
   "source": [
    "#stratified sampling to get the train and test dataset\n",
    "set.seed(7) # Set Seed so that same sample can be reproduced in future also\n",
    "# considering response variable as strata\n",
    "data_part <- createDataPartition(y = df$Class ,  p = 0.70, list = F)\n",
    "testing <- df[-data_part,] # 30% data goes here\n",
    "training <- df[data_part,] # 70% here"
   ]
  },
  {
   "cell_type": "code",
   "execution_count": 19,
   "metadata": {},
   "outputs": [
    {
     "data": {
      "text/html": [
       "<table>\n",
       "<thead><tr><th></th><th scope=col>fixed.acidity</th><th scope=col>volatile.acidity</th><th scope=col>citric.acid</th><th scope=col>residual.sugar</th><th scope=col>chlorides</th><th scope=col>total.sulfur.dioxide</th><th scope=col>pH</th><th scope=col>sulphates</th><th scope=col>alcohol</th><th scope=col>quality</th><th scope=col>Class</th></tr></thead>\n",
       "<tbody>\n",
       "\t<tr><th scope=row>2</th><td>6.3  </td><td>0.30 </td><td>0.34 </td><td> 1.60</td><td>0.049</td><td>132  </td><td>3.30 </td><td>0.49 </td><td> 9.5 </td><td>6    </td><td>white</td></tr>\n",
       "\t<tr><th scope=row>3</th><td>8.1  </td><td>0.28 </td><td>0.40 </td><td> 6.90</td><td>0.050</td><td> 97  </td><td>3.26 </td><td>0.44 </td><td>10.1 </td><td>6    </td><td>white</td></tr>\n",
       "\t<tr><th scope=row>7</th><td>6.2  </td><td>0.32 </td><td>0.16 </td><td> 7.00</td><td>0.045</td><td>136  </td><td>3.18 </td><td>0.47 </td><td> 9.6 </td><td>6    </td><td>white</td></tr>\n",
       "\t<tr><th scope=row>8</th><td>7.0  </td><td>0.27 </td><td>0.36 </td><td>17.55</td><td>0.045</td><td>170  </td><td>3.00 </td><td>0.45 </td><td> 8.8 </td><td>6    </td><td>white</td></tr>\n",
       "\t<tr><th scope=row>9</th><td>6.3  </td><td>0.30 </td><td>0.34 </td><td> 1.60</td><td>0.049</td><td>132  </td><td>3.30 </td><td>0.49 </td><td> 9.5 </td><td>6    </td><td>white</td></tr>\n",
       "\t<tr><th scope=row>10</th><td>8.1  </td><td>0.22 </td><td>0.43 </td><td> 1.50</td><td>0.044</td><td>129  </td><td>3.22 </td><td>0.45 </td><td>11.0 </td><td>6    </td><td>white</td></tr>\n",
       "</tbody>\n",
       "</table>\n"
      ],
      "text/latex": [
       "\\begin{tabular}{r|lllllllllll}\n",
       "  & fixed.acidity & volatile.acidity & citric.acid & residual.sugar & chlorides & total.sulfur.dioxide & pH & sulphates & alcohol & quality & Class\\\\\n",
       "\\hline\n",
       "\t2 & 6.3   & 0.30  & 0.34  &  1.60 & 0.049 & 132   & 3.30  & 0.49  &  9.5  & 6     & white\\\\\n",
       "\t3 & 8.1   & 0.28  & 0.40  &  6.90 & 0.050 &  97   & 3.26  & 0.44  & 10.1  & 6     & white\\\\\n",
       "\t7 & 6.2   & 0.32  & 0.16  &  7.00 & 0.045 & 136   & 3.18  & 0.47  &  9.6  & 6     & white\\\\\n",
       "\t8 & 7.0   & 0.27  & 0.36  & 17.55 & 0.045 & 170   & 3.00  & 0.45  &  8.8  & 6     & white\\\\\n",
       "\t9 & 6.3   & 0.30  & 0.34  &  1.60 & 0.049 & 132   & 3.30  & 0.49  &  9.5  & 6     & white\\\\\n",
       "\t10 & 8.1   & 0.22  & 0.43  &  1.50 & 0.044 & 129   & 3.22  & 0.45  & 11.0  & 6     & white\\\\\n",
       "\\end{tabular}\n"
      ],
      "text/markdown": [
       "\n",
       "| <!--/--> | fixed.acidity | volatile.acidity | citric.acid | residual.sugar | chlorides | total.sulfur.dioxide | pH | sulphates | alcohol | quality | Class | \n",
       "|---|---|---|---|---|---|\n",
       "| 2 | 6.3   | 0.30  | 0.34  |  1.60 | 0.049 | 132   | 3.30  | 0.49  |  9.5  | 6     | white | \n",
       "| 3 | 8.1   | 0.28  | 0.40  |  6.90 | 0.050 |  97   | 3.26  | 0.44  | 10.1  | 6     | white | \n",
       "| 7 | 6.2   | 0.32  | 0.16  |  7.00 | 0.045 | 136   | 3.18  | 0.47  |  9.6  | 6     | white | \n",
       "| 8 | 7.0   | 0.27  | 0.36  | 17.55 | 0.045 | 170   | 3.00  | 0.45  |  8.8  | 6     | white | \n",
       "| 9 | 6.3   | 0.30  | 0.34  |  1.60 | 0.049 | 132   | 3.30  | 0.49  |  9.5  | 6     | white | \n",
       "| 10 | 8.1   | 0.22  | 0.43  |  1.50 | 0.044 | 129   | 3.22  | 0.45  | 11.0  | 6     | white | \n",
       "\n",
       "\n"
      ],
      "text/plain": [
       "   fixed.acidity volatile.acidity citric.acid residual.sugar chlorides\n",
       "2  6.3           0.30             0.34         1.60          0.049    \n",
       "3  8.1           0.28             0.40         6.90          0.050    \n",
       "7  6.2           0.32             0.16         7.00          0.045    \n",
       "8  7.0           0.27             0.36        17.55          0.045    \n",
       "9  6.3           0.30             0.34         1.60          0.049    \n",
       "10 8.1           0.22             0.43         1.50          0.044    \n",
       "   total.sulfur.dioxide pH   sulphates alcohol quality Class\n",
       "2  132                  3.30 0.49       9.5    6       white\n",
       "3   97                  3.26 0.44      10.1    6       white\n",
       "7  136                  3.18 0.47       9.6    6       white\n",
       "8  170                  3.00 0.45       8.8    6       white\n",
       "9  132                  3.30 0.49       9.5    6       white\n",
       "10 129                  3.22 0.45      11.0    6       white"
      ]
     },
     "metadata": {},
     "output_type": "display_data"
    },
    {
     "data": {
      "text/html": [
       "<table>\n",
       "<thead><tr><th></th><th scope=col>fixed.acidity</th><th scope=col>volatile.acidity</th><th scope=col>citric.acid</th><th scope=col>residual.sugar</th><th scope=col>chlorides</th><th scope=col>total.sulfur.dioxide</th><th scope=col>pH</th><th scope=col>sulphates</th><th scope=col>alcohol</th><th scope=col>quality</th><th scope=col>Class</th></tr></thead>\n",
       "<tbody>\n",
       "\t<tr><th scope=row>1</th><td>7.0  </td><td>0.270</td><td>0.36 </td><td>17.55</td><td>0.045</td><td>170  </td><td>3.00 </td><td>0.45 </td><td> 8.8 </td><td>6    </td><td>white</td></tr>\n",
       "\t<tr><th scope=row>4</th><td>7.2  </td><td>0.230</td><td>0.32 </td><td> 8.50</td><td>0.058</td><td>186  </td><td>3.19 </td><td>0.40 </td><td> 9.9 </td><td>6    </td><td>white</td></tr>\n",
       "\t<tr><th scope=row>5</th><td>7.2  </td><td>0.230</td><td>0.32 </td><td> 8.50</td><td>0.058</td><td>186  </td><td>3.19 </td><td>0.40 </td><td> 9.9 </td><td>6    </td><td>white</td></tr>\n",
       "\t<tr><th scope=row>6</th><td>8.1  </td><td>0.280</td><td>0.40 </td><td> 6.90</td><td>0.050</td><td> 97  </td><td>3.26 </td><td>0.44 </td><td>10.1 </td><td>6    </td><td>white</td></tr>\n",
       "\t<tr><th scope=row>18</th><td>6.2  </td><td>0.655</td><td>0.48 </td><td> 1.20</td><td>0.029</td><td> 75  </td><td>3.33 </td><td>0.39 </td><td>12.8 </td><td>8    </td><td>white</td></tr>\n",
       "\t<tr><th scope=row>20</th><td>6.5  </td><td>0.310</td><td>0.14 </td><td> 7.50</td><td>0.044</td><td>133  </td><td>3.22 </td><td>0.50 </td><td> 9.5 </td><td>5    </td><td>white</td></tr>\n",
       "</tbody>\n",
       "</table>\n"
      ],
      "text/latex": [
       "\\begin{tabular}{r|lllllllllll}\n",
       "  & fixed.acidity & volatile.acidity & citric.acid & residual.sugar & chlorides & total.sulfur.dioxide & pH & sulphates & alcohol & quality & Class\\\\\n",
       "\\hline\n",
       "\t1 & 7.0   & 0.270 & 0.36  & 17.55 & 0.045 & 170   & 3.00  & 0.45  &  8.8  & 6     & white\\\\\n",
       "\t4 & 7.2   & 0.230 & 0.32  &  8.50 & 0.058 & 186   & 3.19  & 0.40  &  9.9  & 6     & white\\\\\n",
       "\t5 & 7.2   & 0.230 & 0.32  &  8.50 & 0.058 & 186   & 3.19  & 0.40  &  9.9  & 6     & white\\\\\n",
       "\t6 & 8.1   & 0.280 & 0.40  &  6.90 & 0.050 &  97   & 3.26  & 0.44  & 10.1  & 6     & white\\\\\n",
       "\t18 & 6.2   & 0.655 & 0.48  &  1.20 & 0.029 &  75   & 3.33  & 0.39  & 12.8  & 8     & white\\\\\n",
       "\t20 & 6.5   & 0.310 & 0.14  &  7.50 & 0.044 & 133   & 3.22  & 0.50  &  9.5  & 5     & white\\\\\n",
       "\\end{tabular}\n"
      ],
      "text/markdown": [
       "\n",
       "| <!--/--> | fixed.acidity | volatile.acidity | citric.acid | residual.sugar | chlorides | total.sulfur.dioxide | pH | sulphates | alcohol | quality | Class | \n",
       "|---|---|---|---|---|---|\n",
       "| 1 | 7.0   | 0.270 | 0.36  | 17.55 | 0.045 | 170   | 3.00  | 0.45  |  8.8  | 6     | white | \n",
       "| 4 | 7.2   | 0.230 | 0.32  |  8.50 | 0.058 | 186   | 3.19  | 0.40  |  9.9  | 6     | white | \n",
       "| 5 | 7.2   | 0.230 | 0.32  |  8.50 | 0.058 | 186   | 3.19  | 0.40  |  9.9  | 6     | white | \n",
       "| 6 | 8.1   | 0.280 | 0.40  |  6.90 | 0.050 |  97   | 3.26  | 0.44  | 10.1  | 6     | white | \n",
       "| 18 | 6.2   | 0.655 | 0.48  |  1.20 | 0.029 |  75   | 3.33  | 0.39  | 12.8  | 8     | white | \n",
       "| 20 | 6.5   | 0.310 | 0.14  |  7.50 | 0.044 | 133   | 3.22  | 0.50  |  9.5  | 5     | white | \n",
       "\n",
       "\n"
      ],
      "text/plain": [
       "   fixed.acidity volatile.acidity citric.acid residual.sugar chlorides\n",
       "1  7.0           0.270            0.36        17.55          0.045    \n",
       "4  7.2           0.230            0.32         8.50          0.058    \n",
       "5  7.2           0.230            0.32         8.50          0.058    \n",
       "6  8.1           0.280            0.40         6.90          0.050    \n",
       "18 6.2           0.655            0.48         1.20          0.029    \n",
       "20 6.5           0.310            0.14         7.50          0.044    \n",
       "   total.sulfur.dioxide pH   sulphates alcohol quality Class\n",
       "1  170                  3.00 0.45       8.8    6       white\n",
       "4  186                  3.19 0.40       9.9    6       white\n",
       "5  186                  3.19 0.40       9.9    6       white\n",
       "6   97                  3.26 0.44      10.1    6       white\n",
       "18  75                  3.33 0.39      12.8    8       white\n",
       "20 133                  3.22 0.50       9.5    5       white"
      ]
     },
     "metadata": {},
     "output_type": "display_data"
    }
   ],
   "source": [
    "#taking a look of the train and test dataset by columns \n",
    "head(training)\n",
    "head(testing)"
   ]
  },
  {
   "cell_type": "code",
   "execution_count": 20,
   "metadata": {},
   "outputs": [
    {
     "name": "stdout",
     "output_type": "stream",
     "text": [
      "'data.frame':\t4549 obs. of  11 variables:\n",
      " $ fixed.acidity       : num  6.3 8.1 6.2 7 6.3 8.1 8.1 8.6 7.9 6.6 ...\n",
      " $ volatile.acidity    : num  0.3 0.28 0.32 0.27 0.3 0.22 0.27 0.23 0.18 0.16 ...\n",
      " $ citric.acid         : num  0.34 0.4 0.16 0.36 0.34 0.43 0.41 0.4 0.37 0.4 ...\n",
      " $ residual.sugar      : num  1.6 6.9 7 17.5 1.6 ...\n",
      " $ chlorides           : num  0.049 0.05 0.045 0.045 0.049 0.044 0.033 0.035 0.04 0.044 ...\n",
      " $ total.sulfur.dioxide: num  132 97 136 170 132 129 63 109 75 143 ...\n",
      " $ pH                  : num  3.3 3.26 3.18 3 3.3 3.22 2.99 3.14 3.18 3.54 ...\n",
      " $ sulphates           : num  0.49 0.44 0.47 0.45 0.49 0.45 0.56 0.53 0.63 0.52 ...\n",
      " $ alcohol             : num  9.5 10.1 9.6 8.8 9.5 11 12 9.7 10.8 12.4 ...\n",
      " $ quality             : int  6 6 6 6 6 6 5 5 5 7 ...\n",
      " $ Class               : Factor w/ 2 levels \"white\",\"red\": 1 1 1 1 1 1 1 1 1 1 ...\n"
     ]
    }
   ],
   "source": [
    "# get some information about training dataset\n",
    "str(training[,1:11])"
   ]
  },
  {
   "cell_type": "code",
   "execution_count": 21,
   "metadata": {},
   "outputs": [
    {
     "name": "stdout",
     "output_type": "stream",
     "text": [
      "'data.frame':\t1948 obs. of  11 variables:\n",
      " $ fixed.acidity       : num  7 7.2 7.2 8.1 6.2 6.5 6.8 6.6 7.2 6.2 ...\n",
      " $ volatile.acidity    : num  0.27 0.23 0.23 0.28 0.655 0.31 0.26 0.27 0.32 0.12 ...\n",
      " $ citric.acid         : num  0.36 0.32 0.32 0.4 0.48 0.14 0.42 0.41 0.36 0.34 ...\n",
      " $ residual.sugar      : num  17.5 8.5 8.5 6.9 1.2 ...\n",
      " $ chlorides           : num  0.045 0.058 0.058 0.05 0.029 0.044 0.049 0.052 0.033 0.045 ...\n",
      " $ total.sulfur.dioxide: num  170 186 186 97 75 133 122 142 114 117 ...\n",
      " $ pH                  : num  3 3.19 3.19 3.26 3.33 3.22 3.47 3.42 3.1 3.42 ...\n",
      " $ sulphates           : num  0.45 0.4 0.4 0.44 0.39 0.5 0.48 0.47 0.71 0.51 ...\n",
      " $ alcohol             : num  8.8 9.9 9.9 10.1 12.8 9.5 10.5 10 12.3 9 ...\n",
      " $ quality             : int  6 6 6 6 8 5 8 6 7 6 ...\n",
      " $ Class               : Factor w/ 2 levels \"white\",\"red\": 1 1 1 1 1 1 1 1 1 1 ...\n"
     ]
    }
   ],
   "source": [
    "# get some information about testing dataset\n",
    "str(testing[,1:11])"
   ]
  },
  {
   "cell_type": "code",
   "execution_count": 22,
   "metadata": {},
   "outputs": [
    {
     "data": {
      "text/html": [
       "<table>\n",
       "<thead><tr><th scope=col>variable</th><th scope=col>n</th><th scope=col>P25</th><th scope=col>P75</th><th scope=col>IQR</th><th scope=col>Minimum</th><th scope=col>Median</th><th scope=col>Maximum</th><th scope=col>Range</th><th scope=col>Mean</th><th scope=col>StDev</th></tr></thead>\n",
       "<tbody>\n",
       "\t<tr><td>fixed.acidity       </td><td>4549                </td><td> 6.40               </td><td>  7.60              </td><td> 1.20               </td><td>4.20                </td><td>  7.00              </td><td>  9.65              </td><td>  5.45              </td><td>  7.13              </td><td> 1.05               </td></tr>\n",
       "\t<tr><td>volatile.acidity    </td><td>4549                </td><td> 0.23               </td><td>  0.41              </td><td> 0.18               </td><td>0.08                </td><td>  0.30              </td><td>  0.66              </td><td>  0.58              </td><td>  0.33              </td><td> 0.14               </td></tr>\n",
       "\t<tr><td>citric.acid         </td><td>4549                </td><td> 0.24               </td><td>  0.39              </td><td> 0.15               </td><td>0.00                </td><td>  0.31              </td><td>  0.60              </td><td>  0.60              </td><td>  0.31              </td><td> 0.13               </td></tr>\n",
       "\t<tr><td>residual.sugar      </td><td>4549                </td><td> 1.80               </td><td>  8.10              </td><td> 6.30               </td><td>0.60                </td><td>  2.90              </td><td> 17.55              </td><td> 16.95              </td><td>  5.39              </td><td> 4.61               </td></tr>\n",
       "\t<tr><td>chlorides           </td><td>4549                </td><td> 0.04               </td><td>  0.06              </td><td> 0.03               </td><td>0.01                </td><td>  0.05              </td><td>  0.10              </td><td>  0.10              </td><td>  0.05              </td><td> 0.02               </td></tr>\n",
       "\t<tr><td>total.sulfur.dioxide</td><td>4549                </td><td>78.00               </td><td>156.00              </td><td>78.00               </td><td>6.00                </td><td>119.00              </td><td>274.50              </td><td>268.50              </td><td>116.08              </td><td>56.17               </td></tr>\n",
       "\t<tr><td>pH                  </td><td>4549                </td><td> 3.11               </td><td>  3.32              </td><td> 0.21               </td><td>2.72                </td><td>  3.20              </td><td>  3.63              </td><td>  0.91              </td><td>  3.22              </td><td> 0.16               </td></tr>\n",
       "\t<tr><td>sulphates           </td><td>4549                </td><td> 0.43               </td><td>  0.60              </td><td> 0.17               </td><td>0.22                </td><td>  0.51              </td><td>  0.86              </td><td>  0.64              </td><td>  0.53              </td><td> 0.13               </td></tr>\n",
       "\t<tr><td>alcohol             </td><td>4549                </td><td> 9.50               </td><td> 11.30              </td><td> 1.80               </td><td>8.00                </td><td> 10.30              </td><td> 14.00              </td><td>  6.00              </td><td> 10.50              </td><td> 1.19               </td></tr>\n",
       "</tbody>\n",
       "</table>\n"
      ],
      "text/latex": [
       "\\begin{tabular}{r|lllllllllll}\n",
       " variable & n & P25 & P75 & IQR & Minimum & Median & Maximum & Range & Mean & StDev\\\\\n",
       "\\hline\n",
       "\t fixed.acidity        & 4549                 &  6.40                &   7.60               &  1.20                & 4.20                 &   7.00               &   9.65               &   5.45               &   7.13               &  1.05               \\\\\n",
       "\t volatile.acidity     & 4549                 &  0.23                &   0.41               &  0.18                & 0.08                 &   0.30               &   0.66               &   0.58               &   0.33               &  0.14               \\\\\n",
       "\t citric.acid          & 4549                 &  0.24                &   0.39               &  0.15                & 0.00                 &   0.31               &   0.60               &   0.60               &   0.31               &  0.13               \\\\\n",
       "\t residual.sugar       & 4549                 &  1.80                &   8.10               &  6.30                & 0.60                 &   2.90               &  17.55               &  16.95               &   5.39               &  4.61               \\\\\n",
       "\t chlorides            & 4549                 &  0.04                &   0.06               &  0.03                & 0.01                 &   0.05               &   0.10               &   0.10               &   0.05               &  0.02               \\\\\n",
       "\t total.sulfur.dioxide & 4549                 & 78.00                & 156.00               & 78.00                & 6.00                 & 119.00               & 274.50               & 268.50               & 116.08               & 56.17               \\\\\n",
       "\t pH                   & 4549                 &  3.11                &   3.32               &  0.21                & 2.72                 &   3.20               &   3.63               &   0.91               &   3.22               &  0.16               \\\\\n",
       "\t sulphates            & 4549                 &  0.43                &   0.60               &  0.17                & 0.22                 &   0.51               &   0.86               &   0.64               &   0.53               &  0.13               \\\\\n",
       "\t alcohol              & 4549                 &  9.50                &  11.30               &  1.80                & 8.00                 &  10.30               &  14.00               &   6.00               &  10.50               &  1.19               \\\\\n",
       "\\end{tabular}\n"
      ],
      "text/markdown": [
       "\n",
       "variable | n | P25 | P75 | IQR | Minimum | Median | Maximum | Range | Mean | StDev | \n",
       "|---|---|---|---|---|---|---|---|---|\n",
       "| fixed.acidity        | 4549                 |  6.40                |   7.60               |  1.20                | 4.20                 |   7.00               |   9.65               |   5.45               |   7.13               |  1.05                | \n",
       "| volatile.acidity     | 4549                 |  0.23                |   0.41               |  0.18                | 0.08                 |   0.30               |   0.66               |   0.58               |   0.33               |  0.14                | \n",
       "| citric.acid          | 4549                 |  0.24                |   0.39               |  0.15                | 0.00                 |   0.31               |   0.60               |   0.60               |   0.31               |  0.13                | \n",
       "| residual.sugar       | 4549                 |  1.80                |   8.10               |  6.30                | 0.60                 |   2.90               |  17.55               |  16.95               |   5.39               |  4.61                | \n",
       "| chlorides            | 4549                 |  0.04                |   0.06               |  0.03                | 0.01                 |   0.05               |   0.10               |   0.10               |   0.05               |  0.02                | \n",
       "| total.sulfur.dioxide | 4549                 | 78.00                | 156.00               | 78.00                | 6.00                 | 119.00               | 274.50               | 268.50               | 116.08               | 56.17                | \n",
       "| pH                   | 4549                 |  3.11                |   3.32               |  0.21                | 2.72                 |   3.20               |   3.63               |   0.91               |   3.22               |  0.16                | \n",
       "| sulphates            | 4549                 |  0.43                |   0.60               |  0.17                | 0.22                 |   0.51               |   0.86               |   0.64               |   0.53               |  0.13                | \n",
       "| alcohol              | 4549                 |  9.50                |  11.30               |  1.80                | 8.00                 |  10.30               |  14.00               |   6.00               |  10.50               |  1.19                | \n",
       "\n",
       "\n"
      ],
      "text/plain": [
       "  variable             n    P25   P75    IQR   Minimum Median Maximum Range \n",
       "1 fixed.acidity        4549  6.40   7.60  1.20 4.20      7.00   9.65    5.45\n",
       "2 volatile.acidity     4549  0.23   0.41  0.18 0.08      0.30   0.66    0.58\n",
       "3 citric.acid          4549  0.24   0.39  0.15 0.00      0.31   0.60    0.60\n",
       "4 residual.sugar       4549  1.80   8.10  6.30 0.60      2.90  17.55   16.95\n",
       "5 chlorides            4549  0.04   0.06  0.03 0.01      0.05   0.10    0.10\n",
       "6 total.sulfur.dioxide 4549 78.00 156.00 78.00 6.00    119.00 274.50  268.50\n",
       "7 pH                   4549  3.11   3.32  0.21 2.72      3.20   3.63    0.91\n",
       "8 sulphates            4549  0.43   0.60  0.17 0.22      0.51   0.86    0.64\n",
       "9 alcohol              4549  9.50  11.30  1.80 8.00     10.30  14.00    6.00\n",
       "  Mean   StDev\n",
       "1   7.13  1.05\n",
       "2   0.33  0.14\n",
       "3   0.31  0.13\n",
       "4   5.39  4.61\n",
       "5   0.05  0.02\n",
       "6 116.08 56.17\n",
       "7   3.22  0.16\n",
       "8   0.53  0.13\n",
       "9  10.50  1.19"
      ]
     },
     "metadata": {},
     "output_type": "display_data"
    }
   ],
   "source": [
    "# summarize training dataset\n",
    "(summary=propmiss(training[,-c(10:11)])[,-(3:4)][,-6])"
   ]
  },
  {
   "cell_type": "code",
   "execution_count": 23,
   "metadata": {},
   "outputs": [
    {
     "data": {
      "text/html": [
       "<table>\n",
       "<thead><tr><th scope=col>variable</th><th scope=col>n</th><th scope=col>P25</th><th scope=col>P75</th><th scope=col>IQR</th><th scope=col>Minimum</th><th scope=col>Median</th><th scope=col>Maximum</th><th scope=col>Range</th><th scope=col>Mean</th><th scope=col>StDev</th></tr></thead>\n",
       "<tbody>\n",
       "\t<tr><td>fixed.acidity       </td><td>1948                </td><td> 6.40               </td><td>  7.80              </td><td> 1.40               </td><td>3.80                </td><td>  7.00              </td><td>  9.65              </td><td>  5.85              </td><td>  7.18              </td><td> 1.11               </td></tr>\n",
       "\t<tr><td>volatile.acidity    </td><td>1948                </td><td> 0.23               </td><td>  0.40              </td><td> 0.17               </td><td>0.08                </td><td>  0.29              </td><td>  0.66              </td><td>  0.57              </td><td>  0.33              </td><td> 0.14               </td></tr>\n",
       "\t<tr><td>citric.acid         </td><td>1948                </td><td> 0.25               </td><td>  0.40              </td><td> 0.15               </td><td>0.00                </td><td>  0.31              </td><td>  0.60              </td><td>  0.60              </td><td>  0.32              </td><td> 0.14               </td></tr>\n",
       "\t<tr><td>residual.sugar      </td><td>1948                </td><td> 1.80               </td><td>  8.10              </td><td> 6.30               </td><td>0.60                </td><td>  3.20              </td><td> 17.55              </td><td> 16.95              </td><td>  5.45              </td><td> 4.62               </td></tr>\n",
       "\t<tr><td>chlorides           </td><td>1948                </td><td> 0.04               </td><td>  0.06              </td><td> 0.03               </td><td>0.01                </td><td>  0.05              </td><td>  0.10              </td><td>  0.09              </td><td>  0.05              </td><td> 0.02               </td></tr>\n",
       "\t<tr><td>total.sulfur.dioxide</td><td>1948                </td><td>75.75               </td><td>155.00              </td><td>79.25               </td><td>6.00                </td><td>117.00              </td><td>274.50              </td><td>268.50              </td><td>114.72              </td><td>56.46               </td></tr>\n",
       "\t<tr><td>pH                  </td><td>1948                </td><td> 3.10               </td><td>  3.32              </td><td> 0.22               </td><td>2.79                </td><td>  3.21              </td><td>  3.63              </td><td>  0.84              </td><td>  3.22              </td><td> 0.16               </td></tr>\n",
       "\t<tr><td>sulphates           </td><td>1948                </td><td> 0.43               </td><td>  0.60              </td><td> 0.17               </td><td>0.25                </td><td>  0.50              </td><td>  0.86              </td><td>  0.60              </td><td>  0.53              </td><td> 0.13               </td></tr>\n",
       "\t<tr><td>alcohol             </td><td>1948                </td><td> 9.50               </td><td> 11.30              </td><td> 1.80               </td><td>8.00                </td><td> 10.30              </td><td> 14.00              </td><td>  6.00              </td><td> 10.47              </td><td> 1.20               </td></tr>\n",
       "</tbody>\n",
       "</table>\n"
      ],
      "text/latex": [
       "\\begin{tabular}{r|lllllllllll}\n",
       " variable & n & P25 & P75 & IQR & Minimum & Median & Maximum & Range & Mean & StDev\\\\\n",
       "\\hline\n",
       "\t fixed.acidity        & 1948                 &  6.40                &   7.80               &  1.40                & 3.80                 &   7.00               &   9.65               &   5.85               &   7.18               &  1.11               \\\\\n",
       "\t volatile.acidity     & 1948                 &  0.23                &   0.40               &  0.17                & 0.08                 &   0.29               &   0.66               &   0.57               &   0.33               &  0.14               \\\\\n",
       "\t citric.acid          & 1948                 &  0.25                &   0.40               &  0.15                & 0.00                 &   0.31               &   0.60               &   0.60               &   0.32               &  0.14               \\\\\n",
       "\t residual.sugar       & 1948                 &  1.80                &   8.10               &  6.30                & 0.60                 &   3.20               &  17.55               &  16.95               &   5.45               &  4.62               \\\\\n",
       "\t chlorides            & 1948                 &  0.04                &   0.06               &  0.03                & 0.01                 &   0.05               &   0.10               &   0.09               &   0.05               &  0.02               \\\\\n",
       "\t total.sulfur.dioxide & 1948                 & 75.75                & 155.00               & 79.25                & 6.00                 & 117.00               & 274.50               & 268.50               & 114.72               & 56.46               \\\\\n",
       "\t pH                   & 1948                 &  3.10                &   3.32               &  0.22                & 2.79                 &   3.21               &   3.63               &   0.84               &   3.22               &  0.16               \\\\\n",
       "\t sulphates            & 1948                 &  0.43                &   0.60               &  0.17                & 0.25                 &   0.50               &   0.86               &   0.60               &   0.53               &  0.13               \\\\\n",
       "\t alcohol              & 1948                 &  9.50                &  11.30               &  1.80                & 8.00                 &  10.30               &  14.00               &   6.00               &  10.47               &  1.20               \\\\\n",
       "\\end{tabular}\n"
      ],
      "text/markdown": [
       "\n",
       "variable | n | P25 | P75 | IQR | Minimum | Median | Maximum | Range | Mean | StDev | \n",
       "|---|---|---|---|---|---|---|---|---|\n",
       "| fixed.acidity        | 1948                 |  6.40                |   7.80               |  1.40                | 3.80                 |   7.00               |   9.65               |   5.85               |   7.18               |  1.11                | \n",
       "| volatile.acidity     | 1948                 |  0.23                |   0.40               |  0.17                | 0.08                 |   0.29               |   0.66               |   0.57               |   0.33               |  0.14                | \n",
       "| citric.acid          | 1948                 |  0.25                |   0.40               |  0.15                | 0.00                 |   0.31               |   0.60               |   0.60               |   0.32               |  0.14                | \n",
       "| residual.sugar       | 1948                 |  1.80                |   8.10               |  6.30                | 0.60                 |   3.20               |  17.55               |  16.95               |   5.45               |  4.62                | \n",
       "| chlorides            | 1948                 |  0.04                |   0.06               |  0.03                | 0.01                 |   0.05               |   0.10               |   0.09               |   0.05               |  0.02                | \n",
       "| total.sulfur.dioxide | 1948                 | 75.75                | 155.00               | 79.25                | 6.00                 | 117.00               | 274.50               | 268.50               | 114.72               | 56.46                | \n",
       "| pH                   | 1948                 |  3.10                |   3.32               |  0.22                | 2.79                 |   3.21               |   3.63               |   0.84               |   3.22               |  0.16                | \n",
       "| sulphates            | 1948                 |  0.43                |   0.60               |  0.17                | 0.25                 |   0.50               |   0.86               |   0.60               |   0.53               |  0.13                | \n",
       "| alcohol              | 1948                 |  9.50                |  11.30               |  1.80                | 8.00                 |  10.30               |  14.00               |   6.00               |  10.47               |  1.20                | \n",
       "\n",
       "\n"
      ],
      "text/plain": [
       "  variable             n    P25   P75    IQR   Minimum Median Maximum Range \n",
       "1 fixed.acidity        1948  6.40   7.80  1.40 3.80      7.00   9.65    5.85\n",
       "2 volatile.acidity     1948  0.23   0.40  0.17 0.08      0.29   0.66    0.57\n",
       "3 citric.acid          1948  0.25   0.40  0.15 0.00      0.31   0.60    0.60\n",
       "4 residual.sugar       1948  1.80   8.10  6.30 0.60      3.20  17.55   16.95\n",
       "5 chlorides            1948  0.04   0.06  0.03 0.01      0.05   0.10    0.09\n",
       "6 total.sulfur.dioxide 1948 75.75 155.00 79.25 6.00    117.00 274.50  268.50\n",
       "7 pH                   1948  3.10   3.32  0.22 2.79      3.21   3.63    0.84\n",
       "8 sulphates            1948  0.43   0.60  0.17 0.25      0.50   0.86    0.60\n",
       "9 alcohol              1948  9.50  11.30  1.80 8.00     10.30  14.00    6.00\n",
       "  Mean   StDev\n",
       "1   7.18  1.11\n",
       "2   0.33  0.14\n",
       "3   0.32  0.14\n",
       "4   5.45  4.62\n",
       "5   0.05  0.02\n",
       "6 114.72 56.46\n",
       "7   3.22  0.16\n",
       "8   0.53  0.13\n",
       "9  10.47  1.20"
      ]
     },
     "metadata": {},
     "output_type": "display_data"
    }
   ],
   "source": [
    "# summarize testing dataset\n",
    "(summary=propmiss(testing[,-c(10:11)])[,-(3:4)][,-6])"
   ]
  },
  {
   "cell_type": "markdown",
   "metadata": {},
   "source": [
    "# IV Logistic Regression\n",
    " \n",
    "In this project I have considered Logistic Regression algorithm. I use \"set.seed(7)\" so that same sample can be reproduced in the future and also it ensures the results are directly comparable."
   ]
  },
  {
   "cell_type": "markdown",
   "metadata": {
    "collapsed": true
   },
   "source": [
    "## 41 Building Machine Learning Model\n",
    "\n",
    "### 411 Find model equation "
   ]
  },
  {
   "cell_type": "code",
   "execution_count": 24,
   "metadata": {},
   "outputs": [
    {
     "data": {
      "text/plain": [
       "\n",
       "Call:\n",
       "glm(formula = Class ~ ., family = \"binomial\", data = training)\n",
       "\n",
       "Deviance Residuals: \n",
       "    Min       1Q   Median       3Q      Max  \n",
       "-2.5042  -0.0264  -0.0068  -0.0002   4.4378  \n",
       "\n",
       "Coefficients:\n",
       "                       Estimate Std. Error z value Pr(>|z|)    \n",
       "(Intercept)          -57.127527   6.101197  -9.363  < 2e-16 ***\n",
       "fixed.acidity          1.424435   0.208088   6.845 7.63e-12 ***\n",
       "volatile.acidity      11.967769   1.429436   8.372  < 2e-16 ***\n",
       "citric.acid           -2.139933   1.439344  -1.487   0.1371    \n",
       "residual.sugar        -0.110185   0.065557  -1.681   0.0928 .  \n",
       "chlorides            100.831215  10.112105   9.971  < 2e-16 ***\n",
       "total.sulfur.dioxide  -0.056372   0.005037 -11.191  < 2e-16 ***\n",
       "pH                    10.698591   1.344215   7.959 1.73e-15 ***\n",
       "sulphates              9.577132   1.551751   6.172 6.75e-10 ***\n",
       "alcohol               -0.022336   0.190016  -0.118   0.9064    \n",
       "quality                0.162712   0.223943   0.727   0.4675    \n",
       "---\n",
       "Signif. codes:  0 '***' 0.001 '**' 0.01 '*' 0.05 '.' 0.1 ' ' 1\n",
       "\n",
       "(Dispersion parameter for binomial family taken to be 1)\n",
       "\n",
       "    Null deviance: 5077.87  on 4548  degrees of freedom\n",
       "Residual deviance:  284.46  on 4538  degrees of freedom\n",
       "AIC: 306.46\n",
       "\n",
       "Number of Fisher Scoring iterations: 9\n"
      ]
     },
     "metadata": {},
     "output_type": "display_data"
    }
   ],
   "source": [
    "## modelo completo\n",
    "set.seed(7)\n",
    "model1<- glm(Class ~ ., data=training, family=\"binomial\")\n",
    "summary(model1)"
   ]
  },
  {
   "cell_type": "code",
   "execution_count": 25,
   "metadata": {},
   "outputs": [
    {
     "data": {
      "text/html": [
       "<dl class=dl-horizontal>\n",
       "\t<dt>fixed.acidity</dt>\n",
       "\t\t<dd>1.9649274630886</dd>\n",
       "\t<dt>volatile.acidity</dt>\n",
       "\t\t<dd>1.70588094636463</dd>\n",
       "\t<dt>citric.acid</dt>\n",
       "\t\t<dd>1.68768464860536</dd>\n",
       "\t<dt>residual.sugar</dt>\n",
       "\t\t<dd>1.15739934977828</dd>\n",
       "\t<dt>chlorides</dt>\n",
       "\t\t<dd>1.90828250946719</dd>\n",
       "\t<dt>total.sulfur.dioxide</dt>\n",
       "\t\t<dd>1.60545879918161</dd>\n",
       "\t<dt>pH</dt>\n",
       "\t\t<dd>1.92273070885427</dd>\n",
       "\t<dt>sulphates</dt>\n",
       "\t\t<dd>1.33396267674581</dd>\n",
       "\t<dt>alcohol</dt>\n",
       "\t\t<dd>2.23983197501045</dd>\n",
       "\t<dt>quality</dt>\n",
       "\t\t<dd>1.6240167855179</dd>\n",
       "</dl>\n"
      ],
      "text/latex": [
       "\\begin{description*}\n",
       "\\item[fixed.acidity] 1.9649274630886\n",
       "\\item[volatile.acidity] 1.70588094636463\n",
       "\\item[citric.acid] 1.68768464860536\n",
       "\\item[residual.sugar] 1.15739934977828\n",
       "\\item[chlorides] 1.90828250946719\n",
       "\\item[total.sulfur.dioxide] 1.60545879918161\n",
       "\\item[pH] 1.92273070885427\n",
       "\\item[sulphates] 1.33396267674581\n",
       "\\item[alcohol] 2.23983197501045\n",
       "\\item[quality] 1.6240167855179\n",
       "\\end{description*}\n"
      ],
      "text/markdown": [
       "fixed.acidity\n",
       ":   1.9649274630886volatile.acidity\n",
       ":   1.70588094636463citric.acid\n",
       ":   1.68768464860536residual.sugar\n",
       ":   1.15739934977828chlorides\n",
       ":   1.90828250946719total.sulfur.dioxide\n",
       ":   1.60545879918161pH\n",
       ":   1.92273070885427sulphates\n",
       ":   1.33396267674581alcohol\n",
       ":   2.23983197501045quality\n",
       ":   1.6240167855179\n",
       "\n"
      ],
      "text/plain": [
       "       fixed.acidity     volatile.acidity          citric.acid \n",
       "            1.964927             1.705881             1.687685 \n",
       "      residual.sugar            chlorides total.sulfur.dioxide \n",
       "            1.157399             1.908283             1.605459 \n",
       "                  pH            sulphates              alcohol \n",
       "            1.922731             1.333963             2.239832 \n",
       "             quality \n",
       "            1.624017 "
      ]
     },
     "metadata": {},
     "output_type": "display_data"
    }
   ],
   "source": [
    "# VIF variable inflation factor for each variable in the model\n",
    "vif(model1)"
   ]
  },
  {
   "cell_type": "markdown",
   "metadata": {},
   "source": [
    "VIF >= 10 ==> variable is collinear and should be omitted from the model. \n",
    "\n",
    "So,  VIF < 7 for all variables ==> variables are ok and should be kept on the model. "
   ]
  },
  {
   "cell_type": "code",
   "execution_count": 26,
   "metadata": {},
   "outputs": [
    {
     "data": {
      "text/plain": [
       "\n",
       "Call:\n",
       "glm(formula = Class ~ fixed.acidity + volatile.acidity + citric.acid + \n",
       "    residual.sugar + chlorides + total.sulfur.dioxide + pH + \n",
       "    sulphates, family = binomial(link = \"logit\"), data = training)\n",
       "\n",
       "Deviance Residuals: \n",
       "    Min       1Q   Median       3Q      Max  \n",
       "-2.5881  -0.0263  -0.0067  -0.0002   4.4302  \n",
       "\n",
       "Coefficients:\n",
       "                      Estimate Std. Error z value Pr(>|z|)    \n",
       "(Intercept)          -56.28109    5.46320 -10.302  < 2e-16 ***\n",
       "fixed.acidity          1.41841    0.19337   7.335 2.21e-13 ***\n",
       "volatile.acidity      11.63829    1.31842   8.827  < 2e-16 ***\n",
       "citric.acid           -2.10947    1.40586  -1.500   0.1335    \n",
       "residual.sugar        -0.10932    0.06536  -1.673   0.0944 .  \n",
       "chlorides            100.14454    9.31258  10.754  < 2e-16 ***\n",
       "total.sulfur.dioxide  -0.05652    0.00490 -11.534  < 2e-16 ***\n",
       "pH                    10.67824    1.33877   7.976 1.51e-15 ***\n",
       "sulphates              9.76820    1.45445   6.716 1.87e-11 ***\n",
       "---\n",
       "Signif. codes:  0 '***' 0.001 '**' 0.01 '*' 0.05 '.' 0.1 ' ' 1\n",
       "\n",
       "(Dispersion parameter for binomial family taken to be 1)\n",
       "\n",
       "    Null deviance: 5077.87  on 4548  degrees of freedom\n",
       "Residual deviance:  285.03  on 4540  degrees of freedom\n",
       "AIC: 303.03\n",
       "\n",
       "Number of Fisher Scoring iterations: 9\n"
      ]
     },
     "metadata": {},
     "output_type": "display_data"
    }
   ],
   "source": [
    "# best model Stepwise backward-AIC\n",
    "model2<- step(glm(Class ~ ., family = binomial(link = \"logit\"), data=training), trace= F, direction=\"backward\")\n",
    "summary(model2)"
   ]
  },
  {
   "cell_type": "code",
   "execution_count": 27,
   "metadata": {},
   "outputs": [
    {
     "data": {
      "text/html": [
       "<dl class=dl-horizontal>\n",
       "\t<dt>fixed.acidity</dt>\n",
       "\t\t<dd>1.7053812335527</dd>\n",
       "\t<dt>volatile.acidity</dt>\n",
       "\t\t<dd>1.45911102175796</dd>\n",
       "\t<dt>citric.acid</dt>\n",
       "\t\t<dd>1.62849667794368</dd>\n",
       "\t<dt>residual.sugar</dt>\n",
       "\t\t<dd>1.15839707186978</dd>\n",
       "\t<dt>chlorides</dt>\n",
       "\t\t<dd>1.60810452166779</dd>\n",
       "\t<dt>total.sulfur.dioxide</dt>\n",
       "\t\t<dd>1.55374257557945</dd>\n",
       "\t<dt>pH</dt>\n",
       "\t\t<dd>1.90448447308168</dd>\n",
       "\t<dt>sulphates</dt>\n",
       "\t\t<dd>1.17559020249203</dd>\n",
       "</dl>\n"
      ],
      "text/latex": [
       "\\begin{description*}\n",
       "\\item[fixed.acidity] 1.7053812335527\n",
       "\\item[volatile.acidity] 1.45911102175796\n",
       "\\item[citric.acid] 1.62849667794368\n",
       "\\item[residual.sugar] 1.15839707186978\n",
       "\\item[chlorides] 1.60810452166779\n",
       "\\item[total.sulfur.dioxide] 1.55374257557945\n",
       "\\item[pH] 1.90448447308168\n",
       "\\item[sulphates] 1.17559020249203\n",
       "\\end{description*}\n"
      ],
      "text/markdown": [
       "fixed.acidity\n",
       ":   1.7053812335527volatile.acidity\n",
       ":   1.45911102175796citric.acid\n",
       ":   1.62849667794368residual.sugar\n",
       ":   1.15839707186978chlorides\n",
       ":   1.60810452166779total.sulfur.dioxide\n",
       ":   1.55374257557945pH\n",
       ":   1.90448447308168sulphates\n",
       ":   1.17559020249203\n",
       "\n"
      ],
      "text/plain": [
       "       fixed.acidity     volatile.acidity          citric.acid \n",
       "            1.705381             1.459111             1.628497 \n",
       "      residual.sugar            chlorides total.sulfur.dioxide \n",
       "            1.158397             1.608105             1.553743 \n",
       "                  pH            sulphates \n",
       "            1.904484             1.175590 "
      ]
     },
     "metadata": {},
     "output_type": "display_data"
    }
   ],
   "source": [
    "# VIF variable inflation factor for each variable in the model\n",
    "vif(model2)"
   ]
  },
  {
   "cell_type": "markdown",
   "metadata": {},
   "source": [
    "VIF >= 10 ==> variable is collinear and should be omitted from the model. \n",
    "\n",
    "So,  VIF < 7 for all variables ==> variables are ok and should be kept on the model. "
   ]
  },
  {
   "cell_type": "code",
   "execution_count": 28,
   "metadata": {},
   "outputs": [
    {
     "data": {
      "text/plain": [
       "\n",
       "Call:\n",
       "glm(formula = Class ~ fixed.acidity + volatile.acidity + chlorides + \n",
       "    total.sulfur.dioxide + pH + sulphates, family = binomial(link = \"logit\"), \n",
       "    data = training)\n",
       "\n",
       "Deviance Residuals: \n",
       "    Min       1Q   Median       3Q      Max  \n",
       "-2.5680  -0.0271  -0.0075  -0.0003   4.5555  \n",
       "\n",
       "Coefficients:\n",
       "                      Estimate Std. Error z value Pr(>|z|)    \n",
       "(Intercept)          -58.37000    5.43510 -10.739  < 2e-16 ***\n",
       "fixed.acidity          1.35167    0.18084   7.474 7.76e-14 ***\n",
       "volatile.acidity      12.44825    1.20376  10.341  < 2e-16 ***\n",
       "chlorides             99.35596    8.95723  11.092  < 2e-16 ***\n",
       "total.sulfur.dioxide  -0.05933    0.00465 -12.759  < 2e-16 ***\n",
       "pH                    11.14532    1.32378   8.419  < 2e-16 ***\n",
       "sulphates              9.83591    1.42198   6.917 4.61e-12 ***\n",
       "---\n",
       "Signif. codes:  0 '***' 0.001 '**' 0.01 '*' 0.05 '.' 0.1 ' ' 1\n",
       "\n",
       "(Dispersion parameter for binomial family taken to be 1)\n",
       "\n",
       "    Null deviance: 5077.87  on 4548  degrees of freedom\n",
       "Residual deviance:  290.55  on 4542  degrees of freedom\n",
       "AIC: 304.55\n",
       "\n",
       "Number of Fisher Scoring iterations: 9\n"
      ]
     },
     "metadata": {},
     "output_type": "display_data"
    }
   ],
   "source": [
    "## best model Stepwise backward-BIC\n",
    "model3<- step(glm(Class ~ ., family = binomial(link = \"logit\"), data=training), trace= F, direction=\"backward\", k=log(nrow(training)))\n",
    "summary(model3)"
   ]
  },
  {
   "cell_type": "code",
   "execution_count": 29,
   "metadata": {},
   "outputs": [
    {
     "data": {
      "text/html": [
       "<dl class=dl-horizontal>\n",
       "\t<dt>fixed.acidity</dt>\n",
       "\t\t<dd>1.52458205864473</dd>\n",
       "\t<dt>volatile.acidity</dt>\n",
       "\t\t<dd>1.20833820122082</dd>\n",
       "\t<dt>chlorides</dt>\n",
       "\t\t<dd>1.57720938939473</dd>\n",
       "\t<dt>total.sulfur.dioxide</dt>\n",
       "\t\t<dd>1.44611110790369</dd>\n",
       "\t<dt>pH</dt>\n",
       "\t\t<dd>1.91537900456497</dd>\n",
       "\t<dt>sulphates</dt>\n",
       "\t\t<dd>1.17610138943388</dd>\n",
       "</dl>\n"
      ],
      "text/latex": [
       "\\begin{description*}\n",
       "\\item[fixed.acidity] 1.52458205864473\n",
       "\\item[volatile.acidity] 1.20833820122082\n",
       "\\item[chlorides] 1.57720938939473\n",
       "\\item[total.sulfur.dioxide] 1.44611110790369\n",
       "\\item[pH] 1.91537900456497\n",
       "\\item[sulphates] 1.17610138943388\n",
       "\\end{description*}\n"
      ],
      "text/markdown": [
       "fixed.acidity\n",
       ":   1.52458205864473volatile.acidity\n",
       ":   1.20833820122082chlorides\n",
       ":   1.57720938939473total.sulfur.dioxide\n",
       ":   1.44611110790369pH\n",
       ":   1.91537900456497sulphates\n",
       ":   1.17610138943388\n",
       "\n"
      ],
      "text/plain": [
       "       fixed.acidity     volatile.acidity            chlorides \n",
       "            1.524582             1.208338             1.577209 \n",
       "total.sulfur.dioxide                   pH            sulphates \n",
       "            1.446111             1.915379             1.176101 "
      ]
     },
     "metadata": {},
     "output_type": "display_data"
    }
   ],
   "source": [
    "# VIF variable inflation factor for each variable in the model\n",
    "vif(model3)"
   ]
  },
  {
   "cell_type": "markdown",
   "metadata": {},
   "source": [
    "VIF >= 10 ==> variable is collinear and should be omitted from the model. \n",
    "\n",
    "So,  VIF < 4 for all variables ==> variables are ok and should be kept on the model. "
   ]
  },
  {
   "cell_type": "markdown",
   "metadata": {},
   "source": [
    "As we can see, Model2 (backward-AIC) has achieved a lower AIC value (model2-AIC= 303.03) being the best model according to the Stepwise method. Also, we can compare the models using the ANOVA and lmtest test. Let's say our null hypothesis is that second model is better than the first model. p < 0.05 would reject our hypothesis and in case p > 0.05, we'll fail to reject the null hypothesis."
   ]
  },
  {
   "cell_type": "code",
   "execution_count": 30,
   "metadata": {},
   "outputs": [
    {
     "data": {
      "text/html": [
       "<table>\n",
       "<thead><tr><th scope=col>Resid. Df</th><th scope=col>Resid. Dev</th><th scope=col>Df</th><th scope=col>Deviance</th><th scope=col>Pr(&gt;Chi)</th></tr></thead>\n",
       "<tbody>\n",
       "\t<tr><td>4538      </td><td>284.4634  </td><td>NA        </td><td>        NA</td><td>       NA </td></tr>\n",
       "\t<tr><td>4540      </td><td>285.0307  </td><td>-2        </td><td>-0.5672995</td><td>0.7530304 </td></tr>\n",
       "</tbody>\n",
       "</table>\n"
      ],
      "text/latex": [
       "\\begin{tabular}{r|lllll}\n",
       " Resid. Df & Resid. Dev & Df & Deviance & Pr(>Chi)\\\\\n",
       "\\hline\n",
       "\t 4538       & 284.4634   & NA         &         NA &        NA \\\\\n",
       "\t 4540       & 285.0307   & -2         & -0.5672995 & 0.7530304 \\\\\n",
       "\\end{tabular}\n"
      ],
      "text/markdown": [
       "\n",
       "Resid. Df | Resid. Dev | Df | Deviance | Pr(>Chi) | \n",
       "|---|---|\n",
       "| 4538       | 284.4634   | NA         |         NA |        NA  | \n",
       "| 4540       | 285.0307   | -2         | -0.5672995 | 0.7530304  | \n",
       "\n",
       "\n"
      ],
      "text/plain": [
       "  Resid. Df Resid. Dev Df Deviance   Pr(>Chi) \n",
       "1 4538      284.4634   NA         NA        NA\n",
       "2 4540      285.0307   -2 -0.5672995 0.7530304"
      ]
     },
     "metadata": {},
     "output_type": "display_data"
    },
    {
     "data": {
      "text/html": [
       "<table>\n",
       "<thead><tr><th scope=col>Resid. Df</th><th scope=col>Resid. Dev</th><th scope=col>Df</th><th scope=col>Deviance</th><th scope=col>Pr(&gt;Chi)</th></tr></thead>\n",
       "<tbody>\n",
       "\t<tr><td>4538     </td><td>284.4634 </td><td>NA       </td><td>       NA</td><td>       NA</td></tr>\n",
       "\t<tr><td>4542     </td><td>290.5541 </td><td>-4       </td><td>-6.090609</td><td>0.1924829</td></tr>\n",
       "</tbody>\n",
       "</table>\n"
      ],
      "text/latex": [
       "\\begin{tabular}{r|lllll}\n",
       " Resid. Df & Resid. Dev & Df & Deviance & Pr(>Chi)\\\\\n",
       "\\hline\n",
       "\t 4538      & 284.4634  & NA        &        NA &        NA\\\\\n",
       "\t 4542      & 290.5541  & -4        & -6.090609 & 0.1924829\\\\\n",
       "\\end{tabular}\n"
      ],
      "text/markdown": [
       "\n",
       "Resid. Df | Resid. Dev | Df | Deviance | Pr(>Chi) | \n",
       "|---|---|\n",
       "| 4538      | 284.4634  | NA        |        NA |        NA | \n",
       "| 4542      | 290.5541  | -4        | -6.090609 | 0.1924829 | \n",
       "\n",
       "\n"
      ],
      "text/plain": [
       "  Resid. Df Resid. Dev Df Deviance  Pr(>Chi) \n",
       "1 4538      284.4634   NA        NA        NA\n",
       "2 4542      290.5541   -4 -6.090609 0.1924829"
      ]
     },
     "metadata": {},
     "output_type": "display_data"
    },
    {
     "data": {
      "text/html": [
       "<table>\n",
       "<thead><tr><th scope=col>Resid. Df</th><th scope=col>Resid. Dev</th><th scope=col>Df</th><th scope=col>Deviance</th><th scope=col>Pr(&gt;Chi)</th></tr></thead>\n",
       "<tbody>\n",
       "\t<tr><td>4540      </td><td>285.0307  </td><td>NA        </td><td>      NA  </td><td>        NA</td></tr>\n",
       "\t<tr><td>4542      </td><td>290.5541  </td><td>-2        </td><td>-5.52331  </td><td>0.06318711</td></tr>\n",
       "</tbody>\n",
       "</table>\n"
      ],
      "text/latex": [
       "\\begin{tabular}{r|lllll}\n",
       " Resid. Df & Resid. Dev & Df & Deviance & Pr(>Chi)\\\\\n",
       "\\hline\n",
       "\t 4540       & 285.0307   & NA         &       NA   &         NA\\\\\n",
       "\t 4542       & 290.5541   & -2         & -5.52331   & 0.06318711\\\\\n",
       "\\end{tabular}\n"
      ],
      "text/markdown": [
       "\n",
       "Resid. Df | Resid. Dev | Df | Deviance | Pr(>Chi) | \n",
       "|---|---|\n",
       "| 4540       | 285.0307   | NA         |       NA   |         NA | \n",
       "| 4542       | 290.5541   | -2         | -5.52331   | 0.06318711 | \n",
       "\n",
       "\n"
      ],
      "text/plain": [
       "  Resid. Df Resid. Dev Df Deviance Pr(>Chi)  \n",
       "1 4540      285.0307   NA       NA         NA\n",
       "2 4542      290.5541   -2 -5.52331 0.06318711"
      ]
     },
     "metadata": {},
     "output_type": "display_data"
    }
   ],
   "source": [
    "#compare the models by using anova-chisq\n",
    "anova(model1,model2,test = \"Chisq\")\n",
    "anova(model1,model3,test = \"Chisq\")\n",
    "anova(model2,model3,test = \"Chisq\")\n"
   ]
  },
  {
   "cell_type": "code",
   "execution_count": 31,
   "metadata": {},
   "outputs": [
    {
     "name": "stderr",
     "output_type": "stream",
     "text": [
      "Loading required package: zoo\n",
      "\n",
      "Attaching package: 'zoo'\n",
      "\n",
      "The following objects are masked from 'package:base':\n",
      "\n",
      "    as.Date, as.Date.numeric\n",
      "\n"
     ]
    },
    {
     "data": {
      "text/html": [
       "<table>\n",
       "<thead><tr><th scope=col>#Df</th><th scope=col>LogLik</th><th scope=col>Df</th><th scope=col>Chisq</th><th scope=col>Pr(&gt;Chisq)</th></tr></thead>\n",
       "<tbody>\n",
       "\t<tr><td>11       </td><td>-142.2317</td><td>NA       </td><td>       NA</td><td>       NA</td></tr>\n",
       "\t<tr><td> 9       </td><td>-142.5154</td><td>-2       </td><td>0.5672995</td><td>0.7530304</td></tr>\n",
       "</tbody>\n",
       "</table>\n"
      ],
      "text/latex": [
       "\\begin{tabular}{r|lllll}\n",
       " \\#Df & LogLik & Df & Chisq & Pr(>Chisq)\\\\\n",
       "\\hline\n",
       "\t 11        & -142.2317 & NA        &        NA &        NA\\\\\n",
       "\t  9        & -142.5154 & -2        & 0.5672995 & 0.7530304\\\\\n",
       "\\end{tabular}\n"
      ],
      "text/markdown": [
       "\n",
       "#Df | LogLik | Df | Chisq | Pr(>Chisq) | \n",
       "|---|---|\n",
       "| 11        | -142.2317 | NA        |        NA |        NA | \n",
       "|  9        | -142.5154 | -2        | 0.5672995 | 0.7530304 | \n",
       "\n",
       "\n"
      ],
      "text/plain": [
       "  #Df LogLik    Df Chisq     Pr(>Chisq)\n",
       "1 11  -142.2317 NA        NA        NA \n",
       "2  9  -142.5154 -2 0.5672995 0.7530304 "
      ]
     },
     "metadata": {},
     "output_type": "display_data"
    },
    {
     "data": {
      "text/html": [
       "<table>\n",
       "<thead><tr><th scope=col>#Df</th><th scope=col>LogLik</th><th scope=col>Df</th><th scope=col>Chisq</th><th scope=col>Pr(&gt;Chisq)</th></tr></thead>\n",
       "<tbody>\n",
       "\t<tr><td>11       </td><td>-142.2317</td><td>NA       </td><td>      NA </td><td>       NA</td></tr>\n",
       "\t<tr><td> 7       </td><td>-145.2770</td><td>-4       </td><td>6.090609 </td><td>0.1924829</td></tr>\n",
       "</tbody>\n",
       "</table>\n"
      ],
      "text/latex": [
       "\\begin{tabular}{r|lllll}\n",
       " \\#Df & LogLik & Df & Chisq & Pr(>Chisq)\\\\\n",
       "\\hline\n",
       "\t 11        & -142.2317 & NA        &       NA  &        NA\\\\\n",
       "\t  7        & -145.2770 & -4        & 6.090609  & 0.1924829\\\\\n",
       "\\end{tabular}\n"
      ],
      "text/markdown": [
       "\n",
       "#Df | LogLik | Df | Chisq | Pr(>Chisq) | \n",
       "|---|---|\n",
       "| 11        | -142.2317 | NA        |       NA  |        NA | \n",
       "|  7        | -145.2770 | -4        | 6.090609  | 0.1924829 | \n",
       "\n",
       "\n"
      ],
      "text/plain": [
       "  #Df LogLik    Df Chisq    Pr(>Chisq)\n",
       "1 11  -142.2317 NA       NA        NA \n",
       "2  7  -145.2770 -4 6.090609 0.1924829 "
      ]
     },
     "metadata": {},
     "output_type": "display_data"
    },
    {
     "data": {
      "text/html": [
       "<table>\n",
       "<thead><tr><th scope=col>#Df</th><th scope=col>LogLik</th><th scope=col>Df</th><th scope=col>Chisq</th><th scope=col>Pr(&gt;Chisq)</th></tr></thead>\n",
       "<tbody>\n",
       "\t<tr><td>9         </td><td>-142.5154 </td><td>NA        </td><td>     NA   </td><td>        NA</td></tr>\n",
       "\t<tr><td>7         </td><td>-145.2770 </td><td>-2        </td><td>5.52331   </td><td>0.06318711</td></tr>\n",
       "</tbody>\n",
       "</table>\n"
      ],
      "text/latex": [
       "\\begin{tabular}{r|lllll}\n",
       " \\#Df & LogLik & Df & Chisq & Pr(>Chisq)\\\\\n",
       "\\hline\n",
       "\t 9          & -142.5154  & NA         &      NA    &         NA\\\\\n",
       "\t 7          & -145.2770  & -2         & 5.52331    & 0.06318711\\\\\n",
       "\\end{tabular}\n"
      ],
      "text/markdown": [
       "\n",
       "#Df | LogLik | Df | Chisq | Pr(>Chisq) | \n",
       "|---|---|\n",
       "| 9          | -142.5154  | NA         |      NA    |         NA | \n",
       "| 7          | -145.2770  | -2         | 5.52331    | 0.06318711 | \n",
       "\n",
       "\n"
      ],
      "text/plain": [
       "  #Df LogLik    Df Chisq   Pr(>Chisq)\n",
       "1 9   -142.5154 NA      NA         NA\n",
       "2 7   -145.2770 -2 5.52331 0.06318711"
      ]
     },
     "metadata": {},
     "output_type": "display_data"
    }
   ],
   "source": [
    "#compare the models by using lrtest-chisq\n",
    "library(lmtest)\n",
    "lrtest(model1, model2)\n",
    "lrtest(model1, model3)\n",
    "lrtest(model2,model3)"
   ]
  },
  {
   "cell_type": "markdown",
   "metadata": {},
   "source": [
    "Even though the Anova and lmtest procedures state that the third model is better than the second one, the p-value (0.06318711) in near the limit of the bound.  Besides, model 2 has smaller AIC  than model 3 (303.03; 304.55).  So, we will keep model2 and model 3 and we will evaluate both its performances as a supervised machine learning model. Then we will decide between them based on its ROC metric result.   "
   ]
  },
  {
   "cell_type": "markdown",
   "metadata": {},
   "source": [
    "### 412 Building the model "
   ]
  },
  {
   "cell_type": "code",
   "execution_count": 32,
   "metadata": {
    "collapsed": true
   },
   "outputs": [],
   "source": [
    "## Control Resampling Technique: 10-fold CV\n",
    "fiveStats = function(...) c (twoClassSummary(...), defaultSummary(...))\n",
    "cvCtrl <- trainControl(method = \"cv\", number=10,  summaryFunction = fiveStats, classProbs = TRUE, savePredictions=T)"
   ]
  },
  {
   "cell_type": "code",
   "execution_count": 33,
   "metadata": {
    "collapsed": true
   },
   "outputs": [],
   "source": [
    "## Construction Predictive Model2 and Model3\n",
    "set.seed(7)\n",
    "formula2 <- as.formula(\"Class ~ fixed.acidity + volatile.acidity + citric.acid + residual.sugar + chlorides + total.sulfur.dioxide + pH + sulphates\")\n",
    "formula3 <- as.formula(\"Class ~ fixed.acidity + volatile.acidity + chlorides + total.sulfur.dioxide + pH + sulphates\")\n",
    "lrmodel2 <- train(formula2, data=training, method=\"glm\",   family=binomial, preProc = c(\"center\", \"scale\"), tuneLength = 5, trControl = cvCtrl)\n",
    "lrmodel3 <- train(formula3, data=training, method=\"glm\",   family=binomial, preProc = c(\"center\", \"scale\"), tuneLength = 5, trControl = cvCtrl)\n",
    "\n"
   ]
  },
  {
   "cell_type": "code",
   "execution_count": 34,
   "metadata": {},
   "outputs": [
    {
     "data": {
      "text/plain": [
       "\n",
       "Call:\n",
       "NULL\n",
       "\n",
       "Deviance Residuals: \n",
       "    Min       1Q   Median       3Q      Max  \n",
       "-2.5881  -0.0263  -0.0067  -0.0002   4.4302  \n",
       "\n",
       "Coefficients:\n",
       "                     Estimate Std. Error z value Pr(>|z|)    \n",
       "(Intercept)           -5.2522     0.3720 -14.120  < 2e-16 ***\n",
       "fixed.acidity          1.4874     0.2028   7.335 2.21e-13 ***\n",
       "volatile.acidity       1.6829     0.1906   8.827  < 2e-16 ***\n",
       "citric.acid           -0.2834     0.1889  -1.500   0.1335    \n",
       "residual.sugar        -0.5039     0.3013  -1.673   0.0944 .  \n",
       "chlorides              2.1224     0.1974  10.754  < 2e-16 ***\n",
       "total.sulfur.dioxide  -3.1747     0.2752 -11.534  < 2e-16 ***\n",
       "pH                     1.6897     0.2118   7.976 1.51e-15 ***\n",
       "sulphates              1.2680     0.1888   6.716 1.87e-11 ***\n",
       "---\n",
       "Signif. codes:  0 '***' 0.001 '**' 0.01 '*' 0.05 '.' 0.1 ' ' 1\n",
       "\n",
       "(Dispersion parameter for binomial family taken to be 1)\n",
       "\n",
       "    Null deviance: 5077.87  on 4548  degrees of freedom\n",
       "Residual deviance:  285.03  on 4540  degrees of freedom\n",
       "AIC: 303.03\n",
       "\n",
       "Number of Fisher Scoring iterations: 9\n"
      ]
     },
     "metadata": {},
     "output_type": "display_data"
    }
   ],
   "source": [
    "## Getting summary of fitted model2\n",
    "summary(lrmodel2)"
   ]
  },
  {
   "cell_type": "code",
   "execution_count": 35,
   "metadata": {},
   "outputs": [
    {
     "data": {
      "text/plain": [
       "\n",
       "Call:\n",
       "NULL\n",
       "\n",
       "Deviance Residuals: \n",
       "    Min       1Q   Median       3Q      Max  \n",
       "-2.5680  -0.0271  -0.0075  -0.0003   4.5555  \n",
       "\n",
       "Coefficients:\n",
       "                     Estimate Std. Error z value Pr(>|z|)    \n",
       "(Intercept)           -5.1251     0.3483 -14.716  < 2e-16 ***\n",
       "fixed.acidity          1.4174     0.1896   7.474 7.76e-14 ***\n",
       "volatile.acidity       1.8000     0.1741  10.341  < 2e-16 ***\n",
       "chlorides              2.1057     0.1898  11.092  < 2e-16 ***\n",
       "total.sulfur.dioxide  -3.3323     0.2612 -12.759  < 2e-16 ***\n",
       "pH                     1.7636     0.2095   8.419  < 2e-16 ***\n",
       "sulphates              1.2768     0.1846   6.917 4.61e-12 ***\n",
       "---\n",
       "Signif. codes:  0 '***' 0.001 '**' 0.01 '*' 0.05 '.' 0.1 ' ' 1\n",
       "\n",
       "(Dispersion parameter for binomial family taken to be 1)\n",
       "\n",
       "    Null deviance: 5077.87  on 4548  degrees of freedom\n",
       "Residual deviance:  290.55  on 4542  degrees of freedom\n",
       "AIC: 304.55\n",
       "\n",
       "Number of Fisher Scoring iterations: 9\n"
      ]
     },
     "metadata": {},
     "output_type": "display_data"
    }
   ],
   "source": [
    "## Getting summary of fitted model3\n",
    "summary(lrmodel3)"
   ]
  },
  {
   "cell_type": "code",
   "execution_count": 36,
   "metadata": {},
   "outputs": [
    {
     "data": {
      "text/plain": [
       "Generalized Linear Model \n",
       "\n",
       "4549 samples\n",
       "   8 predictor\n",
       "   2 classes: 'white', 'red' \n",
       "\n",
       "Pre-processing: centered (8), scaled (8) \n",
       "Resampling: Cross-Validated (10 fold) \n",
       "Summary of sample sizes: 4094, 4094, 4094, 4094, 4094, 4094, ... \n",
       "Resampling results:\n",
       "\n",
       "  ROC        Sens       Spec       Accuracy   Kappa    \n",
       "  0.9975998  0.9941674  0.9821429  0.9912073  0.9763027\n"
      ]
     },
     "metadata": {},
     "output_type": "display_data"
    }
   ],
   "source": [
    "## train results model2\n",
    "lrmodel2"
   ]
  },
  {
   "cell_type": "code",
   "execution_count": 37,
   "metadata": {},
   "outputs": [
    {
     "data": {
      "text/plain": [
       "Generalized Linear Model \n",
       "\n",
       "4549 samples\n",
       "   6 predictor\n",
       "   2 classes: 'white', 'red' \n",
       "\n",
       "Pre-processing: centered (6), scaled (6) \n",
       "Resampling: Cross-Validated (10 fold) \n",
       "Summary of sample sizes: 4094, 4094, 4094, 4094, 4095, 4094, ... \n",
       "Resampling results:\n",
       "\n",
       "  ROC        Sens       Spec     Accuracy   Kappa    \n",
       "  0.9978056  0.9950437  0.98125  0.9916484  0.9774556\n"
      ]
     },
     "metadata": {},
     "output_type": "display_data"
    }
   ],
   "source": [
    "## train results model3\n",
    "lrmodel3"
   ]
  },
  {
   "cell_type": "markdown",
   "metadata": {},
   "source": [
    "Model 3 has better ROC metric than model 2 (0.9978056;  0.9975998).  In fact, it has better Sens, Accuracy and Kappa metrics too. So we decide to keep model 3 as the better model option."
   ]
  },
  {
   "cell_type": "code",
   "execution_count": 39,
   "metadata": {},
   "outputs": [
    {
     "data": {
      "text/plain": [
       "Confusion Matrix and Statistics\n",
       "\n",
       "          Reference\n",
       "Prediction white  red\n",
       "     white  1462    8\n",
       "     red       7  471\n",
       "                                          \n",
       "               Accuracy : 0.9923          \n",
       "                 95% CI : (0.9873, 0.9957)\n",
       "    No Information Rate : 0.7541          \n",
       "    P-Value [Acc > NIR] : <2e-16          \n",
       "                                          \n",
       "                  Kappa : 0.9792          \n",
       " Mcnemar's Test P-Value : 1               \n",
       "                                          \n",
       "            Sensitivity : 0.9952          \n",
       "            Specificity : 0.9833          \n",
       "         Pos Pred Value : 0.9946          \n",
       "         Neg Pred Value : 0.9854          \n",
       "             Prevalence : 0.7541          \n",
       "         Detection Rate : 0.7505          \n",
       "   Detection Prevalence : 0.7546          \n",
       "      Balanced Accuracy : 0.9893          \n",
       "                                          \n",
       "       'Positive' Class : white           \n",
       "                                          "
      ]
     },
     "metadata": {},
     "output_type": "display_data"
    }
   ],
   "source": [
    "## Test Set Results model3\n",
    "lrPred3 <- predict(lrmodel3,testing, type=\"raw\")\n",
    "confusionMatrix(lrPred3, testing$Class, positive = \"white\")"
   ]
  },
  {
   "cell_type": "code",
   "execution_count": 40,
   "metadata": {},
   "outputs": [
    {
     "data": {
      "text/html": [
       "<table>\n",
       "<thead><tr><th></th><th scope=col>white</th><th scope=col>red</th></tr></thead>\n",
       "<tbody>\n",
       "\t<tr><th scope=row>1</th><td>0.9999983   </td><td>1.675077e-06</td></tr>\n",
       "\t<tr><th scope=row>4</th><td>0.9999905   </td><td>9.549344e-06</td></tr>\n",
       "\t<tr><th scope=row>5</th><td>0.9999905   </td><td>9.549344e-06</td></tr>\n",
       "\t<tr><th scope=row>6</th><td>0.9830647   </td><td>1.693535e-02</td></tr>\n",
       "\t<tr><th scope=row>18</th><td>0.9208732   </td><td>7.912683e-02</td></tr>\n",
       "\t<tr><th scope=row>20</th><td>0.9997836   </td><td>2.164233e-04</td></tr>\n",
       "</tbody>\n",
       "</table>\n"
      ],
      "text/latex": [
       "\\begin{tabular}{r|ll}\n",
       "  & white & red\\\\\n",
       "\\hline\n",
       "\t1 & 0.9999983    & 1.675077e-06\\\\\n",
       "\t4 & 0.9999905    & 9.549344e-06\\\\\n",
       "\t5 & 0.9999905    & 9.549344e-06\\\\\n",
       "\t6 & 0.9830647    & 1.693535e-02\\\\\n",
       "\t18 & 0.9208732    & 7.912683e-02\\\\\n",
       "\t20 & 0.9997836    & 2.164233e-04\\\\\n",
       "\\end{tabular}\n"
      ],
      "text/markdown": [
       "\n",
       "| <!--/--> | white | red | \n",
       "|---|---|---|---|---|---|\n",
       "| 1 | 0.9999983    | 1.675077e-06 | \n",
       "| 4 | 0.9999905    | 9.549344e-06 | \n",
       "| 5 | 0.9999905    | 9.549344e-06 | \n",
       "| 6 | 0.9830647    | 1.693535e-02 | \n",
       "| 18 | 0.9208732    | 7.912683e-02 | \n",
       "| 20 | 0.9997836    | 2.164233e-04 | \n",
       "\n",
       "\n"
      ],
      "text/plain": [
       "   white     red         \n",
       "1  0.9999983 1.675077e-06\n",
       "4  0.9999905 9.549344e-06\n",
       "5  0.9999905 9.549344e-06\n",
       "6  0.9830647 1.693535e-02\n",
       "18 0.9208732 7.912683e-02\n",
       "20 0.9997836 2.164233e-04"
      ]
     },
     "metadata": {},
     "output_type": "display_data"
    }
   ],
   "source": [
    "## Predicting Class Probabilities model 3\n",
    "lrProbs3 <- predict(lrmodel3, testing, type = \"prob\")\n",
    "head(lrProbs3)"
   ]
  },
  {
   "cell_type": "code",
   "execution_count": 41,
   "metadata": {},
   "outputs": [
    {
     "data": {
      "text/plain": [
       "glm variable importance\n",
       "\n",
       "                     Overall\n",
       "total.sulfur.dioxide  12.759\n",
       "chlorides             11.092\n",
       "volatile.acidity      10.341\n",
       "pH                     8.419\n",
       "fixed.acidity          7.474\n",
       "sulphates              6.917"
      ]
     },
     "metadata": {},
     "output_type": "display_data"
    }
   ],
   "source": [
    "# variable importance model2\n",
    "lr.imp3 = varImp (lrmodel3 , scale = F )\n",
    "lr.imp3"
   ]
  },
  {
   "cell_type": "code",
   "execution_count": 42,
   "metadata": {},
   "outputs": [
    {
     "data": {},
     "metadata": {},
     "output_type": "display_data"
    },
    {
     "data": {
      "image/png": "[encoded data removed]",
      "text/plain": [
       "plot without title"
      ]
     },
     "metadata": {},
     "output_type": "display_data"
    }
   ],
   "source": [
    "## Graphic variable importance model2\n",
    "# dev.new()\n",
    "plot(lr.imp3, top=8, main=\"Variable Importance - LR Model3\")"
   ]
  },
  {
   "cell_type": "code",
   "execution_count": 44,
   "metadata": {},
   "outputs": [
    {
     "data": {
      "image/png": "[encoded data removed]",
      "text/plain": [
       "Plot with title \"Logistic Regression Models ROC curve\""
      ]
     },
     "metadata": {},
     "output_type": "display_data"
    }
   ],
   "source": [
    "## Creating the ROC Curve\n",
    "library(pROC)\n",
    "formula1 <- as.formula(\"Class ~ .\") \n",
    "lrmodel1 <- train(formula1, data=training, method=\"glm\",   family=binomial, preProc = c(\"center\", \"scale\"), tuneLength = 5, trControl = cvCtrl)\n",
    "lrProbs <- predict(lrmodel1, testing, type = \"prob\")\n",
    "\n",
    "## Creating the ROC Curve\n",
    "library(pROC)\n",
    "lrROC <- roc(predictor = lrProbs$white, response = testing$Class, levels = rev(levels(testing$Class)))\n",
    "lrROC3 <- roc(predictor = lrProbs3$white, response = testing$Class, levels = rev(levels(testing$Class)))\n",
    "\n",
    "plot(lrROC, type = \"S\", main=\"Logistic Regression Models ROC curve\",  col = \"blue\")\n",
    "plot(lrROC3, add = TRUE, print.thres = .5, col = \"red\", print.auc=TRUE)\n",
    "#plot(knnROC, add = TRUE, col = \"yellow\")\n",
    "#plot(rfROC, add = TRUE, print.thres = .5, col = \"blue\", print.auc=TRUE)\n",
    "legend(\"bottomright\", legend = c(\"LRmodel1\",\"LRmodel3\"), col = c(\"blue\",\"red\"),lwd = 2)\n"
   ]
  },
  {
   "cell_type": "markdown",
   "metadata": {},
   "source": [
    "## V Making predictions\n",
    " \n",
    "After doing all the building stuff, we want to get the predictions from model3 on our training dataset."
   ]
  },
  {
   "cell_type": "code",
   "execution_count": 46,
   "metadata": {},
   "outputs": [
    {
     "data": {
      "text/html": [
       "<table>\n",
       "<thead><tr><th></th><th scope=col>white</th><th scope=col>red</th></tr></thead>\n",
       "<tbody>\n",
       "\t<tr><th scope=row>1</th><td>0.9999983   </td><td>1.675077e-06</td></tr>\n",
       "\t<tr><th scope=row>4</th><td>0.9999905   </td><td>9.549344e-06</td></tr>\n",
       "\t<tr><th scope=row>5</th><td>0.9999905   </td><td>9.549344e-06</td></tr>\n",
       "\t<tr><th scope=row>6</th><td>0.9830647   </td><td>1.693535e-02</td></tr>\n",
       "\t<tr><th scope=row>18</th><td>0.9208732   </td><td>7.912683e-02</td></tr>\n",
       "</tbody>\n",
       "</table>\n"
      ],
      "text/latex": [
       "\\begin{tabular}{r|ll}\n",
       "  & white & red\\\\\n",
       "\\hline\n",
       "\t1 & 0.9999983    & 1.675077e-06\\\\\n",
       "\t4 & 0.9999905    & 9.549344e-06\\\\\n",
       "\t5 & 0.9999905    & 9.549344e-06\\\\\n",
       "\t6 & 0.9830647    & 1.693535e-02\\\\\n",
       "\t18 & 0.9208732    & 7.912683e-02\\\\\n",
       "\\end{tabular}\n"
      ],
      "text/markdown": [
       "\n",
       "| <!--/--> | white | red | \n",
       "|---|---|---|---|---|\n",
       "| 1 | 0.9999983    | 1.675077e-06 | \n",
       "| 4 | 0.9999905    | 9.549344e-06 | \n",
       "| 5 | 0.9999905    | 9.549344e-06 | \n",
       "| 6 | 0.9830647    | 1.693535e-02 | \n",
       "| 18 | 0.9208732    | 7.912683e-02 | \n",
       "\n",
       "\n"
      ],
      "text/plain": [
       "   white     red         \n",
       "1  0.9999983 1.675077e-06\n",
       "4  0.9999905 9.549344e-06\n",
       "5  0.9999905 9.549344e-06\n",
       "6  0.9830647 1.693535e-02\n",
       "18 0.9208732 7.912683e-02"
      ]
     },
     "metadata": {},
     "output_type": "display_data"
    }
   ],
   "source": [
    "# print predictions probabilities by row model3\n",
    "head(as.data.frame(lrProbs3),5)"
   ]
  },
  {
   "cell_type": "code",
   "execution_count": 47,
   "metadata": {},
   "outputs": [
    {
     "data": {
      "text/html": [
       "<table>\n",
       "<thead><tr><th scope=col>fixed.acidity</th><th scope=col>volatile.acidity</th><th scope=col>citric.acid</th><th scope=col>residual.sugar</th><th scope=col>chlorides</th><th scope=col>total.sulfur.dioxide</th><th scope=col>pH</th><th scope=col>sulphates</th><th scope=col>alcohol</th><th scope=col>quality</th><th scope=col>Class</th><th scope=col>lrPred3</th></tr></thead>\n",
       "<tbody>\n",
       "\t<tr><td>7.0  </td><td>0.270</td><td>0.36 </td><td>17.55</td><td>0.045</td><td>170  </td><td>3.00 </td><td>0.45 </td><td> 8.8 </td><td>6    </td><td>white</td><td>white</td></tr>\n",
       "\t<tr><td>7.2  </td><td>0.230</td><td>0.32 </td><td> 8.50</td><td>0.058</td><td>186  </td><td>3.19 </td><td>0.40 </td><td> 9.9 </td><td>6    </td><td>white</td><td>white</td></tr>\n",
       "\t<tr><td>7.2  </td><td>0.230</td><td>0.32 </td><td> 8.50</td><td>0.058</td><td>186  </td><td>3.19 </td><td>0.40 </td><td> 9.9 </td><td>6    </td><td>white</td><td>white</td></tr>\n",
       "\t<tr><td>8.1  </td><td>0.280</td><td>0.40 </td><td> 6.90</td><td>0.050</td><td> 97  </td><td>3.26 </td><td>0.44 </td><td>10.1 </td><td>6    </td><td>white</td><td>white</td></tr>\n",
       "\t<tr><td>6.2  </td><td>0.655</td><td>0.48 </td><td> 1.20</td><td>0.029</td><td> 75  </td><td>3.33 </td><td>0.39 </td><td>12.8 </td><td>8    </td><td>white</td><td>white</td></tr>\n",
       "\t<tr><td>6.5  </td><td>0.310</td><td>0.14 </td><td> 7.50</td><td>0.044</td><td>133  </td><td>3.22 </td><td>0.50 </td><td> 9.5 </td><td>5    </td><td>white</td><td>white</td></tr>\n",
       "\t<tr><td>6.8  </td><td>0.260</td><td>0.42 </td><td> 1.70</td><td>0.049</td><td>122  </td><td>3.47 </td><td>0.48 </td><td>10.5 </td><td>8    </td><td>white</td><td>white</td></tr>\n",
       "\t<tr><td>6.6  </td><td>0.270</td><td>0.41 </td><td> 1.30</td><td>0.052</td><td>142  </td><td>3.42 </td><td>0.47 </td><td>10.0 </td><td>6    </td><td>white</td><td>white</td></tr>\n",
       "\t<tr><td>7.2  </td><td>0.320</td><td>0.36 </td><td> 2.00</td><td>0.033</td><td>114  </td><td>3.10 </td><td>0.71 </td><td>12.3 </td><td>7    </td><td>white</td><td>white</td></tr>\n",
       "\t<tr><td>6.2  </td><td>0.120</td><td>0.34 </td><td> 1.50</td><td>0.045</td><td>117  </td><td>3.42 </td><td>0.51 </td><td> 9.0 </td><td>6    </td><td>white</td><td>white</td></tr>\n",
       "</tbody>\n",
       "</table>\n"
      ],
      "text/latex": [
       "\\begin{tabular}{r|llllllllllll}\n",
       " fixed.acidity & volatile.acidity & citric.acid & residual.sugar & chlorides & total.sulfur.dioxide & pH & sulphates & alcohol & quality & Class & lrPred3\\\\\n",
       "\\hline\n",
       "\t 7.0   & 0.270 & 0.36  & 17.55 & 0.045 & 170   & 3.00  & 0.45  &  8.8  & 6     & white & white\\\\\n",
       "\t 7.2   & 0.230 & 0.32  &  8.50 & 0.058 & 186   & 3.19  & 0.40  &  9.9  & 6     & white & white\\\\\n",
       "\t 7.2   & 0.230 & 0.32  &  8.50 & 0.058 & 186   & 3.19  & 0.40  &  9.9  & 6     & white & white\\\\\n",
       "\t 8.1   & 0.280 & 0.40  &  6.90 & 0.050 &  97   & 3.26  & 0.44  & 10.1  & 6     & white & white\\\\\n",
       "\t 6.2   & 0.655 & 0.48  &  1.20 & 0.029 &  75   & 3.33  & 0.39  & 12.8  & 8     & white & white\\\\\n",
       "\t 6.5   & 0.310 & 0.14  &  7.50 & 0.044 & 133   & 3.22  & 0.50  &  9.5  & 5     & white & white\\\\\n",
       "\t 6.8   & 0.260 & 0.42  &  1.70 & 0.049 & 122   & 3.47  & 0.48  & 10.5  & 8     & white & white\\\\\n",
       "\t 6.6   & 0.270 & 0.41  &  1.30 & 0.052 & 142   & 3.42  & 0.47  & 10.0  & 6     & white & white\\\\\n",
       "\t 7.2   & 0.320 & 0.36  &  2.00 & 0.033 & 114   & 3.10  & 0.71  & 12.3  & 7     & white & white\\\\\n",
       "\t 6.2   & 0.120 & 0.34  &  1.50 & 0.045 & 117   & 3.42  & 0.51  &  9.0  & 6     & white & white\\\\\n",
       "\\end{tabular}\n"
      ],
      "text/markdown": [
       "\n",
       "fixed.acidity | volatile.acidity | citric.acid | residual.sugar | chlorides | total.sulfur.dioxide | pH | sulphates | alcohol | quality | Class | lrPred3 | \n",
       "|---|---|---|---|---|---|---|---|---|---|\n",
       "| 7.0   | 0.270 | 0.36  | 17.55 | 0.045 | 170   | 3.00  | 0.45  |  8.8  | 6     | white | white | \n",
       "| 7.2   | 0.230 | 0.32  |  8.50 | 0.058 | 186   | 3.19  | 0.40  |  9.9  | 6     | white | white | \n",
       "| 7.2   | 0.230 | 0.32  |  8.50 | 0.058 | 186   | 3.19  | 0.40  |  9.9  | 6     | white | white | \n",
       "| 8.1   | 0.280 | 0.40  |  6.90 | 0.050 |  97   | 3.26  | 0.44  | 10.1  | 6     | white | white | \n",
       "| 6.2   | 0.655 | 0.48  |  1.20 | 0.029 |  75   | 3.33  | 0.39  | 12.8  | 8     | white | white | \n",
       "| 6.5   | 0.310 | 0.14  |  7.50 | 0.044 | 133   | 3.22  | 0.50  |  9.5  | 5     | white | white | \n",
       "| 6.8   | 0.260 | 0.42  |  1.70 | 0.049 | 122   | 3.47  | 0.48  | 10.5  | 8     | white | white | \n",
       "| 6.6   | 0.270 | 0.41  |  1.30 | 0.052 | 142   | 3.42  | 0.47  | 10.0  | 6     | white | white | \n",
       "| 7.2   | 0.320 | 0.36  |  2.00 | 0.033 | 114   | 3.10  | 0.71  | 12.3  | 7     | white | white | \n",
       "| 6.2   | 0.120 | 0.34  |  1.50 | 0.045 | 117   | 3.42  | 0.51  |  9.0  | 6     | white | white | \n",
       "\n",
       "\n"
      ],
      "text/plain": [
       "   fixed.acidity volatile.acidity citric.acid residual.sugar chlorides\n",
       "1  7.0           0.270            0.36        17.55          0.045    \n",
       "2  7.2           0.230            0.32         8.50          0.058    \n",
       "3  7.2           0.230            0.32         8.50          0.058    \n",
       "4  8.1           0.280            0.40         6.90          0.050    \n",
       "5  6.2           0.655            0.48         1.20          0.029    \n",
       "6  6.5           0.310            0.14         7.50          0.044    \n",
       "7  6.8           0.260            0.42         1.70          0.049    \n",
       "8  6.6           0.270            0.41         1.30          0.052    \n",
       "9  7.2           0.320            0.36         2.00          0.033    \n",
       "10 6.2           0.120            0.34         1.50          0.045    \n",
       "   total.sulfur.dioxide pH   sulphates alcohol quality Class lrPred3\n",
       "1  170                  3.00 0.45       8.8    6       white white  \n",
       "2  186                  3.19 0.40       9.9    6       white white  \n",
       "3  186                  3.19 0.40       9.9    6       white white  \n",
       "4   97                  3.26 0.44      10.1    6       white white  \n",
       "5   75                  3.33 0.39      12.8    8       white white  \n",
       "6  133                  3.22 0.50       9.5    5       white white  \n",
       "7  122                  3.47 0.48      10.5    8       white white  \n",
       "8  142                  3.42 0.47      10.0    6       white white  \n",
       "9  114                  3.10 0.71      12.3    7       white white  \n",
       "10 117                  3.42 0.51       9.0    6       white white  "
      ]
     },
     "metadata": {},
     "output_type": "display_data"
    }
   ],
   "source": [
    "# print validation dataset and predictions by row model3\n",
    "head((val<-as.data.frame(c(testing,as.data.frame(lrPred3)))),10)"
   ]
  },
  {
   "cell_type": "markdown",
   "metadata": {
    "collapsed": true
   },
   "source": [
    "Now if you want to get the predictions from a new test data, you can see the item 7.4 of my project [MACHINE LEARNING: A comparison of supervised learning algorithms applied to the classification problem with caret R-project library](http://nbviewer.jupyter.org/github/arqmain/Machine_Learning/blob/master/R_MLearning/MLearning_Classification_Comparison_R_Caret/MLearning_Classification_Comparison_R_Caret.ipynb). "
   ]
  },
  {
   "cell_type": "markdown",
   "metadata": {
    "collapsed": true
   },
   "source": [
    "## VI Conclusion"
   ]
  },
  {
   "cell_type": "markdown",
   "metadata": {},
   "source": [
    "This module of the project develops Logistic Regression algorithm of machine learning to classify the Class of wine \"white\" or \"red\" according to the 11 variables that characterize the wine subject to classification.\n",
    "\n",
    "The database -dfffull- does not consider two variables that appear in the original base. They could generate a problem of multicollinearity in the process of classification. So,  we got rid of them in dfffull. At the same time, <u><b><i>dfffull</i></b></u> keep all the register of the original database \"df\" but replace the upper outliers by its corresponding <i>Threshold</i>. The application of this rule does not reduce the original data size because it does not eliminate any register. So, dfffull data size is the same as the original \"df\" (6497).\n",
    "\n",
    "The lrmodel3 achieves a good classification metric, reaching ROC measurement of 99.78%. That is, the variables of the \"df\" database allow discriminating in a good way the quality of wine that they represent.\n",
    "\n",
    "The model was developed selecting the variables included by using the stepwise backward elimination method based on AIC selection criterion. Anyway, this is modeling so, we can improve more or not the model by filtering other variables, using another variable selection method or doing both things at the same time."
   ]
  },
  {
   "cell_type": "markdown",
   "metadata": {},
   "source": [
    "<hr>\n",
    "By: Hector Alvaro Rojas | Data Science, Visualizations and Applied Statistics | October 30, 2017<br>\n",
    "Url: [http://www.arqmain.net]   &nbsp;&nbsp;&nbsp;|&nbsp;&nbsp;&nbsp;   GitHub: [https://github.com/arqmain]"
   ]
  }
 ],
 "metadata": {
  "anaconda-cloud": {},
  "kernelspec": {
   "display_name": "R",
   "language": "R",
   "name": "ir"
  },
  "language_info": {
   "codemirror_mode": "r",
   "file_extension": ".r",
   "mimetype": "text/x-r-source",
   "name": "R",
   "pygments_lexer": "r",
   "version": "3.4.1"
  }
 },
 "nbformat": 4,
 "nbformat_minor": 2
}
