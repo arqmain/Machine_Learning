{
 "cells": [
  {
   "cell_type": "markdown",
   "metadata": {},
   "source": [
    "# Python-MLearning: Loan Data using Logistic Regression (LR) and Sklearn\n",
    "## PCA REDUCED DIMENSION MODELING\n",
    "By: Hector Alvaro Rojas &nbsp;&nbsp;|&nbsp;&nbsp; Data Science, Visualizations and Applied Statistics &nbsp;&nbsp;|&nbsp;&nbsp; September 10, 2018<br>\n",
    "    Url: [http://www.arqmain.net]   &nbsp;&nbsp;&nbsp;|&nbsp;&nbsp;&nbsp;   GitHub: [https://github.com/arqmain]\n",
    "    <hr>"
   ]
  },
  {
   "cell_type": "markdown",
   "metadata": {},
   "source": [
    "# I IMPORT REQUIRED PACKAGES"
   ]
  },
  {
   "cell_type": "code",
   "execution_count": 1,
   "metadata": {},
   "outputs": [],
   "source": [
    "import os\n",
    "from datetime import datetime\n",
    "import pandas as pd\n",
    "import numpy as np\n",
    "from sklearn import preprocessing\n",
    "import matplotlib.pyplot as plt\n",
    "plt.rc(\"font\", size=14)\n",
    "from sklearn.linear_model import LogisticRegression\n",
    "from sklearn.model_selection import train_test_split\n",
    "import seaborn as sns\n",
    "sns.set(style=\"white\")\n",
    "sns.set(style=\"whitegrid\", color_codes=True)\n",
    "from sklearn.model_selection import cross_val_predict\n",
    "from sklearn.metrics import accuracy_score, classification_report, confusion_matrix\n",
    "from sklearn.decomposition import PCA\n",
    "\n",
    "#sklearn.linear_model.LogisticRegression\n",
    "#http://scikit-learn.org/stable/modules/generated/sklearn.linear_model.LogisticRegression.html"
   ]
  },
  {
   "cell_type": "markdown",
   "metadata": {},
   "source": [
    "# II FULL DATASET WITH MISSING VALUES FILLED"
   ]
  },
  {
   "cell_type": "markdown",
   "metadata": {},
   "source": [
    "# 1 LOADING DATA"
   ]
  },
  {
   "cell_type": "code",
   "execution_count": 2,
   "metadata": {},
   "outputs": [
    {
     "data": {
      "text/plain": [
       "'C:\\\\Users\\\\Alvaro\\\\Documents\\\\R-Python-Projects_April042018\\\\Python_Projects\\\\Machine-Learning\\\\LogisticRegression\\\\Logistic3_Loan'"
      ]
     },
     "execution_count": 2,
     "metadata": {},
     "output_type": "execute_result"
    }
   ],
   "source": [
    "#Checking working directory\n",
    "# import os\n",
    "os.getcwd()"
   ]
  },
  {
   "cell_type": "code",
   "execution_count": 3,
   "metadata": {},
   "outputs": [
    {
     "data": {
      "text/plain": [
       "['.ipynb_checkpoints',\n",
       " 'Backup',\n",
       " 'For REDUCED Dataset model development.txt',\n",
       " 'How to plot multiple ROC curves in one plot with legend and AUC scores in python_ - Stack Overflow.pdf',\n",
       " 'Link to  Logistic stuff here.txt',\n",
       " 'Links to LR3 GITHUBE and Nbviewer.txt',\n",
       " 'LoanFree_LRModel.csv',\n",
       " 'LoanFull.csv',\n",
       " 'Loan_FullProcess.csv',\n",
       " 'Loan_LRModel.csv',\n",
       " 'Loan_Prediction',\n",
       " 'Log_ROC.png',\n",
       " 'Material Support',\n",
       " 'Multiple classifiers_ accuracy tests, ROC curves _ Kaggle.pdf',\n",
       " 'PYTHON-MLearning_LR1_Introduction.ipynb',\n",
       " 'PYTHON-MLearning_LR2_OPTIMAL-RFECV_Final.ipynb',\n",
       " 'PYTHON-MLearning_LR3_Classical.ipynb',\n",
       " 'PYTHON-MLearning_LR3_Exploratory_FEngineering_Final.ipynb',\n",
       " 'PYTHON-MLearning_LR3_PCA.ipynb',\n",
       " 'Summaries.xlsx',\n",
       " 'To Put in the GitHube Menu.txt',\n",
       " 'Visual']"
      ]
     },
     "execution_count": 3,
     "metadata": {},
     "output_type": "execute_result"
    }
   ],
   "source": [
    "#List files in a directory\n",
    "os.listdir()"
   ]
  },
  {
   "cell_type": "code",
   "execution_count": 4,
   "metadata": {},
   "outputs": [
    {
     "name": "stdout",
     "output_type": "stream",
     "text": [
      "(981, 15)\n",
      "Index(['Loan_ID', 'Gender', 'Married', 'Dependents', 'Education',\n",
      "       'Self_Employed', 'Loan_Amount_Term', 'Credit_History', 'Loan_Status',\n",
      "       'TotalIncome_log', 'LoanAmount_log', 'LoanIncome_log',\n",
      "       'Property_Area_0', 'Property_Area_1', 'Property_Area_2'],\n",
      "      dtype='object')\n"
     ]
    }
   ],
   "source": [
    "# read csv (comma separated value) into data\n",
    "df=pd.read_csv('Loan_LRModel.csv')\n",
    "print(df.shape)\n",
    "print(df.columns)"
   ]
  },
  {
   "cell_type": "code",
   "execution_count": 8,
   "metadata": {},
   "outputs": [
    {
     "name": "stdout",
     "output_type": "stream",
     "text": [
      "<class 'pandas.core.frame.DataFrame'>\n",
      "RangeIndex: 981 entries, 0 to 980\n",
      "Data columns (total 15 columns):\n",
      "Loan_ID             981 non-null object\n",
      "Gender              981 non-null int64\n",
      "Married             981 non-null int64\n",
      "Dependents          981 non-null int64\n",
      "Education           981 non-null int64\n",
      "Self_Employed       981 non-null int64\n",
      "Loan_Amount_Term    981 non-null float64\n",
      "Credit_History      981 non-null float64\n",
      "Loan_Status         981 non-null int64\n",
      "TotalIncome_log     981 non-null float64\n",
      "LoanAmount_log      981 non-null float64\n",
      "LoanIncome_log      981 non-null float64\n",
      "Property_Area_0     981 non-null int64\n",
      "Property_Area_1     981 non-null int64\n",
      "Property_Area_2     981 non-null int64\n",
      "dtypes: float64(5), int64(9), object(1)\n",
      "memory usage: 115.0+ KB\n"
     ]
    },
    {
     "data": {
      "text/plain": [
       "(None, (981, 15))"
      ]
     },
     "execution_count": 8,
     "metadata": {},
     "output_type": "execute_result"
    }
   ],
   "source": [
    "df.info(), df.shape"
   ]
  },
  {
   "cell_type": "code",
   "execution_count": 25,
   "metadata": {},
   "outputs": [],
   "source": [
    "cat_vars=['Gender', 'Dependents', 'Self_Employed']\n",
    "data_vars=df.columns.values.tolist()\n",
    "to_keep=[i for i in data_vars if i not in cat_vars]"
   ]
  },
  {
   "cell_type": "code",
   "execution_count": 26,
   "metadata": {},
   "outputs": [
    {
     "data": {
      "text/plain": [
       "(array(['Loan_ID', 'Married', 'Education', 'Loan_Amount_Term',\n",
       "        'Credit_History', 'Loan_Status', 'TotalIncome_log',\n",
       "        'LoanAmount_log', 'LoanIncome_log', 'Property_Area_0',\n",
       "        'Property_Area_1', 'Property_Area_2'], dtype=object),\n",
       " Loan_ID              object\n",
       " Married               int64\n",
       " Education             int64\n",
       " Loan_Amount_Term    float64\n",
       " Credit_History      float64\n",
       " Loan_Status           int64\n",
       " TotalIncome_log     float64\n",
       " LoanAmount_log      float64\n",
       " LoanIncome_log      float64\n",
       " Property_Area_0       int64\n",
       " Property_Area_1       int64\n",
       " Property_Area_2       int64\n",
       " dtype: object,\n",
       " (769, 12))"
      ]
     },
     "execution_count": 26,
     "metadata": {},
     "output_type": "execute_result"
    }
   ],
   "source": [
    "data_final=df[to_keep]\n",
    "data_final.columns.values, data_final.dtypes, data_final.shape"
   ]
  },
  {
   "cell_type": "code",
   "execution_count": 27,
   "metadata": {},
   "outputs": [
    {
     "data": {
      "text/plain": [
       "((769, 15), (769,), (769, 10))"
      ]
     },
     "execution_count": 27,
     "metadata": {},
     "output_type": "execute_result"
    }
   ],
   "source": [
    "y_data = data_final['Loan_Status']\n",
    "vars =['Loan_Status','Loan_ID']\n",
    "X_data = data_final.drop(vars, axis=1)                  \n",
    "df.shape, y_data.shape, X_data.shape"
   ]
  },
  {
   "cell_type": "markdown",
   "metadata": {},
   "source": [
    "# 2 MODELING"
   ]
  },
  {
   "cell_type": "markdown",
   "metadata": {},
   "source": [
    "# What About Train and Validation Datasets?"
   ]
  },
  {
   "cell_type": "code",
   "execution_count": 28,
   "metadata": {},
   "outputs": [
    {
     "data": {
      "text/plain": [
       "((538, 10), (231, 10), (538,), (231,))"
      ]
     },
     "execution_count": 28,
     "metadata": {},
     "output_type": "execute_result"
    }
   ],
   "source": [
    "#Divide X_data and y_data into train and test data\n",
    "X_train, X_test, y_train,  y_test = train_test_split(X_data, y_data, test_size=0.30, random_state=0,\n",
    "                                                                                      stratify= y_data, shuffle=True)\n",
    "X_train.shape, X_test.shape, y_train.shape, y_test.shape"
   ]
  },
  {
   "cell_type": "code",
   "execution_count": 29,
   "metadata": {},
   "outputs": [
    {
     "data": {
      "text/plain": [
       "((538, 10), (231, 10))"
      ]
     },
     "execution_count": 29,
     "metadata": {},
     "output_type": "execute_result"
    }
   ],
   "source": [
    "from sklearn.preprocessing import StandardScaler\n",
    "\n",
    "sc = StandardScaler()  \n",
    "X_train = sc.fit_transform(X_train)  \n",
    "X_test = sc.transform(X_test)  \n",
    "\n",
    "X_train.shape, X_test.shape"
   ]
  },
  {
   "cell_type": "markdown",
   "metadata": {},
   "source": [
    "# What About Reduce Dimension Using PCA?"
   ]
  },
  {
   "cell_type": "markdown",
   "metadata": {},
   "source": [
    "## Reduce dimension general analysis"
   ]
  },
  {
   "cell_type": "code",
   "execution_count": 30,
   "metadata": {},
   "outputs": [
    {
     "data": {
      "text/plain": [
       "((769, 10), (769, 8))"
      ]
     },
     "execution_count": 30,
     "metadata": {},
     "output_type": "execute_result"
    }
   ],
   "source": [
    "from sklearn.preprocessing import StandardScaler\n",
    "\n",
    "sc = StandardScaler()  \n",
    "data_sc = sc.fit_transform(X_data)  \n",
    "\n",
    "#Reduce dimension into 95% information\n",
    "pca = PCA(0.95)\n",
    "data_pca = pca.fit_transform(data_sc)\n",
    "data_sc.shape, data_pca.shape"
   ]
  },
  {
   "cell_type": "code",
   "execution_count": 31,
   "metadata": {},
   "outputs": [
    {
     "data": {
      "text/plain": [
       "Text(0,0.5,'cumulative explained variance')"
      ]
     },
     "execution_count": 31,
     "metadata": {},
     "output_type": "execute_result"
    },
    {
     "data": {
      "image/png": "[encoded data removed]",
      "text/plain": [
       "<matplotlib.figure.Figure at 0xcae37b8>"
      ]
     },
     "metadata": {},
     "output_type": "display_data"
    }
   ],
   "source": [
    "#plot to visualize % of total variance accumulated by the components\n",
    "pca = PCA().fit(data_sc)\n",
    "plt.plot(np.cumsum(pca.explained_variance_ratio_))\n",
    "plt.xlabel('number of components')\n",
    "plt.ylabel('cumulative explained variance')"
   ]
  },
  {
   "cell_type": "code",
   "execution_count": 32,
   "metadata": {},
   "outputs": [
    {
     "data": {
      "text/plain": [
       "Text(0.5,1,'Projection on the Two First Principal Components ')"
      ]
     },
     "execution_count": 32,
     "metadata": {},
     "output_type": "execute_result"
    },
    {
     "data": {
      "image/png": "[encoded data removed]",
      "text/plain": [
       "<matplotlib.figure.Figure at 0xcb15400>"
      ]
     },
     "metadata": {},
     "output_type": "display_data"
    }
   ],
   "source": [
    "#plot of two first components\n",
    "plt.subplots(nrows=1, ncols=1, figsize=(12,7))\n",
    "plt.scatter(data_pca[:,0], data_pca[:,1], c=y_data, cmap=plt.get_cmap('nipy_spectral', 10))\n",
    "plt.colorbar(label='label')\n",
    "plt.xlabel('PC1')\n",
    "plt.ylabel('PC2')\n",
    "plt.title('Projection on the Two First Principal Components ')\n",
    "#cbar = plt.colorbar()\n",
    "#cbar.set_label('Time [ps]')"
   ]
  },
  {
   "cell_type": "markdown",
   "metadata": {},
   "source": [
    "## Reduce dimension into 95% information"
   ]
  },
  {
   "cell_type": "code",
   "execution_count": 33,
   "metadata": {},
   "outputs": [
    {
     "data": {
      "text/plain": [
       "((538, 10), (231, 10), (769, 10))"
      ]
     },
     "execution_count": 33,
     "metadata": {},
     "output_type": "execute_result"
    }
   ],
   "source": [
    "from sklearn.decomposition import PCA\n",
    "\n",
    "pca = PCA(n_components=10)  \n",
    "X_train_pca = pca.fit_transform(X_train)  \n",
    "X_test_pca = pca.transform(X_test)\n",
    "data_pca = pca.transform(X_data)\n",
    "\n",
    "X_train_pca.shape, X_test_pca.shape, data_pca.shape"
   ]
  },
  {
   "cell_type": "markdown",
   "metadata": {},
   "source": [
    "# What About Building the Model?"
   ]
  },
  {
   "cell_type": "markdown",
   "metadata": {},
   "source": [
    "## Checking Global Model Significance"
   ]
  },
  {
   "cell_type": "code",
   "execution_count": 34,
   "metadata": {},
   "outputs": [
    {
     "name": "stdout",
     "output_type": "stream",
     "text": [
      "                 Generalized Linear Model Regression Results                  \n",
      "==============================================================================\n",
      "Dep. Variable:            Loan_Status   No. Observations:                  769\n",
      "Model:                            GLM   Df Residuals:                      760\n",
      "Model Family:                Binomial   Df Model:                            8\n",
      "Link Function:                  logit   Scale:                             1.0\n",
      "Method:                          IRLS   Log-Likelihood:                -270.24\n",
      "Date:                Tue, 11 Sep 2018   Deviance:                       540.47\n",
      "Time:                        18:44:58   Pearson chi2:                     769.\n",
      "No. Iterations:                     6                                         \n",
      "==============================================================================\n",
      "                 coef    std err          z      P>|z|      [0.025      0.975]\n",
      "------------------------------------------------------------------------------\n",
      "x1            -0.2914      0.157     -1.860      0.063      -0.598       0.016\n",
      "x2             0.5206      0.202      2.582      0.010       0.125       0.916\n",
      "x3             1.4840      0.247      6.008      0.000       1.000       1.968\n",
      "x4             0.1309      0.205      0.640      0.522      -0.270       0.532\n",
      "x5            -0.3395      0.202     -1.677      0.094      -0.736       0.057\n",
      "x6            -4.4441      0.395    -11.240      0.000      -5.219      -3.669\n",
      "x7             0.7583      0.203      3.733      0.000       0.360       1.156\n",
      "x8             0.2310      0.275      0.841      0.400      -0.307       0.769\n",
      "x9            -0.1111      0.243     -0.457      0.648      -0.588       0.366\n",
      "x10           -1.7066      3.672     -0.465      0.642      -8.904       5.491\n",
      "==============================================================================\n"
     ]
    }
   ],
   "source": [
    "from __future__ import print_function\n",
    "import statsmodels.api as sm\n",
    "import pandas.tseries\n",
    "from pandas.core import datetools\n",
    "glm_binom = sm.GLM(y_data, data_pca, family=sm.families.Binomial())\n",
    "res = glm_binom.fit()\n",
    "print(res.summary())"
   ]
  },
  {
   "cell_type": "markdown",
   "metadata": {},
   "source": [
    "For at least four of the predictor variables is less than 0.05. Therefore, assuming a classic risk of 5% we can accept that the model is <u><i>globally valid</i></u> since most of the predictor variables are significantly valid for the model."
   ]
  },
  {
   "cell_type": "markdown",
   "metadata": {},
   "source": [
    "## What values for the model's hyperparameters would be selected?"
   ]
  },
  {
   "cell_type": "code",
   "execution_count": 35,
   "metadata": {},
   "outputs": [
    {
     "name": "stdout",
     "output_type": "stream",
     "text": [
      "Total running time (H: M: S. ThS) 0:00:15.875908 seconds.\n"
     ]
    }
   ],
   "source": [
    "# Import necessary modules\n",
    "from scipy.stats import randint\n",
    "from sklearn.linear_model import LogisticRegression\n",
    "#from sklearn.model_selection import RandomizedSearchCV\n",
    "from sklearn.model_selection import GridSearchCV\n",
    "from sklearn.model_selection import StratifiedKFold\n",
    "\n",
    "startTime = datetime.now()\n",
    "# Setup the parameters and distributions to sample from: param_dist\n",
    "param_grid = {'C': np.arange(1e-05, 3, 0.1),      \n",
    "           \"solver\" : ['newton-cg', 'lbfgs']}\n",
    "scoring = {'Accuracy': 'accuracy', 'AUC': 'roc_auc', 'Log_loss': 'neg_log_loss'}\n",
    "\n",
    "gs = GridSearchCV(LogisticRegression(), return_train_score=True,\n",
    "param_grid=param_grid, scoring=scoring, cv=10, refit='Accuracy')\n",
    "gs.fit(X_train_pca, y_train)\n",
    "#results = gs.cv_results_\n",
    "print ('Total running time (H: M: S. ThS)', datetime.now()-startTime, 'seconds.')"
   ]
  },
  {
   "cell_type": "code",
   "execution_count": 36,
   "metadata": {},
   "outputs": [
    {
     "name": "stdout",
     "output_type": "stream",
     "text": [
      "====================\n",
      "best estimator: LogisticRegression(C=0.10001, class_weight=None, dual=False,\n",
      "          fit_intercept=True, intercept_scaling=1, max_iter=100,\n",
      "          multi_class='ovr', n_jobs=1, penalty='l2', random_state=None,\n",
      "          solver='newton-cg', tol=0.0001, verbose=0, warm_start=False)\n",
      "best params: {'C': 0.10001, 'solver': 'newton-cg'}\n",
      "best score: 0.8773234200743495\n",
      "====================\n"
     ]
    }
   ],
   "source": [
    "# Print the tuned parameters and score\n",
    "print('='*20)\n",
    "print(\"best estimator: \" + str(gs.best_estimator_))\n",
    "print(\"best params: \" + str(gs.best_params_))\n",
    "print('best score:', gs.best_score_)\n",
    "print('='*20)"
   ]
  },
  {
   "cell_type": "markdown",
   "metadata": {},
   "source": [
    "## Using best parameters to Fit, Evaluate, and Make predictions"
   ]
  },
  {
   "cell_type": "markdown",
   "metadata": {},
   "source": [
    "### Fitting the Model"
   ]
  },
  {
   "cell_type": "code",
   "execution_count": 37,
   "metadata": {},
   "outputs": [
    {
     "data": {
      "text/plain": [
       "LogisticRegression(C=0.10001, class_weight=None, dual=False,\n",
       "          fit_intercept=True, intercept_scaling=1, max_iter=100,\n",
       "          multi_class='ovr', n_jobs=-1, penalty='l2', random_state=0,\n",
       "          solver='newton-cg', tol=0.0001, verbose=0, warm_start=False)"
      ]
     },
     "execution_count": 37,
     "metadata": {},
     "output_type": "execute_result"
    }
   ],
   "source": [
    "#X_train, X_test, y_train, y_test = train_test_split(X, y, test_size=0.3, random_state=0)\n",
    "from sklearn.linear_model import LogisticRegression\n",
    "from sklearn import metrics\n",
    "logreg = LogisticRegression(C=0.10001, solver='newton-cg', n_jobs=-1, random_state=0)\n",
    "logreg.fit(X_train_pca, y_train)"
   ]
  },
  {
   "cell_type": "markdown",
   "metadata": {},
   "source": [
    "### Evaluating the Model"
   ]
  },
  {
   "cell_type": "code",
   "execution_count": 38,
   "metadata": {},
   "outputs": [
    {
     "name": "stdout",
     "output_type": "stream",
     "text": [
      "With LR train datasets () accuracy is:  0.8773\n"
     ]
    }
   ],
   "source": [
    "# Evaluating LR model\n",
    "print('With LR train datasets () accuracy is: ',round(logreg.score(X_train_pca,y_train),4)) # accuracy "
   ]
  },
  {
   "cell_type": "code",
   "execution_count": 39,
   "metadata": {},
   "outputs": [
    {
     "name": "stdout",
     "output_type": "stream",
     "text": [
      "Accuracy based on X_test_pca, y_test:  0.8874458874458875\n",
      "\n",
      "Confusion Matrix:\n",
      "  [[ 34  24]\n",
      " [  2 171]]\n",
      "With LR train datasets () accuracy is:  0.8773\n",
      "             precision    recall  f1-score   support\n",
      "\n",
      "          0       0.94      0.59      0.72        58\n",
      "          1       0.88      0.99      0.93       173\n",
      "\n",
      "avg / total       0.89      0.89      0.88       231\n",
      "\n"
     ]
    }
   ],
   "source": [
    "predictions = logreg.predict(X_test_pca)\n",
    "print('Accuracy based on X_test_pca, y_test: ',accuracy_score(y_test, predictions))\n",
    "print('')\n",
    "print('Confusion Matrix:\\n ',confusion_matrix(y_test, predictions))\n",
    "print('With LR train datasets () accuracy is: ',round(logreg.score(X_train_pca,y_train),4)) # accuracy ',confusion_matrix(y_test, predictions))\n",
    "print(classification_report(y_test, predictions))"
   ]
  },
  {
   "cell_type": "markdown",
   "metadata": {},
   "source": [
    "Precision, recall and f1-score are metrics to measure the accuracy of classification models. A general explanation can be got in [Wikipedia](https://en.wikipedia.org/wiki/Evaluation_of_binary_classifiers).\n",
    "\n",
    "Based on LR testing datasets (X_test_pca, y_test), looks like we misclassified 26 clients, leaving us with a 88.85% accuracy rate  (with 89% precision and 89% recall). Meantime, With LR train datasets (X_train, y_train) accuracy is  87.73%"
   ]
  },
  {
   "cell_type": "markdown",
   "metadata": {},
   "source": [
    "#### Getting Model's Beta Coefficients"
   ]
  },
  {
   "cell_type": "code",
   "execution_count": 41,
   "metadata": {},
   "outputs": [
    {
     "name": "stdout",
     "output_type": "stream",
     "text": [
      "[1.25834876]\n",
      "[[-1.27306066e-01  1.29422720e-01  3.38094117e-01  2.29662209e-02\n",
      "  -1.01249778e-01 -1.32095707e+00  2.33642172e-01 -7.75171521e-02\n",
      "  -1.46961553e-16 -1.47302695e-17]]\n"
     ]
    }
   ],
   "source": [
    "# print the intercept and coefficients\n",
    "print(logreg.intercept_)\n",
    "print(logreg.coef_)"
   ]
  },
  {
   "cell_type": "code",
   "execution_count": 42,
   "metadata": {},
   "outputs": [
    {
     "data": {
      "text/plain": [
       "Index(['Married', 'Education', 'Loan_Amount_Term', 'Credit_History',\n",
       "       'TotalIncome_log', 'LoanAmount_log', 'LoanIncome_log',\n",
       "       'Property_Area_0', 'Property_Area_1', 'Property_Area_2'],\n",
       "      dtype='object')"
      ]
     },
     "execution_count": 42,
     "metadata": {},
     "output_type": "execute_result"
    }
   ],
   "source": [
    "#feature_cols = data_final.columns.drop(['Loan_ID', 'Loan_Status'])\n",
    "feature_cols = X_data.columns\n",
    "feature_cols"
   ]
  },
  {
   "cell_type": "code",
   "execution_count": 43,
   "metadata": {},
   "outputs": [
    {
     "data": {
      "text/plain": [
       "[('Married', -0.12730606562421956),\n",
       " ('Education', 0.12942272016609305),\n",
       " ('Loan_Amount_Term', 0.3380941170240933),\n",
       " ('Credit_History', 0.022966220945207512),\n",
       " ('TotalIncome_log', -0.10124977806392518),\n",
       " ('LoanAmount_log', -1.3209570676498508),\n",
       " ('LoanIncome_log', 0.23364217244149643),\n",
       " ('Property_Area_0', -0.07751715206112861),\n",
       " ('Property_Area_1', -1.4696155316966337e-16),\n",
       " ('Property_Area_2', -1.47302694917959e-17)]"
      ]
     },
     "execution_count": 43,
     "metadata": {},
     "output_type": "execute_result"
    }
   ],
   "source": [
    "##pair the feature names with the coefficients\n",
    "list(zip(feature_cols,  logreg.coef_[0]))"
   ]
  },
  {
   "cell_type": "markdown",
   "metadata": {},
   "source": [
    "### Making Predictions"
   ]
  },
  {
   "cell_type": "markdown",
   "metadata": {},
   "source": [
    "#### Based on the training dataset"
   ]
  },
  {
   "cell_type": "markdown",
   "metadata": {},
   "source": [
    "The function cross_val_predict has a similar interface to cross_val_score, but returns, for each element in the input, the prediction that was obtained for that element when it was in the test set obtained from the partition over X_train (in our case)."
   ]
  },
  {
   "cell_type": "code",
   "execution_count": 44,
   "metadata": {},
   "outputs": [
    {
     "name": "stdout",
     "output_type": "stream",
     "text": [
      "Prediction: {} [1 1 1 1 1 1 1 0 1 1 1 1 1 1 1 1 0 1 1 1 1 1 1 1 0 1 1 1 1 1 1 1 1 1 1 1 1\n",
      " 1 0 1 1 1 0 1 1 0 1 0 1 1 1 1 0 1 1 0 1 1 1 1 0 1 1 1 1 1 1 1 0 1 1 1 1 1\n",
      " 1 1 1 1 1 1 1 1 0 1 1 1 0 1 1 1 1 1 0 1 1 1 0 1 1 1 1 1 0 1 1 1 1 1 1 1 1\n",
      " 1 1 0 1 1 1 1 1 1 1 1 1 1 1 1 1 1 1 1 1 1 1 1 0 1 0 1 0 0 1 1 1 1 1 1 1 1\n",
      " 0 0 1 1 1 1 1 1 1 1 1 1 0 1 1 1 1 0 0 1 0 1 1 1 1 0 0 1 1 0 1 1 1 1 1 1 1\n",
      " 1 1 1 1 1 1 1 1 1 1 1 1 1 0 1 1 1 1 1 1 1 1 1 1 1 1 1 1 1 1 0 1 1 1 1 1 1\n",
      " 1 1 1 1 1 1 1 1 1 1 0 0 1 1 1 0 1 0 1 1 0 1 1 1 1 1 0 1 1 1 1 1 1 1 0 1 1\n",
      " 1 1 1 0 1 0 1 1 1 1 1 1 0 1 1 1 1 1 1 1 1 1 1 1 1 1 1 0 1 1 1 1 1 1 1 1 1\n",
      " 0 1 1 0 0 1 1 1 1 0 1 1 1 1 1 1 1 1 1 1 1 1 1 0 1 0 1 1 1 1 1 1 1 1 1 1 1\n",
      " 1 1 1 0 1 1 1 1 0 0 1 0 1 1 1 0 1 1 0 1 1 0 1 1 1 1 1 1 1 0 0 1 1 0 1 0 1\n",
      " 1 1 0 1 1 1 1 0 1 0 1 1 1 0 1 1 1 1 1 1 1 1 1 1 1 1 1 1 1 1 1 1 1 1 1 1 1\n",
      " 1 0 1 1 1 1 1 1 1 1 1 1 1 1 1 1 1 1 0 1 1 1 1 1 1 1 1 0 1 0 0 1 1 1 1 0 1\n",
      " 0 1 1 1 1 0 0 1 1 1 1 1 1 1 1 1 1 1 1 1 1 1 1 1 1 1 1 1 1 0 1 1 1 1 1 1 0\n",
      " 1 1 0 1 0 1 1 1 1 1 1 1 1 1 1 1 1 1 1 0 1 1 1 1 1 1 1 1 1 1 1 1 1 1 1 1 1\n",
      " 1 1 1 1 1 1 0 1 1 1 1 1 1 1 1 1 1 1 1 0]\n"
     ]
    }
   ],
   "source": [
    "predictions = cross_val_predict(logreg, X_train_pca, y_train, cv=10)\n",
    "print('Prediction: {}', predictions)"
   ]
  },
  {
   "cell_type": "markdown",
   "metadata": {},
   "source": [
    "#### Based on the test dataset"
   ]
  },
  {
   "cell_type": "markdown",
   "metadata": {},
   "source": [
    "Now we used the function predict which is regularly the one to be used to get the predictions on a new dataset. In our case, the new dataset is the X_test one."
   ]
  },
  {
   "cell_type": "code",
   "execution_count": 47,
   "metadata": {},
   "outputs": [
    {
     "name": "stdout",
     "output_type": "stream",
     "text": [
      "Total running time (H: M: S. ThS) 0:00:02.084119 seconds.\n"
     ]
    }
   ],
   "source": [
    "# train your model using all data.\n",
    "startTime = datetime.now()\n",
    "logreg.fit(data_pca, y_data) \n",
    "print ('Total running time (H: M: S. ThS)', datetime.now()-startTime, 'seconds.')"
   ]
  },
  {
   "cell_type": "code",
   "execution_count": 45,
   "metadata": {},
   "outputs": [
    {
     "name": "stdout",
     "output_type": "stream",
     "text": [
      "Prediction: {} [1 1 1 1 1 1 1 1 1 0 1 1 0 1 0 1 1 1 0 1 1 1 1 1 1 1 1 1 1 1 1 0 0 1 1 1 1\n",
      " 1 0 1 1 1 1 1 0 1 1 1 1 0 1 1 1 1 1 1 1 1 0 1 0 1 0 1 0 0 1 1 1 1 1 0 1 1\n",
      " 1 1 1 1 1 0 1 1 1 1 1 1 1 1 1 1 1 1 1 1 1 1 1 1 1 1 1 1 0 1 0 0 1 1 1 0 1\n",
      " 1 0 1 1 0 1 1 1 1 0 1 1 1 1 1 0 1 1 0 1 1 1 1 1 1 1 1 1 1 1 1 1 1 1 0 1 1\n",
      " 1 1 1 0 1 1 0 1 1 1 1 1 1 0 1 1 0 1 1 1 1 1 1 1 1 1 1 0 0 1 1 1 1 1 1 1 1\n",
      " 1 1 1 1 1 1 1 1 0 0 1 1 1 1 1 1 1 1 1 1 1 1 1 1 1 0 1 1 1 1 1 1 1 0 1 1 1\n",
      " 1 1 1 1 1 1 1 1 1]\n"
     ]
    }
   ],
   "source": [
    "predictions = logreg.predict(X_test_pca)\n",
    "print('Prediction: {}', predictions)"
   ]
  },
  {
   "cell_type": "markdown",
   "metadata": {},
   "source": [
    "# III REDUCED DATASET WITHOUT MISSING VALUES"
   ]
  },
  {
   "cell_type": "markdown",
   "metadata": {},
   "source": [
    "# 1 LOADING DATA"
   ]
  },
  {
   "cell_type": "code",
   "execution_count": 19,
   "metadata": {},
   "outputs": [
    {
     "data": {
      "text/plain": [
       "'C:\\\\Users\\\\Alvaro\\\\Documents\\\\R-Python-Projects_April042018\\\\Python_Projects\\\\Machine-Learning\\\\LogisticRegression\\\\Logistic3_Loan'"
      ]
     },
     "execution_count": 19,
     "metadata": {},
     "output_type": "execute_result"
    }
   ],
   "source": [
    "#Checking working directory\n",
    "# import os\n",
    "os.getcwd()"
   ]
  },
  {
   "cell_type": "code",
   "execution_count": 20,
   "metadata": {},
   "outputs": [
    {
     "data": {
      "text/plain": [
       "['.ipynb_checkpoints',\n",
       " 'Backup',\n",
       " 'For REDUCED Dataset model development.txt',\n",
       " 'How to plot multiple ROC curves in one plot with legend and AUC scores in python_ - Stack Overflow.pdf',\n",
       " 'Link to  Logistic stuff here.txt',\n",
       " 'Links to LR3 GITHUBE and Nbviewer.txt',\n",
       " 'LoanFree_LRModel.csv',\n",
       " 'LoanFull.csv',\n",
       " 'Loan_FullProcess.csv',\n",
       " 'Loan_LRModel.csv',\n",
       " 'Loan_Prediction',\n",
       " 'Log_ROC.png',\n",
       " 'Material Support',\n",
       " 'Multiple classifiers_ accuracy tests, ROC curves _ Kaggle.pdf',\n",
       " 'PYTHON-MLearning_LR1_Introduction.ipynb',\n",
       " 'PYTHON-MLearning_LR2_OPTIMAL-RFECV_Final.ipynb',\n",
       " 'PYTHON-MLearning_LR3_Classical.ipynb',\n",
       " 'PYTHON-MLearning_LR3_Exploratory_FEngineering_Final.ipynb',\n",
       " 'PYTHON-MLearning_LR3_PCA.ipynb',\n",
       " 'Summaries.xlsx',\n",
       " 'To Put in the GitHube Menu.txt',\n",
       " 'Visual']"
      ]
     },
     "execution_count": 20,
     "metadata": {},
     "output_type": "execute_result"
    }
   ],
   "source": [
    "#List files in a directory\n",
    "os.listdir()"
   ]
  },
  {
   "cell_type": "code",
   "execution_count": 21,
   "metadata": {},
   "outputs": [
    {
     "data": {
      "text/plain": [
       "Index(['Loan_ID', 'Gender', 'Married', 'Dependents', 'Education',\n",
       "       'Self_Employed', 'Loan_Amount_Term', 'Credit_History', 'Loan_Status',\n",
       "       'TotalIncome_log', 'LoanAmount_log', 'LoanIncome_log',\n",
       "       'Property_Area_0', 'Property_Area_1', 'Property_Area_2'],\n",
       "      dtype='object')"
      ]
     },
     "execution_count": 21,
     "metadata": {},
     "output_type": "execute_result"
    }
   ],
   "source": [
    "# read csv (comma separated value) into data\n",
    "df=pd.read_csv('LoanFree_LRModel.csv')\n",
    "df.columns"
   ]
  },
  {
   "cell_type": "code",
   "execution_count": 46,
   "metadata": {},
   "outputs": [],
   "source": [
    "cat_vars=['Gender', 'Dependents', 'Self_Employed']\n",
    "data_vars=df.columns.values.tolist()\n",
    "to_keep=[i for i in data_vars if i not in cat_vars]"
   ]
  },
  {
   "cell_type": "code",
   "execution_count": 47,
   "metadata": {},
   "outputs": [
    {
     "data": {
      "text/plain": [
       "(array(['Loan_ID', 'Married', 'Education', 'Loan_Amount_Term',\n",
       "        'Credit_History', 'Loan_Status', 'TotalIncome_log',\n",
       "        'LoanAmount_log', 'LoanIncome_log', 'Property_Area_0',\n",
       "        'Property_Area_1', 'Property_Area_2'], dtype=object),\n",
       " Loan_ID              object\n",
       " Married               int64\n",
       " Education             int64\n",
       " Loan_Amount_Term    float64\n",
       " Credit_History      float64\n",
       " Loan_Status           int64\n",
       " TotalIncome_log     float64\n",
       " LoanAmount_log      float64\n",
       " LoanIncome_log      float64\n",
       " Property_Area_0       int64\n",
       " Property_Area_1       int64\n",
       " Property_Area_2       int64\n",
       " dtype: object,\n",
       " (769, 12))"
      ]
     },
     "execution_count": 47,
     "metadata": {},
     "output_type": "execute_result"
    }
   ],
   "source": [
    "data_final=df[to_keep]\n",
    "data_final.columns.values, data_final.dtypes, data_final.shape"
   ]
  },
  {
   "cell_type": "code",
   "execution_count": 48,
   "metadata": {},
   "outputs": [
    {
     "data": {
      "text/plain": [
       "((769, 15), (769,), (769, 10))"
      ]
     },
     "execution_count": 48,
     "metadata": {},
     "output_type": "execute_result"
    }
   ],
   "source": [
    "y_data = data_final['Loan_Status']\n",
    "vars =['Loan_Status','Loan_ID']\n",
    "X_data = data_final.drop(vars, axis=1)                  \n",
    "df.shape, y_data.shape, X_data.shape"
   ]
  },
  {
   "cell_type": "markdown",
   "metadata": {},
   "source": [
    "# 2 MODELING"
   ]
  },
  {
   "cell_type": "markdown",
   "metadata": {},
   "source": [
    "# What About Train and Validation Datasets?"
   ]
  },
  {
   "cell_type": "code",
   "execution_count": 49,
   "metadata": {},
   "outputs": [
    {
     "data": {
      "text/plain": [
       "((538, 10), (231, 10), (538,), (231,))"
      ]
     },
     "execution_count": 49,
     "metadata": {},
     "output_type": "execute_result"
    }
   ],
   "source": [
    "#Divide X_data and y_data into train and test data\n",
    "X_train, X_test, y_train,  y_test = train_test_split(X_data, y_data, test_size=0.30, random_state=0,\n",
    "                                                                                      stratify= y_data, shuffle=True)\n",
    "X_train.shape, X_test.shape, y_train.shape, y_test.shape"
   ]
  },
  {
   "cell_type": "code",
   "execution_count": 50,
   "metadata": {},
   "outputs": [
    {
     "data": {
      "text/plain": [
       "((538, 10), (231, 10))"
      ]
     },
     "execution_count": 50,
     "metadata": {},
     "output_type": "execute_result"
    }
   ],
   "source": [
    "from sklearn.preprocessing import StandardScaler\n",
    "\n",
    "sc = StandardScaler()  \n",
    "X_train = sc.fit_transform(X_train)  \n",
    "X_test = sc.transform(X_test)  \n",
    "\n",
    "X_train.shape, X_test.shape"
   ]
  },
  {
   "cell_type": "markdown",
   "metadata": {},
   "source": [
    "# What About Reduce Dimension Using PCA?"
   ]
  },
  {
   "cell_type": "markdown",
   "metadata": {},
   "source": [
    "## Reduce dimension general analysis"
   ]
  },
  {
   "cell_type": "code",
   "execution_count": 51,
   "metadata": {},
   "outputs": [],
   "source": [
    "from sklearn.preprocessing import StandardScaler\n",
    "\n",
    "sc = StandardScaler()  \n",
    "data_sc = sc.fit_transform(X_data)  "
   ]
  },
  {
   "cell_type": "code",
   "execution_count": 52,
   "metadata": {},
   "outputs": [
    {
     "data": {
      "text/plain": [
       "((769, 10), (769, 8))"
      ]
     },
     "execution_count": 52,
     "metadata": {},
     "output_type": "execute_result"
    }
   ],
   "source": [
    "#Reduce dimension into 95% information\n",
    "pca = PCA(0.95)\n",
    "data_pca = pca.fit_transform(data_sc)\n",
    "data_sc.shape, data_pca.shape"
   ]
  },
  {
   "cell_type": "code",
   "execution_count": 53,
   "metadata": {},
   "outputs": [
    {
     "data": {
      "text/plain": [
       "Text(0,0.5,'cumulative explained variance')"
      ]
     },
     "execution_count": 53,
     "metadata": {},
     "output_type": "execute_result"
    },
    {
     "data": {
      "image/png": "[encoded data removed]",
      "text/plain": [
       "<matplotlib.figure.Figure at 0xcb153c8>"
      ]
     },
     "metadata": {},
     "output_type": "display_data"
    }
   ],
   "source": [
    "#plot to visualize % of total variance accumulated by the components\n",
    "pca = PCA().fit(data_sc)\n",
    "plt.plot(np.cumsum(pca.explained_variance_ratio_))\n",
    "plt.xlabel('number of components')\n",
    "plt.ylabel('cumulative explained variance')"
   ]
  },
  {
   "cell_type": "code",
   "execution_count": 54,
   "metadata": {},
   "outputs": [
    {
     "data": {
      "text/plain": [
       "Text(0.5,1,'Projection on the Two First Principal Components ')"
      ]
     },
     "execution_count": 54,
     "metadata": {},
     "output_type": "execute_result"
    },
    {
     "data": {
      "image/png": "[encoded data removed]",
      "text/plain": [
       "<matplotlib.figure.Figure at 0xcc6d7b8>"
      ]
     },
     "metadata": {},
     "output_type": "display_data"
    }
   ],
   "source": [
    "#plot of two first components\n",
    "plt.subplots(nrows=1, ncols=1, figsize=(12,7))\n",
    "plt.scatter(data_pca[:,0], data_pca[:,1], c=y_data, cmap=plt.get_cmap('nipy_spectral', 10))\n",
    "plt.colorbar(label='label')\n",
    "plt.xlabel('PC1')\n",
    "plt.ylabel('PC2')\n",
    "plt.title('Projection on the Two First Principal Components ')\n",
    "#cbar = plt.colorbar()\n",
    "#cbar.set_label('Time [ps]')\n"
   ]
  },
  {
   "cell_type": "markdown",
   "metadata": {},
   "source": [
    "## Reduce dimension into 95% information"
   ]
  },
  {
   "cell_type": "code",
   "execution_count": 55,
   "metadata": {},
   "outputs": [
    {
     "data": {
      "text/plain": [
       "((538, 10), (231, 10), (769, 10))"
      ]
     },
     "execution_count": 55,
     "metadata": {},
     "output_type": "execute_result"
    }
   ],
   "source": [
    "from sklearn.decomposition import PCA\n",
    "\n",
    "pca = PCA(n_components=10)  \n",
    "X_train_pca = pca.fit_transform(X_train)  \n",
    "X_test_pca = pca.transform(X_test)\n",
    "data_pca = pca.transform(X_data)\n",
    "\n",
    "X_train_pca.shape, X_test_pca.shape, data_pca.shape"
   ]
  },
  {
   "cell_type": "markdown",
   "metadata": {},
   "source": [
    "# What About Building the Model?"
   ]
  },
  {
   "cell_type": "markdown",
   "metadata": {},
   "source": [
    "## Checking Global Model Significance¶"
   ]
  },
  {
   "cell_type": "code",
   "execution_count": 56,
   "metadata": {},
   "outputs": [
    {
     "name": "stdout",
     "output_type": "stream",
     "text": [
      "                 Generalized Linear Model Regression Results                  \n",
      "==============================================================================\n",
      "Dep. Variable:            Loan_Status   No. Observations:                  769\n",
      "Model:                            GLM   Df Residuals:                      760\n",
      "Model Family:                Binomial   Df Model:                            8\n",
      "Link Function:                  logit   Scale:                             1.0\n",
      "Method:                          IRLS   Log-Likelihood:                -270.24\n",
      "Date:                Tue, 11 Sep 2018   Deviance:                       540.47\n",
      "Time:                        19:12:27   Pearson chi2:                     769.\n",
      "No. Iterations:                     6                                         \n",
      "==============================================================================\n",
      "                 coef    std err          z      P>|z|      [0.025      0.975]\n",
      "------------------------------------------------------------------------------\n",
      "x1            -0.2914      0.157     -1.860      0.063      -0.598       0.016\n",
      "x2             0.5206      0.202      2.582      0.010       0.125       0.916\n",
      "x3             1.4840      0.247      6.008      0.000       1.000       1.968\n",
      "x4             0.1309      0.205      0.640      0.522      -0.270       0.532\n",
      "x5            -0.3395      0.202     -1.677      0.094      -0.736       0.057\n",
      "x6            -4.4441      0.395    -11.240      0.000      -5.219      -3.669\n",
      "x7             0.7583      0.203      3.733      0.000       0.360       1.156\n",
      "x8             0.2310      0.275      0.841      0.400      -0.307       0.769\n",
      "x9            -0.1111      0.243     -0.457      0.648      -0.588       0.366\n",
      "x10           -1.7066      3.672     -0.465      0.642      -8.904       5.491\n",
      "==============================================================================\n"
     ]
    }
   ],
   "source": [
    "from __future__ import print_function\n",
    "import statsmodels.api as sm\n",
    "import pandas.tseries\n",
    "from pandas.core import datetools\n",
    "glm_binom = sm.GLM(y_data, data_pca, family=sm.families.Binomial())\n",
    "res = glm_binom.fit()\n",
    "print(res.summary())"
   ]
  },
  {
   "cell_type": "markdown",
   "metadata": {},
   "source": [
    "For at least four of the predictor variables is less than 0.05. Therefore, assuming a classic risk of 5% we can accept that the model is <u><i>globally valid</i></u> since most of the predictor variables are significantly valid for the model."
   ]
  },
  {
   "cell_type": "markdown",
   "metadata": {},
   "source": [
    "## What values for the model's hyperparameters would be selected?"
   ]
  },
  {
   "cell_type": "code",
   "execution_count": 57,
   "metadata": {},
   "outputs": [
    {
     "name": "stdout",
     "output_type": "stream",
     "text": [
      "Total running time (H: M: S. ThS) 0:00:46.228644 seconds.\n"
     ]
    }
   ],
   "source": [
    "# Import necessary modules\n",
    "from scipy.stats import randint\n",
    "from sklearn.linear_model import LogisticRegression\n",
    "#from sklearn.model_selection import RandomizedSearchCV\n",
    "from sklearn.model_selection import GridSearchCV\n",
    "from sklearn.model_selection import StratifiedKFold\n",
    "\n",
    "startTime = datetime.now()\n",
    "# Setup the parameters and distributions to sample from: param_dist\n",
    "param_grid = {'C': np.arange(1e-05, 3, 0.1),      \n",
    "           \"solver\" : ['newton-cg', 'lbfgs']}\n",
    "scoring = {'Accuracy': 'accuracy', 'AUC': 'roc_auc', 'Log_loss': 'neg_log_loss'}\n",
    "\n",
    "gs = GridSearchCV(LogisticRegression(), return_train_score=True,\n",
    "param_grid=param_grid, scoring=scoring, cv=10, refit='Accuracy')\n",
    "gs.fit(X_train_pca, y_train)\n",
    "#results = gs.cv_results_\n",
    "print ('Total running time (H: M: S. ThS)', datetime.now()-startTime, 'seconds.')\n"
   ]
  },
  {
   "cell_type": "code",
   "execution_count": 58,
   "metadata": {},
   "outputs": [
    {
     "name": "stdout",
     "output_type": "stream",
     "text": [
      "====================\n",
      "best estimator: LogisticRegression(C=0.10001, class_weight=None, dual=False,\n",
      "          fit_intercept=True, intercept_scaling=1, max_iter=100,\n",
      "          multi_class='ovr', n_jobs=1, penalty='l2', random_state=None,\n",
      "          solver='newton-cg', tol=0.0001, verbose=0, warm_start=False)\n",
      "best params: {'C': 0.10001, 'solver': 'newton-cg'}\n",
      "best score: 0.8773234200743495\n",
      "====================\n"
     ]
    }
   ],
   "source": [
    "# Print the tuned parameters and score\n",
    "print('='*20)\n",
    "print(\"best estimator: \" + str(gs.best_estimator_))\n",
    "print(\"best params: \" + str(gs.best_params_))\n",
    "print('best score:', gs.best_score_)\n",
    "print('='*20)\n"
   ]
  },
  {
   "cell_type": "markdown",
   "metadata": {},
   "source": [
    "## Using best parameters to Fit and Evaluate the model"
   ]
  },
  {
   "cell_type": "markdown",
   "metadata": {},
   "source": [
    "### Fitting the Model"
   ]
  },
  {
   "cell_type": "code",
   "execution_count": 59,
   "metadata": {},
   "outputs": [
    {
     "data": {
      "text/plain": [
       "LogisticRegression(C=0.10001, class_weight=None, dual=False,\n",
       "          fit_intercept=True, intercept_scaling=1, max_iter=100,\n",
       "          multi_class='ovr', n_jobs=-1, penalty='l2', random_state=0,\n",
       "          solver='newton-cg', tol=0.0001, verbose=0, warm_start=False)"
      ]
     },
     "execution_count": 59,
     "metadata": {},
     "output_type": "execute_result"
    }
   ],
   "source": [
    "#X_train, X_test, y_train, y_test = train_test_split(X, y, test_size=0.3, random_state=0)\n",
    "from sklearn.linear_model import LogisticRegression\n",
    "from sklearn import metrics\n",
    "logreg = LogisticRegression(C=0.10001, solver='newton-cg', n_jobs=-1, random_state=0)\n",
    "logreg.fit(X_train_pca, y_train)"
   ]
  },
  {
   "cell_type": "markdown",
   "metadata": {},
   "source": [
    "## Evaluating the Model"
   ]
  },
  {
   "cell_type": "code",
   "execution_count": 60,
   "metadata": {},
   "outputs": [
    {
     "name": "stdout",
     "output_type": "stream",
     "text": [
      "With LR train datasets () accuracy is:  0.8773\n"
     ]
    }
   ],
   "source": [
    "# Evaluating LR model\n",
    "print('With LR train datasets () accuracy is: ',round(logreg.score(X_train_pca,y_train),4)) # accuracy "
   ]
  },
  {
   "cell_type": "code",
   "execution_count": 61,
   "metadata": {},
   "outputs": [
    {
     "name": "stdout",
     "output_type": "stream",
     "text": [
      "Accuracy based on X_test_pca, y_test:  0.8874458874458875\n",
      "\n",
      "Confusion Matrix:\n",
      "  [[ 34  24]\n",
      " [  2 171]]\n",
      "With LR train datasets () accuracy is:  0.8773\n",
      "             precision    recall  f1-score   support\n",
      "\n",
      "          0       0.94      0.59      0.72        58\n",
      "          1       0.88      0.99      0.93       173\n",
      "\n",
      "avg / total       0.89      0.89      0.88       231\n",
      "\n"
     ]
    }
   ],
   "source": [
    "predictions = logreg.predict(X_test_pca)\n",
    "print('Accuracy based on X_test_pca, y_test: ',accuracy_score(y_test, predictions))\n",
    "print('')\n",
    "print('Confusion Matrix:\\n ',confusion_matrix(y_test, predictions))\n",
    "print('With LR train datasets () accuracy is: ',round(logreg.score(X_train_pca,y_train),4)) # accuracy ',confusion_matrix(y_test, predictions))\n",
    "print(classification_report(y_test, predictions))\n"
   ]
  },
  {
   "cell_type": "markdown",
   "metadata": {},
   "source": [
    "Precision, recall and f1-score are metrics to measure the accuracy of classification models. A general explanation can be got in Wikipedia.\n",
    "\n",
    "Based on LR testing datasets (X_test_pca, y_test), looks like we misclassified 26 clients, leaving us with a 88.75% accuracy rate (with 89% precision and 89% recall). Meantime, With LR train datasets (X_train, y_train) accuracy is 87.73%\n"
   ]
  },
  {
   "cell_type": "markdown",
   "metadata": {},
   "source": [
    "### Getting Model's Beta Coefficients"
   ]
  },
  {
   "cell_type": "code",
   "execution_count": 64,
   "metadata": {},
   "outputs": [
    {
     "name": "stdout",
     "output_type": "stream",
     "text": [
      "[1.25834876]\n",
      "[[-1.27306066e-01  1.29422720e-01  3.38094117e-01  2.29662209e-02\n",
      "  -1.01249778e-01 -1.32095707e+00  2.33642172e-01 -7.75171521e-02\n",
      "  -1.46961553e-16 -1.47302695e-17]]\n"
     ]
    }
   ],
   "source": [
    "# print the intercept and coefficients\n",
    "print(logreg.intercept_)\n",
    "print(logreg.coef_)"
   ]
  },
  {
   "cell_type": "code",
   "execution_count": 65,
   "metadata": {},
   "outputs": [
    {
     "data": {
      "text/plain": [
       "Index(['Married', 'Education', 'Loan_Amount_Term', 'Credit_History',\n",
       "       'TotalIncome_log', 'LoanAmount_log', 'LoanIncome_log',\n",
       "       'Property_Area_0', 'Property_Area_1', 'Property_Area_2'],\n",
       "      dtype='object')"
      ]
     },
     "execution_count": 65,
     "metadata": {},
     "output_type": "execute_result"
    }
   ],
   "source": [
    "#feature_cols = data_final.columns.drop(['Loan_ID', 'Loan_Status'])\n",
    "feature_cols = X_data.columns\n",
    "feature_cols"
   ]
  },
  {
   "cell_type": "code",
   "execution_count": 66,
   "metadata": {},
   "outputs": [
    {
     "data": {
      "text/plain": [
       "[('Married', -0.12730606562421956),\n",
       " ('Education', 0.12942272016609305),\n",
       " ('Loan_Amount_Term', 0.3380941170240933),\n",
       " ('Credit_History', 0.022966220945207512),\n",
       " ('TotalIncome_log', -0.10124977806392518),\n",
       " ('LoanAmount_log', -1.3209570676498508),\n",
       " ('LoanIncome_log', 0.23364217244149643),\n",
       " ('Property_Area_0', -0.07751715206112861),\n",
       " ('Property_Area_1', -1.4696155316966337e-16),\n",
       " ('Property_Area_2', -1.47302694917959e-17)]"
      ]
     },
     "execution_count": 66,
     "metadata": {},
     "output_type": "execute_result"
    }
   ],
   "source": [
    "##pair the feature names with the coefficients\n",
    "list(zip(feature_cols,  logreg.coef_[0]))"
   ]
  },
  {
   "cell_type": "markdown",
   "metadata": {},
   "source": [
    "# IV ROC CURVES TWO MODELS IN THE SAME PLOT"
   ]
  },
  {
   "cell_type": "code",
   "execution_count": 77,
   "metadata": {},
   "outputs": [
    {
     "data": {
      "image/png": "[encoded data removed]",
      "text/plain": [
       "<matplotlib.figure.Figure at 0xd71e898>"
      ]
     },
     "metadata": {},
     "output_type": "display_data"
    }
   ],
   "source": [
    "from sklearn.model_selection import train_test_split\n",
    "from sklearn.metrics import roc_curve,auc\n",
    "from sklearn.metrics import accuracy_score\n",
    "\n",
    "plt.subplots(1, 1, figsize=(10, 5))\n",
    "\n",
    "# Model1: FULL DATASET WITH MISSING VALUES FILLED\n",
    "\n",
    "# read csv (comma separated value) into data\n",
    "df=pd.read_csv('Loan_LRModel.csv')\n",
    "df.columns\n",
    "\n",
    "\n",
    "cat_vars=['Gender', 'Dependents', 'Self_Employed']\n",
    "data_vars=df.columns.values.tolist()\n",
    "to_keep=[i for i in data_vars if i not in cat_vars]\n",
    "\n",
    "data_final=df[to_keep]\n",
    "\n",
    "\n",
    "y_data = data_final['Loan_Status']\n",
    "vars =['Loan_Status','Loan_ID']\n",
    "X_data = data_final.drop(vars, axis=1) \n",
    "\n",
    "\n",
    "#Divide X_data and y_data into train and test data\n",
    "X_train, X_test, y_train,  y_test = train_test_split(X_data, y_data, test_size=0.30, random_state=0,\n",
    "                                                                                      stratify= y_data, shuffle=True)\n",
    "\n",
    "\n",
    "from sklearn.preprocessing import StandardScaler\n",
    "\n",
    "sc = StandardScaler()  \n",
    "X_train = sc.fit_transform(X_train)  \n",
    "X_test = sc.transform(X_test)  \n",
    "\n",
    "X_train.shape, X_test.shape\n",
    "\n",
    "\n",
    "from sklearn.preprocessing import StandardScaler\n",
    "\n",
    "sc = StandardScaler()  \n",
    "data_sc = sc.fit_transform(X_data) \n",
    "\n",
    "\n",
    "#Reduce dimension into 95% information\n",
    "pca = PCA(0.95)\n",
    "data_pca = pca.fit_transform(data_sc)\n",
    "\n",
    "\n",
    "from sklearn.decomposition import PCA\n",
    "\n",
    "pca = PCA(n_components=10)  \n",
    "X_train_pca = pca.fit_transform(X_train)  \n",
    "X_test_pca = pca.transform(X_test)\n",
    "data_pca = pca.transform(X_data)\n",
    "\n",
    "\n",
    "lr = LogisticRegression(C=0.10001, solver='newton-cg', n_jobs=-1, random_state=0)\n",
    "lr.fit(X_train_pca, y_train)\n",
    "\n",
    "y_pred_prob = lr.predict_proba(X_test_pca)[:,1]\n",
    "fpr, tpr, thresholds = roc_curve(y_test, y_pred_prob)\n",
    "roc_auc = auc(fpr, tpr)\n",
    "\n",
    "# Plot ROC curve\n",
    "plt.plot([0,1],[0,1],linestyle = '--',lw = 2, color = 'gray')\n",
    "plt.plot(fpr, tpr, lw=4, alpha=0.3, label='ROC FullDataset (AUC = %0.2f)' % ( roc_auc), color = 'red')\n",
    "\n",
    "\n",
    "#Model2: REDUCED DATASET WITHOUT MISSING VALUES\n",
    "\n",
    "# read csv (comma separated value) into data\n",
    "df=pd.read_csv('LoanFree_LRModel.csv')\n",
    "df.columns\n",
    "\n",
    "\n",
    "cat_vars=['Gender', 'Dependents', 'Self_Employed']\n",
    "data_vars=df.columns.values.tolist()\n",
    "to_keep=[i for i in data_vars if i not in cat_vars]\n",
    "\n",
    "data_final=df[to_keep]\n",
    "\n",
    "\n",
    "y_data = data_final['Loan_Status']\n",
    "vars =['Loan_Status','Loan_ID']\n",
    "X_data = data_final.drop(vars, axis=1) \n",
    "\n",
    "\n",
    "#Divide X_data and y_data into train and test data\n",
    "X_train, X_test, y_train,  y_test = train_test_split(X_data, y_data, test_size=0.30, random_state=0,\n",
    "                                                                                      stratify= y_data, shuffle=True)\n",
    "\n",
    "\n",
    "from sklearn.preprocessing import StandardScaler\n",
    "\n",
    "sc = StandardScaler()  \n",
    "X_train = sc.fit_transform(X_train)  \n",
    "X_test = sc.transform(X_test)  \n",
    "\n",
    "X_train.shape, X_test.shape\n",
    "\n",
    "\n",
    "from sklearn.preprocessing import StandardScaler\n",
    "\n",
    "sc = StandardScaler()  \n",
    "data_sc = sc.fit_transform(X_data) \n",
    "\n",
    "\n",
    "#Reduce dimension into 95% information\n",
    "pca = PCA(0.95)\n",
    "data_pca = pca.fit_transform(data_sc)\n",
    "\n",
    "\n",
    "from sklearn.decomposition import PCA\n",
    "\n",
    "pca = PCA(n_components=10)  \n",
    "X_train_pca = pca.fit_transform(X_train)  \n",
    "X_test_pca = pca.transform(X_test)\n",
    "data_pca = pca.transform(X_data)\n",
    "\n",
    "\n",
    "logreg = LogisticRegression(C=0.10001, solver='newton-cg', n_jobs=-1, random_state=0)\n",
    "logreg.fit(X_train_pca, y_train)\n",
    "\n",
    "y_pred_prob = logreg.predict_proba(X_test_pca)[:,1]\n",
    "fpr, tpr, thresholds = roc_curve(y_test, y_pred_prob)\n",
    "roc_auc = auc(fpr, tpr)\n",
    "\n",
    "# Plot ROC curve\n",
    "plt.plot([0,1],[0,1],linestyle = '--',lw = 2, color = 'gray')\n",
    "plt.plot(fpr, tpr, lw=4, alpha=0.3, label='ROC ReducedDataset (AUC = %0.2f)' % ( roc_auc), color = 'green')\n",
    "\n",
    "\n",
    "plt.xlabel('False Positive Rate')\n",
    "plt.ylabel('True Positive Rate')\n",
    "plt.title('ROC Curves\\nFeatures: Full-Dataset [Missings Filled], Reduced-Dataset [Without Missings]')\n",
    "plt.legend(loc=\"lower right\")\n",
    "plt.show()"
   ]
  },
  {
   "cell_type": "markdown",
   "metadata": {},
   "source": [
    "<hr>\n",
    "By: Hector Alvaro Rojas &nbsp;&nbsp;|&nbsp;&nbsp; Data Science, Visualizations and Applied Statistics &nbsp;&nbsp;|&nbsp;&nbsp; September 10, 2018<br>\n",
    "    Url: [http://www.arqmain.net]   &nbsp;&nbsp;&nbsp;|&nbsp;&nbsp;&nbsp;   GitHub: [https://github.com/arqmain]\n",
    "    <hr>"
   ]
  }
 ],
 "metadata": {
  "kernelspec": {
   "display_name": "Python 3",
   "language": "python",
   "name": "python3"
  },
  "language_info": {
   "codemirror_mode": {
    "name": "ipython",
    "version": 3
   },
   "file_extension": ".py",
   "mimetype": "text/x-python",
   "name": "python",
   "nbconvert_exporter": "python",
   "pygments_lexer": "ipython3",
   "version": "3.6.4"
  }
 },
 "nbformat": 4,
 "nbformat_minor": 2
}
