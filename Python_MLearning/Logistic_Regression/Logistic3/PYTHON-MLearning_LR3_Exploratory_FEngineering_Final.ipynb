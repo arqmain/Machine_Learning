{
 "cells": [
  {
   "cell_type": "markdown",
   "metadata": {},
   "source": [
    "# Python-MLearning: Loan Data using Logistic Regression (LR) and Sklearn\n",
    "## EXPLORING DATASET AND FEATURE ENGINEERING\n",
    "\n",
    "By: Hector Alvaro Rojas &nbsp;&nbsp;|&nbsp;&nbsp; Data Science, Visualizations and Applied Statistics &nbsp;&nbsp;|&nbsp;&nbsp; September 10, 2018<br>\n",
    "    Url: [http://www.arqmain.net]   &nbsp;&nbsp;&nbsp;|&nbsp;&nbsp;&nbsp;   GitHub: [https://github.com/arqmain]\n",
    "    <hr>"
   ]
  },
  {
   "cell_type": "markdown",
   "metadata": {},
   "source": [
    "# I IMPORT REQUIRED PACKAGES"
   ]
  },
  {
   "cell_type": "code",
   "execution_count": 1,
   "metadata": {},
   "outputs": [],
   "source": [
    "import os\n",
    "import pandas as pd\n",
    "import numpy as np\n",
    "from sklearn import preprocessing\n",
    "import numpy as np\n",
    "import matplotlib as plt\n",
    "from sklearn.linear_model import LogisticRegression\n",
    "from sklearn.model_selection import train_test_split\n",
    "import seaborn as sns\n",
    "%matplotlib inline"
   ]
  },
  {
   "cell_type": "markdown",
   "metadata": {},
   "source": [
    "# II LOADING DATA"
   ]
  },
  {
   "cell_type": "code",
   "execution_count": 2,
   "metadata": {},
   "outputs": [
    {
     "data": {
      "text/plain": [
       "'C:\\\\Users\\\\Alvaro\\\\Documents\\\\R-Python-Projects_April042018\\\\Python_Projects\\\\Machine-Learning\\\\LogisticRegression\\\\Logistic3_Loan'"
      ]
     },
     "execution_count": 2,
     "metadata": {},
     "output_type": "execute_result"
    }
   ],
   "source": [
    "#Checking working directory\n",
    "# import os\n",
    "os.getcwd()"
   ]
  },
  {
   "cell_type": "code",
   "execution_count": 3,
   "metadata": {},
   "outputs": [
    {
     "data": {
      "text/plain": [
       "['.ipynb_checkpoints',\n",
       " 'Backup',\n",
       " 'Link to  Logistic stuff here.txt',\n",
       " 'Links to LR3 GITHUBE and Nbviewer.txt',\n",
       " 'LoanFree_LRModel.csv',\n",
       " 'LoanFull.csv',\n",
       " 'Loan_FullProcess.csv',\n",
       " 'Loan_LRModel.csv',\n",
       " 'Loan_Prediction',\n",
       " 'Log_ROC.png',\n",
       " 'Material Support',\n",
       " 'PYTHON-MLearning_LR1_Introduction.ipynb',\n",
       " 'PYTHON-MLearning_LR2_OPTIMAL-RFECV_Final.ipynb',\n",
       " 'PYTHON-MLearning_LR3_Classical.ipynb',\n",
       " 'PYTHON-MLearning_LR3_Exploratory_FEngineering_Final.ipynb',\n",
       " 'PYTHON-MLearning_LR3_PCA.ipynb',\n",
       " 'Summaries.xlsx',\n",
       " 'To Put in the GitHube Menu.txt',\n",
       " 'Visual']"
      ]
     },
     "execution_count": 3,
     "metadata": {},
     "output_type": "execute_result"
    }
   ],
   "source": [
    "#List files in a directory\n",
    "os.listdir()"
   ]
  },
  {
   "cell_type": "code",
   "execution_count": 4,
   "metadata": {},
   "outputs": [
    {
     "name": "stdout",
     "output_type": "stream",
     "text": [
      "Index(['Loan_ID', 'Gender', 'Married', 'Dependents', 'Education',\n",
      "       'Self_Employed', 'ApplicantIncome', 'CoapplicantIncome', 'LoanAmount',\n",
      "       'Loan_Amount_Term', 'Credit_History', 'Property_Area', 'Loan_Status'],\n",
      "      dtype='object')\n"
     ]
    }
   ],
   "source": [
    "# read csv (comma separated value) into data\n",
    "df=pd.read_csv('LoanFull.csv')\n",
    "print(df.columns)"
   ]
  },
  {
   "cell_type": "markdown",
   "metadata": {},
   "source": [
    "# III DATA CHECKING  AND EXPLORATORY"
   ]
  },
  {
   "cell_type": "markdown",
   "metadata": {},
   "source": [
    "## HOW ABOUT DATA CHECKING?"
   ]
  },
  {
   "cell_type": "code",
   "execution_count": 56,
   "metadata": {},
   "outputs": [
    {
     "name": "stdout",
     "output_type": "stream",
     "text": [
      "* data.head()\n",
      "    Loan_ID Gender Married Dependents     Education Self_Employed  \\\n",
      "0  LP001002   Male      No          0      Graduate            No   \n",
      "1  LP001003   Male     Yes          1      Graduate            No   \n",
      "2  LP001005   Male     Yes          0      Graduate           Yes   \n",
      "3  LP001006   Male     Yes          0  Not Graduate            No   \n",
      "4  LP001008   Male      No          0      Graduate            No   \n",
      "\n",
      "   ApplicantIncome  CoapplicantIncome  LoanAmount  Loan_Amount_Term  \\\n",
      "0             5849                0.0         NaN             360.0   \n",
      "1             4583             1508.0       128.0             360.0   \n",
      "2             3000                0.0        66.0             360.0   \n",
      "3             2583             2358.0       120.0             360.0   \n",
      "4             6000                0.0       141.0             360.0   \n",
      "\n",
      "   Credit_History Property_Area Loan_Status  \n",
      "0             1.0         Urban           Y  \n",
      "1             1.0         Rural           N  \n",
      "2             1.0         Urban           Y  \n",
      "3             1.0         Urban           Y  \n",
      "4             1.0         Urban           Y  \n",
      "\n",
      "* data.tail()\n",
      "      Loan_ID Gender Married Dependents     Education Self_Employed  \\\n",
      "976  LP002971   Male     Yes         3+  Not Graduate           Yes   \n",
      "977  LP002975   Male     Yes          0      Graduate            No   \n",
      "978  LP002980   Male      No          0      Graduate            No   \n",
      "979  LP002986   Male     Yes          0      Graduate            No   \n",
      "980  LP002989   Male      No          0      Graduate           Yes   \n",
      "\n",
      "     ApplicantIncome  CoapplicantIncome  LoanAmount  Loan_Amount_Term  \\\n",
      "976             4009             1777.0       113.0             360.0   \n",
      "977             4158              709.0       115.0             360.0   \n",
      "978             3250             1993.0       126.0             360.0   \n",
      "979             5000             2393.0       158.0             360.0   \n",
      "980             9200                0.0        98.0             180.0   \n",
      "\n",
      "     Credit_History Property_Area Loan_Status  \n",
      "976             1.0         Urban           Y  \n",
      "977             1.0         Urban           Y  \n",
      "978             NaN     Semiurban           Y  \n",
      "979             1.0         Rural           Y  \n",
      "980             1.0         Rural           Y  \n",
      "\n"
     ]
    }
   ],
   "source": [
    "df.head()\n",
    "\n",
    "# print head and tail rows from dataset \n",
    "print(\"* data.head()\", df.head(), sep=\"\\n\", end=\"\\n\\n\")\n",
    "print(\"* data.tail()\", df.tail(), sep=\"\\n\", end=\"\\n\\n\")"
   ]
  },
  {
   "cell_type": "markdown",
   "metadata": {},
   "source": [
    "The data seems to be in a usable format.\n",
    "\n",
    "The first row in the data file defines the column headers, and the headers are descriptive enough for us to understand what each column represents.\n",
    "\n",
    "Each row following the first one represents an entry for a client."
   ]
  },
  {
   "cell_type": "code",
   "execution_count": 8,
   "metadata": {},
   "outputs": [
    {
     "name": "stdout",
     "output_type": "stream",
     "text": [
      "(981, 14)\n"
     ]
    }
   ],
   "source": [
    "# shape\n",
    "print(df.shape)"
   ]
  },
  {
   "cell_type": "markdown",
   "metadata": {},
   "source": [
    "This is exactly the result we are looking for. We should see 981 registers (rows) and 14 fields (columns) as an answer."
   ]
  },
  {
   "cell_type": "code",
   "execution_count": 57,
   "metadata": {},
   "outputs": [
    {
     "name": "stdout",
     "output_type": "stream",
     "text": [
      "<class 'pandas.core.frame.DataFrame'>\n",
      "RangeIndex: 981 entries, 0 to 980\n",
      "Data columns (total 13 columns):\n",
      "Loan_ID              981 non-null object\n",
      "Gender               957 non-null object\n",
      "Married              978 non-null object\n",
      "Dependents           956 non-null object\n",
      "Education            981 non-null object\n",
      "Self_Employed        926 non-null object\n",
      "ApplicantIncome      981 non-null int64\n",
      "CoapplicantIncome    981 non-null float64\n",
      "LoanAmount           954 non-null float64\n",
      "Loan_Amount_Term     961 non-null float64\n",
      "Credit_History       902 non-null float64\n",
      "Property_Area        981 non-null object\n",
      "Loan_Status          981 non-null object\n",
      "dtypes: float64(4), int64(1), object(8)\n",
      "memory usage: 99.7+ KB\n",
      "None\n"
     ]
    }
   ],
   "source": [
    "# get some information about the dataset\n",
    "print(df.info())"
   ]
  },
  {
   "cell_type": "markdown",
   "metadata": {},
   "source": [
    "There are fields (variables) that have missing values. This situation will be discussed in the corresponding section."
   ]
  },
  {
   "cell_type": "code",
   "execution_count": 58,
   "metadata": {},
   "outputs": [
    {
     "data": {
      "text/html": [
       "<div>\n",
       "<style scoped>\n",
       "    .dataframe tbody tr th:only-of-type {\n",
       "        vertical-align: middle;\n",
       "    }\n",
       "\n",
       "    .dataframe tbody tr th {\n",
       "        vertical-align: top;\n",
       "    }\n",
       "\n",
       "    .dataframe thead th {\n",
       "        text-align: right;\n",
       "    }\n",
       "</style>\n",
       "<table border=\"1\" class=\"dataframe\">\n",
       "  <thead>\n",
       "    <tr style=\"text-align: right;\">\n",
       "      <th></th>\n",
       "      <th>ApplicantIncome</th>\n",
       "      <th>CoapplicantIncome</th>\n",
       "      <th>LoanAmount</th>\n",
       "      <th>Loan_Amount_Term</th>\n",
       "      <th>Credit_History</th>\n",
       "    </tr>\n",
       "  </thead>\n",
       "  <tbody>\n",
       "    <tr>\n",
       "      <th>count</th>\n",
       "      <td>981.0</td>\n",
       "      <td>981.00</td>\n",
       "      <td>954.00</td>\n",
       "      <td>961.0</td>\n",
       "      <td>902.00</td>\n",
       "    </tr>\n",
       "    <tr>\n",
       "      <th>mean</th>\n",
       "      <td>5179.8</td>\n",
       "      <td>1601.92</td>\n",
       "      <td>142.51</td>\n",
       "      <td>342.2</td>\n",
       "      <td>0.84</td>\n",
       "    </tr>\n",
       "    <tr>\n",
       "      <th>std</th>\n",
       "      <td>5695.1</td>\n",
       "      <td>2718.77</td>\n",
       "      <td>77.42</td>\n",
       "      <td>65.1</td>\n",
       "      <td>0.37</td>\n",
       "    </tr>\n",
       "    <tr>\n",
       "      <th>min</th>\n",
       "      <td>0.0</td>\n",
       "      <td>0.00</td>\n",
       "      <td>9.00</td>\n",
       "      <td>6.0</td>\n",
       "      <td>0.00</td>\n",
       "    </tr>\n",
       "    <tr>\n",
       "      <th>25%</th>\n",
       "      <td>2875.0</td>\n",
       "      <td>0.00</td>\n",
       "      <td>100.00</td>\n",
       "      <td>360.0</td>\n",
       "      <td>1.00</td>\n",
       "    </tr>\n",
       "    <tr>\n",
       "      <th>50%</th>\n",
       "      <td>3800.0</td>\n",
       "      <td>1110.00</td>\n",
       "      <td>126.00</td>\n",
       "      <td>360.0</td>\n",
       "      <td>1.00</td>\n",
       "    </tr>\n",
       "    <tr>\n",
       "      <th>75%</th>\n",
       "      <td>5516.0</td>\n",
       "      <td>2365.00</td>\n",
       "      <td>162.00</td>\n",
       "      <td>360.0</td>\n",
       "      <td>1.00</td>\n",
       "    </tr>\n",
       "    <tr>\n",
       "      <th>max</th>\n",
       "      <td>81000.0</td>\n",
       "      <td>41667.00</td>\n",
       "      <td>700.00</td>\n",
       "      <td>480.0</td>\n",
       "      <td>1.00</td>\n",
       "    </tr>\n",
       "  </tbody>\n",
       "</table>\n",
       "</div>"
      ],
      "text/plain": [
       "       ApplicantIncome  CoapplicantIncome  LoanAmount  Loan_Amount_Term  \\\n",
       "count            981.0             981.00      954.00             961.0   \n",
       "mean            5179.8            1601.92      142.51             342.2   \n",
       "std             5695.1            2718.77       77.42              65.1   \n",
       "min                0.0               0.00        9.00               6.0   \n",
       "25%             2875.0               0.00      100.00             360.0   \n",
       "50%             3800.0            1110.00      126.00             360.0   \n",
       "75%             5516.0            2365.00      162.00             360.0   \n",
       "max            81000.0           41667.00      700.00             480.0   \n",
       "\n",
       "       Credit_History  \n",
       "count          902.00  \n",
       "mean             0.84  \n",
       "std              0.37  \n",
       "min              0.00  \n",
       "25%              1.00  \n",
       "50%              1.00  \n",
       "75%              1.00  \n",
       "max              1.00  "
      ]
     },
     "execution_count": 58,
     "metadata": {},
     "output_type": "execute_result"
    }
   ],
   "source": [
    "# important statistics\n",
    "round(df.describe(),2)"
   ]
  },
  {
   "cell_type": "markdown",
   "metadata": {},
   "source": [
    "Here we can highlit that 84% of applicants have a credit_history, some important data situations:\n",
    "\n",
    "* ApplicantIncome and CoapplicantIncome presents high standard deviations.\n",
    "* 84% applicants have a credit_history.\n",
    "* Most of the variables are skew (mean different from median).\n"
   ]
  },
  {
   "cell_type": "code",
   "execution_count": 59,
   "metadata": {},
   "outputs": [
    {
     "data": {
      "text/plain": [
       "Loan_ID               0\n",
       "Gender               24\n",
       "Married               3\n",
       "Dependents           25\n",
       "Education             0\n",
       "Self_Employed        55\n",
       "ApplicantIncome       0\n",
       "CoapplicantIncome     0\n",
       "LoanAmount           27\n",
       "Loan_Amount_Term     20\n",
       "Credit_History       79\n",
       "Property_Area         0\n",
       "Loan_Status           0\n",
       "dtype: int64"
      ]
     },
     "execution_count": 59,
     "metadata": {},
     "output_type": "execute_result"
    }
   ],
   "source": [
    "# check missing values in dataset\n",
    "df.isnull().sum()\n"
   ]
  },
  {
   "cell_type": "markdown",
   "metadata": {},
   "source": [
    "More than 50% of the variables have missing values. So we will go over them to see how we can fill those missing values in a reasonable way."
   ]
  },
  {
   "cell_type": "code",
   "execution_count": 60,
   "metadata": {},
   "outputs": [
    {
     "data": {
      "text/plain": [
       "Index(['Loan_ID', 'Gender', 'Married', 'Dependents', 'Education',\n",
       "       'Self_Employed', 'ApplicantIncome', 'CoapplicantIncome', 'LoanAmount',\n",
       "       'Loan_Amount_Term', 'Credit_History', 'Property_Area', 'Loan_Status'],\n",
       "      dtype='object')"
      ]
     },
     "execution_count": 60,
     "metadata": {},
     "output_type": "execute_result"
    }
   ],
   "source": [
    "df.columns"
   ]
  },
  {
   "cell_type": "code",
   "execution_count": 65,
   "metadata": {},
   "outputs": [
    {
     "data": {
      "text/html": [
       "<div>\n",
       "<style scoped>\n",
       "    .dataframe tbody tr th:only-of-type {\n",
       "        vertical-align: middle;\n",
       "    }\n",
       "\n",
       "    .dataframe tbody tr th {\n",
       "        vertical-align: top;\n",
       "    }\n",
       "\n",
       "    .dataframe thead th {\n",
       "        text-align: right;\n",
       "    }\n",
       "</style>\n",
       "<table border=\"1\" class=\"dataframe\">\n",
       "  <thead>\n",
       "    <tr style=\"text-align: right;\">\n",
       "      <th></th>\n",
       "      <th>Loan_ID</th>\n",
       "      <th>Gender</th>\n",
       "      <th>Married</th>\n",
       "      <th>Dependents</th>\n",
       "      <th>Education</th>\n",
       "      <th>Self_Employed</th>\n",
       "      <th>ApplicantIncome</th>\n",
       "      <th>CoapplicantIncome</th>\n",
       "      <th>LoanAmount</th>\n",
       "      <th>Loan_Amount_Term</th>\n",
       "      <th>Credit_History</th>\n",
       "      <th>Property_Area</th>\n",
       "      <th>Loan_Status</th>\n",
       "    </tr>\n",
       "  </thead>\n",
       "  <tbody>\n",
       "    <tr>\n",
       "      <th>0</th>\n",
       "      <td>LP001002</td>\n",
       "      <td>Male</td>\n",
       "      <td>No</td>\n",
       "      <td>0</td>\n",
       "      <td>Graduate</td>\n",
       "      <td>No</td>\n",
       "      <td>5849</td>\n",
       "      <td>0.0</td>\n",
       "      <td>NaN</td>\n",
       "      <td>360.0</td>\n",
       "      <td>1.0</td>\n",
       "      <td>Urban</td>\n",
       "      <td>Y</td>\n",
       "    </tr>\n",
       "    <tr>\n",
       "      <th>11</th>\n",
       "      <td>LP001027</td>\n",
       "      <td>Male</td>\n",
       "      <td>Yes</td>\n",
       "      <td>2</td>\n",
       "      <td>Graduate</td>\n",
       "      <td>NaN</td>\n",
       "      <td>2500</td>\n",
       "      <td>1840.0</td>\n",
       "      <td>109.0</td>\n",
       "      <td>360.0</td>\n",
       "      <td>1.0</td>\n",
       "      <td>Urban</td>\n",
       "      <td>Y</td>\n",
       "    </tr>\n",
       "    <tr>\n",
       "      <th>16</th>\n",
       "      <td>LP001034</td>\n",
       "      <td>Male</td>\n",
       "      <td>No</td>\n",
       "      <td>1</td>\n",
       "      <td>Not Graduate</td>\n",
       "      <td>No</td>\n",
       "      <td>3596</td>\n",
       "      <td>0.0</td>\n",
       "      <td>100.0</td>\n",
       "      <td>240.0</td>\n",
       "      <td>NaN</td>\n",
       "      <td>Urban</td>\n",
       "      <td>Y</td>\n",
       "    </tr>\n",
       "    <tr>\n",
       "      <th>19</th>\n",
       "      <td>LP001041</td>\n",
       "      <td>Male</td>\n",
       "      <td>Yes</td>\n",
       "      <td>0</td>\n",
       "      <td>Graduate</td>\n",
       "      <td>NaN</td>\n",
       "      <td>2600</td>\n",
       "      <td>3500.0</td>\n",
       "      <td>115.0</td>\n",
       "      <td>NaN</td>\n",
       "      <td>1.0</td>\n",
       "      <td>Urban</td>\n",
       "      <td>Y</td>\n",
       "    </tr>\n",
       "    <tr>\n",
       "      <th>23</th>\n",
       "      <td>LP001050</td>\n",
       "      <td>NaN</td>\n",
       "      <td>Yes</td>\n",
       "      <td>2</td>\n",
       "      <td>Not Graduate</td>\n",
       "      <td>No</td>\n",
       "      <td>3365</td>\n",
       "      <td>1917.0</td>\n",
       "      <td>112.0</td>\n",
       "      <td>360.0</td>\n",
       "      <td>0.0</td>\n",
       "      <td>Rural</td>\n",
       "      <td>N</td>\n",
       "    </tr>\n",
       "  </tbody>\n",
       "</table>\n",
       "</div>"
      ],
      "text/plain": [
       "     Loan_ID Gender Married Dependents     Education Self_Employed  \\\n",
       "0   LP001002   Male      No          0      Graduate            No   \n",
       "11  LP001027   Male     Yes          2      Graduate           NaN   \n",
       "16  LP001034   Male      No          1  Not Graduate            No   \n",
       "19  LP001041   Male     Yes          0      Graduate           NaN   \n",
       "23  LP001050    NaN     Yes          2  Not Graduate            No   \n",
       "\n",
       "    ApplicantIncome  CoapplicantIncome  LoanAmount  Loan_Amount_Term  \\\n",
       "0              5849                0.0         NaN             360.0   \n",
       "11             2500             1840.0       109.0             360.0   \n",
       "16             3596                0.0       100.0             240.0   \n",
       "19             2600             3500.0       115.0               NaN   \n",
       "23             3365             1917.0       112.0             360.0   \n",
       "\n",
       "    Credit_History Property_Area Loan_Status  \n",
       "0              1.0         Urban           Y  \n",
       "11             1.0         Urban           Y  \n",
       "16             NaN         Urban           Y  \n",
       "19             1.0         Urban           Y  \n",
       "23             0.0         Rural           N  "
      ]
     },
     "execution_count": 65,
     "metadata": {},
     "output_type": "execute_result"
    }
   ],
   "source": [
    "#  tell pandas to look for rows with missing values\n",
    "df[(df['Gender'].isnull()) |\n",
    "              (df['Married'].isnull()) |\n",
    "              (df['Dependents'].isnull()) |\n",
    "              (df['Self_Employed'].isnull()) |\n",
    "              (df['LoanAmount'].isnull()) |\n",
    "              (df['Loan_Amount_Term'].isnull()) |\n",
    "              (df['Credit_History'].isnull())].head()\n"
   ]
  },
  {
   "cell_type": "markdown",
   "metadata": {},
   "source": [
    "## HOW ABOUT SOME DATA EXPLORATION?"
   ]
  },
  {
   "cell_type": "markdown",
   "metadata": {},
   "source": [
    "### ABOUT OUTPUT VARIABLE LOAN_STATUS"
   ]
  },
  {
   "cell_type": "markdown",
   "metadata": {},
   "source": [
    "### General"
   ]
  },
  {
   "cell_type": "code",
   "execution_count": 9,
   "metadata": {},
   "outputs": [
    {
     "data": {
      "text/plain": [
       "Y    730\n",
       "N    251\n",
       "Name: Loan_Status, dtype: int64"
      ]
     },
     "execution_count": 9,
     "metadata": {},
     "output_type": "execute_result"
    }
   ],
   "source": [
    "df['Loan_Status'].value_counts()"
   ]
  },
  {
   "cell_type": "code",
   "execution_count": 7,
   "metadata": {},
   "outputs": [
    {
     "data": {
      "text/plain": [
       "<matplotlib.axes._subplots.AxesSubplot at 0xb95a8d0>"
      ]
     },
     "execution_count": 7,
     "metadata": {},
     "output_type": "execute_result"
    },
    {
     "data": {
      "image/png": "[encoded data removed]",
      "text/plain": [
       "<matplotlib.figure.Figure at 0xb946518>"
      ]
     },
     "metadata": {},
     "output_type": "display_data"
    }
   ],
   "source": [
    "sns.countplot(x='Loan_Status',data=df, palette='hls')"
   ]
  },
  {
   "cell_type": "markdown",
   "metadata": {},
   "source": [
    "There are 251 no's (N) and 730 yes's (Y)in the outcome variables. So, we are dealing with an unbalanced dataset."
   ]
  },
  {
   "cell_type": "markdown",
   "metadata": {},
   "source": [
    "### Average by groupping variables\n"
   ]
  },
  {
   "cell_type": "code",
   "execution_count": 66,
   "metadata": {},
   "outputs": [
    {
     "data": {
      "text/html": [
       "<div>\n",
       "<style scoped>\n",
       "    .dataframe tbody tr th:only-of-type {\n",
       "        vertical-align: middle;\n",
       "    }\n",
       "\n",
       "    .dataframe tbody tr th {\n",
       "        vertical-align: top;\n",
       "    }\n",
       "\n",
       "    .dataframe thead th {\n",
       "        text-align: right;\n",
       "    }\n",
       "</style>\n",
       "<table border=\"1\" class=\"dataframe\">\n",
       "  <thead>\n",
       "    <tr style=\"text-align: right;\">\n",
       "      <th></th>\n",
       "      <th>ApplicantIncome</th>\n",
       "      <th>CoapplicantIncome</th>\n",
       "      <th>Credit_History</th>\n",
       "      <th>LoanAmount</th>\n",
       "      <th>Loan_Amount_Term</th>\n",
       "    </tr>\n",
       "    <tr>\n",
       "      <th>Loan_Status</th>\n",
       "      <th></th>\n",
       "      <th></th>\n",
       "      <th></th>\n",
       "      <th></th>\n",
       "      <th></th>\n",
       "    </tr>\n",
       "  </thead>\n",
       "  <tbody>\n",
       "    <tr>\n",
       "      <th>N</th>\n",
       "      <td>5045.47</td>\n",
       "      <td>1877.97</td>\n",
       "      <td>0.41</td>\n",
       "      <td>148.01</td>\n",
       "      <td>345.42</td>\n",
       "    </tr>\n",
       "    <tr>\n",
       "      <th>Y</th>\n",
       "      <td>5225.98</td>\n",
       "      <td>1507.00</td>\n",
       "      <td>0.99</td>\n",
       "      <td>140.67</td>\n",
       "      <td>341.11</td>\n",
       "    </tr>\n",
       "  </tbody>\n",
       "</table>\n",
       "</div>"
      ],
      "text/plain": [
       "             ApplicantIncome  CoapplicantIncome  Credit_History  LoanAmount  \\\n",
       "Loan_Status                                                                   \n",
       "N                    5045.47            1877.97            0.41      148.01   \n",
       "Y                    5225.98            1507.00            0.99      140.67   \n",
       "\n",
       "             Loan_Amount_Term  \n",
       "Loan_Status                    \n",
       "N                      345.42  \n",
       "Y                      341.11  "
      ]
     },
     "execution_count": 66,
     "metadata": {},
     "output_type": "execute_result"
    }
   ],
   "source": [
    "#Loan_Status and the rest:\n",
    "\n",
    "#var_list = ['age','duration','campaign','pdays','previous', 'emp_var_rate',\t'cons_price_idx','cons_conf_idx','euribor3m', 'nr_employed']\n",
    "compara = df.pivot_table(index=['Loan_Status'], values=df.columns, aggfunc=('mean'))\n",
    "round(compara,2)"
   ]
  },
  {
   "cell_type": "code",
   "execution_count": 68,
   "metadata": {},
   "outputs": [
    {
     "data": {
      "text/html": [
       "<div>\n",
       "<style scoped>\n",
       "    .dataframe tbody tr th:only-of-type {\n",
       "        vertical-align: middle;\n",
       "    }\n",
       "\n",
       "    .dataframe tbody tr th {\n",
       "        vertical-align: top;\n",
       "    }\n",
       "\n",
       "    .dataframe thead th {\n",
       "        text-align: right;\n",
       "    }\n",
       "</style>\n",
       "<table border=\"1\" class=\"dataframe\">\n",
       "  <thead>\n",
       "    <tr style=\"text-align: right;\">\n",
       "      <th></th>\n",
       "      <th></th>\n",
       "      <th>ApplicantIncome</th>\n",
       "      <th>CoapplicantIncome</th>\n",
       "      <th>Credit_History</th>\n",
       "      <th>LoanAmount</th>\n",
       "      <th>Loan_Amount_Term</th>\n",
       "    </tr>\n",
       "    <tr>\n",
       "      <th>Loan_Status</th>\n",
       "      <th>Gender</th>\n",
       "      <th></th>\n",
       "      <th></th>\n",
       "      <th></th>\n",
       "      <th></th>\n",
       "      <th></th>\n",
       "    </tr>\n",
       "  </thead>\n",
       "  <tbody>\n",
       "    <tr>\n",
       "      <th rowspan=\"2\" valign=\"top\">N</th>\n",
       "      <th>Female</th>\n",
       "      <td>3965.34</td>\n",
       "      <td>1784.88</td>\n",
       "      <td>0.41</td>\n",
       "      <td>131.83</td>\n",
       "      <td>358.29</td>\n",
       "    </tr>\n",
       "    <tr>\n",
       "      <th>Male</th>\n",
       "      <td>5401.97</td>\n",
       "      <td>1904.02</td>\n",
       "      <td>0.41</td>\n",
       "      <td>152.95</td>\n",
       "      <td>342.48</td>\n",
       "    </tr>\n",
       "    <tr>\n",
       "      <th rowspan=\"2\" valign=\"top\">Y</th>\n",
       "      <th>Female</th>\n",
       "      <td>4645.86</td>\n",
       "      <td>885.53</td>\n",
       "      <td>0.99</td>\n",
       "      <td>124.85</td>\n",
       "      <td>349.29</td>\n",
       "    </tr>\n",
       "    <tr>\n",
       "      <th>Male</th>\n",
       "      <td>5208.49</td>\n",
       "      <td>1653.67</td>\n",
       "      <td>0.99</td>\n",
       "      <td>142.99</td>\n",
       "      <td>339.10</td>\n",
       "    </tr>\n",
       "  </tbody>\n",
       "</table>\n",
       "</div>"
      ],
      "text/plain": [
       "                    ApplicantIncome  CoapplicantIncome  Credit_History  \\\n",
       "Loan_Status Gender                                                       \n",
       "N           Female          3965.34            1784.88            0.41   \n",
       "            Male            5401.97            1904.02            0.41   \n",
       "Y           Female          4645.86             885.53            0.99   \n",
       "            Male            5208.49            1653.67            0.99   \n",
       "\n",
       "                    LoanAmount  Loan_Amount_Term  \n",
       "Loan_Status Gender                                \n",
       "N           Female      131.83            358.29  \n",
       "            Male        152.95            342.48  \n",
       "Y           Female      124.85            349.29  \n",
       "            Male        142.99            339.10  "
      ]
     },
     "execution_count": 68,
     "metadata": {},
     "output_type": "execute_result"
    }
   ],
   "source": [
    "#Gender, Loan_Status and the rest:\n",
    "compara = df.pivot_table(index=['Loan_Status','Gender'], values=df.columns, aggfunc='mean')\n",
    "round(compara,2)"
   ]
  },
  {
   "cell_type": "code",
   "execution_count": 69,
   "metadata": {},
   "outputs": [
    {
     "data": {
      "text/html": [
       "<div>\n",
       "<style scoped>\n",
       "    .dataframe tbody tr th:only-of-type {\n",
       "        vertical-align: middle;\n",
       "    }\n",
       "\n",
       "    .dataframe tbody tr th {\n",
       "        vertical-align: top;\n",
       "    }\n",
       "\n",
       "    .dataframe thead th {\n",
       "        text-align: right;\n",
       "    }\n",
       "</style>\n",
       "<table border=\"1\" class=\"dataframe\">\n",
       "  <thead>\n",
       "    <tr style=\"text-align: right;\">\n",
       "      <th></th>\n",
       "      <th></th>\n",
       "      <th>ApplicantIncome</th>\n",
       "      <th>CoapplicantIncome</th>\n",
       "      <th>Credit_History</th>\n",
       "      <th>LoanAmount</th>\n",
       "      <th>Loan_Amount_Term</th>\n",
       "    </tr>\n",
       "    <tr>\n",
       "      <th>Loan_Status</th>\n",
       "      <th>Married</th>\n",
       "      <th></th>\n",
       "      <th></th>\n",
       "      <th></th>\n",
       "      <th></th>\n",
       "      <th></th>\n",
       "    </tr>\n",
       "  </thead>\n",
       "  <tbody>\n",
       "    <tr>\n",
       "      <th rowspan=\"2\" valign=\"top\">N</th>\n",
       "      <th>No</th>\n",
       "      <td>4702.50</td>\n",
       "      <td>1882.36</td>\n",
       "      <td>0.46</td>\n",
       "      <td>137.88</td>\n",
       "      <td>348.30</td>\n",
       "    </tr>\n",
       "    <tr>\n",
       "      <th>Yes</th>\n",
       "      <td>5284.15</td>\n",
       "      <td>1874.92</td>\n",
       "      <td>0.37</td>\n",
       "      <td>155.18</td>\n",
       "      <td>343.38</td>\n",
       "    </tr>\n",
       "    <tr>\n",
       "      <th rowspan=\"2\" valign=\"top\">Y</th>\n",
       "      <th>No</th>\n",
       "      <td>4810.91</td>\n",
       "      <td>1161.73</td>\n",
       "      <td>0.99</td>\n",
       "      <td>121.14</td>\n",
       "      <td>345.70</td>\n",
       "    </tr>\n",
       "    <tr>\n",
       "      <th>Yes</th>\n",
       "      <td>5429.57</td>\n",
       "      <td>1689.22</td>\n",
       "      <td>0.99</td>\n",
       "      <td>150.57</td>\n",
       "      <td>338.66</td>\n",
       "    </tr>\n",
       "  </tbody>\n",
       "</table>\n",
       "</div>"
      ],
      "text/plain": [
       "                     ApplicantIncome  CoapplicantIncome  Credit_History  \\\n",
       "Loan_Status Married                                                       \n",
       "N           No               4702.50            1882.36            0.46   \n",
       "            Yes              5284.15            1874.92            0.37   \n",
       "Y           No               4810.91            1161.73            0.99   \n",
       "            Yes              5429.57            1689.22            0.99   \n",
       "\n",
       "                     LoanAmount  Loan_Amount_Term  \n",
       "Loan_Status Married                                \n",
       "N           No           137.88            348.30  \n",
       "            Yes          155.18            343.38  \n",
       "Y           No           121.14            345.70  \n",
       "            Yes          150.57            338.66  "
      ]
     },
     "execution_count": 69,
     "metadata": {},
     "output_type": "execute_result"
    }
   ],
   "source": [
    "#Married, Loan_Status and the rest:\n",
    "compara = df.pivot_table(index=['Loan_Status','Married'], values=df.columns, aggfunc='mean')\n",
    "round(compara,2)"
   ]
  },
  {
   "cell_type": "code",
   "execution_count": 70,
   "metadata": {},
   "outputs": [
    {
     "data": {
      "text/html": [
       "<div>\n",
       "<style scoped>\n",
       "    .dataframe tbody tr th:only-of-type {\n",
       "        vertical-align: middle;\n",
       "    }\n",
       "\n",
       "    .dataframe tbody tr th {\n",
       "        vertical-align: top;\n",
       "    }\n",
       "\n",
       "    .dataframe thead th {\n",
       "        text-align: right;\n",
       "    }\n",
       "</style>\n",
       "<table border=\"1\" class=\"dataframe\">\n",
       "  <thead>\n",
       "    <tr style=\"text-align: right;\">\n",
       "      <th></th>\n",
       "      <th></th>\n",
       "      <th>ApplicantIncome</th>\n",
       "      <th>CoapplicantIncome</th>\n",
       "      <th>Credit_History</th>\n",
       "      <th>LoanAmount</th>\n",
       "      <th>Loan_Amount_Term</th>\n",
       "    </tr>\n",
       "    <tr>\n",
       "      <th>Loan_Status</th>\n",
       "      <th>Dependents</th>\n",
       "      <th></th>\n",
       "      <th></th>\n",
       "      <th></th>\n",
       "      <th></th>\n",
       "      <th></th>\n",
       "    </tr>\n",
       "  </thead>\n",
       "  <tbody>\n",
       "    <tr>\n",
       "      <th rowspan=\"4\" valign=\"top\">N</th>\n",
       "      <th>0</th>\n",
       "      <td>4694.62</td>\n",
       "      <td>1752.49</td>\n",
       "      <td>0.44</td>\n",
       "      <td>141.05</td>\n",
       "      <td>349.28</td>\n",
       "    </tr>\n",
       "    <tr>\n",
       "      <th>1</th>\n",
       "      <td>5883.95</td>\n",
       "      <td>1785.24</td>\n",
       "      <td>0.47</td>\n",
       "      <td>156.00</td>\n",
       "      <td>327.00</td>\n",
       "    </tr>\n",
       "    <tr>\n",
       "      <th>2</th>\n",
       "      <td>4157.69</td>\n",
       "      <td>1499.14</td>\n",
       "      <td>0.33</td>\n",
       "      <td>145.24</td>\n",
       "      <td>358.33</td>\n",
       "    </tr>\n",
       "    <tr>\n",
       "      <th>3+</th>\n",
       "      <td>6944.81</td>\n",
       "      <td>3355.26</td>\n",
       "      <td>0.28</td>\n",
       "      <td>178.92</td>\n",
       "      <td>327.69</td>\n",
       "    </tr>\n",
       "    <tr>\n",
       "      <th rowspan=\"4\" valign=\"top\">Y</th>\n",
       "      <th>0</th>\n",
       "      <td>4710.23</td>\n",
       "      <td>1574.77</td>\n",
       "      <td>0.99</td>\n",
       "      <td>131.46</td>\n",
       "      <td>346.18</td>\n",
       "    </tr>\n",
       "    <tr>\n",
       "      <th>1</th>\n",
       "      <td>5409.58</td>\n",
       "      <td>1478.15</td>\n",
       "      <td>0.99</td>\n",
       "      <td>146.99</td>\n",
       "      <td>338.36</td>\n",
       "    </tr>\n",
       "    <tr>\n",
       "      <th>2</th>\n",
       "      <td>5124.75</td>\n",
       "      <td>1777.70</td>\n",
       "      <td>0.99</td>\n",
       "      <td>153.45</td>\n",
       "      <td>335.81</td>\n",
       "    </tr>\n",
       "    <tr>\n",
       "      <th>3+</th>\n",
       "      <td>8253.48</td>\n",
       "      <td>755.77</td>\n",
       "      <td>0.97</td>\n",
       "      <td>167.73</td>\n",
       "      <td>327.62</td>\n",
       "    </tr>\n",
       "  </tbody>\n",
       "</table>\n",
       "</div>"
      ],
      "text/plain": [
       "                        ApplicantIncome  CoapplicantIncome  Credit_History  \\\n",
       "Loan_Status Dependents                                                       \n",
       "N           0                   4694.62            1752.49            0.44   \n",
       "            1                   5883.95            1785.24            0.47   \n",
       "            2                   4157.69            1499.14            0.33   \n",
       "            3+                  6944.81            3355.26            0.28   \n",
       "Y           0                   4710.23            1574.77            0.99   \n",
       "            1                   5409.58            1478.15            0.99   \n",
       "            2                   5124.75            1777.70            0.99   \n",
       "            3+                  8253.48             755.77            0.97   \n",
       "\n",
       "                        LoanAmount  Loan_Amount_Term  \n",
       "Loan_Status Dependents                                \n",
       "N           0               141.05            349.28  \n",
       "            1               156.00            327.00  \n",
       "            2               145.24            358.33  \n",
       "            3+              178.92            327.69  \n",
       "Y           0               131.46            346.18  \n",
       "            1               146.99            338.36  \n",
       "            2               153.45            335.81  \n",
       "            3+              167.73            327.62  "
      ]
     },
     "execution_count": 70,
     "metadata": {},
     "output_type": "execute_result"
    }
   ],
   "source": [
    "#Dependents, Loan_Status and the rest:\n",
    "compara = df.pivot_table(index=['Loan_Status', 'Dependents'], values=df.columns, aggfunc='mean')\n",
    "round(compara,2)"
   ]
  },
  {
   "cell_type": "code",
   "execution_count": 71,
   "metadata": {},
   "outputs": [
    {
     "data": {
      "text/html": [
       "<div>\n",
       "<style scoped>\n",
       "    .dataframe tbody tr th:only-of-type {\n",
       "        vertical-align: middle;\n",
       "    }\n",
       "\n",
       "    .dataframe tbody tr th {\n",
       "        vertical-align: top;\n",
       "    }\n",
       "\n",
       "    .dataframe thead th {\n",
       "        text-align: right;\n",
       "    }\n",
       "</style>\n",
       "<table border=\"1\" class=\"dataframe\">\n",
       "  <thead>\n",
       "    <tr style=\"text-align: right;\">\n",
       "      <th></th>\n",
       "      <th></th>\n",
       "      <th>ApplicantIncome</th>\n",
       "      <th>CoapplicantIncome</th>\n",
       "      <th>Credit_History</th>\n",
       "      <th>LoanAmount</th>\n",
       "      <th>Loan_Amount_Term</th>\n",
       "    </tr>\n",
       "    <tr>\n",
       "      <th>Loan_Status</th>\n",
       "      <th>Education</th>\n",
       "      <th></th>\n",
       "      <th></th>\n",
       "      <th></th>\n",
       "      <th></th>\n",
       "      <th></th>\n",
       "    </tr>\n",
       "  </thead>\n",
       "  <tbody>\n",
       "    <tr>\n",
       "      <th rowspan=\"2\" valign=\"top\">N</th>\n",
       "      <th>Graduate</th>\n",
       "      <td>5541.95</td>\n",
       "      <td>2127.56</td>\n",
       "      <td>0.42</td>\n",
       "      <td>155.67</td>\n",
       "      <td>348.97</td>\n",
       "    </tr>\n",
       "    <tr>\n",
       "      <th>Not Graduate</th>\n",
       "      <td>3709.35</td>\n",
       "      <td>1206.28</td>\n",
       "      <td>0.37</td>\n",
       "      <td>126.62</td>\n",
       "      <td>335.63</td>\n",
       "    </tr>\n",
       "    <tr>\n",
       "      <th rowspan=\"2\" valign=\"top\">Y</th>\n",
       "      <th>Graduate</th>\n",
       "      <td>5621.53</td>\n",
       "      <td>1551.44</td>\n",
       "      <td>0.99</td>\n",
       "      <td>147.32</td>\n",
       "      <td>341.19</td>\n",
       "    </tr>\n",
       "    <tr>\n",
       "      <th>Not Graduate</th>\n",
       "      <td>3696.54</td>\n",
       "      <td>1335.16</td>\n",
       "      <td>0.99</td>\n",
       "      <td>114.98</td>\n",
       "      <td>340.80</td>\n",
       "    </tr>\n",
       "  </tbody>\n",
       "</table>\n",
       "</div>"
      ],
      "text/plain": [
       "                          ApplicantIncome  CoapplicantIncome  Credit_History  \\\n",
       "Loan_Status Education                                                          \n",
       "N           Graduate              5541.95            2127.56            0.42   \n",
       "            Not Graduate          3709.35            1206.28            0.37   \n",
       "Y           Graduate              5621.53            1551.44            0.99   \n",
       "            Not Graduate          3696.54            1335.16            0.99   \n",
       "\n",
       "                          LoanAmount  Loan_Amount_Term  \n",
       "Loan_Status Education                                   \n",
       "N           Graduate          155.67            348.97  \n",
       "            Not Graduate      126.62            335.63  \n",
       "Y           Graduate          147.32            341.19  \n",
       "            Not Graduate      114.98            340.80  "
      ]
     },
     "execution_count": 71,
     "metadata": {},
     "output_type": "execute_result"
    }
   ],
   "source": [
    "#Education, Loan_Status and the rest:\n",
    "compara = df.pivot_table(index=['Loan_Status', 'Education'], values=df.columns, aggfunc='mean')\n",
    "round(compara,2)"
   ]
  },
  {
   "cell_type": "code",
   "execution_count": 72,
   "metadata": {},
   "outputs": [
    {
     "data": {
      "text/html": [
       "<div>\n",
       "<style scoped>\n",
       "    .dataframe tbody tr th:only-of-type {\n",
       "        vertical-align: middle;\n",
       "    }\n",
       "\n",
       "    .dataframe tbody tr th {\n",
       "        vertical-align: top;\n",
       "    }\n",
       "\n",
       "    .dataframe thead th {\n",
       "        text-align: right;\n",
       "    }\n",
       "</style>\n",
       "<table border=\"1\" class=\"dataframe\">\n",
       "  <thead>\n",
       "    <tr style=\"text-align: right;\">\n",
       "      <th></th>\n",
       "      <th></th>\n",
       "      <th>ApplicantIncome</th>\n",
       "      <th>CoapplicantIncome</th>\n",
       "      <th>Credit_History</th>\n",
       "      <th>LoanAmount</th>\n",
       "      <th>Loan_Amount_Term</th>\n",
       "    </tr>\n",
       "    <tr>\n",
       "      <th>Loan_Status</th>\n",
       "      <th>Self_Employed</th>\n",
       "      <th></th>\n",
       "      <th></th>\n",
       "      <th></th>\n",
       "      <th></th>\n",
       "      <th></th>\n",
       "    </tr>\n",
       "  </thead>\n",
       "  <tbody>\n",
       "    <tr>\n",
       "      <th rowspan=\"2\" valign=\"top\">N</th>\n",
       "      <th>No</th>\n",
       "      <td>4934.16</td>\n",
       "      <td>1785.30</td>\n",
       "      <td>0.41</td>\n",
       "      <td>146.30</td>\n",
       "      <td>346.88</td>\n",
       "    </tr>\n",
       "    <tr>\n",
       "      <th>Yes</th>\n",
       "      <td>6142.68</td>\n",
       "      <td>1680.64</td>\n",
       "      <td>0.48</td>\n",
       "      <td>159.07</td>\n",
       "      <td>332.14</td>\n",
       "    </tr>\n",
       "    <tr>\n",
       "      <th rowspan=\"2\" valign=\"top\">Y</th>\n",
       "      <th>No</th>\n",
       "      <td>4877.68</td>\n",
       "      <td>1513.96</td>\n",
       "      <td>0.99</td>\n",
       "      <td>136.13</td>\n",
       "      <td>342.33</td>\n",
       "    </tr>\n",
       "    <tr>\n",
       "      <th>Yes</th>\n",
       "      <td>7149.47</td>\n",
       "      <td>1397.31</td>\n",
       "      <td>1.00</td>\n",
       "      <td>166.85</td>\n",
       "      <td>338.16</td>\n",
       "    </tr>\n",
       "  </tbody>\n",
       "</table>\n",
       "</div>"
      ],
      "text/plain": [
       "                           ApplicantIncome  CoapplicantIncome  Credit_History  \\\n",
       "Loan_Status Self_Employed                                                       \n",
       "N           No                     4934.16            1785.30            0.41   \n",
       "            Yes                    6142.68            1680.64            0.48   \n",
       "Y           No                     4877.68            1513.96            0.99   \n",
       "            Yes                    7149.47            1397.31            1.00   \n",
       "\n",
       "                           LoanAmount  Loan_Amount_Term  \n",
       "Loan_Status Self_Employed                                \n",
       "N           No                 146.30            346.88  \n",
       "            Yes                159.07            332.14  \n",
       "Y           No                 136.13            342.33  \n",
       "            Yes                166.85            338.16  "
      ]
     },
     "execution_count": 72,
     "metadata": {},
     "output_type": "execute_result"
    }
   ],
   "source": [
    "#Self_Employed, Loan_Status and the rest:\n",
    "compara = df.pivot_table(index=['Loan_Status', 'Self_Employed'], values=df.columns, aggfunc='mean')\n",
    "round(compara,2)"
   ]
  },
  {
   "cell_type": "code",
   "execution_count": 73,
   "metadata": {},
   "outputs": [
    {
     "data": {
      "text/html": [
       "<div>\n",
       "<style scoped>\n",
       "    .dataframe tbody tr th:only-of-type {\n",
       "        vertical-align: middle;\n",
       "    }\n",
       "\n",
       "    .dataframe tbody tr th {\n",
       "        vertical-align: top;\n",
       "    }\n",
       "\n",
       "    .dataframe thead th {\n",
       "        text-align: right;\n",
       "    }\n",
       "</style>\n",
       "<table border=\"1\" class=\"dataframe\">\n",
       "  <thead>\n",
       "    <tr style=\"text-align: right;\">\n",
       "      <th></th>\n",
       "      <th></th>\n",
       "      <th>ApplicantIncome</th>\n",
       "      <th>CoapplicantIncome</th>\n",
       "      <th>Credit_History</th>\n",
       "      <th>LoanAmount</th>\n",
       "      <th>Loan_Amount_Term</th>\n",
       "    </tr>\n",
       "    <tr>\n",
       "      <th>Loan_Status</th>\n",
       "      <th>Property_Area</th>\n",
       "      <th></th>\n",
       "      <th></th>\n",
       "      <th></th>\n",
       "      <th></th>\n",
       "      <th></th>\n",
       "    </tr>\n",
       "  </thead>\n",
       "  <tbody>\n",
       "    <tr>\n",
       "      <th rowspan=\"3\" valign=\"top\">N</th>\n",
       "      <th>Rural</th>\n",
       "      <td>5782.00</td>\n",
       "      <td>1839.36</td>\n",
       "      <td>0.46</td>\n",
       "      <td>155.92</td>\n",
       "      <td>349.81</td>\n",
       "    </tr>\n",
       "    <tr>\n",
       "      <th>Semiurban</th>\n",
       "      <td>4945.40</td>\n",
       "      <td>1428.95</td>\n",
       "      <td>0.33</td>\n",
       "      <td>149.36</td>\n",
       "      <td>339.16</td>\n",
       "    </tr>\n",
       "    <tr>\n",
       "      <th>Urban</th>\n",
       "      <td>4378.26</td>\n",
       "      <td>2304.56</td>\n",
       "      <td>0.42</td>\n",
       "      <td>138.29</td>\n",
       "      <td>346.43</td>\n",
       "    </tr>\n",
       "    <tr>\n",
       "      <th rowspan=\"3\" valign=\"top\">Y</th>\n",
       "      <th>Rural</th>\n",
       "      <td>4911.89</td>\n",
       "      <td>1714.19</td>\n",
       "      <td>0.99</td>\n",
       "      <td>142.80</td>\n",
       "      <td>341.77</td>\n",
       "    </tr>\n",
       "    <tr>\n",
       "      <th>Semiurban</th>\n",
       "      <td>5155.81</td>\n",
       "      <td>1524.47</td>\n",
       "      <td>0.98</td>\n",
       "      <td>139.60</td>\n",
       "      <td>346.72</td>\n",
       "    </tr>\n",
       "    <tr>\n",
       "      <th>Urban</th>\n",
       "      <td>5548.96</td>\n",
       "      <td>1324.91</td>\n",
       "      <td>1.00</td>\n",
       "      <td>140.14</td>\n",
       "      <td>334.45</td>\n",
       "    </tr>\n",
       "  </tbody>\n",
       "</table>\n",
       "</div>"
      ],
      "text/plain": [
       "                           ApplicantIncome  CoapplicantIncome  Credit_History  \\\n",
       "Loan_Status Property_Area                                                       \n",
       "N           Rural                  5782.00            1839.36            0.46   \n",
       "            Semiurban              4945.40            1428.95            0.33   \n",
       "            Urban                  4378.26            2304.56            0.42   \n",
       "Y           Rural                  4911.89            1714.19            0.99   \n",
       "            Semiurban              5155.81            1524.47            0.98   \n",
       "            Urban                  5548.96            1324.91            1.00   \n",
       "\n",
       "                           LoanAmount  Loan_Amount_Term  \n",
       "Loan_Status Property_Area                                \n",
       "N           Rural              155.92            349.81  \n",
       "            Semiurban          149.36            339.16  \n",
       "            Urban              138.29            346.43  \n",
       "Y           Rural              142.80            341.77  \n",
       "            Semiurban          139.60            346.72  \n",
       "            Urban              140.14            334.45  "
      ]
     },
     "execution_count": 73,
     "metadata": {},
     "output_type": "execute_result"
    }
   ],
   "source": [
    "#Property_Area, Loan_Status and the rest:\n",
    "compara = df.pivot_table(index=['Loan_Status', 'Property_Area'], values=df.columns, aggfunc='mean')\n",
    "round(compara,2)"
   ]
  },
  {
   "cell_type": "markdown",
   "metadata": {},
   "source": [
    "Some important things can be observed from the tables above like:\n",
    "\n",
    "* Guys with Loan_Status \"Y\" have high Credit_History % .\n",
    "* Men have high ApplicantIncome than Women.\n",
    "* Married people have high ApplicantIncome than Not Married ones.\n",
    "* Graduate people have high ApplicantIncome and LoanAmout than Not Graduate.\n",
    "*Self_Employed people have high ApplicantIncome and LoanAmout than Not Self_Employed.\t"
   ]
  },
  {
   "cell_type": "markdown",
   "metadata": {},
   "source": [
    "### Its categorical predictors dependence"
   ]
  },
  {
   "cell_type": "code",
   "execution_count": 95,
   "metadata": {},
   "outputs": [
    {
     "data": {
      "text/plain": [
       "<matplotlib.legend.Legend at 0xd287550>"
      ]
     },
     "execution_count": 95,
     "metadata": {},
     "output_type": "execute_result"
    },
    {
     "data": {
      "image/png": "[encoded data removed]",
      "text/plain": [
       "<matplotlib.figure.Figure at 0xd260320>"
      ]
     },
     "metadata": {},
     "output_type": "display_data"
    }
   ],
   "source": [
    "import matplotlib.pyplot as plt\n",
    "pd.crosstab(df.Gender,df.Loan_Status).plot(kind='bar',  alpha=0.75,)\n",
    "plt.title('Loan_Status by Gender')\n",
    "plt.xlabel('Gender')\n",
    "plt.ylabel('')\n",
    "plt.legend(bbox_to_anchor=(1.05, 1), loc=2, borderaxespad=0.)"
   ]
  },
  {
   "cell_type": "code",
   "execution_count": 70,
   "metadata": {},
   "outputs": [
    {
     "data": {
      "text/html": [
       "<div>\n",
       "<style scoped>\n",
       "    .dataframe tbody tr th:only-of-type {\n",
       "        vertical-align: middle;\n",
       "    }\n",
       "\n",
       "    .dataframe tbody tr th {\n",
       "        vertical-align: top;\n",
       "    }\n",
       "\n",
       "    .dataframe thead th {\n",
       "        text-align: right;\n",
       "    }\n",
       "</style>\n",
       "<table border=\"1\" class=\"dataframe\">\n",
       "  <thead>\n",
       "    <tr style=\"text-align: right;\">\n",
       "      <th>Loan_Status</th>\n",
       "      <th>N</th>\n",
       "      <th>Y</th>\n",
       "    </tr>\n",
       "    <tr>\n",
       "      <th>Gender</th>\n",
       "      <th></th>\n",
       "      <th></th>\n",
       "    </tr>\n",
       "  </thead>\n",
       "  <tbody>\n",
       "    <tr>\n",
       "      <th>Female</th>\n",
       "      <td>50</td>\n",
       "      <td>132</td>\n",
       "    </tr>\n",
       "    <tr>\n",
       "      <th>Male</th>\n",
       "      <td>194</td>\n",
       "      <td>581</td>\n",
       "    </tr>\n",
       "  </tbody>\n",
       "</table>\n",
       "</div>"
      ],
      "text/plain": [
       "Loan_Status    N    Y\n",
       "Gender               \n",
       "Female        50  132\n",
       "Male         194  581"
      ]
     },
     "execution_count": 70,
     "metadata": {},
     "output_type": "execute_result"
    }
   ],
   "source": [
    "pd.crosstab(df.Gender,df.Loan_Status)"
   ]
  },
  {
   "cell_type": "code",
   "execution_count": 71,
   "metadata": {},
   "outputs": [
    {
     "name": "stdout",
     "output_type": "stream",
     "text": [
      "Chi-Squared Test of Independence: Ho:X e Y Independent v/s H1:X e Y  Not Independent\n",
      "Decision Rule: If p_value ≤ α ⇒ Reject Ho assuming a risk α\n",
      "\n",
      "Results: Chi2 value is: 0.34251  p_value full is:  0.5583857404419671  p_value rounded : 0.55839\n"
     ]
    }
   ],
   "source": [
    "from scipy.stats import chi2_contingency\n",
    "chi2, p, dof, expected = chi2_contingency(pd.crosstab(df.Gender,df.Loan_Status))\n",
    "#chi2, p\n",
    "\n",
    "print('Chi-Squared Test of Independence: Ho:X e Y Independent v/s H1:X e Y  Not Independent')\n",
    "print(\"Decision Rule: If p_value ≤ α ⇒ Reject Ho assuming a risk α\")\n",
    "print(\"\")\n",
    "print(\"Results: Chi2 value is: %2.5f\" % chi2, \" p_value full is: \", p, \" p_value rounded : %2.5f\" % p)\n"
   ]
  },
  {
   "cell_type": "markdown",
   "metadata": {},
   "source": [
    "The Loan_Status NOT depends on the Gender. Thus, the \"Gender\" may NOT be a good predictor of the outcome variable (Y)."
   ]
  },
  {
   "cell_type": "code",
   "execution_count": 76,
   "metadata": {},
   "outputs": [
    {
     "data": {
      "text/plain": [
       "<matplotlib.legend.Legend at 0xd0cec50>"
      ]
     },
     "execution_count": 76,
     "metadata": {},
     "output_type": "execute_result"
    },
    {
     "data": {
      "image/png": "[encoded data removed]",
      "text/plain": [
       "<matplotlib.figure.Figure at 0xd0c9f28>"
      ]
     },
     "metadata": {},
     "output_type": "display_data"
    }
   ],
   "source": [
    "import matplotlib.pyplot as plt\n",
    "pd.crosstab(df.Married,df.Loan_Status).plot(kind='bar',  alpha=0.75,)\n",
    "plt.title('Loan_Status by Married')\n",
    "plt.xlabel('Married')\n",
    "plt.ylabel('')\n",
    "plt.legend(bbox_to_anchor=(1.05, 1), loc=2, borderaxespad=0.)"
   ]
  },
  {
   "cell_type": "code",
   "execution_count": 77,
   "metadata": {},
   "outputs": [
    {
     "data": {
      "text/html": [
       "<div>\n",
       "<style scoped>\n",
       "    .dataframe tbody tr th:only-of-type {\n",
       "        vertical-align: middle;\n",
       "    }\n",
       "\n",
       "    .dataframe tbody tr th {\n",
       "        vertical-align: top;\n",
       "    }\n",
       "\n",
       "    .dataframe thead th {\n",
       "        text-align: right;\n",
       "    }\n",
       "</style>\n",
       "<table border=\"1\" class=\"dataframe\">\n",
       "  <thead>\n",
       "    <tr style=\"text-align: right;\">\n",
       "      <th>Loan_Status</th>\n",
       "      <th>N</th>\n",
       "      <th>Y</th>\n",
       "    </tr>\n",
       "    <tr>\n",
       "      <th>Married</th>\n",
       "      <th></th>\n",
       "      <th></th>\n",
       "    </tr>\n",
       "  </thead>\n",
       "  <tbody>\n",
       "    <tr>\n",
       "      <th>No</th>\n",
       "      <td>103</td>\n",
       "      <td>244</td>\n",
       "    </tr>\n",
       "    <tr>\n",
       "      <th>Yes</th>\n",
       "      <td>148</td>\n",
       "      <td>483</td>\n",
       "    </tr>\n",
       "  </tbody>\n",
       "</table>\n",
       "</div>"
      ],
      "text/plain": [
       "Loan_Status    N    Y\n",
       "Married              \n",
       "No           103  244\n",
       "Yes          148  483"
      ]
     },
     "execution_count": 77,
     "metadata": {},
     "output_type": "execute_result"
    }
   ],
   "source": [
    "pd.crosstab(df.Married,df.Loan_Status)"
   ]
  },
  {
   "cell_type": "code",
   "execution_count": 73,
   "metadata": {},
   "outputs": [
    {
     "name": "stdout",
     "output_type": "stream",
     "text": [
      "Chi-Squared Test of Independence: Ho:X e Y Independent v/s H1:X e Y  Not Independent\n",
      "Decision Rule: If p_value ≤ α ⇒ Reject Ho assuming a risk α\n",
      "\n",
      "Results: Chi2 value is: 4.23147  p_value full is:  0.03968105594662411  p_value rounded : 0.03968\n"
     ]
    }
   ],
   "source": [
    "from scipy.stats import chi2_contingency\n",
    "chi2, p, dof, expected = chi2_contingency(pd.crosstab(df.Married,df.Loan_Status))\n",
    "#chi2, p\n",
    "\n",
    "print('Chi-Squared Test of Independence: Ho:X e Y Independent v/s H1:X e Y  Not Independent')\n",
    "print(\"Decision Rule: If p_value ≤ α ⇒ Reject Ho assuming a risk α\")\n",
    "print(\"\")\n",
    "print(\"Results: Chi2 value is: %2.5f\" % chi2, \" p_value full is: \", p, \" p_value rounded : %2.5f\" % p)\n"
   ]
  },
  {
   "cell_type": "markdown",
   "metadata": {},
   "source": [
    "The Loan_Status depends on the Married. Thus, the \"Married\" may be a good predictor of the outcome variable (Y)."
   ]
  },
  {
   "cell_type": "code",
   "execution_count": 74,
   "metadata": {},
   "outputs": [
    {
     "data": {
      "text/plain": [
       "<matplotlib.legend.Legend at 0xb8a3f60>"
      ]
     },
     "execution_count": 74,
     "metadata": {},
     "output_type": "execute_result"
    },
    {
     "data": {
      "image/png": "[encoded data removed]",
      "text/plain": [
       "<matplotlib.figure.Figure at 0xbb34c18>"
      ]
     },
     "metadata": {},
     "output_type": "display_data"
    }
   ],
   "source": [
    "import matplotlib.pyplot as plt\n",
    "pd.crosstab(df.Dependents,df.Loan_Status).plot(kind='bar',  alpha=0.75,)\n",
    "plt.title('Loan_Status by Dependents')\n",
    "plt.xlabel('Dependents')\n",
    "plt.ylabel('')\n",
    "plt.legend(bbox_to_anchor=(1.05, 1), loc=2, borderaxespad=0.)"
   ]
  },
  {
   "cell_type": "code",
   "execution_count": 78,
   "metadata": {},
   "outputs": [
    {
     "data": {
      "text/html": [
       "<div>\n",
       "<style scoped>\n",
       "    .dataframe tbody tr th:only-of-type {\n",
       "        vertical-align: middle;\n",
       "    }\n",
       "\n",
       "    .dataframe tbody tr th {\n",
       "        vertical-align: top;\n",
       "    }\n",
       "\n",
       "    .dataframe thead th {\n",
       "        text-align: right;\n",
       "    }\n",
       "</style>\n",
       "<table border=\"1\" class=\"dataframe\">\n",
       "  <thead>\n",
       "    <tr style=\"text-align: right;\">\n",
       "      <th>Loan_Status</th>\n",
       "      <th>N</th>\n",
       "      <th>Y</th>\n",
       "    </tr>\n",
       "    <tr>\n",
       "      <th>Dependents</th>\n",
       "      <th></th>\n",
       "      <th></th>\n",
       "    </tr>\n",
       "  </thead>\n",
       "  <tbody>\n",
       "    <tr>\n",
       "      <th>0</th>\n",
       "      <td>140</td>\n",
       "      <td>405</td>\n",
       "    </tr>\n",
       "    <tr>\n",
       "      <th>1</th>\n",
       "      <td>42</td>\n",
       "      <td>118</td>\n",
       "    </tr>\n",
       "    <tr>\n",
       "      <th>2</th>\n",
       "      <td>36</td>\n",
       "      <td>124</td>\n",
       "    </tr>\n",
       "    <tr>\n",
       "      <th>3+</th>\n",
       "      <td>27</td>\n",
       "      <td>64</td>\n",
       "    </tr>\n",
       "  </tbody>\n",
       "</table>\n",
       "</div>"
      ],
      "text/plain": [
       "Loan_Status    N    Y\n",
       "Dependents           \n",
       "0            140  405\n",
       "1             42  118\n",
       "2             36  124\n",
       "3+            27   64"
      ]
     },
     "execution_count": 78,
     "metadata": {},
     "output_type": "execute_result"
    }
   ],
   "source": [
    "pd.crosstab(df.Dependents,df.Loan_Status)"
   ]
  },
  {
   "cell_type": "code",
   "execution_count": 75,
   "metadata": {},
   "outputs": [
    {
     "name": "stdout",
     "output_type": "stream",
     "text": [
      "Chi-Squared Test of Independence: Ho:X e Y Independent v/s H1:X e Y  Not Independent\n",
      "Decision Rule: If p_value ≤ α ⇒ Reject Ho assuming a risk α\n",
      "\n",
      "Results: Chi2 value is: 1.63503  p_value full is:  0.6514729976570259  p_value rounded : 0.65147\n"
     ]
    }
   ],
   "source": [
    "from scipy.stats import chi2_contingency\n",
    "chi2, p, dof, expected = chi2_contingency(pd.crosstab(df.Dependents,df.Loan_Status))\n",
    "#chi2, p\n",
    "\n",
    "print('Chi-Squared Test of Independence: Ho:X e Y Independent v/s H1:X e Y  Not Independent')\n",
    "print(\"Decision Rule: If p_value ≤ α ⇒ Reject Ho assuming a risk α\")\n",
    "print(\"\")\n",
    "print(\"Results: Chi2 value is: %2.5f\" % chi2, \" p_value full is: \", p, \" p_value rounded : %2.5f\" % p)"
   ]
  },
  {
   "cell_type": "markdown",
   "metadata": {},
   "source": [
    "The Loan_Status NOT depends on the Dependents. Thus, the \"Dependents\" may NOT be a good predictor of the outcome variable (Y)."
   ]
  },
  {
   "cell_type": "code",
   "execution_count": null,
   "metadata": {},
   "outputs": [],
   "source": [
    "import matplotlib.pyplot as plt\n",
    "pd.crosstab(df.Education,df.Loan_Status).plot(kind='bar',  alpha=0.75,)\n",
    "plt.title('Loan_Status by Education')\n",
    "plt.xlabel('Dependents')\n",
    "plt.ylabel('')\n",
    "plt.legend(bbox_to_anchor=(1.05, 1), loc=2, borderaxespad=0.)"
   ]
  },
  {
   "cell_type": "code",
   "execution_count": 96,
   "metadata": {},
   "outputs": [
    {
     "data": {
      "text/html": [
       "<div>\n",
       "<style scoped>\n",
       "    .dataframe tbody tr th:only-of-type {\n",
       "        vertical-align: middle;\n",
       "    }\n",
       "\n",
       "    .dataframe tbody tr th {\n",
       "        vertical-align: top;\n",
       "    }\n",
       "\n",
       "    .dataframe thead th {\n",
       "        text-align: right;\n",
       "    }\n",
       "</style>\n",
       "<table border=\"1\" class=\"dataframe\">\n",
       "  <thead>\n",
       "    <tr style=\"text-align: right;\">\n",
       "      <th>Loan_Status</th>\n",
       "      <th>N</th>\n",
       "      <th>Y</th>\n",
       "    </tr>\n",
       "    <tr>\n",
       "      <th>Education</th>\n",
       "      <th></th>\n",
       "      <th></th>\n",
       "    </tr>\n",
       "  </thead>\n",
       "  <tbody>\n",
       "    <tr>\n",
       "      <th>Graduate</th>\n",
       "      <td>183</td>\n",
       "      <td>580</td>\n",
       "    </tr>\n",
       "    <tr>\n",
       "      <th>Not Graduate</th>\n",
       "      <td>68</td>\n",
       "      <td>150</td>\n",
       "    </tr>\n",
       "  </tbody>\n",
       "</table>\n",
       "</div>"
      ],
      "text/plain": [
       "Loan_Status     N    Y\n",
       "Education             \n",
       "Graduate      183  580\n",
       "Not Graduate   68  150"
      ]
     },
     "execution_count": 96,
     "metadata": {},
     "output_type": "execute_result"
    }
   ],
   "source": [
    "pd.crosstab(df.Education,df.Loan_Status)"
   ]
  },
  {
   "cell_type": "code",
   "execution_count": 79,
   "metadata": {},
   "outputs": [
    {
     "name": "stdout",
     "output_type": "stream",
     "text": [
      "Chi-Squared Test of Independence: Ho:X e Y Independent v/s H1:X e Y  Not Independent\n",
      "Decision Rule: If p_value ≤ α ⇒ Reject Ho assuming a risk α\n",
      "\n",
      "Results: Chi2 value is: 4.25647  p_value full is:  0.039101153730083646  p_value rounded : 0.03910\n"
     ]
    }
   ],
   "source": [
    "from scipy.stats import chi2_contingency\n",
    "chi2, p, dof, expected = chi2_contingency(pd.crosstab(df.Education,df.Loan_Status))\n",
    "#chi2, p\n",
    "\n",
    "print('Chi-Squared Test of Independence: Ho:X e Y Independent v/s H1:X e Y  Not Independent')\n",
    "print(\"Decision Rule: If p_value ≤ α ⇒ Reject Ho assuming a risk α\")\n",
    "print(\"\")\n",
    "print(\"Results: Chi2 value is: %2.5f\" % chi2, \" p_value full is: \", p, \" p_value rounded : %2.5f\" % p)"
   ]
  },
  {
   "cell_type": "markdown",
   "metadata": {},
   "source": [
    "The Loan_Status depends on the Education. Thus, the \"Education\" may be a good predictor of the outcome variable (Y)."
   ]
  },
  {
   "cell_type": "code",
   "execution_count": 80,
   "metadata": {},
   "outputs": [
    {
     "data": {
      "text/plain": [
       "<matplotlib.legend.Legend at 0xbb91940>"
      ]
     },
     "execution_count": 80,
     "metadata": {},
     "output_type": "execute_result"
    },
    {
     "data": {
      "image/png": "[encoded data removed]",
      "text/plain": [
       "<matplotlib.figure.Figure at 0xd0e2a90>"
      ]
     },
     "metadata": {},
     "output_type": "display_data"
    }
   ],
   "source": [
    "import matplotlib.pyplot as plt\n",
    "pd.crosstab(df.Self_Employed,df.Loan_Status).plot(kind='bar',  alpha=0.75,)\n",
    "plt.title('Loan_Status by Self_Employed')\n",
    "plt.xlabel('Self_Employed')\n",
    "plt.ylabel('')\n",
    "plt.legend(bbox_to_anchor=(1.05, 1), loc=2, borderaxespad=0.)"
   ]
  },
  {
   "cell_type": "code",
   "execution_count": 81,
   "metadata": {},
   "outputs": [
    {
     "data": {
      "text/html": [
       "<div>\n",
       "<style scoped>\n",
       "    .dataframe tbody tr th:only-of-type {\n",
       "        vertical-align: middle;\n",
       "    }\n",
       "\n",
       "    .dataframe tbody tr th {\n",
       "        vertical-align: top;\n",
       "    }\n",
       "\n",
       "    .dataframe thead th {\n",
       "        text-align: right;\n",
       "    }\n",
       "</style>\n",
       "<table border=\"1\" class=\"dataframe\">\n",
       "  <thead>\n",
       "    <tr style=\"text-align: right;\">\n",
       "      <th>Loan_Status</th>\n",
       "      <th>N</th>\n",
       "      <th>Y</th>\n",
       "    </tr>\n",
       "    <tr>\n",
       "      <th>Self_Employed</th>\n",
       "      <th></th>\n",
       "      <th></th>\n",
       "    </tr>\n",
       "  </thead>\n",
       "  <tbody>\n",
       "    <tr>\n",
       "      <th>No</th>\n",
       "      <td>205</td>\n",
       "      <td>602</td>\n",
       "    </tr>\n",
       "    <tr>\n",
       "      <th>Yes</th>\n",
       "      <td>28</td>\n",
       "      <td>91</td>\n",
       "    </tr>\n",
       "  </tbody>\n",
       "</table>\n",
       "</div>"
      ],
      "text/plain": [
       "Loan_Status      N    Y\n",
       "Self_Employed          \n",
       "No             205  602\n",
       "Yes             28   91"
      ]
     },
     "execution_count": 81,
     "metadata": {},
     "output_type": "execute_result"
    }
   ],
   "source": [
    "pd.crosstab(df.Self_Employed,df.Loan_Status)"
   ]
  },
  {
   "cell_type": "code",
   "execution_count": 82,
   "metadata": {},
   "outputs": [
    {
     "name": "stdout",
     "output_type": "stream",
     "text": [
      "Chi-Squared Test of Independence: Ho:X e Y Independent v/s H1:X e Y  Not Independent\n",
      "Decision Rule: If p_value ≤ α ⇒ Reject Ho assuming a risk α\n",
      "\n",
      "Results: Chi2 value is: 0.10659  p_value full is:  0.7440609094762638  p_value rounded : 0.74406\n"
     ]
    }
   ],
   "source": [
    "from scipy.stats import chi2_contingency\n",
    "chi2, p, dof, expected = chi2_contingency(pd.crosstab(df.Self_Employed,df.Loan_Status))\n",
    "#chi2, p\n",
    "\n",
    "print('Chi-Squared Test of Independence: Ho:X e Y Independent v/s H1:X e Y  Not Independent')\n",
    "print(\"Decision Rule: If p_value ≤ α ⇒ Reject Ho assuming a risk α\")\n",
    "print(\"\")\n",
    "print(\"Results: Chi2 value is: %2.5f\" % chi2, \" p_value full is: \", p, \" p_value rounded : %2.5f\" % p)"
   ]
  },
  {
   "cell_type": "markdown",
   "metadata": {},
   "source": [
    "The Loan_Status NOT depends on the Self_Employed. Thus, the \"Self_Employed\" may NOT be a good predictor of the outcome variable (Y)."
   ]
  },
  {
   "cell_type": "code",
   "execution_count": 98,
   "metadata": {},
   "outputs": [
    {
     "data": {
      "text/plain": [
       "<matplotlib.legend.Legend at 0xd2875f8>"
      ]
     },
     "execution_count": 98,
     "metadata": {},
     "output_type": "execute_result"
    },
    {
     "data": {
      "image/png": "[encoded data removed]",
      "text/plain": [
       "<matplotlib.figure.Figure at 0xd287940>"
      ]
     },
     "metadata": {},
     "output_type": "display_data"
    }
   ],
   "source": [
    "import matplotlib.pyplot as plt\n",
    "pd.crosstab(df.Credit_History,df.Loan_Status).plot(kind='bar',  alpha=0.75,)\n",
    "plt.title('Loan_Status by Credit_History')\n",
    "plt.xlabel('Credit_History')\n",
    "plt.ylabel('')\n",
    "plt.legend(bbox_to_anchor=(1.05, 1), loc=2, borderaxespad=0.)"
   ]
  },
  {
   "cell_type": "code",
   "execution_count": 85,
   "metadata": {},
   "outputs": [
    {
     "data": {
      "text/html": [
       "<div>\n",
       "<style scoped>\n",
       "    .dataframe tbody tr th:only-of-type {\n",
       "        vertical-align: middle;\n",
       "    }\n",
       "\n",
       "    .dataframe tbody tr th {\n",
       "        vertical-align: top;\n",
       "    }\n",
       "\n",
       "    .dataframe thead th {\n",
       "        text-align: right;\n",
       "    }\n",
       "</style>\n",
       "<table border=\"1\" class=\"dataframe\">\n",
       "  <thead>\n",
       "    <tr style=\"text-align: right;\">\n",
       "      <th>Loan_Status</th>\n",
       "      <th>N</th>\n",
       "      <th>Y</th>\n",
       "    </tr>\n",
       "    <tr>\n",
       "      <th>Credit_History</th>\n",
       "      <th></th>\n",
       "      <th></th>\n",
       "    </tr>\n",
       "  </thead>\n",
       "  <tbody>\n",
       "    <tr>\n",
       "      <th>0.0</th>\n",
       "      <td>141</td>\n",
       "      <td>7</td>\n",
       "    </tr>\n",
       "    <tr>\n",
       "      <th>1.0</th>\n",
       "      <td>97</td>\n",
       "      <td>657</td>\n",
       "    </tr>\n",
       "  </tbody>\n",
       "</table>\n",
       "</div>"
      ],
      "text/plain": [
       "Loan_Status       N    Y\n",
       "Credit_History          \n",
       "0.0             141    7\n",
       "1.0              97  657"
      ]
     },
     "execution_count": 85,
     "metadata": {},
     "output_type": "execute_result"
    }
   ],
   "source": [
    "pd.crosstab(df.Credit_History,df.Loan_Status)"
   ]
  },
  {
   "cell_type": "code",
   "execution_count": 86,
   "metadata": {},
   "outputs": [
    {
     "name": "stdout",
     "output_type": "stream",
     "text": [
      "Chi-Squared Test of Independence: Ho:X e Y Independent v/s H1:X e Y  Not Independent\n",
      "Decision Rule: If p_value ≤ α ⇒ Reject Ho assuming a risk α\n",
      "\n",
      "Results: Chi2 value is: 428.28915  p_value full is:  3.830500937183836e-95  p_value rounded : 0.00000\n"
     ]
    }
   ],
   "source": [
    "from scipy.stats import chi2_contingency\n",
    "chi2, p, dof, expected = chi2_contingency(pd.crosstab(df.Credit_History,df.Loan_Status))\n",
    "#chi2, p\n",
    "\n",
    "print('Chi-Squared Test of Independence: Ho:X e Y Independent v/s H1:X e Y  Not Independent')\n",
    "print(\"Decision Rule: If p_value ≤ α ⇒ Reject Ho assuming a risk α\")\n",
    "print(\"\")\n",
    "print(\"Results: Chi2 value is: %2.5f\" % chi2, \" p_value full is: \", p, \" p_value rounded : %2.5f\" % p)"
   ]
  },
  {
   "cell_type": "markdown",
   "metadata": {},
   "source": [
    "The Loan_Status depends on the Credit_History. Thus, the \"Credit_History\" may be a good predictor of the outcome variable (Y)."
   ]
  },
  {
   "cell_type": "code",
   "execution_count": 100,
   "metadata": {},
   "outputs": [
    {
     "data": {
      "text/plain": [
       "<matplotlib.legend.Legend at 0xd3d2710>"
      ]
     },
     "execution_count": 100,
     "metadata": {},
     "output_type": "execute_result"
    },
    {
     "data": {
      "image/png": "[encoded data removed]",
      "text/plain": [
       "<matplotlib.figure.Figure at 0xd3fab00>"
      ]
     },
     "metadata": {},
     "output_type": "display_data"
    }
   ],
   "source": [
    "import matplotlib.pyplot as plt\n",
    "pd.crosstab(df.Property_Area,df.Loan_Status).plot(kind='bar',  alpha=0.75,)\n",
    "plt.title('Loan_Status by Property_Area')\n",
    "plt.xlabel('Property_Area')\n",
    "plt.ylabel('')\n",
    "plt.legend(bbox_to_anchor=(1.05, 1), loc=2, borderaxespad=0.)"
   ]
  },
  {
   "cell_type": "code",
   "execution_count": 101,
   "metadata": {},
   "outputs": [
    {
     "data": {
      "text/html": [
       "<div>\n",
       "<style scoped>\n",
       "    .dataframe tbody tr th:only-of-type {\n",
       "        vertical-align: middle;\n",
       "    }\n",
       "\n",
       "    .dataframe tbody tr th {\n",
       "        vertical-align: top;\n",
       "    }\n",
       "\n",
       "    .dataframe thead th {\n",
       "        text-align: right;\n",
       "    }\n",
       "</style>\n",
       "<table border=\"1\" class=\"dataframe\">\n",
       "  <thead>\n",
       "    <tr style=\"text-align: right;\">\n",
       "      <th>Loan_Status</th>\n",
       "      <th>N</th>\n",
       "      <th>Y</th>\n",
       "    </tr>\n",
       "    <tr>\n",
       "      <th>Property_Area</th>\n",
       "      <th></th>\n",
       "      <th></th>\n",
       "    </tr>\n",
       "  </thead>\n",
       "  <tbody>\n",
       "    <tr>\n",
       "      <th>Rural</th>\n",
       "      <td>89</td>\n",
       "      <td>201</td>\n",
       "    </tr>\n",
       "    <tr>\n",
       "      <th>Semiurban</th>\n",
       "      <td>75</td>\n",
       "      <td>274</td>\n",
       "    </tr>\n",
       "    <tr>\n",
       "      <th>Urban</th>\n",
       "      <td>87</td>\n",
       "      <td>255</td>\n",
       "    </tr>\n",
       "  </tbody>\n",
       "</table>\n",
       "</div>"
      ],
      "text/plain": [
       "Loan_Status     N    Y\n",
       "Property_Area         \n",
       "Rural          89  201\n",
       "Semiurban      75  274\n",
       "Urban          87  255"
      ]
     },
     "execution_count": 101,
     "metadata": {},
     "output_type": "execute_result"
    }
   ],
   "source": [
    "pd.crosstab(df.Property_Area,df.Loan_Status)"
   ]
  },
  {
   "cell_type": "code",
   "execution_count": 102,
   "metadata": {},
   "outputs": [
    {
     "name": "stdout",
     "output_type": "stream",
     "text": [
      "Chi-Squared Test of Independence: Ho:X e Y Independent v/s H1:X e Y  Not Independent\n",
      "Decision Rule: If p_value ≤ α ⇒ Reject Ho assuming a risk α\n",
      "\n",
      "Results: Chi2 value is: 7.04660  p_value full is:  0.029501844716874247  p_value rounded : 0.02950\n"
     ]
    }
   ],
   "source": [
    "from scipy.stats import chi2_contingency\n",
    "chi2, p, dof, expected = chi2_contingency(pd.crosstab(df.Property_Area,df.Loan_Status))\n",
    "#chi2, p\n",
    "\n",
    "print('Chi-Squared Test of Independence: Ho:X e Y Independent v/s H1:X e Y  Not Independent')\n",
    "print(\"Decision Rule: If p_value ≤ α ⇒ Reject Ho assuming a risk α\")\n",
    "print(\"\")\n",
    "print(\"Results: Chi2 value is: %2.5f\" % chi2, \" p_value full is: \", p, \" p_value rounded : %2.5f\" % p)"
   ]
  },
  {
   "cell_type": "markdown",
   "metadata": {},
   "source": [
    "The Loan_Status depends on the Property_Area. Thus, the \"Property_Area\" may be a good predictor of the outcome variable (Y)."
   ]
  },
  {
   "cell_type": "markdown",
   "metadata": {},
   "source": [
    "The following table presents a summary of the results of the Chi-Squared Test of Independence run between Loan_Status and the categorical variables."
   ]
  },
  {
   "cell_type": "markdown",
   "metadata": {},
   "source": [
    "![My Title](Visual/Summary/Summary1.png)"
   ]
  },
  {
   "cell_type": "markdown",
   "metadata": {},
   "source": [
    "So, taking into account a 5% of risk we should expect that variables \"Gender\", \"Dependents\", and \"Self_Employed\" may NOT be good predictors for \"Loan_Status\" under a Logistic Regression model.\n"
   ]
  },
  {
   "cell_type": "markdown",
   "metadata": {},
   "source": [
    "### ABOUT  VARIABLES DISTRIBUTION"
   ]
  },
  {
   "cell_type": "markdown",
   "metadata": {},
   "source": [
    "The following visualizations are made following some ideas similar to the ones exposed [here](https://matplotlib.org/gallery/statistics/histogram_multihist.html). The adaptation of the data and the manipulation of attributes in the graphics are done using the Panda and Matplotlib libraries, respectively."
   ]
  },
  {
   "cell_type": "markdown",
   "metadata": {},
   "source": [
    "### General Distribution"
   ]
  },
  {
   "cell_type": "markdown",
   "metadata": {},
   "source": [
    "#### ApplicantIncome"
   ]
  },
  {
   "cell_type": "markdown",
   "metadata": {},
   "source": [
    "![My Title](Visual/ApplicantIncome/ApplicantIncome_with_Rest.png)"
   ]
  },
  {
   "cell_type": "markdown",
   "metadata": {},
   "source": [
    "A marked asymmetry towards low values of ApplicantIncome as well as the presence of very marked outliers towards high values is observed through all the distribution graphs of the variable. In the same mode, the shape of the curve is very similar throughout all the graphs."
   ]
  },
  {
   "cell_type": "markdown",
   "metadata": {},
   "source": [
    "#### CoapplicantIncome"
   ]
  },
  {
   "cell_type": "markdown",
   "metadata": {},
   "source": [
    "![My Title](Visual/CoapplicantIncome/CoapplicantIncome_with_Rest.png)"
   ]
  },
  {
   "cell_type": "markdown",
   "metadata": {},
   "source": [
    "A marked asymmetry towards low values of CoapplicantIncome as well as the presence of very marked outliers towards high values is observed through all the distribution graphs of the variable. In the same mode, the shape of the curve is very similar throughout all the graphs."
   ]
  },
  {
   "cell_type": "markdown",
   "metadata": {},
   "source": [
    "#### Loan_Amount"
   ]
  },
  {
   "cell_type": "markdown",
   "metadata": {},
   "source": [
    "![My Title](Visual/LoanAmount/LoanAmount_with_Rest.png)"
   ]
  },
  {
   "cell_type": "markdown",
   "metadata": {},
   "source": [
    "A marked asymmetry towards low values of Loan_Amount as well as the presence of very marked outliers towards high values is observed through all the distribution graphs of the variable. In the same mode, the shape of the curve is very similar throughout all the graphs."
   ]
  },
  {
   "cell_type": "markdown",
   "metadata": {},
   "source": [
    "#### Loan_Amount_Term"
   ]
  },
  {
   "cell_type": "markdown",
   "metadata": {},
   "source": [
    "![My Title](Visual/Loan_Amount_Term/Loan_Amount_Term_with_Rest.png)"
   ]
  },
  {
   "cell_type": "markdown",
   "metadata": {},
   "source": [
    "The Loan_Amount_Term tend to be grouped mostly around 400. However, there is also a non-negligible group that is around 200."
   ]
  },
  {
   "cell_type": "markdown",
   "metadata": {},
   "source": [
    "### Average by groupping variables"
   ]
  },
  {
   "cell_type": "code",
   "execution_count": 27,
   "metadata": {},
   "outputs": [
    {
     "data": {
      "text/html": [
       "<div>\n",
       "<style scoped>\n",
       "    .dataframe tbody tr th:only-of-type {\n",
       "        vertical-align: middle;\n",
       "    }\n",
       "\n",
       "    .dataframe tbody tr th {\n",
       "        vertical-align: top;\n",
       "    }\n",
       "\n",
       "    .dataframe thead tr th {\n",
       "        text-align: left;\n",
       "    }\n",
       "\n",
       "    .dataframe thead tr:last-of-type th {\n",
       "        text-align: right;\n",
       "    }\n",
       "</style>\n",
       "<table border=\"1\" class=\"dataframe\">\n",
       "  <thead>\n",
       "    <tr>\n",
       "      <th></th>\n",
       "      <th colspan=\"2\" halign=\"left\">ApplicantIncome</th>\n",
       "      <th colspan=\"2\" halign=\"left\">CoapplicantIncome</th>\n",
       "      <th colspan=\"2\" halign=\"left\">LoanAmount</th>\n",
       "      <th colspan=\"2\" halign=\"left\">Loan_Amount_Term</th>\n",
       "    </tr>\n",
       "    <tr>\n",
       "      <th></th>\n",
       "      <th>mean</th>\n",
       "      <th>std</th>\n",
       "      <th>mean</th>\n",
       "      <th>std</th>\n",
       "      <th>mean</th>\n",
       "      <th>std</th>\n",
       "      <th>mean</th>\n",
       "      <th>std</th>\n",
       "    </tr>\n",
       "    <tr>\n",
       "      <th>Gender</th>\n",
       "      <th></th>\n",
       "      <th></th>\n",
       "      <th></th>\n",
       "      <th></th>\n",
       "      <th></th>\n",
       "      <th></th>\n",
       "      <th></th>\n",
       "      <th></th>\n",
       "    </tr>\n",
       "  </thead>\n",
       "  <tbody>\n",
       "    <tr>\n",
       "      <th>Female</th>\n",
       "      <td>4458.91</td>\n",
       "      <td>3256.53</td>\n",
       "      <td>1132.60</td>\n",
       "      <td>3431.76</td>\n",
       "      <td>126.74</td>\n",
       "      <td>72.62</td>\n",
       "      <td>351.75</td>\n",
       "      <td>56.55</td>\n",
       "    </tr>\n",
       "    <tr>\n",
       "      <th>Male</th>\n",
       "      <td>5256.93</td>\n",
       "      <td>5838.82</td>\n",
       "      <td>1716.34</td>\n",
       "      <td>2542.84</td>\n",
       "      <td>145.43</td>\n",
       "      <td>75.84</td>\n",
       "      <td>339.94</td>\n",
       "      <td>67.20</td>\n",
       "    </tr>\n",
       "  </tbody>\n",
       "</table>\n",
       "</div>"
      ],
      "text/plain": [
       "       ApplicantIncome          CoapplicantIncome          LoanAmount         \\\n",
       "                  mean      std              mean      std       mean    std   \n",
       "Gender                                                                         \n",
       "Female         4458.91  3256.53           1132.60  3431.76     126.74  72.62   \n",
       "Male           5256.93  5838.82           1716.34  2542.84     145.43  75.84   \n",
       "\n",
       "       Loan_Amount_Term         \n",
       "                   mean    std  \n",
       "Gender                          \n",
       "Female           351.75  56.55  \n",
       "Male             339.94  67.20  "
      ]
     },
     "execution_count": 27,
     "metadata": {},
     "output_type": "execute_result"
    }
   ],
   "source": [
    "#Gender and the rest:\n",
    "var_list = ['ApplicantIncome', 'CoapplicantIncome',\t'LoanAmount', 'Loan_Amount_Term']\n",
    "df1 = df.pivot_table(index=['Gender'], values=var_list, aggfunc=('mean','std'))\n",
    "round(df1,2)\n"
   ]
  },
  {
   "cell_type": "code",
   "execution_count": 28,
   "metadata": {},
   "outputs": [
    {
     "data": {
      "text/html": [
       "<div>\n",
       "<style scoped>\n",
       "    .dataframe tbody tr th:only-of-type {\n",
       "        vertical-align: middle;\n",
       "    }\n",
       "\n",
       "    .dataframe tbody tr th {\n",
       "        vertical-align: top;\n",
       "    }\n",
       "\n",
       "    .dataframe thead tr th {\n",
       "        text-align: left;\n",
       "    }\n",
       "\n",
       "    .dataframe thead tr:last-of-type th {\n",
       "        text-align: right;\n",
       "    }\n",
       "</style>\n",
       "<table border=\"1\" class=\"dataframe\">\n",
       "  <thead>\n",
       "    <tr>\n",
       "      <th></th>\n",
       "      <th colspan=\"2\" halign=\"left\">ApplicantIncome</th>\n",
       "      <th colspan=\"2\" halign=\"left\">CoapplicantIncome</th>\n",
       "      <th colspan=\"2\" halign=\"left\">LoanAmount</th>\n",
       "      <th colspan=\"2\" halign=\"left\">Loan_Amount_Term</th>\n",
       "    </tr>\n",
       "    <tr>\n",
       "      <th></th>\n",
       "      <th>mean</th>\n",
       "      <th>std</th>\n",
       "      <th>mean</th>\n",
       "      <th>std</th>\n",
       "      <th>mean</th>\n",
       "      <th>std</th>\n",
       "      <th>mean</th>\n",
       "      <th>std</th>\n",
       "    </tr>\n",
       "    <tr>\n",
       "      <th>Married</th>\n",
       "      <th></th>\n",
       "      <th></th>\n",
       "      <th></th>\n",
       "      <th></th>\n",
       "      <th></th>\n",
       "      <th></th>\n",
       "      <th></th>\n",
       "      <th></th>\n",
       "    </tr>\n",
       "  </thead>\n",
       "  <tbody>\n",
       "    <tr>\n",
       "      <th>No</th>\n",
       "      <td>4778.73</td>\n",
       "      <td>3925.41</td>\n",
       "      <td>1375.63</td>\n",
       "      <td>3711.78</td>\n",
       "      <td>126.01</td>\n",
       "      <td>64.53</td>\n",
       "      <td>346.47</td>\n",
       "      <td>62.35</td>\n",
       "    </tr>\n",
       "    <tr>\n",
       "      <th>Yes</th>\n",
       "      <td>5395.46</td>\n",
       "      <td>6466.42</td>\n",
       "      <td>1732.78</td>\n",
       "      <td>1969.01</td>\n",
       "      <td>151.62</td>\n",
       "      <td>82.48</td>\n",
       "      <td>339.76</td>\n",
       "      <td>66.29</td>\n",
       "    </tr>\n",
       "  </tbody>\n",
       "</table>\n",
       "</div>"
      ],
      "text/plain": [
       "        ApplicantIncome          CoapplicantIncome          LoanAmount         \\\n",
       "                   mean      std              mean      std       mean    std   \n",
       "Married                                                                         \n",
       "No              4778.73  3925.41           1375.63  3711.78     126.01  64.53   \n",
       "Yes             5395.46  6466.42           1732.78  1969.01     151.62  82.48   \n",
       "\n",
       "        Loan_Amount_Term         \n",
       "                    mean    std  \n",
       "Married                          \n",
       "No                346.47  62.35  \n",
       "Yes               339.76  66.29  "
      ]
     },
     "execution_count": 28,
     "metadata": {},
     "output_type": "execute_result"
    }
   ],
   "source": [
    "#Married and the rest:\n",
    "var_list = ['ApplicantIncome', 'CoapplicantIncome',\t'LoanAmount', 'Loan_Amount_Term']\n",
    "df2 = df.pivot_table(index=['Married'], values=var_list, aggfunc=('mean','std'))\n",
    "round(df2,2)"
   ]
  },
  {
   "cell_type": "code",
   "execution_count": 29,
   "metadata": {},
   "outputs": [
    {
     "data": {
      "text/html": [
       "<div>\n",
       "<style scoped>\n",
       "    .dataframe tbody tr th:only-of-type {\n",
       "        vertical-align: middle;\n",
       "    }\n",
       "\n",
       "    .dataframe tbody tr th {\n",
       "        vertical-align: top;\n",
       "    }\n",
       "\n",
       "    .dataframe thead tr th {\n",
       "        text-align: left;\n",
       "    }\n",
       "\n",
       "    .dataframe thead tr:last-of-type th {\n",
       "        text-align: right;\n",
       "    }\n",
       "</style>\n",
       "<table border=\"1\" class=\"dataframe\">\n",
       "  <thead>\n",
       "    <tr>\n",
       "      <th></th>\n",
       "      <th colspan=\"2\" halign=\"left\">ApplicantIncome</th>\n",
       "      <th colspan=\"2\" halign=\"left\">CoapplicantIncome</th>\n",
       "      <th colspan=\"2\" halign=\"left\">LoanAmount</th>\n",
       "      <th colspan=\"2\" halign=\"left\">Loan_Amount_Term</th>\n",
       "    </tr>\n",
       "    <tr>\n",
       "      <th></th>\n",
       "      <th>mean</th>\n",
       "      <th>std</th>\n",
       "      <th>mean</th>\n",
       "      <th>std</th>\n",
       "      <th>mean</th>\n",
       "      <th>std</th>\n",
       "      <th>mean</th>\n",
       "      <th>std</th>\n",
       "    </tr>\n",
       "    <tr>\n",
       "      <th>Dependents</th>\n",
       "      <th></th>\n",
       "      <th></th>\n",
       "      <th></th>\n",
       "      <th></th>\n",
       "      <th></th>\n",
       "      <th></th>\n",
       "      <th></th>\n",
       "      <th></th>\n",
       "    </tr>\n",
       "  </thead>\n",
       "  <tbody>\n",
       "    <tr>\n",
       "      <th>0</th>\n",
       "      <td>4706.22</td>\n",
       "      <td>4515.74</td>\n",
       "      <td>1620.42</td>\n",
       "      <td>2620.19</td>\n",
       "      <td>133.86</td>\n",
       "      <td>68.60</td>\n",
       "      <td>346.98</td>\n",
       "      <td>59.03</td>\n",
       "    </tr>\n",
       "    <tr>\n",
       "      <th>1</th>\n",
       "      <td>5534.10</td>\n",
       "      <td>5114.16</td>\n",
       "      <td>1558.76</td>\n",
       "      <td>1711.65</td>\n",
       "      <td>149.39</td>\n",
       "      <td>85.76</td>\n",
       "      <td>335.46</td>\n",
       "      <td>70.83</td>\n",
       "    </tr>\n",
       "    <tr>\n",
       "      <th>2</th>\n",
       "      <td>4907.16</td>\n",
       "      <td>2926.05</td>\n",
       "      <td>1715.02</td>\n",
       "      <td>2592.15</td>\n",
       "      <td>151.67</td>\n",
       "      <td>71.16</td>\n",
       "      <td>340.88</td>\n",
       "      <td>67.58</td>\n",
       "    </tr>\n",
       "    <tr>\n",
       "      <th>3+</th>\n",
       "      <td>7865.20</td>\n",
       "      <td>12513.00</td>\n",
       "      <td>1527.04</td>\n",
       "      <td>4621.43</td>\n",
       "      <td>170.88</td>\n",
       "      <td>113.42</td>\n",
       "      <td>327.64</td>\n",
       "      <td>77.31</td>\n",
       "    </tr>\n",
       "  </tbody>\n",
       "</table>\n",
       "</div>"
      ],
      "text/plain": [
       "           ApplicantIncome           CoapplicantIncome          LoanAmount  \\\n",
       "                      mean       std              mean      std       mean   \n",
       "Dependents                                                                   \n",
       "0                  4706.22   4515.74           1620.42  2620.19     133.86   \n",
       "1                  5534.10   5114.16           1558.76  1711.65     149.39   \n",
       "2                  4907.16   2926.05           1715.02  2592.15     151.67   \n",
       "3+                 7865.20  12513.00           1527.04  4621.43     170.88   \n",
       "\n",
       "                   Loan_Amount_Term         \n",
       "               std             mean    std  \n",
       "Dependents                                  \n",
       "0            68.60           346.98  59.03  \n",
       "1            85.76           335.46  70.83  \n",
       "2            71.16           340.88  67.58  \n",
       "3+          113.42           327.64  77.31  "
      ]
     },
     "execution_count": 29,
     "metadata": {},
     "output_type": "execute_result"
    }
   ],
   "source": [
    "#Dependents and the rest:\n",
    "var_list = ['ApplicantIncome', 'CoapplicantIncome',\t'LoanAmount', 'Loan_Amount_Term']\n",
    "df3 = df.pivot_table(index=['Dependents'], values=var_list, aggfunc=('mean','std'))\n",
    "round(df3,2)"
   ]
  },
  {
   "cell_type": "code",
   "execution_count": 30,
   "metadata": {},
   "outputs": [
    {
     "data": {
      "text/html": [
       "<div>\n",
       "<style scoped>\n",
       "    .dataframe tbody tr th:only-of-type {\n",
       "        vertical-align: middle;\n",
       "    }\n",
       "\n",
       "    .dataframe tbody tr th {\n",
       "        vertical-align: top;\n",
       "    }\n",
       "\n",
       "    .dataframe thead tr th {\n",
       "        text-align: left;\n",
       "    }\n",
       "\n",
       "    .dataframe thead tr:last-of-type th {\n",
       "        text-align: right;\n",
       "    }\n",
       "</style>\n",
       "<table border=\"1\" class=\"dataframe\">\n",
       "  <thead>\n",
       "    <tr>\n",
       "      <th></th>\n",
       "      <th colspan=\"2\" halign=\"left\">ApplicantIncome</th>\n",
       "      <th colspan=\"2\" halign=\"left\">CoapplicantIncome</th>\n",
       "      <th colspan=\"2\" halign=\"left\">LoanAmount</th>\n",
       "      <th colspan=\"2\" halign=\"left\">Loan_Amount_Term</th>\n",
       "    </tr>\n",
       "    <tr>\n",
       "      <th></th>\n",
       "      <th>mean</th>\n",
       "      <th>std</th>\n",
       "      <th>mean</th>\n",
       "      <th>std</th>\n",
       "      <th>mean</th>\n",
       "      <th>std</th>\n",
       "      <th>mean</th>\n",
       "      <th>std</th>\n",
       "    </tr>\n",
       "    <tr>\n",
       "      <th>Education</th>\n",
       "      <th></th>\n",
       "      <th></th>\n",
       "      <th></th>\n",
       "      <th></th>\n",
       "      <th></th>\n",
       "      <th></th>\n",
       "      <th></th>\n",
       "      <th></th>\n",
       "    </tr>\n",
       "  </thead>\n",
       "  <tbody>\n",
       "    <tr>\n",
       "      <th>Graduate</th>\n",
       "      <td>5602.44</td>\n",
       "      <td>6295.00</td>\n",
       "      <td>1689.62</td>\n",
       "      <td>2967.00</td>\n",
       "      <td>149.30</td>\n",
       "      <td>84.05</td>\n",
       "      <td>343.04</td>\n",
       "      <td>63.44</td>\n",
       "    </tr>\n",
       "    <tr>\n",
       "      <th>Not Graduate</th>\n",
       "      <td>3700.54</td>\n",
       "      <td>2121.23</td>\n",
       "      <td>1294.96</td>\n",
       "      <td>1532.31</td>\n",
       "      <td>118.47</td>\n",
       "      <td>38.41</td>\n",
       "      <td>339.20</td>\n",
       "      <td>70.81</td>\n",
       "    </tr>\n",
       "  </tbody>\n",
       "</table>\n",
       "</div>"
      ],
      "text/plain": [
       "             ApplicantIncome          CoapplicantIncome          LoanAmount  \\\n",
       "                        mean      std              mean      std       mean   \n",
       "Education                                                                     \n",
       "Graduate             5602.44  6295.00           1689.62  2967.00     149.30   \n",
       "Not Graduate         3700.54  2121.23           1294.96  1532.31     118.47   \n",
       "\n",
       "                    Loan_Amount_Term         \n",
       "                std             mean    std  \n",
       "Education                                    \n",
       "Graduate      84.05           343.04  63.44  \n",
       "Not Graduate  38.41           339.20  70.81  "
      ]
     },
     "execution_count": 30,
     "metadata": {},
     "output_type": "execute_result"
    }
   ],
   "source": [
    "#Education and the rest:\n",
    "var_list = ['ApplicantIncome', 'CoapplicantIncome',\t'LoanAmount', 'Loan_Amount_Term']\n",
    "df4 = df.pivot_table(index=['Education'], values=var_list, aggfunc=('mean','std'))\n",
    "round(df4,2)\n"
   ]
  },
  {
   "cell_type": "code",
   "execution_count": 31,
   "metadata": {},
   "outputs": [
    {
     "data": {
      "text/html": [
       "<div>\n",
       "<style scoped>\n",
       "    .dataframe tbody tr th:only-of-type {\n",
       "        vertical-align: middle;\n",
       "    }\n",
       "\n",
       "    .dataframe tbody tr th {\n",
       "        vertical-align: top;\n",
       "    }\n",
       "\n",
       "    .dataframe thead tr th {\n",
       "        text-align: left;\n",
       "    }\n",
       "\n",
       "    .dataframe thead tr:last-of-type th {\n",
       "        text-align: right;\n",
       "    }\n",
       "</style>\n",
       "<table border=\"1\" class=\"dataframe\">\n",
       "  <thead>\n",
       "    <tr>\n",
       "      <th></th>\n",
       "      <th colspan=\"2\" halign=\"left\">ApplicantIncome</th>\n",
       "      <th colspan=\"2\" halign=\"left\">CoapplicantIncome</th>\n",
       "      <th colspan=\"2\" halign=\"left\">LoanAmount</th>\n",
       "      <th colspan=\"2\" halign=\"left\">Loan_Amount_Term</th>\n",
       "    </tr>\n",
       "    <tr>\n",
       "      <th></th>\n",
       "      <th>mean</th>\n",
       "      <th>std</th>\n",
       "      <th>mean</th>\n",
       "      <th>std</th>\n",
       "      <th>mean</th>\n",
       "      <th>std</th>\n",
       "      <th>mean</th>\n",
       "      <th>std</th>\n",
       "    </tr>\n",
       "    <tr>\n",
       "      <th>Self_Employed</th>\n",
       "      <th></th>\n",
       "      <th></th>\n",
       "      <th></th>\n",
       "      <th></th>\n",
       "      <th></th>\n",
       "      <th></th>\n",
       "      <th></th>\n",
       "      <th></th>\n",
       "    </tr>\n",
       "  </thead>\n",
       "  <tbody>\n",
       "    <tr>\n",
       "      <th>No</th>\n",
       "      <td>4892.03</td>\n",
       "      <td>5406.79</td>\n",
       "      <td>1582.89</td>\n",
       "      <td>2439.67</td>\n",
       "      <td>138.66</td>\n",
       "      <td>72.24</td>\n",
       "      <td>343.47</td>\n",
       "      <td>64.12</td>\n",
       "    </tr>\n",
       "    <tr>\n",
       "      <th>Yes</th>\n",
       "      <td>6912.58</td>\n",
       "      <td>5727.30</td>\n",
       "      <td>1463.97</td>\n",
       "      <td>2462.24</td>\n",
       "      <td>165.04</td>\n",
       "      <td>101.75</td>\n",
       "      <td>336.72</td>\n",
       "      <td>70.95</td>\n",
       "    </tr>\n",
       "  </tbody>\n",
       "</table>\n",
       "</div>"
      ],
      "text/plain": [
       "              ApplicantIncome          CoapplicantIncome          LoanAmount  \\\n",
       "                         mean      std              mean      std       mean   \n",
       "Self_Employed                                                                  \n",
       "No                    4892.03  5406.79           1582.89  2439.67     138.66   \n",
       "Yes                   6912.58  5727.30           1463.97  2462.24     165.04   \n",
       "\n",
       "                      Loan_Amount_Term         \n",
       "                  std             mean    std  \n",
       "Self_Employed                                  \n",
       "No              72.24           343.47  64.12  \n",
       "Yes            101.75           336.72  70.95  "
      ]
     },
     "execution_count": 31,
     "metadata": {},
     "output_type": "execute_result"
    }
   ],
   "source": [
    "#Self_Employed and the rest:\n",
    "var_list = ['ApplicantIncome', 'CoapplicantIncome',\t'LoanAmount', 'Loan_Amount_Term']\n",
    "df5 = df.pivot_table(index=['Self_Employed'], values=var_list, aggfunc=('mean','std'))\n",
    "round(df5,2)"
   ]
  },
  {
   "cell_type": "code",
   "execution_count": 32,
   "metadata": {},
   "outputs": [
    {
     "data": {
      "text/html": [
       "<div>\n",
       "<style scoped>\n",
       "    .dataframe tbody tr th:only-of-type {\n",
       "        vertical-align: middle;\n",
       "    }\n",
       "\n",
       "    .dataframe tbody tr th {\n",
       "        vertical-align: top;\n",
       "    }\n",
       "\n",
       "    .dataframe thead tr th {\n",
       "        text-align: left;\n",
       "    }\n",
       "\n",
       "    .dataframe thead tr:last-of-type th {\n",
       "        text-align: right;\n",
       "    }\n",
       "</style>\n",
       "<table border=\"1\" class=\"dataframe\">\n",
       "  <thead>\n",
       "    <tr>\n",
       "      <th></th>\n",
       "      <th colspan=\"2\" halign=\"left\">ApplicantIncome</th>\n",
       "      <th colspan=\"2\" halign=\"left\">CoapplicantIncome</th>\n",
       "      <th colspan=\"2\" halign=\"left\">LoanAmount</th>\n",
       "      <th colspan=\"2\" halign=\"left\">Loan_Amount_Term</th>\n",
       "    </tr>\n",
       "    <tr>\n",
       "      <th></th>\n",
       "      <th>mean</th>\n",
       "      <th>std</th>\n",
       "      <th>mean</th>\n",
       "      <th>std</th>\n",
       "      <th>mean</th>\n",
       "      <th>std</th>\n",
       "      <th>mean</th>\n",
       "      <th>std</th>\n",
       "    </tr>\n",
       "    <tr>\n",
       "      <th>Property_Area</th>\n",
       "      <th></th>\n",
       "      <th></th>\n",
       "      <th></th>\n",
       "      <th></th>\n",
       "      <th></th>\n",
       "      <th></th>\n",
       "      <th></th>\n",
       "      <th></th>\n",
       "    </tr>\n",
       "  </thead>\n",
       "  <tbody>\n",
       "    <tr>\n",
       "      <th>Rural</th>\n",
       "      <td>5178.92</td>\n",
       "      <td>5631.77</td>\n",
       "      <td>1752.61</td>\n",
       "      <td>2460.84</td>\n",
       "      <td>146.79</td>\n",
       "      <td>72.13</td>\n",
       "      <td>344.20</td>\n",
       "      <td>58.00</td>\n",
       "    </tr>\n",
       "    <tr>\n",
       "      <th>Semiurban</th>\n",
       "      <td>5110.59</td>\n",
       "      <td>5056.62</td>\n",
       "      <td>1503.94</td>\n",
       "      <td>2126.11</td>\n",
       "      <td>141.68</td>\n",
       "      <td>75.73</td>\n",
       "      <td>345.10</td>\n",
       "      <td>62.83</td>\n",
       "    </tr>\n",
       "    <tr>\n",
       "      <th>Urban</th>\n",
       "      <td>5251.15</td>\n",
       "      <td>6342.57</td>\n",
       "      <td>1574.12</td>\n",
       "      <td>3386.41</td>\n",
       "      <td>139.69</td>\n",
       "      <td>83.40</td>\n",
       "      <td>337.48</td>\n",
       "      <td>72.66</td>\n",
       "    </tr>\n",
       "  </tbody>\n",
       "</table>\n",
       "</div>"
      ],
      "text/plain": [
       "              ApplicantIncome          CoapplicantIncome          LoanAmount  \\\n",
       "                         mean      std              mean      std       mean   \n",
       "Property_Area                                                                  \n",
       "Rural                 5178.92  5631.77           1752.61  2460.84     146.79   \n",
       "Semiurban             5110.59  5056.62           1503.94  2126.11     141.68   \n",
       "Urban                 5251.15  6342.57           1574.12  3386.41     139.69   \n",
       "\n",
       "                     Loan_Amount_Term         \n",
       "                 std             mean    std  \n",
       "Property_Area                                 \n",
       "Rural          72.13           344.20  58.00  \n",
       "Semiurban      75.73           345.10  62.83  \n",
       "Urban          83.40           337.48  72.66  "
      ]
     },
     "execution_count": 32,
     "metadata": {},
     "output_type": "execute_result"
    }
   ],
   "source": [
    "#Property_Area and the rest:\n",
    "var_list = ['ApplicantIncome', 'CoapplicantIncome',\t'LoanAmount', 'Loan_Amount_Term']\n",
    "df6 = df.pivot_table(index=['Property_Area'], values=var_list, aggfunc=('mean','std'))\n",
    "round(df6,2)"
   ]
  },
  {
   "cell_type": "markdown",
   "metadata": {},
   "source": [
    "The following table present a summary of the averages by groupping variables."
   ]
  },
  {
   "cell_type": "markdown",
   "metadata": {},
   "source": [
    "#averages by groupping variables\n",
    "![My Title](Visual/Summary/Summary2.png)"
   ]
  },
  {
   "cell_type": "markdown",
   "metadata": {},
   "source": [
    "* The highest averages are 7865.20 (category 3+ dependents) and 6912.58 (category Yes Self_Employed).\n",
    "* The highest LoanAmount averages are 170.88 (category 3+ dependents) and 165.04 (category Yes Self_Employed).\n",
    "* Through all the variables and categories, the most heterogeneous distributions (the highest cv ) are \"category 3+, * Dependents\" and \"category Urban, Property_Area\" while both are present in the variable ApplicantIncome.\n",
    "* ApplicantIncome presents the most heterogeneous distribution (cv = 1.10) among all the variables.\n",
    "* Loan_Ammount_Term has the most homogeneous distribution (cv = 0.19) among all the variables.\n"
   ]
  },
  {
   "cell_type": "markdown",
   "metadata": {},
   "source": [
    "# IV DATA MUNGING AND FEATURES ENGINE"
   ]
  },
  {
   "cell_type": "markdown",
   "metadata": {},
   "source": [
    "## DATA MUNGING"
   ]
  },
  {
   "cell_type": "markdown",
   "metadata": {},
   "source": [
    "### ABOUT MISSING VALUES ASSESSMENT\n",
    "\n",
    "One of the first things we should look for is missing data. We already know that our dataset has missing values.  The distribution of them by each feature in the dataset is:"
   ]
  },
  {
   "cell_type": "code",
   "execution_count": 74,
   "metadata": {},
   "outputs": [
    {
     "data": {
      "text/plain": [
       "Loan_ID               0\n",
       "Gender               24\n",
       "Married               3\n",
       "Dependents           25\n",
       "Education             0\n",
       "Self_Employed        55\n",
       "ApplicantIncome       0\n",
       "CoapplicantIncome     0\n",
       "LoanAmount           27\n",
       "Loan_Amount_Term     20\n",
       "Credit_History       79\n",
       "Property_Area         0\n",
       "Loan_Status           0\n",
       "dtype: int64"
      ]
     },
     "execution_count": 74,
     "metadata": {},
     "output_type": "execute_result"
    }
   ],
   "source": [
    "# check missing values in dataset\n",
    "df.isnull().sum()"
   ]
  },
  {
   "cell_type": "markdown",
   "metadata": {},
   "source": [
    "More than 50% of the variables have missing values. For the categorical variables, the missing data will be replaced by the respective \"mode\". For the other two variables, we will go over them to see how we can fill those missing values in a reasonable way."
   ]
  },
  {
   "cell_type": "markdown",
   "metadata": {},
   "source": [
    "## Categorical  and Loan_Amount_Term variables"
   ]
  },
  {
   "cell_type": "code",
   "execution_count": 5,
   "metadata": {},
   "outputs": [],
   "source": [
    "# fill in missing values\n",
    "df['Gender'].fillna(df['Gender'].mode()[0], inplace=True)\n",
    "df['Married'].fillna(df['Married'].mode()[0], inplace=True)\n",
    "df['Dependents'].fillna(df['Dependents'].mode()[0], inplace=True)\n",
    "df['Self_Employed'].fillna(df['Self_Employed'].mode()[0], inplace=True)\n",
    "df['Loan_Amount_Term'].fillna(df['Loan_Amount_Term'].mode()[0], inplace=True)\n",
    "df['Credit_History'].fillna(df['Credit_History'].mode()[0], inplace=True)"
   ]
  },
  {
   "cell_type": "code",
   "execution_count": 6,
   "metadata": {},
   "outputs": [
    {
     "data": {
      "text/plain": [
       "Loan_ID               0\n",
       "Gender                0\n",
       "Married               0\n",
       "Dependents            0\n",
       "Education             0\n",
       "Self_Employed         0\n",
       "ApplicantIncome       0\n",
       "CoapplicantIncome     0\n",
       "LoanAmount           27\n",
       "Loan_Amount_Term      0\n",
       "Credit_History        0\n",
       "Property_Area         0\n",
       "Loan_Status           0\n",
       "dtype: int64"
      ]
     },
     "execution_count": 6,
     "metadata": {},
     "output_type": "execute_result"
    }
   ],
   "source": [
    "# checking for missing values \n",
    "df.apply(lambda x: sum(x.isnull()),axis=0)"
   ]
  },
  {
   "cell_type": "markdown",
   "metadata": {},
   "source": [
    "##  Non Categorical Variables"
   ]
  },
  {
   "cell_type": "markdown",
   "metadata": {},
   "source": [
    "### LoanAmount - Missing Values"
   ]
  },
  {
   "cell_type": "markdown",
   "metadata": {},
   "source": [
    "To fill the missing values of loanAmount is considered the categorical variables that indicated to be statistically significant in their contribution to predict Loans_Status.\n",
    "\n",
    "It is used the median of LoanAmount corresponding to the subsample of data generated through the crossing of all of the selected categorical variables.\n",
    "\n",
    "First, let’s look at the boxplot of all categorical variables to find out about the existence of a trend."
   ]
  },
  {
   "cell_type": "code",
   "execution_count": 22,
   "metadata": {},
   "outputs": [
    {
     "data": {
      "text/plain": [
       "<matplotlib.axes._subplots.AxesSubplot at 0xbcb3550>"
      ]
     },
     "execution_count": 22,
     "metadata": {},
     "output_type": "execute_result"
    },
    {
     "data": {
      "image/png": "[encoded data removed]",
      "text/plain": [
       "<matplotlib.figure.Figure at 0xbc96da0>"
      ]
     },
     "metadata": {},
     "output_type": "display_data"
    }
   ],
   "source": [
    "#plt.subplots(nrows=1, ncols=1, figsize=(12,7))\n",
    "df.boxplot(column='LoanAmount', by = ['Credit_History','Property_Area','Education', 'Married'])"
   ]
  },
  {
   "cell_type": "markdown",
   "metadata": {},
   "source": [
    "We can see the median throughout groups is different.  So, they can be used to impute the values.\n",
    "\n",
    "The next pivot table generates the median values for all the groups."
   ]
  },
  {
   "cell_type": "code",
   "execution_count": 7,
   "metadata": {},
   "outputs": [
    {
     "data": {
      "text/html": [
       "<div>\n",
       "<style scoped>\n",
       "    .dataframe tbody tr th:only-of-type {\n",
       "        vertical-align: middle;\n",
       "    }\n",
       "\n",
       "    .dataframe tbody tr th {\n",
       "        vertical-align: top;\n",
       "    }\n",
       "\n",
       "    .dataframe thead tr th {\n",
       "        text-align: left;\n",
       "    }\n",
       "\n",
       "    .dataframe thead tr:last-of-type th {\n",
       "        text-align: right;\n",
       "    }\n",
       "</style>\n",
       "<table border=\"1\" class=\"dataframe\">\n",
       "  <thead>\n",
       "    <tr>\n",
       "      <th>Property_Area</th>\n",
       "      <th colspan=\"4\" halign=\"left\">Rural</th>\n",
       "      <th colspan=\"4\" halign=\"left\">Semiurban</th>\n",
       "      <th colspan=\"4\" halign=\"left\">Urban</th>\n",
       "    </tr>\n",
       "    <tr>\n",
       "      <th>Education</th>\n",
       "      <th colspan=\"2\" halign=\"left\">Graduate</th>\n",
       "      <th colspan=\"2\" halign=\"left\">Not Graduate</th>\n",
       "      <th colspan=\"2\" halign=\"left\">Graduate</th>\n",
       "      <th colspan=\"2\" halign=\"left\">Not Graduate</th>\n",
       "      <th colspan=\"2\" halign=\"left\">Graduate</th>\n",
       "      <th colspan=\"2\" halign=\"left\">Not Graduate</th>\n",
       "    </tr>\n",
       "    <tr>\n",
       "      <th>Married</th>\n",
       "      <th>No</th>\n",
       "      <th>Yes</th>\n",
       "      <th>No</th>\n",
       "      <th>Yes</th>\n",
       "      <th>No</th>\n",
       "      <th>Yes</th>\n",
       "      <th>No</th>\n",
       "      <th>Yes</th>\n",
       "      <th>No</th>\n",
       "      <th>Yes</th>\n",
       "      <th>No</th>\n",
       "      <th>Yes</th>\n",
       "    </tr>\n",
       "    <tr>\n",
       "      <th>Credit_History</th>\n",
       "      <th></th>\n",
       "      <th></th>\n",
       "      <th></th>\n",
       "      <th></th>\n",
       "      <th></th>\n",
       "      <th></th>\n",
       "      <th></th>\n",
       "      <th></th>\n",
       "      <th></th>\n",
       "      <th></th>\n",
       "      <th></th>\n",
       "      <th></th>\n",
       "    </tr>\n",
       "  </thead>\n",
       "  <tbody>\n",
       "    <tr>\n",
       "      <th>0.0</th>\n",
       "      <td>130.0</td>\n",
       "      <td>132.0</td>\n",
       "      <td>157.0</td>\n",
       "      <td>148.0</td>\n",
       "      <td>109.5</td>\n",
       "      <td>130.5</td>\n",
       "      <td>170.0</td>\n",
       "      <td>158.0</td>\n",
       "      <td>124.5</td>\n",
       "      <td>142.0</td>\n",
       "      <td>120.0</td>\n",
       "      <td>104.0</td>\n",
       "    </tr>\n",
       "    <tr>\n",
       "      <th>1.0</th>\n",
       "      <td>133.5</td>\n",
       "      <td>147.5</td>\n",
       "      <td>109.0</td>\n",
       "      <td>122.5</td>\n",
       "      <td>118.0</td>\n",
       "      <td>138.0</td>\n",
       "      <td>110.0</td>\n",
       "      <td>109.0</td>\n",
       "      <td>110.0</td>\n",
       "      <td>132.0</td>\n",
       "      <td>95.0</td>\n",
       "      <td>128.0</td>\n",
       "    </tr>\n",
       "  </tbody>\n",
       "</table>\n",
       "</div>"
      ],
      "text/plain": [
       "Property_Area     Rural                            Semiurban         \\\n",
       "Education      Graduate        Not Graduate         Graduate          \n",
       "Married              No    Yes           No    Yes        No    Yes   \n",
       "Credit_History                                                        \n",
       "0.0               130.0  132.0        157.0  148.0     109.5  130.5   \n",
       "1.0               133.5  147.5        109.0  122.5     118.0  138.0   \n",
       "\n",
       "Property_Area                         Urban                             \n",
       "Education      Not Graduate        Graduate        Not Graduate         \n",
       "Married                  No    Yes       No    Yes           No    Yes  \n",
       "Credit_History                                                          \n",
       "0.0                   170.0  158.0    124.5  142.0        120.0  104.0  \n",
       "1.0                   110.0  109.0    110.0  132.0         95.0  128.0  "
      ]
     },
     "execution_count": 7,
     "metadata": {},
     "output_type": "execute_result"
    }
   ],
   "source": [
    "table = df.pivot_table(values='LoanAmount', index='Credit_History',columns=['Property_Area','Education', 'Married'], aggfunc=np.median)\n",
    "table\n"
   ]
  },
  {
   "cell_type": "markdown",
   "metadata": {},
   "source": [
    "The next script provides us with a way to impute missing values of LoanAmount."
   ]
  },
  {
   "cell_type": "code",
   "execution_count": 8,
   "metadata": {},
   "outputs": [
    {
     "data": {
      "text/plain": [
       "((981, 13), (981, 13))"
      ]
     },
     "execution_count": 8,
     "metadata": {},
     "output_type": "execute_result"
    }
   ],
   "source": [
    "df2=df\n",
    "df[\"LoanAmount\"].fillna(df.groupby(['Credit_History','Property_Area','Education', 'Married'])['LoanAmount'].transform(\"median\"), inplace=True)\n",
    "\n",
    "#df[\"LoanAmount\"].fillna(df.groupby(['Self_Employed','Education'])['LoanAmount'].transform(\"median\"), inplace=True)\n",
    "df.shape, df2.shape     "
   ]
  },
  {
   "cell_type": "code",
   "execution_count": 9,
   "metadata": {},
   "outputs": [
    {
     "data": {
      "text/plain": [
       "Loan_ID              0\n",
       "Gender               0\n",
       "Married              0\n",
       "Dependents           0\n",
       "Education            0\n",
       "Self_Employed        0\n",
       "ApplicantIncome      0\n",
       "CoapplicantIncome    0\n",
       "LoanAmount           0\n",
       "Loan_Amount_Term     0\n",
       "Credit_History       0\n",
       "Property_Area        0\n",
       "Loan_Status          0\n",
       "dtype: int64"
      ]
     },
     "execution_count": 9,
     "metadata": {},
     "output_type": "execute_result"
    }
   ],
   "source": [
    "# checking for missing values \n",
    "df.apply(lambda x: sum(x.isnull()),axis=0)"
   ]
  },
  {
   "cell_type": "markdown",
   "metadata": {},
   "source": [
    "## FEATURE ENGINEER"
   ]
  },
  {
   "cell_type": "markdown",
   "metadata": {},
   "source": [
    "Here we proceed to recode, create new variables and reduce the effect of outlier observations."
   ]
  },
  {
   "cell_type": "markdown",
   "metadata": {},
   "source": [
    "## ApplicantIncome"
   ]
  },
  {
   "cell_type": "markdown",
   "metadata": {},
   "source": [
    "ApplicantIncome and CoapplicantIncome are combined, generating the total revenue of the client. Here it is assumed that CoapplicantIncome is a real certified backup of the applicant."
   ]
  },
  {
   "cell_type": "code",
   "execution_count": 10,
   "metadata": {},
   "outputs": [],
   "source": [
    "# TotalIncome feature is made\n",
    "df['TotalIncome'] = df['ApplicantIncome'] + df['CoapplicantIncome']\n",
    "df['TotalIncome_log'] = np.log(df['TotalIncome'])"
   ]
  },
  {
   "cell_type": "code",
   "execution_count": 10,
   "metadata": {},
   "outputs": [
    {
     "data": {
      "image/png": "[encoded data removed]",
      "text/plain": [
       "<matplotlib.figure.Figure at 0xb5ced30>"
      ]
     },
     "metadata": {},
     "output_type": "display_data"
    }
   ],
   "source": [
    "import numpy as np\n",
    "import pandas as pd\n",
    "import matplotlib.pyplot as plt\n",
    "\n",
    "vars = ['ApplicantIncome','TotalIncome']\n",
    "mydata = pd.DataFrame(df[vars])\n",
    "\n",
    "fig, ax = plt.subplots()\n",
    "mydata.plot.kde(ax=ax, legend=False, title='Histogram: ApplicantIncome vs. TotalIncome')\n",
    "mydata.plot.hist(density=True, ax=ax)\n",
    "ax.set_ylabel('Probability')\n",
    "ax.grid(axis='y')\n",
    "ax.set_facecolor('#d8dcd6')"
   ]
  },
  {
   "cell_type": "code",
   "execution_count": 31,
   "metadata": {},
   "outputs": [
    {
     "data": {
      "image/png": "[encoded data removed]",
      "text/plain": [
       "<matplotlib.figure.Figure at 0xc4f8c88>"
      ]
     },
     "metadata": {},
     "output_type": "display_data"
    }
   ],
   "source": [
    "vars = ['TotalIncome_log']\n",
    "mydata = pd.DataFrame(df[vars])\n",
    "\n",
    "fig, ax = plt.subplots()\n",
    "mydata.plot.kde(ax=ax, legend=False, title='Histogram: TotalIncome_log')\n",
    "mydata.plot.hist(density=True, ax=ax)\n",
    "ax.set_ylabel('Probability')\n",
    "ax.grid(axis='y')\n",
    "ax.set_facecolor('#d8dcd6')"
   ]
  },
  {
   "cell_type": "markdown",
   "metadata": {},
   "source": [
    "Now we see that the distribution is much better than before. So, \"TotalIncome_log\" will be considered instead of ApplicantIncome and CoapplicantIncome by itselves."
   ]
  },
  {
   "cell_type": "markdown",
   "metadata": {},
   "source": [
    "## LoanAmount"
   ]
  },
  {
   "cell_type": "markdown",
   "metadata": {},
   "source": [
    "Extrema values (outliers) effect can be reduced by trying a log transformation.  This is a classical way to proceed one time we are in presence of a distribution shaped like this."
   ]
  },
  {
   "cell_type": "code",
   "execution_count": 83,
   "metadata": {},
   "outputs": [
    {
     "data": {
      "text/plain": [
       "<matplotlib.axes._subplots.AxesSubplot at 0xc15e630>"
      ]
     },
     "execution_count": 83,
     "metadata": {},
     "output_type": "execute_result"
    },
    {
     "data": {
      "image/png": "[encoded data removed]",
      "text/plain": [
       "<matplotlib.figure.Figure at 0xbee4d30>"
      ]
     },
     "metadata": {},
     "output_type": "display_data"
    }
   ],
   "source": [
    "df['LoanAmount'].hist(bins=20)"
   ]
  },
  {
   "cell_type": "code",
   "execution_count": 12,
   "metadata": {},
   "outputs": [
    {
     "data": {
      "text/plain": [
       "<matplotlib.axes._subplots.AxesSubplot at 0xb9cef98>"
      ]
     },
     "execution_count": 12,
     "metadata": {},
     "output_type": "execute_result"
    },
    {
     "data": {
      "image/png": "[encoded data removed]",
      "text/plain": [
       "<matplotlib.figure.Figure at 0xba95208>"
      ]
     },
     "metadata": {},
     "output_type": "display_data"
    }
   ],
   "source": [
    "df['LoanAmount_log'] = np.log(df['LoanAmount'])\n",
    "df['LoanAmount_log'].hist(bins=20)"
   ]
  },
  {
   "cell_type": "markdown",
   "metadata": {},
   "source": [
    "Now the distribution looks much closer to normal and effect of extreme values has been significantly subsided. So, \"LoanAmount_log\" will be considered instead of LoanAmount by itself."
   ]
  },
  {
   "cell_type": "markdown",
   "metadata": {},
   "source": [
    "## New variable LoanIncome"
   ]
  },
  {
   "cell_type": "markdown",
   "metadata": {},
   "source": [
    "Consider the new LoanIncome = \"LoanAmount / TotalIncome\" might make sense as it gives an idea of how well the applicant is suited to pay back his loan."
   ]
  },
  {
   "cell_type": "code",
   "execution_count": 13,
   "metadata": {},
   "outputs": [
    {
     "name": "stdout",
     "output_type": "stream",
     "text": [
      "Index(['Loan_ID', 'Gender', 'Married', 'Dependents', 'Education',\n",
      "       'Self_Employed', 'ApplicantIncome', 'CoapplicantIncome', 'LoanAmount',\n",
      "       'Loan_Amount_Term', 'Credit_History', 'Property_Area', 'Loan_Status',\n",
      "       'TotalIncome', 'TotalIncome_log', 'LoanAmount_log', 'LoanIncome'],\n",
      "      dtype='object')\n"
     ]
    }
   ],
   "source": [
    "df['LoanIncome'] = df['LoanAmount'] / df['TotalIncome']\n",
    "print(df.columns)"
   ]
  },
  {
   "cell_type": "code",
   "execution_count": 86,
   "metadata": {},
   "outputs": [
    {
     "data": {
      "text/plain": [
       "<matplotlib.axes._subplots.AxesSubplot at 0xb880da0>"
      ]
     },
     "execution_count": 86,
     "metadata": {},
     "output_type": "execute_result"
    },
    {
     "data": {
      "image/png": "[encoded data removed]",
      "text/plain": [
       "<matplotlib.figure.Figure at 0xc610978>"
      ]
     },
     "metadata": {},
     "output_type": "display_data"
    }
   ],
   "source": [
    "df['LoanIncome'].hist(bins=20)"
   ]
  },
  {
   "cell_type": "markdown",
   "metadata": {},
   "source": [
    "LoanIncome has capture the individual shape of LoanAmount and TotalIncome. Then, let’s try a log transformation to nullify their outlier's effect."
   ]
  },
  {
   "cell_type": "code",
   "execution_count": 14,
   "metadata": {},
   "outputs": [
    {
     "data": {
      "text/plain": [
       "<matplotlib.axes._subplots.AxesSubplot at 0xba95898>"
      ]
     },
     "execution_count": 14,
     "metadata": {},
     "output_type": "execute_result"
    },
    {
     "data": {
      "image/png": "[encoded data removed]",
      "text/plain": [
       "<matplotlib.figure.Figure at 0xbd26c50>"
      ]
     },
     "metadata": {},
     "output_type": "display_data"
    }
   ],
   "source": [
    "df['LoanIncome_log'] = np.log(df['LoanIncome'])\n",
    "df['LoanIncome_log'].hist(bins=20)"
   ]
  },
  {
   "cell_type": "markdown",
   "metadata": {},
   "source": [
    "Now we see that the distribution is much better than before. So, \"LoanIncome_log\" will be considered instead of LoanIncome by itself."
   ]
  },
  {
   "cell_type": "markdown",
   "metadata": {},
   "source": [
    "## About feature recoding"
   ]
  },
  {
   "cell_type": "code",
   "execution_count": 15,
   "metadata": {},
   "outputs": [
    {
     "data": {
      "text/plain": [
       "Loan_ID              0\n",
       "Gender               0\n",
       "Married              0\n",
       "Dependents           0\n",
       "Education            0\n",
       "Self_Employed        0\n",
       "ApplicantIncome      0\n",
       "CoapplicantIncome    0\n",
       "LoanAmount           0\n",
       "Loan_Amount_Term     0\n",
       "Credit_History       0\n",
       "Property_Area        0\n",
       "Loan_Status          0\n",
       "TotalIncome          0\n",
       "TotalIncome_log      0\n",
       "LoanAmount_log       0\n",
       "LoanIncome           0\n",
       "LoanIncome_log       0\n",
       "dtype: int64"
      ]
     },
     "execution_count": 15,
     "metadata": {},
     "output_type": "execute_result"
    }
   ],
   "source": [
    "# checking for missing values \n",
    "df.apply(lambda x: sum(x.isnull()),axis=0)"
   ]
  },
  {
   "cell_type": "markdown",
   "metadata": {},
   "source": [
    "Sklearn requires all inputs to be numeric, we should convert all our categorical variables into numeric by encoding the categories."
   ]
  },
  {
   "cell_type": "code",
   "execution_count": 16,
   "metadata": {},
   "outputs": [
    {
     "data": {
      "text/plain": [
       "Loan_ID               object\n",
       "Gender                 int64\n",
       "Married                int64\n",
       "Dependents             int64\n",
       "Education              int64\n",
       "Self_Employed          int64\n",
       "ApplicantIncome        int64\n",
       "CoapplicantIncome    float64\n",
       "LoanAmount           float64\n",
       "Loan_Amount_Term     float64\n",
       "Credit_History       float64\n",
       "Property_Area          int64\n",
       "Loan_Status            int64\n",
       "TotalIncome          float64\n",
       "TotalIncome_log      float64\n",
       "LoanAmount_log       float64\n",
       "LoanIncome           float64\n",
       "LoanIncome_log       float64\n",
       "dtype: object"
      ]
     },
     "execution_count": 16,
     "metadata": {},
     "output_type": "execute_result"
    }
   ],
   "source": [
    "from sklearn.preprocessing import LabelEncoder\n",
    "var_mod = ['Gender','Married','Dependents','Education','Self_Employed','Property_Area','Loan_Status']\n",
    "le = LabelEncoder()\n",
    "for i in var_mod:\n",
    "    df[i] = le.fit_transform(df[i])\n",
    "df.dtypes "
   ]
  },
  {
   "cell_type": "markdown",
   "metadata": {},
   "source": [
    "## About dummy variables"
   ]
  },
  {
   "cell_type": "code",
   "execution_count": 17,
   "metadata": {},
   "outputs": [],
   "source": [
    "#keep a df backup\n",
    "data = df"
   ]
  },
  {
   "cell_type": "code",
   "execution_count": 18,
   "metadata": {},
   "outputs": [
    {
     "data": {
      "text/plain": [
       "Index(['Loan_ID', 'Gender', 'Married', 'Dependents', 'Education',\n",
       "       'Self_Employed', 'ApplicantIncome', 'CoapplicantIncome', 'LoanAmount',\n",
       "       'Loan_Amount_Term', 'Credit_History', 'Property_Area', 'Loan_Status',\n",
       "       'TotalIncome', 'TotalIncome_log', 'LoanAmount_log', 'LoanIncome',\n",
       "       'LoanIncome_log', 'Property_Area_0', 'Property_Area_1',\n",
       "       'Property_Area_2'],\n",
       "      dtype='object')"
      ]
     },
     "execution_count": 18,
     "metadata": {},
     "output_type": "execute_result"
    }
   ],
   "source": [
    "cat_vars=['Property_Area']\n",
    "for var in cat_vars:\n",
    "    cat_list='var'+'_'+var\n",
    "    cat_list = pd.get_dummies(data[var], prefix=var)\n",
    "    data1=data.join(cat_list)\n",
    "    data=data1\n",
    "data.columns"
   ]
  },
  {
   "cell_type": "code",
   "execution_count": 19,
   "metadata": {},
   "outputs": [
    {
     "data": {
      "text/plain": [
       "Loan_ID               object\n",
       "Gender                 int64\n",
       "Married                int64\n",
       "Dependents             int64\n",
       "Education              int64\n",
       "Self_Employed          int64\n",
       "ApplicantIncome        int64\n",
       "CoapplicantIncome    float64\n",
       "LoanAmount           float64\n",
       "Loan_Amount_Term     float64\n",
       "Credit_History       float64\n",
       "Property_Area          int64\n",
       "Loan_Status            int64\n",
       "TotalIncome          float64\n",
       "TotalIncome_log      float64\n",
       "LoanAmount_log       float64\n",
       "LoanIncome           float64\n",
       "LoanIncome_log       float64\n",
       "Property_Area_0        uint8\n",
       "Property_Area_1        uint8\n",
       "Property_Area_2        uint8\n",
       "dtype: object"
      ]
     },
     "execution_count": 19,
     "metadata": {},
     "output_type": "execute_result"
    }
   ],
   "source": [
    "data.dtypes "
   ]
  },
  {
   "cell_type": "markdown",
   "metadata": {},
   "source": [
    "## EXPORTING FINAL DATASETS"
   ]
  },
  {
   "cell_type": "markdown",
   "metadata": {},
   "source": [
    "## Full prepocessing dataset"
   ]
  },
  {
   "cell_type": "code",
   "execution_count": 18,
   "metadata": {},
   "outputs": [],
   "source": [
    "cat_vars=['Property_Area_0', 'Property_Area_1', 'Property_Area_2']\n",
    "data_vars=data.columns.values.tolist()\n",
    "to_keep=[i for i in data_vars if i not in cat_vars]"
   ]
  },
  {
   "cell_type": "code",
   "execution_count": 19,
   "metadata": {},
   "outputs": [
    {
     "data": {
      "text/plain": [
       "(array(['Loan_ID', 'Gender', 'Married', 'Dependents', 'Education',\n",
       "        'Self_Employed', 'ApplicantIncome', 'CoapplicantIncome',\n",
       "        'LoanAmount', 'Loan_Amount_Term', 'Credit_History',\n",
       "        'Property_Area', 'Loan_Status', 'TotalIncome', 'TotalIncome_log',\n",
       "        'LoanAmount_log', 'LoanIncome', 'LoanIncome_log'], dtype=object),\n",
       " Loan_ID               object\n",
       " Gender                 int64\n",
       " Married                int64\n",
       " Dependents             int64\n",
       " Education              int64\n",
       " Self_Employed          int64\n",
       " ApplicantIncome        int64\n",
       " CoapplicantIncome    float64\n",
       " LoanAmount           float64\n",
       " Loan_Amount_Term     float64\n",
       " Credit_History       float64\n",
       " Property_Area          int64\n",
       " Loan_Status            int64\n",
       " TotalIncome          float64\n",
       " TotalIncome_log      float64\n",
       " LoanAmount_log       float64\n",
       " LoanIncome           float64\n",
       " LoanIncome_log       float64\n",
       " dtype: object,\n",
       " (981, 18))"
      ]
     },
     "execution_count": 19,
     "metadata": {},
     "output_type": "execute_result"
    }
   ],
   "source": [
    "data_final=data[to_keep]\n",
    "data_final.columns.values, data_final.dtypes, data_final.shape"
   ]
  },
  {
   "cell_type": "code",
   "execution_count": 20,
   "metadata": {},
   "outputs": [],
   "source": [
    "data_final= pd.DataFrame(data_final)\n",
    "data_final.to_csv(\"Loan_FullProcess.csv\",index=None, sep=',')"
   ]
  },
  {
   "cell_type": "markdown",
   "metadata": {},
   "source": [
    "## Full prepocessing logistic regression model dataset"
   ]
  },
  {
   "cell_type": "code",
   "execution_count": 62,
   "metadata": {},
   "outputs": [],
   "source": [
    "cat_vars=['Property_Area','ApplicantIncome','CoapplicantIncome','LoanAmount','TotalIncome','LoanIncome']\n",
    "data_vars=data.columns.values.tolist()\n",
    "to_keep=[i for i in data_vars if i not in cat_vars]"
   ]
  },
  {
   "cell_type": "code",
   "execution_count": 63,
   "metadata": {},
   "outputs": [
    {
     "data": {
      "text/plain": [
       "(array(['Loan_ID', 'Gender', 'Married', 'Dependents', 'Education',\n",
       "        'Self_Employed', 'Loan_Amount_Term', 'Credit_History',\n",
       "        'Loan_Status', 'TotalIncome_log', 'LoanAmount_log',\n",
       "        'LoanIncome_log', 'Property_Area_0', 'Property_Area_1',\n",
       "        'Property_Area_2'], dtype=object), Loan_ID              object\n",
       " Gender                int64\n",
       " Married               int64\n",
       " Dependents            int64\n",
       " Education             int64\n",
       " Self_Employed         int64\n",
       " Loan_Amount_Term    float64\n",
       " Credit_History      float64\n",
       " Loan_Status           int64\n",
       " TotalIncome_log     float64\n",
       " LoanAmount_log      float64\n",
       " LoanIncome_log      float64\n",
       " Property_Area_0       uint8\n",
       " Property_Area_1       uint8\n",
       " Property_Area_2       uint8\n",
       " dtype: object, (981, 15))"
      ]
     },
     "execution_count": 63,
     "metadata": {},
     "output_type": "execute_result"
    }
   ],
   "source": [
    "data_final=data[to_keep]\n",
    "data_final.columns.values, data_final.dtypes, data_final.shape"
   ]
  },
  {
   "cell_type": "markdown",
   "metadata": {},
   "source": [
    "Now, we take a look at possible high Pearson correlation among the variables."
   ]
  },
  {
   "cell_type": "code",
   "execution_count": 69,
   "metadata": {},
   "outputs": [
    {
     "data": {
      "image/png": "[encoded data removed]",
      "text/plain": [
       "<matplotlib.figure.Figure at 0xe376898>"
      ]
     },
     "metadata": {},
     "output_type": "display_data"
    }
   ],
   "source": [
    "import pandas as pd\n",
    "import matplotlib.pyplot as plt\n",
    "import numpy as np \n",
    "import seaborn as sns\n",
    "\n",
    "#corr = np.corrcoef(np.random.randn(10, 200))\n",
    "vars = ['TotalIncome_log', 'LoanAmount_log', 'LoanIncome_log']\n",
    "df = data_final[vars]\n",
    "corr = df.corr()\n",
    "mask = np.zeros_like(corr)\n",
    "mask[np.triu_indices_from(mask)] = True\n",
    "fig, ax =plt.subplots(1, 1, figsize=(10, 5))\n",
    "colormap = sns.diverging_palette(220, 10, as_cmap=True)\n",
    "with sns.axes_style(\"white\"):\n",
    "    ax = sns.heatmap(corr,  square=False, vmin=-1, vmax=1, center=0, annot=True, cmap=colormap, fmt=\".2f\", mask=mask)\n"
   ]
  },
  {
   "cell_type": "markdown",
   "metadata": {},
   "source": [
    "There are not heavy signs of high Pearson's correlation between the variables.  So,  all of them are kept alive in the dataset."
   ]
  },
  {
   "cell_type": "code",
   "execution_count": 23,
   "metadata": {},
   "outputs": [],
   "source": [
    "data_final= pd.DataFrame(data_final)\n",
    "data_final.to_csv(\"Loan_LRModel.csv\",index=None, sep=',')"
   ]
  },
  {
   "cell_type": "markdown",
   "metadata": {},
   "source": [
    "## Full dataset wihout missing values"
   ]
  },
  {
   "cell_type": "markdown",
   "metadata": {},
   "source": [
    "### Reading original dataset"
   ]
  },
  {
   "cell_type": "code",
   "execution_count": 75,
   "metadata": {},
   "outputs": [
    {
     "name": "stdout",
     "output_type": "stream",
     "text": [
      "Index(['Loan_ID', 'Gender', 'Married', 'Dependents', 'Education',\n",
      "       'Self_Employed', 'ApplicantIncome', 'CoapplicantIncome', 'LoanAmount',\n",
      "       'Loan_Amount_Term', 'Credit_History', 'Property_Area', 'Loan_Status'],\n",
      "      dtype='object')\n"
     ]
    }
   ],
   "source": [
    "# read csv (comma separated value) into data\n",
    "mydata=pd.read_csv('LoanFull.csv')\n",
    "print(mydata.columns)"
   ]
  },
  {
   "cell_type": "markdown",
   "metadata": {},
   "source": [
    "### Adding new variables"
   ]
  },
  {
   "cell_type": "code",
   "execution_count": 76,
   "metadata": {},
   "outputs": [],
   "source": [
    "df=mydata\n",
    "# TotalIncome and TotalIncome_log features are made\n",
    "df['TotalIncome'] = df['ApplicantIncome'] + df['CoapplicantIncome']\n",
    "df['TotalIncome_log'] = np.log(df['TotalIncome'])"
   ]
  },
  {
   "cell_type": "code",
   "execution_count": 77,
   "metadata": {},
   "outputs": [],
   "source": [
    "# LoanAmount_log feature is made\n",
    "df['LoanAmount_log'] = np.log(df['LoanAmount'])"
   ]
  },
  {
   "cell_type": "code",
   "execution_count": 78,
   "metadata": {},
   "outputs": [],
   "source": [
    "# LoanIncome and LoanIncome_log features are made\n",
    "df['LoanIncome'] = df['LoanAmount'] / df['TotalIncome']\n",
    "df['LoanIncome_log'] = np.log(df['LoanIncome'])"
   ]
  },
  {
   "cell_type": "code",
   "execution_count": 66,
   "metadata": {},
   "outputs": [
    {
     "name": "stdout",
     "output_type": "stream",
     "text": [
      "Index(['Loan_ID', 'Gender', 'Married', 'Dependents', 'Education',\n",
      "       'Self_Employed', 'ApplicantIncome', 'CoapplicantIncome', 'LoanAmount',\n",
      "       'Loan_Amount_Term', 'Credit_History', 'Property_Area', 'Loan_Status',\n",
      "       'TotalIncome', 'TotalIncome_log', 'LoanAmount_log', 'LoanIncome',\n",
      "       'LoanIncome_log'],\n",
      "      dtype='object')\n"
     ]
    }
   ],
   "source": [
    "# looking at the file\n",
    "print(df.columns)"
   ]
  },
  {
   "cell_type": "markdown",
   "metadata": {},
   "source": [
    "### Getting ride of missing values"
   ]
  },
  {
   "cell_type": "code",
   "execution_count": 81,
   "metadata": {},
   "outputs": [],
   "source": [
    "# dataset without missing values\n",
    "df = mydata.dropna() # Get file without missing observations"
   ]
  },
  {
   "cell_type": "code",
   "execution_count": 82,
   "metadata": {},
   "outputs": [
    {
     "name": "stdout",
     "output_type": "stream",
     "text": [
      "Free shape is:​ (981, 18)\n",
      "\n",
      "Free shape is:  (769, 18)\n"
     ]
    }
   ],
   "source": [
    "# check missing values in dataset\n",
    "print('Free shape is:​', mydata.shape) \n",
    "print('')\n",
    "print('Free shape is: ', df.shape)"
   ]
  },
  {
   "cell_type": "markdown",
   "metadata": {},
   "source": [
    "### Recoding variables"
   ]
  },
  {
   "cell_type": "code",
   "execution_count": 83,
   "metadata": {},
   "outputs": [
    {
     "name": "stderr",
     "output_type": "stream",
     "text": [
      "C:\\Users\\Alvaro\\Anaconda3\\lib\\site-packages\\ipykernel_launcher.py:5: SettingWithCopyWarning: \n",
      "A value is trying to be set on a copy of a slice from a DataFrame.\n",
      "Try using .loc[row_indexer,col_indexer] = value instead\n",
      "\n",
      "See the caveats in the documentation: http://pandas.pydata.org/pandas-docs/stable/indexing.html#indexing-view-versus-copy\n",
      "  \"\"\"\n"
     ]
    },
    {
     "data": {
      "text/plain": [
       "Loan_ID               object\n",
       "Gender                 int64\n",
       "Married                int64\n",
       "Dependents             int64\n",
       "Education              int64\n",
       "Self_Employed          int64\n",
       "ApplicantIncome        int64\n",
       "CoapplicantIncome    float64\n",
       "LoanAmount           float64\n",
       "Loan_Amount_Term     float64\n",
       "Credit_History       float64\n",
       "Property_Area          int64\n",
       "Loan_Status            int64\n",
       "TotalIncome          float64\n",
       "TotalIncome_log      float64\n",
       "LoanAmount_log       float64\n",
       "LoanIncome           float64\n",
       "LoanIncome_log       float64\n",
       "dtype: object"
      ]
     },
     "execution_count": 83,
     "metadata": {},
     "output_type": "execute_result"
    }
   ],
   "source": [
    "from sklearn.preprocessing import LabelEncoder\n",
    "var_mod = ['Gender','Married','Dependents','Education','Self_Employed','Property_Area','Loan_Status']\n",
    "le = LabelEncoder()\n",
    "for i in var_mod:\n",
    "    df[i] = le.fit_transform(df[i])\n",
    "df.dtypes "
   ]
  },
  {
   "cell_type": "markdown",
   "metadata": {},
   "source": [
    "### Dummy variables"
   ]
  },
  {
   "cell_type": "code",
   "execution_count": 84,
   "metadata": {},
   "outputs": [],
   "source": [
    "#keep a df backup\n",
    "data = df"
   ]
  },
  {
   "cell_type": "code",
   "execution_count": 85,
   "metadata": {},
   "outputs": [
    {
     "data": {
      "text/plain": [
       "Index(['Loan_ID', 'Gender', 'Married', 'Dependents', 'Education',\n",
       "       'Self_Employed', 'ApplicantIncome', 'CoapplicantIncome', 'LoanAmount',\n",
       "       'Loan_Amount_Term', 'Credit_History', 'Property_Area', 'Loan_Status',\n",
       "       'TotalIncome', 'TotalIncome_log', 'LoanAmount_log', 'LoanIncome',\n",
       "       'LoanIncome_log', 'Property_Area_0', 'Property_Area_1',\n",
       "       'Property_Area_2'],\n",
       "      dtype='object')"
      ]
     },
     "execution_count": 85,
     "metadata": {},
     "output_type": "execute_result"
    }
   ],
   "source": [
    "cat_vars=['Property_Area']\n",
    "for var in cat_vars:\n",
    "    cat_list='var'+'_'+var\n",
    "    cat_list = pd.get_dummies(data[var], prefix=var)\n",
    "    data1=data.join(cat_list)\n",
    "    data=data1\n",
    "data.columns"
   ]
  },
  {
   "cell_type": "code",
   "execution_count": 86,
   "metadata": {},
   "outputs": [
    {
     "data": {
      "text/plain": [
       "Loan_ID               object\n",
       "Gender                 int64\n",
       "Married                int64\n",
       "Dependents             int64\n",
       "Education              int64\n",
       "Self_Employed          int64\n",
       "ApplicantIncome        int64\n",
       "CoapplicantIncome    float64\n",
       "LoanAmount           float64\n",
       "Loan_Amount_Term     float64\n",
       "Credit_History       float64\n",
       "Property_Area          int64\n",
       "Loan_Status            int64\n",
       "TotalIncome          float64\n",
       "TotalIncome_log      float64\n",
       "LoanAmount_log       float64\n",
       "LoanIncome           float64\n",
       "LoanIncome_log       float64\n",
       "Property_Area_0        uint8\n",
       "Property_Area_1        uint8\n",
       "Property_Area_2        uint8\n",
       "dtype: object"
      ]
     },
     "execution_count": 86,
     "metadata": {},
     "output_type": "execute_result"
    }
   ],
   "source": [
    "data.dtypes"
   ]
  },
  {
   "cell_type": "markdown",
   "metadata": {},
   "source": [
    "### Exporting final dataset"
   ]
  },
  {
   "cell_type": "code",
   "execution_count": 87,
   "metadata": {},
   "outputs": [],
   "source": [
    "cat_vars=['Property_Area','ApplicantIncome','CoapplicantIncome','LoanAmount','TotalIncome','LoanIncome']\n",
    "data_vars=data.columns.values.tolist()\n",
    "to_keep=[i for i in data_vars if i not in cat_vars]"
   ]
  },
  {
   "cell_type": "code",
   "execution_count": 88,
   "metadata": {},
   "outputs": [
    {
     "data": {
      "text/plain": [
       "(array(['Loan_ID', 'Gender', 'Married', 'Dependents', 'Education',\n",
       "        'Self_Employed', 'Loan_Amount_Term', 'Credit_History',\n",
       "        'Loan_Status', 'TotalIncome_log', 'LoanAmount_log',\n",
       "        'LoanIncome_log', 'Property_Area_0', 'Property_Area_1',\n",
       "        'Property_Area_2'], dtype=object), Loan_ID              object\n",
       " Gender                int64\n",
       " Married               int64\n",
       " Dependents            int64\n",
       " Education             int64\n",
       " Self_Employed         int64\n",
       " Loan_Amount_Term    float64\n",
       " Credit_History      float64\n",
       " Loan_Status           int64\n",
       " TotalIncome_log     float64\n",
       " LoanAmount_log      float64\n",
       " LoanIncome_log      float64\n",
       " Property_Area_0       uint8\n",
       " Property_Area_1       uint8\n",
       " Property_Area_2       uint8\n",
       " dtype: object, (769, 15))"
      ]
     },
     "execution_count": 88,
     "metadata": {},
     "output_type": "execute_result"
    }
   ],
   "source": [
    "data_final=data[to_keep]\n",
    "data_final.columns.values, data_final.dtypes, data_final.shape"
   ]
  },
  {
   "cell_type": "markdown",
   "metadata": {},
   "source": [
    "Now, we take a look at possible high Pearson correlation among the variables."
   ]
  },
  {
   "cell_type": "code",
   "execution_count": 89,
   "metadata": {},
   "outputs": [
    {
     "data": {
      "image/png": "[encoded data removed]",
      "text/plain": [
       "<matplotlib.figure.Figure at 0x9bf6358>"
      ]
     },
     "metadata": {},
     "output_type": "display_data"
    }
   ],
   "source": [
    "import pandas as pd\n",
    "import matplotlib.pyplot as plt\n",
    "import numpy as np \n",
    "import seaborn as sns\n",
    "\n",
    "#corr = np.corrcoef(np.random.randn(10, 200))\n",
    "vars = ['TotalIncome_log', 'LoanAmount_log', 'LoanIncome_log']\n",
    "df = data_final[vars]\n",
    "corr = df.corr()\n",
    "mask = np.zeros_like(corr)\n",
    "mask[np.triu_indices_from(mask)] = True\n",
    "fig, ax =plt.subplots(1, 1, figsize=(10, 5))\n",
    "colormap = sns.diverging_palette(220, 10, as_cmap=True)\n",
    "with sns.axes_style(\"white\"):\n",
    "    ax = sns.heatmap(corr,  square=False, vmin=-1, vmax=1, center=0, annot=True, cmap=colormap, fmt=\".2f\", mask=mask)"
   ]
  },
  {
   "cell_type": "code",
   "execution_count": null,
   "metadata": {},
   "outputs": [],
   "source": [
    "There are not heavy signs of high Pearson's correlation between the variables. So, all of them are kept alive in the dataset."
   ]
  },
  {
   "cell_type": "code",
   "execution_count": 80,
   "metadata": {},
   "outputs": [],
   "source": [
    "data_final= pd.DataFrame(data_final)\n",
    "data_final.to_csv(\"LoanFree_LRModel.csv\",index=None, sep=',')"
   ]
  },
  {
   "cell_type": "markdown",
   "metadata": {},
   "source": [
    "<hr>\n",
    "By: Hector Alvaro Rojas &nbsp;&nbsp;|&nbsp;&nbsp; Data Science, Visualizations and Applied Statistics &nbsp;&nbsp;|&nbsp;&nbsp; September 10, 2018<br>\n",
    "    Url: [http://www.arqmain.net]   &nbsp;&nbsp;&nbsp;|&nbsp;&nbsp;&nbsp;   GitHub: [https://github.com/arqmain]\n",
    "    <hr>"
   ]
  }
 ],
 "metadata": {
  "kernelspec": {
   "display_name": "Python 3",
   "language": "python",
   "name": "python3"
  },
  "language_info": {
   "codemirror_mode": {
    "name": "ipython",
    "version": 3
   },
   "file_extension": ".py",
   "mimetype": "text/x-python",
   "name": "python",
   "nbconvert_exporter": "python",
   "pygments_lexer": "ipython3",
   "version": "3.6.4"
  }
 },
 "nbformat": 4,
 "nbformat_minor": 2
}
