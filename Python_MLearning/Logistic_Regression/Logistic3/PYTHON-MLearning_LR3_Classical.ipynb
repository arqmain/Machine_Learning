{
 "cells": [
  {
   "cell_type": "markdown",
   "metadata": {},
   "source": [
    "# Python-MLearning: Loan Data using Logistic Regression (LR) and Sklearn\n",
    "## CLASSICAL LOGISTIC REGRESSION MODELING\n",
    "By: Hector Alvaro Rojas &nbsp;&nbsp;|&nbsp;&nbsp; Data Science, Visualizations and Applied Statistics &nbsp;&nbsp;|&nbsp;&nbsp; September 10, 2018<br>\n",
    "    Url: [http://www.arqmain.net]   &nbsp;&nbsp;&nbsp;|&nbsp;&nbsp;&nbsp;   GitHub: [https://github.com/arqmain]\n",
    "    <hr>"
   ]
  },
  {
   "cell_type": "markdown",
   "metadata": {},
   "source": [
    "# I IMPORT REQUIRED PACKAGES"
   ]
  },
  {
   "cell_type": "code",
   "execution_count": 2,
   "metadata": {},
   "outputs": [],
   "source": [
    "import numpy as np # linear algebra\n",
    "import pandas as pd # data processing, CSV file I/O (e.g. pd.read_csv)\n",
    "import os\n",
    "import seaborn as sns\n",
    "import matplotlib.pyplot as plt\n",
    "%matplotlib inline\n",
    "from datetime import datetime\n",
    "# machine learning\n",
    "from sklearn.linear_model import LogisticRegression\n",
    "from sklearn.model_selection import train_test_split\n",
    "from sklearn.model_selection import cross_val_score\n",
    "from sklearn.model_selection import GridSearchCV, RandomizedSearchCV\n",
    "from sklearn.model_selection import cross_val_predict\n",
    "from sklearn.metrics import accuracy_score, classification_report, confusion_matrix\n",
    "from sklearn.metrics import precision_score, recall_score, precision_recall_curve \n",
    "\n",
    "#sklearn.linear_model.LogisticRegression\n",
    "#http://scikit-learn.org/stable/modules/generated/sklearn.linear_model.LogisticRegression.html"
   ]
  },
  {
   "cell_type": "markdown",
   "metadata": {},
   "source": [
    "# II FULL DATASET WITH MISSING VALUES FILLED"
   ]
  },
  {
   "cell_type": "markdown",
   "metadata": {},
   "source": [
    "# 1 LOADING DATA"
   ]
  },
  {
   "cell_type": "code",
   "execution_count": 4,
   "metadata": {},
   "outputs": [
    {
     "data": {
      "text/plain": [
       "'C:\\\\Users\\\\Alvaro\\\\Documents\\\\R-Python-Projects_April042018\\\\Python_Projects\\\\Machine-Learning\\\\LogisticRegression\\\\Logistic3_Loan'"
      ]
     },
     "execution_count": 4,
     "metadata": {},
     "output_type": "execute_result"
    }
   ],
   "source": [
    "#Checking working directory\n",
    "# import os\n",
    "os.getcwd()"
   ]
  },
  {
   "cell_type": "code",
   "execution_count": 5,
   "metadata": {},
   "outputs": [
    {
     "data": {
      "text/plain": [
       "['.ipynb_checkpoints',\n",
       " 'Backup',\n",
       " 'For REDUCED Dataset model development.txt',\n",
       " 'Link to  Logistic stuff here.txt',\n",
       " 'Links to LR3 GITHUBE and Nbviewer.txt',\n",
       " 'LoanFree_LRModel.csv',\n",
       " 'LoanFull.csv',\n",
       " 'Loan_FullProcess.csv',\n",
       " 'Loan_LRModel.csv',\n",
       " 'Loan_Prediction',\n",
       " 'Log_ROC.png',\n",
       " 'Material Support',\n",
       " 'PYTHON-MLearning_LR1_Introduction.ipynb',\n",
       " 'PYTHON-MLearning_LR2_OPTIMAL-RFECV_Final.ipynb',\n",
       " 'PYTHON-MLearning_LR3_Classical.ipynb',\n",
       " 'PYTHON-MLearning_LR3_Exploratory_FEngineering_Final.ipynb',\n",
       " 'PYTHON-MLearning_LR3_PCA.ipynb',\n",
       " 'Summaries.xlsx',\n",
       " 'To Put in the GitHube Menu.txt',\n",
       " 'Visual']"
      ]
     },
     "execution_count": 5,
     "metadata": {},
     "output_type": "execute_result"
    }
   ],
   "source": [
    "#List files in a directory\n",
    "os.listdir()"
   ]
  },
  {
   "cell_type": "code",
   "execution_count": 6,
   "metadata": {},
   "outputs": [
    {
     "data": {
      "text/plain": [
       "Index(['Loan_ID', 'Gender', 'Married', 'Dependents', 'Education',\n",
       "       'Self_Employed', 'Loan_Amount_Term', 'Credit_History', 'Loan_Status',\n",
       "       'TotalIncome_log', 'LoanAmount_log', 'LoanIncome_log',\n",
       "       'Property_Area_0', 'Property_Area_1', 'Property_Area_2'],\n",
       "      dtype='object')"
      ]
     },
     "execution_count": 6,
     "metadata": {},
     "output_type": "execute_result"
    }
   ],
   "source": [
    "# read csv (comma separated value) into data\n",
    "df=pd.read_csv('Loan_LRModel.csv')\n",
    "df.columns"
   ]
  },
  {
   "cell_type": "markdown",
   "metadata": {},
   "source": [
    "# 2 MODELING"
   ]
  },
  {
   "cell_type": "code",
   "execution_count": 7,
   "metadata": {},
   "outputs": [],
   "source": [
    "cat_vars=['Gender', 'Dependents', 'Self_Employed']\n",
    "data_vars=df.columns.values.tolist()\n",
    "to_keep=[i for i in data_vars if i not in cat_vars]"
   ]
  },
  {
   "cell_type": "code",
   "execution_count": 8,
   "metadata": {},
   "outputs": [
    {
     "data": {
      "text/plain": [
       "(array(['Loan_ID', 'Married', 'Education', 'Loan_Amount_Term',\n",
       "        'Credit_History', 'Loan_Status', 'TotalIncome_log',\n",
       "        'LoanAmount_log', 'LoanIncome_log', 'Property_Area_0',\n",
       "        'Property_Area_1', 'Property_Area_2'], dtype=object),\n",
       " Loan_ID              object\n",
       " Married               int64\n",
       " Education             int64\n",
       " Loan_Amount_Term    float64\n",
       " Credit_History      float64\n",
       " Loan_Status           int64\n",
       " TotalIncome_log     float64\n",
       " LoanAmount_log      float64\n",
       " LoanIncome_log      float64\n",
       " Property_Area_0       int64\n",
       " Property_Area_1       int64\n",
       " Property_Area_2       int64\n",
       " dtype: object,\n",
       " (981, 12))"
      ]
     },
     "execution_count": 8,
     "metadata": {},
     "output_type": "execute_result"
    }
   ],
   "source": [
    "data_final=df[to_keep]\n",
    "data_final.columns.values, data_final.dtypes, data_final.shape"
   ]
  },
  {
   "cell_type": "code",
   "execution_count": 9,
   "metadata": {},
   "outputs": [
    {
     "data": {
      "text/plain": [
       "((981, 15), (981,), (981, 10))"
      ]
     },
     "execution_count": 9,
     "metadata": {},
     "output_type": "execute_result"
    }
   ],
   "source": [
    "y_data = data_final['Loan_Status']\n",
    "vars =['Loan_Status','Loan_ID']\n",
    "X_data = data_final.drop(vars, axis=1)                  \n",
    "df.shape, y_data.shape, X_data.shape"
   ]
  },
  {
   "cell_type": "markdown",
   "metadata": {},
   "source": [
    "## Train and Validation Datasets"
   ]
  },
  {
   "cell_type": "code",
   "execution_count": 10,
   "metadata": {},
   "outputs": [
    {
     "data": {
      "text/plain": [
       "((686, 10), (295, 10), (686,), (295,))"
      ]
     },
     "execution_count": 10,
     "metadata": {},
     "output_type": "execute_result"
    }
   ],
   "source": [
    "#Divide X_data and Y_data into train and test data\n",
    "X_train, X_test, y_train,  y_test = train_test_split(X_data, y_data, test_size=0.30, random_state=0,\n",
    "                                                                     stratify= y_data, shuffle=True)\n",
    "X_train.shape, X_test.shape, y_train.shape, y_test.shape"
   ]
  },
  {
   "cell_type": "markdown",
   "metadata": {},
   "source": [
    "## BUILD MODEL"
   ]
  },
  {
   "cell_type": "markdown",
   "metadata": {},
   "source": [
    "## Checking Global Model Significance"
   ]
  },
  {
   "cell_type": "code",
   "execution_count": 11,
   "metadata": {},
   "outputs": [
    {
     "name": "stdout",
     "output_type": "stream",
     "text": [
      "                 Generalized Linear Model Regression Results                  \n",
      "==============================================================================\n",
      "Dep. Variable:            Loan_Status   No. Observations:                  981\n",
      "Model:                            GLM   Df Residuals:                      972\n",
      "Model Family:                Binomial   Df Model:                            8\n",
      "Link Function:                  logit   Scale:                             1.0\n",
      "Method:                          IRLS   Log-Likelihood:                -343.95\n",
      "Date:                Tue, 11 Sep 2018   Deviance:                       687.89\n",
      "Time:                        11:26:13   Pearson chi2:                     980.\n",
      "No. Iterations:                     6                                         \n",
      "====================================================================================\n",
      "                       coef    std err          z      P>|z|      [0.025      0.975]\n",
      "------------------------------------------------------------------------------------\n",
      "Married              0.5438      0.209      2.601      0.009       0.134       0.954\n",
      "Education           -0.3265      0.242     -1.351      0.177      -0.800       0.147\n",
      "Loan_Amount_Term    -0.0007      0.002     -0.402      0.688      -0.004       0.003\n",
      "Credit_History       4.9660      0.407     12.195      0.000       4.168       5.764\n",
      "TotalIncome_log     -0.1066      0.133     -0.804      0.422      -0.367       0.153\n",
      "LoanAmount_log      -0.2511      0.156     -1.615      0.106      -0.556       0.054\n",
      "LoanIncome_log      -0.1445      0.168     -0.861      0.389      -0.473       0.184\n",
      "Property_Area_0     -1.8234      1.871     -0.975      0.330      -5.490       1.843\n",
      "Property_Area_1     -1.0945      1.855     -0.590      0.555      -4.730       2.541\n",
      "Property_Area_2     -1.5936      1.851     -0.861      0.389      -5.222       2.035\n",
      "====================================================================================\n"
     ]
    }
   ],
   "source": [
    "from __future__ import print_function\n",
    "import statsmodels.api as sm\n",
    "import pandas.tseries\n",
    "from pandas.core import datetools\n",
    "glm_binom = sm.GLM(y_data, X_data, family=sm.families.Binomial())\n",
    "res = glm_binom.fit()\n",
    "print(res.summary())"
   ]
  },
  {
   "cell_type": "markdown",
   "metadata": {},
   "source": [
    "The p_value for at least two of the predictor variables is less than 0.05. Therefore, assuming a classic risk of 5% we can accept that the model is a globally valid one. Anyway, we must take into account that most of the predictor variables appear to be not significantly important for the model.  It is left up to the readers to play around with the dataset. For instance, try keeping only \"Married\" and \"Credit_History\" as predictor variables and see what happened."
   ]
  },
  {
   "cell_type": "markdown",
   "metadata": {},
   "source": [
    "## What values for the model's hyperparameters would be selected?"
   ]
  },
  {
   "cell_type": "code",
   "execution_count": 13,
   "metadata": {},
   "outputs": [
    {
     "name": "stderr",
     "output_type": "stream",
     "text": [
      "C:\\Users\\Alvaro\\Anaconda3\\lib\\site-packages\\scipy\\optimize\\linesearch.py:312: LineSearchWarning: The line search algorithm did not converge\n",
      "  warn('The line search algorithm did not converge', LineSearchWarning)\n",
      "C:\\Users\\Alvaro\\Anaconda3\\lib\\site-packages\\sklearn\\utils\\optimize.py:195: UserWarning: Line Search failed\n",
      "  warnings.warn('Line Search failed')\n"
     ]
    },
    {
     "name": "stdout",
     "output_type": "stream",
     "text": [
      "Total running time (H: M: S. ThS) 0:01:11.467088 seconds.\n"
     ]
    }
   ],
   "source": [
    "# Import necessary modules\n",
    "from scipy.stats import randint\n",
    "from sklearn.linear_model import LogisticRegression\n",
    "#from sklearn.model_selection import RandomizedSearchCV\n",
    "from sklearn.model_selection import GridSearchCV\n",
    "from sklearn.model_selection import StratifiedKFold\n",
    "\n",
    "startTime = datetime.now()\n",
    "# Setup the parameters and distributions to sample from: param_dist\n",
    "param_grid = {'C': np.arange(1e-05, 3, 0.1),      \n",
    "           \"solver\" : ['newton-cg', 'lbfgs']}\n",
    "scoring = {'Accuracy': 'accuracy', 'AUC': 'roc_auc', 'Log_loss': 'neg_log_loss'}\n",
    "\n",
    "gs = GridSearchCV(LogisticRegression(), return_train_score=True,\n",
    "param_grid=param_grid, scoring=scoring, cv=10, refit='Accuracy')\n",
    "gs.fit(X_train, y_train)\n",
    "#results = gs.cv_results_\n",
    "print ('Total running time (H: M: S. ThS)', datetime.now()-startTime, 'seconds.')"
   ]
  },
  {
   "cell_type": "code",
   "execution_count": 14,
   "metadata": {},
   "outputs": [
    {
     "name": "stdout",
     "output_type": "stream",
     "text": [
      "====================\n",
      "best estimator: LogisticRegression(C=0.10001, class_weight=None, dual=False,\n",
      "          fit_intercept=True, intercept_scaling=1, max_iter=100,\n",
      "          multi_class='ovr', n_jobs=1, penalty='l2', random_state=None,\n",
      "          solver='newton-cg', tol=0.0001, verbose=0, warm_start=False)\n",
      "best params: {'C': 0.10001, 'solver': 'newton-cg'}\n",
      "best score: 0.8688046647230321\n",
      "====================\n"
     ]
    }
   ],
   "source": [
    "print('='*20)\n",
    "print(\"best estimator: \" + str(gs.best_estimator_))\n",
    "print(\"best params: \" + str(gs.best_params_))\n",
    "print('best score:', gs.best_score_)\n",
    "print('='*20)"
   ]
  },
  {
   "cell_type": "markdown",
   "metadata": {},
   "source": [
    "## Using the best parameters to Fit, Evaluate, and Make predictions"
   ]
  },
  {
   "cell_type": "markdown",
   "metadata": {},
   "source": [
    "### Fitting the Model"
   ]
  },
  {
   "cell_type": "code",
   "execution_count": 15,
   "metadata": {},
   "outputs": [
    {
     "data": {
      "text/plain": [
       "LogisticRegression(C=0.10001, class_weight=None, dual=False,\n",
       "          fit_intercept=True, intercept_scaling=1, max_iter=100,\n",
       "          multi_class='ovr', n_jobs=1, penalty='l2', random_state=7,\n",
       "          solver='newton-cg', tol=0.0001, verbose=0, warm_start=False)"
      ]
     },
     "execution_count": 15,
     "metadata": {},
     "output_type": "execute_result"
    }
   ],
   "source": [
    "# train your model using X_train, y_train and the best known parameters\n",
    "lr = LogisticRegression( C=0.10001, solver='newton-cg',  random_state=7)\n",
    "lr.fit(X_train, y_train)"
   ]
  },
  {
   "cell_type": "markdown",
   "metadata": {},
   "source": [
    "### Evaluating the Model"
   ]
  },
  {
   "cell_type": "code",
   "execution_count": 16,
   "metadata": {},
   "outputs": [
    {
     "name": "stdout",
     "output_type": "stream",
     "text": [
      "With LR train datasets () accuracy is:  0.8688\n"
     ]
    }
   ],
   "source": [
    "# Evaluating LR model\n",
    "print('With LR train datasets () accuracy is: ',round(lr.score(X_train,y_train),4)) # accuracy "
   ]
  },
  {
   "cell_type": "code",
   "execution_count": 51,
   "metadata": {},
   "outputs": [
    {
     "name": "stdout",
     "output_type": "stream",
     "text": [
      "Accuracy based on X_test, y_test:  0.9084745762711864\n",
      "\n",
      "Confusion Matrix:\n",
      "  [[ 49  26]\n",
      " [  1 219]]\n",
      "With LR train datasets () accuracy is:  0.8688\n",
      "             precision    recall  f1-score   support\n",
      "\n",
      "          0       0.98      0.65      0.78        75\n",
      "          1       0.89      1.00      0.94       220\n",
      "\n",
      "avg / total       0.92      0.91      0.90       295\n",
      "\n"
     ]
    }
   ],
   "source": [
    "predictions = lr.predict(X_test)\n",
    "print('Accuracy based on X_test, y_test: ',accuracy_score(y_test, predictions))\n",
    "print('')\n",
    "print('Confusion Matrix:\\n ',confusion_matrix(y_test, predictions))\n",
    "print('With LR train datasets () accuracy is: ',round(lr.score(X_train,y_train),4)) # accuracy ',confusion_matrix(y_test, predictions))\n",
    "print(classification_report(y_test, predictions))"
   ]
  },
  {
   "cell_type": "markdown",
   "metadata": {},
   "source": [
    "Precision, recall and f1-score are metrics to measure the accuracy of classification models. A general explanation can be got in [Wikipedia](https://en.wikipedia.org/wiki/Evaluation_of_binary_classifiers).\n",
    "\n",
    "Based on LR testing datasets (X_test, y_test), looks like we misclassified 27 clients, leaving us with a 90.85% accuracy rate  (with 92% precision and 91% recall). Meantime, With LR train datasets (X_train, y_train) accuracy is  86.88%"
   ]
  },
  {
   "cell_type": "markdown",
   "metadata": {},
   "source": [
    "#### Getting Model's Beta Coefficients"
   ]
  },
  {
   "cell_type": "code",
   "execution_count": 52,
   "metadata": {},
   "outputs": [
    {
     "name": "stdout",
     "output_type": "stream",
     "text": [
      "[-0.01395675]\n",
      "[[ 3.80967583e-01 -3.35244402e-01  3.93230494e-05  2.31082180e+00\n",
      "  -6.55207717e-02 -1.53577506e-01 -8.80567344e-02 -2.71452677e-01\n",
      "   2.68213698e-01 -1.07177735e-02]]\n"
     ]
    }
   ],
   "source": [
    "# print the intercept and coefficients\n",
    "print(lr.intercept_)\n",
    "print(lr.coef_)"
   ]
  },
  {
   "cell_type": "code",
   "execution_count": 56,
   "metadata": {},
   "outputs": [
    {
     "data": {
      "text/plain": [
       "Index(['Married', 'Education', 'Loan_Amount_Term', 'Credit_History',\n",
       "       'TotalIncome_log', 'LoanAmount_log', 'LoanIncome_log',\n",
       "       'Property_Area_0', 'Property_Area_1', 'Property_Area_2'],\n",
       "      dtype='object')"
      ]
     },
     "execution_count": 56,
     "metadata": {},
     "output_type": "execute_result"
    }
   ],
   "source": [
    "feature_cols = data_final.columns.drop(['Loan_ID', 'Loan_Status'])\n",
    "feature_cols"
   ]
  },
  {
   "cell_type": "code",
   "execution_count": 58,
   "metadata": {},
   "outputs": [
    {
     "data": {
      "text/plain": [
       "[('Married', 0.3809675833834334),\n",
       " ('Education', -0.33524440215985984),\n",
       " ('Loan_Amount_Term', 3.9323049406732824e-05),\n",
       " ('Credit_History', 2.3108218019031335),\n",
       " ('TotalIncome_log', -0.06552077173336503),\n",
       " ('LoanAmount_log', -0.1535775061025848),\n",
       " ('LoanIncome_log', -0.08805673436918869),\n",
       " ('Property_Area_0', -0.27145267707762255),\n",
       " ('Property_Area_1', 0.26821369778495746),\n",
       " ('Property_Area_2', -0.010717773521012428)]"
      ]
     },
     "execution_count": 58,
     "metadata": {},
     "output_type": "execute_result"
    }
   ],
   "source": [
    "##pair the feature names with the coefficients\n",
    "list(zip(feature_cols,  lr.coef_[0]))"
   ]
  },
  {
   "cell_type": "markdown",
   "metadata": {},
   "source": [
    "### Making Predictions"
   ]
  },
  {
   "cell_type": "markdown",
   "metadata": {},
   "source": [
    "#### Based on the training dataset"
   ]
  },
  {
   "cell_type": "markdown",
   "metadata": {},
   "source": [
    "The function cross_val_predict has a similar interface to cross_val_score, but returns, for each element in the input, the prediction that was obtained for that element when it was in the test set obtained from the partition over X_train (in our case)."
   ]
  },
  {
   "cell_type": "code",
   "execution_count": 28,
   "metadata": {},
   "outputs": [
    {
     "name": "stdout",
     "output_type": "stream",
     "text": [
      "Prediction: {} [1 1 1 1 0 1 1 1 1 1 1 1 1 1 1 1 1 1 0 1 1 1 0 1 1 1 1 1 1 1 1 1 1 1 1 1 1\n",
      " 1 1 1 1 0 0 1 1 1 0 1 1 1 1 1 1 1 1 1 1 1 1 1 1 1 1 1 1 1 1 1 1 1 1 1 0 1\n",
      " 1 1 0 1 1 1 1 1 1 1 1 1 1 1 1 1 1 1 1 1 0 1 1 1 1 1 1 1 1 1 0 0 1 0 1 1 1\n",
      " 1 1 1 1 1 1 1 1 1 1 1 1 1 1 0 1 1 0 1 0 1 1 1 1 0 1 1 0 1 1 1 1 1 1 1 1 1\n",
      " 1 1 1 1 0 1 1 1 1 0 1 1 1 1 1 1 1 1 1 1 0 1 1 1 1 1 1 1 0 1 1 1 1 1 1 1 1\n",
      " 1 1 1 1 1 1 1 1 1 1 1 1 1 0 1 1 0 1 1 1 0 1 1 1 1 1 1 0 1 1 1 1 1 1 0 1 1\n",
      " 1 1 1 1 1 0 1 1 1 1 1 1 1 1 1 1 1 1 1 1 1 0 1 1 1 1 0 1 0 0 1 1 0 1 1 1 1\n",
      " 1 1 0 0 1 1 1 1 1 0 1 1 0 1 1 1 1 0 1 1 1 1 1 1 1 1 0 1 1 1 0 1 1 1 1 0 1\n",
      " 1 1 1 0 1 1 1 0 1 0 0 0 1 1 1 1 1 1 1 1 1 1 1 1 1 1 1 1 1 1 1 1 1 1 1 1 0\n",
      " 1 1 1 1 1 0 1 1 1 1 1 0 0 1 1 1 1 0 1 1 0 0 1 0 1 1 1 1 0 1 1 1 1 1 1 1 1\n",
      " 1 1 1 0 0 1 1 1 1 1 1 1 1 1 1 0 0 1 1 1 1 1 1 1 0 1 1 0 1 1 1 1 1 1 0 1 1\n",
      " 1 1 1 1 1 1 1 1 0 1 1 1 1 1 1 1 1 1 1 1 1 1 1 1 1 1 1 1 1 1 1 1 1 0 1 1 0\n",
      " 1 1 0 1 1 1 1 1 1 1 1 1 1 1 1 1 1 1 0 0 1 1 1 1 1 1 1 1 1 0 1 1 1 1 1 1 1\n",
      " 1 1 1 1 1 1 1 0 1 1 1 1 1 1 1 0 1 1 1 1 1 0 1 1 1 1 0 1 1 1 1 0 1 1 1 1 1\n",
      " 1 1 1 1 1 1 0 1 1 1 1 1 1 1 0 1 1 0 1 1 1 1 1 1 1 1 1 1 1 1 1 0 0 0 0 1 1\n",
      " 1 1 1 1 1 0 1 1 1 1 1 1 1 1 1 1 1 1 1 0 1 1 1 1 1 0 1 0 0 1 1 1 1 1 1 1 1\n",
      " 1 1 0 1 1 1 1 1 1 1 0 1 1 1 1 1 1 1 1 1 1 1 1 1 1 1 1 1 1 1 1 0 1 1 1 1 1\n",
      " 0 1 1 1 1 1 1 1 1 1 1 1 0 0 1 1 1 1 1 1 1 1 1 1 1 0 0 0 1 1 1 1 1 1 1 0 1\n",
      " 1 0 1 0 1 0 1 1 1 1 1 1 1 1 1 1 1 1 1 1]\n"
     ]
    }
   ],
   "source": [
    "predictions = cross_val_predict(lr, X_train, y_train, cv=10)\n",
    "print('Prediction: {}', predictions)"
   ]
  },
  {
   "cell_type": "markdown",
   "metadata": {},
   "source": [
    "#### Based on the test dataset"
   ]
  },
  {
   "cell_type": "markdown",
   "metadata": {},
   "source": [
    "Now we used the function predict which is regularly the one to be used to get the predictions on a new dataset.  In our case, the new dataset is the X_test one."
   ]
  },
  {
   "cell_type": "code",
   "execution_count": 30,
   "metadata": {},
   "outputs": [
    {
     "name": "stdout",
     "output_type": "stream",
     "text": [
      "Total running time (H: M: S. ThS) 0:00:00.005001 seconds.\n"
     ]
    }
   ],
   "source": [
    "# train your model using all data.\n",
    "startTime = datetime.now()\n",
    "lr.fit(X_data, y_data) \n",
    "print ('Total running time (H: M: S. ThS)', datetime.now()-startTime, 'seconds.')"
   ]
  },
  {
   "cell_type": "code",
   "execution_count": 32,
   "metadata": {},
   "outputs": [
    {
     "name": "stdout",
     "output_type": "stream",
     "text": [
      "Prediction: {} [0 1 1 1 1 0 1 1 1 1 1 1 0 1 0 1 1 1 1 0 1 1 1 1 1 1 1 1 1 1 1 1 1 1 1 1 1\n",
      " 1 1 1 1 1 1 1 1 1 1 1 1 1 1 1 1 1 1 1 1 1 1 1 0 1 1 1 1 1 1 1 1 0 1 1 1 1\n",
      " 1 1 1 1 0 1 1 1 1 1 1 1 1 0 1 1 0 1 1 0 1 1 1 1 1 1 1 1 1 1 1 1 0 1 1 1 1\n",
      " 1 1 1 1 1 0 1 1 1 1 0 1 1 1 1 1 1 0 0 1 1 1 1 1 1 0 1 1 1 1 1 1 1 1 1 0 0\n",
      " 0 1 1 1 1 1 1 1 1 1 1 1 1 1 0 1 1 1 1 0 1 1 1 1 1 1 1 1 1 0 1 1 1 1 1 1 0\n",
      " 0 1 1 1 0 1 1 0 1 1 1 0 0 1 1 0 1 1 0 1 1 1 1 0 0 1 1 1 1 1 1 1 1 0 0 1 1\n",
      " 1 1 1 1 0 1 1 0 1 0 1 1 1 1 1 1 1 0 1 1 1 0 1 1 0 0 1 1 1 1 1 1 0 1 1 1 1\n",
      " 1 1 1 0 1 0 1 1 1 1 0 1 1 1 1 1 1 1 1 1 1 1 0 1 1 0 1 1 0 1 1 0 1 1 1 1]\n"
     ]
    }
   ],
   "source": [
    "predictions = lr.predict(X_test)\n",
    "print('Prediction: {}', predictions)"
   ]
  },
  {
   "cell_type": "markdown",
   "metadata": {},
   "source": [
    "# III REDUCED DATASET WITHOUT MISSING VALUES"
   ]
  },
  {
   "cell_type": "markdown",
   "metadata": {},
   "source": [
    "# 1 LOADING DATA"
   ]
  },
  {
   "cell_type": "code",
   "execution_count": 12,
   "metadata": {},
   "outputs": [
    {
     "data": {
      "text/plain": [
       "'C:\\\\Users\\\\Alvaro\\\\Documents\\\\R-Python-Projects_April042018\\\\Python_Projects\\\\Machine-Learning\\\\LogisticRegression\\\\Logistic3_Loan'"
      ]
     },
     "execution_count": 12,
     "metadata": {},
     "output_type": "execute_result"
    }
   ],
   "source": [
    "#Checking working directory\n",
    "# import os\n",
    "os.getcwd()"
   ]
  },
  {
   "cell_type": "code",
   "execution_count": 13,
   "metadata": {},
   "outputs": [
    {
     "data": {
      "text/plain": [
       "['.ipynb_checkpoints',\n",
       " 'Backup',\n",
       " 'For REDUCED Dataset model development.txt',\n",
       " 'Link to  Logistic stuff here.txt',\n",
       " 'Links to LR3 GITHUBE and Nbviewer.txt',\n",
       " 'LoanFree_LRModel.csv',\n",
       " 'LoanFull.csv',\n",
       " 'Loan_FullProcess.csv',\n",
       " 'Loan_LRModel.csv',\n",
       " 'Loan_Prediction',\n",
       " 'Log_ROC.png',\n",
       " 'Material Support',\n",
       " 'PYTHON-MLearning_LR1_Introduction.ipynb',\n",
       " 'PYTHON-MLearning_LR2_OPTIMAL-RFECV_Final.ipynb',\n",
       " 'PYTHON-MLearning_LR3_Classical.ipynb',\n",
       " 'PYTHON-MLearning_LR3_Exploratory_FEngineering_Final.ipynb',\n",
       " 'PYTHON-MLearning_LR3_PCA.ipynb',\n",
       " 'Summaries.xlsx',\n",
       " 'To Put in the GitHube Menu.txt',\n",
       " 'Visual']"
      ]
     },
     "execution_count": 13,
     "metadata": {},
     "output_type": "execute_result"
    }
   ],
   "source": [
    "#List files in a directory\n",
    "os.listdir()"
   ]
  },
  {
   "cell_type": "code",
   "execution_count": 17,
   "metadata": {},
   "outputs": [
    {
     "data": {
      "text/plain": [
       "Index(['Loan_ID', 'Gender', 'Married', 'Dependents', 'Education',\n",
       "       'Self_Employed', 'Loan_Amount_Term', 'Credit_History', 'Loan_Status',\n",
       "       'TotalIncome_log', 'LoanAmount_log', 'LoanIncome_log',\n",
       "       'Property_Area_0', 'Property_Area_1', 'Property_Area_2'],\n",
       "      dtype='object')"
      ]
     },
     "execution_count": 17,
     "metadata": {},
     "output_type": "execute_result"
    }
   ],
   "source": [
    "# read csv (comma separated value) into data\n",
    "df=pd.read_csv('LoanFree_LRModel.csv')\n",
    "df.columns"
   ]
  },
  {
   "cell_type": "markdown",
   "metadata": {},
   "source": [
    "# 2 MODELING"
   ]
  },
  {
   "cell_type": "code",
   "execution_count": 18,
   "metadata": {},
   "outputs": [],
   "source": [
    "cat_vars=['Gender', 'Dependents', 'Self_Employed']\n",
    "data_vars=df.columns.values.tolist()\n",
    "to_keep=[i for i in data_vars if i not in cat_vars]"
   ]
  },
  {
   "cell_type": "code",
   "execution_count": 19,
   "metadata": {},
   "outputs": [
    {
     "data": {
      "text/plain": [
       "(array(['Loan_ID', 'Married', 'Education', 'Loan_Amount_Term',\n",
       "        'Credit_History', 'Loan_Status', 'TotalIncome_log',\n",
       "        'LoanAmount_log', 'LoanIncome_log', 'Property_Area_0',\n",
       "        'Property_Area_1', 'Property_Area_2'], dtype=object),\n",
       " Loan_ID              object\n",
       " Married               int64\n",
       " Education             int64\n",
       " Loan_Amount_Term    float64\n",
       " Credit_History      float64\n",
       " Loan_Status           int64\n",
       " TotalIncome_log     float64\n",
       " LoanAmount_log      float64\n",
       " LoanIncome_log      float64\n",
       " Property_Area_0       int64\n",
       " Property_Area_1       int64\n",
       " Property_Area_2       int64\n",
       " dtype: object,\n",
       " (769, 12))"
      ]
     },
     "execution_count": 19,
     "metadata": {},
     "output_type": "execute_result"
    }
   ],
   "source": [
    "data_final=df[to_keep]\n",
    "data_final.columns.values, data_final.dtypes, data_final.shape"
   ]
  },
  {
   "cell_type": "code",
   "execution_count": 20,
   "metadata": {},
   "outputs": [
    {
     "data": {
      "text/plain": [
       "((769, 15), (769,), (769, 10))"
      ]
     },
     "execution_count": 20,
     "metadata": {},
     "output_type": "execute_result"
    }
   ],
   "source": [
    "y_data = data_final['Loan_Status']\n",
    "vars =['Loan_Status','Loan_ID']\n",
    "X_data = data_final.drop(vars, axis=1)                  \n",
    "df.shape, y_data.shape, X_data.shape"
   ]
  },
  {
   "cell_type": "markdown",
   "metadata": {},
   "source": [
    "## Train and Validation Datasets"
   ]
  },
  {
   "cell_type": "code",
   "execution_count": 21,
   "metadata": {},
   "outputs": [
    {
     "data": {
      "text/plain": [
       "((538, 10), (231, 10), (538,), (231,))"
      ]
     },
     "execution_count": 21,
     "metadata": {},
     "output_type": "execute_result"
    }
   ],
   "source": [
    "#Divide X_data and Y_data into train and test data\n",
    "X_train, X_test, y_train,  y_test = train_test_split(X_data, y_data, test_size=0.30, random_state=0,\n",
    "                                                                     stratify= y_data, shuffle=True)\n",
    "X_train.shape, X_test.shape, y_train.shape, y_test.shape"
   ]
  },
  {
   "cell_type": "markdown",
   "metadata": {},
   "source": [
    "## BUILD MODEL"
   ]
  },
  {
   "cell_type": "markdown",
   "metadata": {},
   "source": [
    "## Checking Global Model Significance"
   ]
  },
  {
   "cell_type": "code",
   "execution_count": 22,
   "metadata": {},
   "outputs": [
    {
     "name": "stdout",
     "output_type": "stream",
     "text": [
      "                 Generalized Linear Model Regression Results                  \n",
      "==============================================================================\n",
      "Dep. Variable:            Loan_Status   No. Observations:                  769\n",
      "Model:                            GLM   Df Residuals:                      760\n",
      "Model Family:                Binomial   Df Model:                            8\n",
      "Link Function:                  logit   Scale:                             1.0\n",
      "Method:                          IRLS   Log-Likelihood:                -270.24\n",
      "Date:                Tue, 11 Sep 2018   Deviance:                       540.47\n",
      "Time:                        11:32:26   Pearson chi2:                     769.\n",
      "No. Iterations:                     6                                         \n",
      "====================================================================================\n",
      "                       coef    std err          z      P>|z|      [0.025      0.975]\n",
      "------------------------------------------------------------------------------------\n",
      "Married              0.6527      0.236      2.761      0.006       0.189       1.116\n",
      "Education           -0.2925      0.279     -1.048      0.295      -0.840       0.255\n",
      "Loan_Amount_Term    -0.0009      0.002     -0.463      0.644      -0.005       0.003\n",
      "Credit_History       4.7045      0.415     11.340      0.000       3.891       5.518\n",
      "TotalIncome_log     -0.1265      0.154     -0.821      0.411      -0.428       0.175\n",
      "LoanAmount_log      -0.2468      0.175     -1.413      0.158      -0.589       0.096\n",
      "LoanIncome_log      -0.1203      0.189     -0.637      0.524      -0.491       0.250\n",
      "Property_Area_0     -1.3277      2.146     -0.619      0.536      -5.533       2.878\n",
      "Property_Area_1     -0.5663      2.126     -0.266      0.790      -4.734       3.601\n",
      "Property_Area_2     -1.0840      2.123     -0.511      0.610      -5.245       3.077\n",
      "====================================================================================\n"
     ]
    }
   ],
   "source": [
    "from __future__ import print_function\n",
    "import statsmodels.api as sm\n",
    "import pandas.tseries\n",
    "from pandas.core import datetools\n",
    "glm_binom = sm.GLM(y_data, X_data, family=sm.families.Binomial())\n",
    "res = glm_binom.fit()\n",
    "print(res.summary())"
   ]
  },
  {
   "cell_type": "markdown",
   "metadata": {},
   "source": [
    "The p_value for at least two of the predictor variables is less than 0.05. Therefore, assuming a classic risk of 5% we can accept that the model is a globally valid one. Anyway, we must take into account that most of the predictor variables appear to be not significantly important for the model. It is left up to the readers to play around with the dataset. For instance, try keeping only \"Married\" and \"Credit_History\" as predictor variables and see what happened."
   ]
  },
  {
   "cell_type": "markdown",
   "metadata": {},
   "source": [
    "## What values for the model's hyperparameters would be selected?"
   ]
  },
  {
   "cell_type": "code",
   "execution_count": 23,
   "metadata": {},
   "outputs": [
    {
     "name": "stdout",
     "output_type": "stream",
     "text": [
      "Total running time (H: M: S. ThS) 0:01:01.830537 seconds.\n"
     ]
    }
   ],
   "source": [
    "# Import necessary modules\n",
    "from scipy.stats import randint\n",
    "from sklearn.linear_model import LogisticRegression\n",
    "#from sklearn.model_selection import RandomizedSearchCV\n",
    "from sklearn.model_selection import GridSearchCV\n",
    "from sklearn.model_selection import StratifiedKFold\n",
    "\n",
    "startTime = datetime.now()\n",
    "# Setup the parameters and distributions to sample from: param_dist\n",
    "param_grid = {'C': np.arange(1e-05, 3, 0.1),      \n",
    "           \"solver\" : ['newton-cg', 'lbfgs']}\n",
    "scoring = {'Accuracy': 'accuracy', 'AUC': 'roc_auc', 'Log_loss': 'neg_log_loss'}\n",
    "\n",
    "gs = GridSearchCV(LogisticRegression(), return_train_score=True,\n",
    "param_grid=param_grid, scoring=scoring, cv=10, refit='Accuracy')\n",
    "gs.fit(X_train, y_train)\n",
    "#results = gs.cv_results_\n",
    "print ('Total running time (H: M: S. ThS)', datetime.now()-startTime, 'seconds.')"
   ]
  },
  {
   "cell_type": "code",
   "execution_count": 24,
   "metadata": {},
   "outputs": [
    {
     "name": "stdout",
     "output_type": "stream",
     "text": [
      "====================\n",
      "best estimator: LogisticRegression(C=0.10001, class_weight=None, dual=False,\n",
      "          fit_intercept=True, intercept_scaling=1, max_iter=100,\n",
      "          multi_class='ovr', n_jobs=1, penalty='l2', random_state=None,\n",
      "          solver='newton-cg', tol=0.0001, verbose=0, warm_start=False)\n",
      "best params: {'C': 0.10001, 'solver': 'newton-cg'}\n",
      "best score: 0.8773234200743495\n",
      "====================\n"
     ]
    }
   ],
   "source": [
    "print('='*20)\n",
    "print(\"best estimator: \" + str(gs.best_estimator_))\n",
    "print(\"best params: \" + str(gs.best_params_))\n",
    "print('best score:', gs.best_score_)\n",
    "print('='*20)"
   ]
  },
  {
   "cell_type": "markdown",
   "metadata": {},
   "source": [
    "## Using the best parameters to Fit and Evaluate the model"
   ]
  },
  {
   "cell_type": "markdown",
   "metadata": {},
   "source": [
    "### Fitting the Model"
   ]
  },
  {
   "cell_type": "code",
   "execution_count": 25,
   "metadata": {},
   "outputs": [
    {
     "data": {
      "text/plain": [
       "LogisticRegression(C=0.10001, class_weight=None, dual=False,\n",
       "          fit_intercept=True, intercept_scaling=1, max_iter=100,\n",
       "          multi_class='ovr', n_jobs=1, penalty='l2', random_state=7,\n",
       "          solver='newton-cg', tol=0.0001, verbose=0, warm_start=False)"
      ]
     },
     "execution_count": 25,
     "metadata": {},
     "output_type": "execute_result"
    }
   ],
   "source": [
    "# train your model using X_train, y_train and the best known parameters\n",
    "lr = LogisticRegression( C=0.10001, solver='newton-cg',  random_state=7)\n",
    "lr.fit(X_train, y_train)"
   ]
  },
  {
   "cell_type": "markdown",
   "metadata": {},
   "source": [
    "## Evaluating the Model"
   ]
  },
  {
   "cell_type": "code",
   "execution_count": 26,
   "metadata": {},
   "outputs": [
    {
     "name": "stdout",
     "output_type": "stream",
     "text": [
      "With LR train datasets () accuracy is:  0.8773\n"
     ]
    }
   ],
   "source": [
    "# Evaluating LR model\n",
    "print('With LR train datasets () accuracy is: ',round(lr.score(X_train,y_train),4)) # accuracy "
   ]
  },
  {
   "cell_type": "code",
   "execution_count": 27,
   "metadata": {},
   "outputs": [
    {
     "name": "stdout",
     "output_type": "stream",
     "text": [
      "Accuracy based on X_test, y_test:  0.8874458874458875\n",
      "\n",
      "Confusion Matrix:\n",
      "  [[ 34  24]\n",
      " [  2 171]]\n",
      "With LR train datasets () accuracy is:  0.8773\n",
      "             precision    recall  f1-score   support\n",
      "\n",
      "          0       0.94      0.59      0.72        58\n",
      "          1       0.88      0.99      0.93       173\n",
      "\n",
      "avg / total       0.89      0.89      0.88       231\n",
      "\n"
     ]
    }
   ],
   "source": [
    "predictions = lr.predict(X_test)\n",
    "print('Accuracy based on X_test, y_test: ',accuracy_score(y_test, predictions))\n",
    "print('')\n",
    "print('Confusion Matrix:\\n ',confusion_matrix(y_test, predictions))\n",
    "print('With LR train datasets () accuracy is: ',round(lr.score(X_train,y_train),4)) # accuracy ',confusion_matrix(y_test, predictions))\n",
    "print(classification_report(y_test, predictions))"
   ]
  },
  {
   "cell_type": "markdown",
   "metadata": {},
   "source": [
    "Precision, recall and f1-score are metrics to measure the accuracy of classification models. A general explanation can be got in [Wikipedia](https://en.wikipedia.org/wiki/Evaluation_of_binary_classifiers).\n",
    "\n",
    "Based on LR testing datasets (X_test, y_test), looks like we misclassified 26 clients, leaving us with a 88.75% accuracy rate (with 89% precision and 89% recall). Meantime, With LR train datasets (X_train, y_train) accuracy is 87.73%"
   ]
  },
  {
   "cell_type": "markdown",
   "metadata": {},
   "source": [
    "### Getting Model's Beta Coefficients"
   ]
  },
  {
   "cell_type": "code",
   "execution_count": 29,
   "metadata": {},
   "outputs": [
    {
     "name": "stdout",
     "output_type": "stream",
     "text": [
      "[1.08274111]\n",
      "[[ 3.33247143e-01 -1.81486436e-01  5.84528155e-04  2.17820264e+00\n",
      "  -1.54367454e-01 -1.94573303e-01 -4.02058492e-02 -9.43557848e-02\n",
      "   1.44524346e-01 -5.01685712e-02]]\n"
     ]
    }
   ],
   "source": [
    "# print the intercept and coefficients\n",
    "print(lr.intercept_)\n",
    "print(lr.coef_)"
   ]
  },
  {
   "cell_type": "code",
   "execution_count": 30,
   "metadata": {},
   "outputs": [
    {
     "data": {
      "text/plain": [
       "Index(['Married', 'Education', 'Loan_Amount_Term', 'Credit_History',\n",
       "       'TotalIncome_log', 'LoanAmount_log', 'LoanIncome_log',\n",
       "       'Property_Area_0', 'Property_Area_1', 'Property_Area_2'],\n",
       "      dtype='object')"
      ]
     },
     "execution_count": 30,
     "metadata": {},
     "output_type": "execute_result"
    }
   ],
   "source": [
    "feature_cols = data_final.columns.drop(['Loan_ID', 'Loan_Status'])\n",
    "feature_cols"
   ]
  },
  {
   "cell_type": "code",
   "execution_count": 31,
   "metadata": {},
   "outputs": [
    {
     "data": {
      "text/plain": [
       "[('Married', 0.33324714287164303),\n",
       " ('Education', -0.1814864362370339),\n",
       " ('Loan_Amount_Term', 0.0005845281548335384),\n",
       " ('Credit_History', 2.1782026378944233),\n",
       " ('TotalIncome_log', -0.15436745354371317),\n",
       " ('LoanAmount_log', -0.19457330276203122),\n",
       " ('LoanIncome_log', -0.04020584921831716),\n",
       " ('Property_Area_0', -0.09435578475843752),\n",
       " ('Property_Area_1', 0.14452434614281617),\n",
       " ('Property_Area_2', -0.05016857122337983)]"
      ]
     },
     "execution_count": 31,
     "metadata": {},
     "output_type": "execute_result"
    }
   ],
   "source": [
    "##pair the feature names with the coefficients\n",
    "list(zip(feature_cols,  lr.coef_[0]))"
   ]
  },
  {
   "cell_type": "markdown",
   "metadata": {},
   "source": [
    "# IV ROC CURVES TWO MODELS IN THE SAME PLOT"
   ]
  },
  {
   "cell_type": "code",
   "execution_count": 4,
   "metadata": {},
   "outputs": [
    {
     "data": {
      "image/png": "[encoded data removed]",
      "text/plain": [
       "<matplotlib.figure.Figure at 0xb9426d8>"
      ]
     },
     "metadata": {},
     "output_type": "display_data"
    }
   ],
   "source": [
    "from sklearn.model_selection import train_test_split\n",
    "from sklearn.metrics import roc_curve,auc\n",
    "from sklearn.metrics import accuracy_score\n",
    "\n",
    "plt.subplots(1, 1, figsize=(10, 5))\n",
    "\n",
    "# Model1: FULL DATASET WITH MISSING VALUES FILLED\n",
    "\n",
    "# read csv (comma separated value) into data\n",
    "df=pd.read_csv('Loan_LRModel.csv')\n",
    "df.columns\n",
    "\n",
    "\n",
    "cat_vars=['Gender', 'Dependents', 'Self_Employed']\n",
    "data_vars=df.columns.values.tolist()\n",
    "to_keep=[i for i in data_vars if i not in cat_vars]\n",
    "\n",
    "data_final=df[to_keep]\n",
    "\n",
    "\n",
    "y_data = data_final['Loan_Status']\n",
    "vars =['Loan_Status','Loan_ID']\n",
    "X_data = data_final.drop(vars, axis=1) \n",
    "\n",
    "\n",
    "#Divide X_data and y_data into train and test data\n",
    "X_train, X_test, y_train,  y_test = train_test_split(X_data, y_data, test_size=0.30, random_state=0,\n",
    "                                                                                      stratify= y_data, shuffle=True)\n",
    "\n",
    "lr = LogisticRegression( C=0.10001, solver='newton-cg',  random_state=7)\n",
    "lr.fit(X_train, y_train)\n",
    "\n",
    "y_pred_prob = lr.predict_proba(X_test)[:,1]\n",
    "fpr, tpr, thresholds = roc_curve(y_test, y_pred_prob)\n",
    "roc_auc = auc(fpr, tpr)\n",
    "\n",
    "# Plot ROC curve\n",
    "plt.plot([0,1],[0,1],linestyle = '--',lw = 2, color = 'gray')\n",
    "plt.plot(fpr, tpr, lw=4, alpha=0.3, label='ROC FullDataset (AUC = %0.2f)' % ( roc_auc), color = 'red')\n",
    "\n",
    "\n",
    "\n",
    "#Model2: REDUCED DATASET WITHOUT MISSING VALUES\n",
    "\n",
    "# read csv (comma separated value) into data\n",
    "df=pd.read_csv('LoanFree_LRModel.csv')\n",
    "df.columns\n",
    "\n",
    "\n",
    "cat_vars=['Gender', 'Dependents', 'Self_Employed']\n",
    "data_vars=df.columns.values.tolist()\n",
    "to_keep=[i for i in data_vars if i not in cat_vars]\n",
    "\n",
    "data_final=df[to_keep]\n",
    "\n",
    "\n",
    "y_data = data_final['Loan_Status']\n",
    "vars =['Loan_Status','Loan_ID']\n",
    "X_data = data_final.drop(vars, axis=1) \n",
    "\n",
    "\n",
    "#Divide X_data and y_data into train and test data\n",
    "X_train, X_test, y_train,  y_test = train_test_split(X_data, y_data, test_size=0.30, random_state=0,\n",
    "                                                                                      stratify= y_data, shuffle=True)\n",
    "\n",
    "lr = LogisticRegression(C=0.10001, solver='newton-cg',  random_state=7)\n",
    "lr.fit(X_train, y_train)\n",
    "\n",
    "y_pred_prob = lr.predict_proba(X_test)[:,1]\n",
    "fpr, tpr, thresholds = roc_curve(y_test, y_pred_prob)\n",
    "roc_auc = auc(fpr, tpr)\n",
    "\n",
    "# Plot ROC curve\n",
    "plt.plot([0,1],[0,1],linestyle = '--',lw = 2, color = 'gray')\n",
    "plt.plot(fpr, tpr, lw=4, alpha=0.3, label='ROC ReducedDataset (AUC = %0.2f)' % ( roc_auc), color = 'green')\n",
    "\n",
    "\n",
    "\n",
    "plt.xlabel('False Positive Rate')\n",
    "plt.ylabel('True Positive Rate')\n",
    "plt.title('ROC Curves\\nFeatures: Full-Dataset [Missings Filled], Reduced-Dataset [Without Missings]')\n",
    "plt.legend(loc=\"lower right\")\n",
    "plt.show()\n"
   ]
  },
  {
   "cell_type": "markdown",
   "metadata": {
    "collapsed": true
   },
   "source": [
    "<hr>\n",
    "By: Hector Alvaro Rojas &nbsp;&nbsp;|&nbsp;&nbsp; Data Science, Visualizations and Applied Statistics &nbsp;&nbsp;|&nbsp;&nbsp; September 10, 2018<br>\n",
    "    Url: [http://www.arqmain.net]   &nbsp;&nbsp;&nbsp;|&nbsp;&nbsp;&nbsp;   GitHub: [https://github.com/arqmain]\n",
    "    <hr>"
   ]
  }
 ],
 "metadata": {
  "kernelspec": {
   "display_name": "Python 3",
   "language": "python",
   "name": "python3"
  },
  "language_info": {
   "codemirror_mode": {
    "name": "ipython",
    "version": 3
   },
   "file_extension": ".py",
   "mimetype": "text/x-python",
   "name": "python",
   "nbconvert_exporter": "python",
   "pygments_lexer": "ipython3",
   "version": "3.6.4"
  }
 },
 "nbformat": 4,
 "nbformat_minor": 2
}
