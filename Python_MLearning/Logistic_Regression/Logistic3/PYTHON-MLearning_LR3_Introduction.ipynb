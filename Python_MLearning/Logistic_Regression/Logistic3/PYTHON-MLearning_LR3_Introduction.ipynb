{
 "cells": [
  {
   "cell_type": "markdown",
   "metadata": {},
   "source": [
    "# Python-MLearning: Loan Data using Logistic Regression (LR) and Sklearn\n",
    "## INTRODUCTION\n",
    "By: Hector Alvaro Rojas &nbsp;&nbsp;|&nbsp;&nbsp; Data Science, Visualizations and Applied Statistics &nbsp;&nbsp;|&nbsp;&nbsp; September 10, 2018<br>\n",
    "    Url: [http://www.arqmain.net]   &nbsp;&nbsp;&nbsp;|&nbsp;&nbsp;&nbsp;   GitHub: [https://github.com/arqmain]\n",
    "    <hr>\n",
    "    <hr>"
   ]
  },
  {
   "cell_type": "markdown",
   "metadata": {},
   "source": [
    "This work deals with an application of the Logistic Regression (LR) algorithm to some Loan Data database, in order to obtain a model that allows to classify them as possible Loan receivers.\n",
    "\n",
    "Three models are tried: 1) Classical LR.  2) LR using OPTIMAL-RFECV variables selection. 3) LR using PCA variables reduction.\n",
    "\n",
    "Two datasets are considering: 1) Reduced dataset without missing values.  2) A full dataset with missing values filled.\n",
    "\n",
    "The original datasets can be downloaded from [here](https://datahack.analyticsvidhya.com/contest/practice-problem-loan-prediction-iii/). Anyway, in the present project, I have combined both datasets (\"train\" and \"test\") into one named it \"LoanFull.csv\". Here is the description of variables:\n",
    "\n",
    "\n",
    "<u>Dependent variable (predicted variable)</u>\n",
    "\n",
    "* <b>Loan_Status</b>: Loan approved (Y/N)\n",
    "\n",
    "<u>Independent variables (predictors)</u>\n",
    "\n",
    "* <b>Gender</b>: Male/ Female\n",
    "* <b>Married</b>: Applicant married (Y/N)\n",
    "* <b>Dependents</b>: Number of dependents\n",
    "* <b>Education</b>: Applicant Education (Graduate/ Under Graduate)\n",
    "* <b>Self_Employed</b>: Self employed (Y/N)\n",
    "* <b>ApplicantIncome</b>: Applicant income\n",
    "* <b>CoapplicantIncome</b>: Coapplicant income\n",
    "* <b>LoanAmount</b>: Loan amount in thousands\n",
    "* <b>Loan_Amount_Term</b>: Term of loan in months\n",
    "* <b>Credit_History</b>: Credit history meets guidelines\n",
    "* <b>Property_Area</b>: Urban/ Semi Urban/ Rural\n",
    "\n",
    "<u>Rol or ID variables</u>\n",
    "* <b>Loan_ID</b>: Unique Loan ID.\n",
    "\n",
    "\n",
    "This project consist of five sections. You can access each one in the following links:\n",
    "\n",
    "* [Exploring dataset and feature engineering](https://github.com/arqmain/Machine_Learning/blob/master/Python_MLearning/Logistic_Regression/Logistic1/PYTHON-MLearning_LR1_Modeling.ipynb)\n",
    "* [Classical Logistic Regression Modeling](https://github.com/arqmain/Machine_Learning/blob/master/Python_MLearning/Logistic_Regression/Logistic1/PYTHON-MLearning_LR1_Exploratory_FEngineering.ipynb)\n",
    "* [Optimal Number of Features RFECV Modeling](https://github.com/arqmain/Machine_Learning/blob/master/Python_MLearning/Logistic_Regression/Logistic1/PYTHON-MLearning_LR1_Modeling.ipynb)\n",
    "* [PCA Reduced Dimension Modeling](https://github.com/arqmain/Machine_Learning/blob/master/Python_MLearning/Logistic_Regression/Logistic1/PYTHON-MLearning_LR1_Exploratory_FEngineering.ipynb)\n"
   ]
  },
  {
   "cell_type": "markdown",
   "metadata": {},
   "source": [
    "<hr>\n",
    "By: Hector Alvaro Rojas &nbsp;&nbsp;|&nbsp;&nbsp; Data Science, Visualizations and Applied Statistics &nbsp;&nbsp;|&nbsp;&nbsp; September 10, 2018<br>\n",
    "    Url: [http://www.arqmain.net]   &nbsp;&nbsp;&nbsp;|&nbsp;&nbsp;&nbsp;   GitHub: [https://github.com/arqmain]\n",
    "    <hr>"
   ]
  }
 ],
 "metadata": {
  "kernelspec": {
   "display_name": "Python 3",
   "language": "python",
   "name": "python3"
  },
  "language_info": {
   "codemirror_mode": {
    "name": "ipython",
    "version": 3
   },
   "file_extension": ".py",
   "mimetype": "text/x-python",
   "name": "python",
   "nbconvert_exporter": "python",
   "pygments_lexer": "ipython3",
   "version": "3.6.4"
  }
 },
 "nbformat": 4,
 "nbformat_minor": 2
}
