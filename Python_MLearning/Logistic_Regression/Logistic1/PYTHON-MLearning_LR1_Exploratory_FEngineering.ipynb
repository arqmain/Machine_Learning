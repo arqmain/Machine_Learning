{
 "cells": [
  {
   "cell_type": "markdown",
   "metadata": {},
   "source": [
    "# Python-MLearning: Portuguese Banking Data using Logistic Regression (LR) and PCA Reduced Dimension\n",
    "## EXPLORING DATASET AND FEATURE ENGINEERING\n",
    "\n",
    "By: Hector Alvaro Rojas &nbsp;&nbsp;|&nbsp;&nbsp; Data Science, Visualizations and Applied Statistics &nbsp;&nbsp;|&nbsp;&nbsp; August 15, 2018<br>\n",
    "    Url: [http://www.arqmain.net]   &nbsp;&nbsp;&nbsp;|&nbsp;&nbsp;&nbsp;   GitHub: [https://github.com/arqmain]\n",
    "    <hr>"
   ]
  },
  {
   "cell_type": "markdown",
   "metadata": {},
   "source": [
    "# I IMPORT REQUIRED PACKAGES"
   ]
  },
  {
   "cell_type": "code",
   "execution_count": 2,
   "metadata": {},
   "outputs": [],
   "source": [
    "import os\n",
    "import pandas as pd\n",
    "import numpy as np\n",
    "from sklearn import preprocessing\n",
    "import matplotlib.pyplot as plt\n",
    "plt.rc(\"font\", size=14)\n",
    "from sklearn.linear_model import LogisticRegression\n",
    "from sklearn.model_selection import train_test_split\n",
    "import seaborn as sns\n",
    "sns.set(style=\"white\")\n",
    "sns.set(style=\"whitegrid\", color_codes=True)\n"
   ]
  },
  {
   "cell_type": "markdown",
   "metadata": {},
   "source": [
    "# II LOADING DATA"
   ]
  },
  {
   "cell_type": "code",
   "execution_count": 3,
   "metadata": {},
   "outputs": [
    {
     "data": {
      "text/plain": [
       "'C:\\\\Users\\\\Alvaro\\\\Documents\\\\R-Python-Projects_April042018\\\\Python_Projects\\\\Machine-Learning\\\\LogisticRegression\\\\Logistic1'"
      ]
     },
     "execution_count": 3,
     "metadata": {},
     "output_type": "execute_result"
    }
   ],
   "source": [
    "#Checking working directory\n",
    "# import os\n",
    "os.getcwd()"
   ]
  },
  {
   "cell_type": "code",
   "execution_count": 4,
   "metadata": {},
   "outputs": [
    {
     "data": {
      "text/plain": [
       "['.ipynb_checkpoints',\n",
       " 'Backup',\n",
       " 'bankmarket.csv',\n",
       " 'bankmarket_final.csv',\n",
       " 'Link to here.txt',\n",
       " 'Links to LR1 GITHUBE and Nbviewer.txt',\n",
       " 'Nueva carpeta',\n",
       " 'PYTHON-MLearning_LR1_Exploratory_FEngineering.ipynb',\n",
       " 'PYTHON-MLearning_LR1_Introduction.ipynb',\n",
       " 'PYTHON-MLearning_LR1_Modeling.ipynb',\n",
       " 'To Put in the GitHube Menu.txt']"
      ]
     },
     "execution_count": 4,
     "metadata": {},
     "output_type": "execute_result"
    }
   ],
   "source": [
    "#List files in a directory\n",
    "os.listdir()"
   ]
  },
  {
   "cell_type": "code",
   "execution_count": 47,
   "metadata": {},
   "outputs": [
    {
     "name": "stdout",
     "output_type": "stream",
     "text": [
      "Index(['age', 'job', 'marital', 'education', 'default', 'housing', 'loan',\n",
      "       'contact', 'month', 'day_of_week', 'duration', 'campaign', 'pdays',\n",
      "       'previous', 'poutcome', 'emp_var_rate', 'cons_price_idx',\n",
      "       'cons_conf_idx', 'euribor3m', 'nr_employed', 'y'],\n",
      "      dtype='object')\n"
     ]
    }
   ],
   "source": [
    "# read csv (comma separated value) into data\n",
    "data=pd.read_csv('bankmarket.csv')\n",
    "print(data.columns)"
   ]
  },
  {
   "cell_type": "markdown",
   "metadata": {},
   "source": [
    "# How About Data Checking?"
   ]
  },
  {
   "cell_type": "code",
   "execution_count": 6,
   "metadata": {},
   "outputs": [
    {
     "name": "stdout",
     "output_type": "stream",
     "text": [
      "* data.head()\n",
      "   age          job  marital          education  default housing loan  \\\n",
      "0   44  blue-collar  married           basic.4y  unknown     yes   no   \n",
      "1   53   technician  married            unknown       no      no   no   \n",
      "2   28   management   single  university.degree       no     yes   no   \n",
      "3   39     services  married        high.school       no      no   no   \n",
      "4   55      retired  married           basic.4y       no     yes   no   \n",
      "\n",
      "    contact month day_of_week ...  campaign  pdays  previous     poutcome  \\\n",
      "0  cellular   aug         thu ...         1    999         0  nonexistent   \n",
      "1  cellular   nov         fri ...         1    999         0  nonexistent   \n",
      "2  cellular   jun         thu ...         3      6         2      success   \n",
      "3  cellular   apr         fri ...         2    999         0  nonexistent   \n",
      "4  cellular   aug         fri ...         1      3         1      success   \n",
      "\n",
      "  emp_var_rate  cons_price_idx  cons_conf_idx  euribor3m  nr_employed  y  \n",
      "0          1.4          93.444          -36.1      4.963       5228.1  0  \n",
      "1         -0.1          93.200          -42.0      4.021       5195.8  0  \n",
      "2         -1.7          94.055          -39.8      0.729       4991.6  1  \n",
      "3         -1.8          93.075          -47.1      1.405       5099.1  0  \n",
      "4         -2.9          92.201          -31.4      0.869       5076.2  1  \n",
      "\n",
      "[5 rows x 21 columns]\n",
      "\n",
      "* data.tail()\n",
      "       age         job  marital            education  default housing loan  \\\n",
      "41183   59     retired  married          high.school  unknown      no  yes   \n",
      "41184   31   housemaid  married             basic.4y  unknown      no   no   \n",
      "41185   42      admin.   single    university.degree  unknown     yes  yes   \n",
      "41186   48  technician  married  professional.course       no      no  yes   \n",
      "41187   25     student   single          high.school       no      no   no   \n",
      "\n",
      "         contact month day_of_week ...  campaign  pdays  previous  \\\n",
      "41183  telephone   jun         thu ...         1    999         0   \n",
      "41184  telephone   may         thu ...         2    999         0   \n",
      "41185  telephone   may         wed ...         3    999         0   \n",
      "41186  telephone   oct         tue ...         2    999         0   \n",
      "41187  telephone   may         fri ...         4    999         0   \n",
      "\n",
      "          poutcome emp_var_rate  cons_price_idx  cons_conf_idx  euribor3m  \\\n",
      "41183  nonexistent          1.4          94.465          -41.8      4.866   \n",
      "41184  nonexistent          1.1          93.994          -36.4      4.860   \n",
      "41185  nonexistent          1.1          93.994          -36.4      4.857   \n",
      "41186  nonexistent         -3.4          92.431          -26.9      0.742   \n",
      "41187  nonexistent          1.1          93.994          -36.4      4.859   \n",
      "\n",
      "       nr_employed  y  \n",
      "41183       5228.1  0  \n",
      "41184       5191.0  0  \n",
      "41185       5191.0  0  \n",
      "41186       5017.5  0  \n",
      "41187       5191.0  0  \n",
      "\n",
      "[5 rows x 21 columns]\n",
      "\n"
     ]
    }
   ],
   "source": [
    "data.head()\n",
    "\n",
    "# print head and tail rows from dataset \n",
    "print(\"* data.head()\", data.head(), sep=\"\\n\", end=\"\\n\\n\")\n",
    "print(\"* data.tail()\", data.tail(), sep=\"\\n\", end=\"\\n\\n\")"
   ]
  },
  {
   "cell_type": "markdown",
   "metadata": {},
   "source": [
    "The data seems to be in a usable format.\n",
    "\n",
    "The first row in the data file defines the column headers, and the headers are descriptive enough for us to understand what each column represents.\n",
    "\n",
    "Each row following the first one represents an entry for a client."
   ]
  },
  {
   "cell_type": "code",
   "execution_count": 48,
   "metadata": {},
   "outputs": [
    {
     "name": "stdout",
     "output_type": "stream",
     "text": [
      "(41188, 21)\n"
     ]
    }
   ],
   "source": [
    "# shape\n",
    "print(data.shape)"
   ]
  },
  {
   "cell_type": "markdown",
   "metadata": {},
   "source": [
    "This is exactly the result we are looking for. We should see 41188 instances (rows) and 21 attributes (columns) as an answer."
   ]
  },
  {
   "cell_type": "markdown",
   "metadata": {},
   "source": [
    "# How about missing values?"
   ]
  },
  {
   "cell_type": "markdown",
   "metadata": {},
   "source": [
    "One of the first things we should look for is missing data. We will assume that 'NA' is the code into the dataset to represent a missing measurement. \n",
    "\n",
    "We can tell pandas to automatically identify missing values if it knows our missing value marker."
   ]
  },
  {
   "cell_type": "code",
   "execution_count": 49,
   "metadata": {},
   "outputs": [
    {
     "data": {
      "text/plain": [
       "(41188, 21)"
      ]
     },
     "execution_count": 49,
     "metadata": {},
     "output_type": "execute_result"
    }
   ],
   "source": [
    "# tell pandas that 'NA' means missing value\n",
    "#data = pd.read_csv('bankmarket.csv', na_values=['NA'], index_col=0)\n",
    "data = pd.read_csv('bankmarket.csv', na_values=['NA'])\n",
    "data.shape"
   ]
  },
  {
   "cell_type": "markdown",
   "metadata": {},
   "source": [
    "Now pandas knows to treat rows with 'NA' as missing values. Let's take a look if we have rows with missing values:"
   ]
  },
  {
   "cell_type": "code",
   "execution_count": 50,
   "metadata": {},
   "outputs": [
    {
     "data": {
      "text/html": [
       "<div>\n",
       "<style scoped>\n",
       "    .dataframe tbody tr th:only-of-type {\n",
       "        vertical-align: middle;\n",
       "    }\n",
       "\n",
       "    .dataframe tbody tr th {\n",
       "        vertical-align: top;\n",
       "    }\n",
       "\n",
       "    .dataframe thead th {\n",
       "        text-align: right;\n",
       "    }\n",
       "</style>\n",
       "<table border=\"1\" class=\"dataframe\">\n",
       "  <thead>\n",
       "    <tr style=\"text-align: right;\">\n",
       "      <th></th>\n",
       "      <th>age</th>\n",
       "      <th>job</th>\n",
       "      <th>marital</th>\n",
       "      <th>education</th>\n",
       "      <th>default</th>\n",
       "      <th>housing</th>\n",
       "      <th>loan</th>\n",
       "      <th>contact</th>\n",
       "      <th>month</th>\n",
       "      <th>day_of_week</th>\n",
       "      <th>...</th>\n",
       "      <th>campaign</th>\n",
       "      <th>pdays</th>\n",
       "      <th>previous</th>\n",
       "      <th>poutcome</th>\n",
       "      <th>emp_var_rate</th>\n",
       "      <th>cons_price_idx</th>\n",
       "      <th>cons_conf_idx</th>\n",
       "      <th>euribor3m</th>\n",
       "      <th>nr_employed</th>\n",
       "      <th>y</th>\n",
       "    </tr>\n",
       "  </thead>\n",
       "  <tbody>\n",
       "  </tbody>\n",
       "</table>\n",
       "<p>0 rows × 21 columns</p>\n",
       "</div>"
      ],
      "text/plain": [
       "Empty DataFrame\n",
       "Columns: [age, job, marital, education, default, housing, loan, contact, month, day_of_week, duration, campaign, pdays, previous, poutcome, emp_var_rate, cons_price_idx, cons_conf_idx, euribor3m, nr_employed, y]\n",
       "Index: []\n",
       "\n",
       "[0 rows x 21 columns]"
      ]
     },
     "execution_count": 50,
     "metadata": {},
     "output_type": "execute_result"
    }
   ],
   "source": [
    "#  tell pandas to look for rows with missing values\n",
    "data[(data['age'].isnull()) |\n",
    "              (data['job'].isnull()) |\n",
    "              (data['marital'].isnull()) |\n",
    "              (data['education'].isnull()) |\n",
    "              (data['default'].isnull()) |\n",
    "              (data['housing'].isnull()) |\n",
    "              (data['loan'].isnull()) |\n",
    "              (data['contact'].isnull()) |\n",
    "              (data['month'].isnull()) |\n",
    "              (data['day_of_week'].isnull()) |\n",
    "              (data['duration'].isnull()) |\n",
    "              (data['campaign'].isnull()) |\n",
    "              (data['pdays'].isnull()) |\n",
    "              (data['previous'].isnull()) |\n",
    "              (data['poutcome'].isnull()) |\n",
    "              (data['emp_var_rate'].isnull()) |\n",
    "              (data['cons_price_idx'].isnull()) |\n",
    "              (data['cons_conf_idx'].isnull()) |\n",
    "              (data['euribor3m'].isnull()) |\n",
    "              (data['nr_employed'].isnull()) |\n",
    "              (data['y'].isnull())]\n"
   ]
  },
  {
   "cell_type": "markdown",
   "metadata": {},
   "source": [
    "This is exactly the result we are looking for. If the dataset has no missing value in it, we should get only the names of the variables as the output for the script above, nothing more. "
   ]
  },
  {
   "cell_type": "code",
   "execution_count": 51,
   "metadata": {},
   "outputs": [
    {
     "name": "stdout",
     "output_type": "stream",
     "text": [
      "age               41188\n",
      "job               41188\n",
      "marital           41188\n",
      "education         41188\n",
      "default           41188\n",
      "housing           41188\n",
      "loan              41188\n",
      "contact           41188\n",
      "month             41188\n",
      "day_of_week       41188\n",
      "duration          41188\n",
      "campaign          41188\n",
      "pdays             41188\n",
      "previous          41188\n",
      "poutcome          41188\n",
      "emp_var_rate      41188\n",
      "cons_price_idx    41188\n",
      "cons_conf_idx     41188\n",
      "euribor3m         41188\n",
      "nr_employed       41188\n",
      "y                 41188\n",
      "dtype: int64\n"
     ]
    }
   ],
   "source": [
    "# count the number of non-NA values in the dataset\n",
    "print(data.count())"
   ]
  },
  {
   "cell_type": "code",
   "execution_count": null,
   "metadata": {},
   "outputs": [],
   "source": [
    "This is just a re-check of what we already know. This is exactly the result we are looking for."
   ]
  },
  {
   "cell_type": "code",
   "execution_count": 52,
   "metadata": {},
   "outputs": [
    {
     "name": "stdout",
     "output_type": "stream",
     "text": [
      "<class 'pandas.core.frame.DataFrame'>\n",
      "RangeIndex: 41188 entries, 0 to 41187\n",
      "Data columns (total 21 columns):\n",
      "age               41188 non-null int64\n",
      "job               41188 non-null object\n",
      "marital           41188 non-null object\n",
      "education         41188 non-null object\n",
      "default           41188 non-null object\n",
      "housing           41188 non-null object\n",
      "loan              41188 non-null object\n",
      "contact           41188 non-null object\n",
      "month             41188 non-null object\n",
      "day_of_week       41188 non-null object\n",
      "duration          41188 non-null int64\n",
      "campaign          41188 non-null int64\n",
      "pdays             41188 non-null int64\n",
      "previous          41188 non-null int64\n",
      "poutcome          41188 non-null object\n",
      "emp_var_rate      41188 non-null float64\n",
      "cons_price_idx    41188 non-null float64\n",
      "cons_conf_idx     41188 non-null float64\n",
      "euribor3m         41188 non-null float64\n",
      "nr_employed       41188 non-null float64\n",
      "y                 41188 non-null int64\n",
      "dtypes: float64(5), int64(6), object(10)\n",
      "memory usage: 6.6+ MB\n",
      "None\n"
     ]
    }
   ],
   "source": [
    "# get some information about the dataset\n",
    "print(data.info())"
   ]
  },
  {
   "cell_type": "markdown",
   "metadata": {},
   "source": [
    "# How about some data exploration?"
   ]
  },
  {
   "cell_type": "markdown",
   "metadata": {},
   "source": [
    "## About output variable Y"
   ]
  },
  {
   "cell_type": "code",
   "execution_count": 53,
   "metadata": {},
   "outputs": [
    {
     "data": {
      "text/plain": [
       "0    36548\n",
       "1     4640\n",
       "Name: y, dtype: int64"
      ]
     },
     "execution_count": 53,
     "metadata": {},
     "output_type": "execute_result"
    }
   ],
   "source": [
    "data['y'].value_counts()"
   ]
  },
  {
   "cell_type": "code",
   "execution_count": 54,
   "metadata": {},
   "outputs": [
    {
     "data": {
      "image/png": "[encoded data removed]",
      "text/plain": [
       "<matplotlib.figure.Figure at 0xbb6a5c0>"
      ]
     },
     "metadata": {},
     "output_type": "display_data"
    },
    {
     "data": {
      "text/plain": [
       "<matplotlib.figure.Figure at 0xbb6aef0>"
      ]
     },
     "metadata": {},
     "output_type": "display_data"
    }
   ],
   "source": [
    "sns.countplot(x='y',data=data, palette='hls')\n",
    "plt.show()\n",
    "plt.savefig('count_plot')"
   ]
  },
  {
   "cell_type": "markdown",
   "metadata": {},
   "source": [
    "There are 36548 no's and 4640 yes's in the outcome variables.  So, we are dealing with an unbalanced dataset."
   ]
  },
  {
   "cell_type": "markdown",
   "metadata": {},
   "source": [
    "## About average by groupping variables"
   ]
  },
  {
   "cell_type": "code",
   "execution_count": 55,
   "metadata": {},
   "outputs": [
    {
     "data": {
      "text/html": [
       "<div>\n",
       "<style scoped>\n",
       "    .dataframe tbody tr th:only-of-type {\n",
       "        vertical-align: middle;\n",
       "    }\n",
       "\n",
       "    .dataframe tbody tr th {\n",
       "        vertical-align: top;\n",
       "    }\n",
       "\n",
       "    .dataframe thead th {\n",
       "        text-align: right;\n",
       "    }\n",
       "</style>\n",
       "<table border=\"1\" class=\"dataframe\">\n",
       "  <thead>\n",
       "    <tr style=\"text-align: right;\">\n",
       "      <th></th>\n",
       "      <th>age</th>\n",
       "      <th>campaign</th>\n",
       "      <th>cons_conf_idx</th>\n",
       "      <th>cons_price_idx</th>\n",
       "      <th>duration</th>\n",
       "      <th>emp_var_rate</th>\n",
       "      <th>euribor3m</th>\n",
       "      <th>nr_employed</th>\n",
       "      <th>pdays</th>\n",
       "      <th>previous</th>\n",
       "    </tr>\n",
       "    <tr>\n",
       "      <th>y</th>\n",
       "      <th></th>\n",
       "      <th></th>\n",
       "      <th></th>\n",
       "      <th></th>\n",
       "      <th></th>\n",
       "      <th></th>\n",
       "      <th></th>\n",
       "      <th></th>\n",
       "      <th></th>\n",
       "      <th></th>\n",
       "    </tr>\n",
       "  </thead>\n",
       "  <tbody>\n",
       "    <tr>\n",
       "      <th>0</th>\n",
       "      <td>39.9112</td>\n",
       "      <td>2.6331</td>\n",
       "      <td>-40.5931</td>\n",
       "      <td>93.6038</td>\n",
       "      <td>220.8448</td>\n",
       "      <td>0.2489</td>\n",
       "      <td>3.8115</td>\n",
       "      <td>5176.1666</td>\n",
       "      <td>984.1139</td>\n",
       "      <td>0.1324</td>\n",
       "    </tr>\n",
       "    <tr>\n",
       "      <th>1</th>\n",
       "      <td>40.9131</td>\n",
       "      <td>2.0517</td>\n",
       "      <td>-39.7898</td>\n",
       "      <td>93.3544</td>\n",
       "      <td>553.1912</td>\n",
       "      <td>-1.2334</td>\n",
       "      <td>2.1231</td>\n",
       "      <td>5095.1160</td>\n",
       "      <td>792.0356</td>\n",
       "      <td>0.4927</td>\n",
       "    </tr>\n",
       "  </tbody>\n",
       "</table>\n",
       "</div>"
      ],
      "text/plain": [
       "       age  campaign  cons_conf_idx  cons_price_idx  duration  emp_var_rate  \\\n",
       "y                                                                             \n",
       "0  39.9112    2.6331       -40.5931         93.6038  220.8448        0.2489   \n",
       "1  40.9131    2.0517       -39.7898         93.3544  553.1912       -1.2334   \n",
       "\n",
       "   euribor3m  nr_employed     pdays  previous  \n",
       "y                                              \n",
       "0     3.8115    5176.1666  984.1139    0.1324  \n",
       "1     2.1231    5095.1160  792.0356    0.4927  "
      ]
     },
     "execution_count": 55,
     "metadata": {},
     "output_type": "execute_result"
    }
   ],
   "source": [
    "#Y and the rest:\n",
    "var_list = ['age','duration','campaign','pdays','previous', 'emp_var_rate',\t'cons_price_idx','cons_conf_idx','euribor3m', 'nr_employed']\n",
    "compara = data.pivot_table(index=['y'], values=var_list, aggfunc='mean')\n",
    "round(compara,4)"
   ]
  },
  {
   "cell_type": "code",
   "execution_count": 56,
   "metadata": {},
   "outputs": [
    {
     "data": {
      "text/html": [
       "<div>\n",
       "<style scoped>\n",
       "    .dataframe tbody tr th:only-of-type {\n",
       "        vertical-align: middle;\n",
       "    }\n",
       "\n",
       "    .dataframe tbody tr th {\n",
       "        vertical-align: top;\n",
       "    }\n",
       "\n",
       "    .dataframe thead th {\n",
       "        text-align: right;\n",
       "    }\n",
       "</style>\n",
       "<table border=\"1\" class=\"dataframe\">\n",
       "  <thead>\n",
       "    <tr style=\"text-align: right;\">\n",
       "      <th></th>\n",
       "      <th>age</th>\n",
       "      <th>campaign</th>\n",
       "      <th>cons_conf_idx</th>\n",
       "      <th>cons_price_idx</th>\n",
       "      <th>duration</th>\n",
       "      <th>emp_var_rate</th>\n",
       "      <th>euribor3m</th>\n",
       "      <th>nr_employed</th>\n",
       "      <th>pdays</th>\n",
       "      <th>previous</th>\n",
       "    </tr>\n",
       "    <tr>\n",
       "      <th>job</th>\n",
       "      <th></th>\n",
       "      <th></th>\n",
       "      <th></th>\n",
       "      <th></th>\n",
       "      <th></th>\n",
       "      <th></th>\n",
       "      <th></th>\n",
       "      <th></th>\n",
       "      <th></th>\n",
       "      <th></th>\n",
       "    </tr>\n",
       "  </thead>\n",
       "  <tbody>\n",
       "    <tr>\n",
       "      <th>admin.</th>\n",
       "      <td>38.1873</td>\n",
       "      <td>2.6235</td>\n",
       "      <td>-40.2454</td>\n",
       "      <td>93.5341</td>\n",
       "      <td>254.3121</td>\n",
       "      <td>0.0156</td>\n",
       "      <td>3.5503</td>\n",
       "      <td>5164.1254</td>\n",
       "      <td>954.3192</td>\n",
       "      <td>0.1890</td>\n",
       "    </tr>\n",
       "    <tr>\n",
       "      <th>blue-collar</th>\n",
       "      <td>39.5558</td>\n",
       "      <td>2.5585</td>\n",
       "      <td>-41.3758</td>\n",
       "      <td>93.6567</td>\n",
       "      <td>264.5424</td>\n",
       "      <td>0.2490</td>\n",
       "      <td>3.7720</td>\n",
       "      <td>5175.6152</td>\n",
       "      <td>985.1604</td>\n",
       "      <td>0.1225</td>\n",
       "    </tr>\n",
       "    <tr>\n",
       "      <th>entrepreneur</th>\n",
       "      <td>41.7232</td>\n",
       "      <td>2.5357</td>\n",
       "      <td>-41.2837</td>\n",
       "      <td>93.6054</td>\n",
       "      <td>263.2679</td>\n",
       "      <td>0.1587</td>\n",
       "      <td>3.7911</td>\n",
       "      <td>5176.3135</td>\n",
       "      <td>981.2672</td>\n",
       "      <td>0.1387</td>\n",
       "    </tr>\n",
       "    <tr>\n",
       "      <th>housemaid</th>\n",
       "      <td>45.5000</td>\n",
       "      <td>2.6396</td>\n",
       "      <td>-39.4953</td>\n",
       "      <td>93.6766</td>\n",
       "      <td>250.4547</td>\n",
       "      <td>0.4334</td>\n",
       "      <td>4.0096</td>\n",
       "      <td>5179.5296</td>\n",
       "      <td>960.5792</td>\n",
       "      <td>0.1377</td>\n",
       "    </tr>\n",
       "    <tr>\n",
       "      <th>management</th>\n",
       "      <td>42.3629</td>\n",
       "      <td>2.4761</td>\n",
       "      <td>-40.4895</td>\n",
       "      <td>93.5228</td>\n",
       "      <td>257.0581</td>\n",
       "      <td>-0.0127</td>\n",
       "      <td>3.6113</td>\n",
       "      <td>5166.6505</td>\n",
       "      <td>962.6471</td>\n",
       "      <td>0.1850</td>\n",
       "    </tr>\n",
       "    <tr>\n",
       "      <th>retired</th>\n",
       "      <td>62.0273</td>\n",
       "      <td>2.4767</td>\n",
       "      <td>-38.5731</td>\n",
       "      <td>93.4308</td>\n",
       "      <td>273.7122</td>\n",
       "      <td>-0.6983</td>\n",
       "      <td>2.7701</td>\n",
       "      <td>5122.2622</td>\n",
       "      <td>897.9360</td>\n",
       "      <td>0.3273</td>\n",
       "    </tr>\n",
       "    <tr>\n",
       "      <th>self-employed</th>\n",
       "      <td>39.9493</td>\n",
       "      <td>2.6608</td>\n",
       "      <td>-40.4881</td>\n",
       "      <td>93.5600</td>\n",
       "      <td>264.1422</td>\n",
       "      <td>0.0942</td>\n",
       "      <td>3.6894</td>\n",
       "      <td>5170.6744</td>\n",
       "      <td>976.6214</td>\n",
       "      <td>0.1436</td>\n",
       "    </tr>\n",
       "    <tr>\n",
       "      <th>services</th>\n",
       "      <td>37.9264</td>\n",
       "      <td>2.5878</td>\n",
       "      <td>-41.2900</td>\n",
       "      <td>93.6347</td>\n",
       "      <td>258.3981</td>\n",
       "      <td>0.1754</td>\n",
       "      <td>3.6992</td>\n",
       "      <td>5171.6001</td>\n",
       "      <td>979.9740</td>\n",
       "      <td>0.1550</td>\n",
       "    </tr>\n",
       "    <tr>\n",
       "      <th>student</th>\n",
       "      <td>25.8949</td>\n",
       "      <td>2.1040</td>\n",
       "      <td>-40.1875</td>\n",
       "      <td>93.3316</td>\n",
       "      <td>283.6834</td>\n",
       "      <td>-1.4080</td>\n",
       "      <td>1.8842</td>\n",
       "      <td>5085.9391</td>\n",
       "      <td>840.2171</td>\n",
       "      <td>0.5246</td>\n",
       "    </tr>\n",
       "    <tr>\n",
       "      <th>technician</th>\n",
       "      <td>38.5076</td>\n",
       "      <td>2.5773</td>\n",
       "      <td>-39.9276</td>\n",
       "      <td>93.5615</td>\n",
       "      <td>250.2322</td>\n",
       "      <td>0.2746</td>\n",
       "      <td>3.8204</td>\n",
       "      <td>5175.6484</td>\n",
       "      <td>964.4081</td>\n",
       "      <td>0.1538</td>\n",
       "    </tr>\n",
       "    <tr>\n",
       "      <th>unemployed</th>\n",
       "      <td>39.7337</td>\n",
       "      <td>2.5641</td>\n",
       "      <td>-40.0076</td>\n",
       "      <td>93.5638</td>\n",
       "      <td>249.4517</td>\n",
       "      <td>-0.1117</td>\n",
       "      <td>3.4666</td>\n",
       "      <td>5157.1565</td>\n",
       "      <td>935.3166</td>\n",
       "      <td>0.1992</td>\n",
       "    </tr>\n",
       "    <tr>\n",
       "      <th>unknown</th>\n",
       "      <td>45.5636</td>\n",
       "      <td>2.6485</td>\n",
       "      <td>-38.7979</td>\n",
       "      <td>93.7189</td>\n",
       "      <td>239.6758</td>\n",
       "      <td>0.3579</td>\n",
       "      <td>3.9490</td>\n",
       "      <td>5172.9318</td>\n",
       "      <td>938.7273</td>\n",
       "      <td>0.1545</td>\n",
       "    </tr>\n",
       "  </tbody>\n",
       "</table>\n",
       "</div>"
      ],
      "text/plain": [
       "                   age  campaign  cons_conf_idx  cons_price_idx  duration  \\\n",
       "job                                                                         \n",
       "admin.         38.1873    2.6235       -40.2454         93.5341  254.3121   \n",
       "blue-collar    39.5558    2.5585       -41.3758         93.6567  264.5424   \n",
       "entrepreneur   41.7232    2.5357       -41.2837         93.6054  263.2679   \n",
       "housemaid      45.5000    2.6396       -39.4953         93.6766  250.4547   \n",
       "management     42.3629    2.4761       -40.4895         93.5228  257.0581   \n",
       "retired        62.0273    2.4767       -38.5731         93.4308  273.7122   \n",
       "self-employed  39.9493    2.6608       -40.4881         93.5600  264.1422   \n",
       "services       37.9264    2.5878       -41.2900         93.6347  258.3981   \n",
       "student        25.8949    2.1040       -40.1875         93.3316  283.6834   \n",
       "technician     38.5076    2.5773       -39.9276         93.5615  250.2322   \n",
       "unemployed     39.7337    2.5641       -40.0076         93.5638  249.4517   \n",
       "unknown        45.5636    2.6485       -38.7979         93.7189  239.6758   \n",
       "\n",
       "               emp_var_rate  euribor3m  nr_employed     pdays  previous  \n",
       "job                                                                      \n",
       "admin.               0.0156     3.5503    5164.1254  954.3192    0.1890  \n",
       "blue-collar          0.2490     3.7720    5175.6152  985.1604    0.1225  \n",
       "entrepreneur         0.1587     3.7911    5176.3135  981.2672    0.1387  \n",
       "housemaid            0.4334     4.0096    5179.5296  960.5792    0.1377  \n",
       "management          -0.0127     3.6113    5166.6505  962.6471    0.1850  \n",
       "retired             -0.6983     2.7701    5122.2622  897.9360    0.3273  \n",
       "self-employed        0.0942     3.6894    5170.6744  976.6214    0.1436  \n",
       "services             0.1754     3.6992    5171.6001  979.9740    0.1550  \n",
       "student             -1.4080     1.8842    5085.9391  840.2171    0.5246  \n",
       "technician           0.2746     3.8204    5175.6484  964.4081    0.1538  \n",
       "unemployed          -0.1117     3.4666    5157.1565  935.3166    0.1992  \n",
       "unknown              0.3579     3.9490    5172.9318  938.7273    0.1545  "
      ]
     },
     "execution_count": 56,
     "metadata": {},
     "output_type": "execute_result"
    }
   ],
   "source": [
    "#Job and the rest:\n",
    "var_list = ['age','duration','campaign','pdays','previous', 'emp_var_rate',\t'cons_price_idx','cons_conf_idx','euribor3m', 'nr_employed']\n",
    "compara = data.pivot_table(index=['job'], values=var_list, aggfunc='mean')\n",
    "round(compara,4)"
   ]
  },
  {
   "cell_type": "code",
   "execution_count": 57,
   "metadata": {},
   "outputs": [
    {
     "data": {
      "text/html": [
       "<div>\n",
       "<style scoped>\n",
       "    .dataframe tbody tr th:only-of-type {\n",
       "        vertical-align: middle;\n",
       "    }\n",
       "\n",
       "    .dataframe tbody tr th {\n",
       "        vertical-align: top;\n",
       "    }\n",
       "\n",
       "    .dataframe thead th {\n",
       "        text-align: right;\n",
       "    }\n",
       "</style>\n",
       "<table border=\"1\" class=\"dataframe\">\n",
       "  <thead>\n",
       "    <tr style=\"text-align: right;\">\n",
       "      <th></th>\n",
       "      <th></th>\n",
       "      <th>age</th>\n",
       "      <th>campaign</th>\n",
       "      <th>cons_conf_idx</th>\n",
       "      <th>cons_price_idx</th>\n",
       "      <th>duration</th>\n",
       "      <th>emp_var_rate</th>\n",
       "      <th>euribor3m</th>\n",
       "      <th>nr_employed</th>\n",
       "      <th>pdays</th>\n",
       "      <th>previous</th>\n",
       "    </tr>\n",
       "    <tr>\n",
       "      <th>job</th>\n",
       "      <th>y</th>\n",
       "      <th></th>\n",
       "      <th></th>\n",
       "      <th></th>\n",
       "      <th></th>\n",
       "      <th></th>\n",
       "      <th></th>\n",
       "      <th></th>\n",
       "      <th></th>\n",
       "      <th></th>\n",
       "      <th></th>\n",
       "    </tr>\n",
       "  </thead>\n",
       "  <tbody>\n",
       "    <tr>\n",
       "      <th rowspan=\"2\" valign=\"top\">admin.</th>\n",
       "      <th>0</th>\n",
       "      <td>38.2198</td>\n",
       "      <td>2.7077</td>\n",
       "      <td>-40.3498</td>\n",
       "      <td>93.5660</td>\n",
       "      <td>215.0934</td>\n",
       "      <td>0.2241</td>\n",
       "      <td>3.7866</td>\n",
       "      <td>5175.5121</td>\n",
       "      <td>981.2708</td>\n",
       "      <td>0.1411</td>\n",
       "    </tr>\n",
       "    <tr>\n",
       "      <th>1</th>\n",
       "      <td>37.9689</td>\n",
       "      <td>2.0584</td>\n",
       "      <td>-39.5455</td>\n",
       "      <td>93.3195</td>\n",
       "      <td>517.4142</td>\n",
       "      <td>-1.3832</td>\n",
       "      <td>1.9651</td>\n",
       "      <td>5087.7368</td>\n",
       "      <td>773.5126</td>\n",
       "      <td>0.5104</td>\n",
       "    </tr>\n",
       "    <tr>\n",
       "      <th rowspan=\"2\" valign=\"top\">blue-collar</th>\n",
       "      <th>0</th>\n",
       "      <td>39.5821</td>\n",
       "      <td>2.5882</td>\n",
       "      <td>-41.3466</td>\n",
       "      <td>93.6689</td>\n",
       "      <td>229.8780</td>\n",
       "      <td>0.3036</td>\n",
       "      <td>3.8354</td>\n",
       "      <td>5178.2960</td>\n",
       "      <td>991.5164</td>\n",
       "      <td>0.1117</td>\n",
       "    </tr>\n",
       "    <tr>\n",
       "      <th>1</th>\n",
       "      <td>39.2006</td>\n",
       "      <td>2.1567</td>\n",
       "      <td>-41.7708</td>\n",
       "      <td>93.4915</td>\n",
       "      <td>732.6740</td>\n",
       "      <td>-0.4878</td>\n",
       "      <td>2.9157</td>\n",
       "      <td>5139.4107</td>\n",
       "      <td>899.3245</td>\n",
       "      <td>0.2696</td>\n",
       "    </tr>\n",
       "    <tr>\n",
       "      <th rowspan=\"2\" valign=\"top\">entrepreneur</th>\n",
       "      <th>0</th>\n",
       "      <td>41.7035</td>\n",
       "      <td>2.5796</td>\n",
       "      <td>-41.3198</td>\n",
       "      <td>93.6262</td>\n",
       "      <td>225.6329</td>\n",
       "      <td>0.2429</td>\n",
       "      <td>3.8816</td>\n",
       "      <td>5180.2056</td>\n",
       "      <td>987.8138</td>\n",
       "      <td>0.1284</td>\n",
       "    </tr>\n",
       "    <tr>\n",
       "      <th>1</th>\n",
       "      <td>41.9355</td>\n",
       "      <td>2.0645</td>\n",
       "      <td>-40.8952</td>\n",
       "      <td>93.3812</td>\n",
       "      <td>667.5403</td>\n",
       "      <td>-0.7452</td>\n",
       "      <td>2.8188</td>\n",
       "      <td>5134.5048</td>\n",
       "      <td>910.9435</td>\n",
       "      <td>0.2500</td>\n",
       "    </tr>\n",
       "    <tr>\n",
       "      <th rowspan=\"2\" valign=\"top\">housemaid</th>\n",
       "      <th>0</th>\n",
       "      <td>44.7055</td>\n",
       "      <td>2.7222</td>\n",
       "      <td>-39.6268</td>\n",
       "      <td>93.7128</td>\n",
       "      <td>218.7788</td>\n",
       "      <td>0.6413</td>\n",
       "      <td>4.2431</td>\n",
       "      <td>5190.5532</td>\n",
       "      <td>986.4916</td>\n",
       "      <td>0.0891</td>\n",
       "    </tr>\n",
       "    <tr>\n",
       "      <th>1</th>\n",
       "      <td>52.6509</td>\n",
       "      <td>1.8962</td>\n",
       "      <td>-38.3113</td>\n",
       "      <td>93.3509</td>\n",
       "      <td>535.5377</td>\n",
       "      <td>-1.4377</td>\n",
       "      <td>1.9087</td>\n",
       "      <td>5080.3170</td>\n",
       "      <td>727.3679</td>\n",
       "      <td>0.5755</td>\n",
       "    </tr>\n",
       "    <tr>\n",
       "      <th rowspan=\"2\" valign=\"top\">management</th>\n",
       "      <th>0</th>\n",
       "      <td>42.3097</td>\n",
       "      <td>2.5324</td>\n",
       "      <td>-40.6200</td>\n",
       "      <td>93.5501</td>\n",
       "      <td>220.8282</td>\n",
       "      <td>0.1412</td>\n",
       "      <td>3.7855</td>\n",
       "      <td>5175.0374</td>\n",
       "      <td>984.8486</td>\n",
       "      <td>0.1410</td>\n",
       "    </tr>\n",
       "    <tr>\n",
       "      <th>1</th>\n",
       "      <td>42.7835</td>\n",
       "      <td>2.0305</td>\n",
       "      <td>-39.4564</td>\n",
       "      <td>93.3066</td>\n",
       "      <td>543.8049</td>\n",
       "      <td>-1.2308</td>\n",
       "      <td>2.2329</td>\n",
       "      <td>5100.2710</td>\n",
       "      <td>786.9299</td>\n",
       "      <td>0.5335</td>\n",
       "    </tr>\n",
       "    <tr>\n",
       "      <th rowspan=\"2\" valign=\"top\">retired</th>\n",
       "      <th>0</th>\n",
       "      <td>59.9261</td>\n",
       "      <td>2.6571</td>\n",
       "      <td>-38.9208</td>\n",
       "      <td>93.4933</td>\n",
       "      <td>224.2636</td>\n",
       "      <td>-0.2839</td>\n",
       "      <td>3.2498</td>\n",
       "      <td>5146.0433</td>\n",
       "      <td>960.3694</td>\n",
       "      <td>0.2123</td>\n",
       "    </tr>\n",
       "    <tr>\n",
       "      <th>1</th>\n",
       "      <td>68.2535</td>\n",
       "      <td>1.9424</td>\n",
       "      <td>-37.5429</td>\n",
       "      <td>93.2456</td>\n",
       "      <td>420.2350</td>\n",
       "      <td>-1.9263</td>\n",
       "      <td>1.3486</td>\n",
       "      <td>5051.7954</td>\n",
       "      <td>712.9378</td>\n",
       "      <td>0.6682</td>\n",
       "    </tr>\n",
       "    <tr>\n",
       "      <th rowspan=\"2\" valign=\"top\">self-employed</th>\n",
       "      <th>0</th>\n",
       "      <td>40.1769</td>\n",
       "      <td>2.7248</td>\n",
       "      <td>-40.5010</td>\n",
       "      <td>93.5918</td>\n",
       "      <td>222.2209</td>\n",
       "      <td>0.2426</td>\n",
       "      <td>3.8542</td>\n",
       "      <td>5177.9580</td>\n",
       "      <td>988.0731</td>\n",
       "      <td>0.1234</td>\n",
       "    </tr>\n",
       "    <tr>\n",
       "      <th>1</th>\n",
       "      <td>38.0067</td>\n",
       "      <td>2.1141</td>\n",
       "      <td>-40.3779</td>\n",
       "      <td>93.2885</td>\n",
       "      <td>622.0201</td>\n",
       "      <td>-1.1732</td>\n",
       "      <td>2.2822</td>\n",
       "      <td>5108.4946</td>\n",
       "      <td>878.8591</td>\n",
       "      <td>0.3154</td>\n",
       "    </tr>\n",
       "    <tr>\n",
       "      <th rowspan=\"2\" valign=\"top\">services</th>\n",
       "      <th>0</th>\n",
       "      <td>38.0902</td>\n",
       "      <td>2.6193</td>\n",
       "      <td>-41.3275</td>\n",
       "      <td>93.6504</td>\n",
       "      <td>225.0480</td>\n",
       "      <td>0.2567</td>\n",
       "      <td>3.7938</td>\n",
       "      <td>5176.0381</td>\n",
       "      <td>991.0916</td>\n",
       "      <td>0.1363</td>\n",
       "    </tr>\n",
       "    <tr>\n",
       "      <th>1</th>\n",
       "      <td>36.0774</td>\n",
       "      <td>2.2322</td>\n",
       "      <td>-40.8669</td>\n",
       "      <td>93.4566</td>\n",
       "      <td>634.8514</td>\n",
       "      <td>-0.7430</td>\n",
       "      <td>2.6311</td>\n",
       "      <td>5121.5050</td>\n",
       "      <td>854.4799</td>\n",
       "      <td>0.3653</td>\n",
       "    </tr>\n",
       "    <tr>\n",
       "      <th rowspan=\"2\" valign=\"top\">student</th>\n",
       "      <th>0</th>\n",
       "      <td>26.3967</td>\n",
       "      <td>2.2383</td>\n",
       "      <td>-40.7515</td>\n",
       "      <td>93.3508</td>\n",
       "      <td>228.8517</td>\n",
       "      <td>-1.1332</td>\n",
       "      <td>2.2087</td>\n",
       "      <td>5104.5075</td>\n",
       "      <td>924.5967</td>\n",
       "      <td>0.3950</td>\n",
       "    </tr>\n",
       "    <tr>\n",
       "      <th>1</th>\n",
       "      <td>24.8000</td>\n",
       "      <td>1.8109</td>\n",
       "      <td>-38.9571</td>\n",
       "      <td>93.2898</td>\n",
       "      <td>403.3164</td>\n",
       "      <td>-2.0076</td>\n",
       "      <td>1.1763</td>\n",
       "      <td>5045.4262</td>\n",
       "      <td>656.1164</td>\n",
       "      <td>0.8073</td>\n",
       "    </tr>\n",
       "    <tr>\n",
       "      <th rowspan=\"2\" valign=\"top\">technician</th>\n",
       "      <th>0</th>\n",
       "      <td>38.6000</td>\n",
       "      <td>2.6418</td>\n",
       "      <td>-39.9183</td>\n",
       "      <td>93.5842</td>\n",
       "      <td>213.4520</td>\n",
       "      <td>0.4417</td>\n",
       "      <td>4.0123</td>\n",
       "      <td>5184.9517</td>\n",
       "      <td>985.1355</td>\n",
       "      <td>0.1111</td>\n",
       "    </tr>\n",
       "    <tr>\n",
       "      <th>1</th>\n",
       "      <td>37.7466</td>\n",
       "      <td>2.0466</td>\n",
       "      <td>-40.0038</td>\n",
       "      <td>93.3743</td>\n",
       "      <td>553.1904</td>\n",
       "      <td>-1.1021</td>\n",
       "      <td>2.2396</td>\n",
       "      <td>5099.0171</td>\n",
       "      <td>793.6767</td>\n",
       "      <td>0.5055</td>\n",
       "    </tr>\n",
       "    <tr>\n",
       "      <th rowspan=\"2\" valign=\"top\">unemployed</th>\n",
       "      <th>0</th>\n",
       "      <td>39.8448</td>\n",
       "      <td>2.6690</td>\n",
       "      <td>-40.1939</td>\n",
       "      <td>93.6044</td>\n",
       "      <td>212.7069</td>\n",
       "      <td>0.1472</td>\n",
       "      <td>3.7755</td>\n",
       "      <td>5172.2452</td>\n",
       "      <td>973.8793</td>\n",
       "      <td>0.1310</td>\n",
       "    </tr>\n",
       "    <tr>\n",
       "      <th>1</th>\n",
       "      <td>39.0625</td>\n",
       "      <td>1.9306</td>\n",
       "      <td>-38.8819</td>\n",
       "      <td>93.3186</td>\n",
       "      <td>471.4514</td>\n",
       "      <td>-1.6764</td>\n",
       "      <td>1.6004</td>\n",
       "      <td>5065.9958</td>\n",
       "      <td>702.3333</td>\n",
       "      <td>0.6111</td>\n",
       "    </tr>\n",
       "    <tr>\n",
       "      <th rowspan=\"2\" valign=\"top\">unknown</th>\n",
       "      <th>0</th>\n",
       "      <td>45.3754</td>\n",
       "      <td>2.6792</td>\n",
       "      <td>-38.8826</td>\n",
       "      <td>93.7487</td>\n",
       "      <td>204.5597</td>\n",
       "      <td>0.5553</td>\n",
       "      <td>4.1540</td>\n",
       "      <td>5182.7427</td>\n",
       "      <td>954.8737</td>\n",
       "      <td>0.0956</td>\n",
       "    </tr>\n",
       "    <tr>\n",
       "      <th>1</th>\n",
       "      <td>47.0541</td>\n",
       "      <td>2.4054</td>\n",
       "      <td>-38.1270</td>\n",
       "      <td>93.4833</td>\n",
       "      <td>517.7568</td>\n",
       "      <td>-1.2054</td>\n",
       "      <td>2.3256</td>\n",
       "      <td>5095.2405</td>\n",
       "      <td>810.8649</td>\n",
       "      <td>0.6216</td>\n",
       "    </tr>\n",
       "  </tbody>\n",
       "</table>\n",
       "</div>"
      ],
      "text/plain": [
       "                     age  campaign  cons_conf_idx  cons_price_idx  duration  \\\n",
       "job           y                                                               \n",
       "admin.        0  38.2198    2.7077       -40.3498         93.5660  215.0934   \n",
       "              1  37.9689    2.0584       -39.5455         93.3195  517.4142   \n",
       "blue-collar   0  39.5821    2.5882       -41.3466         93.6689  229.8780   \n",
       "              1  39.2006    2.1567       -41.7708         93.4915  732.6740   \n",
       "entrepreneur  0  41.7035    2.5796       -41.3198         93.6262  225.6329   \n",
       "              1  41.9355    2.0645       -40.8952         93.3812  667.5403   \n",
       "housemaid     0  44.7055    2.7222       -39.6268         93.7128  218.7788   \n",
       "              1  52.6509    1.8962       -38.3113         93.3509  535.5377   \n",
       "management    0  42.3097    2.5324       -40.6200         93.5501  220.8282   \n",
       "              1  42.7835    2.0305       -39.4564         93.3066  543.8049   \n",
       "retired       0  59.9261    2.6571       -38.9208         93.4933  224.2636   \n",
       "              1  68.2535    1.9424       -37.5429         93.2456  420.2350   \n",
       "self-employed 0  40.1769    2.7248       -40.5010         93.5918  222.2209   \n",
       "              1  38.0067    2.1141       -40.3779         93.2885  622.0201   \n",
       "services      0  38.0902    2.6193       -41.3275         93.6504  225.0480   \n",
       "              1  36.0774    2.2322       -40.8669         93.4566  634.8514   \n",
       "student       0  26.3967    2.2383       -40.7515         93.3508  228.8517   \n",
       "              1  24.8000    1.8109       -38.9571         93.2898  403.3164   \n",
       "technician    0  38.6000    2.6418       -39.9183         93.5842  213.4520   \n",
       "              1  37.7466    2.0466       -40.0038         93.3743  553.1904   \n",
       "unemployed    0  39.8448    2.6690       -40.1939         93.6044  212.7069   \n",
       "              1  39.0625    1.9306       -38.8819         93.3186  471.4514   \n",
       "unknown       0  45.3754    2.6792       -38.8826         93.7487  204.5597   \n",
       "              1  47.0541    2.4054       -38.1270         93.4833  517.7568   \n",
       "\n",
       "                 emp_var_rate  euribor3m  nr_employed     pdays  previous  \n",
       "job           y                                                            \n",
       "admin.        0        0.2241     3.7866    5175.5121  981.2708    0.1411  \n",
       "              1       -1.3832     1.9651    5087.7368  773.5126    0.5104  \n",
       "blue-collar   0        0.3036     3.8354    5178.2960  991.5164    0.1117  \n",
       "              1       -0.4878     2.9157    5139.4107  899.3245    0.2696  \n",
       "entrepreneur  0        0.2429     3.8816    5180.2056  987.8138    0.1284  \n",
       "              1       -0.7452     2.8188    5134.5048  910.9435    0.2500  \n",
       "housemaid     0        0.6413     4.2431    5190.5532  986.4916    0.0891  \n",
       "              1       -1.4377     1.9087    5080.3170  727.3679    0.5755  \n",
       "management    0        0.1412     3.7855    5175.0374  984.8486    0.1410  \n",
       "              1       -1.2308     2.2329    5100.2710  786.9299    0.5335  \n",
       "retired       0       -0.2839     3.2498    5146.0433  960.3694    0.2123  \n",
       "              1       -1.9263     1.3486    5051.7954  712.9378    0.6682  \n",
       "self-employed 0        0.2426     3.8542    5177.9580  988.0731    0.1234  \n",
       "              1       -1.1732     2.2822    5108.4946  878.8591    0.3154  \n",
       "services      0        0.2567     3.7938    5176.0381  991.0916    0.1363  \n",
       "              1       -0.7430     2.6311    5121.5050  854.4799    0.3653  \n",
       "student       0       -1.1332     2.2087    5104.5075  924.5967    0.3950  \n",
       "              1       -2.0076     1.1763    5045.4262  656.1164    0.8073  \n",
       "technician    0        0.4417     4.0123    5184.9517  985.1355    0.1111  \n",
       "              1       -1.1021     2.2396    5099.0171  793.6767    0.5055  \n",
       "unemployed    0        0.1472     3.7755    5172.2452  973.8793    0.1310  \n",
       "              1       -1.6764     1.6004    5065.9958  702.3333    0.6111  \n",
       "unknown       0        0.5553     4.1540    5182.7427  954.8737    0.0956  \n",
       "              1       -1.2054     2.3256    5095.2405  810.8649    0.6216  "
      ]
     },
     "execution_count": 57,
     "metadata": {},
     "output_type": "execute_result"
    }
   ],
   "source": [
    "#Job, Y and the rest:\n",
    "var_list = ['age','duration','campaign','pdays','previous', 'emp_var_rate',\t'cons_price_idx','cons_conf_idx','euribor3m', 'nr_employed']\n",
    "compara = data.pivot_table(index=['job','y'], values=var_list, aggfunc='mean')\n",
    "round(compara,4)"
   ]
  },
  {
   "cell_type": "markdown",
   "metadata": {},
   "source": [
    "From the tables above we can observe that the average age of customers who bought the term deposit is almost the same than that of the customers who didn't. The pdays (days since the customer was last contacted) is understandably lower for the customers who bought it. At the same time, campaigns (number of contacts or calls made during the current campaign) are lower for customers who bought the term deposit.\n",
    "\n",
    "Nowthen, we proceed calculating means for other categorical variables such as education and marital status just to get a more detailed sense of our data."
   ]
  },
  {
   "cell_type": "code",
   "execution_count": 58,
   "metadata": {},
   "outputs": [
    {
     "data": {
      "text/html": [
       "<div>\n",
       "<style scoped>\n",
       "    .dataframe tbody tr th:only-of-type {\n",
       "        vertical-align: middle;\n",
       "    }\n",
       "\n",
       "    .dataframe tbody tr th {\n",
       "        vertical-align: top;\n",
       "    }\n",
       "\n",
       "    .dataframe thead th {\n",
       "        text-align: right;\n",
       "    }\n",
       "</style>\n",
       "<table border=\"1\" class=\"dataframe\">\n",
       "  <thead>\n",
       "    <tr style=\"text-align: right;\">\n",
       "      <th></th>\n",
       "      <th>age</th>\n",
       "      <th>campaign</th>\n",
       "      <th>cons_conf_idx</th>\n",
       "      <th>cons_price_idx</th>\n",
       "      <th>duration</th>\n",
       "      <th>emp_var_rate</th>\n",
       "      <th>euribor3m</th>\n",
       "      <th>nr_employed</th>\n",
       "      <th>pdays</th>\n",
       "      <th>previous</th>\n",
       "    </tr>\n",
       "    <tr>\n",
       "      <th>marital</th>\n",
       "      <th></th>\n",
       "      <th></th>\n",
       "      <th></th>\n",
       "      <th></th>\n",
       "      <th></th>\n",
       "      <th></th>\n",
       "      <th></th>\n",
       "      <th></th>\n",
       "      <th></th>\n",
       "      <th></th>\n",
       "    </tr>\n",
       "  </thead>\n",
       "  <tbody>\n",
       "    <tr>\n",
       "      <th>divorced</th>\n",
       "      <td>44.8994</td>\n",
       "      <td>2.6134</td>\n",
       "      <td>-40.7071</td>\n",
       "      <td>93.6066</td>\n",
       "      <td>253.7903</td>\n",
       "      <td>0.1640</td>\n",
       "      <td>3.7156</td>\n",
       "      <td>5170.8786</td>\n",
       "      <td>968.6399</td>\n",
       "      <td>0.1687</td>\n",
       "    </tr>\n",
       "    <tr>\n",
       "      <th>married</th>\n",
       "      <td>42.3072</td>\n",
       "      <td>2.5728</td>\n",
       "      <td>-40.2707</td>\n",
       "      <td>93.5974</td>\n",
       "      <td>257.4386</td>\n",
       "      <td>0.1836</td>\n",
       "      <td>3.7458</td>\n",
       "      <td>5171.8488</td>\n",
       "      <td>967.2477</td>\n",
       "      <td>0.1556</td>\n",
       "    </tr>\n",
       "    <tr>\n",
       "      <th>single</th>\n",
       "      <td>33.1587</td>\n",
       "      <td>2.5338</td>\n",
       "      <td>-40.9187</td>\n",
       "      <td>93.5173</td>\n",
       "      <td>261.5244</td>\n",
       "      <td>-0.1680</td>\n",
       "      <td>3.3174</td>\n",
       "      <td>5155.1993</td>\n",
       "      <td>949.9096</td>\n",
       "      <td>0.2114</td>\n",
       "    </tr>\n",
       "    <tr>\n",
       "      <th>unknown</th>\n",
       "      <td>40.2750</td>\n",
       "      <td>3.1875</td>\n",
       "      <td>-40.8200</td>\n",
       "      <td>93.4712</td>\n",
       "      <td>312.7250</td>\n",
       "      <td>-0.2213</td>\n",
       "      <td>3.3130</td>\n",
       "      <td>5157.3937</td>\n",
       "      <td>937.1000</td>\n",
       "      <td>0.2750</td>\n",
       "    </tr>\n",
       "  </tbody>\n",
       "</table>\n",
       "</div>"
      ],
      "text/plain": [
       "              age  campaign  cons_conf_idx  cons_price_idx  duration  \\\n",
       "marital                                                                \n",
       "divorced  44.8994    2.6134       -40.7071         93.6066  253.7903   \n",
       "married   42.3072    2.5728       -40.2707         93.5974  257.4386   \n",
       "single    33.1587    2.5338       -40.9187         93.5173  261.5244   \n",
       "unknown   40.2750    3.1875       -40.8200         93.4712  312.7250   \n",
       "\n",
       "          emp_var_rate  euribor3m  nr_employed     pdays  previous  \n",
       "marital                                                             \n",
       "divorced        0.1640     3.7156    5170.8786  968.6399    0.1687  \n",
       "married         0.1836     3.7458    5171.8488  967.2477    0.1556  \n",
       "single         -0.1680     3.3174    5155.1993  949.9096    0.2114  \n",
       "unknown        -0.2213     3.3130    5157.3937  937.1000    0.2750  "
      ]
     },
     "execution_count": 58,
     "metadata": {},
     "output_type": "execute_result"
    }
   ],
   "source": [
    "#Marital and the rest:\n",
    "var_list = ['age','duration','campaign','pdays','previous', 'emp_var_rate',\t'cons_price_idx','cons_conf_idx','euribor3m', 'nr_employed']\n",
    "compara = data.pivot_table(index=['marital'], values=var_list, aggfunc='mean')\n",
    "round(compara,4)"
   ]
  },
  {
   "cell_type": "code",
   "execution_count": 59,
   "metadata": {},
   "outputs": [
    {
     "data": {
      "text/html": [
       "<div>\n",
       "<style scoped>\n",
       "    .dataframe tbody tr th:only-of-type {\n",
       "        vertical-align: middle;\n",
       "    }\n",
       "\n",
       "    .dataframe tbody tr th {\n",
       "        vertical-align: top;\n",
       "    }\n",
       "\n",
       "    .dataframe thead th {\n",
       "        text-align: right;\n",
       "    }\n",
       "</style>\n",
       "<table border=\"1\" class=\"dataframe\">\n",
       "  <thead>\n",
       "    <tr style=\"text-align: right;\">\n",
       "      <th></th>\n",
       "      <th>age</th>\n",
       "      <th>campaign</th>\n",
       "      <th>cons_conf_idx</th>\n",
       "      <th>cons_price_idx</th>\n",
       "      <th>duration</th>\n",
       "      <th>emp_var_rate</th>\n",
       "      <th>euribor3m</th>\n",
       "      <th>nr_employed</th>\n",
       "      <th>pdays</th>\n",
       "      <th>previous</th>\n",
       "    </tr>\n",
       "    <tr>\n",
       "      <th>education</th>\n",
       "      <th></th>\n",
       "      <th></th>\n",
       "      <th></th>\n",
       "      <th></th>\n",
       "      <th></th>\n",
       "      <th></th>\n",
       "      <th></th>\n",
       "      <th></th>\n",
       "      <th></th>\n",
       "      <th></th>\n",
       "    </tr>\n",
       "  </thead>\n",
       "  <tbody>\n",
       "    <tr>\n",
       "      <th>basic.4y</th>\n",
       "      <td>47.5965</td>\n",
       "      <td>2.6006</td>\n",
       "      <td>-40.2399</td>\n",
       "      <td>93.6583</td>\n",
       "      <td>264.8278</td>\n",
       "      <td>0.2159</td>\n",
       "      <td>3.7518</td>\n",
       "      <td>5170.1249</td>\n",
       "      <td>965.7050</td>\n",
       "      <td>0.1470</td>\n",
       "    </tr>\n",
       "    <tr>\n",
       "      <th>basic.6y</th>\n",
       "      <td>40.4490</td>\n",
       "      <td>2.5563</td>\n",
       "      <td>-41.1279</td>\n",
       "      <td>93.6501</td>\n",
       "      <td>264.4145</td>\n",
       "      <td>0.2312</td>\n",
       "      <td>3.7729</td>\n",
       "      <td>5174.7181</td>\n",
       "      <td>980.3682</td>\n",
       "      <td>0.1291</td>\n",
       "    </tr>\n",
       "    <tr>\n",
       "      <th>basic.9y</th>\n",
       "      <td>39.0612</td>\n",
       "      <td>2.5323</td>\n",
       "      <td>-41.3267</td>\n",
       "      <td>93.6234</td>\n",
       "      <td>261.2918</td>\n",
       "      <td>0.1592</td>\n",
       "      <td>3.6980</td>\n",
       "      <td>5172.2940</td>\n",
       "      <td>979.1332</td>\n",
       "      <td>0.1414</td>\n",
       "    </tr>\n",
       "    <tr>\n",
       "      <th>high.school</th>\n",
       "      <td>37.9982</td>\n",
       "      <td>2.5686</td>\n",
       "      <td>-40.9406</td>\n",
       "      <td>93.5849</td>\n",
       "      <td>260.8868</td>\n",
       "      <td>0.0329</td>\n",
       "      <td>3.5562</td>\n",
       "      <td>5164.9947</td>\n",
       "      <td>964.3584</td>\n",
       "      <td>0.1859</td>\n",
       "    </tr>\n",
       "    <tr>\n",
       "      <th>illiterate</th>\n",
       "      <td>48.5000</td>\n",
       "      <td>2.2778</td>\n",
       "      <td>-39.9500</td>\n",
       "      <td>93.3173</td>\n",
       "      <td>276.7778</td>\n",
       "      <td>-0.1333</td>\n",
       "      <td>3.5166</td>\n",
       "      <td>5171.7778</td>\n",
       "      <td>943.8333</td>\n",
       "      <td>0.1111</td>\n",
       "    </tr>\n",
       "    <tr>\n",
       "      <th>professional.course</th>\n",
       "      <td>40.0801</td>\n",
       "      <td>2.5861</td>\n",
       "      <td>-40.1241</td>\n",
       "      <td>93.5699</td>\n",
       "      <td>252.5339</td>\n",
       "      <td>0.1730</td>\n",
       "      <td>3.7105</td>\n",
       "      <td>5170.1560</td>\n",
       "      <td>960.7660</td>\n",
       "      <td>0.1631</td>\n",
       "    </tr>\n",
       "    <tr>\n",
       "      <th>university.degree</th>\n",
       "      <td>38.8792</td>\n",
       "      <td>2.5635</td>\n",
       "      <td>-39.9758</td>\n",
       "      <td>93.4935</td>\n",
       "      <td>253.2234</td>\n",
       "      <td>-0.0281</td>\n",
       "      <td>3.5297</td>\n",
       "      <td>5163.2263</td>\n",
       "      <td>951.8077</td>\n",
       "      <td>0.1924</td>\n",
       "    </tr>\n",
       "    <tr>\n",
       "      <th>unknown</th>\n",
       "      <td>43.4812</td>\n",
       "      <td>2.5962</td>\n",
       "      <td>-39.8778</td>\n",
       "      <td>93.6586</td>\n",
       "      <td>262.3905</td>\n",
       "      <td>0.0591</td>\n",
       "      <td>3.5711</td>\n",
       "      <td>5159.5495</td>\n",
       "      <td>942.8307</td>\n",
       "      <td>0.2265</td>\n",
       "    </tr>\n",
       "  </tbody>\n",
       "</table>\n",
       "</div>"
      ],
      "text/plain": [
       "                         age  campaign  cons_conf_idx  cons_price_idx  \\\n",
       "education                                                               \n",
       "basic.4y             47.5965    2.6006       -40.2399         93.6583   \n",
       "basic.6y             40.4490    2.5563       -41.1279         93.6501   \n",
       "basic.9y             39.0612    2.5323       -41.3267         93.6234   \n",
       "high.school          37.9982    2.5686       -40.9406         93.5849   \n",
       "illiterate           48.5000    2.2778       -39.9500         93.3173   \n",
       "professional.course  40.0801    2.5861       -40.1241         93.5699   \n",
       "university.degree    38.8792    2.5635       -39.9758         93.4935   \n",
       "unknown              43.4812    2.5962       -39.8778         93.6586   \n",
       "\n",
       "                     duration  emp_var_rate  euribor3m  nr_employed     pdays  \\\n",
       "education                                                                       \n",
       "basic.4y             264.8278        0.2159     3.7518    5170.1249  965.7050   \n",
       "basic.6y             264.4145        0.2312     3.7729    5174.7181  980.3682   \n",
       "basic.9y             261.2918        0.1592     3.6980    5172.2940  979.1332   \n",
       "high.school          260.8868        0.0329     3.5562    5164.9947  964.3584   \n",
       "illiterate           276.7778       -0.1333     3.5166    5171.7778  943.8333   \n",
       "professional.course  252.5339        0.1730     3.7105    5170.1560  960.7660   \n",
       "university.degree    253.2234       -0.0281     3.5297    5163.2263  951.8077   \n",
       "unknown              262.3905        0.0591     3.5711    5159.5495  942.8307   \n",
       "\n",
       "                     previous  \n",
       "education                      \n",
       "basic.4y               0.1470  \n",
       "basic.6y               0.1291  \n",
       "basic.9y               0.1414  \n",
       "high.school            0.1859  \n",
       "illiterate             0.1111  \n",
       "professional.course    0.1631  \n",
       "university.degree      0.1924  \n",
       "unknown                0.2265  "
      ]
     },
     "execution_count": 59,
     "metadata": {},
     "output_type": "execute_result"
    }
   ],
   "source": [
    "#Education and the rest:\n",
    "var_list = ['age','duration','campaign','pdays','previous', 'emp_var_rate',\t'cons_price_idx','cons_conf_idx','euribor3m', 'nr_employed']\n",
    "compara = data.pivot_table(index=['education'], values=var_list, aggfunc='mean')\n",
    "round(compara,4)"
   ]
  },
  {
   "cell_type": "markdown",
   "metadata": {},
   "source": [
    "## Data Checking"
   ]
  },
  {
   "cell_type": "code",
   "execution_count": 64,
   "metadata": {},
   "outputs": [
    {
     "data": {
      "text/plain": [
       "<matplotlib.legend.Legend at 0xd725c18>"
      ]
     },
     "execution_count": 64,
     "metadata": {},
     "output_type": "execute_result"
    },
    {
     "data": {
      "image/png": "[encoded data removed]",
      "text/plain": [
       "<matplotlib.figure.Figure at 0xd5e8c50>"
      ]
     },
     "metadata": {},
     "output_type": "display_data"
    }
   ],
   "source": [
    "%matplotlib inline\n",
    "pd.crosstab(data.job,data.y).plot(kind='bar')\n",
    "plt.title('Purchase Frequency for Job Title')\n",
    "plt.xlabel('Job')\n",
    "plt.ylabel('Frequency of Purchase')\n",
    "plt.savefig('purchase_fre_job')\n",
    "plt.legend(bbox_to_anchor=(1.05, 1), loc=2, borderaxespad=0.)"
   ]
  },
  {
   "cell_type": "code",
   "execution_count": 17,
   "metadata": {},
   "outputs": [
    {
     "data": {
      "text/html": [
       "<div>\n",
       "<style scoped>\n",
       "    .dataframe tbody tr th:only-of-type {\n",
       "        vertical-align: middle;\n",
       "    }\n",
       "\n",
       "    .dataframe tbody tr th {\n",
       "        vertical-align: top;\n",
       "    }\n",
       "\n",
       "    .dataframe thead th {\n",
       "        text-align: right;\n",
       "    }\n",
       "</style>\n",
       "<table border=\"1\" class=\"dataframe\">\n",
       "  <thead>\n",
       "    <tr style=\"text-align: right;\">\n",
       "      <th>y</th>\n",
       "      <th>0</th>\n",
       "      <th>1</th>\n",
       "    </tr>\n",
       "    <tr>\n",
       "      <th>job</th>\n",
       "      <th></th>\n",
       "      <th></th>\n",
       "    </tr>\n",
       "  </thead>\n",
       "  <tbody>\n",
       "    <tr>\n",
       "      <th>admin.</th>\n",
       "      <td>9070</td>\n",
       "      <td>1352</td>\n",
       "    </tr>\n",
       "    <tr>\n",
       "      <th>blue-collar</th>\n",
       "      <td>8616</td>\n",
       "      <td>638</td>\n",
       "    </tr>\n",
       "    <tr>\n",
       "      <th>entrepreneur</th>\n",
       "      <td>1332</td>\n",
       "      <td>124</td>\n",
       "    </tr>\n",
       "    <tr>\n",
       "      <th>housemaid</th>\n",
       "      <td>954</td>\n",
       "      <td>106</td>\n",
       "    </tr>\n",
       "    <tr>\n",
       "      <th>management</th>\n",
       "      <td>2596</td>\n",
       "      <td>328</td>\n",
       "    </tr>\n",
       "    <tr>\n",
       "      <th>retired</th>\n",
       "      <td>1286</td>\n",
       "      <td>434</td>\n",
       "    </tr>\n",
       "    <tr>\n",
       "      <th>self-employed</th>\n",
       "      <td>1272</td>\n",
       "      <td>149</td>\n",
       "    </tr>\n",
       "    <tr>\n",
       "      <th>services</th>\n",
       "      <td>3646</td>\n",
       "      <td>323</td>\n",
       "    </tr>\n",
       "    <tr>\n",
       "      <th>student</th>\n",
       "      <td>600</td>\n",
       "      <td>275</td>\n",
       "    </tr>\n",
       "    <tr>\n",
       "      <th>technician</th>\n",
       "      <td>6013</td>\n",
       "      <td>730</td>\n",
       "    </tr>\n",
       "    <tr>\n",
       "      <th>unemployed</th>\n",
       "      <td>870</td>\n",
       "      <td>144</td>\n",
       "    </tr>\n",
       "    <tr>\n",
       "      <th>unknown</th>\n",
       "      <td>293</td>\n",
       "      <td>37</td>\n",
       "    </tr>\n",
       "  </tbody>\n",
       "</table>\n",
       "</div>"
      ],
      "text/plain": [
       "y                 0     1\n",
       "job                      \n",
       "admin.         9070  1352\n",
       "blue-collar    8616   638\n",
       "entrepreneur   1332   124\n",
       "housemaid       954   106\n",
       "management     2596   328\n",
       "retired        1286   434\n",
       "self-employed  1272   149\n",
       "services       3646   323\n",
       "student         600   275\n",
       "technician     6013   730\n",
       "unemployed      870   144\n",
       "unknown         293    37"
      ]
     },
     "execution_count": 17,
     "metadata": {},
     "output_type": "execute_result"
    }
   ],
   "source": [
    "pd.crosstab(data.job,data.y)"
   ]
  },
  {
   "cell_type": "code",
   "execution_count": 18,
   "metadata": {},
   "outputs": [
    {
     "name": "stdout",
     "output_type": "stream",
     "text": [
      "Chi-Squared Test of Independence: Ho:X e Y Independent v/s H1:X e Y  Not Independent\n",
      "Decision Rule: If p_value ≤ α ⇒ Reject Ho assuming a risk α\n",
      "\n",
      "Results: Chi2 value is: 961.24244  p_value full is:  4.189763287563623e-199  p_value rounded : 0.00000\n"
     ]
    }
   ],
   "source": [
    "from scipy.stats import chi2_contingency\n",
    "chi2, p, dof, expected = chi2_contingency(pd.crosstab(data.job,data.y))\n",
    "#chi2, p\n",
    "\n",
    "print('Chi-Squared Test of Independence: Ho:X e Y Independent v/s H1:X e Y  Not Independent')\n",
    "print(\"Decision Rule: If p_value ≤ α ⇒ Reject Ho assuming a risk α\")\n",
    "print(\"\")\n",
    "print(\"Results: Chi2 value is: %2.5f\" % chi2, \" p_value full is: \", p, \" p_value rounded : %2.5f\" % p)\n"
   ]
  },
  {
   "cell_type": "markdown",
   "metadata": {},
   "source": [
    "The frequency of purchase of the deposit depends on the job title. Thus, the \"job title\" can be a good predictor of the outcome variable (Y)."
   ]
  },
  {
   "cell_type": "code",
   "execution_count": 65,
   "metadata": {},
   "outputs": [
    {
     "data": {
      "text/plain": [
       "<matplotlib.legend.Legend at 0xd81c4a8>"
      ]
     },
     "execution_count": 65,
     "metadata": {},
     "output_type": "execute_result"
    },
    {
     "data": {
      "image/png": "[encoded data removed]",
      "text/plain": [
       "<matplotlib.figure.Figure at 0xca4a438>"
      ]
     },
     "metadata": {},
     "output_type": "display_data"
    }
   ],
   "source": [
    "table=pd.crosstab(data.marital,data.y)\n",
    "table.div(table.sum(1).astype(float), axis=0).plot(kind='bar', stacked=True)\n",
    "plt.title('Stacked Bar Chart of Marital Status vs Purchase')\n",
    "plt.xlabel('Marital Status')\n",
    "plt.ylabel('Proportion of Customers')\n",
    "plt.savefig('mariral_vs_pur_stack')\n",
    "plt.legend(bbox_to_anchor=(1.05, 1), loc=2, borderaxespad=0.)"
   ]
  },
  {
   "cell_type": "code",
   "execution_count": 20,
   "metadata": {},
   "outputs": [
    {
     "data": {
      "text/html": [
       "<div>\n",
       "<style scoped>\n",
       "    .dataframe tbody tr th:only-of-type {\n",
       "        vertical-align: middle;\n",
       "    }\n",
       "\n",
       "    .dataframe tbody tr th {\n",
       "        vertical-align: top;\n",
       "    }\n",
       "\n",
       "    .dataframe thead th {\n",
       "        text-align: right;\n",
       "    }\n",
       "</style>\n",
       "<table border=\"1\" class=\"dataframe\">\n",
       "  <thead>\n",
       "    <tr style=\"text-align: right;\">\n",
       "      <th>y</th>\n",
       "      <th>0</th>\n",
       "      <th>1</th>\n",
       "    </tr>\n",
       "    <tr>\n",
       "      <th>marital</th>\n",
       "      <th></th>\n",
       "      <th></th>\n",
       "    </tr>\n",
       "  </thead>\n",
       "  <tbody>\n",
       "    <tr>\n",
       "      <th>divorced</th>\n",
       "      <td>4136</td>\n",
       "      <td>476</td>\n",
       "    </tr>\n",
       "    <tr>\n",
       "      <th>married</th>\n",
       "      <td>22396</td>\n",
       "      <td>2532</td>\n",
       "    </tr>\n",
       "    <tr>\n",
       "      <th>single</th>\n",
       "      <td>9948</td>\n",
       "      <td>1620</td>\n",
       "    </tr>\n",
       "    <tr>\n",
       "      <th>unknown</th>\n",
       "      <td>68</td>\n",
       "      <td>12</td>\n",
       "    </tr>\n",
       "  </tbody>\n",
       "</table>\n",
       "</div>"
      ],
      "text/plain": [
       "y             0     1\n",
       "marital              \n",
       "divorced   4136   476\n",
       "married   22396  2532\n",
       "single     9948  1620\n",
       "unknown      68    12"
      ]
     },
     "execution_count": 20,
     "metadata": {},
     "output_type": "execute_result"
    }
   ],
   "source": [
    "pd.crosstab(data.marital,data.y)"
   ]
  },
  {
   "cell_type": "code",
   "execution_count": 21,
   "metadata": {},
   "outputs": [
    {
     "name": "stdout",
     "output_type": "stream",
     "text": [
      "Chi-Squared Test of Independence: Ho:X e Y Independent v/s H1:X e Y  Not Independent\n",
      "Decision Rule: If p_value ≤ α ⇒ Reject Ho assuming a risk α\n",
      "\n",
      "Results: Chi2 value is: 122.65515  p_value full is:  2.068014648442211e-26  p_value rounded : 0.00000\n"
     ]
    }
   ],
   "source": [
    "from scipy.stats import chi2_contingency\n",
    "chi2, p, dof, expected = chi2_contingency(pd.crosstab(data.marital,data.y))\n",
    "#chi2, p\n",
    "\n",
    "print('Chi-Squared Test of Independence: Ho:X e Y Independent v/s H1:X e Y  Not Independent')\n",
    "print(\"Decision Rule: If p_value ≤ α ⇒ Reject Ho assuming a risk α\")\n",
    "print(\"\")\n",
    "print(\"Results: Chi2 value is: %2.5f\" % chi2, \" p_value full is: \", p, \" p_value rounded : %2.5f\" % p)\n"
   ]
  },
  {
   "cell_type": "markdown",
   "metadata": {},
   "source": [
    "Marital status seems to be a good predictor of the outcome variable (y)."
   ]
  },
  {
   "cell_type": "code",
   "execution_count": 66,
   "metadata": {},
   "outputs": [
    {
     "data": {
      "text/plain": [
       "<matplotlib.legend.Legend at 0xda44dd8>"
      ]
     },
     "execution_count": 66,
     "metadata": {},
     "output_type": "execute_result"
    },
    {
     "data": {
      "image/png": "[encoded data removed]",
      "text/plain": [
       "<matplotlib.figure.Figure at 0xd80d588>"
      ]
     },
     "metadata": {},
     "output_type": "display_data"
    }
   ],
   "source": [
    "table=pd.crosstab(data.education,data.y)\n",
    "table.div(table.sum(1).astype(float), axis=0).plot(kind='bar', stacked=True)\n",
    "plt.title('Stacked Bar Chart of Education vs Purchase')\n",
    "plt.xlabel('Education')\n",
    "plt.ylabel('Proportion of Customers')\n",
    "plt.savefig('edu_vs_pur_stack')\n",
    "plt.legend(bbox_to_anchor=(1.05, 1), loc=2, borderaxespad=0.)"
   ]
  },
  {
   "cell_type": "code",
   "execution_count": 23,
   "metadata": {},
   "outputs": [
    {
     "data": {
      "text/html": [
       "<div>\n",
       "<style scoped>\n",
       "    .dataframe tbody tr th:only-of-type {\n",
       "        vertical-align: middle;\n",
       "    }\n",
       "\n",
       "    .dataframe tbody tr th {\n",
       "        vertical-align: top;\n",
       "    }\n",
       "\n",
       "    .dataframe thead th {\n",
       "        text-align: right;\n",
       "    }\n",
       "</style>\n",
       "<table border=\"1\" class=\"dataframe\">\n",
       "  <thead>\n",
       "    <tr style=\"text-align: right;\">\n",
       "      <th>y</th>\n",
       "      <th>0</th>\n",
       "      <th>1</th>\n",
       "    </tr>\n",
       "    <tr>\n",
       "      <th>education</th>\n",
       "      <th></th>\n",
       "      <th></th>\n",
       "    </tr>\n",
       "  </thead>\n",
       "  <tbody>\n",
       "    <tr>\n",
       "      <th>basic.4y</th>\n",
       "      <td>3748</td>\n",
       "      <td>428</td>\n",
       "    </tr>\n",
       "    <tr>\n",
       "      <th>basic.6y</th>\n",
       "      <td>2104</td>\n",
       "      <td>188</td>\n",
       "    </tr>\n",
       "    <tr>\n",
       "      <th>basic.9y</th>\n",
       "      <td>5572</td>\n",
       "      <td>473</td>\n",
       "    </tr>\n",
       "    <tr>\n",
       "      <th>high.school</th>\n",
       "      <td>8484</td>\n",
       "      <td>1031</td>\n",
       "    </tr>\n",
       "    <tr>\n",
       "      <th>illiterate</th>\n",
       "      <td>14</td>\n",
       "      <td>4</td>\n",
       "    </tr>\n",
       "    <tr>\n",
       "      <th>professional.course</th>\n",
       "      <td>4648</td>\n",
       "      <td>595</td>\n",
       "    </tr>\n",
       "    <tr>\n",
       "      <th>university.degree</th>\n",
       "      <td>10498</td>\n",
       "      <td>1670</td>\n",
       "    </tr>\n",
       "    <tr>\n",
       "      <th>unknown</th>\n",
       "      <td>1480</td>\n",
       "      <td>251</td>\n",
       "    </tr>\n",
       "  </tbody>\n",
       "</table>\n",
       "</div>"
      ],
      "text/plain": [
       "y                        0     1\n",
       "education                       \n",
       "basic.4y              3748   428\n",
       "basic.6y              2104   188\n",
       "basic.9y              5572   473\n",
       "high.school           8484  1031\n",
       "illiterate              14     4\n",
       "professional.course   4648   595\n",
       "university.degree    10498  1670\n",
       "unknown               1480   251"
      ]
     },
     "execution_count": 23,
     "metadata": {},
     "output_type": "execute_result"
    }
   ],
   "source": [
    "pd.crosstab(data.education,data.y)"
   ]
  },
  {
   "cell_type": "code",
   "execution_count": 24,
   "metadata": {},
   "outputs": [
    {
     "name": "stdout",
     "output_type": "stream",
     "text": [
      "Chi-Squared Test of Independence: Ho:X e Y Independent v/s H1:X e Y  Not Independent\n",
      "Decision Rule: If p_value ≤ α ⇒ Reject Ho assuming a risk α\n",
      "\n",
      "Results: Chi2 value is: 193.10590  p_value full is:  3.3051890144025054e-38  p_value rounded : 0.00000\n"
     ]
    }
   ],
   "source": [
    "from scipy.stats import chi2_contingency\n",
    "chi2, p, dof, expected = chi2_contingency(pd.crosstab(data.education,data.y))\n",
    "#chi2, p\n",
    "\n",
    "print('Chi-Squared Test of Independence: Ho:X e Y Independent v/s H1:X e Y  Not Independent')\n",
    "print(\"Decision Rule: If p_value ≤ α ⇒ Reject Ho assuming a risk α\")\n",
    "print(\"\")\n",
    "print(\"Results: Chi2 value is: %2.5f\" % chi2, \" p_value full is: \", p, \" p_value rounded : %2.5f\" % p)\n"
   ]
  },
  {
   "cell_type": "markdown",
   "metadata": {},
   "source": [
    "Education seems to be a good predictor of the outcome variable (y)."
   ]
  },
  {
   "cell_type": "code",
   "execution_count": 67,
   "metadata": {},
   "outputs": [
    {
     "data": {
      "text/plain": [
       "<matplotlib.legend.Legend at 0xdad0898>"
      ]
     },
     "execution_count": 67,
     "metadata": {},
     "output_type": "execute_result"
    },
    {
     "data": {
      "image/png": "[encoded data removed]",
      "text/plain": [
       "<matplotlib.figure.Figure at 0xbb6a240>"
      ]
     },
     "metadata": {},
     "output_type": "display_data"
    }
   ],
   "source": [
    "pd.crosstab(data.day_of_week,data.y).plot(kind='bar')\n",
    "plt.title('Purchase Frequency for Day of Week')\n",
    "plt.xlabel('Day of Week')\n",
    "plt.ylabel('Frequency of Purchase')\n",
    "plt.savefig('pur_dayofweek_bar')\n",
    "plt.legend(bbox_to_anchor=(1.05, 1), loc=2, borderaxespad=0.)"
   ]
  },
  {
   "cell_type": "code",
   "execution_count": 26,
   "metadata": {},
   "outputs": [
    {
     "data": {
      "text/html": [
       "<div>\n",
       "<style scoped>\n",
       "    .dataframe tbody tr th:only-of-type {\n",
       "        vertical-align: middle;\n",
       "    }\n",
       "\n",
       "    .dataframe tbody tr th {\n",
       "        vertical-align: top;\n",
       "    }\n",
       "\n",
       "    .dataframe thead th {\n",
       "        text-align: right;\n",
       "    }\n",
       "</style>\n",
       "<table border=\"1\" class=\"dataframe\">\n",
       "  <thead>\n",
       "    <tr style=\"text-align: right;\">\n",
       "      <th>y</th>\n",
       "      <th>0</th>\n",
       "      <th>1</th>\n",
       "    </tr>\n",
       "    <tr>\n",
       "      <th>day_of_week</th>\n",
       "      <th></th>\n",
       "      <th></th>\n",
       "    </tr>\n",
       "  </thead>\n",
       "  <tbody>\n",
       "    <tr>\n",
       "      <th>fri</th>\n",
       "      <td>6981</td>\n",
       "      <td>846</td>\n",
       "    </tr>\n",
       "    <tr>\n",
       "      <th>mon</th>\n",
       "      <td>7667</td>\n",
       "      <td>847</td>\n",
       "    </tr>\n",
       "    <tr>\n",
       "      <th>thu</th>\n",
       "      <td>7578</td>\n",
       "      <td>1045</td>\n",
       "    </tr>\n",
       "    <tr>\n",
       "      <th>tue</th>\n",
       "      <td>7137</td>\n",
       "      <td>953</td>\n",
       "    </tr>\n",
       "    <tr>\n",
       "      <th>wed</th>\n",
       "      <td>7185</td>\n",
       "      <td>949</td>\n",
       "    </tr>\n",
       "  </tbody>\n",
       "</table>\n",
       "</div>"
      ],
      "text/plain": [
       "y               0     1\n",
       "day_of_week            \n",
       "fri          6981   846\n",
       "mon          7667   847\n",
       "thu          7578  1045\n",
       "tue          7137   953\n",
       "wed          7185   949"
      ]
     },
     "execution_count": 26,
     "metadata": {},
     "output_type": "execute_result"
    }
   ],
   "source": [
    "pd.crosstab(data.day_of_week,data.y)"
   ]
  },
  {
   "cell_type": "code",
   "execution_count": 27,
   "metadata": {},
   "outputs": [
    {
     "name": "stdout",
     "output_type": "stream",
     "text": [
      "Chi-Squared Test of Independence: Ho:X e Y Independent v/s H1:X e Y  Not Independent\n",
      "Decision Rule: If p_value ≤ α ⇒ Reject Ho assuming a risk α\n",
      "\n",
      "Results: Chi2 value is: 26.14494  p_value full is:  2.9584820052785324e-05  p_value rounded : 0.00003\n"
     ]
    }
   ],
   "source": [
    "from scipy.stats import chi2_contingency\n",
    "chi2, p, dof, expected = chi2_contingency(pd.crosstab(data.day_of_week,data.y))\n",
    "#chi2, p\n",
    "\n",
    "print('Chi-Squared Test of Independence: Ho:X e Y Independent v/s H1:X e Y  Not Independent')\n",
    "print(\"Decision Rule: If p_value ≤ α ⇒ Reject Ho assuming a risk α\")\n",
    "print(\"\")\n",
    "print(\"Results: Chi2 value is: %2.5f\" % chi2, \" p_value full is: \", p, \" p_value rounded : %2.5f\" % p)\n"
   ]
  },
  {
   "cell_type": "markdown",
   "metadata": {},
   "source": [
    "Day of week seems to be a good predictor of the outcome variable (y)."
   ]
  },
  {
   "cell_type": "code",
   "execution_count": 68,
   "metadata": {},
   "outputs": [
    {
     "data": {
      "text/plain": [
       "<matplotlib.legend.Legend at 0xdac91d0>"
      ]
     },
     "execution_count": 68,
     "metadata": {},
     "output_type": "execute_result"
    },
    {
     "data": {
      "image/png": "[encoded data removed]",
      "text/plain": [
       "<matplotlib.figure.Figure at 0xdad55c0>"
      ]
     },
     "metadata": {},
     "output_type": "display_data"
    }
   ],
   "source": [
    "pd.crosstab(data.month,data.y).plot(kind='bar')\n",
    "plt.title('Purchase Frequency for Month')\n",
    "plt.xlabel('Month')\n",
    "plt.ylabel('Frequency of Purchase')\n",
    "plt.savefig('pur_fre_month_bar')\n",
    "plt.legend(bbox_to_anchor=(1.05, 1), loc=2, borderaxespad=0.)"
   ]
  },
  {
   "cell_type": "code",
   "execution_count": 29,
   "metadata": {},
   "outputs": [
    {
     "data": {
      "text/html": [
       "<div>\n",
       "<style scoped>\n",
       "    .dataframe tbody tr th:only-of-type {\n",
       "        vertical-align: middle;\n",
       "    }\n",
       "\n",
       "    .dataframe tbody tr th {\n",
       "        vertical-align: top;\n",
       "    }\n",
       "\n",
       "    .dataframe thead th {\n",
       "        text-align: right;\n",
       "    }\n",
       "</style>\n",
       "<table border=\"1\" class=\"dataframe\">\n",
       "  <thead>\n",
       "    <tr style=\"text-align: right;\">\n",
       "      <th>y</th>\n",
       "      <th>0</th>\n",
       "      <th>1</th>\n",
       "    </tr>\n",
       "    <tr>\n",
       "      <th>month</th>\n",
       "      <th></th>\n",
       "      <th></th>\n",
       "    </tr>\n",
       "  </thead>\n",
       "  <tbody>\n",
       "    <tr>\n",
       "      <th>apr</th>\n",
       "      <td>2093</td>\n",
       "      <td>539</td>\n",
       "    </tr>\n",
       "    <tr>\n",
       "      <th>aug</th>\n",
       "      <td>5523</td>\n",
       "      <td>655</td>\n",
       "    </tr>\n",
       "    <tr>\n",
       "      <th>dec</th>\n",
       "      <td>93</td>\n",
       "      <td>89</td>\n",
       "    </tr>\n",
       "    <tr>\n",
       "      <th>jul</th>\n",
       "      <td>6525</td>\n",
       "      <td>649</td>\n",
       "    </tr>\n",
       "    <tr>\n",
       "      <th>jun</th>\n",
       "      <td>4759</td>\n",
       "      <td>559</td>\n",
       "    </tr>\n",
       "    <tr>\n",
       "      <th>mar</th>\n",
       "      <td>270</td>\n",
       "      <td>276</td>\n",
       "    </tr>\n",
       "    <tr>\n",
       "      <th>may</th>\n",
       "      <td>12883</td>\n",
       "      <td>886</td>\n",
       "    </tr>\n",
       "    <tr>\n",
       "      <th>nov</th>\n",
       "      <td>3685</td>\n",
       "      <td>416</td>\n",
       "    </tr>\n",
       "    <tr>\n",
       "      <th>oct</th>\n",
       "      <td>403</td>\n",
       "      <td>315</td>\n",
       "    </tr>\n",
       "    <tr>\n",
       "      <th>sep</th>\n",
       "      <td>314</td>\n",
       "      <td>256</td>\n",
       "    </tr>\n",
       "  </tbody>\n",
       "</table>\n",
       "</div>"
      ],
      "text/plain": [
       "y          0    1\n",
       "month            \n",
       "apr     2093  539\n",
       "aug     5523  655\n",
       "dec       93   89\n",
       "jul     6525  649\n",
       "jun     4759  559\n",
       "mar      270  276\n",
       "may    12883  886\n",
       "nov     3685  416\n",
       "oct      403  315\n",
       "sep      314  256"
      ]
     },
     "execution_count": 29,
     "metadata": {},
     "output_type": "execute_result"
    }
   ],
   "source": [
    "pd.crosstab(data.month,data.y)"
   ]
  },
  {
   "cell_type": "code",
   "execution_count": 30,
   "metadata": {},
   "outputs": [
    {
     "name": "stdout",
     "output_type": "stream",
     "text": [
      "Chi-Squared Test of Independence: Ho:X e Y Independent v/s H1:X e Y  Not Independent\n",
      "Decision Rule: If p_value ≤ α ⇒ Reject Ho assuming a risk α\n",
      "\n",
      "Results: Chi2 value is: 3101.14935  p_value full is:  0.0  p_value rounded : 0.00000\n"
     ]
    }
   ],
   "source": [
    "from scipy.stats import chi2_contingency\n",
    "chi2, p, dof, expected = chi2_contingency(pd.crosstab(data.month,data.y))\n",
    "#chi2, p\n",
    "\n",
    "print('Chi-Squared Test of Independence: Ho:X e Y Independent v/s H1:X e Y  Not Independent')\n",
    "print(\"Decision Rule: If p_value ≤ α ⇒ Reject Ho assuming a risk α\")\n",
    "print(\"\")\n",
    "print(\"Results: Chi2 value is: %2.5f\" % chi2, \" p_value full is: \", p, \" p_value rounded : %2.5f\" % p)\n"
   ]
  },
  {
   "cell_type": "markdown",
   "metadata": {},
   "source": [
    "\n",
    "Month might be a good predictor of the outcome variable (y)"
   ]
  },
  {
   "cell_type": "code",
   "execution_count": 69,
   "metadata": {},
   "outputs": [
    {
     "data": {
      "text/plain": [
       "<matplotlib.legend.Legend at 0xdfe5668>"
      ]
     },
     "execution_count": 69,
     "metadata": {},
     "output_type": "execute_result"
    },
    {
     "data": {
      "image/png": "[encoded data removed]",
      "text/plain": [
       "<matplotlib.figure.Figure at 0xdd774e0>"
      ]
     },
     "metadata": {},
     "output_type": "display_data"
    }
   ],
   "source": [
    "pd.crosstab(data.poutcome,data.y).plot(kind='bar')\n",
    "plt.title('Purchase Frequency for Poutcome')\n",
    "plt.xlabel('Poutcome')\n",
    "plt.ylabel('Frequency of Purchase')\n",
    "plt.savefig('pur_fre_pout_bar')\n",
    "plt.legend(bbox_to_anchor=(1.05, 1), loc=2, borderaxespad=0.)"
   ]
  },
  {
   "cell_type": "code",
   "execution_count": 32,
   "metadata": {},
   "outputs": [
    {
     "data": {
      "text/html": [
       "<div>\n",
       "<style scoped>\n",
       "    .dataframe tbody tr th:only-of-type {\n",
       "        vertical-align: middle;\n",
       "    }\n",
       "\n",
       "    .dataframe tbody tr th {\n",
       "        vertical-align: top;\n",
       "    }\n",
       "\n",
       "    .dataframe thead th {\n",
       "        text-align: right;\n",
       "    }\n",
       "</style>\n",
       "<table border=\"1\" class=\"dataframe\">\n",
       "  <thead>\n",
       "    <tr style=\"text-align: right;\">\n",
       "      <th>y</th>\n",
       "      <th>0</th>\n",
       "      <th>1</th>\n",
       "    </tr>\n",
       "    <tr>\n",
       "      <th>poutcome</th>\n",
       "      <th></th>\n",
       "      <th></th>\n",
       "    </tr>\n",
       "  </thead>\n",
       "  <tbody>\n",
       "    <tr>\n",
       "      <th>failure</th>\n",
       "      <td>3647</td>\n",
       "      <td>605</td>\n",
       "    </tr>\n",
       "    <tr>\n",
       "      <th>nonexistent</th>\n",
       "      <td>32422</td>\n",
       "      <td>3141</td>\n",
       "    </tr>\n",
       "    <tr>\n",
       "      <th>success</th>\n",
       "      <td>479</td>\n",
       "      <td>894</td>\n",
       "    </tr>\n",
       "  </tbody>\n",
       "</table>\n",
       "</div>"
      ],
      "text/plain": [
       "y                0     1\n",
       "poutcome                \n",
       "failure       3647   605\n",
       "nonexistent  32422  3141\n",
       "success        479   894"
      ]
     },
     "execution_count": 32,
     "metadata": {},
     "output_type": "execute_result"
    }
   ],
   "source": [
    "pd.crosstab(data.poutcome,data.y)"
   ]
  },
  {
   "cell_type": "code",
   "execution_count": 33,
   "metadata": {},
   "outputs": [
    {
     "name": "stdout",
     "output_type": "stream",
     "text": [
      "Chi-Squared Test of Independence: Ho:X e Y Independent v/s H1:X e Y  Not Independent\n",
      "Decision Rule: If p_value ≤ α ⇒ Reject Ho assuming a risk α\n",
      "\n",
      "Results: Chi2 value is: 4230.52380  p_value full is:  0.0  p_value rounded : 0.00000\n"
     ]
    }
   ],
   "source": [
    "from scipy.stats import chi2_contingency\n",
    "chi2, p, dof, expected = chi2_contingency(pd.crosstab(data.poutcome,data.y))\n",
    "#chi2, p\n",
    "\n",
    "print('Chi-Squared Test of Independence: Ho:X e Y Independent v/s H1:X e Y  Not Independent')\n",
    "print(\"Decision Rule: If p_value ≤ α ⇒ Reject Ho assuming a risk α\")\n",
    "print(\"\")\n",
    "print(\"Results: Chi2 value is: %2.5f\" % chi2, \" p_value full is: \", p, \" p_value rounded : %2.5f\" % p)\n"
   ]
  },
  {
   "cell_type": "markdown",
   "metadata": {},
   "source": [
    "Poutcome seems to be a good predictor of the outcome variable (y)."
   ]
  },
  {
   "cell_type": "code",
   "execution_count": 34,
   "metadata": {},
   "outputs": [
    {
     "data": {
      "image/png": "[encoded data removed]",
      "text/plain": [
       "<matplotlib.figure.Figure at 0xbff8f98>"
      ]
     },
     "metadata": {},
     "output_type": "display_data"
    }
   ],
   "source": [
    "data.age.hist()\n",
    "plt.title('Histogram of Age')\n",
    "plt.xlabel('Age')\n",
    "plt.ylabel('Frequency')\n",
    "plt.savefig('hist_age')"
   ]
  },
  {
   "cell_type": "markdown",
   "metadata": {},
   "source": [
    "# How about some Feature Engineering?"
   ]
  },
  {
   "cell_type": "markdown",
   "metadata": {},
   "source": [
    "## Start all data again"
   ]
  },
  {
   "cell_type": "code",
   "execution_count": 39,
   "metadata": {},
   "outputs": [
    {
     "name": "stdout",
     "output_type": "stream",
     "text": [
      "Index(['age', 'job', 'marital', 'education', 'default', 'housing', 'loan',\n",
      "       'contact', 'month', 'day_of_week', 'duration', 'campaign', 'pdays',\n",
      "       'previous', 'poutcome', 'emp_var_rate', 'cons_price_idx',\n",
      "       'cons_conf_idx', 'euribor3m', 'nr_employed', 'y'],\n",
      "      dtype='object')\n"
     ]
    }
   ],
   "source": [
    "# read csv (comma separated value) into data\n",
    "data=pd.read_csv('bankmarket.csv')\n",
    "print(data.columns)"
   ]
  },
  {
   "cell_type": "markdown",
   "metadata": {},
   "source": [
    "## Replace Feature Values"
   ]
  },
  {
   "cell_type": "code",
   "execution_count": 40,
   "metadata": {},
   "outputs": [
    {
     "name": "stdout",
     "output_type": "stream",
     "text": [
      "<class 'pandas.core.frame.DataFrame'>\n",
      "RangeIndex: 41188 entries, 0 to 41187\n",
      "Data columns (total 21 columns):\n",
      "age               41188 non-null int64\n",
      "job               41188 non-null object\n",
      "marital           41188 non-null object\n",
      "education         41188 non-null object\n",
      "default           41188 non-null object\n",
      "housing           41188 non-null object\n",
      "loan              41188 non-null object\n",
      "contact           41188 non-null object\n",
      "month             41188 non-null object\n",
      "day_of_week       41188 non-null object\n",
      "duration          41188 non-null int64\n",
      "campaign          41188 non-null int64\n",
      "pdays             41188 non-null int64\n",
      "previous          41188 non-null int64\n",
      "poutcome          41188 non-null object\n",
      "emp_var_rate      41188 non-null float64\n",
      "cons_price_idx    41188 non-null float64\n",
      "cons_conf_idx     41188 non-null float64\n",
      "euribor3m         41188 non-null float64\n",
      "nr_employed       41188 non-null float64\n",
      "y                 41188 non-null int64\n",
      "dtypes: float64(5), int64(6), object(10)\n",
      "memory usage: 6.6+ MB\n",
      "None\n"
     ]
    }
   ],
   "source": [
    "#Replace 999 in pdays with zeros\n",
    "data.loc[:, 'pdays'].replace([999], [0], inplace=True)\n",
    "# get some information about the dataset\n",
    "print(data.info())"
   ]
  },
  {
   "cell_type": "markdown",
   "metadata": {},
   "source": [
    "## Feature Re-coding"
   ]
  },
  {
   "cell_type": "code",
   "execution_count": 14,
   "metadata": {},
   "outputs": [
    {
     "data": {
      "text/plain": [
       "array(['basic.4y', 'unknown', 'university.degree', 'high.school',\n",
       "       'basic.9y', 'professional.course', 'basic.6y', 'illiterate'],\n",
       "      dtype=object)"
      ]
     },
     "execution_count": 14,
     "metadata": {},
     "output_type": "execute_result"
    }
   ],
   "source": [
    "data['education'].unique()"
   ]
  },
  {
   "cell_type": "markdown",
   "metadata": {},
   "source": [
    "We reformulate this variable by grouping the categories \"basic.4y\", \"basic.9y\" and \"basic.6y\" in another call \"basic\"."
   ]
  },
  {
   "cell_type": "code",
   "execution_count": 41,
   "metadata": {},
   "outputs": [],
   "source": [
    "data['education']=np.where(data['education'] =='basic.9y', 'Basic', data['education'])\n",
    "data['education']=np.where(data['education'] =='basic.6y', 'Basic', data['education'])\n",
    "data['education']=np.where(data['education'] =='basic.4y', 'Basic', data['education'])"
   ]
  },
  {
   "cell_type": "code",
   "execution_count": null,
   "metadata": {},
   "outputs": [],
   "source": [
    "After grouping, this are the new categories of the variable."
   ]
  },
  {
   "cell_type": "code",
   "execution_count": 42,
   "metadata": {},
   "outputs": [
    {
     "data": {
      "text/plain": [
       "array(['Basic', 'unknown', 'university.degree', 'high.school',\n",
       "       'professional.course', 'illiterate'], dtype=object)"
      ]
     },
     "execution_count": 42,
     "metadata": {},
     "output_type": "execute_result"
    }
   ],
   "source": [
    "data['education'].unique()"
   ]
  },
  {
   "cell_type": "markdown",
   "metadata": {},
   "source": [
    "## Creating dummy variables"
   ]
  },
  {
   "cell_type": "code",
   "execution_count": 43,
   "metadata": {},
   "outputs": [],
   "source": [
    "cat_vars=['job','marital','education','default','housing','loan','contact','month','day_of_week','poutcome']\n",
    "for var in cat_vars:\n",
    "    cat_list='var'+'_'+var\n",
    "    cat_list = pd.get_dummies(data[var], prefix=var)\n",
    "    data1=data.join(cat_list)\n",
    "    data=data1"
   ]
  },
  {
   "cell_type": "code",
   "execution_count": 44,
   "metadata": {},
   "outputs": [],
   "source": [
    "cat_vars=['job','marital','education','default','housing','loan','contact','month','day_of_week','poutcome']\n",
    "data_vars=data.columns.values.tolist()\n",
    "to_keep=[i for i in data_vars if i not in cat_vars]"
   ]
  },
  {
   "cell_type": "code",
   "execution_count": 45,
   "metadata": {},
   "outputs": [
    {
     "data": {
      "text/plain": [
       "array(['age', 'duration', 'campaign', 'pdays', 'previous', 'emp_var_rate',\n",
       "       'cons_price_idx', 'cons_conf_idx', 'euribor3m', 'nr_employed', 'y',\n",
       "       'job_admin.', 'job_blue-collar', 'job_entrepreneur',\n",
       "       'job_housemaid', 'job_management', 'job_retired',\n",
       "       'job_self-employed', 'job_services', 'job_student',\n",
       "       'job_technician', 'job_unemployed', 'job_unknown',\n",
       "       'marital_divorced', 'marital_married', 'marital_single',\n",
       "       'marital_unknown', 'education_Basic', 'education_high.school',\n",
       "       'education_illiterate', 'education_professional.course',\n",
       "       'education_university.degree', 'education_unknown', 'default_no',\n",
       "       'default_unknown', 'default_yes', 'housing_no', 'housing_unknown',\n",
       "       'housing_yes', 'loan_no', 'loan_unknown', 'loan_yes',\n",
       "       'contact_cellular', 'contact_telephone', 'month_apr', 'month_aug',\n",
       "       'month_dec', 'month_jul', 'month_jun', 'month_mar', 'month_may',\n",
       "       'month_nov', 'month_oct', 'month_sep', 'day_of_week_fri',\n",
       "       'day_of_week_mon', 'day_of_week_thu', 'day_of_week_tue',\n",
       "       'day_of_week_wed', 'poutcome_failure', 'poutcome_nonexistent',\n",
       "       'poutcome_success'], dtype=object)"
      ]
     },
     "execution_count": 45,
     "metadata": {},
     "output_type": "execute_result"
    }
   ],
   "source": [
    "data_final=data[to_keep]\n",
    "data_final.columns.values"
   ]
  },
  {
   "cell_type": "markdown",
   "metadata": {},
   "source": [
    "# How about Exporting Final Dataset?"
   ]
  },
  {
   "cell_type": "code",
   "execution_count": 46,
   "metadata": {},
   "outputs": [],
   "source": [
    "df = pd.DataFrame(data_final)\n",
    "df.to_csv(\"bankmarket_final.csv\",index=None, sep=',')"
   ]
  },
  {
   "cell_type": "markdown",
   "metadata": {},
   "source": [
    "<hr>\n",
    "By: Hector Alvaro Rojas &nbsp;&nbsp;|&nbsp;&nbsp; Data Science, Visualizations and Applied Statistics &nbsp;&nbsp;|&nbsp;&nbsp; August 15, 2018<br>\n",
    "    Url: [http://www.arqmain.net]   &nbsp;&nbsp;&nbsp;|&nbsp;&nbsp;&nbsp;   GitHub: [https://github.com/arqmain]\n",
    "    <hr>"
   ]
  }
 ],
 "metadata": {
  "kernelspec": {
   "display_name": "Python 3",
   "language": "python",
   "name": "python3"
  },
  "language_info": {
   "codemirror_mode": {
    "name": "ipython",
    "version": 3
   },
   "file_extension": ".py",
   "mimetype": "text/x-python",
   "name": "python",
   "nbconvert_exporter": "python",
   "pygments_lexer": "ipython3",
   "version": "3.6.4"
  }
 },
 "nbformat": 4,
 "nbformat_minor": 2
}
