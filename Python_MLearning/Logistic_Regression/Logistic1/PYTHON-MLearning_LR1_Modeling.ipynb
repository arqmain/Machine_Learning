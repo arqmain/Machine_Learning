{
 "cells": [
  {
   "cell_type": "markdown",
   "metadata": {},
   "source": [
    "# Python-MLearning: Portuguese Banking Data using Logistic Regression (LR) and PCA Reduced Dimension\n",
    "## MODELING\n",
    "By: Hector Alvaro Rojas &nbsp;&nbsp;|&nbsp;&nbsp; Data Science, Visualizations and Applied Statistics &nbsp;&nbsp;|&nbsp;&nbsp; August 15, 2018<br>\n",
    "    Url: [http://www.arqmain.net]   &nbsp;&nbsp;&nbsp;|&nbsp;&nbsp;&nbsp;   GitHub: [https://github.com/arqmain]\n",
    "    <hr>"
   ]
  },
  {
   "cell_type": "markdown",
   "metadata": {},
   "source": [
    "# I IMPORT REQUIRED PACKAGES"
   ]
  },
  {
   "cell_type": "code",
   "execution_count": 11,
   "metadata": {},
   "outputs": [],
   "source": [
    "import os\n",
    "from datetime import datetime\n",
    "import pandas as pd\n",
    "import numpy as np\n",
    "from sklearn import preprocessing\n",
    "import matplotlib.pyplot as plt\n",
    "plt.rc(\"font\", size=14)\n",
    "from sklearn.linear_model import LogisticRegression\n",
    "from sklearn.model_selection import train_test_split\n",
    "import seaborn as sns\n",
    "sns.set(style=\"white\")\n",
    "sns.set(style=\"whitegrid\", color_codes=True)\n",
    "from sklearn.model_selection import cross_val_predict\n",
    "from sklearn.metrics import accuracy_score, classification_report, confusion_matrix\n",
    "from sklearn.decomposition import PCA\n",
    "\n",
    "#sklearn.linear_model.LogisticRegression\n",
    "#http://scikit-learn.org/stable/modules/generated/sklearn.linear_model.LogisticRegression.html"
   ]
  },
  {
   "cell_type": "markdown",
   "metadata": {},
   "source": [
    "# II LOADING DATA"
   ]
  },
  {
   "cell_type": "code",
   "execution_count": 12,
   "metadata": {},
   "outputs": [
    {
     "data": {
      "text/plain": [
       "'C:\\\\Users\\\\Alvaro\\\\Documents\\\\R-Python-Projects_April042018\\\\Python_Projects\\\\Machine-Learning\\\\LogisticRegression\\\\Logistic1'"
      ]
     },
     "execution_count": 12,
     "metadata": {},
     "output_type": "execute_result"
    }
   ],
   "source": [
    "#Checking working directory\n",
    "# import os\n",
    "os.getcwd()"
   ]
  },
  {
   "cell_type": "code",
   "execution_count": 13,
   "metadata": {},
   "outputs": [
    {
     "data": {
      "text/plain": [
       "['.ipynb_checkpoints',\n",
       " 'Backup',\n",
       " 'bankmarket.csv',\n",
       " 'bankmarket_final.csv',\n",
       " 'Link to here.txt',\n",
       " 'Links to LR1 GITHUBE and Nbviewer.txt',\n",
       " 'Nueva carpeta',\n",
       " 'PYTHON-MLearning_LR1_Exploratory_FEngineering.ipynb',\n",
       " 'PYTHON-MLearning_LR1_Introduction.ipynb',\n",
       " 'PYTHON-MLearning_LR1_Modeling.ipynb',\n",
       " 'To Put in the GitHube Menu.txt']"
      ]
     },
     "execution_count": 13,
     "metadata": {},
     "output_type": "execute_result"
    }
   ],
   "source": [
    "#List files in a directory\n",
    "os.listdir()"
   ]
  },
  {
   "cell_type": "code",
   "execution_count": 14,
   "metadata": {},
   "outputs": [
    {
     "name": "stdout",
     "output_type": "stream",
     "text": [
      "(41188, 62)\n",
      "Index(['age', 'duration', 'campaign', 'pdays', 'previous', 'emp_var_rate',\n",
      "       'cons_price_idx', 'cons_conf_idx', 'euribor3m', 'nr_employed', 'y',\n",
      "       'job_admin.', 'job_blue-collar', 'job_entrepreneur', 'job_housemaid',\n",
      "       'job_management', 'job_retired', 'job_self-employed', 'job_services',\n",
      "       'job_student', 'job_technician', 'job_unemployed', 'job_unknown',\n",
      "       'marital_divorced', 'marital_married', 'marital_single',\n",
      "       'marital_unknown', 'education_Basic', 'education_high.school',\n",
      "       'education_illiterate', 'education_professional.course',\n",
      "       'education_university.degree', 'education_unknown', 'default_no',\n",
      "       'default_unknown', 'default_yes', 'housing_no', 'housing_unknown',\n",
      "       'housing_yes', 'loan_no', 'loan_unknown', 'loan_yes',\n",
      "       'contact_cellular', 'contact_telephone', 'month_apr', 'month_aug',\n",
      "       'month_dec', 'month_jul', 'month_jun', 'month_mar', 'month_may',\n",
      "       'month_nov', 'month_oct', 'month_sep', 'day_of_week_fri',\n",
      "       'day_of_week_mon', 'day_of_week_thu', 'day_of_week_tue',\n",
      "       'day_of_week_wed', 'poutcome_failure', 'poutcome_nonexistent',\n",
      "       'poutcome_success'],\n",
      "      dtype='object')\n"
     ]
    }
   ],
   "source": [
    "# read csv (comma separated value) into data\n",
    "df=pd.read_csv('bankmarket_final.csv')\n",
    "print(df.shape)\n",
    "print(df.columns)"
   ]
  },
  {
   "cell_type": "code",
   "execution_count": 15,
   "metadata": {},
   "outputs": [
    {
     "data": {
      "text/html": [
       "<div>\n",
       "<style scoped>\n",
       "    .dataframe tbody tr th:only-of-type {\n",
       "        vertical-align: middle;\n",
       "    }\n",
       "\n",
       "    .dataframe tbody tr th {\n",
       "        vertical-align: top;\n",
       "    }\n",
       "\n",
       "    .dataframe thead th {\n",
       "        text-align: right;\n",
       "    }\n",
       "</style>\n",
       "<table border=\"1\" class=\"dataframe\">\n",
       "  <thead>\n",
       "    <tr style=\"text-align: right;\">\n",
       "      <th></th>\n",
       "      <th>age</th>\n",
       "      <th>duration</th>\n",
       "      <th>campaign</th>\n",
       "      <th>pdays</th>\n",
       "      <th>previous</th>\n",
       "      <th>emp_var_rate</th>\n",
       "      <th>cons_price_idx</th>\n",
       "      <th>cons_conf_idx</th>\n",
       "      <th>euribor3m</th>\n",
       "      <th>nr_employed</th>\n",
       "      <th>...</th>\n",
       "      <th>month_oct</th>\n",
       "      <th>month_sep</th>\n",
       "      <th>day_of_week_fri</th>\n",
       "      <th>day_of_week_mon</th>\n",
       "      <th>day_of_week_thu</th>\n",
       "      <th>day_of_week_tue</th>\n",
       "      <th>day_of_week_wed</th>\n",
       "      <th>poutcome_failure</th>\n",
       "      <th>poutcome_nonexistent</th>\n",
       "      <th>poutcome_success</th>\n",
       "    </tr>\n",
       "  </thead>\n",
       "  <tbody>\n",
       "    <tr>\n",
       "      <th>0</th>\n",
       "      <td>44</td>\n",
       "      <td>210</td>\n",
       "      <td>1</td>\n",
       "      <td>0</td>\n",
       "      <td>0</td>\n",
       "      <td>1.4</td>\n",
       "      <td>93.444</td>\n",
       "      <td>-36.1</td>\n",
       "      <td>4.963</td>\n",
       "      <td>5228.1</td>\n",
       "      <td>...</td>\n",
       "      <td>0</td>\n",
       "      <td>0</td>\n",
       "      <td>0</td>\n",
       "      <td>0</td>\n",
       "      <td>1</td>\n",
       "      <td>0</td>\n",
       "      <td>0</td>\n",
       "      <td>0</td>\n",
       "      <td>1</td>\n",
       "      <td>0</td>\n",
       "    </tr>\n",
       "    <tr>\n",
       "      <th>1</th>\n",
       "      <td>53</td>\n",
       "      <td>138</td>\n",
       "      <td>1</td>\n",
       "      <td>0</td>\n",
       "      <td>0</td>\n",
       "      <td>-0.1</td>\n",
       "      <td>93.200</td>\n",
       "      <td>-42.0</td>\n",
       "      <td>4.021</td>\n",
       "      <td>5195.8</td>\n",
       "      <td>...</td>\n",
       "      <td>0</td>\n",
       "      <td>0</td>\n",
       "      <td>1</td>\n",
       "      <td>0</td>\n",
       "      <td>0</td>\n",
       "      <td>0</td>\n",
       "      <td>0</td>\n",
       "      <td>0</td>\n",
       "      <td>1</td>\n",
       "      <td>0</td>\n",
       "    </tr>\n",
       "    <tr>\n",
       "      <th>2</th>\n",
       "      <td>28</td>\n",
       "      <td>339</td>\n",
       "      <td>3</td>\n",
       "      <td>6</td>\n",
       "      <td>2</td>\n",
       "      <td>-1.7</td>\n",
       "      <td>94.055</td>\n",
       "      <td>-39.8</td>\n",
       "      <td>0.729</td>\n",
       "      <td>4991.6</td>\n",
       "      <td>...</td>\n",
       "      <td>0</td>\n",
       "      <td>0</td>\n",
       "      <td>0</td>\n",
       "      <td>0</td>\n",
       "      <td>1</td>\n",
       "      <td>0</td>\n",
       "      <td>0</td>\n",
       "      <td>0</td>\n",
       "      <td>0</td>\n",
       "      <td>1</td>\n",
       "    </tr>\n",
       "    <tr>\n",
       "      <th>3</th>\n",
       "      <td>39</td>\n",
       "      <td>185</td>\n",
       "      <td>2</td>\n",
       "      <td>0</td>\n",
       "      <td>0</td>\n",
       "      <td>-1.8</td>\n",
       "      <td>93.075</td>\n",
       "      <td>-47.1</td>\n",
       "      <td>1.405</td>\n",
       "      <td>5099.1</td>\n",
       "      <td>...</td>\n",
       "      <td>0</td>\n",
       "      <td>0</td>\n",
       "      <td>1</td>\n",
       "      <td>0</td>\n",
       "      <td>0</td>\n",
       "      <td>0</td>\n",
       "      <td>0</td>\n",
       "      <td>0</td>\n",
       "      <td>1</td>\n",
       "      <td>0</td>\n",
       "    </tr>\n",
       "    <tr>\n",
       "      <th>4</th>\n",
       "      <td>55</td>\n",
       "      <td>137</td>\n",
       "      <td>1</td>\n",
       "      <td>3</td>\n",
       "      <td>1</td>\n",
       "      <td>-2.9</td>\n",
       "      <td>92.201</td>\n",
       "      <td>-31.4</td>\n",
       "      <td>0.869</td>\n",
       "      <td>5076.2</td>\n",
       "      <td>...</td>\n",
       "      <td>0</td>\n",
       "      <td>0</td>\n",
       "      <td>1</td>\n",
       "      <td>0</td>\n",
       "      <td>0</td>\n",
       "      <td>0</td>\n",
       "      <td>0</td>\n",
       "      <td>0</td>\n",
       "      <td>0</td>\n",
       "      <td>1</td>\n",
       "    </tr>\n",
       "  </tbody>\n",
       "</table>\n",
       "<p>5 rows × 62 columns</p>\n",
       "</div>"
      ],
      "text/plain": [
       "   age  duration  campaign  pdays  previous  emp_var_rate  cons_price_idx  \\\n",
       "0   44       210         1      0         0           1.4          93.444   \n",
       "1   53       138         1      0         0          -0.1          93.200   \n",
       "2   28       339         3      6         2          -1.7          94.055   \n",
       "3   39       185         2      0         0          -1.8          93.075   \n",
       "4   55       137         1      3         1          -2.9          92.201   \n",
       "\n",
       "   cons_conf_idx  euribor3m  nr_employed        ...         month_oct  \\\n",
       "0          -36.1      4.963       5228.1        ...                 0   \n",
       "1          -42.0      4.021       5195.8        ...                 0   \n",
       "2          -39.8      0.729       4991.6        ...                 0   \n",
       "3          -47.1      1.405       5099.1        ...                 0   \n",
       "4          -31.4      0.869       5076.2        ...                 0   \n",
       "\n",
       "   month_sep  day_of_week_fri  day_of_week_mon  day_of_week_thu  \\\n",
       "0          0                0                0                1   \n",
       "1          0                1                0                0   \n",
       "2          0                0                0                1   \n",
       "3          0                1                0                0   \n",
       "4          0                1                0                0   \n",
       "\n",
       "   day_of_week_tue  day_of_week_wed  poutcome_failure  poutcome_nonexistent  \\\n",
       "0                0                0                 0                     1   \n",
       "1                0                0                 0                     1   \n",
       "2                0                0                 0                     0   \n",
       "3                0                0                 0                     1   \n",
       "4                0                0                 0                     0   \n",
       "\n",
       "   poutcome_success  \n",
       "0                 0  \n",
       "1                 0  \n",
       "2                 1  \n",
       "3                 0  \n",
       "4                 1  \n",
       "\n",
       "[5 rows x 62 columns]"
      ]
     },
     "execution_count": 15,
     "metadata": {},
     "output_type": "execute_result"
    }
   ],
   "source": [
    "df.head()"
   ]
  },
  {
   "cell_type": "code",
   "execution_count": 16,
   "metadata": {},
   "outputs": [
    {
     "name": "stdout",
     "output_type": "stream",
     "text": [
      "<class 'pandas.core.frame.DataFrame'>\n",
      "RangeIndex: 41188 entries, 0 to 41187\n",
      "Data columns (total 62 columns):\n",
      "age                              41188 non-null int64\n",
      "duration                         41188 non-null int64\n",
      "campaign                         41188 non-null int64\n",
      "pdays                            41188 non-null int64\n",
      "previous                         41188 non-null int64\n",
      "emp_var_rate                     41188 non-null float64\n",
      "cons_price_idx                   41188 non-null float64\n",
      "cons_conf_idx                    41188 non-null float64\n",
      "euribor3m                        41188 non-null float64\n",
      "nr_employed                      41188 non-null float64\n",
      "y                                41188 non-null int64\n",
      "job_admin.                       41188 non-null int64\n",
      "job_blue-collar                  41188 non-null int64\n",
      "job_entrepreneur                 41188 non-null int64\n",
      "job_housemaid                    41188 non-null int64\n",
      "job_management                   41188 non-null int64\n",
      "job_retired                      41188 non-null int64\n",
      "job_self-employed                41188 non-null int64\n",
      "job_services                     41188 non-null int64\n",
      "job_student                      41188 non-null int64\n",
      "job_technician                   41188 non-null int64\n",
      "job_unemployed                   41188 non-null int64\n",
      "job_unknown                      41188 non-null int64\n",
      "marital_divorced                 41188 non-null int64\n",
      "marital_married                  41188 non-null int64\n",
      "marital_single                   41188 non-null int64\n",
      "marital_unknown                  41188 non-null int64\n",
      "education_Basic                  41188 non-null int64\n",
      "education_high.school            41188 non-null int64\n",
      "education_illiterate             41188 non-null int64\n",
      "education_professional.course    41188 non-null int64\n",
      "education_university.degree      41188 non-null int64\n",
      "education_unknown                41188 non-null int64\n",
      "default_no                       41188 non-null int64\n",
      "default_unknown                  41188 non-null int64\n",
      "default_yes                      41188 non-null int64\n",
      "housing_no                       41188 non-null int64\n",
      "housing_unknown                  41188 non-null int64\n",
      "housing_yes                      41188 non-null int64\n",
      "loan_no                          41188 non-null int64\n",
      "loan_unknown                     41188 non-null int64\n",
      "loan_yes                         41188 non-null int64\n",
      "contact_cellular                 41188 non-null int64\n",
      "contact_telephone                41188 non-null int64\n",
      "month_apr                        41188 non-null int64\n",
      "month_aug                        41188 non-null int64\n",
      "month_dec                        41188 non-null int64\n",
      "month_jul                        41188 non-null int64\n",
      "month_jun                        41188 non-null int64\n",
      "month_mar                        41188 non-null int64\n",
      "month_may                        41188 non-null int64\n",
      "month_nov                        41188 non-null int64\n",
      "month_oct                        41188 non-null int64\n",
      "month_sep                        41188 non-null int64\n",
      "day_of_week_fri                  41188 non-null int64\n",
      "day_of_week_mon                  41188 non-null int64\n",
      "day_of_week_thu                  41188 non-null int64\n",
      "day_of_week_tue                  41188 non-null int64\n",
      "day_of_week_wed                  41188 non-null int64\n",
      "poutcome_failure                 41188 non-null int64\n",
      "poutcome_nonexistent             41188 non-null int64\n",
      "poutcome_success                 41188 non-null int64\n",
      "dtypes: float64(5), int64(57)\n",
      "memory usage: 19.5 MB\n"
     ]
    }
   ],
   "source": [
    "df.info()"
   ]
  },
  {
   "cell_type": "code",
   "execution_count": 17,
   "metadata": {},
   "outputs": [
    {
     "data": {
      "text/plain": [
       "((41188, 62), (41188,), (41188, 61))"
      ]
     },
     "execution_count": 17,
     "metadata": {},
     "output_type": "execute_result"
    }
   ],
   "source": [
    "y_data = df['y']\n",
    "X_data = df.drop('y', axis=1)                  \n",
    "df.shape, y_data.shape, X_data.shape"
   ]
  },
  {
   "cell_type": "markdown",
   "metadata": {},
   "source": [
    "# III MODELING"
   ]
  },
  {
   "cell_type": "markdown",
   "metadata": {},
   "source": [
    "## Train and Validation Datasets"
   ]
  },
  {
   "cell_type": "code",
   "execution_count": 18,
   "metadata": {},
   "outputs": [
    {
     "data": {
      "text/plain": [
       "((28831, 61), (12357, 61), (28831,), (12357,))"
      ]
     },
     "execution_count": 18,
     "metadata": {},
     "output_type": "execute_result"
    }
   ],
   "source": [
    "#Divide X_data and y_data into train and test data\n",
    "X_train, X_test, y_train,  y_test = train_test_split(X_data, y_data, test_size=0.30, random_state=0,\n",
    "                                                                                      stratify= y_data, shuffle=True)\n",
    "X_train.shape, X_test.shape, y_train.shape, y_test.shape"
   ]
  },
  {
   "cell_type": "code",
   "execution_count": 19,
   "metadata": {},
   "outputs": [
    {
     "data": {
      "text/plain": [
       "((28831, 61), (12357, 61))"
      ]
     },
     "execution_count": 19,
     "metadata": {},
     "output_type": "execute_result"
    }
   ],
   "source": [
    "from sklearn.preprocessing import StandardScaler\n",
    "\n",
    "sc = StandardScaler()  \n",
    "X_train = sc.fit_transform(X_train)  \n",
    "X_test = sc.transform(X_test)  \n",
    "\n",
    "X_train.shape, X_test.shape"
   ]
  },
  {
   "cell_type": "markdown",
   "metadata": {},
   "source": [
    "## Reduce dimension using PCA"
   ]
  },
  {
   "cell_type": "markdown",
   "metadata": {},
   "source": [
    "### Reduce dimension general analysis"
   ]
  },
  {
   "cell_type": "code",
   "execution_count": 14,
   "metadata": {},
   "outputs": [
    {
     "data": {
      "text/plain": [
       "((41188, 61), (41188, 40))"
      ]
     },
     "execution_count": 14,
     "metadata": {},
     "output_type": "execute_result"
    }
   ],
   "source": [
    "from sklearn.preprocessing import StandardScaler\n",
    "\n",
    "sc = StandardScaler()  \n",
    "data_sc = sc.fit_transform(X_data)  \n",
    "\n",
    "#Reduce dimension into 99% information\n",
    "pca = PCA(0.95)\n",
    "data_pca = pca.fit_transform(data_sc)\n",
    "data_sc.shape, data_pca.shape"
   ]
  },
  {
   "cell_type": "code",
   "execution_count": 79,
   "metadata": {},
   "outputs": [
    {
     "data": {
      "image/png": "[encoded data removed]",
      "text/plain": [
       "<matplotlib.figure.Figure at 0x12714198>"
      ]
     },
     "metadata": {},
     "output_type": "display_data"
    }
   ],
   "source": [
    "#plot to visualize % of total variance accumulated by the components\n",
    "pca = PCA().fit(data_sc)\n",
    "plt.plot(np.cumsum(pca.explained_variance_ratio_))\n",
    "plt.xlabel('number of components')\n",
    "plt.ylabel('cumulative explained variance')"
   ]
  },
  {
   "cell_type": "code",
   "execution_count": 26,
   "metadata": {},
   "outputs": [
    {
     "data": {
      "text/plain": [
       "Text(0.5,1,'Projection on the Two First Principal Components ')"
      ]
     },
     "execution_count": 26,
     "metadata": {},
     "output_type": "execute_result"
    },
    {
     "data": {
      "image/png": "[encoded data removed]",
      "text/plain": [
       "<matplotlib.figure.Figure at 0xd0c4da0>"
      ]
     },
     "metadata": {},
     "output_type": "display_data"
    }
   ],
   "source": [
    "#plot of two first components\n",
    "plt.subplots(nrows=1, ncols=1, figsize=(12,7))\n",
    "plt.scatter(data_pca[:,0], data_pca[:,1], c=y_data, cmap=plt.get_cmap('nipy_spectral', 10))\n",
    "plt.colorbar(label='label')\n",
    "plt.xlabel('PC1')\n",
    "plt.ylabel('PC2')\n",
    "plt.title('Projection on the Two First Principal Components ')\n",
    "#cbar = plt.colorbar()\n",
    "#cbar.set_label('Time [ps]')"
   ]
  },
  {
   "cell_type": "markdown",
   "metadata": {},
   "source": [
    "### Reduce dimension into 95% information"
   ]
  },
  {
   "cell_type": "code",
   "execution_count": 20,
   "metadata": {},
   "outputs": [
    {
     "data": {
      "text/plain": [
       "((28831, 40), (12357, 40), (41188, 40))"
      ]
     },
     "execution_count": 20,
     "metadata": {},
     "output_type": "execute_result"
    }
   ],
   "source": [
    "from sklearn.decomposition import PCA\n",
    "\n",
    "pca = PCA(n_components=40)  \n",
    "X_train_pca = pca.fit_transform(X_train)  \n",
    "X_test_pca = pca.transform(X_test)\n",
    "data_pca = pca.transform(X_data)\n",
    "\n",
    "X_train_pca.shape, X_test_pca.shape, data_pca.shape"
   ]
  },
  {
   "cell_type": "markdown",
   "metadata": {},
   "source": [
    "## Build Model"
   ]
  },
  {
   "cell_type": "markdown",
   "metadata": {},
   "source": [
    "## Checking Global Model Significance"
   ]
  },
  {
   "cell_type": "code",
   "execution_count": 43,
   "metadata": {},
   "outputs": [
    {
     "name": "stderr",
     "output_type": "stream",
     "text": [
      "C:\\Users\\Alvaro\\Anaconda3\\lib\\site-packages\\statsmodels\\compat\\pandas.py:56: FutureWarning: The pandas.core.datetools module is deprecated and will be removed in a future version. Please use the pandas.tseries module instead.\n",
      "  from pandas.core import datetools\n"
     ]
    },
    {
     "name": "stdout",
     "output_type": "stream",
     "text": [
      "                 Generalized Linear Model Regression Results                  \n",
      "==============================================================================\n",
      "Dep. Variable:                      y   No. Observations:                41188\n",
      "Model:                            GLM   Df Residuals:                    41148\n",
      "Model Family:                Binomial   Df Model:                           39\n",
      "Link Function:                  logit   Scale:                             1.0\n",
      "Method:                          IRLS   Log-Likelihood:                -24974.\n",
      "Date:                Wed, 15 Aug 2018   Deviance:                       49948.\n",
      "Time:                        11:17:00   Pearson chi2:                 1.28e+06\n",
      "No. Iterations:                     7                                         \n",
      "==============================================================================\n",
      "                 coef    std err          z      P>|z|      [0.025      0.975]\n",
      "------------------------------------------------------------------------------\n",
      "x1             0.3330      0.010     34.630      0.000       0.314       0.352\n",
      "x2             0.1190      0.008     14.732      0.000       0.103       0.135\n",
      "x3             0.2455      0.012     20.906      0.000       0.222       0.269\n",
      "x4             0.3688      0.016     23.302      0.000       0.338       0.400\n",
      "x5             0.0607      0.007      8.155      0.000       0.046       0.075\n",
      "x6             0.2373      0.014     16.750      0.000       0.210       0.265\n",
      "x7            -0.0175      0.008     -2.253      0.024      -0.033      -0.002\n",
      "x8             0.0069      0.008      0.868      0.385      -0.009       0.023\n",
      "x9             0.1074      0.008     12.664      0.000       0.091       0.124\n",
      "x10           -0.0694      0.008     -8.319      0.000      -0.086      -0.053\n",
      "x11           -0.1066      0.009    -11.712      0.000      -0.124      -0.089\n",
      "x12           -0.3750      0.012    -32.110      0.000      -0.398      -0.352\n",
      "x13            0.0746      0.009      8.521      0.000       0.057       0.092\n",
      "x14           -0.1521      0.011    -14.050      0.000      -0.173      -0.131\n",
      "x15           -0.1558      0.010    -15.635      0.000      -0.175      -0.136\n",
      "x16           -0.0328      0.010     -3.242      0.001      -0.053      -0.013\n",
      "x17           -0.1209      0.012    -10.205      0.000      -0.144      -0.098\n",
      "x18           -0.0697      0.011     -6.341      0.000      -0.091      -0.048\n",
      "x19           -0.1442      0.010    -13.767      0.000      -0.165      -0.124\n",
      "x20            0.0048      0.010      0.453      0.650      -0.016       0.025\n",
      "x21            0.0002      0.011      0.022      0.983      -0.022       0.023\n",
      "x22            0.0404      0.012      3.302      0.001       0.016       0.064\n",
      "x23            0.0900      0.011      7.981      0.000       0.068       0.112\n",
      "x24           -0.1878      0.011    -16.437      0.000      -0.210      -0.165\n",
      "x25            0.1351      0.011     12.500      0.000       0.114       0.156\n",
      "x26           -0.0869      0.011     -7.753      0.000      -0.109      -0.065\n",
      "x27            0.1848      0.012     15.708      0.000       0.162       0.208\n",
      "x28            0.0576      0.013      4.519      0.000       0.033       0.083\n",
      "x29            0.1722      0.014     12.222      0.000       0.145       0.200\n",
      "x30           -0.0388      0.011     -3.434      0.001      -0.061      -0.017\n",
      "x31           -0.0587      0.011     -5.333      0.000      -0.080      -0.037\n",
      "x32            0.0541      0.012      4.625      0.000       0.031       0.077\n",
      "x33            0.2252      0.013     17.615      0.000       0.200       0.250\n",
      "x34           -0.1314      0.012    -10.947      0.000      -0.155      -0.108\n",
      "x35            0.0759      0.013      6.064      0.000       0.051       0.100\n",
      "x36            0.0550      0.012      4.461      0.000       0.031       0.079\n",
      "x37            0.3683      0.013     28.747      0.000       0.343       0.393\n",
      "x38           -0.0250      0.012     -2.052      0.040      -0.049      -0.001\n",
      "x39            0.0284      0.013      2.199      0.028       0.003       0.054\n",
      "x40            0.0043      0.013      0.339      0.735      -0.021       0.029\n",
      "==============================================================================\n"
     ]
    }
   ],
   "source": [
    "from __future__ import print_function\n",
    "import statsmodels.api as sm\n",
    "glm_binom = sm.GLM(y_data, data_pca, family=sm.families.Binomial())\n",
    "res = glm_binom.fit()\n",
    "print(res.summary())"
   ]
  },
  {
   "cell_type": "markdown",
   "metadata": {},
   "source": [
    "The p_value for a large part of the predictor variables is less than 0.05. Therefore, assuming a classic risk of 5% we can accept that the model is <u><i>globally valid</i></u> since most of the predictor variables are significantly valid for the model."
   ]
  },
  {
   "cell_type": "markdown",
   "metadata": {},
   "source": [
    "## What values for the model's hyperparameters would be selected?"
   ]
  },
  {
   "cell_type": "code",
   "execution_count": 54,
   "metadata": {},
   "outputs": [
    {
     "name": "stdout",
     "output_type": "stream",
     "text": [
      "Total running time (H: M: S. ThS) 0:01:15.174299 seconds.\n"
     ]
    }
   ],
   "source": [
    "# Import necessary modules\n",
    "from scipy.stats import randint\n",
    "from sklearn.linear_model import LogisticRegression\n",
    "from sklearn.model_selection import RandomizedSearchCV\n",
    "from sklearn.model_selection import StratifiedKFold\n",
    "\n",
    "startTime = datetime.now()\n",
    "# Setup the parameters and distributions to sample from: param_dist\n",
    "param_dist = {'C': np.arange(0.5, 3, 0.5),      \n",
    "           \"solver\" : ['newton-cg', 'lbfgs']}\n",
    "\n",
    "# Instantiate a Logistic Regression classifier:\n",
    "lr = LogisticRegression( n_jobs=-1, random_state=7) \n",
    "\n",
    "# Instantiate the RandomizedSearchCV object: rf_cv\n",
    "kfold = StratifiedKFold(n_splits=10, random_state=0)\n",
    "lr_cv = RandomizedSearchCV(lr, param_dist, scoring = 'accuracy', n_jobs=-1, cv=kfold)\n",
    "\n",
    "# Fit it to the data\n",
    "lr_cv.fit(data_pca, y_data)\n",
    "print ('Total running time (H: M: S. ThS)', datetime.now()-startTime, 'seconds.')"
   ]
  },
  {
   "cell_type": "code",
   "execution_count": 55,
   "metadata": {},
   "outputs": [
    {
     "name": "stdout",
     "output_type": "stream",
     "text": [
      "Tuned LR Parameters: {'solver': 'newton-cg', 'C': 2.5}\n",
      "Best score is 0.9092211323686511\n"
     ]
    }
   ],
   "source": [
    "# Print the tuned parameters and score\n",
    "print(\"Tuned LR Parameters: {}\".format(lr_cv.best_params_))\n",
    "print(\"Best score is {}\".format(lr_cv.best_score_))"
   ]
  },
  {
   "cell_type": "markdown",
   "metadata": {},
   "source": [
    "## Using the best parameters to Fit, Evaluate, and Make predictions"
   ]
  },
  {
   "cell_type": "markdown",
   "metadata": {},
   "source": [
    "## Fitting the Model"
   ]
  },
  {
   "cell_type": "code",
   "execution_count": 56,
   "metadata": {},
   "outputs": [
    {
     "data": {
      "text/plain": [
       "LogisticRegression(C=2.5, class_weight=None, dual=False, fit_intercept=True,\n",
       "          intercept_scaling=1, max_iter=100, multi_class='ovr', n_jobs=-1,\n",
       "          penalty='l2', random_state=0, solver='newton-cg', tol=0.0001,\n",
       "          verbose=0, warm_start=False)"
      ]
     },
     "execution_count": 56,
     "metadata": {},
     "output_type": "execute_result"
    }
   ],
   "source": [
    "#X_train, X_test, y_train, y_test = train_test_split(X, y, test_size=0.3, random_state=0)\n",
    "from sklearn.linear_model import LogisticRegression\n",
    "from sklearn import metrics\n",
    "logreg = LogisticRegression(C=2.5, solver='newton-cg', n_jobs=-1, random_state=0)\n",
    "logreg.fit(X_train_pca, y_train)"
   ]
  },
  {
   "cell_type": "markdown",
   "metadata": {},
   "source": [
    "## Evaluating the Model"
   ]
  },
  {
   "cell_type": "markdown",
   "metadata": {},
   "source": [
    "#### <font color=orange><i>Getting Accuracy and Confusion Matrix</i></font>"
   ]
  },
  {
   "cell_type": "code",
   "execution_count": 57,
   "metadata": {},
   "outputs": [
    {
     "name": "stdout",
     "output_type": "stream",
     "text": [
      "With LR train datasets () accuracy is:  0.9111\n"
     ]
    }
   ],
   "source": [
    "# Evaluating LR model\n",
    "print('With LR train datasets () accuracy is: ',round(logreg.score(X_train_pca,y_train),4)) # accuracy "
   ]
  },
  {
   "cell_type": "code",
   "execution_count": 58,
   "metadata": {},
   "outputs": [
    {
     "name": "stdout",
     "output_type": "stream",
     "text": [
      "Accuracy based on X_test_pca, y_test:  0.907420895039249\n",
      "\n",
      "Confusion Matrix:\n",
      "  [[10639   326]\n",
      " [  818   574]]\n",
      "With LR train datasets () accuracy is:  0.9111\n",
      "             precision    recall  f1-score   support\n",
      "\n",
      "          0       0.93      0.97      0.95     10965\n",
      "          1       0.64      0.41      0.50      1392\n",
      "\n",
      "avg / total       0.90      0.91      0.90     12357\n",
      "\n"
     ]
    }
   ],
   "source": [
    "predictions = logreg.predict(X_test_pca)\n",
    "print('Accuracy based on X_test_pca, y_test: ',accuracy_score(y_test, predictions))\n",
    "print('')\n",
    "print('Confusion Matrix:\\n ',confusion_matrix(y_test, predictions))\n",
    "print('With LR train datasets () accuracy is: ',round(logreg.score(X_train_pca,y_train),4)) # accuracy ',confusion_matrix(y_test, predictions))\n",
    "print(classification_report(y_test, predictions))"
   ]
  },
  {
   "cell_type": "markdown",
   "metadata": {},
   "source": [
    "#### <font color=orange><i>Plotting the ROC Curve</i></font>"
   ]
  },
  {
   "cell_type": "code",
   "execution_count": 59,
   "metadata": {},
   "outputs": [
    {
     "data": {
      "image/png": "[encoded data removed]",
      "text/plain": [
       "<matplotlib.figure.Figure at 0x12714b70>"
      ]
     },
     "metadata": {},
     "output_type": "display_data"
    }
   ],
   "source": [
    "from sklearn.metrics import roc_auc_score\n",
    "from sklearn.metrics import roc_curve\n",
    "logit_roc_auc = roc_auc_score(y_test, logreg.predict(X_test_pca))\n",
    "fpr, tpr, thresholds = roc_curve(y_test, logreg.predict_proba(X_test_pca)[:,1])\n",
    "plt.figure()\n",
    "plt.plot(fpr, tpr, label='Logistic Regression (area = %0.2f)' % logit_roc_auc)\n",
    "plt.plot([0, 1], [0, 1],'r--')\n",
    "plt.xlim([0.0, 1.0])\n",
    "plt.ylim([0.0, 1.05])\n",
    "plt.xlabel('False Positive Rate')\n",
    "plt.ylabel('True Positive Rate')\n",
    "plt.title('Receiver operating characteristic')\n",
    "plt.legend(loc=\"lower right\")\n",
    "plt.savefig('Log_ROC')\n",
    "plt.show()"
   ]
  },
  {
   "cell_type": "markdown",
   "metadata": {},
   "source": [
    "## Making Predictions"
   ]
  },
  {
   "cell_type": "markdown",
   "metadata": {},
   "source": [
    "### Based on the training dataset"
   ]
  },
  {
   "cell_type": "markdown",
   "metadata": {},
   "source": [
    "The function cross_val_predict has a similar interface to cross_val_score, but returns, for each element in the input, the prediction that was obtained for that element when it was in the test set obtained from the partition over X_train (in our case)."
   ]
  },
  {
   "cell_type": "code",
   "execution_count": 60,
   "metadata": {},
   "outputs": [
    {
     "name": "stdout",
     "output_type": "stream",
     "text": [
      "Prediction: {} [0 0 0 ... 0 0 0]\n"
     ]
    }
   ],
   "source": [
    "predictions = cross_val_predict(logreg, X_train_pca, y_train, cv=10)\n",
    "print('Prediction: {}', predictions)"
   ]
  },
  {
   "cell_type": "markdown",
   "metadata": {},
   "source": [
    "### Based on the test dataset"
   ]
  },
  {
   "cell_type": "markdown",
   "metadata": {},
   "source": [
    "Now we used the function predict which is regularly the one to be used to get the predictions on a new dataset. In our case, the new dataset is the X_test one."
   ]
  },
  {
   "cell_type": "code",
   "execution_count": 80,
   "metadata": {},
   "outputs": [
    {
     "name": "stdout",
     "output_type": "stream",
     "text": [
      "Total running time (H: M: S. ThS) 0:00:07.585434 seconds.\n"
     ]
    }
   ],
   "source": [
    "# train your model using all data.\n",
    "startTime = datetime.now()\n",
    "logreg.fit(data_pca, y_data) \n",
    "print ('Total running time (H: M: S. ThS)', datetime.now()-startTime, 'seconds.')"
   ]
  },
  {
   "cell_type": "code",
   "execution_count": 81,
   "metadata": {},
   "outputs": [
    {
     "name": "stdout",
     "output_type": "stream",
     "text": [
      "Prediction: {} [0 0 0 ... 0 0 0]\n"
     ]
    }
   ],
   "source": [
    "predictions = logreg.predict(X_test_pca)\n",
    "print('Prediction: {}', predictions)"
   ]
  },
  {
   "cell_type": "markdown",
   "metadata": {},
   "source": [
    "<hr>\n",
    "By: Hector Alvaro Rojas &nbsp;&nbsp;|&nbsp;&nbsp; Data Science, Visualizations and Applied Statistics &nbsp;&nbsp;|&nbsp;&nbsp; August 15, 2018<br>\n",
    "    Url: [http://www.arqmain.net]   &nbsp;&nbsp;&nbsp;|&nbsp;&nbsp;&nbsp;   GitHub: [https://github.com/arqmain]\n",
    "    <hr>"
   ]
  }
 ],
 "metadata": {
  "kernelspec": {
   "display_name": "Python 3",
   "language": "python",
   "name": "python3"
  },
  "language_info": {
   "codemirror_mode": {
    "name": "ipython",
    "version": 3
   },
   "file_extension": ".py",
   "mimetype": "text/x-python",
   "name": "python",
   "nbconvert_exporter": "python",
   "pygments_lexer": "ipython3",
   "version": "3.6.4"
  }
 },
 "nbformat": 4,
 "nbformat_minor": 2
}
