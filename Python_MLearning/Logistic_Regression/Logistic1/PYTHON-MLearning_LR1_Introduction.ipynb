{
 "cells": [
  {
   "cell_type": "markdown",
   "metadata": {},
   "source": [
    "# Python-MLearning: Portuguese Banking Data using Logistic Regression (LR) and PCA Reduced Dimension\n",
    "## INTRODUCTION\n",
    "By: Hector Alvaro Rojas &nbsp;&nbsp;|&nbsp;&nbsp; Data Science, Visualizations and Applied Statistics &nbsp;&nbsp;|&nbsp;&nbsp; August 15, 2018<br>\n",
    "    Url: [http://www.arqmain.net]   &nbsp;&nbsp;&nbsp;|&nbsp;&nbsp;&nbsp;   GitHub: [https://github.com/arqmain]\n",
    "    <hr>"
   ]
  },
  {
   "cell_type": "markdown",
   "metadata": {},
   "source": [
    "This work deals with an application of the Logistic Regression (LR) algorithm to some client’s banking  database, in order to obtain a model that allows to classify them as possible subscribers to a term deposit of some Portuguese bank.\n",
    "\n",
    "The model obtained consider the PCA components of the database that explain 95% of the total variation of the data.\n",
    "\n",
    "RandomizedSearchCV search is used to access suitable hyperparameters within a proposed range.\n",
    "\n",
    "The dataset comes from the [UCI Machine Learning repository](http://archive.ics.uci.edu/ml/index.php), and http://archive.ics.uci.edu/ml/index.phpit is related to direct marketing campaigns (phone calls) of a Portuguese banking institution. The classification goal is to predict whether the client will subscribe (1/0) to a term deposit (variable y). The dataset can be downloaded from [here](http://archive.ics.uci.edu/ml/datasets/Bank+Marketing).\n",
    "\n",
    "\n",
    "<u>Dependent variable (predicted variable)</u>\n",
    "\n",
    "* <b>y</b>: Has the client subscribed a term deposit? (1: means Yes. 0: means No)\n",
    "\n",
    "<u>Independent variables (predictors)</u>\n",
    "\n",
    "* <b>age</b>: (numeric)\n",
    "* <b>job</b>: type of job (categorical: “admin”, “blue-collar”, “entrepreneur”, “housemaid”, “management”, “retired”, “self-* employed”, “services”, “student”, “technician”, “unemployed”, “unknown”)\n",
    "* <b>marital</b>: marital status (categorical: “divorced”, “married”, “single”, “unknown”)\n",
    "* <b>education</b>: (categorical: “basic.4y”, “basic.6y”, “basic.9y”, “high.school”, “illiterate”, “professional.course”, “university.degree”, “unknown”)\n",
    "* <b>default</b>: has credit in default? (categorical: “no”, “yes”, “unknown”)\n",
    "* <b>hous</b>ng</b>: has housing loan? (categorical: “no”, “yes”, “unknown”)\n",
    "* <b>loan</b>: has personal loan? (categorical: “no”, “yes”, “unknown”)\n",
    "* <b>contact</b>: contact communication type (categorical: “cellular”, “telephone”)\n",
    "* <b>month</b>: last contact month of year (categorical: “jan”, “feb”, “mar”, …, “nov”, “dec”)\n",
    "* <b>day_of_week</b>: last contact day of the week (categorical: “mon”, “tue”, “wed”, “thu”, “fri”)\n",
    "* <b>duration</b>: last contact duration, in seconds (numeric). Important note: this attribute highly affects the output target (e.g., if duration=0 then y=’no’). The duration is not known before a call is performed, also, after the end of the call, y is obviously known. Thus, this input should only be included for benchmark purposes and should be discarded if the intention is to have a realistic predictive model\n",
    "* <b>campaign</b>: number of contacts performed during this campaign and for this client (numeric, includes last contact)\n",
    "* <b>pdays</b>: number of days that passed by after the client was last contacted from a previous campaign (numeric; 999 means client was not previously contacted)\n",
    "* <b>previous</b>: number of contacts performed before this campaign and for this client (numeric)\n",
    "* <b>poutcome</b>: outcome of the previous marketing campaign (categorical: “failure”, “nonexistent”, “success”)\n",
    "* <b>emp.var.rate</b>: employment variation rate — (numeric)\n",
    "* <b>cons.price.idx</b>: consumer price index — (numeric)\n",
    "* <b>cons.conf.idx</b>: consumer confidence index — (numeric)\n",
    "* <b>euribor3m</b>: euribor 3 month rate — (numeric)\n",
    "* <b>nr.employed</b>: number of employees — (numeric)\n",
    "\n",
    "\n",
    "This project consists of two sections: Exploring dataset and feature engineering; Modeling\n",
    "\n",
    "In the first section, we start by working on the original database (bankmarket.csv) which after being processed and made the corresponding Feature Engineering, generates the final base (bankmarket_final.csv) to be used as an input in the modeling section of the global project.\n",
    "\n",
    "In the second section, we deal with the modeling based on PCA and Logistic Regression itself.\n",
    "\n",
    "\n",
    "You can access each section in the following links:\n",
    "\n",
    "* [Exploring dataset and feature engineering](https://github.com/arqmain/Machine_Learning/blob/master/Python_MLearning/Logistic_Regression/Logistic1/PYTHON-MLearning_LR1_Exploratory_FEngineering.ipynb)\n",
    "* [Modeling](https://github.com/arqmain/Machine_Learning/blob/master/Python_MLearning/Logistic_Regression/Logistic1/PYTHON-MLearning_LR1_Modeling.ipynb)\n"
   ]
  },
  {
   "cell_type": "markdown",
   "metadata": {},
   "source": [
    "<hr>\n",
    "By: Hector Alvaro Rojas &nbsp;&nbsp;|&nbsp;&nbsp; Data Science, Visualizations and Applied Statistics &nbsp;&nbsp;|&nbsp;&nbsp; August 15, 2018<br>\n",
    "    Url: [http://www.arqmain.net]   &nbsp;&nbsp;&nbsp;|&nbsp;&nbsp;&nbsp;   GitHub: [https://github.com/arqmain]\n",
    "    <hr>"
   ]
  }
 ],
 "metadata": {
  "kernelspec": {
   "display_name": "Python 3",
   "language": "python",
   "name": "python3"
  },
  "language_info": {
   "codemirror_mode": {
    "name": "ipython",
    "version": 3
   },
   "file_extension": ".py",
   "mimetype": "text/x-python",
   "name": "python",
   "nbconvert_exporter": "python",
   "pygments_lexer": "ipython3",
   "version": "3.6.4"
  }
 },
 "nbformat": 4,
 "nbformat_minor": 2
}
