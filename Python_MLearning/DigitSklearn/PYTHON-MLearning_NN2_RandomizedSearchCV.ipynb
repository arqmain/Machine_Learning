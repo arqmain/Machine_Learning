{
 "cells": [
  {
   "cell_type": "markdown",
   "metadata": {},
   "source": [
    "# Python-MLearning: Digits recognition using Neural Network (NN) and Sklearn Library\n",
    "\n",
    "## Model: Digits 0-9 approach using RandomizedSearchCV\n",
    "\n",
    "\n",
    "By: Hector Alvaro Rojas &nbsp;&nbsp;|&nbsp;&nbsp; Data Science, Visualizations and Applied Statistics &nbsp;&nbsp;|&nbsp;&nbsp; April 29, 2018<br>\n",
    "    Url: [http://www.arqmain.net]   &nbsp;&nbsp;&nbsp;|&nbsp;&nbsp;&nbsp;   GitHub: [https://github.com/arqmain]\n",
    "    <hr>"
   ]
  },
  {
   "cell_type": "markdown",
   "metadata": {},
   "source": [
    "## I IMPORT REQUIRED PACKAGES"
   ]
  },
  {
   "cell_type": "code",
   "execution_count": 1,
   "metadata": {},
   "outputs": [],
   "source": [
    "%matplotlib inline\n",
    "import os\n",
    "import numpy as np # linear algebra\n",
    "import pandas as pd # data processing, CSV file I/O (e.g. pd.read_csv)\n",
    "import matplotlib.pyplot as plt\n",
    "import seaborn as sns\n",
    "from sklearn.model_selection import train_test_split\n",
    "from sklearn.neural_network import MLPClassifier\n",
    "from sklearn.metrics import classification_report, confusion_matrix, accuracy_score\n",
    "from sklearn.model_selection import KFold, cross_val_score, cross_val_predict\n",
    "from sklearn import metrics\n",
    "from datetime import datetime\n"
   ]
  },
  {
   "cell_type": "markdown",
   "metadata": {},
   "source": [
    "## II LOADING DATA"
   ]
  },
  {
   "cell_type": "code",
   "execution_count": 2,
   "metadata": {},
   "outputs": [
    {
     "data": {
      "text/plain": [
       "'C:\\\\Users\\\\Alvaro\\\\Documents\\\\R-Python-Projects_April042018\\\\Python_Projects\\\\Machine-Learning\\\\NNetwork\\\\NN2\\\\Backup-Python'"
      ]
     },
     "execution_count": 2,
     "metadata": {},
     "output_type": "execute_result"
    }
   ],
   "source": [
    "#Checking working directory\n",
    "# import os\n",
    "os.getcwd()"
   ]
  },
  {
   "cell_type": "code",
   "execution_count": 3,
   "metadata": {},
   "outputs": [
    {
     "data": {
      "text/plain": [
       "['.ipynb_checkpoints',\n",
       " 'For  RandomizedSearchCV July172018.txt',\n",
       " 'mnist_My.csv',\n",
       " 'Nueva carpeta',\n",
       " 'PYTHON-MLearning_NN2.ipynb',\n",
       " 'PYTHON-MLearning_NN2_GridSearchCV.ipynb',\n",
       " 'PYTHON-MLearning_NN2_KFold.ipynb',\n",
       " 'PYTHON-MLearning_NN2_RandomizedSearchCV.ipynb']"
      ]
     },
     "execution_count": 3,
     "metadata": {},
     "output_type": "execute_result"
    }
   ],
   "source": [
    "#List files in a directory\n",
    "os.listdir()"
   ]
  },
  {
   "cell_type": "code",
   "execution_count": 4,
   "metadata": {},
   "outputs": [
    {
     "data": {
      "text/plain": [
       "Index(['label', 'pixel0', 'pixel1', 'pixel2', 'pixel3', 'pixel4', 'pixel5',\n",
       "       'pixel6', 'pixel7', 'pixel8',\n",
       "       ...\n",
       "       'pixel774', 'pixel775', 'pixel776', 'pixel777', 'pixel778', 'pixel779',\n",
       "       'pixel780', 'pixel781', 'pixel782', 'pixel783'],\n",
       "      dtype='object', length=785)"
      ]
     },
     "execution_count": 4,
     "metadata": {},
     "output_type": "execute_result"
    }
   ],
   "source": [
    "# read csv (comma separated value) into data\n",
    "data=pd.read_csv('mnist_My.csv')\n",
    "df=data\n",
    "df.columns\n"
   ]
  },
  {
   "cell_type": "markdown",
   "metadata": {},
   "source": [
    "Now, we will do a grid searching in order to get an adequate NN model to be fitted to the data. There are various options associated with NN classification object, like \"activation\", \"Number of Layers\" , and \"Number of Neurons in a layer\" etc. All of this form part of the tune possibilities of the model.  You can view the full list of tunable parameters [here](http://scikit-learn.org/stable/modules/generated/sklearn.neural_network.MLPClassifier.html#sklearn.neural_network.MLPClassifier).\n",
    "\n",
    "To present the  GridSearcCV method, we will set up values only for some of the more important parameters of the model ."
   ]
  },
  {
   "cell_type": "markdown",
   "metadata": {
    "collapsed": true
   },
   "source": [
    "## III NN MODELING"
   ]
  },
  {
   "cell_type": "markdown",
   "metadata": {},
   "source": [
    "## Train and Validation Datasets"
   ]
  },
  {
   "cell_type": "code",
   "execution_count": 5,
   "metadata": {},
   "outputs": [
    {
     "name": "stdout",
     "output_type": "stream",
     "text": [
      "X Shape ::  (70000, 784)\n",
      "y ::  (70000,)\n",
      "X_train Shape ::  (56000, 784)\n",
      "y_train Shape ::  (56000,)\n",
      "X_test Shape ::  (14000, 784)\n",
      "y_test Shape ::  (14000,)\n"
     ]
    }
   ],
   "source": [
    "# train test split\n",
    "X=data.iloc[:,1:]\n",
    "y=data.iloc[:,0]\n",
    "\n",
    "X_train, X_test, y_train, y_test = train_test_split(X, y, test_size=0.2, random_state=4)\n",
    "\n",
    "# Train and Test dataset size details\n",
    "print(\"X Shape :: \", X.shape)\n",
    "print(\"y :: \", y.shape)\n",
    "print(\"X_train Shape :: \", X_train.shape)\n",
    "print(\"y_train Shape :: \", y_train.shape)\n",
    "print(\"X_test Shape :: \", X_test.shape)\n",
    "print(\"y_test Shape :: \", y_test.shape)\n"
   ]
  },
  {
   "cell_type": "markdown",
   "metadata": {},
   "source": [
    "## Build Model"
   ]
  },
  {
   "cell_type": "markdown",
   "metadata": {},
   "source": [
    "### What values for the model's hyperparameters would be selected?"
   ]
  },
  {
   "cell_type": "code",
   "execution_count": 6,
   "metadata": {},
   "outputs": [
    {
     "name": "stdout",
     "output_type": "stream",
     "text": [
      "Total running time (H: M: S. ThS) 1:25:59.597112 seconds.\n"
     ]
    }
   ],
   "source": [
    "# Import necessary modules\n",
    "from sklearn.neural_network import MLPClassifier\n",
    "from sklearn.model_selection import RandomizedSearchCV\n",
    "\n",
    "startTime = datetime.now()\n",
    "\n",
    "# Setup the parameters and distributions to sample from: param_dist\n",
    "param_dist = {'alpha': [10, 1, 0.01],\n",
    "'solver': ['lbfgs','adam'], \n",
    "'activation': ['logistic', 'relu']\n",
    "}\n",
    "\n",
    "# Instantiate MLP Classifier\n",
    "mlp = MLPClassifier(hidden_layer_sizes=(16,16))\n",
    "\n",
    "\n",
    "# Instantiate the RandomizedSearchCV object: mlp_cv\n",
    "mlp_cv = RandomizedSearchCV(mlp, param_dist, cv=3)\n",
    "\n",
    "# Fit it to the data\n",
    "mlp_cv.fit(X,y)\n",
    "\n",
    "print ('Total running time (H: M: S. ThS)', datetime.now()-startTime, 'seconds.')\n"
   ]
  },
  {
   "cell_type": "code",
   "execution_count": 7,
   "metadata": {},
   "outputs": [
    {
     "name": "stdout",
     "output_type": "stream",
     "text": [
      "Tuned Mlp Parameters: {'solver': 'adam', 'alpha': 10, 'activation': 'relu'}\n",
      "Best score is 0.9475285714285714\n"
     ]
    }
   ],
   "source": [
    "# Print the tuned parameters and score\n",
    "print(\"Tuned Mlp Parameters: {}\".format(mlp_cv.best_params_))\n",
    "print(\"Best score is {}\".format(mlp_cv.best_score_))"
   ]
  },
  {
   "cell_type": "markdown",
   "metadata": {},
   "source": [
    "## Using the best parameters to make predictions"
   ]
  },
  {
   "cell_type": "markdown",
   "metadata": {},
   "source": [
    "### Fitting the Model"
   ]
  },
  {
   "cell_type": "code",
   "execution_count": 8,
   "metadata": {},
   "outputs": [
    {
     "name": "stdout",
     "output_type": "stream",
     "text": [
      "Total running time (H: M: S. ThS) 0:01:13.447201 seconds.\n"
     ]
    }
   ],
   "source": [
    "# Grid Search for CV\n",
    "#from sklearn import grid_search\n",
    "from sklearn.neural_network import MLPClassifier\n",
    "\n",
    "# train your model using all data and the best known parameters (Kevin Dataschool)\n",
    "startTime = datetime.now()\n",
    "mlp = MLPClassifier(solver='adam', activation = 'relu', hidden_layer_sizes=(16,16), alpha = 10)\n",
    "mlp.fit(X, y) \n",
    "print ('Total running time (H: M: S. ThS)', datetime.now()-startTime, 'seconds.')"
   ]
  },
  {
   "cell_type": "markdown",
   "metadata": {},
   "source": [
    "### Evaluating the model"
   ]
  },
  {
   "cell_type": "code",
   "execution_count": 9,
   "metadata": {},
   "outputs": [
    {
     "name": "stdout",
     "output_type": "stream",
     "text": [
      "Accuracy based on X_test, Y_test:  0.9557142857142857\n",
      "\n",
      "Confusion Matrix:\n",
      "  [[1316    0   19    5    4    7   13    2   12    0]\n",
      " [   0 1570    9    5    1    3    1    1    1    1]\n",
      " [   2    8 1324    3    3    1    9    7    9    1]\n",
      " [   1    3   24 1347    2   25    1    7   11    3]\n",
      " [   2    6    4    0 1326    1   10    2    1   10]\n",
      " [   5    1    6   21    0 1209   13    2    7    0]\n",
      " [   3    1    1    0    2   13 1391    0    2    0]\n",
      " [   3   25   16    4   10    3    6 1312    1   11]\n",
      " [   2   27   12   15    3   20   19    2 1245    2]\n",
      " [   6    7    4   19   37   16    1   25    7 1340]]\n",
      "             precision    recall  f1-score   support\n",
      "\n",
      "          0       0.98      0.96      0.97      1378\n",
      "          1       0.95      0.99      0.97      1592\n",
      "          2       0.93      0.97      0.95      1367\n",
      "          3       0.95      0.95      0.95      1424\n",
      "          4       0.96      0.97      0.96      1362\n",
      "          5       0.93      0.96      0.94      1264\n",
      "          6       0.95      0.98      0.97      1413\n",
      "          7       0.96      0.94      0.95      1391\n",
      "          8       0.96      0.92      0.94      1347\n",
      "          9       0.98      0.92      0.95      1462\n",
      "\n",
      "avg / total       0.96      0.96      0.96     14000\n",
      "\n"
     ]
    }
   ],
   "source": [
    "predictions = mlp.predict(X_test)\n",
    "print('Accuracy based on X_test, Y_test: ',accuracy_score(y_test, predictions))\n",
    "print('')\n",
    "print('Confusion Matrix:\\n ',confusion_matrix(y_test, predictions))\n",
    "print(classification_report(y_test, predictions))"
   ]
  },
  {
   "cell_type": "markdown",
   "metadata": {},
   "source": [
    "Precision, recall and f1-score are metrics to measure the accuracy of classification models. A general explanation can be got in [Wikipedia](https://en.wikipedia.org/wiki/Evaluation_of_binary_classifiers)."
   ]
  },
  {
   "cell_type": "markdown",
   "metadata": {},
   "source": [
    "Looks like we misclassified 620 digit's images, leaving us with a 95.57% accuracy rate (with 96% precision and 96% recall).\n",
    "\n",
    "If you do want to extract the MLP weights and biases after training your model, you use its public attributes coefs_ and intercepts_.\n",
    "\n",
    "<b>coefs_</b>is a list of weight matrices, where weight matrix at index i represents the weights between layer i and layer i+1.\n",
    "\n",
    "<b>intercepts_</b> is a list of bias vectors, where the vector at index i represents the bias values added to layer i+1."
   ]
  },
  {
   "cell_type": "code",
   "execution_count": 10,
   "metadata": {},
   "outputs": [
    {
     "data": {
      "text/plain": [
       "3"
      ]
     },
     "execution_count": 10,
     "metadata": {},
     "output_type": "execute_result"
    }
   ],
   "source": [
    "len(mlp.coefs_)"
   ]
  },
  {
   "cell_type": "code",
   "execution_count": 11,
   "metadata": {},
   "outputs": [
    {
     "data": {
      "text/plain": [
       "[array([[-9.08752335e-249, -5.26084361e-249, -8.72903484e-005, ...,\n",
       "         -9.28662133e-021, -1.16935138e-015,  1.13598303e-247],\n",
       "        [ 2.84319967e-008,  3.63073471e-249, -1.24542610e-005, ...,\n",
       "         -1.44378693e-019,  4.64087047e-010, -3.64939771e-249],\n",
       "        [-2.16420994e-029,  2.77159611e-249,  1.88731946e-248, ...,\n",
       "          6.06866692e-021, -1.09514825e-033, -8.70232449e-029],\n",
       "        ...,\n",
       "        [-2.18537634e-024,  2.91301693e-249,  9.00884408e-010, ...,\n",
       "         -5.50714888e-248, -3.80985603e-007,  1.02833752e-248],\n",
       "        [ 1.34990470e-249,  3.37306984e-249, -1.01415231e-010, ...,\n",
       "         -2.21126954e-043, -5.49637985e-248,  4.85013155e-020],\n",
       "        [ 6.96885737e-017, -1.29172517e-207,  4.86624217e-248, ...,\n",
       "         -8.26413618e-248, -7.84578139e-250,  2.48325439e-009]]),\n",
       " array([[-1.65736492e-002,  1.82541301e-002, -5.40974122e-002,\n",
       "          1.91904624e-002,  6.14480970e-002,  5.86367173e-002,\n",
       "          9.09237450e-003, -9.35432268e-003, -4.95687702e-002,\n",
       "         -1.97427817e-002, -5.33793805e-002,  1.45921130e-001,\n",
       "          5.28741243e-002, -1.90785716e-002, -1.03682351e-001,\n",
       "          6.55660094e-002],\n",
       "        [ 5.10704073e-002,  5.20146345e-002, -4.52148719e-003,\n",
       "         -2.05991058e-002,  3.82538722e-002,  7.78879763e-002,\n",
       "          7.18508929e-002, -3.70989768e-002, -7.02190355e-002,\n",
       "         -2.71920036e-002,  9.47664920e-002, -8.33506673e-002,\n",
       "          1.31166408e-003,  3.21261737e-002,  3.39304893e-002,\n",
       "          1.04393346e-002],\n",
       "        [-2.90385118e-002, -8.37637543e-002, -7.26300576e-002,\n",
       "          2.05342329e-002, -4.97058103e-002, -5.37203963e-002,\n",
       "          3.10404893e-002, -1.41065087e-002,  1.80243447e-002,\n",
       "          3.70581850e-003,  1.74694390e-001,  6.53964496e-002,\n",
       "          2.16342616e-002,  5.12270697e-002,  7.56523267e-002,\n",
       "         -5.19951380e-003],\n",
       "        [-9.92383595e-002, -3.14876809e-002,  1.50055505e-001,\n",
       "          4.21977537e-002, -8.04618294e-002, -1.36196921e-002,\n",
       "         -6.59373288e-002,  2.04841638e-002, -3.84759009e-002,\n",
       "         -5.12406811e-002, -9.89833493e-003,  3.66540312e-002,\n",
       "          9.63608614e-002, -1.39395872e-002,  5.68729978e-002,\n",
       "          5.79803548e-002],\n",
       "        [ 1.41340688e-002,  9.87576558e-002, -8.79120423e-003,\n",
       "          3.75869602e-003, -3.90779980e-003, -2.87000014e-002,\n",
       "         -7.63251632e-003, -4.18184387e-002,  1.41170767e-001,\n",
       "          3.99122160e-003,  1.67501797e-002,  1.74298087e-003,\n",
       "          2.18223307e-002, -2.61557298e-002,  1.69732930e-002,\n",
       "         -2.88856227e-002],\n",
       "        [ 5.99529473e-002,  8.37541058e-003,  7.72464441e-002,\n",
       "         -5.12517773e-002,  1.76217065e-002, -5.22547201e-002,\n",
       "         -9.14131531e-003, -1.04180576e-002,  2.04788033e-002,\n",
       "         -3.18801308e-002,  3.71208779e-003,  3.00736579e-002,\n",
       "         -9.98989024e-002,  1.95339707e-001, -7.05405793e-002,\n",
       "          7.98350979e-002],\n",
       "        [-8.22092651e-002, -3.59509950e-002,  5.49125396e-003,\n",
       "          5.06016862e-002, -6.81237955e-002, -5.52486032e-002,\n",
       "          1.11697427e-001,  9.63176485e-002, -5.27551137e-002,\n",
       "          9.50591118e-003,  2.80727109e-002, -1.05892700e-001,\n",
       "          9.93641832e-003,  1.48395625e-002, -4.07466534e-002,\n",
       "         -1.94758759e-002],\n",
       "        [-2.52206446e-002, -1.08267198e-001,  3.24531727e-002,\n",
       "          7.37248318e-002,  8.62433698e-002, -3.26744061e-002,\n",
       "         -3.67248149e-002, -5.06813095e-002, -2.83789620e-002,\n",
       "          1.00276627e-001, -2.91802965e-002, -4.45084869e-002,\n",
       "          2.86993187e-002, -1.66842514e-004, -3.39413733e-002,\n",
       "         -3.22156847e-002],\n",
       "        [ 3.06253063e-002, -1.25388113e-002, -1.17903800e-001,\n",
       "         -1.36624195e-002,  5.07061915e-002,  4.36772594e-002,\n",
       "          7.06118635e-002, -6.48385782e-002, -3.26822015e-002,\n",
       "         -1.62000445e-002,  1.13110619e-001,  1.63550875e-004,\n",
       "         -7.86395975e-003,  1.24610245e-003,  8.61193367e-003,\n",
       "          1.47341565e-002],\n",
       "        [ 1.28123904e-001, -7.15239322e-002,  8.08559550e-002,\n",
       "          2.29119949e-002,  4.90546346e-002, -3.72606272e-002,\n",
       "          2.71865279e-002,  6.94546643e-002, -3.01890276e-002,\n",
       "         -1.22793441e-002, -1.60938886e-002, -1.38121628e-002,\n",
       "         -1.31041105e-001, -5.19087734e-002,  4.96029171e-003,\n",
       "         -2.41502814e-002],\n",
       "        [-2.33770245e-003,  2.15774163e-002,  5.27726112e-004,\n",
       "         -2.35410031e-002, -7.27948076e-003,  9.44582857e-002,\n",
       "          7.70735473e-002, -4.96205497e-002, -5.68604778e-002,\n",
       "          5.91644839e-002, -1.94407622e-002, -7.56686615e-002,\n",
       "          1.09601216e-002,  2.72998862e-002,  7.58974682e-002,\n",
       "          3.86551708e-002],\n",
       "        [-1.08683070e-009,  9.05847970e-019,  3.03133559e-104,\n",
       "          2.11936303e-016,  1.20056582e-016, -1.83271902e-120,\n",
       "         -6.58850785e-016,  2.05290246e-016,  2.08472355e-050,\n",
       "          1.23825989e-131,  4.81849847e-017, -4.35965141e-017,\n",
       "          1.37483248e-050,  2.85131602e-111, -7.48363207e-030,\n",
       "          6.11733099e-017],\n",
       "        [ 4.09026189e-002,  7.45686445e-002,  6.66727085e-002,\n",
       "         -7.64754723e-002, -6.44616028e-002, -7.44678501e-002,\n",
       "         -3.53133722e-002, -3.54443627e-003,  4.45775510e-002,\n",
       "         -4.13850515e-002, -7.79375028e-003,  9.79163567e-003,\n",
       "         -8.99050139e-002,  1.46627362e-001, -2.06217825e-002,\n",
       "         -5.51658949e-003],\n",
       "        [-6.29530996e-002, -6.80316964e-002, -5.73212556e-002,\n",
       "         -2.44683356e-002,  3.48401856e-002,  3.88277500e-003,\n",
       "         -6.63941289e-002,  3.53387222e-002,  3.83296717e-002,\n",
       "          6.65317204e-003,  1.00422660e-001,  2.61003333e-002,\n",
       "          2.87947815e-002,  4.68174330e-002,  7.16204286e-003,\n",
       "          7.80896598e-002],\n",
       "        [ 2.65085363e-002,  2.74909185e-002,  5.14306517e-002,\n",
       "         -3.55918655e-002, -1.00233254e-002,  1.10862144e-001,\n",
       "          7.01668149e-002, -1.15131300e-003, -6.04398237e-002,\n",
       "          7.38997301e-002, -1.44753159e-002, -8.61384870e-002,\n",
       "         -7.46119691e-003,  8.58013924e-005,  4.55962921e-002,\n",
       "          4.14456235e-002],\n",
       "        [ 7.43452958e-002,  1.77193315e-002, -1.49090204e-003,\n",
       "          3.10745573e-003,  7.23273624e-002,  7.39404404e-002,\n",
       "         -4.23313385e-002,  5.89735276e-002, -1.13660011e-001,\n",
       "         -1.46030689e-002,  1.01572144e-002,  6.89192474e-002,\n",
       "         -1.87598714e-002,  2.52741758e-002,  6.02807080e-002,\n",
       "         -6.13932178e-002]]),\n",
       " array([[-4.21639164e-02, -1.31232545e-02,  4.53926039e-02,\n",
       "         -2.55885747e-02,  1.64762184e-01,  6.52770470e-03,\n",
       "         -3.59290448e-02, -9.53913877e-02, -5.18413697e-02,\n",
       "          6.25884528e-02],\n",
       "        [-1.38542274e-02,  6.33579796e-02, -9.76044309e-02,\n",
       "          2.32092459e-02,  7.23239726e-02, -9.95357505e-02,\n",
       "         -5.43462955e-02, -2.92490105e-02,  1.06049640e-01,\n",
       "          2.89952183e-02],\n",
       "        [-7.95807356e-02,  8.14993566e-02,  1.21424263e-01,\n",
       "          6.46902178e-02, -2.05142127e-02, -1.68793150e-02,\n",
       "         -6.53128060e-02,  7.99651161e-02, -6.77076712e-02,\n",
       "         -1.14420075e-01],\n",
       "        [ 5.88306468e-02, -3.35583206e-02,  8.13064230e-02,\n",
       "         -2.93863429e-02, -2.95762796e-02, -5.51424702e-02,\n",
       "          4.68242836e-02, -6.91616640e-03, -2.63080157e-02,\n",
       "         -1.83447606e-03],\n",
       "        [ 1.04892930e-01, -4.99134506e-02, -3.38719090e-02,\n",
       "         -8.71856414e-02,  8.70310132e-02, -2.71902247e-02,\n",
       "         -7.09249838e-02,  2.70811490e-02, -6.84552857e-04,\n",
       "          7.38341350e-02],\n",
       "        [-3.04343765e-02,  1.50550289e-01, -5.67990265e-02,\n",
       "         -5.81498471e-02,  5.04444674e-02, -2.35366495e-02,\n",
       "         -1.87006864e-02,  9.82553956e-02, -6.89027223e-02,\n",
       "         -3.73275490e-02],\n",
       "        [-2.23133672e-02, -4.83884256e-02, -2.43639055e-02,\n",
       "          5.26379812e-03,  6.28135374e-02, -2.77587169e-02,\n",
       "          1.65038413e-01,  2.51727838e-03, -2.75550257e-02,\n",
       "         -7.03448085e-02],\n",
       "        [ 4.29754831e-02, -4.13776214e-02,  8.12191854e-02,\n",
       "          5.99702669e-05, -9.27701206e-02,  7.81979588e-02,\n",
       "          7.80110091e-03, -4.09986141e-02,  7.41284728e-03,\n",
       "         -5.09366198e-02],\n",
       "        [-4.07673344e-03, -5.90193099e-02,  4.24407555e-02,\n",
       "          7.12656300e-02, -1.11256808e-01,  6.48264086e-02,\n",
       "          2.01652032e-02, -1.14549128e-01,  1.29154076e-01,\n",
       "         -1.63537333e-04],\n",
       "        [ 9.08832996e-02,  1.65485304e-03, -2.56028401e-02,\n",
       "          3.54876762e-02,  1.16214447e-02, -7.09023878e-02,\n",
       "          3.53165484e-02, -5.97528545e-02, -4.64930325e-02,\n",
       "          2.11718307e-02],\n",
       "        [ 5.51013472e-03, -7.81203142e-03, -7.82352100e-02,\n",
       "         -1.23463723e-01, -7.15565215e-03,  1.55455199e-01,\n",
       "          9.26562272e-02,  2.92203222e-02,  1.94561097e-02,\n",
       "         -5.75949520e-02],\n",
       "        [-7.76098444e-02, -8.26168458e-02,  1.45858408e-02,\n",
       "          2.49161368e-02, -5.23229171e-02,  1.02207793e-02,\n",
       "         -6.90316543e-02,  1.06426485e-01,  8.46115483e-03,\n",
       "          1.71901774e-01],\n",
       "        [ 5.84836534e-02,  4.03418317e-02,  9.09455674e-02,\n",
       "         -2.56791169e-03, -4.45586878e-02, -3.38303339e-02,\n",
       "         -1.38635033e-02,  5.44583489e-02,  5.56114351e-03,\n",
       "         -1.59885433e-01],\n",
       "        [-3.51460367e-02,  2.05849296e-02, -4.98829605e-02,\n",
       "          1.28927337e-01, -4.24839207e-02,  1.38197238e-01,\n",
       "         -7.10605629e-02, -5.16729402e-02, -9.47438572e-02,\n",
       "          4.77077214e-02],\n",
       "        [-4.80314732e-02,  1.05373770e-01,  2.10179922e-02,\n",
       "         -9.79420378e-02, -4.84204110e-02,  1.05120393e-02,\n",
       "          8.88468024e-02, -4.61670763e-02, -2.27064570e-02,\n",
       "          3.33875250e-02],\n",
       "        [-8.46241907e-03, -1.76495191e-02, -4.27703958e-02,\n",
       "          9.06818601e-02, -1.30469162e-02,  1.16074210e-02,\n",
       "         -3.72371518e-02,  9.40734555e-02, -5.24228760e-02,\n",
       "         -4.28978629e-02]])]"
      ]
     },
     "execution_count": 11,
     "metadata": {},
     "output_type": "execute_result"
    }
   ],
   "source": [
    "mlp.coefs_"
   ]
  },
  {
   "cell_type": "code",
   "execution_count": 12,
   "metadata": {},
   "outputs": [
    {
     "data": {
      "text/plain": [
       "784"
      ]
     },
     "execution_count": 12,
     "metadata": {},
     "output_type": "execute_result"
    }
   ],
   "source": [
    "len(mlp.coefs_[0])"
   ]
  },
  {
   "cell_type": "code",
   "execution_count": 13,
   "metadata": {},
   "outputs": [
    {
     "data": {
      "text/plain": [
       "array([[-9.08752335e-249, -5.26084361e-249, -8.72903484e-005, ...,\n",
       "        -9.28662133e-021, -1.16935138e-015,  1.13598303e-247],\n",
       "       [ 2.84319967e-008,  3.63073471e-249, -1.24542610e-005, ...,\n",
       "        -1.44378693e-019,  4.64087047e-010, -3.64939771e-249],\n",
       "       [-2.16420994e-029,  2.77159611e-249,  1.88731946e-248, ...,\n",
       "         6.06866692e-021, -1.09514825e-033, -8.70232449e-029],\n",
       "       ...,\n",
       "       [-2.18537634e-024,  2.91301693e-249,  9.00884408e-010, ...,\n",
       "        -5.50714888e-248, -3.80985603e-007,  1.02833752e-248],\n",
       "       [ 1.34990470e-249,  3.37306984e-249, -1.01415231e-010, ...,\n",
       "        -2.21126954e-043, -5.49637985e-248,  4.85013155e-020],\n",
       "       [ 6.96885737e-017, -1.29172517e-207,  4.86624217e-248, ...,\n",
       "        -8.26413618e-248, -7.84578139e-250,  2.48325439e-009]])"
      ]
     },
     "execution_count": 13,
     "metadata": {},
     "output_type": "execute_result"
    }
   ],
   "source": [
    "mlp.coefs_[0]"
   ]
  },
  {
   "cell_type": "markdown",
   "metadata": {},
   "source": [
    "### Making Predictions"
   ]
  },
  {
   "cell_type": "markdown",
   "metadata": {},
   "source": [
    "#### Based on the training dataset"
   ]
  },
  {
   "cell_type": "markdown",
   "metadata": {},
   "source": [
    "The function cross_val_predict has a similar interface to cross_val_score, but returns, for each element in the input, the prediction that was obtained for that element when it was in the test set obtained from the partition over X_train (in our case)."
   ]
  },
  {
   "cell_type": "code",
   "execution_count": 15,
   "metadata": {},
   "outputs": [
    {
     "name": "stdout",
     "output_type": "stream",
     "text": [
      "Prediction: {} [0 6 9 ... 6 6 3]\n"
     ]
    }
   ],
   "source": [
    "predictions = cross_val_predict(mlp, X_train, y_train, cv=3)\n",
    "print('Prediction: {}', predictions)"
   ]
  },
  {
   "cell_type": "markdown",
   "metadata": {},
   "source": [
    "#### Based on the test dataset"
   ]
  },
  {
   "cell_type": "markdown",
   "metadata": {},
   "source": [
    "Now we used the function predict which is regularly the one to be used to get the predictions on a new dataset.  In our case, the new dataset is the X_test one. "
   ]
  },
  {
   "cell_type": "code",
   "execution_count": 16,
   "metadata": {},
   "outputs": [
    {
     "name": "stdout",
     "output_type": "stream",
     "text": [
      "Prediction: {} [0 6 5 ... 7 4 8]\n",
      "Total running time (H: M: S. ThS) 0:00:00.179010 seconds.\n"
     ]
    }
   ],
   "source": [
    "startTime = datetime.now()\n",
    "predictions = mlp.predict(X_test)\n",
    "print('Prediction: {}', predictions)\n",
    "print ('Total running time (H: M: S. ThS)', datetime.now()-startTime, 'seconds.')"
   ]
  },
  {
   "cell_type": "markdown",
   "metadata": {
    "collapsed": true
   },
   "source": [
    "<hr>\n",
    "By: Hector Alvaro Rojas &nbsp;&nbsp;|&nbsp;&nbsp; Data Science, Visualizations and Applied Statistics &nbsp;&nbsp;|&nbsp;&nbsp; April 29, 2018<br>\n",
    "    Url: [http://www.arqmain.net]   &nbsp;&nbsp;&nbsp;|&nbsp;&nbsp;&nbsp;   GitHub: [https://github.com/arqmain]\n",
    "    <hr>"
   ]
  }
 ],
 "metadata": {
  "kernelspec": {
   "display_name": "Python 3",
   "language": "python",
   "name": "python3"
  },
  "language_info": {
   "codemirror_mode": {
    "name": "ipython",
    "version": 3
   },
   "file_extension": ".py",
   "mimetype": "text/x-python",
   "name": "python",
   "nbconvert_exporter": "python",
   "pygments_lexer": "ipython3",
   "version": "3.6.4"
  }
 },
 "nbformat": 4,
 "nbformat_minor": 2
}
