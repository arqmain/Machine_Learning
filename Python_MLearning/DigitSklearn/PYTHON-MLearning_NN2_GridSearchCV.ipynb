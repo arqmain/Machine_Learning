{
 "cells": [
  {
   "cell_type": "markdown",
   "metadata": {},
   "source": [
    "# Python-MLearning: Digits recognition using Neural Network (NN) and Sklearn Library\n",
    "\n",
    "## Model: Digits 0-9 approach using Grid-SearchCV\n",
    "\n",
    "\n",
    "By: Hector Alvaro Rojas &nbsp;&nbsp;|&nbsp;&nbsp; Data Science, Visualizations and Applied Statistics &nbsp;&nbsp;|&nbsp;&nbsp; April 27, 2018<br>\n",
    "    Url: [http://www.arqmain.net]   &nbsp;&nbsp;&nbsp;|&nbsp;&nbsp;&nbsp;   GitHub: [https://github.com/arqmain]\n",
    "    <hr>"
   ]
  },
  {
   "cell_type": "markdown",
   "metadata": {},
   "source": [
    "## I IMPORT REQUIRED PACKAGES"
   ]
  },
  {
   "cell_type": "code",
   "execution_count": 1,
   "metadata": {},
   "outputs": [],
   "source": [
    "%matplotlib inline\n",
    "import os\n",
    "import numpy as np # linear algebra\n",
    "import pandas as pd # data processing, CSV file I/O (e.g. pd.read_csv)\n",
    "import matplotlib.pyplot as plt\n",
    "import seaborn as sns\n",
    "from sklearn.model_selection import train_test_split\n",
    "from sklearn.neural_network import MLPClassifier\n",
    "from sklearn.metrics import classification_report, confusion_matrix, accuracy_score\n",
    "from sklearn.model_selection import KFold, cross_val_score, cross_val_predict\n",
    "from sklearn import metrics\n",
    "from datetime import datetime\n"
   ]
  },
  {
   "cell_type": "markdown",
   "metadata": {},
   "source": [
    "## II LOADING DATA"
   ]
  },
  {
   "cell_type": "code",
   "execution_count": 2,
   "metadata": {},
   "outputs": [
    {
     "data": {
      "text/plain": [
       "'C:\\\\Users\\\\Alvaro\\\\Documents\\\\R-Python-Projects_April042018\\\\Python_Projects\\\\Machine-Learning\\\\NNetwork\\\\NN2\\\\DigitSklearn\\\\Python'"
      ]
     },
     "execution_count": 2,
     "metadata": {},
     "output_type": "execute_result"
    }
   ],
   "source": [
    "#Checking working directory\n",
    "# import os\n",
    "os.getcwd()"
   ]
  },
  {
   "cell_type": "code",
   "execution_count": 3,
   "metadata": {},
   "outputs": [
    {
     "data": {
      "text/plain": [
       "['.ipynb_checkpoints',\n",
       " 'mnist_My.csv',\n",
       " 'PYTHON-MLearning_NN2.ipynb',\n",
       " 'PYTHON-MLearning_NN2_GridSearchCV.ipynb',\n",
       " 'PYTHON-MLearning_NN2_KFold.ipynb',\n",
       " 'PYTHON-MLearning_NN2_RandomizedSearchCV.ipynb']"
      ]
     },
     "execution_count": 3,
     "metadata": {},
     "output_type": "execute_result"
    }
   ],
   "source": [
    "#List files in a directory\n",
    "os.listdir()"
   ]
  },
  {
   "cell_type": "code",
   "execution_count": 4,
   "metadata": {},
   "outputs": [
    {
     "data": {
      "text/plain": [
       "Index(['label', 'pixel0', 'pixel1', 'pixel2', 'pixel3', 'pixel4', 'pixel5',\n",
       "       'pixel6', 'pixel7', 'pixel8',\n",
       "       ...\n",
       "       'pixel774', 'pixel775', 'pixel776', 'pixel777', 'pixel778', 'pixel779',\n",
       "       'pixel780', 'pixel781', 'pixel782', 'pixel783'],\n",
       "      dtype='object', length=785)"
      ]
     },
     "execution_count": 4,
     "metadata": {},
     "output_type": "execute_result"
    }
   ],
   "source": [
    "# read csv (comma separated value) into data\n",
    "data=pd.read_csv('mnist_My.csv')\n",
    "df=data\n",
    "df.columns"
   ]
  },
  {
   "cell_type": "markdown",
   "metadata": {},
   "source": [
    "Now, we will do a grid searching in order to get an adequate NN model to be fitted to the data. There are various options associated with NN classification object, like \"activation\", \"Number of Layers\" , and \"Number of Neurons in a layer\" etc. All of this form part of the tune possibilities of the model.  You can view the full list of tunable parameters [here](http://scikit-learn.org/stable/modules/generated/sklearn.neural_network.MLPClassifier.html#sklearn.neural_network.MLPClassifier).\n",
    "\n",
    "To present the  GridSearcCV method, we will set up values only for some of the more important parameters of the model ."
   ]
  },
  {
   "cell_type": "markdown",
   "metadata": {
    "collapsed": true
   },
   "source": [
    "## III NN MODELING"
   ]
  },
  {
   "cell_type": "markdown",
   "metadata": {},
   "source": [
    "## Train and Validation Datasets"
   ]
  },
  {
   "cell_type": "code",
   "execution_count": 5,
   "metadata": {},
   "outputs": [
    {
     "name": "stdout",
     "output_type": "stream",
     "text": [
      "X Shape ::  (70000, 784)\n",
      "y ::  (70000,)\n",
      "X_train Shape ::  (56000, 784)\n",
      "y_train Shape ::  (56000,)\n",
      "X_test Shape ::  (14000, 784)\n",
      "y_test Shape ::  (14000,)\n"
     ]
    }
   ],
   "source": [
    "# train test split\n",
    "X=data.iloc[:,1:]\n",
    "y=data.iloc[:,0]\n",
    "\n",
    "X_train, X_test, y_train, y_test = train_test_split(X, y, test_size=0.2, random_state=4)\n",
    "\n",
    "# Train and Test dataset size details\n",
    "print(\"X Shape :: \", X.shape)\n",
    "print(\"y :: \", y.shape)\n",
    "print(\"X_train Shape :: \", X_train.shape)\n",
    "print(\"y_train Shape :: \", y_train.shape)\n",
    "print(\"X_test Shape :: \", X_test.shape)\n",
    "print(\"y_test Shape :: \", y_test.shape)\n"
   ]
  },
  {
   "cell_type": "markdown",
   "metadata": {},
   "source": [
    "## Build Model"
   ]
  },
  {
   "cell_type": "markdown",
   "metadata": {},
   "source": [
    "### Fit the model and evaluate it"
   ]
  },
  {
   "cell_type": "markdown",
   "metadata": {},
   "source": [
    "### Fitting the Model"
   ]
  },
  {
   "cell_type": "markdown",
   "metadata": {},
   "source": [
    "#### What values for the model's hyperparameters would be selected?"
   ]
  },
  {
   "cell_type": "code",
   "execution_count": 7,
   "metadata": {},
   "outputs": [
    {
     "name": "stdout",
     "output_type": "stream",
     "text": [
      "Fitting 3 folds for each of 6 candidates, totalling 18 fits\n"
     ]
    },
    {
     "name": "stderr",
     "output_type": "stream",
     "text": [
      "[Parallel(n_jobs=-1)]: Done  18 out of  18 | elapsed: 17.7min finished\n"
     ]
    },
    {
     "name": "stdout",
     "output_type": "stream",
     "text": [
      "Total running time (H: M: S. ThS) 0:18:55.751962 seconds.\n"
     ]
    }
   ],
   "source": [
    "# Grid Search for CV\n",
    "from sklearn.neural_network import MLPClassifier\n",
    "#from sklearn.grid_search import GridSearchCV\n",
    "from sklearn.model_selection import GridSearchCV\n",
    "\n",
    "startTime = datetime.now()\n",
    "mlp = MLPClassifier(hidden_layer_sizes=(16,16))\n",
    "\n",
    "# Use a grid over parameters of interest\n",
    "parameters={'alpha': [10, 1, 0.01],\n",
    "'solver': ['lbfgs','adam'],\n",
    "'activation': [\"logistic\", \"relu\"]\n",
    "}\n",
    " \n",
    "model = GridSearchCV(estimator=mlp, param_grid=parameters, n_jobs=-1, verbose=2, cv= 3)\n",
    "model.fit(X_train, y_train)\n",
    "print ('Total running time (H: M: S. ThS)', datetime.now()-startTime, 'seconds.')"
   ]
  },
  {
   "cell_type": "code",
   "execution_count": 9,
   "metadata": {},
   "outputs": [
    {
     "name": "stdout",
     "output_type": "stream",
     "text": [
      "Tuned hyperparameters: {'activation': 'relu', 'alpha': 10}\n",
      "Best score for train data: 0.9512857142857143\n"
     ]
    },
    {
     "name": "stderr",
     "output_type": "stream",
     "text": [
      "C:\\Users\\Alvaro\\Anaconda3\\lib\\site-packages\\sklearn\\model_selection\\_search.py:761: DeprecationWarning: The grid_scores_ attribute was deprecated in version 0.18 in favor of the more elaborate cv_results_ attribute. The grid_scores_ attribute will not be available from 0.20\n",
      "  DeprecationWarning)\n"
     ]
    },
    {
     "data": {
      "text/plain": [
       "[mean: 0.20991, std: 0.00318, params: {'activation': 'logistic', 'alpha': 10},\n",
       " mean: 0.88305, std: 0.00905, params: {'activation': 'logistic', 'alpha': 1},\n",
       " mean: 0.89277, std: 0.00651, params: {'activation': 'logistic', 'alpha': 0.01},\n",
       " mean: 0.95129, std: 0.00334, params: {'activation': 'relu', 'alpha': 10},\n",
       " mean: 0.93963, std: 0.00806, params: {'activation': 'relu', 'alpha': 1},\n",
       " mean: 0.90302, std: 0.01881, params: {'activation': 'relu', 'alpha': 0.01}]"
      ]
     },
     "execution_count": 9,
     "metadata": {},
     "output_type": "execute_result"
    }
   ],
   "source": [
    "print(\"Tuned hyperparameters: {}\".format(model.best_params_))\n",
    "# View the accuracy score\n",
    "print('Best score for train data:',model.best_score_) \n",
    "# View the accuracy score\n",
    "model.grid_scores_\n"
   ]
  },
  {
   "cell_type": "markdown",
   "metadata": {},
   "source": [
    "#### Evaluating the Model"
   ]
  },
  {
   "cell_type": "code",
   "execution_count": 7,
   "metadata": {},
   "outputs": [
    {
     "name": "stdout",
     "output_type": "stream",
     "text": [
      "Total running time (H: M: S. ThS) 0:00:44.182527 seconds.\n"
     ]
    }
   ],
   "source": [
    "# Grid Search for CV\n",
    "#from sklearn import grid_search\n",
    "from sklearn.neural_network import MLPClassifier\n",
    "from sklearn.grid_search import GridSearchCV\n",
    "\n",
    "# train your model using X_train, y_train and the best known parameters\n",
    "startTime = datetime.now()\n",
    "mlp = MLPClassifier(solver='adam', activation = 'relu', hidden_layer_sizes=(16,16), alpha = 10)\n",
    "mlp.fit(X_train, y_train) \n",
    "print ('Total running time (H: M: S. ThS)', datetime.now()-startTime, 'seconds.')"
   ]
  },
  {
   "cell_type": "code",
   "execution_count": 8,
   "metadata": {},
   "outputs": [
    {
     "name": "stdout",
     "output_type": "stream",
     "text": [
      "With Neural Network () accuracy is:  0.9561\n"
     ]
    }
   ],
   "source": [
    "# Evaluating NN model\n",
    "print('With Neural Network () accuracy is: ',round(mlp.score(X_train,y_train),4)) # accuracy "
   ]
  },
  {
   "cell_type": "code",
   "execution_count": 9,
   "metadata": {},
   "outputs": [
    {
     "name": "stdout",
     "output_type": "stream",
     "text": [
      "Accuracy based on X_test, Y_test:  0.9453571428571429\n",
      "\n",
      "Confusion Matrix:\n",
      "  [[1342    0    7    1    1    1    8   10    7    1]\n",
      " [   0 1552    6    9    2    4    3    5   11    0]\n",
      " [   8   16 1298    1    6    0    4   19   15    0]\n",
      " [   8    2   26 1296    0   31    1   34    9   17]\n",
      " [   2    4   12    0 1272    1   12    6    6   47]\n",
      " [   5    4    7   22    7 1176   20    5   11    7]\n",
      " [  10    1    6    0    4   11 1379    1    1    0]\n",
      " [   4   11    9    2    5    1    0 1344    4   11]\n",
      " [   6   10   20   13   10   19   13    3 1225   28]\n",
      " [   7    3    3   11   28   13    1   34   11 1351]]\n",
      "             precision    recall  f1-score   support\n",
      "\n",
      "          0       0.96      0.97      0.97      1378\n",
      "          1       0.97      0.97      0.97      1592\n",
      "          2       0.93      0.95      0.94      1367\n",
      "          3       0.96      0.91      0.93      1424\n",
      "          4       0.95      0.93      0.94      1362\n",
      "          5       0.94      0.93      0.93      1264\n",
      "          6       0.96      0.98      0.97      1413\n",
      "          7       0.92      0.97      0.94      1391\n",
      "          8       0.94      0.91      0.93      1347\n",
      "          9       0.92      0.92      0.92      1462\n",
      "\n",
      "avg / total       0.95      0.95      0.95     14000\n",
      "\n"
     ]
    }
   ],
   "source": [
    "predictions = mlp.predict(X_test)\n",
    "print('Accuracy based on X_test, Y_test: ',accuracy_score(y_test, predictions))\n",
    "print('')\n",
    "print('Confusion Matrix:\\n ',confusion_matrix(y_test, predictions))\n",
    "print(classification_report(y_test, predictions))"
   ]
  },
  {
   "cell_type": "markdown",
   "metadata": {},
   "source": [
    "Precision, recall and f1-score are metrics to measure the accuracy of classification models. A general explanation can be got in [Wikipedia](https://en.wikipedia.org/wiki/Evaluation_of_binary_classifiers)."
   ]
  },
  {
   "cell_type": "markdown",
   "metadata": {},
   "source": [
    "Looks like we misclassified 765 digit's images, leaving us with a 94.54% accuracy rate (with 95% precision and 95% recall).\n",
    "\n",
    "If you do want to extract the MLP weights and biases after training your model, you use its public attributes coefs_ and intercepts_.\n",
    "\n",
    "<b>coefs_</b>is a list of weight matrices, where weight matrix at index i represents the weights between layer i and layer i+1.\n",
    "\n",
    "<b>intercepts_</b> is a list of bias vectors, where the vector at index i represents the bias values added to layer i+1."
   ]
  },
  {
   "cell_type": "code",
   "execution_count": 10,
   "metadata": {},
   "outputs": [
    {
     "data": {
      "text/plain": [
       "3"
      ]
     },
     "execution_count": 10,
     "metadata": {},
     "output_type": "execute_result"
    }
   ],
   "source": [
    "len(mlp.coefs_)"
   ]
  },
  {
   "cell_type": "code",
   "execution_count": 11,
   "metadata": {},
   "outputs": [
    {
     "data": {
      "text/plain": [
       "[array([[-1.04251560e-147,  1.10417635e-147,  1.79024404e-149, ...,\n",
       "          1.43022117e-148, -2.61933875e-149, -1.06146390e-148],\n",
       "        [-1.23959388e-149,  4.61462566e-148,  8.60108624e-139, ...,\n",
       "         -4.69080784e-149,  1.80304896e-149,  2.70714311e-147],\n",
       "        [-3.09361015e-148, -4.59201582e-148, -1.15899210e-147, ...,\n",
       "          9.65940648e-149,  1.93889696e-149,  4.17547372e-149],\n",
       "        ...,\n",
       "        [ 7.32895013e-148,  5.11922094e-149, -6.44773492e-149, ...,\n",
       "          1.42869333e-149,  1.64742931e-149,  1.12008304e-149],\n",
       "        [-1.65498014e-148, -3.33294827e-148, -2.16231425e-149, ...,\n",
       "         -1.98616613e-149,  2.78718364e-148, -2.05016608e-148],\n",
       "        [ 2.91374602e-147, -3.15709750e-150,  3.79736080e-019, ...,\n",
       "         -2.56138179e-149, -3.64357849e-149, -4.85179769e-149]]),\n",
       " array([[-5.34602933e-02,  8.22567040e-03,  1.32514985e-02,\n",
       "         -1.31048717e-02, -4.44119819e-02,  7.52181041e-02,\n",
       "          5.64961908e-02, -2.80691256e-08, -3.96395632e-02,\n",
       "          7.52974322e-02, -3.66650265e-03,  2.73218712e-02,\n",
       "          6.00842094e-02,  1.62971357e-01,  6.93636339e-02,\n",
       "         -9.45834275e-02],\n",
       "        [-1.14112016e-01,  2.07964876e-03,  1.02660058e-01,\n",
       "         -6.41900399e-02, -3.58801226e-03, -2.21296010e-02,\n",
       "          6.17951517e-02,  2.87374157e-05, -1.54987936e-02,\n",
       "          1.44742862e-02,  1.14490483e-02, -3.82733407e-02,\n",
       "          4.40719953e-02,  3.96726555e-02,  3.10108469e-02,\n",
       "          2.92341752e-02],\n",
       "        [ 9.19639805e-02, -1.10399028e-01, -6.23826290e-02,\n",
       "          8.87346200e-02,  6.14078889e-02, -4.76298868e-02,\n",
       "          1.83637484e-02,  3.57460512e-13,  3.82410190e-04,\n",
       "         -9.03300286e-02, -3.86485068e-02,  1.00793805e-01,\n",
       "          2.35402724e-02,  7.70400711e-02, -4.85126815e-03,\n",
       "          7.52881012e-02],\n",
       "        [-1.83629228e-13, -9.17042912e-08, -2.37150857e-07,\n",
       "          8.13365209e-11,  6.23406883e-09, -1.31284563e-07,\n",
       "         -4.02813818e-08, -5.12316239e-12,  4.29774612e-07,\n",
       "         -6.00152084e-17, -8.67287239e-17, -9.97008718e-08,\n",
       "         -8.62215895e-10, -2.12112535e-18, -9.48580191e-08,\n",
       "          2.76529892e-06],\n",
       "        [-3.56300992e-02, -3.58131463e-03,  8.63743301e-02,\n",
       "         -1.04834279e-01, -2.11767011e-02,  2.31206490e-02,\n",
       "          1.44212476e-01, -1.33144877e-06, -2.76611958e-02,\n",
       "         -2.75270085e-02,  9.14793791e-02, -3.61324849e-02,\n",
       "          1.06196588e-01,  4.70675417e-03, -9.00089274e-03,\n",
       "          2.68457106e-02],\n",
       "        [ 1.40551508e-01,  1.32219362e-01, -1.95517590e-02,\n",
       "         -3.15949781e-03,  2.61249823e-02,  4.64760898e-02,\n",
       "         -5.95484379e-02, -2.92013155e-09,  1.07204324e-02,\n",
       "          3.45354134e-02,  1.38022881e-02, -2.64794246e-02,\n",
       "          4.36133863e-05, -1.94691954e-02, -8.41255930e-02,\n",
       "         -1.51757679e-02],\n",
       "        [ 9.66828874e-02, -4.91485999e-03, -1.65849422e-02,\n",
       "          1.85850424e-02, -3.52388184e-02, -7.74396419e-02,\n",
       "         -2.30680957e-02, -2.62750110e-10,  9.74638260e-02,\n",
       "         -2.76753884e-02,  4.64734744e-02,  3.45610250e-03,\n",
       "          1.12284260e-01, -5.31993206e-02, -2.05022810e-02,\n",
       "         -6.10323166e-03],\n",
       "        [-4.57276834e-03, -9.64536774e-02,  2.44887977e-02,\n",
       "          2.75689090e-02, -4.80678680e-02, -3.35875195e-02,\n",
       "          2.73927573e-02, -3.82942917e-10,  1.19690705e-01,\n",
       "          5.49387799e-02,  2.12127763e-02,  4.03278493e-02,\n",
       "          1.37351556e-02, -2.15370611e-02, -2.61273438e-02,\n",
       "          4.96358694e-02],\n",
       "        [-4.68977348e-02,  5.50806393e-02,  2.00251945e-02,\n",
       "          3.85709084e-02,  4.87350158e-02, -7.83670235e-02,\n",
       "         -2.48255053e-02, -2.92942472e-14,  3.67093389e-02,\n",
       "          6.97108060e-02, -6.45281588e-02, -2.21336241e-02,\n",
       "          1.32712773e-01,  1.04617284e-01,  1.19819903e-02,\n",
       "         -1.23025242e-02],\n",
       "        [-2.83862261e-02,  6.52329085e-03,  1.93964637e-02,\n",
       "          3.59197409e-02, -1.25125316e-01,  2.35755401e-03,\n",
       "         -9.53929182e-02, -4.20840275e-16,  1.69628450e-02,\n",
       "         -9.87312780e-02, -1.12036707e-01,  7.81930404e-02,\n",
       "          8.70092005e-02, -6.03357455e-02,  2.57448997e-02,\n",
       "         -1.21386221e-02],\n",
       "        [-1.26615921e-02,  6.94364389e-02, -2.49397733e-02,\n",
       "         -3.61976611e-02, -5.51699051e-02, -9.66157939e-02,\n",
       "          9.42519614e-03, -9.59863566e-08, -1.66627011e-02,\n",
       "          7.28225195e-02,  1.88790227e-03,  2.38969172e-02,\n",
       "          5.27598168e-02, -7.62968812e-02,  5.69082103e-02,\n",
       "          1.32200626e-01],\n",
       "        [-1.83352508e-02,  8.12223632e-02, -2.43621029e-02,\n",
       "         -7.74871013e-02,  1.19609228e-01, -8.49452653e-05,\n",
       "          1.95008791e-02, -2.37006716e-10,  5.79772997e-02,\n",
       "         -3.12790844e-02,  9.53014786e-02,  1.62766109e-01,\n",
       "         -5.07690102e-02,  7.19437917e-02, -1.98441462e-02,\n",
       "         -3.12925905e-02],\n",
       "        [ 8.96122726e-02, -1.01806687e-01,  6.76716371e-02,\n",
       "          9.40777006e-03,  5.53895859e-02,  3.38673409e-02,\n",
       "          4.27132009e-02, -1.83698822e-10, -7.06405263e-02,\n",
       "         -5.71218211e-02,  4.05612745e-02,  8.04383314e-02,\n",
       "         -9.90404914e-03,  2.08245240e-02, -4.80623175e-02,\n",
       "          6.09342296e-02],\n",
       "        [ 5.78373665e-02, -3.76164402e-02, -9.17154506e-02,\n",
       "         -1.53295000e-02, -4.23680710e-02,  1.61174634e-02,\n",
       "         -1.08364830e-02, -2.10394593e-09, -1.64253985e-02,\n",
       "         -1.50295421e-02, -2.50438625e-02,  5.88176574e-02,\n",
       "         -4.40304346e-02,  6.83206818e-02,  6.54503563e-02,\n",
       "          8.53722608e-02],\n",
       "        [-5.12846058e-02,  1.18275783e-03,  2.18931359e-02,\n",
       "          1.58983460e-01,  5.74652596e-02,  7.48678294e-02,\n",
       "          5.43588171e-02,  2.94382802e-14,  7.20319440e-02,\n",
       "          4.05215692e-02, -2.98914301e-03, -3.40767878e-02,\n",
       "         -9.60908733e-02,  4.07615751e-02,  7.44136934e-02,\n",
       "          9.45771665e-02],\n",
       "        [ 3.46586763e-05,  1.85412028e-05, -1.18672859e-06,\n",
       "          5.23773853e-05,  2.94388347e-05,  5.55555818e-05,\n",
       "         -1.18415459e-05,  3.84982081e-11,  6.02468900e-03,\n",
       "          2.26476364e-05,  2.30491210e-06, -1.24560360e-05,\n",
       "         -1.12206820e-04,  9.46860766e-06,  1.54496390e-03,\n",
       "         -4.25948910e-05]]),\n",
       " array([[-4.58391209e-02,  9.10887873e-02,  1.50273535e-01,\n",
       "          3.85485991e-02, -1.36749272e-02, -1.19721610e-01,\n",
       "         -1.32506486e-02,  6.62603416e-02,  7.16963983e-02,\n",
       "         -9.42793076e-02],\n",
       "        [ 4.70951530e-02,  1.70704301e-02, -4.47542849e-02,\n",
       "          1.10386033e-01,  4.49651836e-02,  1.88960594e-01,\n",
       "          4.68449759e-02, -1.04440126e-01,  1.78687930e-01,\n",
       "          1.17653053e-01],\n",
       "        [ 2.84487560e-02,  2.36909054e-02, -8.15347664e-02,\n",
       "         -2.18215445e-02,  6.89645351e-02, -6.71015605e-02,\n",
       "          7.69088302e-02, -5.06974843e-03, -3.99161681e-02,\n",
       "          7.79422125e-02],\n",
       "        [-3.61738289e-02,  1.00740293e-02,  1.09630979e-01,\n",
       "          4.25412207e-02, -1.03996042e-01, -1.15549489e-02,\n",
       "         -5.60891154e-02,  1.33526861e-01,  2.04293504e-02,\n",
       "         -7.79092391e-02],\n",
       "        [-5.06099887e-02, -7.93052959e-02, -9.04700729e-02,\n",
       "          1.62033566e-01, -3.33428705e-02,  4.88628650e-02,\n",
       "         -2.53077978e-02, -9.59759092e-03, -9.10496526e-03,\n",
       "          5.85534526e-02],\n",
       "        [ 9.99652660e-03,  4.25440535e-02, -2.01325009e-03,\n",
       "         -7.50191849e-02,  3.59887359e-02, -1.25200265e-01,\n",
       "         -1.15626410e-02,  1.23297451e-02,  5.75532510e-02,\n",
       "          1.17679669e-01],\n",
       "        [-5.85591181e-02, -4.28621059e-02,  1.97493332e-02,\n",
       "         -4.14526811e-02,  1.25250640e-01,  9.99580300e-03,\n",
       "         -8.83727672e-02,  9.03187345e-02, -5.08803521e-02,\n",
       "          3.77111279e-02],\n",
       "        [ 3.16354857e-16,  5.64627065e-21, -5.89074005e-10,\n",
       "          6.67029804e-18,  9.12188131e-09,  3.14627966e-16,\n",
       "          9.16418802e-07, -9.95268934e-10,  7.36665776e-19,\n",
       "          2.88907425e-08],\n",
       "        [ 4.12864707e-02,  3.85668487e-02,  1.21031246e-01,\n",
       "          8.45820544e-03, -6.59696724e-02,  7.36261856e-02,\n",
       "         -2.80121344e-02, -5.78088183e-03, -7.28990279e-02,\n",
       "          8.82888411e-02],\n",
       "        [ 1.31186628e-01, -4.02211785e-02,  2.81549374e-02,\n",
       "         -9.19217148e-02, -1.11656897e-01,  1.06760641e-02,\n",
       "          2.20629043e-02, -1.13082649e-03,  4.71704100e-02,\n",
       "          1.19560897e-02],\n",
       "        [-4.99265769e-02, -3.71215539e-02,  7.42498052e-02,\n",
       "          2.32950789e-02,  1.10715751e-01, -4.19211308e-02,\n",
       "         -6.79117677e-02, -6.62725245e-02,  2.87862817e-03,\n",
       "          5.01419788e-02],\n",
       "        [-8.60331393e-02,  1.63532325e-01,  3.16772676e-02,\n",
       "          1.36599417e-01, -1.21642327e-02,  7.77569122e-02,\n",
       "         -3.98276462e-02, -6.49602963e-03, -7.57514559e-02,\n",
       "          1.51077626e-02],\n",
       "        [ 1.23288684e-01,  4.25609943e-02,  1.10110756e-01,\n",
       "          1.49866722e-03,  5.01808830e-02,  9.81025889e-02,\n",
       "          2.71868745e-01, -8.37098844e-03, -2.37853191e-04,\n",
       "         -8.43092574e-02],\n",
       "        [-7.15626596e-02,  1.42897084e-01, -1.16294189e-01,\n",
       "          2.99186499e-03, -3.93170708e-03,  1.19180075e-01,\n",
       "         -1.68899450e-02,  6.05948164e-02, -6.06622891e-02,\n",
       "          4.43785155e-02],\n",
       "        [ 2.20680234e-03, -2.79180648e-02,  1.99406529e-02,\n",
       "         -2.07010632e-02, -8.68252342e-02,  5.81648445e-02,\n",
       "         -2.90465942e-02,  1.08275572e-01, -3.66696866e-03,\n",
       "         -2.44429059e-02],\n",
       "        [ 1.50422029e-01, -2.27994525e-02,  5.20111744e-02,\n",
       "          1.16819579e-01, -2.27769202e-02, -6.46159877e-02,\n",
       "         -2.53861538e-02,  1.24542139e-01, -4.04696158e-02,\n",
       "          4.59723533e-02]])]"
      ]
     },
     "execution_count": 11,
     "metadata": {},
     "output_type": "execute_result"
    }
   ],
   "source": [
    "mlp.coefs_"
   ]
  },
  {
   "cell_type": "code",
   "execution_count": 12,
   "metadata": {},
   "outputs": [
    {
     "data": {
      "text/plain": [
       "784"
      ]
     },
     "execution_count": 12,
     "metadata": {},
     "output_type": "execute_result"
    }
   ],
   "source": [
    "len(mlp.coefs_[0])"
   ]
  },
  {
   "cell_type": "code",
   "execution_count": 13,
   "metadata": {},
   "outputs": [
    {
     "data": {
      "text/plain": [
       "array([[-1.04251560e-147,  1.10417635e-147,  1.79024404e-149, ...,\n",
       "         1.43022117e-148, -2.61933875e-149, -1.06146390e-148],\n",
       "       [-1.23959388e-149,  4.61462566e-148,  8.60108624e-139, ...,\n",
       "        -4.69080784e-149,  1.80304896e-149,  2.70714311e-147],\n",
       "       [-3.09361015e-148, -4.59201582e-148, -1.15899210e-147, ...,\n",
       "         9.65940648e-149,  1.93889696e-149,  4.17547372e-149],\n",
       "       ...,\n",
       "       [ 7.32895013e-148,  5.11922094e-149, -6.44773492e-149, ...,\n",
       "         1.42869333e-149,  1.64742931e-149,  1.12008304e-149],\n",
       "       [-1.65498014e-148, -3.33294827e-148, -2.16231425e-149, ...,\n",
       "        -1.98616613e-149,  2.78718364e-148, -2.05016608e-148],\n",
       "       [ 2.91374602e-147, -3.15709750e-150,  3.79736080e-019, ...,\n",
       "        -2.56138179e-149, -3.64357849e-149, -4.85179769e-149]])"
      ]
     },
     "execution_count": 13,
     "metadata": {},
     "output_type": "execute_result"
    }
   ],
   "source": [
    "mlp.coefs_[0]"
   ]
  },
  {
   "cell_type": "markdown",
   "metadata": {},
   "source": [
    "### Making Predictions"
   ]
  },
  {
   "cell_type": "markdown",
   "metadata": {},
   "source": [
    "#### Based on the training dataset"
   ]
  },
  {
   "cell_type": "markdown",
   "metadata": {},
   "source": [
    "The function cross_val_predict has a similar interface to cross_val_score, but returns, for each element in the input, the prediction that was obtained for that element when it was in the test set obtained from the partition over X_train (in our case)."
   ]
  },
  {
   "cell_type": "code",
   "execution_count": 16,
   "metadata": {},
   "outputs": [
    {
     "name": "stdout",
     "output_type": "stream",
     "text": [
      "Prediction: {} [0 6 4 ... 6 6 3]\n"
     ]
    }
   ],
   "source": [
    "predictions = cross_val_predict(mlp, X_train, y_train, cv=3)\n",
    "print('Prediction: {}', predictions)"
   ]
  },
  {
   "cell_type": "markdown",
   "metadata": {},
   "source": [
    "#### Based on the test dataset"
   ]
  },
  {
   "cell_type": "markdown",
   "metadata": {},
   "source": [
    "Now we used the function predict which is regularly the one to be used to get the predictions on a new dataset.  In our case, the new dataset is the X_test one. "
   ]
  },
  {
   "cell_type": "code",
   "execution_count": 14,
   "metadata": {},
   "outputs": [
    {
     "name": "stdout",
     "output_type": "stream",
     "text": [
      "Total running time (H: M: S. ThS) 0:02:18.231907 seconds.\n"
     ]
    }
   ],
   "source": [
    "# train your model using all data.\n",
    "startTime = datetime.now()\n",
    "mlp.fit(X, y) \n",
    "print ('Total running time (H: M: S. ThS)', datetime.now()-startTime, 'seconds.')"
   ]
  },
  {
   "cell_type": "code",
   "execution_count": 15,
   "metadata": {},
   "outputs": [
    {
     "name": "stdout",
     "output_type": "stream",
     "text": [
      "Prediction: {} [0 6 5 ... 7 4 8]\n",
      "Total running time (H: M: S. ThS) 0:00:00.226013 seconds.\n"
     ]
    }
   ],
   "source": [
    "startTime = datetime.now()\n",
    "predictions = mlp.predict(X_test)\n",
    "print('Prediction: {}', predictions)\n",
    "print ('Total running time (H: M: S. ThS)', datetime.now()-startTime, 'seconds.')"
   ]
  },
  {
   "cell_type": "markdown",
   "metadata": {
    "collapsed": true
   },
   "source": [
    "<hr>\n",
    "By: Hector Alvaro Rojas &nbsp;&nbsp;|&nbsp;&nbsp; Data Science, Visualizations and Applied Statistics &nbsp;&nbsp;|&nbsp;&nbsp; April 27, 2018<br>\n",
    "    Url: [http://www.arqmain.net]   &nbsp;&nbsp;&nbsp;|&nbsp;&nbsp;&nbsp;   GitHub: [https://github.com/arqmain]\n",
    "    <hr>"
   ]
  }
 ],
 "metadata": {
  "kernelspec": {
   "display_name": "Python 3",
   "language": "python",
   "name": "python3"
  },
  "language_info": {
   "codemirror_mode": {
    "name": "ipython",
    "version": 3
   },
   "file_extension": ".py",
   "mimetype": "text/x-python",
   "name": "python",
   "nbconvert_exporter": "python",
   "pygments_lexer": "ipython3",
   "version": "3.6.4"
  }
 },
 "nbformat": 4,
 "nbformat_minor": 2
}
