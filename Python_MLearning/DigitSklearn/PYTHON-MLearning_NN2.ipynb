{
 "cells": [
  {
   "cell_type": "markdown",
   "metadata": {},
   "source": [
    "# Python-MLearning: Digits recognition using Neural Network (NN) and Sklearn Library\n",
    "\n",
    "## Model: Digits 0-9 approach using Train_Test_Split method\n",
    "\n",
    "\n",
    "By: Hector Alvaro Rojas &nbsp;&nbsp;|&nbsp;&nbsp; Data Science, Visualizations and Applied Statistics &nbsp;&nbsp;|&nbsp;&nbsp; April 14, 2018<br>\n",
    "    Url: [http://www.arqmain.net]   &nbsp;&nbsp;&nbsp;|&nbsp;&nbsp;&nbsp;   GitHub: [https://github.com/arqmain]\n",
    "    <hr>"
   ]
  },
  {
   "cell_type": "markdown",
   "metadata": {},
   "source": [
    "## I IMPORT REQUIRED PACKAGES"
   ]
  },
  {
   "cell_type": "code",
   "execution_count": 1,
   "metadata": {},
   "outputs": [],
   "source": [
    "%matplotlib inline\n",
    "import os\n",
    "import numpy as np # linear algebra\n",
    "import pandas as pd # data processing, CSV file I/O (e.g. pd.read_csv)\n",
    "import matplotlib.pyplot as plt\n",
    "from IPython.display import Image\n",
    "from sklearn.neural_network import MLPClassifier\n",
    "from sklearn.model_selection import train_test_split\n",
    "from sklearn.metrics import classification_report, confusion_matrix, accuracy_score\n",
    "from datetime import datetime\n"
   ]
  },
  {
   "cell_type": "markdown",
   "metadata": {},
   "source": [
    "## II LOADING DATA"
   ]
  },
  {
   "cell_type": "code",
   "execution_count": 2,
   "metadata": {},
   "outputs": [
    {
     "data": {
      "text/plain": [
       "'C:\\\\Users\\\\Alvaro\\\\Documents\\\\R-Python-Projects_April042018\\\\Python_Projects\\\\Machine-Learning\\\\NNetwork\\\\NN2\\\\DigitSklearn\\\\Python'"
      ]
     },
     "execution_count": 2,
     "metadata": {},
     "output_type": "execute_result"
    }
   ],
   "source": [
    "#Checking working directory\n",
    "# import os\n",
    "os.getcwd()"
   ]
  },
  {
   "cell_type": "code",
   "execution_count": 5,
   "metadata": {},
   "outputs": [
    {
     "data": {
      "text/plain": [
       "['.ipynb_checkpoints',\n",
       " 'mnist_My.csv',\n",
       " 'PYTHON-MLearning_NN2.ipynb',\n",
       " 'PYTHON-MLearning_NN2_GridSearchCV.ipynb',\n",
       " 'PYTHON-MLearning_NN2_KFold.ipynb',\n",
       " 'PYTHON-MLearning_NN2_RandomizedSearchCV.ipynb']"
      ]
     },
     "execution_count": 5,
     "metadata": {},
     "output_type": "execute_result"
    }
   ],
   "source": [
    "#List files in a directory\n",
    "os.listdir()"
   ]
  },
  {
   "cell_type": "code",
   "execution_count": 6,
   "metadata": {},
   "outputs": [
    {
     "data": {
      "text/plain": [
       "Index(['label', 'pixel0', 'pixel1', 'pixel2', 'pixel3', 'pixel4', 'pixel5',\n",
       "       'pixel6', 'pixel7', 'pixel8',\n",
       "       ...\n",
       "       'pixel774', 'pixel775', 'pixel776', 'pixel777', 'pixel778', 'pixel779',\n",
       "       'pixel780', 'pixel781', 'pixel782', 'pixel783'],\n",
       "      dtype='object', length=785)"
      ]
     },
     "execution_count": 6,
     "metadata": {},
     "output_type": "execute_result"
    }
   ],
   "source": [
    "# read csv (comma separated value) into data\n",
    "data=pd.read_csv('mnist_My.csv')\n",
    "data.columns"
   ]
  },
  {
   "cell_type": "markdown",
   "metadata": {},
   "source": [
    "## II NN MODELING"
   ]
  },
  {
   "cell_type": "markdown",
   "metadata": {},
   "source": [
    "# Train and Validation Datasets"
   ]
  },
  {
   "cell_type": "code",
   "execution_count": 7,
   "metadata": {},
   "outputs": [
    {
     "name": "stdout",
     "output_type": "stream",
     "text": [
      "X Shape ::  (70000, 784)\n",
      "y ::  (70000,)\n",
      "X_train Shape ::  (56000, 784)\n",
      "y_train Shape ::  (56000,)\n",
      "X_test Shape ::  (14000, 784)\n",
      "y_test Shape ::  (14000,)\n"
     ]
    }
   ],
   "source": [
    "# train test split\n",
    "X=data.iloc[:,1:]\n",
    "y=data.iloc[:,0]\n",
    "\n",
    "X_train, X_test, y_train, y_test = train_test_split(X, y, test_size=0.2, random_state=4)\n",
    "\n",
    "# Train and Test dataset size details\n",
    "print(\"X Shape :: \", X.shape)\n",
    "print(\"y :: \", y.shape)\n",
    "print(\"X_train Shape :: \", X_train.shape)\n",
    "print(\"y_train Shape :: \", y_train.shape)\n",
    "print(\"X_test Shape :: \", X_test.shape)\n",
    "print(\"y_test Shape :: \", y_test.shape)"
   ]
  },
  {
   "cell_type": "markdown",
   "metadata": {},
   "source": [
    "## Build Model"
   ]
  },
  {
   "cell_type": "markdown",
   "metadata": {},
   "source": [
    "### Fit the model and evaluate it "
   ]
  },
  {
   "cell_type": "markdown",
   "metadata": {},
   "source": [
    "#### Fitting the Model"
   ]
  },
  {
   "cell_type": "markdown",
   "metadata": {},
   "source": [
    "There are various options associated with NN classification object, like \"activation\", \"Number of Layers\" , and \"Number of Neurons in a layer\" etc. All of this form part of the tune possibilities of the model.  You can view full list of tunable parameters [here](http://scikit-learn.org/stable/modules/generated/sklearn.neural_network.MLPClassifier.html#sklearn.neural_network.MLPClassifier).\n",
    "\n",
    "We will use the default values for the parameters to expose the Train_Test_Split method."
   ]
  },
  {
   "cell_type": "code",
   "execution_count": 8,
   "metadata": {},
   "outputs": [
    {
     "name": "stdout",
     "output_type": "stream",
     "text": [
      "Total running time (H: M: S. ThS) 0:01:07.792877 seconds.\n"
     ]
    }
   ],
   "source": [
    "# Fitting NN model\n",
    "from sklearn.neural_network import MLPClassifier\n",
    "startTime = datetime.now()\n",
    "mlp = MLPClassifier(solver='adam',activation = 'logistic', hidden_layer_sizes=(16,16))\n",
    "mlp.fit(X_train,y_train)\n",
    "print ('Total running time (H: M: S. ThS)', datetime.now()-startTime, 'seconds.')\n"
   ]
  },
  {
   "cell_type": "markdown",
   "metadata": {},
   "source": [
    "#### Evaluating the model"
   ]
  },
  {
   "cell_type": "code",
   "execution_count": 9,
   "metadata": {},
   "outputs": [
    {
     "name": "stdout",
     "output_type": "stream",
     "text": [
      "With Neural Network () accuracy is:  0.9014\n"
     ]
    }
   ],
   "source": [
    "# Evaluating NN model\n",
    "print('With Neural Network () accuracy is: ',round(mlp.score(X_train,y_train),4)) # accuracy "
   ]
  },
  {
   "cell_type": "code",
   "execution_count": 10,
   "metadata": {},
   "outputs": [
    {
     "name": "stdout",
     "output_type": "stream",
     "text": [
      "Model --> NEURAL NETWORK (NN)\n",
      "Overall Accuracy: 0.8984285714285715\n",
      "Confusion matrix: \n",
      " [[1314    0    9    6    8   10    9    9   12    1]\n",
      " [   1 1511   13   15    3   11    1    1   24   12]\n",
      " [  16   14 1202   19   18    4   15   30   47    2]\n",
      " [  11    5   42 1241    1   49    4   36   24   11]\n",
      " [   3    4    7    0 1239    2   13    5    6   83]\n",
      " [  25    1   17   68   10 1076   10    6   33   18]\n",
      " [  12    4   12    1   16   36 1326    0    6    0]\n",
      " [   7    5   20   11   15    1    1 1264   14   53]\n",
      " [  15   11   25   33   18   70   12   25 1121   17]\n",
      " [  12    3    2   23   73    5    3   51    6 1284]]\n",
      "Classification report: \n",
      "              precision    recall  f1-score   support\n",
      "\n",
      "          0       0.93      0.95      0.94      1378\n",
      "          1       0.97      0.95      0.96      1592\n",
      "          2       0.89      0.88      0.89      1367\n",
      "          3       0.88      0.87      0.87      1424\n",
      "          4       0.88      0.91      0.90      1362\n",
      "          5       0.85      0.85      0.85      1264\n",
      "          6       0.95      0.94      0.94      1413\n",
      "          7       0.89      0.91      0.90      1391\n",
      "          8       0.87      0.83      0.85      1347\n",
      "          9       0.87      0.88      0.87      1462\n",
      "\n",
      "avg / total       0.90      0.90      0.90     14000\n",
      "\n"
     ]
    }
   ],
   "source": [
    "# Confusion matrix with NN\n",
    "from sklearn.metrics import classification_report, confusion_matrix, accuracy_score\n",
    "from sklearn.neural_network import MLPClassifier\n",
    "#from sklearn.metrics import accuracy_score\n",
    "\n",
    "\n",
    "prediction = mlp.predict(X_test)\n",
    "# compute the overall accuracy and display the classification report\n",
    "print(\"Model --> NEURAL NETWORK (NN)\")\n",
    "print(\"Overall Accuracy: {}\".format(accuracy_score(y_test, prediction)))\n",
    "cm = confusion_matrix(y_test,prediction)\n",
    "print('Confusion matrix: \\n',cm)\n",
    "print('Classification report: \\n',classification_report(y_test,prediction))\n"
   ]
  },
  {
   "cell_type": "markdown",
   "metadata": {},
   "source": [
    "Precision, recall and f1-score are metrics to measure the accuracy of classification models. A general explanation can be got in [Wikipedia](https://en.wikipedia.org/wiki/Evaluation_of_binary_classifiers)."
   ]
  },
  {
   "cell_type": "markdown",
   "metadata": {},
   "source": [
    "Looks like we misclassified 1422 digit's images, leaving us with a 89.84% accuracy rate (with 90% precision and 90% recall).\n",
    "\n",
    "If you do want to extract the MLP weights and biases after training your model, you use its public attributes coefs_ and intercepts_.\n",
    "\n",
    "<b>coefs_</b>is a list of weight matrices, where weight matrix at index i represents the weights between layer i and layer i+1.\n",
    "\n",
    "<b>intercepts_</b> is a list of bias vectors, where the vector at index i represents the bias values added to layer i+1."
   ]
  },
  {
   "cell_type": "code",
   "execution_count": 9,
   "metadata": {},
   "outputs": [
    {
     "data": {
      "text/plain": [
       "3"
      ]
     },
     "execution_count": 9,
     "metadata": {},
     "output_type": "execute_result"
    }
   ],
   "source": [
    "len(mlp.coefs_)"
   ]
  },
  {
   "cell_type": "code",
   "execution_count": 10,
   "metadata": {},
   "outputs": [
    {
     "data": {
      "text/plain": [
       "[array([[ 9.60888334e-243,  2.63443793e-242,  1.63742258e-242, ...,\n",
       "          2.62135788e-248,  2.85354244e-244,  1.29356226e-243],\n",
       "        [-5.81074585e-249, -1.39882699e-244,  1.90901638e-242, ...,\n",
       "         -4.77292375e-246, -3.21027308e-242,  8.81845281e-249],\n",
       "        [-1.97546114e-244,  2.87589506e-248, -6.97017510e-245, ...,\n",
       "         -4.48198433e-244,  1.41331372e-245, -1.45792721e-249],\n",
       "        ...,\n",
       "        [-1.34739769e-248, -4.98126981e-247,  9.57416815e-249, ...,\n",
       "          7.24648480e-247,  7.44622543e-245, -5.21786464e-243],\n",
       "        [-2.89146059e-250,  9.41086518e-242, -8.68046951e-247, ...,\n",
       "          2.03263489e-244,  2.57196180e-242, -1.28909927e-249],\n",
       "        [ 6.45799605e-247, -7.91338584e-250, -1.75720962e-247, ...,\n",
       "          1.20935843e-249, -9.06216706e-248, -1.99529584e-245]]),\n",
       " array([[ 0.25052344, -0.36966599,  0.27683375,  1.4818212 ,  1.29767826,\n",
       "         -1.03674985,  1.74836517, -0.60300324, -1.52107402, -0.16124084,\n",
       "         -0.7970972 ,  0.82655135, -0.99590171,  0.0871833 , -0.26122218,\n",
       "         -0.63343036],\n",
       "        [ 1.26724977,  0.53972053,  0.44952434, -0.68453093,  0.09587007,\n",
       "          0.43425843,  1.61910793, -0.16773361, -1.61410318,  0.15161435,\n",
       "         -0.62126477, -1.49142493,  0.71094339,  0.86871496,  1.87636742,\n",
       "          0.81465691],\n",
       "        [-0.85362028, -2.45655613, -0.52011076,  1.535529  , -0.90110033,\n",
       "          0.60653525, -1.66536207,  0.04536925,  1.02379289,  1.04418517,\n",
       "          1.08927143, -1.56691697,  1.80043985,  0.98544423, -0.35747192,\n",
       "         -1.22023971],\n",
       "        [ 0.369006  , -1.17692186, -1.85669009, -0.99230906, -2.26654604,\n",
       "          0.71250419,  2.09610081,  1.31087711, -0.75840259,  1.11661839,\n",
       "          0.20439537,  1.21403172, -0.8397994 ,  0.91503865,  1.21538885,\n",
       "         -1.54421274],\n",
       "        [-1.44065127,  0.18848513,  0.48933898, -1.09819682, -0.2267155 ,\n",
       "         -0.28465186, -1.09525504,  1.48887328,  1.44351823, -2.1782138 ,\n",
       "          1.3545495 ,  1.71573454,  2.0287714 , -1.81010261,  1.18757508,\n",
       "         -1.00875048],\n",
       "        [-0.75912501,  0.21610804, -1.60644217,  0.02437402,  0.55455763,\n",
       "         -0.81320798, -0.08776769, -1.60825201, -0.22832507, -0.49486426,\n",
       "          0.66422675, -0.76643244,  0.29810462,  0.18398704, -0.41194735,\n",
       "          1.72796234],\n",
       "        [-0.64576575, -3.41315107,  2.75851837,  3.26495499,  1.98646673,\n",
       "         -0.1604488 ,  1.34333332,  2.70778324,  0.68798206, -0.53031828,\n",
       "          0.49656217,  1.15985455, -0.14232056,  1.25618394, -0.18666201,\n",
       "         -1.47027901],\n",
       "        [ 0.56440069,  0.89584651, -0.68119611, -0.94366817, -1.19877101,\n",
       "         -1.388953  ,  0.49257518,  0.71504075,  0.0151206 ,  2.16230139,\n",
       "          1.61295939, -0.70052919, -0.79050139,  1.45291458, -1.66969058,\n",
       "          0.82007727],\n",
       "        [-1.20559954,  1.0719291 , -1.14114675,  0.50133372,  0.20990735,\n",
       "         -0.8733739 ,  0.12272362, -0.31866946, -0.44524717,  0.44637776,\n",
       "          1.1642326 ,  0.64208098,  1.10257925, -1.97663209,  0.02150512,\n",
       "         -0.2486188 ],\n",
       "        [ 1.05810768,  0.06082081,  1.14241029,  1.29407243, -0.09082271,\n",
       "          1.53235838, -0.31646607,  0.79041349,  0.13607589,  0.81894631,\n",
       "         -1.21584742,  0.30804581, -0.67478936, -0.72522047, -1.18382462,\n",
       "         -0.12687768],\n",
       "        [ 1.35048008, -1.83216809,  1.33991268, -1.1587498 ,  0.22361354,\n",
       "         -0.63238587,  0.66216304,  1.45604753, -1.30892675, -0.79562505,\n",
       "         -0.06389262, -0.81002932,  2.16213768,  0.8984045 ,  2.91087486,\n",
       "         -0.0714244 ],\n",
       "        [ 0.88873505, -0.32796902, -0.59009267, -0.78615444, -1.68084818,\n",
       "          2.04751197, -0.35301593,  0.57841126,  1.46032925, -0.39007741,\n",
       "         -0.99268426,  1.57679551, -1.58112754, -0.84856185,  0.59988087,\n",
       "         -0.08197558],\n",
       "        [-1.00074789, -0.80977648,  0.69750786,  1.0056033 ,  0.98792349,\n",
       "         -1.3763164 , -0.2264414 ,  0.16939216,  0.21673864,  1.093282  ,\n",
       "          1.70725639,  0.71498664,  0.11369912, -0.53253693, -1.15604554,\n",
       "         -0.15644682],\n",
       "        [-0.99668185,  0.58118416, -1.48981027, -0.18062114, -1.36907052,\n",
       "         -0.86405264,  1.1227665 , -1.23966162, -0.96018104,  0.76283569,\n",
       "          0.94132716,  0.19875769, -0.75090714,  0.2901808 , -0.69739382,\n",
       "          0.00691064],\n",
       "        [ 0.310203  , -0.86707132,  0.01389839,  1.34533887, -1.36460192,\n",
       "         -0.16173875, -0.55791929,  0.35571466, -0.24184788,  2.29724248,\n",
       "          0.50351218, -1.24559314,  1.61066003,  1.36587085,  0.94346992,\n",
       "         -1.16699888],\n",
       "        [ 1.12501183,  0.7733462 ,  0.90142467, -0.9991618 , -0.38974685,\n",
       "          0.37789177, -1.03743124, -0.52860611,  1.91293066, -0.66263691,\n",
       "         -0.52806606, -1.29381012,  1.07555587,  0.50582057,  0.29782969,\n",
       "          1.91710979]]),\n",
       " array([[-1.00846366,  1.12336525, -0.27681453,  1.14244144, -1.98624092,\n",
       "          0.04714254, -1.86883708, -0.94891655,  1.25829031,  0.78513932],\n",
       "        [ 0.29289811, -1.48992734, -1.15928113, -0.91576278,  1.35084995,\n",
       "          0.40818305,  1.87474921, -2.51094741,  1.10474873,  1.5472697 ],\n",
       "        [-0.9073555 ,  0.34330825,  1.19283739,  1.6269634 , -2.0087    ,\n",
       "         -0.43199114, -3.26358274, -0.40563787, -0.79375831,  1.23099315],\n",
       "        [ 2.12694215,  0.7976534 ,  0.25832894,  0.48955142, -1.52265602,\n",
       "         -2.38798972,  1.51354061,  1.28245245, -1.36225548, -2.09709289],\n",
       "        [-1.69101794, -2.00962135,  1.46760403,  2.05911815,  0.17826479,\n",
       "         -0.6643762 ,  0.81909739, -0.56935923, -0.83810386, -1.76820269],\n",
       "        [-1.09062541,  0.7584672 , -1.41773545,  0.22435822, -0.4649274 ,\n",
       "         -1.3317836 , -1.65350123,  1.5436818 ,  1.49240894,  0.76650074],\n",
       "        [-2.69833576,  1.14309922,  0.56333709,  0.65009445, -0.20856631,\n",
       "          0.9219422 ,  1.26006281, -1.67559555,  0.81640883, -2.37558749],\n",
       "        [-1.45145143,  0.78431041,  1.18130075, -0.53270232, -1.80666403,\n",
       "          0.23248179, -2.04425716,  1.31707549, -1.09350806,  0.8983533 ],\n",
       "        [ 1.81192556, -3.52897742,  0.43483469, -0.84166761,  1.18245245,\n",
       "         -0.98967732, -2.11713976,  1.37346875, -0.12659408,  1.0352409 ],\n",
       "        [ 1.01191299,  1.15100632,  0.23513206, -1.65964171, -2.44978349,\n",
       "          0.78154775,  1.17763372, -0.24830873,  0.89205678, -0.682584  ],\n",
       "        [ 0.80286063, -1.80091257,  0.28902186, -1.57155586,  0.93450127,\n",
       "          1.14995499,  1.38921354,  0.75870617, -1.52378566, -1.2423057 ],\n",
       "        [-2.45889513,  0.61283439,  1.15039203, -2.14426539,  2.07117633,\n",
       "         -2.60034627,  0.46872951,  1.20112231, -0.64927001,  0.63334961],\n",
       "        [ 0.99024217, -1.65510998, -1.65859919,  0.99227326,  0.550432  ,\n",
       "          1.56671006, -0.87669418,  0.87540054, -3.03052967,  0.74167453],\n",
       "        [ 1.28499283,  0.92802415,  0.68718388,  0.4031027 , -2.37672695,\n",
       "          1.27023591, -0.96903384, -2.04817334,  0.7224247 , -1.61295479],\n",
       "        [-2.94458238,  1.96234588, -2.62007542,  0.79443595,  1.22239998,\n",
       "          1.82202901, -1.7368081 ,  0.67222759,  0.14147759,  0.06714383],\n",
       "        [ 0.77796434, -2.62425422, -0.40088662,  0.43670804,  1.1673958 ,\n",
       "          0.06114334,  0.47537621, -2.16275776,  1.50530627,  0.37635703]])]"
      ]
     },
     "execution_count": 10,
     "metadata": {},
     "output_type": "execute_result"
    }
   ],
   "source": [
    "mlp.coefs_"
   ]
  },
  {
   "cell_type": "code",
   "execution_count": 11,
   "metadata": {},
   "outputs": [
    {
     "data": {
      "text/plain": [
       "784"
      ]
     },
     "execution_count": 11,
     "metadata": {},
     "output_type": "execute_result"
    }
   ],
   "source": [
    "len(mlp.coefs_[0])"
   ]
  },
  {
   "cell_type": "code",
   "execution_count": 12,
   "metadata": {},
   "outputs": [
    {
     "data": {
      "text/plain": [
       "array([[ 9.60888334e-243,  2.63443793e-242,  1.63742258e-242, ...,\n",
       "         2.62135788e-248,  2.85354244e-244,  1.29356226e-243],\n",
       "       [-5.81074585e-249, -1.39882699e-244,  1.90901638e-242, ...,\n",
       "        -4.77292375e-246, -3.21027308e-242,  8.81845281e-249],\n",
       "       [-1.97546114e-244,  2.87589506e-248, -6.97017510e-245, ...,\n",
       "        -4.48198433e-244,  1.41331372e-245, -1.45792721e-249],\n",
       "       ...,\n",
       "       [-1.34739769e-248, -4.98126981e-247,  9.57416815e-249, ...,\n",
       "         7.24648480e-247,  7.44622543e-245, -5.21786464e-243],\n",
       "       [-2.89146059e-250,  9.41086518e-242, -8.68046951e-247, ...,\n",
       "         2.03263489e-244,  2.57196180e-242, -1.28909927e-249],\n",
       "       [ 6.45799605e-247, -7.91338584e-250, -1.75720962e-247, ...,\n",
       "         1.20935843e-249, -9.06216706e-248, -1.99529584e-245]])"
      ]
     },
     "execution_count": 12,
     "metadata": {},
     "output_type": "execute_result"
    }
   ],
   "source": [
    "mlp.coefs_[0]"
   ]
  },
  {
   "cell_type": "markdown",
   "metadata": {},
   "source": [
    "## Make Predictions"
   ]
  },
  {
   "cell_type": "markdown",
   "metadata": {},
   "source": [
    "### Based on the training dataset"
   ]
  },
  {
   "cell_type": "code",
   "execution_count": 11,
   "metadata": {},
   "outputs": [
    {
     "name": "stdout",
     "output_type": "stream",
     "text": [
      "Prediction: {} [0 6 7 ... 6 6 3]\n",
      "Total running time (H: M: S. ThS) 0:00:00.751043 seconds.\n"
     ]
    }
   ],
   "source": [
    "startTime = datetime.now()\n",
    "prediction = mlp.predict(X_train)\n",
    "print('Prediction: {}', prediction)\n",
    "print ('Total running time (H: M: S. ThS)', datetime.now()-startTime, 'seconds.')"
   ]
  },
  {
   "cell_type": "markdown",
   "metadata": {},
   "source": [
    "### Based on the test dataset"
   ]
  },
  {
   "cell_type": "markdown",
   "metadata": {},
   "source": [
    "Now we used the function predict which is regularly the one to be used to get the predictions on a new dataset. In our case, the new dataset is the X_test one.\n"
   ]
  },
  {
   "cell_type": "code",
   "execution_count": 12,
   "metadata": {},
   "outputs": [
    {
     "name": "stdout",
     "output_type": "stream",
     "text": [
      "Total running time (H: M: S: ThS) 0:03:35.998355 seconds.\n"
     ]
    }
   ],
   "source": [
    "# train your model using all data.\n",
    "startTime = datetime.now()\n",
    "mlp = MLPClassifier()\n",
    "mlp.fit(X, y) \n",
    "print ('Total running time (H: M: S: ThS)', datetime.now()-startTime, 'seconds.')\n"
   ]
  },
  {
   "cell_type": "code",
   "execution_count": 15,
   "metadata": {},
   "outputs": [
    {
     "name": "stdout",
     "output_type": "stream",
     "text": [
      "Prediction: {} [0 6 5 ... 7 4 8]\n"
     ]
    }
   ],
   "source": [
    "predictions = mlp.predict(X_test)\n",
    "print('Prediction: {}', predictions)"
   ]
  },
  {
   "cell_type": "markdown",
   "metadata": {
    "collapsed": true
   },
   "source": [
    "<hr>\n",
    "By: Hector Alvaro Rojas &nbsp;&nbsp;|&nbsp;&nbsp; Data Science, Visualizations and Applied Statistics &nbsp;&nbsp;|&nbsp;&nbsp; April 14, 2018<br>\n",
    "    Url: [http://www.arqmain.net]   &nbsp;&nbsp;&nbsp;|&nbsp;&nbsp;&nbsp;   GitHub: [https://github.com/arqmain]\n",
    "    <hr>"
   ]
  }
 ],
 "metadata": {
  "kernelspec": {
   "display_name": "Python 3",
   "language": "python",
   "name": "python3"
  },
  "language_info": {
   "codemirror_mode": {
    "name": "ipython",
    "version": 3
   },
   "file_extension": ".py",
   "mimetype": "text/x-python",
   "name": "python",
   "nbconvert_exporter": "python",
   "pygments_lexer": "ipython3",
   "version": "3.6.4"
  }
 },
 "nbformat": 4,
 "nbformat_minor": 2
}
