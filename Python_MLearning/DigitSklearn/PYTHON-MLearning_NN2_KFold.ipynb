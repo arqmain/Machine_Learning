{
 "cells": [
  {
   "cell_type": "markdown",
   "metadata": {},
   "source": [
    "## Python-MLearning: Digits recognition using Neural Network (NN) and Sklearn Library\n",
    "\n",
    "## Model: Digits 0-9 approach using K fold cross-validation\n",
    "\n",
    "By: Hector Alvaro Rojas &nbsp;&nbsp;|&nbsp;&nbsp; Data Science, Visualizations and Applied Statistics &nbsp;&nbsp;|&nbsp;&nbsp; April 17, 2018<br>\n",
    "    Url: [http://www.arqmain.net]   &nbsp;&nbsp;&nbsp;|&nbsp;&nbsp;&nbsp;   GitHub: [https://github.com/arqmain]\n",
    "    <hr>"
   ]
  },
  {
   "cell_type": "markdown",
   "metadata": {},
   "source": [
    "## I IMPORT REQUIRED PACKAGES"
   ]
  },
  {
   "cell_type": "code",
   "execution_count": 16,
   "metadata": {},
   "outputs": [],
   "source": [
    "%matplotlib inline\n",
    "import os\n",
    "import numpy as np # linear algebra\n",
    "import pandas as pd # data processing, CSV file I/O (e.g. pd.read_csv)\n",
    "import matplotlib.pyplot as plt\n",
    "import seaborn as sns\n",
    "from sklearn.model_selection import train_test_split\n",
    "from sklearn.neural_network import MLPClassifier\n",
    "from sklearn.metrics import classification_report, confusion_matrix, accuracy_score\n",
    "from sklearn.model_selection import KFold, cross_val_score, cross_val_predict\n",
    "from sklearn import metrics\n",
    "from datetime import datetime\n"
   ]
  },
  {
   "cell_type": "markdown",
   "metadata": {},
   "source": [
    "## II LOADING DATA"
   ]
  },
  {
   "cell_type": "code",
   "execution_count": 17,
   "metadata": {},
   "outputs": [
    {
     "data": {
      "text/plain": [
       "'C:\\\\Users\\\\Alvaro\\\\Documents\\\\R-Python-Projects_April042018\\\\Python_Projects\\\\Machine-Learning\\\\NNetwork\\\\NN2\\\\Backup-Python'"
      ]
     },
     "execution_count": 17,
     "metadata": {},
     "output_type": "execute_result"
    }
   ],
   "source": [
    "#Checking working directory\n",
    "# import os\n",
    "os.getcwd()"
   ]
  },
  {
   "cell_type": "code",
   "execution_count": 3,
   "metadata": {},
   "outputs": [
    {
     "data": {
      "text/plain": [
       "['.ipynb_checkpoints',\n",
       " 'For  RandomizedSearchCV July172018.txt',\n",
       " 'mnist_My.csv',\n",
       " 'Nueva carpeta',\n",
       " 'PYTHON-MLearning_NN2.ipynb',\n",
       " 'PYTHON-MLearning_NN2_GridSearchCV.ipynb',\n",
       " 'PYTHON-MLearning_NN2_KFold.ipynb',\n",
       " 'PYTHON-MLearning_NN2_RandomizedSearchCV.ipynb']"
      ]
     },
     "execution_count": 3,
     "metadata": {},
     "output_type": "execute_result"
    }
   ],
   "source": [
    "#List files in a directory\n",
    "os.listdir()"
   ]
  },
  {
   "cell_type": "code",
   "execution_count": 18,
   "metadata": {},
   "outputs": [
    {
     "name": "stdout",
     "output_type": "stream",
     "text": [
      "Total running time (H: M: S. ThS) 0:00:13.550775 seconds.\n"
     ]
    }
   ],
   "source": [
    "# read csv (comma separated value) into data\n",
    "startTime = datetime.now()\n",
    "data=pd.read_csv('mnist_My.csv')\n",
    "df=data\n",
    "df.columns\n",
    "print ('Total running time (H: M: S. ThS)', datetime.now()-startTime, 'seconds.')"
   ]
  },
  {
   "cell_type": "markdown",
   "metadata": {},
   "source": [
    "Now, we will do a grid searching in order to get an adequate NN model to be fitted to the data. There are various options associated with NN classification object, like \"activation\", \"Number of Layers\" , and \"Number of Neurons in a layer\" etc. All of this form part of the tune possibilities of the model.  You can view the full list of tunable parameters [here](http://scikit-learn.org/stable/modules/generated/sklearn.neural_network.MLPClassifier.html#sklearn.neural_network.MLPClassifier).\n",
    "\n",
    "To present the k fold cross-validation method, we will set up values only for some of the more important parameters of the model .\n"
   ]
  },
  {
   "cell_type": "markdown",
   "metadata": {
    "collapsed": true
   },
   "source": [
    "## III NN MODELING"
   ]
  },
  {
   "cell_type": "markdown",
   "metadata": {},
   "source": [
    "## Train and Validation Datasets"
   ]
  },
  {
   "cell_type": "code",
   "execution_count": 19,
   "metadata": {},
   "outputs": [
    {
     "name": "stdout",
     "output_type": "stream",
     "text": [
      "X Shape ::  (70000, 784)\n",
      "y ::  (70000,)\n",
      "X_train Shape ::  (56000, 784)\n",
      "y_train Shape ::  (56000,)\n",
      "X_test Shape ::  (14000, 784)\n",
      "y_test Shape ::  (14000,)\n"
     ]
    }
   ],
   "source": [
    "# train test split\n",
    "X=data.iloc[:,1:]\n",
    "y=data.iloc[:,0]\n",
    "\n",
    "X_train, X_test, y_train, y_test = train_test_split(X, y, test_size=0.2, random_state=4)\n",
    "\n",
    "# Train and Test dataset size details\n",
    "print(\"X Shape :: \", X.shape)\n",
    "print(\"y :: \", y.shape)\n",
    "print(\"X_train Shape :: \", X_train.shape)\n",
    "print(\"y_train Shape :: \", y_train.shape)\n",
    "print(\"X_test Shape :: \", X_test.shape)\n",
    "print(\"y_test Shape :: \", y_test.shape)\n"
   ]
  },
  {
   "cell_type": "markdown",
   "metadata": {},
   "source": [
    "## Build Model"
   ]
  },
  {
   "cell_type": "markdown",
   "metadata": {},
   "source": [
    "### Fit the model and evaluate it"
   ]
  },
  {
   "cell_type": "markdown",
   "metadata": {},
   "source": [
    "#### Fitting the Model"
   ]
  },
  {
   "cell_type": "code",
   "execution_count": 20,
   "metadata": {},
   "outputs": [
    {
     "name": "stdout",
     "output_type": "stream",
     "text": [
      "Total running time (H: M: S. ThS) 0:05:26.518676 seconds.\n"
     ]
    }
   ],
   "source": [
    "# Fitting NN model\n",
    "from sklearn.neural_network import MLPClassifier\n",
    "startTime = datetime.now()\n",
    "mlp = MLPClassifier(solver='lbfgs', activation = 'logistic', hidden_layer_sizes=(16,16))\n",
    "mlp.fit(X_train, y_train)\n",
    "print ('Total running time (H: M: S. ThS)', datetime.now()-startTime, 'seconds.')\n"
   ]
  },
  {
   "cell_type": "markdown",
   "metadata": {},
   "source": [
    "#### Evaluating the Model"
   ]
  },
  {
   "cell_type": "code",
   "execution_count": 21,
   "metadata": {},
   "outputs": [
    {
     "name": "stdout",
     "output_type": "stream",
     "text": [
      "Cross-validated scores: [0.85360758 0.81469974 0.86530219]\n",
      "Total running time (H: M: S. ThS) 0:10:27.429887 seconds.\n"
     ]
    }
   ],
   "source": [
    "# Perform 10-fold cross validation\n",
    "startTime = datetime.now()\n",
    "scores = cross_val_score(mlp, X_train, y_train, cv=3)\n",
    "print (\"Cross-validated scores:\", scores)\n",
    "print ('Total running time (H: M: S. ThS)', datetime.now()-startTime, 'seconds.')\n"
   ]
  },
  {
   "cell_type": "code",
   "execution_count": 24,
   "metadata": {},
   "outputs": [
    {
     "name": "stdout",
     "output_type": "stream",
     "text": [
      "Accuracy: 0.8445   StDev: 0.0216  2StDev: (+/- 0.0433)\n"
     ]
    }
   ],
   "source": [
    "print(\"Accuracy: %0.4f   StDev: %0.4f  2StDev: (+/- %0.4f)\" % (scores.mean(), scores.std(),scores.std() * 2))\n",
    "#Accuracy: 0.98 (+/- 0.03)\n"
   ]
  },
  {
   "cell_type": "code",
   "execution_count": 25,
   "metadata": {},
   "outputs": [
    {
     "name": "stdout",
     "output_type": "stream",
     "text": [
      "Accuracy based on X_test, Y_test:  0.8580714285714286\n",
      "\n",
      "Confusion Matrix:\n",
      "  [[1282    0    6   11    1   35   26    3   14    0]\n",
      " [   0 1530   22    8    3    8    2    4   15    0]\n",
      " [  30   11 1143   46   21   12   18   32   54    0]\n",
      " [  18    4   65 1146    2   87    7   20   62   13]\n",
      " [   7   11   16    0 1081    4   18    4   20  201]\n",
      " [  47   10    8   43    3 1038   28   12   63   12]\n",
      " [  29    4   26    0   17   22 1305    0    9    1]\n",
      " [   4   16   25    5   14    9    1 1265   15   37]\n",
      " [  14   23   57   38   17   67   11   15 1068   37]\n",
      " [  13    4   14   15  135   17    0   71   38 1155]]\n",
      "             precision    recall  f1-score   support\n",
      "\n",
      "          0       0.89      0.93      0.91      1378\n",
      "          1       0.95      0.96      0.95      1592\n",
      "          2       0.83      0.84      0.83      1367\n",
      "          3       0.87      0.80      0.84      1424\n",
      "          4       0.84      0.79      0.81      1362\n",
      "          5       0.80      0.82      0.81      1264\n",
      "          6       0.92      0.92      0.92      1413\n",
      "          7       0.89      0.91      0.90      1391\n",
      "          8       0.79      0.79      0.79      1347\n",
      "          9       0.79      0.79      0.79      1462\n",
      "\n",
      "avg / total       0.86      0.86      0.86     14000\n",
      "\n"
     ]
    }
   ],
   "source": [
    "predictions = mlp.predict(X_test)\n",
    "print('Accuracy based on X_test, Y_test: ',accuracy_score(y_test, predictions))\n",
    "print('')\n",
    "print('Confusion Matrix:\\n ',confusion_matrix(y_test, predictions))\n",
    "print(classification_report(y_test, predictions))"
   ]
  },
  {
   "cell_type": "markdown",
   "metadata": {
    "collapsed": true
   },
   "source": [
    "Precision, recall and f1-score are metrics to measure the accuracy of classification models. A general explanation can be got in [Wikipedia](https://en.wikipedia.org/wiki/Evaluation_of_binary_classifiers)."
   ]
  },
  {
   "cell_type": "markdown",
   "metadata": {
    "collapsed": true
   },
   "source": [
    "Looks like we misclassified 1987 digit's images, leaving us with a 85.81% accuracy rate (with 86% precision and 86% recall).\n",
    "\n",
    "If you do want to extract the MLP weights and biases after training your model, you use its public attributes coefs_ and intercepts_.\n",
    "\n",
    "<b>coefs_</b>is a list of weight matrices, where weight matrix at index i represents the weights between layer i and layer i+1.\n",
    "\n",
    "<b>intercepts_</b> is a list of bias vectors, where the vector at index i represents the bias values added to layer i+1."
   ]
  },
  {
   "cell_type": "code",
   "execution_count": 26,
   "metadata": {},
   "outputs": [
    {
     "data": {
      "text/plain": [
       "3"
      ]
     },
     "execution_count": 26,
     "metadata": {},
     "output_type": "execute_result"
    }
   ],
   "source": [
    "len(mlp.coefs_)"
   ]
  },
  {
   "cell_type": "code",
   "execution_count": 27,
   "metadata": {},
   "outputs": [
    {
     "data": {
      "text/plain": [
       "[array([[ 0.03244925, -0.00831409, -0.03154424, ...,  0.04295491,\n",
       "         -0.01714564,  0.00537021],\n",
       "        [-0.03426557,  0.01500194, -0.02067342, ..., -0.00354121,\n",
       "         -0.0210884 , -0.00973014],\n",
       "        [ 0.00945931,  0.00598189,  0.0456612 , ..., -0.00076483,\n",
       "         -0.01948036,  0.02889062],\n",
       "        ...,\n",
       "        [ 0.01956118,  0.04396216,  0.03116761, ...,  0.04457343,\n",
       "         -0.0202273 ,  0.03332531],\n",
       "        [ 0.02083884, -0.0217364 ,  0.04130112, ..., -0.04610477,\n",
       "         -0.01940277,  0.01405071],\n",
       "        [ 0.0088554 , -0.01302614, -0.04121046, ..., -0.00144927,\n",
       "          0.03681263,  0.02309513]]),\n",
       " array([[-1.45326529e+00, -1.48109285e+00, -5.16223918e-01,\n",
       "         -6.07205950e-01,  1.56829362e+00, -8.88700218e-01,\n",
       "          2.06141152e+00,  6.34843742e-01, -2.57519179e+00,\n",
       "          1.65067471e+00, -1.06858274e+00, -2.98175951e+00,\n",
       "         -5.06229308e-01,  2.46127643e-01, -7.59990757e-01,\n",
       "         -1.06837855e+00],\n",
       "        [ 2.60320813e-01, -5.00963822e-01,  3.42731712e+00,\n",
       "         -1.78325671e+00, -2.11834831e+00, -1.63901260e+00,\n",
       "         -1.46268196e+00, -1.93893583e-01,  3.44498543e-01,\n",
       "          1.20153911e+00, -1.05284177e+00,  6.04379016e-01,\n",
       "         -1.49519463e+00,  1.54239641e+00, -1.30230084e+00,\n",
       "         -1.85885744e+00],\n",
       "        [ 1.45961838e-01, -3.70988050e-02, -9.08835173e-01,\n",
       "         -1.47893536e-01,  1.23055005e-01, -2.73629765e-01,\n",
       "          9.03730653e-01, -9.61938847e-01,  1.04986091e+00,\n",
       "         -7.64282462e-01,  3.13575993e-01,  5.02005299e-01,\n",
       "          4.91126740e-01,  4.48651387e-01, -3.24098451e-01,\n",
       "          5.94972425e-01],\n",
       "        [-2.39366603e+00, -4.96297904e-01,  1.97561485e-01,\n",
       "         -4.35766995e-01,  4.24481264e-01,  1.06100320e+00,\n",
       "         -9.52104734e-01,  5.78038841e-01, -1.88200707e+00,\n",
       "         -8.14283524e-02, -2.56018116e+00, -6.50281059e-01,\n",
       "          7.16721504e-02,  6.45523313e-01, -4.53253863e-01,\n",
       "          1.58466266e+00],\n",
       "        [ 6.39566343e-01, -1.63856567e+00, -2.01865062e+00,\n",
       "          3.02371294e-02,  3.81402197e-01, -2.37694423e-01,\n",
       "          1.54772719e+00,  9.56558979e-01, -9.60116771e-01,\n",
       "         -3.08750172e+00, -2.76637833e-01, -8.52342018e-01,\n",
       "          6.89025218e-02,  1.97471693e+00,  6.68682769e-01,\n",
       "         -6.26333933e-01],\n",
       "        [-1.24752388e+00,  2.09850282e+00, -5.13430491e-01,\n",
       "         -5.68326443e-02, -1.07561120e+00,  6.72167040e-01,\n",
       "         -1.94708273e+00, -1.82137129e+00,  3.35523568e-01,\n",
       "         -1.77434693e+00, -2.36577973e-01,  5.26043743e-01,\n",
       "          3.45744852e-01, -5.09585620e-01,  2.09923429e+00,\n",
       "          7.27147923e-01],\n",
       "        [ 6.10650818e-02,  5.72324087e-01,  1.48031314e+00,\n",
       "         -2.29012372e+00,  9.63984971e-01,  5.23164651e-01,\n",
       "          2.06127536e+00,  5.11372436e-01, -2.39084652e-01,\n",
       "          1.02455431e-01, -1.75169221e+00,  1.43490599e+00,\n",
       "         -2.57656329e+00, -2.31806090e+00, -3.88902702e-01,\n",
       "         -1.46958769e+00],\n",
       "        [ 1.05116936e+00, -1.31435361e+00,  1.10430548e+00,\n",
       "         -7.86827963e-01, -1.46477699e+00,  2.92652393e-01,\n",
       "         -1.62503130e+00,  6.55873501e-01, -1.07390397e+00,\n",
       "         -2.90086211e-01, -7.45992369e-01,  4.11111759e-01,\n",
       "         -1.62658238e+00,  3.66580587e+00, -2.16637373e+00,\n",
       "         -3.74315195e-01],\n",
       "        [-4.44858347e-01, -1.11371220e+00, -3.62600180e+00,\n",
       "         -1.52498894e+00, -1.50726205e+00, -1.00988551e+00,\n",
       "          1.22833856e-01, -5.27668677e-01,  2.69318131e-01,\n",
       "         -2.24391943e-01,  2.85149567e+00, -2.54357994e+00,\n",
       "         -4.44699058e-01, -2.79906080e-01,  7.67381036e-01,\n",
       "          1.51239970e+00],\n",
       "        [ 6.58511137e-01,  5.28044808e-01,  2.21140780e+00,\n",
       "          2.22527323e+00, -3.62071722e-01, -2.14050112e+00,\n",
       "         -2.72835638e+00,  1.05087444e+00,  2.36067440e+00,\n",
       "          8.17982688e-01, -2.76600938e-01,  2.31453232e+00,\n",
       "          1.80886254e+00, -9.91910341e-01, -5.49337338e-01,\n",
       "         -1.16086504e+00],\n",
       "        [-2.12733201e+00, -2.27315236e-01, -1.11197506e-01,\n",
       "         -1.03649751e+00, -1.97386330e+00, -1.42730170e-01,\n",
       "         -1.51805475e+00, -5.85372973e-01, -4.71694565e-01,\n",
       "          1.10918484e+00,  5.12995581e-02, -7.91085652e-01,\n",
       "          1.39585676e-01,  1.30357250e+00, -2.84470106e-01,\n",
       "         -4.33080618e-01],\n",
       "        [ 1.78349954e+00, -1.60155092e+00, -2.02307471e-01,\n",
       "          2.56327581e+00, -7.19723281e-01, -1.60042144e+00,\n",
       "         -1.53430073e+00,  1.28131429e+00,  9.44041333e-01,\n",
       "          9.62979124e-01,  2.19623322e+00, -5.38247795e-01,\n",
       "          3.98036492e-01,  5.37646319e-01, -1.56233201e+00,\n",
       "         -8.19315556e-01],\n",
       "        [ 2.48901621e+00, -1.46020330e+00, -3.88757535e-01,\n",
       "         -3.34984821e-01,  1.03970402e+00, -6.85584228e-01,\n",
       "          3.08737175e+00,  1.77971950e-01, -1.03964186e-01,\n",
       "          1.05496937e+00,  2.96145924e-01,  1.51132391e+00,\n",
       "          9.60032984e-01,  5.06878772e-01, -2.17450401e+00,\n",
       "         -1.27079858e+00],\n",
       "        [ 7.71482692e-02,  2.63180786e-01, -6.86850924e-01,\n",
       "         -1.55150275e-01,  6.53931629e-02, -5.98355425e-01,\n",
       "          5.35351182e-01, -8.28679034e-01,  1.11933161e+00,\n",
       "         -6.17458148e-01,  2.13494637e-01,  2.97231290e-02,\n",
       "          4.53033773e-01, -1.28043513e-03, -6.53781032e-02,\n",
       "          5.53825643e-01],\n",
       "        [ 1.82842287e+00,  8.92633023e-01,  1.10866722e+00,\n",
       "          1.47628297e+00,  1.10006705e+00,  6.29027842e-01,\n",
       "         -1.53148772e-01,  2.50761714e+00, -1.58920073e+00,\n",
       "         -2.22383947e+00, -6.77294538e-01,  9.57668279e-01,\n",
       "         -1.09805921e+00,  1.62788090e+00, -1.35874806e+00,\n",
       "          1.05875933e+00],\n",
       "        [ 1.31733412e+00, -7.03650064e-01,  3.43362199e-01,\n",
       "         -5.10241549e-01, -1.12308539e-01, -1.43485898e-01,\n",
       "          1.53678747e+00,  9.19177531e-01, -1.56812809e-01,\n",
       "          9.49461722e-01, -6.10375977e-01,  5.52105846e-01,\n",
       "         -3.90616984e-01,  2.18555788e-01, -1.16057494e+00,\n",
       "         -1.82184876e+00]]),\n",
       " array([[-4.02989365e+00,  1.64291134e+00, -6.13970062e-01,\n",
       "         -1.25084599e+00,  7.64063145e-01,  4.16736148e-01,\n",
       "         -1.55166559e+00,  1.67889450e+00,  2.31453728e+00,\n",
       "          5.66417937e-01],\n",
       "        [ 1.50980362e+00, -7.95175368e-01,  3.58347125e-01,\n",
       "         -1.26890437e+00,  1.77802820e+00, -1.41880894e+00,\n",
       "          1.51910232e+00, -1.01008908e+00, -4.29279642e-01,\n",
       "          6.32214304e-01],\n",
       "        [ 2.50870659e+00, -1.59238312e+00, -2.73421351e-02,\n",
       "          1.67864385e+00, -1.67607491e+00, -4.52478147e-01,\n",
       "         -1.73666094e+00,  1.43204651e+00,  5.64602360e-01,\n",
       "         -9.77334073e-01],\n",
       "        [-1.10563556e+00, -2.12314884e+00, -7.63039318e-01,\n",
       "          9.55029698e-01,  1.71265947e+00,  1.69313485e-01,\n",
       "          7.07123420e-01, -2.81949862e+00,  1.04928082e+00,\n",
       "          1.98753180e+00],\n",
       "        [-1.00578728e+00, -3.24612784e+00,  1.28244280e-01,\n",
       "         -6.04339532e-01,  2.72360730e+00, -6.93404703e-01,\n",
       "         -4.35313779e-01,  1.74568147e+00, -1.75700242e+00,\n",
       "          3.45076499e+00],\n",
       "        [ 3.89214296e-01, -1.57358543e+00,  2.64984199e+00,\n",
       "         -6.05824191e-01,  8.04391690e-01, -8.64399354e-01,\n",
       "          8.80908572e-01, -1.45571985e+00,  4.46988787e-01,\n",
       "          8.02357632e-01],\n",
       "        [-4.98207298e+00,  1.88079629e+00, -8.58082578e-01,\n",
       "         -3.84744168e-01,  2.39039661e+00, -1.84174430e+00,\n",
       "          6.65866430e-01,  4.12976915e+00, -2.11200475e+00,\n",
       "          1.57953413e+00],\n",
       "        [-2.44568599e+00,  6.73893091e-01,  7.38205285e-01,\n",
       "          3.16533042e+00, -1.95946453e+00,  1.49193774e-01,\n",
       "         -1.44312221e+00,  1.06046328e-01,  1.06120476e+00,\n",
       "         -6.46908585e-02],\n",
       "        [ 2.49486454e+00, -2.53440372e+00, -1.70046531e+00,\n",
       "         -1.96731166e+00,  2.16913988e-01,  1.35186453e+00,\n",
       "          1.33772282e+00,  2.66774524e-01, -3.91354476e-03,\n",
       "          7.96681140e-01],\n",
       "        [-2.60817667e-01,  2.43229682e+00, -2.75637918e+00,\n",
       "          2.10659681e+00, -1.26491087e+00,  3.36938825e+00,\n",
       "         -1.14322853e-01,  4.77716093e-01, -2.96508268e+00,\n",
       "         -2.18973900e-01],\n",
       "        [ 8.05642866e-03,  2.01863962e+00, -1.05418103e+00,\n",
       "         -2.17288360e+00,  4.50213069e-01,  1.60002805e+00,\n",
       "          2.84983916e+00, -2.26919506e+00,  3.04337702e-01,\n",
       "         -1.24055751e+00],\n",
       "        [ 2.89982647e+00, -2.98494468e+00, -4.14913038e-01,\n",
       "         -1.86933720e+00,  6.45386467e-01,  4.74019361e-01,\n",
       "         -2.34041337e+00,  1.64645144e+00,  8.78491932e-02,\n",
       "          1.75376234e+00],\n",
       "        [ 9.71302086e-01, -8.46511004e-02, -6.44317163e-01,\n",
       "          1.26703647e+00,  3.88021656e-01,  1.01345743e+00,\n",
       "          9.50674058e-01, -2.58388317e+00, -2.03937447e-01,\n",
       "          2.55961075e-01],\n",
       "        [-1.08057474e+00,  1.37936135e+00,  4.05768336e+00,\n",
       "          1.83220464e+00, -2.56077298e+00, -5.12641170e-01,\n",
       "         -1.86115988e+00, -1.86816650e+00,  2.07676262e+00,\n",
       "         -1.54330374e+00],\n",
       "        [ 2.19361989e+00, -7.93057047e-01, -4.42302254e-01,\n",
       "          1.12089195e+00, -5.62198478e-01,  3.54825588e-01,\n",
       "          2.25531327e+00, -2.87889256e+00,  1.16346342e-01,\n",
       "         -1.36692647e+00],\n",
       "        [-3.51196960e-01, -1.84348292e+00,  2.71272713e+00,\n",
       "          3.49126027e-02,  2.20455516e+00, -2.70564798e-01,\n",
       "          1.85172267e+00, -2.31199287e+00, -7.20203939e-01,\n",
       "         -1.44049702e+00]])]"
      ]
     },
     "execution_count": 27,
     "metadata": {},
     "output_type": "execute_result"
    }
   ],
   "source": [
    "mlp.coefs_"
   ]
  },
  {
   "cell_type": "code",
   "execution_count": 28,
   "metadata": {},
   "outputs": [
    {
     "data": {
      "text/plain": [
       "784"
      ]
     },
     "execution_count": 28,
     "metadata": {},
     "output_type": "execute_result"
    }
   ],
   "source": [
    "len(mlp.coefs_[0])"
   ]
  },
  {
   "cell_type": "code",
   "execution_count": 29,
   "metadata": {},
   "outputs": [
    {
     "data": {
      "text/plain": [
       "array([[ 0.03244925, -0.00831409, -0.03154424, ...,  0.04295491,\n",
       "        -0.01714564,  0.00537021],\n",
       "       [-0.03426557,  0.01500194, -0.02067342, ..., -0.00354121,\n",
       "        -0.0210884 , -0.00973014],\n",
       "       [ 0.00945931,  0.00598189,  0.0456612 , ..., -0.00076483,\n",
       "        -0.01948036,  0.02889062],\n",
       "       ...,\n",
       "       [ 0.01956118,  0.04396216,  0.03116761, ...,  0.04457343,\n",
       "        -0.0202273 ,  0.03332531],\n",
       "       [ 0.02083884, -0.0217364 ,  0.04130112, ..., -0.04610477,\n",
       "        -0.01940277,  0.01405071],\n",
       "       [ 0.0088554 , -0.01302614, -0.04121046, ..., -0.00144927,\n",
       "         0.03681263,  0.02309513]])"
      ]
     },
     "execution_count": 29,
     "metadata": {},
     "output_type": "execute_result"
    }
   ],
   "source": [
    "mlp.coefs_[0]"
   ]
  },
  {
   "cell_type": "markdown",
   "metadata": {},
   "source": [
    "## Make Predictions"
   ]
  },
  {
   "cell_type": "markdown",
   "metadata": {},
   "source": [
    "### Based on the training dataset"
   ]
  },
  {
   "cell_type": "markdown",
   "metadata": {},
   "source": [
    "The function cross_val_predict has a similar interface to cross_val_score, but returns, for each element in the input, the prediction that was obtained for that element when it was in the test set obtained from the partition over X_train (in our case)."
   ]
  },
  {
   "cell_type": "code",
   "execution_count": 30,
   "metadata": {},
   "outputs": [
    {
     "name": "stdout",
     "output_type": "stream",
     "text": [
      "Prediction: {} [0 6 4 ... 6 6 7]\n"
     ]
    }
   ],
   "source": [
    "predictions = cross_val_predict(mlp, X_train, y_train, cv=3)\n",
    "print('Prediction: {}', predictions)"
   ]
  },
  {
   "cell_type": "markdown",
   "metadata": {},
   "source": [
    "### Based on the test dataset"
   ]
  },
  {
   "cell_type": "markdown",
   "metadata": {},
   "source": [
    "Now we used the function predict which is regularly the one to be used to get the predictions on a new dataset.  In our case, the new dataset is the X_test one. "
   ]
  },
  {
   "cell_type": "code",
   "execution_count": 31,
   "metadata": {},
   "outputs": [
    {
     "name": "stdout",
     "output_type": "stream",
     "text": [
      "Total running time (H: M: S: ThS) 0:03:45.092875 seconds.\n"
     ]
    }
   ],
   "source": [
    "# train your model using all data.\n",
    "startTime = datetime.now()\n",
    "mlp = MLPClassifier()\n",
    "mlp.fit(X, y) \n",
    "print ('Total running time (H: M: S: ThS)', datetime.now()-startTime, 'seconds.')\n"
   ]
  },
  {
   "cell_type": "code",
   "execution_count": 32,
   "metadata": {},
   "outputs": [
    {
     "name": "stdout",
     "output_type": "stream",
     "text": [
      "Prediction: {} [0 6 5 ... 7 4 8]\n"
     ]
    }
   ],
   "source": [
    "predictions = mlp.predict(X_test)\n",
    "print('Prediction: {}', predictions)"
   ]
  },
  {
   "cell_type": "markdown",
   "metadata": {
    "collapsed": true
   },
   "source": [
    "<hr>\n",
    "By: Hector Alvaro Rojas &nbsp;&nbsp;|&nbsp;&nbsp; Data Science, Visualizations and Applied Statistics &nbsp;&nbsp;|&nbsp;&nbsp; April 17, 2018<br>\n",
    "    Url: [http://www.arqmain.net]   &nbsp;&nbsp;&nbsp;|&nbsp;&nbsp;&nbsp;   GitHub: [https://github.com/arqmain]\n",
    "    <hr>"
   ]
  }
 ],
 "metadata": {
  "kernelspec": {
   "display_name": "Python 3",
   "language": "python",
   "name": "python3"
  },
  "language_info": {
   "codemirror_mode": {
    "name": "ipython",
    "version": 3
   },
   "file_extension": ".py",
   "mimetype": "text/x-python",
   "name": "python",
   "nbconvert_exporter": "python",
   "pygments_lexer": "ipython3",
   "version": "3.6.4"
  }
 },
 "nbformat": 4,
 "nbformat_minor": 2
}
